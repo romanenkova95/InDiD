{
 "cells": [
  {
   "cell_type": "code",
   "execution_count": 1,
   "metadata": {},
   "outputs": [],
   "source": [
    "import numpy as np\n",
    "import scipy\n",
    "import matplotlib.pyplot as plt\n",
    "%matplotlib inline\n",
    "\n",
    "from scipy.stats import norm\n",
    "from sklearn.model_selection import train_test_split\n",
    "from tqdm.notebook import tqdm\n",
    "from sklearn.metrics import average_precision_score\n",
    "\n",
    "import torch\n",
    "import torch.nn as nn\n",
    "import torch.nn.functional as F\n",
    "import torch.optim as optim\n",
    "from torch.utils.data import TensorDataset, DataLoader"
   ]
  },
  {
   "cell_type": "code",
   "execution_count": 2,
   "metadata": {},
   "outputs": [],
   "source": [
    "torch.manual_seed(0)\n",
    "np.random.seed(0)"
   ]
  },
  {
   "cell_type": "code",
   "execution_count": 3,
   "metadata": {},
   "outputs": [],
   "source": [
    "a = 32\n",
    "b = 96\n",
    "seg_len = 128\n",
    "num = 500"
   ]
  },
  {
   "cell_type": "code",
   "execution_count": 4,
   "metadata": {},
   "outputs": [],
   "source": [
    "idxs = torch.randint(a, b, (num, ))"
   ]
  },
  {
   "cell_type": "code",
   "execution_count": 5,
   "metadata": {},
   "outputs": [],
   "source": [
    "all_data = []\n",
    "all_labels = []\n",
    "\n",
    "for idx in idxs:\n",
    "    mu = torch.randint(3, 100, (1, ))\n",
    "    x1 = torch.normal(1, 2., size=(seg_len,))\n",
    "    x2 = torch.normal(float(mu[0]), 2., size=(seg_len,))\n",
    "    x = torch.cat([x1[:idx], x2[idx:]])\n",
    "    \n",
    "    label = torch.cat([torch.zeros(idx), torch.ones(seg_len-idx)])\n",
    "    \n",
    "    all_data.append(x)\n",
    "    all_labels.append(label)\n",
    "    \n",
    "    all_data.append(x1[:seg_len])    \n",
    "    all_labels.append(torch.zeros(seg_len))"
   ]
  },
  {
   "cell_type": "code",
   "execution_count": 6,
   "metadata": {},
   "outputs": [
    {
     "data": {
      "text/plain": [
       "[<matplotlib.lines.Line2D at 0x7f9a56106050>]"
      ]
     },
     "execution_count": 6,
     "metadata": {},
     "output_type": "execute_result"
    },
    {
     "data": {
      "image/png": "[encoded data removed]",
      "text/plain": [
       "<Figure size 432x288 with 1 Axes>"
      ]
     },
     "metadata": {
      "needs_background": "light"
     },
     "output_type": "display_data"
    }
   ],
   "source": [
    "plt.plot(all_data[4])"
   ]
  },
  {
   "cell_type": "code",
   "execution_count": 7,
   "metadata": {},
   "outputs": [],
   "source": [
    "all_data = np.vstack(all_data)\n",
    "all_labels = np.vstack(all_labels)"
   ]
  },
  {
   "cell_type": "code",
   "execution_count": 8,
   "metadata": {},
   "outputs": [
    {
     "data": {
      "text/plain": [
       "(1000, 128)"
      ]
     },
     "execution_count": 8,
     "metadata": {},
     "output_type": "execute_result"
    }
   ],
   "source": [
    "all_data.shape"
   ]
  },
  {
   "cell_type": "code",
   "execution_count": 9,
   "metadata": {},
   "outputs": [
    {
     "data": {
      "text/plain": [
       "128"
      ]
     },
     "execution_count": 9,
     "metadata": {},
     "output_type": "execute_result"
    }
   ],
   "source": [
    "seg_len"
   ]
  },
  {
   "cell_type": "code",
   "execution_count": 10,
   "metadata": {},
   "outputs": [],
   "source": [
    "all_data = all_data.reshape(2*num, seg_len, 1)"
   ]
  },
  {
   "cell_type": "code",
   "execution_count": 11,
   "metadata": {},
   "outputs": [],
   "source": [
    "import os\n",
    "SEQ_LEN = seg_len\n",
    "IM_SIZE = 1"
   ]
  },
  {
   "cell_type": "code",
   "execution_count": 12,
   "metadata": {},
   "outputs": [],
   "source": [
    "train_data, test_data, train_labels, test_labels = train_test_split(all_data, all_labels, \n",
    "                                                                    test_size=0.2, shuffle=True,\n",
    "                                                                    random_state=42)\n",
    "\n",
    "test_data, val_data, test_labels, val_labels = train_test_split(test_data, test_labels, \n",
    "                                                                test_size=0.5, shuffle=True,\n",
    "                                                                random_state=42)"
   ]
  },
  {
   "cell_type": "code",
   "execution_count": 13,
   "metadata": {},
   "outputs": [
    {
     "name": "stdout",
     "output_type": "stream",
     "text": [
      "(800, 128, 1)\n",
      "(100, 128, 1)\n",
      "(100, 128, 1)\n"
     ]
    }
   ],
   "source": [
    "print(train_data.shape)\n",
    "print(val_data.shape)\n",
    "print(test_data.shape)"
   ]
  },
  {
   "cell_type": "code",
   "execution_count": 14,
   "metadata": {},
   "outputs": [
    {
     "name": "stdout",
     "output_type": "stream",
     "text": [
      "Thu May 27 09:00:53 2021       \n",
      "+-----------------------------------------------------------------------------+\n",
      "| NVIDIA-SMI 440.64       Driver Version: 440.64       CUDA Version: 10.2     |\n",
      "|-------------------------------+----------------------+----------------------+\n",
      "| GPU  Name        Persistence-M| Bus-Id        Disp.A | Volatile Uncorr. ECC |\n",
      "| Fan  Temp  Perf  Pwr:Usage/Cap|         Memory-Usage | GPU-Util  Compute M. |\n",
      "|===============================+======================+======================|\n",
      "|   0  TITAN RTX           Off  | 00000000:03:00.0 Off |                  N/A |\n",
      "| 75%   86C    P2   142W / 280W |  12901MiB / 24219MiB |     17%      Default |\n",
      "+-------------------------------+----------------------+----------------------+\n",
      "|   1  TITAN RTX           Off  | 00000000:04:00.0 Off |                  N/A |\n",
      "| 53%   75C    P2   141W / 280W |  18702MiB / 24220MiB |     49%      Default |\n",
      "+-------------------------------+----------------------+----------------------+\n",
      "|   2  TITAN RTX           Off  | 00000000:82:00.0 Off |                  N/A |\n",
      "| 41%   59C    P2    67W / 280W |  21696MiB / 24220MiB |      5%      Default |\n",
      "+-------------------------------+----------------------+----------------------+\n",
      "|   3  TITAN RTX           Off  | 00000000:83:00.0 Off |                  N/A |\n",
      "| 54%   72C    P2   171W / 280W |  19324MiB / 24220MiB |     90%      Default |\n",
      "+-------------------------------+----------------------+----------------------+\n",
      "                                                                               \n",
      "+-----------------------------------------------------------------------------+\n",
      "| Processes:                                                       GPU Memory |\n",
      "|  GPU       PID   Type   Process name                             Usage      |\n",
      "|=============================================================================|\n",
      "+-----------------------------------------------------------------------------+\n"
     ]
    }
   ],
   "source": [
    "!nvidia-smi"
   ]
  },
  {
   "cell_type": "code",
   "execution_count": 15,
   "metadata": {},
   "outputs": [],
   "source": [
    "import os\n",
    "os.environ[\"CUDA_VISIBLE_DEVICES\"] = \"0\"\n",
    "device = torch.device('cuda:0')"
   ]
  },
  {
   "cell_type": "code",
   "execution_count": 16,
   "metadata": {},
   "outputs": [],
   "source": [
    "def loss_delay_detection_2(p_slice):\n",
    "    n = p_slice.size(0)\n",
    "    prod = torch.ones(n).to(device)\n",
    "    p_slice = p_slice.to(device)\n",
    "    prod[1:] -= p_slice[:-1]\n",
    "    cumprod = torch.cumprod(prod, dim=0).to(device)\n",
    "    loss = torch.arange(1, n + 1).to(device) * p_slice * cumprod\n",
    "    loss = torch.sum(loss)\n",
    "    return loss\n",
    "\n",
    "\n",
    "def loss_delay_detection(p_slice, w):\n",
    "    n = p_slice.size(0) \n",
    "    prod = torch.ones(n).to(device)\n",
    "    p_slice = p_slice.to(device)\n",
    "    \n",
    "    prod[1:] -= p_slice[:-1].to(device)\n",
    "    cumprod = torch.cumprod(prod, dim=0).to(device)\n",
    "    # TODO drop either n or w\n",
    "    loss = (torch.arange(1, n + 1).to(device) * p_slice * cumprod \n",
    "            + (w + 1) * torch.prod(prod[1:]) * (1 - p_slice[-1]))\n",
    "    loss = torch.sum(loss)\n",
    "    return loss\n",
    "\n",
    "def loss_false_alarms(p_slice):\n",
    "    length = len(p_slice)\n",
    "    loss = 0\n",
    "    \n",
    "    start_ind = 0\n",
    "    end_ind = 0\n",
    "    \n",
    "    while end_ind < length:\n",
    "        start_ind = end_ind - 1\n",
    "        if start_ind < 0:\n",
    "            start_ind = 0\n",
    "        end_ind = np.random.randint(start_ind, length + 2)\n",
    "        if end_ind == start_ind:\n",
    "            end_ind = end_ind + 1\n",
    "        loss += 1 - loss_delay_detection_2(p_slice[start_ind: end_ind + 1])    \n",
    "    #loss += 1 - loss_delay_detection_2(p_slice[start_ind: length])            \n",
    "    loss = torch.sum(loss)\n",
    "    return loss"
   ]
  },
  {
   "cell_type": "code",
   "execution_count": 17,
   "metadata": {},
   "outputs": [],
   "source": [
    "class CustomLoss(nn.Module):\n",
    "    \n",
    "    def __init__(self):\n",
    "        super(CustomLoss, self).__init__()\n",
    "        \n",
    "    def forward(self, outputs, labels):\n",
    "        loss = torch.zeros(labels.size(0))\n",
    "        for i, label in enumerate(labels):\n",
    "            ind = torch.where(label != label[0])[0]\n",
    "            if ind.size()[0] == 0:\n",
    "                loss[i] = loss_false_alarms(outputs[i, :])\n",
    "            else:\n",
    "                w = 16\n",
    "                alpha = 0.5\n",
    "                loss[i] = (alpha * loss_delay_detection(outputs[i, ind[0]:(ind[0] + w)], w) + \n",
    "                           (1 - alpha) * loss_false_alarms(outputs[i, :ind[0]]))\n",
    "        loss = torch.mean(loss)\n",
    "        return loss"
   ]
  },
  {
   "cell_type": "code",
   "execution_count": 18,
   "metadata": {},
   "outputs": [],
   "source": [
    "# input data parameters\n",
    "input_size = 1\n",
    "output_size = SEQ_LEN\n",
    "seq_len = SEQ_LEN\n",
    "\n",
    "# model hyperparameters\n",
    "hidden_dim = 8\n",
    "n_layers = 1\n",
    "num_workers = 1\n",
    "learning_rate = 1e-3\n",
    "drop_prob = 0.1\n",
    "\n",
    "batch_size = 16"
   ]
  },
  {
   "cell_type": "code",
   "execution_count": 19,
   "metadata": {},
   "outputs": [],
   "source": [
    "def prepare_loader(data, labels, seq_len, input_size, batch_size, shuffle=True, num_workers=1):\n",
    "    data = torch.FloatTensor(data)\n",
    "    labels = torch.FloatTensor(labels)\n",
    "    data = data.view(-1, seq_len, input_size)\n",
    "    labels = labels.view(-1, seq_len)\n",
    "\n",
    "    all_data = TensorDataset(data, labels) \n",
    "    data_loader = DataLoader(all_data, batch_size=batch_size, shuffle=shuffle, num_workers=num_workers)\n",
    "    \n",
    "    return data_loader"
   ]
  },
  {
   "cell_type": "code",
   "execution_count": 20,
   "metadata": {},
   "outputs": [],
   "source": [
    "train_loader = prepare_loader(train_data, train_labels, seq_len, input_size, batch_size)\n",
    "val_loader = prepare_loader(val_data, val_labels, seq_len, input_size, batch_size)\n",
    "test_loader = prepare_loader(test_data, test_labels, seq_len, input_size, batch_size)"
   ]
  },
  {
   "cell_type": "code",
   "execution_count": 21,
   "metadata": {},
   "outputs": [],
   "source": [
    "def train_model(model, loss_function, epochs=100, print_every=30, LSTM_flag=False, RNN_flag=False):\n",
    "    optimizer = torch.optim.Adam(model.parameters(), lr=learning_rate)\n",
    "    valid_loss_min = np.Inf\n",
    "\n",
    "    loss_list = []\n",
    "    acc_list = []\n",
    "    overall_val_loss_list = []\n",
    "    counter = 0\n",
    "    model.train()\n",
    "\n",
    "    out_list = []\n",
    "    labels_list = []\n",
    "\n",
    "    model.train()\n",
    "    for i in range(epochs):\n",
    "        # for inputs, labels in tqdm(train_loader):\n",
    "        for inputs, labels in train_loader:\n",
    "            if inputs.shape[0] < batch_size:\n",
    "                break\n",
    "\n",
    "            counter += 1\n",
    "            inputs, labels = inputs.to(device), labels.to(device)  \n",
    "\n",
    "            if LSTM_flag:\n",
    "                h = model.init_hidden(batch_size)\n",
    "                h = tuple([e.data for e in h])\n",
    "                output, h = model(inputs, h)\n",
    "            elif RNN_flag:\n",
    "                #h = model.init_hidden(batch_size)\n",
    "                #h = torch.stack([e.data for e in h])\n",
    "                h = torch.zeros(n_layers, batch_size, hidden_dim).to(device)\n",
    "                output, h = model(inputs, h)                \n",
    "            else:\n",
    "                output = model(inputs)\n",
    "\n",
    "            loss = loss_function(output.squeeze(), labels.float())\n",
    "            loss_list += [loss.cpu().clone().detach()]\n",
    "            accuracy = (output > 0.5).long() == labels\n",
    "            acc_list += [accuracy.cpu().detach().float().mean()]\n",
    "            out_list.append(output.cpu().detach().float())\n",
    "            labels_list.append(labels.cpu().detach().float())\n",
    "\n",
    "            loss.backward()\n",
    "            optimizer.step()\n",
    "            optimizer.zero_grad()\n",
    "\n",
    "            if counter%print_every == 0:\n",
    "                val_losses = []\n",
    "                val_outputs = []\n",
    "                model.eval()\n",
    "                for val_inputs, val_labels in val_loader:\n",
    "                    if val_inputs.shape[0] < batch_size:\n",
    "                        break\n",
    "                    val_inputs, val_labels = val_inputs.to(device), val_labels.to(device)\n",
    "\n",
    "                    if LSTM_flag:\n",
    "                        val_h = model.init_hidden(batch_size)\n",
    "                        val_h = tuple([each.data for each in val_h])\n",
    "                        val_out, val_h = model(val_inputs, val_h)\n",
    "                    elif RNN_flag:\n",
    "                        #val_h = model.init_hidden(batch_size)\n",
    "                        #val_h = torch.stack([each.data for each in val_h])\n",
    "                        val_h = torch.zeros(n_layers, batch_size, hidden_dim).to(device)\n",
    "                        val_out, val_h = model(val_inputs, val_h)\n",
    "                    else:\n",
    "                        val_out = model(val_inputs)\n",
    "                        \n",
    "                    val_loss = loss_function(val_out.squeeze(), val_labels.float())\n",
    "                    val_losses.append(val_loss.item())\n",
    "                    val_outputs += [val_out.cpu().clone().detach()]\n",
    "\n",
    "                val_outputs_one = torch.cat(val_outputs, 0)\n",
    "\n",
    "                overall_val_loss_list.append(np.mean(val_losses))\n",
    "\n",
    "                model.train()\n",
    "                print(\"Epoch: {}/{}...\".format(i+1, epochs),\n",
    "                      \"Step: {}...\".format(counter),\n",
    "                      \"Loss: {:.6f}...\".format(loss.item()),\n",
    "                      \"Val Loss: {:.6f}\".format(np.mean(val_losses)))\n",
    "    return model, (loss_list, acc_list, overall_val_loss_list)"
   ]
  },
  {
   "cell_type": "code",
   "execution_count": 22,
   "metadata": {},
   "outputs": [],
   "source": [
    "!rm -rf experiments3\n",
    "!mkdir experiments3"
   ]
  },
  {
   "cell_type": "markdown",
   "metadata": {},
   "source": [
    "### LSTM Model"
   ]
  },
  {
   "cell_type": "code",
   "execution_count": 23,
   "metadata": {},
   "outputs": [],
   "source": [
    "class LSTM(nn.Module):\n",
    "    def __init__(self, input_size, output_size, hidden_dim, n_layers, drop_prob=0.5):\n",
    "        \n",
    "        super(LSTM, self).__init__()\n",
    "        self.input_size = input_size\n",
    "        self.output_size = output_size\n",
    "        self.n_layers = n_layers\n",
    "        self.hidden_dim = hidden_dim        \n",
    "        # if batch_first, than shape of lstm_in: [batch_size, seq_len, input_size]\n",
    "        self.lstm = nn.LSTM(input_size, hidden_dim, n_layers, dropout=drop_prob, batch_first=True)\n",
    "        #self.dropout = nn.Dropout(drop_prob)\n",
    "        self.linear_1 = nn.Linear(hidden_dim, 1)\n",
    "        #self.linear_2 = nn.Linear(hidden_dim//2, 1)\n",
    "        self.activation = nn.Sigmoid()\n",
    "        #self.relu = nn.ReLU()\n",
    "        \n",
    "    def forward(self, input_seq, hidden):\n",
    "        batch_size = input_seq.size(0)\n",
    "        lstm_out, hidden = self.lstm(input_seq, hidden)  \n",
    "        lstm_out = lstm_out.contiguous().view(-1, self.hidden_dim)      \n",
    "        out = self.linear_1(lstm_out)\n",
    "        #out = self.dropout(out)\n",
    "        #out = self.relu(out)\n",
    "        #out = self.linear_2(out)\n",
    "        out = self.activation(out)\n",
    "        out = out.view(batch_size, -1)\n",
    "\n",
    "        return out, hidden\n",
    "\n",
    "    def init_hidden(self, batch_size):\n",
    "        weight = next(self.parameters()).data\n",
    "        \n",
    "        hidden = (weight.new(self.n_layers, batch_size, self.hidden_dim).zero_().to(device),\n",
    "                  weight.new(self.n_layers, batch_size, self.hidden_dim).zero_().to(device))\n",
    "        return hidden"
   ]
  },
  {
   "cell_type": "code",
   "execution_count": 24,
   "metadata": {},
   "outputs": [
    {
     "name": "stderr",
     "output_type": "stream",
     "text": [
      "/usr/local/lib/python3.7/dist-packages/torch/nn/modules/rnn.py:63: UserWarning: dropout option adds dropout after all but last recurrent layer, so non-zero dropout expects num_layers greater than 1, but got dropout=0.1 and num_layers=1\n",
      "  \"num_layers={}\".format(dropout, num_layers))\n"
     ]
    },
    {
     "data": {
      "text/plain": [
       "LSTM(\n",
       "  (lstm): LSTM(1, 8, batch_first=True, dropout=0.1)\n",
       "  (linear_1): Linear(in_features=8, out_features=1, bias=True)\n",
       "  (activation): Sigmoid()\n",
       ")"
      ]
     },
     "execution_count": 24,
     "metadata": {},
     "output_type": "execute_result"
    }
   ],
   "source": [
    "model_LSTM_custom = LSTM(input_size=input_size, output_size=output_size, hidden_dim=hidden_dim, \n",
    "                         n_layers=n_layers, drop_prob=drop_prob)\n",
    "loss_function = CustomLoss()\n",
    "model_LSTM_custom.to(device)"
   ]
  },
  {
   "cell_type": "code",
   "execution_count": 25,
   "metadata": {
    "scrolled": true
   },
   "outputs": [
    {
     "name": "stdout",
     "output_type": "stream",
     "text": [
      "Epoch: 1/25... Step: 5... Loss: -2.483225... Val Loss: -2.620448\n",
      "Epoch: 1/25... Step: 10... Loss: -3.865482... Val Loss: -2.568928\n",
      "Epoch: 1/25... Step: 15... Loss: -2.777848... Val Loss: -2.570729\n",
      "Epoch: 1/25... Step: 20... Loss: -2.253354... Val Loss: -2.639569\n",
      "Epoch: 1/25... Step: 25... Loss: -3.698320... Val Loss: -2.868235\n",
      "Epoch: 1/25... Step: 30... Loss: -3.950262... Val Loss: -3.002497\n",
      "Epoch: 1/25... Step: 35... Loss: -2.544952... Val Loss: -2.928068\n",
      "Epoch: 1/25... Step: 40... Loss: -2.784629... Val Loss: -3.010496\n",
      "Epoch: 1/25... Step: 45... Loss: -2.630642... Val Loss: -3.261604\n",
      "Epoch: 1/25... Step: 50... Loss: -2.904791... Val Loss: -3.193084\n",
      "Epoch: 2/25... Step: 55... Loss: -2.523112... Val Loss: -3.208226\n",
      "Epoch: 2/25... Step: 60... Loss: -4.050785... Val Loss: -3.288530\n",
      "Epoch: 2/25... Step: 65... Loss: -2.289772... Val Loss: -3.419181\n",
      "Epoch: 2/25... Step: 70... Loss: -2.420859... Val Loss: -3.329477\n",
      "Epoch: 2/25... Step: 75... Loss: -4.211921... Val Loss: -3.316267\n",
      "Epoch: 2/25... Step: 80... Loss: -3.338535... Val Loss: -3.664063\n",
      "Epoch: 2/25... Step: 85... Loss: -4.215185... Val Loss: -3.823845\n",
      "Epoch: 2/25... Step: 90... Loss: -4.727995... Val Loss: -3.728954\n",
      "Epoch: 2/25... Step: 95... Loss: -3.487245... Val Loss: -4.003953\n",
      "Epoch: 2/25... Step: 100... Loss: -2.788712... Val Loss: -4.132711\n",
      "Epoch: 3/25... Step: 105... Loss: -4.117463... Val Loss: -4.020120\n",
      "Epoch: 3/25... Step: 110... Loss: -5.109226... Val Loss: -3.934082\n",
      "Epoch: 3/25... Step: 115... Loss: -4.520114... Val Loss: -4.447575\n",
      "Epoch: 3/25... Step: 120... Loss: -5.315345... Val Loss: -5.050143\n",
      "Epoch: 3/25... Step: 125... Loss: -5.221335... Val Loss: -4.513735\n",
      "Epoch: 3/25... Step: 130... Loss: -6.829795... Val Loss: -5.121457\n",
      "Epoch: 3/25... Step: 135... Loss: -6.007086... Val Loss: -5.344170\n",
      "Epoch: 3/25... Step: 140... Loss: -4.157130... Val Loss: -5.930174\n",
      "Epoch: 3/25... Step: 145... Loss: -5.326075... Val Loss: -6.021693\n",
      "Epoch: 3/25... Step: 150... Loss: -5.256720... Val Loss: -6.862331\n",
      "Epoch: 4/25... Step: 155... Loss: -6.300166... Val Loss: -6.815421\n",
      "Epoch: 4/25... Step: 160... Loss: -9.295280... Val Loss: -6.974403\n",
      "Epoch: 4/25... Step: 165... Loss: -7.989384... Val Loss: -7.399876\n",
      "Epoch: 4/25... Step: 170... Loss: -6.843573... Val Loss: -8.077014\n",
      "Epoch: 4/25... Step: 175... Loss: -9.275831... Val Loss: -9.610670\n",
      "Epoch: 4/25... Step: 180... Loss: -11.474713... Val Loss: -9.372680\n",
      "Epoch: 4/25... Step: 185... Loss: -3.848426... Val Loss: -10.314918\n",
      "Epoch: 4/25... Step: 190... Loss: -10.969055... Val Loss: -10.688475\n",
      "Epoch: 4/25... Step: 195... Loss: -11.239880... Val Loss: -10.779665\n",
      "Epoch: 4/25... Step: 200... Loss: -8.872190... Val Loss: -11.135364\n",
      "Epoch: 5/25... Step: 205... Loss: -9.021408... Val Loss: -10.989895\n",
      "Epoch: 5/25... Step: 210... Loss: -14.700527... Val Loss: -11.201190\n",
      "Epoch: 5/25... Step: 215... Loss: -13.755940... Val Loss: -12.550805\n",
      "Epoch: 5/25... Step: 220... Loss: -8.646874... Val Loss: -10.580670\n",
      "Epoch: 5/25... Step: 225... Loss: -7.585337... Val Loss: -11.956929\n",
      "Epoch: 5/25... Step: 230... Loss: -15.002721... Val Loss: -12.488226\n",
      "Epoch: 5/25... Step: 235... Loss: -15.530424... Val Loss: -12.350709\n",
      "Epoch: 5/25... Step: 240... Loss: -13.734735... Val Loss: -12.409426\n",
      "Epoch: 5/25... Step: 245... Loss: -14.311048... Val Loss: -12.332541\n",
      "Epoch: 5/25... Step: 250... Loss: -15.468260... Val Loss: -12.337008\n",
      "Epoch: 6/25... Step: 255... Loss: -12.959414... Val Loss: -12.017834\n",
      "Epoch: 6/25... Step: 260... Loss: -13.380383... Val Loss: -12.735544\n",
      "Epoch: 6/25... Step: 265... Loss: -18.781813... Val Loss: -12.797954\n",
      "Epoch: 6/25... Step: 270... Loss: -11.464865... Val Loss: -13.448347\n",
      "Epoch: 6/25... Step: 275... Loss: -7.437172... Val Loss: -12.634377\n",
      "Epoch: 6/25... Step: 280... Loss: -13.225173... Val Loss: -12.281866\n",
      "Epoch: 6/25... Step: 285... Loss: -10.695148... Val Loss: -13.412067\n",
      "Epoch: 6/25... Step: 290... Loss: -16.732103... Val Loss: -13.562301\n",
      "Epoch: 6/25... Step: 295... Loss: -20.666992... Val Loss: -13.909529\n",
      "Epoch: 6/25... Step: 300... Loss: -16.401184... Val Loss: -13.693707\n",
      "Epoch: 7/25... Step: 305... Loss: -14.666647... Val Loss: -13.469832\n",
      "Epoch: 7/25... Step: 310... Loss: -13.261766... Val Loss: -14.142263\n",
      "Epoch: 7/25... Step: 315... Loss: -16.395491... Val Loss: -14.555505\n",
      "Epoch: 7/25... Step: 320... Loss: -11.399323... Val Loss: -14.330427\n",
      "Epoch: 7/25... Step: 325... Loss: -20.286963... Val Loss: -15.054827\n",
      "Epoch: 7/25... Step: 330... Loss: -20.737097... Val Loss: -15.516555\n",
      "Epoch: 7/25... Step: 335... Loss: -15.711721... Val Loss: -15.949409\n",
      "Epoch: 7/25... Step: 340... Loss: -18.467062... Val Loss: -16.558831\n",
      "Epoch: 7/25... Step: 345... Loss: -14.780156... Val Loss: -15.902602\n",
      "Epoch: 7/25... Step: 350... Loss: -14.481337... Val Loss: -17.420583\n",
      "Epoch: 8/25... Step: 355... Loss: -14.771745... Val Loss: -17.321268\n",
      "Epoch: 8/25... Step: 360... Loss: -15.166363... Val Loss: -17.679078\n",
      "Epoch: 8/25... Step: 365... Loss: -17.311602... Val Loss: -17.218054\n",
      "Epoch: 8/25... Step: 370... Loss: -16.002501... Val Loss: -17.491664\n",
      "Epoch: 8/25... Step: 375... Loss: -22.849670... Val Loss: -17.249577\n",
      "Epoch: 8/25... Step: 380... Loss: -22.216770... Val Loss: -17.900405\n",
      "Epoch: 8/25... Step: 385... Loss: -16.918947... Val Loss: -18.076122\n",
      "Epoch: 8/25... Step: 390... Loss: -15.211714... Val Loss: -18.814321\n",
      "Epoch: 8/25... Step: 395... Loss: -23.711229... Val Loss: -19.050514\n",
      "Epoch: 8/25... Step: 400... Loss: -14.122300... Val Loss: -17.806052\n",
      "Epoch: 9/25... Step: 405... Loss: -15.220519... Val Loss: -18.461900\n",
      "Epoch: 9/25... Step: 410... Loss: -20.770218... Val Loss: -18.369699\n",
      "Epoch: 9/25... Step: 415... Loss: -22.250431... Val Loss: -18.000812\n",
      "Epoch: 9/25... Step: 420... Loss: -21.218700... Val Loss: -18.763214\n",
      "Epoch: 9/25... Step: 425... Loss: -16.205648... Val Loss: -18.453464\n",
      "Epoch: 9/25... Step: 430... Loss: -17.860828... Val Loss: -19.207064\n",
      "Epoch: 9/25... Step: 435... Loss: -13.622422... Val Loss: -15.721023\n",
      "Epoch: 9/25... Step: 440... Loss: -8.915969... Val Loss: -9.687856\n",
      "Epoch: 9/25... Step: 445... Loss: -12.493786... Val Loss: -10.359586\n",
      "Epoch: 9/25... Step: 450... Loss: -6.550313... Val Loss: -10.158058\n",
      "Epoch: 10/25... Step: 455... Loss: -6.769136... Val Loss: -10.923423\n",
      "Epoch: 10/25... Step: 460... Loss: -8.327974... Val Loss: -11.655079\n",
      "Epoch: 10/25... Step: 465... Loss: -15.739515... Val Loss: -14.854813\n",
      "Epoch: 10/25... Step: 470... Loss: -15.774115... Val Loss: -17.107593\n",
      "Epoch: 10/25... Step: 475... Loss: -20.018946... Val Loss: -17.828707\n",
      "Epoch: 10/25... Step: 480... Loss: -17.227013... Val Loss: -17.870286\n",
      "Epoch: 10/25... Step: 485... Loss: -17.009850... Val Loss: -18.559854\n",
      "Epoch: 10/25... Step: 490... Loss: -21.320717... Val Loss: -18.692767\n",
      "Epoch: 10/25... Step: 495... Loss: -19.034624... Val Loss: -18.870734\n",
      "Epoch: 10/25... Step: 500... Loss: -10.483558... Val Loss: -18.159483\n",
      "Epoch: 11/25... Step: 505... Loss: -21.676764... Val Loss: -19.187723\n",
      "Epoch: 11/25... Step: 510... Loss: -15.779918... Val Loss: -18.532733\n",
      "Epoch: 11/25... Step: 515... Loss: -16.339828... Val Loss: -18.032073\n",
      "Epoch: 11/25... Step: 520... Loss: -16.230595... Val Loss: -18.740153\n",
      "Epoch: 11/25... Step: 525... Loss: -19.646454... Val Loss: -19.677519\n",
      "Epoch: 11/25... Step: 530... Loss: -18.074310... Val Loss: -20.009404\n",
      "Epoch: 11/25... Step: 535... Loss: -24.870140... Val Loss: -19.393999\n",
      "Epoch: 11/25... Step: 540... Loss: -19.929783... Val Loss: -19.611082\n",
      "Epoch: 11/25... Step: 545... Loss: -18.348223... Val Loss: -19.883194\n",
      "Epoch: 11/25... Step: 550... Loss: -24.330650... Val Loss: -19.453152\n",
      "Epoch: 12/25... Step: 555... Loss: -27.103943... Val Loss: -19.795834\n",
      "Epoch: 12/25... Step: 560... Loss: -25.225866... Val Loss: -19.949786\n",
      "Epoch: 12/25... Step: 565... Loss: -16.732813... Val Loss: -20.461975\n",
      "Epoch: 12/25... Step: 570... Loss: -13.924347... Val Loss: -20.644058\n",
      "Epoch: 12/25... Step: 575... Loss: -23.475245... Val Loss: -20.606345\n",
      "Epoch: 12/25... Step: 580... Loss: -18.558428... Val Loss: -21.160313\n",
      "Epoch: 12/25... Step: 585... Loss: -25.612806... Val Loss: -19.479360\n",
      "Epoch: 12/25... Step: 590... Loss: -28.196840... Val Loss: -21.325201\n",
      "Epoch: 12/25... Step: 595... Loss: -18.891283... Val Loss: -21.584356\n",
      "Epoch: 12/25... Step: 600... Loss: -21.557362... Val Loss: -19.678829\n"
     ]
    },
    {
     "name": "stdout",
     "output_type": "stream",
     "text": [
      "Epoch: 13/25... Step: 605... Loss: -18.310638... Val Loss: -20.645818\n",
      "Epoch: 13/25... Step: 610... Loss: -26.277905... Val Loss: -21.433999\n",
      "Epoch: 13/25... Step: 615... Loss: -13.234780... Val Loss: -22.587178\n",
      "Epoch: 13/25... Step: 620... Loss: -22.852240... Val Loss: -18.951295\n",
      "Epoch: 13/25... Step: 625... Loss: -9.656912... Val Loss: -16.612128\n",
      "Epoch: 13/25... Step: 630... Loss: -16.924923... Val Loss: -20.762635\n",
      "Epoch: 13/25... Step: 635... Loss: -15.757392... Val Loss: -20.608768\n",
      "Epoch: 13/25... Step: 640... Loss: -17.511250... Val Loss: -20.067445\n",
      "Epoch: 13/25... Step: 645... Loss: -28.792618... Val Loss: -20.385156\n",
      "Epoch: 13/25... Step: 650... Loss: -21.424488... Val Loss: -19.521121\n",
      "Epoch: 14/25... Step: 655... Loss: -19.803230... Val Loss: -21.611216\n",
      "Epoch: 14/25... Step: 660... Loss: -25.870230... Val Loss: -21.523835\n",
      "Epoch: 14/25... Step: 665... Loss: -13.183055... Val Loss: -23.387633\n",
      "Epoch: 14/25... Step: 670... Loss: -28.602238... Val Loss: -22.265285\n",
      "Epoch: 14/25... Step: 675... Loss: -25.226822... Val Loss: -22.320753\n",
      "Epoch: 14/25... Step: 680... Loss: -24.645561... Val Loss: -20.765196\n",
      "Epoch: 14/25... Step: 685... Loss: -15.092494... Val Loss: -20.270926\n",
      "Epoch: 14/25... Step: 690... Loss: -19.292742... Val Loss: -21.614463\n",
      "Epoch: 14/25... Step: 695... Loss: -15.750269... Val Loss: -20.871118\n",
      "Epoch: 14/25... Step: 700... Loss: -21.766773... Val Loss: -22.533346\n",
      "Epoch: 15/25... Step: 705... Loss: -21.267876... Val Loss: -21.963919\n",
      "Epoch: 15/25... Step: 710... Loss: -18.728800... Val Loss: -21.122803\n",
      "Epoch: 15/25... Step: 715... Loss: -15.672582... Val Loss: -21.348559\n",
      "Epoch: 15/25... Step: 720... Loss: -26.288933... Val Loss: -23.791376\n",
      "Epoch: 15/25... Step: 725... Loss: -27.406527... Val Loss: -22.563658\n",
      "Epoch: 15/25... Step: 730... Loss: -14.975314... Val Loss: -21.518643\n",
      "Epoch: 15/25... Step: 735... Loss: -30.720514... Val Loss: -24.626529\n",
      "Epoch: 15/25... Step: 740... Loss: -14.202025... Val Loss: -22.209882\n",
      "Epoch: 15/25... Step: 745... Loss: -28.318378... Val Loss: -22.912389\n",
      "Epoch: 15/25... Step: 750... Loss: -22.769091... Val Loss: -18.810498\n",
      "Epoch: 16/25... Step: 755... Loss: -22.586260... Val Loss: -20.243780\n",
      "Epoch: 16/25... Step: 760... Loss: -30.679157... Val Loss: -23.215561\n",
      "Epoch: 16/25... Step: 765... Loss: -20.598959... Val Loss: -23.214633\n",
      "Epoch: 16/25... Step: 770... Loss: -25.226744... Val Loss: -23.411649\n",
      "Epoch: 16/25... Step: 775... Loss: -25.045471... Val Loss: -23.516163\n",
      "Epoch: 16/25... Step: 780... Loss: -18.119432... Val Loss: -21.743865\n",
      "Epoch: 16/25... Step: 785... Loss: -16.027348... Val Loss: -21.108675\n",
      "Epoch: 16/25... Step: 790... Loss: -25.349724... Val Loss: -22.581587\n",
      "Epoch: 16/25... Step: 795... Loss: -25.972578... Val Loss: -23.315548\n",
      "Epoch: 16/25... Step: 800... Loss: -22.931076... Val Loss: -23.439099\n",
      "Epoch: 17/25... Step: 805... Loss: -16.514418... Val Loss: -23.079850\n",
      "Epoch: 17/25... Step: 810... Loss: -19.359570... Val Loss: -24.161007\n",
      "Epoch: 17/25... Step: 815... Loss: -22.497858... Val Loss: -22.787003\n",
      "Epoch: 17/25... Step: 820... Loss: -18.558981... Val Loss: -23.223941\n",
      "Epoch: 17/25... Step: 825... Loss: -25.329754... Val Loss: -22.251423\n",
      "Epoch: 17/25... Step: 830... Loss: -32.572784... Val Loss: -23.275211\n",
      "Epoch: 17/25... Step: 835... Loss: -13.196943... Val Loss: -23.020014\n",
      "Epoch: 17/25... Step: 840... Loss: -32.631355... Val Loss: -23.984896\n",
      "Epoch: 17/25... Step: 845... Loss: -28.235477... Val Loss: -24.203039\n",
      "Epoch: 17/25... Step: 850... Loss: -23.942245... Val Loss: -23.393744\n",
      "Epoch: 18/25... Step: 855... Loss: -26.485653... Val Loss: -21.692893\n",
      "Epoch: 18/25... Step: 860... Loss: -23.056538... Val Loss: -22.389125\n",
      "Epoch: 18/25... Step: 865... Loss: -27.061520... Val Loss: -22.948928\n",
      "Epoch: 18/25... Step: 870... Loss: -22.921225... Val Loss: -22.688108\n",
      "Epoch: 18/25... Step: 875... Loss: -21.427536... Val Loss: -24.032666\n",
      "Epoch: 18/25... Step: 880... Loss: -22.045340... Val Loss: -21.967757\n",
      "Epoch: 18/25... Step: 885... Loss: -21.713137... Val Loss: -23.506020\n",
      "Epoch: 18/25... Step: 890... Loss: -32.782646... Val Loss: -24.788306\n",
      "Epoch: 18/25... Step: 895... Loss: -19.290714... Val Loss: -22.182126\n",
      "Epoch: 18/25... Step: 900... Loss: -24.205172... Val Loss: -24.989015\n",
      "Epoch: 19/25... Step: 905... Loss: -22.503210... Val Loss: -23.219463\n",
      "Epoch: 19/25... Step: 910... Loss: -26.039211... Val Loss: -23.315781\n",
      "Epoch: 19/25... Step: 915... Loss: -26.917112... Val Loss: -23.526525\n",
      "Epoch: 19/25... Step: 920... Loss: -22.310926... Val Loss: -24.289378\n",
      "Epoch: 19/25... Step: 925... Loss: -21.983385... Val Loss: -22.207213\n",
      "Epoch: 19/25... Step: 930... Loss: -26.650152... Val Loss: -24.919760\n",
      "Epoch: 19/25... Step: 935... Loss: -29.087595... Val Loss: -22.819656\n",
      "Epoch: 19/25... Step: 940... Loss: -20.430918... Val Loss: -24.469202\n",
      "Epoch: 19/25... Step: 945... Loss: -15.638601... Val Loss: -23.857082\n",
      "Epoch: 19/25... Step: 950... Loss: -27.936581... Val Loss: -26.563306\n",
      "Epoch: 20/25... Step: 955... Loss: -25.705421... Val Loss: -23.913989\n",
      "Epoch: 20/25... Step: 960... Loss: -29.321297... Val Loss: -24.933830\n",
      "Epoch: 20/25... Step: 965... Loss: -29.768269... Val Loss: -26.460972\n",
      "Epoch: 20/25... Step: 970... Loss: -30.758987... Val Loss: -23.261183\n",
      "Epoch: 20/25... Step: 975... Loss: -30.279493... Val Loss: -21.887396\n",
      "Epoch: 20/25... Step: 980... Loss: -22.939569... Val Loss: -26.198511\n",
      "Epoch: 20/25... Step: 985... Loss: -24.492832... Val Loss: -24.331362\n",
      "Epoch: 20/25... Step: 990... Loss: -22.048168... Val Loss: -24.341514\n",
      "Epoch: 20/25... Step: 995... Loss: -25.210651... Val Loss: -24.429361\n",
      "Epoch: 20/25... Step: 1000... Loss: -21.280098... Val Loss: -23.224970\n",
      "Epoch: 21/25... Step: 1005... Loss: -28.751728... Val Loss: -21.276532\n",
      "Epoch: 21/25... Step: 1010... Loss: -28.732533... Val Loss: -25.222370\n",
      "Epoch: 21/25... Step: 1015... Loss: -31.449467... Val Loss: -23.577943\n",
      "Epoch: 21/25... Step: 1020... Loss: -24.820312... Val Loss: -21.458658\n",
      "Epoch: 21/25... Step: 1025... Loss: -24.921568... Val Loss: -23.983959\n",
      "Epoch: 21/25... Step: 1030... Loss: -26.057526... Val Loss: -23.646317\n",
      "Epoch: 21/25... Step: 1035... Loss: -26.304646... Val Loss: -22.598660\n",
      "Epoch: 21/25... Step: 1040... Loss: -17.040840... Val Loss: -24.413816\n",
      "Epoch: 21/25... Step: 1045... Loss: -33.844265... Val Loss: -26.138583\n",
      "Epoch: 21/25... Step: 1050... Loss: -29.927540... Val Loss: -23.328225\n",
      "Epoch: 22/25... Step: 1055... Loss: -26.776896... Val Loss: -25.014908\n",
      "Epoch: 22/25... Step: 1060... Loss: -40.859421... Val Loss: -22.685946\n",
      "Epoch: 22/25... Step: 1065... Loss: -40.155399... Val Loss: -24.716932\n",
      "Epoch: 22/25... Step: 1070... Loss: -21.706514... Val Loss: -25.121842\n",
      "Epoch: 22/25... Step: 1075... Loss: -25.376230... Val Loss: -23.285965\n",
      "Epoch: 22/25... Step: 1080... Loss: -24.943104... Val Loss: -23.616677\n",
      "Epoch: 22/25... Step: 1085... Loss: -27.005524... Val Loss: -26.266924\n",
      "Epoch: 22/25... Step: 1090... Loss: -16.415215... Val Loss: -23.503775\n",
      "Epoch: 22/25... Step: 1095... Loss: -28.788113... Val Loss: -24.922418\n",
      "Epoch: 22/25... Step: 1100... Loss: -6.195703... Val Loss: -24.328693\n",
      "Epoch: 23/25... Step: 1105... Loss: -30.055517... Val Loss: -26.511570\n",
      "Epoch: 23/25... Step: 1110... Loss: -21.896002... Val Loss: -23.628719\n",
      "Epoch: 23/25... Step: 1115... Loss: -16.547462... Val Loss: -25.520978\n",
      "Epoch: 23/25... Step: 1120... Loss: -25.663755... Val Loss: -25.481297\n",
      "Epoch: 23/25... Step: 1125... Loss: -22.984432... Val Loss: -22.306657\n",
      "Epoch: 23/25... Step: 1130... Loss: -22.471405... Val Loss: -23.899414\n",
      "Epoch: 23/25... Step: 1135... Loss: -11.556493... Val Loss: -25.104607\n",
      "Epoch: 23/25... Step: 1140... Loss: -30.128098... Val Loss: -23.256279\n",
      "Epoch: 23/25... Step: 1145... Loss: -18.487373... Val Loss: -24.750586\n",
      "Epoch: 23/25... Step: 1150... Loss: -26.645027... Val Loss: -23.879178\n",
      "Epoch: 24/25... Step: 1155... Loss: -24.204597... Val Loss: -23.761580\n",
      "Epoch: 24/25... Step: 1160... Loss: -22.947559... Val Loss: -25.152805\n",
      "Epoch: 24/25... Step: 1165... Loss: -16.490740... Val Loss: -24.526310\n",
      "Epoch: 24/25... Step: 1170... Loss: -28.259293... Val Loss: -25.016351\n",
      "Epoch: 24/25... Step: 1175... Loss: -24.766121... Val Loss: -25.750887\n",
      "Epoch: 24/25... Step: 1180... Loss: -20.880199... Val Loss: -25.626485\n",
      "Epoch: 24/25... Step: 1185... Loss: -16.637110... Val Loss: -23.308651\n"
     ]
    },
    {
     "name": "stdout",
     "output_type": "stream",
     "text": [
      "Epoch: 24/25... Step: 1190... Loss: -15.667292... Val Loss: -24.148323\n",
      "Epoch: 24/25... Step: 1195... Loss: -18.289150... Val Loss: -25.812719\n",
      "Epoch: 24/25... Step: 1200... Loss: -30.448908... Val Loss: -24.761793\n",
      "Epoch: 25/25... Step: 1205... Loss: -17.026171... Val Loss: -24.602400\n",
      "Epoch: 25/25... Step: 1210... Loss: -32.894367... Val Loss: -26.512256\n",
      "Epoch: 25/25... Step: 1215... Loss: -29.302757... Val Loss: -24.151627\n",
      "Epoch: 25/25... Step: 1220... Loss: -26.002991... Val Loss: -25.610135\n",
      "Epoch: 25/25... Step: 1225... Loss: -33.095478... Val Loss: -24.655800\n",
      "Epoch: 25/25... Step: 1230... Loss: -25.474871... Val Loss: -25.779613\n",
      "Epoch: 25/25... Step: 1235... Loss: -23.181900... Val Loss: -25.784722\n",
      "Epoch: 25/25... Step: 1240... Loss: -31.495121... Val Loss: -26.816996\n",
      "Epoch: 25/25... Step: 1245... Loss: -36.446457... Val Loss: -23.326676\n",
      "Epoch: 25/25... Step: 1250... Loss: -23.814051... Val Loss: -22.624020\n"
     ]
    }
   ],
   "source": [
    "model_LSTM_custom, (loss_list, acc_list, \n",
    "                    overall_val_loss_list) = train_model(model_LSTM_custom, loss_function, 25, 5, LSTM_flag=True)\n",
    "\n",
    "model_LSTM_custom = model_LSTM_custom.eval() \n",
    "torch.save(model_LSTM_custom, \"experiments3/model_LSTM_custom.pth\")"
   ]
  },
  {
   "cell_type": "code",
   "execution_count": 26,
   "metadata": {},
   "outputs": [
    {
     "data": {
      "text/plain": [
       "[<matplotlib.lines.Line2D at 0x7f9b2453c190>]"
      ]
     },
     "execution_count": 26,
     "metadata": {},
     "output_type": "execute_result"
    },
    {
     "data": {
      "image/png": "[encoded data removed]",
      "text/plain": [
       "<Figure size 432x288 with 1 Axes>"
      ]
     },
     "metadata": {
      "needs_background": "light"
     },
     "output_type": "display_data"
    }
   ],
   "source": [
    "plt.plot(overall_val_loss_list)"
   ]
  },
  {
   "cell_type": "code",
   "execution_count": 27,
   "metadata": {},
   "outputs": [
    {
     "data": {
      "text/plain": [
       "LSTM(\n",
       "  (lstm): LSTM(1, 8, batch_first=True, dropout=0.1)\n",
       "  (linear_1): Linear(in_features=8, out_features=1, bias=True)\n",
       "  (activation): Sigmoid()\n",
       ")"
      ]
     },
     "execution_count": 27,
     "metadata": {},
     "output_type": "execute_result"
    }
   ],
   "source": [
    "model_LSTM_bce = LSTM(input_size=input_size, output_size=output_size, hidden_dim=hidden_dim,\n",
    "                      n_layers=n_layers, drop_prob=drop_prob)\n",
    "bce_loss_function = torch.nn.BCELoss()\n",
    "model_LSTM_bce.to(device)"
   ]
  },
  {
   "cell_type": "code",
   "execution_count": 28,
   "metadata": {
    "scrolled": true
   },
   "outputs": [
    {
     "name": "stdout",
     "output_type": "stream",
     "text": [
      "Epoch: 1/25... Step: 5... Loss: 0.670042... Val Loss: 0.670751\n",
      "Epoch: 1/25... Step: 10... Loss: 0.687206... Val Loss: 0.659190\n",
      "Epoch: 1/25... Step: 15... Loss: 0.657663... Val Loss: 0.650637\n",
      "Epoch: 1/25... Step: 20... Loss: 0.654394... Val Loss: 0.639281\n",
      "Epoch: 1/25... Step: 25... Loss: 0.626233... Val Loss: 0.626167\n",
      "Epoch: 1/25... Step: 30... Loss: 0.629391... Val Loss: 0.615912\n",
      "Epoch: 1/25... Step: 35... Loss: 0.601153... Val Loss: 0.604878\n",
      "Epoch: 1/25... Step: 40... Loss: 0.583746... Val Loss: 0.592340\n",
      "Epoch: 1/25... Step: 45... Loss: 0.581316... Val Loss: 0.582169\n",
      "Epoch: 1/25... Step: 50... Loss: 0.561228... Val Loss: 0.573260\n",
      "Epoch: 2/25... Step: 55... Loss: 0.566357... Val Loss: 0.561327\n",
      "Epoch: 2/25... Step: 60... Loss: 0.558079... Val Loss: 0.549348\n",
      "Epoch: 2/25... Step: 65... Loss: 0.534465... Val Loss: 0.535260\n",
      "Epoch: 2/25... Step: 70... Loss: 0.542316... Val Loss: 0.522816\n",
      "Epoch: 2/25... Step: 75... Loss: 0.502608... Val Loss: 0.507686\n",
      "Epoch: 2/25... Step: 80... Loss: 0.510001... Val Loss: 0.492147\n",
      "Epoch: 2/25... Step: 85... Loss: 0.494491... Val Loss: 0.472859\n",
      "Epoch: 2/25... Step: 90... Loss: 0.479781... Val Loss: 0.463895\n",
      "Epoch: 2/25... Step: 95... Loss: 0.454499... Val Loss: 0.450108\n",
      "Epoch: 2/25... Step: 100... Loss: 0.420519... Val Loss: 0.435802\n",
      "Epoch: 3/25... Step: 105... Loss: 0.437900... Val Loss: 0.422302\n",
      "Epoch: 3/25... Step: 110... Loss: 0.405123... Val Loss: 0.407989\n",
      "Epoch: 3/25... Step: 115... Loss: 0.383240... Val Loss: 0.394447\n",
      "Epoch: 3/25... Step: 120... Loss: 0.402272... Val Loss: 0.380662\n",
      "Epoch: 3/25... Step: 125... Loss: 0.374778... Val Loss: 0.366468\n",
      "Epoch: 3/25... Step: 130... Loss: 0.340995... Val Loss: 0.355286\n",
      "Epoch: 3/25... Step: 135... Loss: 0.344919... Val Loss: 0.340297\n",
      "Epoch: 3/25... Step: 140... Loss: 0.332580... Val Loss: 0.328932\n",
      "Epoch: 3/25... Step: 145... Loss: 0.391465... Val Loss: 0.314896\n",
      "Epoch: 3/25... Step: 150... Loss: 0.304414... Val Loss: 0.300477\n",
      "Epoch: 4/25... Step: 155... Loss: 0.285426... Val Loss: 0.288802\n",
      "Epoch: 4/25... Step: 160... Loss: 0.258509... Val Loss: 0.274394\n",
      "Epoch: 4/25... Step: 165... Loss: 0.256852... Val Loss: 0.262724\n",
      "Epoch: 4/25... Step: 170... Loss: 0.249376... Val Loss: 0.246435\n",
      "Epoch: 4/25... Step: 175... Loss: 0.283936... Val Loss: 0.241487\n",
      "Epoch: 4/25... Step: 180... Loss: 0.216036... Val Loss: 0.231088\n",
      "Epoch: 4/25... Step: 185... Loss: 0.238797... Val Loss: 0.217701\n",
      "Epoch: 4/25... Step: 190... Loss: 0.228507... Val Loss: 0.208855\n",
      "Epoch: 4/25... Step: 195... Loss: 0.218131... Val Loss: 0.202726\n",
      "Epoch: 4/25... Step: 200... Loss: 0.183755... Val Loss: 0.191858\n",
      "Epoch: 5/25... Step: 205... Loss: 0.169103... Val Loss: 0.179396\n",
      "Epoch: 5/25... Step: 210... Loss: 0.165429... Val Loss: 0.174979\n",
      "Epoch: 5/25... Step: 215... Loss: 0.159683... Val Loss: 0.168821\n",
      "Epoch: 5/25... Step: 220... Loss: 0.172795... Val Loss: 0.162402\n",
      "Epoch: 5/25... Step: 225... Loss: 0.148426... Val Loss: 0.159687\n",
      "Epoch: 5/25... Step: 230... Loss: 0.153132... Val Loss: 0.155616\n",
      "Epoch: 5/25... Step: 235... Loss: 0.127137... Val Loss: 0.152876\n",
      "Epoch: 5/25... Step: 240... Loss: 0.155561... Val Loss: 0.143947\n",
      "Epoch: 5/25... Step: 245... Loss: 0.187751... Val Loss: 0.148037\n",
      "Epoch: 5/25... Step: 250... Loss: 0.139589... Val Loss: 0.144310\n",
      "Epoch: 6/25... Step: 255... Loss: 0.185911... Val Loss: 0.139674\n",
      "Epoch: 6/25... Step: 260... Loss: 0.138531... Val Loss: 0.135910\n",
      "Epoch: 6/25... Step: 265... Loss: 0.226615... Val Loss: 0.135618\n",
      "Epoch: 6/25... Step: 270... Loss: 0.200254... Val Loss: 0.129258\n",
      "Epoch: 6/25... Step: 275... Loss: 0.123195... Val Loss: 0.128287\n",
      "Epoch: 6/25... Step: 280... Loss: 0.142441... Val Loss: 0.127416\n",
      "Epoch: 6/25... Step: 285... Loss: 0.114145... Val Loss: 0.124927\n",
      "Epoch: 6/25... Step: 290... Loss: 0.117738... Val Loss: 0.122747\n",
      "Epoch: 6/25... Step: 295... Loss: 0.126983... Val Loss: 0.121636\n",
      "Epoch: 6/25... Step: 300... Loss: 0.132664... Val Loss: 0.117844\n",
      "Epoch: 7/25... Step: 305... Loss: 0.182428... Val Loss: 0.120004\n",
      "Epoch: 7/25... Step: 310... Loss: 0.107180... Val Loss: 0.118005\n",
      "Epoch: 7/25... Step: 315... Loss: 0.233570... Val Loss: 0.113778\n",
      "Epoch: 7/25... Step: 320... Loss: 0.093382... Val Loss: 0.115153\n",
      "Epoch: 7/25... Step: 325... Loss: 0.120980... Val Loss: 0.111398\n",
      "Epoch: 7/25... Step: 330... Loss: 0.123423... Val Loss: 0.111228\n",
      "Epoch: 7/25... Step: 335... Loss: 0.089721... Val Loss: 0.106512\n",
      "Epoch: 7/25... Step: 340... Loss: 0.092360... Val Loss: 0.103616\n",
      "Epoch: 7/25... Step: 345... Loss: 0.125933... Val Loss: 0.105264\n",
      "Epoch: 7/25... Step: 350... Loss: 0.086930... Val Loss: 0.102159\n",
      "Epoch: 8/25... Step: 355... Loss: 0.101542... Val Loss: 0.103197\n",
      "Epoch: 8/25... Step: 360... Loss: 0.182292... Val Loss: 0.101992\n",
      "Epoch: 8/25... Step: 365... Loss: 0.102641... Val Loss: 0.101689\n",
      "Epoch: 8/25... Step: 370... Loss: 0.084893... Val Loss: 0.099326\n",
      "Epoch: 8/25... Step: 375... Loss: 0.098154... Val Loss: 0.099966\n",
      "Epoch: 8/25... Step: 380... Loss: 0.142032... Val Loss: 0.098911\n",
      "Epoch: 8/25... Step: 385... Loss: 0.076459... Val Loss: 0.095140\n",
      "Epoch: 8/25... Step: 390... Loss: 0.116213... Val Loss: 0.096128\n",
      "Epoch: 8/25... Step: 395... Loss: 0.124390... Val Loss: 0.092293\n",
      "Epoch: 8/25... Step: 400... Loss: 0.108694... Val Loss: 0.093977\n",
      "Epoch: 9/25... Step: 405... Loss: 0.093635... Val Loss: 0.092346\n",
      "Epoch: 9/25... Step: 410... Loss: 0.094801... Val Loss: 0.089606\n",
      "Epoch: 9/25... Step: 415... Loss: 0.106717... Val Loss: 0.087792\n",
      "Epoch: 9/25... Step: 420... Loss: 0.076602... Val Loss: 0.088409\n",
      "Epoch: 9/25... Step: 425... Loss: 0.077740... Val Loss: 0.086265\n",
      "Epoch: 9/25... Step: 430... Loss: 0.115392... Val Loss: 0.086427\n",
      "Epoch: 9/25... Step: 435... Loss: 0.072812... Val Loss: 0.083395\n",
      "Epoch: 9/25... Step: 440... Loss: 0.069330... Val Loss: 0.085387\n",
      "Epoch: 9/25... Step: 445... Loss: 0.056933... Val Loss: 0.083538\n",
      "Epoch: 9/25... Step: 450... Loss: 0.067990... Val Loss: 0.082103\n",
      "Epoch: 10/25... Step: 455... Loss: 0.048450... Val Loss: 0.081493\n",
      "Epoch: 10/25... Step: 460... Loss: 0.092813... Val Loss: 0.081988\n",
      "Epoch: 10/25... Step: 465... Loss: 0.071103... Val Loss: 0.076694\n",
      "Epoch: 10/25... Step: 470... Loss: 0.060411... Val Loss: 0.077040\n",
      "Epoch: 10/25... Step: 475... Loss: 0.115495... Val Loss: 0.076484\n",
      "Epoch: 10/25... Step: 480... Loss: 0.102481... Val Loss: 0.074931\n",
      "Epoch: 10/25... Step: 485... Loss: 0.078804... Val Loss: 0.070342\n",
      "Epoch: 10/25... Step: 490... Loss: 0.093141... Val Loss: 0.067109\n",
      "Epoch: 10/25... Step: 495... Loss: 0.064263... Val Loss: 0.062552\n",
      "Epoch: 10/25... Step: 500... Loss: 0.055151... Val Loss: 0.061093\n",
      "Epoch: 11/25... Step: 505... Loss: 0.067795... Val Loss: 0.058900\n",
      "Epoch: 11/25... Step: 510... Loss: 0.052061... Val Loss: 0.058224\n",
      "Epoch: 11/25... Step: 515... Loss: 0.054917... Val Loss: 0.056956\n",
      "Epoch: 11/25... Step: 520... Loss: 0.061332... Val Loss: 0.055926\n",
      "Epoch: 11/25... Step: 525... Loss: 0.051248... Val Loss: 0.054683\n",
      "Epoch: 11/25... Step: 530... Loss: 0.053714... Val Loss: 0.054568\n",
      "Epoch: 11/25... Step: 535... Loss: 0.065494... Val Loss: 0.055077\n",
      "Epoch: 11/25... Step: 540... Loss: 0.043213... Val Loss: 0.052942\n",
      "Epoch: 11/25... Step: 545... Loss: 0.174242... Val Loss: 0.050552\n",
      "Epoch: 11/25... Step: 550... Loss: 0.043170... Val Loss: 0.052537\n",
      "Epoch: 12/25... Step: 555... Loss: 0.053065... Val Loss: 0.053325\n",
      "Epoch: 12/25... Step: 560... Loss: 0.047797... Val Loss: 0.052153\n",
      "Epoch: 12/25... Step: 565... Loss: 0.045130... Val Loss: 0.051058\n",
      "Epoch: 12/25... Step: 570... Loss: 0.040877... Val Loss: 0.050196\n",
      "Epoch: 12/25... Step: 575... Loss: 0.047140... Val Loss: 0.048623\n",
      "Epoch: 12/25... Step: 580... Loss: 0.060012... Val Loss: 0.047979\n",
      "Epoch: 12/25... Step: 585... Loss: 0.047195... Val Loss: 0.048829\n",
      "Epoch: 12/25... Step: 590... Loss: 0.070257... Val Loss: 0.048150\n",
      "Epoch: 12/25... Step: 595... Loss: 0.042917... Val Loss: 0.047955\n",
      "Epoch: 12/25... Step: 600... Loss: 0.094434... Val Loss: 0.047215\n",
      "Epoch: 13/25... Step: 605... Loss: 0.043138... Val Loss: 0.046332\n",
      "Epoch: 13/25... Step: 610... Loss: 0.037884... Val Loss: 0.047168\n",
      "Epoch: 13/25... Step: 615... Loss: 0.045081... Val Loss: 0.047260\n",
      "Epoch: 13/25... Step: 620... Loss: 0.107061... Val Loss: 0.045621\n",
      "Epoch: 13/25... Step: 625... Loss: 0.086682... Val Loss: 0.044670\n",
      "Epoch: 13/25... Step: 630... Loss: 0.041243... Val Loss: 0.043827\n"
     ]
    },
    {
     "name": "stdout",
     "output_type": "stream",
     "text": [
      "Epoch: 13/25... Step: 635... Loss: 0.036589... Val Loss: 0.043901\n",
      "Epoch: 13/25... Step: 640... Loss: 0.038579... Val Loss: 0.043814\n",
      "Epoch: 13/25... Step: 645... Loss: 0.054932... Val Loss: 0.043250\n",
      "Epoch: 13/25... Step: 650... Loss: 0.048896... Val Loss: 0.043177\n",
      "Epoch: 14/25... Step: 655... Loss: 0.033080... Val Loss: 0.042085\n",
      "Epoch: 14/25... Step: 660... Loss: 0.043198... Val Loss: 0.041981\n",
      "Epoch: 14/25... Step: 665... Loss: 0.046535... Val Loss: 0.041984\n",
      "Epoch: 14/25... Step: 670... Loss: 0.035153... Val Loss: 0.040522\n",
      "Epoch: 14/25... Step: 675... Loss: 0.047799... Val Loss: 0.041324\n",
      "Epoch: 14/25... Step: 680... Loss: 0.032117... Val Loss: 0.040947\n",
      "Epoch: 14/25... Step: 685... Loss: 0.051847... Val Loss: 0.040056\n",
      "Epoch: 14/25... Step: 690... Loss: 0.038196... Val Loss: 0.039548\n",
      "Epoch: 14/25... Step: 695... Loss: 0.040991... Val Loss: 0.039230\n",
      "Epoch: 14/25... Step: 700... Loss: 0.027909... Val Loss: 0.038601\n",
      "Epoch: 15/25... Step: 705... Loss: 0.074398... Val Loss: 0.038297\n",
      "Epoch: 15/25... Step: 710... Loss: 0.045020... Val Loss: 0.038195\n",
      "Epoch: 15/25... Step: 715... Loss: 0.038104... Val Loss: 0.038509\n",
      "Epoch: 15/25... Step: 720... Loss: 0.037926... Val Loss: 0.037300\n",
      "Epoch: 15/25... Step: 725... Loss: 0.120702... Val Loss: 0.037087\n",
      "Epoch: 15/25... Step: 730... Loss: 0.031830... Val Loss: 0.037184\n",
      "Epoch: 15/25... Step: 735... Loss: 0.027562... Val Loss: 0.037019\n",
      "Epoch: 15/25... Step: 740... Loss: 0.029241... Val Loss: 0.036450\n",
      "Epoch: 15/25... Step: 745... Loss: 0.026173... Val Loss: 0.036105\n",
      "Epoch: 15/25... Step: 750... Loss: 0.030405... Val Loss: 0.035746\n",
      "Epoch: 16/25... Step: 755... Loss: 0.035359... Val Loss: 0.035616\n",
      "Epoch: 16/25... Step: 760... Loss: 0.037273... Val Loss: 0.034777\n",
      "Epoch: 16/25... Step: 765... Loss: 0.041482... Val Loss: 0.034505\n",
      "Epoch: 16/25... Step: 770... Loss: 0.042485... Val Loss: 0.034579\n",
      "Epoch: 16/25... Step: 775... Loss: 0.038357... Val Loss: 0.033800\n",
      "Epoch: 16/25... Step: 780... Loss: 0.027531... Val Loss: 0.033507\n",
      "Epoch: 16/25... Step: 785... Loss: 0.025348... Val Loss: 0.033400\n",
      "Epoch: 16/25... Step: 790... Loss: 0.034237... Val Loss: 0.032810\n",
      "Epoch: 16/25... Step: 795... Loss: 0.025434... Val Loss: 0.032549\n",
      "Epoch: 16/25... Step: 800... Loss: 0.030087... Val Loss: 0.032014\n",
      "Epoch: 17/25... Step: 805... Loss: 0.030759... Val Loss: 0.033108\n",
      "Epoch: 17/25... Step: 810... Loss: 0.037140... Val Loss: 0.032487\n",
      "Epoch: 17/25... Step: 815... Loss: 0.030632... Val Loss: 0.032142\n",
      "Epoch: 17/25... Step: 820... Loss: 0.033461... Val Loss: 0.031763\n",
      "Epoch: 17/25... Step: 825... Loss: 0.032567... Val Loss: 0.031948\n",
      "Epoch: 17/25... Step: 830... Loss: 0.027653... Val Loss: 0.031354\n",
      "Epoch: 17/25... Step: 835... Loss: 0.025870... Val Loss: 0.031336\n",
      "Epoch: 17/25... Step: 840... Loss: 0.038189... Val Loss: 0.030420\n",
      "Epoch: 17/25... Step: 845... Loss: 0.032848... Val Loss: 0.030780\n",
      "Epoch: 17/25... Step: 850... Loss: 0.028030... Val Loss: 0.030517\n",
      "Epoch: 18/25... Step: 855... Loss: 0.040732... Val Loss: 0.030236\n",
      "Epoch: 18/25... Step: 860... Loss: 0.036178... Val Loss: 0.029781\n",
      "Epoch: 18/25... Step: 865... Loss: 0.040652... Val Loss: 0.029409\n",
      "Epoch: 18/25... Step: 870... Loss: 0.034103... Val Loss: 0.028927\n",
      "Epoch: 18/25... Step: 875... Loss: 0.039930... Val Loss: 0.029389\n",
      "Epoch: 18/25... Step: 880... Loss: 0.018704... Val Loss: 0.029015\n",
      "Epoch: 18/25... Step: 885... Loss: 0.030367... Val Loss: 0.028989\n",
      "Epoch: 18/25... Step: 890... Loss: 0.021614... Val Loss: 0.027604\n",
      "Epoch: 18/25... Step: 895... Loss: 0.028611... Val Loss: 0.027820\n",
      "Epoch: 18/25... Step: 900... Loss: 0.023270... Val Loss: 0.027573\n",
      "Epoch: 19/25... Step: 905... Loss: 0.026260... Val Loss: 0.027938\n",
      "Epoch: 19/25... Step: 910... Loss: 0.022300... Val Loss: 0.028494\n",
      "Epoch: 19/25... Step: 915... Loss: 0.025600... Val Loss: 0.028999\n",
      "Epoch: 19/25... Step: 920... Loss: 0.027380... Val Loss: 0.028250\n",
      "Epoch: 19/25... Step: 925... Loss: 0.030577... Val Loss: 0.027990\n",
      "Epoch: 19/25... Step: 930... Loss: 0.036755... Val Loss: 0.027680\n",
      "Epoch: 19/25... Step: 935... Loss: 0.027258... Val Loss: 0.027447\n",
      "Epoch: 19/25... Step: 940... Loss: 0.024866... Val Loss: 0.026879\n",
      "Epoch: 19/25... Step: 945... Loss: 0.031129... Val Loss: 0.026681\n",
      "Epoch: 19/25... Step: 950... Loss: 0.020984... Val Loss: 0.026142\n",
      "Epoch: 20/25... Step: 955... Loss: 0.030252... Val Loss: 0.025979\n",
      "Epoch: 20/25... Step: 960... Loss: 0.032566... Val Loss: 0.025757\n",
      "Epoch: 20/25... Step: 965... Loss: 0.020113... Val Loss: 0.025095\n",
      "Epoch: 20/25... Step: 970... Loss: 0.034763... Val Loss: 0.025236\n",
      "Epoch: 20/25... Step: 975... Loss: 0.026209... Val Loss: 0.024953\n",
      "Epoch: 20/25... Step: 980... Loss: 0.025703... Val Loss: 0.024888\n",
      "Epoch: 20/25... Step: 985... Loss: 0.044776... Val Loss: 0.025018\n",
      "Epoch: 20/25... Step: 990... Loss: 0.024437... Val Loss: 0.024964\n",
      "Epoch: 20/25... Step: 995... Loss: 0.018615... Val Loss: 0.025130\n",
      "Epoch: 20/25... Step: 1000... Loss: 0.032209... Val Loss: 0.024516\n",
      "Epoch: 21/25... Step: 1005... Loss: 0.024521... Val Loss: 0.024260\n",
      "Epoch: 21/25... Step: 1010... Loss: 0.025093... Val Loss: 0.023762\n",
      "Epoch: 21/25... Step: 1015... Loss: 0.023124... Val Loss: 0.023831\n",
      "Epoch: 21/25... Step: 1020... Loss: 0.026612... Val Loss: 0.024243\n",
      "Epoch: 21/25... Step: 1025... Loss: 0.024591... Val Loss: 0.023447\n",
      "Epoch: 21/25... Step: 1030... Loss: 0.019357... Val Loss: 0.023927\n",
      "Epoch: 21/25... Step: 1035... Loss: 0.022556... Val Loss: 0.023557\n",
      "Epoch: 21/25... Step: 1040... Loss: 0.016077... Val Loss: 0.022839\n",
      "Epoch: 21/25... Step: 1045... Loss: 0.035654... Val Loss: 0.023050\n",
      "Epoch: 21/25... Step: 1050... Loss: 0.014308... Val Loss: 0.022568\n",
      "Epoch: 22/25... Step: 1055... Loss: 0.020028... Val Loss: 0.022602\n",
      "Epoch: 22/25... Step: 1060... Loss: 0.020783... Val Loss: 0.022602\n",
      "Epoch: 22/25... Step: 1065... Loss: 0.024075... Val Loss: 0.022390\n",
      "Epoch: 22/25... Step: 1070... Loss: 0.032454... Val Loss: 0.021675\n",
      "Epoch: 22/25... Step: 1075... Loss: 0.023321... Val Loss: 0.022228\n",
      "Epoch: 22/25... Step: 1080... Loss: 0.025896... Val Loss: 0.021772\n",
      "Epoch: 22/25... Step: 1085... Loss: 0.029633... Val Loss: 0.021913\n",
      "Epoch: 22/25... Step: 1090... Loss: 0.014383... Val Loss: 0.021842\n",
      "Epoch: 22/25... Step: 1095... Loss: 0.024809... Val Loss: 0.021413\n",
      "Epoch: 22/25... Step: 1100... Loss: 0.021410... Val Loss: 0.021540\n",
      "Epoch: 23/25... Step: 1105... Loss: 0.023551... Val Loss: 0.021265\n",
      "Epoch: 23/25... Step: 1110... Loss: 0.032781... Val Loss: 0.020867\n",
      "Epoch: 23/25... Step: 1115... Loss: 0.034117... Val Loss: 0.020909\n",
      "Epoch: 23/25... Step: 1120... Loss: 0.020250... Val Loss: 0.020469\n",
      "Epoch: 23/25... Step: 1125... Loss: 0.020632... Val Loss: 0.020823\n",
      "Epoch: 23/25... Step: 1130... Loss: 0.017836... Val Loss: 0.020030\n",
      "Epoch: 23/25... Step: 1135... Loss: 0.022656... Val Loss: 0.020412\n",
      "Epoch: 23/25... Step: 1140... Loss: 0.030157... Val Loss: 0.020424\n",
      "Epoch: 23/25... Step: 1145... Loss: 0.019809... Val Loss: 0.020468\n",
      "Epoch: 23/25... Step: 1150... Loss: 0.019755... Val Loss: 0.020430\n",
      "Epoch: 24/25... Step: 1155... Loss: 0.040660... Val Loss: 0.020246\n",
      "Epoch: 24/25... Step: 1160... Loss: 0.020102... Val Loss: 0.020163\n",
      "Epoch: 24/25... Step: 1165... Loss: 0.024720... Val Loss: 0.020242\n",
      "Epoch: 24/25... Step: 1170... Loss: 0.021623... Val Loss: 0.019344\n",
      "Epoch: 24/25... Step: 1175... Loss: 0.017496... Val Loss: 0.019899\n",
      "Epoch: 24/25... Step: 1180... Loss: 0.024898... Val Loss: 0.019838\n",
      "Epoch: 24/25... Step: 1185... Loss: 0.032142... Val Loss: 0.019326\n",
      "Epoch: 24/25... Step: 1190... Loss: 0.021655... Val Loss: 0.019525\n",
      "Epoch: 24/25... Step: 1195... Loss: 0.017252... Val Loss: 0.019275\n",
      "Epoch: 24/25... Step: 1200... Loss: 0.012495... Val Loss: 0.018540\n",
      "Epoch: 25/25... Step: 1205... Loss: 0.019103... Val Loss: 0.018692\n",
      "Epoch: 25/25... Step: 1210... Loss: 0.023586... Val Loss: 0.017867\n",
      "Epoch: 25/25... Step: 1215... Loss: 0.016080... Val Loss: 0.018469\n",
      "Epoch: 25/25... Step: 1220... Loss: 0.025197... Val Loss: 0.018436\n",
      "Epoch: 25/25... Step: 1225... Loss: 0.011949... Val Loss: 0.018216\n",
      "Epoch: 25/25... Step: 1230... Loss: 0.015451... Val Loss: 0.018137\n",
      "Epoch: 25/25... Step: 1235... Loss: 0.022241... Val Loss: 0.018053\n",
      "Epoch: 25/25... Step: 1240... Loss: 0.015367... Val Loss: 0.018083\n",
      "Epoch: 25/25... Step: 1245... Loss: 0.078098... Val Loss: 0.017445\n",
      "Epoch: 25/25... Step: 1250... Loss: 0.022189... Val Loss: 0.017605\n"
     ]
    }
   ],
   "source": [
    "model_LSTM_bce, (bce_loss_list, bce_acc_list, bce_overall_val_loss_list) = train_model(model_LSTM_bce, bce_loss_function, \n",
    "                                                                                       25, 5, LSTM_flag=True)\n",
    "model_LSTM_bce = model_LSTM_bce.eval()\n",
    "torch.save(model_LSTM_bce, \"experiments3/model_LSTM_bce.pth\")"
   ]
  },
  {
   "cell_type": "code",
   "execution_count": 29,
   "metadata": {},
   "outputs": [
    {
     "data": {
      "text/plain": [
       "[<matplotlib.lines.Line2D at 0x7f9b2446a390>]"
      ]
     },
     "execution_count": 29,
     "metadata": {},
     "output_type": "execute_result"
    },
    {
     "data": {
      "image/png": "[encoded data removed]",
      "text/plain": [
       "<Figure size 432x288 with 1 Axes>"
      ]
     },
     "metadata": {
      "needs_background": "light"
     },
     "output_type": "display_data"
    }
   ],
   "source": [
    "plt.plot(bce_overall_val_loss_list)"
   ]
  },
  {
   "cell_type": "code",
   "execution_count": 30,
   "metadata": {},
   "outputs": [
    {
     "name": "stderr",
     "output_type": "stream",
     "text": [
      "/usr/local/lib/python3.7/dist-packages/torch/nn/modules/rnn.py:63: UserWarning: dropout option adds dropout after all but last recurrent layer, so non-zero dropout expects num_layers greater than 1, but got dropout=0.5 and num_layers=1\n",
      "  \"num_layers={}\".format(dropout, num_layers))\n"
     ]
    },
    {
     "data": {
      "text/plain": [
       "LSTM(\n",
       "  (lstm): LSTM(1, 8, batch_first=True, dropout=0.5)\n",
       "  (linear_1): Linear(in_features=8, out_features=1, bias=True)\n",
       "  (activation): Sigmoid()\n",
       ")"
      ]
     },
     "execution_count": 30,
     "metadata": {},
     "output_type": "execute_result"
    }
   ],
   "source": [
    "model_LSTM_combined = LSTM(input_size=input_size, output_size=output_size, hidden_dim=hidden_dim, n_layers=n_layers)\n",
    "first_bce_loss_function = torch.nn.BCELoss()\n",
    "second_custom_loss_function = CustomLoss()\n",
    "model_LSTM_combined.to(device)"
   ]
  },
  {
   "cell_type": "code",
   "execution_count": 31,
   "metadata": {
    "scrolled": true
   },
   "outputs": [
    {
     "name": "stdout",
     "output_type": "stream",
     "text": [
      "Epoch: 1/15... Step: 5... Loss: 0.647710... Val Loss: 0.652737\n",
      "Epoch: 1/15... Step: 10... Loss: 0.680135... Val Loss: 0.637917\n",
      "Epoch: 1/15... Step: 15... Loss: 0.605427... Val Loss: 0.637683\n",
      "Epoch: 1/15... Step: 20... Loss: 0.602966... Val Loss: 0.626393\n",
      "Epoch: 1/15... Step: 25... Loss: 0.565772... Val Loss: 0.622026\n",
      "Epoch: 1/15... Step: 30... Loss: 0.621580... Val Loss: 0.611669\n",
      "Epoch: 1/15... Step: 35... Loss: 0.604447... Val Loss: 0.612008\n",
      "Epoch: 1/15... Step: 40... Loss: 0.573758... Val Loss: 0.607838\n",
      "Epoch: 1/15... Step: 45... Loss: 0.604851... Val Loss: 0.599789\n",
      "Epoch: 1/15... Step: 50... Loss: 0.579789... Val Loss: 0.596541\n",
      "Epoch: 2/15... Step: 55... Loss: 0.607054... Val Loss: 0.589033\n",
      "Epoch: 2/15... Step: 60... Loss: 0.601748... Val Loss: 0.583569\n",
      "Epoch: 2/15... Step: 65... Loss: 0.599111... Val Loss: 0.578251\n",
      "Epoch: 2/15... Step: 70... Loss: 0.564412... Val Loss: 0.566698\n",
      "Epoch: 2/15... Step: 75... Loss: 0.531116... Val Loss: 0.559798\n",
      "Epoch: 2/15... Step: 80... Loss: 0.509034... Val Loss: 0.552427\n",
      "Epoch: 2/15... Step: 85... Loss: 0.505277... Val Loss: 0.542033\n",
      "Epoch: 2/15... Step: 90... Loss: 0.582642... Val Loss: 0.535187\n",
      "Epoch: 2/15... Step: 95... Loss: 0.502703... Val Loss: 0.521169\n",
      "Epoch: 2/15... Step: 100... Loss: 0.531158... Val Loss: 0.509235\n",
      "Epoch: 3/15... Step: 105... Loss: 0.448403... Val Loss: 0.500562\n",
      "Epoch: 3/15... Step: 110... Loss: 0.493239... Val Loss: 0.480062\n",
      "Epoch: 3/15... Step: 115... Loss: 0.476362... Val Loss: 0.466368\n",
      "Epoch: 3/15... Step: 120... Loss: 0.444464... Val Loss: 0.450459\n",
      "Epoch: 3/15... Step: 125... Loss: 0.430123... Val Loss: 0.439265\n",
      "Epoch: 3/15... Step: 130... Loss: 0.469586... Val Loss: 0.430109\n",
      "Epoch: 3/15... Step: 135... Loss: 0.446482... Val Loss: 0.411346\n",
      "Epoch: 3/15... Step: 140... Loss: 0.377446... Val Loss: 0.407483\n",
      "Epoch: 3/15... Step: 145... Loss: 0.367614... Val Loss: 0.387054\n",
      "Epoch: 3/15... Step: 150... Loss: 0.420887... Val Loss: 0.378946\n",
      "Epoch: 4/15... Step: 155... Loss: 0.424314... Val Loss: 0.371135\n",
      "Epoch: 4/15... Step: 160... Loss: 0.331182... Val Loss: 0.354623\n",
      "Epoch: 4/15... Step: 165... Loss: 0.347792... Val Loss: 0.343936\n",
      "Epoch: 4/15... Step: 170... Loss: 0.293719... Val Loss: 0.338804\n",
      "Epoch: 4/15... Step: 175... Loss: 0.320038... Val Loss: 0.325189\n",
      "Epoch: 4/15... Step: 180... Loss: 0.298157... Val Loss: 0.313511\n",
      "Epoch: 4/15... Step: 185... Loss: 0.342271... Val Loss: 0.300593\n",
      "Epoch: 4/15... Step: 190... Loss: 0.319032... Val Loss: 0.290573\n",
      "Epoch: 4/15... Step: 195... Loss: 0.231908... Val Loss: 0.288110\n",
      "Epoch: 4/15... Step: 200... Loss: 0.254677... Val Loss: 0.270748\n",
      "Epoch: 5/15... Step: 205... Loss: 0.246217... Val Loss: 0.267613\n",
      "Epoch: 5/15... Step: 210... Loss: 0.247857... Val Loss: 0.257225\n",
      "Epoch: 5/15... Step: 215... Loss: 0.248573... Val Loss: 0.252614\n",
      "Epoch: 5/15... Step: 220... Loss: 0.201311... Val Loss: 0.245385\n",
      "Epoch: 5/15... Step: 225... Loss: 0.259110... Val Loss: 0.238912\n",
      "Epoch: 5/15... Step: 230... Loss: 0.285535... Val Loss: 0.229043\n",
      "Epoch: 5/15... Step: 235... Loss: 0.208470... Val Loss: 0.226123\n",
      "Epoch: 5/15... Step: 240... Loss: 0.215661... Val Loss: 0.214377\n",
      "Epoch: 5/15... Step: 245... Loss: 0.231165... Val Loss: 0.213714\n",
      "Epoch: 5/15... Step: 250... Loss: 0.269399... Val Loss: 0.204789\n",
      "Epoch: 6/15... Step: 255... Loss: 0.267260... Val Loss: 0.205349\n",
      "Epoch: 6/15... Step: 260... Loss: 0.168497... Val Loss: 0.201251\n",
      "Epoch: 6/15... Step: 265... Loss: 0.176201... Val Loss: 0.192649\n",
      "Epoch: 6/15... Step: 270... Loss: 0.172190... Val Loss: 0.173928\n",
      "Epoch: 6/15... Step: 275... Loss: 0.173158... Val Loss: 0.167108\n",
      "Epoch: 6/15... Step: 280... Loss: 0.179980... Val Loss: 0.159667\n",
      "Epoch: 6/15... Step: 285... Loss: 0.196423... Val Loss: 0.154041\n",
      "Epoch: 6/15... Step: 290... Loss: 0.137116... Val Loss: 0.145363\n",
      "Epoch: 6/15... Step: 295... Loss: 0.244608... Val Loss: 0.138951\n",
      "Epoch: 6/15... Step: 300... Loss: 0.144987... Val Loss: 0.135592\n",
      "Epoch: 7/15... Step: 305... Loss: 0.146780... Val Loss: 0.136556\n",
      "Epoch: 7/15... Step: 310... Loss: 0.133909... Val Loss: 0.132451\n",
      "Epoch: 7/15... Step: 315... Loss: 0.107868... Val Loss: 0.131896\n",
      "Epoch: 7/15... Step: 320... Loss: 0.153300... Val Loss: 0.126322\n",
      "Epoch: 7/15... Step: 325... Loss: 0.117255... Val Loss: 0.126285\n",
      "Epoch: 7/15... Step: 330... Loss: 0.106112... Val Loss: 0.123172\n",
      "Epoch: 7/15... Step: 335... Loss: 0.140970... Val Loss: 0.121612\n",
      "Epoch: 7/15... Step: 340... Loss: 0.107930... Val Loss: 0.118756\n",
      "Epoch: 7/15... Step: 345... Loss: 0.079112... Val Loss: 0.116818\n",
      "Epoch: 7/15... Step: 350... Loss: 0.107949... Val Loss: 0.113101\n",
      "Epoch: 8/15... Step: 355... Loss: 0.163796... Val Loss: 0.113240\n",
      "Epoch: 8/15... Step: 360... Loss: 0.128560... Val Loss: 0.112143\n",
      "Epoch: 8/15... Step: 365... Loss: 0.110395... Val Loss: 0.107633\n",
      "Epoch: 8/15... Step: 370... Loss: 0.109386... Val Loss: 0.108926\n",
      "Epoch: 8/15... Step: 375... Loss: 0.118283... Val Loss: 0.104914\n",
      "Epoch: 8/15... Step: 380... Loss: 0.116455... Val Loss: 0.103942\n",
      "Epoch: 8/15... Step: 385... Loss: 0.094904... Val Loss: 0.103327\n",
      "Epoch: 8/15... Step: 390... Loss: 0.072219... Val Loss: 0.100651\n",
      "Epoch: 8/15... Step: 395... Loss: 0.093376... Val Loss: 0.101074\n",
      "Epoch: 8/15... Step: 400... Loss: 0.090702... Val Loss: 0.098200\n",
      "Epoch: 9/15... Step: 405... Loss: 0.108474... Val Loss: 0.097293\n",
      "Epoch: 9/15... Step: 410... Loss: 0.095210... Val Loss: 0.096569\n",
      "Epoch: 9/15... Step: 415... Loss: 0.110478... Val Loss: 0.095026\n",
      "Epoch: 9/15... Step: 420... Loss: 0.098823... Val Loss: 0.094842\n",
      "Epoch: 9/15... Step: 425... Loss: 0.103584... Val Loss: 0.093278\n",
      "Epoch: 9/15... Step: 430... Loss: 0.083705... Val Loss: 0.089895\n",
      "Epoch: 9/15... Step: 435... Loss: 0.128225... Val Loss: 0.091015\n",
      "Epoch: 9/15... Step: 440... Loss: 0.076346... Val Loss: 0.089532\n",
      "Epoch: 9/15... Step: 445... Loss: 0.073495... Val Loss: 0.085097\n",
      "Epoch: 9/15... Step: 450... Loss: 0.099406... Val Loss: 0.085755\n",
      "Epoch: 10/15... Step: 455... Loss: 0.086292... Val Loss: 0.085937\n",
      "Epoch: 10/15... Step: 460... Loss: 0.105561... Val Loss: 0.083139\n",
      "Epoch: 10/15... Step: 465... Loss: 0.074859... Val Loss: 0.080512\n",
      "Epoch: 10/15... Step: 470... Loss: 0.088084... Val Loss: 0.082482\n",
      "Epoch: 10/15... Step: 475... Loss: 0.083608... Val Loss: 0.079975\n",
      "Epoch: 10/15... Step: 480... Loss: 0.061158... Val Loss: 0.079493\n",
      "Epoch: 10/15... Step: 485... Loss: 0.070783... Val Loss: 0.078933\n",
      "Epoch: 10/15... Step: 490... Loss: 0.093432... Val Loss: 0.077354\n",
      "Epoch: 10/15... Step: 495... Loss: 0.128157... Val Loss: 0.074934\n",
      "Epoch: 10/15... Step: 500... Loss: 0.064439... Val Loss: 0.077189\n",
      "Epoch: 11/15... Step: 505... Loss: 0.072889... Val Loss: 0.076467\n",
      "Epoch: 11/15... Step: 510... Loss: 0.060495... Val Loss: 0.074644\n",
      "Epoch: 11/15... Step: 515... Loss: 0.071718... Val Loss: 0.072772\n",
      "Epoch: 11/15... Step: 520... Loss: 0.067989... Val Loss: 0.071649\n",
      "Epoch: 11/15... Step: 525... Loss: 0.073423... Val Loss: 0.071727\n",
      "Epoch: 11/15... Step: 530... Loss: 0.070534... Val Loss: 0.071616\n",
      "Epoch: 11/15... Step: 535... Loss: 0.079166... Val Loss: 0.071135\n",
      "Epoch: 11/15... Step: 540... Loss: 0.048420... Val Loss: 0.069914\n",
      "Epoch: 11/15... Step: 545... Loss: 0.073739... Val Loss: 0.069184\n",
      "Epoch: 11/15... Step: 550... Loss: 0.085674... Val Loss: 0.067095\n",
      "Epoch: 12/15... Step: 555... Loss: 0.072013... Val Loss: 0.067802\n",
      "Epoch: 12/15... Step: 560... Loss: 0.059076... Val Loss: 0.066948\n",
      "Epoch: 12/15... Step: 565... Loss: 0.077425... Val Loss: 0.065131\n",
      "Epoch: 12/15... Step: 570... Loss: 0.065711... Val Loss: 0.066765\n",
      "Epoch: 12/15... Step: 575... Loss: 0.058146... Val Loss: 0.065302\n",
      "Epoch: 12/15... Step: 580... Loss: 0.073306... Val Loss: 0.064448\n",
      "Epoch: 12/15... Step: 585... Loss: 0.064282... Val Loss: 0.063618\n",
      "Epoch: 12/15... Step: 590... Loss: 0.067204... Val Loss: 0.062981\n",
      "Epoch: 12/15... Step: 595... Loss: 0.043675... Val Loss: 0.061067\n",
      "Epoch: 12/15... Step: 600... Loss: 0.054335... Val Loss: 0.060244\n",
      "Epoch: 13/15... Step: 605... Loss: 0.060127... Val Loss: 0.060671\n",
      "Epoch: 13/15... Step: 610... Loss: 0.148074... Val Loss: 0.059358\n",
      "Epoch: 13/15... Step: 615... Loss: 0.080279... Val Loss: 0.059075\n",
      "Epoch: 13/15... Step: 620... Loss: 0.075535... Val Loss: 0.059774\n",
      "Epoch: 13/15... Step: 625... Loss: 0.061933... Val Loss: 0.058457\n",
      "Epoch: 13/15... Step: 630... Loss: 0.056436... Val Loss: 0.058134\n"
     ]
    },
    {
     "name": "stdout",
     "output_type": "stream",
     "text": [
      "Epoch: 13/15... Step: 635... Loss: 0.039522... Val Loss: 0.056830\n",
      "Epoch: 13/15... Step: 640... Loss: 0.055234... Val Loss: 0.055982\n",
      "Epoch: 13/15... Step: 645... Loss: 0.061097... Val Loss: 0.055616\n",
      "Epoch: 13/15... Step: 650... Loss: 0.063092... Val Loss: 0.055654\n",
      "Epoch: 14/15... Step: 655... Loss: 0.052742... Val Loss: 0.054139\n",
      "Epoch: 14/15... Step: 660... Loss: 0.047012... Val Loss: 0.051336\n",
      "Epoch: 14/15... Step: 665... Loss: 0.047554... Val Loss: 0.052493\n",
      "Epoch: 14/15... Step: 670... Loss: 0.156678... Val Loss: 0.052452\n",
      "Epoch: 14/15... Step: 675... Loss: 0.054316... Val Loss: 0.052981\n",
      "Epoch: 14/15... Step: 680... Loss: 0.052845... Val Loss: 0.053065\n",
      "Epoch: 14/15... Step: 685... Loss: 0.052741... Val Loss: 0.051335\n",
      "Epoch: 14/15... Step: 690... Loss: 0.040414... Val Loss: 0.050662\n",
      "Epoch: 14/15... Step: 695... Loss: 0.043715... Val Loss: 0.051493\n",
      "Epoch: 14/15... Step: 700... Loss: 0.045951... Val Loss: 0.050294\n",
      "Epoch: 15/15... Step: 705... Loss: 0.046232... Val Loss: 0.049944\n",
      "Epoch: 15/15... Step: 710... Loss: 0.053645... Val Loss: 0.049993\n",
      "Epoch: 15/15... Step: 715... Loss: 0.083709... Val Loss: 0.049592\n",
      "Epoch: 15/15... Step: 720... Loss: 0.045703... Val Loss: 0.048232\n",
      "Epoch: 15/15... Step: 725... Loss: 0.047972... Val Loss: 0.048564\n",
      "Epoch: 15/15... Step: 730... Loss: 0.056500... Val Loss: 0.048442\n",
      "Epoch: 15/15... Step: 735... Loss: 0.048294... Val Loss: 0.047620\n",
      "Epoch: 15/15... Step: 740... Loss: 0.037861... Val Loss: 0.047251\n",
      "Epoch: 15/15... Step: 745... Loss: 0.044077... Val Loss: 0.046454\n",
      "Epoch: 15/15... Step: 750... Loss: 0.040976... Val Loss: 0.046244\n",
      "Epoch: 1/10... Step: 5... Loss: -10.198240... Val Loss: -8.276830\n",
      "Epoch: 1/10... Step: 10... Loss: -12.361007... Val Loss: -9.304633\n",
      "Epoch: 1/10... Step: 15... Loss: -8.473453... Val Loss: -10.202292\n",
      "Epoch: 1/10... Step: 20... Loss: -11.092125... Val Loss: -9.980137\n",
      "Epoch: 1/10... Step: 25... Loss: -12.017866... Val Loss: -10.736445\n",
      "Epoch: 1/10... Step: 30... Loss: -12.062457... Val Loss: -11.430258\n",
      "Epoch: 1/10... Step: 35... Loss: -13.239010... Val Loss: -11.174773\n",
      "Epoch: 1/10... Step: 40... Loss: -9.308487... Val Loss: -12.768498\n",
      "Epoch: 1/10... Step: 45... Loss: -14.725738... Val Loss: -11.959312\n",
      "Epoch: 1/10... Step: 50... Loss: -10.593783... Val Loss: -11.814940\n",
      "Epoch: 2/10... Step: 55... Loss: -10.864458... Val Loss: -12.038432\n",
      "Epoch: 2/10... Step: 60... Loss: -10.422695... Val Loss: -11.593007\n",
      "Epoch: 2/10... Step: 65... Loss: -7.130513... Val Loss: -11.816388\n",
      "Epoch: 2/10... Step: 70... Loss: -11.412680... Val Loss: -12.617388\n",
      "Epoch: 2/10... Step: 75... Loss: -9.414285... Val Loss: -12.192330\n",
      "Epoch: 2/10... Step: 80... Loss: -14.847065... Val Loss: -12.635508\n",
      "Epoch: 2/10... Step: 85... Loss: -12.366078... Val Loss: -13.078746\n",
      "Epoch: 2/10... Step: 90... Loss: -10.206608... Val Loss: -12.183608\n",
      "Epoch: 2/10... Step: 95... Loss: -13.919405... Val Loss: -13.162419\n",
      "Epoch: 2/10... Step: 100... Loss: -11.903548... Val Loss: -13.795612\n",
      "Epoch: 3/10... Step: 105... Loss: -15.688628... Val Loss: -13.128266\n",
      "Epoch: 3/10... Step: 110... Loss: -14.631269... Val Loss: -13.114386\n",
      "Epoch: 3/10... Step: 115... Loss: -10.333692... Val Loss: -13.569302\n",
      "Epoch: 3/10... Step: 120... Loss: -11.113515... Val Loss: -13.824539\n",
      "Epoch: 3/10... Step: 125... Loss: -13.986952... Val Loss: -14.316264\n",
      "Epoch: 3/10... Step: 130... Loss: -15.111946... Val Loss: -13.182122\n",
      "Epoch: 3/10... Step: 135... Loss: -16.556648... Val Loss: -13.167120\n",
      "Epoch: 3/10... Step: 140... Loss: -13.493742... Val Loss: -14.333799\n",
      "Epoch: 3/10... Step: 145... Loss: -14.422577... Val Loss: -13.377432\n",
      "Epoch: 3/10... Step: 150... Loss: -18.087593... Val Loss: -13.864780\n",
      "Epoch: 4/10... Step: 155... Loss: -8.433312... Val Loss: -13.770722\n",
      "Epoch: 4/10... Step: 160... Loss: -13.933826... Val Loss: -14.377788\n",
      "Epoch: 4/10... Step: 165... Loss: -9.188103... Val Loss: -13.958136\n",
      "Epoch: 4/10... Step: 170... Loss: -12.361477... Val Loss: -14.972301\n",
      "Epoch: 4/10... Step: 175... Loss: -11.906017... Val Loss: -14.644621\n",
      "Epoch: 4/10... Step: 180... Loss: -11.522730... Val Loss: -14.005678\n",
      "Epoch: 4/10... Step: 185... Loss: -15.008897... Val Loss: -14.486761\n",
      "Epoch: 4/10... Step: 190... Loss: -17.843157... Val Loss: -13.771387\n",
      "Epoch: 4/10... Step: 195... Loss: -9.961334... Val Loss: -14.813910\n",
      "Epoch: 4/10... Step: 200... Loss: -17.998165... Val Loss: -14.221032\n",
      "Epoch: 5/10... Step: 205... Loss: -13.906740... Val Loss: -15.178907\n",
      "Epoch: 5/10... Step: 210... Loss: -17.540070... Val Loss: -14.755168\n",
      "Epoch: 5/10... Step: 215... Loss: -15.659208... Val Loss: -15.028076\n",
      "Epoch: 5/10... Step: 220... Loss: -13.835269... Val Loss: -14.931355\n",
      "Epoch: 5/10... Step: 225... Loss: -12.473951... Val Loss: -15.246415\n",
      "Epoch: 5/10... Step: 230... Loss: -14.645550... Val Loss: -13.854429\n",
      "Epoch: 5/10... Step: 235... Loss: -17.461733... Val Loss: -14.231920\n",
      "Epoch: 5/10... Step: 240... Loss: -16.905968... Val Loss: -15.608070\n",
      "Epoch: 5/10... Step: 245... Loss: -12.399611... Val Loss: -14.805719\n",
      "Epoch: 5/10... Step: 250... Loss: -16.484756... Val Loss: -14.817882\n",
      "Epoch: 6/10... Step: 255... Loss: -13.968764... Val Loss: -15.040568\n",
      "Epoch: 6/10... Step: 260... Loss: -18.556036... Val Loss: -14.941531\n",
      "Epoch: 6/10... Step: 265... Loss: -15.288862... Val Loss: -14.902233\n",
      "Epoch: 6/10... Step: 270... Loss: -13.644999... Val Loss: -15.267552\n",
      "Epoch: 6/10... Step: 275... Loss: -12.781310... Val Loss: -14.598713\n",
      "Epoch: 6/10... Step: 280... Loss: -12.221478... Val Loss: -14.148526\n",
      "Epoch: 6/10... Step: 285... Loss: -16.174204... Val Loss: -14.700305\n",
      "Epoch: 6/10... Step: 290... Loss: -15.133965... Val Loss: -14.320669\n",
      "Epoch: 6/10... Step: 295... Loss: -16.492952... Val Loss: -15.306124\n",
      "Epoch: 6/10... Step: 300... Loss: -13.473276... Val Loss: -14.643832\n",
      "Epoch: 7/10... Step: 305... Loss: -13.589992... Val Loss: -14.864966\n",
      "Epoch: 7/10... Step: 310... Loss: -18.351980... Val Loss: -15.884872\n",
      "Epoch: 7/10... Step: 315... Loss: -16.005629... Val Loss: -16.280534\n",
      "Epoch: 7/10... Step: 320... Loss: -16.705748... Val Loss: -16.229432\n",
      "Epoch: 7/10... Step: 325... Loss: -11.022625... Val Loss: -15.570176\n",
      "Epoch: 7/10... Step: 330... Loss: -18.174158... Val Loss: -15.535331\n",
      "Epoch: 7/10... Step: 335... Loss: -14.523815... Val Loss: -16.478208\n",
      "Epoch: 7/10... Step: 340... Loss: -11.339252... Val Loss: -15.195420\n",
      "Epoch: 7/10... Step: 345... Loss: -11.721902... Val Loss: -16.020001\n",
      "Epoch: 7/10... Step: 350... Loss: -21.849173... Val Loss: -15.614883\n",
      "Epoch: 8/10... Step: 355... Loss: -20.105251... Val Loss: -17.147187\n",
      "Epoch: 8/10... Step: 360... Loss: -15.373867... Val Loss: -16.574911\n",
      "Epoch: 8/10... Step: 365... Loss: -12.936275... Val Loss: -16.689502\n",
      "Epoch: 8/10... Step: 370... Loss: -18.512411... Val Loss: -16.362295\n",
      "Epoch: 8/10... Step: 375... Loss: -20.434238... Val Loss: -16.700908\n",
      "Epoch: 8/10... Step: 380... Loss: -17.592136... Val Loss: -15.865308\n",
      "Epoch: 8/10... Step: 385... Loss: -17.339231... Val Loss: -16.240581\n",
      "Epoch: 8/10... Step: 390... Loss: -19.207460... Val Loss: -16.400296\n",
      "Epoch: 8/10... Step: 395... Loss: -14.433704... Val Loss: -16.830796\n",
      "Epoch: 8/10... Step: 400... Loss: -13.813231... Val Loss: -16.765498\n",
      "Epoch: 9/10... Step: 405... Loss: -15.260750... Val Loss: -17.293386\n",
      "Epoch: 9/10... Step: 410... Loss: -17.187489... Val Loss: -17.431157\n",
      "Epoch: 9/10... Step: 415... Loss: -17.843204... Val Loss: -16.236300\n",
      "Epoch: 9/10... Step: 420... Loss: -13.285362... Val Loss: -16.939968\n",
      "Epoch: 9/10... Step: 425... Loss: -18.304628... Val Loss: -17.179369\n",
      "Epoch: 9/10... Step: 430... Loss: -17.268778... Val Loss: -17.299592\n",
      "Epoch: 9/10... Step: 435... Loss: -13.828689... Val Loss: -17.272536\n",
      "Epoch: 9/10... Step: 440... Loss: -20.851906... Val Loss: -18.714894\n",
      "Epoch: 9/10... Step: 445... Loss: -19.832695... Val Loss: -16.986938\n",
      "Epoch: 9/10... Step: 450... Loss: -16.207123... Val Loss: -18.994420\n",
      "Epoch: 10/10... Step: 455... Loss: -21.079266... Val Loss: -17.874142\n",
      "Epoch: 10/10... Step: 460... Loss: -20.541384... Val Loss: -17.945404\n",
      "Epoch: 10/10... Step: 465... Loss: -20.268806... Val Loss: -18.219182\n",
      "Epoch: 10/10... Step: 470... Loss: -16.708265... Val Loss: -18.746334\n",
      "Epoch: 10/10... Step: 475... Loss: -19.044870... Val Loss: -18.391175\n",
      "Epoch: 10/10... Step: 480... Loss: -17.428085... Val Loss: -18.341273\n",
      "Epoch: 10/10... Step: 485... Loss: -16.250931... Val Loss: -19.087537\n"
     ]
    },
    {
     "name": "stdout",
     "output_type": "stream",
     "text": [
      "Epoch: 10/10... Step: 490... Loss: -20.280014... Val Loss: -18.724791\n",
      "Epoch: 10/10... Step: 495... Loss: -15.082366... Val Loss: -19.748613\n",
      "Epoch: 10/10... Step: 500... Loss: -20.532993... Val Loss: -19.739190\n"
     ]
    }
   ],
   "source": [
    "model_LSTM_combined, _ = train_model(model_LSTM_combined, first_bce_loss_function, 15, 5, \n",
    "                                    LSTM_flag=True)\n",
    "\n",
    "model_LSTM_combined, _ = train_model(model_LSTM_combined, second_custom_loss_function, 10, 5, \n",
    "                                    LSTM_flag=True)\n",
    "\n",
    "\n",
    "model_LSTM_combined = model_LSTM_combined.eval()\n",
    "torch.save(model_LSTM_combined, \"experiments3/model_LSTM_combined.pth\")"
   ]
  },
  {
   "cell_type": "markdown",
   "metadata": {},
   "source": [
    "### GRU"
   ]
  },
  {
   "cell_type": "code",
   "execution_count": 35,
   "metadata": {},
   "outputs": [],
   "source": [
    "class GRU(nn.Module):\n",
    "    def __init__(self, input_size, output_size, hidden_dim, n_layers, drop_prob=0.5):\n",
    "        \n",
    "        super(GRU, self).__init__()\n",
    "        self.input_size = input_size\n",
    "        self.output_size = output_size\n",
    "        self.n_layers = n_layers\n",
    "        self.hidden_dim = hidden_dim        \n",
    "        # if batch_first, than shape of lstm_in: [batch_size, seq_len, input_size]\n",
    "        self.gru = nn.GRU(input_size, hidden_dim, n_layers, dropout=drop_prob, batch_first=True)\n",
    "        #self.dropout = nn.Dropout(drop_prob)\n",
    "        self.linear_1 = nn.Linear(hidden_dim, 1)\n",
    "        #self.linear_2 = nn.Linear(hidden_dim//2, 1)\n",
    "        self.activation = nn.Sigmoid()\n",
    "        #self.relu = nn.ReLU()\n",
    "        \n",
    "    def forward(self, input_seq, hidden):\n",
    "        batch_size = input_seq.size(0)\n",
    "        gru_out, hidden = self.gru(input_seq, hidden)  \n",
    "        gru_out = gru_out.contiguous().view(-1, self.hidden_dim)      \n",
    "        out = self.linear_1(gru_out)\n",
    "        #out = self.dropout(out)\n",
    "        #out = self.relu(out)\n",
    "        #out = self.linear_2(out)\n",
    "        out = self.activation(out)\n",
    "        out = out.view(batch_size, -1)\n",
    "\n",
    "        return out, hidden\n",
    "\n",
    "    def init_hidden(self, batch_size):\n",
    "        weight = next(self.parameters()).data\n",
    "        \n",
    "        hidden = (weight.new(self.n_layers, batch_size, self.hidden_dim).zero_().to(device),\n",
    "                  weight.new(self.n_layers, batch_size, self.hidden_dim).zero_().to(device))\n",
    "        return hidden"
   ]
  },
  {
   "cell_type": "code",
   "execution_count": 36,
   "metadata": {},
   "outputs": [
    {
     "data": {
      "text/plain": [
       "GRU(\n",
       "  (gru): GRU(1, 8, batch_first=True, dropout=0.1)\n",
       "  (linear_1): Linear(in_features=8, out_features=1, bias=True)\n",
       "  (activation): Sigmoid()\n",
       ")"
      ]
     },
     "execution_count": 36,
     "metadata": {},
     "output_type": "execute_result"
    }
   ],
   "source": [
    "model_GRU_custom = GRU(input_size=input_size, output_size=output_size, hidden_dim=hidden_dim, \n",
    "                       n_layers=n_layers, drop_prob=drop_prob)\n",
    "loss_function = CustomLoss()\n",
    "model_GRU_custom.to(device)"
   ]
  },
  {
   "cell_type": "code",
   "execution_count": 37,
   "metadata": {},
   "outputs": [
    {
     "name": "stdout",
     "output_type": "stream",
     "text": [
      "Epoch: 1/25... Step: 5... Loss: -2.892900... Val Loss: -2.406415\n",
      "Epoch: 1/25... Step: 10... Loss: -2.205279... Val Loss: -2.424397\n",
      "Epoch: 1/25... Step: 15... Loss: -2.507437... Val Loss: -2.464404\n",
      "Epoch: 1/25... Step: 20... Loss: -2.720602... Val Loss: -2.592874\n",
      "Epoch: 1/25... Step: 25... Loss: -2.805763... Val Loss: -2.707351\n",
      "Epoch: 1/25... Step: 30... Loss: -2.409550... Val Loss: -2.569419\n",
      "Epoch: 1/25... Step: 35... Loss: -2.726291... Val Loss: -2.531308\n",
      "Epoch: 1/25... Step: 40... Loss: -1.966061... Val Loss: -2.767922\n",
      "Epoch: 1/25... Step: 45... Loss: -3.333916... Val Loss: -2.918806\n",
      "Epoch: 1/25... Step: 50... Loss: -2.982177... Val Loss: -2.908527\n",
      "Epoch: 2/25... Step: 55... Loss: -2.549359... Val Loss: -2.979550\n",
      "Epoch: 2/25... Step: 60... Loss: -2.190799... Val Loss: -3.204949\n",
      "Epoch: 2/25... Step: 65... Loss: -2.799770... Val Loss: -3.150632\n",
      "Epoch: 2/25... Step: 70... Loss: -2.861518... Val Loss: -3.452945\n",
      "Epoch: 2/25... Step: 75... Loss: -3.831231... Val Loss: -3.646504\n",
      "Epoch: 2/25... Step: 80... Loss: -3.252986... Val Loss: -3.700265\n",
      "Epoch: 2/25... Step: 85... Loss: -4.125751... Val Loss: -3.573116\n",
      "Epoch: 2/25... Step: 90... Loss: -3.092650... Val Loss: -4.188099\n",
      "Epoch: 2/25... Step: 95... Loss: -4.387276... Val Loss: -4.313586\n",
      "Epoch: 2/25... Step: 100... Loss: -4.917913... Val Loss: -4.537968\n",
      "Epoch: 3/25... Step: 105... Loss: -4.285208... Val Loss: -4.663603\n",
      "Epoch: 3/25... Step: 110... Loss: -7.303028... Val Loss: -4.864085\n",
      "Epoch: 3/25... Step: 115... Loss: -5.790936... Val Loss: -5.338336\n",
      "Epoch: 3/25... Step: 120... Loss: -5.828217... Val Loss: -5.075252\n",
      "Epoch: 3/25... Step: 125... Loss: -3.634908... Val Loss: -5.466309\n",
      "Epoch: 3/25... Step: 130... Loss: -6.322733... Val Loss: -6.784284\n",
      "Epoch: 3/25... Step: 135... Loss: -7.080610... Val Loss: -6.746808\n",
      "Epoch: 3/25... Step: 140... Loss: -5.641510... Val Loss: -6.658888\n",
      "Epoch: 3/25... Step: 145... Loss: -6.729177... Val Loss: -6.906065\n",
      "Epoch: 3/25... Step: 150... Loss: -9.401275... Val Loss: -7.520611\n",
      "Epoch: 4/25... Step: 155... Loss: -10.316431... Val Loss: -8.394455\n",
      "Epoch: 4/25... Step: 160... Loss: -9.791094... Val Loss: -9.061631\n",
      "Epoch: 4/25... Step: 165... Loss: -8.924647... Val Loss: -9.304702\n",
      "Epoch: 4/25... Step: 170... Loss: -9.291038... Val Loss: -9.202343\n",
      "Epoch: 4/25... Step: 175... Loss: -6.052209... Val Loss: -9.652690\n",
      "Epoch: 4/25... Step: 180... Loss: -12.059429... Val Loss: -10.141520\n",
      "Epoch: 4/25... Step: 185... Loss: -8.994110... Val Loss: -10.477128\n",
      "Epoch: 4/25... Step: 190... Loss: -8.223530... Val Loss: -11.276454\n",
      "Epoch: 4/25... Step: 195... Loss: -12.876240... Val Loss: -10.309430\n",
      "Epoch: 4/25... Step: 200... Loss: -11.410172... Val Loss: -11.591204\n",
      "Epoch: 5/25... Step: 205... Loss: -10.763841... Val Loss: -12.297303\n",
      "Epoch: 5/25... Step: 210... Loss: -13.875998... Val Loss: -12.717707\n",
      "Epoch: 5/25... Step: 215... Loss: -9.371550... Val Loss: -12.838529\n",
      "Epoch: 5/25... Step: 220... Loss: -8.923310... Val Loss: -12.477025\n",
      "Epoch: 5/25... Step: 225... Loss: -10.578134... Val Loss: -13.297020\n",
      "Epoch: 5/25... Step: 230... Loss: -14.205412... Val Loss: -13.026410\n",
      "Epoch: 5/25... Step: 235... Loss: -17.641594... Val Loss: -12.467641\n",
      "Epoch: 5/25... Step: 240... Loss: -10.132890... Val Loss: -12.880981\n",
      "Epoch: 5/25... Step: 245... Loss: -13.898362... Val Loss: -12.993165\n",
      "Epoch: 5/25... Step: 250... Loss: -17.253819... Val Loss: -13.476090\n",
      "Epoch: 6/25... Step: 255... Loss: -13.165643... Val Loss: -13.408266\n",
      "Epoch: 6/25... Step: 260... Loss: -9.048812... Val Loss: -13.407236\n",
      "Epoch: 6/25... Step: 265... Loss: -20.189144... Val Loss: -14.152018\n",
      "Epoch: 6/25... Step: 270... Loss: -21.705536... Val Loss: -14.467098\n",
      "Epoch: 6/25... Step: 275... Loss: -16.063080... Val Loss: -14.071252\n",
      "Epoch: 6/25... Step: 280... Loss: -13.584151... Val Loss: -14.390296\n",
      "Epoch: 6/25... Step: 285... Loss: -16.804472... Val Loss: -13.553704\n",
      "Epoch: 6/25... Step: 290... Loss: -14.159254... Val Loss: -13.842443\n",
      "Epoch: 6/25... Step: 295... Loss: -15.225732... Val Loss: -13.558400\n",
      "Epoch: 6/25... Step: 300... Loss: -15.863683... Val Loss: -13.935891\n",
      "Epoch: 7/25... Step: 305... Loss: -15.978966... Val Loss: -14.679701\n",
      "Epoch: 7/25... Step: 310... Loss: -11.769827... Val Loss: -15.331028\n",
      "Epoch: 7/25... Step: 315... Loss: -14.442804... Val Loss: -14.720730\n",
      "Epoch: 7/25... Step: 320... Loss: -12.812637... Val Loss: -15.424960\n",
      "Epoch: 7/25... Step: 325... Loss: -13.713797... Val Loss: -13.676034\n",
      "Epoch: 7/25... Step: 330... Loss: -16.496874... Val Loss: -15.181747\n",
      "Epoch: 7/25... Step: 335... Loss: -18.024218... Val Loss: -14.842757\n",
      "Epoch: 7/25... Step: 340... Loss: -11.857834... Val Loss: -14.353651\n",
      "Epoch: 7/25... Step: 345... Loss: -12.772858... Val Loss: -14.619879\n",
      "Epoch: 7/25... Step: 350... Loss: -10.529892... Val Loss: -15.595771\n",
      "Epoch: 8/25... Step: 355... Loss: -20.831661... Val Loss: -14.686262\n",
      "Epoch: 8/25... Step: 360... Loss: -18.263266... Val Loss: -14.521723\n",
      "Epoch: 8/25... Step: 365... Loss: -13.066635... Val Loss: -15.043457\n",
      "Epoch: 8/25... Step: 370... Loss: -14.032100... Val Loss: -15.328793\n",
      "Epoch: 8/25... Step: 375... Loss: -16.632023... Val Loss: -15.354885\n",
      "Epoch: 8/25... Step: 380... Loss: -15.505585... Val Loss: -14.698800\n",
      "Epoch: 8/25... Step: 385... Loss: -11.565742... Val Loss: -14.318408\n",
      "Epoch: 8/25... Step: 390... Loss: -14.562287... Val Loss: -14.357713\n",
      "Epoch: 8/25... Step: 395... Loss: -11.937130... Val Loss: -15.402556\n",
      "Epoch: 8/25... Step: 400... Loss: -13.170794... Val Loss: -15.267918\n",
      "Epoch: 9/25... Step: 405... Loss: -13.375087... Val Loss: -14.735139\n",
      "Epoch: 9/25... Step: 410... Loss: -18.332823... Val Loss: -15.473735\n",
      "Epoch: 9/25... Step: 415... Loss: -17.955568... Val Loss: -14.444855\n",
      "Epoch: 9/25... Step: 420... Loss: -9.559834... Val Loss: -15.592365\n",
      "Epoch: 9/25... Step: 425... Loss: -19.402237... Val Loss: -14.987565\n",
      "Epoch: 9/25... Step: 430... Loss: -15.913242... Val Loss: -15.168005\n",
      "Epoch: 9/25... Step: 435... Loss: -18.179171... Val Loss: -14.650046\n",
      "Epoch: 9/25... Step: 440... Loss: -16.435120... Val Loss: -15.519175\n",
      "Epoch: 9/25... Step: 445... Loss: -14.672893... Val Loss: -14.470495\n",
      "Epoch: 9/25... Step: 450... Loss: -15.669858... Val Loss: -15.424357\n",
      "Epoch: 10/25... Step: 455... Loss: -15.142532... Val Loss: -15.181468\n",
      "Epoch: 10/25... Step: 460... Loss: -12.185293... Val Loss: -15.091150\n",
      "Epoch: 10/25... Step: 465... Loss: -18.193619... Val Loss: -14.907425\n",
      "Epoch: 10/25... Step: 470... Loss: -18.650055... Val Loss: -15.800385\n",
      "Epoch: 10/25... Step: 475... Loss: -17.480972... Val Loss: -15.760514\n",
      "Epoch: 10/25... Step: 480... Loss: -24.352158... Val Loss: -15.469402\n",
      "Epoch: 10/25... Step: 485... Loss: -17.074375... Val Loss: -15.865282\n",
      "Epoch: 10/25... Step: 490... Loss: -11.933961... Val Loss: -15.904377\n",
      "Epoch: 10/25... Step: 495... Loss: -17.676142... Val Loss: -15.268014\n",
      "Epoch: 10/25... Step: 500... Loss: -13.946795... Val Loss: -15.357290\n",
      "Epoch: 11/25... Step: 505... Loss: -20.517836... Val Loss: -15.972476\n",
      "Epoch: 11/25... Step: 510... Loss: -19.729452... Val Loss: -15.606008\n",
      "Epoch: 11/25... Step: 515... Loss: -17.528185... Val Loss: -15.347251\n",
      "Epoch: 11/25... Step: 520... Loss: -12.347397... Val Loss: -15.770337\n",
      "Epoch: 11/25... Step: 525... Loss: -14.003550... Val Loss: -15.329366\n",
      "Epoch: 11/25... Step: 530... Loss: -13.462257... Val Loss: -15.538129\n",
      "Epoch: 11/25... Step: 535... Loss: -11.814293... Val Loss: -14.868360\n",
      "Epoch: 11/25... Step: 540... Loss: -11.272467... Val Loss: -15.460789\n",
      "Epoch: 11/25... Step: 545... Loss: -15.000312... Val Loss: -15.175412\n",
      "Epoch: 11/25... Step: 550... Loss: -13.095865... Val Loss: -16.141810\n",
      "Epoch: 12/25... Step: 555... Loss: -17.825195... Val Loss: -15.705468\n",
      "Epoch: 12/25... Step: 560... Loss: -8.676702... Val Loss: -15.809392\n",
      "Epoch: 12/25... Step: 565... Loss: -17.607899... Val Loss: -16.095565\n",
      "Epoch: 12/25... Step: 570... Loss: -17.430946... Val Loss: -15.821647\n",
      "Epoch: 12/25... Step: 575... Loss: -21.194492... Val Loss: -16.215190\n",
      "Epoch: 12/25... Step: 580... Loss: -18.009020... Val Loss: -15.671880\n",
      "Epoch: 12/25... Step: 585... Loss: -10.663054... Val Loss: -15.575963\n",
      "Epoch: 12/25... Step: 590... Loss: -17.895798... Val Loss: -15.945267\n",
      "Epoch: 12/25... Step: 595... Loss: -12.620657... Val Loss: -15.935050\n",
      "Epoch: 12/25... Step: 600... Loss: -10.448646... Val Loss: -15.958244\n"
     ]
    },
    {
     "name": "stdout",
     "output_type": "stream",
     "text": [
      "Epoch: 13/25... Step: 605... Loss: -17.176386... Val Loss: -15.924099\n",
      "Epoch: 13/25... Step: 610... Loss: -15.916498... Val Loss: -15.497060\n",
      "Epoch: 13/25... Step: 615... Loss: -14.661312... Val Loss: -16.216425\n",
      "Epoch: 13/25... Step: 620... Loss: -16.728111... Val Loss: -15.952727\n",
      "Epoch: 13/25... Step: 625... Loss: -15.071367... Val Loss: -15.584668\n",
      "Epoch: 13/25... Step: 630... Loss: -18.027365... Val Loss: -15.908292\n",
      "Epoch: 13/25... Step: 635... Loss: -14.557990... Val Loss: -14.934745\n",
      "Epoch: 13/25... Step: 640... Loss: -16.170139... Val Loss: -15.516675\n",
      "Epoch: 13/25... Step: 645... Loss: -12.341972... Val Loss: -16.344809\n",
      "Epoch: 13/25... Step: 650... Loss: -16.942110... Val Loss: -15.855514\n",
      "Epoch: 14/25... Step: 655... Loss: -12.693659... Val Loss: -15.626038\n",
      "Epoch: 14/25... Step: 660... Loss: -13.325316... Val Loss: -16.401571\n",
      "Epoch: 14/25... Step: 665... Loss: -20.170126... Val Loss: -15.615920\n",
      "Epoch: 14/25... Step: 670... Loss: -17.722826... Val Loss: -15.436373\n",
      "Epoch: 14/25... Step: 675... Loss: -13.505719... Val Loss: -15.796182\n",
      "Epoch: 14/25... Step: 680... Loss: -20.004982... Val Loss: -16.841506\n",
      "Epoch: 14/25... Step: 685... Loss: -21.101931... Val Loss: -15.694454\n",
      "Epoch: 14/25... Step: 690... Loss: -17.447935... Val Loss: -15.897431\n",
      "Epoch: 14/25... Step: 695... Loss: -17.588642... Val Loss: -16.252220\n",
      "Epoch: 14/25... Step: 700... Loss: -20.099487... Val Loss: -14.764796\n",
      "Epoch: 15/25... Step: 705... Loss: -18.139002... Val Loss: -15.723255\n",
      "Epoch: 15/25... Step: 710... Loss: -15.904252... Val Loss: -15.691583\n",
      "Epoch: 15/25... Step: 715... Loss: -20.096655... Val Loss: -15.979533\n",
      "Epoch: 15/25... Step: 720... Loss: -17.359339... Val Loss: -15.389770\n",
      "Epoch: 15/25... Step: 725... Loss: -15.633045... Val Loss: -16.231616\n",
      "Epoch: 15/25... Step: 730... Loss: -16.683399... Val Loss: -16.935432\n",
      "Epoch: 15/25... Step: 735... Loss: -20.911890... Val Loss: -15.064139\n",
      "Epoch: 15/25... Step: 740... Loss: -14.743960... Val Loss: -16.548573\n",
      "Epoch: 15/25... Step: 745... Loss: -18.204620... Val Loss: -15.660180\n",
      "Epoch: 15/25... Step: 750... Loss: -13.788837... Val Loss: -15.711834\n",
      "Epoch: 16/25... Step: 755... Loss: -13.163637... Val Loss: -16.401478\n",
      "Epoch: 16/25... Step: 760... Loss: -19.806356... Val Loss: -15.880463\n",
      "Epoch: 16/25... Step: 765... Loss: -18.315802... Val Loss: -16.539141\n",
      "Epoch: 16/25... Step: 770... Loss: -11.688185... Val Loss: -16.729876\n",
      "Epoch: 16/25... Step: 775... Loss: -19.804390... Val Loss: -15.972390\n",
      "Epoch: 16/25... Step: 780... Loss: -20.480682... Val Loss: -15.810298\n",
      "Epoch: 16/25... Step: 785... Loss: -18.556200... Val Loss: -16.089048\n",
      "Epoch: 16/25... Step: 790... Loss: -19.216204... Val Loss: -15.681040\n",
      "Epoch: 16/25... Step: 795... Loss: -20.810596... Val Loss: -16.309388\n",
      "Epoch: 16/25... Step: 800... Loss: -14.081363... Val Loss: -16.262805\n",
      "Epoch: 17/25... Step: 805... Loss: -14.001650... Val Loss: -16.352742\n",
      "Epoch: 17/25... Step: 810... Loss: -16.255569... Val Loss: -16.272901\n",
      "Epoch: 17/25... Step: 815... Loss: -16.460817... Val Loss: -16.602061\n",
      "Epoch: 17/25... Step: 820... Loss: -13.931312... Val Loss: -15.331397\n",
      "Epoch: 17/25... Step: 825... Loss: -14.588287... Val Loss: -16.543883\n",
      "Epoch: 17/25... Step: 830... Loss: -19.175995... Val Loss: -15.617623\n",
      "Epoch: 17/25... Step: 835... Loss: -18.239202... Val Loss: -15.838527\n",
      "Epoch: 17/25... Step: 840... Loss: -14.972146... Val Loss: -15.998941\n",
      "Epoch: 17/25... Step: 845... Loss: -19.400290... Val Loss: -16.919044\n",
      "Epoch: 17/25... Step: 850... Loss: -14.989220... Val Loss: -15.770071\n",
      "Epoch: 18/25... Step: 855... Loss: -16.891663... Val Loss: -15.664412\n",
      "Epoch: 18/25... Step: 860... Loss: -17.111609... Val Loss: -16.657764\n",
      "Epoch: 18/25... Step: 865... Loss: -17.892015... Val Loss: -16.591994\n",
      "Epoch: 18/25... Step: 870... Loss: -14.052895... Val Loss: -16.077855\n",
      "Epoch: 18/25... Step: 875... Loss: -16.454550... Val Loss: -16.293753\n",
      "Epoch: 18/25... Step: 880... Loss: -18.571188... Val Loss: -16.045946\n",
      "Epoch: 18/25... Step: 885... Loss: -17.911959... Val Loss: -16.409038\n",
      "Epoch: 18/25... Step: 890... Loss: -14.300172... Val Loss: -16.491517\n",
      "Epoch: 18/25... Step: 895... Loss: -18.367714... Val Loss: -16.961054\n",
      "Epoch: 18/25... Step: 900... Loss: -20.246521... Val Loss: -15.789982\n",
      "Epoch: 19/25... Step: 905... Loss: -20.519512... Val Loss: -16.083054\n",
      "Epoch: 19/25... Step: 910... Loss: -16.887230... Val Loss: -16.839680\n",
      "Epoch: 19/25... Step: 915... Loss: -14.320030... Val Loss: -16.019651\n",
      "Epoch: 19/25... Step: 920... Loss: -16.802275... Val Loss: -15.424988\n",
      "Epoch: 19/25... Step: 925... Loss: -19.297451... Val Loss: -16.201251\n",
      "Epoch: 19/25... Step: 930... Loss: -15.508407... Val Loss: -16.504241\n",
      "Epoch: 19/25... Step: 935... Loss: -20.286856... Val Loss: -16.769172\n",
      "Epoch: 19/25... Step: 940... Loss: -12.152678... Val Loss: -16.243380\n",
      "Epoch: 19/25... Step: 945... Loss: -20.593964... Val Loss: -16.834593\n",
      "Epoch: 19/25... Step: 950... Loss: -14.917597... Val Loss: -17.378715\n",
      "Epoch: 20/25... Step: 955... Loss: -10.132515... Val Loss: -16.282208\n",
      "Epoch: 20/25... Step: 960... Loss: -21.246260... Val Loss: -16.990559\n",
      "Epoch: 20/25... Step: 965... Loss: -10.841787... Val Loss: -16.437381\n",
      "Epoch: 20/25... Step: 970... Loss: -24.375189... Val Loss: -15.861693\n",
      "Epoch: 20/25... Step: 975... Loss: -18.422169... Val Loss: -16.703328\n",
      "Epoch: 20/25... Step: 980... Loss: -16.178711... Val Loss: -16.145186\n",
      "Epoch: 20/25... Step: 985... Loss: -16.893255... Val Loss: -16.364983\n",
      "Epoch: 20/25... Step: 990... Loss: -16.270924... Val Loss: -16.298920\n",
      "Epoch: 20/25... Step: 995... Loss: -16.030308... Val Loss: -16.716220\n",
      "Epoch: 20/25... Step: 1000... Loss: -20.983274... Val Loss: -15.874110\n",
      "Epoch: 21/25... Step: 1005... Loss: -19.589741... Val Loss: -16.667128\n",
      "Epoch: 21/25... Step: 1010... Loss: -17.079273... Val Loss: -16.603453\n",
      "Epoch: 21/25... Step: 1015... Loss: -12.347301... Val Loss: -15.861505\n",
      "Epoch: 21/25... Step: 1020... Loss: -17.881151... Val Loss: -16.269330\n",
      "Epoch: 21/25... Step: 1025... Loss: -17.239164... Val Loss: -16.635705\n",
      "Epoch: 21/25... Step: 1030... Loss: -20.320221... Val Loss: -16.178591\n",
      "Epoch: 21/25... Step: 1035... Loss: -17.247280... Val Loss: -16.876835\n",
      "Epoch: 21/25... Step: 1040... Loss: -18.284887... Val Loss: -15.672983\n",
      "Epoch: 21/25... Step: 1045... Loss: -11.645297... Val Loss: -16.923849\n",
      "Epoch: 21/25... Step: 1050... Loss: -16.021475... Val Loss: -16.961620\n",
      "Epoch: 22/25... Step: 1055... Loss: -17.861696... Val Loss: -16.011189\n",
      "Epoch: 22/25... Step: 1060... Loss: -18.121817... Val Loss: -17.391687\n",
      "Epoch: 22/25... Step: 1065... Loss: -14.383083... Val Loss: -16.537062\n",
      "Epoch: 22/25... Step: 1070... Loss: -13.850922... Val Loss: -17.247759\n",
      "Epoch: 22/25... Step: 1075... Loss: -17.373327... Val Loss: -17.314335\n",
      "Epoch: 22/25... Step: 1080... Loss: -19.337578... Val Loss: -16.906863\n",
      "Epoch: 22/25... Step: 1085... Loss: -14.970431... Val Loss: -16.436120\n",
      "Epoch: 22/25... Step: 1090... Loss: -19.054228... Val Loss: -16.657817\n",
      "Epoch: 22/25... Step: 1095... Loss: -16.946398... Val Loss: -16.962189\n",
      "Epoch: 22/25... Step: 1100... Loss: -17.065613... Val Loss: -16.432887\n",
      "Epoch: 23/25... Step: 1105... Loss: -15.107607... Val Loss: -17.163871\n",
      "Epoch: 23/25... Step: 1110... Loss: -18.789787... Val Loss: -15.674057\n",
      "Epoch: 23/25... Step: 1115... Loss: -18.540169... Val Loss: -16.660452\n",
      "Epoch: 23/25... Step: 1120... Loss: -16.191740... Val Loss: -16.600153\n",
      "Epoch: 23/25... Step: 1125... Loss: -11.505836... Val Loss: -16.875021\n",
      "Epoch: 23/25... Step: 1130... Loss: -14.373082... Val Loss: -17.139702\n",
      "Epoch: 23/25... Step: 1135... Loss: -17.607079... Val Loss: -16.633657\n",
      "Epoch: 23/25... Step: 1140... Loss: -19.836691... Val Loss: -17.125482\n",
      "Epoch: 23/25... Step: 1145... Loss: -17.644348... Val Loss: -17.061546\n",
      "Epoch: 23/25... Step: 1150... Loss: -10.788326... Val Loss: -16.078272\n",
      "Epoch: 24/25... Step: 1155... Loss: -15.422700... Val Loss: -16.853626\n",
      "Epoch: 24/25... Step: 1160... Loss: -17.812815... Val Loss: -16.130470\n",
      "Epoch: 24/25... Step: 1165... Loss: -16.463131... Val Loss: -16.606611\n",
      "Epoch: 24/25... Step: 1170... Loss: -17.818462... Val Loss: -16.994300\n",
      "Epoch: 24/25... Step: 1175... Loss: -16.370146... Val Loss: -16.021373\n",
      "Epoch: 24/25... Step: 1180... Loss: -14.845301... Val Loss: -15.931815\n",
      "Epoch: 24/25... Step: 1185... Loss: -9.916595... Val Loss: -16.583032\n"
     ]
    },
    {
     "name": "stdout",
     "output_type": "stream",
     "text": [
      "Epoch: 24/25... Step: 1190... Loss: -15.186109... Val Loss: -15.998391\n",
      "Epoch: 24/25... Step: 1195... Loss: -16.874275... Val Loss: -15.551707\n",
      "Epoch: 24/25... Step: 1200... Loss: -14.505743... Val Loss: -16.570178\n",
      "Epoch: 25/25... Step: 1205... Loss: -16.697445... Val Loss: -16.418146\n",
      "Epoch: 25/25... Step: 1210... Loss: -17.242405... Val Loss: -16.222554\n",
      "Epoch: 25/25... Step: 1215... Loss: -15.395521... Val Loss: -17.254808\n",
      "Epoch: 25/25... Step: 1220... Loss: -17.852253... Val Loss: -16.917916\n",
      "Epoch: 25/25... Step: 1225... Loss: -23.421446... Val Loss: -16.878987\n",
      "Epoch: 25/25... Step: 1230... Loss: -10.255140... Val Loss: -16.486783\n",
      "Epoch: 25/25... Step: 1235... Loss: -11.611007... Val Loss: -16.223669\n",
      "Epoch: 25/25... Step: 1240... Loss: -17.722706... Val Loss: -16.773357\n",
      "Epoch: 25/25... Step: 1245... Loss: -18.087702... Val Loss: -16.798745\n",
      "Epoch: 25/25... Step: 1250... Loss: -11.944735... Val Loss: -16.628435\n"
     ]
    }
   ],
   "source": [
    "model_GRU_custom, (loss_list, acc_list, \n",
    "                    overall_val_loss_list) = train_model(model_GRU_custom, loss_function, 25, 5, RNN_flag=True)\n",
    "\n",
    "model_GRU_custom = model_GRU_custom.eval()\n",
    "torch.save(model_GRU_custom, \"experiments3/model_GRU_custom.pth\")"
   ]
  },
  {
   "cell_type": "code",
   "execution_count": 38,
   "metadata": {},
   "outputs": [
    {
     "data": {
      "text/plain": [
       "[<matplotlib.lines.Line2D at 0x7f9b2430f550>]"
      ]
     },
     "execution_count": 38,
     "metadata": {},
     "output_type": "execute_result"
    },
    {
     "data": {
      "image/png": "[encoded data removed]",
      "text/plain": [
       "<Figure size 432x288 with 1 Axes>"
      ]
     },
     "metadata": {
      "needs_background": "light"
     },
     "output_type": "display_data"
    }
   ],
   "source": [
    "plt.plot(overall_val_loss_list)"
   ]
  },
  {
   "cell_type": "code",
   "execution_count": 39,
   "metadata": {},
   "outputs": [
    {
     "data": {
      "text/plain": [
       "GRU(\n",
       "  (gru): GRU(1, 8, batch_first=True, dropout=0.1)\n",
       "  (linear_1): Linear(in_features=8, out_features=1, bias=True)\n",
       "  (activation): Sigmoid()\n",
       ")"
      ]
     },
     "execution_count": 39,
     "metadata": {},
     "output_type": "execute_result"
    }
   ],
   "source": [
    "model_GRU_bce = GRU(input_size=input_size, output_size=output_size, hidden_dim=hidden_dim, \n",
    "                    n_layers=n_layers, drop_prob=drop_prob)\n",
    "bce_loss_function = torch.nn.BCELoss()\n",
    "model_GRU_bce.to(device)"
   ]
  },
  {
   "cell_type": "code",
   "execution_count": 40,
   "metadata": {
    "scrolled": true
   },
   "outputs": [
    {
     "name": "stdout",
     "output_type": "stream",
     "text": [
      "Epoch: 1/25... Step: 5... Loss: 0.743465... Val Loss: 0.741091\n",
      "Epoch: 1/25... Step: 10... Loss: 0.728286... Val Loss: 0.733908\n",
      "Epoch: 1/25... Step: 15... Loss: 0.740799... Val Loss: 0.728222\n",
      "Epoch: 1/25... Step: 20... Loss: 0.715309... Val Loss: 0.721030\n",
      "Epoch: 1/25... Step: 25... Loss: 0.715067... Val Loss: 0.715037\n",
      "Epoch: 1/25... Step: 30... Loss: 0.718182... Val Loss: 0.706638\n",
      "Epoch: 1/25... Step: 35... Loss: 0.698815... Val Loss: 0.699306\n",
      "Epoch: 1/25... Step: 40... Loss: 0.699692... Val Loss: 0.692627\n",
      "Epoch: 1/25... Step: 45... Loss: 0.681583... Val Loss: 0.683313\n",
      "Epoch: 1/25... Step: 50... Loss: 0.671615... Val Loss: 0.672128\n",
      "Epoch: 2/25... Step: 55... Loss: 0.675024... Val Loss: 0.664894\n",
      "Epoch: 2/25... Step: 60... Loss: 0.674918... Val Loss: 0.654363\n",
      "Epoch: 2/25... Step: 65... Loss: 0.637248... Val Loss: 0.641622\n",
      "Epoch: 2/25... Step: 70... Loss: 0.669698... Val Loss: 0.632147\n",
      "Epoch: 2/25... Step: 75... Loss: 0.593191... Val Loss: 0.613762\n",
      "Epoch: 2/25... Step: 80... Loss: 0.637406... Val Loss: 0.597578\n",
      "Epoch: 2/25... Step: 85... Loss: 0.626721... Val Loss: 0.581321\n",
      "Epoch: 2/25... Step: 90... Loss: 0.560065... Val Loss: 0.563360\n",
      "Epoch: 2/25... Step: 95... Loss: 0.510215... Val Loss: 0.545102\n",
      "Epoch: 2/25... Step: 100... Loss: 0.577523... Val Loss: 0.523918\n",
      "Epoch: 3/25... Step: 105... Loss: 0.562893... Val Loss: 0.505293\n",
      "Epoch: 3/25... Step: 110... Loss: 0.477191... Val Loss: 0.483541\n",
      "Epoch: 3/25... Step: 115... Loss: 0.469747... Val Loss: 0.465660\n",
      "Epoch: 3/25... Step: 120... Loss: 0.457311... Val Loss: 0.448612\n",
      "Epoch: 3/25... Step: 125... Loss: 0.450783... Val Loss: 0.428812\n",
      "Epoch: 3/25... Step: 130... Loss: 0.428692... Val Loss: 0.414383\n",
      "Epoch: 3/25... Step: 135... Loss: 0.378707... Val Loss: 0.395055\n",
      "Epoch: 3/25... Step: 140... Loss: 0.422338... Val Loss: 0.378816\n",
      "Epoch: 3/25... Step: 145... Loss: 0.367564... Val Loss: 0.358595\n",
      "Epoch: 3/25... Step: 150... Loss: 0.365538... Val Loss: 0.337143\n",
      "Epoch: 4/25... Step: 155... Loss: 0.306151... Val Loss: 0.317076\n",
      "Epoch: 4/25... Step: 160... Loss: 0.281973... Val Loss: 0.304010\n",
      "Epoch: 4/25... Step: 165... Loss: 0.295829... Val Loss: 0.296289\n",
      "Epoch: 4/25... Step: 170... Loss: 0.340796... Val Loss: 0.289117\n",
      "Epoch: 4/25... Step: 175... Loss: 0.296581... Val Loss: 0.280928\n",
      "Epoch: 4/25... Step: 180... Loss: 0.369963... Val Loss: 0.270970\n",
      "Epoch: 4/25... Step: 185... Loss: 0.348319... Val Loss: 0.269552\n",
      "Epoch: 4/25... Step: 190... Loss: 0.296219... Val Loss: 0.258545\n",
      "Epoch: 4/25... Step: 195... Loss: 0.255057... Val Loss: 0.254563\n",
      "Epoch: 4/25... Step: 200... Loss: 0.257175... Val Loss: 0.245060\n",
      "Epoch: 5/25... Step: 205... Loss: 0.201035... Val Loss: 0.243129\n",
      "Epoch: 5/25... Step: 210... Loss: 0.225312... Val Loss: 0.237083\n",
      "Epoch: 5/25... Step: 215... Loss: 0.211583... Val Loss: 0.231503\n",
      "Epoch: 5/25... Step: 220... Loss: 0.194094... Val Loss: 0.228830\n",
      "Epoch: 5/25... Step: 225... Loss: 0.215678... Val Loss: 0.225963\n",
      "Epoch: 5/25... Step: 230... Loss: 0.199092... Val Loss: 0.220769\n",
      "Epoch: 5/25... Step: 235... Loss: 0.202490... Val Loss: 0.215268\n",
      "Epoch: 5/25... Step: 240... Loss: 0.238721... Val Loss: 0.213777\n",
      "Epoch: 5/25... Step: 245... Loss: 0.278852... Val Loss: 0.206701\n",
      "Epoch: 5/25... Step: 250... Loss: 0.201317... Val Loss: 0.206660\n",
      "Epoch: 6/25... Step: 255... Loss: 0.170671... Val Loss: 0.202847\n",
      "Epoch: 6/25... Step: 260... Loss: 0.188665... Val Loss: 0.200806\n",
      "Epoch: 6/25... Step: 265... Loss: 0.186652... Val Loss: 0.198372\n",
      "Epoch: 6/25... Step: 270... Loss: 0.208349... Val Loss: 0.193939\n",
      "Epoch: 6/25... Step: 275... Loss: 0.209949... Val Loss: 0.189913\n",
      "Epoch: 6/25... Step: 280... Loss: 0.281941... Val Loss: 0.187810\n",
      "Epoch: 6/25... Step: 285... Loss: 0.203907... Val Loss: 0.181026\n",
      "Epoch: 6/25... Step: 290... Loss: 0.226074... Val Loss: 0.178392\n",
      "Epoch: 6/25... Step: 295... Loss: 0.199340... Val Loss: 0.174654\n",
      "Epoch: 6/25... Step: 300... Loss: 0.175949... Val Loss: 0.167198\n",
      "Epoch: 7/25... Step: 305... Loss: 0.175024... Val Loss: 0.162898\n",
      "Epoch: 7/25... Step: 310... Loss: 0.160152... Val Loss: 0.158157\n",
      "Epoch: 7/25... Step: 315... Loss: 0.152029... Val Loss: 0.152245\n",
      "Epoch: 7/25... Step: 320... Loss: 0.146078... Val Loss: 0.149339\n",
      "Epoch: 7/25... Step: 325... Loss: 0.149956... Val Loss: 0.145924\n",
      "Epoch: 7/25... Step: 330... Loss: 0.163020... Val Loss: 0.142233\n",
      "Epoch: 7/25... Step: 335... Loss: 0.121587... Val Loss: 0.139005\n",
      "Epoch: 7/25... Step: 340... Loss: 0.144932... Val Loss: 0.136127\n",
      "Epoch: 7/25... Step: 345... Loss: 0.145377... Val Loss: 0.134130\n",
      "Epoch: 7/25... Step: 350... Loss: 0.145231... Val Loss: 0.132488\n",
      "Epoch: 8/25... Step: 355... Loss: 0.185626... Val Loss: 0.130351\n",
      "Epoch: 8/25... Step: 360... Loss: 0.136605... Val Loss: 0.127274\n",
      "Epoch: 8/25... Step: 365... Loss: 0.127826... Val Loss: 0.123232\n",
      "Epoch: 8/25... Step: 370... Loss: 0.121973... Val Loss: 0.122936\n",
      "Epoch: 8/25... Step: 375... Loss: 0.183550... Val Loss: 0.119586\n",
      "Epoch: 8/25... Step: 380... Loss: 0.209850... Val Loss: 0.118629\n",
      "Epoch: 8/25... Step: 385... Loss: 0.132325... Val Loss: 0.116842\n",
      "Epoch: 8/25... Step: 390... Loss: 0.100886... Val Loss: 0.115804\n",
      "Epoch: 8/25... Step: 395... Loss: 0.101789... Val Loss: 0.113624\n",
      "Epoch: 8/25... Step: 400... Loss: 0.117717... Val Loss: 0.112264\n",
      "Epoch: 9/25... Step: 405... Loss: 0.111015... Val Loss: 0.109904\n",
      "Epoch: 9/25... Step: 410... Loss: 0.099739... Val Loss: 0.106430\n",
      "Epoch: 9/25... Step: 415... Loss: 0.107421... Val Loss: 0.105861\n",
      "Epoch: 9/25... Step: 420... Loss: 0.131319... Val Loss: 0.104157\n",
      "Epoch: 9/25... Step: 425... Loss: 0.104268... Val Loss: 0.101600\n",
      "Epoch: 9/25... Step: 430... Loss: 0.093837... Val Loss: 0.100857\n",
      "Epoch: 9/25... Step: 435... Loss: 0.166048... Val Loss: 0.099568\n",
      "Epoch: 9/25... Step: 440... Loss: 0.105176... Val Loss: 0.098312\n",
      "Epoch: 9/25... Step: 445... Loss: 0.098123... Val Loss: 0.096427\n",
      "Epoch: 9/25... Step: 450... Loss: 0.098538... Val Loss: 0.094449\n",
      "Epoch: 10/25... Step: 455... Loss: 0.102390... Val Loss: 0.093198\n",
      "Epoch: 10/25... Step: 460... Loss: 0.114770... Val Loss: 0.091205\n",
      "Epoch: 10/25... Step: 465... Loss: 0.084840... Val Loss: 0.090007\n",
      "Epoch: 10/25... Step: 470... Loss: 0.091870... Val Loss: 0.088596\n",
      "Epoch: 10/25... Step: 475... Loss: 0.087574... Val Loss: 0.085788\n",
      "Epoch: 10/25... Step: 480... Loss: 0.085650... Val Loss: 0.083871\n",
      "Epoch: 10/25... Step: 485... Loss: 0.077883... Val Loss: 0.080346\n",
      "Epoch: 10/25... Step: 490... Loss: 0.067456... Val Loss: 0.076054\n",
      "Epoch: 10/25... Step: 495... Loss: 0.071220... Val Loss: 0.070880\n",
      "Epoch: 10/25... Step: 500... Loss: 0.065598... Val Loss: 0.067428\n",
      "Epoch: 11/25... Step: 505... Loss: 0.065474... Val Loss: 0.065169\n",
      "Epoch: 11/25... Step: 510... Loss: 0.061459... Val Loss: 0.063596\n",
      "Epoch: 11/25... Step: 515... Loss: 0.185433... Val Loss: 0.062240\n",
      "Epoch: 11/25... Step: 520... Loss: 0.062803... Val Loss: 0.061368\n",
      "Epoch: 11/25... Step: 525... Loss: 0.175740... Val Loss: 0.060055\n",
      "Epoch: 11/25... Step: 530... Loss: 0.068983... Val Loss: 0.059278\n",
      "Epoch: 11/25... Step: 535... Loss: 0.057404... Val Loss: 0.058391\n",
      "Epoch: 11/25... Step: 540... Loss: 0.074258... Val Loss: 0.057651\n",
      "Epoch: 11/25... Step: 545... Loss: 0.056799... Val Loss: 0.057018\n",
      "Epoch: 11/25... Step: 550... Loss: 0.053010... Val Loss: 0.056649\n",
      "Epoch: 12/25... Step: 555... Loss: 0.053486... Val Loss: 0.055521\n",
      "Epoch: 12/25... Step: 560... Loss: 0.066656... Val Loss: 0.054553\n",
      "Epoch: 12/25... Step: 565... Loss: 0.051298... Val Loss: 0.053661\n",
      "Epoch: 12/25... Step: 570... Loss: 0.053372... Val Loss: 0.053009\n",
      "Epoch: 12/25... Step: 575... Loss: 0.048317... Val Loss: 0.052290\n",
      "Epoch: 12/25... Step: 580... Loss: 0.051225... Val Loss: 0.051677\n",
      "Epoch: 12/25... Step: 585... Loss: 0.049024... Val Loss: 0.051087\n",
      "Epoch: 12/25... Step: 590... Loss: 0.050017... Val Loss: 0.050204\n",
      "Epoch: 12/25... Step: 595... Loss: 0.071964... Val Loss: 0.049844\n",
      "Epoch: 12/25... Step: 600... Loss: 0.049695... Val Loss: 0.049544\n",
      "Epoch: 13/25... Step: 605... Loss: 0.048022... Val Loss: 0.048910\n",
      "Epoch: 13/25... Step: 610... Loss: 0.043827... Val Loss: 0.048283\n",
      "Epoch: 13/25... Step: 615... Loss: 0.044114... Val Loss: 0.047465\n",
      "Epoch: 13/25... Step: 620... Loss: 0.043939... Val Loss: 0.047049\n",
      "Epoch: 13/25... Step: 625... Loss: 0.047752... Val Loss: 0.046107\n",
      "Epoch: 13/25... Step: 630... Loss: 0.041361... Val Loss: 0.045614\n"
     ]
    },
    {
     "name": "stdout",
     "output_type": "stream",
     "text": [
      "Epoch: 13/25... Step: 635... Loss: 0.043532... Val Loss: 0.045198\n",
      "Epoch: 13/25... Step: 640... Loss: 0.045044... Val Loss: 0.044801\n",
      "Epoch: 13/25... Step: 645... Loss: 0.043502... Val Loss: 0.044211\n",
      "Epoch: 13/25... Step: 650... Loss: 0.040912... Val Loss: 0.043626\n",
      "Epoch: 14/25... Step: 655... Loss: 0.042858... Val Loss: 0.043201\n",
      "Epoch: 14/25... Step: 660... Loss: 0.095412... Val Loss: 0.042904\n",
      "Epoch: 14/25... Step: 665... Loss: 0.040437... Val Loss: 0.042402\n",
      "Epoch: 14/25... Step: 670... Loss: 0.041802... Val Loss: 0.042024\n",
      "Epoch: 14/25... Step: 675... Loss: 0.038545... Val Loss: 0.041528\n",
      "Epoch: 14/25... Step: 680... Loss: 0.168679... Val Loss: 0.041197\n",
      "Epoch: 14/25... Step: 685... Loss: 0.042262... Val Loss: 0.040802\n",
      "Epoch: 14/25... Step: 690... Loss: 0.040935... Val Loss: 0.040841\n",
      "Epoch: 14/25... Step: 695... Loss: 0.040948... Val Loss: 0.040620\n",
      "Epoch: 14/25... Step: 700... Loss: 0.046210... Val Loss: 0.040257\n",
      "Epoch: 15/25... Step: 705... Loss: 0.040453... Val Loss: 0.039165\n",
      "Epoch: 15/25... Step: 710... Loss: 0.157125... Val Loss: 0.039053\n",
      "Epoch: 15/25... Step: 715... Loss: 0.036212... Val Loss: 0.038890\n",
      "Epoch: 15/25... Step: 720... Loss: 0.039439... Val Loss: 0.038338\n",
      "Epoch: 15/25... Step: 725... Loss: 0.061916... Val Loss: 0.038135\n",
      "Epoch: 15/25... Step: 730... Loss: 0.049245... Val Loss: 0.037507\n",
      "Epoch: 15/25... Step: 735... Loss: 0.041460... Val Loss: 0.036807\n",
      "Epoch: 15/25... Step: 740... Loss: 0.040695... Val Loss: 0.036629\n",
      "Epoch: 15/25... Step: 745... Loss: 0.033953... Val Loss: 0.037139\n",
      "Epoch: 15/25... Step: 750... Loss: 0.043687... Val Loss: 0.036693\n",
      "Epoch: 16/25... Step: 755... Loss: 0.034849... Val Loss: 0.036321\n",
      "Epoch: 16/25... Step: 760... Loss: 0.125361... Val Loss: 0.036182\n",
      "Epoch: 16/25... Step: 765... Loss: 0.037827... Val Loss: 0.036705\n",
      "Epoch: 16/25... Step: 770... Loss: 0.033755... Val Loss: 0.036804\n",
      "Epoch: 16/25... Step: 775... Loss: 0.033965... Val Loss: 0.036628\n",
      "Epoch: 16/25... Step: 780... Loss: 0.038931... Val Loss: 0.036048\n",
      "Epoch: 16/25... Step: 785... Loss: 0.042686... Val Loss: 0.035346\n",
      "Epoch: 16/25... Step: 790... Loss: 0.087072... Val Loss: 0.035079\n",
      "Epoch: 16/25... Step: 795... Loss: 0.036921... Val Loss: 0.034155\n",
      "Epoch: 16/25... Step: 800... Loss: 0.032470... Val Loss: 0.033885\n",
      "Epoch: 17/25... Step: 805... Loss: 0.043764... Val Loss: 0.033419\n",
      "Epoch: 17/25... Step: 810... Loss: 0.030790... Val Loss: 0.033397\n",
      "Epoch: 17/25... Step: 815... Loss: 0.031706... Val Loss: 0.032775\n",
      "Epoch: 17/25... Step: 820... Loss: 0.032916... Val Loss: 0.032756\n",
      "Epoch: 17/25... Step: 825... Loss: 0.032304... Val Loss: 0.032274\n",
      "Epoch: 17/25... Step: 830... Loss: 0.029980... Val Loss: 0.031692\n",
      "Epoch: 17/25... Step: 835... Loss: 0.035178... Val Loss: 0.031676\n",
      "Epoch: 17/25... Step: 840... Loss: 0.109470... Val Loss: 0.031781\n",
      "Epoch: 17/25... Step: 845... Loss: 0.031003... Val Loss: 0.031584\n",
      "Epoch: 17/25... Step: 850... Loss: 0.042099... Val Loss: 0.031548\n",
      "Epoch: 18/25... Step: 855... Loss: 0.027234... Val Loss: 0.030866\n",
      "Epoch: 18/25... Step: 860... Loss: 0.086198... Val Loss: 0.031191\n",
      "Epoch: 18/25... Step: 865... Loss: 0.111374... Val Loss: 0.031439\n",
      "Epoch: 18/25... Step: 870... Loss: 0.029265... Val Loss: 0.031539\n",
      "Epoch: 18/25... Step: 875... Loss: 0.030155... Val Loss: 0.031519\n",
      "Epoch: 18/25... Step: 880... Loss: 0.030426... Val Loss: 0.031578\n",
      "Epoch: 18/25... Step: 885... Loss: 0.030224... Val Loss: 0.031413\n",
      "Epoch: 18/25... Step: 890... Loss: 0.031406... Val Loss: 0.030894\n",
      "Epoch: 18/25... Step: 895... Loss: 0.028612... Val Loss: 0.030255\n",
      "Epoch: 18/25... Step: 900... Loss: 0.028971... Val Loss: 0.029578\n",
      "Epoch: 19/25... Step: 905... Loss: 0.027967... Val Loss: 0.029277\n",
      "Epoch: 19/25... Step: 910... Loss: 0.035308... Val Loss: 0.028925\n",
      "Epoch: 19/25... Step: 915... Loss: 0.031995... Val Loss: 0.029087\n",
      "Epoch: 19/25... Step: 920... Loss: 0.026428... Val Loss: 0.029067\n",
      "Epoch: 19/25... Step: 925... Loss: 0.039508... Val Loss: 0.028730\n",
      "Epoch: 19/25... Step: 930... Loss: 0.034136... Val Loss: 0.028404\n",
      "Epoch: 19/25... Step: 935... Loss: 0.026525... Val Loss: 0.028093\n",
      "Epoch: 19/25... Step: 940... Loss: 0.025771... Val Loss: 0.027799\n",
      "Epoch: 19/25... Step: 945... Loss: 0.025883... Val Loss: 0.027907\n",
      "Epoch: 19/25... Step: 950... Loss: 0.028523... Val Loss: 0.027726\n",
      "Epoch: 20/25... Step: 955... Loss: 0.026479... Val Loss: 0.026819\n",
      "Epoch: 20/25... Step: 960... Loss: 0.025763... Val Loss: 0.027048\n",
      "Epoch: 20/25... Step: 965... Loss: 0.029756... Val Loss: 0.026669\n",
      "Epoch: 20/25... Step: 970... Loss: 0.034950... Val Loss: 0.026683\n",
      "Epoch: 20/25... Step: 975... Loss: 0.030222... Val Loss: 0.026436\n",
      "Epoch: 20/25... Step: 980... Loss: 0.026668... Val Loss: 0.026795\n",
      "Epoch: 20/25... Step: 985... Loss: 0.034799... Val Loss: 0.026459\n",
      "Epoch: 20/25... Step: 990... Loss: 0.024419... Val Loss: 0.026012\n",
      "Epoch: 20/25... Step: 995... Loss: 0.023891... Val Loss: 0.025803\n",
      "Epoch: 20/25... Step: 1000... Loss: 0.022942... Val Loss: 0.025729\n",
      "Epoch: 21/25... Step: 1005... Loss: 0.021827... Val Loss: 0.025253\n",
      "Epoch: 21/25... Step: 1010... Loss: 0.026547... Val Loss: 0.025692\n",
      "Epoch: 21/25... Step: 1015... Loss: 0.079361... Val Loss: 0.025772\n",
      "Epoch: 21/25... Step: 1020... Loss: 0.025849... Val Loss: 0.025609\n",
      "Epoch: 21/25... Step: 1025... Loss: 0.024507... Val Loss: 0.025364\n",
      "Epoch: 21/25... Step: 1030... Loss: 0.026613... Val Loss: 0.024891\n",
      "Epoch: 21/25... Step: 1035... Loss: 0.024568... Val Loss: 0.024880\n",
      "Epoch: 21/25... Step: 1040... Loss: 0.027553... Val Loss: 0.024601\n",
      "Epoch: 21/25... Step: 1045... Loss: 0.024473... Val Loss: 0.024516\n",
      "Epoch: 21/25... Step: 1050... Loss: 0.024916... Val Loss: 0.024420\n",
      "Epoch: 22/25... Step: 1055... Loss: 0.023016... Val Loss: 0.024375\n",
      "Epoch: 22/25... Step: 1060... Loss: 0.031442... Val Loss: 0.024477\n",
      "Epoch: 22/25... Step: 1065... Loss: 0.024760... Val Loss: 0.024350\n",
      "Epoch: 22/25... Step: 1070... Loss: 0.020987... Val Loss: 0.024274\n",
      "Epoch: 22/25... Step: 1075... Loss: 0.036171... Val Loss: 0.024255\n",
      "Epoch: 22/25... Step: 1080... Loss: 0.028608... Val Loss: 0.024115\n",
      "Epoch: 22/25... Step: 1085... Loss: 0.025002... Val Loss: 0.024193\n",
      "Epoch: 22/25... Step: 1090... Loss: 0.023464... Val Loss: 0.023924\n",
      "Epoch: 22/25... Step: 1095... Loss: 0.034771... Val Loss: 0.023771\n",
      "Epoch: 22/25... Step: 1100... Loss: 0.021913... Val Loss: 0.023643\n",
      "Epoch: 23/25... Step: 1105... Loss: 0.021144... Val Loss: 0.023837\n",
      "Epoch: 23/25... Step: 1110... Loss: 0.019802... Val Loss: 0.023890\n",
      "Epoch: 23/25... Step: 1115... Loss: 0.025151... Val Loss: 0.023506\n",
      "Epoch: 23/25... Step: 1120... Loss: 0.029227... Val Loss: 0.023372\n",
      "Epoch: 23/25... Step: 1125... Loss: 0.021013... Val Loss: 0.022928\n",
      "Epoch: 23/25... Step: 1130... Loss: 0.020898... Val Loss: 0.022367\n",
      "Epoch: 23/25... Step: 1135... Loss: 0.019042... Val Loss: 0.022853\n",
      "Epoch: 23/25... Step: 1140... Loss: 0.020711... Val Loss: 0.022993\n",
      "Epoch: 23/25... Step: 1145... Loss: 0.024246... Val Loss: 0.022489\n",
      "Epoch: 23/25... Step: 1150... Loss: 0.021643... Val Loss: 0.022431\n",
      "Epoch: 24/25... Step: 1155... Loss: 0.021156... Val Loss: 0.022504\n",
      "Epoch: 24/25... Step: 1160... Loss: 0.021369... Val Loss: 0.022356\n",
      "Epoch: 24/25... Step: 1165... Loss: 0.023933... Val Loss: 0.022969\n",
      "Epoch: 24/25... Step: 1170... Loss: 0.027436... Val Loss: 0.022668\n",
      "Epoch: 24/25... Step: 1175... Loss: 0.021622... Val Loss: 0.022973\n",
      "Epoch: 24/25... Step: 1180... Loss: 0.066826... Val Loss: 0.022637\n",
      "Epoch: 24/25... Step: 1185... Loss: 0.019544... Val Loss: 0.022144\n",
      "Epoch: 24/25... Step: 1190... Loss: 0.020629... Val Loss: 0.021776\n",
      "Epoch: 24/25... Step: 1195... Loss: 0.025598... Val Loss: 0.021424\n",
      "Epoch: 24/25... Step: 1200... Loss: 0.028318... Val Loss: 0.020877\n",
      "Epoch: 25/25... Step: 1205... Loss: 0.016927... Val Loss: 0.020785\n",
      "Epoch: 25/25... Step: 1210... Loss: 0.024099... Val Loss: 0.020532\n",
      "Epoch: 25/25... Step: 1215... Loss: 0.018617... Val Loss: 0.020813\n",
      "Epoch: 25/25... Step: 1220... Loss: 0.030003... Val Loss: 0.020409\n",
      "Epoch: 25/25... Step: 1225... Loss: 0.023487... Val Loss: 0.020270\n",
      "Epoch: 25/25... Step: 1230... Loss: 0.024790... Val Loss: 0.019754\n",
      "Epoch: 25/25... Step: 1235... Loss: 0.017578... Val Loss: 0.020116\n",
      "Epoch: 25/25... Step: 1240... Loss: 0.018053... Val Loss: 0.020423\n",
      "Epoch: 25/25... Step: 1245... Loss: 0.072999... Val Loss: 0.020468\n",
      "Epoch: 25/25... Step: 1250... Loss: 0.020706... Val Loss: 0.020869\n"
     ]
    }
   ],
   "source": [
    "model_GRU_bce, (bce_loss_list, bce_acc_list, bce_overall_val_loss_list) = train_model(model_GRU_bce, bce_loss_function, \n",
    "                                                                                       25, 5, RNN_flag=True)\n",
    "\n",
    "model_GRU_bce = model_GRU_bce.eval()\n",
    "torch.save(model_GRU_bce, \"experiments3/model_GRU_bce.pth\")"
   ]
  },
  {
   "cell_type": "code",
   "execution_count": 41,
   "metadata": {},
   "outputs": [
    {
     "data": {
      "text/plain": [
       "GRU(\n",
       "  (gru): GRU(1, 8, batch_first=True, dropout=0.1)\n",
       "  (linear_1): Linear(in_features=8, out_features=1, bias=True)\n",
       "  (activation): Sigmoid()\n",
       ")"
      ]
     },
     "execution_count": 41,
     "metadata": {},
     "output_type": "execute_result"
    }
   ],
   "source": [
    "model_GRU_combined = GRU(input_size=input_size, output_size=output_size, hidden_dim=hidden_dim, \n",
    "                         n_layers=n_layers, drop_prob=drop_prob)\n",
    "first_bce_loss_function = torch.nn.BCELoss()\n",
    "second_custom_loss_function = CustomLoss()\n",
    "model_GRU_combined.to(device)"
   ]
  },
  {
   "cell_type": "code",
   "execution_count": 42,
   "metadata": {
    "scrolled": true
   },
   "outputs": [
    {
     "name": "stdout",
     "output_type": "stream",
     "text": [
      "Epoch: 1/10... Step: 5... Loss: 0.883593... Val Loss: 0.850567\n",
      "Epoch: 1/10... Step: 10... Loss: 0.841351... Val Loss: 0.835632\n",
      "Epoch: 1/10... Step: 15... Loss: 0.862896... Val Loss: 0.820984\n",
      "Epoch: 1/10... Step: 20... Loss: 0.791613... Val Loss: 0.799926\n",
      "Epoch: 1/10... Step: 25... Loss: 0.771582... Val Loss: 0.784928\n",
      "Epoch: 1/10... Step: 30... Loss: 0.828387... Val Loss: 0.772710\n",
      "Epoch: 1/10... Step: 35... Loss: 0.732158... Val Loss: 0.757010\n",
      "Epoch: 1/10... Step: 40... Loss: 0.725500... Val Loss: 0.743123\n",
      "Epoch: 1/10... Step: 45... Loss: 0.720836... Val Loss: 0.725789\n",
      "Epoch: 1/10... Step: 50... Loss: 0.728424... Val Loss: 0.714847\n",
      "Epoch: 2/10... Step: 55... Loss: 0.705886... Val Loss: 0.702584\n",
      "Epoch: 2/10... Step: 60... Loss: 0.696247... Val Loss: 0.691272\n",
      "Epoch: 2/10... Step: 65... Loss: 0.716279... Val Loss: 0.677059\n",
      "Epoch: 2/10... Step: 70... Loss: 0.649020... Val Loss: 0.664323\n",
      "Epoch: 2/10... Step: 75... Loss: 0.670717... Val Loss: 0.651993\n",
      "Epoch: 2/10... Step: 80... Loss: 0.668296... Val Loss: 0.635734\n",
      "Epoch: 2/10... Step: 85... Loss: 0.578100... Val Loss: 0.622367\n",
      "Epoch: 2/10... Step: 90... Loss: 0.647555... Val Loss: 0.607247\n",
      "Epoch: 2/10... Step: 95... Loss: 0.579744... Val Loss: 0.595765\n",
      "Epoch: 2/10... Step: 100... Loss: 0.571744... Val Loss: 0.581899\n",
      "Epoch: 3/10... Step: 105... Loss: 0.542690... Val Loss: 0.562832\n",
      "Epoch: 3/10... Step: 110... Loss: 0.531945... Val Loss: 0.546242\n",
      "Epoch: 3/10... Step: 115... Loss: 0.483455... Val Loss: 0.533923\n",
      "Epoch: 3/10... Step: 120... Loss: 0.526183... Val Loss: 0.520079\n",
      "Epoch: 3/10... Step: 125... Loss: 0.520718... Val Loss: 0.506098\n",
      "Epoch: 3/10... Step: 130... Loss: 0.460723... Val Loss: 0.482211\n",
      "Epoch: 3/10... Step: 135... Loss: 0.493041... Val Loss: 0.467509\n",
      "Epoch: 3/10... Step: 140... Loss: 0.423470... Val Loss: 0.454350\n",
      "Epoch: 3/10... Step: 145... Loss: 0.446509... Val Loss: 0.441029\n",
      "Epoch: 3/10... Step: 150... Loss: 0.401105... Val Loss: 0.420616\n",
      "Epoch: 4/10... Step: 155... Loss: 0.392941... Val Loss: 0.404909\n",
      "Epoch: 4/10... Step: 160... Loss: 0.382615... Val Loss: 0.383410\n",
      "Epoch: 4/10... Step: 165... Loss: 0.399470... Val Loss: 0.368602\n",
      "Epoch: 4/10... Step: 170... Loss: 0.352334... Val Loss: 0.362256\n",
      "Epoch: 4/10... Step: 175... Loss: 0.336919... Val Loss: 0.350730\n",
      "Epoch: 4/10... Step: 180... Loss: 0.380477... Val Loss: 0.344435\n",
      "Epoch: 4/10... Step: 185... Loss: 0.350085... Val Loss: 0.335171\n",
      "Epoch: 4/10... Step: 190... Loss: 0.320621... Val Loss: 0.331700\n",
      "Epoch: 4/10... Step: 195... Loss: 0.338327... Val Loss: 0.322749\n",
      "Epoch: 4/10... Step: 200... Loss: 0.269369... Val Loss: 0.313764\n",
      "Epoch: 5/10... Step: 205... Loss: 0.317552... Val Loss: 0.306818\n",
      "Epoch: 5/10... Step: 210... Loss: 0.322425... Val Loss: 0.299045\n",
      "Epoch: 5/10... Step: 215... Loss: 0.299941... Val Loss: 0.296637\n",
      "Epoch: 5/10... Step: 220... Loss: 0.332630... Val Loss: 0.286195\n",
      "Epoch: 5/10... Step: 225... Loss: 0.261039... Val Loss: 0.282675\n",
      "Epoch: 5/10... Step: 230... Loss: 0.283913... Val Loss: 0.278644\n",
      "Epoch: 5/10... Step: 235... Loss: 0.244949... Val Loss: 0.273895\n",
      "Epoch: 5/10... Step: 240... Loss: 0.297196... Val Loss: 0.270876\n",
      "Epoch: 5/10... Step: 245... Loss: 0.268747... Val Loss: 0.266011\n",
      "Epoch: 5/10... Step: 250... Loss: 0.284106... Val Loss: 0.258167\n",
      "Epoch: 6/10... Step: 255... Loss: 0.255328... Val Loss: 0.254518\n",
      "Epoch: 6/10... Step: 260... Loss: 0.285889... Val Loss: 0.247315\n",
      "Epoch: 6/10... Step: 265... Loss: 0.308882... Val Loss: 0.246183\n",
      "Epoch: 6/10... Step: 270... Loss: 0.294690... Val Loss: 0.241352\n",
      "Epoch: 6/10... Step: 275... Loss: 0.223339... Val Loss: 0.241394\n",
      "Epoch: 6/10... Step: 280... Loss: 0.230642... Val Loss: 0.239808\n",
      "Epoch: 6/10... Step: 285... Loss: 0.222563... Val Loss: 0.230599\n",
      "Epoch: 6/10... Step: 290... Loss: 0.242958... Val Loss: 0.232725\n",
      "Epoch: 6/10... Step: 295... Loss: 0.247000... Val Loss: 0.226123\n",
      "Epoch: 6/10... Step: 300... Loss: 0.210249... Val Loss: 0.221830\n",
      "Epoch: 7/10... Step: 305... Loss: 0.220879... Val Loss: 0.219445\n",
      "Epoch: 7/10... Step: 310... Loss: 0.262257... Val Loss: 0.217287\n",
      "Epoch: 7/10... Step: 315... Loss: 0.199394... Val Loss: 0.213115\n",
      "Epoch: 7/10... Step: 320... Loss: 0.190943... Val Loss: 0.208487\n",
      "Epoch: 7/10... Step: 325... Loss: 0.221101... Val Loss: 0.204495\n",
      "Epoch: 7/10... Step: 330... Loss: 0.217583... Val Loss: 0.200502\n",
      "Epoch: 7/10... Step: 335... Loss: 0.214323... Val Loss: 0.200206\n",
      "Epoch: 7/10... Step: 340... Loss: 0.209117... Val Loss: 0.197699\n",
      "Epoch: 7/10... Step: 345... Loss: 0.255526... Val Loss: 0.192812\n",
      "Epoch: 7/10... Step: 350... Loss: 0.182448... Val Loss: 0.189778\n",
      "Epoch: 8/10... Step: 355... Loss: 0.190407... Val Loss: 0.190635\n",
      "Epoch: 8/10... Step: 360... Loss: 0.179973... Val Loss: 0.188410\n",
      "Epoch: 8/10... Step: 365... Loss: 0.148432... Val Loss: 0.181819\n",
      "Epoch: 8/10... Step: 370... Loss: 0.177773... Val Loss: 0.179201\n",
      "Epoch: 8/10... Step: 375... Loss: 0.184838... Val Loss: 0.175892\n",
      "Epoch: 8/10... Step: 380... Loss: 0.162426... Val Loss: 0.174247\n",
      "Epoch: 8/10... Step: 385... Loss: 0.181788... Val Loss: 0.172343\n",
      "Epoch: 8/10... Step: 390... Loss: 0.121179... Val Loss: 0.166200\n",
      "Epoch: 8/10... Step: 395... Loss: 0.168718... Val Loss: 0.163920\n",
      "Epoch: 8/10... Step: 400... Loss: 0.171819... Val Loss: 0.159344\n",
      "Epoch: 9/10... Step: 405... Loss: 0.145521... Val Loss: 0.155044\n",
      "Epoch: 9/10... Step: 410... Loss: 0.154183... Val Loss: 0.152961\n",
      "Epoch: 9/10... Step: 415... Loss: 0.113429... Val Loss: 0.151123\n",
      "Epoch: 9/10... Step: 420... Loss: 0.142608... Val Loss: 0.148027\n",
      "Epoch: 9/10... Step: 425... Loss: 0.147256... Val Loss: 0.142975\n",
      "Epoch: 9/10... Step: 430... Loss: 0.159291... Val Loss: 0.139289\n",
      "Epoch: 9/10... Step: 435... Loss: 0.188783... Val Loss: 0.139022\n",
      "Epoch: 9/10... Step: 440... Loss: 0.152268... Val Loss: 0.135648\n",
      "Epoch: 9/10... Step: 445... Loss: 0.101083... Val Loss: 0.132865\n",
      "Epoch: 9/10... Step: 450... Loss: 0.123671... Val Loss: 0.133242\n",
      "Epoch: 10/10... Step: 455... Loss: 0.155896... Val Loss: 0.130174\n",
      "Epoch: 10/10... Step: 460... Loss: 0.104062... Val Loss: 0.128523\n",
      "Epoch: 10/10... Step: 465... Loss: 0.234599... Val Loss: 0.126460\n",
      "Epoch: 10/10... Step: 470... Loss: 0.140069... Val Loss: 0.124556\n",
      "Epoch: 10/10... Step: 475... Loss: 0.125848... Val Loss: 0.122047\n",
      "Epoch: 10/10... Step: 480... Loss: 0.129787... Val Loss: 0.121946\n",
      "Epoch: 10/10... Step: 485... Loss: 0.117910... Val Loss: 0.118660\n",
      "Epoch: 10/10... Step: 490... Loss: 0.087563... Val Loss: 0.118974\n",
      "Epoch: 10/10... Step: 495... Loss: 0.123929... Val Loss: 0.115185\n",
      "Epoch: 10/10... Step: 500... Loss: 0.100426... Val Loss: 0.111429\n",
      "Epoch: 1/15... Step: 5... Loss: -9.918104... Val Loss: -10.655839\n",
      "Epoch: 1/15... Step: 10... Loss: -11.077497... Val Loss: -11.345150\n",
      "Epoch: 1/15... Step: 15... Loss: -9.813345... Val Loss: -11.430808\n",
      "Epoch: 1/15... Step: 20... Loss: -13.154767... Val Loss: -11.730566\n",
      "Epoch: 1/15... Step: 25... Loss: -9.515715... Val Loss: -11.964358\n",
      "Epoch: 1/15... Step: 30... Loss: -13.711757... Val Loss: -11.563881\n",
      "Epoch: 1/15... Step: 35... Loss: -8.692067... Val Loss: -12.365579\n",
      "Epoch: 1/15... Step: 40... Loss: -14.353645... Val Loss: -11.630860\n",
      "Epoch: 1/15... Step: 45... Loss: -12.737354... Val Loss: -11.815419\n",
      "Epoch: 1/15... Step: 50... Loss: -10.476503... Val Loss: -12.353412\n",
      "Epoch: 2/15... Step: 55... Loss: -14.099405... Val Loss: -12.338532\n",
      "Epoch: 2/15... Step: 60... Loss: -11.339115... Val Loss: -12.079601\n",
      "Epoch: 2/15... Step: 65... Loss: -12.582134... Val Loss: -12.182966\n",
      "Epoch: 2/15... Step: 70... Loss: -13.028415... Val Loss: -12.348926\n",
      "Epoch: 2/15... Step: 75... Loss: -12.655838... Val Loss: -11.989064\n",
      "Epoch: 2/15... Step: 80... Loss: -14.235028... Val Loss: -13.166034\n",
      "Epoch: 2/15... Step: 85... Loss: -8.729843... Val Loss: -12.790875\n",
      "Epoch: 2/15... Step: 90... Loss: -15.645852... Val Loss: -13.365466\n",
      "Epoch: 2/15... Step: 95... Loss: -11.711629... Val Loss: -12.704432\n",
      "Epoch: 2/15... Step: 100... Loss: -17.001965... Val Loss: -12.752695\n",
      "Epoch: 3/15... Step: 105... Loss: -7.564036... Val Loss: -13.079221\n",
      "Epoch: 3/15... Step: 110... Loss: -13.308516... Val Loss: -13.145863\n",
      "Epoch: 3/15... Step: 115... Loss: -13.006123... Val Loss: -13.266470\n",
      "Epoch: 3/15... Step: 120... Loss: -15.456063... Val Loss: -13.266305\n",
      "Epoch: 3/15... Step: 125... Loss: -14.517248... Val Loss: -12.725657\n",
      "Epoch: 3/15... Step: 130... Loss: -9.448757... Val Loss: -13.429419\n"
     ]
    },
    {
     "name": "stdout",
     "output_type": "stream",
     "text": [
      "Epoch: 3/15... Step: 135... Loss: -15.480270... Val Loss: -14.080087\n",
      "Epoch: 3/15... Step: 140... Loss: -9.524517... Val Loss: -13.389940\n",
      "Epoch: 3/15... Step: 145... Loss: -17.940294... Val Loss: -14.103581\n",
      "Epoch: 3/15... Step: 150... Loss: -14.444654... Val Loss: -12.606333\n",
      "Epoch: 4/15... Step: 155... Loss: -14.753384... Val Loss: -13.468785\n",
      "Epoch: 4/15... Step: 160... Loss: -12.741798... Val Loss: -13.576197\n",
      "Epoch: 4/15... Step: 165... Loss: -15.446454... Val Loss: -14.699258\n",
      "Epoch: 4/15... Step: 170... Loss: -13.900204... Val Loss: -14.230316\n",
      "Epoch: 4/15... Step: 175... Loss: -10.601283... Val Loss: -13.815295\n",
      "Epoch: 4/15... Step: 180... Loss: -11.900663... Val Loss: -13.845043\n",
      "Epoch: 4/15... Step: 185... Loss: -7.769500... Val Loss: -14.317014\n",
      "Epoch: 4/15... Step: 190... Loss: -13.737176... Val Loss: -13.378828\n",
      "Epoch: 4/15... Step: 195... Loss: -17.161606... Val Loss: -13.551160\n",
      "Epoch: 4/15... Step: 200... Loss: -10.461628... Val Loss: -13.655725\n",
      "Epoch: 5/15... Step: 205... Loss: -8.625338... Val Loss: -14.299527\n",
      "Epoch: 5/15... Step: 210... Loss: -12.919569... Val Loss: -14.122001\n",
      "Epoch: 5/15... Step: 215... Loss: -12.825575... Val Loss: -13.864662\n",
      "Epoch: 5/15... Step: 220... Loss: -16.226109... Val Loss: -14.625703\n",
      "Epoch: 5/15... Step: 225... Loss: -17.926826... Val Loss: -13.638058\n",
      "Epoch: 5/15... Step: 230... Loss: -13.629632... Val Loss: -13.947012\n",
      "Epoch: 5/15... Step: 235... Loss: -19.311270... Val Loss: -14.220019\n",
      "Epoch: 5/15... Step: 240... Loss: -15.318063... Val Loss: -14.277176\n",
      "Epoch: 5/15... Step: 245... Loss: -11.377563... Val Loss: -14.752858\n",
      "Epoch: 5/15... Step: 250... Loss: -15.019419... Val Loss: -13.653380\n",
      "Epoch: 6/15... Step: 255... Loss: -10.541394... Val Loss: -14.011952\n",
      "Epoch: 6/15... Step: 260... Loss: -12.439243... Val Loss: -14.786159\n",
      "Epoch: 6/15... Step: 265... Loss: -14.743281... Val Loss: -14.377228\n",
      "Epoch: 6/15... Step: 270... Loss: -11.765353... Val Loss: -14.356994\n",
      "Epoch: 6/15... Step: 275... Loss: -11.879147... Val Loss: -14.166030\n",
      "Epoch: 6/15... Step: 280... Loss: -8.794078... Val Loss: -14.734090\n",
      "Epoch: 6/15... Step: 285... Loss: -12.694298... Val Loss: -15.205995\n",
      "Epoch: 6/15... Step: 290... Loss: -10.655133... Val Loss: -14.506197\n",
      "Epoch: 6/15... Step: 295... Loss: -15.971189... Val Loss: -14.511100\n",
      "Epoch: 6/15... Step: 300... Loss: -19.849785... Val Loss: -14.261543\n",
      "Epoch: 7/15... Step: 305... Loss: -18.071857... Val Loss: -14.505986\n",
      "Epoch: 7/15... Step: 310... Loss: -12.353565... Val Loss: -15.074392\n",
      "Epoch: 7/15... Step: 315... Loss: -13.156781... Val Loss: -14.813104\n",
      "Epoch: 7/15... Step: 320... Loss: -13.854382... Val Loss: -14.842886\n",
      "Epoch: 7/15... Step: 325... Loss: -13.844173... Val Loss: -14.773460\n",
      "Epoch: 7/15... Step: 330... Loss: -13.754257... Val Loss: -14.651459\n",
      "Epoch: 7/15... Step: 335... Loss: -12.801293... Val Loss: -15.019839\n",
      "Epoch: 7/15... Step: 340... Loss: -9.914280... Val Loss: -15.137559\n",
      "Epoch: 7/15... Step: 345... Loss: -16.390659... Val Loss: -14.063615\n",
      "Epoch: 7/15... Step: 350... Loss: -11.046421... Val Loss: -14.884333\n",
      "Epoch: 8/15... Step: 355... Loss: -12.870351... Val Loss: -15.028419\n",
      "Epoch: 8/15... Step: 360... Loss: -16.653864... Val Loss: -14.384058\n",
      "Epoch: 8/15... Step: 365... Loss: -15.755583... Val Loss: -14.950589\n",
      "Epoch: 8/15... Step: 370... Loss: -12.520635... Val Loss: -15.643293\n",
      "Epoch: 8/15... Step: 375... Loss: -16.791542... Val Loss: -15.310014\n",
      "Epoch: 8/15... Step: 380... Loss: -16.466177... Val Loss: -14.622095\n",
      "Epoch: 8/15... Step: 385... Loss: -20.149761... Val Loss: -14.567842\n",
      "Epoch: 8/15... Step: 390... Loss: -15.717979... Val Loss: -14.526543\n",
      "Epoch: 8/15... Step: 395... Loss: -15.839669... Val Loss: -15.443932\n",
      "Epoch: 8/15... Step: 400... Loss: -15.680919... Val Loss: -14.802344\n",
      "Epoch: 9/15... Step: 405... Loss: -17.465946... Val Loss: -15.403068\n",
      "Epoch: 9/15... Step: 410... Loss: -15.446517... Val Loss: -15.299527\n",
      "Epoch: 9/15... Step: 415... Loss: -13.284268... Val Loss: -15.685530\n",
      "Epoch: 9/15... Step: 420... Loss: -13.805883... Val Loss: -15.393266\n",
      "Epoch: 9/15... Step: 425... Loss: -13.689997... Val Loss: -15.478840\n",
      "Epoch: 9/15... Step: 430... Loss: -9.774929... Val Loss: -14.811127\n",
      "Epoch: 9/15... Step: 435... Loss: -16.308853... Val Loss: -15.368451\n",
      "Epoch: 9/15... Step: 440... Loss: -12.088581... Val Loss: -15.982418\n",
      "Epoch: 9/15... Step: 445... Loss: -16.304287... Val Loss: -14.092529\n",
      "Epoch: 9/15... Step: 450... Loss: -19.796318... Val Loss: -15.282489\n",
      "Epoch: 10/15... Step: 455... Loss: -17.626738... Val Loss: -15.767665\n",
      "Epoch: 10/15... Step: 460... Loss: -15.826377... Val Loss: -15.390944\n",
      "Epoch: 10/15... Step: 465... Loss: -14.172966... Val Loss: -16.078051\n",
      "Epoch: 10/15... Step: 470... Loss: -17.075356... Val Loss: -16.595157\n",
      "Epoch: 10/15... Step: 475... Loss: -11.601755... Val Loss: -15.272384\n",
      "Epoch: 10/15... Step: 480... Loss: -15.014114... Val Loss: -15.388753\n",
      "Epoch: 10/15... Step: 485... Loss: -18.800489... Val Loss: -15.991729\n",
      "Epoch: 10/15... Step: 490... Loss: -16.117182... Val Loss: -15.192858\n",
      "Epoch: 10/15... Step: 495... Loss: -18.280323... Val Loss: -16.071359\n",
      "Epoch: 10/15... Step: 500... Loss: -16.330339... Val Loss: -15.757113\n",
      "Epoch: 11/15... Step: 505... Loss: -15.284719... Val Loss: -16.486070\n",
      "Epoch: 11/15... Step: 510... Loss: -20.041298... Val Loss: -16.711335\n",
      "Epoch: 11/15... Step: 515... Loss: -17.443838... Val Loss: -15.587598\n",
      "Epoch: 11/15... Step: 520... Loss: -18.715826... Val Loss: -16.374370\n",
      "Epoch: 11/15... Step: 525... Loss: -18.311605... Val Loss: -16.064674\n",
      "Epoch: 11/15... Step: 530... Loss: -20.035021... Val Loss: -16.361090\n",
      "Epoch: 11/15... Step: 535... Loss: -15.347595... Val Loss: -16.537659\n",
      "Epoch: 11/15... Step: 540... Loss: -18.179546... Val Loss: -17.346508\n",
      "Epoch: 11/15... Step: 545... Loss: -18.690706... Val Loss: -16.174166\n",
      "Epoch: 11/15... Step: 550... Loss: -21.443834... Val Loss: -17.120340\n",
      "Epoch: 12/15... Step: 555... Loss: -14.389945... Val Loss: -16.718047\n",
      "Epoch: 12/15... Step: 560... Loss: -22.235607... Val Loss: -17.303665\n",
      "Epoch: 12/15... Step: 565... Loss: -19.390638... Val Loss: -18.039738\n",
      "Epoch: 12/15... Step: 570... Loss: -22.494984... Val Loss: -17.374718\n",
      "Epoch: 12/15... Step: 575... Loss: -18.843761... Val Loss: -18.183508\n",
      "Epoch: 12/15... Step: 580... Loss: -20.784845... Val Loss: -18.036182\n",
      "Epoch: 12/15... Step: 585... Loss: -20.876144... Val Loss: -18.341239\n",
      "Epoch: 12/15... Step: 590... Loss: -19.452604... Val Loss: -18.388556\n",
      "Epoch: 12/15... Step: 595... Loss: -19.433203... Val Loss: -19.599882\n",
      "Epoch: 12/15... Step: 600... Loss: -17.153896... Val Loss: -19.000200\n",
      "Epoch: 13/15... Step: 605... Loss: -15.944003... Val Loss: -19.691799\n",
      "Epoch: 13/15... Step: 610... Loss: -21.335909... Val Loss: -20.075751\n",
      "Epoch: 13/15... Step: 615... Loss: -22.541691... Val Loss: -20.709572\n",
      "Epoch: 13/15... Step: 620... Loss: -16.187805... Val Loss: -19.863641\n",
      "Epoch: 13/15... Step: 625... Loss: -28.618172... Val Loss: -20.927942\n",
      "Epoch: 13/15... Step: 630... Loss: -23.953074... Val Loss: -21.514977\n",
      "Epoch: 13/15... Step: 635... Loss: -27.840380... Val Loss: -20.289268\n",
      "Epoch: 13/15... Step: 640... Loss: -24.402603... Val Loss: -21.921251\n",
      "Epoch: 13/15... Step: 645... Loss: -16.866705... Val Loss: -21.305869\n",
      "Epoch: 13/15... Step: 650... Loss: -16.689484... Val Loss: -21.655245\n",
      "Epoch: 14/15... Step: 655... Loss: -19.009756... Val Loss: -21.233615\n",
      "Epoch: 14/15... Step: 660... Loss: -19.027954... Val Loss: -21.795049\n",
      "Epoch: 14/15... Step: 665... Loss: -12.954018... Val Loss: -23.531613\n",
      "Epoch: 14/15... Step: 670... Loss: -21.922384... Val Loss: -21.832036\n",
      "Epoch: 14/15... Step: 675... Loss: -21.481733... Val Loss: -21.987078\n",
      "Epoch: 14/15... Step: 680... Loss: -27.041288... Val Loss: -23.363861\n",
      "Epoch: 14/15... Step: 685... Loss: -29.082680... Val Loss: -21.497724\n",
      "Epoch: 14/15... Step: 690... Loss: -27.893114... Val Loss: -22.293314\n",
      "Epoch: 14/15... Step: 695... Loss: -14.285475... Val Loss: -22.886151\n",
      "Epoch: 14/15... Step: 700... Loss: -25.854473... Val Loss: -21.464152\n",
      "Epoch: 15/15... Step: 705... Loss: -24.685108... Val Loss: -22.326350\n",
      "Epoch: 15/15... Step: 710... Loss: -15.314128... Val Loss: -24.351056\n",
      "Epoch: 15/15... Step: 715... Loss: -19.766165... Val Loss: -24.498187\n",
      "Epoch: 15/15... Step: 720... Loss: -23.201429... Val Loss: -21.150808\n",
      "Epoch: 15/15... Step: 725... Loss: -14.673822... Val Loss: -22.440037\n"
     ]
    },
    {
     "name": "stdout",
     "output_type": "stream",
     "text": [
      "Epoch: 15/15... Step: 730... Loss: -25.469257... Val Loss: -23.779092\n",
      "Epoch: 15/15... Step: 735... Loss: -22.060432... Val Loss: -23.280481\n",
      "Epoch: 15/15... Step: 740... Loss: -35.337536... Val Loss: -22.939781\n",
      "Epoch: 15/15... Step: 745... Loss: -20.480900... Val Loss: -23.982394\n",
      "Epoch: 15/15... Step: 750... Loss: -25.148939... Val Loss: -25.013938\n"
     ]
    }
   ],
   "source": [
    "model_GRU_combined, (bce_loss_list, bce_acc_list, bce_overall_val_loss_list) = train_model(model_GRU_combined, first_bce_loss_function, 10, 5, \n",
    "                                    RNN_flag=True)\n",
    "\n",
    "\n",
    "model_GRU_combined, (bce_loss_list, bce_acc_list, bce_overall_val_loss_list) = train_model(model_GRU_combined, second_custom_loss_function, 15, 5, \n",
    "                                    RNN_flag=True)\n",
    "\n",
    "model_GRU_combined = model_GRU_combined.eval()\n",
    "torch.save(model_GRU_combined, \"experiments3/model_GRU_combined.pth\")"
   ]
  },
  {
   "cell_type": "markdown",
   "metadata": {},
   "source": [
    "# Calculate metrics for different models"
   ]
  },
  {
   "cell_type": "code",
   "execution_count": 43,
   "metadata": {},
   "outputs": [],
   "source": [
    "def evaluate_metrics(y_true, y_pred, threshold=0.5):\n",
    "    \"\"\"\n",
    "    Evaluate metrics for change point detection\n",
    "    We assume, that there is no more than one change index in data (so, either 0 or 1 change)\n",
    "    Inputs\n",
    "    y_true : torch.Tensor\n",
    "      true labels\n",
    "    y_pred : torch.Tensor\n",
    "      change probabiltiy\n",
    "    threshold : float\n",
    "      detection threshold\n",
    "      \n",
    "    Returns\n",
    "    false_positive : int\n",
    "      number of false positives\n",
    "    false_negative : int\n",
    "      number of false negatives\n",
    "    delay : int\n",
    "      detection delay\n",
    "    accuracy : float\n",
    "      y_pred accuracy given y_truei\n",
    "    \"\"\"\n",
    "    delay = 0\n",
    "    false_positive = 0\n",
    "    false_negative = 0\n",
    "    true_negative = 0\n",
    "\n",
    "    index_real = torch.where(y_true != y_true[0])[0] # indexes with real changes\n",
    "    index_detected = torch.where((y_pred > threshold).long() != y_true[0])[0] # indexes with predicted changes\n",
    "\n",
    "    if len(index_real) > 0:\n",
    "        real_change_index = index_real[0]\n",
    "\n",
    "        if len(index_detected) > 0:\n",
    "            index_sub_detected = torch.where(index_detected >= real_change_index)[0]\n",
    "\n",
    "            if len(index_sub_detected) == len(index_detected):\n",
    "                false_positive_delay = real_change_index.item()\n",
    "                detected_change_index = index_detected[0]\n",
    "                delay = (detected_change_index - real_change_index).item()\n",
    "            else:\n",
    "                false_positive_delay = index_detected[0].item()\n",
    "                delay = 0\n",
    "                false_positive += 1\n",
    "                \n",
    "        else:\n",
    "            false_positive_delay = seq_len\n",
    "            delay = (seq_len - real_change_index).item()\n",
    "            false_negative += 1\n",
    "\n",
    "    else:\n",
    "        if len(index_detected) > 0:\n",
    "            false_positive_delay = index_detected[0].item()\n",
    "            false_positive += 1\n",
    "        else:\n",
    "            false_positive_delay = seq_len\n",
    "            true_negative += 1\n",
    "    \n",
    "    accuracy = ((y_pred > threshold).long() == y_true).float().mean().item()\n",
    "    \n",
    "    return false_positive, false_negative, delay, false_positive_delay, accuracy"
   ]
  },
  {
   "cell_type": "code",
   "execution_count": 44,
   "metadata": {},
   "outputs": [],
   "source": [
    "test_batch_size = 16"
   ]
  },
  {
   "cell_type": "code",
   "execution_count": 45,
   "metadata": {},
   "outputs": [],
   "source": [
    "def get_quality_metrics(test_loader, model, threshold=0.5, LSTM_flag=False, RNN_flag=False):\n",
    "    test_loss_list = []\n",
    "    test_acc_list = []\n",
    "\n",
    "    positive_number = 0 \n",
    "    negative_number = 0\n",
    "    fp_list = []\n",
    "    fn_list = []\n",
    "    delay_list = []\n",
    "    fp_delay_list = []\n",
    "    accuracy_list = []\n",
    "\n",
    "    model.eval()\n",
    "    for test_inputs, test_true_labels in test_loader:\n",
    "            \n",
    "        test_inputs, test_true_labels = test_inputs.to(device), test_true_labels.to(device)\n",
    "\n",
    "        if LSTM_flag:\n",
    "            test_hidden = model.init_hidden(test_batch_size)\n",
    "            test_hidden = tuple([each.data for each in test_hidden])\n",
    "            test_predictions, test_hidden = model(test_inputs, test_hidden)\n",
    "        elif RNN_flag:\n",
    "            test_hidden = torch.zeros(1, test_batch_size, hidden_dim).to(device)\n",
    "            test_predictions, test_hidden = model(test_inputs, test_hidden)            \n",
    "        else:\n",
    "            test_predictions = model(test_inputs)\n",
    "            \n",
    "        test_loss = loss_function(test_predictions.squeeze(), test_true_labels.float())\n",
    "        test_loss_list += [test_loss.cpu().clone().detach()]\n",
    "\n",
    "        for i in range(0, test_batch_size):\n",
    "            curr_labels = test_true_labels[i]\n",
    "            curr_predictions = test_predictions[i]\n",
    "            \n",
    "            # torch.rand_like\n",
    "            curr_fp, curr_fn, curr_delay, curr_fp_delay, curr_accuracy = evaluate_metrics(curr_labels, curr_predictions, \n",
    "                                                                           threshold)\n",
    "\n",
    "            max_difference = np.abs((curr_labels.max() - curr_labels.min()).item())\n",
    "            if max_difference: \n",
    "                delay_list.append(curr_delay)\n",
    "            positive_number += (max_difference > 0)\n",
    "            negative_number += 1 - (max_difference > 0)\n",
    "\n",
    "            fp_list.append(curr_fp)\n",
    "            fn_list.append(curr_fn)\n",
    "            fp_delay_list.append(curr_fp_delay)\n",
    "            accuracy_list.append(curr_accuracy)\n",
    "\n",
    "        test_acc_list.append(np.mean(accuracy_list[-test_batch_size:]))\n",
    "        \n",
    "    return (positive_number, negative_number, np.mean(test_loss_list), np.mean(test_acc_list), np.mean(delay_list),\n",
    "            np.mean(fp_delay_list), np.sum(fp_list), np.sum(fn_list))"
   ]
  },
  {
   "cell_type": "code",
   "execution_count": 46,
   "metadata": {},
   "outputs": [],
   "source": [
    "def get_pareto_metrics_for_threshold(model, test_loader, threshold_list, LSTM_flag=False, RNN_flag=False):\n",
    "    fp_number_list = []\n",
    "    fn_number_list = []\n",
    "    delay_list = []\n",
    "    fp_delay_list = []\n",
    "    for threshold in threshold_list:\n",
    "        # test_loader = prepare_loader(test_data, test_labels, seq_len, input_size, batch_size)\n",
    "\n",
    "        (positive_number, negative_number, test_loss, \n",
    "         test_acc, mean_delay, mean_fp_delay, fp_number, fn_number) = get_quality_metrics(test_loader, model, threshold, LSTM_flag, RNN_flag)\n",
    "\n",
    "        fp_number_list.append(fp_number)\n",
    "        fn_number_list.append(fn_number)\n",
    "        delay_list.append(mean_delay)\n",
    "        fp_delay_list.append(mean_fp_delay)\n",
    "        #print(threshold, fp_number, fn_number, mean_delay, mean_fp_delay)\n",
    "    \n",
    "    return fp_number_list, fn_number_list, delay_list, fp_delay_list"
   ]
  },
  {
   "cell_type": "code",
   "execution_count": 47,
   "metadata": {},
   "outputs": [
    {
     "data": {
      "text/plain": [
       "[<matplotlib.lines.Line2D at 0x7f9b242d1b90>]"
      ]
     },
     "execution_count": 47,
     "metadata": {},
     "output_type": "execute_result"
    },
    {
     "data": {
      "image/png": "[encoded data removed]",
      "text/plain": [
       "<Figure size 432x288 with 1 Axes>"
      ]
     },
     "metadata": {
      "needs_background": "light"
     },
     "output_type": "display_data"
    }
   ],
   "source": [
    "threshold_number = 100\n",
    "threshold_list = np.linspace(-5, 5, threshold_number)\n",
    "threshold_list = 1 / (1 + np.exp(-threshold_list))\n",
    "plt.plot(np.linspace(0.01, 1, threshold_number), threshold_list)"
   ]
  },
  {
   "cell_type": "code",
   "execution_count": 48,
   "metadata": {},
   "outputs": [],
   "source": [
    "test_batch_size = 4\n",
    "final_test_loader = prepare_loader(test_data, test_labels, seq_len, input_size, test_batch_size, shuffle=False)"
   ]
  },
  {
   "cell_type": "markdown",
   "metadata": {},
   "source": [
    "### Evaluate LSTM"
   ]
  },
  {
   "cell_type": "code",
   "execution_count": 49,
   "metadata": {},
   "outputs": [],
   "source": [
    "#model_LSTM_bce = torch.load(\"experiments3/model_LSTM_bce.pth\")\n",
    "#model_LSTM_custom = torch.load(\"experiments3/model_LSTM_custom.pth\")\n",
    "#model_LSTM_combined = torch.load(\"experiments3/model_LSTM_combined.pth\")"
   ]
  },
  {
   "cell_type": "code",
   "execution_count": 50,
   "metadata": {},
   "outputs": [],
   "source": [
    "test_batch_size = 4\n",
    "loss_function = CustomLoss()\n",
    "final_test_loader = prepare_loader(test_data, test_labels, seq_len, input_size, test_batch_size, shuffle=False)\n",
    "\n",
    "(fp_number_list_LSTM_bce, fn_number_list_LSTM_bce, \n",
    " delay_list_LSTM_bce, fp_delay_list_LSTM_bce) = get_pareto_metrics_for_threshold(model_LSTM_bce, final_test_loader, \n",
    "                                                                                 threshold_list, LSTM_flag=True)"
   ]
  },
  {
   "cell_type": "code",
   "execution_count": 51,
   "metadata": {
    "scrolled": true
   },
   "outputs": [],
   "source": [
    "test_batch_size = 4\n",
    "final_test_loader = prepare_loader(test_data, test_labels, seq_len, input_size, test_batch_size, shuffle=False)\n",
    "\n",
    "(fp_number_list_LSTM_custom, fn_number_list_LSTM_custom, \n",
    " delay_list_LSTM_custom, fp_delay_list_LSTM_custom) = get_pareto_metrics_for_threshold(model_LSTM_custom, final_test_loader, \n",
    "                                                                                       threshold_list, LSTM_flag=True)"
   ]
  },
  {
   "cell_type": "code",
   "execution_count": 52,
   "metadata": {},
   "outputs": [],
   "source": [
    "test_batch_size = 4\n",
    "final_test_loader = prepare_loader(test_data, test_labels, seq_len, input_size, test_batch_size, shuffle=False)\n",
    "\n",
    "(fp_number_list_LSTM_combined, fn_number_list_LSTM_combined, delay_list_LSTM_combined, fp_delay_list_LSTM_combined) = get_pareto_metrics_for_threshold(model_LSTM_combined, final_test_loader, threshold_list, LSTM_flag=True)"
   ]
  },
  {
   "cell_type": "code",
   "execution_count": 53,
   "metadata": {},
   "outputs": [
    {
     "data": {
      "image/png": "[encoded data removed]",
      "text/plain": [
       "<Figure size 864x864 with 1 Axes>"
      ]
     },
     "metadata": {
      "needs_background": "light"
     },
     "output_type": "display_data"
    }
   ],
   "source": [
    "plt.figure(figsize=(12, 12))\n",
    "plt.plot(fp_delay_list_LSTM_custom, delay_list_LSTM_custom, '-o', label='LSTM. CustomLoss model')\n",
    "plt.plot(fp_delay_list_LSTM_bce, delay_list_LSTM_bce, '-d', label='LSTM.BCELoss model')\n",
    "plt.plot(fp_delay_list_LSTM_combined, delay_list_LSTM_combined, '-s', label='LSTM. Combined model')\n",
    "\n",
    "plt.xlabel('Mean FP delay')\n",
    "plt.ylabel('Mean delay')\n",
    "plt.title('LSTM')\n",
    "#plt.yscale('log')\n",
    "plt.legend(loc='upper left', fontsize=14);"
   ]
  },
  {
   "cell_type": "code",
   "execution_count": 54,
   "metadata": {},
   "outputs": [],
   "source": [
    "#batch, labels = next(iter(val_loader))\n",
    "#batch = batch.to(device)"
   ]
  },
  {
   "cell_type": "code",
   "execution_count": 55,
   "metadata": {},
   "outputs": [],
   "source": [
    "#model_LSTM_bce.to(device)"
   ]
  },
  {
   "cell_type": "code",
   "execution_count": 56,
   "metadata": {},
   "outputs": [],
   "source": [
    "#hidden = model_LSTM_bce.init_hidden(16)\n",
    "#hidden = tuple([each.data for each in hidden])\n",
    "#pred = model_LSTM_custom(batch, hidden)"
   ]
  },
  {
   "cell_type": "code",
   "execution_count": 57,
   "metadata": {},
   "outputs": [],
   "source": [
    "#i = 2\n",
    "#plt.plot(pred[0][i].detach().cpu().numpy())\n",
    "#plt.plot(labels[i])"
   ]
  },
  {
   "cell_type": "markdown",
   "metadata": {},
   "source": [
    "### Evaluate GRU"
   ]
  },
  {
   "cell_type": "code",
   "execution_count": 58,
   "metadata": {},
   "outputs": [],
   "source": [
    "#model_GRU_bce = torch.load(\"experiments3/model_GRU_bce.pth\")\n",
    "#model_GRU_custom = torch.load(\"experiments3/model_GRU_custom.pth\")\n",
    "#model_GRU_combined = torch.load(\"experiments3/model_GRU_combined.pth\")"
   ]
  },
  {
   "cell_type": "code",
   "execution_count": 59,
   "metadata": {},
   "outputs": [],
   "source": [
    "test_batch_size = 4\n",
    "final_test_loader = prepare_loader(test_data, test_labels, seq_len, input_size, test_batch_size, shuffle=False)\n",
    "\n",
    "(fp_number_list_GRU_bce, fn_number_list_GRU_bce, \n",
    " delay_list_GRU_bce, fp_delay_list_GRU_bce) = get_pareto_metrics_for_threshold(model_GRU_bce, final_test_loader, \n",
    "                                                                                 threshold_list, RNN_flag=True)"
   ]
  },
  {
   "cell_type": "code",
   "execution_count": 60,
   "metadata": {},
   "outputs": [],
   "source": [
    "test_batch_size = 4\n",
    "final_test_loader = prepare_loader(test_data, test_labels, seq_len, input_size, test_batch_size, shuffle=False)\n",
    "\n",
    "(fp_number_list_GRU_custom, fn_number_list_GRU_custom, \n",
    " delay_list_GRU_custom, fp_delay_list_GRU_custom) = get_pareto_metrics_for_threshold(model_GRU_custom, final_test_loader, \n",
    "                                                                                       threshold_list, RNN_flag=True)"
   ]
  },
  {
   "cell_type": "code",
   "execution_count": 61,
   "metadata": {},
   "outputs": [],
   "source": [
    "test_batch_size = 4\n",
    "final_test_loader = prepare_loader(test_data, test_labels, seq_len, input_size, test_batch_size, shuffle=False)\n",
    "\n",
    "(fp_number_list_GRU_combined, fn_number_list_GRU_combined, delay_list_GRU_combined, fp_delay_list_GRU_combined) = get_pareto_metrics_for_threshold(model_GRU_combined, final_test_loader, threshold_list, RNN_flag=True)"
   ]
  },
  {
   "cell_type": "code",
   "execution_count": 62,
   "metadata": {
    "scrolled": false
   },
   "outputs": [
    {
     "data": {
      "image/png": "[encoded data removed]",
      "text/plain": [
       "<Figure size 864x864 with 1 Axes>"
      ]
     },
     "metadata": {
      "needs_background": "light"
     },
     "output_type": "display_data"
    }
   ],
   "source": [
    "plt.figure(figsize=(12, 12))\n",
    "plt.plot(fp_delay_list_GRU_custom, delay_list_GRU_custom, '-o', label='GRU. CustomLoss model')\n",
    "plt.plot(fp_delay_list_GRU_bce, delay_list_GRU_bce, '-d', label='GRU. BCELoss model')\n",
    "plt.plot(fp_delay_list_GRU_combined, delay_list_GRU_combined, '-s', label='GRU. Combined model')\n",
    "\n",
    "plt.xlabel('Mean FP delay')\n",
    "plt.ylabel('Mean delay')\n",
    "plt.title('GRU')\n",
    "#plt.yscale('log')\n",
    "plt.legend(loc='upper left', fontsize=14);"
   ]
  },
  {
   "cell_type": "code",
   "execution_count": 65,
   "metadata": {},
   "outputs": [
    {
     "data": {
      "image/png": "[encoded data removed]",
      "text/plain": [
       "<Figure size 864x864 with 1 Axes>"
      ]
     },
     "metadata": {
      "needs_background": "light"
     },
     "output_type": "display_data"
    }
   ],
   "source": [
    "plt.figure(figsize=(12, 12))\n",
    "plt.plot(fp_delay_list_GRU_custom, delay_list_GRU_custom, '-o', markersize=4, label='Custom (ours)')\n",
    "plt.plot(fp_delay_list_GRU_bce, delay_list_GRU_bce, '-d', markersize=4, label='BCE')\n",
    "plt.plot(fp_delay_list_GRU_combined, delay_list_GRU_combined, '--s', markersize=4, label='Combined (ours)')\n",
    "\n",
    "plt.xlabel('Mean Time to False Alarm', fontsize=28)\n",
    "plt.ylabel('Mean Detection Delay', fontsize=28)\n",
    "plt.xticks(fontsize=24)\n",
    "plt.yticks(fontsize=24)\n",
    "plt.legend(loc='upper left', fontsize=26);\n",
    "plt.savefig('normal1d_GRU.pdf', bbox_inches='tight')"
   ]
  },
  {
   "cell_type": "code",
   "execution_count": 64,
   "metadata": {},
   "outputs": [
    {
     "data": {
      "image/png": "[encoded data removed]",
      "text/plain": [
       "<Figure size 864x864 with 1 Axes>"
      ]
     },
     "metadata": {
      "needs_background": "light"
     },
     "output_type": "display_data"
    }
   ],
   "source": [
    "plt.figure(figsize=(12, 12))\n",
    "plt.plot(fp_delay_list_LSTM_custom, delay_list_LSTM_custom, '-o', markersize=4, label='Custom (ours)')\n",
    "plt.plot(fp_delay_list_LSTM_bce, delay_list_LSTM_bce, '-d', markersize=4, label='BCE')\n",
    "plt.plot(fp_delay_list_LSTM_combined, delay_list_LSTM_combined, '--s', markersize=4, label='Combined (ours)')\n",
    "\n",
    "plt.xlabel('Mean Time to False Alarm', fontsize=28)\n",
    "plt.ylabel('Mean Detection Delay', fontsize=28)\n",
    "plt.xticks(fontsize=24)\n",
    "plt.yticks(fontsize=24)\n",
    "plt.legend(loc='upper left', fontsize=26);\n",
    "plt.savefig('normal1d_LSTM.pdf', bbox_inches='tight')"
   ]
  },
  {
   "cell_type": "code",
   "execution_count": null,
   "metadata": {},
   "outputs": [],
   "source": [
    " 99.14,\n",
    " 128.0,\n"
   ]
  },
  {
   "cell_type": "code",
   "execution_count": 101,
   "metadata": {},
   "outputs": [
    {
     "data": {
      "text/plain": [
       "83"
      ]
     },
     "execution_count": 101,
     "metadata": {},
     "output_type": "execute_result"
    }
   ],
   "source": [
    "fp_delay_list_LSTM_bce.index(99.14)"
   ]
  },
  {
   "cell_type": "code",
   "execution_count": 102,
   "metadata": {},
   "outputs": [
    {
     "data": {
      "text/plain": [
       "84"
      ]
     },
     "execution_count": 102,
     "metadata": {},
     "output_type": "execute_result"
    }
   ],
   "source": [
    "fp_delay_list_LSTM_bce.index(128.0)"
   ]
  },
  {
   "cell_type": "code",
   "execution_count": 104,
   "metadata": {},
   "outputs": [
    {
     "data": {
      "text/plain": [
       "0.9671956090900572"
      ]
     },
     "execution_count": 104,
     "metadata": {},
     "output_type": "execute_result"
    }
   ],
   "source": [
    "threshold_list[83]"
   ]
  },
  {
   "cell_type": "code",
   "execution_count": 105,
   "metadata": {},
   "outputs": [
    {
     "data": {
      "text/plain": [
       "0.9702535746159258"
      ]
     },
     "execution_count": 105,
     "metadata": {},
     "output_type": "execute_result"
    }
   ],
   "source": [
    "threshold_list[84]"
   ]
  },
  {
   "cell_type": "code",
   "execution_count": null,
   "metadata": {},
   "outputs": [],
   "source": [
    "k = threshold_list[]"
   ]
  },
  {
   "cell_type": "code",
   "execution_count": null,
   "metadata": {},
   "outputs": [],
   "source": [
    "delay_list_LSTM_bce"
   ]
  },
  {
   "cell_type": "code",
   "execution_count": 111,
   "metadata": {},
   "outputs": [
    {
     "name": "stdout",
     "output_type": "stream",
     "text": [
      "The autoreload extension is already loaded. To reload it, use:\n",
      "  %reload_ext autoreload\n"
     ]
    }
   ],
   "source": [
    "%load_ext autoreload\n",
    "%autoreload 1\n",
    "%aimport metrics_v4\n",
    "import metrics_v4"
   ]
  },
  {
   "cell_type": "code",
   "execution_count": 115,
   "metadata": {},
   "outputs": [
    {
     "name": "stdout",
     "output_type": "stream",
     "text": [
      "83.03 0.43720204630561754 90.62 0.462193510926849 90.05\n",
      "TP: 43 TN: 43 FP: 14 FN: 0 DELAY: 0.01 FP_DELAY 90.62\n",
      "0.01 !!!!!!!!\n",
      "93.99 0.4873764205699251 96.07 0.512623579430075 95.01\n",
      "TP: 45 TN: 49 FP: 6 FN: 0 DELAY: 0.01 FP_DELAY 94.78\n",
      "0.01 !!!!!!!!\n",
      "98.79 0.6808271732785297 99.14 0.7023651150255775 99\n",
      "TP: 44 TN: 54 FP: 0 FN: 2 DELAY: 1.08 FP_DELAY 99.14\n",
      "1.08 !!!!!!!!\n",
      "99.14 0.7023651150255775 99.14 0.7230409022118411 105.01\n",
      "TP: 0 TN: 54 FP: 0 FN: 46 DELAY: 29.93 FP_DELAY 128.0\n",
      "29.93 !!!!!!!!\n",
      "99.14 0.7023651150255775 99.14 0.7230409022118411 110.01\n",
      "TP: 0 TN: 54 FP: 0 FN: 46 DELAY: 29.93 FP_DELAY 128.0\n",
      "29.93 !!!!!!!!\n"
     ]
    }
   ],
   "source": [
    "metrics_v4.save_metrics_to_file_new_version('GRU_custom', \n",
    "                                 model_GRU_custom, \n",
    "                                 final_test_loader, \n",
    "                                 batch_size=4,\n",
    "                                 seq_len=128,\n",
    "                                 fp_delay = fp_delay_list_GRU_custom,\n",
    "                                 threshold_list=threshold_list,\n",
    "                                 x_coord_arr = [90.05, 95.01, 99, 105.01, 110.01],\n",
    "                                 lstm_flag=False,\n",
    "                                 rnn_flag=True,\n",
    "                                 path_to_save='experiments3/'\n",
    "                                 )"
   ]
  },
  {
   "cell_type": "code",
   "execution_count": 109,
   "metadata": {},
   "outputs": [
    {
     "name": "stdout",
     "output_type": "stream",
     "text": [
      "LSTM_custom:  979.5720652173914\n",
      "LSTM_bce:  1026.257065217391\n",
      "LSTM_combined:  1011.0443478260871\n",
      "\n",
      "\n",
      "GRU_custom:  980.0255434782608\n",
      "GRU_bce:  1017.9381521739128\n",
      "GRU_combined:  978.1159782608696\n"
     ]
    }
   ],
   "source": [
    "print('LSTM_custom: ', metrics_v4.area_under_graph(delay_list_LSTM_custom, fp_delay_list_LSTM_custom))\n",
    "print('LSTM_bce: ', metrics_v4.area_under_graph(delay_list_LSTM_bce, fp_delay_list_LSTM_bce))\n",
    "print('LSTM_combined: ', metrics_v4.area_under_graph(delay_list_LSTM_combined, fp_delay_list_LSTM_combined)) \n",
    "\n",
    "print('\\n')\n",
    "\n",
    "print('GRU_custom: ', metrics_v4.area_under_graph(delay_list_GRU_custom, fp_delay_list_GRU_custom))\n",
    "print('GRU_bce: ', metrics_v4.area_under_graph(delay_list_GRU_bce, fp_delay_list_GRU_bce))\n",
    "print('GRU_combined: ', metrics_v4.area_under_graph(delay_list_GRU_combined, fp_delay_list_GRU_combined))  "
   ]
  },
  {
   "cell_type": "code",
   "execution_count": null,
   "metadata": {},
   "outputs": [],
   "source": []
  }
 ],
 "metadata": {
  "kernelspec": {
   "display_name": "Python 3",
   "language": "python",
   "name": "python3"
  },
  "language_info": {
   "codemirror_mode": {
    "name": "ipython",
    "version": 3
   },
   "file_extension": ".py",
   "mimetype": "text/x-python",
   "name": "python",
   "nbconvert_exporter": "python",
   "pygments_lexer": "ipython3",
   "version": "3.7.9"
  }
 },
 "nbformat": 4,
 "nbformat_minor": 4
}
