{
 "cells": [
  {
   "cell_type": "code",
   "execution_count": 1,
   "metadata": {
    "scrolled": true
   },
   "outputs": [],
   "source": [
    "import numpy as np\n",
    "import scipy\n",
    "import matplotlib.pyplot as plt\n",
    "%matplotlib inline\n",
    "\n",
    "from scipy.stats import norm\n",
    "from sklearn.model_selection import train_test_split\n",
    "from tqdm.notebook import tqdm\n",
    "from sklearn.metrics import average_precision_score"
   ]
  },
  {
   "cell_type": "code",
   "execution_count": 2,
   "metadata": {},
   "outputs": [
    {
     "data": {
      "text/plain": [
       "<torch._C.Generator at 0x7fe61f9861d0>"
      ]
     },
     "execution_count": 2,
     "metadata": {},
     "output_type": "execute_result"
    }
   ],
   "source": [
    "import torch\n",
    "import torch.nn as nn\n",
    "import torch.nn.functional as F\n",
    "import torch.optim as optim\n",
    "from torch.utils.data import TensorDataset, DataLoader\n",
    "torch.manual_seed(1)"
   ]
  },
  {
   "cell_type": "markdown",
   "metadata": {},
   "source": [
    "### Generate data"
   ]
  },
  {
   "cell_type": "code",
   "execution_count": 3,
   "metadata": {},
   "outputs": [],
   "source": [
    "seq_len = 128\n",
    "input_size = 1"
   ]
  },
  {
   "cell_type": "code",
   "execution_count": 4,
   "metadata": {},
   "outputs": [],
   "source": [
    "def generate_normal_series(number, mean, seq_len):\n",
    "    data = []\n",
    "    labels = []\n",
    "    for i in range(number):\n",
    "        x = []\n",
    "        label = []\n",
    "        x_prev = 0\n",
    "        coef = 0.75\n",
    "        #length = scipy.stats.randint.rvs(50, 200)\n",
    "        for l in range(seq_len):\n",
    "            x_curr = coef*x_prev + (1 - coef)*norm.rvs(loc=mean, scale=1)\n",
    "            x.append(x_curr)\n",
    "            x_prev = x_curr\n",
    "            label.append(0)\n",
    "        data.append(np.asarray(x))\n",
    "        labels.append(np.asarray(label))\n",
    "    return data, labels\n",
    "\n",
    "def generate_anomaly_series(number, mean_old, mean_new, seq_len):\n",
    "    data = []\n",
    "    labels = []\n",
    "    for i in range(number):\n",
    "        x = []\n",
    "        label = []\n",
    "        x_prev = 0\n",
    "        coef = 0.75\n",
    "        #length = scipy.stats.randint.rvs(50, 200)\n",
    "        chane_point = scipy.stats.randint.rvs(10, seq_len-20)\n",
    "        for l in range(seq_len):\n",
    "            if l < chane_point:\n",
    "                x_curr = coef*x_prev + (1 - coef)*norm.rvs(loc=mean_old, scale=1)\n",
    "                label.append(0)\n",
    "                \n",
    "            else:\n",
    "                x_curr = coef*x_prev + (1 - coef)*norm.rvs(loc=mean_new, scale=1)\n",
    "                label.append(1)\n",
    "            x.append(x_curr)\n",
    "            x_prev = x_curr\n",
    "        data.append(np.asarray(x))\n",
    "        labels.append(np.asarray(label))\n",
    "    return data, labels\n"
   ]
  },
  {
   "cell_type": "markdown",
   "metadata": {},
   "source": [
    "Generate train data"
   ]
  },
  {
   "cell_type": "code",
   "execution_count": 5,
   "metadata": {},
   "outputs": [],
   "source": [
    "batch_size = 256\n",
    "\n",
    "\n",
    "number_normal = batch_size*50\n",
    "data_normal, labels_normal = generate_normal_series(number_normal, 0, seq_len)"
   ]
  },
  {
   "cell_type": "code",
   "execution_count": 6,
   "metadata": {},
   "outputs": [],
   "source": [
    "def generate_several_anomaly_series(batch_size, number_anomaly, mean_old, mean_new_list, seq_len):\n",
    "    data_anomaly = []\n",
    "    labels_anomaly = []\n",
    "    number_anomaly = number_anomaly*batch_size\n",
    "    for mean_new in mean_new_list:\n",
    "        tmp_data_anomaly, tmp_labels_anomaly = generate_anomaly_series(number_anomaly, mean_old, \n",
    "                                                                       mean_new, seq_len)\n",
    "        data_anomaly.append(tmp_data_anomaly)\n",
    "        labels_anomaly.append(tmp_labels_anomaly)\n",
    "        \n",
    "    return np.vstack(data_anomaly), np.vstack(labels_anomaly)"
   ]
  },
  {
   "cell_type": "code",
   "execution_count": 7,
   "metadata": {},
   "outputs": [],
   "source": [
    "data_anomaly, labels_anomaly = generate_several_anomaly_series(batch_size, 5, \n",
    "                                                               0, [0.5, 1, 2.5, 5], seq_len)"
   ]
  },
  {
   "cell_type": "code",
   "execution_count": 8,
   "metadata": {},
   "outputs": [],
   "source": [
    "for_train_data = np.vstack((data_normal, data_anomaly))\n",
    "for_train_labels = np.vstack((labels_normal,labels_anomaly))"
   ]
  },
  {
   "cell_type": "markdown",
   "metadata": {},
   "source": [
    "Generate test data"
   ]
  },
  {
   "cell_type": "code",
   "execution_count": 9,
   "metadata": {},
   "outputs": [],
   "source": [
    "test_number_normal = batch_size*10\n",
    "test_data_normal, test_labels_normal = generate_normal_series(test_number_normal, 0, seq_len)"
   ]
  },
  {
   "cell_type": "code",
   "execution_count": 10,
   "metadata": {},
   "outputs": [],
   "source": [
    "test_data_anomaly, test_labels_anomaly = generate_several_anomaly_series(batch_size, 5, \n",
    "                                                                         0, [0.5, 1, 2.5, 5], seq_len)"
   ]
  },
  {
   "cell_type": "code",
   "execution_count": 11,
   "metadata": {},
   "outputs": [],
   "source": [
    "test_data = np.vstack((test_data_normal, test_data_anomaly))\n",
    "test_labels = np.vstack((test_labels_normal,test_labels_anomaly))"
   ]
  },
  {
   "cell_type": "markdown",
   "metadata": {},
   "source": [
    "Split on train and val set:"
   ]
  },
  {
   "cell_type": "code",
   "execution_count": 12,
   "metadata": {},
   "outputs": [],
   "source": [
    "train_data, val_data, train_labels, val_labels = train_test_split(for_train_data, for_train_labels, \n",
    "                                                                  test_size=0.2, shuffle=True,\n",
    "                                                                  random_state=42)"
   ]
  },
  {
   "cell_type": "markdown",
   "metadata": {},
   "source": [
    "#### Loss function"
   ]
  },
  {
   "cell_type": "code",
   "execution_count": 13,
   "metadata": {},
   "outputs": [],
   "source": [
    "def loss_delay_detection_2(p_slice):\n",
    "    n = p_slice.size(0)\n",
    "    prod = torch.ones(n).to(device)\n",
    "    p_slice = p_slice.to(device)\n",
    "    prod[1:] -= p_slice[:-1]\n",
    "    cumprod = torch.cumprod(prod, dim=0).to(device)\n",
    "    loss = torch.arange(1, n+1).to(device) * p_slice * cumprod\n",
    "    loss = torch.sum(loss)\n",
    "    return loss\n",
    "\n",
    "\n",
    "def loss_delay_detection(p_slice, w):\n",
    "    n = p_slice.size(0)\n",
    "    prod = torch.ones(n).to(device)\n",
    "    p_slice = p_slice.to(device)\n",
    "    prod[1:] -= p_slice[:-1].to(device)\n",
    "    cumprod = torch.cumprod(prod, dim=0).to(device)\n",
    "    loss = torch.arange(1, n+1).to(device) * p_slice * cumprod  + (w + 1)*torch.prod(prod[1:])*(1 - p_slice[-1])\n",
    "    loss = torch.sum(loss)\n",
    "    return loss\n",
    "\n",
    "def loss_false_alarms(p_slice):\n",
    "    length = len(p_slice)\n",
    "    loss = 0\n",
    "    \n",
    "    start_ind = 0\n",
    "    end_ind = 0\n",
    "    \n",
    "    while end_ind < length:\n",
    "        start_ind = end_ind - 1\n",
    "        if start_ind < 0:\n",
    "            start_ind = 0\n",
    "        end_ind = np.random.randint(start_ind, length + 2)\n",
    "        if end_ind == start_ind:\n",
    "            end_ind = end_ind + 1\n",
    "        loss += 1 - loss_delay_detection_2(p_slice[start_ind: end_ind + 1])    \n",
    "    #loss += 1 - loss_delay_detection_2(p_slice[start_ind: length])            \n",
    "    loss = torch.sum(loss)\n",
    "    return loss"
   ]
  },
  {
   "cell_type": "code",
   "execution_count": 14,
   "metadata": {},
   "outputs": [],
   "source": [
    "class CustomLoss(nn.Module):\n",
    "    \n",
    "    def __init__(self):\n",
    "        super(CustomLoss, self).__init__()\n",
    "        \n",
    "    def forward(self, outputs, labels):\n",
    "        loss = torch.zeros(labels.size(0))\n",
    "        for i, label in enumerate(labels):\n",
    "\n",
    "            ind = torch.where(label != label[0])[0]\n",
    "            if ind.size()[0] == 0:\n",
    "                loss[i] = loss_false_alarms(outputs[i, :])\n",
    "            else:\n",
    "                w = 16\n",
    "                alpha = 0.2\n",
    "                loss[i] = alpha*loss_delay_detection(outputs[i, ind[0]: ind[0] + w], w) + (1 - alpha)*loss_false_alarms(outputs[i, :ind[0]])\n",
    "        #print('Labels:', labels)\n",
    "        #print('Loss:', loss)\n",
    "        loss = torch.mean(loss)\n",
    "        #print(loss)\n",
    "        return loss"
   ]
  },
  {
   "cell_type": "code",
   "execution_count": 15,
   "metadata": {},
   "outputs": [],
   "source": [
    "# input data parameters\n",
    "input_size = 1\n",
    "output_size = seq_len\n",
    "\n",
    "# model hyperparameters\n",
    "hidden_dim = 100\n",
    "n_layers = 2\n",
    "num_workers = 1\n",
    "learning_rate = 1e-3"
   ]
  },
  {
   "cell_type": "code",
   "execution_count": 16,
   "metadata": {},
   "outputs": [],
   "source": [
    "def reshape_for_LSTM(data, seq_len, input_size):\n",
    "    return data.reshape(data.shape[0], seq_len, input_size)\n",
    "\n",
    "def prepare_loader(data, labels, seq_len, input_size, batch_size, shuffle=True, num_workers=1):\n",
    "    data = torch.FloatTensor(data)\n",
    "    labels = torch.FloatTensor(labels)\n",
    "    data = data.view(-1, seq_len, input_size)\n",
    "    labels = labels.view(-1, seq_len)\n",
    "    \n",
    "    all_data = TensorDataset(data, labels) \n",
    "    data_loader = DataLoader(all_data, batch_size=batch_size, shuffle=shuffle, num_workers=num_workers)\n",
    "    \n",
    "    return data_loader"
   ]
  },
  {
   "cell_type": "code",
   "execution_count": 17,
   "metadata": {},
   "outputs": [],
   "source": [
    "train_loader = prepare_loader(train_data, train_labels, seq_len, input_size, batch_size)\n",
    "val_loader = prepare_loader(val_data, val_labels, seq_len, input_size, batch_size)\n",
    "test_loader = prepare_loader(test_data, test_labels, seq_len, input_size, batch_size)"
   ]
  },
  {
   "cell_type": "code",
   "execution_count": 18,
   "metadata": {},
   "outputs": [],
   "source": [
    "device = torch.device(\"cuda:1\")"
   ]
  },
  {
   "cell_type": "code",
   "execution_count": 19,
   "metadata": {},
   "outputs": [],
   "source": [
    "class LSTM(nn.Module):\n",
    "    def __init__(self, input_size, output_size, hidden_dim, n_layers, drop_prob=0.5):\n",
    "        \n",
    "        super(LSTM, self).__init__()\n",
    "        self.input_size = input_size\n",
    "        self.output_size = output_size\n",
    "        self.n_layers = n_layers\n",
    "        self.hidden_dim = hidden_dim\n",
    "        self.batch_size = batch_size\n",
    "        \n",
    "        self.lstm = nn.LSTM(input_size, hidden_dim, n_layers, dropout=drop_prob, batch_first=True)\n",
    "        self.dropout = nn.Dropout(drop_prob)\n",
    "        self.linear_1 = nn.Linear(hidden_dim, hidden_dim//2)\n",
    "        self.linear_2 = nn.Linear(hidden_dim//2, 1)\n",
    "        self.activation = nn.Sigmoid()\n",
    "        self.relu = nn.ReLU()\n",
    "        \n",
    "    def forward(self, input_seq, hidden):\n",
    "        batch_size = input_seq.size(0)\n",
    "        lstm_out, hidden = self.lstm(input_seq, hidden)  \n",
    "        lstm_out = lstm_out.contiguous().view(-1, self.hidden_dim)      \n",
    "        out = self.linear_1(lstm_out)\n",
    "        out = self.dropout(out)\n",
    "        out = self.relu(out)\n",
    "        out = self.linear_2(out)\n",
    "        out = self.activation(out)\n",
    "        out = out.view(batch_size, -1)\n",
    "\n",
    "        return out, hidden\n",
    "\n",
    "    def init_hidden(self, batch_size):\n",
    "        weight = next(self.parameters()).data\n",
    "        \n",
    "        hidden = (weight.new(self.n_layers, batch_size, self.hidden_dim).zero_().to(device),\n",
    "                  weight.new(self.n_layers, batch_size, self.hidden_dim).zero_().to(device))\n",
    "        return hidden"
   ]
  },
  {
   "cell_type": "code",
   "execution_count": 20,
   "metadata": {},
   "outputs": [
    {
     "data": {
      "text/plain": [
       "LSTM(\n",
       "  (lstm): LSTM(1, 100, num_layers=2, batch_first=True, dropout=0.5)\n",
       "  (dropout): Dropout(p=0.5, inplace=False)\n",
       "  (linear_1): Linear(in_features=100, out_features=50, bias=True)\n",
       "  (linear_2): Linear(in_features=50, out_features=1, bias=True)\n",
       "  (activation): Sigmoid()\n",
       "  (relu): ReLU()\n",
       ")"
      ]
     },
     "execution_count": 20,
     "metadata": {},
     "output_type": "execute_result"
    }
   ],
   "source": [
    "model = LSTM(input_size=input_size, output_size=output_size, hidden_dim=hidden_dim, n_layers=n_layers)\n",
    "optimizer = torch.optim.Adam(model.parameters(), lr=learning_rate)\n",
    "loss_function = CustomLoss()\n",
    "#loss_function = torch.nn.BCELoss()\n",
    "\n",
    "model.to(device)"
   ]
  },
  {
   "cell_type": "code",
   "execution_count": 21,
   "metadata": {
    "scrolled": false
   },
   "outputs": [
    {
     "data": {
      "application/vnd.jupyter.widget-view+json": {
       "model_id": "01e75a7db5db4366808cb4df671a55ac",
       "version_major": 2,
       "version_minor": 0
      },
      "text/plain": [
       "HBox(children=(FloatProgress(value=0.0, max=56.0), HTML(value='')))"
      ]
     },
     "metadata": {},
     "output_type": "display_data"
    },
    {
     "name": "stdout",
     "output_type": "stream",
     "text": [
      "\n"
     ]
    },
    {
     "data": {
      "application/vnd.jupyter.widget-view+json": {
       "model_id": "07dc243c60394af3bd38ac51568fcb8f",
       "version_major": 2,
       "version_minor": 0
      },
      "text/plain": [
       "HBox(children=(FloatProgress(value=0.0, max=56.0), HTML(value='')))"
      ]
     },
     "metadata": {},
     "output_type": "display_data"
    },
    {
     "name": "stdout",
     "output_type": "stream",
     "text": [
      "\n"
     ]
    },
    {
     "data": {
      "application/vnd.jupyter.widget-view+json": {
       "model_id": "0b3411c402c44470993f5d26a4077764",
       "version_major": 2,
       "version_minor": 0
      },
      "text/plain": [
       "HBox(children=(FloatProgress(value=0.0, max=56.0), HTML(value='')))"
      ]
     },
     "metadata": {},
     "output_type": "display_data"
    },
    {
     "name": "stdout",
     "output_type": "stream",
     "text": [
      "\n"
     ]
    },
    {
     "data": {
      "application/vnd.jupyter.widget-view+json": {
       "model_id": "899159e4ccfb420485a376d054e14f7a",
       "version_major": 2,
       "version_minor": 0
      },
      "text/plain": [
       "HBox(children=(FloatProgress(value=0.0, max=56.0), HTML(value='')))"
      ]
     },
     "metadata": {},
     "output_type": "display_data"
    },
    {
     "name": "stdout",
     "output_type": "stream",
     "text": [
      "\n"
     ]
    },
    {
     "data": {
      "application/vnd.jupyter.widget-view+json": {
       "model_id": "7b85787182bc429e99d5dfb1e5402215",
       "version_major": 2,
       "version_minor": 0
      },
      "text/plain": [
       "HBox(children=(FloatProgress(value=0.0, max=56.0), HTML(value='')))"
      ]
     },
     "metadata": {},
     "output_type": "display_data"
    },
    {
     "name": "stdout",
     "output_type": "stream",
     "text": [
      "\n"
     ]
    },
    {
     "data": {
      "application/vnd.jupyter.widget-view+json": {
       "model_id": "6b75cff0ad38483ab3ea3db5b3b66d3b",
       "version_major": 2,
       "version_minor": 0
      },
      "text/plain": [
       "HBox(children=(FloatProgress(value=0.0, max=56.0), HTML(value='')))"
      ]
     },
     "metadata": {},
     "output_type": "display_data"
    },
    {
     "name": "stdout",
     "output_type": "stream",
     "text": [
      "\n"
     ]
    },
    {
     "data": {
      "application/vnd.jupyter.widget-view+json": {
       "model_id": "6c4819f1859740ed97d176b46fc9128d",
       "version_major": 2,
       "version_minor": 0
      },
      "text/plain": [
       "HBox(children=(FloatProgress(value=0.0, max=56.0), HTML(value='')))"
      ]
     },
     "metadata": {},
     "output_type": "display_data"
    },
    {
     "name": "stdout",
     "output_type": "stream",
     "text": [
      "\n"
     ]
    },
    {
     "data": {
      "application/vnd.jupyter.widget-view+json": {
       "model_id": "fff2d63b42f14f8dae51553ee6efce16",
       "version_major": 2,
       "version_minor": 0
      },
      "text/plain": [
       "HBox(children=(FloatProgress(value=0.0, max=56.0), HTML(value='')))"
      ]
     },
     "metadata": {},
     "output_type": "display_data"
    },
    {
     "name": "stdout",
     "output_type": "stream",
     "text": [
      "\n"
     ]
    },
    {
     "data": {
      "application/vnd.jupyter.widget-view+json": {
       "model_id": "d20e25a879f84a91a396d05cad5dd140",
       "version_major": 2,
       "version_minor": 0
      },
      "text/plain": [
       "HBox(children=(FloatProgress(value=0.0, max=56.0), HTML(value='')))"
      ]
     },
     "metadata": {},
     "output_type": "display_data"
    },
    {
     "name": "stdout",
     "output_type": "stream",
     "text": [
      "Epoch: 9/10... Step: 500... Loss: -37.421215... Val Loss: -36.389299\n",
      "\n"
     ]
    },
    {
     "data": {
      "application/vnd.jupyter.widget-view+json": {
       "model_id": "7b48b479f24d41deb724b64366b571bb",
       "version_major": 2,
       "version_minor": 0
      },
      "text/plain": [
       "HBox(children=(FloatProgress(value=0.0, max=56.0), HTML(value='')))"
      ]
     },
     "metadata": {},
     "output_type": "display_data"
    },
    {
     "name": "stdout",
     "output_type": "stream",
     "text": [
      "\n"
     ]
    }
   ],
   "source": [
    "epochs = 10\n",
    "print_every = 500\n",
    "valid_loss_min = np.Inf\n",
    "\n",
    "loss_list = []\n",
    "acc_list = []\n",
    "counter = 0\n",
    "model.train()\n",
    "\n",
    "out_list = []\n",
    "labels_list = []\n",
    "\n",
    "for i in range(epochs):\n",
    "    \n",
    "    for inputs, labels in tqdm(train_loader):\n",
    "        if inputs.shape[0] < batch_size:\n",
    "            break\n",
    "            \n",
    "        counter += 1\n",
    "        h = model.init_hidden(batch_size)\n",
    "        h = tuple([e.data for e in h])\n",
    "        inputs, labels = inputs.to(device), labels.to(device)  \n",
    "        \n",
    "\n",
    "\n",
    "        # shape of lstm_in: [seq_len, batch_size, input_size]\n",
    "        # shape of lstm_out: [input_size, batch_size, hidden_dim]\n",
    "        # shape of self.hidden: (a, b), where a and b both \n",
    "        # have shape (num_layers, batch_size, hidden_dim).\n",
    "\n",
    "        output, h = model(inputs, h)\n",
    "        loss = loss_function(output.squeeze(), labels.float())\n",
    "        loss_list += [loss.cpu().clone().detach()]\n",
    "        accuracy = (output > 0.5).long() == labels\n",
    "        acc_list += [accuracy.cpu().detach().float().mean()]\n",
    "        out_list.append(output.cpu().detach().float())\n",
    "        labels_list.append(labels.cpu().detach().float())\n",
    "        \n",
    "        loss.backward()\n",
    "        optimizer.step()\n",
    "        optimizer.zero_grad()\n",
    "        \n",
    "        if counter%print_every == 0:\n",
    "            val_losses = []\n",
    "            val_outputs = []\n",
    "            model.eval()\n",
    "            for val_inputs, val_labels in val_loader:\n",
    "                if val_inputs.shape[0] < batch_size:\n",
    "                    break\n",
    "                val_h = model.init_hidden(batch_size)\n",
    "                val_h = tuple([each.data for each in val_h])\n",
    "                val_inputs, val_labels = val_inputs.to(device), val_labels.to(device)\n",
    "                \n",
    "                val_out, val_h = model(val_inputs, val_h)\n",
    "                val_loss = loss_function(val_out.squeeze(), val_labels.float())\n",
    "                val_losses.append(val_loss.item())\n",
    "                val_outputs += [val_out.cpu().clone().detach()]\n",
    "                \n",
    "            val_outputs_one = torch.cat(val_outputs, 0)\n",
    "            model.train()\n",
    "            print(\"Epoch: {}/{}...\".format(i+1, epochs),\n",
    "                  \"Step: {}...\".format(counter),\n",
    "                  \"Loss: {:.6f}...\".format(loss.item()),\n",
    "                  \"Val Loss: {:.6f}\".format(np.mean(val_losses)))\n",
    "        "
   ]
  },
  {
   "cell_type": "code",
   "execution_count": 27,
   "metadata": {},
   "outputs": [
    {
     "data": {
      "text/plain": [
       "[<matplotlib.lines.Line2D at 0x7fe6184f0940>]"
      ]
     },
     "execution_count": 27,
     "metadata": {},
     "output_type": "execute_result"
    },
    {
     "data": {
      "image/png": "[encoded data removed]",
      "text/plain": [
       "<Figure size 432x288 with 1 Axes>"
      ]
     },
     "metadata": {
      "needs_background": "light"
     },
     "output_type": "display_data"
    }
   ],
   "source": [
    "plt.plot(acc_list[::10])"
   ]
  },
  {
   "cell_type": "code",
   "execution_count": 28,
   "metadata": {},
   "outputs": [],
   "source": [
    "def evaluate_metrics(y_true, y_pred):\n",
    "    delay = 0\n",
    "    false_positive = 0\n",
    "    false_negative = 0\n",
    "    true_negative = 0\n",
    "\n",
    "    ind_real = torch.where(y_true != y_true[0])[0]\n",
    "    ind_detect = torch.where((y_pred > 0.5).long() != y_true[0])[0]\n",
    "\n",
    "    if len(ind_real) > 0:\n",
    "        real_change_ind = ind_real[0]\n",
    "\n",
    "        if len(ind_detect) > 0:\n",
    "            ind_sub_detect = torch.where(ind_detect > real_change_ind)[0]\n",
    "\n",
    "            if len(ind_sub_detect) == len(ind_detect):\n",
    "                detect_change_ind = ind_detect[0]\n",
    "                delay = (detect_change_ind - real_change_ind).cpu().detach().numpy()\n",
    "            else:\n",
    "                false_positive += 1\n",
    "        else:\n",
    "            false_negative += 1\n",
    "\n",
    "    else:\n",
    "        if len(ind_detect) > 0:\n",
    "            false_positive += 1\n",
    "        else:\n",
    "            true_negative += 1\n",
    "    \n",
    "    return false_positive, false_negative, delay"
   ]
  },
  {
   "cell_type": "code",
   "execution_count": 29,
   "metadata": {},
   "outputs": [
    {
     "name": "stdout",
     "output_type": "stream",
     "text": [
      "Test loss: -17.939\n",
      "Test accuracy: 0.867%\n",
      "Test delay: 4.62\n",
      "Test FP:  2707\n",
      "Test FN:  114\n"
     ]
    }
   ],
   "source": [
    "test_loss_list = []\n",
    "test_acc_list = []\n",
    "\n",
    "fp_list = []\n",
    "fn_list = []\n",
    "delay_list = []\n",
    "\n",
    "\n",
    "model.eval()\n",
    "for test_inputs, test_labels in test_loader:\n",
    "    \n",
    "    if test_inputs.shape[0] < batch_size:\n",
    "        break\n",
    "    test_h = model.init_hidden(batch_size)\n",
    "    test_h = tuple([each.data for each in test_h])\n",
    "    \n",
    "    test_inputs, test_labels = test_inputs.to(device), test_labels.to(device)\n",
    "    test_output, test_h = model(test_inputs, test_h)\n",
    "    test_loss = loss_function(test_output.squeeze(), test_labels.float())\n",
    "    test_loss_list += [test_loss.cpu().clone().detach()]\n",
    "    \n",
    "    for i in range(0, batch_size):\n",
    "        curr_output = test_output[i]\n",
    "        curr_labels = test_labels[i]\n",
    "        \n",
    "        curr_fp, curr_fn, curr_delay = evaluate_metrics(curr_labels, curr_output)\n",
    "        \n",
    "        fp_list.append(curr_fp)\n",
    "        fn_list.append(curr_fn)\n",
    "        delay_list.append(curr_delay)\n",
    "    \n",
    "    accuracy = (test_output > 0.5).long() == test_labels\n",
    "    test_acc_list += [accuracy.cpu().detach().float().mean()]\n",
    "\n",
    "    \n",
    "print(\"Test loss: {:.3f}\".format(np.mean(test_loss_list)))\n",
    "print(\"Test accuracy: {:.3f}%\".format(np.mean(test_acc_list)))\n",
    "print(\"Test delay: {:.2f}\".format(np.mean(delay_list)))\n",
    "print(\"Test FP: \", (np.sum(fp_list)))\n",
    "print(\"Test FN: \", (np.sum(fn_list)))"
   ]
  },
  {
   "cell_type": "code",
   "execution_count": 25,
   "metadata": {},
   "outputs": [
    {
     "data": {
      "text/plain": [
       "4.620442708333333"
      ]
     },
     "execution_count": 25,
     "metadata": {},
     "output_type": "execute_result"
    }
   ],
   "source": [
    "np.mean(delay_list)"
   ]
  },
  {
   "cell_type": "code",
   "execution_count": 26,
   "metadata": {
    "scrolled": true
   },
   "outputs": [
    {
     "data": {
      "text/plain": [
       "[<matplotlib.lines.Line2D at 0x7fe61db3d550>]"
      ]
     },
     "execution_count": 26,
     "metadata": {},
     "output_type": "execute_result"
    },
    {
     "data": {
      "image/png": "[encoded data removed]",
      "text/plain": [
       "<Figure size 432x288 with 1 Axes>"
      ]
     },
     "metadata": {
      "needs_background": "light"
     },
     "output_type": "display_data"
    }
   ],
   "source": [
    "ind = 15\n",
    "plt.plot(test_inputs[ind].cpu().detach().numpy(), color='orange')\n",
    "plt.plot(test_labels[ind].cpu().detach().numpy(), color='green')\n",
    "plt.plot(test_output[ind].cpu().detach().numpy())"
   ]
  }
 ],
 "metadata": {
  "kernelspec": {
   "display_name": "Python 3",
   "language": "python",
   "name": "python3"
  },
  "language_info": {
   "codemirror_mode": {
    "name": "ipython",
    "version": 3
   },
   "file_extension": ".py",
   "mimetype": "text/x-python",
   "name": "python",
   "nbconvert_exporter": "python",
   "pygments_lexer": "ipython3",
   "version": "3.7.1"
  }
 },
 "nbformat": 4,
 "nbformat_minor": 2
}
