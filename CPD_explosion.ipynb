{
 "cells": [
  {
   "cell_type": "code",
   "execution_count": 1,
   "id": "30c9b39b",
   "metadata": {},
   "outputs": [
    {
     "name": "stdout",
     "output_type": "stream",
     "text": [
      "CPU times: user 1.41 s, sys: 720 ms, total: 2.13 s\n",
      "Wall time: 1.39 s\n"
     ]
    }
   ],
   "source": [
    "%%time\n",
    "\n",
    "import os\n",
    "import numpy as np\n",
    "import torch\n",
    "import random\n",
    "import pytorch_lightning as pl\n",
    "import cv2\n",
    "import json\n",
    "\n",
    "from PIL import Image\n",
    "from torchvision import transforms\n",
    "from typing import Dict\n",
    "\n",
    "from tqdm.notebook import tqdm\n",
    "\n",
    "import torch.nn as nn\n",
    "from torch.optim import Adam\n",
    "from torch.utils.data import DataLoader\n",
    "from pytorch_lightning.callbacks.early_stopping import EarlyStopping\n",
    "\n",
    "from torchvision.transforms import Compose, Lambda\n",
    "from torchvision.transforms._transforms_video import CenterCropVideo, NormalizeVideo\n",
    "\n",
    "from pytorchvideo.data.encoded_video import EncodedVideo\n",
    "from pytorchvideo.transforms import ApplyTransformToKey, ShortSideScale, UniformTemporalSubsample, UniformCropVideo\n",
    "\n",
    "import matplotlib.pyplot as plt\n",
    "%matplotlib inline\n",
    "\n",
    "from CPD import datasets, loss, models\n",
    "from CPD import new_metrics as metrics"
   ]
  },
  {
   "cell_type": "markdown",
   "id": "7e5f9b3a",
   "metadata": {},
   "source": [
    "### Fix random seeds"
   ]
  },
  {
   "cell_type": "code",
   "execution_count": 2,
   "id": "b796b055",
   "metadata": {},
   "outputs": [],
   "source": [
    "import torch\n",
    "torch.manual_seed(1)\n",
    "import random\n",
    "random.seed(1)\n",
    "import numpy as np\n",
    "np.random.seed(1)"
   ]
  },
  {
   "cell_type": "markdown",
   "id": "f54f3d2a",
   "metadata": {},
   "source": [
    "### Device"
   ]
  },
  {
   "cell_type": "code",
   "execution_count": 3,
   "id": "835c328a",
   "metadata": {},
   "outputs": [
    {
     "name": "stdout",
     "output_type": "stream",
     "text": [
      "cuda\n"
     ]
    }
   ],
   "source": [
    "device = torch.device('cuda' if torch.cuda.is_available() else 'cpu')\n",
    "print(device)"
   ]
  },
  {
   "cell_type": "markdown",
   "id": "2a2ce26e",
   "metadata": {},
   "source": [
    "### Dataloader"
   ]
  },
  {
   "cell_type": "code",
   "execution_count": 4,
   "id": "7a50f9cf",
   "metadata": {},
   "outputs": [],
   "source": [
    "class UCF_VIDEOS_DATASET(torch.utils.data.Dataset):\n",
    "    def __init__(self, path_to_annotation, path_to_videos, seq_len):\n",
    "        super(UCF_VIDEOS_DATASET, self).__init__()\n",
    "        self.path_to_annotation = path_to_annotation\n",
    "        self.path_to_videos = path_to_videos\n",
    "        self.seq_len = seq_len\n",
    "        \n",
    "        self.annotation_array = []\n",
    "        \n",
    "        preprocess = transforms.Compose([transforms.ToTensor()])\n",
    "        \n",
    "        time_step = 4\n",
    "        num_samles = 6\n",
    "        num_attempts = 300\n",
    "        \n",
    "        self.data = []\n",
    "        self.len = 0\n",
    "        \n",
    "        with open(path_to_annotation, 'r') as fp:\n",
    "            for line in tqdm(fp):\n",
    "                if line.split(\"  \")[1] == \"Explosion\":\n",
    "                    self.annotation_array.append([line.split(\"  \")[0], \n",
    "                                                  int(line.split(\"  \")[2]), \n",
    "                                                  int(line.split(\"  \")[3]),\n",
    "                                                  int(line.split(\"  \")[4])])\n",
    "                    \n",
    "                    cap = cv2.VideoCapture(os.path.join(self.path_to_videos, line.split(\"  \")[0]))\n",
    "                    \n",
    "                    count_ = 0\n",
    "                    num_attempts_ = 0\n",
    "                    nums_zeros = []\n",
    "                    while count_ != num_samles:\n",
    "                        num_attempts_ += 1\n",
    "                        num_zeros = random.randint(1, self.seq_len-1)\n",
    "                        if not num_zeros in nums_zeros:\n",
    "                            frames_ones = [int(line.split(\"  \")[3]) + i*time_step for i in range(self.seq_len-num_zeros)]\n",
    "                            frames_zeros = sorted([int(line.split(\"  \")[3]) - (i+1)*time_step for i in range(num_zeros)])\n",
    "                            \n",
    "                            if frames_zeros[0] >= int(line.split(\"  \")[2]) and frames_ones[-1] <= int(line.split(\"  \")[4]):\n",
    "                                frames_all = np.append(frames_zeros, frames_ones)\n",
    "                                sequence_labels = np.append(np.zeros(num_zeros), np.ones(self.seq_len-num_zeros))\n",
    "                                sequence_imgs = []\n",
    "\n",
    "                                for frame_id in frames_all:\n",
    "                                    cap.set(cv2.CAP_PROP_POS_FRAMES, frame_id)\n",
    "                                    ret, frame = cap.read()\n",
    "                                    frame_rgb = cv2.cvtColor(frame, cv2.COLOR_BGR2RGB)\n",
    "                                    frame_pil = Image.fromarray(frame_rgb)\n",
    "                                    sequence_imgs.append(preprocess(frame_pil))\n",
    "\n",
    "                                sequence_imgs = torch.stack(sequence_imgs)\n",
    "                                sequence_labels = torch.from_numpy(sequence_labels)\n",
    "                                self.data.append([sequence_imgs, sequence_labels])\n",
    "\n",
    "                                count_ += 1\n",
    "                                nums_zeros.append(num_zeros)\n",
    "                                self.len += 1\n",
    "                            \n",
    "                        if num_attempts_ == num_attempts:\n",
    "                            break\n",
    "                            \n",
    "                if line.split(\"  \")[1] == \"Normal\":\n",
    "                    self.annotation_array.append([line.split(\"  \")[0], \n",
    "                                                  int(line.split(\"  \")[2]), \n",
    "                                                  int(line.split(\"  \")[4])])\n",
    "                    \n",
    "                    cap = cv2.VideoCapture(os.path.join(self.path_to_videos, line.split(\"  \")[0]))\n",
    "                    \n",
    "                    num_zeros = self.seq_len\n",
    "                    frames_all = sorted([int(line.split(\"  \")[4]) - i*time_step for i in range(num_zeros)])\n",
    "\n",
    "                    if frames_zeros[0] >= int(line.split(\"  \")[2]):\n",
    "                        sequence_labels = np.zeros(num_zeros)\n",
    "                        sequence_imgs = []\n",
    "\n",
    "                        for frame_id in frames_all:\n",
    "                            cap.set(cv2.CAP_PROP_POS_FRAMES, frame_id)\n",
    "                            ret, frame = cap.read()\n",
    "                            frame_rgb = cv2.cvtColor(frame, cv2.COLOR_BGR2RGB)\n",
    "                            frame_pil = Image.fromarray(frame_rgb)\n",
    "                            sequence_imgs.append(preprocess(frame_pil))\n",
    "\n",
    "                        sequence_imgs = torch.stack(sequence_imgs)\n",
    "                        sequence_labels = torch.from_numpy(sequence_labels)\n",
    "                        self.data.append([sequence_imgs, sequence_labels])\n",
    "                        self.len += 1\n",
    "                        \n",
    "                    frames_all = sorted([int(line.split(\"  \")[2]) + i*time_step for i in range(num_zeros)])\n",
    "\n",
    "                    if frames_zeros[-1] <= int(line.split(\"  \")[5]):\n",
    "                        sequence_labels = np.zeros(num_zeros)\n",
    "                        sequence_imgs = []\n",
    "\n",
    "                        for frame_id in frames_all:\n",
    "                            cap.set(cv2.CAP_PROP_POS_FRAMES, frame_id)\n",
    "                            ret, frame = cap.read()\n",
    "                            frame_rgb = cv2.cvtColor(frame, cv2.COLOR_BGR2RGB)\n",
    "                            frame_pil = Image.fromarray(frame_rgb)\n",
    "                            sequence_imgs.append(preprocess(frame_pil))\n",
    "\n",
    "                        sequence_imgs = torch.stack(sequence_imgs)\n",
    "                        sequence_labels = torch.from_numpy(sequence_labels)\n",
    "                        self.data.append([sequence_imgs, sequence_labels])\n",
    "                        self.len += 1\n",
    "\n",
    "    def __len__(self):\n",
    "        return self.len\n",
    "        \n",
    "    def __getitem__(self, item_idx):\n",
    "        \n",
    "        sequence_imgs = self.data[item_idx][0]\n",
    "        sequence_labels = self.data[item_idx][1]\n",
    "        \n",
    "        return sequence_imgs, sequence_labels"
   ]
  },
  {
   "cell_type": "code",
   "execution_count": 5,
   "id": "2af5fac0",
   "metadata": {},
   "outputs": [
    {
     "data": {
      "application/vnd.jupyter.widget-view+json": {
       "model_id": "4362dc93adba450da0377e8829e2d8da",
       "version_major": 2,
       "version_minor": 0
      },
      "text/plain": [
       "0it [00:00, ?it/s]"
      ]
     },
     "metadata": {},
     "output_type": "display_data"
    },
    {
     "data": {
      "application/vnd.jupyter.widget-view+json": {
       "model_id": "b43b1a2e51084e88bbebe2df944ede21",
       "version_major": 2,
       "version_minor": 0
      },
      "text/plain": [
       "0it [00:00, ?it/s]"
      ]
     },
     "metadata": {},
     "output_type": "display_data"
    },
    {
     "name": "stdout",
     "output_type": "stream",
     "text": [
      "CPU times: user 11min 3s, sys: 15.2 s, total: 11min 19s\n",
      "Wall time: 2min 45s\n"
     ]
    }
   ],
   "source": [
    "%%time\n",
    "\n",
    "seq_len = 16\n",
    "path_to_videos = \"data/explosion/\"\n",
    "path_annotation_train = \"UCF_train.txt\"\n",
    "path_annotation_validation = \"UCF_validation.txt\"\n",
    "\n",
    "imgs_dataset_train = UCF_VIDEOS_DATASET(path_annotation_train, \n",
    "                                        path_to_videos, \n",
    "                                        seq_len=seq_len)\n",
    "\n",
    "imgs_dataset_validation = UCF_VIDEOS_DATASET(path_annotation_validation, \n",
    "                                             path_to_videos, \n",
    "                                             seq_len=seq_len)"
   ]
  },
  {
   "cell_type": "code",
   "execution_count": 6,
   "id": "60209ef2",
   "metadata": {},
   "outputs": [],
   "source": [
    "class CPD_model(pl.LightningModule):\n",
    "    def __init__(\n",
    "        self,\n",
    "        model, \n",
    "        imgs_dataset_train,\n",
    "        imgs_dataset_validation,\n",
    "        batch_size: int = 16,\n",
    "        seq_len: int = 16, \n",
    "        loss_type: str = 'bce',\n",
    "        path_to_videos: str = \"data/explosion/\",\n",
    "        path_annotation_train: str = \"UCF_train.txt\",\n",
    "        path_annotation_validation: str = \"UCF_validation.txt\",\n",
    "        \n",
    "    ):\n",
    "        super(CPD_model, self).__init__()\n",
    "\n",
    "        self.model = model.to(self.device)\n",
    "        self.batch_size = batch_size\n",
    "        self.seq_len = seq_len\n",
    "        \n",
    "        if loss_type == 'bce':\n",
    "            self.loss = nn.BCELoss()\n",
    "        else:\n",
    "            self.loss = loss.CPDLoss(len_segment=8)\n",
    "            \n",
    "        self.imgs_dataset_train = imgs_dataset_train\n",
    "        self.imgs_dataset_validation = imgs_dataset_validation   \n",
    "        \n",
    "    def forward(self, inputs):\n",
    "        return self.model(inputs)\n",
    "\n",
    "    def training_step(self, batch, batch_idx):\n",
    "        videos, labels = batch\n",
    "        pred = self.forward(videos.float())\n",
    "\n",
    "        train_loss = self.loss(pred.squeeze(), labels.float().squeeze())\n",
    "        train_accuracy = ((pred.squeeze() > 0.5).long() == labels.squeeze()).float().mean()\n",
    "\n",
    "        self.log('train_loss', train_loss, prog_bar=True, on_epoch=True)\n",
    "        self.log('train_acc', train_accuracy, prog_bar=True, on_epoch=True)    \n",
    "        \n",
    "        return train_loss\n",
    "\n",
    "    def validation_step(self, batch, batch_idx):\n",
    "        videos, labels = batch\n",
    "        pred = self.forward(videos.float())\n",
    "        \n",
    "        val_loss = self.loss(pred.squeeze(), labels.float().squeeze())      \n",
    "        val_accuracy = ((pred.squeeze() > 0.5).long() == labels.squeeze()).float().mean()\n",
    "                \n",
    "        self.log('val_loss', val_loss, prog_bar=True)    \n",
    "        self.log('val_acc', val_accuracy, prog_bar=True)    \n",
    "        \n",
    "        return {'val_loss': val_loss, 'val_acc': val_accuracy}\n",
    "    \n",
    "\n",
    "    def configure_optimizers(self):\n",
    "        opt = torch.optim.Adam(self.model.parameters(), lr=0.001) \n",
    "        return [opt]\n",
    "\n",
    "    def train_dataloader(self):\n",
    "        \n",
    "        train_dataloader = DataLoader(self.imgs_dataset_train, batch_size=self.batch_size, \n",
    "                                      shuffle=True, num_workers=4)\n",
    "        return train_dataloader\n",
    "        \n",
    "    \n",
    "    def val_dataloader(self):\n",
    "        \n",
    "        val_dataloader = DataLoader(self.imgs_dataset_validation, batch_size=self.batch_size, shuffle=False, num_workers=4)\n",
    "        return val_dataloader"
   ]
  },
  {
   "cell_type": "code",
   "execution_count": 7,
   "id": "08857803",
   "metadata": {},
   "outputs": [],
   "source": [
    "threshold_number = 25\n",
    "threshold_list = np.linspace(-5, 5, threshold_number)\n",
    "threshold_list = 1 / (1 + np.exp(-threshold_list))\n",
    "threshold_list = [-0.001] + list(threshold_list) + [1.001]"
   ]
  },
  {
   "cell_type": "code",
   "execution_count": 8,
   "id": "a10d1116",
   "metadata": {
    "scrolled": false
   },
   "outputs": [
    {
     "name": "stderr",
     "output_type": "stream",
     "text": [
      "Using cache found in /home/eromanenkova/.cache/torch/hub/facebookresearch_pytorchvideo_main\n",
      "/home/eromanenkova/anaconda3/lib/python3.7/site-packages/torch/nn/modules/rnn.py:63: UserWarning: dropout option adds dropout after all but last recurrent layer, so non-zero dropout expects num_layers greater than 1, but got dropout=0.5 and num_layers=1\n",
      "  \"num_layers={}\".format(dropout, num_layers))\n",
      "GPU available: True, used: True\n",
      "TPU available: False, using: 0 TPU cores\n",
      "LOCAL_RANK: 0 - CUDA_VISIBLE_DEVICES: [0,1]\n",
      "\n",
      "  | Name  | Type    | Params\n",
      "----------------------------------\n",
      "0 | model | Combine | 36.9 M\n",
      "1 | loss  | CPDLoss | 0     \n",
      "----------------------------------\n",
      "5.2 M     Trainable params\n",
      "31.6 M    Non-trainable params\n",
      "36.9 M    Total params\n",
      "147.522   Total estimated model params size (MB)\n"
     ]
    },
    {
     "data": {
      "application/vnd.jupyter.widget-view+json": {
       "model_id": "",
       "version_major": 2,
       "version_minor": 0
      },
      "text/plain": [
       "Validation sanity check: 0it [00:00, ?it/s]"
      ]
     },
     "metadata": {},
     "output_type": "display_data"
    },
    {
     "data": {
      "application/vnd.jupyter.widget-view+json": {
       "model_id": "80141503684241d683f9427e5f75a73f",
       "version_major": 2,
       "version_minor": 0
      },
      "text/plain": [
       "Training: 0it [00:00, ?it/s]"
      ]
     },
     "metadata": {},
     "output_type": "display_data"
    },
    {
     "data": {
      "application/vnd.jupyter.widget-view+json": {
       "model_id": "",
       "version_major": 2,
       "version_minor": 0
      },
      "text/plain": [
       "Validating: 0it [00:00, ?it/s]"
      ]
     },
     "metadata": {},
     "output_type": "display_data"
    },
    {
     "name": "stderr",
     "output_type": "stream",
     "text": [
      "Metric val_loss improved. New best score: -0.870\n"
     ]
    },
    {
     "data": {
      "application/vnd.jupyter.widget-view+json": {
       "model_id": "",
       "version_major": 2,
       "version_minor": 0
      },
      "text/plain": [
       "Validating: 0it [00:00, ?it/s]"
      ]
     },
     "metadata": {},
     "output_type": "display_data"
    },
    {
     "name": "stderr",
     "output_type": "stream",
     "text": [
      "Metric val_loss improved by 0.441 >= min_delta = 0.01. New best score: -1.311\n"
     ]
    },
    {
     "data": {
      "application/vnd.jupyter.widget-view+json": {
       "model_id": "",
       "version_major": 2,
       "version_minor": 0
      },
      "text/plain": [
       "Validating: 0it [00:00, ?it/s]"
      ]
     },
     "metadata": {},
     "output_type": "display_data"
    },
    {
     "name": "stderr",
     "output_type": "stream",
     "text": [
      "Metric val_loss improved by 1.347 >= min_delta = 0.01. New best score: -2.658\n"
     ]
    },
    {
     "data": {
      "application/vnd.jupyter.widget-view+json": {
       "model_id": "",
       "version_major": 2,
       "version_minor": 0
      },
      "text/plain": [
       "Validating: 0it [00:00, ?it/s]"
      ]
     },
     "metadata": {},
     "output_type": "display_data"
    },
    {
     "data": {
      "application/vnd.jupyter.widget-view+json": {
       "model_id": "",
       "version_major": 2,
       "version_minor": 0
      },
      "text/plain": [
       "Validating: 0it [00:00, ?it/s]"
      ]
     },
     "metadata": {},
     "output_type": "display_data"
    },
    {
     "name": "stderr",
     "output_type": "stream",
     "text": [
      "Metric val_loss improved by 0.877 >= min_delta = 0.01. New best score: -3.535\n"
     ]
    },
    {
     "data": {
      "application/vnd.jupyter.widget-view+json": {
       "model_id": "",
       "version_major": 2,
       "version_minor": 0
      },
      "text/plain": [
       "Validating: 0it [00:00, ?it/s]"
      ]
     },
     "metadata": {},
     "output_type": "display_data"
    },
    {
     "name": "stderr",
     "output_type": "stream",
     "text": [
      "Metric val_loss improved by 0.774 >= min_delta = 0.01. New best score: -4.309\n"
     ]
    },
    {
     "data": {
      "application/vnd.jupyter.widget-view+json": {
       "model_id": "",
       "version_major": 2,
       "version_minor": 0
      },
      "text/plain": [
       "Validating: 0it [00:00, ?it/s]"
      ]
     },
     "metadata": {},
     "output_type": "display_data"
    },
    {
     "name": "stderr",
     "output_type": "stream",
     "text": [
      "Metric val_loss improved by 0.066 >= min_delta = 0.01. New best score: -4.375\n"
     ]
    },
    {
     "data": {
      "application/vnd.jupyter.widget-view+json": {
       "model_id": "",
       "version_major": 2,
       "version_minor": 0
      },
      "text/plain": [
       "Validating: 0it [00:00, ?it/s]"
      ]
     },
     "metadata": {},
     "output_type": "display_data"
    },
    {
     "data": {
      "application/vnd.jupyter.widget-view+json": {
       "model_id": "",
       "version_major": 2,
       "version_minor": 0
      },
      "text/plain": [
       "Validating: 0it [00:00, ?it/s]"
      ]
     },
     "metadata": {},
     "output_type": "display_data"
    },
    {
     "name": "stderr",
     "output_type": "stream",
     "text": [
      "Metric val_loss improved by 1.472 >= min_delta = 0.01. New best score: -5.848\n"
     ]
    },
    {
     "data": {
      "application/vnd.jupyter.widget-view+json": {
       "model_id": "",
       "version_major": 2,
       "version_minor": 0
      },
      "text/plain": [
       "Validating: 0it [00:00, ?it/s]"
      ]
     },
     "metadata": {},
     "output_type": "display_data"
    },
    {
     "name": "stderr",
     "output_type": "stream",
     "text": [
      "Metric val_loss improved by 0.312 >= min_delta = 0.01. New best score: -6.160\n"
     ]
    },
    {
     "data": {
      "application/vnd.jupyter.widget-view+json": {
       "model_id": "",
       "version_major": 2,
       "version_minor": 0
      },
      "text/plain": [
       "Validating: 0it [00:00, ?it/s]"
      ]
     },
     "metadata": {},
     "output_type": "display_data"
    },
    {
     "data": {
      "application/vnd.jupyter.widget-view+json": {
       "model_id": "",
       "version_major": 2,
       "version_minor": 0
      },
      "text/plain": [
       "Validating: 0it [00:00, ?it/s]"
      ]
     },
     "metadata": {},
     "output_type": "display_data"
    },
    {
     "name": "stderr",
     "output_type": "stream",
     "text": [
      "Metric val_loss improved by 0.606 >= min_delta = 0.01. New best score: -6.766\n"
     ]
    },
    {
     "data": {
      "application/vnd.jupyter.widget-view+json": {
       "model_id": "",
       "version_major": 2,
       "version_minor": 0
      },
      "text/plain": [
       "Validating: 0it [00:00, ?it/s]"
      ]
     },
     "metadata": {},
     "output_type": "display_data"
    },
    {
     "name": "stderr",
     "output_type": "stream",
     "text": [
      "Metric val_loss improved by 0.485 >= min_delta = 0.01. New best score: -7.251\n"
     ]
    },
    {
     "data": {
      "application/vnd.jupyter.widget-view+json": {
       "model_id": "",
       "version_major": 2,
       "version_minor": 0
      },
      "text/plain": [
       "Validating: 0it [00:00, ?it/s]"
      ]
     },
     "metadata": {},
     "output_type": "display_data"
    },
    {
     "data": {
      "application/vnd.jupyter.widget-view+json": {
       "model_id": "",
       "version_major": 2,
       "version_minor": 0
      },
      "text/plain": [
       "Validating: 0it [00:00, ?it/s]"
      ]
     },
     "metadata": {},
     "output_type": "display_data"
    },
    {
     "data": {
      "application/vnd.jupyter.widget-view+json": {
       "model_id": "",
       "version_major": 2,
       "version_minor": 0
      },
      "text/plain": [
       "Validating: 0it [00:00, ?it/s]"
      ]
     },
     "metadata": {},
     "output_type": "display_data"
    },
    {
     "name": "stderr",
     "output_type": "stream",
     "text": [
      "Metric val_loss improved by 0.212 >= min_delta = 0.01. New best score: -7.462\n"
     ]
    },
    {
     "data": {
      "application/vnd.jupyter.widget-view+json": {
       "model_id": "",
       "version_major": 2,
       "version_minor": 0
      },
      "text/plain": [
       "Validating: 0it [00:00, ?it/s]"
      ]
     },
     "metadata": {},
     "output_type": "display_data"
    },
    {
     "name": "stderr",
     "output_type": "stream",
     "text": [
      "Metric val_loss improved by 0.123 >= min_delta = 0.01. New best score: -7.585\n"
     ]
    },
    {
     "data": {
      "application/vnd.jupyter.widget-view+json": {
       "model_id": "",
       "version_major": 2,
       "version_minor": 0
      },
      "text/plain": [
       "Validating: 0it [00:00, ?it/s]"
      ]
     },
     "metadata": {},
     "output_type": "display_data"
    },
    {
     "data": {
      "application/vnd.jupyter.widget-view+json": {
       "model_id": "",
       "version_major": 2,
       "version_minor": 0
      },
      "text/plain": [
       "Validating: 0it [00:00, ?it/s]"
      ]
     },
     "metadata": {},
     "output_type": "display_data"
    },
    {
     "data": {
      "application/vnd.jupyter.widget-view+json": {
       "model_id": "",
       "version_major": 2,
       "version_minor": 0
      },
      "text/plain": [
       "Validating: 0it [00:00, ?it/s]"
      ]
     },
     "metadata": {},
     "output_type": "display_data"
    },
    {
     "data": {
      "application/vnd.jupyter.widget-view+json": {
       "model_id": "",
       "version_major": 2,
       "version_minor": 0
      },
      "text/plain": [
       "Validating: 0it [00:00, ?it/s]"
      ]
     },
     "metadata": {},
     "output_type": "display_data"
    },
    {
     "data": {
      "application/vnd.jupyter.widget-view+json": {
       "model_id": "",
       "version_major": 2,
       "version_minor": 0
      },
      "text/plain": [
       "Validating: 0it [00:00, ?it/s]"
      ]
     },
     "metadata": {},
     "output_type": "display_data"
    },
    {
     "name": "stderr",
     "output_type": "stream",
     "text": [
      "Metric val_loss improved by 0.053 >= min_delta = 0.01. New best score: -7.638\n"
     ]
    },
    {
     "data": {
      "application/vnd.jupyter.widget-view+json": {
       "model_id": "",
       "version_major": 2,
       "version_minor": 0
      },
      "text/plain": [
       "Validating: 0it [00:00, ?it/s]"
      ]
     },
     "metadata": {},
     "output_type": "display_data"
    },
    {
     "data": {
      "application/vnd.jupyter.widget-view+json": {
       "model_id": "",
       "version_major": 2,
       "version_minor": 0
      },
      "text/plain": [
       "Validating: 0it [00:00, ?it/s]"
      ]
     },
     "metadata": {},
     "output_type": "display_data"
    },
    {
     "data": {
      "application/vnd.jupyter.widget-view+json": {
       "model_id": "",
       "version_major": 2,
       "version_minor": 0
      },
      "text/plain": [
       "Validating: 0it [00:00, ?it/s]"
      ]
     },
     "metadata": {},
     "output_type": "display_data"
    },
    {
     "data": {
      "application/vnd.jupyter.widget-view+json": {
       "model_id": "",
       "version_major": 2,
       "version_minor": 0
      },
      "text/plain": [
       "Validating: 0it [00:00, ?it/s]"
      ]
     },
     "metadata": {},
     "output_type": "display_data"
    },
    {
     "data": {
      "application/vnd.jupyter.widget-view+json": {
       "model_id": "",
       "version_major": 2,
       "version_minor": 0
      },
      "text/plain": [
       "Validating: 0it [00:00, ?it/s]"
      ]
     },
     "metadata": {},
     "output_type": "display_data"
    },
    {
     "name": "stderr",
     "output_type": "stream",
     "text": [
      "Monitored metric val_loss did not improve in the last 5 records. Best score: -7.638. Signaling Trainer to stop.\n"
     ]
    },
    {
     "name": "stdout",
     "output_type": "stream",
     "text": [
      "AUC: 9.466\n",
      "Time to FA 14.2254, delay detection 1.5434 for best-cover threshold: 0.6027\n",
      "TP 17, TN 106, FP 19, FN 31 for best-cover threshold: 0.6027\n",
      "Max COVER 0.8798: for threshold 0.6027\n",
      "Max F1 0.4598: for threshold 0.6971\n",
      "F1 0.4048: for best-cover threshold 0.6027\n",
      "Max F1_ruptures (M=5) 0: for threshold 0.0067\n",
      "F1_ruptures 0: for best-cover threshold 0.6027\n"
     ]
    },
    {
     "name": "stderr",
     "output_type": "stream",
     "text": [
      "Using cache found in /home/eromanenkova/.cache/torch/hub/facebookresearch_pytorchvideo_main\n",
      "GPU available: True, used: True\n",
      "TPU available: False, using: 0 TPU cores\n",
      "LOCAL_RANK: 0 - CUDA_VISIBLE_DEVICES: [0,1]\n",
      "\n",
      "  | Name  | Type    | Params\n",
      "----------------------------------\n",
      "0 | model | Combine | 36.9 M\n",
      "1 | loss  | BCELoss | 0     \n",
      "----------------------------------\n",
      "5.2 M     Trainable params\n",
      "31.6 M    Non-trainable params\n",
      "36.9 M    Total params\n",
      "147.522   Total estimated model params size (MB)\n"
     ]
    },
    {
     "data": {
      "application/vnd.jupyter.widget-view+json": {
       "model_id": "",
       "version_major": 2,
       "version_minor": 0
      },
      "text/plain": [
       "Validation sanity check: 0it [00:00, ?it/s]"
      ]
     },
     "metadata": {},
     "output_type": "display_data"
    },
    {
     "data": {
      "application/vnd.jupyter.widget-view+json": {
       "model_id": "4d76963fa228442a99d1510b3f3593be",
       "version_major": 2,
       "version_minor": 0
      },
      "text/plain": [
       "Training: 0it [00:00, ?it/s]"
      ]
     },
     "metadata": {},
     "output_type": "display_data"
    },
    {
     "data": {
      "application/vnd.jupyter.widget-view+json": {
       "model_id": "",
       "version_major": 2,
       "version_minor": 0
      },
      "text/plain": [
       "Validating: 0it [00:00, ?it/s]"
      ]
     },
     "metadata": {},
     "output_type": "display_data"
    },
    {
     "name": "stderr",
     "output_type": "stream",
     "text": [
      "Metric val_loss improved. New best score: 0.280\n"
     ]
    },
    {
     "data": {
      "application/vnd.jupyter.widget-view+json": {
       "model_id": "",
       "version_major": 2,
       "version_minor": 0
      },
      "text/plain": [
       "Validating: 0it [00:00, ?it/s]"
      ]
     },
     "metadata": {},
     "output_type": "display_data"
    },
    {
     "data": {
      "application/vnd.jupyter.widget-view+json": {
       "model_id": "",
       "version_major": 2,
       "version_minor": 0
      },
      "text/plain": [
       "Validating: 0it [00:00, ?it/s]"
      ]
     },
     "metadata": {},
     "output_type": "display_data"
    },
    {
     "data": {
      "application/vnd.jupyter.widget-view+json": {
       "model_id": "",
       "version_major": 2,
       "version_minor": 0
      },
      "text/plain": [
       "Validating: 0it [00:00, ?it/s]"
      ]
     },
     "metadata": {},
     "output_type": "display_data"
    },
    {
     "data": {
      "application/vnd.jupyter.widget-view+json": {
       "model_id": "",
       "version_major": 2,
       "version_minor": 0
      },
      "text/plain": [
       "Validating: 0it [00:00, ?it/s]"
      ]
     },
     "metadata": {},
     "output_type": "display_data"
    },
    {
     "data": {
      "application/vnd.jupyter.widget-view+json": {
       "model_id": "",
       "version_major": 2,
       "version_minor": 0
      },
      "text/plain": [
       "Validating: 0it [00:00, ?it/s]"
      ]
     },
     "metadata": {},
     "output_type": "display_data"
    },
    {
     "name": "stderr",
     "output_type": "stream",
     "text": [
      "Monitored metric val_loss did not improve in the last 5 records. Best score: 0.280. Signaling Trainer to stop.\n"
     ]
    },
    {
     "name": "stdout",
     "output_type": "stream",
     "text": [
      "AUC: 8.5462\n",
      "Time to FA 14.948, delay detection 1.8092 for best-cover threshold: 0.6971\n",
      "TP 21, TN 104, FP 5, FN 43 for best-cover threshold: 0.6971\n",
      "Max COVER 0.8836: for threshold 0.6971\n",
      "Max F1 0.5439: for threshold 0.3973\n",
      "F1 0.4667: for best-cover threshold 0.6971\n",
      "Max F1_ruptures (M=5) 0: for threshold 0.0067\n",
      "F1_ruptures 0: for best-cover threshold 0.6971\n"
     ]
    },
    {
     "name": "stderr",
     "output_type": "stream",
     "text": [
      "Using cache found in /home/eromanenkova/.cache/torch/hub/facebookresearch_pytorchvideo_main\n",
      "GPU available: True, used: True\n",
      "TPU available: False, using: 0 TPU cores\n",
      "GPU available: True, used: True\n",
      "TPU available: False, using: 0 TPU cores\n",
      "LOCAL_RANK: 0 - CUDA_VISIBLE_DEVICES: [0,1]\n",
      "\n",
      "  | Name  | Type    | Params\n",
      "----------------------------------\n",
      "0 | model | Combine | 36.9 M\n",
      "1 | loss  | BCELoss | 0     \n",
      "----------------------------------\n",
      "5.2 M     Trainable params\n",
      "31.6 M    Non-trainable params\n",
      "36.9 M    Total params\n",
      "147.522   Total estimated model params size (MB)\n"
     ]
    },
    {
     "data": {
      "application/vnd.jupyter.widget-view+json": {
       "model_id": "",
       "version_major": 2,
       "version_minor": 0
      },
      "text/plain": [
       "Validation sanity check: 0it [00:00, ?it/s]"
      ]
     },
     "metadata": {},
     "output_type": "display_data"
    },
    {
     "data": {
      "application/vnd.jupyter.widget-view+json": {
       "model_id": "4bf6344bc6734267bf6c3741f2187128",
       "version_major": 2,
       "version_minor": 0
      },
      "text/plain": [
       "Training: 0it [00:00, ?it/s]"
      ]
     },
     "metadata": {},
     "output_type": "display_data"
    },
    {
     "data": {
      "application/vnd.jupyter.widget-view+json": {
       "model_id": "",
       "version_major": 2,
       "version_minor": 0
      },
      "text/plain": [
       "Validating: 0it [00:00, ?it/s]"
      ]
     },
     "metadata": {},
     "output_type": "display_data"
    },
    {
     "name": "stderr",
     "output_type": "stream",
     "text": [
      "Metric val_loss improved. New best score: 0.486\n",
      "LOCAL_RANK: 0 - CUDA_VISIBLE_DEVICES: [0,1]\n",
      "\n",
      "  | Name  | Type    | Params\n",
      "----------------------------------\n",
      "0 | model | Combine | 36.9 M\n",
      "1 | loss  | CPDLoss | 0     \n",
      "----------------------------------\n",
      "5.2 M     Trainable params\n",
      "31.6 M    Non-trainable params\n",
      "36.9 M    Total params\n",
      "147.522   Total estimated model params size (MB)\n"
     ]
    },
    {
     "data": {
      "application/vnd.jupyter.widget-view+json": {
       "model_id": "",
       "version_major": 2,
       "version_minor": 0
      },
      "text/plain": [
       "Validation sanity check: 0it [00:00, ?it/s]"
      ]
     },
     "metadata": {},
     "output_type": "display_data"
    },
    {
     "data": {
      "application/vnd.jupyter.widget-view+json": {
       "model_id": "f0188eee60b04a788957751a94f3d1fa",
       "version_major": 2,
       "version_minor": 0
      },
      "text/plain": [
       "Training: 0it [00:00, ?it/s]"
      ]
     },
     "metadata": {},
     "output_type": "display_data"
    },
    {
     "data": {
      "application/vnd.jupyter.widget-view+json": {
       "model_id": "",
       "version_major": 2,
       "version_minor": 0
      },
      "text/plain": [
       "Validating: 0it [00:00, ?it/s]"
      ]
     },
     "metadata": {},
     "output_type": "display_data"
    },
    {
     "name": "stderr",
     "output_type": "stream",
     "text": [
      "Metric val_loss improved by 2.159 >= min_delta = 0.01. New best score: -1.673\n"
     ]
    },
    {
     "data": {
      "application/vnd.jupyter.widget-view+json": {
       "model_id": "",
       "version_major": 2,
       "version_minor": 0
      },
      "text/plain": [
       "Validating: 0it [00:00, ?it/s]"
      ]
     },
     "metadata": {},
     "output_type": "display_data"
    },
    {
     "name": "stderr",
     "output_type": "stream",
     "text": [
      "Metric val_loss improved by 1.116 >= min_delta = 0.01. New best score: -2.789\n"
     ]
    },
    {
     "data": {
      "application/vnd.jupyter.widget-view+json": {
       "model_id": "",
       "version_major": 2,
       "version_minor": 0
      },
      "text/plain": [
       "Validating: 0it [00:00, ?it/s]"
      ]
     },
     "metadata": {},
     "output_type": "display_data"
    },
    {
     "name": "stderr",
     "output_type": "stream",
     "text": [
      "Metric val_loss improved by 0.986 >= min_delta = 0.01. New best score: -3.775\n"
     ]
    },
    {
     "data": {
      "application/vnd.jupyter.widget-view+json": {
       "model_id": "",
       "version_major": 2,
       "version_minor": 0
      },
      "text/plain": [
       "Validating: 0it [00:00, ?it/s]"
      ]
     },
     "metadata": {},
     "output_type": "display_data"
    },
    {
     "name": "stderr",
     "output_type": "stream",
     "text": [
      "Metric val_loss improved by 0.397 >= min_delta = 0.01. New best score: -4.172\n"
     ]
    },
    {
     "data": {
      "application/vnd.jupyter.widget-view+json": {
       "model_id": "",
       "version_major": 2,
       "version_minor": 0
      },
      "text/plain": [
       "Validating: 0it [00:00, ?it/s]"
      ]
     },
     "metadata": {},
     "output_type": "display_data"
    },
    {
     "name": "stderr",
     "output_type": "stream",
     "text": [
      "Metric val_loss improved by 1.441 >= min_delta = 0.01. New best score: -5.613\n"
     ]
    },
    {
     "data": {
      "application/vnd.jupyter.widget-view+json": {
       "model_id": "",
       "version_major": 2,
       "version_minor": 0
      },
      "text/plain": [
       "Validating: 0it [00:00, ?it/s]"
      ]
     },
     "metadata": {},
     "output_type": "display_data"
    },
    {
     "data": {
      "application/vnd.jupyter.widget-view+json": {
       "model_id": "",
       "version_major": 2,
       "version_minor": 0
      },
      "text/plain": [
       "Validating: 0it [00:00, ?it/s]"
      ]
     },
     "metadata": {},
     "output_type": "display_data"
    },
    {
     "name": "stderr",
     "output_type": "stream",
     "text": [
      "Metric val_loss improved by 0.402 >= min_delta = 0.01. New best score: -6.015\n"
     ]
    },
    {
     "data": {
      "application/vnd.jupyter.widget-view+json": {
       "model_id": "",
       "version_major": 2,
       "version_minor": 0
      },
      "text/plain": [
       "Validating: 0it [00:00, ?it/s]"
      ]
     },
     "metadata": {},
     "output_type": "display_data"
    },
    {
     "name": "stderr",
     "output_type": "stream",
     "text": [
      "Metric val_loss improved by 0.584 >= min_delta = 0.01. New best score: -6.599\n"
     ]
    },
    {
     "data": {
      "application/vnd.jupyter.widget-view+json": {
       "model_id": "",
       "version_major": 2,
       "version_minor": 0
      },
      "text/plain": [
       "Validating: 0it [00:00, ?it/s]"
      ]
     },
     "metadata": {},
     "output_type": "display_data"
    },
    {
     "data": {
      "application/vnd.jupyter.widget-view+json": {
       "model_id": "",
       "version_major": 2,
       "version_minor": 0
      },
      "text/plain": [
       "Validating: 0it [00:00, ?it/s]"
      ]
     },
     "metadata": {},
     "output_type": "display_data"
    },
    {
     "data": {
      "application/vnd.jupyter.widget-view+json": {
       "model_id": "",
       "version_major": 2,
       "version_minor": 0
      },
      "text/plain": [
       "Validating: 0it [00:00, ?it/s]"
      ]
     },
     "metadata": {},
     "output_type": "display_data"
    },
    {
     "name": "stderr",
     "output_type": "stream",
     "text": [
      "Metric val_loss improved by 0.399 >= min_delta = 0.01. New best score: -6.999\n"
     ]
    },
    {
     "data": {
      "application/vnd.jupyter.widget-view+json": {
       "model_id": "",
       "version_major": 2,
       "version_minor": 0
      },
      "text/plain": [
       "Validating: 0it [00:00, ?it/s]"
      ]
     },
     "metadata": {},
     "output_type": "display_data"
    },
    {
     "name": "stderr",
     "output_type": "stream",
     "text": [
      "Metric val_loss improved by 0.223 >= min_delta = 0.01. New best score: -7.221\n"
     ]
    },
    {
     "data": {
      "application/vnd.jupyter.widget-view+json": {
       "model_id": "",
       "version_major": 2,
       "version_minor": 0
      },
      "text/plain": [
       "Validating: 0it [00:00, ?it/s]"
      ]
     },
     "metadata": {},
     "output_type": "display_data"
    },
    {
     "data": {
      "application/vnd.jupyter.widget-view+json": {
       "model_id": "",
       "version_major": 2,
       "version_minor": 0
      },
      "text/plain": [
       "Validating: 0it [00:00, ?it/s]"
      ]
     },
     "metadata": {},
     "output_type": "display_data"
    },
    {
     "name": "stderr",
     "output_type": "stream",
     "text": [
      "Metric val_loss improved by 0.589 >= min_delta = 0.01. New best score: -7.810\n"
     ]
    },
    {
     "data": {
      "application/vnd.jupyter.widget-view+json": {
       "model_id": "",
       "version_major": 2,
       "version_minor": 0
      },
      "text/plain": [
       "Validating: 0it [00:00, ?it/s]"
      ]
     },
     "metadata": {},
     "output_type": "display_data"
    },
    {
     "data": {
      "application/vnd.jupyter.widget-view+json": {
       "model_id": "",
       "version_major": 2,
       "version_minor": 0
      },
      "text/plain": [
       "Validating: 0it [00:00, ?it/s]"
      ]
     },
     "metadata": {},
     "output_type": "display_data"
    },
    {
     "name": "stderr",
     "output_type": "stream",
     "text": [
      "Metric val_loss improved by 0.456 >= min_delta = 0.01. New best score: -8.266\n"
     ]
    },
    {
     "data": {
      "application/vnd.jupyter.widget-view+json": {
       "model_id": "",
       "version_major": 2,
       "version_minor": 0
      },
      "text/plain": [
       "Validating: 0it [00:00, ?it/s]"
      ]
     },
     "metadata": {},
     "output_type": "display_data"
    },
    {
     "name": "stderr",
     "output_type": "stream",
     "text": [
      "Metric val_loss improved by 0.359 >= min_delta = 0.01. New best score: -8.625\n"
     ]
    },
    {
     "data": {
      "application/vnd.jupyter.widget-view+json": {
       "model_id": "",
       "version_major": 2,
       "version_minor": 0
      },
      "text/plain": [
       "Validating: 0it [00:00, ?it/s]"
      ]
     },
     "metadata": {},
     "output_type": "display_data"
    },
    {
     "data": {
      "application/vnd.jupyter.widget-view+json": {
       "model_id": "",
       "version_major": 2,
       "version_minor": 0
      },
      "text/plain": [
       "Validating: 0it [00:00, ?it/s]"
      ]
     },
     "metadata": {},
     "output_type": "display_data"
    },
    {
     "name": "stderr",
     "output_type": "stream",
     "text": [
      "Metric val_loss improved by 0.084 >= min_delta = 0.01. New best score: -8.709\n"
     ]
    },
    {
     "data": {
      "application/vnd.jupyter.widget-view+json": {
       "model_id": "",
       "version_major": 2,
       "version_minor": 0
      },
      "text/plain": [
       "Validating: 0it [00:00, ?it/s]"
      ]
     },
     "metadata": {},
     "output_type": "display_data"
    },
    {
     "name": "stderr",
     "output_type": "stream",
     "text": [
      "Metric val_loss improved by 0.026 >= min_delta = 0.01. New best score: -8.735\n"
     ]
    },
    {
     "data": {
      "application/vnd.jupyter.widget-view+json": {
       "model_id": "",
       "version_major": 2,
       "version_minor": 0
      },
      "text/plain": [
       "Validating: 0it [00:00, ?it/s]"
      ]
     },
     "metadata": {},
     "output_type": "display_data"
    },
    {
     "data": {
      "application/vnd.jupyter.widget-view+json": {
       "model_id": "",
       "version_major": 2,
       "version_minor": 0
      },
      "text/plain": [
       "Validating: 0it [00:00, ?it/s]"
      ]
     },
     "metadata": {},
     "output_type": "display_data"
    },
    {
     "name": "stderr",
     "output_type": "stream",
     "text": [
      "Metric val_loss improved by 0.259 >= min_delta = 0.01. New best score: -8.995\n"
     ]
    },
    {
     "data": {
      "application/vnd.jupyter.widget-view+json": {
       "model_id": "",
       "version_major": 2,
       "version_minor": 0
      },
      "text/plain": [
       "Validating: 0it [00:00, ?it/s]"
      ]
     },
     "metadata": {},
     "output_type": "display_data"
    },
    {
     "data": {
      "application/vnd.jupyter.widget-view+json": {
       "model_id": "",
       "version_major": 2,
       "version_minor": 0
      },
      "text/plain": [
       "Validating: 0it [00:00, ?it/s]"
      ]
     },
     "metadata": {},
     "output_type": "display_data"
    },
    {
     "data": {
      "application/vnd.jupyter.widget-view+json": {
       "model_id": "",
       "version_major": 2,
       "version_minor": 0
      },
      "text/plain": [
       "Validating: 0it [00:00, ?it/s]"
      ]
     },
     "metadata": {},
     "output_type": "display_data"
    },
    {
     "name": "stderr",
     "output_type": "stream",
     "text": [
      "Metric val_loss improved by 0.051 >= min_delta = 0.01. New best score: -9.046\n"
     ]
    },
    {
     "data": {
      "application/vnd.jupyter.widget-view+json": {
       "model_id": "",
       "version_major": 2,
       "version_minor": 0
      },
      "text/plain": [
       "Validating: 0it [00:00, ?it/s]"
      ]
     },
     "metadata": {},
     "output_type": "display_data"
    },
    {
     "name": "stderr",
     "output_type": "stream",
     "text": [
      "Metric val_loss improved by 0.170 >= min_delta = 0.01. New best score: -9.216\n"
     ]
    },
    {
     "data": {
      "application/vnd.jupyter.widget-view+json": {
       "model_id": "",
       "version_major": 2,
       "version_minor": 0
      },
      "text/plain": [
       "Validating: 0it [00:00, ?it/s]"
      ]
     },
     "metadata": {},
     "output_type": "display_data"
    },
    {
     "data": {
      "application/vnd.jupyter.widget-view+json": {
       "model_id": "",
       "version_major": 2,
       "version_minor": 0
      },
      "text/plain": [
       "Validating: 0it [00:00, ?it/s]"
      ]
     },
     "metadata": {},
     "output_type": "display_data"
    },
    {
     "name": "stderr",
     "output_type": "stream",
     "text": [
      "Metric val_loss improved by 0.142 >= min_delta = 0.01. New best score: -9.358\n"
     ]
    },
    {
     "data": {
      "application/vnd.jupyter.widget-view+json": {
       "model_id": "",
       "version_major": 2,
       "version_minor": 0
      },
      "text/plain": [
       "Validating: 0it [00:00, ?it/s]"
      ]
     },
     "metadata": {},
     "output_type": "display_data"
    },
    {
     "name": "stderr",
     "output_type": "stream",
     "text": [
      "Metric val_loss improved by 0.368 >= min_delta = 0.01. New best score: -9.726\n"
     ]
    },
    {
     "data": {
      "application/vnd.jupyter.widget-view+json": {
       "model_id": "",
       "version_major": 2,
       "version_minor": 0
      },
      "text/plain": [
       "Validating: 0it [00:00, ?it/s]"
      ]
     },
     "metadata": {},
     "output_type": "display_data"
    },
    {
     "data": {
      "application/vnd.jupyter.widget-view+json": {
       "model_id": "",
       "version_major": 2,
       "version_minor": 0
      },
      "text/plain": [
       "Validating: 0it [00:00, ?it/s]"
      ]
     },
     "metadata": {},
     "output_type": "display_data"
    },
    {
     "data": {
      "application/vnd.jupyter.widget-view+json": {
       "model_id": "",
       "version_major": 2,
       "version_minor": 0
      },
      "text/plain": [
       "Validating: 0it [00:00, ?it/s]"
      ]
     },
     "metadata": {},
     "output_type": "display_data"
    },
    {
     "data": {
      "application/vnd.jupyter.widget-view+json": {
       "model_id": "",
       "version_major": 2,
       "version_minor": 0
      },
      "text/plain": [
       "Validating: 0it [00:00, ?it/s]"
      ]
     },
     "metadata": {},
     "output_type": "display_data"
    },
    {
     "data": {
      "application/vnd.jupyter.widget-view+json": {
       "model_id": "",
       "version_major": 2,
       "version_minor": 0
      },
      "text/plain": [
       "Validating: 0it [00:00, ?it/s]"
      ]
     },
     "metadata": {},
     "output_type": "display_data"
    },
    {
     "name": "stderr",
     "output_type": "stream",
     "text": [
      "Monitored metric val_loss did not improve in the last 5 records. Best score: -9.726. Signaling Trainer to stop.\n"
     ]
    },
    {
     "name": "stdout",
     "output_type": "stream",
     "text": [
      "AUC: 7.4701\n",
      "Time to FA 12.763, delay detection 0.6416 for best-cover threshold: 0.3973\n",
      "TP 29, TN 96, FP 35, FN 13 for best-cover threshold: 0.3973\n",
      "Max COVER 0.8955: for threshold 0.3973\n",
      "Max F1 0.5556: for threshold 0.3029\n",
      "F1 0.5472: for best-cover threshold 0.3973\n",
      "Max F1_ruptures (M=5) 0: for threshold 0.0067\n",
      "F1_ruptures 0: for best-cover threshold 0.3973\n",
      "32\n"
     ]
    },
    {
     "data": {
      "image/png": "[encoded data removed]",
      "text/plain": [
       "<Figure size 864x864 with 1 Axes>"
      ]
     },
     "metadata": {
      "needs_background": "light"
     },
     "output_type": "display_data"
    }
   ],
   "source": [
    "#HIDDEN_LSTM = 16\n",
    "HIDDEN_LSTM = 2048 * 8 * 10\n",
    "HIDDEN_SIZE = 16\n",
    "for HIDDEN_SIZE in [32]:\n",
    "    class Combine(nn.Module):\n",
    "        def __init__(self):\n",
    "            super(Combine, self).__init__()\n",
    "            # Pick a pretrained model and load the pretrained weights\n",
    "            model_name = \"slow_r50\"\n",
    "            self.extractor = torch.hub.load('facebookresearch/pytorchvideo:main', 'slow_r50', pretrained=True)\n",
    "            # 5 for full cnn part\n",
    "            self.extractor = nn.Sequential(*list(self.extractor.blocks[:5]))\n",
    "            self.fc1 = nn.Linear(HIDDEN_LSTM, HIDDEN_SIZE)\n",
    "            self.rnn = nn.LSTM(input_size=HIDDEN_SIZE,\n",
    "                               hidden_size=HIDDEN_SIZE // 2, \n",
    "                               num_layers=1,\n",
    "                               batch_first=True, \n",
    "                               dropout=0.5)\n",
    "\n",
    "            self.fc2 = nn.Linear(HIDDEN_SIZE // 2, 1)\n",
    "            self.dropout = nn.Dropout(0.5)\n",
    "            self.relu = nn.ReLU()  \n",
    "            self.activation = nn.Sigmoid()        \n",
    "\n",
    "        def forward(self, x):\n",
    "\n",
    "            batch_size, timesteps, C, H, W = x.size()\n",
    "            c_in = x.transpose(1, 2) \n",
    "            c_out = self.extractor(c_in) # batch_size, timesteps, C*H*W\n",
    "            r_in = c_out.transpose(1, 2).flatten(2)\n",
    "            r_out = r_in\n",
    "            r_out = self.fc1(r_out)\n",
    "            r_out, _ = self.rnn(r_out)\n",
    "            r_out = self.dropout(self.fc2(r_out))\n",
    "            out = torch.sigmoid(r_out)\n",
    "            return out    \n",
    "\n",
    "\n",
    "    SEED = 1\n",
    "    import torch\n",
    "    torch.manual_seed(SEED)\n",
    "    torch.backends.cudnn.deterministic = True\n",
    "    torch.cuda.manual_seed_all(SEED)\n",
    "    import random\n",
    "    random.seed(SEED)\n",
    "    import numpy as np\n",
    "    np.random.seed(SEED)\n",
    "\n",
    "    model_custom = Combine()\n",
    "\n",
    "    for param in model_custom.extractor.parameters():\n",
    "        param.requires_grad = False\n",
    "\n",
    "    model_custom_pl = CPD_model(model=model_custom,\n",
    "                                imgs_dataset_train=imgs_dataset_train,\n",
    "                                imgs_dataset_validation=imgs_dataset_validation,\n",
    "                                batch_size=8, \n",
    "                                seq_len=16, \n",
    "                                loss_type='custom')    \n",
    "\n",
    "\n",
    "\n",
    "    running = 2\n",
    "\n",
    "    experiment_name = 'I3D_v{}'.format(running)\n",
    "    logger = pl.loggers.TensorBoardLogger(save_dir='logs/', name=experiment_name)\n",
    "\n",
    "    checkpoint_callback = pl.callbacks.ModelCheckpoint(\n",
    "        monitor='val_acc',\n",
    "        dirpath=f'logs/{experiment_name}',\n",
    "        filename='{epoch:02d}-{val_acc:.3f}',\n",
    "        mode='max')\n",
    "\n",
    "    checkpoint_callback_2 = pl.callbacks.ModelCheckpoint(\n",
    "        monitor='val_loss',\n",
    "        dirpath=f'logs/{experiment_name}',\n",
    "        filename='{epoch:02d}-{val_loss:.3f}',\n",
    "        mode='min')\n",
    "\n",
    "\n",
    "    early_stop_callback = EarlyStopping(\n",
    "       monitor='val_loss',\n",
    "       min_delta=0.01,\n",
    "       patience=5,\n",
    "       verbose=True,\n",
    "       mode='min'\n",
    "    )\n",
    "\n",
    "    trainer_custom = pl.Trainer(\n",
    "        max_epochs=100, \n",
    "        gpus='1', \n",
    "        benchmark=True, \n",
    "        check_val_every_n_epoch=1, \n",
    "        logger=logger,\n",
    "        callbacks=[checkpoint_callback, checkpoint_callback_2, early_stop_callback])    \n",
    "\n",
    "    trainer_custom.fit(model_custom_pl)\n",
    "\n",
    "    _, delay_list_cpd, fp_delay_list_cpd = metrics.evaluation_pipeline(model_custom_pl, \n",
    "                                                                       model_custom_pl.val_dataloader(), \n",
    "                                                                       threshold_list, \n",
    "                                                                       device='cuda', \n",
    "                                                                       verbose=True)\n",
    "\n",
    "    np.save('delay_list_cpd_hidden_' + str(HIDDEN_SIZE) + '.npy', delay_list_cpd)\n",
    "    np.save('fp_delay_list_cpd_hidden_' + str(HIDDEN_SIZE) + '.npy', fp_delay_list_cpd)\n",
    "    ##########################\n",
    "    torch.manual_seed(SEED)\n",
    "    torch.backends.cudnn.deterministic = True\n",
    "    torch.cuda.manual_seed_all(SEED)\n",
    "    random.seed(SEED)\n",
    "    np.random.seed(SEED)\n",
    "    \n",
    "    \n",
    "    model_bce = Combine()\n",
    "\n",
    "    for param in model_bce.extractor.parameters():\n",
    "        param.requires_grad = False\n",
    "\n",
    "    model_bce_pl = CPD_model(model=model_custom,\n",
    "                                imgs_dataset_train=imgs_dataset_train,\n",
    "                                imgs_dataset_validation=imgs_dataset_validation,\n",
    "                                batch_size=8, \n",
    "                                seq_len=16, \n",
    "                                loss_type='bce')\n",
    "\n",
    "\n",
    "    experiment_name = 'I3D_v{}'.format(running)\n",
    "    logger = pl.loggers.TensorBoardLogger(save_dir='logs/', name=experiment_name)\n",
    "\n",
    "    checkpoint_callback = pl.callbacks.ModelCheckpoint(\n",
    "        monitor='val_acc',\n",
    "        dirpath=f'logs/{experiment_name}',\n",
    "        filename='{epoch:02d}-{val_acc:.3f}',\n",
    "        mode='max')\n",
    "\n",
    "    checkpoint_callback_2 = pl.callbacks.ModelCheckpoint(\n",
    "        monitor='val_loss',\n",
    "        dirpath=f'logs/{experiment_name}',\n",
    "        filename='{epoch:02d}-{val_loss:.3f}',\n",
    "        mode='min')\n",
    "\n",
    "\n",
    "    early_stop_callback = EarlyStopping(\n",
    "       monitor='val_loss',\n",
    "       min_delta=0.01,\n",
    "       patience=5,\n",
    "       verbose=True,\n",
    "       mode='min'\n",
    "    )\n",
    "\n",
    "    trainer_bce = pl.Trainer(\n",
    "        max_epochs=100, \n",
    "        gpus='1', \n",
    "        benchmark=True, \n",
    "        check_val_every_n_epoch=1, \n",
    "        logger=logger,\n",
    "        callbacks=[checkpoint_callback, checkpoint_callback_2, early_stop_callback])    \n",
    "\n",
    "    trainer_bce.fit(model_bce_pl)\n",
    "\n",
    "    _, delay_list_bce, fp_delay_list_bce = metrics.evaluation_pipeline(model_bce_pl, \n",
    "                                                                       model_custom_pl.val_dataloader(), \n",
    "                                                                       threshold_list, \n",
    "                                                                       device='cuda', \n",
    "                                                                       verbose=True)\n",
    "\n",
    "    np.save('delay_list_bce_hidden_' + str(HIDDEN_SIZE) + '.npy', delay_list_bce)\n",
    "    np.save('fp_delay_list_bce_hidden_' + str(HIDDEN_SIZE) + '.npy', fp_delay_list_bce)\n",
    "\n",
    "    ################################\n",
    "    torch.manual_seed(SEED)\n",
    "    torch.backends.cudnn.deterministic = True\n",
    "    torch.cuda.manual_seed_all(SEED)\n",
    "    random.seed(SEED)\n",
    "    np.random.seed(SEED)\n",
    "    \n",
    "    \n",
    "    model_combined = Combine()\n",
    "\n",
    "    for param in model_combined.extractor.parameters():\n",
    "        param.requires_grad = False\n",
    "\n",
    "    model_combined_pl_1 = CPD_model(model=model_combined,\n",
    "                                  imgs_dataset_train=imgs_dataset_train,\n",
    "                                  imgs_dataset_validation=imgs_dataset_validation,\n",
    "                                  batch_size=8, \n",
    "                                  seq_len=16, \n",
    "                                  loss_type='bce')\n",
    "\n",
    "    model_combined_pl_2 = CPD_model(model=model_combined,\n",
    "                                  imgs_dataset_train=imgs_dataset_train,\n",
    "                                  imgs_dataset_validation=imgs_dataset_validation,\n",
    "                                  batch_size=8, \n",
    "                                  seq_len=16, \n",
    "                                  loss_type='custom')\n",
    "\n",
    "\n",
    "\n",
    "\n",
    "    running = 2\n",
    "\n",
    "    experiment_name = 'I3D_v{}'.format(running)\n",
    "    logger = pl.loggers.TensorBoardLogger(save_dir='logs/', name=experiment_name)\n",
    "\n",
    "    checkpoint_callback = pl.callbacks.ModelCheckpoint(\n",
    "        monitor='val_acc',\n",
    "        dirpath=f'logs/{experiment_name}',\n",
    "        filename='{epoch:02d}-{val_acc:.3f}',\n",
    "        mode='max')\n",
    "\n",
    "    checkpoint_callback_2 = pl.callbacks.ModelCheckpoint(\n",
    "        monitor='val_loss',\n",
    "        dirpath=f'logs/{experiment_name}',\n",
    "        filename='{epoch:02d}-{val_loss:.3f}',\n",
    "        mode='min')\n",
    "\n",
    "\n",
    "    early_stop_callback = EarlyStopping(\n",
    "       monitor='val_loss',\n",
    "       min_delta=0.01,\n",
    "       patience=5,\n",
    "       verbose=True,\n",
    "       mode='min'\n",
    "    )\n",
    "\n",
    "    trainer_combined_1 = pl.Trainer(\n",
    "        max_epochs=1, \n",
    "        gpus='1', \n",
    "        benchmark=True, \n",
    "        check_val_every_n_epoch=1, \n",
    "        logger=logger,\n",
    "        callbacks=[checkpoint_callback, checkpoint_callback_2, early_stop_callback])   \n",
    "\n",
    "    trainer_combined_2 = pl.Trainer(\n",
    "        max_epochs=100, \n",
    "        gpus='1', \n",
    "        benchmark=True, \n",
    "        check_val_every_n_epoch=1, \n",
    "        logger=logger,\n",
    "        callbacks=[checkpoint_callback, checkpoint_callback_2, early_stop_callback])   \n",
    "\n",
    "    trainer_combined_1.fit(model_combined_pl_1)\n",
    "    trainer_combined_2.fit(model_combined_pl_2)\n",
    "\n",
    "    _, delay_list_combined, fp_delay_list_combined = metrics.evaluation_pipeline(model_combined_pl_2, \n",
    "                                                                                 model_combined_pl_1.val_dataloader(), \n",
    "                                                                                 threshold_list, \n",
    "                                                                                 device='cuda', \n",
    "                                                                                 verbose=True)\n",
    "\n",
    "\n",
    "    np.save('delay_list_comb_hidden_' + str(HIDDEN_SIZE) + '.npy', delay_list_combined)\n",
    "    np.save('fp_delay_list_comb_hidden_' + str(HIDDEN_SIZE) + '.npy', fp_delay_list_combined)\n",
    "\n",
    "    print(HIDDEN_SIZE)\n",
    "    plt.figure(figsize=(12, 12))\n",
    "    plt.plot(fp_delay_list_cpd, delay_list_cpd, '-o', markersize=4, label='CPD (ours)')\n",
    "    plt.plot(fp_delay_list_bce, delay_list_bce, '-o', markersize=4, label='BCE')\n",
    "    plt.plot(fp_delay_list_combined, delay_list_combined, '-o', markersize=4, label='Combined (ours)')\n",
    "\n",
    "    plt.xlabel('Mean Time to False Alarm', fontsize=28)\n",
    "    plt.ylabel('Mean Detection Delay', fontsize=28)\n",
    "    plt.xticks(fontsize=24)\n",
    "    plt.yticks(fontsize=24)\n",
    "    plt.legend(loc='upper left', fontsize=26);"
   ]
  },
  {
   "cell_type": "raw",
   "id": "70fe98bd",
   "metadata": {},
   "source": [
    "import torch\n",
    "torch.save(model_custom_pl.state_dict(), 'explo_final_cpd.pth')\n",
    "torch.save(model_bce_pl.state_dict(), 'explo_final_bce_seq2seq.pth')\n",
    "torch.save(model_combined_pl_2.state_dict(), 'explo_final_comb.pth')"
   ]
  },
  {
   "cell_type": "code",
   "execution_count": null,
   "id": "6836499a",
   "metadata": {},
   "outputs": [],
   "source": []
  }
 ],
 "metadata": {
  "kernelspec": {
   "display_name": "Python 3",
   "language": "python",
   "name": "python3"
  },
  "language_info": {
   "codemirror_mode": {
    "name": "ipython",
    "version": 3
   },
   "file_extension": ".py",
   "mimetype": "text/x-python",
   "name": "python",
   "nbconvert_exporter": "python",
   "pygments_lexer": "ipython3",
   "version": "3.7.9"
  }
 },
 "nbformat": 4,
 "nbformat_minor": 5
}
