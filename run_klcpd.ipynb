{
 "cells": [
  {
   "cell_type": "markdown",
   "id": "71606f59",
   "metadata": {},
   "source": [
    "# Reorganize KL-CPD code"
   ]
  },
  {
   "cell_type": "code",
   "execution_count": 33,
   "id": "1c0b6576",
   "metadata": {},
   "outputs": [],
   "source": [
    "from typing import List, Tuple\n",
    "\n",
    "import matplotlib.pyplot as plt\n",
    "\n",
    "import pytorch_lightning as pl\n",
    "from pytorch_lightning.loggers import TensorBoardLogger\n",
    "\n",
    "import torch.nn as nn\n",
    "from torch.utils.data import DataLoader\n",
    "from torch.autograd import Variable\n",
    "\n",
    "import torch\n",
    "\n",
    "from optim import Optim\n",
    "\n",
    "import mmd_util"
   ]
  },
  {
   "cell_type": "markdown",
   "id": "1ab5ec3c",
   "metadata": {},
   "source": [
    "## Dataloader"
   ]
  },
  {
   "cell_type": "code",
   "execution_count": 16,
   "id": "e63aef2b",
   "metadata": {},
   "outputs": [],
   "source": [
    "import os\n",
    "import numpy as np\n",
    "import scipy.io as sio\n",
    "import math\n",
    "import torch\n",
    "from torch.autograd import Variable\n",
    "\n",
    "class CustomDataLoader(object):\n",
    "    def __init__(self, args, trn_ratio=0.6, val_ratio=0.8):\n",
    "        self.device = args['device']\n",
    "        #self.cuda = True\n",
    "        self.data_path = args['data_path']\n",
    "        self.p_wnd_dim = 25\n",
    "        self.f_wnd_dim = args['wnd_dim']\n",
    "        self.sub_dim = args['sub_dim']\n",
    "        self.batch_size = args['batch_size']\n",
    "\n",
    "        # load data\n",
    "        self.load_data(trn_ratio=trn_ratio, val_ratio=val_ratio)\n",
    "\n",
    "        # prepare data\n",
    "        self.prepare_data()\n",
    "\n",
    "        # split data into trn/val/tst set\n",
    "        self.split_data()\n",
    "\n",
    "    # load data\n",
    "    def load_data(self, trn_ratio=0.6, val_ratio=0.8):\n",
    "        assert(os.path.lexists(self.data_path))\n",
    "        dataset = sio.loadmat(self.data_path)\n",
    "        self.Y = dataset['Y']                                   # Y: time series data, time length x number of variables\n",
    "        self.L = dataset['L']                                   # L: label of anomaly, time length x 1\n",
    "        self.T, self.D = self.Y.shape                           # T: time length; D: variable dimension\n",
    "        self.n_trn = int(np.ceil(self.T * trn_ratio))           # n_trn: first index of val set\n",
    "        self.n_val = int(np.ceil(self.T * val_ratio))           # n_val: first index of tst set\n",
    "        self.var_dim = self.D * self.sub_dim\n",
    "        \n",
    "        return dataset\n",
    "\n",
    "    # prepare subspace data (Hankel matrix)\n",
    "    def prepare_data(self):\n",
    "        # T x D x sub_dim\n",
    "        self.Y_subspace = np.zeros((self.T, self.D, self.sub_dim))\n",
    "        for t in range(self.sub_dim, self.T):\n",
    "            for d in range(self.D):\n",
    "                self.Y_subspace[t, d, :] = self.Y[t - self.sub_dim + 1 : t + 1, d].flatten()\n",
    "\n",
    "        # Y_subspace is now T x (D x sub_dim)\n",
    "        self.Y_subspace = self.Y_subspace.reshape(self.T, -1)\n",
    "        \n",
    "        return self.Y_subspace\n",
    "\n",
    "    # split data into trn/val/tst set\n",
    "    def split_data(self):\n",
    "        trn_set_idx = range(self.p_wnd_dim, self.n_trn)\n",
    "        val_set_idx = range(self.n_trn, self.n_val)\n",
    "        tst_set_idx = range(self.n_val, self.T)\n",
    "        print('n_trn ', len(trn_set_idx), 'n_val ', len(val_set_idx), 'n_tst ', len(tst_set_idx))\n",
    "        self.trn_set = self.__batchify(trn_set_idx)\n",
    "        self.val_set = self.__batchify(val_set_idx)\n",
    "        self.tst_set = self.__batchify(tst_set_idx)\n",
    "        \n",
    "        return self.trn_set, self.tst_set, self.val_set\n",
    "\n",
    "    # convert augmented data in Hankel matrix to origin time series\n",
    "    # input: X_f, whose shape is batch_size x seq_len x (D*sub_dim)\n",
    "    # output: Y_t, whose shape is batch_size x D\n",
    "    def repack_data(self, X_f, batch_size):\n",
    "        Y_t = X_f[:, 0, :].contiguous().view(batch_size, self.D, self.sub_dim)\n",
    "        return Y_t[:, :, -1]\n",
    "\n",
    "    def __batchify(self, idx_set):\n",
    "        n = len(idx_set)\n",
    "        L = torch.zeros((n, 1))                             # anomaly label\n",
    "        Y = torch.zeros((n, self.D))                        # true signal\n",
    "        X_p = torch.zeros((n, self.p_wnd_dim, self.var_dim))  # past window buffer\n",
    "        X_f = torch.zeros((n, self.f_wnd_dim, self.var_dim))  # future window buffer\n",
    "\n",
    "        # XXX: dirty trick to augment the last buffer\n",
    "        data = np.concatenate((self.Y_subspace, self.Y_subspace[-self.f_wnd_dim:, :]))\n",
    "        for i in range(n):\n",
    "            l = idx_set[i] - self.p_wnd_dim\n",
    "            m = idx_set[i]\n",
    "            u = idx_set[i] + self.f_wnd_dim\n",
    "            X_p[i, :, :] = torch.from_numpy(data[l:m, :])\n",
    "            X_f[i, :, :] = torch.from_numpy(data[m:u, :])\n",
    "            Y[i, :] = torch.from_numpy(self.Y[m, :])\n",
    "            L[i] = torch.from_numpy(self.L[m])\n",
    "        return {'X_p': X_p, 'X_f': X_f, 'Y': Y, 'L': L}\n",
    "    \n",
    "    def get_dataloader(self, data_set, batch_size, shuffle=False):\n",
    "        data = []\n",
    "        X_p, X_f = data_set['X_p'], data_set['X_f']\n",
    "        Y, L = data_set['Y'], data_set['L']\n",
    "        length = len(Y)\n",
    "        if shuffle:\n",
    "            index = torch.randperm(length)\n",
    "        else:\n",
    "            index = torch.LongTensor(range(length))\n",
    "        s_idx = 0\n",
    "        while (s_idx < length):\n",
    "            e_idx = min(length, s_idx + batch_size)\n",
    "            excerpt = index[s_idx:e_idx]\n",
    "            X_p_batch, X_f_batch = X_p[excerpt], X_f[excerpt]\n",
    "            Y_batch, L_batch = Y[excerpt], L[excerpt]\n",
    "            \n",
    "            batch = [Variable(X_p_batch), \n",
    "                     Variable(X_f_batch), \n",
    "                     Variable(Y_batch), \n",
    "                     Variable(L_batch)]\n",
    "            \n",
    "            # не работает, оставил пока Variables\n",
    "            #X_p_batch.requires_grad=True\n",
    "            #X_f_batch.requires_grad=True\n",
    "            #Y_batch.requires_grad=True\n",
    "            #L_batch.requires_grad=True\n",
    "            #batch = [X_p_batch, X_f_batch, Y_batch, L_batch]\n",
    "            \n",
    "            data.append(batch)\n",
    "            #data.extend(batch)\n",
    "            s_idx += batch_size\n",
    "        \n",
    "        return DataLoader(data)"
   ]
  },
  {
   "cell_type": "markdown",
   "id": "81e08c61",
   "metadata": {},
   "source": [
    "## Define models"
   ]
  },
  {
   "cell_type": "code",
   "execution_count": 17,
   "id": "5fee1321",
   "metadata": {},
   "outputs": [],
   "source": [
    "class NetG(nn.Module):\n",
    "    def __init__(self, args, data, device) -> None:\n",
    "            \n",
    "        super(NetG, self).__init__()\n",
    "        self.device = device\n",
    "        self.wnd_dim = args['wnd_dim']\n",
    "        self.var_dim = data.var_dim\n",
    "        self.D = data.D\n",
    "        self.RNN_hid_dim = args['RNN_hid_dim']\n",
    "\n",
    "        self.rnn_enc_layer = nn.GRU(self.var_dim, self.RNN_hid_dim, num_layers=1, batch_first=True)\n",
    "        self.rnn_dec_layer = nn.GRU(self.var_dim, self.RNN_hid_dim, num_layers=1, batch_first=True)\n",
    "        self.fc_layer = nn.Linear(self.RNN_hid_dim, self.var_dim)\n",
    "\n",
    "    # X_p:   batch_size x wnd_dim x var_dim (Encoder input)\n",
    "    # X_f:   batch_size x wnd_dim x var_dim (Decoder input)\n",
    "    # h_t:   1 x batch_size x RNN_hid_dim\n",
    "    # noise: 1 x batch_size x RNN_hid_dim\n",
    "    \n",
    "    def forward(self, X_p, X_f, noise) -> torch.Tensor:\n",
    "        \n",
    "        X_p.to(self.device)\n",
    "        X_f.to(self.device)\n",
    "        \n",
    "        X_p_enc, h_t = self.rnn_enc_layer(X_p)\n",
    "        X_f_shft = self.shft_right_one(X_f)\n",
    "        hidden = h_t + noise\n",
    "        Y_f, _ = self.rnn_dec_layer(X_f_shft, hidden)\n",
    "        output = self.fc_layer(Y_f).to(device)\n",
    "        return output\n",
    "\n",
    "    def shft_right_one(self, X) -> torch.Tensor:\n",
    "        X_shft = X.clone()\n",
    "        X_shft[:, 0, :].data.fill_(0)\n",
    "        X_shft[:, 1:, :] = X[:, :-1, :]\n",
    "        return X_shft"
   ]
  },
  {
   "cell_type": "code",
   "execution_count": 18,
   "id": "00282fba",
   "metadata": {},
   "outputs": [],
   "source": [
    "class NetD(nn.Module):\n",
    "    def __init__(self, args, data, device) -> None:\n",
    "        super(NetD, self).__init__()\n",
    "\n",
    "        self.device = device\n",
    "        self.wnd_dim = args['wnd_dim']\n",
    "        self.var_dim = data.var_dim\n",
    "        self.D = data.D\n",
    "        self.RNN_hid_dim = args['RNN_hid_dim']\n",
    "\n",
    "        self.rnn_enc_layer = nn.GRU(self.var_dim, self.RNN_hid_dim, batch_first=True)\n",
    "        self.rnn_dec_layer = nn.GRU(self.RNN_hid_dim, self.var_dim, batch_first=True)\n",
    "\n",
    "    def forward(self, X) -> Tuple[torch.Tensor, torch.Tensor]:\n",
    "        \n",
    "        X.to(self.device)\n",
    "        X_enc, _ = self.rnn_enc_layer(X)\n",
    "        X_dec, _ = self.rnn_dec_layer(X_enc)\n",
    "        X_enc.to(device)\n",
    "        X_dec.to(device)\n",
    "        return X_enc, X_dec"
   ]
  },
  {
   "cell_type": "markdown",
   "id": "1673f96a",
   "metadata": {},
   "source": [
    "## MMD Loss"
   ]
  },
  {
   "cell_type": "code",
   "execution_count": 19,
   "id": "835d0087",
   "metadata": {},
   "outputs": [],
   "source": [
    "def MMDLossD(X_f, \n",
    "             Y_f,\n",
    "             X_f_enc,      # real (initial)   subseq (future window)\n",
    "             Y_f_enc,      # fake (generated) subseq (future window)\n",
    "             X_p_enc,      # real (initial)   subseq (past window)\n",
    "             X_f_dec,\n",
    "             Y_f_dec,\n",
    "             lambda_ae,   \n",
    "             lambda_real,\n",
    "             sigma_var):\n",
    "    \n",
    "    # batchwise MMD2 loss between X_f and Y_f\n",
    "    D_mmd2 = mmd_util.batch_mmd2_loss(X_f_enc, Y_f_enc, sigma_var)\n",
    "    \n",
    "    # batchwise MMD2 loss between X_p and X_f\n",
    "    mmd2_real = mmd_util.batch_mmd2_loss(X_p_enc, X_f_enc, sigma_var)\n",
    "    \n",
    "    # reconstruction loss\n",
    "    real_L2_loss = torch.mean((X_f - X_f_dec)**2)\n",
    "    fake_L2_loss = torch.mean((Y_f - Y_f_dec)**2)\n",
    "    \n",
    "    lossD = D_mmd2.mean() - lambda_ae * (real_L2_loss + fake_L2_loss) - lambda_real * mmd2_real.mean()\n",
    "    \n",
    "    return lossD.mean()"
   ]
  },
  {
   "cell_type": "code",
   "execution_count": null,
   "id": "654b3a55",
   "metadata": {},
   "outputs": [],
   "source": [
    "'''\n",
    "MMDLossG: G_mmd2 = mmd_util.batch_mmd2_loss(X_f_enc, Y_f_enc, sigma_var)\n",
    "          lossG = G_mmd2.mean()\n",
    "'''"
   ]
  },
  {
   "cell_type": "code",
   "execution_count": 21,
   "id": "eeb914cd",
   "metadata": {},
   "outputs": [],
   "source": [
    "class KLCPD(pl.LightningModule):\n",
    "    def __init__(\n",
    "        self,\n",
    "        netG: nn.Module,\n",
    "        netD: nn.Module,\n",
    "        args: dict\n",
    "    ) -> None:\n",
    "        super().__init__()\n",
    "        \n",
    "        self.args = args\n",
    "        self.netG = netG\n",
    "        self.netD = netD\n",
    "        \n",
    "        self.data = CustomDataLoader(args=args, trn_ratio=args['trn_ratio'], val_ratio=args['val_ratio'])\n",
    "                \n",
    "        sigma_list = mmd_util.median_heuristic(self.data.Y_subspace, beta=.5)\n",
    "        self.sigma_var = torch.FloatTensor(sigma_list)\n",
    "    \n",
    "        \n",
    "    def forward(self, inputs: torch.Tensor) -> torch.Tensor:\n",
    "        X_p, X_f = inputs[0][0], inputs[1][0]\n",
    "\n",
    "        batch_size = X_p.size(0)\n",
    "\n",
    "        X_p_enc, _ = self.netD(X_p)\n",
    "        X_f_enc, _ = self.netD(X_f)\n",
    "        Y_pred = mmd_util.batch_mmd2_loss(X_p_enc, X_f_enc, self.sigma_var)\n",
    "        \n",
    "        return Y_pred\n",
    "    \n",
    "    def training_step(self, batch, batch_idx, optimizer_idx) -> torch.Tensor:\n",
    "        \n",
    "        # optimize discriminator (netD)\n",
    "        if optimizer_idx == 1:\n",
    "            \n",
    "            X_p, X_f, Y_true = batch[0][0], batch[1][0], batch[2][0]  # Y_true is not used! -> for validation only\n",
    "\n",
    "            batch_size = X_p.size(0)\n",
    "\n",
    "            # real data\n",
    "            X_p_enc, X_p_dec = self.netD(X_p)\n",
    "            X_f_enc, X_f_dec = self.netD(X_f)\n",
    "\n",
    "            # fake data\n",
    "            noise = torch.FloatTensor(1, batch_size, args['RNN_hid_dim']).normal_(0, 1)\n",
    "            noise = Variable(noise, volatile=True) # total freeze netG\n",
    "\n",
    "            Y_f = Variable(self.netG(X_p, X_f, noise))\n",
    "            Y_f_enc, Y_f_dec = self.netD(Y_f)\n",
    "            \n",
    "            lossD = (-1) * MMDLossD(X_f, Y_f, X_f_enc, Y_f_enc, X_p_enc, X_f_dec, Y_f_dec,\n",
    "                                    self.args['lambda_ae'], self.args['lambda_real'], self.sigma_var)\n",
    "            \n",
    "            self.log(\"train_loss_D\", lossD, on_step=True, prog_bar=True)\n",
    "\n",
    "            return lossD\n",
    "        \n",
    "        # optimize generator (netG)\n",
    "        if optimizer_idx == 0:\n",
    "\n",
    "            X_p, X_f = batch[0][0], batch[1][0]\n",
    "            batch_size = X_p.size(0)\n",
    "            \n",
    "            # real data\n",
    "            X_f_enc, X_f_dec = self.netD(X_f)\n",
    "\n",
    "            # fake data\n",
    "            noise = torch.FloatTensor(1, batch_size, args['RNN_hid_dim']).normal_(0, 1)\n",
    "            noise = Variable(noise)\n",
    "            Y_f = self.netG(X_p, X_f, noise)\n",
    "            Y_f_enc, Y_f_dec = self.netD(Y_f)\n",
    "\n",
    "            # batchwise MMD2 loss between X_f and Y_f\n",
    "            G_mmd2 = mmd_util.batch_mmd2_loss(X_f_enc, Y_f_enc, self.sigma_var)\n",
    "            lossG = G_mmd2.mean()\n",
    "            \n",
    "            self.log(\"train_loss_G\", lossG, on_step=True, prog_bar=True)\n",
    "            \n",
    "            return lossG\n",
    "    '''\n",
    "    def validation_step() -> torch.Tensor:\n",
    "        \n",
    "        return None\n",
    "    '''\n",
    "    def configure_optimizers(self) -> Tuple[torch.optim.Optimizer, torch.optim.Optimizer]:\n",
    "        optimizerG = torch.optim.Adam(self.netG.parameters(), \n",
    "                                      lr=self.args['lr'], \n",
    "                                      #grad_clip=self.args['grad_clip'], \n",
    "                                      weight_decay=self.args['weight_decay'])\n",
    "                                      #momentum=self.args['momentum'])\n",
    "        \n",
    "        optimizerD = torch.optim.Adam(netD.parameters(),\n",
    "                                      lr=self.args['lr'],\n",
    "                                      #grad_clip=self.args['grad_clip'],\n",
    "                                      weight_decay=self.args['weight_decay'])\n",
    "                                      #momentum=self.args['momentum'])\n",
    "        \n",
    "        return optimizerG, optimizerD\n",
    "    \n",
    "    def train_dataloader(self):\n",
    "        return self.data.get_dataloader(data_set=self.data.trn_set,\n",
    "                                        batch_size=self.args['batch_size'],\n",
    "                                        shuffle=True)\n",
    "    \n",
    "    def val_dataloader(self):\n",
    "        return self.data.get_dataloader(data_set=self.data.val_set,\n",
    "                                        batch_size=self.args['batch_size'],\n",
    "                                        shuffle=False)\n",
    "    \n",
    "    def test_dataloader(self):\n",
    "        return self.data.get_dataloder(data_set=self.data.tst_set,\n",
    "                                       batch_size=self.args['batch_size'],\n",
    "                                       shuffle=False)"
   ]
  },
  {
   "cell_type": "code",
   "execution_count": 22,
   "id": "328a7978",
   "metadata": {},
   "outputs": [],
   "source": [
    "args = {}\n",
    "args['data_path'] = '/home/eromanenkova/Intern_CPD/Alex/new_code/klcpd_code/data/beedance/beedance-1.mat'\n",
    "args['trn_ratio'] = 0.6\n",
    "args['val_ratio'] = 0.8\n",
    "args['gpu'] = 0\n",
    "#args['cuda'] = False\n",
    "args['device'] = 'cpu'\n",
    "args['random_seed'] = 1126\n",
    "args['wnd_dim'] = 10\n",
    "args['sub_dim'] = 1\n",
    "args['RNN_hid_dim'] = 10\n",
    "args['batch_size'] = 128\n",
    "args['max_iter'] = 100\n",
    "args['optim'] = 'adam'\n",
    "args['lr'] = 3e-4\n",
    "args['weight_decay'] = 0.\n",
    "args['momentum'] = 0.\n",
    "args['grad_clip'] = 10\n",
    "args['eval_freq'] = 50\n",
    "args['CRITIC_ITERS'] = 5\n",
    "args['weight_clip'] = .1\n",
    "args['lambda_ae'] = 0.001\n",
    "args['lambda_real'] = 0.1\n",
    "args['save_path'] = '/home/eromanenkova/Intern_CPD/Alex/new_code/klcpd_code/models'"
   ]
  },
  {
   "cell_type": "code",
   "execution_count": 7,
   "id": "ffe3e989",
   "metadata": {},
   "outputs": [
    {
     "data": {
      "text/plain": [
       "'cpu'"
      ]
     },
     "execution_count": 7,
     "metadata": {},
     "output_type": "execute_result"
    }
   ],
   "source": [
    "device = args['device']\n",
    "device"
   ]
  },
  {
   "cell_type": "code",
   "execution_count": 23,
   "id": "95299a2f",
   "metadata": {},
   "outputs": [
    {
     "name": "stdout",
     "output_type": "stream",
     "text": [
      "n_trn  610 n_val  211 n_tst  211\n"
     ]
    }
   ],
   "source": [
    "Data = CustomDataLoader(args=args, trn_ratio=args['trn_ratio'], val_ratio=args['val_ratio'])\n",
    "netG = NetG(args, Data, device)\n",
    "netD = NetD(args, Data, device)"
   ]
  },
  {
   "cell_type": "code",
   "execution_count": 24,
   "id": "ca89f01f",
   "metadata": {},
   "outputs": [
    {
     "name": "stdout",
     "output_type": "stream",
     "text": [
      "n_trn  610 n_val  211 n_tst  211\n"
     ]
    },
    {
     "data": {
      "text/plain": [
       "KLCPD(\n",
       "  (netG): NetG(\n",
       "    (rnn_enc_layer): GRU(3, 10, batch_first=True)\n",
       "    (rnn_dec_layer): GRU(3, 10, batch_first=True)\n",
       "    (fc_layer): Linear(in_features=10, out_features=3, bias=True)\n",
       "  )\n",
       "  (netD): NetD(\n",
       "    (rnn_enc_layer): GRU(3, 10, batch_first=True)\n",
       "    (rnn_dec_layer): GRU(10, 3, batch_first=True)\n",
       "  )\n",
       ")"
      ]
     },
     "execution_count": 24,
     "metadata": {},
     "output_type": "execute_result"
    }
   ],
   "source": [
    "kl_cpd_model = KLCPD(netG, netD, args)\n",
    "kl_cpd_model"
   ]
  },
  {
   "cell_type": "code",
   "execution_count": 26,
   "id": "c4d88467",
   "metadata": {},
   "outputs": [
    {
     "data": {
      "text/plain": [
       "\"\\ni = 0\\nfor inputs in Data.get_batches(Data.tst_set, batch_size=128):\\n    print(i)\\n    #print('inputs:', inputs)\\n    #print('inputs, X_p:', inputs[0])\\n    print('X_p size', inputs[0].size())\\n    #print('inputs, X_f:', inputs[1])\\n    print('X_f size', inputs[1].size())\\n\\n    print('preds: ', kl_cpd_model(inputs))\\n    print('preds size: ', kl_cpd_model(inputs).size())\\n    print('-------------------------')\\n    i += 1\\n\""
      ]
     },
     "execution_count": 26,
     "metadata": {},
     "output_type": "execute_result"
    }
   ],
   "source": [
    "'''\n",
    "i = 0\n",
    "for inputs in Data.get_batches(Data.tst_set, batch_size=128):\n",
    "    print(i)\n",
    "    #print('inputs:', inputs)\n",
    "    #print('inputs, X_p:', inputs[0])\n",
    "    print('X_p size', inputs[0].size())\n",
    "    #print('inputs, X_f:', inputs[1])\n",
    "    print('X_f size', inputs[1].size())\n",
    "\n",
    "    print('preds: ', kl_cpd_model(inputs))\n",
    "    print('preds size: ', kl_cpd_model(inputs).size())\n",
    "    print('-------------------------')\n",
    "    i += 1\n",
    "'''"
   ]
  },
  {
   "cell_type": "code",
   "execution_count": 37,
   "id": "723908b0",
   "metadata": {},
   "outputs": [
    {
     "name": "stdout",
     "output_type": "stream",
     "text": [
      "0\n",
      "inputs, X_p: tensor([[[[0.0329, 0.5202, 0.5342],\n",
      "          [0.0110, 0.5202, 0.7105],\n",
      "          [0.0000, 0.5305, 0.4355],\n",
      "          ...,\n",
      "          [0.1834, 0.5573, 0.4651],\n",
      "          [0.1678, 0.5144, 0.5982],\n",
      "          [0.1956, 0.5608, 0.3587]],\n",
      "\n",
      "         [[0.0110, 0.5202, 0.7105],\n",
      "          [0.0000, 0.5305, 0.4355],\n",
      "          [0.0110, 0.5614, 0.4302],\n",
      "          ...,\n",
      "          [0.1678, 0.5144, 0.5982],\n",
      "          [0.1956, 0.5608, 0.3587],\n",
      "          [0.2039, 0.5170, 0.6962]],\n",
      "\n",
      "         [[0.0000, 0.5305, 0.4355],\n",
      "          [0.0110, 0.5614, 0.4302],\n",
      "          [0.0329, 0.5614, 0.5269],\n",
      "          ...,\n",
      "          [0.1956, 0.5608, 0.3587],\n",
      "          [0.2039, 0.5170, 0.6962],\n",
      "          [0.2126, 0.5173, 0.5163]],\n",
      "\n",
      "         ...,\n",
      "\n",
      "         [[0.3805, 0.7468, 0.5543],\n",
      "          [0.3711, 0.7085, 0.5416],\n",
      "          [0.3473, 0.6946, 0.4791],\n",
      "          ...,\n",
      "          [0.5100, 0.6877, 0.4941],\n",
      "          [0.5099, 0.7374, 0.5985],\n",
      "          [0.5045, 0.6968, 0.7804]],\n",
      "\n",
      "         [[0.3711, 0.7085, 0.5416],\n",
      "          [0.3473, 0.6946, 0.4791],\n",
      "          [0.3824, 0.7130, 0.5662],\n",
      "          ...,\n",
      "          [0.5099, 0.7374, 0.5985],\n",
      "          [0.5045, 0.6968, 0.7804],\n",
      "          [0.5543, 0.7263, 0.2684]],\n",
      "\n",
      "         [[0.3473, 0.6946, 0.4791],\n",
      "          [0.3824, 0.7130, 0.5662],\n",
      "          [0.3479, 0.6794, 0.4909],\n",
      "          ...,\n",
      "          [0.5045, 0.6968, 0.7804],\n",
      "          [0.5543, 0.7263, 0.2684],\n",
      "          [0.5521, 0.6820, 0.4592]]]])\n",
      "X_p size torch.Size([1, 128, 25, 3])\n",
      "inputs, X_f: tensor([[[[0.2039, 0.5170, 0.6962],\n",
      "          [0.2126, 0.5173, 0.5163],\n",
      "          [0.2155, 0.5547, 0.3307],\n",
      "          ...,\n",
      "          [0.2260, 0.5492, 0.4234],\n",
      "          [0.2146, 0.5268, 0.6106],\n",
      "          [0.2541, 0.5657, 0.3784]],\n",
      "\n",
      "         [[0.2126, 0.5173, 0.5163],\n",
      "          [0.2155, 0.5547, 0.3307],\n",
      "          [0.2017, 0.5082, 0.7510],\n",
      "          ...,\n",
      "          [0.2146, 0.5268, 0.6106],\n",
      "          [0.2541, 0.5657, 0.3784],\n",
      "          [0.2269, 0.5268, 0.4617]],\n",
      "\n",
      "         [[0.2155, 0.5547, 0.3307],\n",
      "          [0.2017, 0.5082, 0.7510],\n",
      "          [0.2194, 0.5437, 0.4222],\n",
      "          ...,\n",
      "          [0.2541, 0.5657, 0.3784],\n",
      "          [0.2269, 0.5268, 0.4617],\n",
      "          [0.2375, 0.5663, 0.5938]],\n",
      "\n",
      "         ...,\n",
      "\n",
      "         [[0.5543, 0.7263, 0.2684],\n",
      "          [0.5521, 0.6820, 0.4592],\n",
      "          [0.5521, 0.7183, 0.5058],\n",
      "          ...,\n",
      "          [0.6377, 0.6821, 0.4517],\n",
      "          [0.5981, 0.6421, 0.4418],\n",
      "          [0.6556, 0.6784, 0.5316]],\n",
      "\n",
      "         [[0.5521, 0.6820, 0.4592],\n",
      "          [0.5521, 0.7183, 0.5058],\n",
      "          [0.5646, 0.6983, 0.4982],\n",
      "          ...,\n",
      "          [0.5981, 0.6421, 0.4418],\n",
      "          [0.6556, 0.6784, 0.5316],\n",
      "          [0.6323, 0.6327, 0.4944]],\n",
      "\n",
      "         [[0.5521, 0.7183, 0.5058],\n",
      "          [0.5646, 0.6983, 0.4982],\n",
      "          [0.5677, 0.7150, 0.5385],\n",
      "          ...,\n",
      "          [0.6556, 0.6784, 0.5316],\n",
      "          [0.6323, 0.6327, 0.4944],\n",
      "          [0.6415, 0.6677, 0.5460]]]])\n",
      "X_f size torch.Size([1, 128, 10, 3])\n"
     ]
    },
    {
     "name": "stderr",
     "output_type": "stream",
     "text": [
      "/home/eromanenkova/Intern_CPD/Alex/new_code/klcpd_code/mmd_util.py:40: UserWarning: Implicit dimension choice for softmax has been deprecated. Change the call to include dim=X as an argument.\n",
      "  sigma_samples = F.softmax(U * gumbel_lmd).matmul(sigma_var)\n"
     ]
    },
    {
     "name": "stdout",
     "output_type": "stream",
     "text": [
      "preds:  tensor([1.0064, 0.9044, 0.8421, 0.8269, 0.7617, 0.7362, 0.7478, 0.7158, 0.7594,\n",
      "        0.7479, 0.7760, 0.7825, 0.7785, 0.8150, 0.8603, 0.8499, 0.8856, 0.9783,\n",
      "        0.9578, 0.9728, 1.0343, 1.0389, 0.9958, 1.0200, 0.9461, 0.9718, 0.9863,\n",
      "        0.9984, 1.0495, 1.0560, 1.1592, 1.1732, 1.3867, 1.3764, 1.3999, 1.4027,\n",
      "        1.5239, 1.5906, 1.5749, 1.6259, 1.6717, 1.5852, 1.5570, 1.5133, 1.3878,\n",
      "        1.3377, 1.3158, 1.2272, 1.1697, 1.0368, 0.8910, 0.8285, 0.7763, 0.7351,\n",
      "        0.6426, 0.6119, 0.5494, 0.5377, 0.5526, 0.5624, 0.6294, 0.6962, 0.8196,\n",
      "        1.0219, 1.1108, 1.2353, 1.3677, 1.4300, 1.4236, 1.4306, 1.4406, 1.5324,\n",
      "        1.5173, 1.5500, 1.6200, 1.6691, 1.6294, 1.6819, 1.6444, 1.5413, 1.6238,\n",
      "        1.5449, 1.5747, 1.6442, 1.7012, 1.6466, 1.7600, 1.7154, 1.7155, 1.5969,\n",
      "        1.6107, 1.4532, 1.3719, 1.3200, 1.1798, 1.1351, 1.0369, 1.0821, 1.0282,\n",
      "        1.0067, 0.8983, 0.9435, 0.9222, 0.8765, 0.8531, 0.8069, 0.8042, 0.7782,\n",
      "        0.7517, 0.7723, 0.7587, 0.7839, 0.8111, 0.8337, 0.8525, 0.9166, 0.8825,\n",
      "        0.8795, 0.8836, 0.8563, 0.8840, 0.8520, 0.9019, 0.9929, 1.0196, 1.0290,\n",
      "        1.0457, 1.0971], grad_fn=<SumBackward1>)\n",
      "-------------------------\n",
      "1\n",
      "inputs, X_p: tensor([[[[0.3824, 0.7130, 0.5662],\n",
      "          [0.3479, 0.6794, 0.4909],\n",
      "          [0.3469, 0.6937, 0.7770],\n",
      "          ...,\n",
      "          [0.5543, 0.7263, 0.2684],\n",
      "          [0.5521, 0.6820, 0.4592],\n",
      "          [0.5521, 0.7183, 0.5058]],\n",
      "\n",
      "         [[0.3479, 0.6794, 0.4909],\n",
      "          [0.3469, 0.6937, 0.7770],\n",
      "          [0.3568, 0.6847, 0.2505],\n",
      "          ...,\n",
      "          [0.5521, 0.6820, 0.4592],\n",
      "          [0.5521, 0.7183, 0.5058],\n",
      "          [0.5646, 0.6983, 0.4982]],\n",
      "\n",
      "         [[0.3469, 0.6937, 0.7770],\n",
      "          [0.3568, 0.6847, 0.2505],\n",
      "          [0.3959, 0.7221, 0.5453],\n",
      "          ...,\n",
      "          [0.5521, 0.7183, 0.5058],\n",
      "          [0.5646, 0.6983, 0.4982],\n",
      "          [0.5677, 0.7150, 0.5385]],\n",
      "\n",
      "         ...,\n",
      "\n",
      "         [[0.0928, 0.5075, 0.4980],\n",
      "          [0.0985, 0.5047, 0.4925],\n",
      "          [0.1303, 0.5004, 0.4461],\n",
      "          ...,\n",
      "          [0.1566, 0.5404, 0.5510],\n",
      "          [0.2112, 0.5279, 0.5541],\n",
      "          [0.2267, 0.5118, 0.5031]],\n",
      "\n",
      "         [[0.0985, 0.5047, 0.4925],\n",
      "          [0.1303, 0.5004, 0.4461],\n",
      "          [0.1024, 0.5048, 0.5442],\n",
      "          ...,\n",
      "          [0.2112, 0.5279, 0.5541],\n",
      "          [0.2267, 0.5118, 0.5031],\n",
      "          [0.2247, 0.5463, 0.2842]],\n",
      "\n",
      "         [[0.1303, 0.5004, 0.4461],\n",
      "          [0.1024, 0.5048, 0.5442],\n",
      "          [0.0611, 0.5114, 0.5490],\n",
      "          ...,\n",
      "          [0.2267, 0.5118, 0.5031],\n",
      "          [0.2247, 0.5463, 0.2842],\n",
      "          [0.2535, 0.5119, 0.8078]]]])\n",
      "X_p size torch.Size([1, 96, 25, 3])\n",
      "inputs, X_f: tensor([[[[0.5646, 0.6983, 0.4982],\n",
      "          [0.5677, 0.7150, 0.5385],\n",
      "          [0.6029, 0.6587, 0.5027],\n",
      "          ...,\n",
      "          [0.6323, 0.6327, 0.4944],\n",
      "          [0.6415, 0.6677, 0.5460],\n",
      "          [0.6415, 0.6244, 0.5613]],\n",
      "\n",
      "         [[0.5677, 0.7150, 0.5385],\n",
      "          [0.6029, 0.6587, 0.5027],\n",
      "          [0.5925, 0.6395, 0.7084],\n",
      "          ...,\n",
      "          [0.6415, 0.6677, 0.5460],\n",
      "          [0.6415, 0.6244, 0.5613],\n",
      "          [0.6262, 0.6289, 0.4655]],\n",
      "\n",
      "         [[0.6029, 0.6587, 0.5027],\n",
      "          [0.5925, 0.6395, 0.7084],\n",
      "          [0.6377, 0.6821, 0.4517],\n",
      "          ...,\n",
      "          [0.6415, 0.6244, 0.5613],\n",
      "          [0.6262, 0.6289, 0.4655],\n",
      "          [0.6512, 0.6661, 0.5848]],\n",
      "\n",
      "         ...,\n",
      "\n",
      "         [[0.2247, 0.5463, 0.2842],\n",
      "          [0.2535, 0.5119, 0.8078],\n",
      "          [0.2682, 0.5695, 0.4473],\n",
      "          ...,\n",
      "          [0.1566, 0.5404, 0.5510],\n",
      "          [0.2112, 0.5279, 0.5541],\n",
      "          [0.2267, 0.5118, 0.5031]],\n",
      "\n",
      "         [[0.2535, 0.5119, 0.8078],\n",
      "          [0.2682, 0.5695, 0.4473],\n",
      "          [0.1274, 0.5116, 0.6437],\n",
      "          ...,\n",
      "          [0.2112, 0.5279, 0.5541],\n",
      "          [0.2267, 0.5118, 0.5031],\n",
      "          [0.2247, 0.5463, 0.2842]],\n",
      "\n",
      "         [[0.2682, 0.5695, 0.4473],\n",
      "          [0.1274, 0.5116, 0.6437],\n",
      "          [0.1702, 0.5127, 0.3226],\n",
      "          ...,\n",
      "          [0.2267, 0.5118, 0.5031],\n",
      "          [0.2247, 0.5463, 0.2842],\n",
      "          [0.2535, 0.5119, 0.8078]]]])\n",
      "X_f size torch.Size([1, 96, 10, 3])\n",
      "preds:  tensor([1.1893, 1.2279, 1.2075, 1.1835, 1.1543, 1.1262, 1.1273, 1.1203, 1.0631,\n",
      "        1.0952, 1.0928, 1.1233, 1.2406, 1.2724, 1.3779, 1.4605, 1.4858, 1.5796,\n",
      "        1.5879, 1.5968, 1.6215, 1.6533, 1.6625, 1.6785, 1.7131, 1.7391, 1.7222,\n",
      "        1.6314, 1.6621, 1.6531, 1.6555, 1.8270, 1.9378, 2.0715, 2.1343, 2.2176,\n",
      "        2.3464, 2.3250, 2.2900, 2.1677, 2.0982, 2.0077, 1.9609, 1.8901, 1.9180,\n",
      "        1.9324, 1.8939, 1.8841, 1.9429, 1.8547, 1.7691, 1.7780, 1.6453, 1.6399,\n",
      "        1.6641, 1.7477, 1.7046, 1.8324, 1.7851, 1.8165, 1.7630, 1.7280, 1.5904,\n",
      "        1.4847, 1.3919, 1.3228, 1.2362, 1.1977, 1.0896, 1.0431, 0.9175, 0.8222,\n",
      "        0.7448, 0.6162, 0.5589, 0.5037, 0.4178, 0.4144, 0.3759, 0.4228, 0.4705,\n",
      "        0.5215, 0.6176, 0.6602, 0.6691, 0.7072, 0.7942, 0.8136, 0.7797, 0.6816,\n",
      "        0.6190, 0.5858, 0.5399, 0.5241, 0.5140, 0.5297],\n",
      "       grad_fn=<SumBackward1>)\n",
      "-------------------------\n"
     ]
    }
   ],
   "source": [
    "tst_dataloader = Data.get_dataloader(Data.tst_set, batch_size=128)\n",
    "i = 0\n",
    "for inputs in tst_dataloader:\n",
    "    print(i)\n",
    "    #print('inputs:', inputs)\n",
    "    #print('inputs size:')\n",
    "    print('inputs, X_p:', inputs[0])\n",
    "    print('X_p size', inputs[0].size())\n",
    "    print('inputs, X_f:', inputs[1])\n",
    "    print('X_f size', inputs[1].size())\n",
    "    print('preds: ', kl_cpd_model(inputs))\n",
    "    print('-------------------------')\n",
    "    i += 1"
   ]
  },
  {
   "cell_type": "code",
   "execution_count": 25,
   "id": "8b6a21ac",
   "metadata": {},
   "outputs": [],
   "source": [
    "# Y, L should be numpy array\n",
    "def valid_epoch(loader, data, kl_cpd_model, batch_size, Y_true, L_true):\n",
    "    #netD.eval()\n",
    "    Y_pred = []\n",
    "    for inputs in loader.get_dataloader(data, batch_size, shuffle=False):\n",
    "        X_p, X_f = inputs[0][0], inputs[1][0]\n",
    "        \n",
    "        batch_size = X_p.size(0)\n",
    "\n",
    "        X_p_enc, _ = kl_cpd_model.netD(X_p)\n",
    "        X_f_enc, _ = kl_cpd_model.netD(X_f)\n",
    "        Y_pred_batch = mmd_util.batch_mmd2_loss(X_p_enc, X_f_enc, sigma_var)\n",
    "        Y_pred.append(Y_pred_batch.data.cpu().numpy())\n",
    "    Y_pred = np.concatenate(Y_pred, axis=0)\n",
    "\n",
    "    L_pred = Y_pred\n",
    "    #fp_list, tp_list, thresholds = sklearn.metrics.roc_curve(L_true, L_pred)\n",
    "    #auc = sklearn.metrics.auc(fp_list, tp_list)\n",
    "    #eval_dict = {'Y_pred': Y_pred,\n",
    "    #             'L_pred': L_pred,\n",
    "    #             'Y_true': Y_true,\n",
    "    #             'L_true': L_true,\n",
    "    #             'mse': -1, 'mae': -1, 'auc': auc}\n",
    "    #netD.train()\n",
    "    return Y_pred"
   ]
  },
  {
   "cell_type": "code",
   "execution_count": 26,
   "id": "67032bd7",
   "metadata": {},
   "outputs": [
    {
     "name": "stdout",
     "output_type": "stream",
     "text": [
      "sigma_var: tensor([0.0397, 0.0795, 0.1589, 0.3179, 0.6357])\n"
     ]
    }
   ],
   "source": [
    "Y_tst = Data.tst_set['Y'].numpy()\n",
    "L_tst = Data.tst_set['L'].numpy()\n",
    "sigma_list = mmd_util.median_heuristic(Data.Y_subspace, beta=.5)\n",
    "sigma_var = torch.FloatTensor(sigma_list)\n",
    "print('sigma_var:', sigma_var)"
   ]
  },
  {
   "cell_type": "markdown",
   "id": "0e6e0d63",
   "metadata": {},
   "source": [
    "### Before training"
   ]
  },
  {
   "cell_type": "code",
   "execution_count": 27,
   "id": "6f2f76fc",
   "metadata": {},
   "outputs": [
    {
     "name": "stderr",
     "output_type": "stream",
     "text": [
      "/home/eromanenkova/Intern_CPD/Alex/new_code/klcpd_code/mmd_util.py:40: UserWarning: Implicit dimension choice for softmax has been deprecated. Change the call to include dim=X as an argument.\n",
      "  sigma_samples = F.softmax(U * gumbel_lmd).matmul(sigma_var)\n"
     ]
    },
    {
     "data": {
      "text/plain": [
       "array([0.29819736, 0.31684113, 0.3127071 , 0.3215282 , 0.33419958,\n",
       "       0.3582331 , 0.4005285 , 0.45032898, 0.5213737 , 0.52993226,\n",
       "       0.5588394 , 0.5415831 , 0.4876119 , 0.4571652 , 0.39258295,\n",
       "       0.36684233, 0.34979114, 0.34087414, 0.34133163, 0.34298944,\n",
       "       0.33409467, 0.33718818, 0.37093273, 0.42554256, 0.45834985,\n",
       "       0.4909198 , 0.5010994 , 0.5068238 , 0.5588223 , 0.57267964,\n",
       "       0.636568  , 0.64831454, 0.6826857 , 0.75308764, 0.7968967 ,\n",
       "       0.8373317 , 0.84835404, 0.92113227, 0.9308309 , 0.91975623,\n",
       "       0.92893374, 0.9235667 , 0.86326444, 0.85431015, 0.8490353 ,\n",
       "       0.79084224, 0.812289  , 0.8396985 , 0.8191958 , 0.7867148 ,\n",
       "       0.7710637 , 0.7718181 , 0.801338  , 0.7868718 , 0.81422323,\n",
       "       0.78938586, 0.74445444, 0.7722635 , 0.7284348 , 0.7032675 ,\n",
       "       0.7356901 , 0.7339393 , 0.809821  , 0.792623  , 0.830251  ,\n",
       "       0.846633  , 0.89843756, 0.93190366, 0.87667   , 0.9237601 ,\n",
       "       0.89349014, 0.87659377, 0.8616799 , 0.7900424 , 0.7969476 ,\n",
       "       0.6934816 , 0.6502051 , 0.5754681 , 0.5230211 , 0.4645993 ,\n",
       "       0.44458452, 0.41054663, 0.39318317, 0.3623392 , 0.34007946,\n",
       "       0.32402816, 0.31031263, 0.3117337 , 0.30016837, 0.34466615,\n",
       "       0.32309517, 0.35595548, 0.39083588, 0.39302045, 0.4085758 ,\n",
       "       0.43451646, 0.448288  , 0.46075574, 0.49561703, 0.47320816,\n",
       "       0.46024007, 0.47826385, 0.48281044, 0.4955734 , 0.5223079 ,\n",
       "       0.55741817, 0.5343068 , 0.60860425, 0.5728763 , 0.585925  ,\n",
       "       0.60626894, 0.5792745 , 0.5968081 , 0.5935081 , 0.59127045,\n",
       "       0.6062579 , 0.60019857, 0.59597653, 0.63004684, 0.6729395 ,\n",
       "       0.71688586, 0.73977286, 0.78490585, 0.8632644 , 0.81189466,\n",
       "       0.86173016, 0.8272709 , 0.8187514 , 0.7938512 , 0.8079375 ,\n",
       "       0.78950596, 0.8300138 , 0.82453233, 0.8759539 , 0.93470484,\n",
       "       0.9437922 , 1.        , 0.9404639 , 0.9335914 , 0.87257403,\n",
       "       0.8352544 , 0.76077497, 0.71438444, 0.619336  , 0.6014234 ,\n",
       "       0.5512819 , 0.54536587, 0.5706589 , 0.5782174 , 0.64856726,\n",
       "       0.7000894 , 0.7582079 , 0.7933111 , 0.8483837 , 0.9210029 ,\n",
       "       0.9015369 , 0.89739174, 0.9077318 , 0.8704477 , 0.8785668 ,\n",
       "       0.8389445 , 0.80236953, 0.7514609 , 0.7253941 , 0.6973005 ,\n",
       "       0.70981747, 0.6976339 , 0.68010163, 0.6580577 , 0.6396505 ,\n",
       "       0.6249586 , 0.6013874 , 0.58260196, 0.52311146, 0.49760357,\n",
       "       0.50092417, 0.51965165, 0.50296813, 0.5093188 , 0.46768606,\n",
       "       0.42094165, 0.36649725, 0.3154745 , 0.28929034, 0.2460497 ,\n",
       "       0.25426218, 0.24596742, 0.27010807, 0.26655602, 0.29320565,\n",
       "       0.3229609 , 0.35338247, 0.38381276, 0.4467711 , 0.4423695 ,\n",
       "       0.42585987, 0.4110133 , 0.45950985, 0.46968767, 0.51013   ,\n",
       "       0.5509816 , 0.5908884 , 0.6270499 , 0.6810475 , 0.69726086,\n",
       "       0.751705  , 0.77091   , 0.81558585, 0.768392  , 0.76995444,\n",
       "       0.75133765], dtype=float32)"
      ]
     },
     "execution_count": 27,
     "metadata": {},
     "output_type": "execute_result"
    }
   ],
   "source": [
    "pred = valid_epoch(Data, Data.val_set, kl_cpd_model, args['batch_size'], Y_tst, L_tst)\n",
    "pred = pred / np.max(pred)\n",
    "pred"
   ]
  },
  {
   "cell_type": "code",
   "execution_count": 28,
   "id": "4b60ea5d",
   "metadata": {},
   "outputs": [],
   "source": [
    "true = L_tst.flatten()\n",
    "#true"
   ]
  },
  {
   "cell_type": "code",
   "execution_count": 29,
   "id": "ef21588c",
   "metadata": {},
   "outputs": [
    {
     "data": {
      "text/plain": [
       "<matplotlib.legend.Legend at 0x7f3dcbbb9dd0>"
      ]
     },
     "execution_count": 29,
     "metadata": {},
     "output_type": "execute_result"
    },
    {
     "data": {
      "image/png": "[encoded data removed]",
      "text/plain": [
       "<Figure size 432x288 with 1 Axes>"
      ]
     },
     "metadata": {
      "needs_background": "light"
     },
     "output_type": "display_data"
    }
   ],
   "source": [
    "plt.figure()\n",
    "plt.plot(pred, label='pred')\n",
    "plt.plot(true, label='true')\n",
    "plt.legend()"
   ]
  },
  {
   "cell_type": "code",
   "execution_count": 30,
   "id": "796105b3",
   "metadata": {},
   "outputs": [],
   "source": [
    "logger = TensorBoardLogger(save_dir='logs/', name='experiments_beedance1_equal_weights')"
   ]
  },
  {
   "cell_type": "code",
   "execution_count": 31,
   "id": "1ec5044a",
   "metadata": {},
   "outputs": [
    {
     "name": "stderr",
     "output_type": "stream",
     "text": [
      "GPU available: True, used: False\n",
      "TPU available: False, using: 0 TPU cores\n",
      "/home/eromanenkova/anaconda3/lib/python3.7/site-packages/pytorch_lightning/utilities/distributed.py:69: UserWarning: GPU available but not used. Set the gpus flag in your trainer `Trainer(gpus=1)` or script `--gpus=1`.\n",
      "  warnings.warn(*args, **kwargs)\n"
     ]
    }
   ],
   "source": [
    "trainer = pl.Trainer(\n",
    "        max_epochs=10,\n",
    "        gpus=0,\n",
    "        benchmark=True,\n",
    "        #check_val_every_n_epoch=1,\n",
    "        #gradient_clip_val=gradient_clip_val,\n",
    "        logger=logger\n",
    "        #callbacks=callbacks\n",
    ")"
   ]
  },
  {
   "cell_type": "code",
   "execution_count": 32,
   "id": "37eae8ec",
   "metadata": {},
   "outputs": [
    {
     "name": "stderr",
     "output_type": "stream",
     "text": [
      "/home/eromanenkova/anaconda3/lib/python3.7/site-packages/pytorch_lightning/utilities/distributed.py:69: UserWarning: you passed in a val_dataloader but have no validation_step. Skipping val loop\n",
      "  warnings.warn(*args, **kwargs)\n",
      "\n",
      "  | Name | Type | Params\n",
      "------------------------------\n",
      "0 | netG | NetG | 933   \n",
      "1 | netD | NetD | 585   \n",
      "------------------------------\n",
      "1.5 K     Trainable params\n",
      "0         Non-trainable params\n",
      "1.5 K     Total params\n",
      "0.006     Total estimated model params size (MB)\n",
      "/home/eromanenkova/anaconda3/lib/python3.7/site-packages/pytorch_lightning/utilities/distributed.py:69: UserWarning: The dataloader, train dataloader, does not have many workers which may be a bottleneck. Consider increasing the value of the `num_workers` argument` (try 6 which is the number of cpus on this machine) in the `DataLoader` init to improve performance.\n",
      "  warnings.warn(*args, **kwargs)\n"
     ]
    },
    {
     "data": {
      "application/vnd.jupyter.widget-view+json": {
       "model_id": "dbe9fc8d17a8485787ca758cd1c17841",
       "version_major": 2,
       "version_minor": 0
      },
      "text/plain": [
       "Training: 0it [00:00, ?it/s]"
      ]
     },
     "metadata": {},
     "output_type": "display_data"
    },
    {
     "name": "stderr",
     "output_type": "stream",
     "text": [
      "/home/eromanenkova/Intern_CPD/Alex/new_code/klcpd_code/mmd_util.py:40: UserWarning: Implicit dimension choice for softmax has been deprecated. Change the call to include dim=X as an argument.\n",
      "  sigma_samples = F.softmax(U * gumbel_lmd).matmul(sigma_var)\n",
      "/home/eromanenkova/anaconda3/lib/python3.7/site-packages/ipykernel_launcher.py:46: UserWarning: volatile was removed and now has no effect. Use `with torch.no_grad():` instead.\n"
     ]
    },
    {
     "ename": "RuntimeError",
     "evalue": "Trying to backward through the graph a second time, but the saved intermediate results have already been freed. Specify retain_graph=True when calling .backward() or autograd.grad() the first time.",
     "output_type": "error",
     "traceback": [
      "\u001b[0;31m---------------------------------------------------------------------------\u001b[0m",
      "\u001b[0;31mRuntimeError\u001b[0m                              Traceback (most recent call last)",
      "\u001b[0;32m<ipython-input-32-0e5373307c61>\u001b[0m in \u001b[0;36m<module>\u001b[0;34m\u001b[0m\n\u001b[0;32m----> 1\u001b[0;31m \u001b[0mtrainer\u001b[0m\u001b[0;34m.\u001b[0m\u001b[0mfit\u001b[0m\u001b[0;34m(\u001b[0m\u001b[0mkl_cpd_model\u001b[0m\u001b[0;34m)\u001b[0m\u001b[0;34m\u001b[0m\u001b[0;34m\u001b[0m\u001b[0m\n\u001b[0m",
      "\u001b[0;32m~/anaconda3/lib/python3.7/site-packages/pytorch_lightning/trainer/trainer.py\u001b[0m in \u001b[0;36mfit\u001b[0;34m(self, model, train_dataloader, val_dataloaders, datamodule)\u001b[0m\n\u001b[1;32m    456\u001b[0m         )\n\u001b[1;32m    457\u001b[0m \u001b[0;34m\u001b[0m\u001b[0m\n\u001b[0;32m--> 458\u001b[0;31m         \u001b[0mself\u001b[0m\u001b[0;34m.\u001b[0m\u001b[0m_run\u001b[0m\u001b[0;34m(\u001b[0m\u001b[0mmodel\u001b[0m\u001b[0;34m)\u001b[0m\u001b[0;34m\u001b[0m\u001b[0;34m\u001b[0m\u001b[0m\n\u001b[0m\u001b[1;32m    459\u001b[0m \u001b[0;34m\u001b[0m\u001b[0m\n\u001b[1;32m    460\u001b[0m         \u001b[0;32massert\u001b[0m \u001b[0mself\u001b[0m\u001b[0;34m.\u001b[0m\u001b[0mstate\u001b[0m\u001b[0;34m.\u001b[0m\u001b[0mstopped\u001b[0m\u001b[0;34m\u001b[0m\u001b[0;34m\u001b[0m\u001b[0m\n",
      "\u001b[0;32m~/anaconda3/lib/python3.7/site-packages/pytorch_lightning/trainer/trainer.py\u001b[0m in \u001b[0;36m_run\u001b[0;34m(self, model)\u001b[0m\n\u001b[1;32m    754\u001b[0m \u001b[0;34m\u001b[0m\u001b[0m\n\u001b[1;32m    755\u001b[0m         \u001b[0;31m# dispatch `start_training` or `start_evaluating` or `start_predicting`\u001b[0m\u001b[0;34m\u001b[0m\u001b[0;34m\u001b[0m\u001b[0;34m\u001b[0m\u001b[0m\n\u001b[0;32m--> 756\u001b[0;31m         \u001b[0mself\u001b[0m\u001b[0;34m.\u001b[0m\u001b[0mdispatch\u001b[0m\u001b[0;34m(\u001b[0m\u001b[0;34m)\u001b[0m\u001b[0;34m\u001b[0m\u001b[0;34m\u001b[0m\u001b[0m\n\u001b[0m\u001b[1;32m    757\u001b[0m \u001b[0;34m\u001b[0m\u001b[0m\n\u001b[1;32m    758\u001b[0m         \u001b[0;31m# plugin will finalized fitting (e.g. ddp_spawn will load trained model)\u001b[0m\u001b[0;34m\u001b[0m\u001b[0;34m\u001b[0m\u001b[0;34m\u001b[0m\u001b[0m\n",
      "\u001b[0;32m~/anaconda3/lib/python3.7/site-packages/pytorch_lightning/trainer/trainer.py\u001b[0m in \u001b[0;36mdispatch\u001b[0;34m(self)\u001b[0m\n\u001b[1;32m    795\u001b[0m             \u001b[0mself\u001b[0m\u001b[0;34m.\u001b[0m\u001b[0maccelerator\u001b[0m\u001b[0;34m.\u001b[0m\u001b[0mstart_predicting\u001b[0m\u001b[0;34m(\u001b[0m\u001b[0mself\u001b[0m\u001b[0;34m)\u001b[0m\u001b[0;34m\u001b[0m\u001b[0;34m\u001b[0m\u001b[0m\n\u001b[1;32m    796\u001b[0m         \u001b[0;32melse\u001b[0m\u001b[0;34m:\u001b[0m\u001b[0;34m\u001b[0m\u001b[0;34m\u001b[0m\u001b[0m\n\u001b[0;32m--> 797\u001b[0;31m             \u001b[0mself\u001b[0m\u001b[0;34m.\u001b[0m\u001b[0maccelerator\u001b[0m\u001b[0;34m.\u001b[0m\u001b[0mstart_training\u001b[0m\u001b[0;34m(\u001b[0m\u001b[0mself\u001b[0m\u001b[0;34m)\u001b[0m\u001b[0;34m\u001b[0m\u001b[0;34m\u001b[0m\u001b[0m\n\u001b[0m\u001b[1;32m    798\u001b[0m \u001b[0;34m\u001b[0m\u001b[0m\n\u001b[1;32m    799\u001b[0m     \u001b[0;32mdef\u001b[0m \u001b[0mrun_stage\u001b[0m\u001b[0;34m(\u001b[0m\u001b[0mself\u001b[0m\u001b[0;34m)\u001b[0m\u001b[0;34m:\u001b[0m\u001b[0;34m\u001b[0m\u001b[0;34m\u001b[0m\u001b[0m\n",
      "\u001b[0;32m~/anaconda3/lib/python3.7/site-packages/pytorch_lightning/accelerators/accelerator.py\u001b[0m in \u001b[0;36mstart_training\u001b[0;34m(self, trainer)\u001b[0m\n\u001b[1;32m     94\u001b[0m \u001b[0;34m\u001b[0m\u001b[0m\n\u001b[1;32m     95\u001b[0m     \u001b[0;32mdef\u001b[0m \u001b[0mstart_training\u001b[0m\u001b[0;34m(\u001b[0m\u001b[0mself\u001b[0m\u001b[0;34m,\u001b[0m \u001b[0mtrainer\u001b[0m\u001b[0;34m:\u001b[0m \u001b[0;34m'pl.Trainer'\u001b[0m\u001b[0;34m)\u001b[0m \u001b[0;34m->\u001b[0m \u001b[0;32mNone\u001b[0m\u001b[0;34m:\u001b[0m\u001b[0;34m\u001b[0m\u001b[0;34m\u001b[0m\u001b[0m\n\u001b[0;32m---> 96\u001b[0;31m         \u001b[0mself\u001b[0m\u001b[0;34m.\u001b[0m\u001b[0mtraining_type_plugin\u001b[0m\u001b[0;34m.\u001b[0m\u001b[0mstart_training\u001b[0m\u001b[0;34m(\u001b[0m\u001b[0mtrainer\u001b[0m\u001b[0;34m)\u001b[0m\u001b[0;34m\u001b[0m\u001b[0;34m\u001b[0m\u001b[0m\n\u001b[0m\u001b[1;32m     97\u001b[0m \u001b[0;34m\u001b[0m\u001b[0m\n\u001b[1;32m     98\u001b[0m     \u001b[0;32mdef\u001b[0m \u001b[0mstart_evaluating\u001b[0m\u001b[0;34m(\u001b[0m\u001b[0mself\u001b[0m\u001b[0;34m,\u001b[0m \u001b[0mtrainer\u001b[0m\u001b[0;34m:\u001b[0m \u001b[0;34m'pl.Trainer'\u001b[0m\u001b[0;34m)\u001b[0m \u001b[0;34m->\u001b[0m \u001b[0;32mNone\u001b[0m\u001b[0;34m:\u001b[0m\u001b[0;34m\u001b[0m\u001b[0;34m\u001b[0m\u001b[0m\n",
      "\u001b[0;32m~/anaconda3/lib/python3.7/site-packages/pytorch_lightning/plugins/training_type/training_type_plugin.py\u001b[0m in \u001b[0;36mstart_training\u001b[0;34m(self, trainer)\u001b[0m\n\u001b[1;32m    142\u001b[0m     \u001b[0;32mdef\u001b[0m \u001b[0mstart_training\u001b[0m\u001b[0;34m(\u001b[0m\u001b[0mself\u001b[0m\u001b[0;34m,\u001b[0m \u001b[0mtrainer\u001b[0m\u001b[0;34m:\u001b[0m \u001b[0;34m'pl.Trainer'\u001b[0m\u001b[0;34m)\u001b[0m \u001b[0;34m->\u001b[0m \u001b[0;32mNone\u001b[0m\u001b[0;34m:\u001b[0m\u001b[0;34m\u001b[0m\u001b[0;34m\u001b[0m\u001b[0m\n\u001b[1;32m    143\u001b[0m         \u001b[0;31m# double dispatch to initiate the training loop\u001b[0m\u001b[0;34m\u001b[0m\u001b[0;34m\u001b[0m\u001b[0;34m\u001b[0m\u001b[0m\n\u001b[0;32m--> 144\u001b[0;31m         \u001b[0mself\u001b[0m\u001b[0;34m.\u001b[0m\u001b[0m_results\u001b[0m \u001b[0;34m=\u001b[0m \u001b[0mtrainer\u001b[0m\u001b[0;34m.\u001b[0m\u001b[0mrun_stage\u001b[0m\u001b[0;34m(\u001b[0m\u001b[0;34m)\u001b[0m\u001b[0;34m\u001b[0m\u001b[0;34m\u001b[0m\u001b[0m\n\u001b[0m\u001b[1;32m    145\u001b[0m \u001b[0;34m\u001b[0m\u001b[0m\n\u001b[1;32m    146\u001b[0m     \u001b[0;32mdef\u001b[0m \u001b[0mstart_evaluating\u001b[0m\u001b[0;34m(\u001b[0m\u001b[0mself\u001b[0m\u001b[0;34m,\u001b[0m \u001b[0mtrainer\u001b[0m\u001b[0;34m:\u001b[0m \u001b[0;34m'pl.Trainer'\u001b[0m\u001b[0;34m)\u001b[0m \u001b[0;34m->\u001b[0m \u001b[0;32mNone\u001b[0m\u001b[0;34m:\u001b[0m\u001b[0;34m\u001b[0m\u001b[0;34m\u001b[0m\u001b[0m\n",
      "\u001b[0;32m~/anaconda3/lib/python3.7/site-packages/pytorch_lightning/trainer/trainer.py\u001b[0m in \u001b[0;36mrun_stage\u001b[0;34m(self)\u001b[0m\n\u001b[1;32m    805\u001b[0m         \u001b[0;32mif\u001b[0m \u001b[0mself\u001b[0m\u001b[0;34m.\u001b[0m\u001b[0mpredicting\u001b[0m\u001b[0;34m:\u001b[0m\u001b[0;34m\u001b[0m\u001b[0;34m\u001b[0m\u001b[0m\n\u001b[1;32m    806\u001b[0m             \u001b[0;32mreturn\u001b[0m \u001b[0mself\u001b[0m\u001b[0;34m.\u001b[0m\u001b[0mrun_predict\u001b[0m\u001b[0;34m(\u001b[0m\u001b[0;34m)\u001b[0m\u001b[0;34m\u001b[0m\u001b[0;34m\u001b[0m\u001b[0m\n\u001b[0;32m--> 807\u001b[0;31m         \u001b[0;32mreturn\u001b[0m \u001b[0mself\u001b[0m\u001b[0;34m.\u001b[0m\u001b[0mrun_train\u001b[0m\u001b[0;34m(\u001b[0m\u001b[0;34m)\u001b[0m\u001b[0;34m\u001b[0m\u001b[0;34m\u001b[0m\u001b[0m\n\u001b[0m\u001b[1;32m    808\u001b[0m \u001b[0;34m\u001b[0m\u001b[0m\n\u001b[1;32m    809\u001b[0m     \u001b[0;32mdef\u001b[0m \u001b[0m_pre_training_routine\u001b[0m\u001b[0;34m(\u001b[0m\u001b[0mself\u001b[0m\u001b[0;34m)\u001b[0m\u001b[0;34m:\u001b[0m\u001b[0;34m\u001b[0m\u001b[0;34m\u001b[0m\u001b[0m\n",
      "\u001b[0;32m~/anaconda3/lib/python3.7/site-packages/pytorch_lightning/trainer/trainer.py\u001b[0m in \u001b[0;36mrun_train\u001b[0;34m(self)\u001b[0m\n\u001b[1;32m    867\u001b[0m                 \u001b[0;32mwith\u001b[0m \u001b[0mself\u001b[0m\u001b[0;34m.\u001b[0m\u001b[0mprofiler\u001b[0m\u001b[0;34m.\u001b[0m\u001b[0mprofile\u001b[0m\u001b[0;34m(\u001b[0m\u001b[0;34m\"run_training_epoch\"\u001b[0m\u001b[0;34m)\u001b[0m\u001b[0;34m:\u001b[0m\u001b[0;34m\u001b[0m\u001b[0;34m\u001b[0m\u001b[0m\n\u001b[1;32m    868\u001b[0m                     \u001b[0;31m# run train epoch\u001b[0m\u001b[0;34m\u001b[0m\u001b[0;34m\u001b[0m\u001b[0;34m\u001b[0m\u001b[0m\n\u001b[0;32m--> 869\u001b[0;31m                     \u001b[0mself\u001b[0m\u001b[0;34m.\u001b[0m\u001b[0mtrain_loop\u001b[0m\u001b[0;34m.\u001b[0m\u001b[0mrun_training_epoch\u001b[0m\u001b[0;34m(\u001b[0m\u001b[0;34m)\u001b[0m\u001b[0;34m\u001b[0m\u001b[0;34m\u001b[0m\u001b[0m\n\u001b[0m\u001b[1;32m    870\u001b[0m \u001b[0;34m\u001b[0m\u001b[0m\n\u001b[1;32m    871\u001b[0m                 \u001b[0;32mif\u001b[0m \u001b[0mself\u001b[0m\u001b[0;34m.\u001b[0m\u001b[0mmax_steps\u001b[0m \u001b[0;32mand\u001b[0m \u001b[0mself\u001b[0m\u001b[0;34m.\u001b[0m\u001b[0mmax_steps\u001b[0m \u001b[0;34m<=\u001b[0m \u001b[0mself\u001b[0m\u001b[0;34m.\u001b[0m\u001b[0mglobal_step\u001b[0m\u001b[0;34m:\u001b[0m\u001b[0;34m\u001b[0m\u001b[0;34m\u001b[0m\u001b[0m\n",
      "\u001b[0;32m~/anaconda3/lib/python3.7/site-packages/pytorch_lightning/trainer/training_loop.py\u001b[0m in \u001b[0;36mrun_training_epoch\u001b[0;34m(self)\u001b[0m\n\u001b[1;32m    488\u001b[0m             \u001b[0;31m# ------------------------------------\u001b[0m\u001b[0;34m\u001b[0m\u001b[0;34m\u001b[0m\u001b[0;34m\u001b[0m\u001b[0m\n\u001b[1;32m    489\u001b[0m             \u001b[0;32mwith\u001b[0m \u001b[0mself\u001b[0m\u001b[0;34m.\u001b[0m\u001b[0mtrainer\u001b[0m\u001b[0;34m.\u001b[0m\u001b[0mprofiler\u001b[0m\u001b[0;34m.\u001b[0m\u001b[0mprofile\u001b[0m\u001b[0;34m(\u001b[0m\u001b[0;34m\"run_training_batch\"\u001b[0m\u001b[0;34m)\u001b[0m\u001b[0;34m:\u001b[0m\u001b[0;34m\u001b[0m\u001b[0;34m\u001b[0m\u001b[0m\n\u001b[0;32m--> 490\u001b[0;31m                 \u001b[0mbatch_output\u001b[0m \u001b[0;34m=\u001b[0m \u001b[0mself\u001b[0m\u001b[0;34m.\u001b[0m\u001b[0mrun_training_batch\u001b[0m\u001b[0;34m(\u001b[0m\u001b[0mbatch\u001b[0m\u001b[0;34m,\u001b[0m \u001b[0mbatch_idx\u001b[0m\u001b[0;34m,\u001b[0m \u001b[0mdataloader_idx\u001b[0m\u001b[0;34m)\u001b[0m\u001b[0;34m\u001b[0m\u001b[0;34m\u001b[0m\u001b[0m\n\u001b[0m\u001b[1;32m    491\u001b[0m \u001b[0;34m\u001b[0m\u001b[0m\n\u001b[1;32m    492\u001b[0m             \u001b[0;31m# when returning -1 from train_step, we end epoch early\u001b[0m\u001b[0;34m\u001b[0m\u001b[0;34m\u001b[0m\u001b[0;34m\u001b[0m\u001b[0m\n",
      "\u001b[0;32m~/anaconda3/lib/python3.7/site-packages/pytorch_lightning/trainer/training_loop.py\u001b[0m in \u001b[0;36mrun_training_batch\u001b[0;34m(self, batch, batch_idx, dataloader_idx)\u001b[0m\n\u001b[1;32m    729\u001b[0m \u001b[0;34m\u001b[0m\u001b[0m\n\u001b[1;32m    730\u001b[0m                         \u001b[0;31m# optimizer step\u001b[0m\u001b[0;34m\u001b[0m\u001b[0;34m\u001b[0m\u001b[0;34m\u001b[0m\u001b[0m\n\u001b[0;32m--> 731\u001b[0;31m                         \u001b[0mself\u001b[0m\u001b[0;34m.\u001b[0m\u001b[0moptimizer_step\u001b[0m\u001b[0;34m(\u001b[0m\u001b[0moptimizer\u001b[0m\u001b[0;34m,\u001b[0m \u001b[0mopt_idx\u001b[0m\u001b[0;34m,\u001b[0m \u001b[0mbatch_idx\u001b[0m\u001b[0;34m,\u001b[0m \u001b[0mtrain_step_and_backward_closure\u001b[0m\u001b[0;34m)\u001b[0m\u001b[0;34m\u001b[0m\u001b[0;34m\u001b[0m\u001b[0m\n\u001b[0m\u001b[1;32m    732\u001b[0m \u001b[0;34m\u001b[0m\u001b[0m\n\u001b[1;32m    733\u001b[0m                     \u001b[0;32melse\u001b[0m\u001b[0;34m:\u001b[0m\u001b[0;34m\u001b[0m\u001b[0;34m\u001b[0m\u001b[0m\n",
      "\u001b[0;32m~/anaconda3/lib/python3.7/site-packages/pytorch_lightning/trainer/training_loop.py\u001b[0m in \u001b[0;36moptimizer_step\u001b[0;34m(self, optimizer, opt_idx, batch_idx, train_step_and_backward_closure)\u001b[0m\n\u001b[1;32m    430\u001b[0m             \u001b[0mon_tpu\u001b[0m\u001b[0;34m=\u001b[0m\u001b[0mself\u001b[0m\u001b[0;34m.\u001b[0m\u001b[0mtrainer\u001b[0m\u001b[0;34m.\u001b[0m\u001b[0m_device_type\u001b[0m \u001b[0;34m==\u001b[0m \u001b[0mDeviceType\u001b[0m\u001b[0;34m.\u001b[0m\u001b[0mTPU\u001b[0m \u001b[0;32mand\u001b[0m \u001b[0m_TPU_AVAILABLE\u001b[0m\u001b[0;34m,\u001b[0m\u001b[0;34m\u001b[0m\u001b[0;34m\u001b[0m\u001b[0m\n\u001b[1;32m    431\u001b[0m             \u001b[0musing_native_amp\u001b[0m\u001b[0;34m=\u001b[0m\u001b[0musing_native_amp\u001b[0m\u001b[0;34m,\u001b[0m\u001b[0;34m\u001b[0m\u001b[0;34m\u001b[0m\u001b[0m\n\u001b[0;32m--> 432\u001b[0;31m             \u001b[0musing_lbfgs\u001b[0m\u001b[0;34m=\u001b[0m\u001b[0mis_lbfgs\u001b[0m\u001b[0;34m,\u001b[0m\u001b[0;34m\u001b[0m\u001b[0;34m\u001b[0m\u001b[0m\n\u001b[0m\u001b[1;32m    433\u001b[0m         )\n\u001b[1;32m    434\u001b[0m \u001b[0;34m\u001b[0m\u001b[0m\n",
      "\u001b[0;32m~/anaconda3/lib/python3.7/site-packages/pytorch_lightning/core/lightning.py\u001b[0m in \u001b[0;36moptimizer_step\u001b[0;34m(self, epoch, batch_idx, optimizer, optimizer_idx, optimizer_closure, on_tpu, using_native_amp, using_lbfgs)\u001b[0m\n\u001b[1;32m   1401\u001b[0m \u001b[0;34m\u001b[0m\u001b[0m\n\u001b[1;32m   1402\u001b[0m         \"\"\"\n\u001b[0;32m-> 1403\u001b[0;31m         \u001b[0moptimizer\u001b[0m\u001b[0;34m.\u001b[0m\u001b[0mstep\u001b[0m\u001b[0;34m(\u001b[0m\u001b[0mclosure\u001b[0m\u001b[0;34m=\u001b[0m\u001b[0moptimizer_closure\u001b[0m\u001b[0;34m)\u001b[0m\u001b[0;34m\u001b[0m\u001b[0;34m\u001b[0m\u001b[0m\n\u001b[0m\u001b[1;32m   1404\u001b[0m \u001b[0;34m\u001b[0m\u001b[0m\n\u001b[1;32m   1405\u001b[0m     \u001b[0;32mdef\u001b[0m \u001b[0moptimizer_zero_grad\u001b[0m\u001b[0;34m(\u001b[0m\u001b[0mself\u001b[0m\u001b[0;34m,\u001b[0m \u001b[0mepoch\u001b[0m\u001b[0;34m:\u001b[0m \u001b[0mint\u001b[0m\u001b[0;34m,\u001b[0m \u001b[0mbatch_idx\u001b[0m\u001b[0;34m:\u001b[0m \u001b[0mint\u001b[0m\u001b[0;34m,\u001b[0m \u001b[0moptimizer\u001b[0m\u001b[0;34m:\u001b[0m \u001b[0mOptimizer\u001b[0m\u001b[0;34m,\u001b[0m \u001b[0moptimizer_idx\u001b[0m\u001b[0;34m:\u001b[0m \u001b[0mint\u001b[0m\u001b[0;34m)\u001b[0m\u001b[0;34m:\u001b[0m\u001b[0;34m\u001b[0m\u001b[0;34m\u001b[0m\u001b[0m\n",
      "\u001b[0;32m~/anaconda3/lib/python3.7/site-packages/pytorch_lightning/core/optimizer.py\u001b[0m in \u001b[0;36mstep\u001b[0;34m(self, closure, *args, **kwargs)\u001b[0m\n\u001b[1;32m    212\u001b[0m             \u001b[0mprofiler_name\u001b[0m \u001b[0;34m=\u001b[0m \u001b[0;34mf\"optimizer_step_and_closure_{self._optimizer_idx}\"\u001b[0m\u001b[0;34m\u001b[0m\u001b[0;34m\u001b[0m\u001b[0m\n\u001b[1;32m    213\u001b[0m \u001b[0;34m\u001b[0m\u001b[0m\n\u001b[0;32m--> 214\u001b[0;31m         \u001b[0mself\u001b[0m\u001b[0;34m.\u001b[0m\u001b[0m__optimizer_step\u001b[0m\u001b[0;34m(\u001b[0m\u001b[0;34m*\u001b[0m\u001b[0margs\u001b[0m\u001b[0;34m,\u001b[0m \u001b[0mclosure\u001b[0m\u001b[0;34m=\u001b[0m\u001b[0mclosure\u001b[0m\u001b[0;34m,\u001b[0m \u001b[0mprofiler_name\u001b[0m\u001b[0;34m=\u001b[0m\u001b[0mprofiler_name\u001b[0m\u001b[0;34m,\u001b[0m \u001b[0;34m**\u001b[0m\u001b[0mkwargs\u001b[0m\u001b[0;34m)\u001b[0m\u001b[0;34m\u001b[0m\u001b[0;34m\u001b[0m\u001b[0m\n\u001b[0m\u001b[1;32m    215\u001b[0m         \u001b[0mself\u001b[0m\u001b[0;34m.\u001b[0m\u001b[0m_total_optimizer_step_calls\u001b[0m \u001b[0;34m+=\u001b[0m \u001b[0;36m1\u001b[0m\u001b[0;34m\u001b[0m\u001b[0;34m\u001b[0m\u001b[0m\n\u001b[1;32m    216\u001b[0m \u001b[0;34m\u001b[0m\u001b[0m\n",
      "\u001b[0;32m~/anaconda3/lib/python3.7/site-packages/pytorch_lightning/core/optimizer.py\u001b[0m in \u001b[0;36m__optimizer_step\u001b[0;34m(self, closure, profiler_name, **kwargs)\u001b[0m\n\u001b[1;32m    132\u001b[0m \u001b[0;34m\u001b[0m\u001b[0m\n\u001b[1;32m    133\u001b[0m         \u001b[0;32mwith\u001b[0m \u001b[0mtrainer\u001b[0m\u001b[0;34m.\u001b[0m\u001b[0mprofiler\u001b[0m\u001b[0;34m.\u001b[0m\u001b[0mprofile\u001b[0m\u001b[0;34m(\u001b[0m\u001b[0mprofiler_name\u001b[0m\u001b[0;34m)\u001b[0m\u001b[0;34m:\u001b[0m\u001b[0;34m\u001b[0m\u001b[0;34m\u001b[0m\u001b[0m\n\u001b[0;32m--> 134\u001b[0;31m             \u001b[0mtrainer\u001b[0m\u001b[0;34m.\u001b[0m\u001b[0maccelerator\u001b[0m\u001b[0;34m.\u001b[0m\u001b[0moptimizer_step\u001b[0m\u001b[0;34m(\u001b[0m\u001b[0moptimizer\u001b[0m\u001b[0;34m,\u001b[0m \u001b[0mself\u001b[0m\u001b[0;34m.\u001b[0m\u001b[0m_optimizer_idx\u001b[0m\u001b[0;34m,\u001b[0m \u001b[0mlambda_closure\u001b[0m\u001b[0;34m=\u001b[0m\u001b[0mclosure\u001b[0m\u001b[0;34m,\u001b[0m \u001b[0;34m**\u001b[0m\u001b[0mkwargs\u001b[0m\u001b[0;34m)\u001b[0m\u001b[0;34m\u001b[0m\u001b[0;34m\u001b[0m\u001b[0m\n\u001b[0m\u001b[1;32m    135\u001b[0m \u001b[0;34m\u001b[0m\u001b[0m\n\u001b[1;32m    136\u001b[0m     \u001b[0;32mdef\u001b[0m \u001b[0mstep\u001b[0m\u001b[0;34m(\u001b[0m\u001b[0mself\u001b[0m\u001b[0;34m,\u001b[0m \u001b[0;34m*\u001b[0m\u001b[0margs\u001b[0m\u001b[0;34m,\u001b[0m \u001b[0mclosure\u001b[0m\u001b[0;34m:\u001b[0m \u001b[0mOptional\u001b[0m\u001b[0;34m[\u001b[0m\u001b[0mCallable\u001b[0m\u001b[0;34m]\u001b[0m \u001b[0;34m=\u001b[0m \u001b[0;32mNone\u001b[0m\u001b[0;34m,\u001b[0m \u001b[0;34m**\u001b[0m\u001b[0mkwargs\u001b[0m\u001b[0;34m)\u001b[0m\u001b[0;34m:\u001b[0m\u001b[0;34m\u001b[0m\u001b[0;34m\u001b[0m\u001b[0m\n",
      "\u001b[0;32m~/anaconda3/lib/python3.7/site-packages/pytorch_lightning/accelerators/accelerator.py\u001b[0m in \u001b[0;36moptimizer_step\u001b[0;34m(self, optimizer, opt_idx, lambda_closure, **kwargs)\u001b[0m\n\u001b[1;32m    327\u001b[0m         )\n\u001b[1;32m    328\u001b[0m         \u001b[0;32mif\u001b[0m \u001b[0mmake_optimizer_step\u001b[0m\u001b[0;34m:\u001b[0m\u001b[0;34m\u001b[0m\u001b[0;34m\u001b[0m\u001b[0m\n\u001b[0;32m--> 329\u001b[0;31m             \u001b[0mself\u001b[0m\u001b[0;34m.\u001b[0m\u001b[0mrun_optimizer_step\u001b[0m\u001b[0;34m(\u001b[0m\u001b[0moptimizer\u001b[0m\u001b[0;34m,\u001b[0m \u001b[0mopt_idx\u001b[0m\u001b[0;34m,\u001b[0m \u001b[0mlambda_closure\u001b[0m\u001b[0;34m,\u001b[0m \u001b[0;34m**\u001b[0m\u001b[0mkwargs\u001b[0m\u001b[0;34m)\u001b[0m\u001b[0;34m\u001b[0m\u001b[0;34m\u001b[0m\u001b[0m\n\u001b[0m\u001b[1;32m    330\u001b[0m         \u001b[0mself\u001b[0m\u001b[0;34m.\u001b[0m\u001b[0mprecision_plugin\u001b[0m\u001b[0;34m.\u001b[0m\u001b[0mpost_optimizer_step\u001b[0m\u001b[0;34m(\u001b[0m\u001b[0moptimizer\u001b[0m\u001b[0;34m,\u001b[0m \u001b[0mopt_idx\u001b[0m\u001b[0;34m)\u001b[0m\u001b[0;34m\u001b[0m\u001b[0;34m\u001b[0m\u001b[0m\n\u001b[1;32m    331\u001b[0m         \u001b[0mself\u001b[0m\u001b[0;34m.\u001b[0m\u001b[0mtraining_type_plugin\u001b[0m\u001b[0;34m.\u001b[0m\u001b[0mpost_optimizer_step\u001b[0m\u001b[0;34m(\u001b[0m\u001b[0moptimizer\u001b[0m\u001b[0;34m,\u001b[0m \u001b[0mopt_idx\u001b[0m\u001b[0;34m,\u001b[0m \u001b[0;34m**\u001b[0m\u001b[0mkwargs\u001b[0m\u001b[0;34m)\u001b[0m\u001b[0;34m\u001b[0m\u001b[0;34m\u001b[0m\u001b[0m\n",
      "\u001b[0;32m~/anaconda3/lib/python3.7/site-packages/pytorch_lightning/accelerators/accelerator.py\u001b[0m in \u001b[0;36mrun_optimizer_step\u001b[0;34m(self, optimizer, optimizer_idx, lambda_closure, **kwargs)\u001b[0m\n\u001b[1;32m    334\u001b[0m         \u001b[0mself\u001b[0m\u001b[0;34m,\u001b[0m \u001b[0moptimizer\u001b[0m\u001b[0;34m:\u001b[0m \u001b[0mOptimizer\u001b[0m\u001b[0;34m,\u001b[0m \u001b[0moptimizer_idx\u001b[0m\u001b[0;34m:\u001b[0m \u001b[0mint\u001b[0m\u001b[0;34m,\u001b[0m \u001b[0mlambda_closure\u001b[0m\u001b[0;34m:\u001b[0m \u001b[0mCallable\u001b[0m\u001b[0;34m,\u001b[0m \u001b[0;34m**\u001b[0m\u001b[0mkwargs\u001b[0m\u001b[0;34m:\u001b[0m \u001b[0mAny\u001b[0m\u001b[0;34m\u001b[0m\u001b[0;34m\u001b[0m\u001b[0m\n\u001b[1;32m    335\u001b[0m     ) -> None:\n\u001b[0;32m--> 336\u001b[0;31m         \u001b[0mself\u001b[0m\u001b[0;34m.\u001b[0m\u001b[0mtraining_type_plugin\u001b[0m\u001b[0;34m.\u001b[0m\u001b[0moptimizer_step\u001b[0m\u001b[0;34m(\u001b[0m\u001b[0moptimizer\u001b[0m\u001b[0;34m,\u001b[0m \u001b[0mlambda_closure\u001b[0m\u001b[0;34m=\u001b[0m\u001b[0mlambda_closure\u001b[0m\u001b[0;34m,\u001b[0m \u001b[0;34m**\u001b[0m\u001b[0mkwargs\u001b[0m\u001b[0;34m)\u001b[0m\u001b[0;34m\u001b[0m\u001b[0;34m\u001b[0m\u001b[0m\n\u001b[0m\u001b[1;32m    337\u001b[0m \u001b[0;34m\u001b[0m\u001b[0m\n\u001b[1;32m    338\u001b[0m     \u001b[0;32mdef\u001b[0m \u001b[0moptimizer_zero_grad\u001b[0m\u001b[0;34m(\u001b[0m\u001b[0mself\u001b[0m\u001b[0;34m,\u001b[0m \u001b[0mcurrent_epoch\u001b[0m\u001b[0;34m:\u001b[0m \u001b[0mint\u001b[0m\u001b[0;34m,\u001b[0m \u001b[0mbatch_idx\u001b[0m\u001b[0;34m:\u001b[0m \u001b[0mint\u001b[0m\u001b[0;34m,\u001b[0m \u001b[0moptimizer\u001b[0m\u001b[0;34m:\u001b[0m \u001b[0mOptimizer\u001b[0m\u001b[0;34m,\u001b[0m \u001b[0mopt_idx\u001b[0m\u001b[0;34m:\u001b[0m \u001b[0mint\u001b[0m\u001b[0;34m)\u001b[0m \u001b[0;34m->\u001b[0m \u001b[0;32mNone\u001b[0m\u001b[0;34m:\u001b[0m\u001b[0;34m\u001b[0m\u001b[0;34m\u001b[0m\u001b[0m\n",
      "\u001b[0;32m~/anaconda3/lib/python3.7/site-packages/pytorch_lightning/plugins/training_type/training_type_plugin.py\u001b[0m in \u001b[0;36moptimizer_step\u001b[0;34m(self, optimizer, lambda_closure, **kwargs)\u001b[0m\n\u001b[1;32m    191\u001b[0m \u001b[0;34m\u001b[0m\u001b[0m\n\u001b[1;32m    192\u001b[0m     \u001b[0;32mdef\u001b[0m \u001b[0moptimizer_step\u001b[0m\u001b[0;34m(\u001b[0m\u001b[0mself\u001b[0m\u001b[0;34m,\u001b[0m \u001b[0moptimizer\u001b[0m\u001b[0;34m:\u001b[0m \u001b[0mtorch\u001b[0m\u001b[0;34m.\u001b[0m\u001b[0moptim\u001b[0m\u001b[0;34m.\u001b[0m\u001b[0mOptimizer\u001b[0m\u001b[0;34m,\u001b[0m \u001b[0mlambda_closure\u001b[0m\u001b[0;34m:\u001b[0m \u001b[0mCallable\u001b[0m\u001b[0;34m,\u001b[0m \u001b[0;34m**\u001b[0m\u001b[0mkwargs\u001b[0m\u001b[0;34m)\u001b[0m\u001b[0;34m:\u001b[0m\u001b[0;34m\u001b[0m\u001b[0;34m\u001b[0m\u001b[0m\n\u001b[0;32m--> 193\u001b[0;31m         \u001b[0moptimizer\u001b[0m\u001b[0;34m.\u001b[0m\u001b[0mstep\u001b[0m\u001b[0;34m(\u001b[0m\u001b[0mclosure\u001b[0m\u001b[0;34m=\u001b[0m\u001b[0mlambda_closure\u001b[0m\u001b[0;34m,\u001b[0m \u001b[0;34m**\u001b[0m\u001b[0mkwargs\u001b[0m\u001b[0;34m)\u001b[0m\u001b[0;34m\u001b[0m\u001b[0;34m\u001b[0m\u001b[0m\n\u001b[0m\u001b[1;32m    194\u001b[0m \u001b[0;34m\u001b[0m\u001b[0m\n\u001b[1;32m    195\u001b[0m     \u001b[0;34m@\u001b[0m\u001b[0mproperty\u001b[0m\u001b[0;34m\u001b[0m\u001b[0;34m\u001b[0m\u001b[0m\n",
      "\u001b[0;32m~/anaconda3/lib/python3.7/site-packages/torch/optim/optimizer.py\u001b[0m in \u001b[0;36mwrapper\u001b[0;34m(*args, **kwargs)\u001b[0m\n\u001b[1;32m     87\u001b[0m                 \u001b[0mprofile_name\u001b[0m \u001b[0;34m=\u001b[0m \u001b[0;34m\"Optimizer.step#{}.step\"\u001b[0m\u001b[0;34m.\u001b[0m\u001b[0mformat\u001b[0m\u001b[0;34m(\u001b[0m\u001b[0mobj\u001b[0m\u001b[0;34m.\u001b[0m\u001b[0m__class__\u001b[0m\u001b[0;34m.\u001b[0m\u001b[0m__name__\u001b[0m\u001b[0;34m)\u001b[0m\u001b[0;34m\u001b[0m\u001b[0;34m\u001b[0m\u001b[0m\n\u001b[1;32m     88\u001b[0m                 \u001b[0;32mwith\u001b[0m \u001b[0mtorch\u001b[0m\u001b[0;34m.\u001b[0m\u001b[0mautograd\u001b[0m\u001b[0;34m.\u001b[0m\u001b[0mprofiler\u001b[0m\u001b[0;34m.\u001b[0m\u001b[0mrecord_function\u001b[0m\u001b[0;34m(\u001b[0m\u001b[0mprofile_name\u001b[0m\u001b[0;34m)\u001b[0m\u001b[0;34m:\u001b[0m\u001b[0;34m\u001b[0m\u001b[0;34m\u001b[0m\u001b[0m\n\u001b[0;32m---> 89\u001b[0;31m                     \u001b[0;32mreturn\u001b[0m \u001b[0mfunc\u001b[0m\u001b[0;34m(\u001b[0m\u001b[0;34m*\u001b[0m\u001b[0margs\u001b[0m\u001b[0;34m,\u001b[0m \u001b[0;34m**\u001b[0m\u001b[0mkwargs\u001b[0m\u001b[0;34m)\u001b[0m\u001b[0;34m\u001b[0m\u001b[0;34m\u001b[0m\u001b[0m\n\u001b[0m\u001b[1;32m     90\u001b[0m             \u001b[0;32mreturn\u001b[0m \u001b[0mwrapper\u001b[0m\u001b[0;34m\u001b[0m\u001b[0;34m\u001b[0m\u001b[0m\n\u001b[1;32m     91\u001b[0m \u001b[0;34m\u001b[0m\u001b[0m\n",
      "\u001b[0;32m~/anaconda3/lib/python3.7/site-packages/torch/autograd/grad_mode.py\u001b[0m in \u001b[0;36mdecorate_context\u001b[0;34m(*args, **kwargs)\u001b[0m\n\u001b[1;32m     25\u001b[0m         \u001b[0;32mdef\u001b[0m \u001b[0mdecorate_context\u001b[0m\u001b[0;34m(\u001b[0m\u001b[0;34m*\u001b[0m\u001b[0margs\u001b[0m\u001b[0;34m,\u001b[0m \u001b[0;34m**\u001b[0m\u001b[0mkwargs\u001b[0m\u001b[0;34m)\u001b[0m\u001b[0;34m:\u001b[0m\u001b[0;34m\u001b[0m\u001b[0;34m\u001b[0m\u001b[0m\n\u001b[1;32m     26\u001b[0m             \u001b[0;32mwith\u001b[0m \u001b[0mself\u001b[0m\u001b[0;34m.\u001b[0m\u001b[0m__class__\u001b[0m\u001b[0;34m(\u001b[0m\u001b[0;34m)\u001b[0m\u001b[0;34m:\u001b[0m\u001b[0;34m\u001b[0m\u001b[0;34m\u001b[0m\u001b[0m\n\u001b[0;32m---> 27\u001b[0;31m                 \u001b[0;32mreturn\u001b[0m \u001b[0mfunc\u001b[0m\u001b[0;34m(\u001b[0m\u001b[0;34m*\u001b[0m\u001b[0margs\u001b[0m\u001b[0;34m,\u001b[0m \u001b[0;34m**\u001b[0m\u001b[0mkwargs\u001b[0m\u001b[0;34m)\u001b[0m\u001b[0;34m\u001b[0m\u001b[0;34m\u001b[0m\u001b[0m\n\u001b[0m\u001b[1;32m     28\u001b[0m         \u001b[0;32mreturn\u001b[0m \u001b[0mcast\u001b[0m\u001b[0;34m(\u001b[0m\u001b[0mF\u001b[0m\u001b[0;34m,\u001b[0m \u001b[0mdecorate_context\u001b[0m\u001b[0;34m)\u001b[0m\u001b[0;34m\u001b[0m\u001b[0;34m\u001b[0m\u001b[0m\n\u001b[1;32m     29\u001b[0m \u001b[0;34m\u001b[0m\u001b[0m\n",
      "\u001b[0;32m~/anaconda3/lib/python3.7/site-packages/torch/optim/adam.py\u001b[0m in \u001b[0;36mstep\u001b[0;34m(self, closure)\u001b[0m\n\u001b[1;32m     64\u001b[0m         \u001b[0;32mif\u001b[0m \u001b[0mclosure\u001b[0m \u001b[0;32mis\u001b[0m \u001b[0;32mnot\u001b[0m \u001b[0;32mNone\u001b[0m\u001b[0;34m:\u001b[0m\u001b[0;34m\u001b[0m\u001b[0;34m\u001b[0m\u001b[0m\n\u001b[1;32m     65\u001b[0m             \u001b[0;32mwith\u001b[0m \u001b[0mtorch\u001b[0m\u001b[0;34m.\u001b[0m\u001b[0menable_grad\u001b[0m\u001b[0;34m(\u001b[0m\u001b[0;34m)\u001b[0m\u001b[0;34m:\u001b[0m\u001b[0;34m\u001b[0m\u001b[0;34m\u001b[0m\u001b[0m\n\u001b[0;32m---> 66\u001b[0;31m                 \u001b[0mloss\u001b[0m \u001b[0;34m=\u001b[0m \u001b[0mclosure\u001b[0m\u001b[0;34m(\u001b[0m\u001b[0;34m)\u001b[0m\u001b[0;34m\u001b[0m\u001b[0;34m\u001b[0m\u001b[0m\n\u001b[0m\u001b[1;32m     67\u001b[0m \u001b[0;34m\u001b[0m\u001b[0m\n\u001b[1;32m     68\u001b[0m         \u001b[0;32mfor\u001b[0m \u001b[0mgroup\u001b[0m \u001b[0;32min\u001b[0m \u001b[0mself\u001b[0m\u001b[0;34m.\u001b[0m\u001b[0mparam_groups\u001b[0m\u001b[0;34m:\u001b[0m\u001b[0;34m\u001b[0m\u001b[0;34m\u001b[0m\u001b[0m\n",
      "\u001b[0;32m~/anaconda3/lib/python3.7/site-packages/pytorch_lightning/trainer/training_loop.py\u001b[0m in \u001b[0;36mtrain_step_and_backward_closure\u001b[0;34m()\u001b[0m\n\u001b[1;32m    724\u001b[0m                         \u001b[0;32mdef\u001b[0m \u001b[0mtrain_step_and_backward_closure\u001b[0m\u001b[0;34m(\u001b[0m\u001b[0;34m)\u001b[0m\u001b[0;34m:\u001b[0m\u001b[0;34m\u001b[0m\u001b[0;34m\u001b[0m\u001b[0m\n\u001b[1;32m    725\u001b[0m                             result = self.training_step_and_backward(\n\u001b[0;32m--> 726\u001b[0;31m                                 \u001b[0msplit_batch\u001b[0m\u001b[0;34m,\u001b[0m \u001b[0mbatch_idx\u001b[0m\u001b[0;34m,\u001b[0m \u001b[0mopt_idx\u001b[0m\u001b[0;34m,\u001b[0m \u001b[0moptimizer\u001b[0m\u001b[0;34m,\u001b[0m \u001b[0mself\u001b[0m\u001b[0;34m.\u001b[0m\u001b[0mtrainer\u001b[0m\u001b[0;34m.\u001b[0m\u001b[0mhiddens\u001b[0m\u001b[0;34m\u001b[0m\u001b[0;34m\u001b[0m\u001b[0m\n\u001b[0m\u001b[1;32m    727\u001b[0m                             )\n\u001b[1;32m    728\u001b[0m                             \u001b[0;32mreturn\u001b[0m \u001b[0;32mNone\u001b[0m \u001b[0;32mif\u001b[0m \u001b[0mresult\u001b[0m \u001b[0;32mis\u001b[0m \u001b[0;32mNone\u001b[0m \u001b[0;32melse\u001b[0m \u001b[0mresult\u001b[0m\u001b[0;34m.\u001b[0m\u001b[0mloss\u001b[0m\u001b[0;34m\u001b[0m\u001b[0;34m\u001b[0m\u001b[0m\n",
      "\u001b[0;32m~/anaconda3/lib/python3.7/site-packages/pytorch_lightning/trainer/training_loop.py\u001b[0m in \u001b[0;36mtraining_step_and_backward\u001b[0;34m(self, split_batch, batch_idx, opt_idx, optimizer, hiddens)\u001b[0m\n\u001b[1;32m    825\u001b[0m                 \u001b[0;32mif\u001b[0m \u001b[0mresult\u001b[0m \u001b[0;32mis\u001b[0m \u001b[0;32mnot\u001b[0m \u001b[0;32mNone\u001b[0m\u001b[0;34m:\u001b[0m\u001b[0;34m\u001b[0m\u001b[0;34m\u001b[0m\u001b[0m\n\u001b[1;32m    826\u001b[0m                     \u001b[0;32mwith\u001b[0m \u001b[0mself\u001b[0m\u001b[0;34m.\u001b[0m\u001b[0mtrainer\u001b[0m\u001b[0;34m.\u001b[0m\u001b[0mprofiler\u001b[0m\u001b[0;34m.\u001b[0m\u001b[0mprofile\u001b[0m\u001b[0;34m(\u001b[0m\u001b[0;34m\"backward\"\u001b[0m\u001b[0;34m)\u001b[0m\u001b[0;34m:\u001b[0m\u001b[0;34m\u001b[0m\u001b[0;34m\u001b[0m\u001b[0m\n\u001b[0;32m--> 827\u001b[0;31m                         \u001b[0mself\u001b[0m\u001b[0;34m.\u001b[0m\u001b[0mbackward\u001b[0m\u001b[0;34m(\u001b[0m\u001b[0mresult\u001b[0m\u001b[0;34m,\u001b[0m \u001b[0moptimizer\u001b[0m\u001b[0;34m,\u001b[0m \u001b[0mopt_idx\u001b[0m\u001b[0;34m)\u001b[0m\u001b[0;34m\u001b[0m\u001b[0;34m\u001b[0m\u001b[0m\n\u001b[0m\u001b[1;32m    828\u001b[0m \u001b[0;34m\u001b[0m\u001b[0m\n\u001b[1;32m    829\u001b[0m                     \u001b[0;31m# hook - call this hook only\u001b[0m\u001b[0;34m\u001b[0m\u001b[0;34m\u001b[0m\u001b[0;34m\u001b[0m\u001b[0m\n",
      "\u001b[0;32m~/anaconda3/lib/python3.7/site-packages/pytorch_lightning/trainer/training_loop.py\u001b[0m in \u001b[0;36mbackward\u001b[0;34m(self, result, optimizer, opt_idx, *args, **kwargs)\u001b[0m\n\u001b[1;32m    863\u001b[0m         \u001b[0;32melse\u001b[0m\u001b[0;34m:\u001b[0m\u001b[0;34m\u001b[0m\u001b[0;34m\u001b[0m\u001b[0m\n\u001b[1;32m    864\u001b[0m             result.closure_loss = self.trainer.accelerator.backward(\n\u001b[0;32m--> 865\u001b[0;31m                 \u001b[0mresult\u001b[0m\u001b[0;34m.\u001b[0m\u001b[0mclosure_loss\u001b[0m\u001b[0;34m,\u001b[0m \u001b[0moptimizer\u001b[0m\u001b[0;34m,\u001b[0m \u001b[0mopt_idx\u001b[0m\u001b[0;34m,\u001b[0m \u001b[0mshould_accumulate\u001b[0m\u001b[0;34m,\u001b[0m \u001b[0;34m*\u001b[0m\u001b[0margs\u001b[0m\u001b[0;34m,\u001b[0m \u001b[0;34m**\u001b[0m\u001b[0mkwargs\u001b[0m\u001b[0;34m\u001b[0m\u001b[0;34m\u001b[0m\u001b[0m\n\u001b[0m\u001b[1;32m    866\u001b[0m             )\n\u001b[1;32m    867\u001b[0m \u001b[0;34m\u001b[0m\u001b[0m\n",
      "\u001b[0;32m~/anaconda3/lib/python3.7/site-packages/pytorch_lightning/accelerators/accelerator.py\u001b[0m in \u001b[0;36mbackward\u001b[0;34m(self, closure_loss, optimizer, optimizer_idx, should_accumulate, *args, **kwargs)\u001b[0m\n\u001b[1;32m    307\u001b[0m \u001b[0;34m\u001b[0m\u001b[0m\n\u001b[1;32m    308\u001b[0m         output = self.precision_plugin.backward(\n\u001b[0;32m--> 309\u001b[0;31m             \u001b[0mself\u001b[0m\u001b[0;34m.\u001b[0m\u001b[0mlightning_module\u001b[0m\u001b[0;34m,\u001b[0m \u001b[0mclosure_loss\u001b[0m\u001b[0;34m,\u001b[0m \u001b[0moptimizer\u001b[0m\u001b[0;34m,\u001b[0m \u001b[0moptimizer_idx\u001b[0m\u001b[0;34m,\u001b[0m \u001b[0mshould_accumulate\u001b[0m\u001b[0;34m,\u001b[0m \u001b[0;34m*\u001b[0m\u001b[0margs\u001b[0m\u001b[0;34m,\u001b[0m \u001b[0;34m**\u001b[0m\u001b[0mkwargs\u001b[0m\u001b[0;34m\u001b[0m\u001b[0;34m\u001b[0m\u001b[0m\n\u001b[0m\u001b[1;32m    310\u001b[0m         )\n\u001b[1;32m    311\u001b[0m \u001b[0;34m\u001b[0m\u001b[0m\n",
      "\u001b[0;32m~/anaconda3/lib/python3.7/site-packages/pytorch_lightning/plugins/precision/precision_plugin.py\u001b[0m in \u001b[0;36mbackward\u001b[0;34m(self, model, closure_loss, optimizer, opt_idx, should_accumulate, *args, **kwargs)\u001b[0m\n\u001b[1;32m     77\u001b[0m         \u001b[0;31m# do backward pass\u001b[0m\u001b[0;34m\u001b[0m\u001b[0;34m\u001b[0m\u001b[0;34m\u001b[0m\u001b[0m\n\u001b[1;32m     78\u001b[0m         \u001b[0;32mif\u001b[0m \u001b[0mautomatic_optimization\u001b[0m\u001b[0;34m:\u001b[0m\u001b[0;34m\u001b[0m\u001b[0;34m\u001b[0m\u001b[0m\n\u001b[0;32m---> 79\u001b[0;31m             \u001b[0mmodel\u001b[0m\u001b[0;34m.\u001b[0m\u001b[0mbackward\u001b[0m\u001b[0;34m(\u001b[0m\u001b[0mclosure_loss\u001b[0m\u001b[0;34m,\u001b[0m \u001b[0moptimizer\u001b[0m\u001b[0;34m,\u001b[0m \u001b[0mopt_idx\u001b[0m\u001b[0;34m)\u001b[0m\u001b[0;34m\u001b[0m\u001b[0;34m\u001b[0m\u001b[0m\n\u001b[0m\u001b[1;32m     80\u001b[0m         \u001b[0;32melse\u001b[0m\u001b[0;34m:\u001b[0m\u001b[0;34m\u001b[0m\u001b[0;34m\u001b[0m\u001b[0m\n\u001b[1;32m     81\u001b[0m             \u001b[0mclosure_loss\u001b[0m\u001b[0;34m.\u001b[0m\u001b[0mbackward\u001b[0m\u001b[0;34m(\u001b[0m\u001b[0;34m*\u001b[0m\u001b[0margs\u001b[0m\u001b[0;34m,\u001b[0m \u001b[0;34m**\u001b[0m\u001b[0mkwargs\u001b[0m\u001b[0;34m)\u001b[0m\u001b[0;34m\u001b[0m\u001b[0;34m\u001b[0m\u001b[0m\n",
      "\u001b[0;32m~/anaconda3/lib/python3.7/site-packages/pytorch_lightning/core/lightning.py\u001b[0m in \u001b[0;36mbackward\u001b[0;34m(self, loss, optimizer, optimizer_idx, *args, **kwargs)\u001b[0m\n\u001b[1;32m   1273\u001b[0m         \"\"\"\n\u001b[1;32m   1274\u001b[0m         \u001b[0;32mif\u001b[0m \u001b[0mself\u001b[0m\u001b[0;34m.\u001b[0m\u001b[0mautomatic_optimization\u001b[0m \u001b[0;32mor\u001b[0m \u001b[0mself\u001b[0m\u001b[0;34m.\u001b[0m\u001b[0m_running_manual_backward\u001b[0m\u001b[0;34m:\u001b[0m\u001b[0;34m\u001b[0m\u001b[0;34m\u001b[0m\u001b[0m\n\u001b[0;32m-> 1275\u001b[0;31m             \u001b[0mloss\u001b[0m\u001b[0;34m.\u001b[0m\u001b[0mbackward\u001b[0m\u001b[0;34m(\u001b[0m\u001b[0;34m*\u001b[0m\u001b[0margs\u001b[0m\u001b[0;34m,\u001b[0m \u001b[0;34m**\u001b[0m\u001b[0mkwargs\u001b[0m\u001b[0;34m)\u001b[0m\u001b[0;34m\u001b[0m\u001b[0;34m\u001b[0m\u001b[0m\n\u001b[0m\u001b[1;32m   1276\u001b[0m \u001b[0;34m\u001b[0m\u001b[0m\n\u001b[1;32m   1277\u001b[0m     \u001b[0;32mdef\u001b[0m \u001b[0mtoggle_optimizer\u001b[0m\u001b[0;34m(\u001b[0m\u001b[0mself\u001b[0m\u001b[0;34m,\u001b[0m \u001b[0moptimizer\u001b[0m\u001b[0;34m:\u001b[0m \u001b[0mOptimizer\u001b[0m\u001b[0;34m,\u001b[0m \u001b[0moptimizer_idx\u001b[0m\u001b[0;34m:\u001b[0m \u001b[0mint\u001b[0m\u001b[0;34m)\u001b[0m\u001b[0;34m:\u001b[0m\u001b[0;34m\u001b[0m\u001b[0;34m\u001b[0m\u001b[0m\n",
      "\u001b[0;32m~/anaconda3/lib/python3.7/site-packages/torch/tensor.py\u001b[0m in \u001b[0;36mbackward\u001b[0;34m(self, gradient, retain_graph, create_graph, inputs)\u001b[0m\n\u001b[1;32m    243\u001b[0m                 \u001b[0mcreate_graph\u001b[0m\u001b[0;34m=\u001b[0m\u001b[0mcreate_graph\u001b[0m\u001b[0;34m,\u001b[0m\u001b[0;34m\u001b[0m\u001b[0;34m\u001b[0m\u001b[0m\n\u001b[1;32m    244\u001b[0m                 inputs=inputs)\n\u001b[0;32m--> 245\u001b[0;31m         \u001b[0mtorch\u001b[0m\u001b[0;34m.\u001b[0m\u001b[0mautograd\u001b[0m\u001b[0;34m.\u001b[0m\u001b[0mbackward\u001b[0m\u001b[0;34m(\u001b[0m\u001b[0mself\u001b[0m\u001b[0;34m,\u001b[0m \u001b[0mgradient\u001b[0m\u001b[0;34m,\u001b[0m \u001b[0mretain_graph\u001b[0m\u001b[0;34m,\u001b[0m \u001b[0mcreate_graph\u001b[0m\u001b[0;34m,\u001b[0m \u001b[0minputs\u001b[0m\u001b[0;34m=\u001b[0m\u001b[0minputs\u001b[0m\u001b[0;34m)\u001b[0m\u001b[0;34m\u001b[0m\u001b[0;34m\u001b[0m\u001b[0m\n\u001b[0m\u001b[1;32m    246\u001b[0m \u001b[0;34m\u001b[0m\u001b[0m\n\u001b[1;32m    247\u001b[0m     \u001b[0;32mdef\u001b[0m \u001b[0mregister_hook\u001b[0m\u001b[0;34m(\u001b[0m\u001b[0mself\u001b[0m\u001b[0;34m,\u001b[0m \u001b[0mhook\u001b[0m\u001b[0;34m)\u001b[0m\u001b[0;34m:\u001b[0m\u001b[0;34m\u001b[0m\u001b[0;34m\u001b[0m\u001b[0m\n",
      "\u001b[0;32m~/anaconda3/lib/python3.7/site-packages/torch/autograd/__init__.py\u001b[0m in \u001b[0;36mbackward\u001b[0;34m(tensors, grad_tensors, retain_graph, create_graph, grad_variables, inputs)\u001b[0m\n\u001b[1;32m    145\u001b[0m     Variable._execution_engine.run_backward(\n\u001b[1;32m    146\u001b[0m         \u001b[0mtensors\u001b[0m\u001b[0;34m,\u001b[0m \u001b[0mgrad_tensors_\u001b[0m\u001b[0;34m,\u001b[0m \u001b[0mretain_graph\u001b[0m\u001b[0;34m,\u001b[0m \u001b[0mcreate_graph\u001b[0m\u001b[0;34m,\u001b[0m \u001b[0minputs\u001b[0m\u001b[0;34m,\u001b[0m\u001b[0;34m\u001b[0m\u001b[0;34m\u001b[0m\u001b[0m\n\u001b[0;32m--> 147\u001b[0;31m         allow_unreachable=True, accumulate_grad=True)  # allow_unreachable flag\n\u001b[0m\u001b[1;32m    148\u001b[0m \u001b[0;34m\u001b[0m\u001b[0m\n\u001b[1;32m    149\u001b[0m \u001b[0;34m\u001b[0m\u001b[0m\n",
      "\u001b[0;31mRuntimeError\u001b[0m: Trying to backward through the graph a second time, but the saved intermediate results have already been freed. Specify retain_graph=True when calling .backward() or autograd.grad() the first time."
     ]
    }
   ],
   "source": [
    "trainer.fit(kl_cpd_model)"
   ]
  },
  {
   "cell_type": "code",
   "execution_count": 52,
   "id": "cd300d6c",
   "metadata": {},
   "outputs": [
    {
     "data": {
      "text/plain": [
       "Reusing TensorBoard on port 5555 (pid 19392), started 5:11:21 ago. (Use '!kill 19392' to kill it.)"
      ]
     },
     "metadata": {},
     "output_type": "display_data"
    },
    {
     "data": {
      "text/html": [
       "\n",
       "      <iframe id=\"tensorboard-frame-cc0c6cf2f6024a61\" width=\"100%\" height=\"800\" frameborder=\"0\">\n",
       "      </iframe>\n",
       "      <script>\n",
       "        (function() {\n",
       "          const frame = document.getElementById(\"tensorboard-frame-cc0c6cf2f6024a61\");\n",
       "          const url = new URL(\"/\", window.location);\n",
       "          const port = 5555;\n",
       "          if (port) {\n",
       "            url.port = port;\n",
       "          }\n",
       "          frame.src = url;\n",
       "        })();\n",
       "      </script>\n",
       "    "
      ],
      "text/plain": [
       "<IPython.core.display.HTML object>"
      ]
     },
     "metadata": {},
     "output_type": "display_data"
    }
   ],
   "source": [
    "%reload_ext tensorboard\n",
    "%tensorboard --logdir 'logs' --port 5555"
   ]
  },
  {
   "cell_type": "markdown",
   "id": "d67e21be",
   "metadata": {},
   "source": [
    "### After training"
   ]
  },
  {
   "cell_type": "code",
   "execution_count": 66,
   "id": "b13247f4",
   "metadata": {},
   "outputs": [],
   "source": [
    "pred_trained = valid_epoch(Data, Data.val_set, kl_cpd_model, args['batch_size'], Y_tst, L_tst)\n",
    "pred_trained = pred_trained / np.max(pred_trained)"
   ]
  },
  {
   "cell_type": "code",
   "execution_count": 67,
   "id": "7b001934",
   "metadata": {},
   "outputs": [
    {
     "data": {
      "text/plain": [
       "<matplotlib.legend.Legend at 0x7fb3e847ded0>"
      ]
     },
     "execution_count": 67,
     "metadata": {},
     "output_type": "execute_result"
    },
    {
     "data": {
      "image/png": "[encoded data removed]",
      "text/plain": [
       "<Figure size 432x288 with 1 Axes>"
      ]
     },
     "metadata": {
      "needs_background": "light"
     },
     "output_type": "display_data"
    }
   ],
   "source": [
    "plt.figure()\n",
    "plt.plot(pred_trained, label='pred trained')\n",
    "plt.plot(pred, label='pred before training')\n",
    "plt.plot(true, label='true')\n",
    "plt.legend()"
   ]
  }
 ],
 "metadata": {
  "kernelspec": {
   "display_name": "Python 3",
   "language": "python",
   "name": "python3"
  },
  "language_info": {
   "codemirror_mode": {
    "name": "ipython",
    "version": 3
   },
   "file_extension": ".py",
   "mimetype": "text/x-python",
   "name": "python",
   "nbconvert_exporter": "python",
   "pygments_lexer": "ipython3",
   "version": "3.7.9"
  }
 },
 "nbformat": 4,
 "nbformat_minor": 5
}
