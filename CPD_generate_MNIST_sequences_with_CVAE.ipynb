{
 "cells": [
  {
   "cell_type": "code",
   "execution_count": 1,
   "metadata": {},
   "outputs": [],
   "source": [
    "import torch\n",
    "import torch.nn as nn\n",
    "import torch.optim as optim\n",
    "import torch.nn.functional as F\n",
    "\n",
    "from torch.utils.data import DataLoader\n",
    "from torchvision import datasets, transforms\n",
    "\n",
    "import matplotlib.pyplot as plt"
   ]
  },
  {
   "cell_type": "code",
   "execution_count": 2,
   "metadata": {},
   "outputs": [],
   "source": [
    "device = torch.device('cuda' if torch.cuda.is_available() else 'cpu')"
   ]
  },
  {
   "cell_type": "code",
   "execution_count": 3,
   "metadata": {},
   "outputs": [],
   "source": [
    "transforms = transforms.Compose([transforms.ToTensor()])\n",
    "train_dataset = datasets.MNIST(\n",
    "    './data',\n",
    "    train=True,\n",
    "    download=True,\n",
    "    transform=transforms)\n",
    "\n",
    "test_dataset = datasets.MNIST(\n",
    "    './data',\n",
    "    train=False,\n",
    "    download=True,\n",
    "    transform=transforms\n",
    ")"
   ]
  },
  {
   "cell_type": "code",
   "execution_count": 4,
   "metadata": {},
   "outputs": [],
   "source": [
    "BATCH_SIZE = 64         # number of data points in each batch\n",
    "N_EPOCHS = 10           # times to run the model on complete data\n",
    "IM_SIZE = 28\n",
    "INPUT_DIM = IM_SIZE * IM_SIZE     # size of each input\n",
    "HIDDEN_DIM = 256        # hidden dimension\n",
    "LATENT_DIM = 75         # latent vector dimension\n",
    "N_CLASSES = 10          # number of classes in the data\n",
    "lr = 1e-3               # learning rate"
   ]
  },
  {
   "cell_type": "code",
   "execution_count": 5,
   "metadata": {},
   "outputs": [],
   "source": [
    "train_iterator = DataLoader(train_dataset, batch_size=BATCH_SIZE, shuffle=True)\n",
    "test_iterator = DataLoader(test_dataset, batch_size=BATCH_SIZE)"
   ]
  },
  {
   "cell_type": "code",
   "execution_count": 6,
   "metadata": {},
   "outputs": [],
   "source": [
    "def idx2onehot(idx, n=N_CLASSES):\n",
    "    assert idx.shape[1] == 1\n",
    "    assert torch.max(idx).item() < n\n",
    "\n",
    "    onehot = torch.zeros(idx.size(0), n)\n",
    "    onehot.scatter_(1, idx.data, 1)\n",
    "\n",
    "    return onehot"
   ]
  },
  {
   "cell_type": "code",
   "execution_count": 7,
   "metadata": {},
   "outputs": [],
   "source": [
    "class Encoder(nn.Module):\n",
    "    ''' This the encoder part of VAE\n",
    "\n",
    "    '''\n",
    "    def __init__(self, input_dim, hidden_dim, latent_dim, n_classes):\n",
    "        '''\n",
    "        Args:\n",
    "            input_dim: A integer indicating the size of input (in case of MNIST 28 * 28).\n",
    "            hidden_dim: A integer indicating the size of hidden dimension.\n",
    "            latent_dim: A integer indicating the latent size.\n",
    "            n_classes: A integer indicating the number of classes. (dimension of one-hot representation of labels)\n",
    "        '''\n",
    "        super().__init__()\n",
    "\n",
    "        self.linear = nn.Linear(input_dim + n_classes, hidden_dim)\n",
    "        self.mu = nn.Linear(hidden_dim, latent_dim)\n",
    "        self.var = nn.Linear(hidden_dim, latent_dim)\n",
    "\n",
    "    def forward(self, x):\n",
    "        # x is of shape [batch_size, input_dim + n_classes]\n",
    "\n",
    "        hidden = F.relu(self.linear(x))\n",
    "        # hidden is of shape [batch_size, hidden_dim]\n",
    "\n",
    "        # latent parameters\n",
    "        mean = self.mu(hidden)\n",
    "        # mean is of shape [batch_size, latent_dim]\n",
    "        log_var = self.var(hidden)\n",
    "        # log_var is of shape [batch_size, latent_dim]\n",
    "\n",
    "        return mean, log_var"
   ]
  },
  {
   "cell_type": "code",
   "execution_count": 8,
   "metadata": {},
   "outputs": [],
   "source": [
    "class Decoder(nn.Module):\n",
    "    ''' This the decoder part of VAE\n",
    "\n",
    "    '''\n",
    "    def __init__(self, latent_dim, hidden_dim, output_dim, n_classes):\n",
    "        '''\n",
    "        Args:\n",
    "            latent_dim: A integer indicating the latent size.\n",
    "            hidden_dim: A integer indicating the size of hidden dimension.\n",
    "            output_dim: A integer indicating the size of output (in case of MNIST 28 * 28).\n",
    "            n_classes: A integer indicating the number of classes. (dimension of one-hot representation of labels)\n",
    "        '''\n",
    "        super().__init__()\n",
    "\n",
    "        self.latent_to_hidden = nn.Linear(latent_dim + n_classes, hidden_dim)\n",
    "        self.hidden_to_out = nn.Linear(hidden_dim, output_dim)\n",
    "\n",
    "    def forward(self, x):\n",
    "        # x is of shape [batch_size, latent_dim + num_classes]\n",
    "        x = F.relu(self.latent_to_hidden(x))\n",
    "        # x is of shape [batch_size, hidden_dim]\n",
    "        generated_x = F.sigmoid(self.hidden_to_out(x))\n",
    "        # x is of shape [batch_size, output_dim]\n",
    "\n",
    "        return generated_x"
   ]
  },
  {
   "cell_type": "code",
   "execution_count": 9,
   "metadata": {},
   "outputs": [],
   "source": [
    "class CVAE(nn.Module):\n",
    "    ''' This the VAE, which takes a encoder and decoder.\n",
    "\n",
    "    '''\n",
    "    def __init__(self, input_dim, hidden_dim, latent_dim, n_classes):\n",
    "        '''\n",
    "        Args:\n",
    "            input_dim: A integer indicating the size of input (in case of MNIST 28 * 28).\n",
    "            hidden_dim: A integer indicating the size of hidden dimension.\n",
    "            latent_dim: A integer indicating the latent size.\n",
    "            n_classes: A integer indicating the number of classes. (dimension of one-hot representation of labels)\n",
    "        '''\n",
    "        super().__init__()\n",
    "\n",
    "        self.encoder = Encoder(input_dim, hidden_dim, latent_dim, n_classes)\n",
    "        self.decoder = Decoder(latent_dim, hidden_dim, input_dim, n_classes)\n",
    "\n",
    "    def forward(self, x, y):\n",
    "\n",
    "        x = torch.cat((x, y), dim=1)\n",
    "\n",
    "        # encode\n",
    "        z_mu, z_var = self.encoder(x)\n",
    "\n",
    "        # sample from the distribution having latent parameters z_mu, z_var\n",
    "        # reparameterize\n",
    "        std = torch.exp(z_var / 2)\n",
    "        eps = torch.randn_like(std)\n",
    "        x_sample = eps.mul(std).add_(z_mu)\n",
    "\n",
    "        z = torch.cat((x_sample, y), dim=1)\n",
    "\n",
    "        # decode\n",
    "        generated_x = self.decoder(z)\n",
    "\n",
    "        return generated_x, z_mu, z_var"
   ]
  },
  {
   "cell_type": "code",
   "execution_count": 10,
   "metadata": {},
   "outputs": [],
   "source": [
    "# model\n",
    "model = CVAE(INPUT_DIM, HIDDEN_DIM, LATENT_DIM, N_CLASSES)\n",
    "model.to(device)\n",
    "#optimizer\n",
    "optimizer = optim.Adam(model.parameters(), lr=lr)"
   ]
  },
  {
   "cell_type": "code",
   "execution_count": 11,
   "metadata": {},
   "outputs": [],
   "source": [
    "def calculate_loss(x, reconstructed_x, mean, log_var):\n",
    "    # reconstruction loss\n",
    "    RCL = F.binary_cross_entropy(reconstructed_x, x, size_average=False)\n",
    "    # kl divergence loss\n",
    "    KLD = -0.5 * torch.sum(1 + log_var - mean.pow(2) - log_var.exp())\n",
    "\n",
    "    return RCL + KLD"
   ]
  },
  {
   "cell_type": "code",
   "execution_count": 21,
   "metadata": {},
   "outputs": [],
   "source": [
    "def train():\n",
    "    # set the train mode\n",
    "    model.train()\n",
    "\n",
    "    # loss of the epoch\n",
    "    train_loss = 0\n",
    "\n",
    "    for i, (x, y) in enumerate(train_iterator):\n",
    "        # reshape the data into [batch_size, 784]\n",
    "        x = x.view(-1, 28 * 28)\n",
    "        x = x.to(device)\n",
    "\n",
    "        # convert y into one-hot encoding\n",
    "        y = idx2onehot(y.view(-1, 1))\n",
    "        y = y.to(device)\n",
    "\n",
    "        # update the gradients to zero\n",
    "        optimizer.zero_grad()\n",
    "\n",
    "        # forward pass\n",
    "        reconstructed_x, z_mu, z_var = model(x, y)\n",
    "\n",
    "        # loss\n",
    "        loss = calculate_loss(x, reconstructed_x, z_mu, z_var)\n",
    "\n",
    "        # backward pass\n",
    "        loss.backward()\n",
    "        train_loss += loss.item()\n",
    "\n",
    "        # update the weights\n",
    "        optimizer.step()\n",
    "\n",
    "    return train_loss"
   ]
  },
  {
   "cell_type": "code",
   "execution_count": 22,
   "metadata": {},
   "outputs": [],
   "source": [
    "def test():\n",
    "    # set the evaluation mode\n",
    "    model.eval()\n",
    "\n",
    "    # test loss for the data\n",
    "    test_loss = 0\n",
    "\n",
    "    # we don't need to track the gradients, since we are not updating the parameters during evaluation / testing\n",
    "    with torch.no_grad():\n",
    "        for i, (x, y) in enumerate(test_iterator):\n",
    "            # reshape the data\n",
    "            x = x.view(-1, 28 * 28)\n",
    "            x = x.to(device)\n",
    "\n",
    "            # convert y into one-hot encoding\n",
    "            y = idx2onehot(y.view(-1, 1))\n",
    "            y = y.to(device)\n",
    "\n",
    "            # forward pass\n",
    "            reconstructed_x, z_mu, z_var = model(x, y)\n",
    "\n",
    "            # loss\n",
    "            loss = calculate_loss(x, reconstructed_x, z_mu, z_var)\n",
    "            test_loss += loss.item()\n",
    "\n",
    "\n",
    "            return test_loss"
   ]
  },
  {
   "cell_type": "code",
   "execution_count": 23,
   "metadata": {},
   "outputs": [],
   "source": [
    "import numpy as np"
   ]
  },
  {
   "cell_type": "code",
   "execution_count": 24,
   "metadata": {},
   "outputs": [
    {
     "name": "stdout",
     "output_type": "stream",
     "text": [
      "Epoch 0, Train Loss: 142.18, Test Loss: 0.79\n",
      "Epoch 1, Train Loss: 119.69, Test Loss: 0.71\n",
      "Epoch 2, Train Loss: 112.32, Test Loss: 0.69\n",
      "Epoch 3, Train Loss: 108.89, Test Loss: 0.67\n",
      "Epoch 4, Train Loss: 106.91, Test Loss: 0.66\n",
      "Epoch 5, Train Loss: 105.71, Test Loss: 0.65\n",
      "Epoch 6, Train Loss: 104.81, Test Loss: 0.64\n",
      "Epoch 7, Train Loss: 104.18, Test Loss: 0.64\n",
      "Epoch 8, Train Loss: 103.63, Test Loss: 0.64\n",
      "Epoch 9, Train Loss: 103.18, Test Loss: 0.64\n"
     ]
    }
   ],
   "source": [
    "best_test_loss = +np.inf\n",
    "for e in range(N_EPOCHS):\n",
    "\n",
    "    train_loss = train()\n",
    "    test_loss = test()\n",
    "\n",
    "    train_loss /= len(train_dataset)\n",
    "    test_loss /= len(test_dataset)\n",
    "\n",
    "    print(f'Epoch {e}, Train Loss: {train_loss:.2f}, Test Loss: {test_loss:.2f}')\n",
    "\n",
    "    if best_test_loss > test_loss:\n",
    "        best_test_loss = test_loss\n",
    "        patience_counter = 1\n",
    "    else:\n",
    "        patience_counter += 1\n",
    "\n",
    "    if patience_counter > 3:\n",
    "        break"
   ]
  },
  {
   "cell_type": "code",
   "execution_count": 31,
   "metadata": {},
   "outputs": [
    {
     "name": "stdout",
     "output_type": "stream",
     "text": [
      "Generating a 6\n"
     ]
    },
    {
     "data": {
      "image/png": "[encoded data removed]",
      "text/plain": [
       "<Figure size 432x288 with 1 Axes>"
      ]
     },
     "metadata": {
      "needs_background": "light"
     },
     "output_type": "display_data"
    }
   ],
   "source": [
    "# create a random latent vector\n",
    "z = torch.randn(1, LATENT_DIM).to(device)\n",
    "\n",
    "# pick randomly 1 class, for which we want to generate the data\n",
    "y = torch.randint(0, N_CLASSES, (1, 1)).to(dtype=torch.long)\n",
    "print(f'Generating a {y.item()}')\n",
    "\n",
    "y = idx2onehot(y).to(device, dtype=z.dtype)\n",
    "z = torch.cat((z, y), dim=1)\n",
    "\n",
    "reconstructed_img = model.decoder(z)\n",
    "img = reconstructed_img.view(28, 28).data\n",
    "\n",
    "plt.figure()\n",
    "plt.imshow(img.detach().cpu().numpy(), cmap='gray')\n",
    "plt.show()"
   ]
  },
  {
   "cell_type": "code",
   "execution_count": 32,
   "metadata": {},
   "outputs": [
    {
     "data": {
      "image/png": "[encoded data removed]",
      "text/plain": [
       "<Figure size 288x648 with 2 Axes>"
      ]
     },
     "metadata": {
      "needs_background": "light"
     },
     "output_type": "display_data"
    },
    {
     "data": {
      "image/png": "[encoded data removed]",
      "text/plain": [
       "<Figure size 288x648 with 2 Axes>"
      ]
     },
     "metadata": {
      "needs_background": "light"
     },
     "output_type": "display_data"
    },
    {
     "data": {
      "image/png": "[encoded data removed]",
      "text/plain": [
       "<Figure size 288x648 with 2 Axes>"
      ]
     },
     "metadata": {
      "needs_background": "light"
     },
     "output_type": "display_data"
    },
    {
     "data": {
      "image/png": "[encoded data removed]",
      "text/plain": [
       "<Figure size 288x648 with 2 Axes>"
      ]
     },
     "metadata": {
      "needs_background": "light"
     },
     "output_type": "display_data"
    },
    {
     "data": {
      "image/png": "[encoded data removed]",
      "text/plain": [
       "<Figure size 288x648 with 2 Axes>"
      ]
     },
     "metadata": {
      "needs_background": "light"
     },
     "output_type": "display_data"
    },
    {
     "data": {
      "image/png": "[encoded data removed]",
      "text/plain": [
       "<Figure size 288x648 with 2 Axes>"
      ]
     },
     "metadata": {
      "needs_background": "light"
     },
     "output_type": "display_data"
    }
   ],
   "source": [
    "test_iterator = DataLoader(test_dataset, batch_size=1) \n",
    "for i, (x, y) in zip(range(6), test_iterator):\n",
    "    # reshape the data\n",
    "    x = x.view(-1, 28 * 28)\n",
    "    x = x.to(device)\n",
    "    img = x.view(28, 28).data\n",
    "\n",
    "    # convert y into one-hot encoding\n",
    "    y = idx2onehot(y.view(-1, 1))\n",
    "    y = y.to(device)\n",
    "            \n",
    "    #     z = torch.randn(1, LATENT_DIM).to(device)\n",
    "\n",
    "    #     # pick randomly 1 class, for which we want to generate the data\n",
    "    #     y = torch.randint(0, N_CLASSES, (1, 1)).to(dtype=torch.long)\n",
    "    #     print(f'Generating a {y.item()}')\n",
    "\n",
    "    #     y = idx2onehot(y).to(device, dtype=z.dtype)\n",
    "    #     z = torch.cat((z, y), dim=1)\n",
    "\n",
    "    reconstructed_img = model(x, y)[0]\n",
    "    reconstructed_img = reconstructed_img.view(28, 28).data\n",
    "\n",
    "    fig, axs = plt.subplots(1, 2, figsize=(4, 9))\n",
    "    axs[0].set_axis_off()\n",
    "    axs[0].imshow(img.detach().cpu().numpy(), cmap='gray')\n",
    "    axs[1].set_axis_off()\n",
    "    axs[1].imshow(reconstructed_img.detach().cpu().numpy(), cmap='gray')\n",
    "    plt.show()"
   ]
  },
  {
   "cell_type": "code",
   "execution_count": 33,
   "metadata": {},
   "outputs": [],
   "source": [
    "draw_iterator = DataLoader(test_dataset, batch_size=1, shuffle=True)\n",
    "second_draw_iterator = DataLoader(test_dataset, batch_size=1, shuffle=True)"
   ]
  },
  {
   "cell_type": "code",
   "execution_count": 34,
   "metadata": {},
   "outputs": [],
   "source": [
    "def process_pair_xy(x, y):\n",
    "    x = x.view(-1, 28 * 28)\n",
    "    x = x.to(device)\n",
    "    # img = x.view(28, 28).data\n",
    "\n",
    "    # convert y into one-hot encoding\n",
    "    y = idx2onehot(y.view(-1, 1))\n",
    "    y = y.to(device)\n",
    "    return x, y"
   ]
  },
  {
   "cell_type": "code",
   "execution_count": 35,
   "metadata": {},
   "outputs": [],
   "source": [
    "def reparameterize_and_sample(z_mu, z_var):\n",
    "    std = torch.exp(z_var / 2)\n",
    "    eps = torch.randn_like(std)\n",
    "    x_sample = eps.mul(std).add_(z_mu)\n",
    "    \n",
    "    return x_sample"
   ]
  },
  {
   "cell_type": "code",
   "execution_count": 36,
   "metadata": {},
   "outputs": [],
   "source": [
    "def apply_model(model, x, y):\n",
    "    _, z_mu, z_var = model(x, y)\n",
    "    x_sample = reparameterize_and_sample(z_mu, z_var)\n",
    "    return x_sample   "
   ]
  },
  {
   "cell_type": "code",
   "execution_count": 176,
   "metadata": {},
   "outputs": [],
   "source": [
    "def seq_from_pair_imgs(model, first_x, first_y, second_x, second_y, seq_len):\n",
    "    first_x_sample = apply_model(model, first_x, first_y)\n",
    "    second_x_sample = apply_model(model, second_x, second_y)\n",
    "\n",
    "    image_weights = np.linspace(0, 1, seq_len)\n",
    "    image_sequence = []\n",
    "    label_sequence = []\n",
    "\n",
    "    for weight in image_weights:\n",
    "        intermediate_x = (1 - weight) * first_x_sample + weight * second_x_sample\n",
    "        intermediate_label = (1 - weight)*first_y + weight*second_y\n",
    "        z = torch.cat((intermediate_x, intermediate_label), dim=1)\n",
    "            \n",
    "        # decode\n",
    "        generated_intermediate_x = model.decoder(z)\n",
    "        image_sequence.append(generated_intermediate_x)\n",
    "        label_sequence.append(intermediate_label[0].argmax().item())\n",
    "                      \n",
    "    return image_sequence, label_sequence"
   ]
  },
  {
   "cell_type": "markdown",
   "metadata": {},
   "source": [
    "Correct loading parts of MNIST dataset"
   ]
  },
  {
   "cell_type": "code",
   "execution_count": 141,
   "metadata": {},
   "outputs": [],
   "source": [
    "test_dataset = datasets.MNIST(\n",
    "    './data',\n",
    "    train=False,\n",
    "    download=True,\n",
    "    transform=transforms\n",
    ")"
   ]
  },
  {
   "cell_type": "code",
   "execution_count": 142,
   "metadata": {},
   "outputs": [
    {
     "name": "stderr",
     "output_type": "stream",
     "text": [
      "/home/eromanenkova/anaconda3/lib/python3.7/site-packages/ipykernel_launcher.py:1: UserWarning: To copy construct from a tensor, it is recommended to use sourceTensor.clone().detach() or sourceTensor.clone().detach().requires_grad_(True), rather than torch.tensor(sourceTensor).\n",
      "  \"\"\"Entry point for launching an IPython kernel.\n",
      "/home/eromanenkova/anaconda3/lib/python3.7/site-packages/ipykernel_launcher.py:2: UserWarning: To copy construct from a tensor, it is recommended to use sourceTensor.clone().detach() or sourceTensor.clone().detach().requires_grad_(True), rather than torch.tensor(sourceTensor).\n",
      "  \n"
     ]
    }
   ],
   "source": [
    "idx_1 = torch.tensor(test_dataset.targets) == 1\n",
    "idx_7 = torch.tensor(test_dataset.targets) == 7\n",
    "\n",
    "ones_dataset = torch.utils.data.dataset.Subset(test_dataset, np.where(idx_1==1)[0])\n",
    "sevens_dataset = torch.utils.data.dataset.Subset(test_dataset, np.where(idx_7==1)[0])\n"
   ]
  },
  {
   "cell_type": "code",
   "execution_count": 143,
   "metadata": {},
   "outputs": [],
   "source": [
    "first_ones_dataloader = DataLoader(ones_dataset, batch_size=1, shuffle=True)\n",
    "second_ones_dataloader = DataLoader(ones_dataset, batch_size=1, shuffle=True)\n",
    "\n",
    "first_sevens_dataloader = DataLoader(sevens_dataset, batch_size=1, shuffle=True)\n",
    "second_sevens_dataloader = DataLoader(sevens_dataset, batch_size=1, shuffle=True)"
   ]
  },
  {
   "cell_type": "code",
   "execution_count": 144,
   "metadata": {},
   "outputs": [],
   "source": [
    "import random\n",
    "random.seed(42)\n",
    "\n",
    "import torchvision\n",
    "import os"
   ]
  },
  {
   "cell_type": "code",
   "execution_count": 198,
   "metadata": {},
   "outputs": [],
   "source": [
    "def save_img_series(path_to_folder, iter_number, img_sequence, label_sequence):\n",
    "    path_to_directory = os.path.join(path_to_folder, 'img_series_{}'.format(iter_number))\n",
    "    os.mkdir(path_to_directory)\n",
    "    for i in range(0, len(img_sequence)):\n",
    "        #torchvision.utils.save_image(full_image_sequence[i].view(IM_SIZE, IM_SIZE), '{}_{}.png'.format(i, full_labels_sequence[i]))\n",
    "        path_to_file = os.path.join(path_to_directory, '{}_{}.pt'.format(i, label_sequence[i]))\n",
    "        torch.save(img_sequence[i].view(IM_SIZE, IM_SIZE), path_to_file)"
   ]
  },
  {
   "cell_type": "markdown",
   "metadata": {},
   "source": [
    "Generate normal sequences\n"
   ]
  },
  {
   "cell_type": "code",
   "execution_count": 197,
   "metadata": {},
   "outputs": [],
   "source": [
    "first_ones_dataloader = DataLoader(ones_dataset, batch_size=1, shuffle=True)\n",
    "second_ones_dataloader = DataLoader(ones_dataset, batch_size=1, shuffle=True)\n",
    "\n",
    "first_sevens_dataloader = DataLoader(sevens_dataset, batch_size=1, shuffle=True)\n",
    "second_sevens_dataloader = DataLoader(sevens_dataset, batch_size=1, shuffle=True)"
   ]
  },
  {
   "cell_type": "code",
   "execution_count": 199,
   "metadata": {},
   "outputs": [
    {
     "name": "stderr",
     "output_type": "stream",
     "text": [
      "/home/eromanenkova/anaconda3/lib/python3.7/site-packages/torch/nn/functional.py:1351: UserWarning: nn.functional.sigmoid is deprecated. Use torch.sigmoid instead.\n",
      "  warnings.warn(\"nn.functional.sigmoid is deprecated. Use torch.sigmoid instead.\")\n"
     ]
    }
   ],
   "source": [
    "iteration_number = 500\n",
    "seq_len = 64\n",
    "for i, (x, y) in zip(range(iteration_number), first_ones_dataloader):\n",
    "    \n",
    "    # from 1 to 1\n",
    "    first_x, first_y = process_pair_xy(x, y)\n",
    "    second_x, second_y = next(iter(second_ones_dataloader))\n",
    "    second_x, second_y = process_pair_xy(second_x, second_y)\n",
    "\n",
    "    image_sequence, labels_sequence = seq_from_pair_imgs(model, first_x, first_y,\n",
    "                                                         second_x, second_y, seq_len)\n",
    "    \n",
    "    save_img_series('img_ts_normal', i, image_sequence, labels_sequence)"
   ]
  },
  {
   "cell_type": "markdown",
   "metadata": {},
   "source": [
    "Generate anomaly sequences\n"
   ]
  },
  {
   "cell_type": "code",
   "execution_count": null,
   "metadata": {},
   "outputs": [],
   "source": [
    "first_ones_dataloader = DataLoader(ones_dataset, batch_size=1, shuffle=True)\n",
    "second_ones_dataloader = DataLoader(ones_dataset, batch_size=1, shuffle=True)\n",
    "\n",
    "first_sevens_dataloader = DataLoader(sevens_dataset, batch_size=1, shuffle=True)\n",
    "second_sevens_dataloader = DataLoader(sevens_dataset, batch_size=1, shuffle=True)"
   ]
  },
  {
   "cell_type": "code",
   "execution_count": 196,
   "metadata": {},
   "outputs": [
    {
     "name": "stderr",
     "output_type": "stream",
     "text": [
      "/home/eromanenkova/anaconda3/lib/python3.7/site-packages/torch/nn/functional.py:1351: UserWarning: nn.functional.sigmoid is deprecated. Use torch.sigmoid instead.\n",
      "  warnings.warn(\"nn.functional.sigmoid is deprecated. Use torch.sigmoid instead.\")\n"
     ]
    }
   ],
   "source": [
    "iteration_number = 500\n",
    "seq_len = 64\n",
    "w = np.random.randint(1, 10)\n",
    "for i, (x, y) in zip(range(iteration_number), first_ones_dataloader):\n",
    "    \n",
    "    # from 1 to 1\n",
    "    first_x, first_y = process_pair_xy(x, y)\n",
    "    second_x, second_y = next(iter(second_ones_dataloader))\n",
    "    second_x, second_y = process_pair_xy(second_x, second_y)\n",
    "\n",
    "    first_seq = np.random.randint(1, seq_len//2)\n",
    "    image_sequence_first_part, labels_first_part = seq_from_pair_imgs(model, first_x, first_y,\n",
    "                                                                      second_x, second_y, \n",
    "                                                                      first_seq)\n",
    "    \n",
    "    # from 1 to 7\n",
    "    third_x, third_y = next(iter(first_sevens_dataloader))\n",
    "    third_x, third_y = process_pair_xy(third_x, third_y)\n",
    "    \n",
    "    second_seq = np.random.randint(first_seq, first_seq + w)\n",
    "    image_sequence_second_part, labels_second_part = seq_from_pair_imgs(model, second_x, second_y, \n",
    "                                                                        third_x, third_y, second_seq)\n",
    "\n",
    "    # from 7 to 7\n",
    "    \n",
    "    fourth_x, fourth_y = next(iter(second_sevens_dataloader))\n",
    "    fourth_x, fourth_y = process_pair_xy(fourth_x, fourth_y)\n",
    "    \n",
    "    image_sequence_third_part, labels_third_part = seq_from_pair_imgs(model, third_x, third_y, \n",
    "                                                                      fourth_x, fourth_y, seq_len - second_seq - first_seq)\n",
    "            \n",
    "    full_image_sequence = image_sequence_first_part + image_sequence_second_part + image_sequence_third_part\n",
    "    full_labels_sequence = labels_first_part + labels_second_part + labels_third_part\n",
    "    \n",
    "    save_img_series('img_ts_anomaly', i, full_image_sequence, full_labels_sequence)"
   ]
  },
  {
   "cell_type": "code",
   "execution_count": 200,
   "metadata": {
    "scrolled": false
   },
   "outputs": [
    {
     "data": {
      "image/png": "[encoded data removed]",
      "text/plain": [
       "<Figure size 936x936 with 64 Axes>"
      ]
     },
     "metadata": {
      "needs_background": "light"
     },
     "output_type": "display_data"
    }
   ],
   "source": [
    "fig, axs = plt.subplots(8, 8, figsize=(13, 13))\n",
    "# for ind in range(seq_len):\n",
    "for index in range(seq_len):\n",
    "    first_index = int(index / 8)\n",
    "    second_index = index % 8\n",
    "    axs[first_index, second_index].set_axis_off()\n",
    "    axs[first_index, second_index].imshow(full_image_sequence[index].view(IM_SIZE, \n",
    "                                                                          IM_SIZE).detach().cpu().numpy(), cmap='gray')"
   ]
  }
 ],
 "metadata": {
  "kernelspec": {
   "display_name": "Python 3",
   "language": "python",
   "name": "python3"
  },
  "language_info": {
   "codemirror_mode": {
    "name": "ipython",
    "version": 3
   },
   "file_extension": ".py",
   "mimetype": "text/x-python",
   "name": "python",
   "nbconvert_exporter": "python",
   "pygments_lexer": "ipython3",
   "version": "3.7.1"
  }
 },
 "nbformat": 4,
 "nbformat_minor": 2
}
