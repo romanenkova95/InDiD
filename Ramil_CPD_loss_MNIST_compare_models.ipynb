{
  "nbformat": 4,
  "nbformat_minor": 0,
  "metadata": {
    "kernelspec": {
      "display_name": "Python 3",
      "language": "python",
      "name": "python3"
    },
    "language_info": {
      "codemirror_mode": {
        "name": "ipython",
        "version": 3
      },
      "file_extension": ".py",
      "mimetype": "text/x-python",
      "name": "python",
      "nbconvert_exporter": "python",
      "pygments_lexer": "ipython3",
      "version": "3.7.5"
    },
    "colab": {
      "name": "CPD_loss_MNIST_compare_models.ipynb",
      "provenance": [],
      "collapsed_sections": [
        "RpN4w_7iOadN",
        "zpazbh0sOagI",
        "ghzIMgd0Oah6"
      ],
      "toc_visible": true
    },
    "accelerator": "GPU"
  },
  "cells": [
    {
      "cell_type": "code",
      "metadata": {
        "id": "6mEmec-OOaY8"
      },
      "source": [
        "import numpy as np\n",
        "import scipy\n",
        "import matplotlib.pyplot as plt\n",
        "%matplotlib inline\n",
        "\n",
        "from scipy.stats import norm\n",
        "from sklearn.model_selection import train_test_split\n",
        "from tqdm.notebook import tqdm\n",
        "from sklearn.metrics import average_precision_score"
      ],
      "execution_count": null,
      "outputs": []
    },
    {
      "cell_type": "code",
      "metadata": {
        "id": "BhfLx0nqOaZJ"
      },
      "source": [
        "import torch\n",
        "import torch.nn as nn\n",
        "import torch.nn.functional as F\n",
        "import torch.optim as optim\n",
        "from torch.utils.data import TensorDataset, DataLoader\n",
        "torch.manual_seed(1);"
      ],
      "execution_count": null,
      "outputs": []
    },
    {
      "cell_type": "code",
      "metadata": {
        "id": "pEFzdsn5rqlU"
      },
      "source": [
        "device = torch.device('cuda' if torch.cuda.is_available() else 'cpu')"
      ],
      "execution_count": null,
      "outputs": []
    },
    {
      "cell_type": "code",
      "metadata": {
        "id": "WKmd2ZxgrsQI",
        "colab": {
          "base_uri": "https://localhost:8080/"
        },
        "outputId": "14b21d53-cd94-4371-9cf0-830b50528396"
      },
      "source": [
        "torch.cuda.is_available()"
      ],
      "execution_count": null,
      "outputs": [
        {
          "output_type": "execute_result",
          "data": {
            "text/plain": [
              "True"
            ]
          },
          "metadata": {
            "tags": []
          },
          "execution_count": 4
        }
      ]
    },
    {
      "cell_type": "markdown",
      "metadata": {
        "id": "SF6urOZNOaZY"
      },
      "source": [
        "## Read data"
      ]
    },
    {
      "cell_type": "code",
      "metadata": {
        "id": "YHMQiC-Kq2EL",
        "colab": {
          "base_uri": "https://localhost:8080/"
        },
        "outputId": "7b644213-ca34-49b2-bc08-aa9316fe3771"
      },
      "source": [
        "from google.colab import drive\n",
        "drive.mount('/content/drive')"
      ],
      "execution_count": null,
      "outputs": [
        {
          "output_type": "stream",
          "text": [
            "Drive already mounted at /content/drive; to attempt to forcibly remount, call drive.mount(\"/content/drive\", force_remount=True).\n"
          ],
          "name": "stdout"
        }
      ]
    },
    {
      "cell_type": "code",
      "metadata": {
        "id": "21cxFhyKOaZf"
      },
      "source": [
        "import os\n",
        "SEQ_LEN = 64\n",
        "IM_SIZE = 28\n",
        "\n",
        "seq_name = \"5in6\"\n",
        "seq_classes = [\"different\", \"observable\", \"similar\"]\n",
        "seq_class = \"similar\"\n",
        "\n",
        "W_PARAM = 16"
      ],
      "execution_count": null,
      "outputs": []
    },
    {
      "cell_type": "code",
      "metadata": {
        "id": "z0oF27PiOaZs"
      },
      "source": [
        "# def read_img_sequences(path_to_folder, size=500):\n",
        "#     curr_size = 0\n",
        "#     data = []\n",
        "#     labels = []\n",
        "    \n",
        "#     for sequence_folder in os.listdir(path_to_folder):\n",
        "#         curr_size += 1\n",
        "#         full_sequence_folder = os.path.join(path_to_folder, sequence_folder)\n",
        "#         sequence_img = [None] * SEQ_LEN\n",
        "#         sequence_labels = [None] * SEQ_LEN\n",
        "        \n",
        "#         for img_path in os.listdir(full_sequence_folder):\n",
        "#             # -3: drop .pt\n",
        "#             im_index, label = img_path[:-3].split('_')\n",
        "#             im_index = int(im_index)\n",
        "#             label = int(label)\n",
        "\n",
        "#             full_path_to_img = os.path.join(full_sequence_folder, img_path)\n",
        "#             # load image and reshape to vector\n",
        "#             img = torch.load(full_path_to_img).view(IM_SIZE * IM_SIZE).detach().cpu().numpy()\n",
        "#             sequence_img[im_index] = img\n",
        "#             sequence_labels[im_index] = label\n",
        "#         data.append(sequence_img)\n",
        "#         labels.append(sequence_labels)\n",
        "#         if curr_size ==  size:\n",
        "#             break\n",
        "#     return data, labels"
      ],
      "execution_count": null,
      "outputs": []
    },
    {
      "cell_type": "code",
      "metadata": {
        "id": "UGSxEGhJoK94"
      },
      "source": [
        "import time\n",
        "# if torch.cuda.is_available():\n",
        "#     map_location=lambda storage, loc: storage.cuda()\n",
        "# else:\n",
        "#     map_location='cpu'"
      ],
      "execution_count": null,
      "outputs": []
    },
    {
      "cell_type": "markdown",
      "metadata": {
        "id": "pY90ESRjZahR"
      },
      "source": [
        "**старая версия считывания**\n"
      ]
    },
    {
      "cell_type": "code",
      "metadata": {
        "id": "x1fmbLmBSvwN"
      },
      "source": [
        "# anomaly_data = []\n",
        "# anomaly_labels = []\n",
        "\n",
        "# def read_img_sequences_anomaly(path_to_folder, size=3):\n",
        "#     curr_size = 0\n",
        "    \n",
        "#     folder_path = os.listdir(path_to_folder)\n",
        "\n",
        "#     for sequence_folder in folder_path:\n",
        "#         start_time = time.clock()\n",
        "        \n",
        "#         curr_size += 1\n",
        "#         full_sequence_folder = os.path.join(path_to_folder, sequence_folder)\n",
        "#         sequence_img = [None] * SEQ_LEN\n",
        "#         sequence_labels = [None] * SEQ_LEN\n",
        "\n",
        "\n",
        "#         print(curr_size)\n",
        "        \n",
        "#         full_path = os.listdir(full_sequence_folder)\n",
        "        \n",
        "        \n",
        "        \n",
        "#         for img_path in full_path:\n",
        "#               #time.sleep(0.02)\n",
        "#             # -3: drop .pt\n",
        "#             im_index, label = img_path[:-3].split('_')\n",
        "#             im_index = int(im_index)\n",
        "#             label = int(label)\n",
        "\n",
        "\n",
        "#             full_path_to_img = os.path.join(full_sequence_folder, img_path)\n",
        "#             # load image and reshape to vector\n",
        "\n",
        "#             #img = torch.load(full_path_to_img, map_location=map_location).view(IM_SIZE * IM_SIZE).detach().cpu().numpy()\n",
        "\n",
        "#             start_time_real = time.time()\n",
        "#             sequence_img[im_index] = torch.load(full_path_to_img, map_location=map_location).view(IM_SIZE * IM_SIZE).detach().cpu().numpy()\n",
        "#             print (time.time() - start_time_real, \"Real seconds\")\n",
        "\n",
        "#             sequence_labels[im_index] = label\n",
        "\n",
        "#         anomaly_data.append(sequence_img)\n",
        "#         anomaly_labels.append(sequence_labels)\n",
        "\n",
        "#         print (time.clock() - start_time, \"Compute seconds\")\n",
        "        \n",
        "#         if curr_size ==  size:\n",
        "#             break\n",
        "\n",
        "#         del sequence_img, sequence_labels\n",
        "\n",
        "#     return 0\n",
        "\n",
        "# read_img_sequences_anomaly('/content/drive/My Drive/CPDnumbers/different/num0in8/img_ts_anomaly/')"
      ],
      "execution_count": null,
      "outputs": []
    },
    {
      "cell_type": "code",
      "metadata": {
        "id": "l7w4FkOATaGS"
      },
      "source": [
        "# normal_data = []\n",
        "# normal_labels = []\n",
        "\n",
        "# def read_img_sequences_normal(path_to_folder, size=200):\n",
        "#     curr_size = 0\n",
        "    \n",
        "#     folder_path = os.listdir(path_to_folder)\n",
        "\n",
        "#     for sequence_folder in folder_path:\n",
        "#         start_time = time.clock()\n",
        "#         start_time_real = time.time()\n",
        "#         curr_size += 1\n",
        "#         full_sequence_folder = os.path.join(path_to_folder, sequence_folder)\n",
        "#         sequence_img = [None] * SEQ_LEN\n",
        "#         sequence_labels = [None] * SEQ_LEN\n",
        "\n",
        "\n",
        "#         print(curr_size)\n",
        "        \n",
        "#         full_path = os.listdir(full_sequence_folder)\n",
        "        \n",
        "        \n",
        "        \n",
        "#         for img_path in full_path:\n",
        "#               #time.sleep(0.02)\n",
        "#             # -3: drop .pt\n",
        "#             im_index, label = img_path[:-3].split('_')\n",
        "#             im_index = int(im_index)\n",
        "#             label = int(label)\n",
        "\n",
        "\n",
        "#             full_path_to_img = os.path.join(full_sequence_folder, img_path)\n",
        "#             # load image and reshape to vector\n",
        "\n",
        "#             #img = torch.load(full_path_to_img, map_location=map_location).view(IM_SIZE * IM_SIZE).detach().cpu().numpy()\n",
        "            \n",
        "#             sequence_img[im_index] = torch.load(full_path_to_img, map_location=map_location).view(IM_SIZE * IM_SIZE).detach().cpu().numpy()\n",
        "#             sequence_labels[im_index] = label\n",
        "\n",
        "#         normal_data.append(sequence_img)\n",
        "#         normal_labels.append(sequence_labels)\n",
        "\n",
        "#         print (time.clock() - start_time, \"Compute seconds\")\n",
        "#         print (time.time() - start_time_real, \"Real seconds\")\n",
        "#         if curr_size ==  size:\n",
        "#             break\n",
        "\n",
        "#         del sequence_img, sequence_labels\n",
        "\n",
        "#     return 0\n",
        "\n",
        "# read_img_sequences_normal('/content/drive/My Drive/CPDnumbers/different/num0in8/img_ts_normal/')"
      ],
      "execution_count": null,
      "outputs": []
    },
    {
      "cell_type": "code",
      "metadata": {
        "id": "j0VgBka70J2_"
      },
      "source": [
        "# cd \"/content/drive/My Drive/CPDnumbers/different/num0in8/img_ts_anomaly/\""
      ],
      "execution_count": null,
      "outputs": []
    },
    {
      "cell_type": "code",
      "metadata": {
        "id": "kBYnVqN99KX7"
      },
      "source": [
        "# pwd"
      ],
      "execution_count": null,
      "outputs": []
    },
    {
      "cell_type": "code",
      "metadata": {
        "id": "WbmzyMNuOaZ3"
      },
      "source": [
        "#anomaly_data, anomaly_labels = read_img_sequences('/content/drive/My Drive/CPDnumbers/similar/num3in5/img_ts_anomaly/')\n"
      ],
      "execution_count": null,
      "outputs": []
    },
    {
      "cell_type": "code",
      "metadata": {
        "id": "xsUK2rymtDb9"
      },
      "source": [
        "#normal_data, normal_labels = read_img_sequences('/content/drive/My Drive/CPDnumbers/similar/num3in5/img_ts_normal/')"
      ],
      "execution_count": null,
      "outputs": []
    },
    {
      "cell_type": "markdown",
      "metadata": {
        "id": "fJaURcJy0v04"
      },
      "source": [
        "**New csv method for download**"
      ]
    },
    {
      "cell_type": "code",
      "metadata": {
        "id": "HQDHRV4kGumz"
      },
      "source": [
        "import csv\n",
        "from numpy import genfromtxt"
      ],
      "execution_count": null,
      "outputs": []
    },
    {
      "cell_type": "code",
      "metadata": {
        "id": "f8OEE_l_02rM",
        "colab": {
          "base_uri": "https://localhost:8080/"
        },
        "outputId": "5bdd1741-a30b-459d-b07d-0c3b52786bba"
      },
      "source": [
        "anomaly_data_csv = []\n",
        "anomaly_labels_csv = []\n",
        "\n",
        "def read_img_sequences_anomaly_csv(path_to_folder, size=500):\n",
        "    curr_size = 0\n",
        "    \n",
        "    csv_img_file_path = os.listdir(path_to_folder + \"images\")\n",
        "    csv_img_file_path.sort()\n",
        "    csv_lables_file_path = os.listdir(path_to_folder + \"labels\")\n",
        "    csv_lables_file_path.sort()\n",
        "\n",
        "    print(csv_img_file_path)\n",
        "    print(csv_lables_file_path)\n",
        "\n",
        "\n",
        "    for sequence_csv, lables_csv in zip(csv_img_file_path, csv_lables_file_path) :\n",
        "        start_time = time.clock()      \n",
        "        curr_size += 1\n",
        "        print(curr_size)\n",
        "\n",
        "        sequence_img = [None] * SEQ_LEN\n",
        "        sequence_labels = [None] * SEQ_LEN\n",
        "\n",
        "        with open(path_to_folder + \"images/\" + sequence_csv) as csv_file:\n",
        "          csv_reader = csv.reader(csv_file, delimiter=',')\n",
        "          \n",
        "          row_number = 0;\n",
        "          for row in csv_reader:\n",
        "            start_time_real = time.time()\n",
        "\n",
        "            sequence_img[row_number] = genfromtxt(row, dtype=np.float32)\n",
        "\n",
        "            row_number += 1\n",
        "\n",
        "            #print (time.time() - start_time_real, \"Real seconds\")\n",
        "\n",
        "        with open(path_to_folder + \"labels/\" + lables_csv) as csv_file_lables:\n",
        "          csv_reader_l = csv.reader(csv_file_lables, delimiter=',')\n",
        "\n",
        "          row_number_l = 0\n",
        "          for row_l in csv_reader_l:\n",
        "\n",
        "            sequence_labels[row_number_l] = np.int(genfromtxt(row_l))\n",
        "\n",
        "            row_number_l += 1\n",
        "\n",
        "\n",
        "        anomaly_data_csv.append(sequence_img)\n",
        "        anomaly_labels_csv.append(sequence_labels)\n",
        "\n",
        "        #print (time.clock() - start_time, \"Compute seconds\")\n",
        "        \n",
        "        if curr_size ==  size:\n",
        "            break\n",
        "\n",
        "        del sequence_img, sequence_labels\n",
        "\n",
        "    return 0\n",
        "\n",
        "read_img_sequences_anomaly_csv(\"/content/drive/My Drive/CPDnumbersCSV/\" + seq_class + \"/num\" + seq_name + \"/img_ts_anomaly/\")\n"
      ],
      "execution_count": null,
      "outputs": [
        {
          "output_type": "stream",
          "text": [
            "['img_series_0.csv', 'img_series_1.csv', 'img_series_10.csv', 'img_series_100.csv', 'img_series_101.csv', 'img_series_102.csv', 'img_series_103.csv', 'img_series_104.csv', 'img_series_105.csv', 'img_series_106.csv', 'img_series_107.csv', 'img_series_108.csv', 'img_series_109.csv', 'img_series_11.csv', 'img_series_110.csv', 'img_series_111.csv', 'img_series_112.csv', 'img_series_113.csv', 'img_series_114.csv', 'img_series_115.csv', 'img_series_116.csv', 'img_series_117.csv', 'img_series_118.csv', 'img_series_119.csv', 'img_series_12.csv', 'img_series_120.csv', 'img_series_121.csv', 'img_series_122.csv', 'img_series_123.csv', 'img_series_124.csv', 'img_series_125.csv', 'img_series_126.csv', 'img_series_127.csv', 'img_series_128.csv', 'img_series_129.csv', 'img_series_13.csv', 'img_series_130.csv', 'img_series_131.csv', 'img_series_132.csv', 'img_series_133.csv', 'img_series_134.csv', 'img_series_135.csv', 'img_series_136.csv', 'img_series_137.csv', 'img_series_138.csv', 'img_series_139.csv', 'img_series_14.csv', 'img_series_140.csv', 'img_series_141.csv', 'img_series_142.csv', 'img_series_143.csv', 'img_series_144.csv', 'img_series_145.csv', 'img_series_146.csv', 'img_series_147.csv', 'img_series_148.csv', 'img_series_149.csv', 'img_series_15.csv', 'img_series_150.csv', 'img_series_151.csv', 'img_series_152.csv', 'img_series_153.csv', 'img_series_154.csv', 'img_series_155.csv', 'img_series_156.csv', 'img_series_157.csv', 'img_series_158.csv', 'img_series_159.csv', 'img_series_16.csv', 'img_series_160.csv', 'img_series_161.csv', 'img_series_162.csv', 'img_series_163.csv', 'img_series_164.csv', 'img_series_165.csv', 'img_series_166.csv', 'img_series_167.csv', 'img_series_168.csv', 'img_series_169.csv', 'img_series_17.csv', 'img_series_170.csv', 'img_series_171.csv', 'img_series_172.csv', 'img_series_173.csv', 'img_series_174.csv', 'img_series_175.csv', 'img_series_176.csv', 'img_series_177.csv', 'img_series_178.csv', 'img_series_179.csv', 'img_series_18.csv', 'img_series_180.csv', 'img_series_181.csv', 'img_series_182.csv', 'img_series_183.csv', 'img_series_184.csv', 'img_series_185.csv', 'img_series_186.csv', 'img_series_187.csv', 'img_series_188.csv', 'img_series_189.csv', 'img_series_19.csv', 'img_series_190.csv', 'img_series_191.csv', 'img_series_192.csv', 'img_series_193.csv', 'img_series_194.csv', 'img_series_195.csv', 'img_series_196.csv', 'img_series_197.csv', 'img_series_198.csv', 'img_series_199.csv', 'img_series_2.csv', 'img_series_20.csv', 'img_series_200.csv', 'img_series_201.csv', 'img_series_202.csv', 'img_series_203.csv', 'img_series_204.csv', 'img_series_205.csv', 'img_series_206.csv', 'img_series_207.csv', 'img_series_208.csv', 'img_series_209.csv', 'img_series_21.csv', 'img_series_210.csv', 'img_series_211.csv', 'img_series_212.csv', 'img_series_213.csv', 'img_series_214.csv', 'img_series_215.csv', 'img_series_216.csv', 'img_series_217.csv', 'img_series_218.csv', 'img_series_219.csv', 'img_series_22.csv', 'img_series_220.csv', 'img_series_221.csv', 'img_series_222.csv', 'img_series_223.csv', 'img_series_224.csv', 'img_series_225.csv', 'img_series_226.csv', 'img_series_227.csv', 'img_series_228.csv', 'img_series_229.csv', 'img_series_23.csv', 'img_series_230.csv', 'img_series_231.csv', 'img_series_232.csv', 'img_series_233.csv', 'img_series_234.csv', 'img_series_235.csv', 'img_series_236.csv', 'img_series_237.csv', 'img_series_238.csv', 'img_series_239.csv', 'img_series_24.csv', 'img_series_240.csv', 'img_series_241.csv', 'img_series_242.csv', 'img_series_243.csv', 'img_series_244.csv', 'img_series_245.csv', 'img_series_246.csv', 'img_series_247.csv', 'img_series_248.csv', 'img_series_249.csv', 'img_series_25.csv', 'img_series_250.csv', 'img_series_251.csv', 'img_series_252.csv', 'img_series_253.csv', 'img_series_254.csv', 'img_series_255.csv', 'img_series_256.csv', 'img_series_257.csv', 'img_series_258.csv', 'img_series_259.csv', 'img_series_26.csv', 'img_series_260.csv', 'img_series_261.csv', 'img_series_262.csv', 'img_series_263.csv', 'img_series_264.csv', 'img_series_265.csv', 'img_series_266.csv', 'img_series_267.csv', 'img_series_268.csv', 'img_series_269.csv', 'img_series_27.csv', 'img_series_270.csv', 'img_series_271.csv', 'img_series_272.csv', 'img_series_273.csv', 'img_series_274.csv', 'img_series_275.csv', 'img_series_276.csv', 'img_series_277.csv', 'img_series_278.csv', 'img_series_279.csv', 'img_series_28.csv', 'img_series_280.csv', 'img_series_281.csv', 'img_series_282.csv', 'img_series_283.csv', 'img_series_284.csv', 'img_series_285.csv', 'img_series_286.csv', 'img_series_287.csv', 'img_series_288.csv', 'img_series_289.csv', 'img_series_29.csv', 'img_series_290.csv', 'img_series_291.csv', 'img_series_292.csv', 'img_series_293.csv', 'img_series_294.csv', 'img_series_295.csv', 'img_series_296.csv', 'img_series_297.csv', 'img_series_298.csv', 'img_series_299.csv', 'img_series_3.csv', 'img_series_30.csv', 'img_series_300.csv', 'img_series_301.csv', 'img_series_302.csv', 'img_series_303.csv', 'img_series_304.csv', 'img_series_305.csv', 'img_series_306.csv', 'img_series_307.csv', 'img_series_308.csv', 'img_series_309.csv', 'img_series_31.csv', 'img_series_310.csv', 'img_series_311.csv', 'img_series_312.csv', 'img_series_313.csv', 'img_series_314.csv', 'img_series_315.csv', 'img_series_316.csv', 'img_series_317.csv', 'img_series_318.csv', 'img_series_319.csv', 'img_series_32.csv', 'img_series_320.csv', 'img_series_321.csv', 'img_series_322.csv', 'img_series_323.csv', 'img_series_324.csv', 'img_series_325.csv', 'img_series_326.csv', 'img_series_327.csv', 'img_series_328.csv', 'img_series_329.csv', 'img_series_33.csv', 'img_series_330.csv', 'img_series_331.csv', 'img_series_332.csv', 'img_series_333.csv', 'img_series_334.csv', 'img_series_335.csv', 'img_series_336.csv', 'img_series_337.csv', 'img_series_338.csv', 'img_series_339.csv', 'img_series_34.csv', 'img_series_340.csv', 'img_series_341.csv', 'img_series_342.csv', 'img_series_343.csv', 'img_series_344.csv', 'img_series_345.csv', 'img_series_346.csv', 'img_series_347.csv', 'img_series_348.csv', 'img_series_349.csv', 'img_series_35.csv', 'img_series_350.csv', 'img_series_351.csv', 'img_series_352.csv', 'img_series_353.csv', 'img_series_354.csv', 'img_series_355.csv', 'img_series_356.csv', 'img_series_357.csv', 'img_series_358.csv', 'img_series_359.csv', 'img_series_36.csv', 'img_series_360.csv', 'img_series_361.csv', 'img_series_362.csv', 'img_series_363.csv', 'img_series_364.csv', 'img_series_365.csv', 'img_series_366.csv', 'img_series_367.csv', 'img_series_368.csv', 'img_series_369.csv', 'img_series_37.csv', 'img_series_370.csv', 'img_series_371.csv', 'img_series_372.csv', 'img_series_373.csv', 'img_series_374.csv', 'img_series_375.csv', 'img_series_376.csv', 'img_series_377.csv', 'img_series_378.csv', 'img_series_379.csv', 'img_series_38.csv', 'img_series_380.csv', 'img_series_381.csv', 'img_series_382.csv', 'img_series_383.csv', 'img_series_384.csv', 'img_series_385.csv', 'img_series_386.csv', 'img_series_387.csv', 'img_series_388.csv', 'img_series_389.csv', 'img_series_39.csv', 'img_series_390.csv', 'img_series_391.csv', 'img_series_392.csv', 'img_series_393.csv', 'img_series_394.csv', 'img_series_395.csv', 'img_series_396.csv', 'img_series_397.csv', 'img_series_398.csv', 'img_series_399.csv', 'img_series_4.csv', 'img_series_40.csv', 'img_series_400.csv', 'img_series_401.csv', 'img_series_402.csv', 'img_series_403.csv', 'img_series_404.csv', 'img_series_405.csv', 'img_series_406.csv', 'img_series_407.csv', 'img_series_408.csv', 'img_series_409.csv', 'img_series_41.csv', 'img_series_410.csv', 'img_series_411.csv', 'img_series_412.csv', 'img_series_413.csv', 'img_series_414.csv', 'img_series_415.csv', 'img_series_416.csv', 'img_series_417.csv', 'img_series_418.csv', 'img_series_419.csv', 'img_series_42.csv', 'img_series_420.csv', 'img_series_421.csv', 'img_series_422.csv', 'img_series_423.csv', 'img_series_424.csv', 'img_series_425.csv', 'img_series_426.csv', 'img_series_427.csv', 'img_series_428.csv', 'img_series_429.csv', 'img_series_43.csv', 'img_series_430.csv', 'img_series_431.csv', 'img_series_432.csv', 'img_series_433.csv', 'img_series_434.csv', 'img_series_435.csv', 'img_series_436.csv', 'img_series_437.csv', 'img_series_438.csv', 'img_series_439.csv', 'img_series_44.csv', 'img_series_440.csv', 'img_series_441.csv', 'img_series_442.csv', 'img_series_443.csv', 'img_series_444.csv', 'img_series_445.csv', 'img_series_446.csv', 'img_series_447.csv', 'img_series_448.csv', 'img_series_449.csv', 'img_series_45.csv', 'img_series_450.csv', 'img_series_451.csv', 'img_series_452.csv', 'img_series_453.csv', 'img_series_454.csv', 'img_series_455.csv', 'img_series_456.csv', 'img_series_457.csv', 'img_series_458.csv', 'img_series_459.csv', 'img_series_46.csv', 'img_series_460.csv', 'img_series_461.csv', 'img_series_462.csv', 'img_series_463.csv', 'img_series_464.csv', 'img_series_465.csv', 'img_series_466.csv', 'img_series_467.csv', 'img_series_468.csv', 'img_series_469.csv', 'img_series_47.csv', 'img_series_470.csv', 'img_series_471.csv', 'img_series_472.csv', 'img_series_473.csv', 'img_series_474.csv', 'img_series_475.csv', 'img_series_476.csv', 'img_series_477.csv', 'img_series_478.csv', 'img_series_479.csv', 'img_series_48.csv', 'img_series_480.csv', 'img_series_481.csv', 'img_series_482.csv', 'img_series_483.csv', 'img_series_484.csv', 'img_series_485.csv', 'img_series_486.csv', 'img_series_487.csv', 'img_series_488.csv', 'img_series_489.csv', 'img_series_49.csv', 'img_series_490.csv', 'img_series_491.csv', 'img_series_492.csv', 'img_series_493.csv', 'img_series_494.csv', 'img_series_495.csv', 'img_series_496.csv', 'img_series_497.csv', 'img_series_498.csv', 'img_series_499.csv', 'img_series_5.csv', 'img_series_50.csv', 'img_series_51.csv', 'img_series_52.csv', 'img_series_53.csv', 'img_series_54.csv', 'img_series_55.csv', 'img_series_56.csv', 'img_series_57.csv', 'img_series_58.csv', 'img_series_59.csv', 'img_series_6.csv', 'img_series_60.csv', 'img_series_61.csv', 'img_series_62.csv', 'img_series_63.csv', 'img_series_64.csv', 'img_series_65.csv', 'img_series_66.csv', 'img_series_67.csv', 'img_series_68.csv', 'img_series_69.csv', 'img_series_7.csv', 'img_series_70.csv', 'img_series_71.csv', 'img_series_72.csv', 'img_series_73.csv', 'img_series_74.csv', 'img_series_75.csv', 'img_series_76.csv', 'img_series_77.csv', 'img_series_78.csv', 'img_series_79.csv', 'img_series_8.csv', 'img_series_80.csv', 'img_series_81.csv', 'img_series_82.csv', 'img_series_83.csv', 'img_series_84.csv', 'img_series_85.csv', 'img_series_86.csv', 'img_series_87.csv', 'img_series_88.csv', 'img_series_89.csv', 'img_series_9.csv', 'img_series_90.csv', 'img_series_91.csv', 'img_series_92.csv', 'img_series_93.csv', 'img_series_94.csv', 'img_series_95.csv', 'img_series_96.csv', 'img_series_97.csv', 'img_series_98.csv', 'img_series_99.csv']\n",
            "['img_series_labels_0.csv', 'img_series_labels_1.csv', 'img_series_labels_10.csv', 'img_series_labels_100.csv', 'img_series_labels_101.csv', 'img_series_labels_102.csv', 'img_series_labels_103.csv', 'img_series_labels_104.csv', 'img_series_labels_105.csv', 'img_series_labels_106.csv', 'img_series_labels_107.csv', 'img_series_labels_108.csv', 'img_series_labels_109.csv', 'img_series_labels_11.csv', 'img_series_labels_110.csv', 'img_series_labels_111.csv', 'img_series_labels_112.csv', 'img_series_labels_113.csv', 'img_series_labels_114.csv', 'img_series_labels_115.csv', 'img_series_labels_116.csv', 'img_series_labels_117.csv', 'img_series_labels_118.csv', 'img_series_labels_119.csv', 'img_series_labels_12.csv', 'img_series_labels_120.csv', 'img_series_labels_121.csv', 'img_series_labels_122.csv', 'img_series_labels_123.csv', 'img_series_labels_124.csv', 'img_series_labels_125.csv', 'img_series_labels_126.csv', 'img_series_labels_127.csv', 'img_series_labels_128.csv', 'img_series_labels_129.csv', 'img_series_labels_13.csv', 'img_series_labels_130.csv', 'img_series_labels_131.csv', 'img_series_labels_132.csv', 'img_series_labels_133.csv', 'img_series_labels_134.csv', 'img_series_labels_135.csv', 'img_series_labels_136.csv', 'img_series_labels_137.csv', 'img_series_labels_138.csv', 'img_series_labels_139.csv', 'img_series_labels_14.csv', 'img_series_labels_140.csv', 'img_series_labels_141.csv', 'img_series_labels_142.csv', 'img_series_labels_143.csv', 'img_series_labels_144.csv', 'img_series_labels_145.csv', 'img_series_labels_146.csv', 'img_series_labels_147.csv', 'img_series_labels_148.csv', 'img_series_labels_149.csv', 'img_series_labels_15.csv', 'img_series_labels_150.csv', 'img_series_labels_151.csv', 'img_series_labels_152.csv', 'img_series_labels_153.csv', 'img_series_labels_154.csv', 'img_series_labels_155.csv', 'img_series_labels_156.csv', 'img_series_labels_157.csv', 'img_series_labels_158.csv', 'img_series_labels_159.csv', 'img_series_labels_16.csv', 'img_series_labels_160.csv', 'img_series_labels_161.csv', 'img_series_labels_162.csv', 'img_series_labels_163.csv', 'img_series_labels_164.csv', 'img_series_labels_165.csv', 'img_series_labels_166.csv', 'img_series_labels_167.csv', 'img_series_labels_168.csv', 'img_series_labels_169.csv', 'img_series_labels_17.csv', 'img_series_labels_170.csv', 'img_series_labels_171.csv', 'img_series_labels_172.csv', 'img_series_labels_173.csv', 'img_series_labels_174.csv', 'img_series_labels_175.csv', 'img_series_labels_176.csv', 'img_series_labels_177.csv', 'img_series_labels_178.csv', 'img_series_labels_179.csv', 'img_series_labels_18.csv', 'img_series_labels_180.csv', 'img_series_labels_181.csv', 'img_series_labels_182.csv', 'img_series_labels_183.csv', 'img_series_labels_184.csv', 'img_series_labels_185.csv', 'img_series_labels_186.csv', 'img_series_labels_187.csv', 'img_series_labels_188.csv', 'img_series_labels_189.csv', 'img_series_labels_19.csv', 'img_series_labels_190.csv', 'img_series_labels_191.csv', 'img_series_labels_192.csv', 'img_series_labels_193.csv', 'img_series_labels_194.csv', 'img_series_labels_195.csv', 'img_series_labels_196.csv', 'img_series_labels_197.csv', 'img_series_labels_198.csv', 'img_series_labels_199.csv', 'img_series_labels_2.csv', 'img_series_labels_20.csv', 'img_series_labels_200.csv', 'img_series_labels_201.csv', 'img_series_labels_202.csv', 'img_series_labels_203.csv', 'img_series_labels_204.csv', 'img_series_labels_205.csv', 'img_series_labels_206.csv', 'img_series_labels_207.csv', 'img_series_labels_208.csv', 'img_series_labels_209.csv', 'img_series_labels_21.csv', 'img_series_labels_210.csv', 'img_series_labels_211.csv', 'img_series_labels_212.csv', 'img_series_labels_213.csv', 'img_series_labels_214.csv', 'img_series_labels_215.csv', 'img_series_labels_216.csv', 'img_series_labels_217.csv', 'img_series_labels_218.csv', 'img_series_labels_219.csv', 'img_series_labels_22.csv', 'img_series_labels_220.csv', 'img_series_labels_221.csv', 'img_series_labels_222.csv', 'img_series_labels_223.csv', 'img_series_labels_224.csv', 'img_series_labels_225.csv', 'img_series_labels_226.csv', 'img_series_labels_227.csv', 'img_series_labels_228.csv', 'img_series_labels_229.csv', 'img_series_labels_23.csv', 'img_series_labels_230.csv', 'img_series_labels_231.csv', 'img_series_labels_232.csv', 'img_series_labels_233.csv', 'img_series_labels_234.csv', 'img_series_labels_235.csv', 'img_series_labels_236.csv', 'img_series_labels_237.csv', 'img_series_labels_238.csv', 'img_series_labels_239.csv', 'img_series_labels_24.csv', 'img_series_labels_240.csv', 'img_series_labels_241.csv', 'img_series_labels_242.csv', 'img_series_labels_243.csv', 'img_series_labels_244.csv', 'img_series_labels_245.csv', 'img_series_labels_246.csv', 'img_series_labels_247.csv', 'img_series_labels_248.csv', 'img_series_labels_249.csv', 'img_series_labels_25.csv', 'img_series_labels_250.csv', 'img_series_labels_251.csv', 'img_series_labels_252.csv', 'img_series_labels_253.csv', 'img_series_labels_254.csv', 'img_series_labels_255.csv', 'img_series_labels_256.csv', 'img_series_labels_257.csv', 'img_series_labels_258.csv', 'img_series_labels_259.csv', 'img_series_labels_26.csv', 'img_series_labels_260.csv', 'img_series_labels_261.csv', 'img_series_labels_262.csv', 'img_series_labels_263.csv', 'img_series_labels_264.csv', 'img_series_labels_265.csv', 'img_series_labels_266.csv', 'img_series_labels_267.csv', 'img_series_labels_268.csv', 'img_series_labels_269.csv', 'img_series_labels_27.csv', 'img_series_labels_270.csv', 'img_series_labels_271.csv', 'img_series_labels_272.csv', 'img_series_labels_273.csv', 'img_series_labels_274.csv', 'img_series_labels_275.csv', 'img_series_labels_276.csv', 'img_series_labels_277.csv', 'img_series_labels_278.csv', 'img_series_labels_279.csv', 'img_series_labels_28.csv', 'img_series_labels_280.csv', 'img_series_labels_281.csv', 'img_series_labels_282.csv', 'img_series_labels_283.csv', 'img_series_labels_284.csv', 'img_series_labels_285.csv', 'img_series_labels_286.csv', 'img_series_labels_287.csv', 'img_series_labels_288.csv', 'img_series_labels_289.csv', 'img_series_labels_29.csv', 'img_series_labels_290.csv', 'img_series_labels_291.csv', 'img_series_labels_292.csv', 'img_series_labels_293.csv', 'img_series_labels_294.csv', 'img_series_labels_295.csv', 'img_series_labels_296.csv', 'img_series_labels_297.csv', 'img_series_labels_298.csv', 'img_series_labels_299.csv', 'img_series_labels_3.csv', 'img_series_labels_30.csv', 'img_series_labels_300.csv', 'img_series_labels_301.csv', 'img_series_labels_302.csv', 'img_series_labels_303.csv', 'img_series_labels_304.csv', 'img_series_labels_305.csv', 'img_series_labels_306.csv', 'img_series_labels_307.csv', 'img_series_labels_308.csv', 'img_series_labels_309.csv', 'img_series_labels_31.csv', 'img_series_labels_310.csv', 'img_series_labels_311.csv', 'img_series_labels_312.csv', 'img_series_labels_313.csv', 'img_series_labels_314.csv', 'img_series_labels_315.csv', 'img_series_labels_316.csv', 'img_series_labels_317.csv', 'img_series_labels_318.csv', 'img_series_labels_319.csv', 'img_series_labels_32.csv', 'img_series_labels_320.csv', 'img_series_labels_321.csv', 'img_series_labels_322.csv', 'img_series_labels_323.csv', 'img_series_labels_324.csv', 'img_series_labels_325.csv', 'img_series_labels_326.csv', 'img_series_labels_327.csv', 'img_series_labels_328.csv', 'img_series_labels_329.csv', 'img_series_labels_33.csv', 'img_series_labels_330.csv', 'img_series_labels_331.csv', 'img_series_labels_332.csv', 'img_series_labels_333.csv', 'img_series_labels_334.csv', 'img_series_labels_335.csv', 'img_series_labels_336.csv', 'img_series_labels_337.csv', 'img_series_labels_338.csv', 'img_series_labels_339.csv', 'img_series_labels_34.csv', 'img_series_labels_340.csv', 'img_series_labels_341.csv', 'img_series_labels_342.csv', 'img_series_labels_343.csv', 'img_series_labels_344.csv', 'img_series_labels_345.csv', 'img_series_labels_346.csv', 'img_series_labels_347.csv', 'img_series_labels_348.csv', 'img_series_labels_349.csv', 'img_series_labels_35.csv', 'img_series_labels_350.csv', 'img_series_labels_351.csv', 'img_series_labels_352.csv', 'img_series_labels_353.csv', 'img_series_labels_354.csv', 'img_series_labels_355.csv', 'img_series_labels_356.csv', 'img_series_labels_357.csv', 'img_series_labels_358.csv', 'img_series_labels_359.csv', 'img_series_labels_36.csv', 'img_series_labels_360.csv', 'img_series_labels_361.csv', 'img_series_labels_362.csv', 'img_series_labels_363.csv', 'img_series_labels_364.csv', 'img_series_labels_365.csv', 'img_series_labels_366.csv', 'img_series_labels_367.csv', 'img_series_labels_368.csv', 'img_series_labels_369.csv', 'img_series_labels_37.csv', 'img_series_labels_370.csv', 'img_series_labels_371.csv', 'img_series_labels_372.csv', 'img_series_labels_373.csv', 'img_series_labels_374.csv', 'img_series_labels_375.csv', 'img_series_labels_376.csv', 'img_series_labels_377.csv', 'img_series_labels_378.csv', 'img_series_labels_379.csv', 'img_series_labels_38.csv', 'img_series_labels_380.csv', 'img_series_labels_381.csv', 'img_series_labels_382.csv', 'img_series_labels_383.csv', 'img_series_labels_384.csv', 'img_series_labels_385.csv', 'img_series_labels_386.csv', 'img_series_labels_387.csv', 'img_series_labels_388.csv', 'img_series_labels_389.csv', 'img_series_labels_39.csv', 'img_series_labels_390.csv', 'img_series_labels_391.csv', 'img_series_labels_392.csv', 'img_series_labels_393.csv', 'img_series_labels_394.csv', 'img_series_labels_395.csv', 'img_series_labels_396.csv', 'img_series_labels_397.csv', 'img_series_labels_398.csv', 'img_series_labels_399.csv', 'img_series_labels_4.csv', 'img_series_labels_40.csv', 'img_series_labels_400.csv', 'img_series_labels_401.csv', 'img_series_labels_402.csv', 'img_series_labels_403.csv', 'img_series_labels_404.csv', 'img_series_labels_405.csv', 'img_series_labels_406.csv', 'img_series_labels_407.csv', 'img_series_labels_408.csv', 'img_series_labels_409.csv', 'img_series_labels_41.csv', 'img_series_labels_410.csv', 'img_series_labels_411.csv', 'img_series_labels_412.csv', 'img_series_labels_413.csv', 'img_series_labels_414.csv', 'img_series_labels_415.csv', 'img_series_labels_416.csv', 'img_series_labels_417.csv', 'img_series_labels_418.csv', 'img_series_labels_419.csv', 'img_series_labels_42.csv', 'img_series_labels_420.csv', 'img_series_labels_421.csv', 'img_series_labels_422.csv', 'img_series_labels_423.csv', 'img_series_labels_424.csv', 'img_series_labels_425.csv', 'img_series_labels_426.csv', 'img_series_labels_427.csv', 'img_series_labels_428.csv', 'img_series_labels_429.csv', 'img_series_labels_43.csv', 'img_series_labels_430.csv', 'img_series_labels_431.csv', 'img_series_labels_432.csv', 'img_series_labels_433.csv', 'img_series_labels_434.csv', 'img_series_labels_435.csv', 'img_series_labels_436.csv', 'img_series_labels_437.csv', 'img_series_labels_438.csv', 'img_series_labels_439.csv', 'img_series_labels_44.csv', 'img_series_labels_440.csv', 'img_series_labels_441.csv', 'img_series_labels_442.csv', 'img_series_labels_443.csv', 'img_series_labels_444.csv', 'img_series_labels_445.csv', 'img_series_labels_446.csv', 'img_series_labels_447.csv', 'img_series_labels_448.csv', 'img_series_labels_449.csv', 'img_series_labels_45.csv', 'img_series_labels_450.csv', 'img_series_labels_451.csv', 'img_series_labels_452.csv', 'img_series_labels_453.csv', 'img_series_labels_454.csv', 'img_series_labels_455.csv', 'img_series_labels_456.csv', 'img_series_labels_457.csv', 'img_series_labels_458.csv', 'img_series_labels_459.csv', 'img_series_labels_46.csv', 'img_series_labels_460.csv', 'img_series_labels_461.csv', 'img_series_labels_462.csv', 'img_series_labels_463.csv', 'img_series_labels_464.csv', 'img_series_labels_465.csv', 'img_series_labels_466.csv', 'img_series_labels_467.csv', 'img_series_labels_468.csv', 'img_series_labels_469.csv', 'img_series_labels_47.csv', 'img_series_labels_470.csv', 'img_series_labels_471.csv', 'img_series_labels_472.csv', 'img_series_labels_473.csv', 'img_series_labels_474.csv', 'img_series_labels_475.csv', 'img_series_labels_476.csv', 'img_series_labels_477.csv', 'img_series_labels_478.csv', 'img_series_labels_479.csv', 'img_series_labels_48.csv', 'img_series_labels_480.csv', 'img_series_labels_481.csv', 'img_series_labels_482.csv', 'img_series_labels_483.csv', 'img_series_labels_484.csv', 'img_series_labels_485.csv', 'img_series_labels_486.csv', 'img_series_labels_487.csv', 'img_series_labels_488.csv', 'img_series_labels_489.csv', 'img_series_labels_49.csv', 'img_series_labels_490.csv', 'img_series_labels_491.csv', 'img_series_labels_492.csv', 'img_series_labels_493.csv', 'img_series_labels_494.csv', 'img_series_labels_495.csv', 'img_series_labels_496.csv', 'img_series_labels_497.csv', 'img_series_labels_498.csv', 'img_series_labels_499.csv', 'img_series_labels_5.csv', 'img_series_labels_50.csv', 'img_series_labels_51.csv', 'img_series_labels_52.csv', 'img_series_labels_53.csv', 'img_series_labels_54.csv', 'img_series_labels_55.csv', 'img_series_labels_56.csv', 'img_series_labels_57.csv', 'img_series_labels_58.csv', 'img_series_labels_59.csv', 'img_series_labels_6.csv', 'img_series_labels_60.csv', 'img_series_labels_61.csv', 'img_series_labels_62.csv', 'img_series_labels_63.csv', 'img_series_labels_64.csv', 'img_series_labels_65.csv', 'img_series_labels_66.csv', 'img_series_labels_67.csv', 'img_series_labels_68.csv', 'img_series_labels_69.csv', 'img_series_labels_7.csv', 'img_series_labels_70.csv', 'img_series_labels_71.csv', 'img_series_labels_72.csv', 'img_series_labels_73.csv', 'img_series_labels_74.csv', 'img_series_labels_75.csv', 'img_series_labels_76.csv', 'img_series_labels_77.csv', 'img_series_labels_78.csv', 'img_series_labels_79.csv', 'img_series_labels_8.csv', 'img_series_labels_80.csv', 'img_series_labels_81.csv', 'img_series_labels_82.csv', 'img_series_labels_83.csv', 'img_series_labels_84.csv', 'img_series_labels_85.csv', 'img_series_labels_86.csv', 'img_series_labels_87.csv', 'img_series_labels_88.csv', 'img_series_labels_89.csv', 'img_series_labels_9.csv', 'img_series_labels_90.csv', 'img_series_labels_91.csv', 'img_series_labels_92.csv', 'img_series_labels_93.csv', 'img_series_labels_94.csv', 'img_series_labels_95.csv', 'img_series_labels_96.csv', 'img_series_labels_97.csv', 'img_series_labels_98.csv', 'img_series_labels_99.csv']\n",
            "1\n"
          ],
          "name": "stdout"
        },
        {
          "output_type": "stream",
          "text": [
            "/usr/local/lib/python3.7/dist-packages/ipykernel_launcher.py:17: DeprecationWarning: time.clock has been deprecated in Python 3.3 and will be removed from Python 3.8: use time.perf_counter or time.process_time instead\n"
          ],
          "name": "stderr"
        },
        {
          "output_type": "stream",
          "text": [
            "2\n",
            "3\n",
            "4\n",
            "5\n",
            "6\n",
            "7\n",
            "8\n",
            "9\n",
            "10\n",
            "11\n",
            "12\n",
            "13\n",
            "14\n",
            "15\n",
            "16\n",
            "17\n",
            "18\n",
            "19\n",
            "20\n",
            "21\n",
            "22\n",
            "23\n",
            "24\n",
            "25\n",
            "26\n",
            "27\n",
            "28\n",
            "29\n",
            "30\n",
            "31\n",
            "32\n",
            "33\n",
            "34\n",
            "35\n",
            "36\n",
            "37\n",
            "38\n",
            "39\n",
            "40\n",
            "41\n",
            "42\n",
            "43\n",
            "44\n",
            "45\n",
            "46\n",
            "47\n",
            "48\n",
            "49\n",
            "50\n",
            "51\n",
            "52\n",
            "53\n",
            "54\n",
            "55\n",
            "56\n",
            "57\n",
            "58\n",
            "59\n",
            "60\n",
            "61\n",
            "62\n",
            "63\n",
            "64\n",
            "65\n",
            "66\n",
            "67\n",
            "68\n",
            "69\n",
            "70\n",
            "71\n",
            "72\n",
            "73\n",
            "74\n",
            "75\n",
            "76\n",
            "77\n",
            "78\n",
            "79\n",
            "80\n",
            "81\n",
            "82\n",
            "83\n",
            "84\n",
            "85\n",
            "86\n",
            "87\n",
            "88\n",
            "89\n",
            "90\n",
            "91\n",
            "92\n",
            "93\n",
            "94\n",
            "95\n",
            "96\n",
            "97\n",
            "98\n",
            "99\n",
            "100\n",
            "101\n",
            "102\n",
            "103\n",
            "104\n",
            "105\n",
            "106\n",
            "107\n",
            "108\n",
            "109\n",
            "110\n",
            "111\n",
            "112\n",
            "113\n",
            "114\n",
            "115\n",
            "116\n",
            "117\n",
            "118\n",
            "119\n",
            "120\n",
            "121\n",
            "122\n",
            "123\n",
            "124\n",
            "125\n",
            "126\n",
            "127\n",
            "128\n",
            "129\n",
            "130\n",
            "131\n",
            "132\n",
            "133\n",
            "134\n",
            "135\n",
            "136\n",
            "137\n",
            "138\n",
            "139\n",
            "140\n",
            "141\n",
            "142\n",
            "143\n",
            "144\n",
            "145\n",
            "146\n",
            "147\n",
            "148\n",
            "149\n",
            "150\n",
            "151\n",
            "152\n",
            "153\n",
            "154\n",
            "155\n",
            "156\n",
            "157\n",
            "158\n",
            "159\n",
            "160\n",
            "161\n",
            "162\n",
            "163\n",
            "164\n",
            "165\n",
            "166\n",
            "167\n",
            "168\n",
            "169\n",
            "170\n",
            "171\n",
            "172\n",
            "173\n",
            "174\n",
            "175\n",
            "176\n",
            "177\n",
            "178\n",
            "179\n",
            "180\n",
            "181\n",
            "182\n",
            "183\n",
            "184\n",
            "185\n",
            "186\n",
            "187\n",
            "188\n",
            "189\n",
            "190\n",
            "191\n",
            "192\n",
            "193\n",
            "194\n",
            "195\n",
            "196\n",
            "197\n",
            "198\n",
            "199\n",
            "200\n",
            "201\n",
            "202\n",
            "203\n",
            "204\n",
            "205\n",
            "206\n",
            "207\n",
            "208\n",
            "209\n",
            "210\n",
            "211\n",
            "212\n",
            "213\n",
            "214\n",
            "215\n",
            "216\n",
            "217\n",
            "218\n",
            "219\n",
            "220\n",
            "221\n",
            "222\n",
            "223\n",
            "224\n",
            "225\n",
            "226\n",
            "227\n",
            "228\n",
            "229\n",
            "230\n",
            "231\n",
            "232\n",
            "233\n",
            "234\n",
            "235\n",
            "236\n",
            "237\n",
            "238\n",
            "239\n",
            "240\n",
            "241\n",
            "242\n",
            "243\n",
            "244\n",
            "245\n",
            "246\n",
            "247\n",
            "248\n",
            "249\n",
            "250\n",
            "251\n",
            "252\n",
            "253\n",
            "254\n",
            "255\n",
            "256\n",
            "257\n",
            "258\n",
            "259\n",
            "260\n",
            "261\n",
            "262\n",
            "263\n",
            "264\n",
            "265\n",
            "266\n",
            "267\n",
            "268\n",
            "269\n",
            "270\n",
            "271\n",
            "272\n",
            "273\n",
            "274\n",
            "275\n",
            "276\n",
            "277\n",
            "278\n",
            "279\n",
            "280\n",
            "281\n",
            "282\n",
            "283\n",
            "284\n",
            "285\n",
            "286\n",
            "287\n",
            "288\n",
            "289\n",
            "290\n",
            "291\n",
            "292\n",
            "293\n",
            "294\n",
            "295\n",
            "296\n",
            "297\n",
            "298\n",
            "299\n",
            "300\n",
            "301\n",
            "302\n",
            "303\n",
            "304\n",
            "305\n",
            "306\n",
            "307\n",
            "308\n",
            "309\n",
            "310\n",
            "311\n",
            "312\n",
            "313\n",
            "314\n",
            "315\n",
            "316\n",
            "317\n",
            "318\n",
            "319\n",
            "320\n",
            "321\n",
            "322\n",
            "323\n",
            "324\n",
            "325\n",
            "326\n",
            "327\n",
            "328\n",
            "329\n",
            "330\n",
            "331\n",
            "332\n",
            "333\n",
            "334\n",
            "335\n",
            "336\n",
            "337\n",
            "338\n",
            "339\n",
            "340\n",
            "341\n",
            "342\n",
            "343\n",
            "344\n",
            "345\n",
            "346\n",
            "347\n",
            "348\n",
            "349\n",
            "350\n",
            "351\n",
            "352\n",
            "353\n",
            "354\n",
            "355\n",
            "356\n",
            "357\n",
            "358\n",
            "359\n",
            "360\n",
            "361\n",
            "362\n",
            "363\n",
            "364\n",
            "365\n",
            "366\n",
            "367\n",
            "368\n",
            "369\n",
            "370\n",
            "371\n",
            "372\n",
            "373\n",
            "374\n",
            "375\n",
            "376\n",
            "377\n",
            "378\n",
            "379\n",
            "380\n",
            "381\n",
            "382\n",
            "383\n",
            "384\n",
            "385\n",
            "386\n",
            "387\n",
            "388\n",
            "389\n",
            "390\n",
            "391\n",
            "392\n",
            "393\n",
            "394\n",
            "395\n",
            "396\n",
            "397\n",
            "398\n",
            "399\n",
            "400\n",
            "401\n",
            "402\n",
            "403\n",
            "404\n",
            "405\n",
            "406\n",
            "407\n",
            "408\n",
            "409\n",
            "410\n",
            "411\n",
            "412\n",
            "413\n",
            "414\n",
            "415\n",
            "416\n",
            "417\n",
            "418\n",
            "419\n",
            "420\n",
            "421\n",
            "422\n",
            "423\n",
            "424\n",
            "425\n",
            "426\n",
            "427\n",
            "428\n",
            "429\n",
            "430\n",
            "431\n",
            "432\n",
            "433\n",
            "434\n",
            "435\n",
            "436\n",
            "437\n",
            "438\n",
            "439\n",
            "440\n",
            "441\n",
            "442\n",
            "443\n",
            "444\n",
            "445\n",
            "446\n",
            "447\n",
            "448\n",
            "449\n",
            "450\n",
            "451\n",
            "452\n",
            "453\n",
            "454\n",
            "455\n",
            "456\n",
            "457\n",
            "458\n",
            "459\n",
            "460\n",
            "461\n",
            "462\n",
            "463\n",
            "464\n",
            "465\n",
            "466\n",
            "467\n",
            "468\n",
            "469\n",
            "470\n",
            "471\n",
            "472\n",
            "473\n",
            "474\n",
            "475\n",
            "476\n",
            "477\n",
            "478\n",
            "479\n",
            "480\n",
            "481\n",
            "482\n",
            "483\n",
            "484\n",
            "485\n",
            "486\n",
            "487\n",
            "488\n",
            "489\n",
            "490\n",
            "491\n",
            "492\n",
            "493\n",
            "494\n",
            "495\n",
            "496\n",
            "497\n",
            "498\n",
            "499\n",
            "500\n"
          ],
          "name": "stdout"
        },
        {
          "output_type": "execute_result",
          "data": {
            "text/plain": [
              "0"
            ]
          },
          "metadata": {
            "tags": []
          },
          "execution_count": 16
        }
      ]
    },
    {
      "cell_type": "code",
      "metadata": {
        "id": "8B-qevsU055N",
        "colab": {
          "base_uri": "https://localhost:8080/"
        },
        "outputId": "cd65b657-69a3-44d4-f2ac-5eb66786edd1"
      },
      "source": [
        "normal_data_csv = []\n",
        "normal_labels_csv = []\n",
        "\n",
        "def read_img_sequences_normal_csv(path_to_folder, size=500):\n",
        "    curr_size = 0\n",
        "    \n",
        "    csv_img_file_path = os.listdir(path_to_folder + \"images\")\n",
        "    csv_img_file_path.sort()\n",
        "    csv_lables_file_path = os.listdir(path_to_folder + \"labels\")\n",
        "    csv_lables_file_path.sort()\n",
        "\n",
        "    print(csv_img_file_path)\n",
        "    print(csv_lables_file_path)\n",
        "\n",
        "\n",
        "    for sequence_csv, lables_csv in zip(csv_img_file_path, csv_lables_file_path) :\n",
        "        start_time = time.clock()      \n",
        "        curr_size += 1\n",
        "        print(curr_size)\n",
        "\n",
        "        sequence_img = [None] * SEQ_LEN\n",
        "        sequence_labels = [None] * SEQ_LEN\n",
        "\n",
        "        with open(path_to_folder + \"images/\" + sequence_csv) as csv_file:\n",
        "          csv_reader = csv.reader(csv_file, delimiter=',')\n",
        "          \n",
        "          row_number = 0;\n",
        "          for row in csv_reader:\n",
        "            start_time_real = time.time()\n",
        "\n",
        "\n",
        "            sequence_img[row_number] = genfromtxt(row, dtype=np.float32)\n",
        "\n",
        "            row_number += 1\n",
        "\n",
        "            #print (time.time() - start_time_real, \"Real seconds\")\n",
        "\n",
        "        with open(path_to_folder + \"labels/\" + lables_csv) as csv_file_lables:\n",
        "          csv_reader_l = csv.reader(csv_file_lables, delimiter=',')\n",
        "\n",
        "          row_number_l = 0\n",
        "          for row_l in csv_reader_l:\n",
        "\n",
        "            sequence_labels[row_number_l] = np.int(genfromtxt(row_l))\n",
        "\n",
        "            row_number_l += 1\n",
        "\n",
        "\n",
        "        normal_data_csv.append(sequence_img)\n",
        "        normal_labels_csv.append(sequence_labels)\n",
        "\n",
        "        #print (time.clock() - start_time, \"Compute seconds\")\n",
        "        \n",
        "        if curr_size ==  size:\n",
        "            break\n",
        "\n",
        "        del sequence_img, sequence_labels\n",
        "\n",
        "    return 0\n",
        "\n",
        "read_img_sequences_normal_csv(\"/content/drive/My Drive/CPDnumbersCSV/\" + seq_class + \"/num\" + seq_name + \"/img_ts_normal/\")"
      ],
      "execution_count": null,
      "outputs": [
        {
          "output_type": "stream",
          "text": [
            "['img_series_0.csv', 'img_series_1.csv', 'img_series_10.csv', 'img_series_100.csv', 'img_series_101.csv', 'img_series_102.csv', 'img_series_103.csv', 'img_series_104.csv', 'img_series_105.csv', 'img_series_106.csv', 'img_series_107.csv', 'img_series_108.csv', 'img_series_109.csv', 'img_series_11.csv', 'img_series_110.csv', 'img_series_111.csv', 'img_series_112.csv', 'img_series_113.csv', 'img_series_114.csv', 'img_series_115.csv', 'img_series_116.csv', 'img_series_117.csv', 'img_series_118.csv', 'img_series_119.csv', 'img_series_12.csv', 'img_series_120.csv', 'img_series_121.csv', 'img_series_122.csv', 'img_series_123.csv', 'img_series_124.csv', 'img_series_125.csv', 'img_series_126.csv', 'img_series_127.csv', 'img_series_128.csv', 'img_series_129.csv', 'img_series_13.csv', 'img_series_130.csv', 'img_series_131.csv', 'img_series_132.csv', 'img_series_133.csv', 'img_series_134.csv', 'img_series_135.csv', 'img_series_136.csv', 'img_series_137.csv', 'img_series_138.csv', 'img_series_139.csv', 'img_series_14.csv', 'img_series_140.csv', 'img_series_141.csv', 'img_series_142.csv', 'img_series_143.csv', 'img_series_144.csv', 'img_series_145.csv', 'img_series_146.csv', 'img_series_147.csv', 'img_series_148.csv', 'img_series_149.csv', 'img_series_15.csv', 'img_series_150.csv', 'img_series_151.csv', 'img_series_152.csv', 'img_series_153.csv', 'img_series_154.csv', 'img_series_155.csv', 'img_series_156.csv', 'img_series_157.csv', 'img_series_158.csv', 'img_series_159.csv', 'img_series_16.csv', 'img_series_160.csv', 'img_series_161.csv', 'img_series_162.csv', 'img_series_163.csv', 'img_series_164.csv', 'img_series_165.csv', 'img_series_166.csv', 'img_series_167.csv', 'img_series_168.csv', 'img_series_169.csv', 'img_series_17.csv', 'img_series_170.csv', 'img_series_171.csv', 'img_series_172.csv', 'img_series_173.csv', 'img_series_174.csv', 'img_series_175.csv', 'img_series_176.csv', 'img_series_177.csv', 'img_series_178.csv', 'img_series_179.csv', 'img_series_18.csv', 'img_series_180.csv', 'img_series_181.csv', 'img_series_182.csv', 'img_series_183.csv', 'img_series_184.csv', 'img_series_185.csv', 'img_series_186.csv', 'img_series_187.csv', 'img_series_188.csv', 'img_series_189.csv', 'img_series_19.csv', 'img_series_190.csv', 'img_series_191.csv', 'img_series_192.csv', 'img_series_193.csv', 'img_series_194.csv', 'img_series_195.csv', 'img_series_196.csv', 'img_series_197.csv', 'img_series_198.csv', 'img_series_199.csv', 'img_series_2.csv', 'img_series_20.csv', 'img_series_200.csv', 'img_series_201.csv', 'img_series_202.csv', 'img_series_203.csv', 'img_series_204.csv', 'img_series_205.csv', 'img_series_206.csv', 'img_series_207.csv', 'img_series_208.csv', 'img_series_209.csv', 'img_series_21.csv', 'img_series_210.csv', 'img_series_211.csv', 'img_series_212.csv', 'img_series_213.csv', 'img_series_214.csv', 'img_series_215.csv', 'img_series_216.csv', 'img_series_217.csv', 'img_series_218.csv', 'img_series_219.csv', 'img_series_22.csv', 'img_series_220.csv', 'img_series_221.csv', 'img_series_222.csv', 'img_series_223.csv', 'img_series_224.csv', 'img_series_225.csv', 'img_series_226.csv', 'img_series_227.csv', 'img_series_228.csv', 'img_series_229.csv', 'img_series_23.csv', 'img_series_230.csv', 'img_series_231.csv', 'img_series_232.csv', 'img_series_233.csv', 'img_series_234.csv', 'img_series_235.csv', 'img_series_236.csv', 'img_series_237.csv', 'img_series_238.csv', 'img_series_239.csv', 'img_series_24.csv', 'img_series_240.csv', 'img_series_241.csv', 'img_series_242.csv', 'img_series_243.csv', 'img_series_244.csv', 'img_series_245.csv', 'img_series_246.csv', 'img_series_247.csv', 'img_series_248.csv', 'img_series_249.csv', 'img_series_25.csv', 'img_series_250.csv', 'img_series_251.csv', 'img_series_252.csv', 'img_series_253.csv', 'img_series_254.csv', 'img_series_255.csv', 'img_series_256.csv', 'img_series_257.csv', 'img_series_258.csv', 'img_series_259.csv', 'img_series_26.csv', 'img_series_260.csv', 'img_series_261.csv', 'img_series_262.csv', 'img_series_263.csv', 'img_series_264.csv', 'img_series_265.csv', 'img_series_266.csv', 'img_series_267.csv', 'img_series_268.csv', 'img_series_269.csv', 'img_series_27.csv', 'img_series_270.csv', 'img_series_271.csv', 'img_series_272.csv', 'img_series_273.csv', 'img_series_274.csv', 'img_series_275.csv', 'img_series_276.csv', 'img_series_277.csv', 'img_series_278.csv', 'img_series_279.csv', 'img_series_28.csv', 'img_series_280.csv', 'img_series_281.csv', 'img_series_282.csv', 'img_series_283.csv', 'img_series_284.csv', 'img_series_285.csv', 'img_series_286.csv', 'img_series_287.csv', 'img_series_288.csv', 'img_series_289.csv', 'img_series_29.csv', 'img_series_290.csv', 'img_series_291.csv', 'img_series_292.csv', 'img_series_293.csv', 'img_series_294.csv', 'img_series_295.csv', 'img_series_296.csv', 'img_series_297.csv', 'img_series_298.csv', 'img_series_299.csv', 'img_series_3.csv', 'img_series_30.csv', 'img_series_300.csv', 'img_series_301.csv', 'img_series_302.csv', 'img_series_303.csv', 'img_series_304.csv', 'img_series_305.csv', 'img_series_306.csv', 'img_series_307.csv', 'img_series_308.csv', 'img_series_309.csv', 'img_series_31.csv', 'img_series_310.csv', 'img_series_311.csv', 'img_series_312.csv', 'img_series_313.csv', 'img_series_314.csv', 'img_series_315.csv', 'img_series_316.csv', 'img_series_317.csv', 'img_series_318.csv', 'img_series_319.csv', 'img_series_32.csv', 'img_series_320.csv', 'img_series_321.csv', 'img_series_322.csv', 'img_series_323.csv', 'img_series_324.csv', 'img_series_325.csv', 'img_series_326.csv', 'img_series_327.csv', 'img_series_328.csv', 'img_series_329.csv', 'img_series_33.csv', 'img_series_330.csv', 'img_series_331.csv', 'img_series_332.csv', 'img_series_333.csv', 'img_series_334.csv', 'img_series_335.csv', 'img_series_336.csv', 'img_series_337.csv', 'img_series_338.csv', 'img_series_339.csv', 'img_series_34.csv', 'img_series_340.csv', 'img_series_341.csv', 'img_series_342.csv', 'img_series_343.csv', 'img_series_344.csv', 'img_series_345.csv', 'img_series_346.csv', 'img_series_347.csv', 'img_series_348.csv', 'img_series_349.csv', 'img_series_35.csv', 'img_series_350.csv', 'img_series_351.csv', 'img_series_352.csv', 'img_series_353.csv', 'img_series_354.csv', 'img_series_355.csv', 'img_series_356.csv', 'img_series_357.csv', 'img_series_358.csv', 'img_series_359.csv', 'img_series_36.csv', 'img_series_360.csv', 'img_series_361.csv', 'img_series_362.csv', 'img_series_363.csv', 'img_series_364.csv', 'img_series_365.csv', 'img_series_366.csv', 'img_series_367.csv', 'img_series_368.csv', 'img_series_369.csv', 'img_series_37.csv', 'img_series_370.csv', 'img_series_371.csv', 'img_series_372.csv', 'img_series_373.csv', 'img_series_374.csv', 'img_series_375.csv', 'img_series_376.csv', 'img_series_377.csv', 'img_series_378.csv', 'img_series_379.csv', 'img_series_38.csv', 'img_series_380.csv', 'img_series_381.csv', 'img_series_382.csv', 'img_series_383.csv', 'img_series_384.csv', 'img_series_385.csv', 'img_series_386.csv', 'img_series_387.csv', 'img_series_388.csv', 'img_series_389.csv', 'img_series_39.csv', 'img_series_390.csv', 'img_series_391.csv', 'img_series_392.csv', 'img_series_393.csv', 'img_series_394.csv', 'img_series_395.csv', 'img_series_396.csv', 'img_series_397.csv', 'img_series_398.csv', 'img_series_399.csv', 'img_series_4.csv', 'img_series_40.csv', 'img_series_400.csv', 'img_series_401.csv', 'img_series_402.csv', 'img_series_403.csv', 'img_series_404.csv', 'img_series_405.csv', 'img_series_406.csv', 'img_series_407.csv', 'img_series_408.csv', 'img_series_409.csv', 'img_series_41.csv', 'img_series_410.csv', 'img_series_411.csv', 'img_series_412.csv', 'img_series_413.csv', 'img_series_414.csv', 'img_series_415.csv', 'img_series_416.csv', 'img_series_417.csv', 'img_series_418.csv', 'img_series_419.csv', 'img_series_42.csv', 'img_series_420.csv', 'img_series_421.csv', 'img_series_422.csv', 'img_series_423.csv', 'img_series_424.csv', 'img_series_425.csv', 'img_series_426.csv', 'img_series_427.csv', 'img_series_428.csv', 'img_series_429.csv', 'img_series_43.csv', 'img_series_430.csv', 'img_series_431.csv', 'img_series_432.csv', 'img_series_433.csv', 'img_series_434.csv', 'img_series_435.csv', 'img_series_436.csv', 'img_series_437.csv', 'img_series_438.csv', 'img_series_439.csv', 'img_series_44.csv', 'img_series_440.csv', 'img_series_441.csv', 'img_series_442.csv', 'img_series_443.csv', 'img_series_444.csv', 'img_series_445.csv', 'img_series_446.csv', 'img_series_447.csv', 'img_series_448.csv', 'img_series_449.csv', 'img_series_45.csv', 'img_series_450.csv', 'img_series_451.csv', 'img_series_452.csv', 'img_series_453.csv', 'img_series_454.csv', 'img_series_455.csv', 'img_series_456.csv', 'img_series_457.csv', 'img_series_458.csv', 'img_series_459.csv', 'img_series_46.csv', 'img_series_460.csv', 'img_series_461.csv', 'img_series_462.csv', 'img_series_463.csv', 'img_series_464.csv', 'img_series_465.csv', 'img_series_466.csv', 'img_series_467.csv', 'img_series_468.csv', 'img_series_469.csv', 'img_series_47.csv', 'img_series_470.csv', 'img_series_471.csv', 'img_series_472.csv', 'img_series_473.csv', 'img_series_474.csv', 'img_series_475.csv', 'img_series_476.csv', 'img_series_477.csv', 'img_series_478.csv', 'img_series_479.csv', 'img_series_48.csv', 'img_series_480.csv', 'img_series_481.csv', 'img_series_482.csv', 'img_series_483.csv', 'img_series_484.csv', 'img_series_485.csv', 'img_series_486.csv', 'img_series_487.csv', 'img_series_488.csv', 'img_series_489.csv', 'img_series_49.csv', 'img_series_490.csv', 'img_series_491.csv', 'img_series_492.csv', 'img_series_493.csv', 'img_series_494.csv', 'img_series_495.csv', 'img_series_496.csv', 'img_series_497.csv', 'img_series_498.csv', 'img_series_499.csv', 'img_series_5.csv', 'img_series_50.csv', 'img_series_51.csv', 'img_series_52.csv', 'img_series_53.csv', 'img_series_54.csv', 'img_series_55.csv', 'img_series_56.csv', 'img_series_57.csv', 'img_series_58.csv', 'img_series_59.csv', 'img_series_6.csv', 'img_series_60.csv', 'img_series_61.csv', 'img_series_62.csv', 'img_series_63.csv', 'img_series_64.csv', 'img_series_65.csv', 'img_series_66.csv', 'img_series_67.csv', 'img_series_68.csv', 'img_series_69.csv', 'img_series_7.csv', 'img_series_70.csv', 'img_series_71.csv', 'img_series_72.csv', 'img_series_73.csv', 'img_series_74.csv', 'img_series_75.csv', 'img_series_76.csv', 'img_series_77.csv', 'img_series_78.csv', 'img_series_79.csv', 'img_series_8.csv', 'img_series_80.csv', 'img_series_81.csv', 'img_series_82.csv', 'img_series_83.csv', 'img_series_84.csv', 'img_series_85.csv', 'img_series_86.csv', 'img_series_87.csv', 'img_series_88.csv', 'img_series_89.csv', 'img_series_9.csv', 'img_series_90.csv', 'img_series_91.csv', 'img_series_92.csv', 'img_series_93.csv', 'img_series_94.csv', 'img_series_95.csv', 'img_series_96.csv', 'img_series_97.csv', 'img_series_98.csv', 'img_series_99.csv']\n",
            "['img_series_labels_0.csv', 'img_series_labels_1.csv', 'img_series_labels_10.csv', 'img_series_labels_100.csv', 'img_series_labels_101.csv', 'img_series_labels_102.csv', 'img_series_labels_103.csv', 'img_series_labels_104.csv', 'img_series_labels_105.csv', 'img_series_labels_106.csv', 'img_series_labels_107.csv', 'img_series_labels_108.csv', 'img_series_labels_109.csv', 'img_series_labels_11.csv', 'img_series_labels_110.csv', 'img_series_labels_111.csv', 'img_series_labels_112.csv', 'img_series_labels_113.csv', 'img_series_labels_114.csv', 'img_series_labels_115.csv', 'img_series_labels_116.csv', 'img_series_labels_117.csv', 'img_series_labels_118.csv', 'img_series_labels_119.csv', 'img_series_labels_12.csv', 'img_series_labels_120.csv', 'img_series_labels_121.csv', 'img_series_labels_122.csv', 'img_series_labels_123.csv', 'img_series_labels_124.csv', 'img_series_labels_125.csv', 'img_series_labels_126.csv', 'img_series_labels_127.csv', 'img_series_labels_128.csv', 'img_series_labels_129.csv', 'img_series_labels_13.csv', 'img_series_labels_130.csv', 'img_series_labels_131.csv', 'img_series_labels_132.csv', 'img_series_labels_133.csv', 'img_series_labels_134.csv', 'img_series_labels_135.csv', 'img_series_labels_136.csv', 'img_series_labels_137.csv', 'img_series_labels_138.csv', 'img_series_labels_139.csv', 'img_series_labels_14.csv', 'img_series_labels_140.csv', 'img_series_labels_141.csv', 'img_series_labels_142.csv', 'img_series_labels_143.csv', 'img_series_labels_144.csv', 'img_series_labels_145.csv', 'img_series_labels_146.csv', 'img_series_labels_147.csv', 'img_series_labels_148.csv', 'img_series_labels_149.csv', 'img_series_labels_15.csv', 'img_series_labels_150.csv', 'img_series_labels_151.csv', 'img_series_labels_152.csv', 'img_series_labels_153.csv', 'img_series_labels_154.csv', 'img_series_labels_155.csv', 'img_series_labels_156.csv', 'img_series_labels_157.csv', 'img_series_labels_158.csv', 'img_series_labels_159.csv', 'img_series_labels_16.csv', 'img_series_labels_160.csv', 'img_series_labels_161.csv', 'img_series_labels_162.csv', 'img_series_labels_163.csv', 'img_series_labels_164.csv', 'img_series_labels_165.csv', 'img_series_labels_166.csv', 'img_series_labels_167.csv', 'img_series_labels_168.csv', 'img_series_labels_169.csv', 'img_series_labels_17.csv', 'img_series_labels_170.csv', 'img_series_labels_171.csv', 'img_series_labels_172.csv', 'img_series_labels_173.csv', 'img_series_labels_174.csv', 'img_series_labels_175.csv', 'img_series_labels_176.csv', 'img_series_labels_177.csv', 'img_series_labels_178.csv', 'img_series_labels_179.csv', 'img_series_labels_18.csv', 'img_series_labels_180.csv', 'img_series_labels_181.csv', 'img_series_labels_182.csv', 'img_series_labels_183.csv', 'img_series_labels_184.csv', 'img_series_labels_185.csv', 'img_series_labels_186.csv', 'img_series_labels_187.csv', 'img_series_labels_188.csv', 'img_series_labels_189.csv', 'img_series_labels_19.csv', 'img_series_labels_190.csv', 'img_series_labels_191.csv', 'img_series_labels_192.csv', 'img_series_labels_193.csv', 'img_series_labels_194.csv', 'img_series_labels_195.csv', 'img_series_labels_196.csv', 'img_series_labels_197.csv', 'img_series_labels_198.csv', 'img_series_labels_199.csv', 'img_series_labels_2.csv', 'img_series_labels_20.csv', 'img_series_labels_200.csv', 'img_series_labels_201.csv', 'img_series_labels_202.csv', 'img_series_labels_203.csv', 'img_series_labels_204.csv', 'img_series_labels_205.csv', 'img_series_labels_206.csv', 'img_series_labels_207.csv', 'img_series_labels_208.csv', 'img_series_labels_209.csv', 'img_series_labels_21.csv', 'img_series_labels_210.csv', 'img_series_labels_211.csv', 'img_series_labels_212.csv', 'img_series_labels_213.csv', 'img_series_labels_214.csv', 'img_series_labels_215.csv', 'img_series_labels_216.csv', 'img_series_labels_217.csv', 'img_series_labels_218.csv', 'img_series_labels_219.csv', 'img_series_labels_22.csv', 'img_series_labels_220.csv', 'img_series_labels_221.csv', 'img_series_labels_222.csv', 'img_series_labels_223.csv', 'img_series_labels_224.csv', 'img_series_labels_225.csv', 'img_series_labels_226.csv', 'img_series_labels_227.csv', 'img_series_labels_228.csv', 'img_series_labels_229.csv', 'img_series_labels_23.csv', 'img_series_labels_230.csv', 'img_series_labels_231.csv', 'img_series_labels_232.csv', 'img_series_labels_233.csv', 'img_series_labels_234.csv', 'img_series_labels_235.csv', 'img_series_labels_236.csv', 'img_series_labels_237.csv', 'img_series_labels_238.csv', 'img_series_labels_239.csv', 'img_series_labels_24.csv', 'img_series_labels_240.csv', 'img_series_labels_241.csv', 'img_series_labels_242.csv', 'img_series_labels_243.csv', 'img_series_labels_244.csv', 'img_series_labels_245.csv', 'img_series_labels_246.csv', 'img_series_labels_247.csv', 'img_series_labels_248.csv', 'img_series_labels_249.csv', 'img_series_labels_25.csv', 'img_series_labels_250.csv', 'img_series_labels_251.csv', 'img_series_labels_252.csv', 'img_series_labels_253.csv', 'img_series_labels_254.csv', 'img_series_labels_255.csv', 'img_series_labels_256.csv', 'img_series_labels_257.csv', 'img_series_labels_258.csv', 'img_series_labels_259.csv', 'img_series_labels_26.csv', 'img_series_labels_260.csv', 'img_series_labels_261.csv', 'img_series_labels_262.csv', 'img_series_labels_263.csv', 'img_series_labels_264.csv', 'img_series_labels_265.csv', 'img_series_labels_266.csv', 'img_series_labels_267.csv', 'img_series_labels_268.csv', 'img_series_labels_269.csv', 'img_series_labels_27.csv', 'img_series_labels_270.csv', 'img_series_labels_271.csv', 'img_series_labels_272.csv', 'img_series_labels_273.csv', 'img_series_labels_274.csv', 'img_series_labels_275.csv', 'img_series_labels_276.csv', 'img_series_labels_277.csv', 'img_series_labels_278.csv', 'img_series_labels_279.csv', 'img_series_labels_28.csv', 'img_series_labels_280.csv', 'img_series_labels_281.csv', 'img_series_labels_282.csv', 'img_series_labels_283.csv', 'img_series_labels_284.csv', 'img_series_labels_285.csv', 'img_series_labels_286.csv', 'img_series_labels_287.csv', 'img_series_labels_288.csv', 'img_series_labels_289.csv', 'img_series_labels_29.csv', 'img_series_labels_290.csv', 'img_series_labels_291.csv', 'img_series_labels_292.csv', 'img_series_labels_293.csv', 'img_series_labels_294.csv', 'img_series_labels_295.csv', 'img_series_labels_296.csv', 'img_series_labels_297.csv', 'img_series_labels_298.csv', 'img_series_labels_299.csv', 'img_series_labels_3.csv', 'img_series_labels_30.csv', 'img_series_labels_300.csv', 'img_series_labels_301.csv', 'img_series_labels_302.csv', 'img_series_labels_303.csv', 'img_series_labels_304.csv', 'img_series_labels_305.csv', 'img_series_labels_306.csv', 'img_series_labels_307.csv', 'img_series_labels_308.csv', 'img_series_labels_309.csv', 'img_series_labels_31.csv', 'img_series_labels_310.csv', 'img_series_labels_311.csv', 'img_series_labels_312.csv', 'img_series_labels_313.csv', 'img_series_labels_314.csv', 'img_series_labels_315.csv', 'img_series_labels_316.csv', 'img_series_labels_317.csv', 'img_series_labels_318.csv', 'img_series_labels_319.csv', 'img_series_labels_32.csv', 'img_series_labels_320.csv', 'img_series_labels_321.csv', 'img_series_labels_322.csv', 'img_series_labels_323.csv', 'img_series_labels_324.csv', 'img_series_labels_325.csv', 'img_series_labels_326.csv', 'img_series_labels_327.csv', 'img_series_labels_328.csv', 'img_series_labels_329.csv', 'img_series_labels_33.csv', 'img_series_labels_330.csv', 'img_series_labels_331.csv', 'img_series_labels_332.csv', 'img_series_labels_333.csv', 'img_series_labels_334.csv', 'img_series_labels_335.csv', 'img_series_labels_336.csv', 'img_series_labels_337.csv', 'img_series_labels_338.csv', 'img_series_labels_339.csv', 'img_series_labels_34.csv', 'img_series_labels_340.csv', 'img_series_labels_341.csv', 'img_series_labels_342.csv', 'img_series_labels_343.csv', 'img_series_labels_344.csv', 'img_series_labels_345.csv', 'img_series_labels_346.csv', 'img_series_labels_347.csv', 'img_series_labels_348.csv', 'img_series_labels_349.csv', 'img_series_labels_35.csv', 'img_series_labels_350.csv', 'img_series_labels_351.csv', 'img_series_labels_352.csv', 'img_series_labels_353.csv', 'img_series_labels_354.csv', 'img_series_labels_355.csv', 'img_series_labels_356.csv', 'img_series_labels_357.csv', 'img_series_labels_358.csv', 'img_series_labels_359.csv', 'img_series_labels_36.csv', 'img_series_labels_360.csv', 'img_series_labels_361.csv', 'img_series_labels_362.csv', 'img_series_labels_363.csv', 'img_series_labels_364.csv', 'img_series_labels_365.csv', 'img_series_labels_366.csv', 'img_series_labels_367.csv', 'img_series_labels_368.csv', 'img_series_labels_369.csv', 'img_series_labels_37.csv', 'img_series_labels_370.csv', 'img_series_labels_371.csv', 'img_series_labels_372.csv', 'img_series_labels_373.csv', 'img_series_labels_374.csv', 'img_series_labels_375.csv', 'img_series_labels_376.csv', 'img_series_labels_377.csv', 'img_series_labels_378.csv', 'img_series_labels_379.csv', 'img_series_labels_38.csv', 'img_series_labels_380.csv', 'img_series_labels_381.csv', 'img_series_labels_382.csv', 'img_series_labels_383.csv', 'img_series_labels_384.csv', 'img_series_labels_385.csv', 'img_series_labels_386.csv', 'img_series_labels_387.csv', 'img_series_labels_388.csv', 'img_series_labels_389.csv', 'img_series_labels_39.csv', 'img_series_labels_390.csv', 'img_series_labels_391.csv', 'img_series_labels_392.csv', 'img_series_labels_393.csv', 'img_series_labels_394.csv', 'img_series_labels_395.csv', 'img_series_labels_396.csv', 'img_series_labels_397.csv', 'img_series_labels_398.csv', 'img_series_labels_399.csv', 'img_series_labels_4.csv', 'img_series_labels_40.csv', 'img_series_labels_400.csv', 'img_series_labels_401.csv', 'img_series_labels_402.csv', 'img_series_labels_403.csv', 'img_series_labels_404.csv', 'img_series_labels_405.csv', 'img_series_labels_406.csv', 'img_series_labels_407.csv', 'img_series_labels_408.csv', 'img_series_labels_409.csv', 'img_series_labels_41.csv', 'img_series_labels_410.csv', 'img_series_labels_411.csv', 'img_series_labels_412.csv', 'img_series_labels_413.csv', 'img_series_labels_414.csv', 'img_series_labels_415.csv', 'img_series_labels_416.csv', 'img_series_labels_417.csv', 'img_series_labels_418.csv', 'img_series_labels_419.csv', 'img_series_labels_42.csv', 'img_series_labels_420.csv', 'img_series_labels_421.csv', 'img_series_labels_422.csv', 'img_series_labels_423.csv', 'img_series_labels_424.csv', 'img_series_labels_425.csv', 'img_series_labels_426.csv', 'img_series_labels_427.csv', 'img_series_labels_428.csv', 'img_series_labels_429.csv', 'img_series_labels_43.csv', 'img_series_labels_430.csv', 'img_series_labels_431.csv', 'img_series_labels_432.csv', 'img_series_labels_433.csv', 'img_series_labels_434.csv', 'img_series_labels_435.csv', 'img_series_labels_436.csv', 'img_series_labels_437.csv', 'img_series_labels_438.csv', 'img_series_labels_439.csv', 'img_series_labels_44.csv', 'img_series_labels_440.csv', 'img_series_labels_441.csv', 'img_series_labels_442.csv', 'img_series_labels_443.csv', 'img_series_labels_444.csv', 'img_series_labels_445.csv', 'img_series_labels_446.csv', 'img_series_labels_447.csv', 'img_series_labels_448.csv', 'img_series_labels_449.csv', 'img_series_labels_45.csv', 'img_series_labels_450.csv', 'img_series_labels_451.csv', 'img_series_labels_452.csv', 'img_series_labels_453.csv', 'img_series_labels_454.csv', 'img_series_labels_455.csv', 'img_series_labels_456.csv', 'img_series_labels_457.csv', 'img_series_labels_458.csv', 'img_series_labels_459.csv', 'img_series_labels_46.csv', 'img_series_labels_460.csv', 'img_series_labels_461.csv', 'img_series_labels_462.csv', 'img_series_labels_463.csv', 'img_series_labels_464.csv', 'img_series_labels_465.csv', 'img_series_labels_466.csv', 'img_series_labels_467.csv', 'img_series_labels_468.csv', 'img_series_labels_469.csv', 'img_series_labels_47.csv', 'img_series_labels_470.csv', 'img_series_labels_471.csv', 'img_series_labels_472.csv', 'img_series_labels_473.csv', 'img_series_labels_474.csv', 'img_series_labels_475.csv', 'img_series_labels_476.csv', 'img_series_labels_477.csv', 'img_series_labels_478.csv', 'img_series_labels_479.csv', 'img_series_labels_48.csv', 'img_series_labels_480.csv', 'img_series_labels_481.csv', 'img_series_labels_482.csv', 'img_series_labels_483.csv', 'img_series_labels_484.csv', 'img_series_labels_485.csv', 'img_series_labels_486.csv', 'img_series_labels_487.csv', 'img_series_labels_488.csv', 'img_series_labels_489.csv', 'img_series_labels_49.csv', 'img_series_labels_490.csv', 'img_series_labels_491.csv', 'img_series_labels_492.csv', 'img_series_labels_493.csv', 'img_series_labels_494.csv', 'img_series_labels_495.csv', 'img_series_labels_496.csv', 'img_series_labels_497.csv', 'img_series_labels_498.csv', 'img_series_labels_499.csv', 'img_series_labels_5.csv', 'img_series_labels_50.csv', 'img_series_labels_51.csv', 'img_series_labels_52.csv', 'img_series_labels_53.csv', 'img_series_labels_54.csv', 'img_series_labels_55.csv', 'img_series_labels_56.csv', 'img_series_labels_57.csv', 'img_series_labels_58.csv', 'img_series_labels_59.csv', 'img_series_labels_6.csv', 'img_series_labels_60.csv', 'img_series_labels_61.csv', 'img_series_labels_62.csv', 'img_series_labels_63.csv', 'img_series_labels_64.csv', 'img_series_labels_65.csv', 'img_series_labels_66.csv', 'img_series_labels_67.csv', 'img_series_labels_68.csv', 'img_series_labels_69.csv', 'img_series_labels_7.csv', 'img_series_labels_70.csv', 'img_series_labels_71.csv', 'img_series_labels_72.csv', 'img_series_labels_73.csv', 'img_series_labels_74.csv', 'img_series_labels_75.csv', 'img_series_labels_76.csv', 'img_series_labels_77.csv', 'img_series_labels_78.csv', 'img_series_labels_79.csv', 'img_series_labels_8.csv', 'img_series_labels_80.csv', 'img_series_labels_81.csv', 'img_series_labels_82.csv', 'img_series_labels_83.csv', 'img_series_labels_84.csv', 'img_series_labels_85.csv', 'img_series_labels_86.csv', 'img_series_labels_87.csv', 'img_series_labels_88.csv', 'img_series_labels_89.csv', 'img_series_labels_9.csv', 'img_series_labels_90.csv', 'img_series_labels_91.csv', 'img_series_labels_92.csv', 'img_series_labels_93.csv', 'img_series_labels_94.csv', 'img_series_labels_95.csv', 'img_series_labels_96.csv', 'img_series_labels_97.csv', 'img_series_labels_98.csv', 'img_series_labels_99.csv']\n",
            "1\n"
          ],
          "name": "stdout"
        },
        {
          "output_type": "stream",
          "text": [
            "/usr/local/lib/python3.7/dist-packages/ipykernel_launcher.py:17: DeprecationWarning: time.clock has been deprecated in Python 3.3 and will be removed from Python 3.8: use time.perf_counter or time.process_time instead\n"
          ],
          "name": "stderr"
        },
        {
          "output_type": "stream",
          "text": [
            "2\n",
            "3\n",
            "4\n",
            "5\n",
            "6\n",
            "7\n",
            "8\n",
            "9\n",
            "10\n",
            "11\n",
            "12\n",
            "13\n",
            "14\n",
            "15\n",
            "16\n",
            "17\n",
            "18\n",
            "19\n",
            "20\n",
            "21\n",
            "22\n",
            "23\n",
            "24\n",
            "25\n",
            "26\n",
            "27\n",
            "28\n",
            "29\n",
            "30\n",
            "31\n",
            "32\n",
            "33\n",
            "34\n",
            "35\n",
            "36\n",
            "37\n",
            "38\n",
            "39\n",
            "40\n",
            "41\n",
            "42\n",
            "43\n",
            "44\n",
            "45\n",
            "46\n",
            "47\n",
            "48\n",
            "49\n",
            "50\n",
            "51\n",
            "52\n",
            "53\n",
            "54\n",
            "55\n",
            "56\n",
            "57\n",
            "58\n",
            "59\n",
            "60\n",
            "61\n",
            "62\n",
            "63\n",
            "64\n",
            "65\n",
            "66\n",
            "67\n",
            "68\n",
            "69\n",
            "70\n",
            "71\n",
            "72\n",
            "73\n",
            "74\n",
            "75\n",
            "76\n",
            "77\n",
            "78\n",
            "79\n",
            "80\n",
            "81\n",
            "82\n",
            "83\n",
            "84\n",
            "85\n",
            "86\n",
            "87\n",
            "88\n",
            "89\n",
            "90\n",
            "91\n",
            "92\n",
            "93\n",
            "94\n",
            "95\n",
            "96\n",
            "97\n",
            "98\n",
            "99\n",
            "100\n",
            "101\n",
            "102\n",
            "103\n",
            "104\n",
            "105\n",
            "106\n",
            "107\n",
            "108\n",
            "109\n",
            "110\n",
            "111\n",
            "112\n",
            "113\n",
            "114\n",
            "115\n",
            "116\n",
            "117\n",
            "118\n",
            "119\n",
            "120\n",
            "121\n",
            "122\n",
            "123\n",
            "124\n",
            "125\n",
            "126\n",
            "127\n",
            "128\n",
            "129\n",
            "130\n",
            "131\n",
            "132\n",
            "133\n",
            "134\n",
            "135\n",
            "136\n",
            "137\n",
            "138\n",
            "139\n",
            "140\n",
            "141\n",
            "142\n",
            "143\n",
            "144\n",
            "145\n",
            "146\n",
            "147\n",
            "148\n",
            "149\n",
            "150\n",
            "151\n",
            "152\n",
            "153\n",
            "154\n",
            "155\n",
            "156\n",
            "157\n",
            "158\n",
            "159\n",
            "160\n",
            "161\n",
            "162\n",
            "163\n",
            "164\n",
            "165\n",
            "166\n",
            "167\n",
            "168\n",
            "169\n",
            "170\n",
            "171\n",
            "172\n",
            "173\n",
            "174\n",
            "175\n",
            "176\n",
            "177\n",
            "178\n",
            "179\n",
            "180\n",
            "181\n",
            "182\n",
            "183\n",
            "184\n",
            "185\n",
            "186\n",
            "187\n",
            "188\n",
            "189\n",
            "190\n",
            "191\n",
            "192\n",
            "193\n",
            "194\n",
            "195\n",
            "196\n",
            "197\n",
            "198\n",
            "199\n",
            "200\n",
            "201\n",
            "202\n",
            "203\n",
            "204\n",
            "205\n",
            "206\n",
            "207\n",
            "208\n",
            "209\n",
            "210\n",
            "211\n",
            "212\n",
            "213\n",
            "214\n",
            "215\n",
            "216\n",
            "217\n",
            "218\n",
            "219\n",
            "220\n",
            "221\n",
            "222\n",
            "223\n",
            "224\n",
            "225\n",
            "226\n",
            "227\n",
            "228\n",
            "229\n",
            "230\n",
            "231\n",
            "232\n",
            "233\n",
            "234\n",
            "235\n",
            "236\n",
            "237\n",
            "238\n",
            "239\n",
            "240\n",
            "241\n",
            "242\n",
            "243\n",
            "244\n",
            "245\n",
            "246\n",
            "247\n",
            "248\n",
            "249\n",
            "250\n",
            "251\n",
            "252\n",
            "253\n",
            "254\n",
            "255\n",
            "256\n",
            "257\n",
            "258\n",
            "259\n",
            "260\n",
            "261\n",
            "262\n",
            "263\n",
            "264\n",
            "265\n",
            "266\n",
            "267\n",
            "268\n",
            "269\n",
            "270\n",
            "271\n",
            "272\n",
            "273\n",
            "274\n",
            "275\n",
            "276\n",
            "277\n",
            "278\n",
            "279\n",
            "280\n",
            "281\n",
            "282\n",
            "283\n",
            "284\n",
            "285\n",
            "286\n",
            "287\n",
            "288\n",
            "289\n",
            "290\n",
            "291\n",
            "292\n",
            "293\n",
            "294\n",
            "295\n",
            "296\n",
            "297\n",
            "298\n",
            "299\n",
            "300\n",
            "301\n",
            "302\n",
            "303\n",
            "304\n",
            "305\n",
            "306\n",
            "307\n",
            "308\n",
            "309\n",
            "310\n",
            "311\n",
            "312\n",
            "313\n",
            "314\n",
            "315\n",
            "316\n",
            "317\n",
            "318\n",
            "319\n",
            "320\n",
            "321\n",
            "322\n",
            "323\n",
            "324\n",
            "325\n",
            "326\n",
            "327\n",
            "328\n",
            "329\n",
            "330\n",
            "331\n",
            "332\n",
            "333\n",
            "334\n",
            "335\n",
            "336\n",
            "337\n",
            "338\n",
            "339\n",
            "340\n",
            "341\n",
            "342\n",
            "343\n",
            "344\n",
            "345\n",
            "346\n",
            "347\n",
            "348\n",
            "349\n",
            "350\n",
            "351\n",
            "352\n",
            "353\n",
            "354\n",
            "355\n",
            "356\n",
            "357\n",
            "358\n",
            "359\n",
            "360\n",
            "361\n",
            "362\n",
            "363\n",
            "364\n",
            "365\n",
            "366\n",
            "367\n",
            "368\n",
            "369\n",
            "370\n",
            "371\n",
            "372\n",
            "373\n",
            "374\n",
            "375\n",
            "376\n",
            "377\n",
            "378\n",
            "379\n",
            "380\n",
            "381\n",
            "382\n",
            "383\n",
            "384\n",
            "385\n",
            "386\n",
            "387\n",
            "388\n",
            "389\n",
            "390\n",
            "391\n",
            "392\n",
            "393\n",
            "394\n",
            "395\n",
            "396\n",
            "397\n",
            "398\n",
            "399\n",
            "400\n",
            "401\n",
            "402\n",
            "403\n",
            "404\n",
            "405\n",
            "406\n",
            "407\n",
            "408\n",
            "409\n",
            "410\n",
            "411\n",
            "412\n",
            "413\n",
            "414\n",
            "415\n",
            "416\n",
            "417\n",
            "418\n",
            "419\n",
            "420\n",
            "421\n",
            "422\n",
            "423\n",
            "424\n",
            "425\n",
            "426\n",
            "427\n",
            "428\n",
            "429\n",
            "430\n",
            "431\n",
            "432\n",
            "433\n",
            "434\n",
            "435\n",
            "436\n",
            "437\n",
            "438\n",
            "439\n",
            "440\n",
            "441\n",
            "442\n",
            "443\n",
            "444\n",
            "445\n",
            "446\n",
            "447\n",
            "448\n",
            "449\n",
            "450\n",
            "451\n",
            "452\n",
            "453\n",
            "454\n",
            "455\n",
            "456\n",
            "457\n",
            "458\n",
            "459\n",
            "460\n",
            "461\n",
            "462\n",
            "463\n",
            "464\n",
            "465\n",
            "466\n",
            "467\n",
            "468\n",
            "469\n",
            "470\n",
            "471\n",
            "472\n",
            "473\n",
            "474\n",
            "475\n",
            "476\n",
            "477\n",
            "478\n",
            "479\n",
            "480\n",
            "481\n",
            "482\n",
            "483\n",
            "484\n",
            "485\n",
            "486\n",
            "487\n",
            "488\n",
            "489\n",
            "490\n",
            "491\n",
            "492\n",
            "493\n",
            "494\n",
            "495\n",
            "496\n",
            "497\n",
            "498\n",
            "499\n",
            "500\n"
          ],
          "name": "stdout"
        },
        {
          "output_type": "execute_result",
          "data": {
            "text/plain": [
              "0"
            ]
          },
          "metadata": {
            "tags": []
          },
          "execution_count": 17
        }
      ]
    },
    {
      "cell_type": "code",
      "metadata": {
        "id": "XcLzzSjIOaaC"
      },
      "source": [
        "all_data = np.vstack((anomaly_data_csv, normal_data_csv))\n",
        "all_labels = np.vstack((anomaly_labels_csv, normal_labels_csv))\n",
        "#all_labels = (all_labels == 1).astype(int) # old_version\n",
        "all_labels = (all_labels == int(seq_name[3])).astype(int)\n"
      ],
      "execution_count": null,
      "outputs": []
    },
    {
      "cell_type": "code",
      "metadata": {
        "id": "80INVvPjOadB"
      },
      "source": [
        "train_data, test_data, train_labels, test_labels = train_test_split(all_data, all_labels, \n",
        "                                                                    test_size=0.4, shuffle=True,\n",
        "                                                                    random_state=42)\n",
        "\n",
        "test_data, val_data, test_labels, val_labels = train_test_split(test_data, test_labels, \n",
        "                                                                test_size=0.5, shuffle=True,\n",
        "                                                                random_state=42)"
      ],
      "execution_count": null,
      "outputs": []
    },
    {
      "cell_type": "markdown",
      "metadata": {
        "id": "RpN4w_7iOadN"
      },
      "source": [
        "## Loss function"
      ]
    },
    {
      "cell_type": "code",
      "metadata": {
        "id": "BfKVZG8tOadO"
      },
      "source": [
        "device = torch.device('cuda')"
      ],
      "execution_count": null,
      "outputs": []
    },
    {
      "cell_type": "code",
      "metadata": {
        "id": "gSxdKqSAOade"
      },
      "source": [
        "def loss_delay_detection_2(p_slice):\n",
        "    n = p_slice.size(0)\n",
        "    prod = torch.ones(n).to(device)\n",
        "    p_slice = p_slice.to(device)\n",
        "    prod[1:] -= p_slice[:-1]\n",
        "    cumprod = torch.cumprod(prod, dim=0).to(device)\n",
        "    loss = torch.arange(1, n + 1).to(device) * p_slice * cumprod\n",
        "    loss = torch.sum(loss)\n",
        "    return loss\n",
        "\n",
        "\n",
        "def loss_delay_detection(p_slice, w):\n",
        "    n = p_slice.size(0) \n",
        "    prod = torch.ones(n).to(device)\n",
        "    p_slice = p_slice.to(device)\n",
        "    \n",
        "    prod[1:] -= p_slice[:-1].to(device)\n",
        "    cumprod = torch.cumprod(prod, dim=0).to(device)\n",
        "    # TODO drop either n or w\n",
        "    loss = (torch.arange(1, n + 1).to(device) * p_slice * cumprod \n",
        "            + (w + 1) * torch.prod(prod[1:]) * (1 - p_slice[-1]))\n",
        "    loss = torch.sum(loss)\n",
        "    return loss\n",
        "\n",
        "def loss_false_alarms(p_slice):\n",
        "    length = len(p_slice)\n",
        "    loss = 0\n",
        "    \n",
        "    start_ind = 0\n",
        "    end_ind = 0\n",
        "    \n",
        "    while end_ind < length:\n",
        "        start_ind = end_ind - 1\n",
        "        if start_ind < 0:\n",
        "            start_ind = 0\n",
        "        end_ind = np.random.randint(start_ind, length + 2)\n",
        "        if end_ind == start_ind:\n",
        "            end_ind = end_ind + 1\n",
        "        loss += 1 - loss_delay_detection_2(p_slice[start_ind: end_ind + 1])    \n",
        "    #loss += 1 - loss_delay_detection_2(p_slice[start_ind: length])            \n",
        "    loss = torch.sum(loss)\n",
        "    return loss"
      ],
      "execution_count": null,
      "outputs": []
    },
    {
      "cell_type": "code",
      "metadata": {
        "id": "YbsT0ze4Oadn",
        "colab": {
          "base_uri": "https://localhost:8080/"
        },
        "outputId": "beab85a5-5bca-40d2-c9b3-7cc10955fd8b"
      },
      "source": [
        "loss_delay_detection(torch.Tensor([0.9, 0.1, 0.3]), 3)"
      ],
      "execution_count": null,
      "outputs": [
        {
          "output_type": "execute_result",
          "data": {
            "text/plain": [
              "tensor(1.7570, device='cuda:0')"
            ]
          },
          "metadata": {
            "tags": []
          },
          "execution_count": 22
        }
      ]
    },
    {
      "cell_type": "code",
      "metadata": {
        "id": "J3j41m1wOaew"
      },
      "source": [
        "class CustomLoss(nn.Module):\n",
        "    \n",
        "    def __init__(self):\n",
        "        super(CustomLoss, self).__init__()\n",
        "        \n",
        "    def forward(self, outputs, labels):\n",
        "        loss = torch.zeros(labels.size(0))\n",
        "        for i, label in enumerate(labels):\n",
        "            ind = torch.where(label != label[0])[0]\n",
        "            if ind.size()[0] == 0:\n",
        "                loss[i] = loss_false_alarms(outputs[i, :])\n",
        "            else:\n",
        "                w = W_PARAM\n",
        "                alpha = 0.5\n",
        "                loss[i] = (alpha * loss_delay_detection(outputs[i, ind[0]:(ind[0] + w)], w) + \n",
        "                           (1 - alpha) * loss_false_alarms(outputs[i, :ind[0]]))\n",
        "        loss = torch.mean(loss)\n",
        "        return loss"
      ],
      "execution_count": null,
      "outputs": []
    },
    {
      "cell_type": "code",
      "metadata": {
        "id": "LLUz34kIOae6"
      },
      "source": [
        "# input data parameters\n",
        "input_size = IM_SIZE * IM_SIZE\n",
        "output_size = SEQ_LEN\n",
        "seq_len = SEQ_LEN\n",
        "\n",
        "# model hyperparameters\n",
        "hidden_dim = 100\n",
        "n_layers = 2\n",
        "num_workers = 1\n",
        "learning_rate = 1e-3\n",
        "\n",
        "batch_size = 64"
      ],
      "execution_count": null,
      "outputs": []
    },
    {
      "cell_type": "code",
      "metadata": {
        "id": "RbFXcd37OafH"
      },
      "source": [
        "def prepare_loader(data, labels, seq_len, input_size, batch_size, shuffle=True, num_workers=1):\n",
        "    data = torch.FloatTensor(data)\n",
        "    labels = torch.FloatTensor(labels)\n",
        "    data = data.view(-1, seq_len, input_size)\n",
        "    labels = labels.view(-1, seq_len)\n",
        "\n",
        "    all_data = TensorDataset(data, labels) \n",
        "    data_loader = DataLoader(all_data, batch_size=batch_size, shuffle=shuffle, num_workers=num_workers)\n",
        "    \n",
        "    return data_loader"
      ],
      "execution_count": null,
      "outputs": []
    },
    {
      "cell_type": "code",
      "metadata": {
        "id": "IY5j7HIdOafV"
      },
      "source": [
        "device = torch.device(\"cuda:1\")"
      ],
      "execution_count": null,
      "outputs": []
    },
    {
      "cell_type": "code",
      "metadata": {
        "id": "3ujvJdNMOaf3"
      },
      "source": [
        "train_loader = prepare_loader(train_data, train_labels, seq_len, input_size, batch_size)\n",
        "val_loader = prepare_loader(val_data, val_labels, seq_len, input_size, batch_size)\n",
        "test_loader = prepare_loader(test_data, test_labels, seq_len, input_size, batch_size)"
      ],
      "execution_count": null,
      "outputs": []
    },
    {
      "cell_type": "code",
      "metadata": {
        "id": "Ipl1p3MbOaf9"
      },
      "source": [
        "def train_model(model, loss_function, epochs=100, print_every=5, LSTM_flag = True):\n",
        "    optimizer = torch.optim.Adam(model.parameters(), lr=learning_rate)\n",
        "    \n",
        "    \n",
        "    valid_loss_min = np.Inf\n",
        "\n",
        "    loss_list = []\n",
        "    acc_list = []\n",
        "    overall_val_loss_list = []\n",
        "    counter = 0\n",
        "    model.train()\n",
        "\n",
        "    out_list = []\n",
        "    labels_list = []\n",
        "\n",
        "    model.train()\n",
        "    for i in range(epochs):\n",
        "        # for inputs, labels in tqdm(train_loader):\n",
        "        for inputs, labels in train_loader:\n",
        "            if inputs.shape[0] < batch_size:\n",
        "                break\n",
        "\n",
        "            counter += 1\n",
        "            inputs, labels = inputs.to(device), labels.to(device)  \n",
        "\n",
        "            if LSTM_flag:\n",
        "                h = model.init_hidden(batch_size)\n",
        "                #print(h.shape)\n",
        "                #h = tuple([e.data for e in h])\n",
        "                \n",
        "                output, h = model(inputs, h)\n",
        "            else:\n",
        "                output = model(inputs)\n",
        "\n",
        "            loss = loss_function(output.squeeze(), labels.float())\n",
        "            loss_list += [loss.cpu().clone().detach()]\n",
        "            accuracy = ((output > 0.5).long()) == labels\n",
        "            acc_list += [accuracy.cpu().detach().float().mean()] # += []\n",
        "            out_list.append(output.cpu().detach().float())\n",
        "            labels_list.append(labels.cpu().detach().float())\n",
        "\n",
        "            loss.backward()\n",
        "            optimizer.step()\n",
        "            optimizer.zero_grad()\n",
        "\n",
        "            if counter%print_every == 0:\n",
        "                val_losses = []\n",
        "                val_outputs = []\n",
        "                model.eval()\n",
        "                for val_inputs, val_labels in val_loader:\n",
        "                    if val_inputs.shape[0] < batch_size:\n",
        "                        break\n",
        "                    val_inputs, val_labels = val_inputs.to(device), val_labels.to(device)\n",
        "\n",
        "                    if LSTM_flag:\n",
        "                        val_h = model.init_hidden(batch_size)\n",
        "                        #val_h = tuple([each.data for each in val_h])\n",
        "                        val_out, val_h = model(val_inputs, val_h)\n",
        "                    else:\n",
        "                        val_out = model(val_inputs)\n",
        "                        \n",
        "                    val_loss = loss_function(val_out.squeeze(), val_labels.float())\n",
        "                    val_losses.append(val_loss.item())\n",
        "                    val_outputs += [val_out.cpu().clone().detach()]\n",
        "\n",
        "                val_outputs_one = torch.cat(val_outputs, 0)\n",
        "\n",
        "                overall_val_loss_list.append(np.mean(val_losses))\n",
        "\n",
        "                model.train()\n",
        "                print(\"Epoch: {}/{}...\".format(i+1, epochs),\n",
        "                      \"Step: {}...\".format(counter),\n",
        "                      \"Loss: {:.6f}...\".format(loss.item()),\n",
        "                      \"Val Loss: {:.6f}\".format(np.mean(val_losses)))\n",
        "    return model, (loss_list, acc_list, overall_val_loss_list)"
      ],
      "execution_count": null,
      "outputs": []
    },
    {
      "cell_type": "markdown",
      "metadata": {
        "id": "zpazbh0sOagI"
      },
      "source": [
        "## LSTM Model"
      ]
    },
    {
      "cell_type": "code",
      "metadata": {
        "id": "iw14Sk1bOagJ"
      },
      "source": [
        "class LSTM(nn.Module):\n",
        "    def __init__(self, input_size, output_size, hidden_dim, n_layers, drop_prob=0.5):\n",
        "        \n",
        "        super(LSTM, self).__init__()\n",
        "        self.input_size = input_size\n",
        "        self.output_size = output_size\n",
        "        self.n_layers = n_layers\n",
        "        self.hidden_dim = hidden_dim        \n",
        "        # if batch_first, than shape of lstm_in: [batch_size, seq_len, input_size]\n",
        "        self.lstm = nn.LSTM(input_size, hidden_dim, n_layers, dropout=drop_prob, batch_first=True)\n",
        "        self.dropout = nn.Dropout(drop_prob)\n",
        "        self.linear_1 = nn.Linear(hidden_dim, hidden_dim//2)\n",
        "        self.linear_2 = nn.Linear(hidden_dim//2, 1)\n",
        "        self.activation = nn.Sigmoid()\n",
        "        self.relu = nn.ReLU()\n",
        "        \n",
        "    def forward(self, input_seq, hidden):\n",
        "        batch_size = input_seq.size(0)\n",
        "        lstm_out, hidden = self.lstm(input_seq, hidden)  \n",
        "        lstm_out = lstm_out.contiguous().view(-1, self.hidden_dim)      \n",
        "        out = self.linear_1(lstm_out)\n",
        "        out = self.dropout(out)\n",
        "        out = self.relu(out)\n",
        "        out = self.linear_2(out)\n",
        "        out = self.activation(out)\n",
        "        out = out.view(batch_size, -1)\n",
        "\n",
        "        return out, hidden\n",
        "\n",
        "    def init_hidden(self, batch_size):\n",
        "        weight = next(self.parameters()).data\n",
        "        \n",
        "        hidden = (weight.new(self.n_layers, batch_size, self.hidden_dim).zero_().to(device),\n",
        "                  weight.new(self.n_layers, batch_size, self.hidden_dim).zero_().to(device))\n",
        "        return hidden"
      ],
      "execution_count": null,
      "outputs": []
    },
    {
      "cell_type": "code",
      "metadata": {
        "id": "j1ouylAmrqKR"
      },
      "source": [
        "class GRU(nn.Module):\n",
        "    def __init__(self, input_size, output_size, hidden_dim, n_layers, drop_prob=0.5):\n",
        "        \n",
        "        super(GRU, self).__init__()\n",
        "        self.input_size = input_size\n",
        "        self.output_size = output_size\n",
        "        self.n_layers = n_layers\n",
        "        self.hidden_dim = hidden_dim        \n",
        "        # if batch_first, than shape of lstm_in: [batch_size, seq_len, input_size]\n",
        "        self.gru = nn.GRU(input_size, hidden_dim, n_layers, dropout=drop_prob, batch_first=True)\n",
        "        self.dropout = nn.Dropout(drop_prob)\n",
        "        self.linear_1 = nn.Linear(hidden_dim, hidden_dim//2)\n",
        "        self.linear_2 = nn.Linear(hidden_dim//2, 1)\n",
        "        self.activation = nn.Sigmoid()\n",
        "        self.relu = nn.ReLU()\n",
        "        \n",
        "    def forward(self, input_seq, hidden):\n",
        "        batch_size = input_seq.size(0)\n",
        "        #print(hidden[0].shape)\n",
        "        gru_out, hidden = self.gru(input_seq, hidden)\n",
        "        #print(gru_out, hidden)  \n",
        "        gru_out = gru_out.contiguous().view(-1, self.hidden_dim)      \n",
        "        out = self.linear_1(gru_out)\n",
        "        out = self.dropout(out)\n",
        "        out = self.relu(out)\n",
        "        out = self.linear_2(out)\n",
        "        out = self.activation(out)\n",
        "        out = out.view(batch_size, -1)\n",
        "\n",
        "        return out, hidden\n",
        "\n",
        "    def init_hidden(self, batch_size):\n",
        "        weight = next(self.parameters()).data\n",
        "        \n",
        "        # hidden = (weight.new(self.n_layers, batch_size, self.hidden_dim).zero_().to(device),\n",
        "        #           weight.new(self.n_layers, batch_size, self.hidden_dim).zero_().to(device))\n",
        "        \n",
        "        hidden = weight.new(self.n_layers, batch_size, self.hidden_dim).zero_().to(device)\n",
        "\n",
        "        return hidden"
      ],
      "execution_count": null,
      "outputs": []
    },
    {
      "cell_type": "code",
      "metadata": {
        "id": "_WBLpthDOagT",
        "colab": {
          "base_uri": "https://localhost:8080/"
        },
        "outputId": "21dcd3c3-1cd9-43ca-fe74-9bc5896802fe"
      },
      "source": [
        "device = torch.device(\"cuda\") # changes\n",
        "model_LSTM_custom = LSTM(input_size=input_size, output_size=output_size, hidden_dim=hidden_dim, n_layers=n_layers)\n",
        "#model_LSTM_custom = GRU(input_size=input_size, output_size=output_size, hidden_dim=hidden_dim, n_layers=n_layers)\n",
        "loss_function = CustomLoss()\n",
        "model_LSTM_custom.to(device)"
      ],
      "execution_count": null,
      "outputs": [
        {
          "output_type": "execute_result",
          "data": {
            "text/plain": [
              "LSTM(\n",
              "  (lstm): LSTM(784, 100, num_layers=2, batch_first=True, dropout=0.5)\n",
              "  (dropout): Dropout(p=0.5, inplace=False)\n",
              "  (linear_1): Linear(in_features=100, out_features=50, bias=True)\n",
              "  (linear_2): Linear(in_features=50, out_features=1, bias=True)\n",
              "  (activation): Sigmoid()\n",
              "  (relu): ReLU()\n",
              ")"
            ]
          },
          "metadata": {
            "tags": []
          },
          "execution_count": 31
        }
      ]
    },
    {
      "cell_type": "code",
      "metadata": {
        "scrolled": true,
        "id": "BDgtQOpzOagc",
        "colab": {
          "base_uri": "https://localhost:8080/"
        },
        "outputId": "90dddd5f-e69c-42c7-bb19-1408142fb428"
      },
      "source": [
        "model_LSTM_custom, (loss_list, acc_list, \n",
        "                    overall_val_loss_list) = train_model(model_LSTM_custom, loss_function, 60, 5, LSTM_flag=True) # was True"
      ],
      "execution_count": null,
      "outputs": [
        {
          "output_type": "stream",
          "text": [
            "Epoch: 1/60... Step: 5... Loss: -2.073558... Val Loss: -2.045366\n",
            "Epoch: 2/60... Step: 10... Loss: -1.438372... Val Loss: -2.550454\n",
            "Epoch: 2/60... Step: 15... Loss: -2.966324... Val Loss: -3.153249\n",
            "Epoch: 3/60... Step: 20... Loss: -3.633088... Val Loss: -4.547816\n",
            "Epoch: 3/60... Step: 25... Loss: -7.559563... Val Loss: -5.840996\n",
            "Epoch: 4/60... Step: 30... Loss: -7.032174... Val Loss: -6.976205\n",
            "Epoch: 4/60... Step: 35... Loss: -7.785749... Val Loss: -8.080485\n",
            "Epoch: 5/60... Step: 40... Loss: -8.868420... Val Loss: -9.027714\n",
            "Epoch: 5/60... Step: 45... Loss: -11.173761... Val Loss: -7.851297\n",
            "Epoch: 6/60... Step: 50... Loss: -10.312019... Val Loss: -9.962338\n",
            "Epoch: 7/60... Step: 55... Loss: -10.908873... Val Loss: -11.623293\n",
            "Epoch: 7/60... Step: 60... Loss: -9.965322... Val Loss: -10.917897\n",
            "Epoch: 8/60... Step: 65... Loss: -11.928150... Val Loss: -10.428205\n",
            "Epoch: 8/60... Step: 70... Loss: -12.868511... Val Loss: -9.208585\n",
            "Epoch: 9/60... Step: 75... Loss: -9.860775... Val Loss: -10.662605\n",
            "Epoch: 9/60... Step: 80... Loss: -10.554825... Val Loss: -10.586655\n",
            "Epoch: 10/60... Step: 85... Loss: -11.985789... Val Loss: -12.789137\n",
            "Epoch: 10/60... Step: 90... Loss: -11.211155... Val Loss: -11.801683\n",
            "Epoch: 11/60... Step: 95... Loss: -13.438070... Val Loss: -12.060080\n",
            "Epoch: 12/60... Step: 100... Loss: -11.896425... Val Loss: -13.103888\n",
            "Epoch: 12/60... Step: 105... Loss: -11.686363... Val Loss: -11.103455\n",
            "Epoch: 13/60... Step: 110... Loss: -10.891793... Val Loss: -12.028180\n",
            "Epoch: 13/60... Step: 115... Loss: -11.132721... Val Loss: -11.680621\n",
            "Epoch: 14/60... Step: 120... Loss: -15.857134... Val Loss: -11.788396\n",
            "Epoch: 14/60... Step: 125... Loss: -11.692082... Val Loss: -12.376155\n",
            "Epoch: 15/60... Step: 130... Loss: -11.071644... Val Loss: -11.071524\n",
            "Epoch: 15/60... Step: 135... Loss: -10.456621... Val Loss: -10.406616\n",
            "Epoch: 16/60... Step: 140... Loss: -11.138117... Val Loss: -10.344778\n",
            "Epoch: 17/60... Step: 145... Loss: -13.079258... Val Loss: -11.440392\n",
            "Epoch: 17/60... Step: 150... Loss: -14.086454... Val Loss: -13.042916\n",
            "Epoch: 18/60... Step: 155... Loss: -15.981126... Val Loss: -12.269335\n",
            "Epoch: 18/60... Step: 160... Loss: -14.032673... Val Loss: -12.455939\n",
            "Epoch: 19/60... Step: 165... Loss: -15.480784... Val Loss: -12.660116\n",
            "Epoch: 19/60... Step: 170... Loss: -13.391914... Val Loss: -13.446294\n",
            "Epoch: 20/60... Step: 175... Loss: -11.086614... Val Loss: -12.515182\n",
            "Epoch: 20/60... Step: 180... Loss: -11.212034... Val Loss: -10.695903\n",
            "Epoch: 21/60... Step: 185... Loss: -13.137980... Val Loss: -12.610757\n",
            "Epoch: 22/60... Step: 190... Loss: -9.999147... Val Loss: -12.169598\n",
            "Epoch: 22/60... Step: 195... Loss: -12.150105... Val Loss: -11.507338\n",
            "Epoch: 23/60... Step: 200... Loss: -12.426640... Val Loss: -12.118493\n",
            "Epoch: 23/60... Step: 205... Loss: -13.363138... Val Loss: -12.732628\n",
            "Epoch: 24/60... Step: 210... Loss: -10.711756... Val Loss: -13.178616\n",
            "Epoch: 24/60... Step: 215... Loss: -12.214323... Val Loss: -11.354732\n",
            "Epoch: 25/60... Step: 220... Loss: -13.264427... Val Loss: -12.353612\n",
            "Epoch: 25/60... Step: 225... Loss: -16.814812... Val Loss: -12.940600\n",
            "Epoch: 26/60... Step: 230... Loss: -14.797036... Val Loss: -12.237094\n",
            "Epoch: 27/60... Step: 235... Loss: -15.487478... Val Loss: -12.549528\n",
            "Epoch: 27/60... Step: 240... Loss: -12.612279... Val Loss: -12.345189\n",
            "Epoch: 28/60... Step: 245... Loss: -12.110694... Val Loss: -12.343838\n",
            "Epoch: 28/60... Step: 250... Loss: -16.023283... Val Loss: -13.001872\n",
            "Epoch: 29/60... Step: 255... Loss: -11.454335... Val Loss: -12.749308\n",
            "Epoch: 29/60... Step: 260... Loss: -16.949389... Val Loss: -12.906898\n",
            "Epoch: 30/60... Step: 265... Loss: -13.574937... Val Loss: -13.282104\n",
            "Epoch: 30/60... Step: 270... Loss: -9.828671... Val Loss: -12.046630\n",
            "Epoch: 31/60... Step: 275... Loss: -16.609524... Val Loss: -12.814731\n",
            "Epoch: 32/60... Step: 280... Loss: -13.499441... Val Loss: -13.002748\n",
            "Epoch: 32/60... Step: 285... Loss: -13.296638... Val Loss: -13.206858\n",
            "Epoch: 33/60... Step: 290... Loss: -14.765765... Val Loss: -13.222264\n",
            "Epoch: 33/60... Step: 295... Loss: -16.435398... Val Loss: -13.129086\n",
            "Epoch: 34/60... Step: 300... Loss: -13.670566... Val Loss: -12.655412\n",
            "Epoch: 34/60... Step: 305... Loss: -11.216451... Val Loss: -13.785548\n",
            "Epoch: 35/60... Step: 310... Loss: -13.344678... Val Loss: -13.011743\n",
            "Epoch: 35/60... Step: 315... Loss: -14.676930... Val Loss: -12.828417\n",
            "Epoch: 36/60... Step: 320... Loss: -15.677078... Val Loss: -13.406458\n",
            "Epoch: 37/60... Step: 325... Loss: -18.655432... Val Loss: -13.154989\n",
            "Epoch: 37/60... Step: 330... Loss: -15.207081... Val Loss: -12.655869\n",
            "Epoch: 38/60... Step: 335... Loss: -15.797995... Val Loss: -14.064436\n",
            "Epoch: 38/60... Step: 340... Loss: -14.288942... Val Loss: -14.413531\n",
            "Epoch: 39/60... Step: 345... Loss: -10.129277... Val Loss: -12.872273\n",
            "Epoch: 39/60... Step: 350... Loss: -13.467806... Val Loss: -11.570394\n",
            "Epoch: 40/60... Step: 355... Loss: -12.568313... Val Loss: -12.547717\n",
            "Epoch: 40/60... Step: 360... Loss: -12.560420... Val Loss: -12.655243\n",
            "Epoch: 41/60... Step: 365... Loss: -13.692441... Val Loss: -13.338733\n",
            "Epoch: 42/60... Step: 370... Loss: -12.931070... Val Loss: -12.128881\n",
            "Epoch: 42/60... Step: 375... Loss: -12.985001... Val Loss: -12.257020\n",
            "Epoch: 43/60... Step: 380... Loss: -14.236812... Val Loss: -14.072405\n",
            "Epoch: 43/60... Step: 385... Loss: -13.932561... Val Loss: -14.071010\n",
            "Epoch: 44/60... Step: 390... Loss: -11.747016... Val Loss: -14.191928\n",
            "Epoch: 44/60... Step: 395... Loss: -13.713348... Val Loss: -13.082595\n",
            "Epoch: 45/60... Step: 400... Loss: -15.712226... Val Loss: -12.888287\n",
            "Epoch: 45/60... Step: 405... Loss: -12.340240... Val Loss: -12.726917\n",
            "Epoch: 46/60... Step: 410... Loss: -14.055252... Val Loss: -12.973273\n",
            "Epoch: 47/60... Step: 415... Loss: -12.414756... Val Loss: -12.102695\n",
            "Epoch: 47/60... Step: 420... Loss: -13.703399... Val Loss: -13.138724\n",
            "Epoch: 48/60... Step: 425... Loss: -14.788682... Val Loss: -13.222789\n",
            "Epoch: 48/60... Step: 430... Loss: -15.174317... Val Loss: -13.418536\n",
            "Epoch: 49/60... Step: 435... Loss: -18.251415... Val Loss: -13.142809\n",
            "Epoch: 49/60... Step: 440... Loss: -12.581143... Val Loss: -12.292551\n",
            "Epoch: 50/60... Step: 445... Loss: -12.486501... Val Loss: -13.274098\n",
            "Epoch: 50/60... Step: 450... Loss: -14.101217... Val Loss: -13.613701\n",
            "Epoch: 51/60... Step: 455... Loss: -13.363376... Val Loss: -11.508816\n",
            "Epoch: 52/60... Step: 460... Loss: -13.172587... Val Loss: -11.906959\n",
            "Epoch: 52/60... Step: 465... Loss: -14.837674... Val Loss: -13.243926\n",
            "Epoch: 53/60... Step: 470... Loss: -14.134302... Val Loss: -12.185743\n",
            "Epoch: 53/60... Step: 475... Loss: -15.718197... Val Loss: -14.531808\n",
            "Epoch: 54/60... Step: 480... Loss: -14.508136... Val Loss: -13.199796\n",
            "Epoch: 54/60... Step: 485... Loss: -12.584770... Val Loss: -14.107938\n",
            "Epoch: 55/60... Step: 490... Loss: -17.646616... Val Loss: -13.159255\n",
            "Epoch: 55/60... Step: 495... Loss: -18.090199... Val Loss: -11.456166\n",
            "Epoch: 56/60... Step: 500... Loss: -11.122702... Val Loss: -12.811909\n",
            "Epoch: 57/60... Step: 505... Loss: -14.617512... Val Loss: -13.401761\n",
            "Epoch: 57/60... Step: 510... Loss: -12.696361... Val Loss: -13.112976\n",
            "Epoch: 58/60... Step: 515... Loss: -11.139067... Val Loss: -12.834832\n",
            "Epoch: 58/60... Step: 520... Loss: -15.022020... Val Loss: -13.095510\n",
            "Epoch: 59/60... Step: 525... Loss: -13.959507... Val Loss: -14.124768\n",
            "Epoch: 59/60... Step: 530... Loss: -14.492210... Val Loss: -14.578962\n",
            "Epoch: 60/60... Step: 535... Loss: -13.888417... Val Loss: -13.545152\n",
            "Epoch: 60/60... Step: 540... Loss: -12.424664... Val Loss: -11.792910\n"
          ],
          "name": "stdout"
        }
      ]
    },
    {
      "cell_type": "code",
      "metadata": {
        "id": "VPXeVboOOahD",
        "colab": {
          "base_uri": "https://localhost:8080/"
        },
        "outputId": "2b153799-467a-4fe2-b444-f6d196687813"
      },
      "source": [
        "model_LSTM_bce = LSTM(input_size=input_size, output_size=output_size, hidden_dim=hidden_dim, n_layers=n_layers)\n",
        "#model_LSTM_bce = GRU(input_size=input_size, output_size=output_size, hidden_dim=hidden_dim, n_layers=n_layers)\n",
        "bce_loss_function = torch.nn.BCELoss()\n",
        "model_LSTM_bce.to(device)"
      ],
      "execution_count": null,
      "outputs": [
        {
          "output_type": "execute_result",
          "data": {
            "text/plain": [
              "LSTM(\n",
              "  (lstm): LSTM(784, 100, num_layers=2, batch_first=True, dropout=0.5)\n",
              "  (dropout): Dropout(p=0.5, inplace=False)\n",
              "  (linear_1): Linear(in_features=100, out_features=50, bias=True)\n",
              "  (linear_2): Linear(in_features=50, out_features=1, bias=True)\n",
              "  (activation): Sigmoid()\n",
              "  (relu): ReLU()\n",
              ")"
            ]
          },
          "metadata": {
            "tags": []
          },
          "execution_count": 33
        }
      ]
    },
    {
      "cell_type": "code",
      "metadata": {
        "id": "zVLcHU5mOahK",
        "colab": {
          "base_uri": "https://localhost:8080/"
        },
        "outputId": "2dea1c8d-8391-417f-9086-8f876fd5b6c4"
      },
      "source": [
        "model_LSTM_bce, (bce_loss_list, bce_acc_list, bce_overall_val_loss_list) = train_model(model_LSTM_bce, bce_loss_function, \n",
        "                                                                                       60, 5, LSTM_flag=True)"
      ],
      "execution_count": null,
      "outputs": [
        {
          "output_type": "stream",
          "text": [
            "Epoch: 1/60... Step: 5... Loss: 0.612172... Val Loss: 0.579517\n",
            "Epoch: 2/60... Step: 10... Loss: 0.447224... Val Loss: 0.397082\n",
            "Epoch: 2/60... Step: 15... Loss: 0.334848... Val Loss: 0.292605\n",
            "Epoch: 3/60... Step: 20... Loss: 0.212554... Val Loss: 0.218764\n",
            "Epoch: 3/60... Step: 25... Loss: 0.188922... Val Loss: 0.144260\n",
            "Epoch: 4/60... Step: 30... Loss: 0.098440... Val Loss: 0.098457\n",
            "Epoch: 4/60... Step: 35... Loss: 0.068474... Val Loss: 0.070260\n",
            "Epoch: 5/60... Step: 40... Loss: 0.054711... Val Loss: 0.066401\n",
            "Epoch: 5/60... Step: 45... Loss: 0.091744... Val Loss: 0.063797\n",
            "Epoch: 6/60... Step: 50... Loss: 0.091778... Val Loss: 0.077867\n",
            "Epoch: 7/60... Step: 55... Loss: 0.057114... Val Loss: 0.068732\n",
            "Epoch: 7/60... Step: 60... Loss: 0.043732... Val Loss: 0.061569\n",
            "Epoch: 8/60... Step: 65... Loss: 0.042297... Val Loss: 0.048591\n",
            "Epoch: 8/60... Step: 70... Loss: 0.057147... Val Loss: 0.051621\n",
            "Epoch: 9/60... Step: 75... Loss: 0.031747... Val Loss: 0.044556\n",
            "Epoch: 9/60... Step: 80... Loss: 0.031446... Val Loss: 0.045452\n",
            "Epoch: 10/60... Step: 85... Loss: 0.040638... Val Loss: 0.044277\n",
            "Epoch: 10/60... Step: 90... Loss: 0.039704... Val Loss: 0.037425\n",
            "Epoch: 11/60... Step: 95... Loss: 0.040665... Val Loss: 0.054085\n",
            "Epoch: 12/60... Step: 100... Loss: 0.036415... Val Loss: 0.052103\n",
            "Epoch: 12/60... Step: 105... Loss: 0.026768... Val Loss: 0.052416\n",
            "Epoch: 13/60... Step: 110... Loss: 0.022747... Val Loss: 0.049516\n",
            "Epoch: 13/60... Step: 115... Loss: 0.023973... Val Loss: 0.045433\n",
            "Epoch: 14/60... Step: 120... Loss: 0.030124... Val Loss: 0.042536\n",
            "Epoch: 14/60... Step: 125... Loss: 0.019245... Val Loss: 0.053266\n",
            "Epoch: 15/60... Step: 130... Loss: 0.024272... Val Loss: 0.038406\n",
            "Epoch: 15/60... Step: 135... Loss: 0.018165... Val Loss: 0.058020\n",
            "Epoch: 16/60... Step: 140... Loss: 0.018180... Val Loss: 0.064359\n",
            "Epoch: 17/60... Step: 145... Loss: 0.014324... Val Loss: 0.038252\n",
            "Epoch: 17/60... Step: 150... Loss: 0.017906... Val Loss: 0.050937\n",
            "Epoch: 18/60... Step: 155... Loss: 0.016050... Val Loss: 0.062024\n",
            "Epoch: 18/60... Step: 160... Loss: 0.015111... Val Loss: 0.059434\n",
            "Epoch: 19/60... Step: 165... Loss: 0.019298... Val Loss: 0.061073\n",
            "Epoch: 19/60... Step: 170... Loss: 0.017750... Val Loss: 0.061535\n",
            "Epoch: 20/60... Step: 175... Loss: 0.014824... Val Loss: 0.059383\n",
            "Epoch: 20/60... Step: 180... Loss: 0.018861... Val Loss: 0.063550\n",
            "Epoch: 21/60... Step: 185... Loss: 0.020622... Val Loss: 0.062494\n",
            "Epoch: 22/60... Step: 190... Loss: 0.017013... Val Loss: 0.057915\n",
            "Epoch: 22/60... Step: 195... Loss: 0.016021... Val Loss: 0.061972\n",
            "Epoch: 23/60... Step: 200... Loss: 0.011851... Val Loss: 0.066203\n",
            "Epoch: 23/60... Step: 205... Loss: 0.015404... Val Loss: 0.061497\n",
            "Epoch: 24/60... Step: 210... Loss: 0.016280... Val Loss: 0.067730\n",
            "Epoch: 24/60... Step: 215... Loss: 0.015001... Val Loss: 0.067358\n",
            "Epoch: 25/60... Step: 220... Loss: 0.014644... Val Loss: 0.040191\n",
            "Epoch: 25/60... Step: 225... Loss: 0.017106... Val Loss: 0.059971\n",
            "Epoch: 26/60... Step: 230... Loss: 0.017113... Val Loss: 0.058302\n",
            "Epoch: 27/60... Step: 235... Loss: 0.012856... Val Loss: 0.036527\n",
            "Epoch: 27/60... Step: 240... Loss: 0.011302... Val Loss: 0.059286\n",
            "Epoch: 28/60... Step: 245... Loss: 0.009203... Val Loss: 0.059289\n",
            "Epoch: 28/60... Step: 250... Loss: 0.013936... Val Loss: 0.062921\n",
            "Epoch: 29/60... Step: 255... Loss: 0.016860... Val Loss: 0.065380\n",
            "Epoch: 29/60... Step: 260... Loss: 0.009426... Val Loss: 0.068289\n",
            "Epoch: 30/60... Step: 265... Loss: 0.008898... Val Loss: 0.060939\n",
            "Epoch: 30/60... Step: 270... Loss: 0.010960... Val Loss: 0.058007\n",
            "Epoch: 31/60... Step: 275... Loss: 0.006971... Val Loss: 0.036484\n",
            "Epoch: 32/60... Step: 280... Loss: 0.014886... Val Loss: 0.060600\n",
            "Epoch: 32/60... Step: 285... Loss: 0.010792... Val Loss: 0.063857\n",
            "Epoch: 33/60... Step: 290... Loss: 0.008361... Val Loss: 0.063753\n",
            "Epoch: 33/60... Step: 295... Loss: 0.012595... Val Loss: 0.067230\n",
            "Epoch: 34/60... Step: 300... Loss: 0.008026... Val Loss: 0.078710\n",
            "Epoch: 34/60... Step: 305... Loss: 0.011540... Val Loss: 0.063589\n",
            "Epoch: 35/60... Step: 310... Loss: 0.012450... Val Loss: 0.060195\n",
            "Epoch: 35/60... Step: 315... Loss: 0.015149... Val Loss: 0.054791\n",
            "Epoch: 36/60... Step: 320... Loss: 0.010515... Val Loss: 0.058084\n",
            "Epoch: 37/60... Step: 325... Loss: 0.011161... Val Loss: 0.063570\n",
            "Epoch: 37/60... Step: 330... Loss: 0.007650... Val Loss: 0.064358\n",
            "Epoch: 38/60... Step: 335... Loss: 0.008839... Val Loss: 0.071167\n",
            "Epoch: 38/60... Step: 340... Loss: 0.005397... Val Loss: 0.068929\n",
            "Epoch: 39/60... Step: 345... Loss: 0.005212... Val Loss: 0.067707\n",
            "Epoch: 39/60... Step: 350... Loss: 0.006874... Val Loss: 0.065209\n",
            "Epoch: 40/60... Step: 355... Loss: 0.020081... Val Loss: 0.068250\n",
            "Epoch: 40/60... Step: 360... Loss: 0.008495... Val Loss: 0.081085\n",
            "Epoch: 41/60... Step: 365... Loss: 0.013365... Val Loss: 0.065003\n",
            "Epoch: 42/60... Step: 370... Loss: 0.016325... Val Loss: 0.068881\n",
            "Epoch: 42/60... Step: 375... Loss: 0.009552... Val Loss: 0.063529\n",
            "Epoch: 43/60... Step: 380... Loss: 0.013017... Val Loss: 0.064344\n",
            "Epoch: 43/60... Step: 385... Loss: 0.010334... Val Loss: 0.062762\n",
            "Epoch: 44/60... Step: 390... Loss: 0.009587... Val Loss: 0.062505\n",
            "Epoch: 44/60... Step: 395... Loss: 0.007850... Val Loss: 0.063218\n",
            "Epoch: 45/60... Step: 400... Loss: 0.008111... Val Loss: 0.074324\n",
            "Epoch: 45/60... Step: 405... Loss: 0.007211... Val Loss: 0.066465\n",
            "Epoch: 46/60... Step: 410... Loss: 0.009445... Val Loss: 0.073207\n",
            "Epoch: 47/60... Step: 415... Loss: 0.005909... Val Loss: 0.043661\n",
            "Epoch: 47/60... Step: 420... Loss: 0.011925... Val Loss: 0.069319\n",
            "Epoch: 48/60... Step: 425... Loss: 0.004269... Val Loss: 0.068324\n",
            "Epoch: 48/60... Step: 430... Loss: 0.009792... Val Loss: 0.077413\n",
            "Epoch: 49/60... Step: 435... Loss: 0.011020... Val Loss: 0.073057\n",
            "Epoch: 49/60... Step: 440... Loss: 0.005590... Val Loss: 0.074468\n",
            "Epoch: 50/60... Step: 445... Loss: 0.008913... Val Loss: 0.071861\n",
            "Epoch: 50/60... Step: 450... Loss: 0.006024... Val Loss: 0.078750\n",
            "Epoch: 51/60... Step: 455... Loss: 0.004500... Val Loss: 0.083711\n",
            "Epoch: 52/60... Step: 460... Loss: 0.005699... Val Loss: 0.086922\n",
            "Epoch: 52/60... Step: 465... Loss: 0.009271... Val Loss: 0.077871\n",
            "Epoch: 53/60... Step: 470... Loss: 0.006131... Val Loss: 0.081929\n",
            "Epoch: 53/60... Step: 475... Loss: 0.006197... Val Loss: 0.082174\n",
            "Epoch: 54/60... Step: 480... Loss: 0.004521... Val Loss: 0.082757\n",
            "Epoch: 54/60... Step: 485... Loss: 0.003759... Val Loss: 0.085483\n",
            "Epoch: 55/60... Step: 490... Loss: 0.004815... Val Loss: 0.092795\n",
            "Epoch: 55/60... Step: 495... Loss: 0.005633... Val Loss: 0.086715\n",
            "Epoch: 56/60... Step: 500... Loss: 0.004411... Val Loss: 0.083530\n",
            "Epoch: 57/60... Step: 505... Loss: 0.003319... Val Loss: 0.093662\n",
            "Epoch: 57/60... Step: 510... Loss: 0.011594... Val Loss: 0.078654\n",
            "Epoch: 58/60... Step: 515... Loss: 0.005507... Val Loss: 0.077446\n",
            "Epoch: 58/60... Step: 520... Loss: 0.004025... Val Loss: 0.096044\n",
            "Epoch: 59/60... Step: 525... Loss: 0.005334... Val Loss: 0.074364\n",
            "Epoch: 59/60... Step: 530... Loss: 0.007282... Val Loss: 0.084043\n",
            "Epoch: 60/60... Step: 535... Loss: 0.006195... Val Loss: 0.071652\n",
            "Epoch: 60/60... Step: 540... Loss: 0.005888... Val Loss: 0.072959\n"
          ],
          "name": "stdout"
        }
      ]
    },
    {
      "cell_type": "code",
      "metadata": {
        "id": "nmESyoviOahQ",
        "colab": {
          "base_uri": "https://localhost:8080/"
        },
        "outputId": "a7631b63-a980-4fcf-8068-508eb711eed8"
      },
      "source": [
        "model_LSTM_combined = LSTM(input_size=input_size, output_size=output_size, hidden_dim=hidden_dim, n_layers=n_layers)\n",
        "#model_LSTM_combined = GRU(input_size=input_size, output_size=output_size, hidden_dim=hidden_dim, n_layers=n_layers)\n",
        "first_bce_loss_function = torch.nn.BCELoss()\n",
        "second_custom_loss_function = CustomLoss()\n",
        "model_LSTM_combined.to(device)"
      ],
      "execution_count": null,
      "outputs": [
        {
          "output_type": "execute_result",
          "data": {
            "text/plain": [
              "LSTM(\n",
              "  (lstm): LSTM(784, 100, num_layers=2, batch_first=True, dropout=0.5)\n",
              "  (dropout): Dropout(p=0.5, inplace=False)\n",
              "  (linear_1): Linear(in_features=100, out_features=50, bias=True)\n",
              "  (linear_2): Linear(in_features=50, out_features=1, bias=True)\n",
              "  (activation): Sigmoid()\n",
              "  (relu): ReLU()\n",
              ")"
            ]
          },
          "metadata": {
            "tags": []
          },
          "execution_count": 35
        }
      ]
    },
    {
      "cell_type": "code",
      "metadata": {
        "id": "ErnAhhvHOahe",
        "colab": {
          "base_uri": "https://localhost:8080/"
        },
        "outputId": "41a6e258-f4da-45af-db47-9d972003b8e7"
      },
      "source": [
        "model_LSTM_combined, _ = train_model(model_LSTM_combined, first_bce_loss_function, 30, 5, \n",
        "                                    LSTM_flag=True)"
      ],
      "execution_count": null,
      "outputs": [
        {
          "output_type": "stream",
          "text": [
            "Epoch: 1/30... Step: 5... Loss: 0.644666... Val Loss: 0.588138\n",
            "Epoch: 2/30... Step: 10... Loss: 0.399054... Val Loss: 0.410709\n",
            "Epoch: 2/30... Step: 15... Loss: 0.327616... Val Loss: 0.322693\n",
            "Epoch: 3/30... Step: 20... Loss: 0.284015... Val Loss: 0.255761\n",
            "Epoch: 3/30... Step: 25... Loss: 0.178105... Val Loss: 0.189840\n",
            "Epoch: 4/30... Step: 30... Loss: 0.147095... Val Loss: 0.133378\n",
            "Epoch: 4/30... Step: 35... Loss: 0.129280... Val Loss: 0.090376\n",
            "Epoch: 5/30... Step: 40... Loss: 0.070719... Val Loss: 0.071381\n",
            "Epoch: 5/30... Step: 45... Loss: 0.057137... Val Loss: 0.061920\n",
            "Epoch: 6/30... Step: 50... Loss: 0.055655... Val Loss: 0.062772\n",
            "Epoch: 7/30... Step: 55... Loss: 0.061118... Val Loss: 0.055785\n",
            "Epoch: 7/30... Step: 60... Loss: 0.046183... Val Loss: 0.068904\n",
            "Epoch: 8/30... Step: 65... Loss: 0.031982... Val Loss: 0.052495\n",
            "Epoch: 8/30... Step: 70... Loss: 0.045698... Val Loss: 0.047289\n",
            "Epoch: 9/30... Step: 75... Loss: 0.035000... Val Loss: 0.048779\n",
            "Epoch: 9/30... Step: 80... Loss: 0.037383... Val Loss: 0.050754\n",
            "Epoch: 10/30... Step: 85... Loss: 0.036250... Val Loss: 0.055197\n",
            "Epoch: 10/30... Step: 90... Loss: 0.035202... Val Loss: 0.052579\n",
            "Epoch: 11/30... Step: 95... Loss: 0.033794... Val Loss: 0.053041\n",
            "Epoch: 12/30... Step: 100... Loss: 0.027686... Val Loss: 0.055642\n",
            "Epoch: 12/30... Step: 105... Loss: 0.023111... Val Loss: 0.054689\n",
            "Epoch: 13/30... Step: 110... Loss: 0.020535... Val Loss: 0.056898\n",
            "Epoch: 13/30... Step: 115... Loss: 0.025945... Val Loss: 0.054423\n",
            "Epoch: 14/30... Step: 120... Loss: 0.018103... Val Loss: 0.053125\n",
            "Epoch: 14/30... Step: 125... Loss: 0.018189... Val Loss: 0.055893\n",
            "Epoch: 15/30... Step: 130... Loss: 0.015277... Val Loss: 0.059105\n",
            "Epoch: 15/30... Step: 135... Loss: 0.018565... Val Loss: 0.054424\n",
            "Epoch: 16/30... Step: 140... Loss: 0.019849... Val Loss: 0.056773\n",
            "Epoch: 17/30... Step: 145... Loss: 0.016471... Val Loss: 0.052423\n",
            "Epoch: 17/30... Step: 150... Loss: 0.026225... Val Loss: 0.050183\n",
            "Epoch: 18/30... Step: 155... Loss: 0.015745... Val Loss: 0.057412\n",
            "Epoch: 18/30... Step: 160... Loss: 0.018311... Val Loss: 0.060741\n",
            "Epoch: 19/30... Step: 165... Loss: 0.018485... Val Loss: 0.068065\n",
            "Epoch: 19/30... Step: 170... Loss: 0.015913... Val Loss: 0.059273\n",
            "Epoch: 20/30... Step: 175... Loss: 0.022471... Val Loss: 0.052100\n",
            "Epoch: 20/30... Step: 180... Loss: 0.013424... Val Loss: 0.059265\n",
            "Epoch: 21/30... Step: 185... Loss: 0.014767... Val Loss: 0.056123\n",
            "Epoch: 22/30... Step: 190... Loss: 0.017338... Val Loss: 0.056365\n",
            "Epoch: 22/30... Step: 195... Loss: 0.018928... Val Loss: 0.058875\n",
            "Epoch: 23/30... Step: 200... Loss: 0.011010... Val Loss: 0.061145\n",
            "Epoch: 23/30... Step: 205... Loss: 0.016812... Val Loss: 0.066073\n",
            "Epoch: 24/30... Step: 210... Loss: 0.013640... Val Loss: 0.059804\n",
            "Epoch: 24/30... Step: 215... Loss: 0.018201... Val Loss: 0.062563\n",
            "Epoch: 25/30... Step: 220... Loss: 0.015909... Val Loss: 0.063514\n",
            "Epoch: 25/30... Step: 225... Loss: 0.008883... Val Loss: 0.060898\n",
            "Epoch: 26/30... Step: 230... Loss: 0.009191... Val Loss: 0.063931\n",
            "Epoch: 27/30... Step: 235... Loss: 0.008715... Val Loss: 0.067749\n",
            "Epoch: 27/30... Step: 240... Loss: 0.013613... Val Loss: 0.061642\n",
            "Epoch: 28/30... Step: 245... Loss: 0.014994... Val Loss: 0.059418\n",
            "Epoch: 28/30... Step: 250... Loss: 0.010212... Val Loss: 0.067843\n",
            "Epoch: 29/30... Step: 255... Loss: 0.010779... Val Loss: 0.054804\n",
            "Epoch: 29/30... Step: 260... Loss: 0.016889... Val Loss: 0.057872\n",
            "Epoch: 30/30... Step: 265... Loss: 0.015392... Val Loss: 0.060555\n",
            "Epoch: 30/30... Step: 270... Loss: 0.010627... Val Loss: 0.062833\n"
          ],
          "name": "stdout"
        }
      ]
    },
    {
      "cell_type": "code",
      "metadata": {
        "id": "vnhLFyfEOah0",
        "colab": {
          "base_uri": "https://localhost:8080/"
        },
        "outputId": "073733c5-7fd6-4cbe-c24c-4326db61d45f"
      },
      "source": [
        "model_LSTM_combined, __ = train_model(model_LSTM_combined, second_custom_loss_function, 30, 5, \n",
        "                                      LSTM_flag=True)"
      ],
      "execution_count": null,
      "outputs": [
        {
          "output_type": "stream",
          "text": [
            "Epoch: 1/30... Step: 5... Loss: -4.222267... Val Loss: -4.448358\n",
            "Epoch: 2/30... Step: 10... Loss: -7.291567... Val Loss: -7.594781\n",
            "Epoch: 2/30... Step: 15... Loss: -7.992828... Val Loss: -8.392918\n",
            "Epoch: 3/30... Step: 20... Loss: -9.874153... Val Loss: -7.764109\n",
            "Epoch: 3/30... Step: 25... Loss: -10.758307... Val Loss: -9.332395\n",
            "Epoch: 4/30... Step: 30... Loss: -11.129347... Val Loss: -7.762897\n",
            "Epoch: 4/30... Step: 35... Loss: -10.501730... Val Loss: -10.457665\n",
            "Epoch: 5/30... Step: 40... Loss: -9.929295... Val Loss: -10.061934\n",
            "Epoch: 5/30... Step: 45... Loss: -10.362081... Val Loss: -11.231924\n",
            "Epoch: 6/30... Step: 50... Loss: -8.531548... Val Loss: -11.751537\n",
            "Epoch: 7/30... Step: 55... Loss: -10.974071... Val Loss: -10.649759\n",
            "Epoch: 7/30... Step: 60... Loss: -11.831126... Val Loss: -10.166826\n",
            "Epoch: 8/30... Step: 65... Loss: -7.264599... Val Loss: -10.506695\n",
            "Epoch: 8/30... Step: 70... Loss: -14.333408... Val Loss: -10.983690\n",
            "Epoch: 9/30... Step: 75... Loss: -10.553041... Val Loss: -11.645341\n",
            "Epoch: 9/30... Step: 80... Loss: -13.881646... Val Loss: -9.815032\n",
            "Epoch: 10/30... Step: 85... Loss: -11.140425... Val Loss: -11.531364\n",
            "Epoch: 10/30... Step: 90... Loss: -14.331296... Val Loss: -10.612541\n",
            "Epoch: 11/30... Step: 95... Loss: -13.772819... Val Loss: -12.694002\n",
            "Epoch: 12/30... Step: 100... Loss: -11.338523... Val Loss: -9.969917\n",
            "Epoch: 12/30... Step: 105... Loss: -12.513200... Val Loss: -7.697025\n",
            "Epoch: 13/30... Step: 110... Loss: -10.716287... Val Loss: -12.414016\n",
            "Epoch: 13/30... Step: 115... Loss: -11.567565... Val Loss: -7.823854\n",
            "Epoch: 14/30... Step: 120... Loss: -9.976936... Val Loss: -11.915984\n",
            "Epoch: 14/30... Step: 125... Loss: -12.099107... Val Loss: -10.138797\n",
            "Epoch: 15/30... Step: 130... Loss: -12.250170... Val Loss: -11.508683\n",
            "Epoch: 15/30... Step: 135... Loss: -13.217037... Val Loss: -11.011977\n",
            "Epoch: 16/30... Step: 140... Loss: -12.271306... Val Loss: -9.162141\n",
            "Epoch: 17/30... Step: 145... Loss: -10.530088... Val Loss: -10.871228\n",
            "Epoch: 17/30... Step: 150... Loss: -8.347013... Val Loss: -11.830168\n",
            "Epoch: 18/30... Step: 155... Loss: -14.045181... Val Loss: -12.584072\n",
            "Epoch: 18/30... Step: 160... Loss: -12.330117... Val Loss: -11.528988\n",
            "Epoch: 19/30... Step: 165... Loss: -13.198932... Val Loss: -10.786127\n",
            "Epoch: 19/30... Step: 170... Loss: -12.616377... Val Loss: -9.004943\n",
            "Epoch: 20/30... Step: 175... Loss: -12.646880... Val Loss: -12.191517\n",
            "Epoch: 20/30... Step: 180... Loss: -14.103552... Val Loss: -12.978873\n",
            "Epoch: 21/30... Step: 185... Loss: -17.184778... Val Loss: -10.038521\n",
            "Epoch: 22/30... Step: 190... Loss: -11.533166... Val Loss: -12.187041\n",
            "Epoch: 22/30... Step: 195... Loss: -12.784569... Val Loss: -12.480922\n",
            "Epoch: 23/30... Step: 200... Loss: -12.995572... Val Loss: -7.615693\n",
            "Epoch: 23/30... Step: 205... Loss: -13.261868... Val Loss: -12.434653\n",
            "Epoch: 24/30... Step: 210... Loss: -12.665669... Val Loss: -13.197434\n",
            "Epoch: 24/30... Step: 215... Loss: -6.869615... Val Loss: -9.324421\n",
            "Epoch: 25/30... Step: 220... Loss: -12.660092... Val Loss: -12.149570\n",
            "Epoch: 25/30... Step: 225... Loss: -16.751869... Val Loss: -11.583966\n",
            "Epoch: 26/30... Step: 230... Loss: -16.356760... Val Loss: -11.243446\n",
            "Epoch: 27/30... Step: 235... Loss: -16.350222... Val Loss: -13.206465\n",
            "Epoch: 27/30... Step: 240... Loss: -11.143408... Val Loss: -12.445527\n",
            "Epoch: 28/30... Step: 245... Loss: -12.760019... Val Loss: -12.193223\n",
            "Epoch: 28/30... Step: 250... Loss: -15.835365... Val Loss: -10.714683\n",
            "Epoch: 29/30... Step: 255... Loss: -16.906096... Val Loss: -10.494170\n",
            "Epoch: 29/30... Step: 260... Loss: -16.395418... Val Loss: -11.385754\n",
            "Epoch: 30/30... Step: 265... Loss: -13.484752... Val Loss: -12.753340\n",
            "Epoch: 30/30... Step: 270... Loss: -15.027786... Val Loss: -11.047077\n"
          ],
          "name": "stdout"
        }
      ]
    },
    {
      "cell_type": "markdown",
      "metadata": {
        "id": "ghzIMgd0Oah6"
      },
      "source": [
        "## FNN Models"
      ]
    },
    {
      "cell_type": "code",
      "metadata": {
        "id": "ctmsJ78WOah7"
      },
      "source": [
        "class FNN(nn.Module):\n",
        "    def __init__(self, input_size, hidden_dim, output_size, drop_prob=0.5):\n",
        "        super(FNN, self).__init__()\n",
        "        # Linear function as in LSTM model\n",
        "\n",
        "        self.linear_1 = nn.Linear(input_size, hidden_dim) \n",
        "        self.linear_2 = nn.Linear(hidden_dim, hidden_dim//2) \n",
        "        self.linear_3 = nn.Linear(hidden_dim//2, 1)  \n",
        "        self.dropout = nn.Dropout(drop_prob)\n",
        "        self.relu = nn.ReLU()\n",
        "        self.activation = nn.Sigmoid()\n",
        "\n",
        "\n",
        "    def forward(self, input_seq):\n",
        "        batch_size = input_seq.size(0)\n",
        "        out = self.linear_1(input_seq)\n",
        "        out = self.dropout(out)\n",
        "        out = self.relu(out)\n",
        "        out = self.linear_2(out)\n",
        "        out = self.dropout(out)\n",
        "        out = self.relu(out)\n",
        "        out = self.linear_3(out)\n",
        "        out = self.activation(out)\n",
        "        out = out.view(batch_size, -1)\n",
        "        return out"
      ],
      "execution_count": null,
      "outputs": []
    },
    {
      "cell_type": "code",
      "metadata": {
        "id": "c5iOLD0POaiD",
        "colab": {
          "base_uri": "https://localhost:8080/"
        },
        "outputId": "0758e88a-6700-43e8-be33-4b5f2d8f3045"
      },
      "source": [
        "model_FNN_custom = FNN(input_size=input_size, hidden_dim=hidden_dim, output_size=output_size)\n",
        "loss_function = CustomLoss()\n",
        "model_FNN_custom.to(device)"
      ],
      "execution_count": null,
      "outputs": [
        {
          "output_type": "execute_result",
          "data": {
            "text/plain": [
              "FNN(\n",
              "  (linear_1): Linear(in_features=784, out_features=100, bias=True)\n",
              "  (linear_2): Linear(in_features=100, out_features=50, bias=True)\n",
              "  (linear_3): Linear(in_features=50, out_features=1, bias=True)\n",
              "  (dropout): Dropout(p=0.5, inplace=False)\n",
              "  (relu): ReLU()\n",
              "  (activation): Sigmoid()\n",
              ")"
            ]
          },
          "metadata": {
            "tags": []
          },
          "execution_count": 39
        }
      ]
    },
    {
      "cell_type": "code",
      "metadata": {
        "id": "t4W0TRBqOaiM",
        "colab": {
          "base_uri": "https://localhost:8080/"
        },
        "outputId": "a213b78b-b728-4996-ec4a-7c2fcb107e3c"
      },
      "source": [
        "model_FNN_custom, (loss_list, acc_list, overall_val_loss_list) = train_model(model_FNN_custom, loss_function, \n",
        "                                                                             20, 5, LSTM_flag=False)"
      ],
      "execution_count": null,
      "outputs": [
        {
          "output_type": "stream",
          "text": [
            "Epoch: 1/20... Step: 5... Loss: -2.699138... Val Loss: -2.502553\n",
            "Epoch: 2/20... Step: 10... Loss: -3.244850... Val Loss: -3.681437\n",
            "Epoch: 2/20... Step: 15... Loss: -4.721488... Val Loss: -4.858209\n",
            "Epoch: 3/20... Step: 20... Loss: -5.569246... Val Loss: -5.882034\n",
            "Epoch: 3/20... Step: 25... Loss: -6.938100... Val Loss: -5.449242\n",
            "Epoch: 4/20... Step: 30... Loss: -6.864754... Val Loss: -5.855878\n",
            "Epoch: 4/20... Step: 35... Loss: -7.058817... Val Loss: -6.328539\n",
            "Epoch: 5/20... Step: 40... Loss: -5.399346... Val Loss: -6.156223\n",
            "Epoch: 5/20... Step: 45... Loss: -6.619709... Val Loss: -5.869389\n",
            "Epoch: 6/20... Step: 50... Loss: -6.052639... Val Loss: -5.890896\n",
            "Epoch: 7/20... Step: 55... Loss: -7.342331... Val Loss: -5.386422\n",
            "Epoch: 7/20... Step: 60... Loss: -6.446607... Val Loss: -5.943195\n",
            "Epoch: 8/20... Step: 65... Loss: -5.637675... Val Loss: -6.472022\n",
            "Epoch: 8/20... Step: 70... Loss: -7.417307... Val Loss: -5.401038\n",
            "Epoch: 9/20... Step: 75... Loss: -7.255973... Val Loss: -4.879313\n",
            "Epoch: 9/20... Step: 80... Loss: -8.379719... Val Loss: -5.857194\n",
            "Epoch: 10/20... Step: 85... Loss: -5.688157... Val Loss: -5.370986\n",
            "Epoch: 10/20... Step: 90... Loss: -7.715361... Val Loss: -5.753685\n",
            "Epoch: 11/20... Step: 95... Loss: -6.747895... Val Loss: -5.744836\n",
            "Epoch: 12/20... Step: 100... Loss: -5.285882... Val Loss: -4.403636\n",
            "Epoch: 12/20... Step: 105... Loss: -7.690321... Val Loss: -5.606524\n",
            "Epoch: 13/20... Step: 110... Loss: -6.675209... Val Loss: -5.580390\n",
            "Epoch: 13/20... Step: 115... Loss: -7.528385... Val Loss: -4.955601\n",
            "Epoch: 14/20... Step: 120... Loss: -7.454935... Val Loss: -5.278380\n",
            "Epoch: 14/20... Step: 125... Loss: -7.585849... Val Loss: -5.030153\n",
            "Epoch: 15/20... Step: 130... Loss: -6.118511... Val Loss: -4.599496\n",
            "Epoch: 15/20... Step: 135... Loss: -6.581979... Val Loss: -4.708586\n",
            "Epoch: 16/20... Step: 140... Loss: -7.388444... Val Loss: -5.204303\n",
            "Epoch: 17/20... Step: 145... Loss: -6.539591... Val Loss: -4.611492\n",
            "Epoch: 17/20... Step: 150... Loss: -7.155647... Val Loss: -4.407943\n",
            "Epoch: 18/20... Step: 155... Loss: -6.812522... Val Loss: -5.802409\n",
            "Epoch: 18/20... Step: 160... Loss: -6.746540... Val Loss: -4.490642\n",
            "Epoch: 19/20... Step: 165... Loss: -7.101831... Val Loss: -4.149509\n",
            "Epoch: 19/20... Step: 170... Loss: -5.481157... Val Loss: -5.189638\n",
            "Epoch: 20/20... Step: 175... Loss: -8.278395... Val Loss: -4.431773\n",
            "Epoch: 20/20... Step: 180... Loss: -8.176206... Val Loss: -4.700744\n"
          ],
          "name": "stdout"
        }
      ]
    },
    {
      "cell_type": "code",
      "metadata": {
        "id": "DVR2ipgvOaiU",
        "colab": {
          "base_uri": "https://localhost:8080/"
        },
        "outputId": "218b80f7-f06f-4349-eb1d-caa0710a0e98"
      },
      "source": [
        "model_FNN_bce = FNN(input_size=input_size, hidden_dim=hidden_dim, output_size=output_size)\n",
        "bce_loss_function = torch.nn.BCELoss()\n",
        "model_FNN_bce.to(device)"
      ],
      "execution_count": null,
      "outputs": [
        {
          "output_type": "execute_result",
          "data": {
            "text/plain": [
              "FNN(\n",
              "  (linear_1): Linear(in_features=784, out_features=100, bias=True)\n",
              "  (linear_2): Linear(in_features=100, out_features=50, bias=True)\n",
              "  (linear_3): Linear(in_features=50, out_features=1, bias=True)\n",
              "  (dropout): Dropout(p=0.5, inplace=False)\n",
              "  (relu): ReLU()\n",
              "  (activation): Sigmoid()\n",
              ")"
            ]
          },
          "metadata": {
            "tags": []
          },
          "execution_count": 41
        }
      ]
    },
    {
      "cell_type": "code",
      "metadata": {
        "id": "c0imfw0WOaip",
        "colab": {
          "base_uri": "https://localhost:8080/"
        },
        "outputId": "3f8e23cc-88c2-4e35-ab09-0be62b13cc2a"
      },
      "source": [
        "model_FNN_bce, (bce_loss_list, bce_acc_list, bce_overall_val_loss_list) = train_model(model_FNN_bce, bce_loss_function, 20, 5, LSTM_flag=False)"
      ],
      "execution_count": null,
      "outputs": [
        {
          "output_type": "stream",
          "text": [
            "Epoch: 1/20... Step: 5... Loss: 0.612148... Val Loss: 0.572488\n",
            "Epoch: 2/20... Step: 10... Loss: 0.458674... Val Loss: 0.388009\n",
            "Epoch: 2/20... Step: 15... Loss: 0.299847... Val Loss: 0.243647\n",
            "Epoch: 3/20... Step: 20... Loss: 0.203876... Val Loss: 0.148694\n",
            "Epoch: 3/20... Step: 25... Loss: 0.161547... Val Loss: 0.107369\n",
            "Epoch: 4/20... Step: 30... Loss: 0.150664... Val Loss: 0.089762\n",
            "Epoch: 4/20... Step: 35... Loss: 0.060876... Val Loss: 0.083796\n",
            "Epoch: 5/20... Step: 40... Loss: 0.085818... Val Loss: 0.080973\n",
            "Epoch: 5/20... Step: 45... Loss: 0.104367... Val Loss: 0.075798\n",
            "Epoch: 6/20... Step: 50... Loss: 0.121768... Val Loss: 0.072278\n",
            "Epoch: 7/20... Step: 55... Loss: 0.078760... Val Loss: 0.068221\n",
            "Epoch: 7/20... Step: 60... Loss: 0.060533... Val Loss: 0.068100\n",
            "Epoch: 8/20... Step: 65... Loss: 0.057854... Val Loss: 0.068216\n",
            "Epoch: 8/20... Step: 70... Loss: 0.091056... Val Loss: 0.066415\n",
            "Epoch: 9/20... Step: 75... Loss: 0.061554... Val Loss: 0.064549\n",
            "Epoch: 9/20... Step: 80... Loss: 0.081729... Val Loss: 0.064457\n",
            "Epoch: 10/20... Step: 85... Loss: 0.102815... Val Loss: 0.064888\n",
            "Epoch: 10/20... Step: 90... Loss: 0.058196... Val Loss: 0.064054\n",
            "Epoch: 11/20... Step: 95... Loss: 0.042108... Val Loss: 0.062017\n",
            "Epoch: 12/20... Step: 100... Loss: 0.073235... Val Loss: 0.063646\n",
            "Epoch: 12/20... Step: 105... Loss: 0.069399... Val Loss: 0.064302\n",
            "Epoch: 13/20... Step: 110... Loss: 0.062022... Val Loss: 0.062164\n",
            "Epoch: 13/20... Step: 115... Loss: 0.041916... Val Loss: 0.060873\n",
            "Epoch: 14/20... Step: 120... Loss: 0.056135... Val Loss: 0.063578\n",
            "Epoch: 14/20... Step: 125... Loss: 0.096579... Val Loss: 0.056415\n",
            "Epoch: 15/20... Step: 130... Loss: 0.061374... Val Loss: 0.059901\n",
            "Epoch: 15/20... Step: 135... Loss: 0.054701... Val Loss: 0.059977\n",
            "Epoch: 16/20... Step: 140... Loss: 0.084530... Val Loss: 0.060475\n",
            "Epoch: 17/20... Step: 145... Loss: 0.057675... Val Loss: 0.061389\n",
            "Epoch: 17/20... Step: 150... Loss: 0.041554... Val Loss: 0.059628\n",
            "Epoch: 18/20... Step: 155... Loss: 0.058658... Val Loss: 0.058221\n",
            "Epoch: 18/20... Step: 160... Loss: 0.063367... Val Loss: 0.058489\n",
            "Epoch: 19/20... Step: 165... Loss: 0.069520... Val Loss: 0.058951\n",
            "Epoch: 19/20... Step: 170... Loss: 0.044947... Val Loss: 0.057958\n",
            "Epoch: 20/20... Step: 175... Loss: 0.058177... Val Loss: 0.057629\n",
            "Epoch: 20/20... Step: 180... Loss: 0.070228... Val Loss: 0.058042\n"
          ],
          "name": "stdout"
        }
      ]
    },
    {
      "cell_type": "code",
      "metadata": {
        "id": "ls63lHaZOaiw",
        "colab": {
          "base_uri": "https://localhost:8080/"
        },
        "outputId": "4d987ba3-f868-449f-c27e-0ba994803807"
      },
      "source": [
        "model_FNN_combined = FNN(input_size=input_size, hidden_dim=hidden_dim, output_size=output_size)\n",
        "first_bce_loss_function = torch.nn.BCELoss()\n",
        "second_custom_loss_function = CustomLoss()\n",
        "model_FNN_combined.to(device)"
      ],
      "execution_count": null,
      "outputs": [
        {
          "output_type": "execute_result",
          "data": {
            "text/plain": [
              "FNN(\n",
              "  (linear_1): Linear(in_features=784, out_features=100, bias=True)\n",
              "  (linear_2): Linear(in_features=100, out_features=50, bias=True)\n",
              "  (linear_3): Linear(in_features=50, out_features=1, bias=True)\n",
              "  (dropout): Dropout(p=0.5, inplace=False)\n",
              "  (relu): ReLU()\n",
              "  (activation): Sigmoid()\n",
              ")"
            ]
          },
          "metadata": {
            "tags": []
          },
          "execution_count": 43
        }
      ]
    },
    {
      "cell_type": "code",
      "metadata": {
        "id": "1xrDm9XeOai8",
        "colab": {
          "base_uri": "https://localhost:8080/"
        },
        "outputId": "1ad80bdc-6df9-44aa-e98d-da899f7cc13e"
      },
      "source": [
        "model_FNN_combined, _ = train_model(model_FNN_combined, first_bce_loss_function, 5, 5, LSTM_flag=False)"
      ],
      "execution_count": null,
      "outputs": [
        {
          "output_type": "stream",
          "text": [
            "Epoch: 1/5... Step: 5... Loss: 0.594595... Val Loss: 0.551552\n",
            "Epoch: 2/5... Step: 10... Loss: 0.416265... Val Loss: 0.354217\n",
            "Epoch: 2/5... Step: 15... Loss: 0.274408... Val Loss: 0.207446\n",
            "Epoch: 3/5... Step: 20... Loss: 0.177212... Val Loss: 0.126937\n",
            "Epoch: 3/5... Step: 25... Loss: 0.112985... Val Loss: 0.100887\n",
            "Epoch: 4/5... Step: 30... Loss: 0.100966... Val Loss: 0.088061\n",
            "Epoch: 4/5... Step: 35... Loss: 0.059444... Val Loss: 0.080296\n",
            "Epoch: 5/5... Step: 40... Loss: 0.050612... Val Loss: 0.071778\n",
            "Epoch: 5/5... Step: 45... Loss: 0.068491... Val Loss: 0.073506\n"
          ],
          "name": "stdout"
        }
      ]
    },
    {
      "cell_type": "code",
      "metadata": {
        "id": "QYMFAgyhOajB",
        "colab": {
          "base_uri": "https://localhost:8080/"
        },
        "outputId": "d2a5305e-d776-43fb-e1ff-10e80eace898"
      },
      "source": [
        "model_FNN_combined, __ = train_model(model_FNN_combined, second_custom_loss_function, 5, 5, LSTM_flag=False)"
      ],
      "execution_count": null,
      "outputs": [
        {
          "output_type": "stream",
          "text": [
            "Epoch: 1/5... Step: 5... Loss: -4.759800... Val Loss: -4.253312\n",
            "Epoch: 2/5... Step: 10... Loss: -4.357574... Val Loss: -4.919676\n",
            "Epoch: 2/5... Step: 15... Loss: -4.774022... Val Loss: -5.319858\n",
            "Epoch: 3/5... Step: 20... Loss: -7.321510... Val Loss: -4.676497\n",
            "Epoch: 3/5... Step: 25... Loss: -6.770959... Val Loss: -5.871940\n",
            "Epoch: 4/5... Step: 30... Loss: -5.867428... Val Loss: -6.435902\n",
            "Epoch: 4/5... Step: 35... Loss: -6.176308... Val Loss: -6.210068\n",
            "Epoch: 5/5... Step: 40... Loss: -6.499931... Val Loss: -5.314098\n",
            "Epoch: 5/5... Step: 45... Loss: -6.734245... Val Loss: -5.805493\n"
          ],
          "name": "stdout"
        }
      ]
    },
    {
      "cell_type": "markdown",
      "metadata": {
        "id": "nDvloS4HpDeU"
      },
      "source": [
        "## Save all models\n"
      ]
    },
    {
      "cell_type": "code",
      "metadata": {
        "id": "AIkE8OcPpTLD"
      },
      "source": [
        "models_names = {\"model_FNN_bce\" : model_FNN_bce, \"model_FNN_custom\" : model_FNN_custom,\n",
        "                \"model_FNN_combined\" : model_FNN_combined, \"model_LSTM_bce\" : model_LSTM_bce,\n",
        "                \"model_LSTM_custom\" : model_LSTM_custom, \"model_LSTM_combined\" : model_LSTM_combined}\n",
        "\n",
        "for m_name in models_names.keys():\n",
        "  torch.save(models_names.get(m_name).state_dict(), str(m_name) + seq_name + \".pth\")"
      ],
      "execution_count": null,
      "outputs": []
    },
    {
      "cell_type": "code",
      "metadata": {
        "id": "OezheqEhtzi9"
      },
      "source": [
        ""
      ],
      "execution_count": null,
      "outputs": []
    },
    {
      "cell_type": "markdown",
      "metadata": {
        "id": "C3zi9pmoOajI"
      },
      "source": [
        "## Calculate metrics for different models"
      ]
    },
    {
      "cell_type": "code",
      "metadata": {
        "id": "gjJ2ls_yOajJ"
      },
      "source": [
        "def evaluate_metrics(y_true, y_pred, threshold=0.5, is_for_results = False):\n",
        "    \"\"\"\n",
        "    Evaluate metrics for change point detection\n",
        "    We assume, that there is no more than one change index in data (so, either 0 or 1 change)\n",
        "    Inputs\n",
        "    y_true : torch.Tensor\n",
        "      true labels\n",
        "    y_pred : torch.Tensor\n",
        "      change probabiltiy\n",
        "    threshold : float\n",
        "      detection threshold\n",
        "      \n",
        "    Returns\n",
        "    false_positive : int\n",
        "      number of false positives\n",
        "    false_negative : int\n",
        "      number of false negatives\n",
        "    delay : int\n",
        "      detection delay\n",
        "    accuracy : float\n",
        "      y_pred accuracy given y_truei\n",
        "    \"\"\"\n",
        "    delay = 0\n",
        "    false_positive = 0\n",
        "    false_negative = 0\n",
        "    true_negative = 0\n",
        "    true_positive = 0\n",
        "\n",
        "    index_real = torch.where(y_true != y_true[0])[0] # indexes with real changes\n",
        "    index_detected = torch.where((y_pred > threshold).long() != y_true[0])[0] # indexes with predicted changes\n",
        "\n",
        "    if len(index_real) > 0:\n",
        "        real_change_index = index_real[0]\n",
        "\n",
        "        if len(index_detected) > 0:\n",
        "            index_sub_detected = torch.where(index_detected >= real_change_index)[0]\n",
        "\n",
        "            if len(index_sub_detected) == len(index_detected):\n",
        "                false_positive_delay = real_change_index.item()\n",
        "                detected_change_index = index_detected[0]\n",
        "                delay = (detected_change_index - real_change_index).item()\n",
        "                true_positive +=1\n",
        "            else:\n",
        "                false_positive_delay = index_detected[0].item()\n",
        "                delay = 0\n",
        "                false_positive += 1\n",
        "                \n",
        "        else:\n",
        "            false_positive_delay = seq_len\n",
        "            delay = (seq_len - real_change_index).item()\n",
        "            false_negative += 1\n",
        "\n",
        "    else:\n",
        "        if len(index_detected) > 0:\n",
        "            false_positive_delay = index_detected[0].item()\n",
        "            false_positive += 1\n",
        "        else:\n",
        "            false_positive_delay = seq_len\n",
        "            true_negative += 1\n",
        "    \n",
        "    accuracy = ((y_pred > threshold).long() == y_true).float().mean().item()\n",
        "\n",
        "    \n",
        "    if is_for_results == False:\n",
        "      return false_positive, false_negative, delay, false_positive_delay, accuracy\n",
        "    else:\n",
        "      # precision = true_positive / (true_positive + false_positive)\n",
        "      # recall = true_positive/ (true_positive + false_negative)\n",
        "      # f1_score = 2 * (recall * precision) / (recall + precision)\n",
        "      # spec = true_negative / ( false_positive + true_negative )\n",
        "      # g_mean = np.sqrt(recall + spec)\n",
        "\n",
        "      return true_positive, true_negative, false_positive, false_negative\n",
        "      # accuracy, precision, recall, f1_score, g_mean\n",
        "\n",
        "def evaluate_metrics_new(y_true, y_pred, threshold=0.5, is_for_results = False):\n",
        "    \"\"\"\n",
        "    Evaluate metrics for change point detection\n",
        "    We assume, that there is no more than one change index in data (so, either 0 or 1 change)\n",
        "    Inputs\n",
        "    y_true : torch.Tensor\n",
        "      true labels\n",
        "    y_pred : torch.Tensor\n",
        "      change probabiltiy\n",
        "    threshold : float\n",
        "      detection threshold\n",
        "      \n",
        "    Returns\n",
        "    false_positive : int\n",
        "      number of false positives\n",
        "    false_negative : int\n",
        "      number of false negatives\n",
        "    delay : int\n",
        "      detection delay\n",
        "    accuracy : float\n",
        "      y_pred accuracy given y_truei\n",
        "    \"\"\"\n",
        "    delay = 0\n",
        "    false_positive = 0\n",
        "    false_negative = 0\n",
        "    true_negative = 0\n",
        "    true_positive = 0\n",
        "\n",
        "    index_real = torch.where(y_true != y_true[0])[0] # indexes with real changes\n",
        "    index_detected = torch.where((y_pred > threshold).long() != y_true[0])[0] # indexes with predicted changes\n",
        "\n",
        "    if len(index_real) > 0:\n",
        "        real_change_index = index_real[0]\n",
        "\n",
        "        if len(index_detected) > 0:\n",
        "            index_sub_detected = torch.where(index_detected >= real_change_index)[0]\n",
        "\n",
        "            if len(index_sub_detected) == len(index_detected):\n",
        "                false_positive_delay = seq_len\n",
        "                detected_change_index = index_detected[0]\n",
        "                delay = (detected_change_index - real_change_index).item()\n",
        "                true_positive +=1\n",
        "            else:\n",
        "                false_positive_delay = index_detected[0].item()\n",
        "                delay = 0\n",
        "                false_positive += 1\n",
        "                \n",
        "        else:\n",
        "            false_positive_delay = seq_len\n",
        "            delay = (seq_len - real_change_index).item()\n",
        "            false_negative += 1\n",
        "\n",
        "    else:\n",
        "        if len(index_detected) > 0:\n",
        "            false_positive_delay = index_detected[0].item()\n",
        "            false_positive += 1\n",
        "        else:\n",
        "            false_positive_delay = seq_len\n",
        "            true_negative += 1\n",
        "    \n",
        "    accuracy = ((y_pred > threshold).long() == y_true).float().mean().item()\n",
        "\n",
        "    \n",
        "    if is_for_results == False:\n",
        "      return false_positive, false_negative, delay, false_positive_delay, accuracy\n",
        "    else:\n",
        "      # precision = true_positive / (true_positive + false_positive)\n",
        "      # recall = true_positive/ (true_positive + false_negative)\n",
        "      # f1_score = 2 * (recall * precision) / (recall + precision)\n",
        "      # spec = true_negative / ( false_positive + true_negative )\n",
        "      # g_mean = np.sqrt(recall + spec)\n",
        "\n",
        "      return true_positive, true_negative, false_positive, false_negative\n",
        "      # accuracy, precision, recall, f1_score, g_mean"
      ],
      "execution_count": null,
      "outputs": []
    },
    {
      "cell_type": "code",
      "metadata": {
        "id": "iHfJNnTkifYB"
      },
      "source": [
        ""
      ],
      "execution_count": null,
      "outputs": []
    },
    {
      "cell_type": "code",
      "metadata": {
        "id": "kAiMKLLyOajP"
      },
      "source": [
        "def get_quality_metrics(test_loader, model, threshold=0.5, LSTM_flag=True):\n",
        "    test_loss_list = []\n",
        "    test_acc_list = []\n",
        "\n",
        "    positive_number = 0 \n",
        "    negative_number = 0\n",
        "    fp_list = []\n",
        "    fn_list = []\n",
        "    delay_list = []\n",
        "    fp_delay_list = []\n",
        "    accuracy_list = []\n",
        "\n",
        "    model.eval()\n",
        "    for test_inputs, test_true_labels in test_loader:\n",
        "        if test_inputs.shape[0] < test_batch_size:\n",
        "            break\n",
        "            \n",
        "        test_inputs, test_true_labels = test_inputs.to(device), test_true_labels.to(device)\n",
        "\n",
        "        if LSTM_flag:\n",
        "            test_hidden = model.init_hidden(batch_size)\n",
        "            #test_hidden = tuple([each.data for each in test_hidden])\n",
        "            test_predictions, test_hidden = model(test_inputs, test_hidden)\n",
        "        else:\n",
        "            test_predictions = model(test_inputs)\n",
        "            \n",
        "        test_loss = loss_function(test_predictions.squeeze(), test_true_labels.float())\n",
        "        test_loss_list += [test_loss.cpu().clone().detach()]\n",
        "\n",
        "        for i in range(0, test_batch_size):\n",
        "            curr_labels = test_true_labels[i]\n",
        "            curr_predictions = test_predictions[i]\n",
        "            \n",
        "            # torch.rand_like\n",
        "            curr_fp, curr_fn, curr_delay, curr_fp_delay, curr_accuracy = evaluate_metrics(curr_labels, curr_predictions, \n",
        "                                                                           threshold)\n",
        "\n",
        "            max_difference = np.abs((curr_labels.max() - curr_labels.min()).item())\n",
        "            if max_difference: \n",
        "                delay_list.append(curr_delay)\n",
        "            positive_number += (max_difference > 0)\n",
        "            negative_number += 1 - (max_difference > 0)\n",
        "\n",
        "            fp_list.append(curr_fp)\n",
        "            fn_list.append(curr_fn)\n",
        "            fp_delay_list.append(curr_fp_delay)\n",
        "            accuracy_list.append(curr_accuracy)\n",
        "\n",
        "        test_acc_list.append(np.mean(accuracy_list[-test_batch_size:]))\n",
        "        \n",
        "    return (positive_number, negative_number, np.mean(test_loss_list), np.mean(test_acc_list), np.mean(delay_list),\n",
        "            np.mean(fp_delay_list), np.sum(fp_list), np.sum(fn_list))"
      ],
      "execution_count": null,
      "outputs": []
    },
    {
      "cell_type": "code",
      "metadata": {
        "id": "JqeCj0coOajp"
      },
      "source": [
        "def get_pareto_metrics_for_threshold(model, test_loader, threshold_list, LSTM_flag=True):\n",
        "    fp_number_list = []\n",
        "    fn_number_list = []\n",
        "    delay_list = []\n",
        "    fp_delay_list = []\n",
        "    for threshold in threshold_list:\n",
        "        # test_loader = prepare_loader(test_data, test_labels, seq_len, input_size, batch_size)\n",
        "\n",
        "        (positive_number, negative_number, test_loss, \n",
        "         test_acc, mean_delay, mean_fp_delay, fp_number, fn_number) = get_quality_metrics(test_loader, model, threshold, LSTM_flag)\n",
        "\n",
        "        fp_number_list.append(fp_number)\n",
        "        fn_number_list.append(fn_number)\n",
        "        delay_list.append(mean_delay)\n",
        "        fp_delay_list.append(mean_fp_delay)\n",
        "        #print(threshold, fp_number, fn_number, mean_delay, mean_fp_delay)\n",
        "    \n",
        "    return fp_number_list, fn_number_list, delay_list, fp_delay_list"
      ],
      "execution_count": null,
      "outputs": []
    },
    {
      "cell_type": "code",
      "metadata": {
        "id": "k1rQCzhytVut"
      },
      "source": [
        "def get_quality_metrics_for_results(model, test_loader, threshold, LSTM_flag=True):\n",
        "    test_loss_list = []\n",
        "    test_acc_list = []\n",
        "    \n",
        "    def weird_division(n, d):\n",
        "      return n / d if d else 0\n",
        "\n",
        "    positive_number = 0 \n",
        "    negative_number = 0\n",
        "    fp_list = []\n",
        "    fn_list = []\n",
        "    delay_list = []\n",
        "    fp_delay_list = []\n",
        "    accuracy_list = []\n",
        "\n",
        "    true_positive = 0\n",
        "    true_negative = 0\n",
        "    false_positive = 0\n",
        "    false_negative = 0\n",
        "\n",
        "    model.eval()\n",
        "    for test_inputs, test_true_labels in test_loader:\n",
        "        if test_inputs.shape[0] < test_batch_size:\n",
        "            break\n",
        "            \n",
        "        test_inputs, test_true_labels = test_inputs.to(device), test_true_labels.to(device)\n",
        "\n",
        "        if LSTM_flag:\n",
        "            test_hidden = model.init_hidden(batch_size)\n",
        "            test_hidden = tuple([each.data for each in test_hidden])\n",
        "            test_predictions, test_hidden = model(test_inputs, test_hidden)\n",
        "        else:\n",
        "            test_predictions = model(test_inputs)\n",
        "            \n",
        "        test_loss = loss_function(test_predictions.squeeze(), test_true_labels.float())\n",
        "        test_loss_list += [test_loss.cpu().clone().detach()]\n",
        "        \n",
        "        for i in range(0, test_batch_size):\n",
        "            curr_labels = test_true_labels[i]\n",
        "            curr_predictions = test_predictions[i]\n",
        "            true_positive_cur, true_negative_cur, false_positive_cur, false_negative_cur = evaluate_metrics(\n",
        "                curr_labels, curr_predictions, threshold, is_for_results = True)\n",
        "        \n",
        "            true_positive += true_positive_cur\n",
        "            true_negative += true_negative_cur\n",
        "            false_positive += false_positive_cur\n",
        "            false_negative += false_negative_cur\n",
        "\n",
        "\n",
        "    accuracy = true_positive + true_negative / (true_positive + true_negative + false_positive + false_negative)\n",
        "    precision = weird_division(true_positive , (true_positive + false_positive))\n",
        "    print(\"Metrics\", true_positive, true_negative, false_positive, false_negative, threshold)\n",
        "    recall = weird_division(true_positive, (true_positive + false_negative))\n",
        "    f1_score = 2 * weird_division((recall * precision), (recall + precision))\n",
        "    spec = weird_division(true_negative, ( false_positive + true_negative ))\n",
        "    g_mean = np.sqrt(recall + spec)\n",
        "\n",
        "    return true_positive, true_negative, false_positive, false_negative, accuracy, precision, recall, f1_score, g_mean\n"
      ],
      "execution_count": null,
      "outputs": []
    },
    {
      "cell_type": "code",
      "metadata": {
        "id": "A5wIkxD4Oajw",
        "colab": {
          "base_uri": "https://localhost:8080/",
          "height": 282
        },
        "outputId": "5a9a6b45-fe88-44ef-a45e-d3c2f19b57ac"
      },
      "source": [
        "threshold_number = 200\n",
        "threshold_list = np.linspace(-15, 15, threshold_number)\n",
        "threshold_list = 1 / (1 + np.exp(-threshold_list))\n",
        "plt.plot(np.linspace(0.01, 1, threshold_number), threshold_list)"
      ],
      "execution_count": null,
      "outputs": [
        {
          "output_type": "execute_result",
          "data": {
            "text/plain": [
              "[<matplotlib.lines.Line2D at 0x7f4270f74990>]"
            ]
          },
          "metadata": {
            "tags": []
          },
          "execution_count": 51
        },
        {
          "output_type": "display_data",
          "data": {
            "image/png": "[encoded data removed]",
            "text/plain": [
              "<Figure size 432x288 with 1 Axes>"
            ]
          },
          "metadata": {
            "tags": [],
            "needs_background": "light"
          }
        }
      ]
    },
    {
      "cell_type": "code",
      "metadata": {
        "id": "bcE_2lTmOaj4"
      },
      "source": [
        "test_batch_size = 64\n",
        "final_test_loader = prepare_loader(test_data, test_labels, seq_len, input_size, test_batch_size, shuffle=False)\n",
        "\n",
        "(fp_number_list_FNN_bce, fn_number_list_FNN_bce, \n",
        " delay_list_FNN_bce, fp_delay_list_FNN_bce) = get_pareto_metrics_for_threshold(model_FNN_bce, final_test_loader, \n",
        "                                                                               threshold_list, LSTM_flag=False)"
      ],
      "execution_count": null,
      "outputs": []
    },
    {
      "cell_type": "code",
      "metadata": {
        "scrolled": true,
        "id": "UIPRw0THOaj9"
      },
      "source": [
        "test_batch_size = 64\n",
        "final_test_loader = prepare_loader(test_data, test_labels, seq_len, input_size, test_batch_size, shuffle=False)\n",
        "\n",
        "(fp_number_list_FNN_custom, fn_number_list_FNN_custom, \n",
        " delay_list_FNN_custom, fp_delay_list_FNN_custom) = get_pareto_metrics_for_threshold(model_FNN_custom, final_test_loader, \n",
        "                                                                                     threshold_list, LSTM_flag=False)"
      ],
      "execution_count": null,
      "outputs": []
    },
    {
      "cell_type": "code",
      "metadata": {
        "scrolled": true,
        "id": "1Pl0oXS8OakD"
      },
      "source": [
        "test_batch_size = 64\n",
        "final_test_loader = prepare_loader(test_data, test_labels, seq_len, input_size, test_batch_size, shuffle=False)\n",
        "\n",
        "(fp_number_list_FNN_combined, fn_number_list_FNN_combined, \n",
        " delay_list_FNN_combined, fp_delay_list_FNN_combined) = get_pareto_metrics_for_threshold(model_FNN_combined, final_test_loader, \n",
        "                                                                                         threshold_list, LSTM_flag=False)"
      ],
      "execution_count": null,
      "outputs": []
    },
    {
      "cell_type": "code",
      "metadata": {
        "id": "YGgxMwATOakh"
      },
      "source": [
        "test_batch_size = 64\n",
        "final_test_loader = prepare_loader(test_data, test_labels, seq_len, input_size, test_batch_size, shuffle=False)\n",
        "\n",
        "(fp_number_list_LSTM_bce, fn_number_list_LSTM_bce, \n",
        " delay_list_LSTM_bce, fp_delay_list_LSTM_bce) = get_pareto_metrics_for_threshold(model_LSTM_bce, final_test_loader, \n",
        "                                                                                 threshold_list, LSTM_flag=True)"
      ],
      "execution_count": null,
      "outputs": []
    },
    {
      "cell_type": "code",
      "metadata": {
        "id": "Smuji86hOakw"
      },
      "source": [
        "test_batch_size = 64\n",
        "final_test_loader = prepare_loader(test_data, test_labels, seq_len, input_size, test_batch_size, shuffle=False)\n",
        "\n",
        "(fp_number_list_LSTM_custom, fn_number_list_LSTM_custom, \n",
        " delay_list_LSTM_custom, fp_delay_list_LSTM_custom) = get_pareto_metrics_for_threshold(model_LSTM_custom, final_test_loader, \n",
        "                                                                                       threshold_list, LSTM_flag=True)"
      ],
      "execution_count": null,
      "outputs": []
    },
    {
      "cell_type": "code",
      "metadata": {
        "id": "gyReigBfOak2",
        "colab": {
          "base_uri": "https://localhost:8080/"
        },
        "outputId": "eab39fc1-61ff-4fe5-c093-b88576967a05"
      },
      "source": [
        "test_batch_size = 64\n",
        "final_test_loader = prepare_loader(test_data, test_labels, seq_len, input_size, test_batch_size, shuffle=False)\n",
        "print(len(final_test_loader))\n",
        "(fp_number_list_LSTM_combined, fn_number_list_LSTM_combined, delay_list_LSTM_combined, fp_delay_list_LSTM_combined) = get_pareto_metrics_for_threshold(model_LSTM_combined, final_test_loader, threshold_list, LSTM_flag=True)"
      ],
      "execution_count": null,
      "outputs": [
        {
          "output_type": "stream",
          "text": [
            "4\n"
          ],
          "name": "stdout"
        }
      ]
    },
    {
      "cell_type": "code",
      "metadata": {
        "id": "ufL36o2lOak9",
        "colab": {
          "base_uri": "https://localhost:8080/",
          "height": 746
        },
        "outputId": "df585e65-7f16-4ce0-ebb5-0c7261457042"
      },
      "source": [
        "plt.figure(figsize=(12, 12))\n",
        "plt.plot(fp_delay_list_LSTM_custom, delay_list_LSTM_custom, '-o', markersize=4, label='LSTM. Custom (ours)')\n",
        "plt.plot(fp_delay_list_LSTM_bce, delay_list_LSTM_bce, '-d', markersize=4, label='LSTM. BCE')\n",
        "plt.plot(fp_delay_list_LSTM_combined, delay_list_LSTM_combined, '-s', markersize=4, label='LSTM. Combined (ours)')\n",
        "# plt.plot(fp_delay_list_FNN_custom, delay_list_FNN_custom, '-o', markersize=4, label='FNN. Custom (ours)')\n",
        "# plt.plot(fp_delay_list_FNN_bce, delay_list_FNN_bce, '-d', markersize=4, label='FNN.BCE ')\n",
        "# plt.plot(fp_delay_list_FNN_combined, delay_list_FNN_combined, '-s', markersize=4, label='FNN. Combined (ours)')\n",
        "\n",
        "\n",
        "\n",
        "plt.xlabel('Mean Time to False Alarm', fontsize=28)\n",
        "plt.ylabel('Mean Detection Delay', fontsize=28)\n",
        "plt.xticks(fontsize=24)\n",
        "plt.yticks(fontsize=24)\n",
        "plt.legend(loc='upper left', fontsize=26);\n",
        "plt.savefig('curve' + seq_name + '.pdf', bbox_inches='tight')"
      ],
      "execution_count": null,
      "outputs": [
        {
          "output_type": "display_data",
          "data": {
            "image/png": "[encoded data removed]",
            "text/plain": [
              "<Figure size 864x864 with 1 Axes>"
            ]
          },
          "metadata": {
            "tags": [],
            "needs_background": "light"
          }
        }
      ]
    },
    {
      "cell_type": "code",
      "metadata": {
        "colab": {
          "base_uri": "https://localhost:8080/",
          "height": 746
        },
        "id": "Ez0-2PcDtrPF",
        "outputId": "547e7281-192b-4b4a-933e-a888e4ac52e7"
      },
      "source": [
        "plt.figure(figsize=(12, 12))\n",
        "plt.plot(fp_delay_list_LSTM_custom, delay_list_LSTM_custom, '-o', markersize=4, label='LSTM. Custom (ours)')\n",
        "plt.plot(fp_delay_list_LSTM_bce, delay_list_LSTM_bce, '-d', markersize=4, label='LSTM. BCE')\n",
        "plt.plot(fp_delay_list_LSTM_combined, delay_list_LSTM_combined, '-s', markersize=4, label='LSTM. Combined (ours)')\n",
        "plt.plot(fp_delay_list_FNN_custom, delay_list_FNN_custom, '-o', markersize=4, label='FNN. Custom (ours)')\n",
        "plt.plot(fp_delay_list_FNN_bce, delay_list_FNN_bce, '-d', markersize=4, label='FNN. BCE ')\n",
        "plt.plot(fp_delay_list_FNN_combined, delay_list_FNN_combined, '-s', markersize=4, label='FNN. Combined (ours)')\n",
        "\n",
        "\n",
        "\n",
        "plt.xlabel('Mean Time to False Alarm', fontsize=28)\n",
        "plt.ylabel('Mean Detection Delay', fontsize=28)\n",
        "plt.xticks(fontsize=24)\n",
        "plt.yticks(fontsize=24)\n",
        "plt.legend(loc='upper left', fontsize=26);\n",
        "plt.savefig('curve_fnn' + seq_name +  '.pdf', bbox_inches='tight')"
      ],
      "execution_count": null,
      "outputs": [
        {
          "output_type": "display_data",
          "data": {
            "image/png": "[encoded data removed]",
            "text/plain": [
              "<Figure size 864x864 with 1 Axes>"
            ]
          },
          "metadata": {
            "tags": [],
            "needs_background": "light"
          }
        }
      ]
    },
    {
      "cell_type": "code",
      "metadata": {
        "id": "43kCfOJdYoqf",
        "colab": {
          "base_uri": "https://localhost:8080/"
        },
        "outputId": "3b14f84d-d4e2-4505-fa1e-4d2a4576e497"
      },
      "source": [
        "print('LSTM. CustomLoss model',\" area under the graph: \", np.trapz(delay_list_LSTM_custom, fp_delay_list_LSTM_custom))\n",
        "print('LSTM.BCELoss model',\" area under the graph: \", np.trapz(delay_list_LSTM_bce, fp_delay_list_LSTM_bce))\n",
        "print('LSTM. Combined model',\" area under the graph: \", np.trapz(delay_list_LSTM_combined, fp_delay_list_LSTM_combined))\n",
        "print('FNN. CustomLoss model',\" area under the graph: \", np.trapz(delay_list_FNN_custom, fp_delay_list_FNN_custom))\n",
        "print('FNN.BCELoss model',\" area under the graph: \", np.trapz(delay_list_FNN_bce, fp_delay_list_FNN_bce))\n",
        "print('FNN. Combined model',\" area under the graph: \", np.trapz(delay_list_FNN_combined, fp_delay_list_FNN_combined))"
      ],
      "execution_count": null,
      "outputs": [
        {
          "output_type": "stream",
          "text": [
            "LSTM. CustomLoss model  area under the graph:  445.3009168836806\n",
            "LSTM.BCELoss model  area under the graph:  580.1233723958334\n",
            "LSTM. Combined model  area under the graph:  6.701904296874998\n",
            "FNN. CustomLoss model  area under the graph:  530.6184353298611\n",
            "FNN.BCELoss model  area under the graph:  523.39599609375\n",
            "FNN. Combined model  area under the graph:  531.0372178819445\n"
          ],
          "name": "stdout"
        }
      ]
    },
    {
      "cell_type": "code",
      "metadata": {
        "id": "-J67vlu4alue"
      },
      "source": [
        "def find_nearest_threshold(array, value):\n",
        "    #print(value)\n",
        "    array = np.asarray(array)\n",
        "    idx = (np.abs(array - value)).argmin()\n",
        "    return threshold_list[idx]\n",
        "\n",
        "def cross_the_border(x_meaning, y_meaning, border):\n",
        "  for x, y in zip(x_meaning, y_meaning):\n",
        "    if x > border:\n",
        "      return y\n",
        "\n",
        "def model_crossing(model_name, model, fp_delay, delay, LSTM_flag):\n",
        "  x_coord = [32, 36, 40, 44, 48, 52]\n",
        "  y_coord = []\n",
        "  thresold_value = []\n",
        "\n",
        "  model_results_list = []\n",
        "\n",
        "  for i in range(len(x_coord)):\n",
        "\n",
        "      test_batch_size = 64\n",
        "      final_test_loader = prepare_loader(test_data, test_labels, seq_len, input_size, test_batch_size, shuffle=False)\n",
        "      \n",
        "      print(fp_delay)\n",
        "      print(delay)\n",
        "      print(x_coord[i])\n",
        "      y_coord.append(cross_the_border(fp_delay, delay, x_coord[i]))\n",
        "      thresold_value.append(find_nearest_threshold(delay, y_coord[i]))\n",
        "\n",
        "      true_positive, true_negative, false_positive, false_negative, accuracy, precision, recall, f1_score, g_mean =  get_quality_metrics_for_results(model, final_test_loader, thresold_value[i], LSTM_flag)\n",
        "\n",
        "      curr_model_res_points = [model_name, x_coord[i], y_coord[i], thresold_value[i]]\n",
        "      curr_mode_res_threshold = [true_positive, true_negative, false_positive, false_negative, accuracy, precision, recall, f1_score, g_mean]\n",
        "      curr_model_res = curr_model_res_points + curr_mode_res_threshold\n",
        "\n",
        "      model_results_list.append(curr_model_res)\n",
        "\n",
        "  #print(model_name, \"(Mean FP delay, Mean delay): \", str([x_coord[0], y_coord[0]]),\" \" ,str([x_coord[1], y_coord[1]]), \" \", str([x_coord[2], y_coord[2]]))\n",
        "  for i in range(len(x_coord)):\n",
        "    print(model_name, \"(Mean FP delay, Mean delay, Threshold): \", str([x_coord[i], y_coord[i]]), str(thresold_value[i]))\n",
        "  print(\"---\"*10)\n",
        "\n",
        "  return model_results_list"
      ],
      "execution_count": null,
      "outputs": []
    },
    {
      "cell_type": "code",
      "metadata": {
        "id": "OUewDMOPdS8E"
      },
      "source": [
        "# model_crossing('LSTM. CustomLoss model', fp_delay_list_LSTM_custom, delay_list_LSTM_custom)\n",
        "# model_crossing('LSTM.BCELoss model', fp_delay_list_LSTM_bce, delay_list_LSTM_bce)\n",
        "# model_crossing('LSTM. Combined model', fp_delay_list_LSTM_combined, delay_list_LSTM_combined)\n",
        "# model_crossing('FNN. CustomLoss model', fp_delay_list_FNN_custom, delay_list_FNN_custom)\n",
        "# model_crossing('FNN.BCELoss model', fp_delay_list_FNN_bce, delay_list_FNN_bce)\n",
        "# model_crossing('FNN. Combined model', fp_delay_list_FNN_combined, delay_list_FNN_combined)"
      ],
      "execution_count": null,
      "outputs": []
    },
    {
      "cell_type": "markdown",
      "metadata": {
        "id": "4IKUgLnJgRGx"
      },
      "source": [
        "**Сохранение результатов в ексель табличку**"
      ]
    },
    {
      "cell_type": "code",
      "metadata": {
        "id": "sW-Def0cdfth"
      },
      "source": [
        "import pandas as pd"
      ],
      "execution_count": null,
      "outputs": []
    },
    {
      "cell_type": "code",
      "metadata": {
        "id": "FdH17Fhoryfe"
      },
      "source": [
        "columns_list = [\"Model name\", \"Mean FP delay\", \"Mean delay\", \"Threshold\", \"TP\", \"TN\", \"FP\", \"FN\", \"Acc\",\n",
        "                \"Precision\", \"Recall\", \"F1-score\", \"G-mean\"]"
      ],
      "execution_count": null,
      "outputs": []
    },
    {
      "cell_type": "code",
      "metadata": {
        "id": "BZ0EzvJ_ynGK",
        "colab": {
          "base_uri": "https://localhost:8080/",
          "height": 1000
        },
        "outputId": "5853292f-87d4-4eb4-9c65-463dc6deb9c8"
      },
      "source": [
        "data_model_FNN_bce = model_crossing(\"model_FNN_bce\", model_FNN_bce, fp_delay_list_FNN_bce, delay_list_FNN_bce, LSTM_flag=False)\n",
        "df_main = pd.DataFrame(data_model_FNN_bce, columns = columns_list)\n",
        "\n",
        "data_model_FNN_custom = model_crossing(\"model_FNN_custom\", model_FNN_custom, fp_delay_list_FNN_custom, delay_list_FNN_custom, LSTM_flag=False)\n",
        "df_main = df_main.append(pd.DataFrame(data_model_FNN_custom, columns = columns_list), ignore_index=True)\n",
        "\n",
        "data_model_FNN_combined = model_crossing(\"model_FNN_combined\", model_FNN_combined, fp_delay_list_FNN_combined, delay_list_FNN_combined, LSTM_flag=False)\n",
        "df_main = df_main.append(pd.DataFrame(data_model_FNN_combined, columns = columns_list), ignore_index=True)\n",
        "\n",
        "data_model_LSTM_bce = model_crossing(\"model_LSTM_bce\", model_LSTM_bce, fp_delay_list_LSTM_bce, delay_list_LSTM_bce, LSTM_flag=True)\n",
        "df_main = df_main.append(pd.DataFrame(data_model_LSTM_bce, columns = columns_list), ignore_index=True)\n",
        "\n",
        "data_model_LSTM_custom = model_crossing(\"model_LSTM_custom\", model_LSTM_custom, fp_delay_list_LSTM_custom, delay_list_LSTM_custom, LSTM_flag=True)\n",
        "df_main = df_main.append(pd.DataFrame(data_model_LSTM_custom, columns = columns_list), ignore_index=True)\n",
        "\n",
        "data_model_LSTM_combined = model_crossing(\"model_LSTM_combined\", model_LSTM_combined,fp_delay_list_LSTM_combined, delay_list_LSTM_combined, LSTM_flag=True)\n",
        "df_main = df_main.append(pd.DataFrame(data_model_LSTM_combined, columns = columns_list), ignore_index=True)\n"
      ],
      "execution_count": null,
      "outputs": [
        {
          "output_type": "stream",
          "text": [
            "[0.036458333333333336, 0.036458333333333336, 0.041666666666666664, 0.052083333333333336, 0.0625, 0.07291666666666667, 0.09895833333333333, 0.140625, 0.18229166666666666, 0.21875, 0.3489583333333333, 0.5833333333333334, 0.71875, 0.84375, 0.9427083333333334, 1.1302083333333333, 1.6927083333333333, 1.8072916666666667, 1.9166666666666667, 2.03125, 2.1458333333333335, 2.3333333333333335, 2.453125, 2.5625, 2.8697916666666665, 3.03125, 3.15625, 3.8125, 4.229166666666667, 4.703125, 4.84375, 5.005208333333333, 5.458333333333333, 5.604166666666667, 6.354166666666667, 6.984375, 7.46875, 7.619791666666667, 8.09375, 8.828125, 9.052083333333334, 9.265625, 9.864583333333334, 10.901041666666666, 11.25, 11.572916666666666, 12.166666666666666, 13.0625, 13.484375, 13.890625, 15.395833333333334, 16.119791666666668, 17.09375, 17.510416666666668, 18.119791666666668, 19.067708333333332, 19.848958333333332, 21.166666666666668, 22.375, 23.864583333333332, 25.291666666666668, 26.057291666666668, 27.989583333333332, 29.135416666666668, 29.458333333333332, 30.317708333333332, 31.927083333333332, 32.390625, 32.973958333333336, 33.671875, 34.130208333333336, 34.822916666666664, 36.0625, 36.609375, 36.911458333333336, 37.296875, 38.083333333333336, 38.286458333333336, 38.645833333333336, 38.817708333333336, 39.296875, 39.380208333333336, 39.942708333333336, 40.0625, 40.635416666666664, 40.833333333333336, 41.515625, 41.921875, 41.947916666666664, 42.010416666666664, 42.229166666666664, 42.260416666666664, 42.276041666666664, 42.296875, 42.333333333333336, 42.390625, 42.463541666666664, 42.5, 42.546875, 42.583333333333336, 42.734375, 43.098958333333336, 43.119791666666664, 43.177083333333336, 43.203125, 43.203125, 43.208333333333336, 43.213541666666664, 43.234375, 43.25, 43.276041666666664, 43.333333333333336, 43.354166666666664, 43.354166666666664, 43.369791666666664, 43.390625, 43.411458333333336, 43.427083333333336, 43.552083333333336, 43.572916666666664, 43.59375, 43.614583333333336, 43.614583333333336, 43.625, 43.765625, 43.953125, 44.130208333333336, 44.536458333333336, 44.885416666666664, 44.979166666666664, 45.494791666666664, 45.755208333333336, 45.984375, 46.510416666666664, 46.703125, 46.703125, 46.864583333333336, 47.161458333333336, 47.583333333333336, 47.890625, 48.921875, 49.192708333333336, 49.572916666666664, 50.177083333333336, 50.765625, 51.6875, 51.854166666666664, 52.677083333333336, 52.916666666666664, 54.067708333333336, 54.65625, 54.776041666666664, 55.963541666666664, 56.973958333333336, 57.640625, 58.723958333333336, 59.026041666666664, 59.307291666666664, 60.135416666666664, 60.255208333333336, 60.9375, 61.098958333333336, 61.098958333333336, 61.098958333333336, 61.098958333333336, 61.098958333333336, 61.098958333333336, 61.677083333333336, 61.677083333333336, 62.104166666666664, 62.234375, 62.520833333333336, 62.520833333333336, 62.520833333333336, 62.8125, 62.8125, 63.09375, 63.380208333333336, 63.380208333333336, 63.380208333333336, 63.604166666666664, 63.802083333333336, 63.802083333333336, 63.802083333333336, 63.802083333333336, 63.802083333333336, 64.0, 64.0, 64.0, 64.0, 64.0, 64.0, 64.0, 64.0, 64.0, 64.0, 64.0, 64.0, 64.0, 64.0]\n",
            "[0.0, 0.0, 0.0, 0.0, 0.0, 0.0, 0.0, 0.0, 0.0, 0.0, 0.0, 0.0, 0.0, 0.0, 0.0, 0.0, 0.0, 0.0, 0.0, 0.0, 0.0, 0.0, 0.0, 0.0, 0.0, 0.0, 0.0, 0.0, 0.0, 0.0, 0.0, 0.0, 0.0, 0.0, 0.0, 0.0, 0.0, 0.0, 0.0, 0.0, 0.0, 0.0, 0.0, 0.0, 0.0, 0.0, 0.0, 0.0, 0.0, 0.0, 0.010416666666666666, 0.010416666666666666, 0.010416666666666666, 0.020833333333333332, 0.020833333333333332, 0.020833333333333332, 0.03125, 0.041666666666666664, 0.041666666666666664, 0.041666666666666664, 0.041666666666666664, 0.0625, 0.07291666666666667, 0.08333333333333333, 0.08333333333333333, 0.09375, 0.10416666666666667, 0.10416666666666667, 0.11458333333333333, 0.13541666666666666, 0.13541666666666666, 0.14583333333333334, 0.15625, 0.16666666666666666, 0.17708333333333334, 0.19791666666666666, 0.21875, 0.23958333333333334, 0.25, 0.2708333333333333, 0.2916666666666667, 0.3333333333333333, 0.3854166666666667, 0.4166666666666667, 0.4479166666666667, 0.5, 0.5520833333333334, 0.6041666666666666, 0.6875, 0.7083333333333334, 0.7604166666666666, 0.8020833333333334, 0.8333333333333334, 0.875, 0.9375, 1.0104166666666667, 1.0625, 1.1145833333333333, 1.1666666666666667, 1.21875, 1.28125, 1.3541666666666667, 1.3854166666666667, 1.4375, 1.53125, 1.6354166666666667, 1.7395833333333333, 1.90625, 2.0104166666666665, 2.09375, 2.25, 2.3854166666666665, 2.6145833333333335, 2.75, 2.90625, 3.0520833333333335, 3.1770833333333335, 3.4166666666666665, 3.625, 3.9375, 4.135416666666667, 4.458333333333333, 5.114583333333333, 5.40625, 5.8125, 6.229166666666667, 6.96875, 8.322916666666666, 8.927083333333334, 9.28125, 10.1875, 11.28125, 11.854166666666666, 12.875, 13.291666666666666, 13.697916666666666, 14.666666666666666, 15.322916666666666, 15.9375, 17.09375, 18.583333333333332, 19.197916666666668, 20.291666666666668, 20.822916666666668, 21.729166666666668, 22.96875, 23.375, 24.8125, 25.364583333333332, 26.697916666666668, 27.322916666666668, 27.791666666666668, 29.052083333333332, 30.65625, 31.322916666666668, 32.75, 33.5625, 33.958333333333336, 35.09375, 35.291666666666664, 36.104166666666664, 36.34375, 36.395833333333336, 36.46875, 36.552083333333336, 36.635416666666664, 36.75, 37.458333333333336, 37.5625, 37.822916666666664, 37.9375, 38.364583333333336, 38.375, 38.416666666666664, 39.010416666666664, 39.072916666666664, 39.5, 40.072916666666664, 40.09375, 40.114583333333336, 40.479166666666664, 40.5, 40.510416666666664, 40.510416666666664, 40.520833333333336, 40.520833333333336, 40.822916666666664, 40.822916666666664, 40.822916666666664, 40.822916666666664, 40.822916666666664, 40.822916666666664, 40.822916666666664, 40.822916666666664, 40.822916666666664, 40.822916666666664, 40.822916666666664, 40.822916666666664, 40.822916666666664, 40.822916666666664]\n",
            "32\n",
            "Metrics 15 66 111 0 0.006366925764921793\n",
            "[0.036458333333333336, 0.036458333333333336, 0.041666666666666664, 0.052083333333333336, 0.0625, 0.07291666666666667, 0.09895833333333333, 0.140625, 0.18229166666666666, 0.21875, 0.3489583333333333, 0.5833333333333334, 0.71875, 0.84375, 0.9427083333333334, 1.1302083333333333, 1.6927083333333333, 1.8072916666666667, 1.9166666666666667, 2.03125, 2.1458333333333335, 2.3333333333333335, 2.453125, 2.5625, 2.8697916666666665, 3.03125, 3.15625, 3.8125, 4.229166666666667, 4.703125, 4.84375, 5.005208333333333, 5.458333333333333, 5.604166666666667, 6.354166666666667, 6.984375, 7.46875, 7.619791666666667, 8.09375, 8.828125, 9.052083333333334, 9.265625, 9.864583333333334, 10.901041666666666, 11.25, 11.572916666666666, 12.166666666666666, 13.0625, 13.484375, 13.890625, 15.395833333333334, 16.119791666666668, 17.09375, 17.510416666666668, 18.119791666666668, 19.067708333333332, 19.848958333333332, 21.166666666666668, 22.375, 23.864583333333332, 25.291666666666668, 26.057291666666668, 27.989583333333332, 29.135416666666668, 29.458333333333332, 30.317708333333332, 31.927083333333332, 32.390625, 32.973958333333336, 33.671875, 34.130208333333336, 34.822916666666664, 36.0625, 36.609375, 36.911458333333336, 37.296875, 38.083333333333336, 38.286458333333336, 38.645833333333336, 38.817708333333336, 39.296875, 39.380208333333336, 39.942708333333336, 40.0625, 40.635416666666664, 40.833333333333336, 41.515625, 41.921875, 41.947916666666664, 42.010416666666664, 42.229166666666664, 42.260416666666664, 42.276041666666664, 42.296875, 42.333333333333336, 42.390625, 42.463541666666664, 42.5, 42.546875, 42.583333333333336, 42.734375, 43.098958333333336, 43.119791666666664, 43.177083333333336, 43.203125, 43.203125, 43.208333333333336, 43.213541666666664, 43.234375, 43.25, 43.276041666666664, 43.333333333333336, 43.354166666666664, 43.354166666666664, 43.369791666666664, 43.390625, 43.411458333333336, 43.427083333333336, 43.552083333333336, 43.572916666666664, 43.59375, 43.614583333333336, 43.614583333333336, 43.625, 43.765625, 43.953125, 44.130208333333336, 44.536458333333336, 44.885416666666664, 44.979166666666664, 45.494791666666664, 45.755208333333336, 45.984375, 46.510416666666664, 46.703125, 46.703125, 46.864583333333336, 47.161458333333336, 47.583333333333336, 47.890625, 48.921875, 49.192708333333336, 49.572916666666664, 50.177083333333336, 50.765625, 51.6875, 51.854166666666664, 52.677083333333336, 52.916666666666664, 54.067708333333336, 54.65625, 54.776041666666664, 55.963541666666664, 56.973958333333336, 57.640625, 58.723958333333336, 59.026041666666664, 59.307291666666664, 60.135416666666664, 60.255208333333336, 60.9375, 61.098958333333336, 61.098958333333336, 61.098958333333336, 61.098958333333336, 61.098958333333336, 61.098958333333336, 61.677083333333336, 61.677083333333336, 62.104166666666664, 62.234375, 62.520833333333336, 62.520833333333336, 62.520833333333336, 62.8125, 62.8125, 63.09375, 63.380208333333336, 63.380208333333336, 63.380208333333336, 63.604166666666664, 63.802083333333336, 63.802083333333336, 63.802083333333336, 63.802083333333336, 63.802083333333336, 64.0, 64.0, 64.0, 64.0, 64.0, 64.0, 64.0, 64.0, 64.0, 64.0, 64.0, 64.0, 64.0, 64.0]\n",
            "[0.0, 0.0, 0.0, 0.0, 0.0, 0.0, 0.0, 0.0, 0.0, 0.0, 0.0, 0.0, 0.0, 0.0, 0.0, 0.0, 0.0, 0.0, 0.0, 0.0, 0.0, 0.0, 0.0, 0.0, 0.0, 0.0, 0.0, 0.0, 0.0, 0.0, 0.0, 0.0, 0.0, 0.0, 0.0, 0.0, 0.0, 0.0, 0.0, 0.0, 0.0, 0.0, 0.0, 0.0, 0.0, 0.0, 0.0, 0.0, 0.0, 0.0, 0.010416666666666666, 0.010416666666666666, 0.010416666666666666, 0.020833333333333332, 0.020833333333333332, 0.020833333333333332, 0.03125, 0.041666666666666664, 0.041666666666666664, 0.041666666666666664, 0.041666666666666664, 0.0625, 0.07291666666666667, 0.08333333333333333, 0.08333333333333333, 0.09375, 0.10416666666666667, 0.10416666666666667, 0.11458333333333333, 0.13541666666666666, 0.13541666666666666, 0.14583333333333334, 0.15625, 0.16666666666666666, 0.17708333333333334, 0.19791666666666666, 0.21875, 0.23958333333333334, 0.25, 0.2708333333333333, 0.2916666666666667, 0.3333333333333333, 0.3854166666666667, 0.4166666666666667, 0.4479166666666667, 0.5, 0.5520833333333334, 0.6041666666666666, 0.6875, 0.7083333333333334, 0.7604166666666666, 0.8020833333333334, 0.8333333333333334, 0.875, 0.9375, 1.0104166666666667, 1.0625, 1.1145833333333333, 1.1666666666666667, 1.21875, 1.28125, 1.3541666666666667, 1.3854166666666667, 1.4375, 1.53125, 1.6354166666666667, 1.7395833333333333, 1.90625, 2.0104166666666665, 2.09375, 2.25, 2.3854166666666665, 2.6145833333333335, 2.75, 2.90625, 3.0520833333333335, 3.1770833333333335, 3.4166666666666665, 3.625, 3.9375, 4.135416666666667, 4.458333333333333, 5.114583333333333, 5.40625, 5.8125, 6.229166666666667, 6.96875, 8.322916666666666, 8.927083333333334, 9.28125, 10.1875, 11.28125, 11.854166666666666, 12.875, 13.291666666666666, 13.697916666666666, 14.666666666666666, 15.322916666666666, 15.9375, 17.09375, 18.583333333333332, 19.197916666666668, 20.291666666666668, 20.822916666666668, 21.729166666666668, 22.96875, 23.375, 24.8125, 25.364583333333332, 26.697916666666668, 27.322916666666668, 27.791666666666668, 29.052083333333332, 30.65625, 31.322916666666668, 32.75, 33.5625, 33.958333333333336, 35.09375, 35.291666666666664, 36.104166666666664, 36.34375, 36.395833333333336, 36.46875, 36.552083333333336, 36.635416666666664, 36.75, 37.458333333333336, 37.5625, 37.822916666666664, 37.9375, 38.364583333333336, 38.375, 38.416666666666664, 39.010416666666664, 39.072916666666664, 39.5, 40.072916666666664, 40.09375, 40.114583333333336, 40.479166666666664, 40.5, 40.510416666666664, 40.510416666666664, 40.520833333333336, 40.520833333333336, 40.822916666666664, 40.822916666666664, 40.822916666666664, 40.822916666666664, 40.822916666666664, 40.822916666666664, 40.822916666666664, 40.822916666666664, 40.822916666666664, 40.822916666666664, 40.822916666666664, 40.822916666666664, 40.822916666666664, 40.822916666666664]\n",
            "36\n",
            "Metrics 20 77 95 0 0.015585153416814386\n",
            "[0.036458333333333336, 0.036458333333333336, 0.041666666666666664, 0.052083333333333336, 0.0625, 0.07291666666666667, 0.09895833333333333, 0.140625, 0.18229166666666666, 0.21875, 0.3489583333333333, 0.5833333333333334, 0.71875, 0.84375, 0.9427083333333334, 1.1302083333333333, 1.6927083333333333, 1.8072916666666667, 1.9166666666666667, 2.03125, 2.1458333333333335, 2.3333333333333335, 2.453125, 2.5625, 2.8697916666666665, 3.03125, 3.15625, 3.8125, 4.229166666666667, 4.703125, 4.84375, 5.005208333333333, 5.458333333333333, 5.604166666666667, 6.354166666666667, 6.984375, 7.46875, 7.619791666666667, 8.09375, 8.828125, 9.052083333333334, 9.265625, 9.864583333333334, 10.901041666666666, 11.25, 11.572916666666666, 12.166666666666666, 13.0625, 13.484375, 13.890625, 15.395833333333334, 16.119791666666668, 17.09375, 17.510416666666668, 18.119791666666668, 19.067708333333332, 19.848958333333332, 21.166666666666668, 22.375, 23.864583333333332, 25.291666666666668, 26.057291666666668, 27.989583333333332, 29.135416666666668, 29.458333333333332, 30.317708333333332, 31.927083333333332, 32.390625, 32.973958333333336, 33.671875, 34.130208333333336, 34.822916666666664, 36.0625, 36.609375, 36.911458333333336, 37.296875, 38.083333333333336, 38.286458333333336, 38.645833333333336, 38.817708333333336, 39.296875, 39.380208333333336, 39.942708333333336, 40.0625, 40.635416666666664, 40.833333333333336, 41.515625, 41.921875, 41.947916666666664, 42.010416666666664, 42.229166666666664, 42.260416666666664, 42.276041666666664, 42.296875, 42.333333333333336, 42.390625, 42.463541666666664, 42.5, 42.546875, 42.583333333333336, 42.734375, 43.098958333333336, 43.119791666666664, 43.177083333333336, 43.203125, 43.203125, 43.208333333333336, 43.213541666666664, 43.234375, 43.25, 43.276041666666664, 43.333333333333336, 43.354166666666664, 43.354166666666664, 43.369791666666664, 43.390625, 43.411458333333336, 43.427083333333336, 43.552083333333336, 43.572916666666664, 43.59375, 43.614583333333336, 43.614583333333336, 43.625, 43.765625, 43.953125, 44.130208333333336, 44.536458333333336, 44.885416666666664, 44.979166666666664, 45.494791666666664, 45.755208333333336, 45.984375, 46.510416666666664, 46.703125, 46.703125, 46.864583333333336, 47.161458333333336, 47.583333333333336, 47.890625, 48.921875, 49.192708333333336, 49.572916666666664, 50.177083333333336, 50.765625, 51.6875, 51.854166666666664, 52.677083333333336, 52.916666666666664, 54.067708333333336, 54.65625, 54.776041666666664, 55.963541666666664, 56.973958333333336, 57.640625, 58.723958333333336, 59.026041666666664, 59.307291666666664, 60.135416666666664, 60.255208333333336, 60.9375, 61.098958333333336, 61.098958333333336, 61.098958333333336, 61.098958333333336, 61.098958333333336, 61.098958333333336, 61.677083333333336, 61.677083333333336, 62.104166666666664, 62.234375, 62.520833333333336, 62.520833333333336, 62.520833333333336, 62.8125, 62.8125, 63.09375, 63.380208333333336, 63.380208333333336, 63.380208333333336, 63.604166666666664, 63.802083333333336, 63.802083333333336, 63.802083333333336, 63.802083333333336, 63.802083333333336, 64.0, 64.0, 64.0, 64.0, 64.0, 64.0, 64.0, 64.0, 64.0, 64.0, 64.0, 64.0, 64.0, 64.0]\n",
            "[0.0, 0.0, 0.0, 0.0, 0.0, 0.0, 0.0, 0.0, 0.0, 0.0, 0.0, 0.0, 0.0, 0.0, 0.0, 0.0, 0.0, 0.0, 0.0, 0.0, 0.0, 0.0, 0.0, 0.0, 0.0, 0.0, 0.0, 0.0, 0.0, 0.0, 0.0, 0.0, 0.0, 0.0, 0.0, 0.0, 0.0, 0.0, 0.0, 0.0, 0.0, 0.0, 0.0, 0.0, 0.0, 0.0, 0.0, 0.0, 0.0, 0.0, 0.010416666666666666, 0.010416666666666666, 0.010416666666666666, 0.020833333333333332, 0.020833333333333332, 0.020833333333333332, 0.03125, 0.041666666666666664, 0.041666666666666664, 0.041666666666666664, 0.041666666666666664, 0.0625, 0.07291666666666667, 0.08333333333333333, 0.08333333333333333, 0.09375, 0.10416666666666667, 0.10416666666666667, 0.11458333333333333, 0.13541666666666666, 0.13541666666666666, 0.14583333333333334, 0.15625, 0.16666666666666666, 0.17708333333333334, 0.19791666666666666, 0.21875, 0.23958333333333334, 0.25, 0.2708333333333333, 0.2916666666666667, 0.3333333333333333, 0.3854166666666667, 0.4166666666666667, 0.4479166666666667, 0.5, 0.5520833333333334, 0.6041666666666666, 0.6875, 0.7083333333333334, 0.7604166666666666, 0.8020833333333334, 0.8333333333333334, 0.875, 0.9375, 1.0104166666666667, 1.0625, 1.1145833333333333, 1.1666666666666667, 1.21875, 1.28125, 1.3541666666666667, 1.3854166666666667, 1.4375, 1.53125, 1.6354166666666667, 1.7395833333333333, 1.90625, 2.0104166666666665, 2.09375, 2.25, 2.3854166666666665, 2.6145833333333335, 2.75, 2.90625, 3.0520833333333335, 3.1770833333333335, 3.4166666666666665, 3.625, 3.9375, 4.135416666666667, 4.458333333333333, 5.114583333333333, 5.40625, 5.8125, 6.229166666666667, 6.96875, 8.322916666666666, 8.927083333333334, 9.28125, 10.1875, 11.28125, 11.854166666666666, 12.875, 13.291666666666666, 13.697916666666666, 14.666666666666666, 15.322916666666666, 15.9375, 17.09375, 18.583333333333332, 19.197916666666668, 20.291666666666668, 20.822916666666668, 21.729166666666668, 22.96875, 23.375, 24.8125, 25.364583333333332, 26.697916666666668, 27.322916666666668, 27.791666666666668, 29.052083333333332, 30.65625, 31.322916666666668, 32.75, 33.5625, 33.958333333333336, 35.09375, 35.291666666666664, 36.104166666666664, 36.34375, 36.395833333333336, 36.46875, 36.552083333333336, 36.635416666666664, 36.75, 37.458333333333336, 37.5625, 37.822916666666664, 37.9375, 38.364583333333336, 38.375, 38.416666666666664, 39.010416666666664, 39.072916666666664, 39.5, 40.072916666666664, 40.09375, 40.114583333333336, 40.479166666666664, 40.5, 40.510416666666664, 40.510416666666664, 40.520833333333336, 40.520833333333336, 40.822916666666664, 40.822916666666664, 40.822916666666664, 40.822916666666664, 40.822916666666664, 40.822916666666664, 40.822916666666664, 40.822916666666664, 40.822916666666664, 40.822916666666664, 40.822916666666664, 40.822916666666664, 40.822916666666664, 40.822916666666664]\n",
            "40\n",
            "Metrics 38 86 68 0 0.07674358614409776\n",
            "[0.036458333333333336, 0.036458333333333336, 0.041666666666666664, 0.052083333333333336, 0.0625, 0.07291666666666667, 0.09895833333333333, 0.140625, 0.18229166666666666, 0.21875, 0.3489583333333333, 0.5833333333333334, 0.71875, 0.84375, 0.9427083333333334, 1.1302083333333333, 1.6927083333333333, 1.8072916666666667, 1.9166666666666667, 2.03125, 2.1458333333333335, 2.3333333333333335, 2.453125, 2.5625, 2.8697916666666665, 3.03125, 3.15625, 3.8125, 4.229166666666667, 4.703125, 4.84375, 5.005208333333333, 5.458333333333333, 5.604166666666667, 6.354166666666667, 6.984375, 7.46875, 7.619791666666667, 8.09375, 8.828125, 9.052083333333334, 9.265625, 9.864583333333334, 10.901041666666666, 11.25, 11.572916666666666, 12.166666666666666, 13.0625, 13.484375, 13.890625, 15.395833333333334, 16.119791666666668, 17.09375, 17.510416666666668, 18.119791666666668, 19.067708333333332, 19.848958333333332, 21.166666666666668, 22.375, 23.864583333333332, 25.291666666666668, 26.057291666666668, 27.989583333333332, 29.135416666666668, 29.458333333333332, 30.317708333333332, 31.927083333333332, 32.390625, 32.973958333333336, 33.671875, 34.130208333333336, 34.822916666666664, 36.0625, 36.609375, 36.911458333333336, 37.296875, 38.083333333333336, 38.286458333333336, 38.645833333333336, 38.817708333333336, 39.296875, 39.380208333333336, 39.942708333333336, 40.0625, 40.635416666666664, 40.833333333333336, 41.515625, 41.921875, 41.947916666666664, 42.010416666666664, 42.229166666666664, 42.260416666666664, 42.276041666666664, 42.296875, 42.333333333333336, 42.390625, 42.463541666666664, 42.5, 42.546875, 42.583333333333336, 42.734375, 43.098958333333336, 43.119791666666664, 43.177083333333336, 43.203125, 43.203125, 43.208333333333336, 43.213541666666664, 43.234375, 43.25, 43.276041666666664, 43.333333333333336, 43.354166666666664, 43.354166666666664, 43.369791666666664, 43.390625, 43.411458333333336, 43.427083333333336, 43.552083333333336, 43.572916666666664, 43.59375, 43.614583333333336, 43.614583333333336, 43.625, 43.765625, 43.953125, 44.130208333333336, 44.536458333333336, 44.885416666666664, 44.979166666666664, 45.494791666666664, 45.755208333333336, 45.984375, 46.510416666666664, 46.703125, 46.703125, 46.864583333333336, 47.161458333333336, 47.583333333333336, 47.890625, 48.921875, 49.192708333333336, 49.572916666666664, 50.177083333333336, 50.765625, 51.6875, 51.854166666666664, 52.677083333333336, 52.916666666666664, 54.067708333333336, 54.65625, 54.776041666666664, 55.963541666666664, 56.973958333333336, 57.640625, 58.723958333333336, 59.026041666666664, 59.307291666666664, 60.135416666666664, 60.255208333333336, 60.9375, 61.098958333333336, 61.098958333333336, 61.098958333333336, 61.098958333333336, 61.098958333333336, 61.098958333333336, 61.677083333333336, 61.677083333333336, 62.104166666666664, 62.234375, 62.520833333333336, 62.520833333333336, 62.520833333333336, 62.8125, 62.8125, 63.09375, 63.380208333333336, 63.380208333333336, 63.380208333333336, 63.604166666666664, 63.802083333333336, 63.802083333333336, 63.802083333333336, 63.802083333333336, 63.802083333333336, 64.0, 64.0, 64.0, 64.0, 64.0, 64.0, 64.0, 64.0, 64.0, 64.0, 64.0, 64.0, 64.0, 64.0]\n",
            "[0.0, 0.0, 0.0, 0.0, 0.0, 0.0, 0.0, 0.0, 0.0, 0.0, 0.0, 0.0, 0.0, 0.0, 0.0, 0.0, 0.0, 0.0, 0.0, 0.0, 0.0, 0.0, 0.0, 0.0, 0.0, 0.0, 0.0, 0.0, 0.0, 0.0, 0.0, 0.0, 0.0, 0.0, 0.0, 0.0, 0.0, 0.0, 0.0, 0.0, 0.0, 0.0, 0.0, 0.0, 0.0, 0.0, 0.0, 0.0, 0.0, 0.0, 0.010416666666666666, 0.010416666666666666, 0.010416666666666666, 0.020833333333333332, 0.020833333333333332, 0.020833333333333332, 0.03125, 0.041666666666666664, 0.041666666666666664, 0.041666666666666664, 0.041666666666666664, 0.0625, 0.07291666666666667, 0.08333333333333333, 0.08333333333333333, 0.09375, 0.10416666666666667, 0.10416666666666667, 0.11458333333333333, 0.13541666666666666, 0.13541666666666666, 0.14583333333333334, 0.15625, 0.16666666666666666, 0.17708333333333334, 0.19791666666666666, 0.21875, 0.23958333333333334, 0.25, 0.2708333333333333, 0.2916666666666667, 0.3333333333333333, 0.3854166666666667, 0.4166666666666667, 0.4479166666666667, 0.5, 0.5520833333333334, 0.6041666666666666, 0.6875, 0.7083333333333334, 0.7604166666666666, 0.8020833333333334, 0.8333333333333334, 0.875, 0.9375, 1.0104166666666667, 1.0625, 1.1145833333333333, 1.1666666666666667, 1.21875, 1.28125, 1.3541666666666667, 1.3854166666666667, 1.4375, 1.53125, 1.6354166666666667, 1.7395833333333333, 1.90625, 2.0104166666666665, 2.09375, 2.25, 2.3854166666666665, 2.6145833333333335, 2.75, 2.90625, 3.0520833333333335, 3.1770833333333335, 3.4166666666666665, 3.625, 3.9375, 4.135416666666667, 4.458333333333333, 5.114583333333333, 5.40625, 5.8125, 6.229166666666667, 6.96875, 8.322916666666666, 8.927083333333334, 9.28125, 10.1875, 11.28125, 11.854166666666666, 12.875, 13.291666666666666, 13.697916666666666, 14.666666666666666, 15.322916666666666, 15.9375, 17.09375, 18.583333333333332, 19.197916666666668, 20.291666666666668, 20.822916666666668, 21.729166666666668, 22.96875, 23.375, 24.8125, 25.364583333333332, 26.697916666666668, 27.322916666666668, 27.791666666666668, 29.052083333333332, 30.65625, 31.322916666666668, 32.75, 33.5625, 33.958333333333336, 35.09375, 35.291666666666664, 36.104166666666664, 36.34375, 36.395833333333336, 36.46875, 36.552083333333336, 36.635416666666664, 36.75, 37.458333333333336, 37.5625, 37.822916666666664, 37.9375, 38.364583333333336, 38.375, 38.416666666666664, 39.010416666666664, 39.072916666666664, 39.5, 40.072916666666664, 40.09375, 40.114583333333336, 40.479166666666664, 40.5, 40.510416666666664, 40.510416666666664, 40.520833333333336, 40.520833333333336, 40.822916666666664, 40.822916666666664, 40.822916666666664, 40.822916666666664, 40.822916666666664, 40.822916666666664, 40.822916666666664, 40.822916666666664, 40.822916666666664, 40.822916666666664, 40.822916666666664, 40.822916666666664, 40.822916666666664, 40.822916666666664]\n",
            "44\n",
            "Metrics 87 96 5 4 0.9819248173997495\n",
            "[0.036458333333333336, 0.036458333333333336, 0.041666666666666664, 0.052083333333333336, 0.0625, 0.07291666666666667, 0.09895833333333333, 0.140625, 0.18229166666666666, 0.21875, 0.3489583333333333, 0.5833333333333334, 0.71875, 0.84375, 0.9427083333333334, 1.1302083333333333, 1.6927083333333333, 1.8072916666666667, 1.9166666666666667, 2.03125, 2.1458333333333335, 2.3333333333333335, 2.453125, 2.5625, 2.8697916666666665, 3.03125, 3.15625, 3.8125, 4.229166666666667, 4.703125, 4.84375, 5.005208333333333, 5.458333333333333, 5.604166666666667, 6.354166666666667, 6.984375, 7.46875, 7.619791666666667, 8.09375, 8.828125, 9.052083333333334, 9.265625, 9.864583333333334, 10.901041666666666, 11.25, 11.572916666666666, 12.166666666666666, 13.0625, 13.484375, 13.890625, 15.395833333333334, 16.119791666666668, 17.09375, 17.510416666666668, 18.119791666666668, 19.067708333333332, 19.848958333333332, 21.166666666666668, 22.375, 23.864583333333332, 25.291666666666668, 26.057291666666668, 27.989583333333332, 29.135416666666668, 29.458333333333332, 30.317708333333332, 31.927083333333332, 32.390625, 32.973958333333336, 33.671875, 34.130208333333336, 34.822916666666664, 36.0625, 36.609375, 36.911458333333336, 37.296875, 38.083333333333336, 38.286458333333336, 38.645833333333336, 38.817708333333336, 39.296875, 39.380208333333336, 39.942708333333336, 40.0625, 40.635416666666664, 40.833333333333336, 41.515625, 41.921875, 41.947916666666664, 42.010416666666664, 42.229166666666664, 42.260416666666664, 42.276041666666664, 42.296875, 42.333333333333336, 42.390625, 42.463541666666664, 42.5, 42.546875, 42.583333333333336, 42.734375, 43.098958333333336, 43.119791666666664, 43.177083333333336, 43.203125, 43.203125, 43.208333333333336, 43.213541666666664, 43.234375, 43.25, 43.276041666666664, 43.333333333333336, 43.354166666666664, 43.354166666666664, 43.369791666666664, 43.390625, 43.411458333333336, 43.427083333333336, 43.552083333333336, 43.572916666666664, 43.59375, 43.614583333333336, 43.614583333333336, 43.625, 43.765625, 43.953125, 44.130208333333336, 44.536458333333336, 44.885416666666664, 44.979166666666664, 45.494791666666664, 45.755208333333336, 45.984375, 46.510416666666664, 46.703125, 46.703125, 46.864583333333336, 47.161458333333336, 47.583333333333336, 47.890625, 48.921875, 49.192708333333336, 49.572916666666664, 50.177083333333336, 50.765625, 51.6875, 51.854166666666664, 52.677083333333336, 52.916666666666664, 54.067708333333336, 54.65625, 54.776041666666664, 55.963541666666664, 56.973958333333336, 57.640625, 58.723958333333336, 59.026041666666664, 59.307291666666664, 60.135416666666664, 60.255208333333336, 60.9375, 61.098958333333336, 61.098958333333336, 61.098958333333336, 61.098958333333336, 61.098958333333336, 61.098958333333336, 61.677083333333336, 61.677083333333336, 62.104166666666664, 62.234375, 62.520833333333336, 62.520833333333336, 62.520833333333336, 62.8125, 62.8125, 63.09375, 63.380208333333336, 63.380208333333336, 63.380208333333336, 63.604166666666664, 63.802083333333336, 63.802083333333336, 63.802083333333336, 63.802083333333336, 63.802083333333336, 64.0, 64.0, 64.0, 64.0, 64.0, 64.0, 64.0, 64.0, 64.0, 64.0, 64.0, 64.0, 64.0, 64.0]\n",
            "[0.0, 0.0, 0.0, 0.0, 0.0, 0.0, 0.0, 0.0, 0.0, 0.0, 0.0, 0.0, 0.0, 0.0, 0.0, 0.0, 0.0, 0.0, 0.0, 0.0, 0.0, 0.0, 0.0, 0.0, 0.0, 0.0, 0.0, 0.0, 0.0, 0.0, 0.0, 0.0, 0.0, 0.0, 0.0, 0.0, 0.0, 0.0, 0.0, 0.0, 0.0, 0.0, 0.0, 0.0, 0.0, 0.0, 0.0, 0.0, 0.0, 0.0, 0.010416666666666666, 0.010416666666666666, 0.010416666666666666, 0.020833333333333332, 0.020833333333333332, 0.020833333333333332, 0.03125, 0.041666666666666664, 0.041666666666666664, 0.041666666666666664, 0.041666666666666664, 0.0625, 0.07291666666666667, 0.08333333333333333, 0.08333333333333333, 0.09375, 0.10416666666666667, 0.10416666666666667, 0.11458333333333333, 0.13541666666666666, 0.13541666666666666, 0.14583333333333334, 0.15625, 0.16666666666666666, 0.17708333333333334, 0.19791666666666666, 0.21875, 0.23958333333333334, 0.25, 0.2708333333333333, 0.2916666666666667, 0.3333333333333333, 0.3854166666666667, 0.4166666666666667, 0.4479166666666667, 0.5, 0.5520833333333334, 0.6041666666666666, 0.6875, 0.7083333333333334, 0.7604166666666666, 0.8020833333333334, 0.8333333333333334, 0.875, 0.9375, 1.0104166666666667, 1.0625, 1.1145833333333333, 1.1666666666666667, 1.21875, 1.28125, 1.3541666666666667, 1.3854166666666667, 1.4375, 1.53125, 1.6354166666666667, 1.7395833333333333, 1.90625, 2.0104166666666665, 2.09375, 2.25, 2.3854166666666665, 2.6145833333333335, 2.75, 2.90625, 3.0520833333333335, 3.1770833333333335, 3.4166666666666665, 3.625, 3.9375, 4.135416666666667, 4.458333333333333, 5.114583333333333, 5.40625, 5.8125, 6.229166666666667, 6.96875, 8.322916666666666, 8.927083333333334, 9.28125, 10.1875, 11.28125, 11.854166666666666, 12.875, 13.291666666666666, 13.697916666666666, 14.666666666666666, 15.322916666666666, 15.9375, 17.09375, 18.583333333333332, 19.197916666666668, 20.291666666666668, 20.822916666666668, 21.729166666666668, 22.96875, 23.375, 24.8125, 25.364583333333332, 26.697916666666668, 27.322916666666668, 27.791666666666668, 29.052083333333332, 30.65625, 31.322916666666668, 32.75, 33.5625, 33.958333333333336, 35.09375, 35.291666666666664, 36.104166666666664, 36.34375, 36.395833333333336, 36.46875, 36.552083333333336, 36.635416666666664, 36.75, 37.458333333333336, 37.5625, 37.822916666666664, 37.9375, 38.364583333333336, 38.375, 38.416666666666664, 39.010416666666664, 39.072916666666664, 39.5, 40.072916666666664, 40.09375, 40.114583333333336, 40.479166666666664, 40.5, 40.510416666666664, 40.510416666666664, 40.520833333333336, 40.520833333333336, 40.822916666666664, 40.822916666666664, 40.822916666666664, 40.822916666666664, 40.822916666666664, 40.822916666666664, 40.822916666666664, 40.822916666666664, 40.822916666666664, 40.822916666666664, 40.822916666666664, 40.822916666666664, 40.822916666666664, 40.822916666666664]\n",
            "48\n",
            "Metrics 70 96 1 25 0.9977744599160726\n",
            "[0.036458333333333336, 0.036458333333333336, 0.041666666666666664, 0.052083333333333336, 0.0625, 0.07291666666666667, 0.09895833333333333, 0.140625, 0.18229166666666666, 0.21875, 0.3489583333333333, 0.5833333333333334, 0.71875, 0.84375, 0.9427083333333334, 1.1302083333333333, 1.6927083333333333, 1.8072916666666667, 1.9166666666666667, 2.03125, 2.1458333333333335, 2.3333333333333335, 2.453125, 2.5625, 2.8697916666666665, 3.03125, 3.15625, 3.8125, 4.229166666666667, 4.703125, 4.84375, 5.005208333333333, 5.458333333333333, 5.604166666666667, 6.354166666666667, 6.984375, 7.46875, 7.619791666666667, 8.09375, 8.828125, 9.052083333333334, 9.265625, 9.864583333333334, 10.901041666666666, 11.25, 11.572916666666666, 12.166666666666666, 13.0625, 13.484375, 13.890625, 15.395833333333334, 16.119791666666668, 17.09375, 17.510416666666668, 18.119791666666668, 19.067708333333332, 19.848958333333332, 21.166666666666668, 22.375, 23.864583333333332, 25.291666666666668, 26.057291666666668, 27.989583333333332, 29.135416666666668, 29.458333333333332, 30.317708333333332, 31.927083333333332, 32.390625, 32.973958333333336, 33.671875, 34.130208333333336, 34.822916666666664, 36.0625, 36.609375, 36.911458333333336, 37.296875, 38.083333333333336, 38.286458333333336, 38.645833333333336, 38.817708333333336, 39.296875, 39.380208333333336, 39.942708333333336, 40.0625, 40.635416666666664, 40.833333333333336, 41.515625, 41.921875, 41.947916666666664, 42.010416666666664, 42.229166666666664, 42.260416666666664, 42.276041666666664, 42.296875, 42.333333333333336, 42.390625, 42.463541666666664, 42.5, 42.546875, 42.583333333333336, 42.734375, 43.098958333333336, 43.119791666666664, 43.177083333333336, 43.203125, 43.203125, 43.208333333333336, 43.213541666666664, 43.234375, 43.25, 43.276041666666664, 43.333333333333336, 43.354166666666664, 43.354166666666664, 43.369791666666664, 43.390625, 43.411458333333336, 43.427083333333336, 43.552083333333336, 43.572916666666664, 43.59375, 43.614583333333336, 43.614583333333336, 43.625, 43.765625, 43.953125, 44.130208333333336, 44.536458333333336, 44.885416666666664, 44.979166666666664, 45.494791666666664, 45.755208333333336, 45.984375, 46.510416666666664, 46.703125, 46.703125, 46.864583333333336, 47.161458333333336, 47.583333333333336, 47.890625, 48.921875, 49.192708333333336, 49.572916666666664, 50.177083333333336, 50.765625, 51.6875, 51.854166666666664, 52.677083333333336, 52.916666666666664, 54.067708333333336, 54.65625, 54.776041666666664, 55.963541666666664, 56.973958333333336, 57.640625, 58.723958333333336, 59.026041666666664, 59.307291666666664, 60.135416666666664, 60.255208333333336, 60.9375, 61.098958333333336, 61.098958333333336, 61.098958333333336, 61.098958333333336, 61.098958333333336, 61.098958333333336, 61.677083333333336, 61.677083333333336, 62.104166666666664, 62.234375, 62.520833333333336, 62.520833333333336, 62.520833333333336, 62.8125, 62.8125, 63.09375, 63.380208333333336, 63.380208333333336, 63.380208333333336, 63.604166666666664, 63.802083333333336, 63.802083333333336, 63.802083333333336, 63.802083333333336, 63.802083333333336, 64.0, 64.0, 64.0, 64.0, 64.0, 64.0, 64.0, 64.0, 64.0, 64.0, 64.0, 64.0, 64.0, 64.0]\n",
            "[0.0, 0.0, 0.0, 0.0, 0.0, 0.0, 0.0, 0.0, 0.0, 0.0, 0.0, 0.0, 0.0, 0.0, 0.0, 0.0, 0.0, 0.0, 0.0, 0.0, 0.0, 0.0, 0.0, 0.0, 0.0, 0.0, 0.0, 0.0, 0.0, 0.0, 0.0, 0.0, 0.0, 0.0, 0.0, 0.0, 0.0, 0.0, 0.0, 0.0, 0.0, 0.0, 0.0, 0.0, 0.0, 0.0, 0.0, 0.0, 0.0, 0.0, 0.010416666666666666, 0.010416666666666666, 0.010416666666666666, 0.020833333333333332, 0.020833333333333332, 0.020833333333333332, 0.03125, 0.041666666666666664, 0.041666666666666664, 0.041666666666666664, 0.041666666666666664, 0.0625, 0.07291666666666667, 0.08333333333333333, 0.08333333333333333, 0.09375, 0.10416666666666667, 0.10416666666666667, 0.11458333333333333, 0.13541666666666666, 0.13541666666666666, 0.14583333333333334, 0.15625, 0.16666666666666666, 0.17708333333333334, 0.19791666666666666, 0.21875, 0.23958333333333334, 0.25, 0.2708333333333333, 0.2916666666666667, 0.3333333333333333, 0.3854166666666667, 0.4166666666666667, 0.4479166666666667, 0.5, 0.5520833333333334, 0.6041666666666666, 0.6875, 0.7083333333333334, 0.7604166666666666, 0.8020833333333334, 0.8333333333333334, 0.875, 0.9375, 1.0104166666666667, 1.0625, 1.1145833333333333, 1.1666666666666667, 1.21875, 1.28125, 1.3541666666666667, 1.3854166666666667, 1.4375, 1.53125, 1.6354166666666667, 1.7395833333333333, 1.90625, 2.0104166666666665, 2.09375, 2.25, 2.3854166666666665, 2.6145833333333335, 2.75, 2.90625, 3.0520833333333335, 3.1770833333333335, 3.4166666666666665, 3.625, 3.9375, 4.135416666666667, 4.458333333333333, 5.114583333333333, 5.40625, 5.8125, 6.229166666666667, 6.96875, 8.322916666666666, 8.927083333333334, 9.28125, 10.1875, 11.28125, 11.854166666666666, 12.875, 13.291666666666666, 13.697916666666666, 14.666666666666666, 15.322916666666666, 15.9375, 17.09375, 18.583333333333332, 19.197916666666668, 20.291666666666668, 20.822916666666668, 21.729166666666668, 22.96875, 23.375, 24.8125, 25.364583333333332, 26.697916666666668, 27.322916666666668, 27.791666666666668, 29.052083333333332, 30.65625, 31.322916666666668, 32.75, 33.5625, 33.958333333333336, 35.09375, 35.291666666666664, 36.104166666666664, 36.34375, 36.395833333333336, 36.46875, 36.552083333333336, 36.635416666666664, 36.75, 37.458333333333336, 37.5625, 37.822916666666664, 37.9375, 38.364583333333336, 38.375, 38.416666666666664, 39.010416666666664, 39.072916666666664, 39.5, 40.072916666666664, 40.09375, 40.114583333333336, 40.479166666666664, 40.5, 40.510416666666664, 40.510416666666664, 40.520833333333336, 40.520833333333336, 40.822916666666664, 40.822916666666664, 40.822916666666664, 40.822916666666664, 40.822916666666664, 40.822916666666664, 40.822916666666664, 40.822916666666664, 40.822916666666664, 40.822916666666664, 40.822916666666664, 40.822916666666664, 40.822916666666664, 40.822916666666664]\n",
            "52\n",
            "Metrics 53 96 0 43 0.9992241723390662\n",
            "model_FNN_bce (Mean FP delay, Mean delay, Threshold):  [32, 0.10416666666666667] 0.006366925764921793\n",
            "model_FNN_bce (Mean FP delay, Mean delay, Threshold):  [36, 0.15625] 0.015585153416814386\n",
            "model_FNN_bce (Mean FP delay, Mean delay, Threshold):  [40, 0.4166666666666667] 0.07674358614409776\n",
            "model_FNN_bce (Mean FP delay, Mean delay, Threshold):  [44, 6.96875] 0.9819248173997495\n",
            "model_FNN_bce (Mean FP delay, Mean delay, Threshold):  [48, 18.583333333333332] 0.9977744599160726\n",
            "model_FNN_bce (Mean FP delay, Mean delay, Threshold):  [52, 24.8125] 0.9992241723390662\n",
            "------------------------------\n",
            "[0.0, 0.0, 0.0, 0.0, 0.0, 0.0, 0.0, 0.0, 0.0, 0.0, 0.0, 0.0, 0.0, 0.0, 0.0, 0.0, 0.0, 0.0, 0.0, 0.0, 0.0, 0.0, 0.0, 0.0, 0.0, 0.0, 0.0, 0.0, 0.0, 0.0, 0.0, 0.0, 0.0, 0.0, 0.0, 0.0, 0.0, 0.0, 0.0, 0.0, 0.0, 0.0, 0.0, 0.0, 0.0, 0.0, 0.0, 0.0, 0.0, 0.0, 0.0, 0.0, 0.0, 0.005208333333333333, 0.010416666666666666, 0.03125, 0.052083333333333336, 0.07291666666666667, 0.296875, 0.4322916666666667, 0.6510416666666666, 0.96875, 1.2552083333333333, 1.453125, 2.046875, 2.765625, 3.0833333333333335, 4.020833333333333, 5.947916666666667, 7.59375, 9.03125, 9.838541666666666, 11.135416666666666, 12.265625, 14.067708333333334, 16.661458333333332, 20.020833333333332, 22.78125, 25.447916666666668, 26.932291666666668, 28.161458333333332, 30.041666666666668, 32.4375, 33.932291666666664, 35.651041666666664, 36.083333333333336, 36.953125, 37.166666666666664, 38.432291666666664, 38.630208333333336, 39.182291666666664, 39.661458333333336, 39.9375, 40.625, 41.208333333333336, 41.354166666666664, 41.463541666666664, 41.541666666666664, 41.9375, 42.15625, 42.208333333333336, 42.270833333333336, 42.317708333333336, 42.390625, 42.442708333333336, 42.489583333333336, 42.536458333333336, 42.598958333333336, 42.65625, 42.703125, 42.739583333333336, 42.859375, 42.869791666666664, 42.911458333333336, 42.9375, 42.942708333333336, 42.973958333333336, 43.161458333333336, 43.213541666666664, 43.260416666666664, 43.614583333333336, 44.005208333333336, 44.307291666666664, 44.421875, 44.609375, 44.833333333333336, 44.833333333333336, 44.833333333333336, 45.067708333333336, 45.276041666666664, 45.703125, 45.703125, 45.703125, 45.994791666666664, 46.473958333333336, 46.708333333333336, 46.708333333333336, 47.4375, 47.796875, 48.270833333333336, 48.84375, 49.708333333333336, 49.864583333333336, 50.166666666666664, 50.333333333333336, 50.713541666666664, 52.302083333333336, 52.401041666666664, 53.645833333333336, 54.104166666666664, 54.869791666666664, 55.458333333333336, 56.015625, 57.15625, 58.036458333333336, 58.036458333333336, 58.526041666666664, 59.166666666666664, 59.442708333333336, 59.885416666666664, 60.104166666666664, 60.401041666666664, 60.78125, 61.104166666666664, 61.234375, 61.416666666666664, 61.541666666666664, 61.541666666666664, 61.78125, 61.78125, 62.802083333333336, 62.802083333333336, 62.802083333333336, 63.09375, 63.09375, 63.09375, 63.09375, 63.317708333333336, 63.802083333333336, 63.802083333333336, 63.802083333333336, 63.802083333333336, 63.802083333333336, 63.802083333333336, 63.802083333333336, 63.802083333333336, 63.802083333333336, 63.802083333333336, 63.802083333333336, 64.0, 64.0, 64.0, 64.0, 64.0, 64.0, 64.0, 64.0, 64.0, 64.0, 64.0]\n",
            "[0.0, 0.0, 0.0, 0.0, 0.0, 0.0, 0.0, 0.0, 0.0, 0.0, 0.0, 0.0, 0.0, 0.0, 0.0, 0.0, 0.0, 0.0, 0.0, 0.0, 0.0, 0.0, 0.0, 0.0, 0.0, 0.0, 0.0, 0.0, 0.0, 0.0, 0.0, 0.0, 0.0, 0.0, 0.0, 0.0, 0.0, 0.0, 0.0, 0.0, 0.0, 0.0, 0.0, 0.0, 0.0, 0.0, 0.0, 0.0, 0.0, 0.0, 0.0, 0.0, 0.0, 0.0, 0.0, 0.0, 0.0, 0.0, 0.0, 0.0, 0.0, 0.0, 0.0, 0.0, 0.0, 0.0, 0.0, 0.0, 0.0, 0.0, 0.0, 0.0, 0.0, 0.0, 0.0, 0.0, 0.0, 0.03125, 0.041666666666666664, 0.052083333333333336, 0.08333333333333333, 0.14583333333333334, 0.14583333333333334, 0.1875, 0.22916666666666666, 0.23958333333333334, 0.3020833333333333, 0.3229166666666667, 0.3541666666666667, 0.3854166666666667, 0.4583333333333333, 0.4791666666666667, 0.5833333333333334, 0.6666666666666666, 0.75, 0.8020833333333334, 0.8541666666666666, 0.8958333333333334, 0.9479166666666666, 1.0729166666666667, 1.1145833333333333, 1.1875, 1.3020833333333333, 1.3854166666666667, 1.4791666666666667, 1.5520833333333333, 1.6875, 1.7708333333333333, 1.875, 2.0104166666666665, 2.1145833333333335, 2.21875, 2.3854166666666665, 2.53125, 2.71875, 2.875, 3.03125, 3.5104166666666665, 3.6875, 3.9375, 4.125, 4.9375, 5.46875, 5.666666666666667, 6.135416666666667, 6.677083333333333, 7.1875, 7.96875, 8.302083333333334, 8.729166666666666, 9.354166666666666, 9.78125, 10.270833333333334, 10.958333333333334, 12.125, 13.072916666666666, 14.145833333333334, 15.4375, 16.364583333333332, 17.854166666666668, 18.822916666666668, 19.71875, 20.28125, 21.270833333333332, 21.9375, 22.510416666666668, 24.114583333333332, 24.5625, 27.041666666666668, 28.21875, 29.072916666666668, 29.677083333333332, 30.166666666666668, 31.78125, 32.635416666666664, 32.9375, 33.635416666666664, 33.979166666666664, 34.5625, 35.416666666666664, 35.854166666666664, 36.28125, 36.510416666666664, 36.78125, 36.916666666666664, 37.239583333333336, 37.3125, 37.395833333333336, 37.645833333333336, 37.864583333333336, 38.916666666666664, 38.927083333333336, 38.9375, 39.489583333333336, 39.510416666666664, 39.510416666666664, 39.53125, 39.895833333333336, 40.760416666666664, 40.760416666666664, 40.770833333333336, 40.770833333333336, 40.770833333333336, 40.78125, 40.78125, 40.791666666666664, 40.802083333333336, 40.802083333333336, 40.8125, 40.822916666666664, 40.822916666666664, 40.822916666666664, 40.822916666666664, 40.822916666666664, 40.822916666666664, 40.822916666666664, 40.822916666666664, 40.822916666666664, 40.822916666666664, 40.822916666666664]\n",
            "32\n",
            "Metrics 16 60 116 0 0.05792451407542253\n",
            "[0.0, 0.0, 0.0, 0.0, 0.0, 0.0, 0.0, 0.0, 0.0, 0.0, 0.0, 0.0, 0.0, 0.0, 0.0, 0.0, 0.0, 0.0, 0.0, 0.0, 0.0, 0.0, 0.0, 0.0, 0.0, 0.0, 0.0, 0.0, 0.0, 0.0, 0.0, 0.0, 0.0, 0.0, 0.0, 0.0, 0.0, 0.0, 0.0, 0.0, 0.0, 0.0, 0.0, 0.0, 0.0, 0.0, 0.0, 0.0, 0.0, 0.0, 0.0, 0.0, 0.0, 0.005208333333333333, 0.010416666666666666, 0.03125, 0.052083333333333336, 0.07291666666666667, 0.296875, 0.4322916666666667, 0.6510416666666666, 0.96875, 1.2552083333333333, 1.453125, 2.046875, 2.765625, 3.0833333333333335, 4.020833333333333, 5.947916666666667, 7.59375, 9.03125, 9.838541666666666, 11.135416666666666, 12.265625, 14.067708333333334, 16.661458333333332, 20.020833333333332, 22.78125, 25.447916666666668, 26.932291666666668, 28.161458333333332, 30.041666666666668, 32.4375, 33.932291666666664, 35.651041666666664, 36.083333333333336, 36.953125, 37.166666666666664, 38.432291666666664, 38.630208333333336, 39.182291666666664, 39.661458333333336, 39.9375, 40.625, 41.208333333333336, 41.354166666666664, 41.463541666666664, 41.541666666666664, 41.9375, 42.15625, 42.208333333333336, 42.270833333333336, 42.317708333333336, 42.390625, 42.442708333333336, 42.489583333333336, 42.536458333333336, 42.598958333333336, 42.65625, 42.703125, 42.739583333333336, 42.859375, 42.869791666666664, 42.911458333333336, 42.9375, 42.942708333333336, 42.973958333333336, 43.161458333333336, 43.213541666666664, 43.260416666666664, 43.614583333333336, 44.005208333333336, 44.307291666666664, 44.421875, 44.609375, 44.833333333333336, 44.833333333333336, 44.833333333333336, 45.067708333333336, 45.276041666666664, 45.703125, 45.703125, 45.703125, 45.994791666666664, 46.473958333333336, 46.708333333333336, 46.708333333333336, 47.4375, 47.796875, 48.270833333333336, 48.84375, 49.708333333333336, 49.864583333333336, 50.166666666666664, 50.333333333333336, 50.713541666666664, 52.302083333333336, 52.401041666666664, 53.645833333333336, 54.104166666666664, 54.869791666666664, 55.458333333333336, 56.015625, 57.15625, 58.036458333333336, 58.036458333333336, 58.526041666666664, 59.166666666666664, 59.442708333333336, 59.885416666666664, 60.104166666666664, 60.401041666666664, 60.78125, 61.104166666666664, 61.234375, 61.416666666666664, 61.541666666666664, 61.541666666666664, 61.78125, 61.78125, 62.802083333333336, 62.802083333333336, 62.802083333333336, 63.09375, 63.09375, 63.09375, 63.09375, 63.317708333333336, 63.802083333333336, 63.802083333333336, 63.802083333333336, 63.802083333333336, 63.802083333333336, 63.802083333333336, 63.802083333333336, 63.802083333333336, 63.802083333333336, 63.802083333333336, 63.802083333333336, 64.0, 64.0, 64.0, 64.0, 64.0, 64.0, 64.0, 64.0, 64.0, 64.0, 64.0]\n",
            "[0.0, 0.0, 0.0, 0.0, 0.0, 0.0, 0.0, 0.0, 0.0, 0.0, 0.0, 0.0, 0.0, 0.0, 0.0, 0.0, 0.0, 0.0, 0.0, 0.0, 0.0, 0.0, 0.0, 0.0, 0.0, 0.0, 0.0, 0.0, 0.0, 0.0, 0.0, 0.0, 0.0, 0.0, 0.0, 0.0, 0.0, 0.0, 0.0, 0.0, 0.0, 0.0, 0.0, 0.0, 0.0, 0.0, 0.0, 0.0, 0.0, 0.0, 0.0, 0.0, 0.0, 0.0, 0.0, 0.0, 0.0, 0.0, 0.0, 0.0, 0.0, 0.0, 0.0, 0.0, 0.0, 0.0, 0.0, 0.0, 0.0, 0.0, 0.0, 0.0, 0.0, 0.0, 0.0, 0.0, 0.0, 0.03125, 0.041666666666666664, 0.052083333333333336, 0.08333333333333333, 0.14583333333333334, 0.14583333333333334, 0.1875, 0.22916666666666666, 0.23958333333333334, 0.3020833333333333, 0.3229166666666667, 0.3541666666666667, 0.3854166666666667, 0.4583333333333333, 0.4791666666666667, 0.5833333333333334, 0.6666666666666666, 0.75, 0.8020833333333334, 0.8541666666666666, 0.8958333333333334, 0.9479166666666666, 1.0729166666666667, 1.1145833333333333, 1.1875, 1.3020833333333333, 1.3854166666666667, 1.4791666666666667, 1.5520833333333333, 1.6875, 1.7708333333333333, 1.875, 2.0104166666666665, 2.1145833333333335, 2.21875, 2.3854166666666665, 2.53125, 2.71875, 2.875, 3.03125, 3.5104166666666665, 3.6875, 3.9375, 4.125, 4.9375, 5.46875, 5.666666666666667, 6.135416666666667, 6.677083333333333, 7.1875, 7.96875, 8.302083333333334, 8.729166666666666, 9.354166666666666, 9.78125, 10.270833333333334, 10.958333333333334, 12.125, 13.072916666666666, 14.145833333333334, 15.4375, 16.364583333333332, 17.854166666666668, 18.822916666666668, 19.71875, 20.28125, 21.270833333333332, 21.9375, 22.510416666666668, 24.114583333333332, 24.5625, 27.041666666666668, 28.21875, 29.072916666666668, 29.677083333333332, 30.166666666666668, 31.78125, 32.635416666666664, 32.9375, 33.635416666666664, 33.979166666666664, 34.5625, 35.416666666666664, 35.854166666666664, 36.28125, 36.510416666666664, 36.78125, 36.916666666666664, 37.239583333333336, 37.3125, 37.395833333333336, 37.645833333333336, 37.864583333333336, 38.916666666666664, 38.927083333333336, 38.9375, 39.489583333333336, 39.510416666666664, 39.510416666666664, 39.53125, 39.895833333333336, 40.760416666666664, 40.760416666666664, 40.770833333333336, 40.770833333333336, 40.770833333333336, 40.78125, 40.78125, 40.791666666666664, 40.802083333333336, 40.802083333333336, 40.8125, 40.822916666666664, 40.822916666666664, 40.822916666666664, 40.822916666666664, 40.822916666666664, 40.822916666666664, 40.822916666666664, 40.822916666666664, 40.822916666666664, 40.822916666666664, 40.822916666666664]\n",
            "36\n",
            "Metrics 24 76 92 0 0.10102114627237378\n",
            "[0.0, 0.0, 0.0, 0.0, 0.0, 0.0, 0.0, 0.0, 0.0, 0.0, 0.0, 0.0, 0.0, 0.0, 0.0, 0.0, 0.0, 0.0, 0.0, 0.0, 0.0, 0.0, 0.0, 0.0, 0.0, 0.0, 0.0, 0.0, 0.0, 0.0, 0.0, 0.0, 0.0, 0.0, 0.0, 0.0, 0.0, 0.0, 0.0, 0.0, 0.0, 0.0, 0.0, 0.0, 0.0, 0.0, 0.0, 0.0, 0.0, 0.0, 0.0, 0.0, 0.0, 0.005208333333333333, 0.010416666666666666, 0.03125, 0.052083333333333336, 0.07291666666666667, 0.296875, 0.4322916666666667, 0.6510416666666666, 0.96875, 1.2552083333333333, 1.453125, 2.046875, 2.765625, 3.0833333333333335, 4.020833333333333, 5.947916666666667, 7.59375, 9.03125, 9.838541666666666, 11.135416666666666, 12.265625, 14.067708333333334, 16.661458333333332, 20.020833333333332, 22.78125, 25.447916666666668, 26.932291666666668, 28.161458333333332, 30.041666666666668, 32.4375, 33.932291666666664, 35.651041666666664, 36.083333333333336, 36.953125, 37.166666666666664, 38.432291666666664, 38.630208333333336, 39.182291666666664, 39.661458333333336, 39.9375, 40.625, 41.208333333333336, 41.354166666666664, 41.463541666666664, 41.541666666666664, 41.9375, 42.15625, 42.208333333333336, 42.270833333333336, 42.317708333333336, 42.390625, 42.442708333333336, 42.489583333333336, 42.536458333333336, 42.598958333333336, 42.65625, 42.703125, 42.739583333333336, 42.859375, 42.869791666666664, 42.911458333333336, 42.9375, 42.942708333333336, 42.973958333333336, 43.161458333333336, 43.213541666666664, 43.260416666666664, 43.614583333333336, 44.005208333333336, 44.307291666666664, 44.421875, 44.609375, 44.833333333333336, 44.833333333333336, 44.833333333333336, 45.067708333333336, 45.276041666666664, 45.703125, 45.703125, 45.703125, 45.994791666666664, 46.473958333333336, 46.708333333333336, 46.708333333333336, 47.4375, 47.796875, 48.270833333333336, 48.84375, 49.708333333333336, 49.864583333333336, 50.166666666666664, 50.333333333333336, 50.713541666666664, 52.302083333333336, 52.401041666666664, 53.645833333333336, 54.104166666666664, 54.869791666666664, 55.458333333333336, 56.015625, 57.15625, 58.036458333333336, 58.036458333333336, 58.526041666666664, 59.166666666666664, 59.442708333333336, 59.885416666666664, 60.104166666666664, 60.401041666666664, 60.78125, 61.104166666666664, 61.234375, 61.416666666666664, 61.541666666666664, 61.541666666666664, 61.78125, 61.78125, 62.802083333333336, 62.802083333333336, 62.802083333333336, 63.09375, 63.09375, 63.09375, 63.09375, 63.317708333333336, 63.802083333333336, 63.802083333333336, 63.802083333333336, 63.802083333333336, 63.802083333333336, 63.802083333333336, 63.802083333333336, 63.802083333333336, 63.802083333333336, 63.802083333333336, 63.802083333333336, 64.0, 64.0, 64.0, 64.0, 64.0, 64.0, 64.0, 64.0, 64.0, 64.0, 64.0]\n",
            "[0.0, 0.0, 0.0, 0.0, 0.0, 0.0, 0.0, 0.0, 0.0, 0.0, 0.0, 0.0, 0.0, 0.0, 0.0, 0.0, 0.0, 0.0, 0.0, 0.0, 0.0, 0.0, 0.0, 0.0, 0.0, 0.0, 0.0, 0.0, 0.0, 0.0, 0.0, 0.0, 0.0, 0.0, 0.0, 0.0, 0.0, 0.0, 0.0, 0.0, 0.0, 0.0, 0.0, 0.0, 0.0, 0.0, 0.0, 0.0, 0.0, 0.0, 0.0, 0.0, 0.0, 0.0, 0.0, 0.0, 0.0, 0.0, 0.0, 0.0, 0.0, 0.0, 0.0, 0.0, 0.0, 0.0, 0.0, 0.0, 0.0, 0.0, 0.0, 0.0, 0.0, 0.0, 0.0, 0.0, 0.0, 0.03125, 0.041666666666666664, 0.052083333333333336, 0.08333333333333333, 0.14583333333333334, 0.14583333333333334, 0.1875, 0.22916666666666666, 0.23958333333333334, 0.3020833333333333, 0.3229166666666667, 0.3541666666666667, 0.3854166666666667, 0.4583333333333333, 0.4791666666666667, 0.5833333333333334, 0.6666666666666666, 0.75, 0.8020833333333334, 0.8541666666666666, 0.8958333333333334, 0.9479166666666666, 1.0729166666666667, 1.1145833333333333, 1.1875, 1.3020833333333333, 1.3854166666666667, 1.4791666666666667, 1.5520833333333333, 1.6875, 1.7708333333333333, 1.875, 2.0104166666666665, 2.1145833333333335, 2.21875, 2.3854166666666665, 2.53125, 2.71875, 2.875, 3.03125, 3.5104166666666665, 3.6875, 3.9375, 4.125, 4.9375, 5.46875, 5.666666666666667, 6.135416666666667, 6.677083333333333, 7.1875, 7.96875, 8.302083333333334, 8.729166666666666, 9.354166666666666, 9.78125, 10.270833333333334, 10.958333333333334, 12.125, 13.072916666666666, 14.145833333333334, 15.4375, 16.364583333333332, 17.854166666666668, 18.822916666666668, 19.71875, 20.28125, 21.270833333333332, 21.9375, 22.510416666666668, 24.114583333333332, 24.5625, 27.041666666666668, 28.21875, 29.072916666666668, 29.677083333333332, 30.166666666666668, 31.78125, 32.635416666666664, 32.9375, 33.635416666666664, 33.979166666666664, 34.5625, 35.416666666666664, 35.854166666666664, 36.28125, 36.510416666666664, 36.78125, 36.916666666666664, 37.239583333333336, 37.3125, 37.395833333333336, 37.645833333333336, 37.864583333333336, 38.916666666666664, 38.927083333333336, 38.9375, 39.489583333333336, 39.510416666666664, 39.510416666666664, 39.53125, 39.895833333333336, 40.760416666666664, 40.760416666666664, 40.770833333333336, 40.770833333333336, 40.770833333333336, 40.78125, 40.78125, 40.791666666666664, 40.802083333333336, 40.802083333333336, 40.8125, 40.822916666666664, 40.822916666666664, 40.822916666666664, 40.822916666666664, 40.822916666666664, 40.822916666666664, 40.822916666666664, 40.822916666666664, 40.822916666666664, 40.822916666666664, 40.822916666666664]\n",
            "40\n",
            "Metrics 38 89 65 0 0.2729117260093201\n",
            "[0.0, 0.0, 0.0, 0.0, 0.0, 0.0, 0.0, 0.0, 0.0, 0.0, 0.0, 0.0, 0.0, 0.0, 0.0, 0.0, 0.0, 0.0, 0.0, 0.0, 0.0, 0.0, 0.0, 0.0, 0.0, 0.0, 0.0, 0.0, 0.0, 0.0, 0.0, 0.0, 0.0, 0.0, 0.0, 0.0, 0.0, 0.0, 0.0, 0.0, 0.0, 0.0, 0.0, 0.0, 0.0, 0.0, 0.0, 0.0, 0.0, 0.0, 0.0, 0.0, 0.0, 0.005208333333333333, 0.010416666666666666, 0.03125, 0.052083333333333336, 0.07291666666666667, 0.296875, 0.4322916666666667, 0.6510416666666666, 0.96875, 1.2552083333333333, 1.453125, 2.046875, 2.765625, 3.0833333333333335, 4.020833333333333, 5.947916666666667, 7.59375, 9.03125, 9.838541666666666, 11.135416666666666, 12.265625, 14.067708333333334, 16.661458333333332, 20.020833333333332, 22.78125, 25.447916666666668, 26.932291666666668, 28.161458333333332, 30.041666666666668, 32.4375, 33.932291666666664, 35.651041666666664, 36.083333333333336, 36.953125, 37.166666666666664, 38.432291666666664, 38.630208333333336, 39.182291666666664, 39.661458333333336, 39.9375, 40.625, 41.208333333333336, 41.354166666666664, 41.463541666666664, 41.541666666666664, 41.9375, 42.15625, 42.208333333333336, 42.270833333333336, 42.317708333333336, 42.390625, 42.442708333333336, 42.489583333333336, 42.536458333333336, 42.598958333333336, 42.65625, 42.703125, 42.739583333333336, 42.859375, 42.869791666666664, 42.911458333333336, 42.9375, 42.942708333333336, 42.973958333333336, 43.161458333333336, 43.213541666666664, 43.260416666666664, 43.614583333333336, 44.005208333333336, 44.307291666666664, 44.421875, 44.609375, 44.833333333333336, 44.833333333333336, 44.833333333333336, 45.067708333333336, 45.276041666666664, 45.703125, 45.703125, 45.703125, 45.994791666666664, 46.473958333333336, 46.708333333333336, 46.708333333333336, 47.4375, 47.796875, 48.270833333333336, 48.84375, 49.708333333333336, 49.864583333333336, 50.166666666666664, 50.333333333333336, 50.713541666666664, 52.302083333333336, 52.401041666666664, 53.645833333333336, 54.104166666666664, 54.869791666666664, 55.458333333333336, 56.015625, 57.15625, 58.036458333333336, 58.036458333333336, 58.526041666666664, 59.166666666666664, 59.442708333333336, 59.885416666666664, 60.104166666666664, 60.401041666666664, 60.78125, 61.104166666666664, 61.234375, 61.416666666666664, 61.541666666666664, 61.541666666666664, 61.78125, 61.78125, 62.802083333333336, 62.802083333333336, 62.802083333333336, 63.09375, 63.09375, 63.09375, 63.09375, 63.317708333333336, 63.802083333333336, 63.802083333333336, 63.802083333333336, 63.802083333333336, 63.802083333333336, 63.802083333333336, 63.802083333333336, 63.802083333333336, 63.802083333333336, 63.802083333333336, 63.802083333333336, 64.0, 64.0, 64.0, 64.0, 64.0, 64.0, 64.0, 64.0, 64.0, 64.0, 64.0]\n",
            "[0.0, 0.0, 0.0, 0.0, 0.0, 0.0, 0.0, 0.0, 0.0, 0.0, 0.0, 0.0, 0.0, 0.0, 0.0, 0.0, 0.0, 0.0, 0.0, 0.0, 0.0, 0.0, 0.0, 0.0, 0.0, 0.0, 0.0, 0.0, 0.0, 0.0, 0.0, 0.0, 0.0, 0.0, 0.0, 0.0, 0.0, 0.0, 0.0, 0.0, 0.0, 0.0, 0.0, 0.0, 0.0, 0.0, 0.0, 0.0, 0.0, 0.0, 0.0, 0.0, 0.0, 0.0, 0.0, 0.0, 0.0, 0.0, 0.0, 0.0, 0.0, 0.0, 0.0, 0.0, 0.0, 0.0, 0.0, 0.0, 0.0, 0.0, 0.0, 0.0, 0.0, 0.0, 0.0, 0.0, 0.0, 0.03125, 0.041666666666666664, 0.052083333333333336, 0.08333333333333333, 0.14583333333333334, 0.14583333333333334, 0.1875, 0.22916666666666666, 0.23958333333333334, 0.3020833333333333, 0.3229166666666667, 0.3541666666666667, 0.3854166666666667, 0.4583333333333333, 0.4791666666666667, 0.5833333333333334, 0.6666666666666666, 0.75, 0.8020833333333334, 0.8541666666666666, 0.8958333333333334, 0.9479166666666666, 1.0729166666666667, 1.1145833333333333, 1.1875, 1.3020833333333333, 1.3854166666666667, 1.4791666666666667, 1.5520833333333333, 1.6875, 1.7708333333333333, 1.875, 2.0104166666666665, 2.1145833333333335, 2.21875, 2.3854166666666665, 2.53125, 2.71875, 2.875, 3.03125, 3.5104166666666665, 3.6875, 3.9375, 4.125, 4.9375, 5.46875, 5.666666666666667, 6.135416666666667, 6.677083333333333, 7.1875, 7.96875, 8.302083333333334, 8.729166666666666, 9.354166666666666, 9.78125, 10.270833333333334, 10.958333333333334, 12.125, 13.072916666666666, 14.145833333333334, 15.4375, 16.364583333333332, 17.854166666666668, 18.822916666666668, 19.71875, 20.28125, 21.270833333333332, 21.9375, 22.510416666666668, 24.114583333333332, 24.5625, 27.041666666666668, 28.21875, 29.072916666666668, 29.677083333333332, 30.166666666666668, 31.78125, 32.635416666666664, 32.9375, 33.635416666666664, 33.979166666666664, 34.5625, 35.416666666666664, 35.854166666666664, 36.28125, 36.510416666666664, 36.78125, 36.916666666666664, 37.239583333333336, 37.3125, 37.395833333333336, 37.645833333333336, 37.864583333333336, 38.916666666666664, 38.927083333333336, 38.9375, 39.489583333333336, 39.510416666666664, 39.510416666666664, 39.53125, 39.895833333333336, 40.760416666666664, 40.760416666666664, 40.770833333333336, 40.770833333333336, 40.770833333333336, 40.78125, 40.78125, 40.791666666666664, 40.802083333333336, 40.802083333333336, 40.8125, 40.822916666666664, 40.822916666666664, 40.822916666666664, 40.822916666666664, 40.822916666666664, 40.822916666666664, 40.822916666666664, 40.822916666666664, 40.822916666666664, 40.822916666666664, 40.822916666666664]\n",
            "44\n",
            "Metrics 79 96 14 3 0.9623558248267451\n",
            "[0.0, 0.0, 0.0, 0.0, 0.0, 0.0, 0.0, 0.0, 0.0, 0.0, 0.0, 0.0, 0.0, 0.0, 0.0, 0.0, 0.0, 0.0, 0.0, 0.0, 0.0, 0.0, 0.0, 0.0, 0.0, 0.0, 0.0, 0.0, 0.0, 0.0, 0.0, 0.0, 0.0, 0.0, 0.0, 0.0, 0.0, 0.0, 0.0, 0.0, 0.0, 0.0, 0.0, 0.0, 0.0, 0.0, 0.0, 0.0, 0.0, 0.0, 0.0, 0.0, 0.0, 0.005208333333333333, 0.010416666666666666, 0.03125, 0.052083333333333336, 0.07291666666666667, 0.296875, 0.4322916666666667, 0.6510416666666666, 0.96875, 1.2552083333333333, 1.453125, 2.046875, 2.765625, 3.0833333333333335, 4.020833333333333, 5.947916666666667, 7.59375, 9.03125, 9.838541666666666, 11.135416666666666, 12.265625, 14.067708333333334, 16.661458333333332, 20.020833333333332, 22.78125, 25.447916666666668, 26.932291666666668, 28.161458333333332, 30.041666666666668, 32.4375, 33.932291666666664, 35.651041666666664, 36.083333333333336, 36.953125, 37.166666666666664, 38.432291666666664, 38.630208333333336, 39.182291666666664, 39.661458333333336, 39.9375, 40.625, 41.208333333333336, 41.354166666666664, 41.463541666666664, 41.541666666666664, 41.9375, 42.15625, 42.208333333333336, 42.270833333333336, 42.317708333333336, 42.390625, 42.442708333333336, 42.489583333333336, 42.536458333333336, 42.598958333333336, 42.65625, 42.703125, 42.739583333333336, 42.859375, 42.869791666666664, 42.911458333333336, 42.9375, 42.942708333333336, 42.973958333333336, 43.161458333333336, 43.213541666666664, 43.260416666666664, 43.614583333333336, 44.005208333333336, 44.307291666666664, 44.421875, 44.609375, 44.833333333333336, 44.833333333333336, 44.833333333333336, 45.067708333333336, 45.276041666666664, 45.703125, 45.703125, 45.703125, 45.994791666666664, 46.473958333333336, 46.708333333333336, 46.708333333333336, 47.4375, 47.796875, 48.270833333333336, 48.84375, 49.708333333333336, 49.864583333333336, 50.166666666666664, 50.333333333333336, 50.713541666666664, 52.302083333333336, 52.401041666666664, 53.645833333333336, 54.104166666666664, 54.869791666666664, 55.458333333333336, 56.015625, 57.15625, 58.036458333333336, 58.036458333333336, 58.526041666666664, 59.166666666666664, 59.442708333333336, 59.885416666666664, 60.104166666666664, 60.401041666666664, 60.78125, 61.104166666666664, 61.234375, 61.416666666666664, 61.541666666666664, 61.541666666666664, 61.78125, 61.78125, 62.802083333333336, 62.802083333333336, 62.802083333333336, 63.09375, 63.09375, 63.09375, 63.09375, 63.317708333333336, 63.802083333333336, 63.802083333333336, 63.802083333333336, 63.802083333333336, 63.802083333333336, 63.802083333333336, 63.802083333333336, 63.802083333333336, 63.802083333333336, 63.802083333333336, 63.802083333333336, 64.0, 64.0, 64.0, 64.0, 64.0, 64.0, 64.0, 64.0, 64.0, 64.0, 64.0]\n",
            "[0.0, 0.0, 0.0, 0.0, 0.0, 0.0, 0.0, 0.0, 0.0, 0.0, 0.0, 0.0, 0.0, 0.0, 0.0, 0.0, 0.0, 0.0, 0.0, 0.0, 0.0, 0.0, 0.0, 0.0, 0.0, 0.0, 0.0, 0.0, 0.0, 0.0, 0.0, 0.0, 0.0, 0.0, 0.0, 0.0, 0.0, 0.0, 0.0, 0.0, 0.0, 0.0, 0.0, 0.0, 0.0, 0.0, 0.0, 0.0, 0.0, 0.0, 0.0, 0.0, 0.0, 0.0, 0.0, 0.0, 0.0, 0.0, 0.0, 0.0, 0.0, 0.0, 0.0, 0.0, 0.0, 0.0, 0.0, 0.0, 0.0, 0.0, 0.0, 0.0, 0.0, 0.0, 0.0, 0.0, 0.0, 0.03125, 0.041666666666666664, 0.052083333333333336, 0.08333333333333333, 0.14583333333333334, 0.14583333333333334, 0.1875, 0.22916666666666666, 0.23958333333333334, 0.3020833333333333, 0.3229166666666667, 0.3541666666666667, 0.3854166666666667, 0.4583333333333333, 0.4791666666666667, 0.5833333333333334, 0.6666666666666666, 0.75, 0.8020833333333334, 0.8541666666666666, 0.8958333333333334, 0.9479166666666666, 1.0729166666666667, 1.1145833333333333, 1.1875, 1.3020833333333333, 1.3854166666666667, 1.4791666666666667, 1.5520833333333333, 1.6875, 1.7708333333333333, 1.875, 2.0104166666666665, 2.1145833333333335, 2.21875, 2.3854166666666665, 2.53125, 2.71875, 2.875, 3.03125, 3.5104166666666665, 3.6875, 3.9375, 4.125, 4.9375, 5.46875, 5.666666666666667, 6.135416666666667, 6.677083333333333, 7.1875, 7.96875, 8.302083333333334, 8.729166666666666, 9.354166666666666, 9.78125, 10.270833333333334, 10.958333333333334, 12.125, 13.072916666666666, 14.145833333333334, 15.4375, 16.364583333333332, 17.854166666666668, 18.822916666666668, 19.71875, 20.28125, 21.270833333333332, 21.9375, 22.510416666666668, 24.114583333333332, 24.5625, 27.041666666666668, 28.21875, 29.072916666666668, 29.677083333333332, 30.166666666666668, 31.78125, 32.635416666666664, 32.9375, 33.635416666666664, 33.979166666666664, 34.5625, 35.416666666666664, 35.854166666666664, 36.28125, 36.510416666666664, 36.78125, 36.916666666666664, 37.239583333333336, 37.3125, 37.395833333333336, 37.645833333333336, 37.864583333333336, 38.916666666666664, 38.927083333333336, 38.9375, 39.489583333333336, 39.510416666666664, 39.510416666666664, 39.53125, 39.895833333333336, 40.760416666666664, 40.760416666666664, 40.770833333333336, 40.770833333333336, 40.770833333333336, 40.78125, 40.78125, 40.791666666666664, 40.802083333333336, 40.802083333333336, 40.8125, 40.822916666666664, 40.822916666666664, 40.822916666666664, 40.822916666666664, 40.822916666666664, 40.822916666666664, 40.822916666666664, 40.822916666666664, 40.822916666666664, 40.822916666666664, 40.822916666666664]\n",
            "48\n",
            "Metrics 70 96 3 23 0.9974132782599672\n",
            "[0.0, 0.0, 0.0, 0.0, 0.0, 0.0, 0.0, 0.0, 0.0, 0.0, 0.0, 0.0, 0.0, 0.0, 0.0, 0.0, 0.0, 0.0, 0.0, 0.0, 0.0, 0.0, 0.0, 0.0, 0.0, 0.0, 0.0, 0.0, 0.0, 0.0, 0.0, 0.0, 0.0, 0.0, 0.0, 0.0, 0.0, 0.0, 0.0, 0.0, 0.0, 0.0, 0.0, 0.0, 0.0, 0.0, 0.0, 0.0, 0.0, 0.0, 0.0, 0.0, 0.0, 0.005208333333333333, 0.010416666666666666, 0.03125, 0.052083333333333336, 0.07291666666666667, 0.296875, 0.4322916666666667, 0.6510416666666666, 0.96875, 1.2552083333333333, 1.453125, 2.046875, 2.765625, 3.0833333333333335, 4.020833333333333, 5.947916666666667, 7.59375, 9.03125, 9.838541666666666, 11.135416666666666, 12.265625, 14.067708333333334, 16.661458333333332, 20.020833333333332, 22.78125, 25.447916666666668, 26.932291666666668, 28.161458333333332, 30.041666666666668, 32.4375, 33.932291666666664, 35.651041666666664, 36.083333333333336, 36.953125, 37.166666666666664, 38.432291666666664, 38.630208333333336, 39.182291666666664, 39.661458333333336, 39.9375, 40.625, 41.208333333333336, 41.354166666666664, 41.463541666666664, 41.541666666666664, 41.9375, 42.15625, 42.208333333333336, 42.270833333333336, 42.317708333333336, 42.390625, 42.442708333333336, 42.489583333333336, 42.536458333333336, 42.598958333333336, 42.65625, 42.703125, 42.739583333333336, 42.859375, 42.869791666666664, 42.911458333333336, 42.9375, 42.942708333333336, 42.973958333333336, 43.161458333333336, 43.213541666666664, 43.260416666666664, 43.614583333333336, 44.005208333333336, 44.307291666666664, 44.421875, 44.609375, 44.833333333333336, 44.833333333333336, 44.833333333333336, 45.067708333333336, 45.276041666666664, 45.703125, 45.703125, 45.703125, 45.994791666666664, 46.473958333333336, 46.708333333333336, 46.708333333333336, 47.4375, 47.796875, 48.270833333333336, 48.84375, 49.708333333333336, 49.864583333333336, 50.166666666666664, 50.333333333333336, 50.713541666666664, 52.302083333333336, 52.401041666666664, 53.645833333333336, 54.104166666666664, 54.869791666666664, 55.458333333333336, 56.015625, 57.15625, 58.036458333333336, 58.036458333333336, 58.526041666666664, 59.166666666666664, 59.442708333333336, 59.885416666666664, 60.104166666666664, 60.401041666666664, 60.78125, 61.104166666666664, 61.234375, 61.416666666666664, 61.541666666666664, 61.541666666666664, 61.78125, 61.78125, 62.802083333333336, 62.802083333333336, 62.802083333333336, 63.09375, 63.09375, 63.09375, 63.09375, 63.317708333333336, 63.802083333333336, 63.802083333333336, 63.802083333333336, 63.802083333333336, 63.802083333333336, 63.802083333333336, 63.802083333333336, 63.802083333333336, 63.802083333333336, 63.802083333333336, 63.802083333333336, 64.0, 64.0, 64.0, 64.0, 64.0, 64.0, 64.0, 64.0, 64.0, 64.0, 64.0]\n",
            "[0.0, 0.0, 0.0, 0.0, 0.0, 0.0, 0.0, 0.0, 0.0, 0.0, 0.0, 0.0, 0.0, 0.0, 0.0, 0.0, 0.0, 0.0, 0.0, 0.0, 0.0, 0.0, 0.0, 0.0, 0.0, 0.0, 0.0, 0.0, 0.0, 0.0, 0.0, 0.0, 0.0, 0.0, 0.0, 0.0, 0.0, 0.0, 0.0, 0.0, 0.0, 0.0, 0.0, 0.0, 0.0, 0.0, 0.0, 0.0, 0.0, 0.0, 0.0, 0.0, 0.0, 0.0, 0.0, 0.0, 0.0, 0.0, 0.0, 0.0, 0.0, 0.0, 0.0, 0.0, 0.0, 0.0, 0.0, 0.0, 0.0, 0.0, 0.0, 0.0, 0.0, 0.0, 0.0, 0.0, 0.0, 0.03125, 0.041666666666666664, 0.052083333333333336, 0.08333333333333333, 0.14583333333333334, 0.14583333333333334, 0.1875, 0.22916666666666666, 0.23958333333333334, 0.3020833333333333, 0.3229166666666667, 0.3541666666666667, 0.3854166666666667, 0.4583333333333333, 0.4791666666666667, 0.5833333333333334, 0.6666666666666666, 0.75, 0.8020833333333334, 0.8541666666666666, 0.8958333333333334, 0.9479166666666666, 1.0729166666666667, 1.1145833333333333, 1.1875, 1.3020833333333333, 1.3854166666666667, 1.4791666666666667, 1.5520833333333333, 1.6875, 1.7708333333333333, 1.875, 2.0104166666666665, 2.1145833333333335, 2.21875, 2.3854166666666665, 2.53125, 2.71875, 2.875, 3.03125, 3.5104166666666665, 3.6875, 3.9375, 4.125, 4.9375, 5.46875, 5.666666666666667, 6.135416666666667, 6.677083333333333, 7.1875, 7.96875, 8.302083333333334, 8.729166666666666, 9.354166666666666, 9.78125, 10.270833333333334, 10.958333333333334, 12.125, 13.072916666666666, 14.145833333333334, 15.4375, 16.364583333333332, 17.854166666666668, 18.822916666666668, 19.71875, 20.28125, 21.270833333333332, 21.9375, 22.510416666666668, 24.114583333333332, 24.5625, 27.041666666666668, 28.21875, 29.072916666666668, 29.677083333333332, 30.166666666666668, 31.78125, 32.635416666666664, 32.9375, 33.635416666666664, 33.979166666666664, 34.5625, 35.416666666666664, 35.854166666666664, 36.28125, 36.510416666666664, 36.78125, 36.916666666666664, 37.239583333333336, 37.3125, 37.395833333333336, 37.645833333333336, 37.864583333333336, 38.916666666666664, 38.927083333333336, 38.9375, 39.489583333333336, 39.510416666666664, 39.510416666666664, 39.53125, 39.895833333333336, 40.760416666666664, 40.760416666666664, 40.770833333333336, 40.770833333333336, 40.770833333333336, 40.78125, 40.78125, 40.791666666666664, 40.802083333333336, 40.802083333333336, 40.8125, 40.822916666666664, 40.822916666666664, 40.822916666666664, 40.822916666666664, 40.822916666666664, 40.822916666666664, 40.822916666666664, 40.822916666666664, 40.822916666666664, 40.822916666666664, 40.822916666666664]\n",
            "52\n",
            "Metrics 55 96 1 40 0.9990980510240935\n",
            "model_FNN_custom (Mean FP delay, Mean delay, Threshold):  [32, 0.14583333333333334] 0.05792451407542253\n",
            "model_FNN_custom (Mean FP delay, Mean delay, Threshold):  [36, 0.23958333333333334] 0.10102114627237378\n",
            "model_FNN_custom (Mean FP delay, Mean delay, Threshold):  [40, 0.6666666666666666] 0.2729117260093201\n",
            "model_FNN_custom (Mean FP delay, Mean delay, Threshold):  [44, 4.9375] 0.9623558248267451\n",
            "model_FNN_custom (Mean FP delay, Mean delay, Threshold):  [48, 17.854166666666668] 0.9974132782599672\n",
            "model_FNN_custom (Mean FP delay, Mean delay, Threshold):  [52, 24.114583333333332] 0.9990980510240935\n",
            "------------------------------\n",
            "[0.0, 0.0, 0.0, 0.0, 0.0, 0.0, 0.0, 0.0, 0.0, 0.0, 0.0, 0.0, 0.0, 0.0, 0.0, 0.0, 0.0, 0.0, 0.0, 0.0, 0.0, 0.0, 0.0, 0.0, 0.0, 0.0, 0.0, 0.0, 0.0, 0.0, 0.0, 0.0, 0.0, 0.0, 0.0, 0.0, 0.0, 0.0, 0.0, 0.0, 0.0, 0.0, 0.0, 0.0, 0.0, 0.0, 0.0, 0.0, 0.0, 0.0, 0.0, 0.0, 0.0, 0.0, 0.0, 0.0, 0.0, 0.0, 0.015625, 0.020833333333333332, 0.03125, 0.046875, 0.078125, 0.13020833333333334, 0.3020833333333333, 0.828125, 1.015625, 1.5, 1.8489583333333333, 2.5677083333333335, 3.2552083333333335, 3.5989583333333335, 3.9375, 5.328125, 6.171875, 6.932291666666667, 8.161458333333334, 9.53125, 11.395833333333334, 13.046875, 14.979166666666666, 16.958333333333332, 18.46875, 22.59375, 24.880208333333332, 28.067708333333332, 29.536458333333332, 31.833333333333332, 33.614583333333336, 35.104166666666664, 36.635416666666664, 38.479166666666664, 40.833333333333336, 41.421875, 41.614583333333336, 41.984375, 42.098958333333336, 42.197916666666664, 42.286458333333336, 42.484375, 42.557291666666664, 42.635416666666664, 42.739583333333336, 42.822916666666664, 42.859375, 43.265625, 43.317708333333336, 43.34375, 43.65625, 43.703125, 43.958333333333336, 44.270833333333336, 44.296875, 44.755208333333336, 45.286458333333336, 45.296875, 45.71875, 46.041666666666664, 46.5625, 47.661458333333336, 48.880208333333336, 49.15625, 50.463541666666664, 50.947916666666664, 52.848958333333336, 54.984375, 56.828125, 57.416666666666664, 58.348958333333336, 59.151041666666664, 59.578125, 60.604166666666664, 60.786458333333336, 61.677083333333336, 62.083333333333336, 62.083333333333336, 62.671875, 63.09375, 63.317708333333336, 63.802083333333336, 64.0, 64.0, 64.0, 64.0, 64.0, 64.0, 64.0, 64.0, 64.0, 64.0, 64.0, 64.0, 64.0, 64.0, 64.0, 64.0, 64.0, 64.0, 64.0, 64.0, 64.0, 64.0, 64.0, 64.0, 64.0, 64.0, 64.0, 64.0, 64.0, 64.0, 64.0, 64.0, 64.0, 64.0, 64.0, 64.0, 64.0, 64.0, 64.0, 64.0, 64.0, 64.0, 64.0, 64.0, 64.0, 64.0, 64.0, 64.0, 64.0, 64.0, 64.0, 64.0, 64.0, 64.0, 64.0, 64.0, 64.0, 64.0, 64.0, 64.0]\n",
            "[0.0, 0.0, 0.0, 0.0, 0.0, 0.0, 0.0, 0.0, 0.0, 0.0, 0.0, 0.0, 0.0, 0.0, 0.0, 0.0, 0.0, 0.0, 0.0, 0.0, 0.0, 0.0, 0.0, 0.0, 0.0, 0.0, 0.0, 0.0, 0.0, 0.0, 0.0, 0.0, 0.0, 0.0, 0.0, 0.0, 0.0, 0.0, 0.0, 0.0, 0.0, 0.0, 0.0, 0.0, 0.0, 0.0, 0.0, 0.0, 0.0, 0.0, 0.0, 0.0, 0.0, 0.0, 0.0, 0.0, 0.0, 0.0, 0.0, 0.0, 0.0, 0.0, 0.0, 0.0, 0.0, 0.0, 0.0, 0.0, 0.0, 0.0, 0.0, 0.0, 0.0, 0.010416666666666666, 0.010416666666666666, 0.020833333333333332, 0.020833333333333332, 0.020833333333333332, 0.041666666666666664, 0.041666666666666664, 0.052083333333333336, 0.052083333333333336, 0.09375, 0.09375, 0.10416666666666667, 0.14583333333333334, 0.21875, 0.25, 0.3229166666666667, 0.3645833333333333, 0.4375, 0.4895833333333333, 0.6041666666666666, 0.6875, 0.8125, 0.96875, 1.09375, 1.2604166666666667, 1.375, 1.5625, 1.6875, 1.84375, 2.0208333333333335, 2.2395833333333335, 2.4895833333333335, 2.6354166666666665, 2.8020833333333335, 3.0729166666666665, 3.78125, 4.104166666666667, 5.020833333333333, 5.927083333333333, 6.520833333333333, 7.916666666666667, 8.885416666666666, 9.4375, 10.4375, 11.65625, 13.65625, 15.604166666666666, 17.78125, 18.791666666666668, 21.604166666666668, 23.041666666666668, 26.25, 28.229166666666668, 30.84375, 31.822916666666668, 32.90625, 33.708333333333336, 34.770833333333336, 35.895833333333336, 36.322916666666664, 37.59375, 38.104166666666664, 38.229166666666664, 38.9375, 39.541666666666664, 39.927083333333336, 40.520833333333336, 40.822916666666664, 40.822916666666664, 40.822916666666664, 40.822916666666664, 40.822916666666664, 40.822916666666664, 40.822916666666664, 40.822916666666664, 40.822916666666664, 40.822916666666664, 40.822916666666664, 40.822916666666664, 40.822916666666664, 40.822916666666664, 40.822916666666664, 40.822916666666664, 40.822916666666664, 40.822916666666664, 40.822916666666664, 40.822916666666664, 40.822916666666664, 40.822916666666664, 40.822916666666664, 40.822916666666664, 40.822916666666664, 40.822916666666664, 40.822916666666664, 40.822916666666664, 40.822916666666664, 40.822916666666664, 40.822916666666664, 40.822916666666664, 40.822916666666664, 40.822916666666664, 40.822916666666664, 40.822916666666664, 40.822916666666664, 40.822916666666664, 40.822916666666664, 40.822916666666664, 40.822916666666664, 40.822916666666664, 40.822916666666664, 40.822916666666664, 40.822916666666664, 40.822916666666664, 40.822916666666664, 40.822916666666664, 40.822916666666664, 40.822916666666664, 40.822916666666664, 40.822916666666664, 40.822916666666664, 40.822916666666664, 40.822916666666664, 40.822916666666664, 40.822916666666664, 40.822916666666664, 40.822916666666664, 40.822916666666664]\n",
            "32\n",
            "Metrics 25 72 95 0 0.15011895981992807\n",
            "[0.0, 0.0, 0.0, 0.0, 0.0, 0.0, 0.0, 0.0, 0.0, 0.0, 0.0, 0.0, 0.0, 0.0, 0.0, 0.0, 0.0, 0.0, 0.0, 0.0, 0.0, 0.0, 0.0, 0.0, 0.0, 0.0, 0.0, 0.0, 0.0, 0.0, 0.0, 0.0, 0.0, 0.0, 0.0, 0.0, 0.0, 0.0, 0.0, 0.0, 0.0, 0.0, 0.0, 0.0, 0.0, 0.0, 0.0, 0.0, 0.0, 0.0, 0.0, 0.0, 0.0, 0.0, 0.0, 0.0, 0.0, 0.0, 0.015625, 0.020833333333333332, 0.03125, 0.046875, 0.078125, 0.13020833333333334, 0.3020833333333333, 0.828125, 1.015625, 1.5, 1.8489583333333333, 2.5677083333333335, 3.2552083333333335, 3.5989583333333335, 3.9375, 5.328125, 6.171875, 6.932291666666667, 8.161458333333334, 9.53125, 11.395833333333334, 13.046875, 14.979166666666666, 16.958333333333332, 18.46875, 22.59375, 24.880208333333332, 28.067708333333332, 29.536458333333332, 31.833333333333332, 33.614583333333336, 35.104166666666664, 36.635416666666664, 38.479166666666664, 40.833333333333336, 41.421875, 41.614583333333336, 41.984375, 42.098958333333336, 42.197916666666664, 42.286458333333336, 42.484375, 42.557291666666664, 42.635416666666664, 42.739583333333336, 42.822916666666664, 42.859375, 43.265625, 43.317708333333336, 43.34375, 43.65625, 43.703125, 43.958333333333336, 44.270833333333336, 44.296875, 44.755208333333336, 45.286458333333336, 45.296875, 45.71875, 46.041666666666664, 46.5625, 47.661458333333336, 48.880208333333336, 49.15625, 50.463541666666664, 50.947916666666664, 52.848958333333336, 54.984375, 56.828125, 57.416666666666664, 58.348958333333336, 59.151041666666664, 59.578125, 60.604166666666664, 60.786458333333336, 61.677083333333336, 62.083333333333336, 62.083333333333336, 62.671875, 63.09375, 63.317708333333336, 63.802083333333336, 64.0, 64.0, 64.0, 64.0, 64.0, 64.0, 64.0, 64.0, 64.0, 64.0, 64.0, 64.0, 64.0, 64.0, 64.0, 64.0, 64.0, 64.0, 64.0, 64.0, 64.0, 64.0, 64.0, 64.0, 64.0, 64.0, 64.0, 64.0, 64.0, 64.0, 64.0, 64.0, 64.0, 64.0, 64.0, 64.0, 64.0, 64.0, 64.0, 64.0, 64.0, 64.0, 64.0, 64.0, 64.0, 64.0, 64.0, 64.0, 64.0, 64.0, 64.0, 64.0, 64.0, 64.0, 64.0, 64.0, 64.0, 64.0, 64.0, 64.0]\n",
            "[0.0, 0.0, 0.0, 0.0, 0.0, 0.0, 0.0, 0.0, 0.0, 0.0, 0.0, 0.0, 0.0, 0.0, 0.0, 0.0, 0.0, 0.0, 0.0, 0.0, 0.0, 0.0, 0.0, 0.0, 0.0, 0.0, 0.0, 0.0, 0.0, 0.0, 0.0, 0.0, 0.0, 0.0, 0.0, 0.0, 0.0, 0.0, 0.0, 0.0, 0.0, 0.0, 0.0, 0.0, 0.0, 0.0, 0.0, 0.0, 0.0, 0.0, 0.0, 0.0, 0.0, 0.0, 0.0, 0.0, 0.0, 0.0, 0.0, 0.0, 0.0, 0.0, 0.0, 0.0, 0.0, 0.0, 0.0, 0.0, 0.0, 0.0, 0.0, 0.0, 0.0, 0.010416666666666666, 0.010416666666666666, 0.020833333333333332, 0.020833333333333332, 0.020833333333333332, 0.041666666666666664, 0.041666666666666664, 0.052083333333333336, 0.052083333333333336, 0.09375, 0.09375, 0.10416666666666667, 0.14583333333333334, 0.21875, 0.25, 0.3229166666666667, 0.3645833333333333, 0.4375, 0.4895833333333333, 0.6041666666666666, 0.6875, 0.8125, 0.96875, 1.09375, 1.2604166666666667, 1.375, 1.5625, 1.6875, 1.84375, 2.0208333333333335, 2.2395833333333335, 2.4895833333333335, 2.6354166666666665, 2.8020833333333335, 3.0729166666666665, 3.78125, 4.104166666666667, 5.020833333333333, 5.927083333333333, 6.520833333333333, 7.916666666666667, 8.885416666666666, 9.4375, 10.4375, 11.65625, 13.65625, 15.604166666666666, 17.78125, 18.791666666666668, 21.604166666666668, 23.041666666666668, 26.25, 28.229166666666668, 30.84375, 31.822916666666668, 32.90625, 33.708333333333336, 34.770833333333336, 35.895833333333336, 36.322916666666664, 37.59375, 38.104166666666664, 38.229166666666664, 38.9375, 39.541666666666664, 39.927083333333336, 40.520833333333336, 40.822916666666664, 40.822916666666664, 40.822916666666664, 40.822916666666664, 40.822916666666664, 40.822916666666664, 40.822916666666664, 40.822916666666664, 40.822916666666664, 40.822916666666664, 40.822916666666664, 40.822916666666664, 40.822916666666664, 40.822916666666664, 40.822916666666664, 40.822916666666664, 40.822916666666664, 40.822916666666664, 40.822916666666664, 40.822916666666664, 40.822916666666664, 40.822916666666664, 40.822916666666664, 40.822916666666664, 40.822916666666664, 40.822916666666664, 40.822916666666664, 40.822916666666664, 40.822916666666664, 40.822916666666664, 40.822916666666664, 40.822916666666664, 40.822916666666664, 40.822916666666664, 40.822916666666664, 40.822916666666664, 40.822916666666664, 40.822916666666664, 40.822916666666664, 40.822916666666664, 40.822916666666664, 40.822916666666664, 40.822916666666664, 40.822916666666664, 40.822916666666664, 40.822916666666664, 40.822916666666664, 40.822916666666664, 40.822916666666664, 40.822916666666664, 40.822916666666664, 40.822916666666664, 40.822916666666664, 40.822916666666664, 40.822916666666664, 40.822916666666664, 40.822916666666664, 40.822916666666664, 40.822916666666664, 40.822916666666664]\n",
            "36\n",
            "Metrics 29 77 86 0 0.19276222919191194\n",
            "[0.0, 0.0, 0.0, 0.0, 0.0, 0.0, 0.0, 0.0, 0.0, 0.0, 0.0, 0.0, 0.0, 0.0, 0.0, 0.0, 0.0, 0.0, 0.0, 0.0, 0.0, 0.0, 0.0, 0.0, 0.0, 0.0, 0.0, 0.0, 0.0, 0.0, 0.0, 0.0, 0.0, 0.0, 0.0, 0.0, 0.0, 0.0, 0.0, 0.0, 0.0, 0.0, 0.0, 0.0, 0.0, 0.0, 0.0, 0.0, 0.0, 0.0, 0.0, 0.0, 0.0, 0.0, 0.0, 0.0, 0.0, 0.0, 0.015625, 0.020833333333333332, 0.03125, 0.046875, 0.078125, 0.13020833333333334, 0.3020833333333333, 0.828125, 1.015625, 1.5, 1.8489583333333333, 2.5677083333333335, 3.2552083333333335, 3.5989583333333335, 3.9375, 5.328125, 6.171875, 6.932291666666667, 8.161458333333334, 9.53125, 11.395833333333334, 13.046875, 14.979166666666666, 16.958333333333332, 18.46875, 22.59375, 24.880208333333332, 28.067708333333332, 29.536458333333332, 31.833333333333332, 33.614583333333336, 35.104166666666664, 36.635416666666664, 38.479166666666664, 40.833333333333336, 41.421875, 41.614583333333336, 41.984375, 42.098958333333336, 42.197916666666664, 42.286458333333336, 42.484375, 42.557291666666664, 42.635416666666664, 42.739583333333336, 42.822916666666664, 42.859375, 43.265625, 43.317708333333336, 43.34375, 43.65625, 43.703125, 43.958333333333336, 44.270833333333336, 44.296875, 44.755208333333336, 45.286458333333336, 45.296875, 45.71875, 46.041666666666664, 46.5625, 47.661458333333336, 48.880208333333336, 49.15625, 50.463541666666664, 50.947916666666664, 52.848958333333336, 54.984375, 56.828125, 57.416666666666664, 58.348958333333336, 59.151041666666664, 59.578125, 60.604166666666664, 60.786458333333336, 61.677083333333336, 62.083333333333336, 62.083333333333336, 62.671875, 63.09375, 63.317708333333336, 63.802083333333336, 64.0, 64.0, 64.0, 64.0, 64.0, 64.0, 64.0, 64.0, 64.0, 64.0, 64.0, 64.0, 64.0, 64.0, 64.0, 64.0, 64.0, 64.0, 64.0, 64.0, 64.0, 64.0, 64.0, 64.0, 64.0, 64.0, 64.0, 64.0, 64.0, 64.0, 64.0, 64.0, 64.0, 64.0, 64.0, 64.0, 64.0, 64.0, 64.0, 64.0, 64.0, 64.0, 64.0, 64.0, 64.0, 64.0, 64.0, 64.0, 64.0, 64.0, 64.0, 64.0, 64.0, 64.0, 64.0, 64.0, 64.0, 64.0, 64.0, 64.0]\n",
            "[0.0, 0.0, 0.0, 0.0, 0.0, 0.0, 0.0, 0.0, 0.0, 0.0, 0.0, 0.0, 0.0, 0.0, 0.0, 0.0, 0.0, 0.0, 0.0, 0.0, 0.0, 0.0, 0.0, 0.0, 0.0, 0.0, 0.0, 0.0, 0.0, 0.0, 0.0, 0.0, 0.0, 0.0, 0.0, 0.0, 0.0, 0.0, 0.0, 0.0, 0.0, 0.0, 0.0, 0.0, 0.0, 0.0, 0.0, 0.0, 0.0, 0.0, 0.0, 0.0, 0.0, 0.0, 0.0, 0.0, 0.0, 0.0, 0.0, 0.0, 0.0, 0.0, 0.0, 0.0, 0.0, 0.0, 0.0, 0.0, 0.0, 0.0, 0.0, 0.0, 0.0, 0.010416666666666666, 0.010416666666666666, 0.020833333333333332, 0.020833333333333332, 0.020833333333333332, 0.041666666666666664, 0.041666666666666664, 0.052083333333333336, 0.052083333333333336, 0.09375, 0.09375, 0.10416666666666667, 0.14583333333333334, 0.21875, 0.25, 0.3229166666666667, 0.3645833333333333, 0.4375, 0.4895833333333333, 0.6041666666666666, 0.6875, 0.8125, 0.96875, 1.09375, 1.2604166666666667, 1.375, 1.5625, 1.6875, 1.84375, 2.0208333333333335, 2.2395833333333335, 2.4895833333333335, 2.6354166666666665, 2.8020833333333335, 3.0729166666666665, 3.78125, 4.104166666666667, 5.020833333333333, 5.927083333333333, 6.520833333333333, 7.916666666666667, 8.885416666666666, 9.4375, 10.4375, 11.65625, 13.65625, 15.604166666666666, 17.78125, 18.791666666666668, 21.604166666666668, 23.041666666666668, 26.25, 28.229166666666668, 30.84375, 31.822916666666668, 32.90625, 33.708333333333336, 34.770833333333336, 35.895833333333336, 36.322916666666664, 37.59375, 38.104166666666664, 38.229166666666664, 38.9375, 39.541666666666664, 39.927083333333336, 40.520833333333336, 40.822916666666664, 40.822916666666664, 40.822916666666664, 40.822916666666664, 40.822916666666664, 40.822916666666664, 40.822916666666664, 40.822916666666664, 40.822916666666664, 40.822916666666664, 40.822916666666664, 40.822916666666664, 40.822916666666664, 40.822916666666664, 40.822916666666664, 40.822916666666664, 40.822916666666664, 40.822916666666664, 40.822916666666664, 40.822916666666664, 40.822916666666664, 40.822916666666664, 40.822916666666664, 40.822916666666664, 40.822916666666664, 40.822916666666664, 40.822916666666664, 40.822916666666664, 40.822916666666664, 40.822916666666664, 40.822916666666664, 40.822916666666664, 40.822916666666664, 40.822916666666664, 40.822916666666664, 40.822916666666664, 40.822916666666664, 40.822916666666664, 40.822916666666664, 40.822916666666664, 40.822916666666664, 40.822916666666664, 40.822916666666664, 40.822916666666664, 40.822916666666664, 40.822916666666664, 40.822916666666664, 40.822916666666664, 40.822916666666664, 40.822916666666664, 40.822916666666664, 40.822916666666664, 40.822916666666664, 40.822916666666664, 40.822916666666664, 40.822916666666664, 40.822916666666664, 40.822916666666664, 40.822916666666664, 40.822916666666664]\n",
            "40\n",
            "Metrics 39 89 64 0 0.24404056306764266\n",
            "[0.0, 0.0, 0.0, 0.0, 0.0, 0.0, 0.0, 0.0, 0.0, 0.0, 0.0, 0.0, 0.0, 0.0, 0.0, 0.0, 0.0, 0.0, 0.0, 0.0, 0.0, 0.0, 0.0, 0.0, 0.0, 0.0, 0.0, 0.0, 0.0, 0.0, 0.0, 0.0, 0.0, 0.0, 0.0, 0.0, 0.0, 0.0, 0.0, 0.0, 0.0, 0.0, 0.0, 0.0, 0.0, 0.0, 0.0, 0.0, 0.0, 0.0, 0.0, 0.0, 0.0, 0.0, 0.0, 0.0, 0.0, 0.0, 0.015625, 0.020833333333333332, 0.03125, 0.046875, 0.078125, 0.13020833333333334, 0.3020833333333333, 0.828125, 1.015625, 1.5, 1.8489583333333333, 2.5677083333333335, 3.2552083333333335, 3.5989583333333335, 3.9375, 5.328125, 6.171875, 6.932291666666667, 8.161458333333334, 9.53125, 11.395833333333334, 13.046875, 14.979166666666666, 16.958333333333332, 18.46875, 22.59375, 24.880208333333332, 28.067708333333332, 29.536458333333332, 31.833333333333332, 33.614583333333336, 35.104166666666664, 36.635416666666664, 38.479166666666664, 40.833333333333336, 41.421875, 41.614583333333336, 41.984375, 42.098958333333336, 42.197916666666664, 42.286458333333336, 42.484375, 42.557291666666664, 42.635416666666664, 42.739583333333336, 42.822916666666664, 42.859375, 43.265625, 43.317708333333336, 43.34375, 43.65625, 43.703125, 43.958333333333336, 44.270833333333336, 44.296875, 44.755208333333336, 45.286458333333336, 45.296875, 45.71875, 46.041666666666664, 46.5625, 47.661458333333336, 48.880208333333336, 49.15625, 50.463541666666664, 50.947916666666664, 52.848958333333336, 54.984375, 56.828125, 57.416666666666664, 58.348958333333336, 59.151041666666664, 59.578125, 60.604166666666664, 60.786458333333336, 61.677083333333336, 62.083333333333336, 62.083333333333336, 62.671875, 63.09375, 63.317708333333336, 63.802083333333336, 64.0, 64.0, 64.0, 64.0, 64.0, 64.0, 64.0, 64.0, 64.0, 64.0, 64.0, 64.0, 64.0, 64.0, 64.0, 64.0, 64.0, 64.0, 64.0, 64.0, 64.0, 64.0, 64.0, 64.0, 64.0, 64.0, 64.0, 64.0, 64.0, 64.0, 64.0, 64.0, 64.0, 64.0, 64.0, 64.0, 64.0, 64.0, 64.0, 64.0, 64.0, 64.0, 64.0, 64.0, 64.0, 64.0, 64.0, 64.0, 64.0, 64.0, 64.0, 64.0, 64.0, 64.0, 64.0, 64.0, 64.0, 64.0, 64.0, 64.0]\n",
            "[0.0, 0.0, 0.0, 0.0, 0.0, 0.0, 0.0, 0.0, 0.0, 0.0, 0.0, 0.0, 0.0, 0.0, 0.0, 0.0, 0.0, 0.0, 0.0, 0.0, 0.0, 0.0, 0.0, 0.0, 0.0, 0.0, 0.0, 0.0, 0.0, 0.0, 0.0, 0.0, 0.0, 0.0, 0.0, 0.0, 0.0, 0.0, 0.0, 0.0, 0.0, 0.0, 0.0, 0.0, 0.0, 0.0, 0.0, 0.0, 0.0, 0.0, 0.0, 0.0, 0.0, 0.0, 0.0, 0.0, 0.0, 0.0, 0.0, 0.0, 0.0, 0.0, 0.0, 0.0, 0.0, 0.0, 0.0, 0.0, 0.0, 0.0, 0.0, 0.0, 0.0, 0.010416666666666666, 0.010416666666666666, 0.020833333333333332, 0.020833333333333332, 0.020833333333333332, 0.041666666666666664, 0.041666666666666664, 0.052083333333333336, 0.052083333333333336, 0.09375, 0.09375, 0.10416666666666667, 0.14583333333333334, 0.21875, 0.25, 0.3229166666666667, 0.3645833333333333, 0.4375, 0.4895833333333333, 0.6041666666666666, 0.6875, 0.8125, 0.96875, 1.09375, 1.2604166666666667, 1.375, 1.5625, 1.6875, 1.84375, 2.0208333333333335, 2.2395833333333335, 2.4895833333333335, 2.6354166666666665, 2.8020833333333335, 3.0729166666666665, 3.78125, 4.104166666666667, 5.020833333333333, 5.927083333333333, 6.520833333333333, 7.916666666666667, 8.885416666666666, 9.4375, 10.4375, 11.65625, 13.65625, 15.604166666666666, 17.78125, 18.791666666666668, 21.604166666666668, 23.041666666666668, 26.25, 28.229166666666668, 30.84375, 31.822916666666668, 32.90625, 33.708333333333336, 34.770833333333336, 35.895833333333336, 36.322916666666664, 37.59375, 38.104166666666664, 38.229166666666664, 38.9375, 39.541666666666664, 39.927083333333336, 40.520833333333336, 40.822916666666664, 40.822916666666664, 40.822916666666664, 40.822916666666664, 40.822916666666664, 40.822916666666664, 40.822916666666664, 40.822916666666664, 40.822916666666664, 40.822916666666664, 40.822916666666664, 40.822916666666664, 40.822916666666664, 40.822916666666664, 40.822916666666664, 40.822916666666664, 40.822916666666664, 40.822916666666664, 40.822916666666664, 40.822916666666664, 40.822916666666664, 40.822916666666664, 40.822916666666664, 40.822916666666664, 40.822916666666664, 40.822916666666664, 40.822916666666664, 40.822916666666664, 40.822916666666664, 40.822916666666664, 40.822916666666664, 40.822916666666664, 40.822916666666664, 40.822916666666664, 40.822916666666664, 40.822916666666664, 40.822916666666664, 40.822916666666664, 40.822916666666664, 40.822916666666664, 40.822916666666664, 40.822916666666664, 40.822916666666664, 40.822916666666664, 40.822916666666664, 40.822916666666664, 40.822916666666664, 40.822916666666664, 40.822916666666664, 40.822916666666664, 40.822916666666664, 40.822916666666664, 40.822916666666664, 40.822916666666664, 40.822916666666664, 40.822916666666664, 40.822916666666664, 40.822916666666664, 40.822916666666664, 40.822916666666664]\n",
            "44\n",
            "Metrics 82 96 9 5 0.8498810401800715\n",
            "[0.0, 0.0, 0.0, 0.0, 0.0, 0.0, 0.0, 0.0, 0.0, 0.0, 0.0, 0.0, 0.0, 0.0, 0.0, 0.0, 0.0, 0.0, 0.0, 0.0, 0.0, 0.0, 0.0, 0.0, 0.0, 0.0, 0.0, 0.0, 0.0, 0.0, 0.0, 0.0, 0.0, 0.0, 0.0, 0.0, 0.0, 0.0, 0.0, 0.0, 0.0, 0.0, 0.0, 0.0, 0.0, 0.0, 0.0, 0.0, 0.0, 0.0, 0.0, 0.0, 0.0, 0.0, 0.0, 0.0, 0.0, 0.0, 0.015625, 0.020833333333333332, 0.03125, 0.046875, 0.078125, 0.13020833333333334, 0.3020833333333333, 0.828125, 1.015625, 1.5, 1.8489583333333333, 2.5677083333333335, 3.2552083333333335, 3.5989583333333335, 3.9375, 5.328125, 6.171875, 6.932291666666667, 8.161458333333334, 9.53125, 11.395833333333334, 13.046875, 14.979166666666666, 16.958333333333332, 18.46875, 22.59375, 24.880208333333332, 28.067708333333332, 29.536458333333332, 31.833333333333332, 33.614583333333336, 35.104166666666664, 36.635416666666664, 38.479166666666664, 40.833333333333336, 41.421875, 41.614583333333336, 41.984375, 42.098958333333336, 42.197916666666664, 42.286458333333336, 42.484375, 42.557291666666664, 42.635416666666664, 42.739583333333336, 42.822916666666664, 42.859375, 43.265625, 43.317708333333336, 43.34375, 43.65625, 43.703125, 43.958333333333336, 44.270833333333336, 44.296875, 44.755208333333336, 45.286458333333336, 45.296875, 45.71875, 46.041666666666664, 46.5625, 47.661458333333336, 48.880208333333336, 49.15625, 50.463541666666664, 50.947916666666664, 52.848958333333336, 54.984375, 56.828125, 57.416666666666664, 58.348958333333336, 59.151041666666664, 59.578125, 60.604166666666664, 60.786458333333336, 61.677083333333336, 62.083333333333336, 62.083333333333336, 62.671875, 63.09375, 63.317708333333336, 63.802083333333336, 64.0, 64.0, 64.0, 64.0, 64.0, 64.0, 64.0, 64.0, 64.0, 64.0, 64.0, 64.0, 64.0, 64.0, 64.0, 64.0, 64.0, 64.0, 64.0, 64.0, 64.0, 64.0, 64.0, 64.0, 64.0, 64.0, 64.0, 64.0, 64.0, 64.0, 64.0, 64.0, 64.0, 64.0, 64.0, 64.0, 64.0, 64.0, 64.0, 64.0, 64.0, 64.0, 64.0, 64.0, 64.0, 64.0, 64.0, 64.0, 64.0, 64.0, 64.0, 64.0, 64.0, 64.0, 64.0, 64.0, 64.0, 64.0, 64.0, 64.0]\n",
            "[0.0, 0.0, 0.0, 0.0, 0.0, 0.0, 0.0, 0.0, 0.0, 0.0, 0.0, 0.0, 0.0, 0.0, 0.0, 0.0, 0.0, 0.0, 0.0, 0.0, 0.0, 0.0, 0.0, 0.0, 0.0, 0.0, 0.0, 0.0, 0.0, 0.0, 0.0, 0.0, 0.0, 0.0, 0.0, 0.0, 0.0, 0.0, 0.0, 0.0, 0.0, 0.0, 0.0, 0.0, 0.0, 0.0, 0.0, 0.0, 0.0, 0.0, 0.0, 0.0, 0.0, 0.0, 0.0, 0.0, 0.0, 0.0, 0.0, 0.0, 0.0, 0.0, 0.0, 0.0, 0.0, 0.0, 0.0, 0.0, 0.0, 0.0, 0.0, 0.0, 0.0, 0.010416666666666666, 0.010416666666666666, 0.020833333333333332, 0.020833333333333332, 0.020833333333333332, 0.041666666666666664, 0.041666666666666664, 0.052083333333333336, 0.052083333333333336, 0.09375, 0.09375, 0.10416666666666667, 0.14583333333333334, 0.21875, 0.25, 0.3229166666666667, 0.3645833333333333, 0.4375, 0.4895833333333333, 0.6041666666666666, 0.6875, 0.8125, 0.96875, 1.09375, 1.2604166666666667, 1.375, 1.5625, 1.6875, 1.84375, 2.0208333333333335, 2.2395833333333335, 2.4895833333333335, 2.6354166666666665, 2.8020833333333335, 3.0729166666666665, 3.78125, 4.104166666666667, 5.020833333333333, 5.927083333333333, 6.520833333333333, 7.916666666666667, 8.885416666666666, 9.4375, 10.4375, 11.65625, 13.65625, 15.604166666666666, 17.78125, 18.791666666666668, 21.604166666666668, 23.041666666666668, 26.25, 28.229166666666668, 30.84375, 31.822916666666668, 32.90625, 33.708333333333336, 34.770833333333336, 35.895833333333336, 36.322916666666664, 37.59375, 38.104166666666664, 38.229166666666664, 38.9375, 39.541666666666664, 39.927083333333336, 40.520833333333336, 40.822916666666664, 40.822916666666664, 40.822916666666664, 40.822916666666664, 40.822916666666664, 40.822916666666664, 40.822916666666664, 40.822916666666664, 40.822916666666664, 40.822916666666664, 40.822916666666664, 40.822916666666664, 40.822916666666664, 40.822916666666664, 40.822916666666664, 40.822916666666664, 40.822916666666664, 40.822916666666664, 40.822916666666664, 40.822916666666664, 40.822916666666664, 40.822916666666664, 40.822916666666664, 40.822916666666664, 40.822916666666664, 40.822916666666664, 40.822916666666664, 40.822916666666664, 40.822916666666664, 40.822916666666664, 40.822916666666664, 40.822916666666664, 40.822916666666664, 40.822916666666664, 40.822916666666664, 40.822916666666664, 40.822916666666664, 40.822916666666664, 40.822916666666664, 40.822916666666664, 40.822916666666664, 40.822916666666664, 40.822916666666664, 40.822916666666664, 40.822916666666664, 40.822916666666664, 40.822916666666664, 40.822916666666664, 40.822916666666664, 40.822916666666664, 40.822916666666664, 40.822916666666664, 40.822916666666664, 40.822916666666664, 40.822916666666664, 40.822916666666664, 40.822916666666664, 40.822916666666664, 40.822916666666664, 40.822916666666664]\n",
            "48\n",
            "Metrics 69 96 2 25 0.9564971876670771\n",
            "[0.0, 0.0, 0.0, 0.0, 0.0, 0.0, 0.0, 0.0, 0.0, 0.0, 0.0, 0.0, 0.0, 0.0, 0.0, 0.0, 0.0, 0.0, 0.0, 0.0, 0.0, 0.0, 0.0, 0.0, 0.0, 0.0, 0.0, 0.0, 0.0, 0.0, 0.0, 0.0, 0.0, 0.0, 0.0, 0.0, 0.0, 0.0, 0.0, 0.0, 0.0, 0.0, 0.0, 0.0, 0.0, 0.0, 0.0, 0.0, 0.0, 0.0, 0.0, 0.0, 0.0, 0.0, 0.0, 0.0, 0.0, 0.0, 0.015625, 0.020833333333333332, 0.03125, 0.046875, 0.078125, 0.13020833333333334, 0.3020833333333333, 0.828125, 1.015625, 1.5, 1.8489583333333333, 2.5677083333333335, 3.2552083333333335, 3.5989583333333335, 3.9375, 5.328125, 6.171875, 6.932291666666667, 8.161458333333334, 9.53125, 11.395833333333334, 13.046875, 14.979166666666666, 16.958333333333332, 18.46875, 22.59375, 24.880208333333332, 28.067708333333332, 29.536458333333332, 31.833333333333332, 33.614583333333336, 35.104166666666664, 36.635416666666664, 38.479166666666664, 40.833333333333336, 41.421875, 41.614583333333336, 41.984375, 42.098958333333336, 42.197916666666664, 42.286458333333336, 42.484375, 42.557291666666664, 42.635416666666664, 42.739583333333336, 42.822916666666664, 42.859375, 43.265625, 43.317708333333336, 43.34375, 43.65625, 43.703125, 43.958333333333336, 44.270833333333336, 44.296875, 44.755208333333336, 45.286458333333336, 45.296875, 45.71875, 46.041666666666664, 46.5625, 47.661458333333336, 48.880208333333336, 49.15625, 50.463541666666664, 50.947916666666664, 52.848958333333336, 54.984375, 56.828125, 57.416666666666664, 58.348958333333336, 59.151041666666664, 59.578125, 60.604166666666664, 60.786458333333336, 61.677083333333336, 62.083333333333336, 62.083333333333336, 62.671875, 63.09375, 63.317708333333336, 63.802083333333336, 64.0, 64.0, 64.0, 64.0, 64.0, 64.0, 64.0, 64.0, 64.0, 64.0, 64.0, 64.0, 64.0, 64.0, 64.0, 64.0, 64.0, 64.0, 64.0, 64.0, 64.0, 64.0, 64.0, 64.0, 64.0, 64.0, 64.0, 64.0, 64.0, 64.0, 64.0, 64.0, 64.0, 64.0, 64.0, 64.0, 64.0, 64.0, 64.0, 64.0, 64.0, 64.0, 64.0, 64.0, 64.0, 64.0, 64.0, 64.0, 64.0, 64.0, 64.0, 64.0, 64.0, 64.0, 64.0, 64.0, 64.0, 64.0, 64.0, 64.0]\n",
            "[0.0, 0.0, 0.0, 0.0, 0.0, 0.0, 0.0, 0.0, 0.0, 0.0, 0.0, 0.0, 0.0, 0.0, 0.0, 0.0, 0.0, 0.0, 0.0, 0.0, 0.0, 0.0, 0.0, 0.0, 0.0, 0.0, 0.0, 0.0, 0.0, 0.0, 0.0, 0.0, 0.0, 0.0, 0.0, 0.0, 0.0, 0.0, 0.0, 0.0, 0.0, 0.0, 0.0, 0.0, 0.0, 0.0, 0.0, 0.0, 0.0, 0.0, 0.0, 0.0, 0.0, 0.0, 0.0, 0.0, 0.0, 0.0, 0.0, 0.0, 0.0, 0.0, 0.0, 0.0, 0.0, 0.0, 0.0, 0.0, 0.0, 0.0, 0.0, 0.0, 0.0, 0.010416666666666666, 0.010416666666666666, 0.020833333333333332, 0.020833333333333332, 0.020833333333333332, 0.041666666666666664, 0.041666666666666664, 0.052083333333333336, 0.052083333333333336, 0.09375, 0.09375, 0.10416666666666667, 0.14583333333333334, 0.21875, 0.25, 0.3229166666666667, 0.3645833333333333, 0.4375, 0.4895833333333333, 0.6041666666666666, 0.6875, 0.8125, 0.96875, 1.09375, 1.2604166666666667, 1.375, 1.5625, 1.6875, 1.84375, 2.0208333333333335, 2.2395833333333335, 2.4895833333333335, 2.6354166666666665, 2.8020833333333335, 3.0729166666666665, 3.78125, 4.104166666666667, 5.020833333333333, 5.927083333333333, 6.520833333333333, 7.916666666666667, 8.885416666666666, 9.4375, 10.4375, 11.65625, 13.65625, 15.604166666666666, 17.78125, 18.791666666666668, 21.604166666666668, 23.041666666666668, 26.25, 28.229166666666668, 30.84375, 31.822916666666668, 32.90625, 33.708333333333336, 34.770833333333336, 35.895833333333336, 36.322916666666664, 37.59375, 38.104166666666664, 38.229166666666664, 38.9375, 39.541666666666664, 39.927083333333336, 40.520833333333336, 40.822916666666664, 40.822916666666664, 40.822916666666664, 40.822916666666664, 40.822916666666664, 40.822916666666664, 40.822916666666664, 40.822916666666664, 40.822916666666664, 40.822916666666664, 40.822916666666664, 40.822916666666664, 40.822916666666664, 40.822916666666664, 40.822916666666664, 40.822916666666664, 40.822916666666664, 40.822916666666664, 40.822916666666664, 40.822916666666664, 40.822916666666664, 40.822916666666664, 40.822916666666664, 40.822916666666664, 40.822916666666664, 40.822916666666664, 40.822916666666664, 40.822916666666664, 40.822916666666664, 40.822916666666664, 40.822916666666664, 40.822916666666664, 40.822916666666664, 40.822916666666664, 40.822916666666664, 40.822916666666664, 40.822916666666664, 40.822916666666664, 40.822916666666664, 40.822916666666664, 40.822916666666664, 40.822916666666664, 40.822916666666664, 40.822916666666664, 40.822916666666664, 40.822916666666664, 40.822916666666664, 40.822916666666664, 40.822916666666664, 40.822916666666664, 40.822916666666664, 40.822916666666664, 40.822916666666664, 40.822916666666664, 40.822916666666664, 40.822916666666664, 40.822916666666664, 40.822916666666664, 40.822916666666664, 40.822916666666664]\n",
            "52\n",
            "Metrics 54 96 0 42 0.9757186885283219\n",
            "model_FNN_combined (Mean FP delay, Mean delay, Threshold):  [32, 0.3229166666666667] 0.15011895981992807\n",
            "model_FNN_combined (Mean FP delay, Mean delay, Threshold):  [36, 0.4375] 0.19276222919191194\n",
            "model_FNN_combined (Mean FP delay, Mean delay, Threshold):  [40, 0.6041666666666666] 0.24404056306764266\n",
            "model_FNN_combined (Mean FP delay, Mean delay, Threshold):  [44, 5.927083333333333] 0.8498810401800715\n",
            "model_FNN_combined (Mean FP delay, Mean delay, Threshold):  [48, 17.78125] 0.9564971876670771\n",
            "model_FNN_combined (Mean FP delay, Mean delay, Threshold):  [52, 26.25] 0.9757186885283219\n",
            "------------------------------\n",
            "[0.0, 0.0, 0.0, 0.0, 0.0, 0.0, 0.0, 0.0, 0.0, 0.0, 0.0, 0.0, 0.0, 0.0, 0.0, 0.0, 0.0, 0.0, 0.0, 0.0, 0.0, 0.0, 0.0, 0.0, 0.0, 0.0, 0.0, 0.0, 0.0, 0.0, 0.0, 0.3489583333333333, 1.1927083333333333, 2.90625, 3.25, 4.619791666666667, 6.078125, 8.072916666666666, 9.510416666666666, 11.416666666666666, 12.510416666666666, 15.140625, 17.776041666666668, 19.822916666666668, 21.515625, 23.328125, 25.171875, 26.140625, 27.442708333333332, 28.083333333333332, 28.973958333333332, 30.239583333333332, 31.526041666666668, 31.994791666666668, 33.0625, 34.5625, 35.114583333333336, 35.166666666666664, 36.807291666666664, 37.859375, 38.28125, 39.583333333333336, 40.145833333333336, 40.494791666666664, 41.182291666666664, 41.510416666666664, 41.885416666666664, 42.052083333333336, 42.067708333333336, 42.088541666666664, 42.114583333333336, 42.125, 42.140625, 42.145833333333336, 42.1875, 42.208333333333336, 42.244791666666664, 42.25, 42.270833333333336, 42.375, 42.385416666666664, 42.619791666666664, 42.640625, 43.026041666666664, 43.052083333333336, 43.057291666666664, 43.067708333333336, 43.078125, 43.088541666666664, 43.109375, 43.130208333333336, 43.135416666666664, 43.15625, 43.171875, 43.182291666666664, 43.1875, 43.197916666666664, 43.197916666666664, 43.208333333333336, 43.229166666666664, 43.229166666666664, 43.229166666666664, 43.239583333333336, 43.260416666666664, 43.28125, 43.28125, 43.296875, 43.296875, 43.34375, 43.364583333333336, 43.385416666666664, 43.40625, 43.40625, 43.416666666666664, 43.421875, 43.432291666666664, 43.442708333333336, 43.442708333333336, 43.442708333333336, 43.442708333333336, 43.458333333333336, 43.463541666666664, 43.46875, 43.46875, 43.473958333333336, 43.484375, 43.494791666666664, 43.494791666666664, 43.494791666666664, 43.505208333333336, 43.505208333333336, 43.505208333333336, 43.505208333333336, 43.510416666666664, 43.515625, 43.515625, 43.520833333333336, 43.526041666666664, 43.53125, 43.53125, 43.53125, 43.53125, 43.536458333333336, 43.541666666666664, 43.546875, 43.546875, 43.552083333333336, 43.557291666666664, 43.5625, 43.5625, 43.5625, 43.5625, 43.567708333333336, 43.567708333333336, 43.572916666666664, 43.572916666666664, 43.572916666666664, 43.572916666666664, 43.572916666666664, 43.572916666666664, 43.578125, 43.578125, 43.578125, 43.578125, 43.578125, 43.578125, 43.578125, 43.578125, 43.583333333333336, 43.583333333333336, 43.588541666666664, 43.588541666666664, 43.588541666666664, 43.588541666666664, 43.588541666666664, 43.588541666666664, 43.588541666666664, 43.588541666666664, 43.588541666666664, 43.588541666666664, 43.588541666666664, 43.588541666666664, 43.588541666666664, 43.588541666666664, 43.588541666666664, 43.692708333333336, 43.692708333333336, 43.692708333333336, 43.692708333333336, 43.692708333333336, 46.458333333333336, 62.671875, 64.0, 64.0, 64.0, 64.0, 64.0, 64.0, 64.0, 64.0]\n",
            "[0.0, 0.0, 0.0, 0.0, 0.0, 0.0, 0.0, 0.0, 0.0, 0.0, 0.0, 0.0, 0.0, 0.0, 0.0, 0.0, 0.0, 0.0, 0.0, 0.0, 0.0, 0.0, 0.0, 0.0, 0.0, 0.0, 0.0, 0.0, 0.0, 0.0, 0.0, 0.0, 0.0, 0.0, 0.0, 0.0, 0.0, 0.0, 0.0, 0.0, 0.0, 0.020833333333333332, 0.020833333333333332, 0.052083333333333336, 0.0625, 0.08333333333333333, 0.11458333333333333, 0.11458333333333333, 0.11458333333333333, 0.15625, 0.17708333333333334, 0.20833333333333334, 0.22916666666666666, 0.22916666666666666, 0.2604166666666667, 0.28125, 0.28125, 0.2916666666666667, 0.2916666666666667, 0.3020833333333333, 0.3020833333333333, 0.3229166666666667, 0.3541666666666667, 0.375, 0.3854166666666667, 0.40625, 0.40625, 0.4166666666666667, 0.4479166666666667, 0.4583333333333333, 0.46875, 0.4791666666666667, 0.4791666666666667, 0.5, 0.5104166666666666, 0.5208333333333334, 0.5416666666666666, 0.5416666666666666, 0.5416666666666666, 0.5729166666666666, 0.6041666666666666, 0.6145833333333334, 0.6354166666666666, 0.65625, 0.6666666666666666, 0.6770833333333334, 0.7083333333333334, 0.7291666666666666, 0.7604166666666666, 0.78125, 0.8020833333333334, 0.8125, 0.8333333333333334, 0.8541666666666666, 0.8541666666666666, 0.875, 0.8958333333333334, 0.9375, 0.9583333333333334, 0.9791666666666666, 1.0208333333333333, 1.0520833333333333, 1.0729166666666667, 1.09375, 1.1354166666666667, 1.15625, 1.1875, 1.1979166666666667, 1.2291666666666667, 1.2604166666666667, 1.3020833333333333, 1.34375, 1.3958333333333333, 1.4375, 1.5104166666666667, 1.5520833333333333, 1.59375, 1.6354166666666667, 1.65625, 1.6770833333333333, 1.6979166666666667, 1.7395833333333333, 1.7395833333333333, 1.8020833333333333, 1.8541666666666667, 1.8958333333333333, 1.9583333333333333, 1.9895833333333333, 2.03125, 2.0729166666666665, 2.0833333333333335, 2.125, 2.15625, 2.1875, 2.21875, 2.2708333333333335, 2.3020833333333335, 2.3229166666666665, 2.375, 2.4166666666666665, 2.4895833333333335, 2.53125, 2.5625, 2.6041666666666665, 2.6458333333333335, 2.6770833333333335, 2.7395833333333335, 2.7708333333333335, 2.78125, 2.8229166666666665, 2.875, 2.8854166666666665, 2.8958333333333335, 2.9479166666666665, 2.9895833333333335, 3.0416666666666665, 3.0625, 3.125, 3.1770833333333335, 3.2291666666666665, 3.25, 3.28125, 3.3020833333333335, 3.3541666666666665, 3.46875, 3.5520833333333335, 3.59375, 3.6458333333333335, 3.7083333333333335, 3.7291666666666665, 3.8125, 3.90625, 3.9375, 4.0, 4.09375, 4.145833333333333, 4.208333333333333, 4.364583333333333, 4.447916666666667, 4.5, 4.625, 4.729166666666667, 4.875, 5.114583333333333, 5.25, 5.458333333333333, 5.71875, 5.96875, 6.385416666666667, 7.322916666666667, 19.677083333333332, 39.84375, 40.822916666666664, 40.822916666666664, 40.822916666666664, 40.822916666666664, 40.822916666666664, 40.822916666666664, 40.822916666666664, 40.822916666666664]\n",
            "32\n",
            "Metrics 22 73 97 0 0.0010485515073473057\n",
            "[0.0, 0.0, 0.0, 0.0, 0.0, 0.0, 0.0, 0.0, 0.0, 0.0, 0.0, 0.0, 0.0, 0.0, 0.0, 0.0, 0.0, 0.0, 0.0, 0.0, 0.0, 0.0, 0.0, 0.0, 0.0, 0.0, 0.0, 0.0, 0.0, 0.0, 0.0, 0.3489583333333333, 1.1927083333333333, 2.90625, 3.25, 4.619791666666667, 6.078125, 8.072916666666666, 9.510416666666666, 11.416666666666666, 12.510416666666666, 15.140625, 17.776041666666668, 19.822916666666668, 21.515625, 23.328125, 25.171875, 26.140625, 27.442708333333332, 28.083333333333332, 28.973958333333332, 30.239583333333332, 31.526041666666668, 31.994791666666668, 33.0625, 34.5625, 35.114583333333336, 35.166666666666664, 36.807291666666664, 37.859375, 38.28125, 39.583333333333336, 40.145833333333336, 40.494791666666664, 41.182291666666664, 41.510416666666664, 41.885416666666664, 42.052083333333336, 42.067708333333336, 42.088541666666664, 42.114583333333336, 42.125, 42.140625, 42.145833333333336, 42.1875, 42.208333333333336, 42.244791666666664, 42.25, 42.270833333333336, 42.375, 42.385416666666664, 42.619791666666664, 42.640625, 43.026041666666664, 43.052083333333336, 43.057291666666664, 43.067708333333336, 43.078125, 43.088541666666664, 43.109375, 43.130208333333336, 43.135416666666664, 43.15625, 43.171875, 43.182291666666664, 43.1875, 43.197916666666664, 43.197916666666664, 43.208333333333336, 43.229166666666664, 43.229166666666664, 43.229166666666664, 43.239583333333336, 43.260416666666664, 43.28125, 43.28125, 43.296875, 43.296875, 43.34375, 43.364583333333336, 43.385416666666664, 43.40625, 43.40625, 43.416666666666664, 43.421875, 43.432291666666664, 43.442708333333336, 43.442708333333336, 43.442708333333336, 43.442708333333336, 43.458333333333336, 43.463541666666664, 43.46875, 43.46875, 43.473958333333336, 43.484375, 43.494791666666664, 43.494791666666664, 43.494791666666664, 43.505208333333336, 43.505208333333336, 43.505208333333336, 43.505208333333336, 43.510416666666664, 43.515625, 43.515625, 43.520833333333336, 43.526041666666664, 43.53125, 43.53125, 43.53125, 43.53125, 43.536458333333336, 43.541666666666664, 43.546875, 43.546875, 43.552083333333336, 43.557291666666664, 43.5625, 43.5625, 43.5625, 43.5625, 43.567708333333336, 43.567708333333336, 43.572916666666664, 43.572916666666664, 43.572916666666664, 43.572916666666664, 43.572916666666664, 43.572916666666664, 43.578125, 43.578125, 43.578125, 43.578125, 43.578125, 43.578125, 43.578125, 43.578125, 43.583333333333336, 43.583333333333336, 43.588541666666664, 43.588541666666664, 43.588541666666664, 43.588541666666664, 43.588541666666664, 43.588541666666664, 43.588541666666664, 43.588541666666664, 43.588541666666664, 43.588541666666664, 43.588541666666664, 43.588541666666664, 43.588541666666664, 43.588541666666664, 43.588541666666664, 43.692708333333336, 43.692708333333336, 43.692708333333336, 43.692708333333336, 43.692708333333336, 46.458333333333336, 62.671875, 64.0, 64.0, 64.0, 64.0, 64.0, 64.0, 64.0, 64.0]\n",
            "[0.0, 0.0, 0.0, 0.0, 0.0, 0.0, 0.0, 0.0, 0.0, 0.0, 0.0, 0.0, 0.0, 0.0, 0.0, 0.0, 0.0, 0.0, 0.0, 0.0, 0.0, 0.0, 0.0, 0.0, 0.0, 0.0, 0.0, 0.0, 0.0, 0.0, 0.0, 0.0, 0.0, 0.0, 0.0, 0.0, 0.0, 0.0, 0.0, 0.0, 0.0, 0.020833333333333332, 0.020833333333333332, 0.052083333333333336, 0.0625, 0.08333333333333333, 0.11458333333333333, 0.11458333333333333, 0.11458333333333333, 0.15625, 0.17708333333333334, 0.20833333333333334, 0.22916666666666666, 0.22916666666666666, 0.2604166666666667, 0.28125, 0.28125, 0.2916666666666667, 0.2916666666666667, 0.3020833333333333, 0.3020833333333333, 0.3229166666666667, 0.3541666666666667, 0.375, 0.3854166666666667, 0.40625, 0.40625, 0.4166666666666667, 0.4479166666666667, 0.4583333333333333, 0.46875, 0.4791666666666667, 0.4791666666666667, 0.5, 0.5104166666666666, 0.5208333333333334, 0.5416666666666666, 0.5416666666666666, 0.5416666666666666, 0.5729166666666666, 0.6041666666666666, 0.6145833333333334, 0.6354166666666666, 0.65625, 0.6666666666666666, 0.6770833333333334, 0.7083333333333334, 0.7291666666666666, 0.7604166666666666, 0.78125, 0.8020833333333334, 0.8125, 0.8333333333333334, 0.8541666666666666, 0.8541666666666666, 0.875, 0.8958333333333334, 0.9375, 0.9583333333333334, 0.9791666666666666, 1.0208333333333333, 1.0520833333333333, 1.0729166666666667, 1.09375, 1.1354166666666667, 1.15625, 1.1875, 1.1979166666666667, 1.2291666666666667, 1.2604166666666667, 1.3020833333333333, 1.34375, 1.3958333333333333, 1.4375, 1.5104166666666667, 1.5520833333333333, 1.59375, 1.6354166666666667, 1.65625, 1.6770833333333333, 1.6979166666666667, 1.7395833333333333, 1.7395833333333333, 1.8020833333333333, 1.8541666666666667, 1.8958333333333333, 1.9583333333333333, 1.9895833333333333, 2.03125, 2.0729166666666665, 2.0833333333333335, 2.125, 2.15625, 2.1875, 2.21875, 2.2708333333333335, 2.3020833333333335, 2.3229166666666665, 2.375, 2.4166666666666665, 2.4895833333333335, 2.53125, 2.5625, 2.6041666666666665, 2.6458333333333335, 2.6770833333333335, 2.7395833333333335, 2.7708333333333335, 2.78125, 2.8229166666666665, 2.875, 2.8854166666666665, 2.8958333333333335, 2.9479166666666665, 2.9895833333333335, 3.0416666666666665, 3.0625, 3.125, 3.1770833333333335, 3.2291666666666665, 3.25, 3.28125, 3.3020833333333335, 3.3541666666666665, 3.46875, 3.5520833333333335, 3.59375, 3.6458333333333335, 3.7083333333333335, 3.7291666666666665, 3.8125, 3.90625, 3.9375, 4.0, 4.09375, 4.145833333333333, 4.208333333333333, 4.364583333333333, 4.447916666666667, 4.5, 4.625, 4.729166666666667, 4.875, 5.114583333333333, 5.25, 5.458333333333333, 5.71875, 5.96875, 6.385416666666667, 7.322916666666667, 19.677083333333332, 39.84375, 40.822916666666664, 40.822916666666664, 40.822916666666664, 40.822916666666664, 40.822916666666664, 40.822916666666664, 40.822916666666664, 40.822916666666664]\n",
            "36\n",
            "Metrics 25 79 88 0 0.0016471912320242064\n",
            "[0.0, 0.0, 0.0, 0.0, 0.0, 0.0, 0.0, 0.0, 0.0, 0.0, 0.0, 0.0, 0.0, 0.0, 0.0, 0.0, 0.0, 0.0, 0.0, 0.0, 0.0, 0.0, 0.0, 0.0, 0.0, 0.0, 0.0, 0.0, 0.0, 0.0, 0.0, 0.3489583333333333, 1.1927083333333333, 2.90625, 3.25, 4.619791666666667, 6.078125, 8.072916666666666, 9.510416666666666, 11.416666666666666, 12.510416666666666, 15.140625, 17.776041666666668, 19.822916666666668, 21.515625, 23.328125, 25.171875, 26.140625, 27.442708333333332, 28.083333333333332, 28.973958333333332, 30.239583333333332, 31.526041666666668, 31.994791666666668, 33.0625, 34.5625, 35.114583333333336, 35.166666666666664, 36.807291666666664, 37.859375, 38.28125, 39.583333333333336, 40.145833333333336, 40.494791666666664, 41.182291666666664, 41.510416666666664, 41.885416666666664, 42.052083333333336, 42.067708333333336, 42.088541666666664, 42.114583333333336, 42.125, 42.140625, 42.145833333333336, 42.1875, 42.208333333333336, 42.244791666666664, 42.25, 42.270833333333336, 42.375, 42.385416666666664, 42.619791666666664, 42.640625, 43.026041666666664, 43.052083333333336, 43.057291666666664, 43.067708333333336, 43.078125, 43.088541666666664, 43.109375, 43.130208333333336, 43.135416666666664, 43.15625, 43.171875, 43.182291666666664, 43.1875, 43.197916666666664, 43.197916666666664, 43.208333333333336, 43.229166666666664, 43.229166666666664, 43.229166666666664, 43.239583333333336, 43.260416666666664, 43.28125, 43.28125, 43.296875, 43.296875, 43.34375, 43.364583333333336, 43.385416666666664, 43.40625, 43.40625, 43.416666666666664, 43.421875, 43.432291666666664, 43.442708333333336, 43.442708333333336, 43.442708333333336, 43.442708333333336, 43.458333333333336, 43.463541666666664, 43.46875, 43.46875, 43.473958333333336, 43.484375, 43.494791666666664, 43.494791666666664, 43.494791666666664, 43.505208333333336, 43.505208333333336, 43.505208333333336, 43.505208333333336, 43.510416666666664, 43.515625, 43.515625, 43.520833333333336, 43.526041666666664, 43.53125, 43.53125, 43.53125, 43.53125, 43.536458333333336, 43.541666666666664, 43.546875, 43.546875, 43.552083333333336, 43.557291666666664, 43.5625, 43.5625, 43.5625, 43.5625, 43.567708333333336, 43.567708333333336, 43.572916666666664, 43.572916666666664, 43.572916666666664, 43.572916666666664, 43.572916666666664, 43.572916666666664, 43.578125, 43.578125, 43.578125, 43.578125, 43.578125, 43.578125, 43.578125, 43.578125, 43.583333333333336, 43.583333333333336, 43.588541666666664, 43.588541666666664, 43.588541666666664, 43.588541666666664, 43.588541666666664, 43.588541666666664, 43.588541666666664, 43.588541666666664, 43.588541666666664, 43.588541666666664, 43.588541666666664, 43.588541666666664, 43.588541666666664, 43.588541666666664, 43.588541666666664, 43.692708333333336, 43.692708333333336, 43.692708333333336, 43.692708333333336, 43.692708333333336, 46.458333333333336, 62.671875, 64.0, 64.0, 64.0, 64.0, 64.0, 64.0, 64.0, 64.0]\n",
            "[0.0, 0.0, 0.0, 0.0, 0.0, 0.0, 0.0, 0.0, 0.0, 0.0, 0.0, 0.0, 0.0, 0.0, 0.0, 0.0, 0.0, 0.0, 0.0, 0.0, 0.0, 0.0, 0.0, 0.0, 0.0, 0.0, 0.0, 0.0, 0.0, 0.0, 0.0, 0.0, 0.0, 0.0, 0.0, 0.0, 0.0, 0.0, 0.0, 0.0, 0.0, 0.020833333333333332, 0.020833333333333332, 0.052083333333333336, 0.0625, 0.08333333333333333, 0.11458333333333333, 0.11458333333333333, 0.11458333333333333, 0.15625, 0.17708333333333334, 0.20833333333333334, 0.22916666666666666, 0.22916666666666666, 0.2604166666666667, 0.28125, 0.28125, 0.2916666666666667, 0.2916666666666667, 0.3020833333333333, 0.3020833333333333, 0.3229166666666667, 0.3541666666666667, 0.375, 0.3854166666666667, 0.40625, 0.40625, 0.4166666666666667, 0.4479166666666667, 0.4583333333333333, 0.46875, 0.4791666666666667, 0.4791666666666667, 0.5, 0.5104166666666666, 0.5208333333333334, 0.5416666666666666, 0.5416666666666666, 0.5416666666666666, 0.5729166666666666, 0.6041666666666666, 0.6145833333333334, 0.6354166666666666, 0.65625, 0.6666666666666666, 0.6770833333333334, 0.7083333333333334, 0.7291666666666666, 0.7604166666666666, 0.78125, 0.8020833333333334, 0.8125, 0.8333333333333334, 0.8541666666666666, 0.8541666666666666, 0.875, 0.8958333333333334, 0.9375, 0.9583333333333334, 0.9791666666666666, 1.0208333333333333, 1.0520833333333333, 1.0729166666666667, 1.09375, 1.1354166666666667, 1.15625, 1.1875, 1.1979166666666667, 1.2291666666666667, 1.2604166666666667, 1.3020833333333333, 1.34375, 1.3958333333333333, 1.4375, 1.5104166666666667, 1.5520833333333333, 1.59375, 1.6354166666666667, 1.65625, 1.6770833333333333, 1.6979166666666667, 1.7395833333333333, 1.7395833333333333, 1.8020833333333333, 1.8541666666666667, 1.8958333333333333, 1.9583333333333333, 1.9895833333333333, 2.03125, 2.0729166666666665, 2.0833333333333335, 2.125, 2.15625, 2.1875, 2.21875, 2.2708333333333335, 2.3020833333333335, 2.3229166666666665, 2.375, 2.4166666666666665, 2.4895833333333335, 2.53125, 2.5625, 2.6041666666666665, 2.6458333333333335, 2.6770833333333335, 2.7395833333333335, 2.7708333333333335, 2.78125, 2.8229166666666665, 2.875, 2.8854166666666665, 2.8958333333333335, 2.9479166666666665, 2.9895833333333335, 3.0416666666666665, 3.0625, 3.125, 3.1770833333333335, 3.2291666666666665, 3.25, 3.28125, 3.3020833333333335, 3.3541666666666665, 3.46875, 3.5520833333333335, 3.59375, 3.6458333333333335, 3.7083333333333335, 3.7291666666666665, 3.8125, 3.90625, 3.9375, 4.0, 4.09375, 4.145833333333333, 4.208333333333333, 4.364583333333333, 4.447916666666667, 4.5, 4.625, 4.729166666666667, 4.875, 5.114583333333333, 5.25, 5.458333333333333, 5.71875, 5.96875, 6.385416666666667, 7.322916666666667, 19.677083333333332, 39.84375, 40.822916666666664, 40.822916666666664, 40.822916666666664, 40.822916666666664, 40.822916666666664, 40.822916666666664, 40.822916666666664, 40.822916666666664]\n",
            "40\n",
            "Metrics 32 91 69 0 0.003493796729610065\n",
            "[0.0, 0.0, 0.0, 0.0, 0.0, 0.0, 0.0, 0.0, 0.0, 0.0, 0.0, 0.0, 0.0, 0.0, 0.0, 0.0, 0.0, 0.0, 0.0, 0.0, 0.0, 0.0, 0.0, 0.0, 0.0, 0.0, 0.0, 0.0, 0.0, 0.0, 0.0, 0.3489583333333333, 1.1927083333333333, 2.90625, 3.25, 4.619791666666667, 6.078125, 8.072916666666666, 9.510416666666666, 11.416666666666666, 12.510416666666666, 15.140625, 17.776041666666668, 19.822916666666668, 21.515625, 23.328125, 25.171875, 26.140625, 27.442708333333332, 28.083333333333332, 28.973958333333332, 30.239583333333332, 31.526041666666668, 31.994791666666668, 33.0625, 34.5625, 35.114583333333336, 35.166666666666664, 36.807291666666664, 37.859375, 38.28125, 39.583333333333336, 40.145833333333336, 40.494791666666664, 41.182291666666664, 41.510416666666664, 41.885416666666664, 42.052083333333336, 42.067708333333336, 42.088541666666664, 42.114583333333336, 42.125, 42.140625, 42.145833333333336, 42.1875, 42.208333333333336, 42.244791666666664, 42.25, 42.270833333333336, 42.375, 42.385416666666664, 42.619791666666664, 42.640625, 43.026041666666664, 43.052083333333336, 43.057291666666664, 43.067708333333336, 43.078125, 43.088541666666664, 43.109375, 43.130208333333336, 43.135416666666664, 43.15625, 43.171875, 43.182291666666664, 43.1875, 43.197916666666664, 43.197916666666664, 43.208333333333336, 43.229166666666664, 43.229166666666664, 43.229166666666664, 43.239583333333336, 43.260416666666664, 43.28125, 43.28125, 43.296875, 43.296875, 43.34375, 43.364583333333336, 43.385416666666664, 43.40625, 43.40625, 43.416666666666664, 43.421875, 43.432291666666664, 43.442708333333336, 43.442708333333336, 43.442708333333336, 43.442708333333336, 43.458333333333336, 43.463541666666664, 43.46875, 43.46875, 43.473958333333336, 43.484375, 43.494791666666664, 43.494791666666664, 43.494791666666664, 43.505208333333336, 43.505208333333336, 43.505208333333336, 43.505208333333336, 43.510416666666664, 43.515625, 43.515625, 43.520833333333336, 43.526041666666664, 43.53125, 43.53125, 43.53125, 43.53125, 43.536458333333336, 43.541666666666664, 43.546875, 43.546875, 43.552083333333336, 43.557291666666664, 43.5625, 43.5625, 43.5625, 43.5625, 43.567708333333336, 43.567708333333336, 43.572916666666664, 43.572916666666664, 43.572916666666664, 43.572916666666664, 43.572916666666664, 43.572916666666664, 43.578125, 43.578125, 43.578125, 43.578125, 43.578125, 43.578125, 43.578125, 43.578125, 43.583333333333336, 43.583333333333336, 43.588541666666664, 43.588541666666664, 43.588541666666664, 43.588541666666664, 43.588541666666664, 43.588541666666664, 43.588541666666664, 43.588541666666664, 43.588541666666664, 43.588541666666664, 43.588541666666664, 43.588541666666664, 43.588541666666664, 43.588541666666664, 43.588541666666664, 43.692708333333336, 43.692708333333336, 43.692708333333336, 43.692708333333336, 43.692708333333336, 46.458333333333336, 62.671875, 64.0, 64.0, 64.0, 64.0, 64.0, 64.0, 64.0, 64.0]\n",
            "[0.0, 0.0, 0.0, 0.0, 0.0, 0.0, 0.0, 0.0, 0.0, 0.0, 0.0, 0.0, 0.0, 0.0, 0.0, 0.0, 0.0, 0.0, 0.0, 0.0, 0.0, 0.0, 0.0, 0.0, 0.0, 0.0, 0.0, 0.0, 0.0, 0.0, 0.0, 0.0, 0.0, 0.0, 0.0, 0.0, 0.0, 0.0, 0.0, 0.0, 0.0, 0.020833333333333332, 0.020833333333333332, 0.052083333333333336, 0.0625, 0.08333333333333333, 0.11458333333333333, 0.11458333333333333, 0.11458333333333333, 0.15625, 0.17708333333333334, 0.20833333333333334, 0.22916666666666666, 0.22916666666666666, 0.2604166666666667, 0.28125, 0.28125, 0.2916666666666667, 0.2916666666666667, 0.3020833333333333, 0.3020833333333333, 0.3229166666666667, 0.3541666666666667, 0.375, 0.3854166666666667, 0.40625, 0.40625, 0.4166666666666667, 0.4479166666666667, 0.4583333333333333, 0.46875, 0.4791666666666667, 0.4791666666666667, 0.5, 0.5104166666666666, 0.5208333333333334, 0.5416666666666666, 0.5416666666666666, 0.5416666666666666, 0.5729166666666666, 0.6041666666666666, 0.6145833333333334, 0.6354166666666666, 0.65625, 0.6666666666666666, 0.6770833333333334, 0.7083333333333334, 0.7291666666666666, 0.7604166666666666, 0.78125, 0.8020833333333334, 0.8125, 0.8333333333333334, 0.8541666666666666, 0.8541666666666666, 0.875, 0.8958333333333334, 0.9375, 0.9583333333333334, 0.9791666666666666, 1.0208333333333333, 1.0520833333333333, 1.0729166666666667, 1.09375, 1.1354166666666667, 1.15625, 1.1875, 1.1979166666666667, 1.2291666666666667, 1.2604166666666667, 1.3020833333333333, 1.34375, 1.3958333333333333, 1.4375, 1.5104166666666667, 1.5520833333333333, 1.59375, 1.6354166666666667, 1.65625, 1.6770833333333333, 1.6979166666666667, 1.7395833333333333, 1.7395833333333333, 1.8020833333333333, 1.8541666666666667, 1.8958333333333333, 1.9583333333333333, 1.9895833333333333, 2.03125, 2.0729166666666665, 2.0833333333333335, 2.125, 2.15625, 2.1875, 2.21875, 2.2708333333333335, 2.3020833333333335, 2.3229166666666665, 2.375, 2.4166666666666665, 2.4895833333333335, 2.53125, 2.5625, 2.6041666666666665, 2.6458333333333335, 2.6770833333333335, 2.7395833333333335, 2.7708333333333335, 2.78125, 2.8229166666666665, 2.875, 2.8854166666666665, 2.8958333333333335, 2.9479166666666665, 2.9895833333333335, 3.0416666666666665, 3.0625, 3.125, 3.1770833333333335, 3.2291666666666665, 3.25, 3.28125, 3.3020833333333335, 3.3541666666666665, 3.46875, 3.5520833333333335, 3.59375, 3.6458333333333335, 3.7083333333333335, 3.7291666666666665, 3.8125, 3.90625, 3.9375, 4.0, 4.09375, 4.145833333333333, 4.208333333333333, 4.364583333333333, 4.447916666666667, 4.5, 4.625, 4.729166666666667, 4.875, 5.114583333333333, 5.25, 5.458333333333333, 5.71875, 5.96875, 6.385416666666667, 7.322916666666667, 19.677083333333332, 39.84375, 40.822916666666664, 40.822916666666664, 40.822916666666664, 40.822916666666664, 40.822916666666664, 40.822916666666664, 40.822916666666664, 40.822916666666664]\n",
            "44\n",
            "Metrics 80 96 0 16 0.9999988119737823\n",
            "[0.0, 0.0, 0.0, 0.0, 0.0, 0.0, 0.0, 0.0, 0.0, 0.0, 0.0, 0.0, 0.0, 0.0, 0.0, 0.0, 0.0, 0.0, 0.0, 0.0, 0.0, 0.0, 0.0, 0.0, 0.0, 0.0, 0.0, 0.0, 0.0, 0.0, 0.0, 0.3489583333333333, 1.1927083333333333, 2.90625, 3.25, 4.619791666666667, 6.078125, 8.072916666666666, 9.510416666666666, 11.416666666666666, 12.510416666666666, 15.140625, 17.776041666666668, 19.822916666666668, 21.515625, 23.328125, 25.171875, 26.140625, 27.442708333333332, 28.083333333333332, 28.973958333333332, 30.239583333333332, 31.526041666666668, 31.994791666666668, 33.0625, 34.5625, 35.114583333333336, 35.166666666666664, 36.807291666666664, 37.859375, 38.28125, 39.583333333333336, 40.145833333333336, 40.494791666666664, 41.182291666666664, 41.510416666666664, 41.885416666666664, 42.052083333333336, 42.067708333333336, 42.088541666666664, 42.114583333333336, 42.125, 42.140625, 42.145833333333336, 42.1875, 42.208333333333336, 42.244791666666664, 42.25, 42.270833333333336, 42.375, 42.385416666666664, 42.619791666666664, 42.640625, 43.026041666666664, 43.052083333333336, 43.057291666666664, 43.067708333333336, 43.078125, 43.088541666666664, 43.109375, 43.130208333333336, 43.135416666666664, 43.15625, 43.171875, 43.182291666666664, 43.1875, 43.197916666666664, 43.197916666666664, 43.208333333333336, 43.229166666666664, 43.229166666666664, 43.229166666666664, 43.239583333333336, 43.260416666666664, 43.28125, 43.28125, 43.296875, 43.296875, 43.34375, 43.364583333333336, 43.385416666666664, 43.40625, 43.40625, 43.416666666666664, 43.421875, 43.432291666666664, 43.442708333333336, 43.442708333333336, 43.442708333333336, 43.442708333333336, 43.458333333333336, 43.463541666666664, 43.46875, 43.46875, 43.473958333333336, 43.484375, 43.494791666666664, 43.494791666666664, 43.494791666666664, 43.505208333333336, 43.505208333333336, 43.505208333333336, 43.505208333333336, 43.510416666666664, 43.515625, 43.515625, 43.520833333333336, 43.526041666666664, 43.53125, 43.53125, 43.53125, 43.53125, 43.536458333333336, 43.541666666666664, 43.546875, 43.546875, 43.552083333333336, 43.557291666666664, 43.5625, 43.5625, 43.5625, 43.5625, 43.567708333333336, 43.567708333333336, 43.572916666666664, 43.572916666666664, 43.572916666666664, 43.572916666666664, 43.572916666666664, 43.572916666666664, 43.578125, 43.578125, 43.578125, 43.578125, 43.578125, 43.578125, 43.578125, 43.578125, 43.583333333333336, 43.583333333333336, 43.588541666666664, 43.588541666666664, 43.588541666666664, 43.588541666666664, 43.588541666666664, 43.588541666666664, 43.588541666666664, 43.588541666666664, 43.588541666666664, 43.588541666666664, 43.588541666666664, 43.588541666666664, 43.588541666666664, 43.588541666666664, 43.588541666666664, 43.692708333333336, 43.692708333333336, 43.692708333333336, 43.692708333333336, 43.692708333333336, 46.458333333333336, 62.671875, 64.0, 64.0, 64.0, 64.0, 64.0, 64.0, 64.0, 64.0]\n",
            "[0.0, 0.0, 0.0, 0.0, 0.0, 0.0, 0.0, 0.0, 0.0, 0.0, 0.0, 0.0, 0.0, 0.0, 0.0, 0.0, 0.0, 0.0, 0.0, 0.0, 0.0, 0.0, 0.0, 0.0, 0.0, 0.0, 0.0, 0.0, 0.0, 0.0, 0.0, 0.0, 0.0, 0.0, 0.0, 0.0, 0.0, 0.0, 0.0, 0.0, 0.0, 0.020833333333333332, 0.020833333333333332, 0.052083333333333336, 0.0625, 0.08333333333333333, 0.11458333333333333, 0.11458333333333333, 0.11458333333333333, 0.15625, 0.17708333333333334, 0.20833333333333334, 0.22916666666666666, 0.22916666666666666, 0.2604166666666667, 0.28125, 0.28125, 0.2916666666666667, 0.2916666666666667, 0.3020833333333333, 0.3020833333333333, 0.3229166666666667, 0.3541666666666667, 0.375, 0.3854166666666667, 0.40625, 0.40625, 0.4166666666666667, 0.4479166666666667, 0.4583333333333333, 0.46875, 0.4791666666666667, 0.4791666666666667, 0.5, 0.5104166666666666, 0.5208333333333334, 0.5416666666666666, 0.5416666666666666, 0.5416666666666666, 0.5729166666666666, 0.6041666666666666, 0.6145833333333334, 0.6354166666666666, 0.65625, 0.6666666666666666, 0.6770833333333334, 0.7083333333333334, 0.7291666666666666, 0.7604166666666666, 0.78125, 0.8020833333333334, 0.8125, 0.8333333333333334, 0.8541666666666666, 0.8541666666666666, 0.875, 0.8958333333333334, 0.9375, 0.9583333333333334, 0.9791666666666666, 1.0208333333333333, 1.0520833333333333, 1.0729166666666667, 1.09375, 1.1354166666666667, 1.15625, 1.1875, 1.1979166666666667, 1.2291666666666667, 1.2604166666666667, 1.3020833333333333, 1.34375, 1.3958333333333333, 1.4375, 1.5104166666666667, 1.5520833333333333, 1.59375, 1.6354166666666667, 1.65625, 1.6770833333333333, 1.6979166666666667, 1.7395833333333333, 1.7395833333333333, 1.8020833333333333, 1.8541666666666667, 1.8958333333333333, 1.9583333333333333, 1.9895833333333333, 2.03125, 2.0729166666666665, 2.0833333333333335, 2.125, 2.15625, 2.1875, 2.21875, 2.2708333333333335, 2.3020833333333335, 2.3229166666666665, 2.375, 2.4166666666666665, 2.4895833333333335, 2.53125, 2.5625, 2.6041666666666665, 2.6458333333333335, 2.6770833333333335, 2.7395833333333335, 2.7708333333333335, 2.78125, 2.8229166666666665, 2.875, 2.8854166666666665, 2.8958333333333335, 2.9479166666666665, 2.9895833333333335, 3.0416666666666665, 3.0625, 3.125, 3.1770833333333335, 3.2291666666666665, 3.25, 3.28125, 3.3020833333333335, 3.3541666666666665, 3.46875, 3.5520833333333335, 3.59375, 3.6458333333333335, 3.7083333333333335, 3.7291666666666665, 3.8125, 3.90625, 3.9375, 4.0, 4.09375, 4.145833333333333, 4.208333333333333, 4.364583333333333, 4.447916666666667, 4.5, 4.625, 4.729166666666667, 4.875, 5.114583333333333, 5.25, 5.458333333333333, 5.71875, 5.96875, 6.385416666666667, 7.322916666666667, 19.677083333333332, 39.84375, 40.822916666666664, 40.822916666666664, 40.822916666666664, 40.822916666666664, 40.822916666666664, 40.822916666666664, 40.822916666666664, 40.822916666666664]\n",
            "48\n",
            "Metrics 6 96 0 90 0.9999989782266594\n",
            "[0.0, 0.0, 0.0, 0.0, 0.0, 0.0, 0.0, 0.0, 0.0, 0.0, 0.0, 0.0, 0.0, 0.0, 0.0, 0.0, 0.0, 0.0, 0.0, 0.0, 0.0, 0.0, 0.0, 0.0, 0.0, 0.0, 0.0, 0.0, 0.0, 0.0, 0.0, 0.3489583333333333, 1.1927083333333333, 2.90625, 3.25, 4.619791666666667, 6.078125, 8.072916666666666, 9.510416666666666, 11.416666666666666, 12.510416666666666, 15.140625, 17.776041666666668, 19.822916666666668, 21.515625, 23.328125, 25.171875, 26.140625, 27.442708333333332, 28.083333333333332, 28.973958333333332, 30.239583333333332, 31.526041666666668, 31.994791666666668, 33.0625, 34.5625, 35.114583333333336, 35.166666666666664, 36.807291666666664, 37.859375, 38.28125, 39.583333333333336, 40.145833333333336, 40.494791666666664, 41.182291666666664, 41.510416666666664, 41.885416666666664, 42.052083333333336, 42.067708333333336, 42.088541666666664, 42.114583333333336, 42.125, 42.140625, 42.145833333333336, 42.1875, 42.208333333333336, 42.244791666666664, 42.25, 42.270833333333336, 42.375, 42.385416666666664, 42.619791666666664, 42.640625, 43.026041666666664, 43.052083333333336, 43.057291666666664, 43.067708333333336, 43.078125, 43.088541666666664, 43.109375, 43.130208333333336, 43.135416666666664, 43.15625, 43.171875, 43.182291666666664, 43.1875, 43.197916666666664, 43.197916666666664, 43.208333333333336, 43.229166666666664, 43.229166666666664, 43.229166666666664, 43.239583333333336, 43.260416666666664, 43.28125, 43.28125, 43.296875, 43.296875, 43.34375, 43.364583333333336, 43.385416666666664, 43.40625, 43.40625, 43.416666666666664, 43.421875, 43.432291666666664, 43.442708333333336, 43.442708333333336, 43.442708333333336, 43.442708333333336, 43.458333333333336, 43.463541666666664, 43.46875, 43.46875, 43.473958333333336, 43.484375, 43.494791666666664, 43.494791666666664, 43.494791666666664, 43.505208333333336, 43.505208333333336, 43.505208333333336, 43.505208333333336, 43.510416666666664, 43.515625, 43.515625, 43.520833333333336, 43.526041666666664, 43.53125, 43.53125, 43.53125, 43.53125, 43.536458333333336, 43.541666666666664, 43.546875, 43.546875, 43.552083333333336, 43.557291666666664, 43.5625, 43.5625, 43.5625, 43.5625, 43.567708333333336, 43.567708333333336, 43.572916666666664, 43.572916666666664, 43.572916666666664, 43.572916666666664, 43.572916666666664, 43.572916666666664, 43.578125, 43.578125, 43.578125, 43.578125, 43.578125, 43.578125, 43.578125, 43.578125, 43.583333333333336, 43.583333333333336, 43.588541666666664, 43.588541666666664, 43.588541666666664, 43.588541666666664, 43.588541666666664, 43.588541666666664, 43.588541666666664, 43.588541666666664, 43.588541666666664, 43.588541666666664, 43.588541666666664, 43.588541666666664, 43.588541666666664, 43.588541666666664, 43.588541666666664, 43.692708333333336, 43.692708333333336, 43.692708333333336, 43.692708333333336, 43.692708333333336, 46.458333333333336, 62.671875, 64.0, 64.0, 64.0, 64.0, 64.0, 64.0, 64.0, 64.0]\n",
            "[0.0, 0.0, 0.0, 0.0, 0.0, 0.0, 0.0, 0.0, 0.0, 0.0, 0.0, 0.0, 0.0, 0.0, 0.0, 0.0, 0.0, 0.0, 0.0, 0.0, 0.0, 0.0, 0.0, 0.0, 0.0, 0.0, 0.0, 0.0, 0.0, 0.0, 0.0, 0.0, 0.0, 0.0, 0.0, 0.0, 0.0, 0.0, 0.0, 0.0, 0.0, 0.020833333333333332, 0.020833333333333332, 0.052083333333333336, 0.0625, 0.08333333333333333, 0.11458333333333333, 0.11458333333333333, 0.11458333333333333, 0.15625, 0.17708333333333334, 0.20833333333333334, 0.22916666666666666, 0.22916666666666666, 0.2604166666666667, 0.28125, 0.28125, 0.2916666666666667, 0.2916666666666667, 0.3020833333333333, 0.3020833333333333, 0.3229166666666667, 0.3541666666666667, 0.375, 0.3854166666666667, 0.40625, 0.40625, 0.4166666666666667, 0.4479166666666667, 0.4583333333333333, 0.46875, 0.4791666666666667, 0.4791666666666667, 0.5, 0.5104166666666666, 0.5208333333333334, 0.5416666666666666, 0.5416666666666666, 0.5416666666666666, 0.5729166666666666, 0.6041666666666666, 0.6145833333333334, 0.6354166666666666, 0.65625, 0.6666666666666666, 0.6770833333333334, 0.7083333333333334, 0.7291666666666666, 0.7604166666666666, 0.78125, 0.8020833333333334, 0.8125, 0.8333333333333334, 0.8541666666666666, 0.8541666666666666, 0.875, 0.8958333333333334, 0.9375, 0.9583333333333334, 0.9791666666666666, 1.0208333333333333, 1.0520833333333333, 1.0729166666666667, 1.09375, 1.1354166666666667, 1.15625, 1.1875, 1.1979166666666667, 1.2291666666666667, 1.2604166666666667, 1.3020833333333333, 1.34375, 1.3958333333333333, 1.4375, 1.5104166666666667, 1.5520833333333333, 1.59375, 1.6354166666666667, 1.65625, 1.6770833333333333, 1.6979166666666667, 1.7395833333333333, 1.7395833333333333, 1.8020833333333333, 1.8541666666666667, 1.8958333333333333, 1.9583333333333333, 1.9895833333333333, 2.03125, 2.0729166666666665, 2.0833333333333335, 2.125, 2.15625, 2.1875, 2.21875, 2.2708333333333335, 2.3020833333333335, 2.3229166666666665, 2.375, 2.4166666666666665, 2.4895833333333335, 2.53125, 2.5625, 2.6041666666666665, 2.6458333333333335, 2.6770833333333335, 2.7395833333333335, 2.7708333333333335, 2.78125, 2.8229166666666665, 2.875, 2.8854166666666665, 2.8958333333333335, 2.9479166666666665, 2.9895833333333335, 3.0416666666666665, 3.0625, 3.125, 3.1770833333333335, 3.2291666666666665, 3.25, 3.28125, 3.3020833333333335, 3.3541666666666665, 3.46875, 3.5520833333333335, 3.59375, 3.6458333333333335, 3.7083333333333335, 3.7291666666666665, 3.8125, 3.90625, 3.9375, 4.0, 4.09375, 4.145833333333333, 4.208333333333333, 4.364583333333333, 4.447916666666667, 4.5, 4.625, 4.729166666666667, 4.875, 5.114583333333333, 5.25, 5.458333333333333, 5.71875, 5.96875, 6.385416666666667, 7.322916666666667, 19.677083333333332, 39.84375, 40.822916666666664, 40.822916666666664, 40.822916666666664, 40.822916666666664, 40.822916666666664, 40.822916666666664, 40.822916666666664, 40.822916666666664]\n",
            "52\n",
            "Metrics 6 96 0 90 0.9999989782266594\n",
            "model_LSTM_bce (Mean FP delay, Mean delay, Threshold):  [32, 0.2604166666666667] 0.0010485515073473057\n",
            "model_LSTM_bce (Mean FP delay, Mean delay, Threshold):  [36, 0.2916666666666667] 0.0016471912320242064\n",
            "model_LSTM_bce (Mean FP delay, Mean delay, Threshold):  [40, 0.3541666666666667] 0.003493796729610065\n",
            "model_LSTM_bce (Mean FP delay, Mean delay, Threshold):  [44, 19.677083333333332] 0.9999988119737823\n",
            "model_LSTM_bce (Mean FP delay, Mean delay, Threshold):  [48, 39.84375] 0.9999989782266594\n",
            "model_LSTM_bce (Mean FP delay, Mean delay, Threshold):  [52, 39.84375] 0.9999989782266594\n",
            "------------------------------\n",
            "[0.0, 0.0, 0.0, 0.0, 0.0, 0.0, 0.0, 0.0, 0.0, 0.0, 0.0, 0.020833333333333332, 0.2552083333333333, 1.1302083333333333, 1.8802083333333333, 2.6302083333333335, 3.5416666666666665, 4.020833333333333, 5.244791666666667, 6.953125, 7.723958333333333, 8.375, 9.354166666666666, 10.151041666666666, 11.119791666666666, 11.848958333333334, 12.630208333333334, 13.4375, 13.869791666666666, 14.286458333333334, 14.630208333333334, 15.265625, 15.864583333333334, 16.380208333333332, 16.958333333333332, 17.369791666666668, 17.734375, 18.208333333333332, 18.645833333333332, 19.114583333333332, 19.416666666666668, 19.645833333333332, 20.104166666666668, 20.5625, 20.765625, 21.072916666666668, 21.359375, 21.703125, 21.96875, 22.203125, 22.401041666666668, 22.588541666666668, 22.744791666666668, 22.984375, 23.234375, 23.390625, 23.541666666666668, 23.828125, 24.229166666666668, 24.515625, 24.682291666666668, 24.807291666666668, 25.098958333333332, 25.432291666666668, 25.5625, 25.6875, 25.9375, 26.114583333333332, 26.213541666666668, 26.3125, 26.505208333333332, 26.630208333333332, 26.807291666666668, 26.927083333333332, 27.041666666666668, 27.15625, 27.302083333333332, 27.40625, 27.557291666666668, 27.65625, 27.817708333333332, 27.9375, 28.109375, 28.208333333333332, 28.302083333333332, 28.604166666666668, 28.875, 29.083333333333332, 29.401041666666668, 29.947916666666668, 32.078125, 36.067708333333336, 38.322916666666664, 39.807291666666664, 40.885416666666664, 41.614583333333336, 41.802083333333336, 41.869791666666664, 41.921875, 41.942708333333336, 41.973958333333336, 42.015625, 42.046875, 42.072916666666664, 42.098958333333336, 42.109375, 42.130208333333336, 42.15625, 42.171875, 42.177083333333336, 42.192708333333336, 42.203125, 42.229166666666664, 42.3125, 42.432291666666664, 42.458333333333336, 42.479166666666664, 42.515625, 42.520833333333336, 42.552083333333336, 42.578125, 42.661458333333336, 42.78125, 42.786458333333336, 42.802083333333336, 42.828125, 42.895833333333336, 42.901041666666664, 43.34375, 43.385416666666664, 43.411458333333336, 43.4375, 43.869791666666664, 43.973958333333336, 44.567708333333336, 45.234375, 45.78125, 46.135416666666664, 46.697916666666664, 47.958333333333336, 49.020833333333336, 49.276041666666664, 49.96875, 50.354166666666664, 52.046875, 52.255208333333336, 52.791666666666664, 54.130208333333336, 54.9375, 55.46875, 56.604166666666664, 57.005208333333336, 57.322916666666664, 57.59375, 58.817708333333336, 59.640625, 60.463541666666664, 60.947916666666664, 61.265625, 62.666666666666664, 62.666666666666664, 63.197916666666664, 63.723958333333336, 64.0, 64.0, 64.0, 64.0, 64.0, 64.0, 64.0, 64.0, 64.0, 64.0, 64.0, 64.0, 64.0, 64.0, 64.0, 64.0, 64.0, 64.0, 64.0, 64.0, 64.0, 64.0, 64.0, 64.0, 64.0, 64.0, 64.0, 64.0, 64.0, 64.0, 64.0, 64.0, 64.0, 64.0, 64.0, 64.0, 64.0]\n",
            "[0.0, 0.0, 0.0, 0.0, 0.0, 0.0, 0.0, 0.0, 0.0, 0.0, 0.0, 0.0, 0.0, 0.0, 0.0, 0.0, 0.0, 0.0, 0.0, 0.0, 0.0, 0.0, 0.0, 0.0, 0.0, 0.0, 0.010416666666666666, 0.010416666666666666, 0.010416666666666666, 0.010416666666666666, 0.020833333333333332, 0.020833333333333332, 0.020833333333333332, 0.020833333333333332, 0.020833333333333332, 0.020833333333333332, 0.020833333333333332, 0.020833333333333332, 0.020833333333333332, 0.020833333333333332, 0.020833333333333332, 0.020833333333333332, 0.020833333333333332, 0.020833333333333332, 0.020833333333333332, 0.020833333333333332, 0.020833333333333332, 0.020833333333333332, 0.020833333333333332, 0.03125, 0.03125, 0.03125, 0.03125, 0.041666666666666664, 0.041666666666666664, 0.041666666666666664, 0.041666666666666664, 0.041666666666666664, 0.041666666666666664, 0.041666666666666664, 0.041666666666666664, 0.041666666666666664, 0.052083333333333336, 0.052083333333333336, 0.052083333333333336, 0.0625, 0.0625, 0.0625, 0.0625, 0.0625, 0.0625, 0.0625, 0.0625, 0.0625, 0.0625, 0.0625, 0.0625, 0.0625, 0.07291666666666667, 0.07291666666666667, 0.08333333333333333, 0.09375, 0.09375, 0.09375, 0.09375, 0.09375, 0.09375, 0.09375, 0.09375, 0.09375, 0.10416666666666667, 0.10416666666666667, 0.10416666666666667, 0.11458333333333333, 0.14583333333333334, 0.1875, 0.21875, 0.2604166666666667, 0.28125, 0.3229166666666667, 0.3645833333333333, 0.3958333333333333, 0.3958333333333333, 0.40625, 0.4166666666666667, 0.4166666666666667, 0.4270833333333333, 0.4583333333333333, 0.4583333333333333, 0.46875, 0.5104166666666666, 0.53125, 0.5520833333333334, 0.625, 0.6979166666666666, 0.7395833333333334, 0.8645833333333334, 0.90625, 1.0, 1.0520833333333333, 1.0729166666666667, 1.2708333333333333, 1.3333333333333333, 1.40625, 1.4791666666666667, 1.5625, 1.6770833333333333, 1.7395833333333333, 2.6145833333333335, 2.7916666666666665, 3.3854166666666665, 3.5625, 4.072916666666667, 4.322916666666667, 5.354166666666667, 6.854166666666667, 7.59375, 8.34375, 9.302083333333334, 11.0625, 12.583333333333334, 13.166666666666666, 14.125, 14.96875, 17.697916666666668, 18.104166666666668, 19.395833333333332, 21.90625, 23.197916666666668, 24.166666666666668, 26.322916666666668, 27.072916666666668, 27.708333333333332, 28.208333333333332, 30.645833333333332, 32.260416666666664, 33.885416666666664, 34.802083333333336, 35.427083333333336, 38.208333333333336, 38.208333333333336, 39.260416666666664, 40.28125, 40.822916666666664, 40.822916666666664, 40.822916666666664, 40.822916666666664, 40.822916666666664, 40.822916666666664, 40.822916666666664, 40.822916666666664, 40.822916666666664, 40.822916666666664, 40.822916666666664, 40.822916666666664, 40.822916666666664, 40.822916666666664, 40.822916666666664, 40.822916666666664, 40.822916666666664, 40.822916666666664, 40.822916666666664, 40.822916666666664, 40.822916666666664, 40.822916666666664, 40.822916666666664, 40.822916666666664, 40.822916666666664, 40.822916666666664, 40.822916666666664, 40.822916666666664, 40.822916666666664, 40.822916666666664, 40.822916666666664, 40.822916666666664, 40.822916666666664, 40.822916666666664, 40.822916666666664, 40.822916666666664, 40.822916666666664]\n",
            "32\n",
            "Metrics 19 2 171 0 0.19276222919191194\n",
            "[0.0, 0.0, 0.0, 0.0, 0.0, 0.0, 0.0, 0.0, 0.0, 0.0, 0.0, 0.020833333333333332, 0.2552083333333333, 1.1302083333333333, 1.8802083333333333, 2.6302083333333335, 3.5416666666666665, 4.020833333333333, 5.244791666666667, 6.953125, 7.723958333333333, 8.375, 9.354166666666666, 10.151041666666666, 11.119791666666666, 11.848958333333334, 12.630208333333334, 13.4375, 13.869791666666666, 14.286458333333334, 14.630208333333334, 15.265625, 15.864583333333334, 16.380208333333332, 16.958333333333332, 17.369791666666668, 17.734375, 18.208333333333332, 18.645833333333332, 19.114583333333332, 19.416666666666668, 19.645833333333332, 20.104166666666668, 20.5625, 20.765625, 21.072916666666668, 21.359375, 21.703125, 21.96875, 22.203125, 22.401041666666668, 22.588541666666668, 22.744791666666668, 22.984375, 23.234375, 23.390625, 23.541666666666668, 23.828125, 24.229166666666668, 24.515625, 24.682291666666668, 24.807291666666668, 25.098958333333332, 25.432291666666668, 25.5625, 25.6875, 25.9375, 26.114583333333332, 26.213541666666668, 26.3125, 26.505208333333332, 26.630208333333332, 26.807291666666668, 26.927083333333332, 27.041666666666668, 27.15625, 27.302083333333332, 27.40625, 27.557291666666668, 27.65625, 27.817708333333332, 27.9375, 28.109375, 28.208333333333332, 28.302083333333332, 28.604166666666668, 28.875, 29.083333333333332, 29.401041666666668, 29.947916666666668, 32.078125, 36.067708333333336, 38.322916666666664, 39.807291666666664, 40.885416666666664, 41.614583333333336, 41.802083333333336, 41.869791666666664, 41.921875, 41.942708333333336, 41.973958333333336, 42.015625, 42.046875, 42.072916666666664, 42.098958333333336, 42.109375, 42.130208333333336, 42.15625, 42.171875, 42.177083333333336, 42.192708333333336, 42.203125, 42.229166666666664, 42.3125, 42.432291666666664, 42.458333333333336, 42.479166666666664, 42.515625, 42.520833333333336, 42.552083333333336, 42.578125, 42.661458333333336, 42.78125, 42.786458333333336, 42.802083333333336, 42.828125, 42.895833333333336, 42.901041666666664, 43.34375, 43.385416666666664, 43.411458333333336, 43.4375, 43.869791666666664, 43.973958333333336, 44.567708333333336, 45.234375, 45.78125, 46.135416666666664, 46.697916666666664, 47.958333333333336, 49.020833333333336, 49.276041666666664, 49.96875, 50.354166666666664, 52.046875, 52.255208333333336, 52.791666666666664, 54.130208333333336, 54.9375, 55.46875, 56.604166666666664, 57.005208333333336, 57.322916666666664, 57.59375, 58.817708333333336, 59.640625, 60.463541666666664, 60.947916666666664, 61.265625, 62.666666666666664, 62.666666666666664, 63.197916666666664, 63.723958333333336, 64.0, 64.0, 64.0, 64.0, 64.0, 64.0, 64.0, 64.0, 64.0, 64.0, 64.0, 64.0, 64.0, 64.0, 64.0, 64.0, 64.0, 64.0, 64.0, 64.0, 64.0, 64.0, 64.0, 64.0, 64.0, 64.0, 64.0, 64.0, 64.0, 64.0, 64.0, 64.0, 64.0, 64.0, 64.0, 64.0, 64.0]\n",
            "[0.0, 0.0, 0.0, 0.0, 0.0, 0.0, 0.0, 0.0, 0.0, 0.0, 0.0, 0.0, 0.0, 0.0, 0.0, 0.0, 0.0, 0.0, 0.0, 0.0, 0.0, 0.0, 0.0, 0.0, 0.0, 0.0, 0.010416666666666666, 0.010416666666666666, 0.010416666666666666, 0.010416666666666666, 0.020833333333333332, 0.020833333333333332, 0.020833333333333332, 0.020833333333333332, 0.020833333333333332, 0.020833333333333332, 0.020833333333333332, 0.020833333333333332, 0.020833333333333332, 0.020833333333333332, 0.020833333333333332, 0.020833333333333332, 0.020833333333333332, 0.020833333333333332, 0.020833333333333332, 0.020833333333333332, 0.020833333333333332, 0.020833333333333332, 0.020833333333333332, 0.03125, 0.03125, 0.03125, 0.03125, 0.041666666666666664, 0.041666666666666664, 0.041666666666666664, 0.041666666666666664, 0.041666666666666664, 0.041666666666666664, 0.041666666666666664, 0.041666666666666664, 0.041666666666666664, 0.052083333333333336, 0.052083333333333336, 0.052083333333333336, 0.0625, 0.0625, 0.0625, 0.0625, 0.0625, 0.0625, 0.0625, 0.0625, 0.0625, 0.0625, 0.0625, 0.0625, 0.0625, 0.07291666666666667, 0.07291666666666667, 0.08333333333333333, 0.09375, 0.09375, 0.09375, 0.09375, 0.09375, 0.09375, 0.09375, 0.09375, 0.09375, 0.10416666666666667, 0.10416666666666667, 0.10416666666666667, 0.11458333333333333, 0.14583333333333334, 0.1875, 0.21875, 0.2604166666666667, 0.28125, 0.3229166666666667, 0.3645833333333333, 0.3958333333333333, 0.3958333333333333, 0.40625, 0.4166666666666667, 0.4166666666666667, 0.4270833333333333, 0.4583333333333333, 0.4583333333333333, 0.46875, 0.5104166666666666, 0.53125, 0.5520833333333334, 0.625, 0.6979166666666666, 0.7395833333333334, 0.8645833333333334, 0.90625, 1.0, 1.0520833333333333, 1.0729166666666667, 1.2708333333333333, 1.3333333333333333, 1.40625, 1.4791666666666667, 1.5625, 1.6770833333333333, 1.7395833333333333, 2.6145833333333335, 2.7916666666666665, 3.3854166666666665, 3.5625, 4.072916666666667, 4.322916666666667, 5.354166666666667, 6.854166666666667, 7.59375, 8.34375, 9.302083333333334, 11.0625, 12.583333333333334, 13.166666666666666, 14.125, 14.96875, 17.697916666666668, 18.104166666666668, 19.395833333333332, 21.90625, 23.197916666666668, 24.166666666666668, 26.322916666666668, 27.072916666666668, 27.708333333333332, 28.208333333333332, 30.645833333333332, 32.260416666666664, 33.885416666666664, 34.802083333333336, 35.427083333333336, 38.208333333333336, 38.208333333333336, 39.260416666666664, 40.28125, 40.822916666666664, 40.822916666666664, 40.822916666666664, 40.822916666666664, 40.822916666666664, 40.822916666666664, 40.822916666666664, 40.822916666666664, 40.822916666666664, 40.822916666666664, 40.822916666666664, 40.822916666666664, 40.822916666666664, 40.822916666666664, 40.822916666666664, 40.822916666666664, 40.822916666666664, 40.822916666666664, 40.822916666666664, 40.822916666666664, 40.822916666666664, 40.822916666666664, 40.822916666666664, 40.822916666666664, 40.822916666666664, 40.822916666666664, 40.822916666666664, 40.822916666666664, 40.822916666666664, 40.822916666666664, 40.822916666666664, 40.822916666666664, 40.822916666666664, 40.822916666666664, 40.822916666666664, 40.822916666666664, 40.822916666666664]\n",
            "36\n",
            "Metrics 19 2 171 0 0.19276222919191194\n",
            "[0.0, 0.0, 0.0, 0.0, 0.0, 0.0, 0.0, 0.0, 0.0, 0.0, 0.0, 0.020833333333333332, 0.2552083333333333, 1.1302083333333333, 1.8802083333333333, 2.6302083333333335, 3.5416666666666665, 4.020833333333333, 5.244791666666667, 6.953125, 7.723958333333333, 8.375, 9.354166666666666, 10.151041666666666, 11.119791666666666, 11.848958333333334, 12.630208333333334, 13.4375, 13.869791666666666, 14.286458333333334, 14.630208333333334, 15.265625, 15.864583333333334, 16.380208333333332, 16.958333333333332, 17.369791666666668, 17.734375, 18.208333333333332, 18.645833333333332, 19.114583333333332, 19.416666666666668, 19.645833333333332, 20.104166666666668, 20.5625, 20.765625, 21.072916666666668, 21.359375, 21.703125, 21.96875, 22.203125, 22.401041666666668, 22.588541666666668, 22.744791666666668, 22.984375, 23.234375, 23.390625, 23.541666666666668, 23.828125, 24.229166666666668, 24.515625, 24.682291666666668, 24.807291666666668, 25.098958333333332, 25.432291666666668, 25.5625, 25.6875, 25.9375, 26.114583333333332, 26.213541666666668, 26.3125, 26.505208333333332, 26.630208333333332, 26.807291666666668, 26.927083333333332, 27.041666666666668, 27.15625, 27.302083333333332, 27.40625, 27.557291666666668, 27.65625, 27.817708333333332, 27.9375, 28.109375, 28.208333333333332, 28.302083333333332, 28.604166666666668, 28.875, 29.083333333333332, 29.401041666666668, 29.947916666666668, 32.078125, 36.067708333333336, 38.322916666666664, 39.807291666666664, 40.885416666666664, 41.614583333333336, 41.802083333333336, 41.869791666666664, 41.921875, 41.942708333333336, 41.973958333333336, 42.015625, 42.046875, 42.072916666666664, 42.098958333333336, 42.109375, 42.130208333333336, 42.15625, 42.171875, 42.177083333333336, 42.192708333333336, 42.203125, 42.229166666666664, 42.3125, 42.432291666666664, 42.458333333333336, 42.479166666666664, 42.515625, 42.520833333333336, 42.552083333333336, 42.578125, 42.661458333333336, 42.78125, 42.786458333333336, 42.802083333333336, 42.828125, 42.895833333333336, 42.901041666666664, 43.34375, 43.385416666666664, 43.411458333333336, 43.4375, 43.869791666666664, 43.973958333333336, 44.567708333333336, 45.234375, 45.78125, 46.135416666666664, 46.697916666666664, 47.958333333333336, 49.020833333333336, 49.276041666666664, 49.96875, 50.354166666666664, 52.046875, 52.255208333333336, 52.791666666666664, 54.130208333333336, 54.9375, 55.46875, 56.604166666666664, 57.005208333333336, 57.322916666666664, 57.59375, 58.817708333333336, 59.640625, 60.463541666666664, 60.947916666666664, 61.265625, 62.666666666666664, 62.666666666666664, 63.197916666666664, 63.723958333333336, 64.0, 64.0, 64.0, 64.0, 64.0, 64.0, 64.0, 64.0, 64.0, 64.0, 64.0, 64.0, 64.0, 64.0, 64.0, 64.0, 64.0, 64.0, 64.0, 64.0, 64.0, 64.0, 64.0, 64.0, 64.0, 64.0, 64.0, 64.0, 64.0, 64.0, 64.0, 64.0, 64.0, 64.0, 64.0, 64.0, 64.0]\n",
            "[0.0, 0.0, 0.0, 0.0, 0.0, 0.0, 0.0, 0.0, 0.0, 0.0, 0.0, 0.0, 0.0, 0.0, 0.0, 0.0, 0.0, 0.0, 0.0, 0.0, 0.0, 0.0, 0.0, 0.0, 0.0, 0.0, 0.010416666666666666, 0.010416666666666666, 0.010416666666666666, 0.010416666666666666, 0.020833333333333332, 0.020833333333333332, 0.020833333333333332, 0.020833333333333332, 0.020833333333333332, 0.020833333333333332, 0.020833333333333332, 0.020833333333333332, 0.020833333333333332, 0.020833333333333332, 0.020833333333333332, 0.020833333333333332, 0.020833333333333332, 0.020833333333333332, 0.020833333333333332, 0.020833333333333332, 0.020833333333333332, 0.020833333333333332, 0.020833333333333332, 0.03125, 0.03125, 0.03125, 0.03125, 0.041666666666666664, 0.041666666666666664, 0.041666666666666664, 0.041666666666666664, 0.041666666666666664, 0.041666666666666664, 0.041666666666666664, 0.041666666666666664, 0.041666666666666664, 0.052083333333333336, 0.052083333333333336, 0.052083333333333336, 0.0625, 0.0625, 0.0625, 0.0625, 0.0625, 0.0625, 0.0625, 0.0625, 0.0625, 0.0625, 0.0625, 0.0625, 0.0625, 0.07291666666666667, 0.07291666666666667, 0.08333333333333333, 0.09375, 0.09375, 0.09375, 0.09375, 0.09375, 0.09375, 0.09375, 0.09375, 0.09375, 0.10416666666666667, 0.10416666666666667, 0.10416666666666667, 0.11458333333333333, 0.14583333333333334, 0.1875, 0.21875, 0.2604166666666667, 0.28125, 0.3229166666666667, 0.3645833333333333, 0.3958333333333333, 0.3958333333333333, 0.40625, 0.4166666666666667, 0.4166666666666667, 0.4270833333333333, 0.4583333333333333, 0.4583333333333333, 0.46875, 0.5104166666666666, 0.53125, 0.5520833333333334, 0.625, 0.6979166666666666, 0.7395833333333334, 0.8645833333333334, 0.90625, 1.0, 1.0520833333333333, 1.0729166666666667, 1.2708333333333333, 1.3333333333333333, 1.40625, 1.4791666666666667, 1.5625, 1.6770833333333333, 1.7395833333333333, 2.6145833333333335, 2.7916666666666665, 3.3854166666666665, 3.5625, 4.072916666666667, 4.322916666666667, 5.354166666666667, 6.854166666666667, 7.59375, 8.34375, 9.302083333333334, 11.0625, 12.583333333333334, 13.166666666666666, 14.125, 14.96875, 17.697916666666668, 18.104166666666668, 19.395833333333332, 21.90625, 23.197916666666668, 24.166666666666668, 26.322916666666668, 27.072916666666668, 27.708333333333332, 28.208333333333332, 30.645833333333332, 32.260416666666664, 33.885416666666664, 34.802083333333336, 35.427083333333336, 38.208333333333336, 38.208333333333336, 39.260416666666664, 40.28125, 40.822916666666664, 40.822916666666664, 40.822916666666664, 40.822916666666664, 40.822916666666664, 40.822916666666664, 40.822916666666664, 40.822916666666664, 40.822916666666664, 40.822916666666664, 40.822916666666664, 40.822916666666664, 40.822916666666664, 40.822916666666664, 40.822916666666664, 40.822916666666664, 40.822916666666664, 40.822916666666664, 40.822916666666664, 40.822916666666664, 40.822916666666664, 40.822916666666664, 40.822916666666664, 40.822916666666664, 40.822916666666664, 40.822916666666664, 40.822916666666664, 40.822916666666664, 40.822916666666664, 40.822916666666664, 40.822916666666664, 40.822916666666664, 40.822916666666664, 40.822916666666664, 40.822916666666664, 40.822916666666664, 40.822916666666664]\n",
            "40\n",
            "Metrics 20 67 105 0 0.3038257316556411\n",
            "[0.0, 0.0, 0.0, 0.0, 0.0, 0.0, 0.0, 0.0, 0.0, 0.0, 0.0, 0.020833333333333332, 0.2552083333333333, 1.1302083333333333, 1.8802083333333333, 2.6302083333333335, 3.5416666666666665, 4.020833333333333, 5.244791666666667, 6.953125, 7.723958333333333, 8.375, 9.354166666666666, 10.151041666666666, 11.119791666666666, 11.848958333333334, 12.630208333333334, 13.4375, 13.869791666666666, 14.286458333333334, 14.630208333333334, 15.265625, 15.864583333333334, 16.380208333333332, 16.958333333333332, 17.369791666666668, 17.734375, 18.208333333333332, 18.645833333333332, 19.114583333333332, 19.416666666666668, 19.645833333333332, 20.104166666666668, 20.5625, 20.765625, 21.072916666666668, 21.359375, 21.703125, 21.96875, 22.203125, 22.401041666666668, 22.588541666666668, 22.744791666666668, 22.984375, 23.234375, 23.390625, 23.541666666666668, 23.828125, 24.229166666666668, 24.515625, 24.682291666666668, 24.807291666666668, 25.098958333333332, 25.432291666666668, 25.5625, 25.6875, 25.9375, 26.114583333333332, 26.213541666666668, 26.3125, 26.505208333333332, 26.630208333333332, 26.807291666666668, 26.927083333333332, 27.041666666666668, 27.15625, 27.302083333333332, 27.40625, 27.557291666666668, 27.65625, 27.817708333333332, 27.9375, 28.109375, 28.208333333333332, 28.302083333333332, 28.604166666666668, 28.875, 29.083333333333332, 29.401041666666668, 29.947916666666668, 32.078125, 36.067708333333336, 38.322916666666664, 39.807291666666664, 40.885416666666664, 41.614583333333336, 41.802083333333336, 41.869791666666664, 41.921875, 41.942708333333336, 41.973958333333336, 42.015625, 42.046875, 42.072916666666664, 42.098958333333336, 42.109375, 42.130208333333336, 42.15625, 42.171875, 42.177083333333336, 42.192708333333336, 42.203125, 42.229166666666664, 42.3125, 42.432291666666664, 42.458333333333336, 42.479166666666664, 42.515625, 42.520833333333336, 42.552083333333336, 42.578125, 42.661458333333336, 42.78125, 42.786458333333336, 42.802083333333336, 42.828125, 42.895833333333336, 42.901041666666664, 43.34375, 43.385416666666664, 43.411458333333336, 43.4375, 43.869791666666664, 43.973958333333336, 44.567708333333336, 45.234375, 45.78125, 46.135416666666664, 46.697916666666664, 47.958333333333336, 49.020833333333336, 49.276041666666664, 49.96875, 50.354166666666664, 52.046875, 52.255208333333336, 52.791666666666664, 54.130208333333336, 54.9375, 55.46875, 56.604166666666664, 57.005208333333336, 57.322916666666664, 57.59375, 58.817708333333336, 59.640625, 60.463541666666664, 60.947916666666664, 61.265625, 62.666666666666664, 62.666666666666664, 63.197916666666664, 63.723958333333336, 64.0, 64.0, 64.0, 64.0, 64.0, 64.0, 64.0, 64.0, 64.0, 64.0, 64.0, 64.0, 64.0, 64.0, 64.0, 64.0, 64.0, 64.0, 64.0, 64.0, 64.0, 64.0, 64.0, 64.0, 64.0, 64.0, 64.0, 64.0, 64.0, 64.0, 64.0, 64.0, 64.0, 64.0, 64.0, 64.0, 64.0]\n",
            "[0.0, 0.0, 0.0, 0.0, 0.0, 0.0, 0.0, 0.0, 0.0, 0.0, 0.0, 0.0, 0.0, 0.0, 0.0, 0.0, 0.0, 0.0, 0.0, 0.0, 0.0, 0.0, 0.0, 0.0, 0.0, 0.0, 0.010416666666666666, 0.010416666666666666, 0.010416666666666666, 0.010416666666666666, 0.020833333333333332, 0.020833333333333332, 0.020833333333333332, 0.020833333333333332, 0.020833333333333332, 0.020833333333333332, 0.020833333333333332, 0.020833333333333332, 0.020833333333333332, 0.020833333333333332, 0.020833333333333332, 0.020833333333333332, 0.020833333333333332, 0.020833333333333332, 0.020833333333333332, 0.020833333333333332, 0.020833333333333332, 0.020833333333333332, 0.020833333333333332, 0.03125, 0.03125, 0.03125, 0.03125, 0.041666666666666664, 0.041666666666666664, 0.041666666666666664, 0.041666666666666664, 0.041666666666666664, 0.041666666666666664, 0.041666666666666664, 0.041666666666666664, 0.041666666666666664, 0.052083333333333336, 0.052083333333333336, 0.052083333333333336, 0.0625, 0.0625, 0.0625, 0.0625, 0.0625, 0.0625, 0.0625, 0.0625, 0.0625, 0.0625, 0.0625, 0.0625, 0.0625, 0.07291666666666667, 0.07291666666666667, 0.08333333333333333, 0.09375, 0.09375, 0.09375, 0.09375, 0.09375, 0.09375, 0.09375, 0.09375, 0.09375, 0.10416666666666667, 0.10416666666666667, 0.10416666666666667, 0.11458333333333333, 0.14583333333333334, 0.1875, 0.21875, 0.2604166666666667, 0.28125, 0.3229166666666667, 0.3645833333333333, 0.3958333333333333, 0.3958333333333333, 0.40625, 0.4166666666666667, 0.4166666666666667, 0.4270833333333333, 0.4583333333333333, 0.4583333333333333, 0.46875, 0.5104166666666666, 0.53125, 0.5520833333333334, 0.625, 0.6979166666666666, 0.7395833333333334, 0.8645833333333334, 0.90625, 1.0, 1.0520833333333333, 1.0729166666666667, 1.2708333333333333, 1.3333333333333333, 1.40625, 1.4791666666666667, 1.5625, 1.6770833333333333, 1.7395833333333333, 2.6145833333333335, 2.7916666666666665, 3.3854166666666665, 3.5625, 4.072916666666667, 4.322916666666667, 5.354166666666667, 6.854166666666667, 7.59375, 8.34375, 9.302083333333334, 11.0625, 12.583333333333334, 13.166666666666666, 14.125, 14.96875, 17.697916666666668, 18.104166666666668, 19.395833333333332, 21.90625, 23.197916666666668, 24.166666666666668, 26.322916666666668, 27.072916666666668, 27.708333333333332, 28.208333333333332, 30.645833333333332, 32.260416666666664, 33.885416666666664, 34.802083333333336, 35.427083333333336, 38.208333333333336, 38.208333333333336, 39.260416666666664, 40.28125, 40.822916666666664, 40.822916666666664, 40.822916666666664, 40.822916666666664, 40.822916666666664, 40.822916666666664, 40.822916666666664, 40.822916666666664, 40.822916666666664, 40.822916666666664, 40.822916666666664, 40.822916666666664, 40.822916666666664, 40.822916666666664, 40.822916666666664, 40.822916666666664, 40.822916666666664, 40.822916666666664, 40.822916666666664, 40.822916666666664, 40.822916666666664, 40.822916666666664, 40.822916666666664, 40.822916666666664, 40.822916666666664, 40.822916666666664, 40.822916666666664, 40.822916666666664, 40.822916666666664, 40.822916666666664, 40.822916666666664, 40.822916666666664, 40.822916666666664, 40.822916666666664, 40.822916666666664, 40.822916666666664, 40.822916666666664]\n",
            "44\n",
            "Metrics 51 96 36 9 0.9945191819936029\n",
            "[0.0, 0.0, 0.0, 0.0, 0.0, 0.0, 0.0, 0.0, 0.0, 0.0, 0.0, 0.020833333333333332, 0.2552083333333333, 1.1302083333333333, 1.8802083333333333, 2.6302083333333335, 3.5416666666666665, 4.020833333333333, 5.244791666666667, 6.953125, 7.723958333333333, 8.375, 9.354166666666666, 10.151041666666666, 11.119791666666666, 11.848958333333334, 12.630208333333334, 13.4375, 13.869791666666666, 14.286458333333334, 14.630208333333334, 15.265625, 15.864583333333334, 16.380208333333332, 16.958333333333332, 17.369791666666668, 17.734375, 18.208333333333332, 18.645833333333332, 19.114583333333332, 19.416666666666668, 19.645833333333332, 20.104166666666668, 20.5625, 20.765625, 21.072916666666668, 21.359375, 21.703125, 21.96875, 22.203125, 22.401041666666668, 22.588541666666668, 22.744791666666668, 22.984375, 23.234375, 23.390625, 23.541666666666668, 23.828125, 24.229166666666668, 24.515625, 24.682291666666668, 24.807291666666668, 25.098958333333332, 25.432291666666668, 25.5625, 25.6875, 25.9375, 26.114583333333332, 26.213541666666668, 26.3125, 26.505208333333332, 26.630208333333332, 26.807291666666668, 26.927083333333332, 27.041666666666668, 27.15625, 27.302083333333332, 27.40625, 27.557291666666668, 27.65625, 27.817708333333332, 27.9375, 28.109375, 28.208333333333332, 28.302083333333332, 28.604166666666668, 28.875, 29.083333333333332, 29.401041666666668, 29.947916666666668, 32.078125, 36.067708333333336, 38.322916666666664, 39.807291666666664, 40.885416666666664, 41.614583333333336, 41.802083333333336, 41.869791666666664, 41.921875, 41.942708333333336, 41.973958333333336, 42.015625, 42.046875, 42.072916666666664, 42.098958333333336, 42.109375, 42.130208333333336, 42.15625, 42.171875, 42.177083333333336, 42.192708333333336, 42.203125, 42.229166666666664, 42.3125, 42.432291666666664, 42.458333333333336, 42.479166666666664, 42.515625, 42.520833333333336, 42.552083333333336, 42.578125, 42.661458333333336, 42.78125, 42.786458333333336, 42.802083333333336, 42.828125, 42.895833333333336, 42.901041666666664, 43.34375, 43.385416666666664, 43.411458333333336, 43.4375, 43.869791666666664, 43.973958333333336, 44.567708333333336, 45.234375, 45.78125, 46.135416666666664, 46.697916666666664, 47.958333333333336, 49.020833333333336, 49.276041666666664, 49.96875, 50.354166666666664, 52.046875, 52.255208333333336, 52.791666666666664, 54.130208333333336, 54.9375, 55.46875, 56.604166666666664, 57.005208333333336, 57.322916666666664, 57.59375, 58.817708333333336, 59.640625, 60.463541666666664, 60.947916666666664, 61.265625, 62.666666666666664, 62.666666666666664, 63.197916666666664, 63.723958333333336, 64.0, 64.0, 64.0, 64.0, 64.0, 64.0, 64.0, 64.0, 64.0, 64.0, 64.0, 64.0, 64.0, 64.0, 64.0, 64.0, 64.0, 64.0, 64.0, 64.0, 64.0, 64.0, 64.0, 64.0, 64.0, 64.0, 64.0, 64.0, 64.0, 64.0, 64.0, 64.0, 64.0, 64.0, 64.0, 64.0, 64.0]\n",
            "[0.0, 0.0, 0.0, 0.0, 0.0, 0.0, 0.0, 0.0, 0.0, 0.0, 0.0, 0.0, 0.0, 0.0, 0.0, 0.0, 0.0, 0.0, 0.0, 0.0, 0.0, 0.0, 0.0, 0.0, 0.0, 0.0, 0.010416666666666666, 0.010416666666666666, 0.010416666666666666, 0.010416666666666666, 0.020833333333333332, 0.020833333333333332, 0.020833333333333332, 0.020833333333333332, 0.020833333333333332, 0.020833333333333332, 0.020833333333333332, 0.020833333333333332, 0.020833333333333332, 0.020833333333333332, 0.020833333333333332, 0.020833333333333332, 0.020833333333333332, 0.020833333333333332, 0.020833333333333332, 0.020833333333333332, 0.020833333333333332, 0.020833333333333332, 0.020833333333333332, 0.03125, 0.03125, 0.03125, 0.03125, 0.041666666666666664, 0.041666666666666664, 0.041666666666666664, 0.041666666666666664, 0.041666666666666664, 0.041666666666666664, 0.041666666666666664, 0.041666666666666664, 0.041666666666666664, 0.052083333333333336, 0.052083333333333336, 0.052083333333333336, 0.0625, 0.0625, 0.0625, 0.0625, 0.0625, 0.0625, 0.0625, 0.0625, 0.0625, 0.0625, 0.0625, 0.0625, 0.0625, 0.07291666666666667, 0.07291666666666667, 0.08333333333333333, 0.09375, 0.09375, 0.09375, 0.09375, 0.09375, 0.09375, 0.09375, 0.09375, 0.09375, 0.10416666666666667, 0.10416666666666667, 0.10416666666666667, 0.11458333333333333, 0.14583333333333334, 0.1875, 0.21875, 0.2604166666666667, 0.28125, 0.3229166666666667, 0.3645833333333333, 0.3958333333333333, 0.3958333333333333, 0.40625, 0.4166666666666667, 0.4166666666666667, 0.4270833333333333, 0.4583333333333333, 0.4583333333333333, 0.46875, 0.5104166666666666, 0.53125, 0.5520833333333334, 0.625, 0.6979166666666666, 0.7395833333333334, 0.8645833333333334, 0.90625, 1.0, 1.0520833333333333, 1.0729166666666667, 1.2708333333333333, 1.3333333333333333, 1.40625, 1.4791666666666667, 1.5625, 1.6770833333333333, 1.7395833333333333, 2.6145833333333335, 2.7916666666666665, 3.3854166666666665, 3.5625, 4.072916666666667, 4.322916666666667, 5.354166666666667, 6.854166666666667, 7.59375, 8.34375, 9.302083333333334, 11.0625, 12.583333333333334, 13.166666666666666, 14.125, 14.96875, 17.697916666666668, 18.104166666666668, 19.395833333333332, 21.90625, 23.197916666666668, 24.166666666666668, 26.322916666666668, 27.072916666666668, 27.708333333333332, 28.208333333333332, 30.645833333333332, 32.260416666666664, 33.885416666666664, 34.802083333333336, 35.427083333333336, 38.208333333333336, 38.208333333333336, 39.260416666666664, 40.28125, 40.822916666666664, 40.822916666666664, 40.822916666666664, 40.822916666666664, 40.822916666666664, 40.822916666666664, 40.822916666666664, 40.822916666666664, 40.822916666666664, 40.822916666666664, 40.822916666666664, 40.822916666666664, 40.822916666666664, 40.822916666666664, 40.822916666666664, 40.822916666666664, 40.822916666666664, 40.822916666666664, 40.822916666666664, 40.822916666666664, 40.822916666666664, 40.822916666666664, 40.822916666666664, 40.822916666666664, 40.822916666666664, 40.822916666666664, 40.822916666666664, 40.822916666666664, 40.822916666666664, 40.822916666666664, 40.822916666666664, 40.822916666666664, 40.822916666666664, 40.822916666666664, 40.822916666666664, 40.822916666666664, 40.822916666666664]\n",
            "48\n",
            "Metrics 40 96 24 32 0.9977744599160726\n",
            "[0.0, 0.0, 0.0, 0.0, 0.0, 0.0, 0.0, 0.0, 0.0, 0.0, 0.0, 0.020833333333333332, 0.2552083333333333, 1.1302083333333333, 1.8802083333333333, 2.6302083333333335, 3.5416666666666665, 4.020833333333333, 5.244791666666667, 6.953125, 7.723958333333333, 8.375, 9.354166666666666, 10.151041666666666, 11.119791666666666, 11.848958333333334, 12.630208333333334, 13.4375, 13.869791666666666, 14.286458333333334, 14.630208333333334, 15.265625, 15.864583333333334, 16.380208333333332, 16.958333333333332, 17.369791666666668, 17.734375, 18.208333333333332, 18.645833333333332, 19.114583333333332, 19.416666666666668, 19.645833333333332, 20.104166666666668, 20.5625, 20.765625, 21.072916666666668, 21.359375, 21.703125, 21.96875, 22.203125, 22.401041666666668, 22.588541666666668, 22.744791666666668, 22.984375, 23.234375, 23.390625, 23.541666666666668, 23.828125, 24.229166666666668, 24.515625, 24.682291666666668, 24.807291666666668, 25.098958333333332, 25.432291666666668, 25.5625, 25.6875, 25.9375, 26.114583333333332, 26.213541666666668, 26.3125, 26.505208333333332, 26.630208333333332, 26.807291666666668, 26.927083333333332, 27.041666666666668, 27.15625, 27.302083333333332, 27.40625, 27.557291666666668, 27.65625, 27.817708333333332, 27.9375, 28.109375, 28.208333333333332, 28.302083333333332, 28.604166666666668, 28.875, 29.083333333333332, 29.401041666666668, 29.947916666666668, 32.078125, 36.067708333333336, 38.322916666666664, 39.807291666666664, 40.885416666666664, 41.614583333333336, 41.802083333333336, 41.869791666666664, 41.921875, 41.942708333333336, 41.973958333333336, 42.015625, 42.046875, 42.072916666666664, 42.098958333333336, 42.109375, 42.130208333333336, 42.15625, 42.171875, 42.177083333333336, 42.192708333333336, 42.203125, 42.229166666666664, 42.3125, 42.432291666666664, 42.458333333333336, 42.479166666666664, 42.515625, 42.520833333333336, 42.552083333333336, 42.578125, 42.661458333333336, 42.78125, 42.786458333333336, 42.802083333333336, 42.828125, 42.895833333333336, 42.901041666666664, 43.34375, 43.385416666666664, 43.411458333333336, 43.4375, 43.869791666666664, 43.973958333333336, 44.567708333333336, 45.234375, 45.78125, 46.135416666666664, 46.697916666666664, 47.958333333333336, 49.020833333333336, 49.276041666666664, 49.96875, 50.354166666666664, 52.046875, 52.255208333333336, 52.791666666666664, 54.130208333333336, 54.9375, 55.46875, 56.604166666666664, 57.005208333333336, 57.322916666666664, 57.59375, 58.817708333333336, 59.640625, 60.463541666666664, 60.947916666666664, 61.265625, 62.666666666666664, 62.666666666666664, 63.197916666666664, 63.723958333333336, 64.0, 64.0, 64.0, 64.0, 64.0, 64.0, 64.0, 64.0, 64.0, 64.0, 64.0, 64.0, 64.0, 64.0, 64.0, 64.0, 64.0, 64.0, 64.0, 64.0, 64.0, 64.0, 64.0, 64.0, 64.0, 64.0, 64.0, 64.0, 64.0, 64.0, 64.0, 64.0, 64.0, 64.0, 64.0, 64.0, 64.0]\n",
            "[0.0, 0.0, 0.0, 0.0, 0.0, 0.0, 0.0, 0.0, 0.0, 0.0, 0.0, 0.0, 0.0, 0.0, 0.0, 0.0, 0.0, 0.0, 0.0, 0.0, 0.0, 0.0, 0.0, 0.0, 0.0, 0.0, 0.010416666666666666, 0.010416666666666666, 0.010416666666666666, 0.010416666666666666, 0.020833333333333332, 0.020833333333333332, 0.020833333333333332, 0.020833333333333332, 0.020833333333333332, 0.020833333333333332, 0.020833333333333332, 0.020833333333333332, 0.020833333333333332, 0.020833333333333332, 0.020833333333333332, 0.020833333333333332, 0.020833333333333332, 0.020833333333333332, 0.020833333333333332, 0.020833333333333332, 0.020833333333333332, 0.020833333333333332, 0.020833333333333332, 0.03125, 0.03125, 0.03125, 0.03125, 0.041666666666666664, 0.041666666666666664, 0.041666666666666664, 0.041666666666666664, 0.041666666666666664, 0.041666666666666664, 0.041666666666666664, 0.041666666666666664, 0.041666666666666664, 0.052083333333333336, 0.052083333333333336, 0.052083333333333336, 0.0625, 0.0625, 0.0625, 0.0625, 0.0625, 0.0625, 0.0625, 0.0625, 0.0625, 0.0625, 0.0625, 0.0625, 0.0625, 0.07291666666666667, 0.07291666666666667, 0.08333333333333333, 0.09375, 0.09375, 0.09375, 0.09375, 0.09375, 0.09375, 0.09375, 0.09375, 0.09375, 0.10416666666666667, 0.10416666666666667, 0.10416666666666667, 0.11458333333333333, 0.14583333333333334, 0.1875, 0.21875, 0.2604166666666667, 0.28125, 0.3229166666666667, 0.3645833333333333, 0.3958333333333333, 0.3958333333333333, 0.40625, 0.4166666666666667, 0.4166666666666667, 0.4270833333333333, 0.4583333333333333, 0.4583333333333333, 0.46875, 0.5104166666666666, 0.53125, 0.5520833333333334, 0.625, 0.6979166666666666, 0.7395833333333334, 0.8645833333333334, 0.90625, 1.0, 1.0520833333333333, 1.0729166666666667, 1.2708333333333333, 1.3333333333333333, 1.40625, 1.4791666666666667, 1.5625, 1.6770833333333333, 1.7395833333333333, 2.6145833333333335, 2.7916666666666665, 3.3854166666666665, 3.5625, 4.072916666666667, 4.322916666666667, 5.354166666666667, 6.854166666666667, 7.59375, 8.34375, 9.302083333333334, 11.0625, 12.583333333333334, 13.166666666666666, 14.125, 14.96875, 17.697916666666668, 18.104166666666668, 19.395833333333332, 21.90625, 23.197916666666668, 24.166666666666668, 26.322916666666668, 27.072916666666668, 27.708333333333332, 28.208333333333332, 30.645833333333332, 32.260416666666664, 33.885416666666664, 34.802083333333336, 35.427083333333336, 38.208333333333336, 38.208333333333336, 39.260416666666664, 40.28125, 40.822916666666664, 40.822916666666664, 40.822916666666664, 40.822916666666664, 40.822916666666664, 40.822916666666664, 40.822916666666664, 40.822916666666664, 40.822916666666664, 40.822916666666664, 40.822916666666664, 40.822916666666664, 40.822916666666664, 40.822916666666664, 40.822916666666664, 40.822916666666664, 40.822916666666664, 40.822916666666664, 40.822916666666664, 40.822916666666664, 40.822916666666664, 40.822916666666664, 40.822916666666664, 40.822916666666664, 40.822916666666664, 40.822916666666664, 40.822916666666664, 40.822916666666664, 40.822916666666664, 40.822916666666664, 40.822916666666664, 40.822916666666664, 40.822916666666664, 40.822916666666664, 40.822916666666664, 40.822916666666664, 40.822916666666664]\n",
            "52\n",
            "Metrics 32 96 15 49 0.9987810462995611\n",
            "model_LSTM_custom (Mean FP delay, Mean delay, Threshold):  [32, 0.10416666666666667] 0.19276222919191194\n",
            "model_LSTM_custom (Mean FP delay, Mean delay, Threshold):  [36, 0.10416666666666667] 0.19276222919191194\n",
            "model_LSTM_custom (Mean FP delay, Mean delay, Threshold):  [40, 0.14583333333333334] 0.3038257316556411\n",
            "model_LSTM_custom (Mean FP delay, Mean delay, Threshold):  [44, 5.354166666666667] 0.9945191819936029\n",
            "model_LSTM_custom (Mean FP delay, Mean delay, Threshold):  [48, 12.583333333333334] 0.9977744599160726\n",
            "model_LSTM_custom (Mean FP delay, Mean delay, Threshold):  [52, 17.697916666666668] 0.9987810462995611\n",
            "------------------------------\n",
            "[0.0, 0.0, 0.0, 0.0, 0.0, 0.0, 0.0, 0.0, 0.0, 0.0, 0.25, 0.6041666666666666, 1.03125, 1.4270833333333333, 1.6979166666666667, 2.09375, 2.4114583333333335, 3.2760416666666665, 4.0625, 4.458333333333333, 5.067708333333333, 6.453125, 7.010416666666667, 7.578125, 8.109375, 8.71875, 9.182291666666666, 9.854166666666666, 10.692708333333334, 11.416666666666666, 12.229166666666666, 12.713541666666666, 13.052083333333334, 13.630208333333334, 14.276041666666666, 14.927083333333334, 15.723958333333334, 16.130208333333332, 16.78125, 17.067708333333332, 17.552083333333332, 17.828125, 18.291666666666668, 18.989583333333332, 19.286458333333332, 19.53125, 19.916666666666668, 20.604166666666668, 20.78125, 21.333333333333332, 21.6875, 22.348958333333332, 22.5625, 22.78125, 22.932291666666668, 23.104166666666668, 23.239583333333332, 23.432291666666668, 23.598958333333332, 23.8125, 24.28125, 24.802083333333332, 25.083333333333332, 25.234375, 25.520833333333332, 25.65625, 26.0, 26.255208333333332, 26.40625, 26.614583333333332, 26.848958333333332, 27.208333333333332, 27.401041666666668, 27.619791666666668, 27.958333333333332, 28.223958333333332, 28.744791666666668, 29.005208333333332, 29.28125, 29.578125, 30.0, 30.291666666666668, 30.6875, 31.015625, 31.546875, 31.942708333333332, 32.640625, 33.109375, 33.546875, 34.151041666666664, 34.614583333333336, 35.114583333333336, 35.723958333333336, 36.760416666666664, 38.005208333333336, 39.104166666666664, 39.947916666666664, 41.072916666666664, 41.713541666666664, 42.083333333333336, 42.166666666666664, 42.317708333333336, 42.348958333333336, 42.427083333333336, 42.453125, 42.484375, 42.510416666666664, 42.541666666666664, 42.578125, 42.588541666666664, 42.625, 42.640625, 42.65625, 42.666666666666664, 42.682291666666664, 42.723958333333336, 42.75, 42.765625, 42.776041666666664, 42.786458333333336, 42.807291666666664, 42.817708333333336, 42.838541666666664, 42.895833333333336, 42.90625, 42.932291666666664, 42.963541666666664, 42.984375, 43.010416666666664, 43.020833333333336, 43.03125, 43.036458333333336, 43.072916666666664, 43.083333333333336, 43.140625, 43.151041666666664, 43.161458333333336, 43.166666666666664, 43.182291666666664, 43.192708333333336, 43.223958333333336, 43.229166666666664, 43.234375, 43.255208333333336, 43.270833333333336, 43.28125, 43.291666666666664, 43.302083333333336, 43.3125, 43.34375, 43.348958333333336, 43.354166666666664, 43.375, 43.380208333333336, 43.390625, 43.401041666666664, 43.40625, 43.411458333333336, 43.421875, 43.432291666666664, 43.442708333333336, 43.453125, 43.453125, 43.463541666666664, 43.484375, 43.484375, 43.489583333333336, 43.489583333333336, 43.489583333333336, 43.494791666666664, 43.494791666666664, 43.5, 43.510416666666664, 43.520833333333336, 43.526041666666664, 43.536458333333336, 43.536458333333336, 43.536458333333336, 43.541666666666664, 43.546875, 43.552083333333336, 43.557291666666664, 43.5625, 43.5625, 43.5625, 43.567708333333336, 43.567708333333336, 43.567708333333336, 43.572916666666664, 43.572916666666664, 43.572916666666664, 43.578125, 43.578125, 43.583333333333336, 43.583333333333336, 43.588541666666664, 43.708333333333336, 43.708333333333336, 43.90625, 43.90625]\n",
            "[0.0, 0.0, 0.0, 0.0, 0.0, 0.0, 0.0, 0.0, 0.0, 0.0, 0.0, 0.0, 0.0, 0.0, 0.0, 0.0, 0.0, 0.0, 0.0, 0.0, 0.0, 0.0, 0.0, 0.0, 0.0, 0.0, 0.0, 0.0, 0.0, 0.0, 0.010416666666666666, 0.010416666666666666, 0.010416666666666666, 0.010416666666666666, 0.010416666666666666, 0.010416666666666666, 0.020833333333333332, 0.020833333333333332, 0.020833333333333332, 0.020833333333333332, 0.020833333333333332, 0.020833333333333332, 0.020833333333333332, 0.020833333333333332, 0.020833333333333332, 0.020833333333333332, 0.020833333333333332, 0.020833333333333332, 0.03125, 0.03125, 0.041666666666666664, 0.041666666666666664, 0.041666666666666664, 0.041666666666666664, 0.041666666666666664, 0.041666666666666664, 0.041666666666666664, 0.041666666666666664, 0.041666666666666664, 0.041666666666666664, 0.041666666666666664, 0.041666666666666664, 0.041666666666666664, 0.052083333333333336, 0.0625, 0.0625, 0.0625, 0.07291666666666667, 0.07291666666666667, 0.07291666666666667, 0.07291666666666667, 0.07291666666666667, 0.07291666666666667, 0.07291666666666667, 0.07291666666666667, 0.07291666666666667, 0.07291666666666667, 0.07291666666666667, 0.08333333333333333, 0.08333333333333333, 0.09375, 0.10416666666666667, 0.10416666666666667, 0.10416666666666667, 0.11458333333333333, 0.11458333333333333, 0.11458333333333333, 0.11458333333333333, 0.11458333333333333, 0.11458333333333333, 0.11458333333333333, 0.125, 0.13541666666666666, 0.15625, 0.15625, 0.17708333333333334, 0.21875, 0.22916666666666666, 0.22916666666666666, 0.25, 0.25, 0.2604166666666667, 0.2604166666666667, 0.2708333333333333, 0.28125, 0.2916666666666667, 0.3020833333333333, 0.3333333333333333, 0.3541666666666667, 0.375, 0.3958333333333333, 0.4479166666666667, 0.4895833333333333, 0.53125, 0.5625, 0.5729166666666666, 0.6354166666666666, 0.6666666666666666, 0.6875, 0.75, 0.78125, 0.8020833333333334, 0.8541666666666666, 0.9166666666666666, 0.9479166666666666, 0.96875, 1.0208333333333333, 1.0833333333333333, 1.125, 1.1875, 1.25, 1.2916666666666667, 1.34375, 1.3958333333333333, 1.4791666666666667, 1.5208333333333333, 1.6041666666666667, 1.65625, 1.71875, 1.7604166666666667, 1.8125, 1.8541666666666667, 1.90625, 1.9895833333333333, 2.0416666666666665, 2.1875, 2.2395833333333335, 2.3020833333333335, 2.3333333333333335, 2.4270833333333335, 2.4791666666666665, 2.5729166666666665, 2.625, 2.6770833333333335, 2.7708333333333335, 2.8125, 2.8645833333333335, 2.9375, 2.9791666666666665, 3.0208333333333335, 3.0833333333333335, 3.1354166666666665, 3.2395833333333335, 3.28125, 3.3645833333333335, 3.4270833333333335, 3.4895833333333335, 3.53125, 3.5625, 3.6458333333333335, 3.75, 3.84375, 3.90625, 3.9895833333333335, 4.104166666666667, 4.135416666666667, 4.208333333333333, 4.291666666666667, 4.34375, 4.4375, 4.5, 4.541666666666667, 4.635416666666667, 4.729166666666667, 4.854166666666667, 4.96875, 5.0625, 5.166666666666667, 5.34375, 5.458333333333333, 5.604166666666667, 5.666666666666667, 5.833333333333333, 5.96875, 6.21875, 6.541666666666667, 7.09375, 7.09375, 7.739583333333333, 7.739583333333333]\n",
            "32\n",
            "Metrics 25 9 158 0 0.0881300821196616\n",
            "[0.0, 0.0, 0.0, 0.0, 0.0, 0.0, 0.0, 0.0, 0.0, 0.0, 0.25, 0.6041666666666666, 1.03125, 1.4270833333333333, 1.6979166666666667, 2.09375, 2.4114583333333335, 3.2760416666666665, 4.0625, 4.458333333333333, 5.067708333333333, 6.453125, 7.010416666666667, 7.578125, 8.109375, 8.71875, 9.182291666666666, 9.854166666666666, 10.692708333333334, 11.416666666666666, 12.229166666666666, 12.713541666666666, 13.052083333333334, 13.630208333333334, 14.276041666666666, 14.927083333333334, 15.723958333333334, 16.130208333333332, 16.78125, 17.067708333333332, 17.552083333333332, 17.828125, 18.291666666666668, 18.989583333333332, 19.286458333333332, 19.53125, 19.916666666666668, 20.604166666666668, 20.78125, 21.333333333333332, 21.6875, 22.348958333333332, 22.5625, 22.78125, 22.932291666666668, 23.104166666666668, 23.239583333333332, 23.432291666666668, 23.598958333333332, 23.8125, 24.28125, 24.802083333333332, 25.083333333333332, 25.234375, 25.520833333333332, 25.65625, 26.0, 26.255208333333332, 26.40625, 26.614583333333332, 26.848958333333332, 27.208333333333332, 27.401041666666668, 27.619791666666668, 27.958333333333332, 28.223958333333332, 28.744791666666668, 29.005208333333332, 29.28125, 29.578125, 30.0, 30.291666666666668, 30.6875, 31.015625, 31.546875, 31.942708333333332, 32.640625, 33.109375, 33.546875, 34.151041666666664, 34.614583333333336, 35.114583333333336, 35.723958333333336, 36.760416666666664, 38.005208333333336, 39.104166666666664, 39.947916666666664, 41.072916666666664, 41.713541666666664, 42.083333333333336, 42.166666666666664, 42.317708333333336, 42.348958333333336, 42.427083333333336, 42.453125, 42.484375, 42.510416666666664, 42.541666666666664, 42.578125, 42.588541666666664, 42.625, 42.640625, 42.65625, 42.666666666666664, 42.682291666666664, 42.723958333333336, 42.75, 42.765625, 42.776041666666664, 42.786458333333336, 42.807291666666664, 42.817708333333336, 42.838541666666664, 42.895833333333336, 42.90625, 42.932291666666664, 42.963541666666664, 42.984375, 43.010416666666664, 43.020833333333336, 43.03125, 43.036458333333336, 43.072916666666664, 43.083333333333336, 43.140625, 43.151041666666664, 43.161458333333336, 43.166666666666664, 43.182291666666664, 43.192708333333336, 43.223958333333336, 43.229166666666664, 43.234375, 43.255208333333336, 43.270833333333336, 43.28125, 43.291666666666664, 43.302083333333336, 43.3125, 43.34375, 43.348958333333336, 43.354166666666664, 43.375, 43.380208333333336, 43.390625, 43.401041666666664, 43.40625, 43.411458333333336, 43.421875, 43.432291666666664, 43.442708333333336, 43.453125, 43.453125, 43.463541666666664, 43.484375, 43.484375, 43.489583333333336, 43.489583333333336, 43.489583333333336, 43.494791666666664, 43.494791666666664, 43.5, 43.510416666666664, 43.520833333333336, 43.526041666666664, 43.536458333333336, 43.536458333333336, 43.536458333333336, 43.541666666666664, 43.546875, 43.552083333333336, 43.557291666666664, 43.5625, 43.5625, 43.5625, 43.567708333333336, 43.567708333333336, 43.567708333333336, 43.572916666666664, 43.572916666666664, 43.572916666666664, 43.578125, 43.578125, 43.583333333333336, 43.583333333333336, 43.588541666666664, 43.708333333333336, 43.708333333333336, 43.90625, 43.90625]\n",
            "[0.0, 0.0, 0.0, 0.0, 0.0, 0.0, 0.0, 0.0, 0.0, 0.0, 0.0, 0.0, 0.0, 0.0, 0.0, 0.0, 0.0, 0.0, 0.0, 0.0, 0.0, 0.0, 0.0, 0.0, 0.0, 0.0, 0.0, 0.0, 0.0, 0.0, 0.010416666666666666, 0.010416666666666666, 0.010416666666666666, 0.010416666666666666, 0.010416666666666666, 0.010416666666666666, 0.020833333333333332, 0.020833333333333332, 0.020833333333333332, 0.020833333333333332, 0.020833333333333332, 0.020833333333333332, 0.020833333333333332, 0.020833333333333332, 0.020833333333333332, 0.020833333333333332, 0.020833333333333332, 0.020833333333333332, 0.03125, 0.03125, 0.041666666666666664, 0.041666666666666664, 0.041666666666666664, 0.041666666666666664, 0.041666666666666664, 0.041666666666666664, 0.041666666666666664, 0.041666666666666664, 0.041666666666666664, 0.041666666666666664, 0.041666666666666664, 0.041666666666666664, 0.041666666666666664, 0.052083333333333336, 0.0625, 0.0625, 0.0625, 0.07291666666666667, 0.07291666666666667, 0.07291666666666667, 0.07291666666666667, 0.07291666666666667, 0.07291666666666667, 0.07291666666666667, 0.07291666666666667, 0.07291666666666667, 0.07291666666666667, 0.07291666666666667, 0.08333333333333333, 0.08333333333333333, 0.09375, 0.10416666666666667, 0.10416666666666667, 0.10416666666666667, 0.11458333333333333, 0.11458333333333333, 0.11458333333333333, 0.11458333333333333, 0.11458333333333333, 0.11458333333333333, 0.11458333333333333, 0.125, 0.13541666666666666, 0.15625, 0.15625, 0.17708333333333334, 0.21875, 0.22916666666666666, 0.22916666666666666, 0.25, 0.25, 0.2604166666666667, 0.2604166666666667, 0.2708333333333333, 0.28125, 0.2916666666666667, 0.3020833333333333, 0.3333333333333333, 0.3541666666666667, 0.375, 0.3958333333333333, 0.4479166666666667, 0.4895833333333333, 0.53125, 0.5625, 0.5729166666666666, 0.6354166666666666, 0.6666666666666666, 0.6875, 0.75, 0.78125, 0.8020833333333334, 0.8541666666666666, 0.9166666666666666, 0.9479166666666666, 0.96875, 1.0208333333333333, 1.0833333333333333, 1.125, 1.1875, 1.25, 1.2916666666666667, 1.34375, 1.3958333333333333, 1.4791666666666667, 1.5208333333333333, 1.6041666666666667, 1.65625, 1.71875, 1.7604166666666667, 1.8125, 1.8541666666666667, 1.90625, 1.9895833333333333, 2.0416666666666665, 2.1875, 2.2395833333333335, 2.3020833333333335, 2.3333333333333335, 2.4270833333333335, 2.4791666666666665, 2.5729166666666665, 2.625, 2.6770833333333335, 2.7708333333333335, 2.8125, 2.8645833333333335, 2.9375, 2.9791666666666665, 3.0208333333333335, 3.0833333333333335, 3.1354166666666665, 3.2395833333333335, 3.28125, 3.3645833333333335, 3.4270833333333335, 3.4895833333333335, 3.53125, 3.5625, 3.6458333333333335, 3.75, 3.84375, 3.90625, 3.9895833333333335, 4.104166666666667, 4.135416666666667, 4.208333333333333, 4.291666666666667, 4.34375, 4.4375, 4.5, 4.541666666666667, 4.635416666666667, 4.729166666666667, 4.854166666666667, 4.96875, 5.0625, 5.166666666666667, 5.34375, 5.458333333333333, 5.604166666666667, 5.666666666666667, 5.833333333333333, 5.96875, 6.21875, 6.541666666666667, 7.09375, 7.09375, 7.739583333333333, 7.739583333333333]\n",
            "36\n",
            "Metrics 33 41 118 0 0.2729117260093201\n",
            "[0.0, 0.0, 0.0, 0.0, 0.0, 0.0, 0.0, 0.0, 0.0, 0.0, 0.25, 0.6041666666666666, 1.03125, 1.4270833333333333, 1.6979166666666667, 2.09375, 2.4114583333333335, 3.2760416666666665, 4.0625, 4.458333333333333, 5.067708333333333, 6.453125, 7.010416666666667, 7.578125, 8.109375, 8.71875, 9.182291666666666, 9.854166666666666, 10.692708333333334, 11.416666666666666, 12.229166666666666, 12.713541666666666, 13.052083333333334, 13.630208333333334, 14.276041666666666, 14.927083333333334, 15.723958333333334, 16.130208333333332, 16.78125, 17.067708333333332, 17.552083333333332, 17.828125, 18.291666666666668, 18.989583333333332, 19.286458333333332, 19.53125, 19.916666666666668, 20.604166666666668, 20.78125, 21.333333333333332, 21.6875, 22.348958333333332, 22.5625, 22.78125, 22.932291666666668, 23.104166666666668, 23.239583333333332, 23.432291666666668, 23.598958333333332, 23.8125, 24.28125, 24.802083333333332, 25.083333333333332, 25.234375, 25.520833333333332, 25.65625, 26.0, 26.255208333333332, 26.40625, 26.614583333333332, 26.848958333333332, 27.208333333333332, 27.401041666666668, 27.619791666666668, 27.958333333333332, 28.223958333333332, 28.744791666666668, 29.005208333333332, 29.28125, 29.578125, 30.0, 30.291666666666668, 30.6875, 31.015625, 31.546875, 31.942708333333332, 32.640625, 33.109375, 33.546875, 34.151041666666664, 34.614583333333336, 35.114583333333336, 35.723958333333336, 36.760416666666664, 38.005208333333336, 39.104166666666664, 39.947916666666664, 41.072916666666664, 41.713541666666664, 42.083333333333336, 42.166666666666664, 42.317708333333336, 42.348958333333336, 42.427083333333336, 42.453125, 42.484375, 42.510416666666664, 42.541666666666664, 42.578125, 42.588541666666664, 42.625, 42.640625, 42.65625, 42.666666666666664, 42.682291666666664, 42.723958333333336, 42.75, 42.765625, 42.776041666666664, 42.786458333333336, 42.807291666666664, 42.817708333333336, 42.838541666666664, 42.895833333333336, 42.90625, 42.932291666666664, 42.963541666666664, 42.984375, 43.010416666666664, 43.020833333333336, 43.03125, 43.036458333333336, 43.072916666666664, 43.083333333333336, 43.140625, 43.151041666666664, 43.161458333333336, 43.166666666666664, 43.182291666666664, 43.192708333333336, 43.223958333333336, 43.229166666666664, 43.234375, 43.255208333333336, 43.270833333333336, 43.28125, 43.291666666666664, 43.302083333333336, 43.3125, 43.34375, 43.348958333333336, 43.354166666666664, 43.375, 43.380208333333336, 43.390625, 43.401041666666664, 43.40625, 43.411458333333336, 43.421875, 43.432291666666664, 43.442708333333336, 43.453125, 43.453125, 43.463541666666664, 43.484375, 43.484375, 43.489583333333336, 43.489583333333336, 43.489583333333336, 43.494791666666664, 43.494791666666664, 43.5, 43.510416666666664, 43.520833333333336, 43.526041666666664, 43.536458333333336, 43.536458333333336, 43.536458333333336, 43.541666666666664, 43.546875, 43.552083333333336, 43.557291666666664, 43.5625, 43.5625, 43.5625, 43.567708333333336, 43.567708333333336, 43.567708333333336, 43.572916666666664, 43.572916666666664, 43.572916666666664, 43.578125, 43.578125, 43.583333333333336, 43.583333333333336, 43.588541666666664, 43.708333333333336, 43.708333333333336, 43.90625, 43.90625]\n",
            "[0.0, 0.0, 0.0, 0.0, 0.0, 0.0, 0.0, 0.0, 0.0, 0.0, 0.0, 0.0, 0.0, 0.0, 0.0, 0.0, 0.0, 0.0, 0.0, 0.0, 0.0, 0.0, 0.0, 0.0, 0.0, 0.0, 0.0, 0.0, 0.0, 0.0, 0.010416666666666666, 0.010416666666666666, 0.010416666666666666, 0.010416666666666666, 0.010416666666666666, 0.010416666666666666, 0.020833333333333332, 0.020833333333333332, 0.020833333333333332, 0.020833333333333332, 0.020833333333333332, 0.020833333333333332, 0.020833333333333332, 0.020833333333333332, 0.020833333333333332, 0.020833333333333332, 0.020833333333333332, 0.020833333333333332, 0.03125, 0.03125, 0.041666666666666664, 0.041666666666666664, 0.041666666666666664, 0.041666666666666664, 0.041666666666666664, 0.041666666666666664, 0.041666666666666664, 0.041666666666666664, 0.041666666666666664, 0.041666666666666664, 0.041666666666666664, 0.041666666666666664, 0.041666666666666664, 0.052083333333333336, 0.0625, 0.0625, 0.0625, 0.07291666666666667, 0.07291666666666667, 0.07291666666666667, 0.07291666666666667, 0.07291666666666667, 0.07291666666666667, 0.07291666666666667, 0.07291666666666667, 0.07291666666666667, 0.07291666666666667, 0.07291666666666667, 0.08333333333333333, 0.08333333333333333, 0.09375, 0.10416666666666667, 0.10416666666666667, 0.10416666666666667, 0.11458333333333333, 0.11458333333333333, 0.11458333333333333, 0.11458333333333333, 0.11458333333333333, 0.11458333333333333, 0.11458333333333333, 0.125, 0.13541666666666666, 0.15625, 0.15625, 0.17708333333333334, 0.21875, 0.22916666666666666, 0.22916666666666666, 0.25, 0.25, 0.2604166666666667, 0.2604166666666667, 0.2708333333333333, 0.28125, 0.2916666666666667, 0.3020833333333333, 0.3333333333333333, 0.3541666666666667, 0.375, 0.3958333333333333, 0.4479166666666667, 0.4895833333333333, 0.53125, 0.5625, 0.5729166666666666, 0.6354166666666666, 0.6666666666666666, 0.6875, 0.75, 0.78125, 0.8020833333333334, 0.8541666666666666, 0.9166666666666666, 0.9479166666666666, 0.96875, 1.0208333333333333, 1.0833333333333333, 1.125, 1.1875, 1.25, 1.2916666666666667, 1.34375, 1.3958333333333333, 1.4791666666666667, 1.5208333333333333, 1.6041666666666667, 1.65625, 1.71875, 1.7604166666666667, 1.8125, 1.8541666666666667, 1.90625, 1.9895833333333333, 2.0416666666666665, 2.1875, 2.2395833333333335, 2.3020833333333335, 2.3333333333333335, 2.4270833333333335, 2.4791666666666665, 2.5729166666666665, 2.625, 2.6770833333333335, 2.7708333333333335, 2.8125, 2.8645833333333335, 2.9375, 2.9791666666666665, 3.0208333333333335, 3.0833333333333335, 3.1354166666666665, 3.2395833333333335, 3.28125, 3.3645833333333335, 3.4270833333333335, 3.4895833333333335, 3.53125, 3.5625, 3.6458333333333335, 3.75, 3.84375, 3.90625, 3.9895833333333335, 4.104166666666667, 4.135416666666667, 4.208333333333333, 4.291666666666667, 4.34375, 4.4375, 4.5, 4.541666666666667, 4.635416666666667, 4.729166666666667, 4.854166666666667, 4.96875, 5.0625, 5.166666666666667, 5.34375, 5.458333333333333, 5.604166666666667, 5.666666666666667, 5.833333333333333, 5.96875, 6.21875, 6.541666666666667, 7.09375, 7.09375, 7.739583333333333, 7.739583333333333]\n",
            "40\n",
            "Metrics 35 79 78 0 0.4068785557978966\n",
            "[0.0, 0.0, 0.0, 0.0, 0.0, 0.0, 0.0, 0.0, 0.0, 0.0, 0.25, 0.6041666666666666, 1.03125, 1.4270833333333333, 1.6979166666666667, 2.09375, 2.4114583333333335, 3.2760416666666665, 4.0625, 4.458333333333333, 5.067708333333333, 6.453125, 7.010416666666667, 7.578125, 8.109375, 8.71875, 9.182291666666666, 9.854166666666666, 10.692708333333334, 11.416666666666666, 12.229166666666666, 12.713541666666666, 13.052083333333334, 13.630208333333334, 14.276041666666666, 14.927083333333334, 15.723958333333334, 16.130208333333332, 16.78125, 17.067708333333332, 17.552083333333332, 17.828125, 18.291666666666668, 18.989583333333332, 19.286458333333332, 19.53125, 19.916666666666668, 20.604166666666668, 20.78125, 21.333333333333332, 21.6875, 22.348958333333332, 22.5625, 22.78125, 22.932291666666668, 23.104166666666668, 23.239583333333332, 23.432291666666668, 23.598958333333332, 23.8125, 24.28125, 24.802083333333332, 25.083333333333332, 25.234375, 25.520833333333332, 25.65625, 26.0, 26.255208333333332, 26.40625, 26.614583333333332, 26.848958333333332, 27.208333333333332, 27.401041666666668, 27.619791666666668, 27.958333333333332, 28.223958333333332, 28.744791666666668, 29.005208333333332, 29.28125, 29.578125, 30.0, 30.291666666666668, 30.6875, 31.015625, 31.546875, 31.942708333333332, 32.640625, 33.109375, 33.546875, 34.151041666666664, 34.614583333333336, 35.114583333333336, 35.723958333333336, 36.760416666666664, 38.005208333333336, 39.104166666666664, 39.947916666666664, 41.072916666666664, 41.713541666666664, 42.083333333333336, 42.166666666666664, 42.317708333333336, 42.348958333333336, 42.427083333333336, 42.453125, 42.484375, 42.510416666666664, 42.541666666666664, 42.578125, 42.588541666666664, 42.625, 42.640625, 42.65625, 42.666666666666664, 42.682291666666664, 42.723958333333336, 42.75, 42.765625, 42.776041666666664, 42.786458333333336, 42.807291666666664, 42.817708333333336, 42.838541666666664, 42.895833333333336, 42.90625, 42.932291666666664, 42.963541666666664, 42.984375, 43.010416666666664, 43.020833333333336, 43.03125, 43.036458333333336, 43.072916666666664, 43.083333333333336, 43.140625, 43.151041666666664, 43.161458333333336, 43.166666666666664, 43.182291666666664, 43.192708333333336, 43.223958333333336, 43.229166666666664, 43.234375, 43.255208333333336, 43.270833333333336, 43.28125, 43.291666666666664, 43.302083333333336, 43.3125, 43.34375, 43.348958333333336, 43.354166666666664, 43.375, 43.380208333333336, 43.390625, 43.401041666666664, 43.40625, 43.411458333333336, 43.421875, 43.432291666666664, 43.442708333333336, 43.453125, 43.453125, 43.463541666666664, 43.484375, 43.484375, 43.489583333333336, 43.489583333333336, 43.489583333333336, 43.494791666666664, 43.494791666666664, 43.5, 43.510416666666664, 43.520833333333336, 43.526041666666664, 43.536458333333336, 43.536458333333336, 43.536458333333336, 43.541666666666664, 43.546875, 43.552083333333336, 43.557291666666664, 43.5625, 43.5625, 43.5625, 43.567708333333336, 43.567708333333336, 43.567708333333336, 43.572916666666664, 43.572916666666664, 43.572916666666664, 43.578125, 43.578125, 43.583333333333336, 43.583333333333336, 43.588541666666664, 43.708333333333336, 43.708333333333336, 43.90625, 43.90625]\n",
            "[0.0, 0.0, 0.0, 0.0, 0.0, 0.0, 0.0, 0.0, 0.0, 0.0, 0.0, 0.0, 0.0, 0.0, 0.0, 0.0, 0.0, 0.0, 0.0, 0.0, 0.0, 0.0, 0.0, 0.0, 0.0, 0.0, 0.0, 0.0, 0.0, 0.0, 0.010416666666666666, 0.010416666666666666, 0.010416666666666666, 0.010416666666666666, 0.010416666666666666, 0.010416666666666666, 0.020833333333333332, 0.020833333333333332, 0.020833333333333332, 0.020833333333333332, 0.020833333333333332, 0.020833333333333332, 0.020833333333333332, 0.020833333333333332, 0.020833333333333332, 0.020833333333333332, 0.020833333333333332, 0.020833333333333332, 0.03125, 0.03125, 0.041666666666666664, 0.041666666666666664, 0.041666666666666664, 0.041666666666666664, 0.041666666666666664, 0.041666666666666664, 0.041666666666666664, 0.041666666666666664, 0.041666666666666664, 0.041666666666666664, 0.041666666666666664, 0.041666666666666664, 0.041666666666666664, 0.052083333333333336, 0.0625, 0.0625, 0.0625, 0.07291666666666667, 0.07291666666666667, 0.07291666666666667, 0.07291666666666667, 0.07291666666666667, 0.07291666666666667, 0.07291666666666667, 0.07291666666666667, 0.07291666666666667, 0.07291666666666667, 0.07291666666666667, 0.08333333333333333, 0.08333333333333333, 0.09375, 0.10416666666666667, 0.10416666666666667, 0.10416666666666667, 0.11458333333333333, 0.11458333333333333, 0.11458333333333333, 0.11458333333333333, 0.11458333333333333, 0.11458333333333333, 0.11458333333333333, 0.125, 0.13541666666666666, 0.15625, 0.15625, 0.17708333333333334, 0.21875, 0.22916666666666666, 0.22916666666666666, 0.25, 0.25, 0.2604166666666667, 0.2604166666666667, 0.2708333333333333, 0.28125, 0.2916666666666667, 0.3020833333333333, 0.3333333333333333, 0.3541666666666667, 0.375, 0.3958333333333333, 0.4479166666666667, 0.4895833333333333, 0.53125, 0.5625, 0.5729166666666666, 0.6354166666666666, 0.6666666666666666, 0.6875, 0.75, 0.78125, 0.8020833333333334, 0.8541666666666666, 0.9166666666666666, 0.9479166666666666, 0.96875, 1.0208333333333333, 1.0833333333333333, 1.125, 1.1875, 1.25, 1.2916666666666667, 1.34375, 1.3958333333333333, 1.4791666666666667, 1.5208333333333333, 1.6041666666666667, 1.65625, 1.71875, 1.7604166666666667, 1.8125, 1.8541666666666667, 1.90625, 1.9895833333333333, 2.0416666666666665, 2.1875, 2.2395833333333335, 2.3020833333333335, 2.3333333333333335, 2.4270833333333335, 2.4791666666666665, 2.5729166666666665, 2.625, 2.6770833333333335, 2.7708333333333335, 2.8125, 2.8645833333333335, 2.9375, 2.9791666666666665, 3.0208333333333335, 3.0833333333333335, 3.1354166666666665, 3.2395833333333335, 3.28125, 3.3645833333333335, 3.4270833333333335, 3.4895833333333335, 3.53125, 3.5625, 3.6458333333333335, 3.75, 3.84375, 3.90625, 3.9895833333333335, 4.104166666666667, 4.135416666666667, 4.208333333333333, 4.291666666666667, 4.34375, 4.4375, 4.5, 4.541666666666667, 4.635416666666667, 4.729166666666667, 4.854166666666667, 4.96875, 5.0625, 5.166666666666667, 5.34375, 5.458333333333333, 5.604166666666667, 5.666666666666667, 5.833333333333333, 5.96875, 6.21875, 6.541666666666667, 7.09375, 7.09375, 7.739583333333333, 7.739583333333333]\n",
            "44\n"
          ],
          "name": "stdout"
        },
        {
          "output_type": "error",
          "ename": "TypeError",
          "evalue": "ignored",
          "traceback": [
            "\u001b[0;31m---------------------------------------------------------------------------\u001b[0m",
            "\u001b[0;31mTypeError\u001b[0m                                 Traceback (most recent call last)",
            "\u001b[0;32m<ipython-input-65-74632bd53ffd>\u001b[0m in \u001b[0;36m<module>\u001b[0;34m()\u001b[0m\n\u001b[1;32m     14\u001b[0m \u001b[0mdf_main\u001b[0m \u001b[0;34m=\u001b[0m \u001b[0mdf_main\u001b[0m\u001b[0;34m.\u001b[0m\u001b[0mappend\u001b[0m\u001b[0;34m(\u001b[0m\u001b[0mpd\u001b[0m\u001b[0;34m.\u001b[0m\u001b[0mDataFrame\u001b[0m\u001b[0;34m(\u001b[0m\u001b[0mdata_model_LSTM_custom\u001b[0m\u001b[0;34m,\u001b[0m \u001b[0mcolumns\u001b[0m \u001b[0;34m=\u001b[0m \u001b[0mcolumns_list\u001b[0m\u001b[0;34m)\u001b[0m\u001b[0;34m,\u001b[0m \u001b[0mignore_index\u001b[0m\u001b[0;34m=\u001b[0m\u001b[0;32mTrue\u001b[0m\u001b[0;34m)\u001b[0m\u001b[0;34m\u001b[0m\u001b[0;34m\u001b[0m\u001b[0m\n\u001b[1;32m     15\u001b[0m \u001b[0;34m\u001b[0m\u001b[0m\n\u001b[0;32m---> 16\u001b[0;31m \u001b[0mdata_model_LSTM_combined\u001b[0m \u001b[0;34m=\u001b[0m \u001b[0mmodel_crossing\u001b[0m\u001b[0;34m(\u001b[0m\u001b[0;34m\"model_LSTM_combined\"\u001b[0m\u001b[0;34m,\u001b[0m \u001b[0mmodel_LSTM_combined\u001b[0m\u001b[0;34m,\u001b[0m\u001b[0mfp_delay_list_LSTM_combined\u001b[0m\u001b[0;34m,\u001b[0m \u001b[0mdelay_list_LSTM_combined\u001b[0m\u001b[0;34m,\u001b[0m \u001b[0mLSTM_flag\u001b[0m\u001b[0;34m=\u001b[0m\u001b[0;32mTrue\u001b[0m\u001b[0;34m)\u001b[0m\u001b[0;34m\u001b[0m\u001b[0;34m\u001b[0m\u001b[0m\n\u001b[0m\u001b[1;32m     17\u001b[0m \u001b[0mdf_main\u001b[0m \u001b[0;34m=\u001b[0m \u001b[0mdf_main\u001b[0m\u001b[0;34m.\u001b[0m\u001b[0mappend\u001b[0m\u001b[0;34m(\u001b[0m\u001b[0mpd\u001b[0m\u001b[0;34m.\u001b[0m\u001b[0mDataFrame\u001b[0m\u001b[0;34m(\u001b[0m\u001b[0mdata_model_LSTM_combined\u001b[0m\u001b[0;34m,\u001b[0m \u001b[0mcolumns\u001b[0m \u001b[0;34m=\u001b[0m \u001b[0mcolumns_list\u001b[0m\u001b[0;34m)\u001b[0m\u001b[0;34m,\u001b[0m \u001b[0mignore_index\u001b[0m\u001b[0;34m=\u001b[0m\u001b[0;32mTrue\u001b[0m\u001b[0;34m)\u001b[0m\u001b[0;34m\u001b[0m\u001b[0;34m\u001b[0m\u001b[0m\n",
            "\u001b[0;32m<ipython-input-61-1aa53805ffff>\u001b[0m in \u001b[0;36mmodel_crossing\u001b[0;34m(model_name, model, fp_delay, delay, LSTM_flag)\u001b[0m\n\u001b[1;32m     26\u001b[0m       \u001b[0mprint\u001b[0m\u001b[0;34m(\u001b[0m\u001b[0mx_coord\u001b[0m\u001b[0;34m[\u001b[0m\u001b[0mi\u001b[0m\u001b[0;34m]\u001b[0m\u001b[0;34m)\u001b[0m\u001b[0;34m\u001b[0m\u001b[0;34m\u001b[0m\u001b[0m\n\u001b[1;32m     27\u001b[0m       \u001b[0my_coord\u001b[0m\u001b[0;34m.\u001b[0m\u001b[0mappend\u001b[0m\u001b[0;34m(\u001b[0m\u001b[0mcross_the_border\u001b[0m\u001b[0;34m(\u001b[0m\u001b[0mfp_delay\u001b[0m\u001b[0;34m,\u001b[0m \u001b[0mdelay\u001b[0m\u001b[0;34m,\u001b[0m \u001b[0mx_coord\u001b[0m\u001b[0;34m[\u001b[0m\u001b[0mi\u001b[0m\u001b[0;34m]\u001b[0m\u001b[0;34m)\u001b[0m\u001b[0;34m)\u001b[0m\u001b[0;34m\u001b[0m\u001b[0;34m\u001b[0m\u001b[0m\n\u001b[0;32m---> 28\u001b[0;31m       \u001b[0mthresold_value\u001b[0m\u001b[0;34m.\u001b[0m\u001b[0mappend\u001b[0m\u001b[0;34m(\u001b[0m\u001b[0mfind_nearest_threshold\u001b[0m\u001b[0;34m(\u001b[0m\u001b[0mdelay\u001b[0m\u001b[0;34m,\u001b[0m \u001b[0my_coord\u001b[0m\u001b[0;34m[\u001b[0m\u001b[0mi\u001b[0m\u001b[0;34m]\u001b[0m\u001b[0;34m)\u001b[0m\u001b[0;34m)\u001b[0m\u001b[0;34m\u001b[0m\u001b[0;34m\u001b[0m\u001b[0m\n\u001b[0m\u001b[1;32m     29\u001b[0m \u001b[0;34m\u001b[0m\u001b[0m\n\u001b[1;32m     30\u001b[0m       \u001b[0mtrue_positive\u001b[0m\u001b[0;34m,\u001b[0m \u001b[0mtrue_negative\u001b[0m\u001b[0;34m,\u001b[0m \u001b[0mfalse_positive\u001b[0m\u001b[0;34m,\u001b[0m \u001b[0mfalse_negative\u001b[0m\u001b[0;34m,\u001b[0m \u001b[0maccuracy\u001b[0m\u001b[0;34m,\u001b[0m \u001b[0mprecision\u001b[0m\u001b[0;34m,\u001b[0m \u001b[0mrecall\u001b[0m\u001b[0;34m,\u001b[0m \u001b[0mf1_score\u001b[0m\u001b[0;34m,\u001b[0m \u001b[0mg_mean\u001b[0m \u001b[0;34m=\u001b[0m  \u001b[0mget_quality_metrics_for_results\u001b[0m\u001b[0;34m(\u001b[0m\u001b[0mmodel\u001b[0m\u001b[0;34m,\u001b[0m \u001b[0mfinal_test_loader\u001b[0m\u001b[0;34m,\u001b[0m \u001b[0mthresold_value\u001b[0m\u001b[0;34m[\u001b[0m\u001b[0mi\u001b[0m\u001b[0;34m]\u001b[0m\u001b[0;34m,\u001b[0m \u001b[0mLSTM_flag\u001b[0m\u001b[0;34m)\u001b[0m\u001b[0;34m\u001b[0m\u001b[0;34m\u001b[0m\u001b[0m\n",
            "\u001b[0;32m<ipython-input-61-1aa53805ffff>\u001b[0m in \u001b[0;36mfind_nearest_threshold\u001b[0;34m(array, value)\u001b[0m\n\u001b[1;32m      2\u001b[0m     \u001b[0;31m#print(value)\u001b[0m\u001b[0;34m\u001b[0m\u001b[0;34m\u001b[0m\u001b[0;34m\u001b[0m\u001b[0m\n\u001b[1;32m      3\u001b[0m     \u001b[0marray\u001b[0m \u001b[0;34m=\u001b[0m \u001b[0mnp\u001b[0m\u001b[0;34m.\u001b[0m\u001b[0masarray\u001b[0m\u001b[0;34m(\u001b[0m\u001b[0marray\u001b[0m\u001b[0;34m)\u001b[0m\u001b[0;34m\u001b[0m\u001b[0;34m\u001b[0m\u001b[0m\n\u001b[0;32m----> 4\u001b[0;31m     \u001b[0midx\u001b[0m \u001b[0;34m=\u001b[0m \u001b[0;34m(\u001b[0m\u001b[0mnp\u001b[0m\u001b[0;34m.\u001b[0m\u001b[0mabs\u001b[0m\u001b[0;34m(\u001b[0m\u001b[0marray\u001b[0m \u001b[0;34m-\u001b[0m \u001b[0mvalue\u001b[0m\u001b[0;34m)\u001b[0m\u001b[0;34m)\u001b[0m\u001b[0;34m.\u001b[0m\u001b[0margmin\u001b[0m\u001b[0;34m(\u001b[0m\u001b[0;34m)\u001b[0m\u001b[0;34m\u001b[0m\u001b[0;34m\u001b[0m\u001b[0m\n\u001b[0m\u001b[1;32m      5\u001b[0m     \u001b[0;32mreturn\u001b[0m \u001b[0mthreshold_list\u001b[0m\u001b[0;34m[\u001b[0m\u001b[0midx\u001b[0m\u001b[0;34m]\u001b[0m\u001b[0;34m\u001b[0m\u001b[0;34m\u001b[0m\u001b[0m\n\u001b[1;32m      6\u001b[0m \u001b[0;34m\u001b[0m\u001b[0m\n",
            "\u001b[0;31mTypeError\u001b[0m: unsupported operand type(s) for -: 'float' and 'NoneType'"
          ]
        }
      ]
    },
    {
      "cell_type": "code",
      "metadata": {
        "id": "iC3lTszpEn2l"
      },
      "source": [
        "df_main.to_excel(\"num\" + seq_name + \"_old.xlsx\", index = False)"
      ],
      "execution_count": null,
      "outputs": []
    },
    {
      "cell_type": "code",
      "metadata": {
        "id": "W-q4OWlqPCTb"
      },
      "source": [
        ""
      ],
      "execution_count": null,
      "outputs": []
    },
    {
      "cell_type": "markdown",
      "metadata": {
        "id": "2fXoFW2Nye0M"
      },
      "source": [
        "## KOSTUL FOR NEW METRICS"
      ]
    },
    {
      "cell_type": "code",
      "metadata": {
        "id": "ENh67KxDzd65"
      },
      "source": [
        "# Правильный подсчет значений delay в выбранном fp_delay\n",
        "\n",
        "def find_nearest_left_and_right_coord_index(array, value):\n",
        "    array = np.asarray(array)\n",
        "    left_idx = (np.abs(array - value)).argmin()\n",
        "    if array[left_idx] > value:\n",
        "        left_idx = left_idx - 1\n",
        "    right_idx = left_idx + 1\n",
        "\n",
        "    if right_idx > len(array):\n",
        "        left_idx = left_idx - 1\n",
        "        right_idx = right_idx - 1\n",
        "\n",
        "    if left_idx < 0:\n",
        "        left_idx = left_idx + 1\n",
        "        right_idx = right_idx + 1\n",
        "    return left_idx, right_idx\n",
        "\n",
        "def lin_func(x1, y1, x2, y2, x):\n",
        "    y = ((x - x1)*(y2 - y1)/(x2 - x1)) + y1\n",
        "    return y\n",
        "\n",
        "def find_threshold(fp_delay, x_coord, threshold_list):\n",
        "    left_idx, right_idx = find_nearest_left_and_right_coord_index(fp_delay, x_coord)\n",
        "    threshold = lin_func(fp_delay[left_idx], threshold_list[left_idx], fp_delay[right_idx], threshold_list[right_idx], x_coord)\n",
        "\n",
        "    print(fp_delay[left_idx], threshold_list[left_idx], fp_delay[right_idx], threshold_list[right_idx], x_coord)\n",
        "\n",
        "    return threshold\n"
      ],
      "execution_count": null,
      "outputs": []
    },
    {
      "cell_type": "code",
      "metadata": {
        "id": "ZG1ghINCwSKV"
      },
      "source": [
        "def metrics_by_fp_delay_x_coord(model_name, model, test_loader, fp_delay, threshold_list, x_coord_arr, LSTM_flag):\n",
        "    y_coord_arr = []\n",
        "    thresold_value = []\n",
        "\n",
        "    model_results_list = []\n",
        "\n",
        "    for x_coord in range(len(x_coord_arr)):\n",
        "        threshold = find_threshold(fp_delay, x_coord_arr[x_coord], threshold_list)\n",
        "\n",
        "        true_positive, true_negative, false_positive, false_negative, _, _, _, _, _ =  get_quality_metrics_for_results(model, test_loader, threshold, LSTM_flag)\n",
        "\n",
        "        print(delay, threshold, false_positive_delay)\n",
        "\n",
        "        y_coord_arr.append(delay)\n",
        "        thresold_value.append(threshold)\n",
        "\n",
        "        accuracy = weird_division((true_positive + true_negative),\n",
        "                                  (true_positive + true_negative + false_positive + false_negative))\n",
        "        precision = weird_division(true_positive, (true_positive + false_positive))\n",
        "        recall = weird_division(true_positive, (true_positive + false_negative))\n",
        "        f1_score = weird_division((2 * precision * recall), (precision + recall))\n",
        "        spec = weird_division(true_negative, (false_positive + true_negative))\n",
        "        g_mean = np.sqrt(recall + spec)\n",
        "        curr_model_res_points = [model_name, x_coord_arr[x_coord], delay, threshold]\n",
        "        curr_model_res_threshold = [true_positive, true_negative, false_positive, false_negative, accuracy, precision,\n",
        "                                   recall, f1_score, g_mean]\n",
        "        curr_model_res = curr_model_res_points + curr_model_res_threshold\n",
        "\n",
        "        model_results_list.append(curr_model_res)\n",
        "\n",
        "    return model_results_list\n",
        "\n"
      ],
      "execution_count": null,
      "outputs": []
    },
    {
      "cell_type": "code",
      "metadata": {
        "id": "qI12qX-uyiIk"
      },
      "source": [
        "# Функция принимает: название модели, модель, тест_лоадер, батч_сайз, массив fp_delay, массив интересущих нас значений\n",
        "# fp_delay, путь куда сохранить таблицу . Значения fp_delay берутся при подсчете get_pareto_metrics_for_threshold.\n",
        "# x_coord задаем сами. Данная версия отличается от предыдущей более правильным подсчетом trashold.\n",
        "# Пример использования:\n",
        "# fp_delay = [4, 8, 9, 12]\n",
        "# x_coord_arr = [5, 10]\n",
        "# save_metrics_to_file_new_version(\"ModelBCE\",\n",
        "#                                  model_bce, test_loader, BATCH_SIZE, fp_delay, x_coord_arr, path_to_save = \"/home\")\n",
        "def save_metrics_to_file_new_version(model_name, model, test_loader, fp_delay, threshold_list, x_coord_arr, LSTM_flag, path_to_save = \"\"):\n",
        "  columns_list = [\"Model name\", \"Mean FP delay\", \"Mean delay\", \"Threshold\", \"TP\", \"TN\", \"FP\", \"FN\", \"Acc\",\n",
        "                \"Precision\", \"Recall\", \"F1-score\", \"G-mean\"]\n",
        "  data_model_results = metrics_by_fp_delay_x_coord(model_name, model, test_loader, fp_delay, threshold_list, x_coord_arr, LSTM_flag)\n",
        "  df_main = pd.DataFrame(data_model_results, columns = columns_list)\n",
        "  df_main.to_excel(os.path.join(path_to_save, model_name + \".xlsx\" ), index = False)"
      ],
      "execution_count": null,
      "outputs": []
    },
    {
      "cell_type": "code",
      "metadata": {
        "id": "kWk5BhIn07CK"
      },
      "source": [
        "# x_coord_arr = [32, 36, 40, 44, 48, 52]\n",
        "# save_metrics_to_file_new_version(\"model_LSTM_bce\", model_LSTM_bce, test_loader, fp_delay_list_LSTM_bce, threshold_list, x_coord_arr, LSTM_flag=True)\n",
        "# save_metrics_to_file_new_version(\"model_LSTM_custom\", model_LSTM_custom, test_loader, fp_delay_list_LSTM_custom, threshold_list, x_coord_arr, LSTM_flag=True)\n",
        "# save_metrics_to_file_new_version(\"model_LSTM_combined\", model_LSTM_combined,test_loader, fp_delay_list_LSTM_combined, threshold_list, x_coord_arr, LSTM_flag=True)"
      ],
      "execution_count": null,
      "outputs": []
    },
    {
      "cell_type": "code",
      "metadata": {
        "id": "Kh9cgzMp3lYP"
      },
      "source": [
        ""
      ],
      "execution_count": null,
      "outputs": []
    }
  ]
}