{
 "cells": [
  {
   "cell_type": "code",
   "execution_count": 121,
   "id": "66f95851",
   "metadata": {},
   "outputs": [
    {
     "name": "stdout",
     "output_type": "stream",
     "text": [
      "The autoreload extension is already loaded. To reload it, use:\n",
      "  %reload_ext autoreload\n"
     ]
    }
   ],
   "source": [
    "from CPD import datasets, loss, models\n",
    "from CPD import new_metrics as metrics\n",
    "\n",
    "%load_ext autoreload\n",
    "%autoreload\n",
    "\n",
    "import pytorch_lightning as pl\n",
    "import torch.nn as nn\n",
    "\n",
    "import matplotlib.pyplot as plt\n",
    "%matplotlib inline\n",
    "\n",
    "import numpy as np"
   ]
  },
  {
   "cell_type": "code",
   "execution_count": 122,
   "id": "de2ae840",
   "metadata": {},
   "outputs": [],
   "source": [
    "class LSTM(nn.Module):\n",
    "    def __init__(self, input_size, output_size, hidden_dim, n_layers, drop_prob=0.5):\n",
    "        \n",
    "        super(LSTM, self).__init__()\n",
    "        self.input_size = input_size\n",
    "        self.output_size = output_size\n",
    "        self.n_layers = n_layers\n",
    "        self.hidden_dim = hidden_dim        \n",
    "        self.lstm = nn.LSTM(input_size, hidden_dim, n_layers, dropout=drop_prob, batch_first=True)\n",
    "        self.linear = nn.Linear(hidden_dim, 1)\n",
    "        self.activation = nn.Sigmoid()\n",
    "        \n",
    "    def forward(self, input_seq):\n",
    "        batch_size = input_seq.size(0)\n",
    "        lstm_out, hidden = self.lstm(input_seq)  \n",
    "        lstm_out = lstm_out.contiguous().view(-1, self.hidden_dim)      \n",
    "        out = self.linear(lstm_out)\n",
    "        out = self.activation(out)\n",
    "        out = out.view(batch_size, -1)\n",
    "\n",
    "        return out"
   ]
  },
  {
   "cell_type": "code",
   "execution_count": 123,
   "id": "54f75d2e",
   "metadata": {},
   "outputs": [],
   "source": [
    "SEQ_LEN = 128\n",
    "INPUT_SIZE = 1\n",
    "#HIDDEN_SIZE = 32 - for more complex case of multi_dist=True\n",
    "HIDDEN_SIZE = 4\n"
   ]
  },
  {
   "cell_type": "markdown",
   "id": "ad9493f2",
   "metadata": {},
   "source": [
    "# Our approach"
   ]
  },
  {
   "cell_type": "code",
   "execution_count": 124,
   "id": "72abef28",
   "metadata": {},
   "outputs": [
    {
     "name": "stderr",
     "output_type": "stream",
     "text": [
      "/home/eromanenkova/anaconda3/lib/python3.7/site-packages/torch/nn/modules/rnn.py:63: UserWarning: dropout option adds dropout after all but last recurrent layer, so non-zero dropout expects num_layers greater than 1, but got dropout=0.5 and num_layers=1\n",
      "  \"num_layers={}\".format(dropout, num_layers))\n"
     ]
    }
   ],
   "source": [
    "base_model_cpd = LSTM(input_size=INPUT_SIZE, output_size=SEQ_LEN, \n",
    "                      n_layers=1, hidden_dim=HIDDEN_SIZE, drop_prob=0.5)\n",
    "\n",
    "cpd_model = models.CPD_model(model=base_model_cpd, T=32,\n",
    "                             loss_type='CPD', experiment_type='synthetic_1D', \n",
    "                             lr=0.001, batch_size=64)"
   ]
  },
  {
   "cell_type": "code",
   "execution_count": 125,
   "id": "5c68bfa0",
   "metadata": {},
   "outputs": [
    {
     "name": "stderr",
     "output_type": "stream",
     "text": [
      "GPU available: True, used: True\n",
      "TPU available: False, using: 0 TPU cores\n"
     ]
    }
   ],
   "source": [
    "experiment_name = 'synthetic_new'\n",
    "logger = pl.loggers.TensorBoardLogger(save_dir='logs/', name=experiment_name)\n",
    "\n",
    "checkpoint_callback = pl.callbacks.ModelCheckpoint(\n",
    "    monitor='val_acc',\n",
    "    dirpath=f'logs/{experiment_name}',\n",
    "    filename='{epoch:02d}-{val_acc:.3f}',\n",
    "    mode='max')\n",
    "\n",
    "early_stop_callback = pl.callbacks.EarlyStopping(\n",
    "   monitor='val_loss',\n",
    "   min_delta=0.01,\n",
    "   patience=5,\n",
    "   verbose=True,\n",
    "   mode='min'\n",
    ")\n",
    "\n",
    "trainer = pl.Trainer(\n",
    "    max_epochs=25, \n",
    "    gpus='1', \n",
    "    benchmark=True, \n",
    "    check_val_every_n_epoch=1, \n",
    "    gradient_clip_val=1,\n",
    "    logger=logger,\n",
    "    callbacks=[checkpoint_callback, early_stop_callback])"
   ]
  },
  {
   "cell_type": "code",
   "execution_count": 126,
   "id": "f31559ec",
   "metadata": {
    "scrolled": true
   },
   "outputs": [
    {
     "name": "stdout",
     "output_type": "stream",
     "text": [
      "The tensorboard extension is already loaded. To reload it, use:\n",
      "  %reload_ext tensorboard\n"
     ]
    },
    {
     "data": {
      "text/plain": [
       "Reusing TensorBoard on port 7777 (pid 23774), started 0:02:23 ago. (Use '!kill 23774' to kill it.)"
      ]
     },
     "metadata": {},
     "output_type": "display_data"
    },
    {
     "data": {
      "text/html": [
       "\n",
       "      <iframe id=\"tensorboard-frame-e59831620b954674\" width=\"100%\" height=\"800\" frameborder=\"0\">\n",
       "      </iframe>\n",
       "      <script>\n",
       "        (function() {\n",
       "          const frame = document.getElementById(\"tensorboard-frame-e59831620b954674\");\n",
       "          const url = new URL(\"/\", window.location);\n",
       "          const port = 7777;\n",
       "          if (port) {\n",
       "            url.port = port;\n",
       "          }\n",
       "          frame.src = url;\n",
       "        })();\n",
       "      </script>\n",
       "    "
      ],
      "text/plain": [
       "<IPython.core.display.HTML object>"
      ]
     },
     "metadata": {},
     "output_type": "display_data"
    }
   ],
   "source": [
    "%load_ext tensorboard \n",
    "%tensorboard --logdir logs --port 7777"
   ]
  },
  {
   "cell_type": "code",
   "execution_count": 127,
   "id": "7b2d5527",
   "metadata": {},
   "outputs": [
    {
     "name": "stderr",
     "output_type": "stream",
     "text": [
      "LOCAL_RANK: 0 - CUDA_VISIBLE_DEVICES: [0,1]\n",
      "\n",
      "  | Name  | Type    | Params\n",
      "----------------------------------\n",
      "0 | model | LSTM    | 117   \n",
      "1 | loss  | CPDLoss | 0     \n",
      "----------------------------------\n",
      "117       Trainable params\n",
      "0         Non-trainable params\n",
      "117       Total params\n",
      "0.000     Total estimated model params size (MB)\n"
     ]
    },
    {
     "data": {
      "application/vnd.jupyter.widget-view+json": {
       "model_id": "",
       "version_major": 2,
       "version_minor": 0
      },
      "text/plain": [
       "Validation sanity check: 0it [00:00, ?it/s]"
      ]
     },
     "metadata": {},
     "output_type": "display_data"
    },
    {
     "data": {
      "application/vnd.jupyter.widget-view+json": {
       "model_id": "59f7e44b5d88403e9031eeee0733b8c3",
       "version_major": 2,
       "version_minor": 0
      },
      "text/plain": [
       "Training: 0it [00:00, ?it/s]"
      ]
     },
     "metadata": {},
     "output_type": "display_data"
    },
    {
     "data": {
      "application/vnd.jupyter.widget-view+json": {
       "model_id": "",
       "version_major": 2,
       "version_minor": 0
      },
      "text/plain": [
       "Validating: 0it [00:00, ?it/s]"
      ]
     },
     "metadata": {},
     "output_type": "display_data"
    },
    {
     "name": "stderr",
     "output_type": "stream",
     "text": [
      "Metric val_loss improved. New best score: 1.502\n"
     ]
    },
    {
     "data": {
      "application/vnd.jupyter.widget-view+json": {
       "model_id": "",
       "version_major": 2,
       "version_minor": 0
      },
      "text/plain": [
       "Validating: 0it [00:00, ?it/s]"
      ]
     },
     "metadata": {},
     "output_type": "display_data"
    },
    {
     "name": "stderr",
     "output_type": "stream",
     "text": [
      "Metric val_loss improved by 0.028 >= min_delta = 0.01. New best score: 1.474\n"
     ]
    },
    {
     "data": {
      "application/vnd.jupyter.widget-view+json": {
       "model_id": "",
       "version_major": 2,
       "version_minor": 0
      },
      "text/plain": [
       "Validating: 0it [00:00, ?it/s]"
      ]
     },
     "metadata": {},
     "output_type": "display_data"
    },
    {
     "name": "stderr",
     "output_type": "stream",
     "text": [
      "Metric val_loss improved by 0.024 >= min_delta = 0.01. New best score: 1.450\n"
     ]
    },
    {
     "data": {
      "application/vnd.jupyter.widget-view+json": {
       "model_id": "",
       "version_major": 2,
       "version_minor": 0
      },
      "text/plain": [
       "Validating: 0it [00:00, ?it/s]"
      ]
     },
     "metadata": {},
     "output_type": "display_data"
    },
    {
     "name": "stderr",
     "output_type": "stream",
     "text": [
      "Metric val_loss improved by 0.024 >= min_delta = 0.01. New best score: 1.425\n"
     ]
    },
    {
     "data": {
      "application/vnd.jupyter.widget-view+json": {
       "model_id": "",
       "version_major": 2,
       "version_minor": 0
      },
      "text/plain": [
       "Validating: 0it [00:00, ?it/s]"
      ]
     },
     "metadata": {},
     "output_type": "display_data"
    },
    {
     "name": "stderr",
     "output_type": "stream",
     "text": [
      "Metric val_loss improved by 0.025 >= min_delta = 0.01. New best score: 1.401\n"
     ]
    },
    {
     "data": {
      "application/vnd.jupyter.widget-view+json": {
       "model_id": "",
       "version_major": 2,
       "version_minor": 0
      },
      "text/plain": [
       "Validating: 0it [00:00, ?it/s]"
      ]
     },
     "metadata": {},
     "output_type": "display_data"
    },
    {
     "name": "stderr",
     "output_type": "stream",
     "text": [
      "Metric val_loss improved by 0.024 >= min_delta = 0.01. New best score: 1.377\n"
     ]
    },
    {
     "data": {
      "application/vnd.jupyter.widget-view+json": {
       "model_id": "",
       "version_major": 2,
       "version_minor": 0
      },
      "text/plain": [
       "Validating: 0it [00:00, ?it/s]"
      ]
     },
     "metadata": {},
     "output_type": "display_data"
    },
    {
     "name": "stderr",
     "output_type": "stream",
     "text": [
      "Metric val_loss improved by 0.023 >= min_delta = 0.01. New best score: 1.354\n"
     ]
    },
    {
     "data": {
      "application/vnd.jupyter.widget-view+json": {
       "model_id": "",
       "version_major": 2,
       "version_minor": 0
      },
      "text/plain": [
       "Validating: 0it [00:00, ?it/s]"
      ]
     },
     "metadata": {},
     "output_type": "display_data"
    },
    {
     "name": "stderr",
     "output_type": "stream",
     "text": [
      "Metric val_loss improved by 0.022 >= min_delta = 0.01. New best score: 1.332\n"
     ]
    },
    {
     "data": {
      "application/vnd.jupyter.widget-view+json": {
       "model_id": "",
       "version_major": 2,
       "version_minor": 0
      },
      "text/plain": [
       "Validating: 0it [00:00, ?it/s]"
      ]
     },
     "metadata": {},
     "output_type": "display_data"
    },
    {
     "name": "stderr",
     "output_type": "stream",
     "text": [
      "Metric val_loss improved by 0.022 >= min_delta = 0.01. New best score: 1.310\n"
     ]
    },
    {
     "data": {
      "application/vnd.jupyter.widget-view+json": {
       "model_id": "",
       "version_major": 2,
       "version_minor": 0
      },
      "text/plain": [
       "Validating: 0it [00:00, ?it/s]"
      ]
     },
     "metadata": {},
     "output_type": "display_data"
    },
    {
     "name": "stderr",
     "output_type": "stream",
     "text": [
      "Metric val_loss improved by 0.022 >= min_delta = 0.01. New best score: 1.288\n"
     ]
    },
    {
     "data": {
      "application/vnd.jupyter.widget-view+json": {
       "model_id": "",
       "version_major": 2,
       "version_minor": 0
      },
      "text/plain": [
       "Validating: 0it [00:00, ?it/s]"
      ]
     },
     "metadata": {},
     "output_type": "display_data"
    },
    {
     "name": "stderr",
     "output_type": "stream",
     "text": [
      "Metric val_loss improved by 0.022 >= min_delta = 0.01. New best score: 1.266\n"
     ]
    },
    {
     "data": {
      "application/vnd.jupyter.widget-view+json": {
       "model_id": "",
       "version_major": 2,
       "version_minor": 0
      },
      "text/plain": [
       "Validating: 0it [00:00, ?it/s]"
      ]
     },
     "metadata": {},
     "output_type": "display_data"
    },
    {
     "name": "stderr",
     "output_type": "stream",
     "text": [
      "Metric val_loss improved by 0.021 >= min_delta = 0.01. New best score: 1.245\n"
     ]
    },
    {
     "data": {
      "application/vnd.jupyter.widget-view+json": {
       "model_id": "",
       "version_major": 2,
       "version_minor": 0
      },
      "text/plain": [
       "Validating: 0it [00:00, ?it/s]"
      ]
     },
     "metadata": {},
     "output_type": "display_data"
    },
    {
     "name": "stderr",
     "output_type": "stream",
     "text": [
      "Metric val_loss improved by 0.021 >= min_delta = 0.01. New best score: 1.224\n"
     ]
    },
    {
     "data": {
      "application/vnd.jupyter.widget-view+json": {
       "model_id": "",
       "version_major": 2,
       "version_minor": 0
      },
      "text/plain": [
       "Validating: 0it [00:00, ?it/s]"
      ]
     },
     "metadata": {},
     "output_type": "display_data"
    },
    {
     "name": "stderr",
     "output_type": "stream",
     "text": [
      "Metric val_loss improved by 0.021 >= min_delta = 0.01. New best score: 1.203\n"
     ]
    },
    {
     "data": {
      "application/vnd.jupyter.widget-view+json": {
       "model_id": "",
       "version_major": 2,
       "version_minor": 0
      },
      "text/plain": [
       "Validating: 0it [00:00, ?it/s]"
      ]
     },
     "metadata": {},
     "output_type": "display_data"
    },
    {
     "name": "stderr",
     "output_type": "stream",
     "text": [
      "Metric val_loss improved by 0.021 >= min_delta = 0.01. New best score: 1.182\n"
     ]
    },
    {
     "data": {
      "application/vnd.jupyter.widget-view+json": {
       "model_id": "",
       "version_major": 2,
       "version_minor": 0
      },
      "text/plain": [
       "Validating: 0it [00:00, ?it/s]"
      ]
     },
     "metadata": {},
     "output_type": "display_data"
    },
    {
     "name": "stderr",
     "output_type": "stream",
     "text": [
      "Metric val_loss improved by 0.021 >= min_delta = 0.01. New best score: 1.160\n"
     ]
    },
    {
     "data": {
      "application/vnd.jupyter.widget-view+json": {
       "model_id": "",
       "version_major": 2,
       "version_minor": 0
      },
      "text/plain": [
       "Validating: 0it [00:00, ?it/s]"
      ]
     },
     "metadata": {},
     "output_type": "display_data"
    },
    {
     "name": "stderr",
     "output_type": "stream",
     "text": [
      "Metric val_loss improved by 0.022 >= min_delta = 0.01. New best score: 1.139\n"
     ]
    },
    {
     "data": {
      "application/vnd.jupyter.widget-view+json": {
       "model_id": "",
       "version_major": 2,
       "version_minor": 0
      },
      "text/plain": [
       "Validating: 0it [00:00, ?it/s]"
      ]
     },
     "metadata": {},
     "output_type": "display_data"
    },
    {
     "name": "stderr",
     "output_type": "stream",
     "text": [
      "Metric val_loss improved by 0.022 >= min_delta = 0.01. New best score: 1.117\n"
     ]
    },
    {
     "data": {
      "application/vnd.jupyter.widget-view+json": {
       "model_id": "",
       "version_major": 2,
       "version_minor": 0
      },
      "text/plain": [
       "Validating: 0it [00:00, ?it/s]"
      ]
     },
     "metadata": {},
     "output_type": "display_data"
    },
    {
     "name": "stderr",
     "output_type": "stream",
     "text": [
      "Metric val_loss improved by 0.023 >= min_delta = 0.01. New best score: 1.094\n"
     ]
    },
    {
     "data": {
      "application/vnd.jupyter.widget-view+json": {
       "model_id": "",
       "version_major": 2,
       "version_minor": 0
      },
      "text/plain": [
       "Validating: 0it [00:00, ?it/s]"
      ]
     },
     "metadata": {},
     "output_type": "display_data"
    },
    {
     "name": "stderr",
     "output_type": "stream",
     "text": [
      "Metric val_loss improved by 0.023 >= min_delta = 0.01. New best score: 1.070\n"
     ]
    },
    {
     "data": {
      "application/vnd.jupyter.widget-view+json": {
       "model_id": "",
       "version_major": 2,
       "version_minor": 0
      },
      "text/plain": [
       "Validating: 0it [00:00, ?it/s]"
      ]
     },
     "metadata": {},
     "output_type": "display_data"
    },
    {
     "name": "stderr",
     "output_type": "stream",
     "text": [
      "Metric val_loss improved by 0.025 >= min_delta = 0.01. New best score: 1.045\n"
     ]
    },
    {
     "data": {
      "application/vnd.jupyter.widget-view+json": {
       "model_id": "",
       "version_major": 2,
       "version_minor": 0
      },
      "text/plain": [
       "Validating: 0it [00:00, ?it/s]"
      ]
     },
     "metadata": {},
     "output_type": "display_data"
    },
    {
     "name": "stderr",
     "output_type": "stream",
     "text": [
      "Metric val_loss improved by 0.026 >= min_delta = 0.01. New best score: 1.020\n"
     ]
    },
    {
     "data": {
      "application/vnd.jupyter.widget-view+json": {
       "model_id": "",
       "version_major": 2,
       "version_minor": 0
      },
      "text/plain": [
       "Validating: 0it [00:00, ?it/s]"
      ]
     },
     "metadata": {},
     "output_type": "display_data"
    },
    {
     "name": "stderr",
     "output_type": "stream",
     "text": [
      "Metric val_loss improved by 0.028 >= min_delta = 0.01. New best score: 0.991\n"
     ]
    },
    {
     "data": {
      "application/vnd.jupyter.widget-view+json": {
       "model_id": "",
       "version_major": 2,
       "version_minor": 0
      },
      "text/plain": [
       "Validating: 0it [00:00, ?it/s]"
      ]
     },
     "metadata": {},
     "output_type": "display_data"
    },
    {
     "name": "stderr",
     "output_type": "stream",
     "text": [
      "Metric val_loss improved by 0.031 >= min_delta = 0.01. New best score: 0.960\n"
     ]
    },
    {
     "data": {
      "application/vnd.jupyter.widget-view+json": {
       "model_id": "",
       "version_major": 2,
       "version_minor": 0
      },
      "text/plain": [
       "Validating: 0it [00:00, ?it/s]"
      ]
     },
     "metadata": {},
     "output_type": "display_data"
    },
    {
     "name": "stderr",
     "output_type": "stream",
     "text": [
      "Metric val_loss improved by 0.031 >= min_delta = 0.01. New best score: 0.929\n"
     ]
    }
   ],
   "source": [
    "trainer.fit(cpd_model)"
   ]
  },
  {
   "cell_type": "markdown",
   "id": "dad703f8",
   "metadata": {},
   "source": [
    "# BCE model"
   ]
  },
  {
   "cell_type": "code",
   "execution_count": 128,
   "id": "0dcc8f0f",
   "metadata": {},
   "outputs": [],
   "source": [
    "base_model_bce = LSTM(input_size=INPUT_SIZE, output_size=SEQ_LEN, \n",
    "                      n_layers=1, hidden_dim=HIDDEN_SIZE, drop_prob=0.5)\n",
    "\n",
    "bce_model = models.CPD_model(model=base_model_cpd, T=32,\n",
    "                             loss_type='BCE', experiment_type='synthetic_1D', \n",
    "                             lr=0.001, batch_size=64)"
   ]
  },
  {
   "cell_type": "code",
   "execution_count": 130,
   "id": "b4d194e1",
   "metadata": {},
   "outputs": [
    {
     "name": "stderr",
     "output_type": "stream",
     "text": [
      "GPU available: True, used: True\n",
      "TPU available: False, using: 0 TPU cores\n"
     ]
    }
   ],
   "source": [
    "experiment_name = 'synthetic_new'\n",
    "logger = pl.loggers.TensorBoardLogger(save_dir='logs/', name=experiment_name)\n",
    "\n",
    "checkpoint_callback = pl.callbacks.ModelCheckpoint(\n",
    "    monitor='val_acc',\n",
    "    dirpath=f'logs/{experiment_name}',\n",
    "    filename='{epoch:02d}-{val_acc:.3f}',\n",
    "    mode='max')\n",
    "\n",
    "early_stop_callback = pl.callbacks.EarlyStopping(\n",
    "   monitor='val_loss',\n",
    "   min_delta=0.01,\n",
    "   patience=5,\n",
    "   verbose=True,\n",
    "   mode='min'\n",
    ")\n",
    "\n",
    "trainer = pl.Trainer(\n",
    "    max_epochs=25, \n",
    "    gpus='1', \n",
    "    benchmark=True, \n",
    "    check_val_every_n_epoch=1, \n",
    "    gradient_clip_val=1,\n",
    "    logger=logger,\n",
    "    callbacks=[checkpoint_callback, early_stop_callback])"
   ]
  },
  {
   "cell_type": "code",
   "execution_count": 131,
   "id": "9c2ff05a",
   "metadata": {},
   "outputs": [
    {
     "name": "stderr",
     "output_type": "stream",
     "text": [
      "LOCAL_RANK: 0 - CUDA_VISIBLE_DEVICES: [0,1]\n",
      "\n",
      "  | Name  | Type    | Params\n",
      "----------------------------------\n",
      "0 | model | LSTM    | 117   \n",
      "1 | loss  | BCELoss | 0     \n",
      "----------------------------------\n",
      "117       Trainable params\n",
      "0         Non-trainable params\n",
      "117       Total params\n",
      "0.000     Total estimated model params size (MB)\n"
     ]
    },
    {
     "data": {
      "application/vnd.jupyter.widget-view+json": {
       "model_id": "",
       "version_major": 2,
       "version_minor": 0
      },
      "text/plain": [
       "Validation sanity check: 0it [00:00, ?it/s]"
      ]
     },
     "metadata": {},
     "output_type": "display_data"
    },
    {
     "data": {
      "application/vnd.jupyter.widget-view+json": {
       "model_id": "e90696f1c864411780173cf33b571f24",
       "version_major": 2,
       "version_minor": 0
      },
      "text/plain": [
       "Training: 0it [00:00, ?it/s]"
      ]
     },
     "metadata": {},
     "output_type": "display_data"
    },
    {
     "data": {
      "application/vnd.jupyter.widget-view+json": {
       "model_id": "",
       "version_major": 2,
       "version_minor": 0
      },
      "text/plain": [
       "Validating: 0it [00:00, ?it/s]"
      ]
     },
     "metadata": {},
     "output_type": "display_data"
    },
    {
     "name": "stderr",
     "output_type": "stream",
     "text": [
      "Metric val_loss improved. New best score: 0.697\n"
     ]
    },
    {
     "data": {
      "application/vnd.jupyter.widget-view+json": {
       "model_id": "",
       "version_major": 2,
       "version_minor": 0
      },
      "text/plain": [
       "Validating: 0it [00:00, ?it/s]"
      ]
     },
     "metadata": {},
     "output_type": "display_data"
    },
    {
     "name": "stderr",
     "output_type": "stream",
     "text": [
      "Metric val_loss improved by 0.090 >= min_delta = 0.01. New best score: 0.608\n"
     ]
    },
    {
     "data": {
      "application/vnd.jupyter.widget-view+json": {
       "model_id": "",
       "version_major": 2,
       "version_minor": 0
      },
      "text/plain": [
       "Validating: 0it [00:00, ?it/s]"
      ]
     },
     "metadata": {},
     "output_type": "display_data"
    },
    {
     "name": "stderr",
     "output_type": "stream",
     "text": [
      "Metric val_loss improved by 0.016 >= min_delta = 0.01. New best score: 0.592\n"
     ]
    },
    {
     "data": {
      "application/vnd.jupyter.widget-view+json": {
       "model_id": "",
       "version_major": 2,
       "version_minor": 0
      },
      "text/plain": [
       "Validating: 0it [00:00, ?it/s]"
      ]
     },
     "metadata": {},
     "output_type": "display_data"
    },
    {
     "name": "stderr",
     "output_type": "stream",
     "text": [
      "Metric val_loss improved by 0.023 >= min_delta = 0.01. New best score: 0.569\n"
     ]
    },
    {
     "data": {
      "application/vnd.jupyter.widget-view+json": {
       "model_id": "",
       "version_major": 2,
       "version_minor": 0
      },
      "text/plain": [
       "Validating: 0it [00:00, ?it/s]"
      ]
     },
     "metadata": {},
     "output_type": "display_data"
    },
    {
     "name": "stderr",
     "output_type": "stream",
     "text": [
      "Metric val_loss improved by 0.023 >= min_delta = 0.01. New best score: 0.546\n"
     ]
    },
    {
     "data": {
      "application/vnd.jupyter.widget-view+json": {
       "model_id": "",
       "version_major": 2,
       "version_minor": 0
      },
      "text/plain": [
       "Validating: 0it [00:00, ?it/s]"
      ]
     },
     "metadata": {},
     "output_type": "display_data"
    },
    {
     "name": "stderr",
     "output_type": "stream",
     "text": [
      "Metric val_loss improved by 0.020 >= min_delta = 0.01. New best score: 0.526\n"
     ]
    },
    {
     "data": {
      "application/vnd.jupyter.widget-view+json": {
       "model_id": "",
       "version_major": 2,
       "version_minor": 0
      },
      "text/plain": [
       "Validating: 0it [00:00, ?it/s]"
      ]
     },
     "metadata": {},
     "output_type": "display_data"
    },
    {
     "name": "stderr",
     "output_type": "stream",
     "text": [
      "Metric val_loss improved by 0.018 >= min_delta = 0.01. New best score: 0.508\n"
     ]
    },
    {
     "data": {
      "application/vnd.jupyter.widget-view+json": {
       "model_id": "",
       "version_major": 2,
       "version_minor": 0
      },
      "text/plain": [
       "Validating: 0it [00:00, ?it/s]"
      ]
     },
     "metadata": {},
     "output_type": "display_data"
    },
    {
     "name": "stderr",
     "output_type": "stream",
     "text": [
      "Metric val_loss improved by 0.019 >= min_delta = 0.01. New best score: 0.489\n"
     ]
    },
    {
     "data": {
      "application/vnd.jupyter.widget-view+json": {
       "model_id": "",
       "version_major": 2,
       "version_minor": 0
      },
      "text/plain": [
       "Validating: 0it [00:00, ?it/s]"
      ]
     },
     "metadata": {},
     "output_type": "display_data"
    },
    {
     "name": "stderr",
     "output_type": "stream",
     "text": [
      "Metric val_loss improved by 0.016 >= min_delta = 0.01. New best score: 0.473\n"
     ]
    },
    {
     "data": {
      "application/vnd.jupyter.widget-view+json": {
       "model_id": "",
       "version_major": 2,
       "version_minor": 0
      },
      "text/plain": [
       "Validating: 0it [00:00, ?it/s]"
      ]
     },
     "metadata": {},
     "output_type": "display_data"
    },
    {
     "name": "stderr",
     "output_type": "stream",
     "text": [
      "Metric val_loss improved by 0.015 >= min_delta = 0.01. New best score: 0.458\n"
     ]
    },
    {
     "data": {
      "application/vnd.jupyter.widget-view+json": {
       "model_id": "",
       "version_major": 2,
       "version_minor": 0
      },
      "text/plain": [
       "Validating: 0it [00:00, ?it/s]"
      ]
     },
     "metadata": {},
     "output_type": "display_data"
    },
    {
     "name": "stderr",
     "output_type": "stream",
     "text": [
      "Metric val_loss improved by 0.014 >= min_delta = 0.01. New best score: 0.444\n"
     ]
    },
    {
     "data": {
      "application/vnd.jupyter.widget-view+json": {
       "model_id": "",
       "version_major": 2,
       "version_minor": 0
      },
      "text/plain": [
       "Validating: 0it [00:00, ?it/s]"
      ]
     },
     "metadata": {},
     "output_type": "display_data"
    },
    {
     "name": "stderr",
     "output_type": "stream",
     "text": [
      "Metric val_loss improved by 0.014 >= min_delta = 0.01. New best score: 0.430\n"
     ]
    },
    {
     "data": {
      "application/vnd.jupyter.widget-view+json": {
       "model_id": "",
       "version_major": 2,
       "version_minor": 0
      },
      "text/plain": [
       "Validating: 0it [00:00, ?it/s]"
      ]
     },
     "metadata": {},
     "output_type": "display_data"
    },
    {
     "name": "stderr",
     "output_type": "stream",
     "text": [
      "Metric val_loss improved by 0.016 >= min_delta = 0.01. New best score: 0.414\n"
     ]
    },
    {
     "data": {
      "application/vnd.jupyter.widget-view+json": {
       "model_id": "",
       "version_major": 2,
       "version_minor": 0
      },
      "text/plain": [
       "Validating: 0it [00:00, ?it/s]"
      ]
     },
     "metadata": {},
     "output_type": "display_data"
    },
    {
     "name": "stderr",
     "output_type": "stream",
     "text": [
      "Metric val_loss improved by 0.017 >= min_delta = 0.01. New best score: 0.398\n"
     ]
    },
    {
     "data": {
      "application/vnd.jupyter.widget-view+json": {
       "model_id": "",
       "version_major": 2,
       "version_minor": 0
      },
      "text/plain": [
       "Validating: 0it [00:00, ?it/s]"
      ]
     },
     "metadata": {},
     "output_type": "display_data"
    },
    {
     "name": "stderr",
     "output_type": "stream",
     "text": [
      "Metric val_loss improved by 0.018 >= min_delta = 0.01. New best score: 0.380\n"
     ]
    },
    {
     "data": {
      "application/vnd.jupyter.widget-view+json": {
       "model_id": "",
       "version_major": 2,
       "version_minor": 0
      },
      "text/plain": [
       "Validating: 0it [00:00, ?it/s]"
      ]
     },
     "metadata": {},
     "output_type": "display_data"
    },
    {
     "name": "stderr",
     "output_type": "stream",
     "text": [
      "Metric val_loss improved by 0.018 >= min_delta = 0.01. New best score: 0.363\n"
     ]
    },
    {
     "data": {
      "application/vnd.jupyter.widget-view+json": {
       "model_id": "",
       "version_major": 2,
       "version_minor": 0
      },
      "text/plain": [
       "Validating: 0it [00:00, ?it/s]"
      ]
     },
     "metadata": {},
     "output_type": "display_data"
    },
    {
     "name": "stderr",
     "output_type": "stream",
     "text": [
      "Metric val_loss improved by 0.016 >= min_delta = 0.01. New best score: 0.347\n"
     ]
    },
    {
     "data": {
      "application/vnd.jupyter.widget-view+json": {
       "model_id": "",
       "version_major": 2,
       "version_minor": 0
      },
      "text/plain": [
       "Validating: 0it [00:00, ?it/s]"
      ]
     },
     "metadata": {},
     "output_type": "display_data"
    },
    {
     "name": "stderr",
     "output_type": "stream",
     "text": [
      "Metric val_loss improved by 0.014 >= min_delta = 0.01. New best score: 0.333\n"
     ]
    },
    {
     "data": {
      "application/vnd.jupyter.widget-view+json": {
       "model_id": "",
       "version_major": 2,
       "version_minor": 0
      },
      "text/plain": [
       "Validating: 0it [00:00, ?it/s]"
      ]
     },
     "metadata": {},
     "output_type": "display_data"
    },
    {
     "name": "stderr",
     "output_type": "stream",
     "text": [
      "Metric val_loss improved by 0.012 >= min_delta = 0.01. New best score: 0.320\n"
     ]
    },
    {
     "data": {
      "application/vnd.jupyter.widget-view+json": {
       "model_id": "",
       "version_major": 2,
       "version_minor": 0
      },
      "text/plain": [
       "Validating: 0it [00:00, ?it/s]"
      ]
     },
     "metadata": {},
     "output_type": "display_data"
    },
    {
     "name": "stderr",
     "output_type": "stream",
     "text": [
      "Metric val_loss improved by 0.011 >= min_delta = 0.01. New best score: 0.310\n"
     ]
    },
    {
     "data": {
      "application/vnd.jupyter.widget-view+json": {
       "model_id": "",
       "version_major": 2,
       "version_minor": 0
      },
      "text/plain": [
       "Validating: 0it [00:00, ?it/s]"
      ]
     },
     "metadata": {},
     "output_type": "display_data"
    },
    {
     "data": {
      "application/vnd.jupyter.widget-view+json": {
       "model_id": "",
       "version_major": 2,
       "version_minor": 0
      },
      "text/plain": [
       "Validating: 0it [00:00, ?it/s]"
      ]
     },
     "metadata": {},
     "output_type": "display_data"
    },
    {
     "name": "stderr",
     "output_type": "stream",
     "text": [
      "Metric val_loss improved by 0.019 >= min_delta = 0.01. New best score: 0.291\n"
     ]
    },
    {
     "data": {
      "application/vnd.jupyter.widget-view+json": {
       "model_id": "",
       "version_major": 2,
       "version_minor": 0
      },
      "text/plain": [
       "Validating: 0it [00:00, ?it/s]"
      ]
     },
     "metadata": {},
     "output_type": "display_data"
    },
    {
     "data": {
      "application/vnd.jupyter.widget-view+json": {
       "model_id": "",
       "version_major": 2,
       "version_minor": 0
      },
      "text/plain": [
       "Validating: 0it [00:00, ?it/s]"
      ]
     },
     "metadata": {},
     "output_type": "display_data"
    },
    {
     "name": "stderr",
     "output_type": "stream",
     "text": [
      "Metric val_loss improved by 0.016 >= min_delta = 0.01. New best score: 0.274\n"
     ]
    },
    {
     "data": {
      "application/vnd.jupyter.widget-view+json": {
       "model_id": "",
       "version_major": 2,
       "version_minor": 0
      },
      "text/plain": [
       "Validating: 0it [00:00, ?it/s]"
      ]
     },
     "metadata": {},
     "output_type": "display_data"
    }
   ],
   "source": [
    "trainer.fit(bce_model)"
   ]
  },
  {
   "cell_type": "markdown",
   "id": "e022c9bf",
   "metadata": {},
   "source": [
    "# Combined"
   ]
  },
  {
   "cell_type": "code",
   "execution_count": 132,
   "id": "bc33a80f",
   "metadata": {},
   "outputs": [],
   "source": [
    "base_model_comb = LSTM(input_size=INPUT_SIZE, output_size=SEQ_LEN, \n",
    "                       n_layers=1, hidden_dim=HIDDEN_SIZE, drop_prob=0.5)\n",
    "\n",
    "combined_model_1 = models.CPD_model(model=base_model_comb, T=None,\n",
    "                                    loss_type='BCE', experiment_type='synthetic_1D', \n",
    "                                    lr=0.001, batch_size=64)\n",
    "\n",
    "combined_model_2 = models.CPD_model(model=base_model_comb, T=32,\n",
    "                                    loss_type='CPD', experiment_type='synthetic_1D', \n",
    "                                    lr=0.001, batch_size=64)"
   ]
  },
  {
   "cell_type": "code",
   "execution_count": 133,
   "id": "32680b71",
   "metadata": {},
   "outputs": [
    {
     "name": "stderr",
     "output_type": "stream",
     "text": [
      "GPU available: True, used: True\n",
      "TPU available: False, using: 0 TPU cores\n",
      "GPU available: True, used: True\n",
      "TPU available: False, using: 0 TPU cores\n"
     ]
    }
   ],
   "source": [
    "experiment_name = 'synthetic_new'\n",
    "logger = pl.loggers.TensorBoardLogger(save_dir='logs/', name=experiment_name)\n",
    "\n",
    "checkpoint_callback = pl.callbacks.ModelCheckpoint(\n",
    "    monitor='val_acc',\n",
    "    dirpath=f'logs/{experiment_name}',\n",
    "    filename='{epoch:02d}-{val_acc:.3f}',\n",
    "    mode='max')\n",
    "\n",
    "early_stop_callback = pl.callbacks.EarlyStopping(\n",
    "   monitor='val_loss',\n",
    "   min_delta=0.01,\n",
    "   patience=5,\n",
    "   verbose=True,\n",
    "   mode='min'\n",
    ")\n",
    "\n",
    "trainer_1 = pl.Trainer(\n",
    "    max_epochs=15, \n",
    "    gpus='1', \n",
    "    benchmark=True, \n",
    "    check_val_every_n_epoch=1, \n",
    "    gradient_clip_val=1,\n",
    "    logger=logger,\n",
    "    callbacks=[checkpoint_callback, early_stop_callback])\n",
    "\n",
    "trainer_2 = pl.Trainer(\n",
    "    max_epochs=10, \n",
    "    gpus='1', \n",
    "    benchmark=True, \n",
    "    check_val_every_n_epoch=1, \n",
    "    gradient_clip_val=1,\n",
    "    logger=logger,\n",
    "    callbacks=[checkpoint_callback, early_stop_callback])"
   ]
  },
  {
   "cell_type": "code",
   "execution_count": 134,
   "id": "b94e70e9",
   "metadata": {
    "scrolled": true
   },
   "outputs": [
    {
     "name": "stderr",
     "output_type": "stream",
     "text": [
      "LOCAL_RANK: 0 - CUDA_VISIBLE_DEVICES: [0,1]\n",
      "\n",
      "  | Name  | Type    | Params\n",
      "----------------------------------\n",
      "0 | model | LSTM    | 117   \n",
      "1 | loss  | BCELoss | 0     \n",
      "----------------------------------\n",
      "117       Trainable params\n",
      "0         Non-trainable params\n",
      "117       Total params\n",
      "0.000     Total estimated model params size (MB)\n"
     ]
    },
    {
     "data": {
      "application/vnd.jupyter.widget-view+json": {
       "model_id": "",
       "version_major": 2,
       "version_minor": 0
      },
      "text/plain": [
       "Validation sanity check: 0it [00:00, ?it/s]"
      ]
     },
     "metadata": {},
     "output_type": "display_data"
    },
    {
     "data": {
      "application/vnd.jupyter.widget-view+json": {
       "model_id": "6e26fd4c916f48bb8c260b94b8d1d787",
       "version_major": 2,
       "version_minor": 0
      },
      "text/plain": [
       "Training: 0it [00:00, ?it/s]"
      ]
     },
     "metadata": {},
     "output_type": "display_data"
    },
    {
     "data": {
      "application/vnd.jupyter.widget-view+json": {
       "model_id": "",
       "version_major": 2,
       "version_minor": 0
      },
      "text/plain": [
       "Validating: 0it [00:00, ?it/s]"
      ]
     },
     "metadata": {},
     "output_type": "display_data"
    },
    {
     "name": "stderr",
     "output_type": "stream",
     "text": [
      "Metric val_loss improved. New best score: 0.663\n"
     ]
    },
    {
     "data": {
      "application/vnd.jupyter.widget-view+json": {
       "model_id": "",
       "version_major": 2,
       "version_minor": 0
      },
      "text/plain": [
       "Validating: 0it [00:00, ?it/s]"
      ]
     },
     "metadata": {},
     "output_type": "display_data"
    },
    {
     "name": "stderr",
     "output_type": "stream",
     "text": [
      "Metric val_loss improved by 0.017 >= min_delta = 0.01. New best score: 0.646\n"
     ]
    },
    {
     "data": {
      "application/vnd.jupyter.widget-view+json": {
       "model_id": "",
       "version_major": 2,
       "version_minor": 0
      },
      "text/plain": [
       "Validating: 0it [00:00, ?it/s]"
      ]
     },
     "metadata": {},
     "output_type": "display_data"
    },
    {
     "name": "stderr",
     "output_type": "stream",
     "text": [
      "Metric val_loss improved by 0.017 >= min_delta = 0.01. New best score: 0.629\n"
     ]
    },
    {
     "data": {
      "application/vnd.jupyter.widget-view+json": {
       "model_id": "",
       "version_major": 2,
       "version_minor": 0
      },
      "text/plain": [
       "Validating: 0it [00:00, ?it/s]"
      ]
     },
     "metadata": {},
     "output_type": "display_data"
    },
    {
     "name": "stderr",
     "output_type": "stream",
     "text": [
      "Metric val_loss improved by 0.018 >= min_delta = 0.01. New best score: 0.611\n"
     ]
    },
    {
     "data": {
      "application/vnd.jupyter.widget-view+json": {
       "model_id": "",
       "version_major": 2,
       "version_minor": 0
      },
      "text/plain": [
       "Validating: 0it [00:00, ?it/s]"
      ]
     },
     "metadata": {},
     "output_type": "display_data"
    },
    {
     "name": "stderr",
     "output_type": "stream",
     "text": [
      "Metric val_loss improved by 0.020 >= min_delta = 0.01. New best score: 0.591\n"
     ]
    },
    {
     "data": {
      "application/vnd.jupyter.widget-view+json": {
       "model_id": "",
       "version_major": 2,
       "version_minor": 0
      },
      "text/plain": [
       "Validating: 0it [00:00, ?it/s]"
      ]
     },
     "metadata": {},
     "output_type": "display_data"
    },
    {
     "name": "stderr",
     "output_type": "stream",
     "text": [
      "Metric val_loss improved by 0.022 >= min_delta = 0.01. New best score: 0.570\n"
     ]
    },
    {
     "data": {
      "application/vnd.jupyter.widget-view+json": {
       "model_id": "",
       "version_major": 2,
       "version_minor": 0
      },
      "text/plain": [
       "Validating: 0it [00:00, ?it/s]"
      ]
     },
     "metadata": {},
     "output_type": "display_data"
    },
    {
     "name": "stderr",
     "output_type": "stream",
     "text": [
      "Metric val_loss improved by 0.023 >= min_delta = 0.01. New best score: 0.547\n"
     ]
    },
    {
     "data": {
      "application/vnd.jupyter.widget-view+json": {
       "model_id": "",
       "version_major": 2,
       "version_minor": 0
      },
      "text/plain": [
       "Validating: 0it [00:00, ?it/s]"
      ]
     },
     "metadata": {},
     "output_type": "display_data"
    },
    {
     "name": "stderr",
     "output_type": "stream",
     "text": [
      "Metric val_loss improved by 0.024 >= min_delta = 0.01. New best score: 0.523\n"
     ]
    },
    {
     "data": {
      "application/vnd.jupyter.widget-view+json": {
       "model_id": "",
       "version_major": 2,
       "version_minor": 0
      },
      "text/plain": [
       "Validating: 0it [00:00, ?it/s]"
      ]
     },
     "metadata": {},
     "output_type": "display_data"
    },
    {
     "name": "stderr",
     "output_type": "stream",
     "text": [
      "Metric val_loss improved by 0.024 >= min_delta = 0.01. New best score: 0.499\n"
     ]
    },
    {
     "data": {
      "application/vnd.jupyter.widget-view+json": {
       "model_id": "",
       "version_major": 2,
       "version_minor": 0
      },
      "text/plain": [
       "Validating: 0it [00:00, ?it/s]"
      ]
     },
     "metadata": {},
     "output_type": "display_data"
    },
    {
     "name": "stderr",
     "output_type": "stream",
     "text": [
      "Metric val_loss improved by 0.023 >= min_delta = 0.01. New best score: 0.476\n"
     ]
    },
    {
     "data": {
      "application/vnd.jupyter.widget-view+json": {
       "model_id": "",
       "version_major": 2,
       "version_minor": 0
      },
      "text/plain": [
       "Validating: 0it [00:00, ?it/s]"
      ]
     },
     "metadata": {},
     "output_type": "display_data"
    },
    {
     "name": "stderr",
     "output_type": "stream",
     "text": [
      "Metric val_loss improved by 0.022 >= min_delta = 0.01. New best score: 0.454\n"
     ]
    },
    {
     "data": {
      "application/vnd.jupyter.widget-view+json": {
       "model_id": "",
       "version_major": 2,
       "version_minor": 0
      },
      "text/plain": [
       "Validating: 0it [00:00, ?it/s]"
      ]
     },
     "metadata": {},
     "output_type": "display_data"
    },
    {
     "name": "stderr",
     "output_type": "stream",
     "text": [
      "Metric val_loss improved by 0.020 >= min_delta = 0.01. New best score: 0.434\n"
     ]
    },
    {
     "data": {
      "application/vnd.jupyter.widget-view+json": {
       "model_id": "",
       "version_major": 2,
       "version_minor": 0
      },
      "text/plain": [
       "Validating: 0it [00:00, ?it/s]"
      ]
     },
     "metadata": {},
     "output_type": "display_data"
    },
    {
     "name": "stderr",
     "output_type": "stream",
     "text": [
      "Metric val_loss improved by 0.018 >= min_delta = 0.01. New best score: 0.416\n"
     ]
    },
    {
     "data": {
      "application/vnd.jupyter.widget-view+json": {
       "model_id": "",
       "version_major": 2,
       "version_minor": 0
      },
      "text/plain": [
       "Validating: 0it [00:00, ?it/s]"
      ]
     },
     "metadata": {},
     "output_type": "display_data"
    },
    {
     "name": "stderr",
     "output_type": "stream",
     "text": [
      "Metric val_loss improved by 0.016 >= min_delta = 0.01. New best score: 0.400\n"
     ]
    },
    {
     "data": {
      "application/vnd.jupyter.widget-view+json": {
       "model_id": "",
       "version_major": 2,
       "version_minor": 0
      },
      "text/plain": [
       "Validating: 0it [00:00, ?it/s]"
      ]
     },
     "metadata": {},
     "output_type": "display_data"
    },
    {
     "name": "stderr",
     "output_type": "stream",
     "text": [
      "Metric val_loss improved by 0.014 >= min_delta = 0.01. New best score: 0.385\n",
      "LOCAL_RANK: 0 - CUDA_VISIBLE_DEVICES: [0,1]\n",
      "\n",
      "  | Name  | Type    | Params\n",
      "----------------------------------\n",
      "0 | model | LSTM    | 117   \n",
      "1 | loss  | CPDLoss | 0     \n",
      "----------------------------------\n",
      "117       Trainable params\n",
      "0         Non-trainable params\n",
      "117       Total params\n",
      "0.000     Total estimated model params size (MB)\n"
     ]
    },
    {
     "data": {
      "application/vnd.jupyter.widget-view+json": {
       "model_id": "",
       "version_major": 2,
       "version_minor": 0
      },
      "text/plain": [
       "Validation sanity check: 0it [00:00, ?it/s]"
      ]
     },
     "metadata": {},
     "output_type": "display_data"
    },
    {
     "data": {
      "application/vnd.jupyter.widget-view+json": {
       "model_id": "d28d8239cdd44097af3898423a899a30",
       "version_major": 2,
       "version_minor": 0
      },
      "text/plain": [
       "Training: 0it [00:00, ?it/s]"
      ]
     },
     "metadata": {},
     "output_type": "display_data"
    },
    {
     "data": {
      "application/vnd.jupyter.widget-view+json": {
       "model_id": "",
       "version_major": 2,
       "version_minor": 0
      },
      "text/plain": [
       "Validating: 0it [00:00, ?it/s]"
      ]
     },
     "metadata": {},
     "output_type": "display_data"
    },
    {
     "data": {
      "application/vnd.jupyter.widget-view+json": {
       "model_id": "",
       "version_major": 2,
       "version_minor": 0
      },
      "text/plain": [
       "Validating: 0it [00:00, ?it/s]"
      ]
     },
     "metadata": {},
     "output_type": "display_data"
    },
    {
     "data": {
      "application/vnd.jupyter.widget-view+json": {
       "model_id": "",
       "version_major": 2,
       "version_minor": 0
      },
      "text/plain": [
       "Validating: 0it [00:00, ?it/s]"
      ]
     },
     "metadata": {},
     "output_type": "display_data"
    },
    {
     "data": {
      "application/vnd.jupyter.widget-view+json": {
       "model_id": "",
       "version_major": 2,
       "version_minor": 0
      },
      "text/plain": [
       "Validating: 0it [00:00, ?it/s]"
      ]
     },
     "metadata": {},
     "output_type": "display_data"
    },
    {
     "data": {
      "application/vnd.jupyter.widget-view+json": {
       "model_id": "",
       "version_major": 2,
       "version_minor": 0
      },
      "text/plain": [
       "Validating: 0it [00:00, ?it/s]"
      ]
     },
     "metadata": {},
     "output_type": "display_data"
    },
    {
     "name": "stderr",
     "output_type": "stream",
     "text": [
      "Metric val_loss improved by 0.079 >= min_delta = 0.01. New best score: 0.307\n"
     ]
    },
    {
     "data": {
      "application/vnd.jupyter.widget-view+json": {
       "model_id": "",
       "version_major": 2,
       "version_minor": 0
      },
      "text/plain": [
       "Validating: 0it [00:00, ?it/s]"
      ]
     },
     "metadata": {},
     "output_type": "display_data"
    },
    {
     "name": "stderr",
     "output_type": "stream",
     "text": [
      "Metric val_loss improved by 0.225 >= min_delta = 0.01. New best score: 0.082\n"
     ]
    },
    {
     "data": {
      "application/vnd.jupyter.widget-view+json": {
       "model_id": "",
       "version_major": 2,
       "version_minor": 0
      },
      "text/plain": [
       "Validating: 0it [00:00, ?it/s]"
      ]
     },
     "metadata": {},
     "output_type": "display_data"
    },
    {
     "name": "stderr",
     "output_type": "stream",
     "text": [
      "Metric val_loss improved by 0.251 >= min_delta = 0.01. New best score: -0.169\n"
     ]
    },
    {
     "data": {
      "application/vnd.jupyter.widget-view+json": {
       "model_id": "",
       "version_major": 2,
       "version_minor": 0
      },
      "text/plain": [
       "Validating: 0it [00:00, ?it/s]"
      ]
     },
     "metadata": {},
     "output_type": "display_data"
    },
    {
     "name": "stderr",
     "output_type": "stream",
     "text": [
      "Metric val_loss improved by 0.280 >= min_delta = 0.01. New best score: -0.448\n"
     ]
    },
    {
     "data": {
      "application/vnd.jupyter.widget-view+json": {
       "model_id": "",
       "version_major": 2,
       "version_minor": 0
      },
      "text/plain": [
       "Validating: 0it [00:00, ?it/s]"
      ]
     },
     "metadata": {},
     "output_type": "display_data"
    },
    {
     "name": "stderr",
     "output_type": "stream",
     "text": [
      "Metric val_loss improved by 0.312 >= min_delta = 0.01. New best score: -0.761\n"
     ]
    },
    {
     "data": {
      "application/vnd.jupyter.widget-view+json": {
       "model_id": "",
       "version_major": 2,
       "version_minor": 0
      },
      "text/plain": [
       "Validating: 0it [00:00, ?it/s]"
      ]
     },
     "metadata": {},
     "output_type": "display_data"
    },
    {
     "name": "stderr",
     "output_type": "stream",
     "text": [
      "Metric val_loss improved by 0.348 >= min_delta = 0.01. New best score: -1.109\n"
     ]
    }
   ],
   "source": [
    "trainer_1.fit(combined_model_1)\n",
    "trainer_2.fit(combined_model_2)"
   ]
  },
  {
   "cell_type": "markdown",
   "id": "76690b07",
   "metadata": {},
   "source": [
    "# Calculate metrics\n",
    "\n",
    "## Detection curve and Area under detection curve"
   ]
  },
  {
   "cell_type": "code",
   "execution_count": 135,
   "id": "2cc418be",
   "metadata": {},
   "outputs": [],
   "source": [
    "threshold_number = 100\n",
    "threshold_list = np.linspace(-5, 5, threshold_number)\n",
    "threshold_list = 1 / (1 + np.exp(-threshold_list))\n",
    "threshold_list = [-0.001] + list(threshold_list) + [1.001]"
   ]
  },
  {
   "cell_type": "code",
   "execution_count": 136,
   "id": "adfb515d",
   "metadata": {
    "scrolled": true
   },
   "outputs": [],
   "source": [
    "cpd_model.to('cuda')\n",
    "(_, _, delay_list, fp_delay_list) = metrics.get_pareto_metrics_for_threshold(cpd_model, \n",
    "                                                                             cpd_model.test_dataloader(), \n",
    "                                                                             threshold_list,\n",
    "                                                                             verbose=False)"
   ]
  },
  {
   "cell_type": "code",
   "execution_count": 137,
   "id": "08486860",
   "metadata": {
    "scrolled": true
   },
   "outputs": [],
   "source": [
    "bce_model.to('cuda')\n",
    "(_, _, delay_list_bce, fp_delay_list_bce) = metrics.get_pareto_metrics_for_threshold(bce_model, \n",
    "                                                                                     cpd_model.test_dataloader(), \n",
    "                                                                                     threshold_list,\n",
    "                                                                                     verbose=False)"
   ]
  },
  {
   "cell_type": "code",
   "execution_count": 138,
   "id": "c60e307a",
   "metadata": {},
   "outputs": [],
   "source": [
    "combined_model_2.to('cuda')\n",
    "(_, _, delay_list_comb, fp_delay_list_comb) = metrics.get_pareto_metrics_for_threshold(combined_model_2, \n",
    "                                                                                       cpd_model.test_dataloader(), \n",
    "                                                                                       threshold_list,\n",
    "                                                                                       verbose=False)"
   ]
  },
  {
   "cell_type": "code",
   "execution_count": 139,
   "id": "3ee81753",
   "metadata": {},
   "outputs": [
    {
     "data": {
      "image/png": "[encoded data removed]",
      "text/plain": [
       "<Figure size 864x864 with 1 Axes>"
      ]
     },
     "metadata": {
      "needs_background": "light"
     },
     "output_type": "display_data"
    }
   ],
   "source": [
    "plt.figure(figsize=(12, 12))\n",
    "plt.plot(fp_delay_list, delay_list, '-o', markersize=4, label='CPD (ours)')\n",
    "plt.plot(fp_delay_list_bce, delay_list_bce, '-o', markersize=4, label='BCE')\n",
    "plt.plot(fp_delay_list_comb, delay_list_comb, '-o', markersize=4, label='Combined (ours)')\n",
    "\n",
    "plt.xlabel('Mean Time to False Alarm', fontsize=28)\n",
    "plt.ylabel('Mean Detection Delay', fontsize=28)\n",
    "plt.xticks(fontsize=24)\n",
    "plt.yticks(fontsize=24)\n",
    "plt.legend(loc='upper left', fontsize=26);"
   ]
  },
  {
   "cell_type": "code",
   "execution_count": 140,
   "id": "6e14d2ec",
   "metadata": {},
   "outputs": [
    {
     "name": "stdout",
     "output_type": "stream",
     "text": [
      "CPD AUC: 515.0187777777777\n",
      "BCE AUC: 515.0187777777777\n",
      "COMB AUC: 449.0962944444444\n"
     ]
    }
   ],
   "source": [
    "print('CPD AUC:', metrics.area_under_graph(delay_list, fp_delay_list))\n",
    "print('BCE AUC:', metrics.area_under_graph(delay_list_bce, fp_delay_list_bce))\n",
    "print('COMB AUC:', metrics.area_under_graph(delay_list_comb, fp_delay_list_comb))"
   ]
  },
  {
   "cell_type": "markdown",
   "id": "90878528",
   "metadata": {},
   "source": [
    "## Cover and F1-score"
   ]
  },
  {
   "cell_type": "code",
   "execution_count": 141,
   "id": "cb7e4c1e",
   "metadata": {},
   "outputs": [],
   "source": [
    "threshold_list = []\n",
    "threshold_list = [0.001, 0.005] + list(np.round(np.arange(0.1, 1, 0.1), 2))"
   ]
  },
  {
   "cell_type": "code",
   "execution_count": 142,
   "id": "e0bf8e63",
   "metadata": {},
   "outputs": [],
   "source": [
    "cpd_cover_dict = {}\n",
    "bce_cover_dict = {}\n",
    "comb_cover_dict = {}\n",
    "\n",
    "cpd_model.to('cuda')\n",
    "bce_model.to('cuda')\n",
    "for th in threshold_list:\n",
    "    cpd_cover_dict[th] = metrics.cover(cpd_model, cpd_model.val_dataloader(), th)\n",
    "    bce_cover_dict[th] = metrics.cover(bce_model, cpd_model.val_dataloader(), th)    \n",
    "    comb_cover_dict[th] = metrics.cover(combined_model_2, cpd_model.val_dataloader(), th)        "
   ]
  },
  {
   "cell_type": "code",
   "execution_count": 143,
   "id": "d3c2461e",
   "metadata": {},
   "outputs": [
    {
     "name": "stdout",
     "output_type": "stream",
     "text": [
      "BCE max COVER 0.9614: for threshold 0.6:\n",
      "CPD max COVER 0.9614: for threshold 0.6:\n",
      "COMB max COVER 0.9432: for threshold 0.4:\n"
     ]
    }
   ],
   "source": [
    "metrics_dict = cpd_cover_dict\n",
    "print('BCE max COVER {}: for threshold {}:'.format(round(metrics_dict[max(metrics_dict, key=metrics_dict.get)], 4), \n",
    "                                               max(metrics_dict, key=metrics_dict.get)))\n",
    "\n",
    "metrics_dict = bce_cover_dict\n",
    "print('CPD max COVER {}: for threshold {}:'.format(round(metrics_dict[max(metrics_dict, key=metrics_dict.get)], 4), \n",
    "                                               max(metrics_dict, key=metrics_dict.get)))\n",
    "\n",
    "metrics_dict = comb_cover_dict\n",
    "print('COMB max COVER {}: for threshold {}:'.format(round(metrics_dict[max(metrics_dict, key=metrics_dict.get)], 4), \n",
    "                                               max(metrics_dict, key=metrics_dict.get)))"
   ]
  },
  {
   "cell_type": "code",
   "execution_count": 144,
   "id": "df642dc4",
   "metadata": {},
   "outputs": [],
   "source": [
    "cpd_f1_dict = {}\n",
    "bce_f1_dict = {}\n",
    "comb_f1_dict = {}\n",
    "\n",
    "cpd_model.to('cuda')\n",
    "bce_model.to('cuda')\n",
    "for th in threshold_list:\n",
    "    cpd_f1_dict[th] = metrics.F1_score(cpd_model, cpd_model.val_dataloader(), th)\n",
    "    bce_f1_dict[th] = metrics.F1_score(bce_model, cpd_model.val_dataloader(), th)    \n",
    "    comb_f1_dict[th] = metrics.F1_score(combined_model_2, cpd_model.val_dataloader(), th)        "
   ]
  },
  {
   "cell_type": "code",
   "execution_count": 145,
   "id": "b1a1d92c",
   "metadata": {},
   "outputs": [
    {
     "name": "stdout",
     "output_type": "stream",
     "text": [
      "CPD max F1 0.9297: for threshold 0.6:\n",
      "BCE max F1 0.9297: for threshold 0.6:\n",
      "COMB max F1 0.8889: for threshold 0.4:\n"
     ]
    }
   ],
   "source": [
    "metrics_dict = cpd_f1_dict\n",
    "print('CPD max F1 {}: for threshold {}:'.format(round(metrics_dict[max(metrics_dict, key=metrics_dict.get)], 4), \n",
    "                                               max(metrics_dict, key=metrics_dict.get)))\n",
    "\n",
    "metrics_dict = bce_f1_dict\n",
    "print('BCE max F1 {}: for threshold {}:'.format(round(metrics_dict[max(metrics_dict, key=metrics_dict.get)], 4), \n",
    "                                               max(metrics_dict, key=metrics_dict.get)))\n",
    "\n",
    "metrics_dict = comb_f1_dict\n",
    "print('COMB max F1 {}: for threshold {}:'.format(round(metrics_dict[max(metrics_dict, key=metrics_dict.get)], 4), \n",
    "                                               max(metrics_dict, key=metrics_dict.get)))\n"
   ]
  },
  {
   "cell_type": "code",
   "execution_count": 146,
   "id": "3fec5dbf",
   "metadata": {},
   "outputs": [],
   "source": [
    "# margin = 10\n",
    "cpd_f1_lib_dict = {}\n",
    "bce_f1_lib_dict = {}\n",
    "comb_f1_lib_dict = {}\n",
    "\n",
    "cpd_model.to('cuda')\n",
    "bce_model.to('cuda')\n",
    "for th in threshold_list:\n",
    "    cpd_f1_lib_dict[th] = metrics.F1_score_ruptures(cpd_model, cpd_model.val_dataloader(), th)\n",
    "    bce_f1_lib_dict[th] = metrics.F1_score_ruptures(bce_model, cpd_model.val_dataloader(), th)    \n",
    "    comb_f1_lib_dict[th] = metrics.F1_score_ruptures(combined_model_2, cpd_model.val_dataloader(), th)        "
   ]
  },
  {
   "cell_type": "code",
   "execution_count": 147,
   "id": "b7f22d6c",
   "metadata": {},
   "outputs": [
    {
     "name": "stdout",
     "output_type": "stream",
     "text": [
      "CPD max F1 0.9916: for threshold 0.6:\n",
      "BCE max F1 0.9916: for threshold 0.6:\n",
      "COMB max F1 0.9206: for threshold 0.4:\n"
     ]
    }
   ],
   "source": [
    "metrics_dict = cpd_f1_lib_dict\n",
    "print('CPD max F1 {}: for threshold {}:'.format(round(metrics_dict[max(metrics_dict, key=metrics_dict.get)], 4), \n",
    "                                               max(metrics_dict, key=metrics_dict.get)))\n",
    "\n",
    "metrics_dict = bce_f1_lib_dict\n",
    "print('BCE max F1 {}: for threshold {}:'.format(round(metrics_dict[max(metrics_dict, key=metrics_dict.get)], 4), \n",
    "                                               max(metrics_dict, key=metrics_dict.get)))\n",
    "\n",
    "metrics_dict = comb_f1_lib_dict\n",
    "print('COMB max F1 {}: for threshold {}:'.format(round(metrics_dict[max(metrics_dict, key=metrics_dict.get)], 4), \n",
    "                                               max(metrics_dict, key=metrics_dict.get)))\n"
   ]
  },
  {
   "cell_type": "code",
   "execution_count": 148,
   "id": "9eb35158",
   "metadata": {},
   "outputs": [],
   "source": [
    "# margin = 5\n",
    "cpd_f1_lib_dict = {}\n",
    "bce_f1_lib_dict = {}\n",
    "comb_f1_lib_dict = {}\n",
    "\n",
    "cpd_model.to('cuda')\n",
    "bce_model.to('cuda')\n",
    "for th in threshold_list:\n",
    "    cpd_f1_lib_dict[th] = metrics.F1_score_ruptures(cpd_model, cpd_model.val_dataloader(), th, margin=5)\n",
    "    bce_f1_lib_dict[th] = metrics.F1_score_ruptures(bce_model, cpd_model.val_dataloader(), th, margin=5)    \n",
    "    comb_f1_lib_dict[th] = metrics.F1_score_ruptures(combined_model_2, cpd_model.val_dataloader(), th, margin=5)        "
   ]
  },
  {
   "cell_type": "code",
   "execution_count": 149,
   "id": "21bbe28c",
   "metadata": {},
   "outputs": [
    {
     "name": "stdout",
     "output_type": "stream",
     "text": [
      "CPD max F1 0.9412: for threshold 0.6:\n",
      "BCE max F1 0.9412: for threshold 0.6:\n",
      "COMB max F1 0.9206: for threshold 0.4:\n"
     ]
    }
   ],
   "source": [
    "metrics_dict = cpd_f1_lib_dict\n",
    "print('CPD max F1 {}: for threshold {}:'.format(round(metrics_dict[max(metrics_dict, key=metrics_dict.get)], 4), \n",
    "                                               max(metrics_dict, key=metrics_dict.get)))\n",
    "\n",
    "metrics_dict = bce_f1_lib_dict\n",
    "print('BCE max F1 {}: for threshold {}:'.format(round(metrics_dict[max(metrics_dict, key=metrics_dict.get)], 4), \n",
    "                                               max(metrics_dict, key=metrics_dict.get)))\n",
    "\n",
    "metrics_dict = comb_f1_lib_dict\n",
    "print('COMB max F1 {}: for threshold {}:'.format(round(metrics_dict[max(metrics_dict, key=metrics_dict.get)], 4), \n",
    "                                               max(metrics_dict, key=metrics_dict.get)))\n"
   ]
  }
 ],
 "metadata": {
  "kernelspec": {
   "display_name": "Python 3",
   "language": "python",
   "name": "python3"
  },
  "language_info": {
   "codemirror_mode": {
    "name": "ipython",
    "version": 3
   },
   "file_extension": ".py",
   "mimetype": "text/x-python",
   "name": "python",
   "nbconvert_exporter": "python",
   "pygments_lexer": "ipython3",
   "version": "3.7.9"
  }
 },
 "nbformat": 4,
 "nbformat_minor": 5
}
