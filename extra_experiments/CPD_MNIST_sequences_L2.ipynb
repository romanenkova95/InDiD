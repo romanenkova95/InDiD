{
 "cells": [
  {
   "cell_type": "code",
   "execution_count": 1,
   "metadata": {},
   "outputs": [],
   "source": [
    "from CPD import datasets, loss, models\n",
    "from CPD import new_metrics as metrics\n",
    "\n",
    "%load_ext autoreload\n",
    "%autoreload\n",
    "\n",
    "import pytorch_lightning as pl\n",
    "import torch.nn as nn\n",
    "\n",
    "import matplotlib.pyplot as plt\n",
    "%matplotlib inline\n",
    "\n",
    "import numpy as np\n",
    "import torch"
   ]
  },
  {
   "cell_type": "markdown",
   "metadata": {},
   "source": [
    "# Paramteres initialization "
   ]
  },
  {
   "cell_type": "code",
   "execution_count": 9,
   "metadata": {},
   "outputs": [],
   "source": [
    "# input data parameters\n",
    "SEQ_LEN = 64\n",
    "IM_SIZE = 28"
   ]
  },
  {
   "cell_type": "code",
   "execution_count": 10,
   "metadata": {},
   "outputs": [],
   "source": [
    "input_size = IM_SIZE * IM_SIZE\n",
    "hidden_rnn = 100\n",
    "rnn_n_layers = 2\n",
    "linear_dims = [128]\n",
    "rnn_dropout = 0.5\n",
    "dropout = 0.25"
   ]
  },
  {
   "cell_type": "code",
   "execution_count": 11,
   "metadata": {
    "scrolled": true
   },
   "outputs": [
    {
     "name": "stdout",
     "output_type": "stream",
     "text": [
      "The tensorboard extension is already loaded. To reload it, use:\n",
      "  %reload_ext tensorboard\n"
     ]
    },
    {
     "data": {
      "text/plain": [
       "Reusing TensorBoard on port 2021 (pid 10710), started 0:00:31 ago. (Use '!kill 10710' to kill it.)"
      ]
     },
     "metadata": {},
     "output_type": "display_data"
    },
    {
     "data": {
      "text/html": [
       "\n",
       "      <iframe id=\"tensorboard-frame-9830b4f7c228715b\" width=\"100%\" height=\"800\" frameborder=\"0\">\n",
       "      </iframe>\n",
       "      <script>\n",
       "        (function() {\n",
       "          const frame = document.getElementById(\"tensorboard-frame-9830b4f7c228715b\");\n",
       "          const url = new URL(\"/\", window.location);\n",
       "          const port = 2021;\n",
       "          if (port) {\n",
       "            url.port = port;\n",
       "          }\n",
       "          frame.src = url;\n",
       "        })();\n",
       "      </script>\n",
       "    "
      ],
      "text/plain": [
       "<IPython.core.display.HTML object>"
      ]
     },
     "metadata": {},
     "output_type": "display_data"
    }
   ],
   "source": [
    "%load_ext tensorboard \n",
    "%tensorboard --logdir logs --port 2021"
   ]
  },
  {
   "cell_type": "markdown",
   "metadata": {},
   "source": [
    "# Our approach"
   ]
  },
  {
   "cell_type": "code",
   "execution_count": 12,
   "metadata": {},
   "outputs": [],
   "source": [
    "base_model_cpd = models.MnistRNN(input_size, hidden_rnn, rnn_n_layers, \n",
    "                                 linear_dims, rnn_dropout=0.0, \n",
    "                                 dropout=0.5,  rnn_type='LSTM')\n",
    "\n",
    "\n",
    "cpd_model = models.CPD_model(model=base_model_cpd, T=16,\n",
    "                             loss_type='CPD', experiment_type='mnist', \n",
    "                             lr=0.001, batch_size=64)"
   ]
  },
  {
   "cell_type": "code",
   "execution_count": 13,
   "metadata": {},
   "outputs": [
    {
     "name": "stderr",
     "output_type": "stream",
     "text": [
      "GPU available: True, used: True\n",
      "TPU available: False, using: 0 TPU cores\n"
     ]
    }
   ],
   "source": [
    "from pytorch_lightning.callbacks.early_stopping import EarlyStopping\n",
    "\n",
    "experiment_name = 'mnist_cpd'\n",
    "logger = pl.loggers.TensorBoardLogger(save_dir='logs/', name=experiment_name)\n",
    "\n",
    "early_stop_callback = EarlyStopping(monitor=\"val_loss\", \n",
    "                                    min_delta=0.00, patience=5, \n",
    "                                    verbose=True, mode=\"min\")\n",
    "\n",
    "from pytorch_lightning.callbacks import ModelCheckpoint\n",
    "checkpoint_callback = ModelCheckpoint(\n",
    "    dirpath='saves',\n",
    "    filename='{epoch}-{val_loss:.2f}-{val_acc:.2f}', \n",
    "    every_n_val_epochs=2)\n",
    "\n",
    "trainer = pl.Trainer(\n",
    "    max_epochs =50, \n",
    "    gpus='1', \n",
    "    benchmark=True, \n",
    "    check_val_every_n_epoch=1,\n",
    "    gradient_clip_val=1, # ATTENTION IT'S NEW! I SUPPOSE IT HELPS TO AVOID TRIVIAL SOLUTION\n",
    "    logger = logger, callbacks = [early_stop_callback, checkpoint_callback])"
   ]
  },
  {
   "cell_type": "code",
   "execution_count": 14,
   "metadata": {
    "scrolled": true
   },
   "outputs": [
    {
     "name": "stderr",
     "output_type": "stream",
     "text": [
      "LOCAL_RANK: 0 - CUDA_VISIBLE_DEVICES: [0,1]\n",
      "\n",
      "  | Name  | Type     | Params\n",
      "-----------------------------------\n",
      "0 | model | MnistRNN | 448 K \n",
      "1 | loss  | CPDLoss  | 0     \n",
      "-----------------------------------\n",
      "448 K     Trainable params\n",
      "0         Non-trainable params\n",
      "448 K     Total params\n",
      "1.793     Total estimated model params size (MB)\n"
     ]
    },
    {
     "data": {
      "application/vnd.jupyter.widget-view+json": {
       "model_id": "",
       "version_major": 2,
       "version_minor": 0
      },
      "text/plain": [
       "Validation sanity check: 0it [00:00, ?it/s]"
      ]
     },
     "metadata": {},
     "output_type": "display_data"
    },
    {
     "data": {
      "application/vnd.jupyter.widget-view+json": {
       "model_id": "a5181cbb3b6640f89633c6a3d98e3ef6",
       "version_major": 2,
       "version_minor": 0
      },
      "text/plain": [
       "Training: 0it [00:00, ?it/s]"
      ]
     },
     "metadata": {},
     "output_type": "display_data"
    },
    {
     "data": {
      "application/vnd.jupyter.widget-view+json": {
       "model_id": "",
       "version_major": 2,
       "version_minor": 0
      },
      "text/plain": [
       "Validating: 0it [00:00, ?it/s]"
      ]
     },
     "metadata": {},
     "output_type": "display_data"
    },
    {
     "name": "stderr",
     "output_type": "stream",
     "text": [
      "Metric val_loss improved. New best score: 2.782\n"
     ]
    },
    {
     "data": {
      "application/vnd.jupyter.widget-view+json": {
       "model_id": "",
       "version_major": 2,
       "version_minor": 0
      },
      "text/plain": [
       "Validating: 0it [00:00, ?it/s]"
      ]
     },
     "metadata": {},
     "output_type": "display_data"
    },
    {
     "name": "stderr",
     "output_type": "stream",
     "text": [
      "Metric val_loss improved by 0.734 >= min_delta = 0.0. New best score: 2.048\n"
     ]
    },
    {
     "data": {
      "application/vnd.jupyter.widget-view+json": {
       "model_id": "",
       "version_major": 2,
       "version_minor": 0
      },
      "text/plain": [
       "Validating: 0it [00:00, ?it/s]"
      ]
     },
     "metadata": {},
     "output_type": "display_data"
    },
    {
     "name": "stderr",
     "output_type": "stream",
     "text": [
      "Metric val_loss improved by 0.376 >= min_delta = 0.0. New best score: 1.672\n"
     ]
    },
    {
     "data": {
      "application/vnd.jupyter.widget-view+json": {
       "model_id": "",
       "version_major": 2,
       "version_minor": 0
      },
      "text/plain": [
       "Validating: 0it [00:00, ?it/s]"
      ]
     },
     "metadata": {},
     "output_type": "display_data"
    },
    {
     "name": "stderr",
     "output_type": "stream",
     "text": [
      "Metric val_loss improved by 0.236 >= min_delta = 0.0. New best score: 1.436\n"
     ]
    },
    {
     "data": {
      "application/vnd.jupyter.widget-view+json": {
       "model_id": "",
       "version_major": 2,
       "version_minor": 0
      },
      "text/plain": [
       "Validating: 0it [00:00, ?it/s]"
      ]
     },
     "metadata": {},
     "output_type": "display_data"
    },
    {
     "name": "stderr",
     "output_type": "stream",
     "text": [
      "Metric val_loss improved by 0.840 >= min_delta = 0.0. New best score: 0.596\n"
     ]
    },
    {
     "data": {
      "application/vnd.jupyter.widget-view+json": {
       "model_id": "",
       "version_major": 2,
       "version_minor": 0
      },
      "text/plain": [
       "Validating: 0it [00:00, ?it/s]"
      ]
     },
     "metadata": {},
     "output_type": "display_data"
    },
    {
     "name": "stderr",
     "output_type": "stream",
     "text": [
      "Metric val_loss improved by 11.993 >= min_delta = 0.0. New best score: -11.397\n"
     ]
    },
    {
     "data": {
      "application/vnd.jupyter.widget-view+json": {
       "model_id": "",
       "version_major": 2,
       "version_minor": 0
      },
      "text/plain": [
       "Validating: 0it [00:00, ?it/s]"
      ]
     },
     "metadata": {},
     "output_type": "display_data"
    },
    {
     "name": "stderr",
     "output_type": "stream",
     "text": [
      "Metric val_loss improved by 21.981 >= min_delta = 0.0. New best score: -33.378\n"
     ]
    },
    {
     "data": {
      "application/vnd.jupyter.widget-view+json": {
       "model_id": "",
       "version_major": 2,
       "version_minor": 0
      },
      "text/plain": [
       "Validating: 0it [00:00, ?it/s]"
      ]
     },
     "metadata": {},
     "output_type": "display_data"
    },
    {
     "name": "stderr",
     "output_type": "stream",
     "text": [
      "Metric val_loss improved by 3.899 >= min_delta = 0.0. New best score: -37.276\n"
     ]
    },
    {
     "data": {
      "application/vnd.jupyter.widget-view+json": {
       "model_id": "",
       "version_major": 2,
       "version_minor": 0
      },
      "text/plain": [
       "Validating: 0it [00:00, ?it/s]"
      ]
     },
     "metadata": {},
     "output_type": "display_data"
    },
    {
     "data": {
      "application/vnd.jupyter.widget-view+json": {
       "model_id": "",
       "version_major": 2,
       "version_minor": 0
      },
      "text/plain": [
       "Validating: 0it [00:00, ?it/s]"
      ]
     },
     "metadata": {},
     "output_type": "display_data"
    },
    {
     "name": "stderr",
     "output_type": "stream",
     "text": [
      "Metric val_loss improved by 2.441 >= min_delta = 0.0. New best score: -39.718\n"
     ]
    },
    {
     "data": {
      "application/vnd.jupyter.widget-view+json": {
       "model_id": "",
       "version_major": 2,
       "version_minor": 0
      },
      "text/plain": [
       "Validating: 0it [00:00, ?it/s]"
      ]
     },
     "metadata": {},
     "output_type": "display_data"
    },
    {
     "name": "stderr",
     "output_type": "stream",
     "text": [
      "Metric val_loss improved by 1.400 >= min_delta = 0.0. New best score: -41.118\n"
     ]
    },
    {
     "data": {
      "application/vnd.jupyter.widget-view+json": {
       "model_id": "",
       "version_major": 2,
       "version_minor": 0
      },
      "text/plain": [
       "Validating: 0it [00:00, ?it/s]"
      ]
     },
     "metadata": {},
     "output_type": "display_data"
    },
    {
     "data": {
      "application/vnd.jupyter.widget-view+json": {
       "model_id": "",
       "version_major": 2,
       "version_minor": 0
      },
      "text/plain": [
       "Validating: 0it [00:00, ?it/s]"
      ]
     },
     "metadata": {},
     "output_type": "display_data"
    },
    {
     "name": "stderr",
     "output_type": "stream",
     "text": [
      "Metric val_loss improved by 0.013 >= min_delta = 0.0. New best score: -41.132\n"
     ]
    },
    {
     "data": {
      "application/vnd.jupyter.widget-view+json": {
       "model_id": "",
       "version_major": 2,
       "version_minor": 0
      },
      "text/plain": [
       "Validating: 0it [00:00, ?it/s]"
      ]
     },
     "metadata": {},
     "output_type": "display_data"
    },
    {
     "name": "stderr",
     "output_type": "stream",
     "text": [
      "Metric val_loss improved by 0.295 >= min_delta = 0.0. New best score: -41.427\n"
     ]
    },
    {
     "data": {
      "application/vnd.jupyter.widget-view+json": {
       "model_id": "",
       "version_major": 2,
       "version_minor": 0
      },
      "text/plain": [
       "Validating: 0it [00:00, ?it/s]"
      ]
     },
     "metadata": {},
     "output_type": "display_data"
    },
    {
     "name": "stderr",
     "output_type": "stream",
     "text": [
      "Metric val_loss improved by 0.048 >= min_delta = 0.0. New best score: -41.475\n"
     ]
    },
    {
     "data": {
      "application/vnd.jupyter.widget-view+json": {
       "model_id": "",
       "version_major": 2,
       "version_minor": 0
      },
      "text/plain": [
       "Validating: 0it [00:00, ?it/s]"
      ]
     },
     "metadata": {},
     "output_type": "display_data"
    },
    {
     "name": "stderr",
     "output_type": "stream",
     "text": [
      "Metric val_loss improved by 0.157 >= min_delta = 0.0. New best score: -41.631\n"
     ]
    },
    {
     "data": {
      "application/vnd.jupyter.widget-view+json": {
       "model_id": "",
       "version_major": 2,
       "version_minor": 0
      },
      "text/plain": [
       "Validating: 0it [00:00, ?it/s]"
      ]
     },
     "metadata": {},
     "output_type": "display_data"
    },
    {
     "data": {
      "application/vnd.jupyter.widget-view+json": {
       "model_id": "",
       "version_major": 2,
       "version_minor": 0
      },
      "text/plain": [
       "Validating: 0it [00:00, ?it/s]"
      ]
     },
     "metadata": {},
     "output_type": "display_data"
    },
    {
     "name": "stderr",
     "output_type": "stream",
     "text": [
      "Metric val_loss improved by 0.063 >= min_delta = 0.0. New best score: -41.694\n"
     ]
    },
    {
     "data": {
      "application/vnd.jupyter.widget-view+json": {
       "model_id": "",
       "version_major": 2,
       "version_minor": 0
      },
      "text/plain": [
       "Validating: 0it [00:00, ?it/s]"
      ]
     },
     "metadata": {},
     "output_type": "display_data"
    },
    {
     "data": {
      "application/vnd.jupyter.widget-view+json": {
       "model_id": "",
       "version_major": 2,
       "version_minor": 0
      },
      "text/plain": [
       "Validating: 0it [00:00, ?it/s]"
      ]
     },
     "metadata": {},
     "output_type": "display_data"
    },
    {
     "data": {
      "application/vnd.jupyter.widget-view+json": {
       "model_id": "",
       "version_major": 2,
       "version_minor": 0
      },
      "text/plain": [
       "Validating: 0it [00:00, ?it/s]"
      ]
     },
     "metadata": {},
     "output_type": "display_data"
    },
    {
     "data": {
      "application/vnd.jupyter.widget-view+json": {
       "model_id": "",
       "version_major": 2,
       "version_minor": 0
      },
      "text/plain": [
       "Validating: 0it [00:00, ?it/s]"
      ]
     },
     "metadata": {},
     "output_type": "display_data"
    },
    {
     "data": {
      "application/vnd.jupyter.widget-view+json": {
       "model_id": "",
       "version_major": 2,
       "version_minor": 0
      },
      "text/plain": [
       "Validating: 0it [00:00, ?it/s]"
      ]
     },
     "metadata": {},
     "output_type": "display_data"
    },
    {
     "name": "stderr",
     "output_type": "stream",
     "text": [
      "Monitored metric val_loss did not improve in the last 5 records. Best score: -41.694. Signaling Trainer to stop.\n"
     ]
    }
   ],
   "source": [
    "trainer.fit(cpd_model)"
   ]
  },
  {
   "cell_type": "markdown",
   "metadata": {},
   "source": [
    "# BCE model"
   ]
  },
  {
   "cell_type": "code",
   "execution_count": 15,
   "metadata": {},
   "outputs": [],
   "source": [
    "base_model_bce = models.MnistRNN(input_size, hidden_rnn, rnn_n_layers, \n",
    "                                 linear_dims, rnn_dropout=0.0, \n",
    "                                 dropout=0.5,  rnn_type='LSTM')\n",
    "\n",
    "\n",
    "bce_model = models.CPD_model(model=base_model_bce, T=None,\n",
    "                             loss_type='BCE', experiment_type='mnist', \n",
    "                             lr=0.001, batch_size=64)"
   ]
  },
  {
   "cell_type": "code",
   "execution_count": 16,
   "metadata": {},
   "outputs": [
    {
     "name": "stderr",
     "output_type": "stream",
     "text": [
      "GPU available: True, used: True\n",
      "TPU available: False, using: 0 TPU cores\n"
     ]
    }
   ],
   "source": [
    "from pytorch_lightning.callbacks.early_stopping import EarlyStopping\n",
    "\n",
    "experiment_name = 'mnist_bce'\n",
    "logger = pl.loggers.TensorBoardLogger(save_dir='logs/', name=experiment_name)\n",
    "\n",
    "early_stop_callback = EarlyStopping(monitor=\"val_loss\", \n",
    "                                    min_delta=0.00, patience=5, \n",
    "                                    verbose=True, mode=\"min\")\n",
    "\n",
    "from pytorch_lightning.callbacks import ModelCheckpoint\n",
    "checkpoint_callback = ModelCheckpoint(\n",
    "    dirpath='saves',\n",
    "    filename='{epoch}-{val_loss:.2f}-{val_acc:.2f}', \n",
    "    every_n_val_epochs=2)\n",
    "\n",
    "trainer = pl.Trainer(\n",
    "    max_epochs=50, \n",
    "    gpus='1', \n",
    "    benchmark=True, \n",
    "    check_val_every_n_epoch=1,\n",
    "    gradient_clip_val=1, # ATTENTION IT'S NEW! I SUPPOSE IT HELPS TO AVOID TRIVIAL SOLUTION\n",
    "    logger = logger, callbacks = [checkpoint_callback, early_stop_callback])"
   ]
  },
  {
   "cell_type": "code",
   "execution_count": 17,
   "metadata": {},
   "outputs": [
    {
     "name": "stderr",
     "output_type": "stream",
     "text": [
      "LOCAL_RANK: 0 - CUDA_VISIBLE_DEVICES: [0,1]\n",
      "\n",
      "  | Name  | Type     | Params\n",
      "-----------------------------------\n",
      "0 | model | MnistRNN | 448 K \n",
      "1 | loss  | BCELoss  | 0     \n",
      "-----------------------------------\n",
      "448 K     Trainable params\n",
      "0         Non-trainable params\n",
      "448 K     Total params\n",
      "1.793     Total estimated model params size (MB)\n"
     ]
    },
    {
     "data": {
      "application/vnd.jupyter.widget-view+json": {
       "model_id": "",
       "version_major": 2,
       "version_minor": 0
      },
      "text/plain": [
       "Validation sanity check: 0it [00:00, ?it/s]"
      ]
     },
     "metadata": {},
     "output_type": "display_data"
    },
    {
     "data": {
      "application/vnd.jupyter.widget-view+json": {
       "model_id": "1e221dbe6368410b9bb6aa420cf17d11",
       "version_major": 2,
       "version_minor": 0
      },
      "text/plain": [
       "Training: 0it [00:00, ?it/s]"
      ]
     },
     "metadata": {},
     "output_type": "display_data"
    },
    {
     "data": {
      "application/vnd.jupyter.widget-view+json": {
       "model_id": "",
       "version_major": 2,
       "version_minor": 0
      },
      "text/plain": [
       "Validating: 0it [00:00, ?it/s]"
      ]
     },
     "metadata": {},
     "output_type": "display_data"
    },
    {
     "name": "stderr",
     "output_type": "stream",
     "text": [
      "Metric val_loss improved. New best score: 0.333\n"
     ]
    },
    {
     "data": {
      "application/vnd.jupyter.widget-view+json": {
       "model_id": "",
       "version_major": 2,
       "version_minor": 0
      },
      "text/plain": [
       "Validating: 0it [00:00, ?it/s]"
      ]
     },
     "metadata": {},
     "output_type": "display_data"
    },
    {
     "name": "stderr",
     "output_type": "stream",
     "text": [
      "Metric val_loss improved by 0.215 >= min_delta = 0.0. New best score: 0.118\n"
     ]
    },
    {
     "data": {
      "application/vnd.jupyter.widget-view+json": {
       "model_id": "",
       "version_major": 2,
       "version_minor": 0
      },
      "text/plain": [
       "Validating: 0it [00:00, ?it/s]"
      ]
     },
     "metadata": {},
     "output_type": "display_data"
    },
    {
     "name": "stderr",
     "output_type": "stream",
     "text": [
      "Metric val_loss improved by 0.060 >= min_delta = 0.0. New best score: 0.058\n"
     ]
    },
    {
     "data": {
      "application/vnd.jupyter.widget-view+json": {
       "model_id": "",
       "version_major": 2,
       "version_minor": 0
      },
      "text/plain": [
       "Validating: 0it [00:00, ?it/s]"
      ]
     },
     "metadata": {},
     "output_type": "display_data"
    },
    {
     "name": "stderr",
     "output_type": "stream",
     "text": [
      "Metric val_loss improved by 0.012 >= min_delta = 0.0. New best score: 0.046\n"
     ]
    },
    {
     "data": {
      "application/vnd.jupyter.widget-view+json": {
       "model_id": "",
       "version_major": 2,
       "version_minor": 0
      },
      "text/plain": [
       "Validating: 0it [00:00, ?it/s]"
      ]
     },
     "metadata": {},
     "output_type": "display_data"
    },
    {
     "name": "stderr",
     "output_type": "stream",
     "text": [
      "Metric val_loss improved by 0.002 >= min_delta = 0.0. New best score: 0.044\n"
     ]
    },
    {
     "data": {
      "application/vnd.jupyter.widget-view+json": {
       "model_id": "",
       "version_major": 2,
       "version_minor": 0
      },
      "text/plain": [
       "Validating: 0it [00:00, ?it/s]"
      ]
     },
     "metadata": {},
     "output_type": "display_data"
    },
    {
     "name": "stderr",
     "output_type": "stream",
     "text": [
      "Metric val_loss improved by 0.002 >= min_delta = 0.0. New best score: 0.042\n"
     ]
    },
    {
     "data": {
      "application/vnd.jupyter.widget-view+json": {
       "model_id": "",
       "version_major": 2,
       "version_minor": 0
      },
      "text/plain": [
       "Validating: 0it [00:00, ?it/s]"
      ]
     },
     "metadata": {},
     "output_type": "display_data"
    },
    {
     "data": {
      "application/vnd.jupyter.widget-view+json": {
       "model_id": "",
       "version_major": 2,
       "version_minor": 0
      },
      "text/plain": [
       "Validating: 0it [00:00, ?it/s]"
      ]
     },
     "metadata": {},
     "output_type": "display_data"
    },
    {
     "data": {
      "application/vnd.jupyter.widget-view+json": {
       "model_id": "",
       "version_major": 2,
       "version_minor": 0
      },
      "text/plain": [
       "Validating: 0it [00:00, ?it/s]"
      ]
     },
     "metadata": {},
     "output_type": "display_data"
    },
    {
     "data": {
      "application/vnd.jupyter.widget-view+json": {
       "model_id": "",
       "version_major": 2,
       "version_minor": 0
      },
      "text/plain": [
       "Validating: 0it [00:00, ?it/s]"
      ]
     },
     "metadata": {},
     "output_type": "display_data"
    },
    {
     "data": {
      "application/vnd.jupyter.widget-view+json": {
       "model_id": "",
       "version_major": 2,
       "version_minor": 0
      },
      "text/plain": [
       "Validating: 0it [00:00, ?it/s]"
      ]
     },
     "metadata": {},
     "output_type": "display_data"
    },
    {
     "name": "stderr",
     "output_type": "stream",
     "text": [
      "Monitored metric val_loss did not improve in the last 5 records. Best score: 0.042. Signaling Trainer to stop.\n"
     ]
    }
   ],
   "source": [
    "trainer.fit(bce_model)"
   ]
  },
  {
   "cell_type": "markdown",
   "metadata": {},
   "source": [
    "# Combined"
   ]
  },
  {
   "cell_type": "code",
   "execution_count": 11,
   "metadata": {},
   "outputs": [],
   "source": [
    "base_model_comb = models.MnistRNN(input_size, hidden_rnn, rnn_n_layers, \n",
    "                                 linear_dims, rnn_dropout=0.0, \n",
    "                                 dropout=0.5,  rnn_type='LSTM')\n",
    "\n",
    "combined_model_1 = models.CPD_model(model=base_model_comb, T=None,\n",
    "                                    loss_type='BCE', experiment_type='mnist', \n",
    "                                    lr=0.001, batch_size=64)\n",
    "\n",
    "combined_model_2 = models.CPD_model(model=base_model_comb, T=16,\n",
    "                                    loss_type='CPD', experiment_type='mnist', \n",
    "                                    lr=0.001, batch_size=64)"
   ]
  },
  {
   "cell_type": "code",
   "execution_count": 12,
   "metadata": {},
   "outputs": [
    {
     "name": "stderr",
     "output_type": "stream",
     "text": [
      "GPU available: True, used: True\n",
      "TPU available: False, using: 0 TPU cores\n",
      "GPU available: True, used: True\n",
      "TPU available: False, using: 0 TPU cores\n"
     ]
    }
   ],
   "source": [
    "experiment_name = 'mnist_comb'\n",
    "logger = pl.loggers.TensorBoardLogger(save_dir='logs/', name=experiment_name)\n",
    "\n",
    "checkpoint_callback = pl.callbacks.ModelCheckpoint(\n",
    "    monitor='val_acc',\n",
    "    dirpath=f'logs/{experiment_name}',\n",
    "    filename='{epoch:02d}-{val_acc:.3f}',\n",
    "    mode='max')\n",
    "\n",
    "early_stop_callback = EarlyStopping(monitor=\"val_loss\", \n",
    "                                    min_delta=0.00, patience=5, \n",
    "                                    verbose=True, mode=\"min\")\n",
    "\n",
    "trainer_1 = pl.Trainer(\n",
    "    max_epochs=20, \n",
    "    gpus='1', \n",
    "    benchmark=True, \n",
    "    check_val_every_n_epoch=1, \n",
    "    gradient_clip_val=1,\n",
    "    logger=logger,\n",
    "    callbacks=[checkpoint_callback, early_stop_callback])\n",
    "\n",
    "trainer_2 = pl.Trainer(\n",
    "    max_epochs=20, \n",
    "    gpus='1', \n",
    "    benchmark=True, \n",
    "    check_val_every_n_epoch=1, \n",
    "    gradient_clip_val=1,\n",
    "    logger=logger,\n",
    "    callbacks=[checkpoint_callback, early_stop_callback])"
   ]
  },
  {
   "cell_type": "code",
   "execution_count": 13,
   "metadata": {},
   "outputs": [
    {
     "name": "stderr",
     "output_type": "stream",
     "text": [
      "LOCAL_RANK: 0 - CUDA_VISIBLE_DEVICES: [0,1]\n",
      "\n",
      "  | Name  | Type     | Params\n",
      "-----------------------------------\n",
      "0 | model | MnistRNN | 448 K \n",
      "1 | loss  | BCELoss  | 0     \n",
      "-----------------------------------\n",
      "448 K     Trainable params\n",
      "0         Non-trainable params\n",
      "448 K     Total params\n",
      "1.793     Total estimated model params size (MB)\n"
     ]
    },
    {
     "data": {
      "application/vnd.jupyter.widget-view+json": {
       "model_id": "",
       "version_major": 2,
       "version_minor": 0
      },
      "text/plain": [
       "Validation sanity check: 0it [00:00, ?it/s]"
      ]
     },
     "metadata": {},
     "output_type": "display_data"
    },
    {
     "data": {
      "application/vnd.jupyter.widget-view+json": {
       "model_id": "717f096ad8e44c8bb0533ed188ba5a7e",
       "version_major": 2,
       "version_minor": 0
      },
      "text/plain": [
       "Training: 0it [00:00, ?it/s]"
      ]
     },
     "metadata": {},
     "output_type": "display_data"
    },
    {
     "data": {
      "application/vnd.jupyter.widget-view+json": {
       "model_id": "",
       "version_major": 2,
       "version_minor": 0
      },
      "text/plain": [
       "Validating: 0it [00:00, ?it/s]"
      ]
     },
     "metadata": {},
     "output_type": "display_data"
    },
    {
     "name": "stderr",
     "output_type": "stream",
     "text": [
      "Metric val_loss improved. New best score: 0.348\n"
     ]
    },
    {
     "data": {
      "application/vnd.jupyter.widget-view+json": {
       "model_id": "",
       "version_major": 2,
       "version_minor": 0
      },
      "text/plain": [
       "Validating: 0it [00:00, ?it/s]"
      ]
     },
     "metadata": {},
     "output_type": "display_data"
    },
    {
     "name": "stderr",
     "output_type": "stream",
     "text": [
      "Metric val_loss improved by 0.219 >= min_delta = 0.0. New best score: 0.130\n"
     ]
    },
    {
     "data": {
      "application/vnd.jupyter.widget-view+json": {
       "model_id": "",
       "version_major": 2,
       "version_minor": 0
      },
      "text/plain": [
       "Validating: 0it [00:00, ?it/s]"
      ]
     },
     "metadata": {},
     "output_type": "display_data"
    },
    {
     "name": "stderr",
     "output_type": "stream",
     "text": [
      "Metric val_loss improved by 0.069 >= min_delta = 0.0. New best score: 0.061\n"
     ]
    },
    {
     "data": {
      "application/vnd.jupyter.widget-view+json": {
       "model_id": "",
       "version_major": 2,
       "version_minor": 0
      },
      "text/plain": [
       "Validating: 0it [00:00, ?it/s]"
      ]
     },
     "metadata": {},
     "output_type": "display_data"
    },
    {
     "name": "stderr",
     "output_type": "stream",
     "text": [
      "Metric val_loss improved by 0.007 >= min_delta = 0.0. New best score: 0.054\n"
     ]
    },
    {
     "data": {
      "application/vnd.jupyter.widget-view+json": {
       "model_id": "",
       "version_major": 2,
       "version_minor": 0
      },
      "text/plain": [
       "Validating: 0it [00:00, ?it/s]"
      ]
     },
     "metadata": {},
     "output_type": "display_data"
    },
    {
     "name": "stderr",
     "output_type": "stream",
     "text": [
      "Metric val_loss improved by 0.003 >= min_delta = 0.0. New best score: 0.050\n"
     ]
    },
    {
     "data": {
      "application/vnd.jupyter.widget-view+json": {
       "model_id": "",
       "version_major": 2,
       "version_minor": 0
      },
      "text/plain": [
       "Validating: 0it [00:00, ?it/s]"
      ]
     },
     "metadata": {},
     "output_type": "display_data"
    },
    {
     "name": "stderr",
     "output_type": "stream",
     "text": [
      "Metric val_loss improved by 0.000 >= min_delta = 0.0. New best score: 0.050\n"
     ]
    },
    {
     "data": {
      "application/vnd.jupyter.widget-view+json": {
       "model_id": "",
       "version_major": 2,
       "version_minor": 0
      },
      "text/plain": [
       "Validating: 0it [00:00, ?it/s]"
      ]
     },
     "metadata": {},
     "output_type": "display_data"
    },
    {
     "name": "stderr",
     "output_type": "stream",
     "text": [
      "Metric val_loss improved by 0.002 >= min_delta = 0.0. New best score: 0.047\n"
     ]
    },
    {
     "data": {
      "application/vnd.jupyter.widget-view+json": {
       "model_id": "",
       "version_major": 2,
       "version_minor": 0
      },
      "text/plain": [
       "Validating: 0it [00:00, ?it/s]"
      ]
     },
     "metadata": {},
     "output_type": "display_data"
    },
    {
     "data": {
      "application/vnd.jupyter.widget-view+json": {
       "model_id": "",
       "version_major": 2,
       "version_minor": 0
      },
      "text/plain": [
       "Validating: 0it [00:00, ?it/s]"
      ]
     },
     "metadata": {},
     "output_type": "display_data"
    },
    {
     "name": "stderr",
     "output_type": "stream",
     "text": [
      "Metric val_loss improved by 0.001 >= min_delta = 0.0. New best score: 0.047\n"
     ]
    },
    {
     "data": {
      "application/vnd.jupyter.widget-view+json": {
       "model_id": "",
       "version_major": 2,
       "version_minor": 0
      },
      "text/plain": [
       "Validating: 0it [00:00, ?it/s]"
      ]
     },
     "metadata": {},
     "output_type": "display_data"
    },
    {
     "name": "stderr",
     "output_type": "stream",
     "text": [
      "Metric val_loss improved by 0.000 >= min_delta = 0.0. New best score: 0.047\n"
     ]
    },
    {
     "data": {
      "application/vnd.jupyter.widget-view+json": {
       "model_id": "",
       "version_major": 2,
       "version_minor": 0
      },
      "text/plain": [
       "Validating: 0it [00:00, ?it/s]"
      ]
     },
     "metadata": {},
     "output_type": "display_data"
    },
    {
     "data": {
      "application/vnd.jupyter.widget-view+json": {
       "model_id": "",
       "version_major": 2,
       "version_minor": 0
      },
      "text/plain": [
       "Validating: 0it [00:00, ?it/s]"
      ]
     },
     "metadata": {},
     "output_type": "display_data"
    },
    {
     "data": {
      "application/vnd.jupyter.widget-view+json": {
       "model_id": "",
       "version_major": 2,
       "version_minor": 0
      },
      "text/plain": [
       "Validating: 0it [00:00, ?it/s]"
      ]
     },
     "metadata": {},
     "output_type": "display_data"
    },
    {
     "data": {
      "application/vnd.jupyter.widget-view+json": {
       "model_id": "",
       "version_major": 2,
       "version_minor": 0
      },
      "text/plain": [
       "Validating: 0it [00:00, ?it/s]"
      ]
     },
     "metadata": {},
     "output_type": "display_data"
    },
    {
     "data": {
      "application/vnd.jupyter.widget-view+json": {
       "model_id": "",
       "version_major": 2,
       "version_minor": 0
      },
      "text/plain": [
       "Validating: 0it [00:00, ?it/s]"
      ]
     },
     "metadata": {},
     "output_type": "display_data"
    },
    {
     "name": "stderr",
     "output_type": "stream",
     "text": [
      "Monitored metric val_loss did not improve in the last 5 records. Best score: 0.047. Signaling Trainer to stop.\n",
      "LOCAL_RANK: 0 - CUDA_VISIBLE_DEVICES: [0,1]\n",
      "\n",
      "  | Name  | Type     | Params\n",
      "-----------------------------------\n",
      "0 | model | MnistRNN | 448 K \n",
      "1 | loss  | CPDLoss  | 0     \n",
      "-----------------------------------\n",
      "448 K     Trainable params\n",
      "0         Non-trainable params\n",
      "448 K     Total params\n",
      "1.793     Total estimated model params size (MB)\n"
     ]
    },
    {
     "data": {
      "application/vnd.jupyter.widget-view+json": {
       "model_id": "",
       "version_major": 2,
       "version_minor": 0
      },
      "text/plain": [
       "Validation sanity check: 0it [00:00, ?it/s]"
      ]
     },
     "metadata": {},
     "output_type": "display_data"
    },
    {
     "data": {
      "application/vnd.jupyter.widget-view+json": {
       "model_id": "6dfd483bd9034551b7b5167a2cfb9c4b",
       "version_major": 2,
       "version_minor": 0
      },
      "text/plain": [
       "Training: 0it [00:00, ?it/s]"
      ]
     },
     "metadata": {},
     "output_type": "display_data"
    },
    {
     "data": {
      "application/vnd.jupyter.widget-view+json": {
       "model_id": "",
       "version_major": 2,
       "version_minor": 0
      },
      "text/plain": [
       "Validating: 0it [00:00, ?it/s]"
      ]
     },
     "metadata": {},
     "output_type": "display_data"
    },
    {
     "name": "stderr",
     "output_type": "stream",
     "text": [
      "Metric val_loss improved by 40.374 >= min_delta = 0.0. New best score: -40.328\n"
     ]
    },
    {
     "data": {
      "application/vnd.jupyter.widget-view+json": {
       "model_id": "",
       "version_major": 2,
       "version_minor": 0
      },
      "text/plain": [
       "Validating: 0it [00:00, ?it/s]"
      ]
     },
     "metadata": {},
     "output_type": "display_data"
    },
    {
     "data": {
      "application/vnd.jupyter.widget-view+json": {
       "model_id": "",
       "version_major": 2,
       "version_minor": 0
      },
      "text/plain": [
       "Validating: 0it [00:00, ?it/s]"
      ]
     },
     "metadata": {},
     "output_type": "display_data"
    },
    {
     "data": {
      "application/vnd.jupyter.widget-view+json": {
       "model_id": "",
       "version_major": 2,
       "version_minor": 0
      },
      "text/plain": [
       "Validating: 0it [00:00, ?it/s]"
      ]
     },
     "metadata": {},
     "output_type": "display_data"
    },
    {
     "name": "stderr",
     "output_type": "stream",
     "text": [
      "Metric val_loss improved by 0.070 >= min_delta = 0.0. New best score: -40.398\n"
     ]
    },
    {
     "data": {
      "application/vnd.jupyter.widget-view+json": {
       "model_id": "",
       "version_major": 2,
       "version_minor": 0
      },
      "text/plain": [
       "Validating: 0it [00:00, ?it/s]"
      ]
     },
     "metadata": {},
     "output_type": "display_data"
    },
    {
     "data": {
      "application/vnd.jupyter.widget-view+json": {
       "model_id": "",
       "version_major": 2,
       "version_minor": 0
      },
      "text/plain": [
       "Validating: 0it [00:00, ?it/s]"
      ]
     },
     "metadata": {},
     "output_type": "display_data"
    },
    {
     "data": {
      "application/vnd.jupyter.widget-view+json": {
       "model_id": "",
       "version_major": 2,
       "version_minor": 0
      },
      "text/plain": [
       "Validating: 0it [00:00, ?it/s]"
      ]
     },
     "metadata": {},
     "output_type": "display_data"
    },
    {
     "data": {
      "application/vnd.jupyter.widget-view+json": {
       "model_id": "",
       "version_major": 2,
       "version_minor": 0
      },
      "text/plain": [
       "Validating: 0it [00:00, ?it/s]"
      ]
     },
     "metadata": {},
     "output_type": "display_data"
    },
    {
     "data": {
      "application/vnd.jupyter.widget-view+json": {
       "model_id": "",
       "version_major": 2,
       "version_minor": 0
      },
      "text/plain": [
       "Validating: 0it [00:00, ?it/s]"
      ]
     },
     "metadata": {},
     "output_type": "display_data"
    },
    {
     "name": "stderr",
     "output_type": "stream",
     "text": [
      "Monitored metric val_loss did not improve in the last 5 records. Best score: -40.398. Signaling Trainer to stop.\n"
     ]
    }
   ],
   "source": [
    "trainer_1.fit(combined_model_1)\n",
    "trainer_2.fit(combined_model_2)"
   ]
  },
  {
   "cell_type": "markdown",
   "metadata": {},
   "source": [
    "# ZERO Baseline"
   ]
  },
  {
   "cell_type": "code",
   "execution_count": 35,
   "metadata": {},
   "outputs": [],
   "source": [
    "class ZeroBaseline(nn.Module):\n",
    "\n",
    "    def __init__(self, device):\n",
    "        super().__init__()\n",
    "        self.device = device\n",
    "        pass\n",
    "\n",
    "    def forward(self, inputs):\n",
    "        batch_size, seq_len = inputs.size()[:2]\n",
    "        out = torch.zeros((batch_size, seq_len, 1))\n",
    "        return out"
   ]
  },
  {
   "cell_type": "code",
   "execution_count": 36,
   "metadata": {},
   "outputs": [],
   "source": [
    "zero_model = ZeroBaseline(device='cuda')"
   ]
  },
  {
   "cell_type": "markdown",
   "metadata": {},
   "source": [
    "# L2 Baselines"
   ]
  },
  {
   "cell_type": "code",
   "execution_count": 201,
   "metadata": {},
   "outputs": [],
   "source": [
    "class L2Baseline(nn.Module):\n",
    "\n",
    "    def __init__(self, l2_type, device):\n",
    "        super().__init__()\n",
    "        self.device = device\n",
    "        self.type = l2_type\n",
    "\n",
    "    def forward(self, inputs):\n",
    "        batch_size, seq_len = inputs.size()[:2]\n",
    "        batch_size, seq_len = inputs.size()[:2]\n",
    "        l2_dist = []\n",
    "        for seq in inputs:\n",
    "            seq = seq.float().to('cuda')\n",
    "            if self.type == \"one_by_one\":\n",
    "                curr_l2_dist = [0] + [((x - y)**2).sum().item() for x, y in zip(seq[1:], seq[:-1])]   \n",
    "            elif self.type == \"vs_first\":\n",
    "                curr_l2_dist = [0] + [((x - seq[0])**2).sum().item() for x in seq[1:]]\n",
    "            elif self.type == \"vs_mean\":\n",
    "                mean_seq = torch.mean(seq, 0)\n",
    "                curr_l2_dist = [0] + [((x - mean_seq)**2).sum().item() for x in seq[1:]]\n",
    "            curr_l2_dist = np.array(curr_l2_dist) / max(curr_l2_dist)\n",
    "            l2_dist.append(curr_l2_dist)\n",
    "        l2_dist = torch.from_numpy(np.array(l2_dist))\n",
    "        return l2_dist"
   ]
  },
  {
   "cell_type": "markdown",
   "metadata": {},
   "source": [
    "## choose threshold for l2 model"
   ]
  },
  {
   "cell_type": "code",
   "execution_count": 220,
   "metadata": {},
   "outputs": [],
   "source": [
    "l2_model = L2Baseline(l2_type=\"one_by_one\", device='cuda')\n",
    "threshold_l2 = np.linspace(0, 1, 101)"
   ]
  },
  {
   "cell_type": "code",
   "execution_count": 221,
   "metadata": {},
   "outputs": [],
   "source": [
    "(_, _, delay_list_l2, fp_delay_list_l2) = metrics.get_pareto_metrics_for_threshold(l2_model, \n",
    "                                                                                   cpd_model.test_dataloader(), \n",
    "                                                                                   threshold_l2, \n",
    "                                                                                   device='cuda',\n",
    "                                                                                   verbose=False, \n",
    "                                                                                   baseline=False)      "
   ]
  },
  {
   "cell_type": "code",
   "execution_count": 222,
   "metadata": {},
   "outputs": [],
   "source": [
    "res_dict = {}\n",
    "for i, th in enumerate(threshold_l2):\n",
    "    res_dict[round(th,2)] = (delay_list_l2[i], fp_delay_list_l2[i])"
   ]
  },
  {
   "cell_type": "code",
   "execution_count": 223,
   "metadata": {},
   "outputs": [
    {
     "data": {
      "text/plain": [
       "{0.0: (0.0, 1.0),\n",
       " 0.01: (0.0, 2.1433333333333335),\n",
       " 0.02: (0.0, 3.06),\n",
       " 0.03: (0.0, 3.74),\n",
       " 0.04: (0.0, 4.36),\n",
       " 0.05: (0.0, 4.89),\n",
       " 0.06: (0.0, 5.163333333333333),\n",
       " 0.07: (0.0, 5.37),\n",
       " 0.08: (0.0, 5.6066666666666665),\n",
       " 0.09: (0.056666666666666664, 5.776666666666666),\n",
       " 0.1: (0.13666666666666666, 6.01),\n",
       " 0.11: (0.13666666666666666, 6.196666666666666),\n",
       " 0.12: (0.13666666666666666, 6.296666666666667),\n",
       " 0.13: (0.13666666666666666, 6.3966666666666665),\n",
       " 0.14: (0.26, 6.773333333333333),\n",
       " 0.15: (0.35333333333333333, 7.02),\n",
       " 0.16: (0.35333333333333333, 7.08),\n",
       " 0.17: (0.35333333333333333, 7.136666666666667),\n",
       " 0.18: (0.35333333333333333, 7.253333333333333),\n",
       " 0.19: (0.35333333333333333, 7.276666666666666),\n",
       " 0.2: (0.41, 7.3933333333333335),\n",
       " 0.21: (0.41, 7.433333333333334),\n",
       " 0.22: (0.41333333333333333, 7.49),\n",
       " 0.23: (0.48333333333333334, 7.656666666666666),\n",
       " 0.24: (0.48333333333333334, 7.756666666666667),\n",
       " 0.25: (0.4866666666666667, 7.83),\n",
       " 0.26: (0.4866666666666667, 7.93),\n",
       " 0.27: (0.5, 8.05),\n",
       " 0.28: (0.5, 8.166666666666666),\n",
       " 0.29: (0.5733333333333334, 8.35),\n",
       " 0.3: (0.5733333333333334, 8.433333333333334),\n",
       " 0.31: (0.5733333333333334, 8.516666666666667),\n",
       " 0.32: (0.5733333333333334, 8.616666666666667),\n",
       " 0.33: (0.5766666666666667, 8.753333333333334),\n",
       " 0.34: (0.5766666666666667, 8.863333333333333),\n",
       " 0.35: (0.6133333333333333, 9.03),\n",
       " 0.36: (0.6166666666666667, 9.166666666666666),\n",
       " 0.37: (0.7366666666666667, 9.463333333333333),\n",
       " 0.38: (0.7366666666666667, 9.62),\n",
       " 0.39: (0.74, 9.796666666666667),\n",
       " 0.4: (0.7433333333333333, 9.943333333333333),\n",
       " 0.41: (0.7433333333333333, 10.096666666666666),\n",
       " 0.42: (0.7433333333333333, 10.273333333333333),\n",
       " 0.43: (0.7433333333333333, 10.483333333333333),\n",
       " 0.44: (0.8033333333333333, 10.71),\n",
       " 0.45: (0.8033333333333333, 10.896666666666667),\n",
       " 0.46: (0.8033333333333333, 11.07),\n",
       " 0.47: (0.8033333333333333, 11.366666666666667),\n",
       " 0.48: (0.8266666666666667, 11.553333333333333),\n",
       " 0.49: (0.8266666666666667, 11.716666666666667),\n",
       " 0.5: (0.8766666666666667, 11.973333333333333),\n",
       " 0.51: (0.8766666666666667, 12.236666666666666),\n",
       " 0.52: (0.8766666666666667, 12.486666666666666),\n",
       " 0.53: (0.9433333333333334, 12.743333333333334),\n",
       " 0.54: (0.9433333333333334, 12.876666666666667),\n",
       " 0.55: (0.9433333333333334, 13.103333333333333),\n",
       " 0.56: (1.0, 13.343333333333334),\n",
       " 0.57: (1.0666666666666667, 13.596666666666666),\n",
       " 0.58: (1.0666666666666667, 13.786666666666667),\n",
       " 0.59: (1.0666666666666667, 14.01),\n",
       " 0.6: (1.07, 14.236666666666666),\n",
       " 0.61: (1.07, 14.496666666666666),\n",
       " 0.62: (1.07, 14.74),\n",
       " 0.63: (1.1533333333333333, 15.096666666666666),\n",
       " 0.64: (1.1533333333333333, 15.436666666666667),\n",
       " 0.65: (1.1533333333333333, 15.656666666666666),\n",
       " 0.66: (1.1533333333333333, 15.84),\n",
       " 0.67: (1.1566666666666667, 16.113333333333333),\n",
       " 0.68: (1.1566666666666667, 16.266666666666666),\n",
       " 0.69: (1.1566666666666667, 16.533333333333335),\n",
       " 0.7: (1.1566666666666667, 16.79),\n",
       " 0.71: (1.19, 17.11),\n",
       " 0.72: (1.19, 17.29),\n",
       " 0.73: (1.19, 17.576666666666668),\n",
       " 0.74: (1.2166666666666666, 17.766666666666666),\n",
       " 0.75: (1.2766666666666666, 18.09),\n",
       " 0.76: (1.2766666666666666, 18.323333333333334),\n",
       " 0.77: (1.2766666666666666, 18.703333333333333),\n",
       " 0.78: (1.2766666666666666, 18.846666666666668),\n",
       " 0.79: (1.34, 19.143333333333334),\n",
       " 0.8: (1.34, 19.313333333333333),\n",
       " 0.81: (1.3566666666666667, 19.623333333333335),\n",
       " 0.82: (1.41, 19.916666666666668),\n",
       " 0.83: (1.4533333333333334, 20.14),\n",
       " 0.84: (1.4533333333333334, 20.46),\n",
       " 0.85: (1.4533333333333334, 20.66),\n",
       " 0.86: (1.5166666666666666, 21.043333333333333),\n",
       " 0.87: (1.5166666666666666, 21.27),\n",
       " 0.88: (1.6, 21.653333333333332),\n",
       " 0.89: (1.6233333333333333, 22.066666666666666),\n",
       " 0.9: (1.6233333333333333, 22.426666666666666),\n",
       " 0.91: (1.64, 22.826666666666668),\n",
       " 0.92: (1.6933333333333334, 23.196666666666665),\n",
       " 0.93: (1.6933333333333334, 23.56),\n",
       " 0.94: (1.6933333333333334, 23.94),\n",
       " 0.95: (1.7766666666666666, 24.373333333333335),\n",
       " 0.96: (1.82, 24.816666666666666),\n",
       " 0.97: (1.82, 25.076666666666668),\n",
       " 0.98: (1.9066666666666667, 25.60333333333333),\n",
       " 0.99: (1.9066666666666667, 25.886666666666667),\n",
       " 1.0: (16.996666666666666, 64.0)}"
      ]
     },
     "execution_count": 223,
     "metadata": {},
     "output_type": "execute_result"
    }
   ],
   "source": [
    "res_dict"
   ]
  },
  {
   "cell_type": "markdown",
   "metadata": {},
   "source": [
    "# Calculate metrics\n",
    "\n",
    "## Detection curve and Area under detection curve"
   ]
  },
  {
   "cell_type": "code",
   "execution_count": 225,
   "metadata": {},
   "outputs": [],
   "source": [
    "threshold_number = 25\n",
    "threshold_list = np.linspace(-15, 15, threshold_number)\n",
    "threshold_list = 1 / (1 + np.exp(-threshold_list))\n",
    "threshold_list = [-0.001] + list(threshold_list) + [1.001]"
   ]
  },
  {
   "cell_type": "code",
   "execution_count": 44,
   "metadata": {},
   "outputs": [],
   "source": [
    "cpd_model.to('cuda')\n",
    "(_, _, delay_list_cpd, fp_delay_list_cpd) = metrics.get_pareto_metrics_for_threshold(cpd_model, \n",
    "                                                                                     cpd_model.test_dataloader(), \n",
    "                                                                                     threshold_list, \n",
    "                                                                                     device='cuda',\n",
    "                                                                                     verbose=False, \n",
    "                                                                                     baseline=False)                                                                                     "
   ]
  },
  {
   "cell_type": "code",
   "execution_count": 45,
   "metadata": {},
   "outputs": [],
   "source": [
    "bce_model.to('cuda')\n",
    "(_, _, delay_list_bce, fp_delay_list_bce) = metrics.get_pareto_metrics_for_threshold(bce_model, \n",
    "                                                                                     cpd_model.test_dataloader(), \n",
    "                                                                                     threshold_list, \n",
    "                                                                                     device='cuda',\n",
    "                                                                                     verbose=False, \n",
    "                                                                                     baseline=False)                                                                                     "
   ]
  },
  {
   "cell_type": "code",
   "execution_count": 46,
   "metadata": {},
   "outputs": [],
   "source": [
    "combined_model_2.to('cuda')\n",
    "(_, _, delay_list_comb, fp_delay_list_comb) = metrics.get_pareto_metrics_for_threshold(combined_model_2, \n",
    "                                                                                       cpd_model.test_dataloader(), \n",
    "                                                                                       threshold_list, \n",
    "                                                                                       device='cuda',\n",
    "                                                                                       verbose=False, \n",
    "                                                                                       baseline=False)                                                                                     "
   ]
  },
  {
   "cell_type": "code",
   "execution_count": 47,
   "metadata": {},
   "outputs": [],
   "source": [
    "combined_model_2.to('cuda')\n",
    "(_, _, delay_list_comb, fp_delay_list_comb) = metrics.get_pareto_metrics_for_threshold(combined_model_2, \n",
    "                                                                                       cpd_model.test_dataloader(), \n",
    "                                                                                       threshold_list, \n",
    "                                                                                       device='cuda',\n",
    "                                                                                       verbose=False, \n",
    "                                                                                       baseline=False)                                                                                     "
   ]
  },
  {
   "cell_type": "code",
   "execution_count": 228,
   "metadata": {},
   "outputs": [
    {
     "name": "stdout",
     "output_type": "stream",
     "text": [
      "ZERO_baseline. Delay Detection 16.996666666666666, Time to False Alarms 64.0\n"
     ]
    }
   ],
   "source": [
    "(_, _, delay_list_zero, fp_delay_list_zero) = metrics.get_pareto_metrics_for_threshold(zero_model, \n",
    "                                                                                       cpd_model.test_dataloader(), \n",
    "                                                                                       [0.5], \n",
    "                                                                                       device='cuda',\n",
    "                                                                                       verbose=False, \n",
    "                                                                                       baseline=False)      \n",
    "\n",
    "print('ZERO_baseline. Delay Detection {}, Time to False Alarms {}'.format(delay_list_zero[0], fp_delay_list_zero[0]))"
   ]
  },
  {
   "cell_type": "code",
   "execution_count": 226,
   "metadata": {},
   "outputs": [],
   "source": [
    "(_, _, delay_list_l2, fp_delay_list_l2) = metrics.get_pareto_metrics_for_threshold(l2_model, \n",
    "                                                                                   cpd_model.test_dataloader(), \n",
    "                                                                                   threshold_list, \n",
    "                                                                                   device='cuda',\n",
    "                                                                                   verbose=False, \n",
    "                                                                                   baseline=False)      "
   ]
  },
  {
   "cell_type": "code",
   "execution_count": 229,
   "metadata": {},
   "outputs": [
    {
     "data": {
      "image/png": "[encoded data removed]",
      "text/plain": [
       "<Figure size 864x864 with 1 Axes>"
      ]
     },
     "metadata": {
      "needs_background": "light"
     },
     "output_type": "display_data"
    }
   ],
   "source": [
    "plt.figure(figsize=(12, 12))\n",
    "plt.plot(fp_delay_list_cpd, delay_list_cpd, '-o', markersize=4, label='CPD (ours)')\n",
    "plt.plot(fp_delay_list_bce, delay_list_bce, '-o', markersize=4, label='BCE')\n",
    "plt.plot(fp_delay_list_comb, delay_list_comb, '-o', markersize=4, label='Combined (ours)')\n",
    "plt.plot(fp_delay_list_zero, delay_list_zero, '-o', markersize=8, label='ZERO')\n",
    "plt.plot(fp_delay_list_l2, delay_list_l2, '-o', markersize=4, label='L2')\n",
    "\n",
    "plt.xlabel('Mean Time to False Alarm', fontsize=28)\n",
    "plt.ylabel('Mean Detection Delay', fontsize=28)\n",
    "plt.xticks(fontsize=24)\n",
    "plt.yticks(fontsize=24)\n",
    "plt.legend(loc='upper left', fontsize=26);"
   ]
  },
  {
   "cell_type": "code",
   "execution_count": 50,
   "metadata": {},
   "outputs": [
    {
     "name": "stdout",
     "output_type": "stream",
     "text": [
      "CPD AUC: 171.05335555555558\n",
      "BCE AUC: 205.31881666666666\n",
      "COMB AUC: 181.42049999999998\n"
     ]
    }
   ],
   "source": [
    "print('CPD AUC:', metrics.area_under_graph(delay_list_cpd, fp_delay_list_cpd))\n",
    "print('BCE AUC:', metrics.area_under_graph(delay_list_bce, fp_delay_list_bce))\n",
    "print('COMB AUC:', metrics.area_under_graph(delay_list_comb, fp_delay_list_comb))"
   ]
  },
  {
   "cell_type": "markdown",
   "metadata": {},
   "source": [
    "## Cover and F1-score"
   ]
  },
  {
   "cell_type": "code",
   "execution_count": 51,
   "metadata": {},
   "outputs": [],
   "source": [
    "cpd_cover_dict = {}\n",
    "bce_cover_dict = {}\n",
    "comb_cover_dict = {}\n",
    "\n",
    "cpd_model.to('cuda')\n",
    "bce_model.to('cuda')\n",
    "combined_model_2.to('cuda')\n",
    "for th in threshold_list:\n",
    "    cpd_cover_dict[th] = metrics.cover(cpd_model, cpd_model.val_dataloader(), th)\n",
    "    bce_cover_dict[th] = metrics.cover(bce_model, cpd_model.val_dataloader(), th)    \n",
    "    comb_cover_dict[th] = metrics.cover(combined_model_2, cpd_model.val_dataloader(), th)        \n",
    "    \n",
    "zero_cover = metrics.cover(zero_model, cpd_model.val_dataloader(), 0.5)            "
   ]
  },
  {
   "cell_type": "code",
   "execution_count": 60,
   "metadata": {},
   "outputs": [
    {
     "name": "stdout",
     "output_type": "stream",
     "text": [
      "BCE max COVER 0.9635: for threshold 0.9980732653366725:\n",
      "CPD max COVER 0.9786: for threshold 0.5:\n",
      "COMB max COVER 0.9758: for threshold 0.9770226300899744:\n",
      "ZERO COVER 0.7344:\n"
     ]
    }
   ],
   "source": [
    "metrics_dict = cpd_cover_dict\n",
    "print('BCE max COVER {}: for threshold {}:'.format(round(metrics_dict[max(metrics_dict, key=metrics_dict.get)], 4), \n",
    "                                               max(metrics_dict, key=metrics_dict.get)))\n",
    "\n",
    "metrics_dict = bce_cover_dict\n",
    "print('CPD max COVER {}: for threshold {}:'.format(round(metrics_dict[max(metrics_dict, key=metrics_dict.get)], 4), \n",
    "                                               max(metrics_dict, key=metrics_dict.get)))\n",
    "\n",
    "metrics_dict = comb_cover_dict\n",
    "print('COMB max COVER {}: for threshold {}:'.format(round(metrics_dict[max(metrics_dict, key=metrics_dict.get)], 4), \n",
    "                                               max(metrics_dict, key=metrics_dict.get)))\n",
    "\n",
    "\n",
    "print('ZERO COVER {}:'.format(round(zero_cover, 4)))"
   ]
  },
  {
   "cell_type": "code",
   "execution_count": 62,
   "metadata": {},
   "outputs": [],
   "source": [
    "cpd_f1_dict = {}\n",
    "bce_f1_dict = {}\n",
    "comb_f1_dict = {}\n",
    "\n",
    "cpd_model.to('cuda')\n",
    "bce_model.to('cuda')\n",
    "for th in threshold_list:\n",
    "    cpd_f1_dict[th] = metrics.F1_score(cpd_model, cpd_model.val_dataloader(), th)\n",
    "    bce_f1_dict[th] = metrics.F1_score(bce_model, cpd_model.val_dataloader(), th)    \n",
    "    comb_f1_dict[th] = metrics.F1_score(combined_model_2, cpd_model.val_dataloader(), th)   \n",
    "    \n",
    "zero_f1 = metrics.F1_score(zero_model, cpd_model.val_dataloader(), 0.5)                "
   ]
  },
  {
   "cell_type": "code",
   "execution_count": 63,
   "metadata": {},
   "outputs": [
    {
     "name": "stdout",
     "output_type": "stream",
     "text": [
      "CPD max F1 0.9627: for threshold 0.9999962733607158:\n",
      "BCE max F1 1.0: for threshold 0.9980732653366725:\n",
      "COMB max F1 0.9928: for threshold 0.9999989322971299:\n",
      "ZERO F1 0.0:\n"
     ]
    }
   ],
   "source": [
    "metrics_dict = cpd_f1_dict\n",
    "print('CPD max F1 {}: for threshold {}:'.format(round(metrics_dict[max(metrics_dict, key=metrics_dict.get)], 4), \n",
    "                                               max(metrics_dict, key=metrics_dict.get)))\n",
    "\n",
    "metrics_dict = bce_f1_dict\n",
    "print('BCE max F1 {}: for threshold {}:'.format(round(metrics_dict[max(metrics_dict, key=metrics_dict.get)], 4), \n",
    "                                               max(metrics_dict, key=metrics_dict.get)))\n",
    "\n",
    "metrics_dict = comb_f1_dict\n",
    "print('COMB max F1 {}: for threshold {}:'.format(round(metrics_dict[max(metrics_dict, key=metrics_dict.get)], 4), \n",
    "                                               max(metrics_dict, key=metrics_dict.get)))\n",
    "\n",
    "print('ZERO F1 {}:'.format(round(zero_f1, 4)))"
   ]
  },
  {
   "cell_type": "markdown",
   "metadata": {},
   "source": [
    "# BASELINES"
   ]
  },
  {
   "cell_type": "code",
   "execution_count": 35,
   "metadata": {},
   "outputs": [],
   "source": [
    "def evaluate_cpd(all_labels, all_preds):\n",
    "    fp_number = 0\n",
    "    fn_number = 0\n",
    "    tp_number = 0\n",
    "    tn_number = 0\n",
    "    delay = []\n",
    "    fp_delay = []\n",
    "\n",
    "    for label, output in zip(all_labels, all_preds):\n",
    "        output = torch.from_numpy(output)\n",
    "        (\n",
    "            tp_cur,\n",
    "            tn_cur,\n",
    "            fn_cur,\n",
    "            fp_cur,\n",
    "            delay_curr,\n",
    "            fp_delay_curr,\n",
    "        ) = metrics.evaluate_metrics(label, output, 0.5)\n",
    "\n",
    "        tp_number += tp_cur\n",
    "        fp_number += fp_cur\n",
    "        tn_number += tn_cur\n",
    "        fn_number += fn_cur\n",
    "\n",
    "        delay.append(delay_curr)\n",
    "        fp_delay.append(fp_delay_curr)\n",
    "        \n",
    "        confusion_matrix = (tp_number, fp_number, tn_number, fn_number)\n",
    "    return confusion_matrix, np.mean(delay), np.mean(fp_delay)"
   ]
  },
  {
   "cell_type": "code",
   "execution_count": 138,
   "metadata": {},
   "outputs": [],
   "source": [
    "# (n_samples, n_dims)\n",
    "\n",
    "import ruptures as rpt  # our package\n",
    "\n",
    "def evaluate_baseline(dataloader, baseline_model, pen=None, n_pred=None):\n",
    "    all_predictions = []\n",
    "    all_labels = []\n",
    "    for inputs, labels in dataloader:\n",
    "        for i, seq in enumerate(inputs):\n",
    "            signal = seq.flatten(1, 2).detach().numpy()\n",
    "            label = labels[i]            \n",
    "            algo = baseline_model.fit(signal)\n",
    "            if pen:\n",
    "                cp_pred = algo.predict(pen=pen)\n",
    "            elif n_pred:\n",
    "                cp_pred = algo.predict(n_pred)                \n",
    "            cp_pred = cp_pred[0]\n",
    "            baselines_pred = np.zeros(inputs.shape[1])\n",
    "            baselines_pred[cp_pred:] = np.ones(inputs.shape[1] - cp_pred)        \n",
    "            all_predictions.append(baselines_pred)\n",
    "            all_labels.append(label)\n",
    "    return all_predictions, all_labels"
   ]
  },
  {
   "cell_type": "markdown",
   "metadata": {},
   "source": [
    "# KernelCPD"
   ]
  },
  {
   "cell_type": "code",
   "execution_count": 141,
   "metadata": {},
   "outputs": [],
   "source": [
    "#penalties = np.arange(0.1, 10, 0.1) - везде delay, FP_delay (0.0, 2.1)\n",
    "#penalties = np.arange(0.1, 1, 0.1) * 10**7 \n",
    "penalties = np.arange(0.9, 1, 0.01) * 10**7 \n",
    "# ЛУЧШИЙ РЕЗУЛЬТАТ ДЛЯ ПОРОГА 0.98 * 10**7 \n",
    "# linear, rbf, cosine CONF_MATRIX: (62, 218, 19, 1), FP_DELAY: 0.787, DELAY: 25.053\n",
    "# РЕЗУЛЬТАТ ДЛЯ N_PRED = 1\n",
    "# CONF_MATRIX: (99, 201, 0, 0), FP_DELAY: 26.466666666666665, DELAY: 2.3766666666666665\n",
    "\n",
    "models = ['linear', 'rbf', 'cosine']"
   ]
  },
  {
   "cell_type": "code",
   "execution_count": 144,
   "metadata": {},
   "outputs": [
    {
     "name": "stdout",
     "output_type": "stream",
     "text": [
      "RESULT for 9000000.0. CONF_MATRIX: (58, 224, 17, 1), FP_DELAY: 24.583333333333332, DELAY: 0.6766666666666666\n",
      "RESULT for 9100000.0. CONF_MATRIX: (58, 224, 17, 1), FP_DELAY: 24.583333333333332, DELAY: 0.6766666666666666\n",
      "RESULT for 9200000.0. CONF_MATRIX: (59, 222, 18, 1), FP_DELAY: 24.76, DELAY: 0.6766666666666666\n",
      "RESULT for 9300000.0. CONF_MATRIX: (60, 221, 18, 1), FP_DELAY: 24.82, DELAY: 0.6766666666666666\n",
      "RESULT for 9400000.0. CONF_MATRIX: (60, 221, 18, 1), FP_DELAY: 24.856666666666666, DELAY: 0.6766666666666666\n",
      "RESULT for 9500000.0. CONF_MATRIX: (60, 221, 18, 1), FP_DELAY: 24.856666666666666, DELAY: 0.6766666666666666\n",
      "RESULT for 9600000.0. CONF_MATRIX: (60, 221, 18, 1), FP_DELAY: 24.856666666666666, DELAY: 0.6766666666666666\n",
      "RESULT for 9700000.0. CONF_MATRIX: (62, 219, 18, 1), FP_DELAY: 24.95, DELAY: 0.68\n",
      "RESULT for 9800000.0. CONF_MATRIX: (62, 218, 19, 1), FP_DELAY: 25.053333333333335, DELAY: 0.7866666666666666\n",
      "RESULT for 9900000.0. CONF_MATRIX: (62, 218, 19, 1), FP_DELAY: 25.053333333333335, DELAY: 0.7866666666666666\n"
     ]
    }
   ],
   "source": [
    "penalties = np.arange(0.9, 1, 0.01) * 10**7 # pen для которых результаты разумны\n",
    "#меньше предсказывает всегда 1, больше - 64\n",
    "baseline_model = rpt.KernelCPD(kernel='linear')\n",
    "for pen in penalties:\n",
    "    predictions, labels = evaluate_baseline(cpd_model.test_dataloader(), baseline_model, pen)\n",
    "    confusion_matrix, delay, fp_delay = evaluate_cpd(labels, predictions)\n",
    "    key = str(round(pen, 1))\n",
    "    res_dict[key] = confusion_matrix, delay, fp_delay \n",
    "\n",
    "    print('RESULT for {}. CONF_MATRIX: {}, FP_DELAY: {}, DELAY: {}'.format(key, confusion_matrix, fp_delay, delay))"
   ]
  },
  {
   "cell_type": "code",
   "execution_count": 149,
   "metadata": {},
   "outputs": [
    {
     "name": "stdout",
     "output_type": "stream",
     "text": [
      "RESULT for n_pred_1. CONF_MATRIX: (99, 201, 0, 0), FP_DELAY: 26.466666666666665, DELAY: 2.3766666666666665\n"
     ]
    }
   ],
   "source": [
    "baseline_model = rpt.KernelCPD(kernel='linear')\n",
    "predictions, labels = evaluate_baseline(cpd_model.test_dataloader(), baseline_model, n_pred=1)\n",
    "confusion_matrix, delay, fp_delay = evaluate_cpd(labels, predictions)\n",
    "key = 'n_pred_1'\n",
    "print('RESULT for {}. CONF_MATRIX: {}, FP_DELAY: {}, DELAY: {}'.format(key, confusion_matrix, fp_delay, delay))"
   ]
  },
  {
   "cell_type": "code",
   "execution_count": 148,
   "metadata": {},
   "outputs": [
    {
     "name": "stdout",
     "output_type": "stream",
     "text": [
      "RESULT for 1.0. CONF_MATRIX: (8, 292, 0, 0), FP_DELAY: 9.443333333333333, DELAY: 0.0\n",
      "RESULT for 2.0. CONF_MATRIX: (29, 271, 0, 0), FP_DELAY: 12.316666666666666, DELAY: 0.023333333333333334\n",
      "RESULT for 3.0. CONF_MATRIX: (48, 252, 0, 0), FP_DELAY: 14.81, DELAY: 0.29333333333333333\n",
      "RESULT for 4.0. CONF_MATRIX: (60, 240, 0, 0), FP_DELAY: 16.886666666666667, DELAY: 0.6133333333333333\n",
      "RESULT for 5.0. CONF_MATRIX: (75, 225, 0, 0), FP_DELAY: 18.63, DELAY: 1.2866666666666666\n",
      "RESULT for 6.0. CONF_MATRIX: (84, 216, 0, 0), FP_DELAY: 20.026666666666667, DELAY: 1.6966666666666668\n",
      "RESULT for 7.0. CONF_MATRIX: (98, 201, 1, 0), FP_DELAY: 22.223333333333333, DELAY: 2.2333333333333334\n",
      "RESULT for 8.0. CONF_MATRIX: (107, 192, 1, 0), FP_DELAY: 24.15, DELAY: 3.07\n",
      "RESULT for 9.0. CONF_MATRIX: (112, 185, 2, 1), FP_DELAY: 25.906666666666666, DELAY: 3.9266666666666667\n",
      "RESULT for 10. CONF_MATRIX: (108, 176, 6, 10), FP_DELAY: 28.336666666666666, DELAY: 6.08\n",
      "RESULT for 11. CONF_MATRIX: (91, 165, 10, 34), FP_DELAY: 32.45666666666666, DELAY: 9.3\n",
      "RESULT for 12. CONF_MATRIX: (62, 148, 18, 72), FP_DELAY: 38.44, DELAY: 13.04\n",
      "RESULT for 13. CONF_MATRIX: (36, 134, 23, 107), FP_DELAY: 43.73, DELAY: 16.48\n",
      "RESULT for 14. CONF_MATRIX: (20, 117, 33, 130), FP_DELAY: 48.013333333333335, DELAY: 18.716666666666665\n",
      "RESULT for 15. CONF_MATRIX: (12, 102, 45, 141), FP_DELAY: 50.82, DELAY: 19.83\n",
      "RESULT for 16. CONF_MATRIX: (5, 77, 68, 150), FP_DELAY: 54.843333333333334, DELAY: 20.736666666666668\n",
      "RESULT for 17. CONF_MATRIX: (1, 47, 98, 154), FP_DELAY: 58.696666666666665, DELAY: 21.136666666666667\n",
      "RESULT for 18. CONF_MATRIX: (0, 8, 137, 155), FP_DELAY: 63.11666666666667, DELAY: 21.233333333333334\n",
      "RESULT for 19. CONF_MATRIX: (0, 0, 145, 155), FP_DELAY: 64.0, DELAY: 21.233333333333334\n"
     ]
    }
   ],
   "source": [
    "penalties = list(np.arange(0.1, 1, 0.1)*10) # pen для которых результаты разумны\n",
    "penalties = penalties + list(np.arange(10, 20, 1)) # pen для которых результаты разумны\n",
    "\n",
    "baseline_model = rpt.KernelCPD(kernel='rbf')\n",
    "for pen in penalties:\n",
    "    predictions, labels = evaluate_baseline(cpd_model.test_dataloader(), baseline_model, pen)\n",
    "    confusion_matrix, delay, fp_delay = evaluate_cpd(labels, predictions)\n",
    "    key = str(round(pen, 1))\n",
    "    res_dict[key] = confusion_matrix, delay, fp_delay \n",
    "\n",
    "    print('RESULT for {}. CONF_MATRIX: {}, FP_DELAY: {}, DELAY: {}'.format(key, confusion_matrix, fp_delay, delay))"
   ]
  },
  {
   "cell_type": "code",
   "execution_count": 154,
   "metadata": {},
   "outputs": [
    {
     "name": "stdout",
     "output_type": "stream",
     "text": [
      "RESULT for 8.0. CONF_MATRIX: (107, 192, 1, 0), FP_DELAY: 24.15, DELAY: 3.07\n",
      "RESULT for 8.1. CONF_MATRIX: (108, 191, 1, 0), FP_DELAY: 24.343333333333334, DELAY: 3.1566666666666667\n",
      "RESULT for 8.2. CONF_MATRIX: (109, 190, 1, 0), FP_DELAY: 24.42, DELAY: 3.236666666666667\n",
      "RESULT for 8.3. CONF_MATRIX: (109, 190, 1, 0), FP_DELAY: 24.47, DELAY: 3.4166666666666665\n",
      "RESULT for 8.4. CONF_MATRIX: (108, 191, 1, 0), FP_DELAY: 24.673333333333332, DELAY: 3.59\n",
      "RESULT for 8.5. CONF_MATRIX: (109, 190, 1, 0), FP_DELAY: 24.813333333333333, DELAY: 3.5966666666666667\n",
      "RESULT for 8.6. CONF_MATRIX: (109, 190, 1, 0), FP_DELAY: 24.95, DELAY: 3.683333333333333\n",
      "RESULT for 8.7. CONF_MATRIX: (111, 188, 1, 0), FP_DELAY: 25.096666666666668, DELAY: 3.6866666666666665\n",
      "RESULT for 8.8. CONF_MATRIX: (113, 185, 2, 0), FP_DELAY: 25.386666666666667, DELAY: 3.8066666666666666\n",
      "RESULT for 8.9. CONF_MATRIX: (112, 186, 2, 0), FP_DELAY: 25.563333333333333, DELAY: 3.8066666666666666\n",
      "RESULT for 9.0. CONF_MATRIX: (112, 185, 2, 1), FP_DELAY: 25.906666666666666, DELAY: 3.9266666666666667\n",
      "RESULT for 9.1. CONF_MATRIX: (112, 184, 3, 1), FP_DELAY: 26.013333333333332, DELAY: 4.0\n",
      "RESULT for 9.2. CONF_MATRIX: (113, 183, 3, 1), FP_DELAY: 26.04, DELAY: 4.366666666666666\n",
      "RESULT for 9.3. CONF_MATRIX: (112, 181, 4, 3), FP_DELAY: 26.616666666666667, DELAY: 4.743333333333333\n",
      "RESULT for 9.4. CONF_MATRIX: (112, 180, 5, 3), FP_DELAY: 26.80666666666667, DELAY: 4.75\n",
      "RESULT for 9.5. CONF_MATRIX: (112, 178, 6, 4), FP_DELAY: 27.23, DELAY: 5.016666666666667\n",
      "RESULT for 9.6. CONF_MATRIX: (110, 179, 6, 5), FP_DELAY: 27.35, DELAY: 5.136666666666667\n",
      "RESULT for 9.7. CONF_MATRIX: (110, 179, 6, 5), FP_DELAY: 27.466666666666665, DELAY: 5.203333333333333\n",
      "RESULT for 9.8. CONF_MATRIX: (110, 178, 6, 6), FP_DELAY: 27.69333333333333, DELAY: 5.36\n",
      "RESULT for 9.9. CONF_MATRIX: (109, 176, 6, 9), FP_DELAY: 28.14, DELAY: 5.6433333333333335\n"
     ]
    }
   ],
   "source": [
    "penalties = list(np.arange(8, 10, 0.1)) # pen для которых результаты разумны\n",
    "\n",
    "baseline_model = rpt.KernelCPD(kernel='rbf')\n",
    "for pen in penalties:\n",
    "    predictions, labels = evaluate_baseline(cpd_model.test_dataloader(), baseline_model, pen)\n",
    "    confusion_matrix, delay, fp_delay = evaluate_cpd(labels, predictions)\n",
    "    key = str(round(pen, 1))\n",
    "    res_dict[key] = confusion_matrix, delay, fp_delay \n",
    "\n",
    "    print('RESULT for {}. CONF_MATRIX: {}, FP_DELAY: {}, DELAY: {}'.format(key, confusion_matrix, fp_delay, delay))"
   ]
  },
  {
   "cell_type": "code",
   "execution_count": 151,
   "metadata": {},
   "outputs": [
    {
     "name": "stdout",
     "output_type": "stream",
     "text": [
      "RESULT for n_pred_1. CONF_MATRIX: (115, 185, 0, 0), FP_DELAY: 26.60333333333333, DELAY: 5.753333333333333\n"
     ]
    }
   ],
   "source": [
    "baseline_model = rpt.KernelCPD(kernel='rbf')\n",
    "predictions, labels = evaluate_baseline(cpd_model.test_dataloader(), baseline_model, n_pred=1)\n",
    "confusion_matrix, delay, fp_delay = evaluate_cpd(labels, predictions)\n",
    "key = 'n_pred_1'\n",
    "print('RESULT for {}. CONF_MATRIX: {}, FP_DELAY: {}, DELAY: {}'.format(key, confusion_matrix, fp_delay, delay))"
   ]
  },
  {
   "cell_type": "code",
   "execution_count": 158,
   "metadata": {},
   "outputs": [
    {
     "name": "stdout",
     "output_type": "stream",
     "text": [
      "RESULT for 3.0. CONF_MATRIX: (72, 190, 34, 4), FP_DELAY: 28.64666666666667, DELAY: 1.73\n",
      "RESULT for 3.1. CONF_MATRIX: (75, 187, 34, 4), FP_DELAY: 28.873333333333335, DELAY: 1.8366666666666667\n",
      "RESULT for 3.2. CONF_MATRIX: (76, 184, 35, 5), FP_DELAY: 29.386666666666667, DELAY: 1.93\n",
      "RESULT for 3.3. CONF_MATRIX: (76, 179, 39, 6), FP_DELAY: 30.093333333333334, DELAY: 2.1266666666666665\n",
      "RESULT for 3.4. CONF_MATRIX: (77, 174, 43, 6), FP_DELAY: 30.60333333333333, DELAY: 2.1366666666666667\n",
      "RESULT for 3.5. CONF_MATRIX: (76, 170, 47, 7), FP_DELAY: 31.303333333333335, DELAY: 2.243333333333333\n",
      "RESULT for 3.6. CONF_MATRIX: (78, 163, 51, 8), FP_DELAY: 32.18666666666667, DELAY: 2.4366666666666665\n",
      "RESULT for 3.7. CONF_MATRIX: (77, 162, 51, 10), FP_DELAY: 32.60666666666667, DELAY: 2.7866666666666666\n",
      "RESULT for 3.8. CONF_MATRIX: (76, 162, 51, 11), FP_DELAY: 32.85666666666667, DELAY: 2.8866666666666667\n",
      "RESULT for 3.9. CONF_MATRIX: (76, 159, 53, 12), FP_DELAY: 33.403333333333336, DELAY: 3.1966666666666668\n",
      "RESULT for 4.0. CONF_MATRIX: (76, 157, 54, 13), FP_DELAY: 33.70333333333333, DELAY: 3.3833333333333333\n",
      "RESULT for 4.1. CONF_MATRIX: (76, 155, 56, 13), FP_DELAY: 33.99333333333333, DELAY: 3.3866666666666667\n",
      "RESULT for 4.2. CONF_MATRIX: (76, 154, 57, 13), FP_DELAY: 34.10666666666667, DELAY: 3.4033333333333333\n",
      "RESULT for 4.3. CONF_MATRIX: (76, 152, 59, 13), FP_DELAY: 34.31333333333333, DELAY: 3.41\n",
      "RESULT for 4.4. CONF_MATRIX: (76, 150, 60, 14), FP_DELAY: 34.67666666666667, DELAY: 3.6966666666666668\n",
      "RESULT for 4.5. CONF_MATRIX: (77, 148, 60, 15), FP_DELAY: 34.973333333333336, DELAY: 3.776666666666667\n",
      "RESULT for 4.6. CONF_MATRIX: (77, 145, 62, 16), FP_DELAY: 35.48, DELAY: 3.8866666666666667\n",
      "RESULT for 4.7. CONF_MATRIX: (77, 137, 69, 17), FP_DELAY: 36.41, DELAY: 3.95\n",
      "RESULT for 4.8. CONF_MATRIX: (77, 135, 71, 17), FP_DELAY: 36.62, DELAY: 3.95\n",
      "RESULT for 4.9. CONF_MATRIX: (77, 130, 75, 18), FP_DELAY: 37.2, DELAY: 4.116666666666666\n"
     ]
    }
   ],
   "source": [
    "penalties = list(np.arange(3, 5, 0.1)) # pen для которых результаты разумны\n",
    "\n",
    "baseline_model = rpt.KernelCPD(kernel='cosine')\n",
    "for pen in penalties:\n",
    "    predictions, labels = evaluate_baseline(cpd_model.test_dataloader(), baseline_model, pen)\n",
    "    confusion_matrix, delay, fp_delay = evaluate_cpd(labels, predictions)\n",
    "    key = str(round(pen, 1))\n",
    "    res_dict[key] = confusion_matrix, delay, fp_delay \n",
    "\n",
    "    print('RESULT for {}. CONF_MATRIX: {}, FP_DELAY: {}, DELAY: {}'.format(key, confusion_matrix, fp_delay, delay))"
   ]
  },
  {
   "cell_type": "code",
   "execution_count": 159,
   "metadata": {},
   "outputs": [
    {
     "name": "stdout",
     "output_type": "stream",
     "text": [
      "RESULT for n_pred_1. CONF_MATRIX: (98, 202, 0, 0), FP_DELAY: 26.373333333333335, DELAY: 2.433333333333333\n"
     ]
    }
   ],
   "source": [
    "baseline_model = rpt.KernelCPD(kernel='cosine')\n",
    "predictions, labels = evaluate_baseline(cpd_model.test_dataloader(), baseline_model, n_pred=1)\n",
    "confusion_matrix, delay, fp_delay = evaluate_cpd(labels, predictions)\n",
    "key = 'n_pred_1'\n",
    "print('RESULT for {}. CONF_MATRIX: {}, FP_DELAY: {}, DELAY: {}'.format(key, confusion_matrix, fp_delay, delay))"
   ]
  },
  {
   "cell_type": "markdown",
   "metadata": {},
   "source": [
    "# Dynamic Programm"
   ]
  },
  {
   "cell_type": "code",
   "execution_count": 162,
   "metadata": {},
   "outputs": [
    {
     "name": "stdout",
     "output_type": "stream",
     "text": [
      "RESULT for n_pred_1. CONF_MATRIX: (91, 209, 0, 0), FP_DELAY: 26.14, DELAY: 3.71\n"
     ]
    }
   ],
   "source": [
    "res_dict = {}\n",
    "model = \"l1\"\n",
    "baseline_model = rpt.Dynp(model=model)\n",
    "predictions, labels = evaluate_baseline(cpd_model.test_dataloader(), baseline_model, n_pred=1)\n",
    "confusion_matrix, delay, fp_delay = evaluate_cpd(labels, predictions)\n",
    "key = 'n_pred_1'\n",
    "print('RESULT for {}. CONF_MATRIX: {}, FP_DELAY: {}, DELAY: {}'.format(key, confusion_matrix, fp_delay, delay))"
   ]
  },
  {
   "cell_type": "code",
   "execution_count": 163,
   "metadata": {},
   "outputs": [
    {
     "name": "stdout",
     "output_type": "stream",
     "text": [
      "RESULT for n_pred_1. CONF_MATRIX: (91, 209, 0, 0), FP_DELAY: 26.37, DELAY: 2.63\n"
     ]
    }
   ],
   "source": [
    "res_dict = {}\n",
    "model = \"l2\"\n",
    "baseline_model = rpt.Dynp(model=model)\n",
    "predictions, labels = evaluate_baseline(cpd_model.test_dataloader(), baseline_model, n_pred=1)\n",
    "confusion_matrix, delay, fp_delay = evaluate_cpd(labels, predictions)\n",
    "key = 'n_pred_1'\n",
    "print('RESULT for {}. CONF_MATRIX: {}, FP_DELAY: {}, DELAY: {}'.format(key, confusion_matrix, fp_delay, delay))"
   ]
  },
  {
   "cell_type": "code",
   "execution_count": 164,
   "metadata": {},
   "outputs": [
    {
     "name": "stdout",
     "output_type": "stream",
     "text": [
      "RESULT for n_pred_1. CONF_MATRIX: (108, 192, 0, 0), FP_DELAY: 25.036666666666665, DELAY: 4.963333333333333\n"
     ]
    }
   ],
   "source": [
    "res_dict = {}\n",
    "model = \"rbf\"\n",
    "baseline_model = rpt.Dynp(model=model)\n",
    "predictions, labels = evaluate_baseline(cpd_model.test_dataloader(), baseline_model, n_pred=1)\n",
    "confusion_matrix, delay, fp_delay = evaluate_cpd(labels, predictions)\n",
    "key = 'n_pred_1'\n",
    "print('RESULT for {}. CONF_MATRIX: {}, FP_DELAY: {}, DELAY: {}'.format(key, confusion_matrix, fp_delay, delay))"
   ]
  },
  {
   "cell_type": "code",
   "execution_count": null,
   "metadata": {},
   "outputs": [],
   "source": []
  }
 ],
 "metadata": {
  "kernelspec": {
   "display_name": "Python 3",
   "language": "python",
   "name": "python3"
  },
  "language_info": {
   "codemirror_mode": {
    "name": "ipython",
    "version": 3
   },
   "file_extension": ".py",
   "mimetype": "text/x-python",
   "name": "python",
   "nbconvert_exporter": "python",
   "pygments_lexer": "ipython3",
   "version": "3.7.9"
  }
 },
 "nbformat": 4,
 "nbformat_minor": 2
}
