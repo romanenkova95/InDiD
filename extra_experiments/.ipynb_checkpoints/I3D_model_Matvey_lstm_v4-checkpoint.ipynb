{
 "cells": [
  {
   "cell_type": "code",
   "execution_count": 1,
   "id": "bd3ba7df",
   "metadata": {},
   "outputs": [
    {
     "name": "stdout",
     "output_type": "stream",
     "text": [
      "Mon Nov 15 22:43:42 2021       \r\n",
      "+-----------------------------------------------------------------------------+\r\n",
      "| NVIDIA-SMI 450.80.02    Driver Version: 450.80.02    CUDA Version: 11.0     |\r\n",
      "|-------------------------------+----------------------+----------------------+\r\n",
      "| GPU  Name        Persistence-M| Bus-Id        Disp.A | Volatile Uncorr. ECC |\r\n",
      "| Fan  Temp  Perf  Pwr:Usage/Cap|         Memory-Usage | GPU-Util  Compute M. |\r\n",
      "|                               |                      |               MIG M. |\r\n",
      "|===============================+======================+======================|\r\n",
      "|   0  GeForce GTX 108...  Off  | 00000000:01:00.0 Off |                  N/A |\r\n",
      "| 23%   26C    P8     8W / 250W |    124MiB / 11177MiB |      0%      Default |\r\n",
      "|                               |                      |                  N/A |\r\n",
      "+-------------------------------+----------------------+----------------------+\r\n",
      "|   1  GeForce GTX 108...  Off  | 00000000:02:00.0 Off |                  N/A |\r\n",
      "| 27%   48C    P2    57W / 250W |    869MiB / 11178MiB |      0%      Default |\r\n",
      "|                               |                      |                  N/A |\r\n",
      "+-------------------------------+----------------------+----------------------+\r\n",
      "                                                                               \r\n",
      "+-----------------------------------------------------------------------------+\r\n",
      "| Processes:                                                                  |\r\n",
      "|  GPU   GI   CI        PID   Type   Process name                  GPU Memory |\r\n",
      "|        ID   ID                                                   Usage      |\r\n",
      "|=============================================================================|\r\n",
      "|    0   N/A  N/A      1571      G   /usr/lib/xorg/Xorg                119MiB |\r\n",
      "|    1   N/A  N/A     13001      C   ...kova/anaconda3/bin/python      865MiB |\r\n",
      "+-----------------------------------------------------------------------------+\r\n"
     ]
    }
   ],
   "source": [
    "!nvidia-smi"
   ]
  },
  {
   "cell_type": "code",
   "execution_count": 1,
   "id": "30c9b39b",
   "metadata": {},
   "outputs": [
    {
     "name": "stdout",
     "output_type": "stream",
     "text": [
      "CPU times: user 1.42 s, sys: 384 ms, total: 1.8 s\n",
      "Wall time: 1.58 s\n"
     ]
    }
   ],
   "source": [
    "%%time\n",
    "\n",
    "import os\n",
    "import numpy as np\n",
    "import torch\n",
    "import random\n",
    "import pytorch_lightning as pl\n",
    "import cv2\n",
    "import json\n",
    "\n",
    "from PIL import Image\n",
    "from torchvision import transforms\n",
    "from typing import Dict\n",
    "\n",
    "from tqdm.notebook import tqdm\n",
    "\n",
    "import torch.nn as nn\n",
    "from torch.optim import Adam\n",
    "from torch.utils.data import DataLoader\n",
    "from pytorch_lightning.callbacks.early_stopping import EarlyStopping\n",
    "\n",
    "from torchvision.transforms import Compose, Lambda\n",
    "from torchvision.transforms._transforms_video import CenterCropVideo, NormalizeVideo\n",
    "\n",
    "from pytorchvideo.data.encoded_video import EncodedVideo\n",
    "from pytorchvideo.transforms import ApplyTransformToKey, ShortSideScale, UniformTemporalSubsample, UniformCropVideo\n",
    "\n",
    "import matplotlib.pyplot as plt\n",
    "%matplotlib inline\n",
    "\n",
    "from CPD import datasets, loss, models\n",
    "from CPD import new_metrics as metrics"
   ]
  },
  {
   "cell_type": "markdown",
   "id": "7f6cb099",
   "metadata": {},
   "source": [
    "### Fix GPU"
   ]
  },
  {
   "cell_type": "code",
   "execution_count": 2,
   "id": "4f3e974f",
   "metadata": {},
   "outputs": [],
   "source": [
    "os.environ['CUDA_VISIBLE_DEVICES'] = \"0\""
   ]
  },
  {
   "cell_type": "markdown",
   "id": "7e5f9b3a",
   "metadata": {},
   "source": [
    "### Fix random seeds"
   ]
  },
  {
   "cell_type": "code",
   "execution_count": 3,
   "id": "b796b055",
   "metadata": {},
   "outputs": [],
   "source": [
    "import torch\n",
    "torch.manual_seed(1)\n",
    "import random\n",
    "random.seed(1)\n",
    "import numpy as np\n",
    "np.random.seed(1)"
   ]
  },
  {
   "cell_type": "markdown",
   "id": "f54f3d2a",
   "metadata": {},
   "source": [
    "### Device"
   ]
  },
  {
   "cell_type": "code",
   "execution_count": 4,
   "id": "835c328a",
   "metadata": {},
   "outputs": [
    {
     "name": "stdout",
     "output_type": "stream",
     "text": [
      "cuda\n"
     ]
    }
   ],
   "source": [
    "device = torch.device('cuda' if torch.cuda.is_available() else 'cpu')\n",
    "print(device)"
   ]
  },
  {
   "cell_type": "markdown",
   "id": "2a2ce26e",
   "metadata": {},
   "source": [
    "### Dataloader"
   ]
  },
  {
   "cell_type": "code",
   "execution_count": 5,
   "id": "7a50f9cf",
   "metadata": {},
   "outputs": [],
   "source": [
    "class UCF_VIDEOS_DATASET(torch.utils.data.Dataset):\n",
    "    def __init__(self, path_to_annotation, path_to_videos, seq_len):\n",
    "        super(UCF_VIDEOS_DATASET, self).__init__()\n",
    "        self.path_to_annotation = path_to_annotation\n",
    "        self.path_to_videos = path_to_videos\n",
    "        self.seq_len = seq_len\n",
    "        \n",
    "        self.annotation_array = []\n",
    "        \n",
    "        preprocess = transforms.Compose([transforms.ToTensor()])\n",
    "        \n",
    "        time_step = 3\n",
    "        num_samles = 6\n",
    "        num_attempts = 300\n",
    "        \n",
    "        self.data = []\n",
    "        self.len = 0\n",
    "        \n",
    "        with open(path_to_annotation, 'r') as fp:\n",
    "            for line in tqdm(fp):\n",
    "                if line.split(\"  \")[1] == \"Explosion\":\n",
    "                    self.annotation_array.append([line.split(\"  \")[0], \n",
    "                                                  int(line.split(\"  \")[2]), \n",
    "                                                  int(line.split(\"  \")[3]),\n",
    "                                                  int(line.split(\"  \")[4])])\n",
    "                    \n",
    "                    cap = cv2.VideoCapture(os.path.join(self.path_to_videos, line.split(\"  \")[0]))\n",
    "                    \n",
    "                    count_ = 0\n",
    "                    num_attempts_ = 0\n",
    "                    nums_zeros = []\n",
    "                    while count_ != num_samles:\n",
    "                        num_attempts_ += 1\n",
    "                        num_zeros = random.randint(1, self.seq_len-1)\n",
    "                        if not num_zeros in nums_zeros:\n",
    "                            frames_ones = [int(line.split(\"  \")[3]) + i*time_step for i in range(self.seq_len-num_zeros)]\n",
    "                            frames_zeros = sorted([int(line.split(\"  \")[3]) - (i+1)*time_step for i in range(num_zeros)])\n",
    "                            \n",
    "                            if frames_zeros[0] >= int(line.split(\"  \")[2]) and frames_ones[-1] <= int(line.split(\"  \")[4]):\n",
    "                                frames_all = np.append(frames_zeros, frames_ones)\n",
    "                                sequence_labels = np.append(np.zeros(num_zeros), np.ones(self.seq_len-num_zeros))\n",
    "                                sequence_imgs = []\n",
    "\n",
    "                                for frame_id in frames_all:\n",
    "                                    cap.set(cv2.CAP_PROP_POS_FRAMES, frame_id)\n",
    "                                    ret, frame = cap.read()\n",
    "                                    frame_rgb = cv2.cvtColor(frame, cv2.COLOR_BGR2RGB)\n",
    "                                    frame_pil = Image.fromarray(frame_rgb)\n",
    "                                    sequence_imgs.append(preprocess(frame_pil))\n",
    "\n",
    "                                sequence_imgs = torch.stack(sequence_imgs)\n",
    "                                sequence_labels = torch.from_numpy(sequence_labels)\n",
    "                                self.data.append([sequence_imgs, sequence_labels])\n",
    "\n",
    "                                count_ += 1\n",
    "                                nums_zeros.append(num_zeros)\n",
    "                                self.len += 1\n",
    "                            \n",
    "                        if num_attempts_ == num_attempts:\n",
    "                            break\n",
    "                            \n",
    "                if line.split(\"  \")[1] == \"Normal\":\n",
    "                    self.annotation_array.append([line.split(\"  \")[0], \n",
    "                                                  int(line.split(\"  \")[2]), \n",
    "                                                  int(line.split(\"  \")[4])])\n",
    "                    \n",
    "                    cap = cv2.VideoCapture(os.path.join(self.path_to_videos, line.split(\"  \")[0]))\n",
    "                    \n",
    "                    num_zeros = self.seq_len\n",
    "                    frames_all = sorted([int(line.split(\"  \")[4]) - i*time_step for i in range(num_zeros)])\n",
    "\n",
    "                    if frames_zeros[0] >= int(line.split(\"  \")[2]):\n",
    "                        sequence_labels = np.zeros(num_zeros)\n",
    "                        sequence_imgs = []\n",
    "\n",
    "                        for frame_id in frames_all:\n",
    "                            cap.set(cv2.CAP_PROP_POS_FRAMES, frame_id)\n",
    "                            ret, frame = cap.read()\n",
    "                            frame_rgb = cv2.cvtColor(frame, cv2.COLOR_BGR2RGB)\n",
    "                            frame_pil = Image.fromarray(frame_rgb)\n",
    "                            sequence_imgs.append(preprocess(frame_pil))\n",
    "\n",
    "                        sequence_imgs = torch.stack(sequence_imgs)\n",
    "                        sequence_labels = torch.from_numpy(sequence_labels)\n",
    "                        self.data.append([sequence_imgs, sequence_labels])\n",
    "                        self.len += 1\n",
    "                        \n",
    "                    frames_all = sorted([int(line.split(\"  \")[2]) + i*time_step for i in range(num_zeros)])\n",
    "\n",
    "                    if frames_zeros[-1] <= int(line.split(\"  \")[5]):\n",
    "                        sequence_labels = np.zeros(num_zeros)\n",
    "                        sequence_imgs = []\n",
    "\n",
    "                        for frame_id in frames_all:\n",
    "                            cap.set(cv2.CAP_PROP_POS_FRAMES, frame_id)\n",
    "                            ret, frame = cap.read()\n",
    "                            frame_rgb = cv2.cvtColor(frame, cv2.COLOR_BGR2RGB)\n",
    "                            frame_pil = Image.fromarray(frame_rgb)\n",
    "                            sequence_imgs.append(preprocess(frame_pil))\n",
    "\n",
    "                        sequence_imgs = torch.stack(sequence_imgs)\n",
    "                        sequence_labels = torch.from_numpy(sequence_labels)\n",
    "                        self.data.append([sequence_imgs, sequence_labels])\n",
    "                        self.len += 1\n",
    "\n",
    "    def __len__(self):\n",
    "        return self.len\n",
    "        \n",
    "    def __getitem__(self, item_idx):\n",
    "        \n",
    "        sequence_imgs = self.data[item_idx][0]\n",
    "        sequence_labels = self.data[item_idx][1]\n",
    "        \n",
    "        return sequence_imgs, sequence_labels"
   ]
  },
  {
   "cell_type": "code",
   "execution_count": null,
   "id": "9a36bbf4",
   "metadata": {},
   "outputs": [
    {
     "data": {
      "application/vnd.jupyter.widget-view+json": {
       "model_id": "79bd96e9fa7f49b5897078f5ce179236",
       "version_major": 2,
       "version_minor": 0
      },
      "text/plain": [
       "0it [00:00, ?it/s]"
      ]
     },
     "metadata": {},
     "output_type": "display_data"
    }
   ],
   "source": [
    "%%time\n",
    "\n",
    "seq_len = 16\n",
    "path_to_videos = \"data/explosion/\"\n",
    "path_annotation_train = \"UCF_train.txt\"\n",
    "path_annotation_validation = \"UCF_validation.txt\"\n",
    "\n",
    "imgs_dataset_train = UCF_VIDEOS_DATASET(path_annotation_train, \n",
    "                                        path_to_videos, \n",
    "                                        seq_len=seq_len)\n",
    "\n",
    "imgs_dataset_validation = UCF_VIDEOS_DATASET(path_annotation_validation, \n",
    "                                             path_to_videos, \n",
    "                                             seq_len=seq_len)"
   ]
  },
  {
   "cell_type": "code",
   "execution_count": null,
   "id": "0d3b9487",
   "metadata": {},
   "outputs": [],
   "source": [
    "#HIDDEN_LSTM = 16\n",
    "#HIDDEN_LSTM = 2048 * 7 * 7\n",
    "HIDDEN_LSTM = 2048 * 8 * 10\n",
    "HIDDEN_SIZE = 64\n",
    "\n",
    "class Combine(nn.Module):\n",
    "    def __init__(self):\n",
    "        super(Combine, self).__init__()\n",
    "        # Pick a pretrained model and load the pretrained weights\n",
    "        model_name = \"slow_r50\"\n",
    "        self.extractor = torch.hub.load('facebookresearch/pytorchvideo:main', 'slow_r50', pretrained=True)\n",
    "        # 5 for full cnn part\n",
    "        self.extractor = nn.Sequential(*list(self.extractor.blocks[:5]))\n",
    "        self.fc1 = nn.Linear(HIDDEN_LSTM, HIDDEN_SIZE)\n",
    "        self.rnn = nn.LSTM(input_size=HIDDEN_SIZE,\n",
    "                           hidden_size=HIDDEN_SIZE // 2, \n",
    "                           num_layers=1,\n",
    "                           batch_first=True, \n",
    "                           dropout=0.5)\n",
    "        \n",
    "        self.fc2 = nn.Linear(HIDDEN_SIZE // 2, 1)\n",
    "        self.dropout = nn.Dropout(0.5)\n",
    "        self.relu = nn.ReLU()  \n",
    "        self.activation = nn.Sigmoid()        \n",
    "\n",
    "    def forward(self, x):\n",
    "        \n",
    "        batch_size, timesteps, C, H, W = x.size()\n",
    "        c_in = x.transpose(1, 2) \n",
    "        c_out = self.extractor(c_in) # batch_size, timesteps, C*H*W\n",
    "        r_in = c_out.transpose(1, 2).flatten(2)\n",
    "        r_out = r_in\n",
    "        r_out = self.fc1(r_out)\n",
    "        r_out, _ = self.rnn(r_out)\n",
    "        r_out = self.dropout(self.fc2(r_out))\n",
    "        out = torch.sigmoid(r_out)\n",
    "        return out    "
   ]
  },
  {
   "cell_type": "markdown",
   "id": "becff257",
   "metadata": {},
   "source": [
    "### "
   ]
  },
  {
   "cell_type": "markdown",
   "id": "a56601f1",
   "metadata": {},
   "source": [
    "### Pytorch Lightning"
   ]
  },
  {
   "cell_type": "code",
   "execution_count": 34,
   "id": "60209ef2",
   "metadata": {},
   "outputs": [],
   "source": [
    "class CPD_model(pl.LightningModule):\n",
    "    def __init__(\n",
    "        self,\n",
    "        model, \n",
    "        imgs_dataset_train,\n",
    "        imgs_dataset_validation,\n",
    "        batch_size: int = 16,\n",
    "        seq_len: int = 16, \n",
    "        loss_type: str = 'bce',\n",
    "        path_to_videos: str = \"data/explosion/\",\n",
    "        path_annotation_train: str = \"UCF_train.txt\",\n",
    "        path_annotation_validation: str = \"UCF_validation.txt\",\n",
    "        \n",
    "    ):\n",
    "        super(CPD_model, self).__init__()\n",
    "\n",
    "        self.model = model.to(self.device)\n",
    "        self.batch_size = batch_size\n",
    "        self.seq_len = seq_len\n",
    "        \n",
    "        if loss_type == 'bce':\n",
    "            self.loss = nn.BCELoss()\n",
    "        else:\n",
    "            self.loss = loss.CPDLoss(len_segment=8)\n",
    "            \n",
    "        self.imgs_dataset_train = imgs_dataset_train\n",
    "        self.imgs_dataset_validation = imgs_dataset_validation   \n",
    "        \n",
    "    def forward(self, inputs):\n",
    "        return self.model(inputs)\n",
    "\n",
    "    def training_step(self, batch, batch_idx):\n",
    "        videos, labels = batch\n",
    "        pred = self.forward(videos.float())\n",
    "\n",
    "        train_loss = self.loss(pred.squeeze(), labels.float().squeeze())\n",
    "        train_accuracy = ((pred.squeeze() > 0.5).long() == labels.squeeze()).float().mean()\n",
    "\n",
    "        self.log('train_loss', train_loss, prog_bar=True, on_epoch=True)\n",
    "        self.log('train_acc', train_accuracy, prog_bar=True, on_epoch=True)    \n",
    "        \n",
    "        return train_loss\n",
    "\n",
    "    def validation_step(self, batch, batch_idx):\n",
    "        videos, labels = batch\n",
    "        pred = self.forward(videos.float())\n",
    "        \n",
    "        val_loss = self.loss(pred.squeeze(), labels.float().squeeze())      \n",
    "        val_accuracy = ((pred.squeeze() > 0.5).long() == labels.squeeze()).float().mean()\n",
    "                \n",
    "        self.log('val_loss', val_loss, prog_bar=True)    \n",
    "        self.log('val_acc', val_accuracy, prog_bar=True)    \n",
    "        \n",
    "        return {'val_loss': val_loss, 'val_acc': val_accuracy}\n",
    "    \n",
    "\n",
    "    def configure_optimizers(self):\n",
    "        opt = torch.optim.Adam(self.model.parameters(), lr=0.001) \n",
    "        return [opt]\n",
    "\n",
    "    def train_dataloader(self):\n",
    "        \n",
    "        train_dataloader = DataLoader(self.imgs_dataset_train, batch_size=self.batch_size, shuffle=True, num_workers=4)\n",
    "        return train_dataloader\n",
    "        \n",
    "    \n",
    "    def val_dataloader(self):\n",
    "        \n",
    "        val_dataloader = DataLoader(self.imgs_dataset_validation, batch_size=self.batch_size, shuffle=False, num_workers=4)\n",
    "        return val_dataloader"
   ]
  },
  {
   "cell_type": "markdown",
   "id": "b73c431b",
   "metadata": {},
   "source": [
    "## Model CUSTOM loss"
   ]
  },
  {
   "cell_type": "code",
   "execution_count": 11,
   "id": "4d11a88f",
   "metadata": {},
   "outputs": [
    {
     "name": "stderr",
     "output_type": "stream",
     "text": [
      "Using cache found in /home/eromanenkova/.cache/torch/hub/facebookresearch_pytorchvideo_main\n",
      "GPU available: True, used: True\n",
      "TPU available: False, using: 0 TPU cores\n"
     ]
    }
   ],
   "source": [
    "model_custom = Combine()\n",
    "\n",
    "for param in model_custom.extractor.parameters():\n",
    "    param.requires_grad = False\n",
    "\n",
    "model_custom_pl = CPD_model(model=model_custom,\n",
    "                            imgs_dataset_train=imgs_dataset_train,\n",
    "                            imgs_dataset_validation=imgs_dataset_validation,\n",
    "                            batch_size=16, \n",
    "                            seq_len=16, \n",
    "                            loss_type='custom')    \n",
    "\n",
    "\n",
    "\n",
    "running = 2\n",
    "\n",
    "experiment_name = 'I3D_v{}'.format(running)\n",
    "logger = pl.loggers.TensorBoardLogger(save_dir='logs/', name=experiment_name)\n",
    "\n",
    "checkpoint_callback = pl.callbacks.ModelCheckpoint(\n",
    "    monitor='val_acc',\n",
    "    dirpath=f'logs/{experiment_name}',\n",
    "    filename='{epoch:02d}-{val_acc:.3f}',\n",
    "    mode='max')\n",
    "\n",
    "checkpoint_callback_2 = pl.callbacks.ModelCheckpoint(\n",
    "    monitor='val_loss',\n",
    "    dirpath=f'logs/{experiment_name}',\n",
    "    filename='{epoch:02d}-{val_loss:.3f}',\n",
    "    mode='min')\n",
    "\n",
    "\n",
    "early_stop_callback = EarlyStopping(\n",
    "   monitor='val_loss',\n",
    "   min_delta=0.01,\n",
    "   patience=5,\n",
    "   verbose=True,\n",
    "   mode='min'\n",
    ")\n",
    "\n",
    "trainer_custom = pl.Trainer(\n",
    "    max_epochs=200, \n",
    "    gpus='0', \n",
    "    benchmark=True, \n",
    "    check_val_every_n_epoch=1, \n",
    "    logger=logger,\n",
    "    callbacks=[checkpoint_callback, checkpoint_callback_2, early_stop_callback])    "
   ]
  },
  {
   "cell_type": "code",
   "execution_count": 12,
   "id": "af9d532c",
   "metadata": {
    "scrolled": true
   },
   "outputs": [
    {
     "name": "stderr",
     "output_type": "stream",
     "text": [
      "LOCAL_RANK: 0 - CUDA_VISIBLE_DEVICES: [0]\n",
      "\n",
      "  | Name  | Type    | Params\n",
      "----------------------------------\n",
      "0 | model | Combine | 73.6 M\n",
      "1 | loss  | CPDLoss | 0     \n",
      "----------------------------------\n",
      "42.0 M    Trainable params\n",
      "31.6 M    Non-trainable params\n",
      "73.6 M    Total params\n",
      "294.378   Total estimated model params size (MB)\n"
     ]
    },
    {
     "data": {
      "application/vnd.jupyter.widget-view+json": {
       "model_id": "",
       "version_major": 2,
       "version_minor": 0
      },
      "text/plain": [
       "Validation sanity check: 0it [00:00, ?it/s]"
      ]
     },
     "metadata": {},
     "output_type": "display_data"
    },
    {
     "data": {
      "application/vnd.jupyter.widget-view+json": {
       "model_id": "288ec5acc1e747bbbdb110915d032fe8",
       "version_major": 2,
       "version_minor": 0
      },
      "text/plain": [
       "Training: 0it [00:00, ?it/s]"
      ]
     },
     "metadata": {},
     "output_type": "display_data"
    },
    {
     "data": {
      "application/vnd.jupyter.widget-view+json": {
       "model_id": "",
       "version_major": 2,
       "version_minor": 0
      },
      "text/plain": [
       "Validating: 0it [00:00, ?it/s]"
      ]
     },
     "metadata": {},
     "output_type": "display_data"
    },
    {
     "name": "stderr",
     "output_type": "stream",
     "text": [
      "Metric val_loss improved. New best score: 3.749\n"
     ]
    },
    {
     "data": {
      "application/vnd.jupyter.widget-view+json": {
       "model_id": "",
       "version_major": 2,
       "version_minor": 0
      },
      "text/plain": [
       "Validating: 0it [00:00, ?it/s]"
      ]
     },
     "metadata": {},
     "output_type": "display_data"
    },
    {
     "name": "stderr",
     "output_type": "stream",
     "text": [
      "Metric val_loss improved by 0.308 >= min_delta = 0.01. New best score: 3.441\n"
     ]
    },
    {
     "data": {
      "application/vnd.jupyter.widget-view+json": {
       "model_id": "",
       "version_major": 2,
       "version_minor": 0
      },
      "text/plain": [
       "Validating: 0it [00:00, ?it/s]"
      ]
     },
     "metadata": {},
     "output_type": "display_data"
    },
    {
     "name": "stderr",
     "output_type": "stream",
     "text": [
      "Metric val_loss improved by 0.603 >= min_delta = 0.01. New best score: 2.838\n"
     ]
    },
    {
     "data": {
      "application/vnd.jupyter.widget-view+json": {
       "model_id": "",
       "version_major": 2,
       "version_minor": 0
      },
      "text/plain": [
       "Validating: 0it [00:00, ?it/s]"
      ]
     },
     "metadata": {},
     "output_type": "display_data"
    },
    {
     "name": "stderr",
     "output_type": "stream",
     "text": [
      "Metric val_loss improved by 0.610 >= min_delta = 0.01. New best score: 2.228\n"
     ]
    },
    {
     "data": {
      "application/vnd.jupyter.widget-view+json": {
       "model_id": "",
       "version_major": 2,
       "version_minor": 0
      },
      "text/plain": [
       "Validating: 0it [00:00, ?it/s]"
      ]
     },
     "metadata": {},
     "output_type": "display_data"
    },
    {
     "name": "stderr",
     "output_type": "stream",
     "text": [
      "Metric val_loss improved by 0.065 >= min_delta = 0.01. New best score: 2.163\n"
     ]
    },
    {
     "data": {
      "application/vnd.jupyter.widget-view+json": {
       "model_id": "",
       "version_major": 2,
       "version_minor": 0
      },
      "text/plain": [
       "Validating: 0it [00:00, ?it/s]"
      ]
     },
     "metadata": {},
     "output_type": "display_data"
    },
    {
     "name": "stderr",
     "output_type": "stream",
     "text": [
      "Metric val_loss improved by 0.337 >= min_delta = 0.01. New best score: 1.826\n"
     ]
    },
    {
     "data": {
      "application/vnd.jupyter.widget-view+json": {
       "model_id": "",
       "version_major": 2,
       "version_minor": 0
      },
      "text/plain": [
       "Validating: 0it [00:00, ?it/s]"
      ]
     },
     "metadata": {},
     "output_type": "display_data"
    },
    {
     "name": "stderr",
     "output_type": "stream",
     "text": [
      "Metric val_loss improved by 0.438 >= min_delta = 0.01. New best score: 1.389\n"
     ]
    },
    {
     "data": {
      "application/vnd.jupyter.widget-view+json": {
       "model_id": "",
       "version_major": 2,
       "version_minor": 0
      },
      "text/plain": [
       "Validating: 0it [00:00, ?it/s]"
      ]
     },
     "metadata": {},
     "output_type": "display_data"
    },
    {
     "name": "stderr",
     "output_type": "stream",
     "text": [
      "Metric val_loss improved by 0.373 >= min_delta = 0.01. New best score: 1.016\n"
     ]
    },
    {
     "data": {
      "application/vnd.jupyter.widget-view+json": {
       "model_id": "",
       "version_major": 2,
       "version_minor": 0
      },
      "text/plain": [
       "Validating: 0it [00:00, ?it/s]"
      ]
     },
     "metadata": {},
     "output_type": "display_data"
    },
    {
     "name": "stderr",
     "output_type": "stream",
     "text": [
      "Metric val_loss improved by 0.306 >= min_delta = 0.01. New best score: 0.709\n"
     ]
    },
    {
     "data": {
      "application/vnd.jupyter.widget-view+json": {
       "model_id": "",
       "version_major": 2,
       "version_minor": 0
      },
      "text/plain": [
       "Validating: 0it [00:00, ?it/s]"
      ]
     },
     "metadata": {},
     "output_type": "display_data"
    },
    {
     "data": {
      "application/vnd.jupyter.widget-view+json": {
       "model_id": "",
       "version_major": 2,
       "version_minor": 0
      },
      "text/plain": [
       "Validating: 0it [00:00, ?it/s]"
      ]
     },
     "metadata": {},
     "output_type": "display_data"
    },
    {
     "data": {
      "application/vnd.jupyter.widget-view+json": {
       "model_id": "",
       "version_major": 2,
       "version_minor": 0
      },
      "text/plain": [
       "Validating: 0it [00:00, ?it/s]"
      ]
     },
     "metadata": {},
     "output_type": "display_data"
    },
    {
     "name": "stderr",
     "output_type": "stream",
     "text": [
      "Metric val_loss improved by 0.114 >= min_delta = 0.01. New best score: 0.595\n"
     ]
    },
    {
     "data": {
      "application/vnd.jupyter.widget-view+json": {
       "model_id": "",
       "version_major": 2,
       "version_minor": 0
      },
      "text/plain": [
       "Validating: 0it [00:00, ?it/s]"
      ]
     },
     "metadata": {},
     "output_type": "display_data"
    },
    {
     "name": "stderr",
     "output_type": "stream",
     "text": [
      "Metric val_loss improved by 0.335 >= min_delta = 0.01. New best score: 0.260\n"
     ]
    },
    {
     "data": {
      "application/vnd.jupyter.widget-view+json": {
       "model_id": "",
       "version_major": 2,
       "version_minor": 0
      },
      "text/plain": [
       "Validating: 0it [00:00, ?it/s]"
      ]
     },
     "metadata": {},
     "output_type": "display_data"
    },
    {
     "name": "stderr",
     "output_type": "stream",
     "text": [
      "Metric val_loss improved by 0.097 >= min_delta = 0.01. New best score: 0.163\n"
     ]
    },
    {
     "data": {
      "application/vnd.jupyter.widget-view+json": {
       "model_id": "",
       "version_major": 2,
       "version_minor": 0
      },
      "text/plain": [
       "Validating: 0it [00:00, ?it/s]"
      ]
     },
     "metadata": {},
     "output_type": "display_data"
    },
    {
     "data": {
      "application/vnd.jupyter.widget-view+json": {
       "model_id": "",
       "version_major": 2,
       "version_minor": 0
      },
      "text/plain": [
       "Validating: 0it [00:00, ?it/s]"
      ]
     },
     "metadata": {},
     "output_type": "display_data"
    },
    {
     "data": {
      "application/vnd.jupyter.widget-view+json": {
       "model_id": "",
       "version_major": 2,
       "version_minor": 0
      },
      "text/plain": [
       "Validating: 0it [00:00, ?it/s]"
      ]
     },
     "metadata": {},
     "output_type": "display_data"
    },
    {
     "data": {
      "application/vnd.jupyter.widget-view+json": {
       "model_id": "",
       "version_major": 2,
       "version_minor": 0
      },
      "text/plain": [
       "Validating: 0it [00:00, ?it/s]"
      ]
     },
     "metadata": {},
     "output_type": "display_data"
    },
    {
     "data": {
      "application/vnd.jupyter.widget-view+json": {
       "model_id": "",
       "version_major": 2,
       "version_minor": 0
      },
      "text/plain": [
       "Validating: 0it [00:00, ?it/s]"
      ]
     },
     "metadata": {},
     "output_type": "display_data"
    },
    {
     "name": "stderr",
     "output_type": "stream",
     "text": [
      "Monitored metric val_loss did not improve in the last 5 records. Best score: 0.163. Signaling Trainer to stop.\n"
     ]
    },
    {
     "name": "stdout",
     "output_type": "stream",
     "text": [
      "CPU times: user 9min, sys: 2min 11s, total: 11min 12s\n",
      "Wall time: 11min 33s\n"
     ]
    }
   ],
   "source": [
    "%%time\n",
    "\n",
    "trainer_custom.fit(model_custom_pl)"
   ]
  },
  {
   "cell_type": "code",
   "execution_count": 9,
   "id": "e146088a",
   "metadata": {},
   "outputs": [
    {
     "name": "stderr",
     "output_type": "stream",
     "text": [
      "Using cache found in /root/.cache/torch/hub/facebookresearch_pytorchvideo_main\n",
      "/usr/local/lib/python3.7/dist-packages/torch/nn/modules/rnn.py:65: UserWarning: dropout option adds dropout after all but last recurrent layer, so non-zero dropout expects num_layers greater than 1, but got dropout=0.5 and num_layers=1\n",
      "  \"num_layers={}\".format(dropout, num_layers))\n"
     ]
    },
    {
     "data": {
      "application/vnd.jupyter.widget-view+json": {
       "model_id": "7ad7ff8e87ef42afb44ab827f9143d5f",
       "version_major": 2,
       "version_minor": 0
      },
      "text/plain": [
       "HBox(children=(HTML(value=''), FloatProgress(value=1.0, bar_style='info', layout=Layout(width='20px'), max=1.0…"
      ]
     },
     "metadata": {},
     "output_type": "display_data"
    },
    {
     "name": "stdout",
     "output_type": "stream",
     "text": [
      "\n"
     ]
    },
    {
     "data": {
      "application/vnd.jupyter.widget-view+json": {
       "model_id": "55043b12fced4e60b12f78de8701616a",
       "version_major": 2,
       "version_minor": 0
      },
      "text/plain": [
       "HBox(children=(HTML(value=''), FloatProgress(value=1.0, bar_style='info', layout=Layout(width='20px'), max=1.0…"
      ]
     },
     "metadata": {},
     "output_type": "display_data"
    },
    {
     "name": "stdout",
     "output_type": "stream",
     "text": [
      "\n"
     ]
    }
   ],
   "source": [
    "model_custom = Combine()\n",
    "\n",
    "for param in model_custom.extractor.parameters():\n",
    "    param.requires_grad = False\n",
    "\n",
    "model_custom_pl = CPD_model(model=model_custom, \n",
    "                            batch_size=16, \n",
    "                            seq_len=16, \n",
    "                            loss_type='custom')  "
   ]
  },
  {
   "cell_type": "code",
   "execution_count": 15,
   "id": "fe6913ca",
   "metadata": {},
   "outputs": [],
   "source": [
    "threshold_number = 25\n",
    "threshold_list = np.linspace(-5, 5, threshold_number)\n",
    "threshold_list = 1 / (1 + np.exp(-threshold_list))\n",
    "threshold_list = [-0.001] + list(threshold_list) + [1.001]"
   ]
  },
  {
   "cell_type": "code",
   "execution_count": 16,
   "id": "4aba8fc8",
   "metadata": {},
   "outputs": [
    {
     "data": {
      "text/plain": [
       "[<matplotlib.lines.Line2D at 0x7f31a4d79950>]"
      ]
     },
     "execution_count": 16,
     "metadata": {},
     "output_type": "execute_result"
    },
    {
     "data": {
      "image/png": "[encoded data removed]",
      "text/plain": [
       "<Figure size 432x288 with 1 Axes>"
      ]
     },
     "metadata": {
      "needs_background": "light"
     },
     "output_type": "display_data"
    }
   ],
   "source": [
    "plt.plot(threshold_list, 'o')"
   ]
  },
  {
   "cell_type": "code",
   "execution_count": 17,
   "id": "cb0ae2ef",
   "metadata": {},
   "outputs": [
    {
     "name": "stderr",
     "output_type": "stream",
     "text": [
      "/home/eromanenkova/anaconda3/lib/python3.7/site-packages/numpy/core/fromnumeric.py:3420: RuntimeWarning: Mean of empty slice.\n",
      "  out=out, **kwargs)\n",
      "/home/eromanenkova/anaconda3/lib/python3.7/site-packages/numpy/core/_methods.py:188: RuntimeWarning: invalid value encountered in double_scalars\n",
      "  ret = ret.dtype.type(ret / rcount)\n"
     ]
    },
    {
     "name": "stdout",
     "output_type": "stream",
     "text": [
      "AUC: 16.6519\n",
      "Time to FA 13.4213, delay detection 1.7809 for best-cover threshold: 0.5\n",
      "TP 17, TN 100, FP 27, FN 34 for best-cover threshold: 0.5\n",
      "Max COVER 0.8223: for threshold 0.5\n",
      "Max F1 0.3579: for threshold 0.5\n",
      "F1 0.3579: for best-cover threshold 0.5\n",
      "Max F1_ruptures (M=5) 1.0: for threshold 0.9241\n",
      "F1_ruptures 0.4737: for best-cover threshold 0.5\n"
     ]
    }
   ],
   "source": [
    "_, delay_list_cpd, fp_delay_list_cpd = metrics.evaluation_pipeline(model_custom_pl, \n",
    "                                                                   model_custom_pl.val_dataloader(), \n",
    "                                                                   threshold_list, \n",
    "                                                                   device='cuda', \n",
    "                                                                   verbose=True)"
   ]
  },
  {
   "cell_type": "code",
   "execution_count": 18,
   "id": "46ee9574",
   "metadata": {},
   "outputs": [],
   "source": [
    "np.save('delay_list_cpd.npy', delay_list_cpd)\n",
    "np.save('fp_delay_list_cpd.npy', fp_delay_list_cpd)"
   ]
  },
  {
   "cell_type": "markdown",
   "id": "6c8a3fe2",
   "metadata": {},
   "source": [
    "### bce"
   ]
  },
  {
   "cell_type": "code",
   "execution_count": 20,
   "id": "b244d694",
   "metadata": {},
   "outputs": [
    {
     "name": "stderr",
     "output_type": "stream",
     "text": [
      "Using cache found in /home/eromanenkova/.cache/torch/hub/facebookresearch_pytorchvideo_main\n"
     ]
    }
   ],
   "source": [
    "model_bce = Combine()\n",
    "\n",
    "for param in model_bce.extractor.parameters():\n",
    "    param.requires_grad = False\n",
    "\n",
    "model_bce_pl = CPD_model(model=model_custom,\n",
    "                            imgs_dataset_train=imgs_dataset_train,\n",
    "                            imgs_dataset_validation=imgs_dataset_validation,\n",
    "                            batch_size=16, \n",
    "                            seq_len=16, \n",
    "                            loss_type='bce')"
   ]
  },
  {
   "cell_type": "code",
   "execution_count": 21,
   "id": "cfe313ef",
   "metadata": {},
   "outputs": [
    {
     "name": "stderr",
     "output_type": "stream",
     "text": [
      "GPU available: True, used: True\n",
      "TPU available: False, using: 0 TPU cores\n"
     ]
    }
   ],
   "source": [
    "experiment_name = 'I3D_v{}'.format(running)\n",
    "logger = pl.loggers.TensorBoardLogger(save_dir='logs/', name=experiment_name)\n",
    "\n",
    "checkpoint_callback = pl.callbacks.ModelCheckpoint(\n",
    "    monitor='val_acc',\n",
    "    dirpath=f'logs/{experiment_name}',\n",
    "    filename='{epoch:02d}-{val_acc:.3f}',\n",
    "    mode='max')\n",
    "\n",
    "checkpoint_callback_2 = pl.callbacks.ModelCheckpoint(\n",
    "    monitor='val_loss',\n",
    "    dirpath=f'logs/{experiment_name}',\n",
    "    filename='{epoch:02d}-{val_loss:.3f}',\n",
    "    mode='min')\n",
    "\n",
    "\n",
    "early_stop_callback = EarlyStopping(\n",
    "   monitor='val_loss',\n",
    "   min_delta=0.01,\n",
    "   patience=5,\n",
    "   verbose=True,\n",
    "   mode='min'\n",
    ")\n",
    "\n",
    "trainer_bce = pl.Trainer(\n",
    "    max_epochs=200, \n",
    "    gpus='0', \n",
    "    benchmark=True, \n",
    "    check_val_every_n_epoch=1, \n",
    "    logger=logger,\n",
    "    callbacks=[checkpoint_callback, checkpoint_callback_2, early_stop_callback])    "
   ]
  },
  {
   "cell_type": "code",
   "execution_count": 22,
   "id": "8c6a28f4",
   "metadata": {},
   "outputs": [
    {
     "name": "stderr",
     "output_type": "stream",
     "text": [
      "LOCAL_RANK: 0 - CUDA_VISIBLE_DEVICES: [0]\n",
      "\n",
      "  | Name  | Type    | Params\n",
      "----------------------------------\n",
      "0 | model | Combine | 73.6 M\n",
      "1 | loss  | BCELoss | 0     \n",
      "----------------------------------\n",
      "42.0 M    Trainable params\n",
      "31.6 M    Non-trainable params\n",
      "73.6 M    Total params\n",
      "294.378   Total estimated model params size (MB)\n"
     ]
    },
    {
     "data": {
      "application/vnd.jupyter.widget-view+json": {
       "model_id": "",
       "version_major": 2,
       "version_minor": 0
      },
      "text/plain": [
       "Validation sanity check: 0it [00:00, ?it/s]"
      ]
     },
     "metadata": {},
     "output_type": "display_data"
    },
    {
     "data": {
      "application/vnd.jupyter.widget-view+json": {
       "model_id": "7b4a0b61753d4da286de1cd590425796",
       "version_major": 2,
       "version_minor": 0
      },
      "text/plain": [
       "Training: 0it [00:00, ?it/s]"
      ]
     },
     "metadata": {},
     "output_type": "display_data"
    },
    {
     "data": {
      "application/vnd.jupyter.widget-view+json": {
       "model_id": "",
       "version_major": 2,
       "version_minor": 0
      },
      "text/plain": [
       "Validating: 0it [00:00, ?it/s]"
      ]
     },
     "metadata": {},
     "output_type": "display_data"
    },
    {
     "name": "stderr",
     "output_type": "stream",
     "text": [
      "Metric val_loss improved. New best score: 0.474\n"
     ]
    },
    {
     "data": {
      "application/vnd.jupyter.widget-view+json": {
       "model_id": "",
       "version_major": 2,
       "version_minor": 0
      },
      "text/plain": [
       "Validating: 0it [00:00, ?it/s]"
      ]
     },
     "metadata": {},
     "output_type": "display_data"
    },
    {
     "name": "stderr",
     "output_type": "stream",
     "text": [
      "Metric val_loss improved by 0.057 >= min_delta = 0.01. New best score: 0.417\n"
     ]
    },
    {
     "data": {
      "application/vnd.jupyter.widget-view+json": {
       "model_id": "",
       "version_major": 2,
       "version_minor": 0
      },
      "text/plain": [
       "Validating: 0it [00:00, ?it/s]"
      ]
     },
     "metadata": {},
     "output_type": "display_data"
    },
    {
     "name": "stderr",
     "output_type": "stream",
     "text": [
      "Metric val_loss improved by 0.013 >= min_delta = 0.01. New best score: 0.404\n"
     ]
    },
    {
     "data": {
      "application/vnd.jupyter.widget-view+json": {
       "model_id": "",
       "version_major": 2,
       "version_minor": 0
      },
      "text/plain": [
       "Validating: 0it [00:00, ?it/s]"
      ]
     },
     "metadata": {},
     "output_type": "display_data"
    },
    {
     "data": {
      "application/vnd.jupyter.widget-view+json": {
       "model_id": "",
       "version_major": 2,
       "version_minor": 0
      },
      "text/plain": [
       "Validating: 0it [00:00, ?it/s]"
      ]
     },
     "metadata": {},
     "output_type": "display_data"
    },
    {
     "data": {
      "application/vnd.jupyter.widget-view+json": {
       "model_id": "",
       "version_major": 2,
       "version_minor": 0
      },
      "text/plain": [
       "Validating: 0it [00:00, ?it/s]"
      ]
     },
     "metadata": {},
     "output_type": "display_data"
    },
    {
     "data": {
      "application/vnd.jupyter.widget-view+json": {
       "model_id": "",
       "version_major": 2,
       "version_minor": 0
      },
      "text/plain": [
       "Validating: 0it [00:00, ?it/s]"
      ]
     },
     "metadata": {},
     "output_type": "display_data"
    },
    {
     "data": {
      "application/vnd.jupyter.widget-view+json": {
       "model_id": "",
       "version_major": 2,
       "version_minor": 0
      },
      "text/plain": [
       "Validating: 0it [00:00, ?it/s]"
      ]
     },
     "metadata": {},
     "output_type": "display_data"
    },
    {
     "name": "stderr",
     "output_type": "stream",
     "text": [
      "Monitored metric val_loss did not improve in the last 5 records. Best score: 0.404. Signaling Trainer to stop.\n"
     ]
    }
   ],
   "source": [
    "trainer_bce.fit(model_bce_pl)"
   ]
  },
  {
   "cell_type": "code",
   "execution_count": 24,
   "id": "646c10cb",
   "metadata": {},
   "outputs": [
    {
     "name": "stderr",
     "output_type": "stream",
     "text": [
      "/home/eromanenkova/PrincipledCPD/CPD/new_metrics.py:426: RuntimeWarning: invalid value encountered in double_scalars\n",
      "  macro_f1_score = 2.0 * macro_precisions * macro_recall / (macro_precisions + macro_recall)\n"
     ]
    },
    {
     "name": "stdout",
     "output_type": "stream",
     "text": [
      "AUC: 14.0713\n",
      "Time to FA 12.9888, delay detection 1.4213 for best-cover threshold: 0.3029\n",
      "TP 17, TN 98, FP 34, FN 29 for best-cover threshold: 0.3029\n",
      "Max COVER 0.8396: for threshold 0.3029\n",
      "Max F1 0.404: for threshold 0.3973\n",
      "F1 0.3505: for best-cover threshold 0.3029\n",
      "Max F1_ruptures (M=5) 0.6977: for threshold 0.3029\n",
      "F1_ruptures 0.6977: for best-cover threshold 0.3029\n"
     ]
    }
   ],
   "source": [
    "_, delay_list_bce, fp_delay_list_bce = metrics.evaluation_pipeline(model_bce_pl, \n",
    "                                                                   model_custom_pl.val_dataloader(), \n",
    "                                                                   threshold_list, \n",
    "                                                                   device='cuda', \n",
    "                                                                   verbose=True)"
   ]
  },
  {
   "cell_type": "raw",
   "id": "e152cad4",
   "metadata": {},
   "source": [
    "np.save('delay_list_bce.npy', delay_list_bce)\n",
    "np.save('fp_delay_list_bce.npy', fp_delay_list_bce)"
   ]
  },
  {
   "cell_type": "code",
   "execution_count": 26,
   "id": "ade7274d",
   "metadata": {},
   "outputs": [
    {
     "data": {
      "image/png": "[encoded data removed]",
      "text/plain": [
       "<Figure size 864x864 with 1 Axes>"
      ]
     },
     "metadata": {
      "needs_background": "light"
     },
     "output_type": "display_data"
    }
   ],
   "source": [
    "plt.figure(figsize=(12, 12))\n",
    "plt.plot(fp_delay_list_cpd, delay_list_cpd, '-o', markersize=4, label='CPD (ours)')\n",
    "plt.plot(fp_delay_list_bce, delay_list_bce, '-o', markersize=4, label='BCE')\n",
    "#plt.plot(fp_delay_list_comb, delay_list_comb, '-o', markersize=4, label='Combined (ours)')\n",
    "\n",
    "plt.xlabel('Mean Time to False Alarm', fontsize=28)\n",
    "plt.ylabel('Mean Detection Delay', fontsize=28)\n",
    "plt.xticks(fontsize=24)\n",
    "plt.yticks(fontsize=24)\n",
    "plt.legend(loc='upper left', fontsize=26);"
   ]
  },
  {
   "cell_type": "markdown",
   "id": "4069c540",
   "metadata": {},
   "source": [
    "### Combined"
   ]
  },
  {
   "cell_type": "code",
   "execution_count": 28,
   "id": "dc2a765a",
   "metadata": {},
   "outputs": [
    {
     "name": "stderr",
     "output_type": "stream",
     "text": [
      "Using cache found in /home/eromanenkova/.cache/torch/hub/facebookresearch_pytorchvideo_main\n"
     ]
    },
    {
     "name": "stdout",
     "output_type": "stream",
     "text": [
      "CPU times: user 712 ms, sys: 52 ms, total: 764 ms\n",
      "Wall time: 609 ms\n"
     ]
    },
    {
     "name": "stderr",
     "output_type": "stream",
     "text": [
      "/home/eromanenkova/anaconda3/lib/python3.7/site-packages/torch/nn/modules/rnn.py:63: UserWarning: dropout option adds dropout after all but last recurrent layer, so non-zero dropout expects num_layers greater than 1, but got dropout=0.5 and num_layers=1\n",
      "  \"num_layers={}\".format(dropout, num_layers))\n"
     ]
    }
   ],
   "source": [
    "%%time\n",
    "\n",
    "model_combined = Combine()\n",
    "\n",
    "for param in model_combined.extractor.parameters():\n",
    "    param.requires_grad = False\n",
    "\n",
    "model_combined_pl = CPD_model(model=model_bce,\n",
    "                              imgs_dataset_train=imgs_dataset_train,\n",
    "                              imgs_dataset_validation=imgs_dataset_validation,\n",
    "                              batch_size=16, \n",
    "                              seq_len=16, \n",
    "                              loss_type='custom')"
   ]
  },
  {
   "cell_type": "code",
   "execution_count": 29,
   "id": "93662044",
   "metadata": {},
   "outputs": [
    {
     "name": "stderr",
     "output_type": "stream",
     "text": [
      "GPU available: True, used: True\n",
      "TPU available: False, using: 0 TPU cores\n"
     ]
    }
   ],
   "source": [
    "running = 2\n",
    "\n",
    "experiment_name = 'I3D_v{}'.format(running)\n",
    "logger = pl.loggers.TensorBoardLogger(save_dir='logs/', name=experiment_name)\n",
    "\n",
    "checkpoint_callback = pl.callbacks.ModelCheckpoint(\n",
    "    monitor='val_acc',\n",
    "    dirpath=f'logs/{experiment_name}',\n",
    "    filename='{epoch:02d}-{val_acc:.3f}',\n",
    "    mode='max')\n",
    "\n",
    "checkpoint_callback_2 = pl.callbacks.ModelCheckpoint(\n",
    "    monitor='val_loss',\n",
    "    dirpath=f'logs/{experiment_name}',\n",
    "    filename='{epoch:02d}-{val_loss:.3f}',\n",
    "    mode='min')\n",
    "\n",
    "\n",
    "early_stop_callback = EarlyStopping(\n",
    "   monitor='val_loss',\n",
    "   min_delta=0.01,\n",
    "   patience=20,\n",
    "   verbose=True,\n",
    "   mode='min'\n",
    ")\n",
    "\n",
    "trainer_combined = pl.Trainer(\n",
    "    max_epochs=200, \n",
    "    gpus='0', \n",
    "    benchmark=True, \n",
    "    check_val_every_n_epoch=1, \n",
    "    logger=logger,\n",
    "    callbacks=[checkpoint_callback, checkpoint_callback_2, early_stop_callback])   "
   ]
  },
  {
   "cell_type": "code",
   "execution_count": 30,
   "id": "eeffc68a",
   "metadata": {},
   "outputs": [
    {
     "name": "stderr",
     "output_type": "stream",
     "text": [
      "LOCAL_RANK: 0 - CUDA_VISIBLE_DEVICES: [0]\n",
      "\n",
      "  | Name  | Type    | Params\n",
      "----------------------------------\n",
      "0 | model | Combine | 73.6 M\n",
      "1 | loss  | CPDLoss | 0     \n",
      "----------------------------------\n",
      "42.0 M    Trainable params\n",
      "31.6 M    Non-trainable params\n",
      "73.6 M    Total params\n",
      "294.378   Total estimated model params size (MB)\n"
     ]
    },
    {
     "data": {
      "application/vnd.jupyter.widget-view+json": {
       "model_id": "",
       "version_major": 2,
       "version_minor": 0
      },
      "text/plain": [
       "Validation sanity check: 0it [00:00, ?it/s]"
      ]
     },
     "metadata": {},
     "output_type": "display_data"
    },
    {
     "data": {
      "application/vnd.jupyter.widget-view+json": {
       "model_id": "cf0002aaad3640cda2e1e96c687f662e",
       "version_major": 2,
       "version_minor": 0
      },
      "text/plain": [
       "Training: 0it [00:00, ?it/s]"
      ]
     },
     "metadata": {},
     "output_type": "display_data"
    },
    {
     "data": {
      "application/vnd.jupyter.widget-view+json": {
       "model_id": "",
       "version_major": 2,
       "version_minor": 0
      },
      "text/plain": [
       "Validating: 0it [00:00, ?it/s]"
      ]
     },
     "metadata": {},
     "output_type": "display_data"
    },
    {
     "name": "stderr",
     "output_type": "stream",
     "text": [
      "Metric val_loss improved. New best score: 3.828\n"
     ]
    },
    {
     "data": {
      "application/vnd.jupyter.widget-view+json": {
       "model_id": "",
       "version_major": 2,
       "version_minor": 0
      },
      "text/plain": [
       "Validating: 0it [00:00, ?it/s]"
      ]
     },
     "metadata": {},
     "output_type": "display_data"
    },
    {
     "name": "stderr",
     "output_type": "stream",
     "text": [
      "Metric val_loss improved by 0.596 >= min_delta = 0.01. New best score: 3.233\n"
     ]
    },
    {
     "data": {
      "application/vnd.jupyter.widget-view+json": {
       "model_id": "",
       "version_major": 2,
       "version_minor": 0
      },
      "text/plain": [
       "Validating: 0it [00:00, ?it/s]"
      ]
     },
     "metadata": {},
     "output_type": "display_data"
    },
    {
     "name": "stderr",
     "output_type": "stream",
     "text": [
      "Metric val_loss improved by 0.808 >= min_delta = 0.01. New best score: 2.425\n"
     ]
    },
    {
     "data": {
      "application/vnd.jupyter.widget-view+json": {
       "model_id": "",
       "version_major": 2,
       "version_minor": 0
      },
      "text/plain": [
       "Validating: 0it [00:00, ?it/s]"
      ]
     },
     "metadata": {},
     "output_type": "display_data"
    },
    {
     "name": "stderr",
     "output_type": "stream",
     "text": [
      "Metric val_loss improved by 0.976 >= min_delta = 0.01. New best score: 1.449\n"
     ]
    },
    {
     "data": {
      "application/vnd.jupyter.widget-view+json": {
       "model_id": "",
       "version_major": 2,
       "version_minor": 0
      },
      "text/plain": [
       "Validating: 0it [00:00, ?it/s]"
      ]
     },
     "metadata": {},
     "output_type": "display_data"
    },
    {
     "data": {
      "application/vnd.jupyter.widget-view+json": {
       "model_id": "",
       "version_major": 2,
       "version_minor": 0
      },
      "text/plain": [
       "Validating: 0it [00:00, ?it/s]"
      ]
     },
     "metadata": {},
     "output_type": "display_data"
    },
    {
     "name": "stderr",
     "output_type": "stream",
     "text": [
      "Metric val_loss improved by 0.156 >= min_delta = 0.01. New best score: 1.293\n"
     ]
    },
    {
     "data": {
      "application/vnd.jupyter.widget-view+json": {
       "model_id": "",
       "version_major": 2,
       "version_minor": 0
      },
      "text/plain": [
       "Validating: 0it [00:00, ?it/s]"
      ]
     },
     "metadata": {},
     "output_type": "display_data"
    },
    {
     "name": "stderr",
     "output_type": "stream",
     "text": [
      "Metric val_loss improved by 0.736 >= min_delta = 0.01. New best score: 0.557\n"
     ]
    },
    {
     "data": {
      "application/vnd.jupyter.widget-view+json": {
       "model_id": "",
       "version_major": 2,
       "version_minor": 0
      },
      "text/plain": [
       "Validating: 0it [00:00, ?it/s]"
      ]
     },
     "metadata": {},
     "output_type": "display_data"
    },
    {
     "data": {
      "application/vnd.jupyter.widget-view+json": {
       "model_id": "",
       "version_major": 2,
       "version_minor": 0
      },
      "text/plain": [
       "Validating: 0it [00:00, ?it/s]"
      ]
     },
     "metadata": {},
     "output_type": "display_data"
    },
    {
     "name": "stderr",
     "output_type": "stream",
     "text": [
      "Metric val_loss improved by 0.331 >= min_delta = 0.01. New best score: 0.226\n"
     ]
    },
    {
     "data": {
      "application/vnd.jupyter.widget-view+json": {
       "model_id": "",
       "version_major": 2,
       "version_minor": 0
      },
      "text/plain": [
       "Validating: 0it [00:00, ?it/s]"
      ]
     },
     "metadata": {},
     "output_type": "display_data"
    },
    {
     "name": "stderr",
     "output_type": "stream",
     "text": [
      "Metric val_loss improved by 0.350 >= min_delta = 0.01. New best score: -0.124\n"
     ]
    },
    {
     "data": {
      "application/vnd.jupyter.widget-view+json": {
       "model_id": "",
       "version_major": 2,
       "version_minor": 0
      },
      "text/plain": [
       "Validating: 0it [00:00, ?it/s]"
      ]
     },
     "metadata": {},
     "output_type": "display_data"
    },
    {
     "name": "stderr",
     "output_type": "stream",
     "text": [
      "Metric val_loss improved by 0.392 >= min_delta = 0.01. New best score: -0.516\n"
     ]
    },
    {
     "data": {
      "application/vnd.jupyter.widget-view+json": {
       "model_id": "",
       "version_major": 2,
       "version_minor": 0
      },
      "text/plain": [
       "Validating: 0it [00:00, ?it/s]"
      ]
     },
     "metadata": {},
     "output_type": "display_data"
    },
    {
     "name": "stderr",
     "output_type": "stream",
     "text": [
      "Metric val_loss improved by 0.275 >= min_delta = 0.01. New best score: -0.791\n"
     ]
    },
    {
     "data": {
      "application/vnd.jupyter.widget-view+json": {
       "model_id": "",
       "version_major": 2,
       "version_minor": 0
      },
      "text/plain": [
       "Validating: 0it [00:00, ?it/s]"
      ]
     },
     "metadata": {},
     "output_type": "display_data"
    },
    {
     "data": {
      "application/vnd.jupyter.widget-view+json": {
       "model_id": "",
       "version_major": 2,
       "version_minor": 0
      },
      "text/plain": [
       "Validating: 0it [00:00, ?it/s]"
      ]
     },
     "metadata": {},
     "output_type": "display_data"
    },
    {
     "data": {
      "application/vnd.jupyter.widget-view+json": {
       "model_id": "",
       "version_major": 2,
       "version_minor": 0
      },
      "text/plain": [
       "Validating: 0it [00:00, ?it/s]"
      ]
     },
     "metadata": {},
     "output_type": "display_data"
    },
    {
     "data": {
      "application/vnd.jupyter.widget-view+json": {
       "model_id": "",
       "version_major": 2,
       "version_minor": 0
      },
      "text/plain": [
       "Validating: 0it [00:00, ?it/s]"
      ]
     },
     "metadata": {},
     "output_type": "display_data"
    },
    {
     "data": {
      "application/vnd.jupyter.widget-view+json": {
       "model_id": "",
       "version_major": 2,
       "version_minor": 0
      },
      "text/plain": [
       "Validating: 0it [00:00, ?it/s]"
      ]
     },
     "metadata": {},
     "output_type": "display_data"
    },
    {
     "data": {
      "application/vnd.jupyter.widget-view+json": {
       "model_id": "",
       "version_major": 2,
       "version_minor": 0
      },
      "text/plain": [
       "Validating: 0it [00:00, ?it/s]"
      ]
     },
     "metadata": {},
     "output_type": "display_data"
    },
    {
     "data": {
      "application/vnd.jupyter.widget-view+json": {
       "model_id": "",
       "version_major": 2,
       "version_minor": 0
      },
      "text/plain": [
       "Validating: 0it [00:00, ?it/s]"
      ]
     },
     "metadata": {},
     "output_type": "display_data"
    },
    {
     "data": {
      "application/vnd.jupyter.widget-view+json": {
       "model_id": "",
       "version_major": 2,
       "version_minor": 0
      },
      "text/plain": [
       "Validating: 0it [00:00, ?it/s]"
      ]
     },
     "metadata": {},
     "output_type": "display_data"
    },
    {
     "data": {
      "application/vnd.jupyter.widget-view+json": {
       "model_id": "",
       "version_major": 2,
       "version_minor": 0
      },
      "text/plain": [
       "Validating: 0it [00:00, ?it/s]"
      ]
     },
     "metadata": {},
     "output_type": "display_data"
    },
    {
     "data": {
      "application/vnd.jupyter.widget-view+json": {
       "model_id": "",
       "version_major": 2,
       "version_minor": 0
      },
      "text/plain": [
       "Validating: 0it [00:00, ?it/s]"
      ]
     },
     "metadata": {},
     "output_type": "display_data"
    },
    {
     "name": "stderr",
     "output_type": "stream",
     "text": [
      "Metric val_loss improved by 0.034 >= min_delta = 0.01. New best score: -0.824\n"
     ]
    },
    {
     "data": {
      "application/vnd.jupyter.widget-view+json": {
       "model_id": "",
       "version_major": 2,
       "version_minor": 0
      },
      "text/plain": [
       "Validating: 0it [00:00, ?it/s]"
      ]
     },
     "metadata": {},
     "output_type": "display_data"
    },
    {
     "name": "stderr",
     "output_type": "stream",
     "text": [
      "Metric val_loss improved by 0.107 >= min_delta = 0.01. New best score: -0.932\n"
     ]
    },
    {
     "data": {
      "application/vnd.jupyter.widget-view+json": {
       "model_id": "",
       "version_major": 2,
       "version_minor": 0
      },
      "text/plain": [
       "Validating: 0it [00:00, ?it/s]"
      ]
     },
     "metadata": {},
     "output_type": "display_data"
    },
    {
     "data": {
      "application/vnd.jupyter.widget-view+json": {
       "model_id": "",
       "version_major": 2,
       "version_minor": 0
      },
      "text/plain": [
       "Validating: 0it [00:00, ?it/s]"
      ]
     },
     "metadata": {},
     "output_type": "display_data"
    },
    {
     "data": {
      "application/vnd.jupyter.widget-view+json": {
       "model_id": "",
       "version_major": 2,
       "version_minor": 0
      },
      "text/plain": [
       "Validating: 0it [00:00, ?it/s]"
      ]
     },
     "metadata": {},
     "output_type": "display_data"
    },
    {
     "data": {
      "application/vnd.jupyter.widget-view+json": {
       "model_id": "",
       "version_major": 2,
       "version_minor": 0
      },
      "text/plain": [
       "Validating: 0it [00:00, ?it/s]"
      ]
     },
     "metadata": {},
     "output_type": "display_data"
    },
    {
     "data": {
      "application/vnd.jupyter.widget-view+json": {
       "model_id": "",
       "version_major": 2,
       "version_minor": 0
      },
      "text/plain": [
       "Validating: 0it [00:00, ?it/s]"
      ]
     },
     "metadata": {},
     "output_type": "display_data"
    },
    {
     "data": {
      "application/vnd.jupyter.widget-view+json": {
       "model_id": "",
       "version_major": 2,
       "version_minor": 0
      },
      "text/plain": [
       "Validating: 0it [00:00, ?it/s]"
      ]
     },
     "metadata": {},
     "output_type": "display_data"
    },
    {
     "data": {
      "application/vnd.jupyter.widget-view+json": {
       "model_id": "",
       "version_major": 2,
       "version_minor": 0
      },
      "text/plain": [
       "Validating: 0it [00:00, ?it/s]"
      ]
     },
     "metadata": {},
     "output_type": "display_data"
    },
    {
     "data": {
      "application/vnd.jupyter.widget-view+json": {
       "model_id": "",
       "version_major": 2,
       "version_minor": 0
      },
      "text/plain": [
       "Validating: 0it [00:00, ?it/s]"
      ]
     },
     "metadata": {},
     "output_type": "display_data"
    },
    {
     "data": {
      "application/vnd.jupyter.widget-view+json": {
       "model_id": "",
       "version_major": 2,
       "version_minor": 0
      },
      "text/plain": [
       "Validating: 0it [00:00, ?it/s]"
      ]
     },
     "metadata": {},
     "output_type": "display_data"
    },
    {
     "data": {
      "application/vnd.jupyter.widget-view+json": {
       "model_id": "",
       "version_major": 2,
       "version_minor": 0
      },
      "text/plain": [
       "Validating: 0it [00:00, ?it/s]"
      ]
     },
     "metadata": {},
     "output_type": "display_data"
    },
    {
     "data": {
      "application/vnd.jupyter.widget-view+json": {
       "model_id": "",
       "version_major": 2,
       "version_minor": 0
      },
      "text/plain": [
       "Validating: 0it [00:00, ?it/s]"
      ]
     },
     "metadata": {},
     "output_type": "display_data"
    },
    {
     "data": {
      "application/vnd.jupyter.widget-view+json": {
       "model_id": "",
       "version_major": 2,
       "version_minor": 0
      },
      "text/plain": [
       "Validating: 0it [00:00, ?it/s]"
      ]
     },
     "metadata": {},
     "output_type": "display_data"
    },
    {
     "data": {
      "application/vnd.jupyter.widget-view+json": {
       "model_id": "",
       "version_major": 2,
       "version_minor": 0
      },
      "text/plain": [
       "Validating: 0it [00:00, ?it/s]"
      ]
     },
     "metadata": {},
     "output_type": "display_data"
    },
    {
     "data": {
      "application/vnd.jupyter.widget-view+json": {
       "model_id": "",
       "version_major": 2,
       "version_minor": 0
      },
      "text/plain": [
       "Validating: 0it [00:00, ?it/s]"
      ]
     },
     "metadata": {},
     "output_type": "display_data"
    },
    {
     "data": {
      "application/vnd.jupyter.widget-view+json": {
       "model_id": "",
       "version_major": 2,
       "version_minor": 0
      },
      "text/plain": [
       "Validating: 0it [00:00, ?it/s]"
      ]
     },
     "metadata": {},
     "output_type": "display_data"
    },
    {
     "data": {
      "application/vnd.jupyter.widget-view+json": {
       "model_id": "",
       "version_major": 2,
       "version_minor": 0
      },
      "text/plain": [
       "Validating: 0it [00:00, ?it/s]"
      ]
     },
     "metadata": {},
     "output_type": "display_data"
    },
    {
     "data": {
      "application/vnd.jupyter.widget-view+json": {
       "model_id": "",
       "version_major": 2,
       "version_minor": 0
      },
      "text/plain": [
       "Validating: 0it [00:00, ?it/s]"
      ]
     },
     "metadata": {},
     "output_type": "display_data"
    },
    {
     "data": {
      "application/vnd.jupyter.widget-view+json": {
       "model_id": "",
       "version_major": 2,
       "version_minor": 0
      },
      "text/plain": [
       "Validating: 0it [00:00, ?it/s]"
      ]
     },
     "metadata": {},
     "output_type": "display_data"
    },
    {
     "data": {
      "application/vnd.jupyter.widget-view+json": {
       "model_id": "",
       "version_major": 2,
       "version_minor": 0
      },
      "text/plain": [
       "Validating: 0it [00:00, ?it/s]"
      ]
     },
     "metadata": {},
     "output_type": "display_data"
    },
    {
     "data": {
      "application/vnd.jupyter.widget-view+json": {
       "model_id": "",
       "version_major": 2,
       "version_minor": 0
      },
      "text/plain": [
       "Validating: 0it [00:00, ?it/s]"
      ]
     },
     "metadata": {},
     "output_type": "display_data"
    },
    {
     "name": "stderr",
     "output_type": "stream",
     "text": [
      "Monitored metric val_loss did not improve in the last 20 records. Best score: -0.932. Signaling Trainer to stop.\n"
     ]
    }
   ],
   "source": [
    "trainer_combined.fit(model_combined_pl)"
   ]
  },
  {
   "cell_type": "code",
   "execution_count": 32,
   "id": "4e0d2147",
   "metadata": {},
   "outputs": [
    {
     "name": "stderr",
     "output_type": "stream",
     "text": [
      "/home/eromanenkova/anaconda3/lib/python3.7/site-packages/numpy/core/fromnumeric.py:3420: RuntimeWarning: Mean of empty slice.\n",
      "  out=out, **kwargs)\n",
      "/home/eromanenkova/anaconda3/lib/python3.7/site-packages/numpy/core/_methods.py:188: RuntimeWarning: invalid value encountered in double_scalars\n",
      "  ret = ret.dtype.type(ret / rcount)\n"
     ]
    },
    {
     "name": "stdout",
     "output_type": "stream",
     "text": [
      "AUC: 15.3661\n",
      "Time to FA 15.5562, delay detection 2.8652 for best-cover threshold: 0.8411\n",
      "TP 9, TN 106, FP 1, FN 62 for best-cover threshold: 0.8411\n",
      "Max COVER 0.8199: for threshold 0.8411\n",
      "Max F1 0.4: for threshold 0.1107\n",
      "F1 0.2222: for best-cover threshold 0.8411\n",
      "Max F1_ruptures (M=5) 1.0: for threshold 0.8893\n",
      "F1_ruptures 0.6: for best-cover threshold 0.8411\n"
     ]
    }
   ],
   "source": [
    "_, delay_list_combined, fp_delay_list_combined = metrics.evaluation_pipeline(model_combined_pl, \n",
    "                                                                             model_combined_pl.val_dataloader(), \n",
    "                                                                             threshold_list, \n",
    "                                                                             device='cuda', \n",
    "                                                                             verbose=True)"
   ]
  },
  {
   "cell_type": "code",
   "execution_count": 33,
   "id": "b1b258f8",
   "metadata": {},
   "outputs": [
    {
     "data": {
      "image/png": "[encoded data removed]",
      "text/plain": [
       "<Figure size 864x864 with 1 Axes>"
      ]
     },
     "metadata": {
      "needs_background": "light"
     },
     "output_type": "display_data"
    }
   ],
   "source": [
    "plt.figure(figsize=(12, 12))\n",
    "plt.plot(fp_delay_list_cpd, delay_list_cpd, '-o', markersize=4, label='CPD (ours)')\n",
    "plt.plot(fp_delay_list_bce, delay_list_bce, '-o', markersize=4, label='BCE')\n",
    "plt.plot(fp_delay_list_combined, delay_list_combined, '-o', markersize=4, label='Combined (ours)')\n",
    "\n",
    "plt.xlabel('Mean Time to False Alarm', fontsize=28)\n",
    "plt.ylabel('Mean Detection Delay', fontsize=28)\n",
    "plt.xticks(fontsize=24)\n",
    "plt.yticks(fontsize=24)\n",
    "plt.legend(loc='upper left', fontsize=26);"
   ]
  },
  {
   "cell_type": "code",
   "execution_count": null,
   "id": "fc504421",
   "metadata": {},
   "outputs": [],
   "source": []
  }
 ],
 "metadata": {
  "kernelspec": {
   "display_name": "Python 3",
   "language": "python",
   "name": "python3"
  },
  "language_info": {
   "codemirror_mode": {
    "name": "ipython",
    "version": 3
   },
   "file_extension": ".py",
   "mimetype": "text/x-python",
   "name": "python",
   "nbconvert_exporter": "python",
   "pygments_lexer": "ipython3",
   "version": "3.7.9"
  }
 },
 "nbformat": 4,
 "nbformat_minor": 5
}
