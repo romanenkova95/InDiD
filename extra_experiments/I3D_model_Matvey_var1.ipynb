{
 "cells": [
  {
   "cell_type": "code",
   "execution_count": 1,
   "id": "05979f91",
   "metadata": {},
   "outputs": [
    {
     "name": "stdout",
     "output_type": "stream",
     "text": [
      "CPU times: user 1.42 s, sys: 480 ms, total: 1.9 s\n",
      "Wall time: 1.48 s\n"
     ]
    }
   ],
   "source": [
    "%%time\n",
    "\n",
    "import os\n",
    "import numpy as np\n",
    "import torch\n",
    "import random\n",
    "import pytorch_lightning as pl\n",
    "import cv2\n",
    "import json\n",
    "\n",
    "from PIL import Image\n",
    "from torchvision import transforms\n",
    "from typing import Dict\n",
    "\n",
    "from tqdm.notebook import tqdm\n",
    "\n",
    "import torch.nn as nn\n",
    "from torch.optim import Adam\n",
    "from torch.utils.data import DataLoader\n",
    "from pytorch_lightning.callbacks.early_stopping import EarlyStopping\n",
    "\n",
    "from torchvision.transforms import Compose, Lambda\n",
    "from torchvision.transforms._transforms_video import CenterCropVideo, NormalizeVideo\n",
    "\n",
    "from pytorchvideo.data.encoded_video import EncodedVideo\n",
    "from pytorchvideo.transforms import ApplyTransformToKey, ShortSideScale, UniformTemporalSubsample, UniformCropVideo\n",
    "\n",
    "import matplotlib.pyplot as plt\n",
    "%matplotlib inline\n",
    "\n",
    "from CPD import datasets, loss, metrics, models"
   ]
  },
  {
   "cell_type": "markdown",
   "id": "270468b0",
   "metadata": {},
   "source": [
    "### Fix GPU"
   ]
  },
  {
   "cell_type": "code",
   "execution_count": 3,
   "id": "e7955959",
   "metadata": {},
   "outputs": [],
   "source": [
    "os.environ['CUDA_VISIBLE_DEVICES'] = \"0\""
   ]
  },
  {
   "cell_type": "markdown",
   "id": "b41ccc4e",
   "metadata": {},
   "source": [
    "### Fix random seeds"
   ]
  },
  {
   "cell_type": "code",
   "execution_count": 4,
   "id": "90e5bb77",
   "metadata": {},
   "outputs": [
    {
     "data": {
      "text/plain": [
       "<torch._C.Generator at 0x7fcea79f3a70>"
      ]
     },
     "execution_count": 4,
     "metadata": {},
     "output_type": "execute_result"
    }
   ],
   "source": [
    "random.seed(123)\n",
    "torch.manual_seed(123)"
   ]
  },
  {
   "cell_type": "markdown",
   "id": "ebda89d1",
   "metadata": {},
   "source": [
    "### Device"
   ]
  },
  {
   "cell_type": "code",
   "execution_count": 5,
   "id": "05eab229",
   "metadata": {},
   "outputs": [
    {
     "name": "stdout",
     "output_type": "stream",
     "text": [
      "cuda\n"
     ]
    }
   ],
   "source": [
    "device = torch.device('cuda' if torch.cuda.is_available() else 'cpu')\n",
    "print(device)"
   ]
  },
  {
   "cell_type": "markdown",
   "id": "fe85a415",
   "metadata": {},
   "source": [
    "### Dataloader"
   ]
  },
  {
   "cell_type": "code",
   "execution_count": 6,
   "id": "16f9c4fa",
   "metadata": {},
   "outputs": [],
   "source": [
    "class UCF_VIDEOS_DATASET(torch.utils.data.Dataset):\n",
    "    def __init__(self, path_to_annotation, path_to_videos, seq_len):\n",
    "        super(UCF_VIDEOS_DATASET, self).__init__()\n",
    "        self.path_to_annotation = path_to_annotation\n",
    "        self.path_to_videos = path_to_videos\n",
    "        self.seq_len = seq_len\n",
    "        \n",
    "        self.annotation_array = []\n",
    "        \n",
    "        preprocess = transforms.Compose([transforms.ToTensor()])\n",
    "        \n",
    "        time_step = 3\n",
    "        num_samles = 6\n",
    "        num_attempts = 300\n",
    "        \n",
    "        self.data = []\n",
    "        self.len = 0\n",
    "        \n",
    "        with open(path_to_annotation, 'r') as fp:\n",
    "            for line in tqdm(fp):\n",
    "                if line.split(\"  \")[1] == \"Explosion\":\n",
    "                    self.annotation_array.append([line.split(\"  \")[0], \n",
    "                                                  int(line.split(\"  \")[2]), \n",
    "                                                  int(line.split(\"  \")[3]),\n",
    "                                                  int(line.split(\"  \")[4])])\n",
    "                    \n",
    "                    cap = cv2.VideoCapture(os.path.join(self.path_to_videos, line.split(\"  \")[0]))\n",
    "                    \n",
    "                    count_ = 0\n",
    "                    num_attempts_ = 0\n",
    "                    nums_zeros = []\n",
    "                    while count_ != num_samles:\n",
    "                        num_attempts_ += 1\n",
    "                        num_zeros = random.randint(1, self.seq_len-1)\n",
    "                        if not num_zeros in nums_zeros:\n",
    "                            frames_ones = [int(line.split(\"  \")[3]) + i*time_step for i in range(self.seq_len-num_zeros)]\n",
    "                            frames_zeros = sorted([int(line.split(\"  \")[3]) - (i+1)*time_step for i in range(num_zeros)])\n",
    "                            \n",
    "                            if frames_zeros[0] >= int(line.split(\"  \")[2]) and frames_ones[-1] <= int(line.split(\"  \")[4]):\n",
    "                                frames_all = np.append(frames_zeros, frames_ones)\n",
    "                                sequence_labels = np.append(np.zeros(num_zeros), np.ones(self.seq_len-num_zeros))\n",
    "                                sequence_imgs = []\n",
    "\n",
    "                                for frame_id in frames_all:\n",
    "                                    cap.set(cv2.CAP_PROP_POS_FRAMES, frame_id)\n",
    "                                    ret, frame = cap.read()\n",
    "                                    frame_rgb = cv2.cvtColor(frame, cv2.COLOR_BGR2RGB)\n",
    "                                    frame_pil = Image.fromarray(frame_rgb)\n",
    "                                    sequence_imgs.append(preprocess(frame_pil))\n",
    "\n",
    "                                sequence_imgs = torch.stack(sequence_imgs)\n",
    "                                sequence_labels = torch.from_numpy(sequence_labels)\n",
    "                                self.data.append([sequence_imgs, sequence_labels])\n",
    "\n",
    "                                count_ += 1\n",
    "                                nums_zeros.append(num_zeros)\n",
    "                                self.len += 1\n",
    "                            \n",
    "                        if num_attempts_ == num_attempts:\n",
    "                            break\n",
    "                            \n",
    "                if line.split(\"  \")[1] == \"Normal\":\n",
    "                    self.annotation_array.append([line.split(\"  \")[0], \n",
    "                                                  int(line.split(\"  \")[2]), \n",
    "                                                  int(line.split(\"  \")[4])])\n",
    "                    \n",
    "                    cap = cv2.VideoCapture(os.path.join(self.path_to_videos, line.split(\"  \")[0]))\n",
    "                    \n",
    "                    num_zeros = self.seq_len\n",
    "                    frames_all = sorted([int(line.split(\"  \")[4]) - i*time_step for i in range(num_zeros)])\n",
    "\n",
    "                    if frames_zeros[0] >= int(line.split(\"  \")[2]):\n",
    "                        sequence_labels = np.zeros(num_zeros)\n",
    "                        sequence_imgs = []\n",
    "\n",
    "                        for frame_id in frames_all:\n",
    "                            cap.set(cv2.CAP_PROP_POS_FRAMES, frame_id)\n",
    "                            ret, frame = cap.read()\n",
    "                            frame_rgb = cv2.cvtColor(frame, cv2.COLOR_BGR2RGB)\n",
    "                            frame_pil = Image.fromarray(frame_rgb)\n",
    "                            sequence_imgs.append(preprocess(frame_pil))\n",
    "\n",
    "                        sequence_imgs = torch.stack(sequence_imgs)\n",
    "                        sequence_labels = torch.from_numpy(sequence_labels)\n",
    "                        self.data.append([sequence_imgs, sequence_labels])\n",
    "                        self.len += 1\n",
    "                        \n",
    "                    frames_all = sorted([int(line.split(\"  \")[2]) + i*time_step for i in range(num_zeros)])\n",
    "\n",
    "                    if frames_zeros[-1] <= int(line.split(\"  \")[5]):\n",
    "                        sequence_labels = np.zeros(num_zeros)\n",
    "                        sequence_imgs = []\n",
    "\n",
    "                        for frame_id in frames_all:\n",
    "                            cap.set(cv2.CAP_PROP_POS_FRAMES, frame_id)\n",
    "                            ret, frame = cap.read()\n",
    "                            frame_rgb = cv2.cvtColor(frame, cv2.COLOR_BGR2RGB)\n",
    "                            frame_pil = Image.fromarray(frame_rgb)\n",
    "                            sequence_imgs.append(preprocess(frame_pil))\n",
    "\n",
    "                        sequence_imgs = torch.stack(sequence_imgs)\n",
    "                        sequence_labels = torch.from_numpy(sequence_labels)\n",
    "                        self.data.append([sequence_imgs, sequence_labels])\n",
    "                        self.len += 1\n",
    "\n",
    "    def __len__(self):\n",
    "        return self.len\n",
    "        \n",
    "    def __getitem__(self, item_idx):\n",
    "        \n",
    "        sequence_imgs = self.data[item_idx][0]\n",
    "        sequence_labels = self.data[item_idx][1]\n",
    "        \n",
    "        return sequence_imgs, sequence_labels"
   ]
  },
  {
   "cell_type": "code",
   "execution_count": 8,
   "id": "b1f5fa2c",
   "metadata": {},
   "outputs": [
    {
     "data": {
      "application/vnd.jupyter.widget-view+json": {
       "model_id": "088ac50188e44fa1bff33a0e358b563b",
       "version_major": 2,
       "version_minor": 0
      },
      "text/plain": [
       "0it [00:00, ?it/s]"
      ]
     },
     "metadata": {},
     "output_type": "display_data"
    },
    {
     "data": {
      "application/vnd.jupyter.widget-view+json": {
       "model_id": "9b42fb3405ea407ea1dc1b05f4eaeff2",
       "version_major": 2,
       "version_minor": 0
      },
      "text/plain": [
       "0it [00:00, ?it/s]"
      ]
     },
     "metadata": {},
     "output_type": "display_data"
    },
    {
     "name": "stdout",
     "output_type": "stream",
     "text": [
      "CPU times: user 35min 49s, sys: 8.97 s, total: 35min 58s\n",
      "Wall time: 11min 10s\n"
     ]
    }
   ],
   "source": [
    "%%time\n",
    "\n",
    "seq_len = 16\n",
    "path_to_videos = \"data/explosion/\"\n",
    "path_annotation_train = \"UCF_train.txt\"\n",
    "path_annotation_validation = \"UCF_validation.txt\"\n",
    "\n",
    "imgs_dataset_train = UCF_VIDEOS_DATASET(path_annotation_train, \n",
    "                                        path_to_videos, \n",
    "                                        seq_len=seq_len)\n",
    "\n",
    "imgs_dataset_validation = UCF_VIDEOS_DATASET(path_annotation_validation, \n",
    "                                             path_to_videos, \n",
    "                                             seq_len=seq_len)"
   ]
  },
  {
   "cell_type": "code",
   "execution_count": 12,
   "id": "f3f1e300",
   "metadata": {},
   "outputs": [],
   "source": [
    "HIDDEN_LSTM = 16\n",
    "HIDDEN_LSTM = 2048 * 7 * 7\n",
    "HIDDEN_LSTM = 2048 * 8 * 10\n",
    "\n",
    "class Combine(nn.Module):\n",
    "    def __init__(self):\n",
    "        super(Combine, self).__init__()\n",
    "        # Pick a pretrained model and load the pretrained weights\n",
    "        model_name = \"slow_r50\"\n",
    "        self.extractor = torch.hub.load('facebookresearch/pytorchvideo:main', 'slow_r50', pretrained=True)\n",
    "        # 5 for full cnn part\n",
    "        self.extractor = nn.Sequential(*list(self.extractor.blocks[:5]))\n",
    "        \n",
    "\n",
    "        #self.rnn = nn.LSTM(\n",
    "        #    input_size=2048 * 7 * 7,\n",
    "        #    hidden_size=HIDDEN_LSTM, \n",
    "        #    num_layers=1,\n",
    "        #    batch_first=True, \n",
    "        #    dropout=0.5)\n",
    "        \n",
    "        self.linear = nn.Linear(HIDDEN_LSTM, 1)      \n",
    "        self.dropout = nn.Dropout(0.5)\n",
    "        self.relu = nn.ReLU()  \n",
    "        self.activation = nn.Sigmoid()        \n",
    "\n",
    "    def forward(self, x):\n",
    "        \n",
    "        batch_size, timesteps, C, H, W = x.size()\n",
    "        c_in = x.transpose(1, 2) \n",
    "        c_out = self.extractor(c_in) \n",
    "        r_in = c_out.transpose(1, 2).flatten(2)\n",
    "        #print(c_out.shape)\n",
    "        r_out = r_in\n",
    "        #r_out, _ = self.rnn(r_in)\n",
    "        r_out = self.dropout(self.linear(r_out))\n",
    "        out = torch.sigmoid(r_out)\n",
    "        return out    "
   ]
  },
  {
   "cell_type": "markdown",
   "id": "1ee48c32",
   "metadata": {},
   "source": [
    "### Pytorch Lightning"
   ]
  },
  {
   "cell_type": "code",
   "execution_count": 14,
   "id": "95c8792f",
   "metadata": {},
   "outputs": [],
   "source": [
    "class CPD_model(pl.LightningModule):\n",
    "    def __init__(\n",
    "        self,\n",
    "        model, \n",
    "        imgs_dataset_train,\n",
    "        imgs_dataset_validation,\n",
    "        batch_size: int = 16,\n",
    "        seq_len: int = 16, \n",
    "        loss_type: str = 'bce',\n",
    "        path_to_videos: str = \"data/explosion/\",\n",
    "        path_annotation_train: str = \"UCF_train.txt\",\n",
    "        path_annotation_validation: str = \"UCF_validation.txt\",\n",
    "        \n",
    "    ):\n",
    "        super(CPD_model, self).__init__()\n",
    "\n",
    "        self.model = model.to(self.device)\n",
    "        self.batch_size = batch_size\n",
    "        self.seq_len = seq_len\n",
    "        \n",
    "        if loss_type == 'bce':\n",
    "            self.loss = nn.BCELoss()\n",
    "        else:\n",
    "            self.loss = loss.CPDLoss(len_segment=4)\n",
    "            \n",
    "        self.imgs_dataset_train = imgs_dataset_train\n",
    "        self.imgs_dataset_validation = imgs_dataset_validation   \n",
    "        \n",
    "    def forward(self, inputs):\n",
    "        return self.model(inputs)\n",
    "\n",
    "    def training_step(self, batch, batch_idx):\n",
    "        videos, labels = batch\n",
    "        pred = self.forward(videos.float())\n",
    "\n",
    "        train_loss = self.loss(pred.squeeze(), labels.float().squeeze())\n",
    "        train_accuracy = ((pred.squeeze() > 0.5).long() == labels.squeeze()).float().mean()\n",
    "\n",
    "        self.log('train_loss', train_loss, prog_bar=True, on_epoch=True)\n",
    "        self.log('train_acc', train_accuracy, prog_bar=True, on_epoch=True)    \n",
    "        \n",
    "        return train_loss\n",
    "\n",
    "    def validation_step(self, batch, batch_idx):\n",
    "        videos, labels = batch\n",
    "        pred = self.forward(videos.float())\n",
    "        \n",
    "        val_loss = self.loss(pred.squeeze(), labels.float().squeeze())      \n",
    "        val_accuracy = ((pred.squeeze() > 0.5).long() == labels.squeeze()).float().mean()\n",
    "                \n",
    "        self.log('val_loss', val_loss, prog_bar=True)    \n",
    "        self.log('val_acc', val_accuracy, prog_bar=True)    \n",
    "        \n",
    "        return {'val_loss': val_loss, 'val_acc': val_accuracy}\n",
    "    \n",
    "\n",
    "    def configure_optimizers(self):\n",
    "        opt = torch.optim.Adam(self.model.parameters(), lr=0.001) \n",
    "        return [opt]\n",
    "\n",
    "    def train_dataloader(self):\n",
    "        \n",
    "        train_dataloader = DataLoader(self.imgs_dataset_train, batch_size=self.batch_size, shuffle=True, num_workers=4)\n",
    "        return train_dataloader\n",
    "        \n",
    "    \n",
    "    def val_dataloader(self):\n",
    "        \n",
    "        val_dataloader = DataLoader(self.imgs_dataset_validation, batch_size=self.batch_size, shuffle=False, num_workers=4)\n",
    "        return val_dataloader"
   ]
  },
  {
   "cell_type": "markdown",
   "id": "7aa3bae3",
   "metadata": {},
   "source": [
    "## Model CUSTOM loss"
   ]
  },
  {
   "cell_type": "code",
   "execution_count": 16,
   "id": "65740d6f",
   "metadata": {},
   "outputs": [
    {
     "name": "stderr",
     "output_type": "stream",
     "text": [
      "Using cache found in /home/eromanenkova/.cache/torch/hub/facebookresearch_pytorchvideo_main\n",
      "GPU available: True, used: True\n",
      "TPU available: False, using: 0 TPU cores\n"
     ]
    }
   ],
   "source": [
    "model_custom = Combine()\n",
    "\n",
    "names = ['4.res_blocks.2.branch2.conv_c.weight', \n",
    "         '4.res_blocks.2.branch2.norm_c.weight',\n",
    "         '4.res_blocks.2.branch2.norm_c.bias']\n",
    "\n",
    "for name, param in model_custom.extractor.named_parameters():\n",
    "    #if not name in names:\n",
    "    param.requires_grad = False\n",
    "        \n",
    "model_custom_pl = CPD_model(model=model_custom,\n",
    "                            imgs_dataset_train=imgs_dataset_train,\n",
    "                            imgs_dataset_validation=imgs_dataset_validation,\n",
    "                            batch_size=16, \n",
    "                            seq_len=16, \n",
    "                            loss_type='custom')    \n",
    "\n",
    "\n",
    "running = 2\n",
    "\n",
    "experiment_name = 'I3D_v{}'.format(running)\n",
    "logger = pl.loggers.TensorBoardLogger(save_dir='logs/', name=experiment_name)\n",
    "\n",
    "checkpoint_callback = pl.callbacks.ModelCheckpoint(\n",
    "    monitor='val_acc',\n",
    "    dirpath=f'logs/{experiment_name}',\n",
    "    filename='{epoch:02d}-{val_acc:.3f}',\n",
    "    mode='max')\n",
    "\n",
    "checkpoint_callback_2 = pl.callbacks.ModelCheckpoint(\n",
    "    monitor='val_loss',\n",
    "    dirpath=f'logs/{experiment_name}',\n",
    "    filename='{epoch:02d}-{val_loss:.3f}',\n",
    "    mode='min')\n",
    "\n",
    "\n",
    "early_stop_callback = EarlyStopping(\n",
    "   monitor='val_loss',\n",
    "   min_delta=0.01,\n",
    "   patience=20,\n",
    "   verbose=True,\n",
    "   mode='min'\n",
    ")\n",
    "\n",
    "trainer_custom = pl.Trainer(\n",
    "    max_epochs=200, \n",
    "    gpus='0', \n",
    "    benchmark=True, \n",
    "    check_val_every_n_epoch=1, \n",
    "    logger=logger,\n",
    "    callbacks=[checkpoint_callback, checkpoint_callback_2, early_stop_callback])    "
   ]
  },
  {
   "cell_type": "code",
   "execution_count": 17,
   "id": "f0e9ea50",
   "metadata": {
    "scrolled": true
   },
   "outputs": [
    {
     "name": "stderr",
     "output_type": "stream",
     "text": [
      "LOCAL_RANK: 0 - CUDA_VISIBLE_DEVICES: [0]\n",
      "\n",
      "  | Name  | Type    | Params\n",
      "----------------------------------\n",
      "0 | model | Combine | 31.8 M\n",
      "1 | loss  | CPDLoss | 0     \n",
      "----------------------------------\n",
      "163 K     Trainable params\n",
      "31.6 M    Non-trainable params\n",
      "31.8 M    Total params\n",
      "127.193   Total estimated model params size (MB)\n"
     ]
    },
    {
     "data": {
      "application/vnd.jupyter.widget-view+json": {
       "model_id": "",
       "version_major": 2,
       "version_minor": 0
      },
      "text/plain": [
       "Validation sanity check: 0it [00:00, ?it/s]"
      ]
     },
     "metadata": {},
     "output_type": "display_data"
    },
    {
     "data": {
      "application/vnd.jupyter.widget-view+json": {
       "model_id": "afdbd9c5c4344f03913f7a2955d9de48",
       "version_major": 2,
       "version_minor": 0
      },
      "text/plain": [
       "Training: 0it [00:00, ?it/s]"
      ]
     },
     "metadata": {},
     "output_type": "display_data"
    },
    {
     "name": "stdout",
     "output_type": "stream",
     "text": [
      "CPU times: user 4.22 s, sys: 1.32 s, total: 5.55 s\n",
      "Wall time: 8.21 s\n"
     ]
    },
    {
     "name": "stderr",
     "output_type": "stream",
     "text": [
      "/home/eromanenkova/anaconda3/lib/python3.7/site-packages/pytorch_lightning/utilities/distributed.py:69: UserWarning: Detected KeyboardInterrupt, attempting graceful shutdown...\n",
      "  warnings.warn(*args, **kwargs)\n"
     ]
    }
   ],
   "source": [
    "%%time\n",
    "\n",
    "trainer_custom.fit(model_custom_pl)"
   ]
  },
  {
   "cell_type": "markdown",
   "id": "61725d1e",
   "metadata": {},
   "source": [
    "### Model BCE"
   ]
  },
  {
   "cell_type": "code",
   "execution_count": 11,
   "id": "2c54a602",
   "metadata": {},
   "outputs": [
    {
     "name": "stderr",
     "output_type": "stream",
     "text": [
      "Using cache found in /root/.cache/torch/hub/facebookresearch_pytorchvideo_main\n"
     ]
    },
    {
     "data": {
      "application/vnd.jupyter.widget-view+json": {
       "model_id": "ee24c04a0b2e4061b79a9e03a25ae371",
       "version_major": 2,
       "version_minor": 0
      },
      "text/plain": [
       "HBox(children=(HTML(value=''), FloatProgress(value=1.0, bar_style='info', layout=Layout(width='20px'), max=1.0…"
      ]
     },
     "metadata": {},
     "output_type": "display_data"
    },
    {
     "name": "stdout",
     "output_type": "stream",
     "text": [
      "\n"
     ]
    },
    {
     "data": {
      "application/vnd.jupyter.widget-view+json": {
       "model_id": "a25d513da7ae41868acf27486b93fa43",
       "version_major": 2,
       "version_minor": 0
      },
      "text/plain": [
       "HBox(children=(HTML(value=''), FloatProgress(value=1.0, bar_style='info', layout=Layout(width='20px'), max=1.0…"
      ]
     },
     "metadata": {},
     "output_type": "display_data"
    },
    {
     "name": "stdout",
     "output_type": "stream",
     "text": [
      "\n"
     ]
    }
   ],
   "source": [
    "model_bce = Combine()\n",
    "\n",
    "names = ['4.res_blocks.2.branch2.conv_c.weight', \n",
    "         '4.res_blocks.2.branch2.norm_c.weight',\n",
    "         '4.res_blocks.2.branch2.norm_c.bias']\n",
    "\n",
    "for name, param in model_bce.extractor.named_parameters():\n",
    "    if not name in names:\n",
    "        param.requires_grad = False\n",
    "        \n",
    "model_bce = CPD_model(model=model_bce,\n",
    "                      imgs_dataset_train=imgs_dataset_train,\n",
    "                      imgs_dataset_validation=imgs_dataset_validation,\n",
    "                      batch_size=16, \n",
    "                      seq_len=16, \n",
    "                      loss_type='bce')    \n",
    "\n",
    "\n",
    "running = 2\n",
    "\n",
    "experiment_name = 'I3D_v{}'.format(running)\n",
    "logger = pl.loggers.TensorBoardLogger(save_dir='logs/', name=experiment_name)\n",
    "\n",
    "checkpoint_callback = pl.callbacks.ModelCheckpoint(\n",
    "    monitor='val_acc',\n",
    "    dirpath=f'logs/{experiment_name}',\n",
    "    filename='{epoch:02d}-{val_acc:.3f}',\n",
    "    mode='max')\n",
    "\n",
    "checkpoint_callback_2 = pl.callbacks.ModelCheckpoint(\n",
    "    monitor='val_loss',\n",
    "    dirpath=f'logs/{experiment_name}',\n",
    "    filename='{epoch:02d}-{val_loss:.3f}',\n",
    "    mode='min')\n",
    "\n",
    "\n",
    "early_stop_callback = EarlyStopping(\n",
    "   monitor='val_loss',\n",
    "   min_delta=0.01,\n",
    "   patience=20,\n",
    "   verbose=True,\n",
    "   mode='min'\n",
    ")"
   ]
  },
  {
   "cell_type": "code",
   "execution_count": 12,
   "id": "f6ca13c6",
   "metadata": {},
   "outputs": [
    {
     "name": "stderr",
     "output_type": "stream",
     "text": [
      "GPU available: True, used: True\n",
      "TPU available: False, using: 0 TPU cores\n",
      "IPU available: False, using: 0 IPUs\n"
     ]
    }
   ],
   "source": [
    "trainer_bce = pl.Trainer(\n",
    "    max_epochs=200, \n",
    "    gpus='1', \n",
    "    benchmark=True, \n",
    "    check_val_every_n_epoch=1, \n",
    "    gradient_clip_val=0.5,\n",
    "    logger=logger,\n",
    "    callbacks=[checkpoint_callback, checkpoint_callback_2, early_stop_callback])  "
   ]
  },
  {
   "cell_type": "code",
   "execution_count": 13,
   "id": "58bc5289",
   "metadata": {},
   "outputs": [
    {
     "name": "stderr",
     "output_type": "stream",
     "text": [
      "LOCAL_RANK: 0 - CUDA_VISIBLE_DEVICES: [3]\n",
      "\n",
      "  | Name  | Type    | Params\n",
      "----------------------------------\n",
      "0 | model | Combine | 31.8 M\n",
      "1 | loss  | BCELoss | 0     \n",
      "----------------------------------\n",
      "1.2 M     Trainable params\n",
      "30.6 M    Non-trainable params\n",
      "31.8 M    Total params\n",
      "127.193   Total estimated model params size (MB)\n"
     ]
    },
    {
     "data": {
      "application/vnd.jupyter.widget-view+json": {
       "model_id": "",
       "version_major": 2,
       "version_minor": 0
      },
      "text/plain": [
       "HBox(children=(HTML(value='Validation sanity check'), FloatProgress(value=1.0, bar_style='info', layout=Layout…"
      ]
     },
     "metadata": {},
     "output_type": "display_data"
    },
    {
     "data": {
      "application/vnd.jupyter.widget-view+json": {
       "model_id": "e75603e04bf34c928a99cffa85bfc14f",
       "version_major": 2,
       "version_minor": 0
      },
      "text/plain": [
       "HBox(children=(HTML(value='Training'), FloatProgress(value=1.0, bar_style='info', layout=Layout(flex='2'), max…"
      ]
     },
     "metadata": {},
     "output_type": "display_data"
    },
    {
     "data": {
      "application/vnd.jupyter.widget-view+json": {
       "model_id": "",
       "version_major": 2,
       "version_minor": 0
      },
      "text/plain": [
       "HBox(children=(HTML(value='Validating'), FloatProgress(value=1.0, bar_style='info', layout=Layout(flex='2'), m…"
      ]
     },
     "metadata": {},
     "output_type": "display_data"
    },
    {
     "name": "stderr",
     "output_type": "stream",
     "text": [
      "Metric val_loss improved. New best score: 3.648\n"
     ]
    },
    {
     "data": {
      "application/vnd.jupyter.widget-view+json": {
       "model_id": "",
       "version_major": 2,
       "version_minor": 0
      },
      "text/plain": [
       "HBox(children=(HTML(value='Validating'), FloatProgress(value=1.0, bar_style='info', layout=Layout(flex='2'), m…"
      ]
     },
     "metadata": {},
     "output_type": "display_data"
    },
    {
     "name": "stderr",
     "output_type": "stream",
     "text": [
      "Metric val_loss improved by 0.878 >= min_delta = 0.01. New best score: 2.771\n"
     ]
    },
    {
     "data": {
      "application/vnd.jupyter.widget-view+json": {
       "model_id": "",
       "version_major": 2,
       "version_minor": 0
      },
      "text/plain": [
       "HBox(children=(HTML(value='Validating'), FloatProgress(value=1.0, bar_style='info', layout=Layout(flex='2'), m…"
      ]
     },
     "metadata": {},
     "output_type": "display_data"
    },
    {
     "name": "stderr",
     "output_type": "stream",
     "text": [
      "Metric val_loss improved by 0.715 >= min_delta = 0.01. New best score: 2.055\n"
     ]
    },
    {
     "data": {
      "application/vnd.jupyter.widget-view+json": {
       "model_id": "",
       "version_major": 2,
       "version_minor": 0
      },
      "text/plain": [
       "HBox(children=(HTML(value='Validating'), FloatProgress(value=1.0, bar_style='info', layout=Layout(flex='2'), m…"
      ]
     },
     "metadata": {},
     "output_type": "display_data"
    },
    {
     "data": {
      "application/vnd.jupyter.widget-view+json": {
       "model_id": "",
       "version_major": 2,
       "version_minor": 0
      },
      "text/plain": [
       "HBox(children=(HTML(value='Validating'), FloatProgress(value=1.0, bar_style='info', layout=Layout(flex='2'), m…"
      ]
     },
     "metadata": {},
     "output_type": "display_data"
    },
    {
     "data": {
      "application/vnd.jupyter.widget-view+json": {
       "model_id": "",
       "version_major": 2,
       "version_minor": 0
      },
      "text/plain": [
       "HBox(children=(HTML(value='Validating'), FloatProgress(value=1.0, bar_style='info', layout=Layout(flex='2'), m…"
      ]
     },
     "metadata": {},
     "output_type": "display_data"
    },
    {
     "data": {
      "application/vnd.jupyter.widget-view+json": {
       "model_id": "",
       "version_major": 2,
       "version_minor": 0
      },
      "text/plain": [
       "HBox(children=(HTML(value='Validating'), FloatProgress(value=1.0, bar_style='info', layout=Layout(flex='2'), m…"
      ]
     },
     "metadata": {},
     "output_type": "display_data"
    },
    {
     "data": {
      "application/vnd.jupyter.widget-view+json": {
       "model_id": "",
       "version_major": 2,
       "version_minor": 0
      },
      "text/plain": [
       "HBox(children=(HTML(value='Validating'), FloatProgress(value=1.0, bar_style='info', layout=Layout(flex='2'), m…"
      ]
     },
     "metadata": {},
     "output_type": "display_data"
    },
    {
     "data": {
      "application/vnd.jupyter.widget-view+json": {
       "model_id": "",
       "version_major": 2,
       "version_minor": 0
      },
      "text/plain": [
       "HBox(children=(HTML(value='Validating'), FloatProgress(value=1.0, bar_style='info', layout=Layout(flex='2'), m…"
      ]
     },
     "metadata": {},
     "output_type": "display_data"
    },
    {
     "data": {
      "application/vnd.jupyter.widget-view+json": {
       "model_id": "",
       "version_major": 2,
       "version_minor": 0
      },
      "text/plain": [
       "HBox(children=(HTML(value='Validating'), FloatProgress(value=1.0, bar_style='info', layout=Layout(flex='2'), m…"
      ]
     },
     "metadata": {},
     "output_type": "display_data"
    },
    {
     "data": {
      "application/vnd.jupyter.widget-view+json": {
       "model_id": "",
       "version_major": 2,
       "version_minor": 0
      },
      "text/plain": [
       "HBox(children=(HTML(value='Validating'), FloatProgress(value=1.0, bar_style='info', layout=Layout(flex='2'), m…"
      ]
     },
     "metadata": {},
     "output_type": "display_data"
    },
    {
     "data": {
      "application/vnd.jupyter.widget-view+json": {
       "model_id": "",
       "version_major": 2,
       "version_minor": 0
      },
      "text/plain": [
       "HBox(children=(HTML(value='Validating'), FloatProgress(value=1.0, bar_style='info', layout=Layout(flex='2'), m…"
      ]
     },
     "metadata": {},
     "output_type": "display_data"
    },
    {
     "data": {
      "application/vnd.jupyter.widget-view+json": {
       "model_id": "",
       "version_major": 2,
       "version_minor": 0
      },
      "text/plain": [
       "HBox(children=(HTML(value='Validating'), FloatProgress(value=1.0, bar_style='info', layout=Layout(flex='2'), m…"
      ]
     },
     "metadata": {},
     "output_type": "display_data"
    },
    {
     "data": {
      "application/vnd.jupyter.widget-view+json": {
       "model_id": "",
       "version_major": 2,
       "version_minor": 0
      },
      "text/plain": [
       "HBox(children=(HTML(value='Validating'), FloatProgress(value=1.0, bar_style='info', layout=Layout(flex='2'), m…"
      ]
     },
     "metadata": {},
     "output_type": "display_data"
    },
    {
     "data": {
      "application/vnd.jupyter.widget-view+json": {
       "model_id": "",
       "version_major": 2,
       "version_minor": 0
      },
      "text/plain": [
       "HBox(children=(HTML(value='Validating'), FloatProgress(value=1.0, bar_style='info', layout=Layout(flex='2'), m…"
      ]
     },
     "metadata": {},
     "output_type": "display_data"
    },
    {
     "data": {
      "application/vnd.jupyter.widget-view+json": {
       "model_id": "",
       "version_major": 2,
       "version_minor": 0
      },
      "text/plain": [
       "HBox(children=(HTML(value='Validating'), FloatProgress(value=1.0, bar_style='info', layout=Layout(flex='2'), m…"
      ]
     },
     "metadata": {},
     "output_type": "display_data"
    },
    {
     "data": {
      "application/vnd.jupyter.widget-view+json": {
       "model_id": "",
       "version_major": 2,
       "version_minor": 0
      },
      "text/plain": [
       "HBox(children=(HTML(value='Validating'), FloatProgress(value=1.0, bar_style='info', layout=Layout(flex='2'), m…"
      ]
     },
     "metadata": {},
     "output_type": "display_data"
    },
    {
     "data": {
      "application/vnd.jupyter.widget-view+json": {
       "model_id": "",
       "version_major": 2,
       "version_minor": 0
      },
      "text/plain": [
       "HBox(children=(HTML(value='Validating'), FloatProgress(value=1.0, bar_style='info', layout=Layout(flex='2'), m…"
      ]
     },
     "metadata": {},
     "output_type": "display_data"
    },
    {
     "data": {
      "application/vnd.jupyter.widget-view+json": {
       "model_id": "",
       "version_major": 2,
       "version_minor": 0
      },
      "text/plain": [
       "HBox(children=(HTML(value='Validating'), FloatProgress(value=1.0, bar_style='info', layout=Layout(flex='2'), m…"
      ]
     },
     "metadata": {},
     "output_type": "display_data"
    },
    {
     "data": {
      "application/vnd.jupyter.widget-view+json": {
       "model_id": "",
       "version_major": 2,
       "version_minor": 0
      },
      "text/plain": [
       "HBox(children=(HTML(value='Validating'), FloatProgress(value=1.0, bar_style='info', layout=Layout(flex='2'), m…"
      ]
     },
     "metadata": {},
     "output_type": "display_data"
    },
    {
     "data": {
      "application/vnd.jupyter.widget-view+json": {
       "model_id": "",
       "version_major": 2,
       "version_minor": 0
      },
      "text/plain": [
       "HBox(children=(HTML(value='Validating'), FloatProgress(value=1.0, bar_style='info', layout=Layout(flex='2'), m…"
      ]
     },
     "metadata": {},
     "output_type": "display_data"
    },
    {
     "data": {
      "application/vnd.jupyter.widget-view+json": {
       "model_id": "",
       "version_major": 2,
       "version_minor": 0
      },
      "text/plain": [
       "HBox(children=(HTML(value='Validating'), FloatProgress(value=1.0, bar_style='info', layout=Layout(flex='2'), m…"
      ]
     },
     "metadata": {},
     "output_type": "display_data"
    },
    {
     "data": {
      "application/vnd.jupyter.widget-view+json": {
       "model_id": "",
       "version_major": 2,
       "version_minor": 0
      },
      "text/plain": [
       "HBox(children=(HTML(value='Validating'), FloatProgress(value=1.0, bar_style='info', layout=Layout(flex='2'), m…"
      ]
     },
     "metadata": {},
     "output_type": "display_data"
    },
    {
     "name": "stderr",
     "output_type": "stream",
     "text": [
      "Monitored metric val_loss did not improve in the last 20 records. Best score: 2.055. Signaling Trainer to stop.\n"
     ]
    },
    {
     "name": "stdout",
     "output_type": "stream",
     "text": [
      "\n",
      "CPU times: user 7min 36s, sys: 2min 35s, total: 10min 11s\n",
      "Wall time: 10min 2s\n"
     ]
    }
   ],
   "source": [
    "%%time\n",
    "trainer_bce.fit(model_bce)"
   ]
  },
  {
   "cell_type": "code",
   "execution_count": 14,
   "id": "670cb708",
   "metadata": {},
   "outputs": [],
   "source": [
    "threshold_number = 25\n",
    "threshold_list = np.linspace(-5, 5, threshold_number)\n",
    "threshold_list = 1 / (1 + np.exp(-threshold_list))\n",
    "threshold_list = [-0.001] + list(threshold_list) + [1.001]"
   ]
  },
  {
   "cell_type": "code",
   "execution_count": 15,
   "id": "b3c7df39",
   "metadata": {
    "scrolled": true
   },
   "outputs": [
    {
     "name": "stdout",
     "output_type": "stream",
     "text": [
      "TP: 0, FP: 178, TN: 0, FN: 0, DELAY:0.0, FP_DELAY:0.0\n",
      "TP: 34, FP: 46, TN: 91, FN: 7, DELAY:0.3539325842696629, FP_DELAY:11.460674157303371\n",
      "TP: 34, FP: 46, TN: 91, FN: 7, DELAY:0.3539325842696629, FP_DELAY:11.460674157303371\n",
      "TP: 35, FP: 45, TN: 91, FN: 7, DELAY:0.39325842696629215, FP_DELAY:11.46629213483146\n",
      "TP: 35, FP: 45, TN: 91, FN: 7, DELAY:0.39325842696629215, FP_DELAY:11.46629213483146\n",
      "TP: 34, FP: 45, TN: 91, FN: 8, DELAY:0.398876404494382, FP_DELAY:11.47191011235955\n",
      "TP: 35, FP: 44, TN: 91, FN: 8, DELAY:0.4101123595505618, FP_DELAY:11.47752808988764\n",
      "TP: 36, FP: 43, TN: 91, FN: 8, DELAY:0.4550561797752809, FP_DELAY:11.48314606741573\n",
      "TP: 36, FP: 43, TN: 91, FN: 8, DELAY:0.4550561797752809, FP_DELAY:11.48314606741573\n",
      "TP: 36, FP: 43, TN: 91, FN: 8, DELAY:0.4550561797752809, FP_DELAY:11.48314606741573\n",
      "TP: 36, FP: 43, TN: 91, FN: 8, DELAY:0.4550561797752809, FP_DELAY:11.48314606741573\n",
      "TP: 36, FP: 43, TN: 91, FN: 8, DELAY:0.4550561797752809, FP_DELAY:11.48314606741573\n",
      "TP: 36, FP: 43, TN: 91, FN: 8, DELAY:0.4550561797752809, FP_DELAY:11.48314606741573\n",
      "TP: 36, FP: 42, TN: 92, FN: 8, DELAY:0.4550561797752809, FP_DELAY:11.561797752808989\n",
      "TP: 37, FP: 41, TN: 92, FN: 8, DELAY:0.5, FP_DELAY:11.567415730337078\n",
      "TP: 37, FP: 41, TN: 92, FN: 8, DELAY:0.5, FP_DELAY:11.567415730337078\n",
      "TP: 37, FP: 41, TN: 92, FN: 8, DELAY:0.5, FP_DELAY:11.567415730337078\n",
      "TP: 37, FP: 41, TN: 92, FN: 8, DELAY:0.5, FP_DELAY:11.567415730337078\n",
      "TP: 37, FP: 41, TN: 92, FN: 8, DELAY:0.5, FP_DELAY:11.567415730337078\n",
      "TP: 37, FP: 41, TN: 92, FN: 8, DELAY:0.5, FP_DELAY:11.646067415730338\n",
      "TP: 37, FP: 41, TN: 92, FN: 8, DELAY:0.5, FP_DELAY:11.646067415730338\n",
      "TP: 37, FP: 41, TN: 92, FN: 8, DELAY:0.5, FP_DELAY:11.646067415730338\n",
      "TP: 37, FP: 41, TN: 92, FN: 8, DELAY:0.5, FP_DELAY:11.657303370786517\n",
      "TP: 37, FP: 41, TN: 92, FN: 8, DELAY:0.5, FP_DELAY:11.657303370786517\n",
      "TP: 38, FP: 40, TN: 92, FN: 8, DELAY:0.5056179775280899, FP_DELAY:11.662921348314606\n",
      "TP: 38, FP: 40, TN: 92, FN: 8, DELAY:0.5056179775280899, FP_DELAY:11.662921348314606\n",
      "TP: 38, FP: 40, TN: 92, FN: 8, DELAY:0.5056179775280899, FP_DELAY:11.662921348314606\n",
      "TP: 38, FP: 40, TN: 92, FN: 8, DELAY:0.5056179775280899, FP_DELAY:11.662921348314606\n",
      "TP: 38, FP: 40, TN: 92, FN: 8, DELAY:0.5056179775280899, FP_DELAY:11.662921348314606\n",
      "TP: 38, FP: 40, TN: 92, FN: 8, DELAY:0.5056179775280899, FP_DELAY:11.662921348314606\n",
      "TP: 38, FP: 40, TN: 92, FN: 8, DELAY:0.5056179775280899, FP_DELAY:11.662921348314606\n",
      "TP: 38, FP: 40, TN: 92, FN: 8, DELAY:0.5056179775280899, FP_DELAY:11.662921348314606\n",
      "TP: 38, FP: 40, TN: 92, FN: 8, DELAY:0.5056179775280899, FP_DELAY:11.662921348314606\n",
      "TP: 38, FP: 40, TN: 92, FN: 8, DELAY:0.5056179775280899, FP_DELAY:11.662921348314606\n",
      "TP: 38, FP: 39, TN: 93, FN: 8, DELAY:0.5056179775280899, FP_DELAY:11.820224719101123\n",
      "TP: 37, FP: 39, TN: 93, FN: 9, DELAY:0.5224719101123596, FP_DELAY:11.859550561797754\n",
      "TP: 37, FP: 38, TN: 94, FN: 9, DELAY:0.5224719101123596, FP_DELAY:11.94943820224719\n",
      "TP: 37, FP: 38, TN: 94, FN: 9, DELAY:0.5224719101123596, FP_DELAY:11.94943820224719\n",
      "TP: 37, FP: 37, TN: 95, FN: 9, DELAY:0.5224719101123596, FP_DELAY:12.03370786516854\n",
      "TP: 37, FP: 37, TN: 95, FN: 9, DELAY:0.5224719101123596, FP_DELAY:12.03370786516854\n",
      "TP: 37, FP: 37, TN: 95, FN: 9, DELAY:0.5224719101123596, FP_DELAY:12.03370786516854\n",
      "TP: 37, FP: 37, TN: 95, FN: 9, DELAY:0.5224719101123596, FP_DELAY:12.039325842696629\n",
      "TP: 37, FP: 37, TN: 95, FN: 9, DELAY:0.5224719101123596, FP_DELAY:12.039325842696629\n",
      "TP: 37, FP: 36, TN: 96, FN: 9, DELAY:0.5224719101123596, FP_DELAY:12.123595505617978\n",
      "TP: 37, FP: 36, TN: 96, FN: 9, DELAY:0.5224719101123596, FP_DELAY:12.123595505617978\n",
      "TP: 38, FP: 35, TN: 96, FN: 9, DELAY:0.5280898876404494, FP_DELAY:12.146067415730338\n",
      "TP: 38, FP: 35, TN: 96, FN: 9, DELAY:0.5280898876404494, FP_DELAY:12.146067415730338\n",
      "TP: 38, FP: 35, TN: 96, FN: 9, DELAY:0.5280898876404494, FP_DELAY:12.146067415730338\n",
      "TP: 38, FP: 35, TN: 96, FN: 9, DELAY:0.5280898876404494, FP_DELAY:12.146067415730338\n",
      "TP: 38, FP: 35, TN: 96, FN: 9, DELAY:0.5280898876404494, FP_DELAY:12.146067415730338\n",
      "TP: 38, FP: 35, TN: 96, FN: 9, DELAY:0.5280898876404494, FP_DELAY:12.146067415730338\n",
      "TP: 38, FP: 35, TN: 96, FN: 9, DELAY:0.5280898876404494, FP_DELAY:12.146067415730338\n",
      "TP: 38, FP: 35, TN: 96, FN: 9, DELAY:0.5337078651685393, FP_DELAY:12.146067415730338\n",
      "TP: 38, FP: 35, TN: 96, FN: 9, DELAY:0.5337078651685393, FP_DELAY:12.146067415730338\n",
      "TP: 39, FP: 34, TN: 96, FN: 9, DELAY:0.5393258426966292, FP_DELAY:12.168539325842696\n",
      "TP: 39, FP: 34, TN: 96, FN: 9, DELAY:0.5393258426966292, FP_DELAY:12.168539325842696\n",
      "TP: 39, FP: 34, TN: 96, FN: 9, DELAY:0.5393258426966292, FP_DELAY:12.168539325842696\n",
      "TP: 39, FP: 34, TN: 96, FN: 9, DELAY:0.5393258426966292, FP_DELAY:12.168539325842696\n",
      "TP: 39, FP: 34, TN: 96, FN: 9, DELAY:0.5393258426966292, FP_DELAY:12.168539325842696\n",
      "TP: 39, FP: 34, TN: 96, FN: 9, DELAY:0.5393258426966292, FP_DELAY:12.168539325842696\n",
      "TP: 39, FP: 34, TN: 96, FN: 9, DELAY:0.5449438202247191, FP_DELAY:12.168539325842696\n",
      "TP: 39, FP: 33, TN: 96, FN: 10, DELAY:0.5561797752808989, FP_DELAY:12.247191011235955\n",
      "TP: 39, FP: 33, TN: 96, FN: 10, DELAY:0.5561797752808989, FP_DELAY:12.247191011235955\n",
      "TP: 39, FP: 33, TN: 96, FN: 10, DELAY:0.5561797752808989, FP_DELAY:12.247191011235955\n",
      "TP: 39, FP: 33, TN: 96, FN: 10, DELAY:0.5561797752808989, FP_DELAY:12.252808988764045\n",
      "TP: 39, FP: 33, TN: 96, FN: 10, DELAY:0.5561797752808989, FP_DELAY:12.252808988764045\n",
      "TP: 40, FP: 32, TN: 96, FN: 10, DELAY:0.6123595505617978, FP_DELAY:12.258426966292134\n",
      "TP: 41, FP: 31, TN: 96, FN: 10, DELAY:0.6179775280898876, FP_DELAY:12.269662921348315\n",
      "TP: 41, FP: 31, TN: 96, FN: 10, DELAY:0.6179775280898876, FP_DELAY:12.269662921348315\n",
      "TP: 41, FP: 31, TN: 96, FN: 10, DELAY:0.6179775280898876, FP_DELAY:12.269662921348315\n",
      "TP: 41, FP: 31, TN: 96, FN: 10, DELAY:0.6179775280898876, FP_DELAY:12.269662921348315\n",
      "TP: 41, FP: 31, TN: 96, FN: 10, DELAY:0.6179775280898876, FP_DELAY:12.269662921348315\n",
      "TP: 41, FP: 31, TN: 96, FN: 10, DELAY:0.6179775280898876, FP_DELAY:12.269662921348315\n",
      "TP: 41, FP: 31, TN: 96, FN: 10, DELAY:0.6179775280898876, FP_DELAY:12.269662921348315\n",
      "TP: 41, FP: 31, TN: 96, FN: 10, DELAY:0.6179775280898876, FP_DELAY:12.269662921348315\n",
      "TP: 41, FP: 31, TN: 96, FN: 10, DELAY:0.6179775280898876, FP_DELAY:12.269662921348315\n",
      "TP: 41, FP: 31, TN: 96, FN: 10, DELAY:0.6179775280898876, FP_DELAY:12.269662921348315\n",
      "TP: 41, FP: 31, TN: 96, FN: 10, DELAY:0.6179775280898876, FP_DELAY:12.269662921348315\n",
      "TP: 41, FP: 31, TN: 96, FN: 10, DELAY:0.6179775280898876, FP_DELAY:12.269662921348315\n",
      "TP: 41, FP: 31, TN: 96, FN: 10, DELAY:0.6179775280898876, FP_DELAY:12.269662921348315\n",
      "TP: 41, FP: 31, TN: 96, FN: 10, DELAY:0.6179775280898876, FP_DELAY:12.269662921348315\n",
      "TP: 41, FP: 31, TN: 96, FN: 10, DELAY:0.6179775280898876, FP_DELAY:12.269662921348315\n",
      "TP: 41, FP: 31, TN: 96, FN: 10, DELAY:0.6179775280898876, FP_DELAY:12.269662921348315\n",
      "TP: 40, FP: 31, TN: 96, FN: 11, DELAY:0.6348314606741573, FP_DELAY:12.320224719101123\n",
      "TP: 40, FP: 31, TN: 96, FN: 11, DELAY:0.6348314606741573, FP_DELAY:12.320224719101123\n",
      "TP: 40, FP: 31, TN: 96, FN: 11, DELAY:0.6348314606741573, FP_DELAY:12.320224719101123\n",
      "TP: 40, FP: 31, TN: 96, FN: 11, DELAY:0.6348314606741573, FP_DELAY:12.320224719101123\n",
      "TP: 40, FP: 31, TN: 96, FN: 11, DELAY:0.6348314606741573, FP_DELAY:12.320224719101123\n",
      "TP: 41, FP: 30, TN: 96, FN: 11, DELAY:0.6404494382022472, FP_DELAY:12.342696629213483\n",
      "TP: 41, FP: 30, TN: 96, FN: 11, DELAY:0.6404494382022472, FP_DELAY:12.342696629213483\n",
      "TP: 41, FP: 30, TN: 96, FN: 11, DELAY:0.6404494382022472, FP_DELAY:12.342696629213483\n",
      "TP: 41, FP: 30, TN: 96, FN: 11, DELAY:0.6404494382022472, FP_DELAY:12.342696629213483\n",
      "TP: 40, FP: 29, TN: 97, FN: 12, DELAY:0.6573033707865169, FP_DELAY:12.410112359550562\n",
      "TP: 40, FP: 29, TN: 97, FN: 12, DELAY:0.6573033707865169, FP_DELAY:12.410112359550562\n",
      "TP: 40, FP: 29, TN: 97, FN: 12, DELAY:0.6573033707865169, FP_DELAY:12.410112359550562\n",
      "TP: 40, FP: 29, TN: 97, FN: 12, DELAY:0.6573033707865169, FP_DELAY:12.410112359550562\n",
      "TP: 40, FP: 29, TN: 97, FN: 12, DELAY:0.6573033707865169, FP_DELAY:12.410112359550562\n",
      "TP: 40, FP: 29, TN: 97, FN: 12, DELAY:0.6573033707865169, FP_DELAY:12.410112359550562\n",
      "TP: 40, FP: 29, TN: 97, FN: 12, DELAY:0.6573033707865169, FP_DELAY:12.410112359550562\n",
      "TP: 40, FP: 29, TN: 97, FN: 12, DELAY:0.6573033707865169, FP_DELAY:12.410112359550562\n",
      "TP: 40, FP: 29, TN: 97, FN: 12, DELAY:0.6573033707865169, FP_DELAY:12.410112359550562\n",
      "TP: 0, FP: 0, TN: 106, FN: 72, DELAY:2.9101123595505616, FP_DELAY:16.0\n"
     ]
    }
   ],
   "source": [
    "model_bce.to('cuda')\n",
    "(_, _, delay_list_bce, fp_delay_list_bce) = metrics.get_pareto_metrics_for_threshold(model_bce, \n",
    "                                                                             model_custom_pl.val_dataloader(), \n",
    "                                                                             threshold_list)"
   ]
  },
  {
   "cell_type": "code",
   "execution_count": 16,
   "id": "e5746114",
   "metadata": {
    "scrolled": true
   },
   "outputs": [
    {
     "name": "stdout",
     "output_type": "stream",
     "text": [
      "TP: 0, FP: 178, TN: 0, FN: 0, DELAY:0.0, FP_DELAY:0.0\n",
      "TP: 28, FP: 30, TN: 100, FN: 20, DELAY:0.9213483146067416, FP_DELAY:13.174157303370787\n",
      "TP: 28, FP: 30, TN: 100, FN: 20, DELAY:0.9213483146067416, FP_DELAY:13.174157303370787\n",
      "TP: 28, FP: 30, TN: 100, FN: 20, DELAY:0.9213483146067416, FP_DELAY:13.174157303370787\n",
      "TP: 28, FP: 30, TN: 100, FN: 20, DELAY:0.9213483146067416, FP_DELAY:13.174157303370787\n",
      "TP: 28, FP: 30, TN: 100, FN: 20, DELAY:0.9269662921348315, FP_DELAY:13.174157303370787\n",
      "TP: 28, FP: 30, TN: 100, FN: 20, DELAY:0.9269662921348315, FP_DELAY:13.174157303370787\n",
      "TP: 28, FP: 28, TN: 101, FN: 21, DELAY:0.949438202247191, FP_DELAY:13.241573033707866\n",
      "TP: 28, FP: 28, TN: 101, FN: 21, DELAY:0.949438202247191, FP_DELAY:13.241573033707866\n",
      "TP: 28, FP: 28, TN: 101, FN: 21, DELAY:0.949438202247191, FP_DELAY:13.241573033707866\n",
      "TP: 28, FP: 28, TN: 101, FN: 21, DELAY:0.949438202247191, FP_DELAY:13.241573033707866\n",
      "TP: 28, FP: 27, TN: 101, FN: 22, DELAY:0.9662921348314607, FP_DELAY:13.292134831460674\n",
      "TP: 29, FP: 26, TN: 101, FN: 22, DELAY:0.9719101123595506, FP_DELAY:13.314606741573034\n",
      "TP: 29, FP: 26, TN: 101, FN: 22, DELAY:0.9719101123595506, FP_DELAY:13.314606741573034\n",
      "TP: 29, FP: 25, TN: 101, FN: 23, DELAY:1.0056179775280898, FP_DELAY:13.365168539325843\n",
      "TP: 29, FP: 25, TN: 101, FN: 23, DELAY:1.0056179775280898, FP_DELAY:13.365168539325843\n",
      "TP: 29, FP: 25, TN: 101, FN: 23, DELAY:1.0056179775280898, FP_DELAY:13.365168539325843\n",
      "TP: 29, FP: 25, TN: 101, FN: 23, DELAY:1.0056179775280898, FP_DELAY:13.365168539325843\n",
      "TP: 29, FP: 24, TN: 101, FN: 24, DELAY:1.0280898876404494, FP_DELAY:13.404494382022472\n",
      "TP: 29, FP: 24, TN: 101, FN: 24, DELAY:1.0280898876404494, FP_DELAY:13.404494382022472\n",
      "TP: 29, FP: 24, TN: 101, FN: 24, DELAY:1.0280898876404494, FP_DELAY:13.404494382022472\n",
      "TP: 29, FP: 24, TN: 101, FN: 24, DELAY:1.0280898876404494, FP_DELAY:13.404494382022472\n",
      "TP: 29, FP: 24, TN: 101, FN: 24, DELAY:1.0280898876404494, FP_DELAY:13.404494382022472\n",
      "TP: 29, FP: 24, TN: 101, FN: 24, DELAY:1.0280898876404494, FP_DELAY:13.404494382022472\n",
      "TP: 29, FP: 24, TN: 101, FN: 24, DELAY:1.0280898876404494, FP_DELAY:13.404494382022472\n",
      "TP: 29, FP: 24, TN: 101, FN: 24, DELAY:1.0280898876404494, FP_DELAY:13.404494382022472\n",
      "TP: 29, FP: 24, TN: 101, FN: 24, DELAY:1.0280898876404494, FP_DELAY:13.404494382022472\n",
      "TP: 29, FP: 24, TN: 101, FN: 24, DELAY:1.0280898876404494, FP_DELAY:13.404494382022472\n",
      "TP: 29, FP: 24, TN: 101, FN: 24, DELAY:1.0280898876404494, FP_DELAY:13.404494382022472\n",
      "TP: 29, FP: 24, TN: 101, FN: 24, DELAY:1.0280898876404494, FP_DELAY:13.404494382022472\n",
      "TP: 29, FP: 24, TN: 101, FN: 24, DELAY:1.0280898876404494, FP_DELAY:13.404494382022472\n",
      "TP: 29, FP: 24, TN: 101, FN: 24, DELAY:1.0337078651685394, FP_DELAY:13.404494382022472\n",
      "TP: 29, FP: 24, TN: 101, FN: 24, DELAY:1.0337078651685394, FP_DELAY:13.404494382022472\n",
      "TP: 29, FP: 24, TN: 101, FN: 24, DELAY:1.0337078651685394, FP_DELAY:13.404494382022472\n",
      "TP: 29, FP: 24, TN: 101, FN: 24, DELAY:1.0337078651685394, FP_DELAY:13.404494382022472\n",
      "TP: 29, FP: 24, TN: 101, FN: 24, DELAY:1.0393258426966292, FP_DELAY:13.404494382022472\n",
      "TP: 29, FP: 24, TN: 101, FN: 24, DELAY:1.0393258426966292, FP_DELAY:13.404494382022472\n",
      "TP: 29, FP: 24, TN: 101, FN: 24, DELAY:1.0393258426966292, FP_DELAY:13.404494382022472\n",
      "TP: 29, FP: 24, TN: 101, FN: 24, DELAY:1.0393258426966292, FP_DELAY:13.404494382022472\n",
      "TP: 29, FP: 24, TN: 101, FN: 24, DELAY:1.0393258426966292, FP_DELAY:13.404494382022472\n",
      "TP: 29, FP: 24, TN: 101, FN: 24, DELAY:1.0393258426966292, FP_DELAY:13.404494382022472\n",
      "TP: 29, FP: 24, TN: 101, FN: 24, DELAY:1.0449438202247192, FP_DELAY:13.404494382022472\n",
      "TP: 29, FP: 24, TN: 101, FN: 24, DELAY:1.0449438202247192, FP_DELAY:13.404494382022472\n",
      "TP: 29, FP: 24, TN: 101, FN: 24, DELAY:1.0449438202247192, FP_DELAY:13.404494382022472\n",
      "TP: 29, FP: 24, TN: 101, FN: 24, DELAY:1.0449438202247192, FP_DELAY:13.404494382022472\n",
      "TP: 29, FP: 24, TN: 101, FN: 24, DELAY:1.0449438202247192, FP_DELAY:13.404494382022472\n",
      "TP: 29, FP: 24, TN: 101, FN: 24, DELAY:1.0449438202247192, FP_DELAY:13.404494382022472\n",
      "TP: 29, FP: 24, TN: 101, FN: 24, DELAY:1.0449438202247192, FP_DELAY:13.404494382022472\n",
      "TP: 29, FP: 24, TN: 101, FN: 24, DELAY:1.0449438202247192, FP_DELAY:13.404494382022472\n",
      "TP: 29, FP: 24, TN: 101, FN: 24, DELAY:1.0449438202247192, FP_DELAY:13.404494382022472\n",
      "TP: 29, FP: 24, TN: 101, FN: 24, DELAY:1.0449438202247192, FP_DELAY:13.404494382022472\n",
      "TP: 29, FP: 24, TN: 101, FN: 24, DELAY:1.0449438202247192, FP_DELAY:13.404494382022472\n",
      "TP: 29, FP: 24, TN: 101, FN: 24, DELAY:1.0449438202247192, FP_DELAY:13.404494382022472\n",
      "TP: 29, FP: 24, TN: 101, FN: 24, DELAY:1.0449438202247192, FP_DELAY:13.404494382022472\n",
      "TP: 29, FP: 24, TN: 101, FN: 24, DELAY:1.0449438202247192, FP_DELAY:13.404494382022472\n",
      "TP: 29, FP: 24, TN: 101, FN: 24, DELAY:1.0449438202247192, FP_DELAY:13.404494382022472\n",
      "TP: 29, FP: 24, TN: 101, FN: 24, DELAY:1.0449438202247192, FP_DELAY:13.404494382022472\n",
      "TP: 29, FP: 24, TN: 101, FN: 24, DELAY:1.0449438202247192, FP_DELAY:13.404494382022472\n",
      "TP: 29, FP: 24, TN: 101, FN: 24, DELAY:1.0449438202247192, FP_DELAY:13.404494382022472\n",
      "TP: 29, FP: 24, TN: 101, FN: 24, DELAY:1.0449438202247192, FP_DELAY:13.404494382022472\n",
      "TP: 29, FP: 24, TN: 101, FN: 24, DELAY:1.0449438202247192, FP_DELAY:13.404494382022472\n",
      "TP: 29, FP: 24, TN: 101, FN: 24, DELAY:1.0449438202247192, FP_DELAY:13.404494382022472\n",
      "TP: 29, FP: 24, TN: 101, FN: 24, DELAY:1.0449438202247192, FP_DELAY:13.404494382022472\n",
      "TP: 29, FP: 24, TN: 101, FN: 24, DELAY:1.0449438202247192, FP_DELAY:13.404494382022472\n",
      "TP: 29, FP: 24, TN: 101, FN: 24, DELAY:1.0449438202247192, FP_DELAY:13.404494382022472\n",
      "TP: 29, FP: 24, TN: 101, FN: 24, DELAY:1.0449438202247192, FP_DELAY:13.404494382022472\n",
      "TP: 29, FP: 24, TN: 101, FN: 24, DELAY:1.0449438202247192, FP_DELAY:13.404494382022472\n",
      "TP: 29, FP: 24, TN: 101, FN: 24, DELAY:1.0449438202247192, FP_DELAY:13.404494382022472\n",
      "TP: 29, FP: 24, TN: 101, FN: 24, DELAY:1.0449438202247192, FP_DELAY:13.404494382022472\n",
      "TP: 29, FP: 24, TN: 101, FN: 24, DELAY:1.0449438202247192, FP_DELAY:13.404494382022472\n",
      "TP: 29, FP: 24, TN: 101, FN: 24, DELAY:1.0449438202247192, FP_DELAY:13.404494382022472\n",
      "TP: 29, FP: 24, TN: 101, FN: 24, DELAY:1.0449438202247192, FP_DELAY:13.404494382022472\n",
      "TP: 29, FP: 24, TN: 101, FN: 24, DELAY:1.0449438202247192, FP_DELAY:13.404494382022472\n",
      "TP: 29, FP: 24, TN: 101, FN: 24, DELAY:1.0449438202247192, FP_DELAY:13.404494382022472\n",
      "TP: 29, FP: 24, TN: 101, FN: 24, DELAY:1.0449438202247192, FP_DELAY:13.404494382022472\n",
      "TP: 29, FP: 24, TN: 101, FN: 24, DELAY:1.0449438202247192, FP_DELAY:13.404494382022472\n",
      "TP: 29, FP: 24, TN: 101, FN: 24, DELAY:1.0449438202247192, FP_DELAY:13.404494382022472\n",
      "TP: 29, FP: 24, TN: 101, FN: 24, DELAY:1.0449438202247192, FP_DELAY:13.404494382022472\n",
      "TP: 29, FP: 24, TN: 101, FN: 24, DELAY:1.0449438202247192, FP_DELAY:13.404494382022472\n",
      "TP: 29, FP: 24, TN: 101, FN: 24, DELAY:1.0449438202247192, FP_DELAY:13.404494382022472\n",
      "TP: 29, FP: 24, TN: 101, FN: 24, DELAY:1.0449438202247192, FP_DELAY:13.404494382022472\n",
      "TP: 29, FP: 24, TN: 101, FN: 24, DELAY:1.0449438202247192, FP_DELAY:13.404494382022472\n",
      "TP: 28, FP: 23, TN: 102, FN: 25, DELAY:1.0561797752808988, FP_DELAY:13.539325842696629\n",
      "TP: 28, FP: 23, TN: 102, FN: 25, DELAY:1.0561797752808988, FP_DELAY:13.539325842696629\n",
      "TP: 28, FP: 23, TN: 102, FN: 25, DELAY:1.0561797752808988, FP_DELAY:13.539325842696629\n",
      "TP: 28, FP: 23, TN: 102, FN: 25, DELAY:1.0561797752808988, FP_DELAY:13.539325842696629\n",
      "TP: 28, FP: 23, TN: 102, FN: 25, DELAY:1.0561797752808988, FP_DELAY:13.539325842696629\n",
      "TP: 28, FP: 23, TN: 102, FN: 25, DELAY:1.0561797752808988, FP_DELAY:13.539325842696629\n",
      "TP: 28, FP: 23, TN: 102, FN: 25, DELAY:1.0561797752808988, FP_DELAY:13.539325842696629\n",
      "TP: 28, FP: 23, TN: 102, FN: 25, DELAY:1.0561797752808988, FP_DELAY:13.539325842696629\n",
      "TP: 28, FP: 23, TN: 102, FN: 25, DELAY:1.0561797752808988, FP_DELAY:13.539325842696629\n",
      "TP: 28, FP: 23, TN: 102, FN: 25, DELAY:1.0561797752808988, FP_DELAY:13.539325842696629\n",
      "TP: 28, FP: 23, TN: 102, FN: 25, DELAY:1.0561797752808988, FP_DELAY:13.539325842696629\n",
      "TP: 28, FP: 23, TN: 102, FN: 25, DELAY:1.0561797752808988, FP_DELAY:13.539325842696629\n",
      "TP: 28, FP: 23, TN: 102, FN: 25, DELAY:1.0561797752808988, FP_DELAY:13.539325842696629\n",
      "TP: 28, FP: 23, TN: 102, FN: 25, DELAY:1.0561797752808988, FP_DELAY:13.539325842696629\n",
      "TP: 28, FP: 23, TN: 102, FN: 25, DELAY:1.0561797752808988, FP_DELAY:13.539325842696629\n",
      "TP: 28, FP: 23, TN: 102, FN: 25, DELAY:1.0561797752808988, FP_DELAY:13.539325842696629\n",
      "TP: 28, FP: 23, TN: 102, FN: 25, DELAY:1.0561797752808988, FP_DELAY:13.539325842696629\n",
      "TP: 28, FP: 23, TN: 102, FN: 25, DELAY:1.0561797752808988, FP_DELAY:13.539325842696629\n",
      "TP: 28, FP: 23, TN: 102, FN: 25, DELAY:1.0561797752808988, FP_DELAY:13.539325842696629\n",
      "TP: 0, FP: 0, TN: 106, FN: 72, DELAY:2.9101123595505616, FP_DELAY:16.0\n"
     ]
    }
   ],
   "source": [
    "model_custom_pl.to('cuda')\n",
    "(_, _, delay_list, fp_delay_list) = metrics.get_pareto_metrics_for_threshold(model_custom_pl, \n",
    "                                                                             model_custom_pl.val_dataloader(), \n",
    "                                                                             threshold_list)"
   ]
  },
  {
   "cell_type": "code",
   "execution_count": 17,
   "id": "eb5085f3",
   "metadata": {},
   "outputs": [],
   "source": [
    "#np.save('fp_delay_list.npy', fp_delay_list)\n",
    "#np.save('delay_list.npy', delay_list)"
   ]
  },
  {
   "cell_type": "code",
   "execution_count": 18,
   "id": "7882cc0c",
   "metadata": {},
   "outputs": [],
   "source": [
    "#fp_delay_list = np.load('fp_delay_list.npy')\n",
    "#delay_list = np.load('delay_list.npy')"
   ]
  },
  {
   "cell_type": "code",
   "execution_count": 19,
   "id": "e0e9d060",
   "metadata": {},
   "outputs": [],
   "source": [
    "np.save('fp_delay_list.npy', fp_delay_list)\n",
    "np.save('delay_list.npy', delay_list)\n",
    "np.save('fp_delay_list_bce.npy', fp_delay_list_bce)\n",
    "np.save('delay_list_bce.npy', delay_list_bce)"
   ]
  },
  {
   "cell_type": "code",
   "execution_count": 20,
   "id": "628ad53e",
   "metadata": {},
   "outputs": [
    {
     "data": {
      "image/png": "[encoded data removed]",
      "text/plain": [
       "<Figure size 864x864 with 1 Axes>"
      ]
     },
     "metadata": {
      "needs_background": "light"
     },
     "output_type": "display_data"
    }
   ],
   "source": [
    "plt.figure(figsize=(12, 12))\n",
    "plt.plot(fp_delay_list, delay_list, '-o', markersize=4, label='CPD (ours)')\n",
    "plt.plot(fp_delay_list_bce, delay_list_bce, '-o', markersize=4, label='BCE')\n",
    "#plt.plot(fp_delay_list_comb, delay_list_comb, '-o', markersize=4, label='Combined (ours)')\n",
    "\n",
    "plt.xlabel('Mean Time to False Alarm', fontsize=28)\n",
    "plt.ylabel('Mean Detection Delay', fontsize=28)\n",
    "plt.xticks(fontsize=24)\n",
    "plt.yticks(fontsize=24)\n",
    "plt.legend(loc='upper left', fontsize=26);"
   ]
  },
  {
   "cell_type": "code",
   "execution_count": 21,
   "id": "2c775012",
   "metadata": {},
   "outputs": [],
   "source": [
    "quit()"
   ]
  },
  {
   "cell_type": "code",
   "execution_count": null,
   "id": "9eae4d6e",
   "metadata": {},
   "outputs": [],
   "source": []
  }
 ],
 "metadata": {
  "kernelspec": {
   "display_name": "Python 3",
   "language": "python",
   "name": "python3"
  },
  "language_info": {
   "codemirror_mode": {
    "name": "ipython",
    "version": 3
   },
   "file_extension": ".py",
   "mimetype": "text/x-python",
   "name": "python",
   "nbconvert_exporter": "python",
   "pygments_lexer": "ipython3",
   "version": "3.7.9"
  }
 },
 "nbformat": 4,
 "nbformat_minor": 5
}
