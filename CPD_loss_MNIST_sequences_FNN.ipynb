{
 "cells": [
  {
   "cell_type": "code",
   "execution_count": 1,
   "metadata": {},
   "outputs": [],
   "source": [
    "import numpy as np\n",
    "import scipy\n",
    "import matplotlib.pyplot as plt\n",
    "%matplotlib inline\n",
    "\n",
    "from scipy.stats import norm\n",
    "from sklearn.model_selection import train_test_split\n",
    "from tqdm.notebook import tqdm\n",
    "from sklearn.metrics import average_precision_score"
   ]
  },
  {
   "cell_type": "code",
   "execution_count": 2,
   "metadata": {},
   "outputs": [],
   "source": [
    "import torch\n",
    "import torch.nn as nn\n",
    "import torch.nn.functional as F\n",
    "import torch.optim as optim\n",
    "from torch.utils.data import TensorDataset, DataLoader\n",
    "torch.manual_seed(1);"
   ]
  },
  {
   "cell_type": "markdown",
   "metadata": {},
   "source": [
    "## Read data"
   ]
  },
  {
   "cell_type": "code",
   "execution_count": 3,
   "metadata": {},
   "outputs": [],
   "source": [
    "import os\n",
    "seq_len = 64\n",
    "im_size = 28"
   ]
  },
  {
   "cell_type": "code",
   "execution_count": 55,
   "metadata": {},
   "outputs": [],
   "source": [
    "def read_img_sequences(path_to_folder, size=200):\n",
    "    curr_size = 0\n",
    "    data = []\n",
    "    labels = []\n",
    "    \n",
    "    for sequence_folder in os.listdir(path_to_folder):\n",
    "        curr_size += 1\n",
    "        full_sequence_folder = os.path.join(path_to_folder, sequence_folder)\n",
    "        sequence_img = [None] * seq_len\n",
    "        sequence_labels = [None] * seq_len\n",
    "        \n",
    "        for img_path in os.listdir(full_sequence_folder):\n",
    "            # -3: drop .pt\n",
    "            im_index, label = img_path[:-3].split('_')\n",
    "            im_index = int(im_index)\n",
    "            label = int(label)\n",
    "\n",
    "            full_path_to_img = os.path.join(full_sequence_folder, img_path)\n",
    "            # load image and reshape to vector\n",
    "            img = torch.load(full_path_to_img).view(im_size * im_size).detach().cpu().numpy()\n",
    "            sequence_img[im_index] = img\n",
    "            sequence_labels[im_index] = label\n",
    "        data.append(sequence_img)\n",
    "        labels.append(sequence_labels)\n",
    "        if curr_size ==  size:\n",
    "            break\n",
    "    return data, labels"
   ]
  },
  {
   "cell_type": "code",
   "execution_count": 56,
   "metadata": {},
   "outputs": [],
   "source": [
    "anomaly_data, anomaly_labels = read_img_sequences('img_ts_anomaly/')\n",
    "normal_data, normal_labels = read_img_sequences('img_ts_normal/')"
   ]
  },
  {
   "cell_type": "code",
   "execution_count": 57,
   "metadata": {},
   "outputs": [],
   "source": [
    "all_data = np.vstack((anomaly_data, normal_data))\n",
    "all_labels = np.vstack((anomaly_labels, normal_labels))\n",
    "\n",
    "all_labels = (all_labels == 7).astype(int)"
   ]
  },
  {
   "cell_type": "code",
   "execution_count": 58,
   "metadata": {},
   "outputs": [],
   "source": [
    "train_data, test_data, train_labels, test_labels = train_test_split(all_data, all_labels, \n",
    "                                                                    test_size=0.4, shuffle=True,\n",
    "                                                                    random_state=42)\n",
    "\n",
    "test_data, val_data, test_labels, val_labels = train_test_split(test_data, test_labels, \n",
    "                                                                test_size=0.5, shuffle=True,\n",
    "                                                                random_state=42)"
   ]
  },
  {
   "cell_type": "markdown",
   "metadata": {},
   "source": [
    "## Loss function"
   ]
  },
  {
   "cell_type": "code",
   "execution_count": 60,
   "metadata": {},
   "outputs": [],
   "source": [
    "device = torch.device('cuda')"
   ]
  },
  {
   "cell_type": "code",
   "execution_count": 61,
   "metadata": {},
   "outputs": [],
   "source": [
    "def loss_delay_detection_2(p_slice):\n",
    "    n = p_slice.size(0)\n",
    "    prod = torch.ones(n).to(device)\n",
    "    p_slice = p_slice.to(device)\n",
    "    prod[1:] -= p_slice[:-1]\n",
    "    cumprod = torch.cumprod(prod, dim=0).to(device)\n",
    "    loss = torch.arange(1, n + 1).to(device) * p_slice * cumprod\n",
    "    loss = torch.sum(loss)\n",
    "    return loss\n",
    "\n",
    "\n",
    "def loss_delay_detection(p_slice, w):\n",
    "    n = p_slice.size(0) \n",
    "    prod = torch.ones(n).to(device)\n",
    "    p_slice = p_slice.to(device)\n",
    "    \n",
    "    prod[1:] -= p_slice[:-1].to(device)\n",
    "    cumprod = torch.cumprod(prod, dim=0).to(device)\n",
    "    # TODO drop either n or w\n",
    "    loss = (torch.arange(1, n + 1).to(device) * p_slice * cumprod \n",
    "            + (w + 1) * torch.prod(prod[1:]) * (1 - p_slice[-1]))\n",
    "    loss = torch.sum(loss)\n",
    "    return loss\n",
    "\n",
    "def loss_false_alarms(p_slice):\n",
    "    length = len(p_slice)\n",
    "    loss = 0\n",
    "    \n",
    "    start_ind = 0\n",
    "    end_ind = 0\n",
    "    \n",
    "    while end_ind < length:\n",
    "        start_ind = end_ind - 1\n",
    "        if start_ind < 0:\n",
    "            start_ind = 0\n",
    "        end_ind = np.random.randint(start_ind, length + 2)\n",
    "        if end_ind == start_ind:\n",
    "            end_ind = end_ind + 1\n",
    "        loss += 1 - loss_delay_detection_2(p_slice[start_ind: end_ind + 1])    \n",
    "    #loss += 1 - loss_delay_detection_2(p_slice[start_ind: length])            \n",
    "    loss = torch.sum(loss)\n",
    "    return loss"
   ]
  },
  {
   "cell_type": "code",
   "execution_count": 62,
   "metadata": {},
   "outputs": [
    {
     "data": {
      "text/plain": [
       "tensor(1.7570, device='cuda:0')"
      ]
     },
     "execution_count": 62,
     "metadata": {},
     "output_type": "execute_result"
    }
   ],
   "source": [
    "loss_delay_detection(torch.Tensor([0.9, 0.1, 0.3]), 3)"
   ]
  },
  {
   "cell_type": "code",
   "execution_count": 63,
   "metadata": {},
   "outputs": [],
   "source": [
    "class CustomLoss(nn.Module):\n",
    "    \n",
    "    def __init__(self):\n",
    "        super(CustomLoss, self).__init__()\n",
    "        \n",
    "    def forward(self, outputs, labels):\n",
    "        loss = torch.zeros(labels.size(0))\n",
    "        for i, label in enumerate(labels):\n",
    "            ind = torch.where(label != label[0])[0]\n",
    "            if ind.size()[0] == 0:\n",
    "                loss[i] = loss_false_alarms(outputs[i, :])\n",
    "            else:\n",
    "                w = 16\n",
    "                alpha = 0.5\n",
    "                loss[i] = (alpha * loss_delay_detection(outputs[i, ind[0]:(ind[0] + w)], w) + \n",
    "                           (1 - alpha) * loss_false_alarms(outputs[i, :ind[0]]))\n",
    "        loss = torch.mean(loss)\n",
    "        return loss\n"
   ]
  },
  {
   "cell_type": "markdown",
   "metadata": {},
   "source": [
    "## Model"
   ]
  },
  {
   "cell_type": "code",
   "execution_count": 64,
   "metadata": {},
   "outputs": [],
   "source": [
    "# input data parameters\n",
    "input_size = im_size * im_size\n",
    "output_size = seq_len\n",
    "\n",
    "# model hyperparameters\n",
    "hidden_dim = 100\n",
    "n_layers = 2\n",
    "num_workers = 1\n",
    "learning_rate = 1e-3\n",
    "\n",
    "batch_size = 64"
   ]
  },
  {
   "cell_type": "code",
   "execution_count": 65,
   "metadata": {},
   "outputs": [],
   "source": [
    "def prepare_loader(data, labels, seq_len, input_size, batch_size, shuffle=True, num_workers=1):\n",
    "    data = torch.FloatTensor(data)\n",
    "    labels = torch.FloatTensor(labels)\n",
    "    data = data.view(-1, seq_len, input_size)\n",
    "    labels = labels.view(-1, seq_len)\n",
    "\n",
    "    all_data = TensorDataset(data, labels) \n",
    "    data_loader = DataLoader(all_data, batch_size=batch_size, shuffle=shuffle, num_workers=num_workers)\n",
    "    \n",
    "    return data_loader"
   ]
  },
  {
   "cell_type": "code",
   "execution_count": 66,
   "metadata": {},
   "outputs": [],
   "source": [
    "device = torch.device(\"cuda:1\")"
   ]
  },
  {
   "cell_type": "code",
   "execution_count": 67,
   "metadata": {},
   "outputs": [
    {
     "data": {
      "text/plain": [
       "(240, 64, 784)"
      ]
     },
     "execution_count": 67,
     "metadata": {},
     "output_type": "execute_result"
    }
   ],
   "source": [
    "train_data.shape"
   ]
  },
  {
   "cell_type": "code",
   "execution_count": 68,
   "metadata": {},
   "outputs": [],
   "source": [
    "train_loader = prepare_loader(train_data, train_labels, seq_len, input_size, batch_size)\n",
    "val_loader = prepare_loader(val_data, val_labels, seq_len, input_size, batch_size)\n",
    "test_loader = prepare_loader(test_data, test_labels, seq_len, input_size, batch_size)"
   ]
  },
  {
   "cell_type": "code",
   "execution_count": 93,
   "metadata": {},
   "outputs": [],
   "source": [
    "class FNN(nn.Module):\n",
    "    def __init__(self, input_size, hidden_dim, output_size, drop_prob=0.5):\n",
    "        super(FNN, self).__init__()\n",
    "        # Linear function as in LSTM model\n",
    "\n",
    "        self.linear_1 = nn.Linear(input_size, hidden_dim) \n",
    "        self.linear_2 = nn.Linear(hidden_dim, hidden_dim//2) \n",
    "        self.linear_3 = nn.Linear(hidden_dim//2, 1)  \n",
    "        self.dropout = nn.Dropout(drop_prob)\n",
    "        self.relu = nn.ReLU()\n",
    "        self.activation = nn.Sigmoid()\n",
    "\n",
    "\n",
    "    def forward(self, input_seq):\n",
    "        batch_size = input_seq.size(0)\n",
    "        out = self.linear_1(input_seq)\n",
    "        out = self.dropout(out)\n",
    "        out = self.relu(out)\n",
    "        out = self.linear_2(out)\n",
    "        out = self.dropout(out)\n",
    "        out = self.relu(out)\n",
    "        out = self.linear_3(out)\n",
    "        out = self.activation(out)\n",
    "        out = out.view(batch_size, -1)\n",
    "        return out"
   ]
  },
  {
   "cell_type": "code",
   "execution_count": 94,
   "metadata": {},
   "outputs": [],
   "source": [
    "def train_model(model, loss_function, epochs=100, print_every=5):\n",
    "    optimizer = torch.optim.Adam(model.parameters(), lr=learning_rate)\n",
    "    \n",
    "    \n",
    "    valid_loss_min = np.Inf\n",
    "\n",
    "    loss_list = []\n",
    "    acc_list = []\n",
    "    overall_val_loss_list = []\n",
    "    counter = 0\n",
    "    model.train()\n",
    "\n",
    "    out_list = []\n",
    "    labels_list = []\n",
    "\n",
    "    model.train()\n",
    "    for i in range(epochs):\n",
    "        # for inputs, labels in tqdm(train_loader):\n",
    "        for inputs, labels in train_loader:\n",
    "            if inputs.shape[0] < batch_size:\n",
    "                break\n",
    "\n",
    "            counter += 1\n",
    "            #h = model.init_hidden(batch_size)\n",
    "            #h = tuple([e.data for e in h])\n",
    "            inputs, labels = inputs.to(device), labels.to(device)  \n",
    "\n",
    "            # shape of lstm_in: [seq_len, batch_size, input_size]\n",
    "            # shape of lstm_out: [input_size, batch_size, hidden_dim]\n",
    "            # shape of self.hidden: (a, b), where a and b both \n",
    "            # have shape (num_layers, batch_size, hidden_dim).\n",
    "\n",
    "            output = model(inputs)\n",
    "            loss = loss_function(output.squeeze(), labels.float())\n",
    "            loss_list += [loss.cpu().clone().detach()]\n",
    "            accuracy = (output > 0.5).long() == labels\n",
    "            acc_list += [accuracy.cpu().detach().float().mean()]\n",
    "            out_list.append(output.cpu().detach().float())\n",
    "            labels_list.append(labels.cpu().detach().float())\n",
    "\n",
    "            loss.backward()\n",
    "            optimizer.step()\n",
    "            optimizer.zero_grad()\n",
    "\n",
    "            if counter%print_every == 0:\n",
    "                val_losses = []\n",
    "                val_outputs = []\n",
    "                model.eval()\n",
    "                for val_inputs, val_labels in val_loader:\n",
    "                    if val_inputs.shape[0] < batch_size:\n",
    "                        break\n",
    "                    val_inputs, val_labels = val_inputs.to(device), val_labels.to(device)\n",
    "\n",
    "                    val_out = model(val_inputs)\n",
    "                    val_loss = loss_function(val_out.squeeze(), val_labels.float())\n",
    "                    val_losses.append(val_loss.item())\n",
    "                    val_outputs += [val_out.cpu().clone().detach()]\n",
    "\n",
    "                val_outputs_one = torch.cat(val_outputs, 0)\n",
    "\n",
    "                overall_val_loss_list.append(np.mean(val_losses))\n",
    "\n",
    "                model.train()\n",
    "                print(\"Epoch: {}/{}...\".format(i+1, epochs),\n",
    "                      \"Step: {}...\".format(counter),\n",
    "                      \"Loss: {:.6f}...\".format(loss.item()),\n",
    "                      \"Val Loss: {:.6f}\".format(np.mean(val_losses)))\n",
    "    return model, (loss_list, acc_list, overall_val_loss_list)"
   ]
  },
  {
   "cell_type": "code",
   "execution_count": 95,
   "metadata": {},
   "outputs": [],
   "source": [
    "# input data parameters\n",
    "input_size = im_size * im_size\n",
    "output_size = seq_len\n",
    "\n",
    "# model hyperparameters\n",
    "hidden_dim = 100\n",
    "num_workers = 1\n",
    "learning_rate = 1e-3\n",
    "\n",
    "batch_size = 64"
   ]
  },
  {
   "cell_type": "code",
   "execution_count": 106,
   "metadata": {},
   "outputs": [
    {
     "data": {
      "text/plain": [
       "FNN(\n",
       "  (linear_1): Linear(in_features=784, out_features=100, bias=True)\n",
       "  (linear_2): Linear(in_features=100, out_features=50, bias=True)\n",
       "  (linear_3): Linear(in_features=50, out_features=1, bias=True)\n",
       "  (dropout): Dropout(p=0.5, inplace=False)\n",
       "  (relu): ReLU()\n",
       "  (activation): Sigmoid()\n",
       ")"
      ]
     },
     "execution_count": 106,
     "metadata": {},
     "output_type": "execute_result"
    }
   ],
   "source": [
    "model = FNN(input_size=input_size, hidden_dim=hidden_dim, output_size=output_size)\n",
    "loss_function = CustomLoss()\n",
    "model.to(device)"
   ]
  },
  {
   "cell_type": "code",
   "execution_count": 107,
   "metadata": {
    "scrolled": true
   },
   "outputs": [
    {
     "name": "stderr",
     "output_type": "stream",
     "text": [
      "Exception ignored in: <function _MultiProcessingDataLoaderIter.__del__ at 0x7f3e34f26ea0>\n",
      "Traceback (most recent call last):\n",
      "  File \"/home/eromanenkova/anaconda3/lib/python3.7/site-packages/torch/utils/data/dataloader.py\", line 961, in __del__\n",
      "    self._shutdown_workers()\n",
      "  File \"/home/eromanenkova/anaconda3/lib/python3.7/site-packages/torch/utils/data/dataloader.py\", line 941, in _shutdown_workers\n",
      "    w.join()\n",
      "  File \"/home/eromanenkova/anaconda3/lib/python3.7/multiprocessing/process.py\", line 138, in join\n",
      "    assert self._parent_pid == os.getpid(), 'can only join a child process'\n",
      "AssertionError: can only join a child process\n",
      "Exception ignored in: <function _MultiProcessingDataLoaderIter.__del__ at 0x7f3e34f26ea0>\n",
      "Traceback (most recent call last):\n",
      "  File \"/home/eromanenkova/anaconda3/lib/python3.7/site-packages/torch/utils/data/dataloader.py\", line 961, in __del__\n",
      "    self._shutdown_workers()\n",
      "  File \"/home/eromanenkova/anaconda3/lib/python3.7/site-packages/torch/utils/data/dataloader.py\", line 941, in _shutdown_workers\n",
      "    w.join()\n",
      "  File \"/home/eromanenkova/anaconda3/lib/python3.7/multiprocessing/process.py\", line 138, in join\n",
      "    assert self._parent_pid == os.getpid(), 'can only join a child process'\n",
      "AssertionError: can only join a child process\n",
      "Exception ignored in: <function _MultiProcessingDataLoaderIter.__del__ at 0x7f3e34f26ea0>\n",
      "Traceback (most recent call last):\n",
      "  File \"/home/eromanenkova/anaconda3/lib/python3.7/site-packages/torch/utils/data/dataloader.py\", line 961, in __del__\n",
      "    self._shutdown_workers()\n",
      "  File \"/home/eromanenkova/anaconda3/lib/python3.7/site-packages/torch/utils/data/dataloader.py\", line 941, in _shutdown_workers\n",
      "    w.join()\n",
      "  File \"/home/eromanenkova/anaconda3/lib/python3.7/multiprocessing/process.py\", line 138, in join\n",
      "    assert self._parent_pid == os.getpid(), 'can only join a child process'\n",
      "AssertionError: can only join a child process\n"
     ]
    },
    {
     "name": "stdout",
     "output_type": "stream",
     "text": [
      "Epoch: 2/20... Step: 5... Loss: -2.052075... Val Loss: -2.398557\n"
     ]
    },
    {
     "name": "stderr",
     "output_type": "stream",
     "text": [
      "Exception ignored in: <function _MultiProcessingDataLoaderIter.__del__ at 0x7f3e34f26ea0>\n",
      "Traceback (most recent call last):\n",
      "  File \"/home/eromanenkova/anaconda3/lib/python3.7/site-packages/torch/utils/data/dataloader.py\", line 961, in __del__\n",
      "    self._shutdown_workers()\n",
      "  File \"/home/eromanenkova/anaconda3/lib/python3.7/site-packages/torch/utils/data/dataloader.py\", line 941, in _shutdown_workers\n",
      "    w.join()\n",
      "  File \"/home/eromanenkova/anaconda3/lib/python3.7/multiprocessing/process.py\", line 138, in join\n",
      "    assert self._parent_pid == os.getpid(), 'can only join a child process'\n",
      "AssertionError: can only join a child process\n",
      "Exception ignored in: <function _MultiProcessingDataLoaderIter.__del__ at 0x7f3e34f26ea0>\n",
      "Traceback (most recent call last):\n",
      "  File \"/home/eromanenkova/anaconda3/lib/python3.7/site-packages/torch/utils/data/dataloader.py\", line 961, in __del__\n",
      "    self._shutdown_workers()\n",
      "  File \"/home/eromanenkova/anaconda3/lib/python3.7/site-packages/torch/utils/data/dataloader.py\", line 941, in _shutdown_workers\n",
      "    w.join()\n",
      "  File \"/home/eromanenkova/anaconda3/lib/python3.7/multiprocessing/process.py\", line 138, in join\n",
      "    assert self._parent_pid == os.getpid(), 'can only join a child process'\n",
      "AssertionError: can only join a child process\n"
     ]
    },
    {
     "name": "stdout",
     "output_type": "stream",
     "text": [
      "Epoch: 4/20... Step: 10... Loss: -3.015111... Val Loss: -3.203470\n",
      "Epoch: 5/20... Step: 15... Loss: -3.890054... Val Loss: -5.286720\n",
      "Epoch: 7/20... Step: 20... Loss: -5.962564... Val Loss: -6.547233\n",
      "Epoch: 9/20... Step: 25... Loss: -6.893847... Val Loss: -8.358884\n",
      "Epoch: 10/20... Step: 30... Loss: -7.114905... Val Loss: -8.213616\n",
      "Epoch: 12/20... Step: 35... Loss: -7.511348... Val Loss: -6.412846\n",
      "Epoch: 14/20... Step: 40... Loss: -6.621973... Val Loss: -8.716546\n",
      "Epoch: 15/20... Step: 45... Loss: -8.449565... Val Loss: -9.138334\n",
      "Epoch: 17/20... Step: 50... Loss: -8.765212... Val Loss: -6.341969\n",
      "Epoch: 19/20... Step: 55... Loss: -6.597646... Val Loss: -7.922021\n",
      "Epoch: 20/20... Step: 60... Loss: -8.045672... Val Loss: -8.894212\n"
     ]
    }
   ],
   "source": [
    "model, (loss_list, acc_list, overall_val_loss_list) = train_model(model, loss_function, 20, 5)"
   ]
  },
  {
   "cell_type": "code",
   "execution_count": 108,
   "metadata": {},
   "outputs": [
    {
     "data": {
      "text/plain": [
       "FNN(\n",
       "  (linear_1): Linear(in_features=784, out_features=100, bias=True)\n",
       "  (linear_2): Linear(in_features=100, out_features=50, bias=True)\n",
       "  (linear_3): Linear(in_features=50, out_features=1, bias=True)\n",
       "  (dropout): Dropout(p=0.5, inplace=False)\n",
       "  (relu): ReLU()\n",
       "  (activation): Sigmoid()\n",
       ")"
      ]
     },
     "execution_count": 108,
     "metadata": {},
     "output_type": "execute_result"
    }
   ],
   "source": [
    "bce_model = FNN(input_size=input_size, hidden_dim=hidden_dim, output_size=output_size)\n",
    "bce_loss_function = torch.nn.BCELoss()\n",
    "bce_model.to(device)"
   ]
  },
  {
   "cell_type": "code",
   "execution_count": 109,
   "metadata": {},
   "outputs": [
    {
     "name": "stdout",
     "output_type": "stream",
     "text": [
      "Epoch: 2/20... Step: 5... Loss: 0.656403... Val Loss: 0.640614\n",
      "Epoch: 4/20... Step: 10... Loss: 0.533332... Val Loss: 0.499515\n",
      "Epoch: 5/20... Step: 15... Loss: 0.371602... Val Loss: 0.330587\n",
      "Epoch: 7/20... Step: 20... Loss: 0.224218... Val Loss: 0.178976\n",
      "Epoch: 9/20... Step: 25... Loss: 0.122663... Val Loss: 0.092090\n",
      "Epoch: 10/20... Step: 30... Loss: 0.074914... Val Loss: 0.060431\n",
      "Epoch: 12/20... Step: 35... Loss: 0.045840... Val Loss: 0.044999\n",
      "Epoch: 14/20... Step: 40... Loss: 0.042500... Val Loss: 0.033917\n",
      "Epoch: 15/20... Step: 45... Loss: 0.039115... Val Loss: 0.038775\n",
      "Epoch: 17/20... Step: 50... Loss: 0.036258... Val Loss: 0.038909\n",
      "Epoch: 19/20... Step: 55... Loss: 0.035188... Val Loss: 0.034220\n",
      "Epoch: 20/20... Step: 60... Loss: 0.040928... Val Loss: 0.024883\n"
     ]
    }
   ],
   "source": [
    "bce_model, (bce_loss_list, bce_acc_list, bce_overall_val_loss_list) = train_model(bce_model, bce_loss_function, 20, 5)"
   ]
  },
  {
   "cell_type": "code",
   "execution_count": 112,
   "metadata": {},
   "outputs": [
    {
     "data": {
      "text/plain": [
       "FNN(\n",
       "  (linear_1): Linear(in_features=784, out_features=100, bias=True)\n",
       "  (linear_2): Linear(in_features=100, out_features=50, bias=True)\n",
       "  (linear_3): Linear(in_features=50, out_features=1, bias=True)\n",
       "  (dropout): Dropout(p=0.5, inplace=False)\n",
       "  (relu): ReLU()\n",
       "  (activation): Sigmoid()\n",
       ")"
      ]
     },
     "execution_count": 112,
     "metadata": {},
     "output_type": "execute_result"
    }
   ],
   "source": [
    "combined_model = FNN(input_size=input_size, hidden_dim=hidden_dim, output_size=output_size)\n",
    "first_bce_loss_function = torch.nn.BCELoss()\n",
    "second_custom_loss_function = CustomLoss()\n",
    "combined_model.to(device)"
   ]
  },
  {
   "cell_type": "code",
   "execution_count": 113,
   "metadata": {},
   "outputs": [
    {
     "name": "stdout",
     "output_type": "stream",
     "text": [
      "Epoch: 2/5... Step: 5... Loss: -2.072531... Val Loss: -2.433527\n",
      "Epoch: 4/5... Step: 10... Loss: -3.323921... Val Loss: -3.650419\n",
      "Epoch: 5/5... Step: 15... Loss: -4.678144... Val Loss: -6.176334\n"
     ]
    }
   ],
   "source": [
    "combined_model, _ = train_model(combined_model, second_custom_loss_function, 5, 5)"
   ]
  },
  {
   "cell_type": "code",
   "execution_count": 114,
   "metadata": {},
   "outputs": [
    {
     "name": "stdout",
     "output_type": "stream",
     "text": [
      "Epoch: 2/5... Step: 5... Loss: 0.286078... Val Loss: 0.208611\n",
      "Epoch: 4/5... Step: 10... Loss: 0.148341... Val Loss: 0.128719\n",
      "Epoch: 5/5... Step: 15... Loss: 0.084984... Val Loss: 0.063318\n"
     ]
    }
   ],
   "source": [
    "combined_model, __ = train_model(combined_model, first_bce_loss_function, 5, 5)"
   ]
  },
  {
   "cell_type": "code",
   "execution_count": 115,
   "metadata": {},
   "outputs": [
    {
     "data": {
      "image/png": "[encoded data removed]",
      "text/plain": [
       "<Figure size 432x288 with 1 Axes>"
      ]
     },
     "metadata": {
      "needs_background": "light"
     },
     "output_type": "display_data"
    }
   ],
   "source": [
    "plt.plot(acc_list[::]);"
   ]
  },
  {
   "cell_type": "code",
   "execution_count": 116,
   "metadata": {},
   "outputs": [
    {
     "data": {
      "text/plain": [
       "(0.95, 1)"
      ]
     },
     "execution_count": 116,
     "metadata": {},
     "output_type": "execute_result"
    },
    {
     "data": {
      "image/png": "[encoded data removed]",
      "text/plain": [
       "<Figure size 432x288 with 1 Axes>"
      ]
     },
     "metadata": {
      "needs_background": "light"
     },
     "output_type": "display_data"
    }
   ],
   "source": [
    "plt.plot(bce_acc_list[::]);\n",
    "plt.ylim([0.95, 1])"
   ]
  },
  {
   "cell_type": "code",
   "execution_count": 117,
   "metadata": {},
   "outputs": [
    {
     "data": {
      "image/png": "[encoded data removed]",
      "text/plain": [
       "<Figure size 432x288 with 1 Axes>"
      ]
     },
     "metadata": {
      "needs_background": "light"
     },
     "output_type": "display_data"
    }
   ],
   "source": [
    "plt.plot(loss_list[::]);"
   ]
  },
  {
   "cell_type": "code",
   "execution_count": 118,
   "metadata": {},
   "outputs": [
    {
     "data": {
      "image/png": "[encoded data removed]",
      "text/plain": [
       "<Figure size 432x288 with 1 Axes>"
      ]
     },
     "metadata": {
      "needs_background": "light"
     },
     "output_type": "display_data"
    }
   ],
   "source": [
    "plt.plot(overall_val_loss_list);"
   ]
  },
  {
   "cell_type": "markdown",
   "metadata": {},
   "source": [
    "## Plots for model output"
   ]
  },
  {
   "cell_type": "code",
   "execution_count": 123,
   "metadata": {},
   "outputs": [],
   "source": [
    "test_loss_list = []\n",
    "test_acc_list = []\n",
    "\n",
    "model.eval()\n",
    "bce_model.eval()\n",
    "for test_inputs, test_true_labels in test_loader:\n",
    "\n",
    "    if test_inputs.shape[0] < batch_size:\n",
    "        break\n",
    "    test_inputs, test_true_labels = test_inputs.to(device), test_true_labels.to(device)\n",
    "    test_predictions = model(test_inputs)\n",
    "    test_predictions_bce = bce_model(test_inputs)\n",
    "    \n",
    "model.train()\n",
    "bce_model.train();"
   ]
  },
  {
   "cell_type": "code",
   "execution_count": 124,
   "metadata": {},
   "outputs": [
    {
     "data": {
      "image/png": "[encoded data removed]",
      "text/plain": [
       "<Figure size 864x720 with 1 Axes>"
      ]
     },
     "metadata": {
      "needs_background": "light"
     },
     "output_type": "display_data"
    }
   ],
   "source": [
    "index = 15\n",
    "plt.figure(figsize=(12, 10))\n",
    "plt.plot(test_true_labels[index].cpu().detach().numpy(), color='green', label='True labels')\n",
    "plt.plot(test_predictions[index].cpu().detach().numpy(), '--', label='Predicted probabilities')\n",
    "plt.plot(test_predictions_bce[index].cpu().detach().numpy(), '-.', label='BCE predicted probabilities')\n",
    "plt.legend(loc='upper left', fontsize=20);\n",
    "plt.ylim([-.05, 1.05]);"
   ]
  },
  {
   "cell_type": "markdown",
   "metadata": {},
   "source": [
    "## Calculate metrics for different models"
   ]
  },
  {
   "cell_type": "code",
   "execution_count": 125,
   "metadata": {},
   "outputs": [],
   "source": [
    "def evaluate_metrics(y_true, y_pred, threshold=0.5):\n",
    "    \"\"\"\n",
    "    Evaluate metrics for change point detection\n",
    "    We assume, that there is no more than one change index in data (so, either 0 or 1 change)\n",
    "    Inputs\n",
    "    y_true : torch.Tensor\n",
    "      true labels\n",
    "    y_pred : torch.Tensor\n",
    "      change probabiltiy\n",
    "    threshold : float\n",
    "      detection threshold\n",
    "      \n",
    "    Returns\n",
    "    false_positive : int\n",
    "      number of false positives\n",
    "    false_negative : int\n",
    "      number of false negatives\n",
    "    delay : int\n",
    "      detection delay\n",
    "    accuracy : float\n",
    "      y_pred accuracy given y_truei\n",
    "    \"\"\"\n",
    "    delay = 0\n",
    "    false_positive = 0\n",
    "    false_negative = 0\n",
    "    true_negative = 0\n",
    "\n",
    "    index_real = torch.where(y_true != y_true[0])[0] # indexes with real changes\n",
    "    index_detected = torch.where((y_pred > threshold).long() != y_true[0])[0] # indexes with predicted changes\n",
    "\n",
    "    if len(index_real) > 0:\n",
    "        real_change_index = index_real[0]\n",
    "\n",
    "        if len(index_detected) > 0:\n",
    "            index_sub_detected = torch.where(index_detected >= real_change_index)[0]\n",
    "\n",
    "            if len(index_sub_detected) == len(index_detected):\n",
    "                false_positive_delay = real_change_index.item()\n",
    "                detected_change_index = index_detected[0]\n",
    "                delay = (detected_change_index - real_change_index).item()\n",
    "            else:\n",
    "                false_positive_delay = index_detected[0].item()\n",
    "                delay = 0\n",
    "                false_positive += 1\n",
    "                \n",
    "        else:\n",
    "            false_positive_delay = seq_len\n",
    "            delay = (seq_len - real_change_index).item()\n",
    "            false_negative += 1\n",
    "\n",
    "    else:\n",
    "        if len(index_detected) > 0:\n",
    "            false_positive_delay = index_detected[0].item()\n",
    "            false_positive += 1\n",
    "        else:\n",
    "            false_positive_delay = seq_len\n",
    "            true_negative += 1\n",
    "    \n",
    "    accuracy = ((y_pred > threshold).long() == y_true).float().mean().item()\n",
    "    \n",
    "    return false_positive, false_negative, delay, false_positive_delay, accuracy"
   ]
  },
  {
   "cell_type": "code",
   "execution_count": 126,
   "metadata": {},
   "outputs": [],
   "source": [
    "test_batch_size = 64\n",
    "final_test_loader = prepare_loader(test_data, test_labels, seq_len, input_size, test_batch_size)"
   ]
  },
  {
   "cell_type": "code",
   "execution_count": 130,
   "metadata": {},
   "outputs": [],
   "source": [
    "def get_quality_metrics(test_loader, model, threshold=0.5):\n",
    "    test_loss_list = []\n",
    "    test_acc_list = []\n",
    "\n",
    "    positive_number = 0 \n",
    "    negative_number = 0\n",
    "    fp_list = []\n",
    "    fn_list = []\n",
    "    delay_list = []\n",
    "    fp_delay_list = []\n",
    "    accuracy_list = []\n",
    "\n",
    "    model.eval()\n",
    "    for test_inputs, test_true_labels in test_loader:\n",
    "\n",
    "        if test_inputs.shape[0] < test_batch_size:\n",
    "            break\n",
    "\n",
    "        test_inputs, test_true_labels = test_inputs.to(device), test_true_labels.to(device)\n",
    "        test_predictions = model(test_inputs)\n",
    "        test_loss = loss_function(test_predictions.squeeze(), test_true_labels.float())\n",
    "        test_loss_list += [test_loss.cpu().clone().detach()]\n",
    "\n",
    "        for i in range(0, test_batch_size):\n",
    "            curr_labels = test_true_labels[i]\n",
    "            curr_predictions = test_predictions[i]\n",
    "            \n",
    "            # torch.rand_like\n",
    "            curr_fp, curr_fn, curr_delay, curr_fp_delay, curr_accuracy = evaluate_metrics(curr_labels, curr_predictions, \n",
    "                                                                           threshold)\n",
    "\n",
    "            max_difference = np.abs((curr_labels.max() - curr_labels.min()).item())\n",
    "            if max_difference: \n",
    "                delay_list.append(curr_delay)\n",
    "            positive_number += (max_difference > 0)\n",
    "            negative_number += 1 - (max_difference > 0)\n",
    "\n",
    "            fp_list.append(curr_fp)\n",
    "            fn_list.append(curr_fn)\n",
    "            fp_delay_list.append(curr_fp_delay)\n",
    "            accuracy_list.append(curr_accuracy)\n",
    "\n",
    "        test_acc_list.append(np.mean(accuracy_list[-test_batch_size:]))\n",
    "        \n",
    "    return (positive_number, negative_number, np.mean(test_loss_list), np.mean(test_acc_list), np.mean(delay_list),\n",
    "            np.mean(fp_delay_list), np.sum(fp_list), np.sum(fn_list))"
   ]
  },
  {
   "cell_type": "code",
   "execution_count": 131,
   "metadata": {},
   "outputs": [
    {
     "name": "stdout",
     "output_type": "stream",
     "text": [
      "Positive number:  40\n",
      "Negative number:  24\n",
      "Test loss: -5.739\n",
      "Test accuracy: 0.936\n",
      "Test delay: 0.15\n",
      "Test FP delay: 33.09\n",
      "Test FP:  37\n",
      "Test FN:  0\n"
     ]
    }
   ],
   "source": [
    "(positive_number, negative_number, test_loss, \n",
    "test_acc, mean_delay, mean_fp_delay, fp_number, fn_number) = get_quality_metrics(test_loader, model, 0.1)\n",
    "    \n",
    "print(\"Positive number: \", positive_number)\n",
    "print(\"Negative number: \", negative_number)\n",
    "print(\"Test loss: {:.3f}\".format(test_loss))\n",
    "print(\"Test accuracy: {:.3f}\".format(test_acc))\n",
    "print(\"Test delay: {:.2f}\".format(mean_delay))\n",
    "print(\"Test FP delay: {:.2f}\".format(mean_fp_delay))\n",
    "print(\"Test FP: \", fp_number)\n",
    "print(\"Test FN: \", fn_number)\n",
    "\n",
    "# custom loss metrics:\n",
    "# Test loss: -18.444\n",
    "# Test accuracy: 0.850%\n",
    "# Test delay: 0.05\n",
    "# Test FP:  93\n",
    "# Test FN:  0"
   ]
  },
  {
   "cell_type": "code",
   "execution_count": 132,
   "metadata": {},
   "outputs": [],
   "source": [
    "def get_pareto_metrics_for_threshold(model, test_loader, threshold_list):\n",
    "    fp_number_list = []\n",
    "    fn_number_list = []\n",
    "    delay_list = []\n",
    "    fp_delay_list = []\n",
    "    for threshold in threshold_list:\n",
    "        # test_loader = prepare_loader(test_data, test_labels, seq_len, input_size, batch_size)\n",
    "\n",
    "        (positive_number, negative_number, test_loss, \n",
    "         test_acc, mean_delay, mean_fp_delay, fp_number, fn_number) = get_quality_metrics(test_loader, model, threshold)\n",
    "\n",
    "        fp_number_list.append(fp_number)\n",
    "        fn_number_list.append(fn_number)\n",
    "        delay_list.append(mean_delay)\n",
    "        fp_delay_list.append(mean_fp_delay)\n",
    "        print(threshold, fp_number, fn_number, mean_delay, mean_fp_delay)\n",
    "    \n",
    "    return fp_number_list, fn_number_list, delay_list, fp_delay_list"
   ]
  },
  {
   "cell_type": "code",
   "execution_count": 133,
   "metadata": {},
   "outputs": [
    {
     "data": {
      "text/plain": [
       "[<matplotlib.lines.Line2D at 0x7f3e23fb3b38>]"
      ]
     },
     "execution_count": 133,
     "metadata": {},
     "output_type": "execute_result"
    },
    {
     "data": {
      "image/png": "[encoded data removed]",
      "text/plain": [
       "<Figure size 432x288 with 1 Axes>"
      ]
     },
     "metadata": {
      "needs_background": "light"
     },
     "output_type": "display_data"
    }
   ],
   "source": [
    "threshold_number = 200\n",
    "threshold_list = np.linspace(-15, 15, threshold_number)\n",
    "threshold_list = 1 / (1 + np.exp(-threshold_list))\n",
    "plt.plot(np.linspace(0.01, 1, threshold_number), threshold_list)"
   ]
  },
  {
   "cell_type": "code",
   "execution_count": 134,
   "metadata": {},
   "outputs": [],
   "source": [
    "test_batch_size = 64\n",
    "final_test_loader = prepare_loader(test_data, test_labels, seq_len, input_size, test_batch_size, shuffle=False)"
   ]
  },
  {
   "cell_type": "code",
   "execution_count": 135,
   "metadata": {
    "scrolled": true
   },
   "outputs": [
    {
     "name": "stdout",
     "output_type": "stream",
     "text": [
      "3.059022269256247e-07 64 0 0.0 0.0\n",
      "3.5567566069455447e-07 64 0 0.0 0.0\n",
      "4.135477399343811e-07 64 0 0.0 0.0\n",
      "4.808361957083632e-07 64 0 0.0 0.0\n",
      "5.590731667609661e-07 64 0 0.0 0.0\n",
      "6.500400855903908e-07 64 0 0.0 0.0\n",
      "7.558082407498619e-07 64 0 0.0 0.0\n",
      "8.787859389250973e-07 64 0 0.0 0.0\n",
      "1.0217733405942518e-06 64 0 0.0 0.0\n",
      "1.1880262177800208e-06 64 0 0.0 0.0\n",
      "1.3813300855273949e-06 64 0 0.0 0.0\n",
      "1.6060863949070788e-06 64 0 0.0 0.0\n",
      "1.8674127499275664e-06 64 0 0.0 0.0\n",
      "2.171259429985438e-06 64 0 0.0 0.0\n",
      "2.5245448706559623e-06 64 0 0.0 0.0\n",
      "2.935313187166708e-06 64 0 0.0 0.0\n",
      "3.4129173266193407e-06 64 0 0.0 0.0\n",
      "3.968232018336215e-06 64 0 0.0 0.0\n",
      "4.613901369867859e-06 64 0 0.0 0.0\n",
      "5.3646267446155565e-06 64 0 0.0 0.0\n",
      "6.2375014736103725e-06 64 0 0.0 0.0\n",
      "7.2524000195603246e-06 64 0 0.0 0.0\n",
      "8.43243045001736e-06 64 0 0.0 0.0\n",
      "9.804460516527986e-06 64 0 0.0 0.0\n",
      "1.1399729310565373e-05 64 0 0.0 0.0\n",
      "1.3254558412823157e-05 64 0 0.0 0.0\n",
      "1.5411178714132362e-05 64 0 0.0 0.0\n",
      "1.7918691714996185e-05 64 0 0.0 0.0\n",
      "2.0834187165913282e-05 64 0 0.0 0.0\n",
      "2.422404246121564e-05 64 0 0.0 0.0\n",
      "2.8165433325076256e-05 64 0 0.0 0.0\n",
      "3.274809012244227e-05 64 0 0.0 0.0\n",
      "3.807633969752674e-05 64 0 0.0 0.0\n",
      "4.427147911287391e-05 64 0 0.0 0.0\n",
      "5.147453517738728e-05 64 0 0.0 0.0\n",
      "5.984947237936492e-05 64 0 0.0 0.0\n",
      "6.958692197406513e-05 64 0 0.0 0.0\n",
      "8.090851673835931e-05 64 0 0.0 0.0\n",
      "9.40719295559931e-05 64 0 0.0 0.0\n",
      "0.00010937672983390545 64 0 0.0 0.0\n",
      "0.00012717119011627318 64 0 0.0 0.0\n",
      "0.00014786019655330245 64 0 0.0 0.0\n",
      "0.00017191444154951454 64 0 0.0 0.0\n",
      "0.0001998811054804534 64 0 0.0 0.0\n",
      "0.00023239626742025532 64 0 0.0 0.0\n",
      "0.00027019932304032826 64 0 0.0 0.0\n",
      "0.0003141497319868548 64 0 0.0 0.0\n",
      "0.0003652464679857076 64 0 0.0 0.0\n",
      "0.00042465060362666254 64 0 0.0 0.0\n",
      "0.0004937115293237555 64 0 0.0 0.0\n",
      "0.0005739973835260771 64 0 0.0 0.0\n",
      "0.0006673303601619598 64 0 0.0 0.0\n",
      "0.0007758276609337584 64 0 0.0 0.0\n",
      "0.0009019489759064135 64 0 0.0 0.0\n",
      "0.0010485515073473057 64 0 0.0 0.0\n",
      "0.001218953700438987 64 0 0.0 0.0\n",
      "0.0014170090116267153 64 0 0.0 0.0\n",
      "0.0016471912320242064 64 0 0.0 0.0\n",
      "0.0019146930900361978 64 0 0.0 0.0\n",
      "0.002225540083927417 64 0 0.0 0.0\n",
      "0.002586721740032682 64 0 0.0 0.0\n",
      "0.0030063427524479624 64 0 0.0 0.0\n",
      "0.003493796729610065 64 0 0.0 0.0\n",
      "0.004059965542829212 64 0 0.0 0.0\n",
      "0.0047174475273036 64 0 0.0 0.0\n",
      "0.005480818006397048 64 0 0.0 0.0\n",
      "0.006366925764921793 64 0 0.0 0.0\n",
      "0.0073952291447584 64 0 0.0 0.0\n",
      "0.0085881753186096 64 0 0.0 0.015625\n",
      "0.009971625937127002 64 0 0.0 0.0625\n",
      "0.011575331637758118 63 0 0.0 1.296875\n",
      "0.013433456715774965 63 0 0.0 2.21875\n",
      "0.015585153416814386 63 0 0.0 2.75\n",
      "0.01807518260025041 62 0 0.0 3.640625\n",
      "0.020954573680812282 62 0 0.0 4.515625\n",
      "0.024281311471678085 62 0 0.0 5.734375\n",
      "0.02812103047559733 61 0 0.0 7.640625\n",
      "0.03254768793153412 60 0 0.0 10.640625\n",
      "0.03764417517325487 60 0 0.0 13.140625\n",
      "0.043502812332922795 58 0 0.0 16.359375\n",
      "0.05022565406541093 56 0 0.0 20.1875\n",
      "0.05792451407542253 51 0 0.0 23.15625\n",
      "0.06672059467734645 47 0 0.0 24.671875\n",
      "0.07674358614409776 44 0 0.0 28.921875\n",
      "0.0881300821196616 42 0 0.04878048780487805 30.0\n",
      "0.10102114627237378 39 0 0.14634146341463414 31.46875\n",
      "0.11555886770351441 38 0 0.14634146341463414 32.5\n",
      "0.13188176600476537 36 0 0.1951219512195122 33.375\n",
      "0.15011895981992807 34 0 0.1951219512195122 33.671875\n",
      "0.17038310339724358 30 0 0.24390243902439024 34.1875\n",
      "0.19276222919191194 30 0 0.2926829268292683 34.328125\n",
      "0.21731081024736018 26 0 0.34146341463414637 35.546875\n",
      "0.24404056306764266 26 0 0.3902439024390244 35.78125\n",
      "0.2729117260093201 25 0 0.43902439024390244 35.875\n",
      "0.3038257316556411 25 0 0.4878048780487805 35.953125\n",
      "0.33662029495232143 25 0 0.5365853658536586 36.046875\n",
      "0.3710679107501842 25 0 0.5853658536585366 36.09375\n",
      "0.4068785557978966 22 0 0.6097560975609756 36.171875\n",
      "0.4437070113323173 20 0 0.6829268292682927 36.265625\n",
      "0.4811646960559312 15 0 0.7073170731707317 36.375\n",
      "0.518835303944068 15 0 0.7560975609756098 36.421875\n",
      "0.5562929886676822 14 0 0.8536585365853658 36.46875\n",
      "0.5931214442021029 14 0 0.926829268292683 36.484375\n",
      "0.6289320892498149 13 0 0.975609756097561 36.578125\n",
      "0.6633797050476777 11 0 1.048780487804878 36.625\n",
      "0.6961742683443586 11 0 1.2682926829268293 36.625\n",
      "0.7270882739906794 9 0 1.4146341463414633 36.671875\n",
      "0.7559594369323567 8 0 1.5853658536585367 36.71875\n",
      "0.7826891897526391 8 0 1.9024390243902438 36.734375\n",
      "0.8072377708080877 7 0 2.1463414634146343 36.765625\n",
      "0.8296168966027558 7 0 2.5121951219512195 36.765625\n",
      "0.8498810401800715 6 0 2.6341463414634148 36.796875\n",
      "0.8681182339952341 5 0 3.0 36.828125\n",
      "0.8844411322964855 4 0 3.2195121951219514 36.84375\n",
      "0.8989788537276263 3 0 3.5121951219512195 36.859375\n",
      "0.9118699178803382 2 0 3.926829268292683 36.890625\n",
      "0.9232564138559021 2 0 4.2682926829268295 36.890625\n",
      "0.9332794053226534 2 0 5.0 36.890625\n",
      "0.9420754859245772 2 0 5.585365853658536 36.890625\n",
      "0.9497743459345889 2 2 6.390243902439025 37.765625\n",
      "0.9564971876670771 2 2 7.121951219512195 37.765625\n",
      "0.9623558248267451 2 2 7.7317073170731705 37.765625\n",
      "0.9674523120684658 2 2 8.707317073170731 37.765625\n",
      "0.9718789695244026 0 3 9.951219512195122 39.109375\n",
      "0.9757186885283219 0 5 12.146341463414634 40.59375\n",
      "0.9790454263191877 0 5 13.195121951219512 40.59375\n",
      "0.9819248173997495 0 6 14.560975609756097 41.359375\n",
      "0.9844148465831855 0 8 16.4390243902439 42.21875\n",
      "0.9865665432842249 0 12 18.975609756097562 45.25\n",
      "0.988424668362242 0 14 20.926829268292682 46.859375\n",
      "0.9900283740628731 0 18 23.902439024390244 49.25\n",
      "0.9914118246813904 0 19 25.658536585365855 49.828125\n",
      "0.9926047708552416 0 20 26.73170731707317 50.421875\n",
      "0.9936330742350782 0 23 29.341463414634145 52.234375\n",
      "0.9945191819936029 0 25 31.341463414634145 53.671875\n",
      "0.9952825524726965 0 29 33.707317073170735 56.625\n",
      "0.9959400344571707 0 31 35.46341463414634 58.25\n",
      "0.9965062032703899 0 33 36.21951219512195 59.234375\n",
      "0.996993657247552 0 33 36.41463414634146 59.234375\n",
      "0.9974132782599672 0 34 37.46341463414634 59.875\n",
      "0.9977744599160726 0 34 37.609756097560975 59.875\n",
      "0.9980853069099638 0 34 37.80487804878049 59.875\n",
      "0.9983528087679757 0 37 39.02439024390244 61.78125\n",
      "0.9985829909883732 0 38 39.68292682926829 62.296875\n",
      "0.9987810462995611 0 39 40.63414634146341 62.953125\n",
      "0.9989514484926527 0 40 40.65853658536585 63.640625\n",
      "0.9990980510240935 0 40 40.68292682926829 63.640625\n",
      "0.9992241723390662 0 40 40.68292682926829 63.640625\n",
      "0.999332669639838 0 40 40.707317073170735 63.640625\n",
      "0.9994260026164739 0 41 40.73170731707317 64.0\n",
      "0.9995062884706762 0 41 40.73170731707317 64.0\n",
      "0.9995753493963734 0 41 40.73170731707317 64.0\n",
      "0.9996347535320143 0 41 40.73170731707317 64.0\n",
      "0.9996858502680133 0 41 40.73170731707317 64.0\n",
      "0.9997298006769597 0 41 40.73170731707317 64.0\n",
      "0.9997676037325798 0 41 40.73170731707317 64.0\n",
      "0.9998001188945196 0 41 40.73170731707317 64.0\n",
      "0.9998280855584505 0 41 40.73170731707317 64.0\n",
      "0.9998521398034467 0 41 40.73170731707317 64.0\n",
      "0.9998728288098837 0 41 40.73170731707317 64.0\n",
      "0.999890623270166 0 41 40.73170731707317 64.0\n",
      "0.999905928070444 0 41 40.73170731707317 64.0\n",
      "0.9999190914832615 0 41 40.73170731707317 64.0\n",
      "0.999930413078026 0 41 40.73170731707317 64.0\n",
      "0.9999401505276208 0 41 40.73170731707317 64.0\n",
      "0.9999485254648226 0 41 40.73170731707317 64.0\n",
      "0.9999557285208872 0 41 40.73170731707317 64.0\n",
      "0.9999619236603026 0 41 40.73170731707317 64.0\n",
      "0.9999672519098777 0 41 40.73170731707317 64.0\n",
      "0.9999718345666749 0 41 40.73170731707317 64.0\n",
      "0.9999757759575388 0 41 40.73170731707317 64.0\n",
      "0.9999791658128342 0 41 40.73170731707317 64.0\n",
      "0.999982081308285 0 41 40.73170731707317 64.0\n",
      "0.9999845888212858 0 41 40.73170731707317 64.0\n",
      "0.9999867454415872 0 41 40.73170731707317 64.0\n",
      "0.9999886002706894 0 41 40.73170731707317 64.0\n",
      "0.9999901955394834 0 41 40.73170731707317 64.0\n",
      "0.9999915675695499 0 41 40.73170731707317 64.0\n",
      "0.9999927475999804 0 41 40.73170731707317 64.0\n",
      "0.9999937624985265 0 41 40.73170731707317 64.0\n",
      "0.9999946353732554 0 41 40.73170731707317 64.0\n",
      "0.99999538609863 0 41 40.73170731707317 64.0\n",
      "0.9999960317679817 0 41 40.73170731707317 64.0\n",
      "0.9999965870826732 0 41 40.73170731707317 64.0\n",
      "0.9999970646868129 0 41 40.73170731707317 64.0\n",
      "0.9999974754551293 0 41 40.73170731707317 64.0\n",
      "0.9999978287405701 0 41 40.73170731707317 64.0\n",
      "0.99999813258725 0 41 40.73170731707317 64.0\n",
      "0.999998393913605 0 41 40.73170731707317 64.0\n",
      "0.9999986186699144 0 41 40.73170731707317 64.0\n"
     ]
    },
    {
     "name": "stdout",
     "output_type": "stream",
     "text": [
      "0.9999988119737823 0 41 40.73170731707317 64.0\n",
      "0.9999989782266594 0 41 40.73170731707317 64.0\n",
      "0.9999991212140611 0 41 40.73170731707317 64.0\n",
      "0.9999992441917592 0 41 40.73170731707317 64.0\n",
      "0.9999993499599145 0 41 40.73170731707317 64.0\n",
      "0.9999994409268332 0 41 40.73170731707317 64.0\n",
      "0.9999995191638043 0 41 40.73170731707317 64.0\n",
      "0.99999958645226 0 41 40.73170731707317 64.0\n",
      "0.9999996443243392 0 41 40.73170731707317 64.0\n",
      "0.999999694097773 0 41 40.73170731707317 64.0\n"
     ]
    }
   ],
   "source": [
    "(fp_number_list, fn_number_list, \n",
    " delay_list, fp_delay_list) = get_pareto_metrics_for_threshold(model, final_test_loader, threshold_list)"
   ]
  },
  {
   "cell_type": "code",
   "execution_count": 136,
   "metadata": {
    "scrolled": true
   },
   "outputs": [
    {
     "name": "stdout",
     "output_type": "stream",
     "text": [
      "3.059022269256247e-07 64 0 0.0 0.0\n",
      "3.5567566069455447e-07 64 0 0.0 0.0\n",
      "4.135477399343811e-07 64 0 0.0 0.0\n",
      "4.808361957083632e-07 64 0 0.0 0.0\n",
      "5.590731667609661e-07 64 0 0.0 0.0\n",
      "6.500400855903908e-07 64 0 0.0 0.0\n",
      "7.558082407498619e-07 64 0 0.0 0.0\n",
      "8.787859389250973e-07 64 0 0.0 0.0\n",
      "1.0217733405942518e-06 64 0 0.0 0.0\n",
      "1.1880262177800208e-06 64 0 0.0 0.0\n",
      "1.3813300855273949e-06 64 0 0.0 0.0\n",
      "1.6060863949070788e-06 64 0 0.0 0.0\n",
      "1.8674127499275664e-06 64 0 0.0 0.0\n",
      "2.171259429985438e-06 64 0 0.0 0.0\n",
      "2.5245448706559623e-06 64 0 0.0 0.0\n",
      "2.935313187166708e-06 64 0 0.0 0.0\n",
      "3.4129173266193407e-06 64 0 0.0 0.0\n",
      "3.968232018336215e-06 64 0 0.0 0.0\n",
      "4.613901369867859e-06 64 0 0.0 0.0\n",
      "5.3646267446155565e-06 64 0 0.0 0.0\n",
      "6.2375014736103725e-06 64 0 0.0 0.0\n",
      "7.2524000195603246e-06 64 0 0.0 0.0\n",
      "8.43243045001736e-06 64 0 0.0 0.0\n",
      "9.804460516527986e-06 64 0 0.0 0.0\n",
      "1.1399729310565373e-05 64 0 0.0 0.0\n",
      "1.3254558412823157e-05 64 0 0.0 0.0\n",
      "1.5411178714132362e-05 64 0 0.0 0.0\n",
      "1.7918691714996185e-05 64 0 0.0 0.0\n",
      "2.0834187165913282e-05 64 0 0.0 0.0\n",
      "2.422404246121564e-05 64 0 0.0 0.0\n",
      "2.8165433325076256e-05 64 0 0.0 0.0\n",
      "3.274809012244227e-05 64 0 0.0 0.0\n",
      "3.807633969752674e-05 64 0 0.0 0.0\n",
      "4.427147911287391e-05 64 0 0.0 0.0\n",
      "5.147453517738728e-05 64 0 0.0 0.0\n",
      "5.984947237936492e-05 64 0 0.0 0.0\n",
      "6.958692197406513e-05 64 0 0.0 0.0\n",
      "8.090851673835931e-05 64 0 0.0 0.0\n",
      "9.40719295559931e-05 64 0 0.0 0.0\n",
      "0.00010937672983390545 64 0 0.0 0.0\n",
      "0.00012717119011627318 64 0 0.0 0.0\n",
      "0.00014786019655330245 64 0 0.0 0.0\n",
      "0.00017191444154951454 64 0 0.0 0.0\n",
      "0.0001998811054804534 64 0 0.0 0.0\n",
      "0.00023239626742025532 64 0 0.0 0.0\n",
      "0.00027019932304032826 64 0 0.0 0.0\n",
      "0.0003141497319868548 64 0 0.0 0.0\n",
      "0.0003652464679857076 64 0 0.0 0.0\n",
      "0.00042465060362666254 64 0 0.0 0.0\n",
      "0.0004937115293237555 64 0 0.0 0.0\n",
      "0.0005739973835260771 64 0 0.0 0.15625\n",
      "0.0006673303601619598 64 0 0.0 0.390625\n",
      "0.0007758276609337584 64 0 0.0 0.46875\n",
      "0.0009019489759064135 64 0 0.0 0.53125\n",
      "0.0010485515073473057 63 0 0.0 1.59375\n",
      "0.001218953700438987 63 0 0.0 1.78125\n",
      "0.0014170090116267153 63 0 0.0 1.875\n",
      "0.0016471912320242064 63 0 0.0 2.015625\n",
      "0.0019146930900361978 63 0 0.0 2.203125\n",
      "0.002225540083927417 62 0 0.0 2.9375\n",
      "0.002586721740032682 62 0 0.0 3.671875\n",
      "0.0030063427524479624 62 0 0.0 4.234375\n",
      "0.003493796729610065 62 0 0.0 4.78125\n",
      "0.004059965542829212 62 0 0.0 5.28125\n",
      "0.0047174475273036 62 0 0.0 6.546875\n",
      "0.005480818006397048 62 0 0.0 8.0625\n",
      "0.006366925764921793 60 0 0.0 9.984375\n",
      "0.0073952291447584 60 0 0.0 10.796875\n",
      "0.0085881753186096 60 0 0.0 11.75\n",
      "0.009971625937127002 58 0 0.0 13.84375\n",
      "0.011575331637758118 57 0 0.0 15.359375\n",
      "0.013433456715774965 56 0 0.0 18.453125\n",
      "0.015585153416814386 50 0 0.0 20.421875\n",
      "0.01807518260025041 49 0 0.0 23.0625\n",
      "0.020954573680812282 47 0 0.0 26.03125\n",
      "0.024281311471678085 44 0 0.024390243902439025 29.15625\n",
      "0.02812103047559733 42 0 0.04878048780487805 29.828125\n",
      "0.03254768793153412 41 0 0.07317073170731707 31.3125\n",
      "0.03764417517325487 38 0 0.07317073170731707 31.984375\n",
      "0.043502812332922795 34 0 0.17073170731707318 32.875\n",
      "0.05022565406541093 32 0 0.1951219512195122 33.625\n",
      "0.05792451407542253 32 0 0.24390243902439024 33.875\n",
      "0.06672059467734645 32 0 0.2682926829268293 34.3125\n",
      "0.07674358614409776 29 0 0.3170731707317073 35.0625\n",
      "0.0881300821196616 26 0 0.34146341463414637 35.359375\n",
      "0.10102114627237378 25 0 0.36585365853658536 35.546875\n",
      "0.11555886770351441 24 0 0.43902439024390244 35.890625\n",
      "0.13188176600476537 24 0 0.4878048780487805 35.953125\n",
      "0.15011895981992807 22 0 0.5853658536585366 36.078125\n",
      "0.17038310339724358 22 0 0.6097560975609756 36.171875\n",
      "0.19276222919191194 19 0 0.6585365853658537 36.234375\n",
      "0.21731081024736018 17 0 0.7073170731707317 36.34375\n",
      "0.24404056306764266 14 0 0.8292682926829268 36.40625\n",
      "0.2729117260093201 13 0 0.8292682926829268 36.5\n",
      "0.3038257316556411 12 0 0.9024390243902439 36.5625\n",
      "0.33662029495232143 11 0 0.926829268292683 36.59375\n",
      "0.3710679107501842 10 0 0.975609756097561 36.640625\n",
      "0.4068785557978966 9 0 1.0975609756097562 36.671875\n",
      "0.4437070113323173 8 0 1.2926829268292683 36.703125\n",
      "0.4811646960559312 8 0 1.2926829268292683 36.75\n",
      "0.518835303944068 7 0 1.4634146341463414 36.78125\n",
      "0.5562929886676822 7 0 1.6585365853658536 36.78125\n",
      "0.5931214442021029 7 0 1.8048780487804879 36.78125\n",
      "0.6289320892498149 6 0 2.024390243902439 36.796875\n",
      "0.6633797050476777 6 0 2.268292682926829 36.8125\n",
      "0.6961742683443586 3 0 2.5365853658536586 36.859375\n",
      "0.7270882739906794 2 0 2.902439024390244 37.859375\n",
      "0.7559594369323567 2 0 3.1707317073170733 37.875\n",
      "0.7826891897526391 1 0 3.4634146341463414 37.890625\n",
      "0.8072377708080877 1 0 4.0 37.890625\n",
      "0.8296168966027558 1 0 4.902439024390244 37.890625\n",
      "0.8498810401800715 1 1 5.853658536585366 38.421875\n",
      "0.8681182339952341 1 2 6.926829268292683 38.765625\n",
      "0.8844411322964855 0 2 9.097560975609756 38.78125\n",
      "0.8989788537276263 0 5 10.658536585365853 40.59375\n",
      "0.9118699178803382 0 5 12.414634146341463 40.59375\n",
      "0.9232564138559021 0 8 15.902439024390244 42.953125\n",
      "0.9332794053226534 0 10 18.317073170731707 44.34375\n",
      "0.9420754859245772 0 15 22.341463414634145 47.265625\n",
      "0.9497743459345889 0 21 26.804878048780488 50.921875\n",
      "0.9564971876670771 0 24 30.048780487804876 52.28125\n",
      "0.9623558248267451 0 30 35.41463414634146 57.265625\n",
      "0.9674523120684658 0 32 36.0 58.8125\n",
      "0.9718789695244026 0 33 36.707317073170735 59.234375\n",
      "0.9757186885283219 0 35 38.1219512195122 60.265625\n",
      "0.9790454263191877 0 37 39.19512195121951 61.78125\n",
      "0.9819248173997495 0 40 40.65853658536585 63.640625\n",
      "0.9844148465831855 0 40 40.707317073170735 63.640625\n",
      "0.9865665432842249 0 41 40.73170731707317 64.0\n",
      "0.988424668362242 0 41 40.73170731707317 64.0\n",
      "0.9900283740628731 0 41 40.73170731707317 64.0\n",
      "0.9914118246813904 0 41 40.73170731707317 64.0\n",
      "0.9926047708552416 0 41 40.73170731707317 64.0\n",
      "0.9936330742350782 0 41 40.73170731707317 64.0\n",
      "0.9945191819936029 0 41 40.73170731707317 64.0\n",
      "0.9952825524726965 0 41 40.73170731707317 64.0\n",
      "0.9959400344571707 0 41 40.73170731707317 64.0\n",
      "0.9965062032703899 0 41 40.73170731707317 64.0\n",
      "0.996993657247552 0 41 40.73170731707317 64.0\n",
      "0.9974132782599672 0 41 40.73170731707317 64.0\n",
      "0.9977744599160726 0 41 40.73170731707317 64.0\n",
      "0.9980853069099638 0 41 40.73170731707317 64.0\n",
      "0.9983528087679757 0 41 40.73170731707317 64.0\n",
      "0.9985829909883732 0 41 40.73170731707317 64.0\n",
      "0.9987810462995611 0 41 40.73170731707317 64.0\n",
      "0.9989514484926527 0 41 40.73170731707317 64.0\n",
      "0.9990980510240935 0 41 40.73170731707317 64.0\n",
      "0.9992241723390662 0 41 40.73170731707317 64.0\n",
      "0.999332669639838 0 41 40.73170731707317 64.0\n",
      "0.9994260026164739 0 41 40.73170731707317 64.0\n",
      "0.9995062884706762 0 41 40.73170731707317 64.0\n",
      "0.9995753493963734 0 41 40.73170731707317 64.0\n",
      "0.9996347535320143 0 41 40.73170731707317 64.0\n",
      "0.9996858502680133 0 41 40.73170731707317 64.0\n",
      "0.9997298006769597 0 41 40.73170731707317 64.0\n",
      "0.9997676037325798 0 41 40.73170731707317 64.0\n",
      "0.9998001188945196 0 41 40.73170731707317 64.0\n",
      "0.9998280855584505 0 41 40.73170731707317 64.0\n",
      "0.9998521398034467 0 41 40.73170731707317 64.0\n",
      "0.9998728288098837 0 41 40.73170731707317 64.0\n",
      "0.999890623270166 0 41 40.73170731707317 64.0\n",
      "0.999905928070444 0 41 40.73170731707317 64.0\n",
      "0.9999190914832615 0 41 40.73170731707317 64.0\n",
      "0.999930413078026 0 41 40.73170731707317 64.0\n",
      "0.9999401505276208 0 41 40.73170731707317 64.0\n",
      "0.9999485254648226 0 41 40.73170731707317 64.0\n",
      "0.9999557285208872 0 41 40.73170731707317 64.0\n",
      "0.9999619236603026 0 41 40.73170731707317 64.0\n",
      "0.9999672519098777 0 41 40.73170731707317 64.0\n",
      "0.9999718345666749 0 41 40.73170731707317 64.0\n",
      "0.9999757759575388 0 41 40.73170731707317 64.0\n",
      "0.9999791658128342 0 41 40.73170731707317 64.0\n",
      "0.999982081308285 0 41 40.73170731707317 64.0\n",
      "0.9999845888212858 0 41 40.73170731707317 64.0\n",
      "0.9999867454415872 0 41 40.73170731707317 64.0\n",
      "0.9999886002706894 0 41 40.73170731707317 64.0\n",
      "0.9999901955394834 0 41 40.73170731707317 64.0\n",
      "0.9999915675695499 0 41 40.73170731707317 64.0\n",
      "0.9999927475999804 0 41 40.73170731707317 64.0\n",
      "0.9999937624985265 0 41 40.73170731707317 64.0\n",
      "0.9999946353732554 0 41 40.73170731707317 64.0\n",
      "0.99999538609863 0 41 40.73170731707317 64.0\n",
      "0.9999960317679817 0 41 40.73170731707317 64.0\n",
      "0.9999965870826732 0 41 40.73170731707317 64.0\n",
      "0.9999970646868129 0 41 40.73170731707317 64.0\n",
      "0.9999974754551293 0 41 40.73170731707317 64.0\n",
      "0.9999978287405701 0 41 40.73170731707317 64.0\n"
     ]
    },
    {
     "name": "stdout",
     "output_type": "stream",
     "text": [
      "0.99999813258725 0 41 40.73170731707317 64.0\n",
      "0.999998393913605 0 41 40.73170731707317 64.0\n",
      "0.9999986186699144 0 41 40.73170731707317 64.0\n",
      "0.9999988119737823 0 41 40.73170731707317 64.0\n",
      "0.9999989782266594 0 41 40.73170731707317 64.0\n",
      "0.9999991212140611 0 41 40.73170731707317 64.0\n",
      "0.9999992441917592 0 41 40.73170731707317 64.0\n",
      "0.9999993499599145 0 41 40.73170731707317 64.0\n",
      "0.9999994409268332 0 41 40.73170731707317 64.0\n",
      "0.9999995191638043 0 41 40.73170731707317 64.0\n",
      "0.99999958645226 0 41 40.73170731707317 64.0\n",
      "0.9999996443243392 0 41 40.73170731707317 64.0\n",
      "0.999999694097773 0 41 40.73170731707317 64.0\n"
     ]
    }
   ],
   "source": [
    "test_batch_size = 64\n",
    "final_test_loader = prepare_loader(test_data, test_labels, seq_len, input_size, test_batch_size, shuffle=False)\n",
    "\n",
    "(fp_number_list_combined, fn_number_list_combined, \n",
    " delay_list_combined, fp_delay_list_combined) = get_pareto_metrics_for_threshold(combined_model, final_test_loader, \n",
    "                                                                                             threshold_list)"
   ]
  },
  {
   "cell_type": "code",
   "execution_count": 137,
   "metadata": {
    "scrolled": true
   },
   "outputs": [
    {
     "name": "stdout",
     "output_type": "stream",
     "text": [
      "3.059022269256247e-07 64 0 0.0 0.0\n",
      "3.5567566069455447e-07 64 0 0.0 0.0\n",
      "4.135477399343811e-07 64 0 0.0 0.0\n",
      "4.808361957083632e-07 64 0 0.0 0.0\n",
      "5.590731667609661e-07 64 0 0.0 0.0\n",
      "6.500400855903908e-07 64 0 0.0 0.0\n",
      "7.558082407498619e-07 64 0 0.0 0.0\n",
      "8.787859389250973e-07 64 0 0.0 0.0\n",
      "1.0217733405942518e-06 64 0 0.0 0.0\n",
      "1.1880262177800208e-06 64 0 0.0 0.0\n",
      "1.3813300855273949e-06 64 0 0.0 0.0\n",
      "1.6060863949070788e-06 64 0 0.0 0.0\n",
      "1.8674127499275664e-06 64 0 0.0 0.0\n",
      "2.171259429985438e-06 64 0 0.0 0.0\n",
      "2.5245448706559623e-06 64 0 0.0 0.0\n",
      "2.935313187166708e-06 64 0 0.0 0.0\n",
      "3.4129173266193407e-06 64 0 0.0 0.03125\n",
      "3.968232018336215e-06 64 0 0.0 0.234375\n",
      "4.613901369867859e-06 64 0 0.0 0.3125\n",
      "5.3646267446155565e-06 64 0 0.0 0.375\n",
      "6.2375014736103725e-06 64 0 0.0 0.421875\n",
      "7.2524000195603246e-06 64 0 0.0 0.453125\n",
      "8.43243045001736e-06 64 0 0.0 0.484375\n",
      "9.804460516527986e-06 64 0 0.0 0.515625\n",
      "1.1399729310565373e-05 64 0 0.0 0.546875\n",
      "1.3254558412823157e-05 63 0 0.0 1.578125\n",
      "1.5411178714132362e-05 63 0 0.0 1.734375\n",
      "1.7918691714996185e-05 63 0 0.0 1.78125\n",
      "2.0834187165913282e-05 63 0 0.0 2.015625\n",
      "2.422404246121564e-05 63 0 0.0 2.140625\n",
      "2.8165433325076256e-05 63 0 0.0 2.390625\n",
      "3.274809012244227e-05 63 0 0.0 2.578125\n",
      "3.807633969752674e-05 63 0 0.0 2.828125\n",
      "4.427147911287391e-05 63 0 0.0 3.046875\n",
      "5.147453517738728e-05 62 0 0.0 3.265625\n",
      "5.984947237936492e-05 62 0 0.0 4.203125\n",
      "6.958692197406513e-05 62 0 0.0 4.453125\n",
      "8.090851673835931e-05 62 0 0.0 4.71875\n",
      "9.40719295559931e-05 62 0 0.0 5.140625\n",
      "0.00010937672983390545 62 0 0.0 5.875\n",
      "0.00012717119011627318 62 0 0.0 6.671875\n",
      "0.00014786019655330245 62 0 0.0 7.09375\n",
      "0.00017191444154951454 62 0 0.0 7.5625\n",
      "0.0001998811054804534 61 0 0.0 8.03125\n",
      "0.00023239626742025532 61 0 0.0 8.796875\n",
      "0.00027019932304032826 61 0 0.0 9.34375\n",
      "0.0003141497319868548 60 0 0.0 10.859375\n",
      "0.0003652464679857076 59 0 0.0 11.640625\n",
      "0.00042465060362666254 59 0 0.0 12.125\n",
      "0.0004937115293237555 59 0 0.0 12.765625\n",
      "0.0005739973835260771 57 0 0.0 14.375\n",
      "0.0006673303601619598 57 0 0.0 15.875\n",
      "0.0007758276609337584 56 0 0.0 17.390625\n",
      "0.0009019489759064135 54 0 0.0 19.59375\n",
      "0.0010485515073473057 51 0 0.0 22.640625\n",
      "0.001218953700438987 48 0 0.0 24.6875\n",
      "0.0014170090116267153 46 0 0.0 25.515625\n",
      "0.0016471912320242064 46 0 0.0 25.90625\n",
      "0.0019146930900361978 46 0 0.024390243902439025 26.34375\n",
      "0.002225540083927417 45 0 0.024390243902439025 26.75\n",
      "0.002586721740032682 45 0 0.024390243902439025 27.15625\n",
      "0.0030063427524479624 44 0 0.024390243902439025 28.84375\n",
      "0.003493796729610065 42 0 0.07317073170731707 30.140625\n",
      "0.004059965542829212 41 0 0.0975609756097561 31.203125\n",
      "0.0047174475273036 40 0 0.12195121951219512 32.46875\n",
      "0.005480818006397048 39 0 0.14634146341463414 32.734375\n",
      "0.006366925764921793 37 0 0.14634146341463414 33.0\n",
      "0.0073952291447584 36 0 0.14634146341463414 33.1875\n",
      "0.0085881753186096 35 0 0.14634146341463414 33.421875\n",
      "0.009971625937127002 33 0 0.14634146341463414 33.5625\n",
      "0.011575331637758118 33 0 0.14634146341463414 33.71875\n",
      "0.013433456715774965 33 0 0.1951219512195122 34.015625\n",
      "0.015585153416814386 32 0 0.1951219512195122 34.28125\n",
      "0.01807518260025041 32 0 0.1951219512195122 34.390625\n",
      "0.020954573680812282 29 0 0.21951219512195122 35.03125\n",
      "0.024281311471678085 29 0 0.21951219512195122 35.1875\n",
      "0.02812103047559733 29 0 0.2682926829268293 35.484375\n",
      "0.03254768793153412 28 0 0.2926829268292683 35.5625\n",
      "0.03764417517325487 28 0 0.3170731707317073 35.59375\n",
      "0.043502812332922795 28 0 0.3170731707317073 35.65625\n",
      "0.05022565406541093 28 0 0.34146341463414637 35.71875\n",
      "0.05792451407542253 27 0 0.36585365853658536 35.75\n",
      "0.06672059467734645 27 0 0.36585365853658536 35.78125\n",
      "0.07674358614409776 27 0 0.3902439024390244 35.84375\n",
      "0.0881300821196616 27 0 0.3902439024390244 35.890625\n",
      "0.10102114627237378 26 0 0.4634146341463415 35.96875\n",
      "0.11555886770351441 25 0 0.4878048780487805 35.984375\n",
      "0.13188176600476537 24 0 0.4878048780487805 36.046875\n",
      "0.15011895981992807 23 0 0.4878048780487805 36.09375\n",
      "0.17038310339724358 22 0 0.4878048780487805 36.15625\n",
      "0.19276222919191194 22 0 0.5365853658536586 36.171875\n",
      "0.21731081024736018 21 0 0.5609756097560976 36.1875\n",
      "0.24404056306764266 20 0 0.6097560975609756 36.234375\n",
      "0.2729117260093201 20 0 0.6341463414634146 36.28125\n",
      "0.3038257316556411 19 0 0.6585365853658537 36.3125\n",
      "0.33662029495232143 18 0 0.6585365853658537 36.375\n",
      "0.3710679107501842 18 0 0.6829268292682927 36.390625\n",
      "0.4068785557978966 18 0 0.6829268292682927 36.390625\n",
      "0.4437070113323173 18 0 0.7073170731707317 36.390625\n",
      "0.4811646960559312 18 0 0.7317073170731707 36.390625\n",
      "0.518835303944068 18 0 0.7560975609756098 36.421875\n",
      "0.5562929886676822 16 0 0.7804878048780488 36.484375\n",
      "0.5931214442021029 15 0 0.8048780487804879 36.5\n",
      "0.6289320892498149 14 0 0.8292682926829268 36.515625\n",
      "0.6633797050476777 14 0 0.8292682926829268 36.546875\n",
      "0.6961742683443586 14 0 0.8292682926829268 36.546875\n",
      "0.7270882739906794 13 0 0.8536585365853658 36.5625\n",
      "0.7559594369323567 12 0 0.9024390243902439 36.59375\n",
      "0.7826891897526391 9 0 0.975609756097561 36.640625\n",
      "0.8072377708080877 9 0 1.0 36.65625\n",
      "0.8296168966027558 9 0 1.024390243902439 36.671875\n",
      "0.8498810401800715 9 0 1.048780487804878 36.671875\n",
      "0.8681182339952341 9 0 1.0731707317073171 36.671875\n",
      "0.8844411322964855 9 0 1.0975609756097562 36.6875\n",
      "0.8989788537276263 9 0 1.0975609756097562 36.703125\n",
      "0.9118699178803382 8 0 1.170731707317073 36.71875\n",
      "0.9232564138559021 7 0 1.2439024390243902 36.75\n",
      "0.9332794053226534 7 0 1.2682926829268293 36.75\n",
      "0.9420754859245772 7 0 1.3902439024390243 36.75\n",
      "0.9497743459345889 7 0 1.5121951219512195 36.78125\n",
      "0.9564971876670771 7 0 1.6585365853658536 36.78125\n",
      "0.9623558248267451 6 0 1.7317073170731707 36.796875\n",
      "0.9674523120684658 6 0 1.7560975609756098 36.796875\n",
      "0.9718789695244026 6 0 1.8048780487804879 36.796875\n",
      "0.9757186885283219 5 0 1.9024390243902438 36.8125\n",
      "0.9790454263191877 5 0 2.024390243902439 36.8125\n",
      "0.9819248173997495 5 0 2.097560975609756 36.828125\n",
      "0.9844148465831855 4 0 2.2195121951219514 37.828125\n",
      "0.9865665432842249 3 0 2.4390243902439024 37.859375\n",
      "0.988424668362242 3 0 2.5365853658536586 37.859375\n",
      "0.9900283740628731 3 0 2.707317073170732 37.859375\n",
      "0.9914118246813904 3 0 2.8292682926829267 37.859375\n",
      "0.9926047708552416 2 0 2.902439024390244 37.875\n",
      "0.9936330742350782 2 0 2.975609756097561 37.875\n",
      "0.9945191819936029 2 0 3.097560975609756 37.875\n",
      "0.9952825524726965 2 0 3.1951219512195124 37.875\n",
      "0.9959400344571707 2 0 3.317073170731707 37.875\n",
      "0.9965062032703899 2 0 3.4878048780487805 37.875\n",
      "0.996993657247552 2 0 3.6097560975609757 37.875\n",
      "0.9974132782599672 2 0 3.8048780487804876 37.875\n",
      "0.9977744599160726 1 0 3.926829268292683 37.890625\n",
      "0.9980853069099638 1 0 4.170731707317073 37.890625\n",
      "0.9983528087679757 1 0 4.2682926829268295 37.890625\n",
      "0.9985829909883732 1 0 4.463414634146342 37.890625\n",
      "0.9987810462995611 1 0 4.682926829268292 37.890625\n",
      "0.9989514484926527 1 0 4.829268292682927 37.890625\n",
      "0.9990980510240935 1 0 5.0 37.890625\n",
      "0.9992241723390662 1 0 5.170731707317073 37.890625\n",
      "0.999332669639838 1 0 5.414634146341464 37.890625\n",
      "0.9994260026164739 1 1 5.634146341463414 38.421875\n",
      "0.9995062884706762 1 1 5.853658536585366 38.421875\n",
      "0.9995753493963734 0 1 6.048780487804878 38.4375\n",
      "0.9996347535320143 0 1 6.2439024390243905 38.4375\n",
      "0.9996858502680133 0 2 6.634146341463414 38.78125\n",
      "0.9997298006769597 0 2 6.829268292682927 38.78125\n",
      "0.9997676037325798 0 2 7.073170731707317 38.78125\n",
      "0.9998001188945196 0 2 7.2682926829268295 38.78125\n",
      "0.9998280855584505 0 2 7.536585365853658 38.78125\n",
      "0.9998521398034467 0 2 7.878048780487805 38.78125\n",
      "0.9998728288098837 0 2 8.121951219512194 38.78125\n",
      "0.999890623270166 0 2 9.268292682926829 38.78125\n",
      "0.999905928070444 0 2 9.658536585365853 38.78125\n",
      "0.9999190914832615 0 3 9.951219512195122 39.109375\n",
      "0.999930413078026 0 3 10.341463414634147 39.109375\n",
      "0.9999401505276208 0 3 10.682926829268293 39.109375\n",
      "0.9999485254648226 0 4 11.195121951219512 39.90625\n",
      "0.9999557285208872 0 5 11.512195121951219 40.59375\n",
      "0.9999619236603026 0 5 12.024390243902438 40.59375\n",
      "0.9999672519098777 0 5 12.487804878048781 40.59375\n",
      "0.9999718345666749 0 5 12.829268292682928 40.59375\n",
      "0.9999757759575388 0 5 13.365853658536585 40.59375\n",
      "0.9999791658128342 0 6 14.707317073170731 41.171875\n",
      "0.999982081308285 0 8 16.75609756097561 42.671875\n",
      "0.9999845888212858 0 9 17.21951219512195 43.53125\n"
     ]
    },
    {
     "name": "stdout",
     "output_type": "stream",
     "text": [
      "0.9999867454415872 0 9 17.609756097560975 43.53125\n",
      "0.9999886002706894 0 9 18.0 43.53125\n",
      "0.9999901955394834 0 10 19.195121951219512 43.859375\n",
      "0.9999915675695499 0 12 19.829268292682926 45.4375\n",
      "0.9999927475999804 0 12 20.317073170731707 45.4375\n",
      "0.9999937624985265 0 14 22.195121951219512 46.640625\n",
      "0.9999946353732554 0 16 23.5609756097561 47.5625\n",
      "0.99999538609863 0 17 24.658536585365855 48.140625\n",
      "0.9999960317679817 0 18 25.073170731707318 48.71875\n",
      "0.9999965870826732 0 21 26.26829268292683 50.703125\n",
      "0.9999970646868129 0 22 26.73170731707317 51.546875\n",
      "0.9999974754551293 0 24 28.853658536585368 52.875\n",
      "0.9999978287405701 0 26 29.414634146341463 53.875\n",
      "0.99999813258725 0 26 29.585365853658537 53.875\n",
      "0.999998393913605 0 26 29.804878048780488 53.875\n",
      "0.9999986186699144 0 27 30.975609756097562 54.5\n",
      "0.9999988119737823 0 27 31.51219512195122 54.5\n",
      "0.9999989782266594 0 28 31.926829268292682 55.359375\n",
      "0.9999991212140611 0 29 33.09756097560975 56.296875\n",
      "0.9999992441917592 0 29 33.31707317073171 56.296875\n",
      "0.9999993499599145 0 30 35.073170731707314 57.265625\n",
      "0.9999994409268332 0 30 35.46341463414634 57.265625\n",
      "0.9999995191638043 0 31 36.78048780487805 57.90625\n",
      "0.99999958645226 0 31 36.78048780487805 57.90625\n",
      "0.9999996443243392 0 33 37.24390243902439 59.453125\n",
      "0.999999694097773 0 33 37.24390243902439 59.453125\n"
     ]
    }
   ],
   "source": [
    "test_batch_size = 64\n",
    "final_test_loader = prepare_loader(test_data, test_labels, seq_len, input_size, test_batch_size, shuffle=False)\n",
    "\n",
    "(fp_number_list_bce, fn_number_list_bce, \n",
    " delay_list_bce, fp_delay_list_bce) = get_pareto_metrics_for_threshold(bce_model, final_test_loader, \n",
    "                                                                       threshold_list)\n",
    "\n"
   ]
  },
  {
   "cell_type": "code",
   "execution_count": 138,
   "metadata": {},
   "outputs": [
    {
     "data": {
      "image/png": "[encoded data removed]",
      "text/plain": [
       "<Figure size 864x864 with 1 Axes>"
      ]
     },
     "metadata": {
      "needs_background": "light"
     },
     "output_type": "display_data"
    }
   ],
   "source": [
    "plt.figure(figsize=(12, 12))\n",
    "plt.plot(fp_delay_list, delay_list, '-o', label='CustomLoss model')\n",
    "plt.plot(fp_delay_list_combined, delay_list_combined, '-s', label='Combined (Custom, then BCE) model')\n",
    "plt.plot(fp_delay_list_bce, delay_list_bce, '-d', label='BCE Loss model')\n",
    "# plt.ylim([0, 25])\n",
    "# plt.plot(fp_number_list_random, fn_number_list_random, '--s', label='Random model')\n",
    "plt.xlabel('Mean FP delay')\n",
    "plt.ylabel('Mean delay')\n",
    "#plt.yscale('log')\n",
    "# plt.xlim([32, 40])\n",
    "plt.legend(loc='upper left', fontsize=14);"
   ]
  },
  {
   "cell_type": "code",
   "execution_count": 43,
   "metadata": {
    "scrolled": true
   },
   "outputs": [],
   "source": [
    "# threshold_number = 50\n",
    "# fp_number_list_random = []\n",
    "# fn_number_list_random = []\n",
    "# for threshold in np.linspace(0.9, 1, threshold_number):\n",
    "#     print(threshold)\n",
    "#     # test_loader = prepare_loader(test_data, test_labels, seq_len, input_size, batch_size)\n",
    "    \n",
    "#     (positive_number, negative_number, test_loss, \n",
    "#      test_acc, mean_delay, fp_number, fn_number) = get_quality_metrics(test_loader, model, threshold)\n",
    "    \n",
    "#     fp_number_list_random.append(fp_number)\n",
    "#     fn_number_list_random.append(fn_number)"
   ]
  },
  {
   "cell_type": "code",
   "execution_count": null,
   "metadata": {},
   "outputs": [],
   "source": [
    "# plt.figure(figsize=(12, 12))\n",
    "# plt.plot(fp_number_list, fn_number_list, 'o', label='CustomLoss model')\n",
    "# plt.plot(fp_number_list_bce, fn_number_list_bce, 'd', label='BCE Loss model')\n",
    "# # plt.plot(fp_number_list_random, fn_number_list_random, '--s', label='Random model')\n",
    "# plt.xlabel('FP')\n",
    "# plt.ylabel('FN')\n",
    "# plt.legend(loc='upper right', fontsize=20)"
   ]
  },
  {
   "cell_type": "code",
   "execution_count": null,
   "metadata": {},
   "outputs": [],
   "source": [
    "# plt.figure(figsize=(12, 12))\n",
    "# plt.plot(fp_number_list, delay_list, '-o', label='CustomLoss model')\n",
    "# plt.plot(fp_number_list_combined, delay_list_combined, '-o', label='Combined (Custom, then BCE) model')\n",
    "# plt.plot(fp_number_list_bce, delay_list_bce, '--d', label='BCE Loss model')\n",
    "# # plt.ylim([0, 25])\n",
    "# # plt.plot(fp_number_list_random, fn_number_list_random, '--s', label='Random model')\n",
    "# plt.xlabel('FP')\n",
    "# plt.ylabel('Mean delay')\n",
    "# plt.yscale('log')\n",
    "# plt.legend(loc='upper right', fontsize=20);"
   ]
  },
  {
   "cell_type": "code",
   "execution_count": null,
   "metadata": {},
   "outputs": [],
   "source": []
  }
 ],
 "metadata": {
  "kernelspec": {
   "display_name": "Python 3",
   "language": "python",
   "name": "python3"
  },
  "language_info": {
   "codemirror_mode": {
    "name": "ipython",
    "version": 3
   },
   "file_extension": ".py",
   "mimetype": "text/x-python",
   "name": "python",
   "nbconvert_exporter": "python",
   "pygments_lexer": "ipython3",
   "version": "3.7.1"
  }
 },
 "nbformat": 4,
 "nbformat_minor": 2
}
