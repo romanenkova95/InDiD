{
 "cells": [
  {
   "cell_type": "code",
   "execution_count": 1,
   "metadata": {},
   "outputs": [],
   "source": [
    "import numpy as np\n",
    "import scipy\n",
    "import matplotlib.pyplot as plt\n",
    "%matplotlib inline\n",
    "\n",
    "from scipy.stats import norm\n",
    "from sklearn.model_selection import train_test_split\n",
    "from tqdm.notebook import tqdm\n",
    "from sklearn.metrics import average_precision_score"
   ]
  },
  {
   "cell_type": "code",
   "execution_count": 2,
   "metadata": {},
   "outputs": [],
   "source": [
    "import torch\n",
    "import torch.nn as nn\n",
    "import torch.nn.functional as F\n",
    "import torch.optim as optim\n",
    "from torch.utils.data import TensorDataset, DataLoader\n",
    "torch.manual_seed(1);"
   ]
  },
  {
   "cell_type": "markdown",
   "metadata": {},
   "source": [
    "## Read data"
   ]
  },
  {
   "cell_type": "code",
   "execution_count": 76,
   "metadata": {},
   "outputs": [],
   "source": [
    "import os\n",
    "SEQ_LEN = 64\n",
    "IM_SIZE = 28"
   ]
  },
  {
   "cell_type": "code",
   "execution_count": 77,
   "metadata": {},
   "outputs": [],
   "source": [
    "def read_img_sequences(path_to_folder, size=200):\n",
    "    curr_size = 0\n",
    "    data = []\n",
    "    labels = []\n",
    "    \n",
    "    for sequence_folder in os.listdir(path_to_folder):\n",
    "        curr_size += 1\n",
    "        full_sequence_folder = os.path.join(path_to_folder, sequence_folder)\n",
    "        sequence_img = [None] * seq_len\n",
    "        sequence_labels = [None] * seq_len\n",
    "        \n",
    "        for img_path in os.listdir(full_sequence_folder):\n",
    "            # -3: drop .pt\n",
    "            im_index, label = img_path[:-3].split('_')\n",
    "            im_index = int(im_index)\n",
    "            label = int(label)\n",
    "\n",
    "            full_path_to_img = os.path.join(full_sequence_folder, img_path)\n",
    "            # load image and reshape to vector\n",
    "            img = torch.load(full_path_to_img).view(IM_SIZE * IM_SIZE).detach().cpu().numpy()\n",
    "            sequence_img[im_index] = img\n",
    "            sequence_labels[im_index] = label\n",
    "        data.append(sequence_img)\n",
    "        labels.append(sequence_labels)\n",
    "        if curr_size ==  size:\n",
    "            break\n",
    "    return data, labels"
   ]
  },
  {
   "cell_type": "code",
   "execution_count": 78,
   "metadata": {},
   "outputs": [],
   "source": [
    "anomaly_data, anomaly_labels = read_img_sequences('img_ts_anomaly/')\n",
    "normal_data, normal_labels = read_img_sequences('img_ts_normal/')"
   ]
  },
  {
   "cell_type": "code",
   "execution_count": 79,
   "metadata": {},
   "outputs": [],
   "source": [
    "all_data = np.vstack((anomaly_data, normal_data))\n",
    "all_labels = np.vstack((anomaly_labels, normal_labels))\n",
    "\n",
    "all_labels = (all_labels == 7).astype(int)"
   ]
  },
  {
   "cell_type": "code",
   "execution_count": 80,
   "metadata": {},
   "outputs": [],
   "source": [
    "train_data, test_data, train_labels, test_labels = train_test_split(all_data, all_labels, \n",
    "                                                                    test_size=0.4, shuffle=True,\n",
    "                                                                    random_state=42)\n",
    "\n",
    "test_data, val_data, test_labels, val_labels = train_test_split(test_data, test_labels, \n",
    "                                                                test_size=0.5, shuffle=True,\n",
    "                                                                random_state=42)"
   ]
  },
  {
   "cell_type": "markdown",
   "metadata": {},
   "source": [
    "## Loss function"
   ]
  },
  {
   "cell_type": "code",
   "execution_count": 81,
   "metadata": {},
   "outputs": [],
   "source": [
    "device = torch.device('cuda')"
   ]
  },
  {
   "cell_type": "code",
   "execution_count": 82,
   "metadata": {},
   "outputs": [],
   "source": [
    "def loss_delay_detection_2(p_slice):\n",
    "    n = p_slice.size(0)\n",
    "    prod = torch.ones(n).to(device)\n",
    "    p_slice = p_slice.to(device)\n",
    "    prod[1:] -= p_slice[:-1]\n",
    "    cumprod = torch.cumprod(prod, dim=0).to(device)\n",
    "    loss = torch.arange(1, n + 1).to(device) * p_slice * cumprod\n",
    "    loss = torch.sum(loss)\n",
    "    return loss\n",
    "\n",
    "\n",
    "def loss_delay_detection(p_slice, w):\n",
    "    n = p_slice.size(0) \n",
    "    prod = torch.ones(n).to(device)\n",
    "    p_slice = p_slice.to(device)\n",
    "    \n",
    "    prod[1:] -= p_slice[:-1].to(device)\n",
    "    cumprod = torch.cumprod(prod, dim=0).to(device)\n",
    "    # TODO drop either n or w\n",
    "    loss = (torch.arange(1, n + 1).to(device) * p_slice * cumprod \n",
    "            + (w + 1) * torch.prod(prod[1:]) * (1 - p_slice[-1]))\n",
    "    loss = torch.sum(loss)\n",
    "    return loss\n",
    "\n",
    "def loss_false_alarms(p_slice):\n",
    "    length = len(p_slice)\n",
    "    loss = 0\n",
    "    \n",
    "    start_ind = 0\n",
    "    end_ind = 0\n",
    "    \n",
    "    while end_ind < length:\n",
    "        start_ind = end_ind - 1\n",
    "        if start_ind < 0:\n",
    "            start_ind = 0\n",
    "        end_ind = np.random.randint(start_ind, length + 2)\n",
    "        if end_ind == start_ind:\n",
    "            end_ind = end_ind + 1\n",
    "        loss += 1 - loss_delay_detection_2(p_slice[start_ind: end_ind + 1])    \n",
    "    #loss += 1 - loss_delay_detection_2(p_slice[start_ind: length])            \n",
    "    loss = torch.sum(loss)\n",
    "    return loss"
   ]
  },
  {
   "cell_type": "code",
   "execution_count": 83,
   "metadata": {},
   "outputs": [
    {
     "data": {
      "text/plain": [
       "tensor(1.7570, device='cuda:0')"
      ]
     },
     "execution_count": 83,
     "metadata": {},
     "output_type": "execute_result"
    }
   ],
   "source": [
    "loss_delay_detection(torch.Tensor([0.9, 0.1, 0.3]), 3)"
   ]
  },
  {
   "cell_type": "code",
   "execution_count": 84,
   "metadata": {},
   "outputs": [],
   "source": [
    "class CustomLoss(nn.Module):\n",
    "    \n",
    "    def __init__(self):\n",
    "        super(CustomLoss, self).__init__()\n",
    "        \n",
    "    def forward(self, outputs, labels):\n",
    "        loss = torch.zeros(labels.size(0))\n",
    "        for i, label in enumerate(labels):\n",
    "            ind = torch.where(label != label[0])[0]\n",
    "            if ind.size()[0] == 0:\n",
    "                loss[i] = loss_false_alarms(outputs[i, :])\n",
    "            else:\n",
    "                w = 16\n",
    "                alpha = 0.5\n",
    "                loss[i] = (alpha * loss_delay_detection(outputs[i, ind[0]:(ind[0] + w)], w) + \n",
    "                           (1 - alpha) * loss_false_alarms(outputs[i, :ind[0]]))\n",
    "        loss = torch.mean(loss)\n",
    "        return loss\n"
   ]
  },
  {
   "cell_type": "markdown",
   "metadata": {},
   "source": [
    "## Model"
   ]
  },
  {
   "cell_type": "code",
   "execution_count": 88,
   "metadata": {},
   "outputs": [],
   "source": [
    "# input data parameters\n",
    "input_size = IM_SIZE * IM_SIZE\n",
    "output_size = seq_len\n",
    "seq_len = SEQ_LEN\n",
    "\n",
    "# model hyperparameters\n",
    "hidden_dim = 100\n",
    "n_layers = 2\n",
    "num_workers = 1\n",
    "learning_rate = 1e-3\n",
    "\n",
    "batch_size = 64"
   ]
  },
  {
   "cell_type": "code",
   "execution_count": 89,
   "metadata": {},
   "outputs": [],
   "source": [
    "def prepare_loader(data, labels, seq_len, input_size, batch_size, shuffle=True, num_workers=1):\n",
    "    data = torch.FloatTensor(data)\n",
    "    labels = torch.FloatTensor(labels)\n",
    "    data = data.view(-1, seq_len, input_size)\n",
    "    labels = labels.view(-1, seq_len)\n",
    "\n",
    "    all_data = TensorDataset(data, labels) \n",
    "    data_loader = DataLoader(all_data, batch_size=batch_size, shuffle=shuffle, num_workers=num_workers)\n",
    "    \n",
    "    return data_loader"
   ]
  },
  {
   "cell_type": "code",
   "execution_count": 90,
   "metadata": {},
   "outputs": [],
   "source": [
    "device = torch.device(\"cuda:1\")"
   ]
  },
  {
   "cell_type": "code",
   "execution_count": 91,
   "metadata": {},
   "outputs": [],
   "source": [
    "train_loader = prepare_loader(train_data, train_labels, seq_len, input_size, batch_size)\n",
    "val_loader = prepare_loader(val_data, val_labels, seq_len, input_size, batch_size)\n",
    "test_loader = prepare_loader(test_data, test_labels, seq_len, input_size, batch_size)"
   ]
  },
  {
   "cell_type": "code",
   "execution_count": 92,
   "metadata": {},
   "outputs": [],
   "source": [
    "class LSTM(nn.Module):\n",
    "    def __init__(self, input_size, output_size, hidden_dim, n_layers, drop_prob=0.5):\n",
    "        \n",
    "        super(LSTM, self).__init__()\n",
    "        self.input_size = input_size\n",
    "        self.output_size = output_size\n",
    "        self.n_layers = n_layers\n",
    "        self.hidden_dim = hidden_dim        \n",
    "        # if batch_first, than shape of lstm_in: [batch_size, seq_len, input_size]\n",
    "        self.lstm = nn.LSTM(input_size, hidden_dim, n_layers, dropout=drop_prob, batch_first=True)\n",
    "        self.dropout = nn.Dropout(drop_prob)\n",
    "        self.linear_1 = nn.Linear(hidden_dim, hidden_dim//2)\n",
    "        self.linear_2 = nn.Linear(hidden_dim//2, 1)\n",
    "        self.activation = nn.Sigmoid()\n",
    "        self.relu = nn.ReLU()\n",
    "        \n",
    "    def forward(self, input_seq, hidden):\n",
    "        batch_size = input_seq.size(0)\n",
    "        lstm_out, hidden = self.lstm(input_seq, hidden)  \n",
    "        lstm_out = lstm_out.contiguous().view(-1, self.hidden_dim)      \n",
    "        out = self.linear_1(lstm_out)\n",
    "        out = self.dropout(out)\n",
    "        out = self.relu(out)\n",
    "        out = self.linear_2(out)\n",
    "        out = self.activation(out)\n",
    "        out = out.view(batch_size, -1)\n",
    "\n",
    "        return out, hidden\n",
    "\n",
    "    def init_hidden(self, batch_size):\n",
    "        weight = next(self.parameters()).data\n",
    "        \n",
    "        hidden = (weight.new(self.n_layers, batch_size, self.hidden_dim).zero_().to(device),\n",
    "                  weight.new(self.n_layers, batch_size, self.hidden_dim).zero_().to(device))\n",
    "        return hidden"
   ]
  },
  {
   "cell_type": "code",
   "execution_count": 93,
   "metadata": {},
   "outputs": [],
   "source": [
    "def train_model(model, loss_function, epochs=100, print_every=5):\n",
    "    optimizer = torch.optim.Adam(model.parameters(), lr=learning_rate)\n",
    "    \n",
    "    \n",
    "    valid_loss_min = np.Inf\n",
    "\n",
    "    loss_list = []\n",
    "    acc_list = []\n",
    "    overall_val_loss_list = []\n",
    "    counter = 0\n",
    "    model.train()\n",
    "\n",
    "    out_list = []\n",
    "    labels_list = []\n",
    "\n",
    "    model.train()\n",
    "    for i in range(epochs):\n",
    "        # for inputs, labels in tqdm(train_loader):\n",
    "        for inputs, labels in train_loader:\n",
    "            if inputs.shape[0] < batch_size:\n",
    "                break\n",
    "\n",
    "            counter += 1\n",
    "            h = model.init_hidden(batch_size)\n",
    "            h = tuple([e.data for e in h])\n",
    "            inputs, labels = inputs.to(device), labels.to(device)  \n",
    "\n",
    "            # shape of lstm_in: [seq_len, batch_size, input_size]\n",
    "            # shape of lstm_out: [input_size, batch_size, hidden_dim]\n",
    "            # shape of self.hidden: (a, b), where a and b both \n",
    "            # have shape (num_layers, batch_size, hidden_dim).\n",
    "\n",
    "            output, h = model(inputs, h)\n",
    "            loss = loss_function(output.squeeze(), labels.float())\n",
    "            loss_list += [loss.cpu().clone().detach()]\n",
    "            accuracy = (output > 0.5).long() == labels\n",
    "            acc_list += [accuracy.cpu().detach().float().mean()]\n",
    "            out_list.append(output.cpu().detach().float())\n",
    "            labels_list.append(labels.cpu().detach().float())\n",
    "\n",
    "            loss.backward()\n",
    "            optimizer.step()\n",
    "            optimizer.zero_grad()\n",
    "\n",
    "            if counter%print_every == 0:\n",
    "                val_losses = []\n",
    "                val_outputs = []\n",
    "                model.eval()\n",
    "                for val_inputs, val_labels in val_loader:\n",
    "                    if val_inputs.shape[0] < batch_size:\n",
    "                        break\n",
    "                    val_h = model.init_hidden(batch_size)\n",
    "                    val_h = tuple([each.data for each in val_h])\n",
    "                    val_inputs, val_labels = val_inputs.to(device), val_labels.to(device)\n",
    "\n",
    "                    val_out, val_h = model(val_inputs, val_h)\n",
    "                    val_loss = loss_function(val_out.squeeze(), val_labels.float())\n",
    "                    val_losses.append(val_loss.item())\n",
    "                    val_outputs += [val_out.cpu().clone().detach()]\n",
    "\n",
    "                val_outputs_one = torch.cat(val_outputs, 0)\n",
    "\n",
    "                overall_val_loss_list.append(np.mean(val_losses))\n",
    "\n",
    "                model.train()\n",
    "                print(\"Epoch: {}/{}...\".format(i+1, epochs),\n",
    "                      \"Step: {}...\".format(counter),\n",
    "                      \"Loss: {:.6f}...\".format(loss.item()),\n",
    "                      \"Val Loss: {:.6f}\".format(np.mean(val_losses)))\n",
    "    return model, (loss_list, acc_list, overall_val_loss_list)"
   ]
  },
  {
   "cell_type": "code",
   "execution_count": 94,
   "metadata": {},
   "outputs": [
    {
     "data": {
      "text/plain": [
       "LSTM(\n",
       "  (lstm): LSTM(784, 100, num_layers=2, batch_first=True, dropout=0.5)\n",
       "  (dropout): Dropout(p=0.5, inplace=False)\n",
       "  (linear_1): Linear(in_features=100, out_features=50, bias=True)\n",
       "  (linear_2): Linear(in_features=50, out_features=1, bias=True)\n",
       "  (activation): Sigmoid()\n",
       "  (relu): ReLU()\n",
       ")"
      ]
     },
     "execution_count": 94,
     "metadata": {},
     "output_type": "execute_result"
    }
   ],
   "source": [
    "model = LSTM(input_size=input_size, output_size=output_size, hidden_dim=hidden_dim, n_layers=n_layers)\n",
    "loss_function = CustomLoss()\n",
    "# loss_function = torch.nn.BCELoss()\n",
    "model.to(device)"
   ]
  },
  {
   "cell_type": "code",
   "execution_count": 95,
   "metadata": {
    "scrolled": true
   },
   "outputs": [
    {
     "name": "stdout",
     "output_type": "stream",
     "text": [
      "Epoch: 2/60... Step: 5... Loss: -2.160678... Val Loss: -2.257911\n",
      "Epoch: 4/60... Step: 10... Loss: -2.693145... Val Loss: -3.497427\n",
      "Epoch: 5/60... Step: 15... Loss: -2.540583... Val Loss: -3.832622\n",
      "Epoch: 7/60... Step: 20... Loss: -3.915962... Val Loss: -4.544385\n",
      "Epoch: 9/60... Step: 25... Loss: -5.032504... Val Loss: -6.892208\n",
      "Epoch: 10/60... Step: 30... Loss: -8.692459... Val Loss: -8.097025\n",
      "Epoch: 12/60... Step: 35... Loss: -9.248640... Val Loss: -8.503613\n",
      "Epoch: 14/60... Step: 40... Loss: -9.052622... Val Loss: -10.463914\n",
      "Epoch: 15/60... Step: 45... Loss: -12.366212... Val Loss: -12.799828\n",
      "Epoch: 17/60... Step: 50... Loss: -13.513211... Val Loss: -14.728509\n",
      "Epoch: 19/60... Step: 55... Loss: -11.972338... Val Loss: -8.474173\n",
      "Epoch: 20/60... Step: 60... Loss: -12.390787... Val Loss: -12.984154\n",
      "Epoch: 22/60... Step: 65... Loss: -12.256454... Val Loss: -16.319302\n",
      "Epoch: 24/60... Step: 70... Loss: -11.179555... Val Loss: -14.317622\n",
      "Epoch: 25/60... Step: 75... Loss: -12.038517... Val Loss: -12.218761\n",
      "Epoch: 27/60... Step: 80... Loss: -10.878278... Val Loss: -13.288623\n",
      "Epoch: 29/60... Step: 85... Loss: -11.784597... Val Loss: -14.014911\n",
      "Epoch: 30/60... Step: 90... Loss: -10.906072... Val Loss: -14.915068\n",
      "Epoch: 32/60... Step: 95... Loss: -14.167445... Val Loss: -13.318279\n",
      "Epoch: 34/60... Step: 100... Loss: -16.269627... Val Loss: -11.729698\n",
      "Epoch: 35/60... Step: 105... Loss: -13.383884... Val Loss: -15.027719\n",
      "Epoch: 37/60... Step: 110... Loss: -10.855630... Val Loss: -10.481557\n",
      "Epoch: 39/60... Step: 115... Loss: -15.242022... Val Loss: -13.652681\n",
      "Epoch: 40/60... Step: 120... Loss: -13.586471... Val Loss: -14.738199\n",
      "Epoch: 42/60... Step: 125... Loss: -13.664948... Val Loss: -14.850941\n",
      "Epoch: 44/60... Step: 130... Loss: -11.992393... Val Loss: -15.185699\n",
      "Epoch: 45/60... Step: 135... Loss: -12.977804... Val Loss: -13.137096\n",
      "Epoch: 47/60... Step: 140... Loss: -15.075553... Val Loss: -15.483123\n",
      "Epoch: 49/60... Step: 145... Loss: -14.211782... Val Loss: -12.036009\n",
      "Epoch: 50/60... Step: 150... Loss: -13.663644... Val Loss: -19.087687\n",
      "Epoch: 52/60... Step: 155... Loss: -13.488205... Val Loss: -16.166565\n",
      "Epoch: 54/60... Step: 160... Loss: -12.589298... Val Loss: -14.761874\n",
      "Epoch: 55/60... Step: 165... Loss: -14.038038... Val Loss: -11.147464\n",
      "Epoch: 57/60... Step: 170... Loss: -12.542103... Val Loss: -17.402843\n",
      "Epoch: 59/60... Step: 175... Loss: -14.392627... Val Loss: -13.207618\n",
      "Epoch: 60/60... Step: 180... Loss: -13.731783... Val Loss: -14.486953\n"
     ]
    }
   ],
   "source": [
    "model, (loss_list, acc_list, overall_val_loss_list) = train_model(model, loss_function, 60, 5)"
   ]
  },
  {
   "cell_type": "code",
   "execution_count": null,
   "metadata": {},
   "outputs": [],
   "source": [
    "bce_model = LSTM(input_size=input_size, output_size=output_size, hidden_dim=hidden_dim, n_layers=n_layers)\n",
    "bce_loss_function = torch.nn.BCELoss()\n",
    "bce_model.to(device)"
   ]
  },
  {
   "cell_type": "code",
   "execution_count": 21,
   "metadata": {},
   "outputs": [
    {
     "name": "stdout",
     "output_type": "stream",
     "text": [
      "Epoch: 2/60... Step: 5... Loss: 0.648750... Val Loss: 0.623749\n",
      "Epoch: 4/60... Step: 10... Loss: 0.486900... Val Loss: 0.429765\n",
      "Epoch: 5/60... Step: 15... Loss: 0.304562... Val Loss: 0.258381\n",
      "Epoch: 7/60... Step: 20... Loss: 0.202754... Val Loss: 0.159436\n",
      "Epoch: 9/60... Step: 25... Loss: 0.136379... Val Loss: 0.104052\n",
      "Epoch: 10/60... Step: 30... Loss: 0.103995... Val Loss: 0.071060\n",
      "Epoch: 12/60... Step: 35... Loss: 0.071579... Val Loss: 0.054495\n",
      "Epoch: 14/60... Step: 40... Loss: 0.045971... Val Loss: 0.036300\n",
      "Epoch: 15/60... Step: 45... Loss: 0.045350... Val Loss: 0.042927\n",
      "Epoch: 17/60... Step: 50... Loss: 0.035380... Val Loss: 0.038004\n",
      "Epoch: 19/60... Step: 55... Loss: 0.032731... Val Loss: 0.037045\n",
      "Epoch: 20/60... Step: 60... Loss: 0.032311... Val Loss: 0.034656\n",
      "Epoch: 22/60... Step: 65... Loss: 0.027088... Val Loss: 0.032437\n",
      "Epoch: 24/60... Step: 70... Loss: 0.025509... Val Loss: 0.033850\n",
      "Epoch: 25/60... Step: 75... Loss: 0.031682... Val Loss: 0.027852\n",
      "Epoch: 27/60... Step: 80... Loss: 0.026366... Val Loss: 0.029763\n",
      "Epoch: 29/60... Step: 85... Loss: 0.027057... Val Loss: 0.034933\n",
      "Epoch: 30/60... Step: 90... Loss: 0.015634... Val Loss: 0.032066\n",
      "Epoch: 32/60... Step: 95... Loss: 0.021002... Val Loss: 0.027633\n",
      "Epoch: 34/60... Step: 100... Loss: 0.020451... Val Loss: 0.028508\n",
      "Epoch: 35/60... Step: 105... Loss: 0.019575... Val Loss: 0.028675\n",
      "Epoch: 37/60... Step: 110... Loss: 0.015371... Val Loss: 0.033689\n",
      "Epoch: 39/60... Step: 115... Loss: 0.016132... Val Loss: 0.040084\n",
      "Epoch: 40/60... Step: 120... Loss: 0.011579... Val Loss: 0.040584\n",
      "Epoch: 42/60... Step: 125... Loss: 0.014813... Val Loss: 0.037414\n",
      "Epoch: 44/60... Step: 130... Loss: 0.014001... Val Loss: 0.037806\n",
      "Epoch: 45/60... Step: 135... Loss: 0.018373... Val Loss: 0.035745\n",
      "Epoch: 47/60... Step: 140... Loss: 0.013445... Val Loss: 0.039258\n",
      "Epoch: 49/60... Step: 145... Loss: 0.011801... Val Loss: 0.042626\n",
      "Epoch: 50/60... Step: 150... Loss: 0.012208... Val Loss: 0.039416\n",
      "Epoch: 52/60... Step: 155... Loss: 0.011579... Val Loss: 0.040861\n",
      "Epoch: 54/60... Step: 160... Loss: 0.017570... Val Loss: 0.048363\n",
      "Epoch: 55/60... Step: 165... Loss: 0.009577... Val Loss: 0.042400\n",
      "Epoch: 57/60... Step: 170... Loss: 0.013608... Val Loss: 0.038054\n",
      "Epoch: 59/60... Step: 175... Loss: 0.014872... Val Loss: 0.039246\n",
      "Epoch: 60/60... Step: 180... Loss: 0.014849... Val Loss: 0.040432\n"
     ]
    }
   ],
   "source": [
    "bce_model, (bce_loss_list, bce_acc_list, bce_overall_val_loss_list) = train_model(bce_model, bce_loss_function, 60, 5)"
   ]
  },
  {
   "cell_type": "code",
   "execution_count": 22,
   "metadata": {},
   "outputs": [
    {
     "data": {
      "text/plain": [
       "LSTM(\n",
       "  (lstm): LSTM(784, 100, num_layers=2, batch_first=True, dropout=0.5)\n",
       "  (dropout): Dropout(p=0.5, inplace=False)\n",
       "  (linear_1): Linear(in_features=100, out_features=50, bias=True)\n",
       "  (linear_2): Linear(in_features=50, out_features=1, bias=True)\n",
       "  (activation): Sigmoid()\n",
       "  (relu): ReLU()\n",
       ")"
      ]
     },
     "execution_count": 22,
     "metadata": {},
     "output_type": "execute_result"
    }
   ],
   "source": [
    "combined_model = LSTM(input_size=input_size, output_size=output_size, hidden_dim=hidden_dim, n_layers=n_layers)\n",
    "first_bce_loss_function = torch.nn.BCELoss()\n",
    "second_custom_loss_function = CustomLoss()\n",
    "combined_model.to(device)"
   ]
  },
  {
   "cell_type": "code",
   "execution_count": 23,
   "metadata": {},
   "outputs": [
    {
     "name": "stdout",
     "output_type": "stream",
     "text": [
      "Epoch: 2/30... Step: 5... Loss: -1.971104... Val Loss: -2.523974\n",
      "Epoch: 4/30... Step: 10... Loss: -2.962232... Val Loss: -3.140209\n",
      "Epoch: 5/30... Step: 15... Loss: -2.803657... Val Loss: -4.790133\n",
      "Epoch: 7/30... Step: 20... Loss: -4.721442... Val Loss: -5.581774\n",
      "Epoch: 9/30... Step: 25... Loss: -7.442048... Val Loss: -8.238653\n",
      "Epoch: 10/30... Step: 30... Loss: -7.768063... Val Loss: -8.803740\n",
      "Epoch: 12/30... Step: 35... Loss: -9.535332... Val Loss: -12.232145\n",
      "Epoch: 14/30... Step: 40... Loss: -12.004807... Val Loss: -13.838261\n",
      "Epoch: 15/30... Step: 45... Loss: -12.421143... Val Loss: -12.882351\n",
      "Epoch: 17/30... Step: 50... Loss: -14.602397... Val Loss: -10.709991\n",
      "Epoch: 19/30... Step: 55... Loss: -13.628734... Val Loss: -12.929172\n",
      "Epoch: 20/30... Step: 60... Loss: -9.953384... Val Loss: -12.967211\n",
      "Epoch: 22/30... Step: 65... Loss: -14.658555... Val Loss: -17.106281\n",
      "Epoch: 24/30... Step: 70... Loss: -12.727419... Val Loss: -13.588665\n",
      "Epoch: 25/30... Step: 75... Loss: -10.756566... Val Loss: -12.586562\n",
      "Epoch: 27/30... Step: 80... Loss: -12.597478... Val Loss: -13.215106\n",
      "Epoch: 29/30... Step: 85... Loss: -10.825638... Val Loss: -14.687624\n",
      "Epoch: 30/30... Step: 90... Loss: -13.444824... Val Loss: -14.205736\n"
     ]
    }
   ],
   "source": [
    "combined_model, _ = train_model(combined_model, second_custom_loss_function, 30, 5)"
   ]
  },
  {
   "cell_type": "code",
   "execution_count": 24,
   "metadata": {},
   "outputs": [
    {
     "name": "stdout",
     "output_type": "stream",
     "text": [
      "Epoch: 2/30... Step: 5... Loss: 0.110011... Val Loss: 0.100839\n",
      "Epoch: 4/30... Step: 10... Loss: 0.054075... Val Loss: 0.052840\n",
      "Epoch: 5/30... Step: 15... Loss: 0.052082... Val Loss: 0.046530\n",
      "Epoch: 7/30... Step: 20... Loss: 0.030148... Val Loss: 0.032252\n",
      "Epoch: 9/30... Step: 25... Loss: 0.036195... Val Loss: 0.032346\n",
      "Epoch: 10/30... Step: 30... Loss: 0.021307... Val Loss: 0.031746\n",
      "Epoch: 12/30... Step: 35... Loss: 0.022279... Val Loss: 0.030305\n",
      "Epoch: 14/30... Step: 40... Loss: 0.022230... Val Loss: 0.031095\n",
      "Epoch: 15/30... Step: 45... Loss: 0.020982... Val Loss: 0.030605\n",
      "Epoch: 17/30... Step: 50... Loss: 0.018857... Val Loss: 0.027794\n",
      "Epoch: 19/30... Step: 55... Loss: 0.018635... Val Loss: 0.025328\n",
      "Epoch: 20/30... Step: 60... Loss: 0.020256... Val Loss: 0.029975\n",
      "Epoch: 22/30... Step: 65... Loss: 0.017185... Val Loss: 0.021664\n",
      "Epoch: 24/30... Step: 70... Loss: 0.016667... Val Loss: 0.031158\n",
      "Epoch: 25/30... Step: 75... Loss: 0.020363... Val Loss: 0.028249\n",
      "Epoch: 27/30... Step: 80... Loss: 0.019910... Val Loss: 0.025499\n",
      "Epoch: 29/30... Step: 85... Loss: 0.018974... Val Loss: 0.034171\n",
      "Epoch: 30/30... Step: 90... Loss: 0.015733... Val Loss: 0.029133\n"
     ]
    }
   ],
   "source": [
    "combined_model, __ = train_model(combined_model, first_bce_loss_function, 30, 5)"
   ]
  },
  {
   "cell_type": "code",
   "execution_count": 25,
   "metadata": {},
   "outputs": [
    {
     "data": {
      "image/png": "[encoded data removed]",
      "text/plain": [
       "<Figure size 432x288 with 1 Axes>"
      ]
     },
     "metadata": {
      "needs_background": "light"
     },
     "output_type": "display_data"
    }
   ],
   "source": [
    "plt.plot(acc_list[::]);"
   ]
  },
  {
   "cell_type": "code",
   "execution_count": 26,
   "metadata": {},
   "outputs": [
    {
     "data": {
      "text/plain": [
       "(0.95, 1)"
      ]
     },
     "execution_count": 26,
     "metadata": {},
     "output_type": "execute_result"
    },
    {
     "data": {
      "image/png": "[encoded data removed]",
      "text/plain": [
       "<Figure size 432x288 with 1 Axes>"
      ]
     },
     "metadata": {
      "needs_background": "light"
     },
     "output_type": "display_data"
    }
   ],
   "source": [
    "plt.plot(bce_acc_list[::]);\n",
    "plt.ylim([0.95, 1])"
   ]
  },
  {
   "cell_type": "code",
   "execution_count": 27,
   "metadata": {},
   "outputs": [
    {
     "data": {
      "image/png": "[encoded data removed]",
      "text/plain": [
       "<Figure size 432x288 with 1 Axes>"
      ]
     },
     "metadata": {
      "needs_background": "light"
     },
     "output_type": "display_data"
    }
   ],
   "source": [
    "plt.plot(loss_list[::]);"
   ]
  },
  {
   "cell_type": "code",
   "execution_count": 28,
   "metadata": {},
   "outputs": [
    {
     "data": {
      "image/png": "[encoded data removed]",
      "text/plain": [
       "<Figure size 432x288 with 1 Axes>"
      ]
     },
     "metadata": {
      "needs_background": "light"
     },
     "output_type": "display_data"
    }
   ],
   "source": [
    "plt.plot(overall_val_loss_list);"
   ]
  },
  {
   "cell_type": "markdown",
   "metadata": {},
   "source": [
    "## Plots for model output"
   ]
  },
  {
   "cell_type": "code",
   "execution_count": 29,
   "metadata": {},
   "outputs": [],
   "source": [
    "test_loss_list = []\n",
    "test_acc_list = []\n",
    "\n",
    "model.eval()\n",
    "bce_model.eval()\n",
    "for test_inputs, test_true_labels in test_loader:\n",
    "\n",
    "    if test_inputs.shape[0] < batch_size:\n",
    "        break\n",
    "    test_hidden = model.init_hidden(batch_size)\n",
    "    test_hidden = tuple([each.data for each in test_hidden])\n",
    "\n",
    "    test_inputs, test_true_labels = test_inputs.to(device), test_true_labels.to(device)\n",
    "    test_predictions, test_hidden = model(test_inputs, test_hidden)\n",
    "    test_predictions_bce, test_hidden = bce_model(test_inputs, test_hidden)\n",
    "    \n",
    "model.train()\n",
    "bce_model.train();"
   ]
  },
  {
   "cell_type": "code",
   "execution_count": 30,
   "metadata": {},
   "outputs": [
    {
     "data": {
      "image/png": "[encoded data removed]",
      "text/plain": [
       "<Figure size 864x720 with 1 Axes>"
      ]
     },
     "metadata": {
      "needs_background": "light"
     },
     "output_type": "display_data"
    }
   ],
   "source": [
    "index = 15\n",
    "plt.figure(figsize=(12, 10))\n",
    "plt.plot(test_true_labels[index].cpu().detach().numpy(), color='green', label='True labels')\n",
    "plt.plot(test_predictions[index].cpu().detach().numpy(), '--', label='Predicted probabilities')\n",
    "plt.plot(test_predictions_bce[index].cpu().detach().numpy(), '-.', label='BCE predicted probabilities')\n",
    "plt.legend(loc='upper left', fontsize=20);\n",
    "plt.ylim([-.05, 1.05]);"
   ]
  },
  {
   "cell_type": "markdown",
   "metadata": {},
   "source": [
    "## Calculate metrics for different models"
   ]
  },
  {
   "cell_type": "code",
   "execution_count": 31,
   "metadata": {},
   "outputs": [],
   "source": [
    "def evaluate_metrics(y_true, y_pred, threshold=0.5):\n",
    "    \"\"\"\n",
    "    Evaluate metrics for change point detection\n",
    "    We assume, that there is no more than one change index in data (so, either 0 or 1 change)\n",
    "    Inputs\n",
    "    y_true : torch.Tensor\n",
    "      true labels\n",
    "    y_pred : torch.Tensor\n",
    "      change probabiltiy\n",
    "    threshold : float\n",
    "      detection threshold\n",
    "      \n",
    "    Returns\n",
    "    false_positive : int\n",
    "      number of false positives\n",
    "    false_negative : int\n",
    "      number of false negatives\n",
    "    delay : int\n",
    "      detection delay\n",
    "    accuracy : float\n",
    "      y_pred accuracy given y_truei\n",
    "    \"\"\"\n",
    "    delay = 0\n",
    "    false_positive = 0\n",
    "    false_negative = 0\n",
    "    true_negative = 0\n",
    "\n",
    "    index_real = torch.where(y_true != y_true[0])[0] # indexes with real changes\n",
    "    index_detected = torch.where((y_pred > threshold).long() != y_true[0])[0] # indexes with predicted changes\n",
    "\n",
    "    if len(index_real) > 0:\n",
    "        real_change_index = index_real[0]\n",
    "\n",
    "        if len(index_detected) > 0:\n",
    "            index_sub_detected = torch.where(index_detected >= real_change_index)[0]\n",
    "\n",
    "            if len(index_sub_detected) == len(index_detected):\n",
    "                false_positive_delay = real_change_index.item()\n",
    "                detected_change_index = index_detected[0]\n",
    "                delay = (detected_change_index - real_change_index).item()\n",
    "            else:\n",
    "                false_positive_delay = index_detected[0].item()\n",
    "                delay = 0\n",
    "                false_positive += 1\n",
    "                \n",
    "        else:\n",
    "            false_positive_delay = seq_len\n",
    "            delay = (seq_len - real_change_index).item()\n",
    "            false_negative += 1\n",
    "\n",
    "    else:\n",
    "        if len(index_detected) > 0:\n",
    "            false_positive_delay = index_detected[0].item()\n",
    "            false_positive += 1\n",
    "        else:\n",
    "            false_positive_delay = seq_len\n",
    "            true_negative += 1\n",
    "    \n",
    "    accuracy = ((y_pred > threshold).long() == y_true).float().mean().item()\n",
    "    \n",
    "    return false_positive, false_negative, delay, false_positive_delay, accuracy"
   ]
  },
  {
   "cell_type": "code",
   "execution_count": 32,
   "metadata": {},
   "outputs": [],
   "source": [
    "test_batch_size = 64\n",
    "final_test_loader = prepare_loader(test_data, test_labels, seq_len, input_size, test_batch_size)"
   ]
  },
  {
   "cell_type": "code",
   "execution_count": 33,
   "metadata": {},
   "outputs": [],
   "source": [
    "def get_quality_metrics(test_loader, model, threshold=0.5):\n",
    "    test_loss_list = []\n",
    "    test_acc_list = []\n",
    "\n",
    "    positive_number = 0 \n",
    "    negative_number = 0\n",
    "    fp_list = []\n",
    "    fn_list = []\n",
    "    delay_list = []\n",
    "    fp_delay_list = []\n",
    "    accuracy_list = []\n",
    "\n",
    "    model.eval()\n",
    "    for test_inputs, test_true_labels in test_loader:\n",
    "\n",
    "        if test_inputs.shape[0] < test_batch_size:\n",
    "            break\n",
    "        test_hidden = model.init_hidden(batch_size)\n",
    "        test_hidden = tuple([each.data for each in test_hidden])\n",
    "\n",
    "        test_inputs, test_true_labels = test_inputs.to(device), test_true_labels.to(device)\n",
    "        test_predictions, test_hidden = model(test_inputs, test_hidden)\n",
    "        test_loss = loss_function(test_predictions.squeeze(), test_true_labels.float())\n",
    "        test_loss_list += [test_loss.cpu().clone().detach()]\n",
    "\n",
    "        for i in range(0, test_batch_size):\n",
    "            curr_labels = test_true_labels[i]\n",
    "            curr_predictions = test_predictions[i]\n",
    "            \n",
    "            # torch.rand_like\n",
    "            curr_fp, curr_fn, curr_delay, curr_fp_delay, curr_accuracy = evaluate_metrics(curr_labels, curr_predictions, \n",
    "                                                                           threshold)\n",
    "\n",
    "            max_difference = np.abs((curr_labels.max() - curr_labels.min()).item())\n",
    "            if max_difference: \n",
    "                delay_list.append(curr_delay)\n",
    "            positive_number += (max_difference > 0)\n",
    "            negative_number += 1 - (max_difference > 0)\n",
    "\n",
    "            fp_list.append(curr_fp)\n",
    "            fn_list.append(curr_fn)\n",
    "            fp_delay_list.append(curr_fp_delay)\n",
    "            accuracy_list.append(curr_accuracy)\n",
    "\n",
    "        test_acc_list.append(np.mean(accuracy_list[-test_batch_size:]))\n",
    "        \n",
    "    return (positive_number, negative_number, np.mean(test_loss_list), np.mean(test_acc_list), np.mean(delay_list),\n",
    "            np.mean(fp_delay_list), np.sum(fp_list), np.sum(fn_list))"
   ]
  },
  {
   "cell_type": "code",
   "execution_count": 34,
   "metadata": {},
   "outputs": [
    {
     "name": "stdout",
     "output_type": "stream",
     "text": [
      "Positive number:  40\n",
      "Negative number:  24\n",
      "Test loss: -10.253\n",
      "Test accuracy: 0.713\n",
      "Test delay: 0.23\n",
      "Test FP delay: 20.50\n",
      "Test FP:  53\n",
      "Test FN:  0\n"
     ]
    }
   ],
   "source": [
    "(positive_number, negative_number, test_loss, \n",
    "test_acc, mean_delay, mean_fp_delay, fp_number, fn_number) = get_quality_metrics(test_loader, model, 0.1)\n",
    "    \n",
    "print(\"Positive number: \", positive_number)\n",
    "print(\"Negative number: \", negative_number)\n",
    "print(\"Test loss: {:.3f}\".format(test_loss))\n",
    "print(\"Test accuracy: {:.3f}\".format(test_acc))\n",
    "print(\"Test delay: {:.2f}\".format(mean_delay))\n",
    "print(\"Test FP delay: {:.2f}\".format(mean_fp_delay))\n",
    "print(\"Test FP: \", fp_number)\n",
    "print(\"Test FN: \", fn_number)\n",
    "\n",
    "# custom loss metrics:\n",
    "# Test loss: -18.444\n",
    "# Test accuracy: 0.850%\n",
    "# Test delay: 0.05\n",
    "# Test FP:  93\n",
    "# Test FN:  0"
   ]
  },
  {
   "cell_type": "code",
   "execution_count": 35,
   "metadata": {},
   "outputs": [],
   "source": [
    "def get_pareto_metrics_for_threshold(model, test_loader, threshold_list):\n",
    "    fp_number_list = []\n",
    "    fn_number_list = []\n",
    "    delay_list = []\n",
    "    fp_delay_list = []\n",
    "    for threshold in threshold_list:\n",
    "        # test_loader = prepare_loader(test_data, test_labels, seq_len, input_size, batch_size)\n",
    "\n",
    "        (positive_number, negative_number, test_loss, \n",
    "         test_acc, mean_delay, mean_fp_delay, fp_number, fn_number) = get_quality_metrics(test_loader, model, threshold)\n",
    "\n",
    "        fp_number_list.append(fp_number)\n",
    "        fn_number_list.append(fn_number)\n",
    "        delay_list.append(mean_delay)\n",
    "        fp_delay_list.append(mean_fp_delay)\n",
    "        print(threshold, fp_number, fn_number, mean_delay, mean_fp_delay)\n",
    "    \n",
    "    return fp_number_list, fn_number_list, delay_list, fp_delay_list"
   ]
  },
  {
   "cell_type": "code",
   "execution_count": 36,
   "metadata": {},
   "outputs": [
    {
     "data": {
      "text/plain": [
       "[<matplotlib.lines.Line2D at 0x7fc6bec5b1d0>]"
      ]
     },
     "execution_count": 36,
     "metadata": {},
     "output_type": "execute_result"
    },
    {
     "data": {
      "image/png": "[encoded data removed]",
      "text/plain": [
       "<Figure size 432x288 with 1 Axes>"
      ]
     },
     "metadata": {
      "needs_background": "light"
     },
     "output_type": "display_data"
    }
   ],
   "source": [
    "threshold_number = 200\n",
    "threshold_list = np.linspace(-15, 15, threshold_number)\n",
    "threshold_list = 1 / (1 + np.exp(-threshold_list))\n",
    "plt.plot(np.linspace(0.01, 1, threshold_number), threshold_list)"
   ]
  },
  {
   "cell_type": "code",
   "execution_count": 53,
   "metadata": {},
   "outputs": [],
   "source": [
    "test_batch_size = 64\n",
    "final_test_loader = prepare_loader(test_data, test_labels, seq_len, input_size, test_batch_size, shuffle=False)"
   ]
  },
  {
   "cell_type": "code",
   "execution_count": 54,
   "metadata": {
    "scrolled": true
   },
   "outputs": [
    {
     "name": "stdout",
     "output_type": "stream",
     "text": [
      "3.059022269256247e-07 64 0 0.0 0.0\n",
      "3.5567566069455447e-07 64 0 0.0 0.0\n",
      "4.135477399343811e-07 64 0 0.0 0.0\n",
      "4.808361957083632e-07 64 0 0.0 0.0\n",
      "5.590731667609661e-07 64 0 0.0 0.0\n",
      "6.500400855903908e-07 64 0 0.0 0.0\n",
      "7.558082407498619e-07 64 0 0.0 0.0\n",
      "8.787859389250973e-07 64 0 0.0 0.0\n",
      "1.0217733405942518e-06 64 0 0.0 0.0\n",
      "1.1880262177800208e-06 64 0 0.0 0.0\n",
      "1.3813300855273949e-06 64 0 0.0 0.0\n",
      "1.6060863949070788e-06 64 0 0.0 0.0\n",
      "1.8674127499275664e-06 64 0 0.0 0.0\n",
      "2.171259429985438e-06 64 0 0.0 0.0\n",
      "2.5245448706559623e-06 64 0 0.0 0.0\n",
      "2.935313187166708e-06 64 0 0.0 0.0\n",
      "3.4129173266193407e-06 64 0 0.0 0.0\n",
      "3.968232018336215e-06 64 0 0.0 0.0\n",
      "4.613901369867859e-06 64 0 0.0 0.0\n",
      "5.3646267446155565e-06 64 0 0.0 0.0\n",
      "6.2375014736103725e-06 64 0 0.0 0.0\n",
      "7.2524000195603246e-06 64 0 0.0 0.0\n",
      "8.43243045001736e-06 64 0 0.0 0.0\n",
      "9.804460516527986e-06 64 0 0.0 0.0\n",
      "1.1399729310565373e-05 64 0 0.0 0.0\n",
      "1.3254558412823157e-05 64 0 0.0 0.0\n",
      "1.5411178714132362e-05 64 0 0.0 0.0\n",
      "1.7918691714996185e-05 64 0 0.0 0.0\n",
      "2.0834187165913282e-05 64 0 0.0 0.0\n",
      "2.422404246121564e-05 64 0 0.0 0.0\n",
      "2.8165433325076256e-05 64 0 0.0 0.0\n",
      "3.274809012244227e-05 64 0 0.0 0.0\n",
      "3.807633969752674e-05 64 0 0.0 0.0\n",
      "4.427147911287391e-05 64 0 0.0 0.0\n",
      "5.147453517738728e-05 64 0 0.0 0.0\n",
      "5.984947237936492e-05 64 0 0.0 0.0\n",
      "6.958692197406513e-05 64 0 0.0 0.0\n",
      "8.090851673835931e-05 64 0 0.0 0.0\n",
      "9.40719295559931e-05 64 0 0.0 0.515625\n",
      "0.00010937672983390545 64 0 0.0 0.78125\n",
      "0.00012717119011627318 64 0 0.0 1.03125\n",
      "0.00014786019655330245 64 0 0.0 2.421875\n",
      "0.00017191444154951454 63 0 0.0 3.03125\n",
      "0.0001998811054804534 62 0 0.0 4.15625\n",
      "0.00023239626742025532 61 0 0.024390243902439025 5.828125\n",
      "0.00027019932304032826 60 0 0.024390243902439025 6.734375\n",
      "0.0003141497319868548 60 0 0.024390243902439025 7.765625\n",
      "0.0003652464679857076 58 0 0.024390243902439025 8.890625\n",
      "0.00042465060362666254 57 0 0.024390243902439025 10.15625\n",
      "0.0004937115293237555 56 0 0.07317073170731707 11.59375\n",
      "0.0005739973835260771 55 0 0.07317073170731707 12.09375\n",
      "0.0006673303601619598 55 0 0.07317073170731707 12.828125\n",
      "0.0007758276609337584 55 0 0.07317073170731707 14.0625\n",
      "0.0009019489759064135 55 0 0.07317073170731707 14.484375\n",
      "0.0010485515073473057 55 0 0.07317073170731707 14.6875\n",
      "0.001218953700438987 55 0 0.0975609756097561 15.21875\n",
      "0.0014170090116267153 55 0 0.0975609756097561 15.390625\n",
      "0.0016471912320242064 54 0 0.0975609756097561 15.609375\n",
      "0.0019146930900361978 53 0 0.12195121951219512 15.859375\n",
      "0.002225540083927417 53 0 0.12195121951219512 16.015625\n",
      "0.002586721740032682 53 0 0.12195121951219512 16.4375\n",
      "0.0030063427524479624 53 0 0.12195121951219512 16.59375\n",
      "0.003493796729610065 53 0 0.12195121951219512 16.75\n",
      "0.004059965542829212 53 0 0.12195121951219512 16.90625\n",
      "0.0047174475273036 53 0 0.12195121951219512 17.015625\n",
      "0.005480818006397048 53 0 0.12195121951219512 17.390625\n",
      "0.006366925764921793 53 0 0.12195121951219512 17.546875\n",
      "0.0073952291447584 53 0 0.12195121951219512 17.90625\n",
      "0.0085881753186096 53 0 0.12195121951219512 18.09375\n",
      "0.009971625937127002 53 0 0.14634146341463414 18.234375\n",
      "0.011575331637758118 53 0 0.14634146341463414 18.359375\n",
      "0.013433456715774965 53 0 0.14634146341463414 18.515625\n",
      "0.015585153416814386 53 0 0.14634146341463414 18.59375\n",
      "0.01807518260025041 53 0 0.14634146341463414 18.6875\n",
      "0.020954573680812282 53 0 0.14634146341463414 18.8125\n",
      "0.024281311471678085 53 0 0.14634146341463414 18.953125\n",
      "0.02812103047559733 53 0 0.14634146341463414 19.0625\n",
      "0.03254768793153412 53 0 0.14634146341463414 19.203125\n",
      "0.03764417517325487 53 0 0.14634146341463414 19.265625\n",
      "0.043502812332922795 53 0 0.14634146341463414 19.3125\n",
      "0.05022565406541093 53 0 0.17073170731707318 19.390625\n",
      "0.05792451407542253 53 0 0.17073170731707318 19.578125\n",
      "0.06672059467734645 53 0 0.17073170731707318 19.71875\n",
      "0.07674358614409776 53 0 0.17073170731707318 19.828125\n",
      "0.0881300821196616 53 0 0.17073170731707318 19.875\n",
      "0.10102114627237378 53 0 0.17073170731707318 19.9375\n",
      "0.11555886770351441 53 0 0.17073170731707318 20.015625\n",
      "0.13188176600476537 53 0 0.17073170731707318 20.140625\n",
      "0.15011895981992807 53 0 0.17073170731707318 20.25\n",
      "0.17038310339724358 53 0 0.17073170731707318 20.390625\n",
      "0.19276222919191194 53 0 0.17073170731707318 20.5625\n",
      "0.21731081024736018 53 0 0.17073170731707318 20.796875\n",
      "0.24404056306764266 53 0 0.1951219512195122 21.09375\n",
      "0.2729117260093201 53 0 0.1951219512195122 21.578125\n",
      "0.3038257316556411 53 0 0.1951219512195122 23.703125\n",
      "0.33662029495232143 53 0 0.1951219512195122 25.140625\n",
      "0.3710679107501842 47 0 0.1951219512195122 29.171875\n",
      "0.4068785557978966 38 0 0.1951219512195122 33.078125\n",
      "0.4437070113323173 34 0 0.1951219512195122 34.421875\n",
      "0.4811646960559312 31 0 0.1951219512195122 34.71875\n",
      "0.518835303944068 30 0 0.21951219512195122 34.90625\n",
      "0.5562929886676822 30 0 0.24390243902439024 34.96875\n",
      "0.5931214442021029 29 0 0.2682926829268293 35.078125\n",
      "0.6289320892498149 29 0 0.2926829268292683 35.15625\n",
      "0.6633797050476777 29 0 0.2926829268292683 35.328125\n",
      "0.6961742683443586 29 0 0.2926829268292683 35.375\n",
      "0.7270882739906794 28 0 0.2926829268292683 35.453125\n",
      "0.7559594369323567 27 0 0.2926829268292683 35.5\n",
      "0.7826891897526391 27 0 0.2926829268292683 35.53125\n",
      "0.8072377708080877 27 0 0.3170731707317073 35.53125\n",
      "0.8296168966027558 27 0 0.3170731707317073 35.53125\n",
      "0.8498810401800715 27 0 0.3170731707317073 35.640625\n",
      "0.8681182339952341 27 0 0.3170731707317073 35.71875\n",
      "0.8844411322964855 26 0 0.3170731707317073 35.75\n",
      "0.8989788537276263 26 0 0.3170731707317073 35.765625\n",
      "0.9118699178803382 26 0 0.34146341463414637 35.78125\n",
      "0.9232564138559021 26 0 0.4146341463414634 35.78125\n",
      "0.9332794053226534 26 0 0.43902439024390244 35.84375\n",
      "0.9420754859245772 26 0 0.4634146341463415 35.9375\n",
      "0.9497743459345889 26 0 0.5121951219512195 35.953125\n",
      "0.9564971876670771 26 0 0.5121951219512195 35.984375\n",
      "0.9623558248267451 26 0 0.5365853658536586 35.984375\n",
      "0.9674523120684658 25 0 0.5365853658536586 36.03125\n",
      "0.9718789695244026 24 0 0.7317073170731707 36.109375\n",
      "0.9757186885283219 22 1 1.6829268292682926 36.71875\n",
      "0.9790454263191877 22 2 2.097560975609756 37.203125\n",
      "0.9819248173997495 22 3 2.658536585365854 37.625\n",
      "0.9844148465831855 19 6 4.682926829268292 40.046875\n",
      "0.9865665432842249 17 10 7.7073170731707314 42.140625\n",
      "0.988424668362242 15 11 8.365853658536585 42.59375\n",
      "0.9900283740628731 12 13 9.512195121951219 43.4375\n",
      "0.9914118246813904 11 17 13.609756097560975 46.125\n",
      "0.9926047708552416 7 21 17.170731707317074 48.53125\n",
      "0.9936330742350782 6 22 18.195121951219512 49.171875\n",
      "0.9945191819936029 5 24 20.5609756097561 50.71875\n",
      "0.9952825524726965 5 27 24.097560975609756 53.0625\n",
      "0.9959400344571707 4 29 26.414634146341463 54.625\n",
      "0.9965062032703899 3 34 32.41463414634146 58.515625\n",
      "0.996993657247552 3 34 32.41463414634146 58.515625\n",
      "0.9974132782599672 1 37 35.80487804878049 60.78125\n",
      "0.9977744599160726 0 38 37.048780487804876 61.59375\n",
      "0.9980853069099638 0 40 39.53658536585366 63.234375\n",
      "0.9983528087679757 0 40 39.53658536585366 63.234375\n",
      "0.9985829909883732 0 41 40.73170731707317 64.0\n",
      "0.9987810462995611 0 41 40.73170731707317 64.0\n",
      "0.9989514484926527 0 41 40.73170731707317 64.0\n",
      "0.9990980510240935 0 41 40.73170731707317 64.0\n",
      "0.9992241723390662 0 41 40.73170731707317 64.0\n",
      "0.999332669639838 0 41 40.73170731707317 64.0\n",
      "0.9994260026164739 0 41 40.73170731707317 64.0\n",
      "0.9995062884706762 0 41 40.73170731707317 64.0\n",
      "0.9995753493963734 0 41 40.73170731707317 64.0\n",
      "0.9996347535320143 0 41 40.73170731707317 64.0\n",
      "0.9996858502680133 0 41 40.73170731707317 64.0\n",
      "0.9997298006769597 0 41 40.73170731707317 64.0\n",
      "0.9997676037325798 0 41 40.73170731707317 64.0\n",
      "0.9998001188945196 0 41 40.73170731707317 64.0\n",
      "0.9998280855584505 0 41 40.73170731707317 64.0\n",
      "0.9998521398034467 0 41 40.73170731707317 64.0\n",
      "0.9998728288098837 0 41 40.73170731707317 64.0\n",
      "0.999890623270166 0 41 40.73170731707317 64.0\n",
      "0.999905928070444 0 41 40.73170731707317 64.0\n",
      "0.9999190914832615 0 41 40.73170731707317 64.0\n",
      "0.999930413078026 0 41 40.73170731707317 64.0\n",
      "0.9999401505276208 0 41 40.73170731707317 64.0\n",
      "0.9999485254648226 0 41 40.73170731707317 64.0\n",
      "0.9999557285208872 0 41 40.73170731707317 64.0\n",
      "0.9999619236603026 0 41 40.73170731707317 64.0\n",
      "0.9999672519098777 0 41 40.73170731707317 64.0\n",
      "0.9999718345666749 0 41 40.73170731707317 64.0\n",
      "0.9999757759575388 0 41 40.73170731707317 64.0\n",
      "0.9999791658128342 0 41 40.73170731707317 64.0\n"
     ]
    },
    {
     "name": "stdout",
     "output_type": "stream",
     "text": [
      "0.999982081308285 0 41 40.73170731707317 64.0\n",
      "0.9999845888212858 0 41 40.73170731707317 64.0\n",
      "0.9999867454415872 0 41 40.73170731707317 64.0\n",
      "0.9999886002706894 0 41 40.73170731707317 64.0\n",
      "0.9999901955394834 0 41 40.73170731707317 64.0\n",
      "0.9999915675695499 0 41 40.73170731707317 64.0\n",
      "0.9999927475999804 0 41 40.73170731707317 64.0\n",
      "0.9999937624985265 0 41 40.73170731707317 64.0\n",
      "0.9999946353732554 0 41 40.73170731707317 64.0\n",
      "0.99999538609863 0 41 40.73170731707317 64.0\n",
      "0.9999960317679817 0 41 40.73170731707317 64.0\n",
      "0.9999965870826732 0 41 40.73170731707317 64.0\n",
      "0.9999970646868129 0 41 40.73170731707317 64.0\n",
      "0.9999974754551293 0 41 40.73170731707317 64.0\n",
      "0.9999978287405701 0 41 40.73170731707317 64.0\n",
      "0.99999813258725 0 41 40.73170731707317 64.0\n",
      "0.999998393913605 0 41 40.73170731707317 64.0\n",
      "0.9999986186699144 0 41 40.73170731707317 64.0\n",
      "0.9999988119737823 0 41 40.73170731707317 64.0\n",
      "0.9999989782266594 0 41 40.73170731707317 64.0\n",
      "0.9999991212140611 0 41 40.73170731707317 64.0\n",
      "0.9999992441917592 0 41 40.73170731707317 64.0\n",
      "0.9999993499599145 0 41 40.73170731707317 64.0\n",
      "0.9999994409268332 0 41 40.73170731707317 64.0\n",
      "0.9999995191638043 0 41 40.73170731707317 64.0\n",
      "0.99999958645226 0 41 40.73170731707317 64.0\n",
      "0.9999996443243392 0 41 40.73170731707317 64.0\n",
      "0.999999694097773 0 41 40.73170731707317 64.0\n"
     ]
    }
   ],
   "source": [
    "(fp_number_list, fn_number_list, \n",
    " delay_list, fp_delay_list) = get_pareto_metrics_for_threshold(model, final_test_loader, threshold_list)"
   ]
  },
  {
   "cell_type": "code",
   "execution_count": 55,
   "metadata": {
    "scrolled": true
   },
   "outputs": [
    {
     "name": "stdout",
     "output_type": "stream",
     "text": [
      "3.059022269256247e-07 64 0 0.0 0.0\n",
      "3.5567566069455447e-07 64 0 0.0 0.0\n",
      "4.135477399343811e-07 64 0 0.0 0.0\n",
      "4.808361957083632e-07 64 0 0.0 0.0\n",
      "5.590731667609661e-07 64 0 0.0 0.0\n",
      "6.500400855903908e-07 64 0 0.0 0.0\n",
      "7.558082407498619e-07 64 0 0.0 0.0\n",
      "8.787859389250973e-07 64 0 0.0 0.0\n",
      "1.0217733405942518e-06 64 0 0.0 0.0\n",
      "1.1880262177800208e-06 64 0 0.0 0.0\n",
      "1.3813300855273949e-06 64 0 0.0 0.0\n",
      "1.6060863949070788e-06 64 0 0.0 0.0\n",
      "1.8674127499275664e-06 64 0 0.0 0.0\n",
      "2.171259429985438e-06 64 0 0.0 0.0\n",
      "2.5245448706559623e-06 64 0 0.0 0.0\n",
      "2.935313187166708e-06 64 0 0.0 0.0\n",
      "3.4129173266193407e-06 64 0 0.0 0.0\n",
      "3.968232018336215e-06 64 0 0.0 0.0\n",
      "4.613901369867859e-06 64 0 0.0 0.0\n",
      "5.3646267446155565e-06 64 0 0.0 0.0\n",
      "6.2375014736103725e-06 64 0 0.0 0.0\n",
      "7.2524000195603246e-06 64 0 0.0 0.0\n",
      "8.43243045001736e-06 64 0 0.0 0.0\n",
      "9.804460516527986e-06 64 0 0.0 0.0\n",
      "1.1399729310565373e-05 64 0 0.0 0.0\n",
      "1.3254558412823157e-05 64 0 0.0 0.0\n",
      "1.5411178714132362e-05 64 0 0.0 0.0\n",
      "1.7918691714996185e-05 64 0 0.0 0.0\n",
      "2.0834187165913282e-05 64 0 0.0 0.0\n",
      "2.422404246121564e-05 64 0 0.0 0.0\n",
      "2.8165433325076256e-05 64 0 0.0 0.0\n",
      "3.274809012244227e-05 64 0 0.0 0.0\n",
      "3.807633969752674e-05 64 0 0.0 0.0\n",
      "4.427147911287391e-05 64 0 0.0 0.0\n",
      "5.147453517738728e-05 64 0 0.0 0.0\n",
      "5.984947237936492e-05 64 0 0.0 0.0\n",
      "6.958692197406513e-05 64 0 0.0 0.0\n",
      "8.090851673835931e-05 64 0 0.0 0.0\n",
      "9.40719295559931e-05 64 0 0.0 0.0\n",
      "0.00010937672983390545 64 0 0.0 0.765625\n",
      "0.00012717119011627318 63 0 0.0 2.171875\n",
      "0.00014786019655330245 62 0 0.0 3.578125\n",
      "0.00017191444154951454 61 0 0.0 5.765625\n",
      "0.0001998811054804534 58 0 0.0 10.703125\n",
      "0.00023239626742025532 56 0 0.0 14.15625\n",
      "0.00027019932304032826 56 0 0.0 14.96875\n",
      "0.0003141497319868548 53 0 0.0 19.96875\n",
      "0.0003652464679857076 51 0 0.0 23.140625\n",
      "0.00042465060362666254 46 0 0.0 27.890625\n",
      "0.0004937115293237555 43 0 0.0 30.78125\n",
      "0.0005739973835260771 42 0 0.0 30.9375\n",
      "0.0006673303601619598 41 0 0.0 31.375\n",
      "0.0007758276609337584 40 0 0.0 32.609375\n",
      "0.0009019489759064135 39 0 0.0 33.65625\n",
      "0.0010485515073473057 39 0 0.024390243902439025 33.71875\n",
      "0.001218953700438987 37 0 0.024390243902439025 33.875\n",
      "0.0014170090116267153 37 0 0.024390243902439025 33.921875\n",
      "0.0016471912320242064 36 0 0.024390243902439025 34.0625\n",
      "0.0019146930900361978 35 0 0.04878048780487805 34.59375\n",
      "0.002225540083927417 35 0 0.04878048780487805 34.703125\n",
      "0.002586721740032682 35 0 0.04878048780487805 34.71875\n",
      "0.0030063427524479624 35 0 0.07317073170731707 34.765625\n",
      "0.003493796729610065 34 0 0.07317073170731707 34.90625\n",
      "0.004059965542829212 34 0 0.0975609756097561 35.1875\n",
      "0.0047174475273036 34 0 0.0975609756097561 35.234375\n",
      "0.005480818006397048 33 0 0.14634146341463414 35.296875\n",
      "0.006366925764921793 33 0 0.14634146341463414 35.328125\n",
      "0.0073952291447584 32 0 0.14634146341463414 35.515625\n",
      "0.0085881753186096 30 0 0.14634146341463414 35.640625\n",
      "0.009971625937127002 30 0 0.14634146341463414 35.671875\n",
      "0.011575331637758118 28 0 0.17073170731707318 35.734375\n",
      "0.013433456715774965 28 0 0.17073170731707318 35.765625\n",
      "0.015585153416814386 28 0 0.1951219512195122 35.765625\n",
      "0.01807518260025041 27 0 0.1951219512195122 35.859375\n",
      "0.020954573680812282 27 0 0.24390243902439024 35.859375\n",
      "0.024281311471678085 27 0 0.2926829268292683 35.90625\n",
      "0.02812103047559733 27 0 0.2926829268292683 35.90625\n",
      "0.03254768793153412 26 0 0.2926829268292683 35.984375\n",
      "0.03764417517325487 25 0 0.3170731707317073 36.015625\n",
      "0.043502812332922795 25 0 0.3170731707317073 36.0625\n",
      "0.05022565406541093 25 0 0.34146341463414637 36.078125\n",
      "0.05792451407542253 24 0 0.34146341463414637 36.109375\n",
      "0.06672059467734645 24 0 0.3902439024390244 36.15625\n",
      "0.07674358614409776 23 0 0.3902439024390244 36.1875\n",
      "0.0881300821196616 23 0 0.43902439024390244 36.203125\n",
      "0.10102114627237378 23 0 0.4634146341463415 36.296875\n",
      "0.11555886770351441 23 0 0.4634146341463415 36.34375\n",
      "0.13188176600476537 23 0 0.5121951219512195 36.34375\n",
      "0.15011895981992807 21 0 0.5121951219512195 36.375\n",
      "0.17038310339724358 21 0 0.5121951219512195 36.375\n",
      "0.19276222919191194 19 0 0.5853658536585366 36.421875\n",
      "0.21731081024736018 19 0 0.5853658536585366 36.421875\n",
      "0.24404056306764266 17 0 0.5853658536585366 36.453125\n",
      "0.2729117260093201 16 0 0.6097560975609756 36.5\n",
      "0.3038257316556411 16 0 0.6097560975609756 36.53125\n",
      "0.33662029495232143 15 0 0.6829268292682927 36.578125\n",
      "0.3710679107501842 15 0 0.7317073170731707 36.578125\n",
      "0.4068785557978966 13 0 0.7560975609756098 36.625\n",
      "0.4437070113323173 11 0 0.8048780487804879 36.65625\n",
      "0.4811646960559312 11 0 0.8780487804878049 36.65625\n",
      "0.518835303944068 11 0 0.8780487804878049 36.671875\n",
      "0.5562929886676822 10 0 0.8780487804878049 36.703125\n",
      "0.5931214442021029 10 0 0.8780487804878049 36.703125\n",
      "0.6289320892498149 9 0 0.9512195121951219 36.71875\n",
      "0.6633797050476777 9 0 1.0 36.75\n",
      "0.6961742683443586 9 0 1.048780487804878 36.75\n",
      "0.7270882739906794 9 0 1.0731707317073171 36.75\n",
      "0.7559594369323567 9 0 1.0731707317073171 36.75\n",
      "0.7826891897526391 9 0 1.0975609756097562 36.765625\n",
      "0.8072377708080877 7 0 1.170731707317073 36.8125\n",
      "0.8296168966027558 6 0 1.3170731707317074 36.828125\n",
      "0.8498810401800715 6 0 1.3902439024390243 36.84375\n",
      "0.8681182339952341 6 0 1.3902439024390243 36.84375\n",
      "0.8844411322964855 6 0 1.5121951219512195 36.84375\n",
      "0.8989788537276263 5 0 1.5121951219512195 36.859375\n",
      "0.9118699178803382 5 0 1.5365853658536586 36.875\n",
      "0.9232564138559021 5 0 1.5853658536585367 36.90625\n",
      "0.9332794053226534 5 0 1.7073170731707317 36.90625\n",
      "0.9420754859245772 5 0 1.7073170731707317 36.90625\n",
      "0.9497743459345889 4 0 1.8048780487804879 36.921875\n",
      "0.9564971876670771 4 0 1.9024390243902438 36.9375\n",
      "0.9623558248267451 3 0 2.024390243902439 37.859375\n",
      "0.9674523120684658 3 0 2.097560975609756 37.859375\n",
      "0.9718789695244026 3 0 2.1707317073170733 37.859375\n",
      "0.9757186885283219 3 0 2.2439024390243905 37.859375\n",
      "0.9790454263191877 3 0 2.341463414634146 37.859375\n",
      "0.9819248173997495 1 0 2.4390243902439024 37.890625\n",
      "0.9844148465831855 0 0 2.4878048780487805 37.90625\n",
      "0.9865665432842249 0 0 2.6097560975609757 37.90625\n",
      "0.988424668362242 0 0 2.6341463414634148 37.90625\n",
      "0.9900283740628731 0 0 2.731707317073171 37.90625\n",
      "0.9914118246813904 0 0 2.7560975609756095 37.90625\n",
      "0.9926047708552416 0 0 2.8292682926829267 37.90625\n",
      "0.9936330742350782 0 0 2.902439024390244 37.90625\n",
      "0.9945191819936029 0 0 3.073170731707317 37.90625\n",
      "0.9952825524726965 0 0 3.2439024390243905 37.90625\n",
      "0.9959400344571707 0 0 3.317073170731707 37.90625\n",
      "0.9965062032703899 0 0 3.4146341463414633 37.90625\n",
      "0.996993657247552 0 0 3.5609756097560976 37.90625\n",
      "0.9974132782599672 0 0 3.658536585365854 37.90625\n",
      "0.9977744599160726 0 0 3.731707317073171 37.90625\n",
      "0.9980853069099638 0 0 3.7804878048780486 37.90625\n",
      "0.9983528087679757 0 0 3.8780487804878048 37.90625\n",
      "0.9985829909883732 0 0 4.048780487804878 37.90625\n",
      "0.9987810462995611 0 0 4.219512195121951 37.90625\n",
      "0.9989514484926527 0 0 4.365853658536586 37.90625\n",
      "0.9990980510240935 0 0 4.487804878048781 37.90625\n",
      "0.9992241723390662 0 0 4.609756097560975 37.90625\n",
      "0.999332669639838 0 0 4.804878048780488 37.90625\n",
      "0.9994260026164739 0 0 5.024390243902439 37.90625\n",
      "0.9995062884706762 0 0 5.2682926829268295 37.90625\n",
      "0.9995753493963734 0 0 5.609756097560975 37.90625\n",
      "0.9996347535320143 0 0 5.902439024390244 37.90625\n",
      "0.9996858502680133 0 0 6.341463414634147 37.90625\n",
      "0.9997298006769597 0 0 6.926829268292683 37.90625\n",
      "0.9997676037325798 0 0 7.902439024390244 37.90625\n",
      "0.9998001188945196 0 2 12.951219512195122 38.78125\n",
      "0.9998280855584505 0 40 40.53658536585366 63.703125\n",
      "0.9998521398034467 0 41 40.73170731707317 64.0\n",
      "0.9998728288098837 0 41 40.73170731707317 64.0\n",
      "0.999890623270166 0 41 40.73170731707317 64.0\n",
      "0.999905928070444 0 41 40.73170731707317 64.0\n",
      "0.9999190914832615 0 41 40.73170731707317 64.0\n",
      "0.999930413078026 0 41 40.73170731707317 64.0\n",
      "0.9999401505276208 0 41 40.73170731707317 64.0\n",
      "0.9999485254648226 0 41 40.73170731707317 64.0\n",
      "0.9999557285208872 0 41 40.73170731707317 64.0\n",
      "0.9999619236603026 0 41 40.73170731707317 64.0\n",
      "0.9999672519098777 0 41 40.73170731707317 64.0\n",
      "0.9999718345666749 0 41 40.73170731707317 64.0\n",
      "0.9999757759575388 0 41 40.73170731707317 64.0\n",
      "0.9999791658128342 0 41 40.73170731707317 64.0\n",
      "0.999982081308285 0 41 40.73170731707317 64.0\n",
      "0.9999845888212858 0 41 40.73170731707317 64.0\n",
      "0.9999867454415872 0 41 40.73170731707317 64.0\n",
      "0.9999886002706894 0 41 40.73170731707317 64.0\n"
     ]
    },
    {
     "name": "stdout",
     "output_type": "stream",
     "text": [
      "0.9999901955394834 0 41 40.73170731707317 64.0\n",
      "0.9999915675695499 0 41 40.73170731707317 64.0\n",
      "0.9999927475999804 0 41 40.73170731707317 64.0\n",
      "0.9999937624985265 0 41 40.73170731707317 64.0\n",
      "0.9999946353732554 0 41 40.73170731707317 64.0\n",
      "0.99999538609863 0 41 40.73170731707317 64.0\n",
      "0.9999960317679817 0 41 40.73170731707317 64.0\n",
      "0.9999965870826732 0 41 40.73170731707317 64.0\n",
      "0.9999970646868129 0 41 40.73170731707317 64.0\n",
      "0.9999974754551293 0 41 40.73170731707317 64.0\n",
      "0.9999978287405701 0 41 40.73170731707317 64.0\n",
      "0.99999813258725 0 41 40.73170731707317 64.0\n",
      "0.999998393913605 0 41 40.73170731707317 64.0\n",
      "0.9999986186699144 0 41 40.73170731707317 64.0\n",
      "0.9999988119737823 0 41 40.73170731707317 64.0\n",
      "0.9999989782266594 0 41 40.73170731707317 64.0\n",
      "0.9999991212140611 0 41 40.73170731707317 64.0\n",
      "0.9999992441917592 0 41 40.73170731707317 64.0\n",
      "0.9999993499599145 0 41 40.73170731707317 64.0\n",
      "0.9999994409268332 0 41 40.73170731707317 64.0\n",
      "0.9999995191638043 0 41 40.73170731707317 64.0\n",
      "0.99999958645226 0 41 40.73170731707317 64.0\n",
      "0.9999996443243392 0 41 40.73170731707317 64.0\n",
      "0.999999694097773 0 41 40.73170731707317 64.0\n"
     ]
    }
   ],
   "source": [
    "test_batch_size = 64\n",
    "final_test_loader = prepare_loader(test_data, test_labels, seq_len, input_size, test_batch_size, shuffle=False)\n",
    "\n",
    "(fp_number_list_combined, fn_number_list_combined, \n",
    " delay_list_combined, fp_delay_list_combined) = get_pareto_metrics_for_threshold(combined_model, final_test_loader, \n",
    "                                                                                             threshold_list)"
   ]
  },
  {
   "cell_type": "code",
   "execution_count": 56,
   "metadata": {
    "scrolled": true
   },
   "outputs": [
    {
     "name": "stdout",
     "output_type": "stream",
     "text": [
      "3.059022269256247e-07 64 0 0.0 0.0\n",
      "3.5567566069455447e-07 64 0 0.0 0.0\n",
      "4.135477399343811e-07 64 0 0.0 0.0\n",
      "4.808361957083632e-07 64 0 0.0 0.0\n",
      "5.590731667609661e-07 64 0 0.0 0.0\n",
      "6.500400855903908e-07 64 0 0.0 0.0\n",
      "7.558082407498619e-07 64 0 0.0 0.0\n",
      "8.787859389250973e-07 64 0 0.0 0.0\n",
      "1.0217733405942518e-06 64 0 0.0 0.0\n",
      "1.1880262177800208e-06 64 0 0.0 0.0\n",
      "1.3813300855273949e-06 64 0 0.0 0.0\n",
      "1.6060863949070788e-06 64 0 0.0 0.0\n",
      "1.8674127499275664e-06 64 0 0.0 0.0\n",
      "2.171259429985438e-06 64 0 0.0 0.0\n",
      "2.5245448706559623e-06 64 0 0.0 0.0\n",
      "2.935313187166708e-06 64 0 0.0 0.0\n",
      "3.4129173266193407e-06 64 0 0.0 0.0\n",
      "3.968232018336215e-06 64 0 0.0 0.0\n",
      "4.613901369867859e-06 64 0 0.0 0.0\n",
      "5.3646267446155565e-06 64 0 0.0 0.0\n",
      "6.2375014736103725e-06 64 0 0.0 0.0\n",
      "7.2524000195603246e-06 64 0 0.0 0.0\n",
      "8.43243045001736e-06 64 0 0.0 0.0\n",
      "9.804460516527986e-06 64 0 0.0 0.0\n",
      "1.1399729310565373e-05 64 0 0.0 0.0\n",
      "1.3254558412823157e-05 64 0 0.0 0.0\n",
      "1.5411178714132362e-05 64 0 0.0 0.0\n",
      "1.7918691714996185e-05 64 0 0.0 0.0\n",
      "2.0834187165913282e-05 64 0 0.0 0.0\n",
      "2.422404246121564e-05 64 0 0.0 0.0\n",
      "2.8165433325076256e-05 64 0 0.0 0.0\n",
      "3.274809012244227e-05 64 0 0.0 0.0\n",
      "3.807633969752674e-05 64 0 0.0 0.0\n",
      "4.427147911287391e-05 64 0 0.0 0.0\n",
      "5.147453517738728e-05 64 0 0.0 0.0\n",
      "5.984947237936492e-05 64 0 0.0 0.0\n",
      "6.958692197406513e-05 64 0 0.0 0.0\n",
      "8.090851673835931e-05 64 0 0.0 0.0\n",
      "9.40719295559931e-05 64 0 0.0 0.0\n",
      "0.00010937672983390545 64 0 0.0 0.0\n",
      "0.00012717119011627318 64 0 0.0 0.0\n",
      "0.00014786019655330245 64 0 0.0 0.0\n",
      "0.00017191444154951454 64 0 0.0 0.0\n",
      "0.0001998811054804534 64 0 0.0 0.0\n",
      "0.00023239626742025532 64 0 0.0 0.0\n",
      "0.00027019932304032826 64 0 0.0 0.0\n",
      "0.0003141497319868548 64 0 0.0 0.0\n",
      "0.0003652464679857076 64 0 0.0 0.0\n",
      "0.00042465060362666254 64 0 0.0 0.0\n",
      "0.0004937115293237555 64 0 0.0 0.0\n",
      "0.0005739973835260771 64 0 0.0 0.0\n",
      "0.0006673303601619598 64 0 0.0 0.0\n",
      "0.0007758276609337584 64 0 0.0 0.0\n",
      "0.0009019489759064135 64 0 0.0 0.0\n",
      "0.0010485515073473057 64 0 0.0 0.0\n",
      "0.001218953700438987 64 0 0.0 0.0\n",
      "0.0014170090116267153 64 0 0.0 0.0\n",
      "0.0016471912320242064 64 0 0.0 0.0\n",
      "0.0019146930900361978 64 0 0.0 0.0\n",
      "0.002225540083927417 64 0 0.0 0.0\n",
      "0.002586721740032682 64 0 0.0 0.0\n",
      "0.0030063427524479624 63 0 0.0 1.0\n",
      "0.003493796729610065 62 0 0.0 2.0\n",
      "0.004059965542829212 61 0 0.0 3.390625\n",
      "0.0047174475273036 59 0 0.024390243902439025 4.453125\n",
      "0.005480818006397048 55 0 0.04878048780487805 8.578125\n",
      "0.006366925764921793 52 0 0.04878048780487805 12.640625\n",
      "0.0073952291447584 48 0 0.04878048780487805 16.4375\n",
      "0.0085881753186096 46 0 0.12195121951219512 17.390625\n",
      "0.009971625937127002 44 0 0.12195121951219512 20.328125\n",
      "0.011575331637758118 39 0 0.14634146341463414 25.140625\n",
      "0.013433456715774965 33 0 0.17073170731707318 29.28125\n",
      "0.015585153416814386 30 0 0.17073170731707318 33.6875\n",
      "0.01807518260025041 29 0 0.17073170731707318 33.8125\n",
      "0.020954573680812282 29 0 0.17073170731707318 33.859375\n",
      "0.024281311471678085 28 0 0.1951219512195122 34.25\n",
      "0.02812103047559733 25 0 0.34146341463414637 35.734375\n",
      "0.03254768793153412 25 0 0.36585365853658536 35.734375\n",
      "0.03764417517325487 25 0 0.4146341463414634 35.734375\n",
      "0.043502812332922795 24 0 0.4146341463414634 35.890625\n",
      "0.05022565406541093 23 0 0.4146341463414634 35.90625\n",
      "0.05792451407542253 22 0 0.4146341463414634 35.9375\n",
      "0.06672059467734645 21 0 0.4146341463414634 35.984375\n",
      "0.07674358614409776 21 0 0.4146341463414634 36.015625\n",
      "0.0881300821196616 21 0 0.43902439024390244 36.25\n",
      "0.10102114627237378 21 0 0.4634146341463415 36.25\n",
      "0.11555886770351441 21 0 0.4878048780487805 36.25\n",
      "0.13188176600476537 21 0 0.5121951219512195 36.25\n",
      "0.15011895981992807 20 0 0.5121951219512195 36.265625\n",
      "0.17038310339724358 19 0 0.5365853658536586 36.28125\n",
      "0.19276222919191194 18 0 0.5365853658536586 36.34375\n",
      "0.21731081024736018 18 0 0.5853658536585366 36.359375\n",
      "0.24404056306764266 18 0 0.6097560975609756 36.390625\n",
      "0.2729117260093201 17 0 0.6341463414634146 36.453125\n",
      "0.3038257316556411 16 0 0.6585365853658537 36.484375\n",
      "0.33662029495232143 16 0 0.6585365853658537 36.5\n",
      "0.3710679107501842 16 0 0.6829268292682927 36.5\n",
      "0.4068785557978966 15 0 0.7317073170731707 36.515625\n",
      "0.4437070113323173 15 0 0.7560975609756098 36.515625\n",
      "0.4811646960559312 15 0 0.7560975609756098 36.515625\n",
      "0.518835303944068 14 0 0.7804878048780488 36.53125\n",
      "0.5562929886676822 14 0 0.7804878048780488 36.5625\n",
      "0.5931214442021029 13 0 0.8292682926829268 36.578125\n",
      "0.6289320892498149 13 0 0.8292682926829268 36.578125\n",
      "0.6633797050476777 13 0 0.8292682926829268 36.578125\n",
      "0.6961742683443586 13 0 0.8780487804878049 36.578125\n",
      "0.7270882739906794 13 0 0.9512195121951219 36.578125\n",
      "0.7559594369323567 12 0 0.975609756097561 36.609375\n",
      "0.7826891897526391 10 0 1.0 36.640625\n",
      "0.8072377708080877 10 0 1.048780487804878 36.65625\n",
      "0.8296168966027558 10 0 1.0731707317073171 36.671875\n",
      "0.8498810401800715 9 0 1.0731707317073171 36.703125\n",
      "0.8681182339952341 9 0 1.0975609756097562 36.703125\n",
      "0.8844411322964855 9 0 1.1219512195121952 36.703125\n",
      "0.8989788537276263 9 0 1.1951219512195121 36.71875\n",
      "0.9118699178803382 8 0 1.2439024390243902 36.75\n",
      "0.9232564138559021 8 0 1.2926829268292683 36.765625\n",
      "0.9332794053226534 8 0 1.2926829268292683 36.765625\n",
      "0.9420754859245772 8 0 1.3170731707317074 36.765625\n",
      "0.9497743459345889 8 0 1.3414634146341464 36.765625\n",
      "0.9564971876670771 8 0 1.3902439024390243 36.765625\n",
      "0.9623558248267451 8 0 1.4390243902439024 36.78125\n",
      "0.9674523120684658 7 0 1.5365853658536586 36.796875\n",
      "0.9718789695244026 6 0 1.5853658536585367 36.8125\n",
      "0.9757186885283219 6 0 1.6341463414634145 36.828125\n",
      "0.9790454263191877 6 0 1.6585365853658536 36.84375\n",
      "0.9819248173997495 6 0 1.7073170731707317 36.84375\n",
      "0.9844148465831855 6 0 1.7560975609756098 36.84375\n",
      "0.9865665432842249 6 0 1.7560975609756098 36.84375\n",
      "0.988424668362242 5 0 1.8048780487804879 36.859375\n",
      "0.9900283740628731 5 0 1.829268292682927 36.859375\n",
      "0.9914118246813904 5 0 1.9024390243902438 36.859375\n",
      "0.9926047708552416 5 0 1.9024390243902438 36.859375\n",
      "0.9936330742350782 5 0 1.975609756097561 36.859375\n",
      "0.9945191819936029 4 0 2.024390243902439 36.875\n",
      "0.9952825524726965 2 0 2.1951219512195124 36.90625\n",
      "0.9959400344571707 2 0 2.292682926829268 36.921875\n",
      "0.9965062032703899 2 0 2.292682926829268 36.921875\n",
      "0.996993657247552 1 0 2.317073170731707 36.9375\n",
      "0.9974132782599672 1 0 2.4390243902439024 36.9375\n",
      "0.9977744599160726 1 0 2.5365853658536586 36.9375\n",
      "0.9980853069099638 1 0 2.6097560975609757 36.9375\n",
      "0.9983528087679757 1 0 2.658536585365854 36.9375\n",
      "0.9985829909883732 1 0 2.731707317073171 36.9375\n",
      "0.9987810462995611 1 0 2.8292682926829267 36.9375\n",
      "0.9989514484926527 1 0 3.048780487804878 36.9375\n",
      "0.9990980510240935 1 0 3.097560975609756 36.9375\n",
      "0.9992241723390662 1 0 3.317073170731707 36.9375\n",
      "0.999332669639838 1 0 3.3902439024390243 36.9375\n",
      "0.9994260026164739 1 0 3.4146341463414633 36.953125\n",
      "0.9995062884706762 1 0 3.5609756097560976 36.953125\n",
      "0.9995753493963734 1 0 3.6341463414634148 36.953125\n",
      "0.9996347535320143 1 0 3.7560975609756095 36.953125\n",
      "0.9996858502680133 1 0 3.951219512195122 36.953125\n",
      "0.9997298006769597 1 0 4.146341463414634 36.953125\n",
      "0.9997676037325798 1 0 4.341463414634147 36.953125\n",
      "0.9998001188945196 1 0 4.585365853658536 36.96875\n",
      "0.9998280855584505 1 0 4.780487804878049 36.96875\n",
      "0.9998521398034467 1 0 5.219512195121951 36.96875\n",
      "0.9998728288098837 1 0 5.7317073170731705 36.984375\n",
      "0.999890623270166 1 0 7.024390243902439 36.984375\n",
      "0.999905928070444 1 12 23.121951219512194 44.640625\n",
      "0.9999190914832615 0 41 40.73170731707317 64.0\n",
      "0.999930413078026 0 41 40.73170731707317 64.0\n",
      "0.9999401505276208 0 41 40.73170731707317 64.0\n",
      "0.9999485254648226 0 41 40.73170731707317 64.0\n",
      "0.9999557285208872 0 41 40.73170731707317 64.0\n",
      "0.9999619236603026 0 41 40.73170731707317 64.0\n",
      "0.9999672519098777 0 41 40.73170731707317 64.0\n",
      "0.9999718345666749 0 41 40.73170731707317 64.0\n",
      "0.9999757759575388 0 41 40.73170731707317 64.0\n",
      "0.9999791658128342 0 41 40.73170731707317 64.0\n",
      "0.999982081308285 0 41 40.73170731707317 64.0\n",
      "0.9999845888212858 0 41 40.73170731707317 64.0\n",
      "0.9999867454415872 0 41 40.73170731707317 64.0\n",
      "0.9999886002706894 0 41 40.73170731707317 64.0\n",
      "0.9999901955394834 0 41 40.73170731707317 64.0\n",
      "0.9999915675695499 0 41 40.73170731707317 64.0\n",
      "0.9999927475999804 0 41 40.73170731707317 64.0\n",
      "0.9999937624985265 0 41 40.73170731707317 64.0\n",
      "0.9999946353732554 0 41 40.73170731707317 64.0\n"
     ]
    },
    {
     "name": "stdout",
     "output_type": "stream",
     "text": [
      "0.99999538609863 0 41 40.73170731707317 64.0\n",
      "0.9999960317679817 0 41 40.73170731707317 64.0\n",
      "0.9999965870826732 0 41 40.73170731707317 64.0\n",
      "0.9999970646868129 0 41 40.73170731707317 64.0\n",
      "0.9999974754551293 0 41 40.73170731707317 64.0\n",
      "0.9999978287405701 0 41 40.73170731707317 64.0\n",
      "0.99999813258725 0 41 40.73170731707317 64.0\n",
      "0.999998393913605 0 41 40.73170731707317 64.0\n",
      "0.9999986186699144 0 41 40.73170731707317 64.0\n",
      "0.9999988119737823 0 41 40.73170731707317 64.0\n",
      "0.9999989782266594 0 41 40.73170731707317 64.0\n",
      "0.9999991212140611 0 41 40.73170731707317 64.0\n",
      "0.9999992441917592 0 41 40.73170731707317 64.0\n",
      "0.9999993499599145 0 41 40.73170731707317 64.0\n",
      "0.9999994409268332 0 41 40.73170731707317 64.0\n",
      "0.9999995191638043 0 41 40.73170731707317 64.0\n",
      "0.99999958645226 0 41 40.73170731707317 64.0\n",
      "0.9999996443243392 0 41 40.73170731707317 64.0\n",
      "0.999999694097773 0 41 40.73170731707317 64.0\n"
     ]
    }
   ],
   "source": [
    "test_batch_size = 64\n",
    "final_test_loader = prepare_loader(test_data, test_labels, seq_len, input_size, test_batch_size, shuffle=False)\n",
    "\n",
    "(fp_number_list_bce, fn_number_list_bce, \n",
    " delay_list_bce, fp_delay_list_bce) = get_pareto_metrics_for_threshold(bce_model, final_test_loader, \n",
    "                                                                       threshold_list)\n",
    "\n"
   ]
  },
  {
   "cell_type": "code",
   "execution_count": 60,
   "metadata": {},
   "outputs": [
    {
     "data": {
      "image/png": "[encoded data removed]",
      "text/plain": [
       "<Figure size 864x864 with 1 Axes>"
      ]
     },
     "metadata": {
      "needs_background": "light"
     },
     "output_type": "display_data"
    }
   ],
   "source": [
    "plt.figure(figsize=(12, 12))\n",
    "plt.plot(fp_delay_list, delay_list, '-o', label='CustomLoss model')\n",
    "plt.plot(fp_delay_list_combined, delay_list_combined, '-s', label='Combined (Custom, then BCE) model')\n",
    "plt.plot(fp_delay_list_bce, delay_list_bce, '-d', label='BCE Loss model')\n",
    "# plt.ylim([0, 25])\n",
    "# plt.plot(fp_number_list_random, fn_number_list_random, '--s', label='Random model')\n",
    "plt.xlabel('Mean FP delay')\n",
    "plt.ylabel('Mean delay')\n",
    "#plt.yscale('log')\n",
    "# plt.xlim([32, 40])\n",
    "plt.legend(loc='upper left', fontsize=14);"
   ]
  },
  {
   "cell_type": "code",
   "execution_count": 43,
   "metadata": {
    "scrolled": true
   },
   "outputs": [],
   "source": [
    "# threshold_number = 50\n",
    "# fp_number_list_random = []\n",
    "# fn_number_list_random = []\n",
    "# for threshold in np.linspace(0.9, 1, threshold_number):\n",
    "#     print(threshold)\n",
    "#     # test_loader = prepare_loader(test_data, test_labels, seq_len, input_size, batch_size)\n",
    "    \n",
    "#     (positive_number, negative_number, test_loss, \n",
    "#      test_acc, mean_delay, fp_number, fn_number) = get_quality_metrics(test_loader, model, threshold)\n",
    "    \n",
    "#     fp_number_list_random.append(fp_number)\n",
    "#     fn_number_list_random.append(fn_number)"
   ]
  },
  {
   "cell_type": "code",
   "execution_count": null,
   "metadata": {},
   "outputs": [],
   "source": [
    "# plt.figure(figsize=(12, 12))\n",
    "# plt.plot(fp_number_list, fn_number_list, 'o', label='CustomLoss model')\n",
    "# plt.plot(fp_number_list_bce, fn_number_list_bce, 'd', label='BCE Loss model')\n",
    "# # plt.plot(fp_number_list_random, fn_number_list_random, '--s', label='Random model')\n",
    "# plt.xlabel('FP')\n",
    "# plt.ylabel('FN')\n",
    "# plt.legend(loc='upper right', fontsize=20)"
   ]
  },
  {
   "cell_type": "code",
   "execution_count": null,
   "metadata": {},
   "outputs": [],
   "source": [
    "# plt.figure(figsize=(12, 12))\n",
    "# plt.plot(fp_number_list, delay_list, '-o', label='CustomLoss model')\n",
    "# plt.plot(fp_number_list_combined, delay_list_combined, '-o', label='Combined (Custom, then BCE) model')\n",
    "# plt.plot(fp_number_list_bce, delay_list_bce, '--d', label='BCE Loss model')\n",
    "# # plt.ylim([0, 25])\n",
    "# # plt.plot(fp_number_list_random, fn_number_list_random, '--s', label='Random model')\n",
    "# plt.xlabel('FP')\n",
    "# plt.ylabel('Mean delay')\n",
    "# plt.yscale('log')\n",
    "# plt.legend(loc='upper right', fontsize=20);"
   ]
  },
  {
   "cell_type": "code",
   "execution_count": null,
   "metadata": {},
   "outputs": [],
   "source": []
  }
 ],
 "metadata": {
  "kernelspec": {
   "display_name": "Python 3",
   "language": "python",
   "name": "python3"
  },
  "language_info": {
   "codemirror_mode": {
    "name": "ipython",
    "version": 3
   },
   "file_extension": ".py",
   "mimetype": "text/x-python",
   "name": "python",
   "nbconvert_exporter": "python",
   "pygments_lexer": "ipython3",
   "version": "3.7.1"
  }
 },
 "nbformat": 4,
 "nbformat_minor": 2
}
