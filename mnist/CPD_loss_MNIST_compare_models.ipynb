{
 "cells": [
  {
   "cell_type": "code",
   "execution_count": 1,
   "metadata": {},
   "outputs": [],
   "source": [
    "import numpy as np\n",
    "import scipy\n",
    "import matplotlib.pyplot as plt\n",
    "%matplotlib inline\n",
    "\n",
    "from scipy.stats import norm\n",
    "from sklearn.model_selection import train_test_split\n",
    "from tqdm.notebook import tqdm\n",
    "from sklearn.metrics import average_precision_score"
   ]
  },
  {
   "cell_type": "code",
   "execution_count": 2,
   "metadata": {},
   "outputs": [],
   "source": [
    "import torch\n",
    "import torch.nn as nn\n",
    "import torch.nn.functional as F\n",
    "import torch.optim as optim\n",
    "from torch.utils.data import TensorDataset, DataLoader\n",
    "torch.manual_seed(1);"
   ]
  },
  {
   "cell_type": "markdown",
   "metadata": {},
   "source": [
    "## Read data"
   ]
  },
  {
   "cell_type": "code",
   "execution_count": 3,
   "metadata": {},
   "outputs": [],
   "source": [
    "import os\n",
    "SEQ_LEN = 64\n",
    "IM_SIZE = 28"
   ]
  },
  {
   "cell_type": "code",
   "execution_count": 4,
   "metadata": {},
   "outputs": [],
   "source": [
    "def read_img_sequences(path_to_folder, size=200):\n",
    "    curr_size = 0\n",
    "    data = []\n",
    "    labels = []\n",
    "    \n",
    "    for sequence_folder in os.listdir(path_to_folder):\n",
    "        curr_size += 1\n",
    "        full_sequence_folder = os.path.join(path_to_folder, sequence_folder)\n",
    "        sequence_img = [None] * SEQ_LEN\n",
    "        sequence_labels = [None] * SEQ_LEN\n",
    "        \n",
    "        for img_path in os.listdir(full_sequence_folder):\n",
    "            # -3: drop .pt\n",
    "            im_index, label = img_path[:-3].split('_')\n",
    "            im_index = int(im_index)\n",
    "            label = int(label)\n",
    "\n",
    "            full_path_to_img = os.path.join(full_sequence_folder, img_path)\n",
    "            # load image and reshape to vector\n",
    "            img = torch.load(full_path_to_img).view(IM_SIZE * IM_SIZE).detach().cpu().numpy()\n",
    "            sequence_img[im_index] = img\n",
    "            sequence_labels[im_index] = label\n",
    "        data.append(sequence_img)\n",
    "        labels.append(sequence_labels)\n",
    "        if curr_size ==  size:\n",
    "            break\n",
    "    return data, labels"
   ]
  },
  {
   "cell_type": "code",
   "execution_count": 5,
   "metadata": {},
   "outputs": [],
   "source": [
    "digit_1 = 4\n",
    "digit_2 = 7\n",
    "\n",
    "anomaly_data, anomaly_labels = read_img_sequences(('data_{}_in_{}/img_ts_anomaly/').format(digit_1, digit_2))\n",
    "normal_data, normal_labels = read_img_sequences(('data_{}_in_{}/img_ts_normal/').format(digit_1, digit_2))"
   ]
  },
  {
   "cell_type": "code",
   "execution_count": 6,
   "metadata": {},
   "outputs": [],
   "source": [
    "all_data = np.vstack((anomaly_data, normal_data))\n",
    "all_labels = np.vstack((anomaly_labels, normal_labels))\n",
    "\n",
    "all_labels = (all_labels == digit_2).astype(int)"
   ]
  },
  {
   "cell_type": "code",
   "execution_count": 7,
   "metadata": {},
   "outputs": [],
   "source": [
    "train_data, test_data, train_labels, test_labels = train_test_split(all_data, all_labels, \n",
    "                                                                    test_size=0.4, shuffle=True,\n",
    "                                                                    random_state=42)\n",
    "\n",
    "test_data, val_data, test_labels, val_labels = train_test_split(test_data, test_labels, \n",
    "                                                                test_size=0.5, shuffle=True,\n",
    "                                                                random_state=42)"
   ]
  },
  {
   "cell_type": "markdown",
   "metadata": {},
   "source": [
    "## Loss function"
   ]
  },
  {
   "cell_type": "code",
   "execution_count": 8,
   "metadata": {},
   "outputs": [],
   "source": [
    "device = torch.device('cuda')"
   ]
  },
  {
   "cell_type": "code",
   "execution_count": 9,
   "metadata": {},
   "outputs": [],
   "source": [
    "def loss_delay_detection_2(p_slice):\n",
    "    n = p_slice.size(0)\n",
    "    prod = torch.ones(n).to(device)\n",
    "    p_slice = p_slice.to(device)\n",
    "    prod[1:] -= p_slice[:-1]\n",
    "    cumprod = torch.cumprod(prod, dim=0).to(device)\n",
    "    loss = torch.arange(1, n + 1).to(device) * p_slice * cumprod\n",
    "    loss = torch.sum(loss)\n",
    "    return loss\n",
    "\n",
    "\n",
    "def loss_delay_detection(p_slice, w):\n",
    "    n = p_slice.size(0) \n",
    "    prod = torch.ones(n).to(device)\n",
    "    p_slice = p_slice.to(device)\n",
    "    \n",
    "    prod[1:] -= p_slice[:-1].to(device)\n",
    "    cumprod = torch.cumprod(prod, dim=0).to(device)\n",
    "    # TODO drop either n or w\n",
    "    loss = (torch.arange(1, n + 1).to(device) * p_slice * cumprod \n",
    "            + (w + 1) * torch.prod(prod[1:]) * (1 - p_slice[-1]))\n",
    "    loss = torch.sum(loss)\n",
    "    return loss\n",
    "\n",
    "def loss_false_alarms(p_slice):\n",
    "    length = len(p_slice)\n",
    "    loss = 0\n",
    "    \n",
    "    start_ind = 0\n",
    "    end_ind = 0\n",
    "    \n",
    "    while end_ind < length:\n",
    "        start_ind = end_ind - 1\n",
    "        if start_ind < 0:\n",
    "            start_ind = 0\n",
    "        end_ind = np.random.randint(start_ind, length + 2)\n",
    "        if end_ind == start_ind:\n",
    "            end_ind = end_ind + 1\n",
    "        loss += 1 - loss_delay_detection_2(p_slice[start_ind: end_ind + 1])    \n",
    "    #loss += 1 - loss_delay_detection_2(p_slice[start_ind: length])            \n",
    "    loss = torch.sum(loss)\n",
    "    return loss"
   ]
  },
  {
   "cell_type": "code",
   "execution_count": 10,
   "metadata": {},
   "outputs": [],
   "source": [
    "class CustomLoss(nn.Module):\n",
    "    \n",
    "    def __init__(self):\n",
    "        super(CustomLoss, self).__init__()\n",
    "        \n",
    "    def forward(self, outputs, labels):\n",
    "        loss = torch.zeros(labels.size(0))\n",
    "        for i, label in enumerate(labels):\n",
    "            ind = torch.where(label != label[0])[0]\n",
    "            if ind.size()[0] == 0:\n",
    "                loss[i] = loss_false_alarms(outputs[i, :])\n",
    "            else:\n",
    "                w = 16\n",
    "                alpha = 0.5\n",
    "                loss[i] = (alpha * loss_delay_detection(outputs[i, ind[0]:(ind[0] + w)], w) + \n",
    "                           (1 - alpha) * loss_false_alarms(outputs[i, :ind[0]]))\n",
    "        loss = torch.mean(loss)\n",
    "        return loss"
   ]
  },
  {
   "cell_type": "code",
   "execution_count": 11,
   "metadata": {},
   "outputs": [],
   "source": [
    "# input data parameters\n",
    "input_size = IM_SIZE * IM_SIZE\n",
    "output_size = SEQ_LEN\n",
    "seq_len = SEQ_LEN\n",
    "\n",
    "# model hyperparameters\n",
    "hidden_dim = 100\n",
    "n_layers = 2\n",
    "num_workers = 1\n",
    "learning_rate = 1e-3\n",
    "\n",
    "batch_size = 64"
   ]
  },
  {
   "cell_type": "code",
   "execution_count": 12,
   "metadata": {},
   "outputs": [],
   "source": [
    "def prepare_loader(data, labels, seq_len, input_size, batch_size, shuffle=True, num_workers=1):\n",
    "    data = torch.FloatTensor(data)\n",
    "    labels = torch.FloatTensor(labels)\n",
    "    data = data.view(-1, seq_len, input_size)\n",
    "    labels = labels.view(-1, seq_len)\n",
    "\n",
    "    all_data = TensorDataset(data, labels) \n",
    "    data_loader = DataLoader(all_data, batch_size=batch_size, shuffle=shuffle, num_workers=num_workers)\n",
    "    \n",
    "    return data_loader"
   ]
  },
  {
   "cell_type": "code",
   "execution_count": 13,
   "metadata": {},
   "outputs": [],
   "source": [
    "device = torch.device(\"cuda:1\")"
   ]
  },
  {
   "cell_type": "code",
   "execution_count": 14,
   "metadata": {},
   "outputs": [],
   "source": [
    "train_loader = prepare_loader(train_data, train_labels, seq_len, input_size, batch_size)\n",
    "val_loader = prepare_loader(val_data, val_labels, seq_len, input_size, batch_size)\n",
    "test_loader = prepare_loader(test_data, test_labels, seq_len, input_size, batch_size)"
   ]
  },
  {
   "cell_type": "code",
   "execution_count": 15,
   "metadata": {},
   "outputs": [
    {
     "data": {
      "text/plain": [
       "tensor([[0., 0., 0.,  ..., 1., 1., 1.],\n",
       "        [0., 0., 0.,  ..., 0., 0., 0.],\n",
       "        [0., 0., 0.,  ..., 0., 0., 0.],\n",
       "        ...,\n",
       "        [0., 0., 0.,  ..., 1., 1., 1.],\n",
       "        [0., 0., 0.,  ..., 0., 0., 0.],\n",
       "        [0., 0., 0.,  ..., 1., 1., 1.]])"
      ]
     },
     "execution_count": 15,
     "metadata": {},
     "output_type": "execute_result"
    }
   ],
   "source": [
    "next(iter(train_loader))[1]"
   ]
  },
  {
   "cell_type": "code",
   "execution_count": 27,
   "metadata": {},
   "outputs": [],
   "source": [
    " def train_model(model, loss_function, epochs=100, print_every=5, LSTM_flag = True):\n",
    "    optimizer = torch.optim.Adam(model.parameters(), lr=learning_rate)\n",
    "    \n",
    "    \n",
    "    valid_loss_min = np.Inf\n",
    "\n",
    "    loss_list = []\n",
    "    acc_list = []\n",
    "    overall_val_loss_list = []\n",
    "    counter = 0\n",
    "    model.train()\n",
    "\n",
    "    out_list = []\n",
    "    labels_list = []\n",
    "\n",
    "    model.train()\n",
    "    for i in range(epochs):\n",
    "        # for inputs, labels in tqdm(train_loader):\n",
    "        for inputs, labels in train_loader:\n",
    "            if inputs.shape[0] < batch_size:\n",
    "                break\n",
    "\n",
    "            counter += 1\n",
    "            inputs, labels = inputs.to(device), labels.to(device)  \n",
    "\n",
    "            if LSTM_flag:\n",
    "                h = model.init_hidden(batch_size)\n",
    "                h = tuple([e.data for e in h])\n",
    "                output, h = model(inputs, h)\n",
    "                #output = model(inputs)                \n",
    "            else:\n",
    "                output = model(inputs)\n",
    "\n",
    "            loss = loss_function(output.squeeze(), labels.float())\n",
    "            loss_list += [loss.cpu().clone().detach()]\n",
    "            accuracy = (output > 0.5).long() == labels\n",
    "            acc_list += [accuracy.cpu().detach().float().mean()]\n",
    "            out_list.append(output.cpu().detach().float())\n",
    "            labels_list.append(labels.cpu().detach().float())\n",
    "\n",
    "            loss.backward()\n",
    "            optimizer.step()\n",
    "            optimizer.zero_grad()\n",
    "\n",
    "            if counter%print_every == 0:\n",
    "                val_losses = []\n",
    "                val_outputs = []\n",
    "                model.eval()\n",
    "                for val_inputs, val_labels in val_loader:\n",
    "                    if val_inputs.shape[0] < batch_size:\n",
    "                        break\n",
    "                    val_inputs, val_labels = val_inputs.to(device), val_labels.to(device)\n",
    "\n",
    "                    if LSTM_flag:\n",
    "                        val_h = model.init_hidden(batch_size)\n",
    "                        val_h = tuple([each.data for each in val_h])\n",
    "                        val_out, val_h = model(val_inputs, val_h)\n",
    "                    else:\n",
    "                        val_out = model(val_inputs)\n",
    "\n",
    "                    val_loss = loss_function(val_out.squeeze(), val_labels.float())\n",
    "                    val_losses.append(val_loss.item())\n",
    "                    val_outputs += [val_out.cpu().clone().detach()]\n",
    "\n",
    "                val_outputs_one = torch.cat(val_outputs, 0)\n",
    "\n",
    "                overall_val_loss_list.append(np.mean(val_losses))\n",
    "\n",
    "                model.train()\n",
    "                print(\"Epoch: {}/{}...\".format(i+1, epochs),\n",
    "                      \"Step: {}...\".format(counter),\n",
    "                      \"Loss: {:.6f}...\".format(loss.item()),\n",
    "                      \"Val Loss: {:.6f}\".format(np.mean(val_losses)))\n",
    "    return model, (loss_list, acc_list, overall_val_loss_list)"
   ]
  },
  {
   "cell_type": "markdown",
   "metadata": {},
   "source": [
    "## LSTM Model"
   ]
  },
  {
   "cell_type": "code",
   "execution_count": 28,
   "metadata": {},
   "outputs": [],
   "source": [
    "class LSTM(nn.Module):\n",
    "    def __init__(self, input_size, output_size, hidden_dim, n_layers, drop_prob=0.5):\n",
    "        \n",
    "        super(LSTM, self).__init__()\n",
    "        self.input_size = input_size\n",
    "        self.output_size = output_size\n",
    "        self.n_layers = n_layers\n",
    "        self.hidden_dim = hidden_dim        \n",
    "        # if batch_first, than shape of lstm_in: [batch_size, seq_len, input_size]\n",
    "        #self.lstm = nn.LSTM(input_size, hidden_dim, n_layers, dropout=drop_prob, batch_first=True)\n",
    "        self.lstm = nn.LSTM(input_size, hidden_dim, n_layers, dropout=drop_prob, batch_first=True)\n",
    "        self.dropout = nn.Dropout(drop_prob)\n",
    "        self.linear_1 = nn.Linear(hidden_dim, hidden_dim//2)\n",
    "        self.linear_2 = nn.Linear(hidden_dim//2, 1)\n",
    "        self.activation = nn.Sigmoid()\n",
    "        self.relu = nn.ReLU()\n",
    "        \n",
    "    def forward(self, input_seq, hidden):\n",
    "        batch_size = input_seq.size(0)\n",
    "        lstm_out, hidden = self.lstm(input_seq, hidden)  \n",
    "        lstm_out = lstm_out.contiguous().view(-1, self.hidden_dim)      \n",
    "        out = self.linear_1(lstm_out)\n",
    "        out = self.dropout(out)\n",
    "        out = self.relu(out)\n",
    "        out = self.linear_2(out)\n",
    "        out = self.activation(out)\n",
    "        out = out.view(batch_size, -1)\n",
    "\n",
    "        return out, hidden\n",
    "\n",
    "    def init_hidden(self, batch_size):\n",
    "        weight = next(self.parameters()).data\n",
    "        \n",
    "        hidden = (weight.new(self.n_layers, batch_size, self.hidden_dim).zero_().to(device),\n",
    "                  weight.new(self.n_layers, batch_size, self.hidden_dim).zero_().to(device))\n",
    "        return hidden"
   ]
  },
  {
   "cell_type": "code",
   "execution_count": 29,
   "metadata": {},
   "outputs": [
    {
     "data": {
      "text/plain": [
       "LSTM(\n",
       "  (lstm): LSTM(784, 100, num_layers=2, batch_first=True, dropout=0.5)\n",
       "  (dropout): Dropout(p=0.5, inplace=False)\n",
       "  (linear_1): Linear(in_features=100, out_features=50, bias=True)\n",
       "  (linear_2): Linear(in_features=50, out_features=1, bias=True)\n",
       "  (activation): Sigmoid()\n",
       "  (relu): ReLU()\n",
       ")"
      ]
     },
     "execution_count": 29,
     "metadata": {},
     "output_type": "execute_result"
    }
   ],
   "source": [
    "model_LSTM_custom = LSTM(input_size=input_size, output_size=output_size, hidden_dim=hidden_dim, n_layers=n_layers)\n",
    "loss_function = CustomLoss()\n",
    "model_LSTM_custom.to(device)"
   ]
  },
  {
   "cell_type": "code",
   "execution_count": 30,
   "metadata": {
    "scrolled": true
   },
   "outputs": [
    {
     "name": "stdout",
     "output_type": "stream",
     "text": [
      "Epoch: 2/60... Step: 5... Loss: -1.682265... Val Loss: -2.517452\n",
      "Epoch: 4/60... Step: 10... Loss: -2.241542... Val Loss: -2.963053\n",
      "Epoch: 5/60... Step: 15... Loss: -2.475948... Val Loss: -3.390867\n",
      "Epoch: 7/60... Step: 20... Loss: -3.716971... Val Loss: -4.993102\n",
      "Epoch: 9/60... Step: 25... Loss: -6.223001... Val Loss: -5.939945\n",
      "Epoch: 10/60... Step: 30... Loss: -6.987427... Val Loss: -7.665605\n",
      "Epoch: 12/60... Step: 35... Loss: -7.390293... Val Loss: -9.565342\n",
      "Epoch: 14/60... Step: 40... Loss: -9.596967... Val Loss: -9.915156\n",
      "Epoch: 15/60... Step: 45... Loss: -10.390186... Val Loss: -12.071197\n",
      "Epoch: 17/60... Step: 50... Loss: -12.146738... Val Loss: -14.858089\n",
      "Epoch: 19/60... Step: 55... Loss: -11.737441... Val Loss: -13.297670\n",
      "Epoch: 20/60... Step: 60... Loss: -11.022756... Val Loss: -14.017242\n",
      "Epoch: 22/60... Step: 65... Loss: -11.721538... Val Loss: -14.555749\n",
      "Epoch: 24/60... Step: 70... Loss: -10.522915... Val Loss: -15.405549\n",
      "Epoch: 25/60... Step: 75... Loss: -13.501179... Val Loss: -12.849689\n",
      "Epoch: 27/60... Step: 80... Loss: -10.422468... Val Loss: -14.981875\n",
      "Epoch: 29/60... Step: 85... Loss: -13.588391... Val Loss: -13.773661\n",
      "Epoch: 30/60... Step: 90... Loss: -12.276945... Val Loss: -13.117846\n",
      "Epoch: 32/60... Step: 95... Loss: -14.856451... Val Loss: -14.492154\n",
      "Epoch: 34/60... Step: 100... Loss: -13.915851... Val Loss: -11.622120\n",
      "Epoch: 35/60... Step: 105... Loss: -12.976789... Val Loss: -12.071530\n",
      "Epoch: 37/60... Step: 110... Loss: -14.567592... Val Loss: -13.423077\n",
      "Epoch: 39/60... Step: 115... Loss: -12.271791... Val Loss: -14.092343\n",
      "Epoch: 40/60... Step: 120... Loss: -12.774066... Val Loss: -12.950760\n",
      "Epoch: 42/60... Step: 125... Loss: -14.245854... Val Loss: -15.148410\n",
      "Epoch: 44/60... Step: 130... Loss: -13.265148... Val Loss: -16.118793\n",
      "Epoch: 45/60... Step: 135... Loss: -11.302126... Val Loss: -14.947340\n",
      "Epoch: 47/60... Step: 140... Loss: -14.443626... Val Loss: -13.248800\n",
      "Epoch: 49/60... Step: 145... Loss: -13.555870... Val Loss: -14.868078\n",
      "Epoch: 50/60... Step: 150... Loss: -12.945970... Val Loss: -13.587001\n",
      "Epoch: 52/60... Step: 155... Loss: -12.988918... Val Loss: -14.188677\n",
      "Epoch: 54/60... Step: 160... Loss: -12.945244... Val Loss: -14.919508\n",
      "Epoch: 55/60... Step: 165... Loss: -13.499372... Val Loss: -13.625885\n",
      "Epoch: 57/60... Step: 170... Loss: -14.406590... Val Loss: -15.751102\n",
      "Epoch: 59/60... Step: 175... Loss: -12.380966... Val Loss: -13.128775\n",
      "Epoch: 60/60... Step: 180... Loss: -11.415802... Val Loss: -13.105522\n"
     ]
    }
   ],
   "source": [
    "model_LSTM_custom, (loss_list, acc_list, \n",
    "                    overall_val_loss_list) = train_model(model_LSTM_custom, loss_function, 60, 5, LSTM_flag=True)"
   ]
  },
  {
   "cell_type": "code",
   "execution_count": 31,
   "metadata": {},
   "outputs": [
    {
     "data": {
      "text/plain": [
       "LSTM(\n",
       "  (lstm): LSTM(784, 100, num_layers=2, batch_first=True, dropout=0.5)\n",
       "  (dropout): Dropout(p=0.5, inplace=False)\n",
       "  (linear_1): Linear(in_features=100, out_features=50, bias=True)\n",
       "  (linear_2): Linear(in_features=50, out_features=1, bias=True)\n",
       "  (activation): Sigmoid()\n",
       "  (relu): ReLU()\n",
       ")"
      ]
     },
     "execution_count": 31,
     "metadata": {},
     "output_type": "execute_result"
    }
   ],
   "source": [
    "model_LSTM_bce = LSTM(input_size=input_size, output_size=output_size, hidden_dim=hidden_dim, n_layers=n_layers)\n",
    "bce_loss_function = torch.nn.BCELoss()\n",
    "model_LSTM_bce.to(device)"
   ]
  },
  {
   "cell_type": "code",
   "execution_count": 32,
   "metadata": {},
   "outputs": [
    {
     "name": "stdout",
     "output_type": "stream",
     "text": [
      "Epoch: 2/60... Step: 5... Loss: 0.672201... Val Loss: 0.641328\n",
      "Epoch: 4/60... Step: 10... Loss: 0.525432... Val Loss: 0.445812\n",
      "Epoch: 5/60... Step: 15... Loss: 0.371327... Val Loss: 0.284277\n",
      "Epoch: 7/60... Step: 20... Loss: 0.221167... Val Loss: 0.206307\n",
      "Epoch: 9/60... Step: 25... Loss: 0.184083... Val Loss: 0.115281\n",
      "Epoch: 10/60... Step: 30... Loss: 0.099775... Val Loss: 0.087453\n",
      "Epoch: 12/60... Step: 35... Loss: 0.077727... Val Loss: 0.055614\n",
      "Epoch: 14/60... Step: 40... Loss: 0.057651... Val Loss: 0.053310\n",
      "Epoch: 15/60... Step: 45... Loss: 0.047058... Val Loss: 0.032139\n",
      "Epoch: 17/60... Step: 50... Loss: 0.044644... Val Loss: 0.051739\n",
      "Epoch: 19/60... Step: 55... Loss: 0.039670... Val Loss: 0.033315\n",
      "Epoch: 20/60... Step: 60... Loss: 0.028516... Val Loss: 0.053552\n",
      "Epoch: 22/60... Step: 65... Loss: 0.032195... Val Loss: 0.036467\n",
      "Epoch: 24/60... Step: 70... Loss: 0.020203... Val Loss: 0.039121\n",
      "Epoch: 25/60... Step: 75... Loss: 0.024559... Val Loss: 0.038244\n",
      "Epoch: 27/60... Step: 80... Loss: 0.018599... Val Loss: 0.050392\n",
      "Epoch: 29/60... Step: 85... Loss: 0.015391... Val Loss: 0.045844\n",
      "Epoch: 30/60... Step: 90... Loss: 0.016433... Val Loss: 0.049125\n",
      "Epoch: 32/60... Step: 95... Loss: 0.028027... Val Loss: 0.058054\n",
      "Epoch: 34/60... Step: 100... Loss: 0.015442... Val Loss: 0.061106\n",
      "Epoch: 35/60... Step: 105... Loss: 0.013678... Val Loss: 0.036850\n",
      "Epoch: 37/60... Step: 110... Loss: 0.013976... Val Loss: 0.081536\n",
      "Epoch: 39/60... Step: 115... Loss: 0.017575... Val Loss: 0.072846\n",
      "Epoch: 40/60... Step: 120... Loss: 0.016760... Val Loss: 0.057020\n",
      "Epoch: 42/60... Step: 125... Loss: 0.014257... Val Loss: 0.100072\n",
      "Epoch: 44/60... Step: 130... Loss: 0.017418... Val Loss: 0.089890\n",
      "Epoch: 45/60... Step: 135... Loss: 0.016006... Val Loss: 0.074877\n",
      "Epoch: 47/60... Step: 140... Loss: 0.011312... Val Loss: 0.048312\n",
      "Epoch: 49/60... Step: 145... Loss: 0.009539... Val Loss: 0.061834\n",
      "Epoch: 50/60... Step: 150... Loss: 0.008965... Val Loss: 0.087907\n",
      "Epoch: 52/60... Step: 155... Loss: 0.009470... Val Loss: 0.079214\n",
      "Epoch: 54/60... Step: 160... Loss: 0.010134... Val Loss: 0.073107\n",
      "Epoch: 55/60... Step: 165... Loss: 0.004930... Val Loss: 0.087482\n",
      "Epoch: 57/60... Step: 170... Loss: 0.010090... Val Loss: 0.049596\n",
      "Epoch: 59/60... Step: 175... Loss: 0.006854... Val Loss: 0.097279\n",
      "Epoch: 60/60... Step: 180... Loss: 0.007331... Val Loss: 0.104948\n"
     ]
    }
   ],
   "source": [
    "model_LSTM_bce, (bce_loss_list, bce_acc_list, bce_overall_val_loss_list) = train_model(model_LSTM_bce, bce_loss_function, \n",
    "                                                                                       60, 5, LSTM_flag=True)"
   ]
  },
  {
   "cell_type": "code",
   "execution_count": 33,
   "metadata": {},
   "outputs": [
    {
     "data": {
      "text/plain": [
       "LSTM(\n",
       "  (lstm): LSTM(784, 100, num_layers=2, batch_first=True, dropout=0.5)\n",
       "  (dropout): Dropout(p=0.5, inplace=False)\n",
       "  (linear_1): Linear(in_features=100, out_features=50, bias=True)\n",
       "  (linear_2): Linear(in_features=50, out_features=1, bias=True)\n",
       "  (activation): Sigmoid()\n",
       "  (relu): ReLU()\n",
       ")"
      ]
     },
     "execution_count": 33,
     "metadata": {},
     "output_type": "execute_result"
    }
   ],
   "source": [
    "model_LSTM_combined = LSTM(input_size=input_size, output_size=output_size, hidden_dim=hidden_dim, n_layers=n_layers)\n",
    "first_bce_loss_function = torch.nn.BCELoss()\n",
    "second_custom_loss_function = CustomLoss()\n",
    "model_LSTM_combined.to(device)"
   ]
  },
  {
   "cell_type": "code",
   "execution_count": 34,
   "metadata": {},
   "outputs": [
    {
     "name": "stdout",
     "output_type": "stream",
     "text": [
      "Epoch: 2/30... Step: 5... Loss: 0.636885... Val Loss: 0.603007\n",
      "Epoch: 4/30... Step: 10... Loss: 0.485104... Val Loss: 0.419175\n",
      "Epoch: 5/30... Step: 15... Loss: 0.371743... Val Loss: 0.304460\n",
      "Epoch: 7/30... Step: 20... Loss: 0.240137... Val Loss: 0.168936\n",
      "Epoch: 9/30... Step: 25... Loss: 0.144484... Val Loss: 0.097935\n",
      "Epoch: 10/30... Step: 30... Loss: 0.070646... Val Loss: 0.056556\n",
      "Epoch: 12/30... Step: 35... Loss: 0.062929... Val Loss: 0.039431\n",
      "Epoch: 14/30... Step: 40... Loss: 0.038295... Val Loss: 0.035368\n",
      "Epoch: 15/30... Step: 45... Loss: 0.056944... Val Loss: 0.044317\n",
      "Epoch: 17/30... Step: 50... Loss: 0.040535... Val Loss: 0.048740\n",
      "Epoch: 19/30... Step: 55... Loss: 0.037548... Val Loss: 0.027113\n",
      "Epoch: 20/30... Step: 60... Loss: 0.032514... Val Loss: 0.046942\n",
      "Epoch: 22/30... Step: 65... Loss: 0.023170... Val Loss: 0.044681\n",
      "Epoch: 24/30... Step: 70... Loss: 0.027316... Val Loss: 0.048385\n",
      "Epoch: 25/30... Step: 75... Loss: 0.023705... Val Loss: 0.036780\n",
      "Epoch: 27/30... Step: 80... Loss: 0.026803... Val Loss: 0.021727\n",
      "Epoch: 29/30... Step: 85... Loss: 0.019704... Val Loss: 0.051053\n",
      "Epoch: 30/30... Step: 90... Loss: 0.015444... Val Loss: 0.041934\n"
     ]
    }
   ],
   "source": [
    "model_LSTM_combined, _ = train_model(model_LSTM_combined, first_bce_loss_function, 30, 5, \n",
    "                                    LSTM_flag=True)"
   ]
  },
  {
   "cell_type": "code",
   "execution_count": 35,
   "metadata": {},
   "outputs": [
    {
     "name": "stdout",
     "output_type": "stream",
     "text": [
      "Epoch: 2/30... Step: 5... Loss: -2.344287... Val Loss: -2.036728\n",
      "Epoch: 4/30... Step: 10... Loss: -3.438174... Val Loss: -5.674310\n",
      "Epoch: 5/30... Step: 15... Loss: -7.886487... Val Loss: -4.386388\n",
      "Epoch: 7/30... Step: 20... Loss: -7.131604... Val Loss: -10.115916\n",
      "Epoch: 9/30... Step: 25... Loss: -7.168483... Val Loss: -6.327554\n",
      "Epoch: 10/30... Step: 30... Loss: -8.533030... Val Loss: -9.372063\n",
      "Epoch: 12/30... Step: 35... Loss: -8.936579... Val Loss: -9.169660\n",
      "Epoch: 14/30... Step: 40... Loss: -10.188383... Val Loss: -11.755888\n",
      "Epoch: 15/30... Step: 45... Loss: -8.032239... Val Loss: -11.125236\n",
      "Epoch: 17/30... Step: 50... Loss: -11.645679... Val Loss: -13.389765\n",
      "Epoch: 19/30... Step: 55... Loss: -10.820739... Val Loss: -12.281760\n",
      "Epoch: 20/30... Step: 60... Loss: -12.370371... Val Loss: -10.627027\n",
      "Epoch: 22/30... Step: 65... Loss: -11.468987... Val Loss: -15.976003\n",
      "Epoch: 24/30... Step: 70... Loss: -12.376369... Val Loss: -15.542948\n",
      "Epoch: 25/30... Step: 75... Loss: -12.035086... Val Loss: -12.703228\n",
      "Epoch: 27/30... Step: 80... Loss: -11.768218... Val Loss: -14.967459\n",
      "Epoch: 29/30... Step: 85... Loss: -11.189114... Val Loss: -15.412146\n",
      "Epoch: 30/30... Step: 90... Loss: -12.872908... Val Loss: -12.431230\n"
     ]
    }
   ],
   "source": [
    "model_LSTM_combined, __ = train_model(model_LSTM_combined, second_custom_loss_function, 30, 5, \n",
    "                                      LSTM_flag=True)"
   ]
  },
  {
   "cell_type": "markdown",
   "metadata": {},
   "source": [
    "## FNN Models"
   ]
  },
  {
   "cell_type": "code",
   "execution_count": 36,
   "metadata": {},
   "outputs": [],
   "source": [
    "class FNN(nn.Module):\n",
    "    def __init__(self, input_size, hidden_dim, output_size, drop_prob=0.5):\n",
    "        super(FNN, self).__init__()\n",
    "        # Linear function as in LSTM model\n",
    "\n",
    "        self.linear_1 = nn.Linear(input_size, hidden_dim) \n",
    "        self.linear_2 = nn.Linear(hidden_dim, hidden_dim//2) \n",
    "        self.linear_3 = nn.Linear(hidden_dim//2, 1)  \n",
    "        self.dropout = nn.Dropout(drop_prob)\n",
    "        self.relu = nn.ReLU()\n",
    "        self.activation = nn.Sigmoid()\n",
    "\n",
    "\n",
    "    def forward(self, input_seq):\n",
    "        batch_size = input_seq.size(0)\n",
    "        out = self.linear_1(input_seq)\n",
    "        out = self.dropout(out)\n",
    "        out = self.relu(out)\n",
    "        out = self.linear_2(out)\n",
    "        out = self.dropout(out)\n",
    "        out = self.relu(out)\n",
    "        out = self.linear_3(out)\n",
    "        out = self.activation(out)\n",
    "        out = out.view(batch_size, -1)\n",
    "        return out"
   ]
  },
  {
   "cell_type": "code",
   "execution_count": 37,
   "metadata": {},
   "outputs": [
    {
     "data": {
      "text/plain": [
       "FNN(\n",
       "  (linear_1): Linear(in_features=784, out_features=100, bias=True)\n",
       "  (linear_2): Linear(in_features=100, out_features=50, bias=True)\n",
       "  (linear_3): Linear(in_features=50, out_features=1, bias=True)\n",
       "  (dropout): Dropout(p=0.5, inplace=False)\n",
       "  (relu): ReLU()\n",
       "  (activation): Sigmoid()\n",
       ")"
      ]
     },
     "execution_count": 37,
     "metadata": {},
     "output_type": "execute_result"
    }
   ],
   "source": [
    "model_FNN_custom = FNN(input_size=input_size, hidden_dim=hidden_dim, output_size=output_size)\n",
    "loss_function = CustomLoss()\n",
    "model_FNN_custom.to(device)"
   ]
  },
  {
   "cell_type": "code",
   "execution_count": 38,
   "metadata": {},
   "outputs": [
    {
     "name": "stdout",
     "output_type": "stream",
     "text": [
      "Epoch: 2/20... Step: 5... Loss: -2.195272... Val Loss: -2.719840\n",
      "Epoch: 4/20... Step: 10... Loss: -3.067098... Val Loss: -4.546353\n",
      "Epoch: 5/20... Step: 15... Loss: -4.808895... Val Loss: -5.619705\n",
      "Epoch: 7/20... Step: 20... Loss: -6.405705... Val Loss: -6.886898\n",
      "Epoch: 9/20... Step: 25... Loss: -7.116693... Val Loss: -6.983115\n",
      "Epoch: 10/20... Step: 30... Loss: -6.690182... Val Loss: -7.522424\n",
      "Epoch: 12/20... Step: 35... Loss: -6.171429... Val Loss: -6.953578\n",
      "Epoch: 14/20... Step: 40... Loss: -8.164620... Val Loss: -5.916919\n",
      "Epoch: 15/20... Step: 45... Loss: -7.184468... Val Loss: -8.092999\n",
      "Epoch: 17/20... Step: 50... Loss: -7.402225... Val Loss: -8.177213\n",
      "Epoch: 19/20... Step: 55... Loss: -8.057121... Val Loss: -7.018304\n",
      "Epoch: 20/20... Step: 60... Loss: -7.882903... Val Loss: -9.091694\n"
     ]
    }
   ],
   "source": [
    "model_FNN_custom, (loss_list, acc_list, overall_val_loss_list) = train_model(model_FNN_custom, loss_function, \n",
    "                                                                             20, 5, LSTM_flag=False)"
   ]
  },
  {
   "cell_type": "code",
   "execution_count": 39,
   "metadata": {},
   "outputs": [
    {
     "data": {
      "text/plain": [
       "FNN(\n",
       "  (linear_1): Linear(in_features=784, out_features=100, bias=True)\n",
       "  (linear_2): Linear(in_features=100, out_features=50, bias=True)\n",
       "  (linear_3): Linear(in_features=50, out_features=1, bias=True)\n",
       "  (dropout): Dropout(p=0.5, inplace=False)\n",
       "  (relu): ReLU()\n",
       "  (activation): Sigmoid()\n",
       ")"
      ]
     },
     "execution_count": 39,
     "metadata": {},
     "output_type": "execute_result"
    }
   ],
   "source": [
    "model_FNN_bce = FNN(input_size=input_size, hidden_dim=hidden_dim, output_size=output_size)\n",
    "bce_loss_function = torch.nn.BCELoss()\n",
    "model_FNN_bce.to(device)"
   ]
  },
  {
   "cell_type": "code",
   "execution_count": 40,
   "metadata": {},
   "outputs": [
    {
     "name": "stdout",
     "output_type": "stream",
     "text": [
      "Epoch: 2/20... Step: 5... Loss: 0.627090... Val Loss: 0.564491\n",
      "Epoch: 4/20... Step: 10... Loss: 0.487381... Val Loss: 0.420464\n",
      "Epoch: 5/20... Step: 15... Loss: 0.333076... Val Loss: 0.280594\n",
      "Epoch: 7/20... Step: 20... Loss: 0.222592... Val Loss: 0.192253\n",
      "Epoch: 9/20... Step: 25... Loss: 0.186916... Val Loss: 0.127602\n",
      "Epoch: 10/20... Step: 30... Loss: 0.138248... Val Loss: 0.073000\n",
      "Epoch: 12/20... Step: 35... Loss: 0.115289... Val Loss: 0.054768\n",
      "Epoch: 14/20... Step: 40... Loss: 0.076675... Val Loss: 0.042008\n",
      "Epoch: 15/20... Step: 45... Loss: 0.065655... Val Loss: 0.039530\n",
      "Epoch: 17/20... Step: 50... Loss: 0.056551... Val Loss: 0.033971\n",
      "Epoch: 19/20... Step: 55... Loss: 0.045189... Val Loss: 0.032937\n",
      "Epoch: 20/20... Step: 60... Loss: 0.056653... Val Loss: 0.037258\n"
     ]
    }
   ],
   "source": [
    "model_FNN_bce, (bce_loss_list, bce_acc_list, bce_overall_val_loss_list) = train_model(model_FNN_bce, bce_loss_function, 20, 5, LSTM_flag=False)"
   ]
  },
  {
   "cell_type": "code",
   "execution_count": 41,
   "metadata": {},
   "outputs": [
    {
     "data": {
      "text/plain": [
       "FNN(\n",
       "  (linear_1): Linear(in_features=784, out_features=100, bias=True)\n",
       "  (linear_2): Linear(in_features=100, out_features=50, bias=True)\n",
       "  (linear_3): Linear(in_features=50, out_features=1, bias=True)\n",
       "  (dropout): Dropout(p=0.5, inplace=False)\n",
       "  (relu): ReLU()\n",
       "  (activation): Sigmoid()\n",
       ")"
      ]
     },
     "execution_count": 41,
     "metadata": {},
     "output_type": "execute_result"
    }
   ],
   "source": [
    "model_FNN_combined = FNN(input_size=input_size, hidden_dim=hidden_dim, output_size=output_size)\n",
    "first_bce_loss_function = torch.nn.BCELoss()\n",
    "second_custom_loss_function = CustomLoss()\n",
    "model_FNN_combined.to(device)"
   ]
  },
  {
   "cell_type": "code",
   "execution_count": 42,
   "metadata": {},
   "outputs": [
    {
     "name": "stdout",
     "output_type": "stream",
     "text": [
      "Epoch: 2/5... Step: 5... Loss: 0.623083... Val Loss: 0.576196\n",
      "Epoch: 4/5... Step: 10... Loss: 0.500169... Val Loss: 0.422821\n",
      "Epoch: 5/5... Step: 15... Loss: 0.336118... Val Loss: 0.284590\n"
     ]
    }
   ],
   "source": [
    "model_FNN_combined, _ = train_model(model_FNN_combined, first_bce_loss_function, 5, 5, LSTM_flag=False)"
   ]
  },
  {
   "cell_type": "code",
   "execution_count": 43,
   "metadata": {},
   "outputs": [
    {
     "name": "stdout",
     "output_type": "stream",
     "text": [
      "Epoch: 2/5... Step: 5... Loss: -7.232925... Val Loss: -7.265746\n",
      "Epoch: 4/5... Step: 10... Loss: -6.589095... Val Loss: -7.117126\n",
      "Epoch: 5/5... Step: 15... Loss: -6.803087... Val Loss: -6.477133\n"
     ]
    }
   ],
   "source": [
    "model_FNN_combined, __ = train_model(model_FNN_combined, second_custom_loss_function, 5, 5, LSTM_flag=False)"
   ]
  },
  {
   "cell_type": "markdown",
   "metadata": {},
   "source": [
    "## Calculate metrics for different models"
   ]
  },
  {
   "cell_type": "code",
   "execution_count": 44,
   "metadata": {},
   "outputs": [],
   "source": [
    "def evaluate_metrics(y_true, y_pred, threshold=0.5):\n",
    "    \"\"\"\n",
    "    Evaluate metrics for change point detection\n",
    "    We assume, that there is no more than one change index in data (so, either 0 or 1 change)\n",
    "    Inputs\n",
    "    y_true : torch.Tensor\n",
    "      true labels\n",
    "    y_pred : torch.Tensor\n",
    "      change probabiltiy\n",
    "    threshold : float\n",
    "      detection threshold\n",
    "      \n",
    "    Returns\n",
    "    false_positive : int\n",
    "      number of false positives\n",
    "    false_negative : int\n",
    "      number of false negatives\n",
    "    delay : int\n",
    "      detection delay\n",
    "    accuracy : float\n",
    "      y_pred accuracy given y_truei\n",
    "    \"\"\"\n",
    "    delay = 0\n",
    "    false_positive = 0\n",
    "    false_negative = 0\n",
    "    true_negative = 0\n",
    "\n",
    "    index_real = torch.where(y_true != y_true[0])[0] # indexes with real changes\n",
    "    index_detected = torch.where((y_pred > threshold).long() != y_true[0])[0] # indexes with predicted changes\n",
    "\n",
    "    if len(index_real) > 0:\n",
    "        real_change_index = index_real[0]\n",
    "\n",
    "        if len(index_detected) > 0:\n",
    "            index_sub_detected = torch.where(index_detected >= real_change_index)[0]\n",
    "\n",
    "            if len(index_sub_detected) == len(index_detected):\n",
    "                false_positive_delay = real_change_index.item()\n",
    "                false_positive_delay = seq_len\n",
    "                detected_change_index = index_detected[0]\n",
    "                delay = (detected_change_index - real_change_index).item()\n",
    "            else:\n",
    "                false_positive_delay = index_detected[0].item()\n",
    "                delay = 0\n",
    "                false_positive += 1\n",
    "                \n",
    "        else:\n",
    "            false_positive_delay = seq_len\n",
    "            delay = (seq_len - real_change_index).item()\n",
    "            false_negative += 1\n",
    "\n",
    "    else:\n",
    "        if len(index_detected) > 0:\n",
    "            false_positive_delay = index_detected[0].item()\n",
    "            false_positive += 1\n",
    "        else:\n",
    "            false_positive_delay = seq_len\n",
    "            true_negative += 1\n",
    "    \n",
    "    accuracy = ((y_pred > threshold).long() == y_true).float().mean().item()\n",
    "    \n",
    "    return false_positive, false_negative, delay, false_positive_delay, accuracy"
   ]
  },
  {
   "cell_type": "code",
   "execution_count": 45,
   "metadata": {},
   "outputs": [],
   "source": [
    "def get_quality_metrics(test_loader, model, threshold=0.5, LSTM_flag=True):\n",
    "    test_loss_list = []\n",
    "    test_acc_list = []\n",
    "\n",
    "    positive_number = 0 \n",
    "    negative_number = 0\n",
    "    fp_list = []\n",
    "    fn_list = []\n",
    "    delay_list = []\n",
    "    fp_delay_list = []\n",
    "    accuracy_list = []\n",
    "\n",
    "    model.eval()\n",
    "    for test_inputs, test_true_labels in test_loader:\n",
    "\n",
    "        if test_inputs.shape[0] < test_batch_size:\n",
    "            break\n",
    "            \n",
    "        test_inputs, test_true_labels = test_inputs.to(device), test_true_labels.to(device)\n",
    "\n",
    "        if LSTM_flag:\n",
    "            test_hidden = model.init_hidden(batch_size)\n",
    "            test_hidden = tuple([each.data for each in test_hidden])\n",
    "            test_predictions, test_hidden = model(test_inputs, test_hidden)\n",
    "            #test_predictions = model(test_inputs)            \n",
    "        else:\n",
    "            test_predictions = model(test_inputs)\n",
    "            \n",
    "        test_loss = loss_function(test_predictions.squeeze(), test_true_labels.float())\n",
    "        test_loss_list += [test_loss.cpu().clone().detach()]\n",
    "\n",
    "        for i in range(0, test_batch_size):\n",
    "            curr_labels = test_true_labels[i]\n",
    "            curr_predictions = test_predictions[i]\n",
    "            \n",
    "            # torch.rand_like\n",
    "            curr_fp, curr_fn, curr_delay, curr_fp_delay, curr_accuracy = evaluate_metrics(curr_labels, curr_predictions, \n",
    "                                                                           threshold)\n",
    "\n",
    "            max_difference = np.abs((curr_labels.max() - curr_labels.min()).item())\n",
    "            if max_difference: \n",
    "                delay_list.append(curr_delay)\n",
    "            positive_number += (max_difference > 0)\n",
    "            negative_number += 1 - (max_difference > 0)\n",
    "\n",
    "            fp_list.append(curr_fp)\n",
    "            fn_list.append(curr_fn)\n",
    "            fp_delay_list.append(curr_fp_delay)\n",
    "            accuracy_list.append(curr_accuracy)\n",
    "\n",
    "        test_acc_list.append(np.mean(accuracy_list[-test_batch_size:]))\n",
    "        \n",
    "    return (positive_number, negative_number, np.mean(test_loss_list), np.mean(test_acc_list), np.mean(delay_list),\n",
    "            np.mean(fp_delay_list), np.sum(fp_list), np.sum(fn_list))"
   ]
  },
  {
   "cell_type": "code",
   "execution_count": 46,
   "metadata": {},
   "outputs": [],
   "source": [
    "def get_pareto_metrics_for_threshold(model, test_loader, threshold_list, LSTM_flag=True):\n",
    "    fp_number_list = []\n",
    "    fn_number_list = []\n",
    "    delay_list = []\n",
    "    fp_delay_list = []\n",
    "    for threshold in threshold_list:\n",
    "        # test_loader = prepare_loader(test_data, test_labels, seq_len, input_size, batch_size)\n",
    "\n",
    "        (positive_number, negative_number, test_loss, \n",
    "         test_acc, mean_delay, mean_fp_delay, fp_number, fn_number) = get_quality_metrics(test_loader, model, threshold, LSTM_flag)\n",
    "\n",
    "        fp_number_list.append(fp_number)\n",
    "        fn_number_list.append(fn_number)\n",
    "        delay_list.append(mean_delay)\n",
    "        fp_delay_list.append(mean_fp_delay)\n",
    "        #print(threshold, fp_number, fn_number, mean_delay, mean_fp_delay)\n",
    "    \n",
    "    return fp_number_list, fn_number_list, delay_list, fp_delay_list"
   ]
  },
  {
   "cell_type": "code",
   "execution_count": 47,
   "metadata": {},
   "outputs": [
    {
     "data": {
      "text/plain": [
       "[<matplotlib.lines.Line2D at 0x7f89a2f1ba90>]"
      ]
     },
     "execution_count": 47,
     "metadata": {},
     "output_type": "execute_result"
    },
    {
     "data": {
      "image/png": "[encoded data removed]",
      "text/plain": [
       "<Figure size 432x288 with 1 Axes>"
      ]
     },
     "metadata": {
      "needs_background": "light"
     },
     "output_type": "display_data"
    }
   ],
   "source": [
    "threshold_number = 100\n",
    "threshold_list = np.linspace(-15, 15, threshold_number)\n",
    "threshold_list = 1 / (1 + np.exp(-threshold_list))\n",
    "plt.plot(np.linspace(0.01, 1, threshold_number), threshold_list)"
   ]
  },
  {
   "cell_type": "code",
   "execution_count": 48,
   "metadata": {},
   "outputs": [],
   "source": [
    "test_batch_size = 64\n",
    "final_test_loader = prepare_loader(test_data, test_labels, seq_len, input_size, test_batch_size, shuffle=False)\n",
    "\n",
    "(fp_number_list_FNN_bce, fn_number_list_FNN_bce, \n",
    " delay_list_FNN_bce, fp_delay_list_FNN_bce) = get_pareto_metrics_for_threshold(model_FNN_bce, final_test_loader, \n",
    "                                                                               threshold_list, LSTM_flag=False)"
   ]
  },
  {
   "cell_type": "code",
   "execution_count": 49,
   "metadata": {
    "scrolled": true
   },
   "outputs": [],
   "source": [
    "test_batch_size = 64\n",
    "final_test_loader = prepare_loader(test_data, test_labels, seq_len, input_size, test_batch_size, shuffle=False)\n",
    "\n",
    "(fp_number_list_FNN_custom, fn_number_list_FNN_custom, \n",
    " delay_list_FNN_custom, fp_delay_list_FNN_custom) = get_pareto_metrics_for_threshold(model_FNN_custom, final_test_loader, \n",
    "                                                                                     threshold_list, LSTM_flag=False)"
   ]
  },
  {
   "cell_type": "code",
   "execution_count": 50,
   "metadata": {
    "scrolled": true
   },
   "outputs": [],
   "source": [
    "test_batch_size = 64\n",
    "final_test_loader = prepare_loader(test_data, test_labels, seq_len, input_size, test_batch_size, shuffle=False)\n",
    "\n",
    "(fp_number_list_FNN_combined, fn_number_list_FNN_combined, \n",
    " delay_list_FNN_combined, fp_delay_list_FNN_combined) = get_pareto_metrics_for_threshold(model_FNN_combined, final_test_loader, \n",
    "                                                                                         threshold_list, LSTM_flag=False)"
   ]
  },
  {
   "cell_type": "code",
   "execution_count": 51,
   "metadata": {},
   "outputs": [],
   "source": [
    "test_batch_size = 64\n",
    "final_test_loader = prepare_loader(test_data, test_labels, seq_len, input_size, test_batch_size, shuffle=False)\n",
    "\n",
    "(fp_number_list_LSTM_bce, fn_number_list_LSTM_bce, \n",
    " delay_list_LSTM_bce, fp_delay_list_LSTM_bce) = get_pareto_metrics_for_threshold(model_LSTM_bce, final_test_loader, \n",
    "                                                                                 threshold_list, LSTM_flag=True)"
   ]
  },
  {
   "cell_type": "code",
   "execution_count": 52,
   "metadata": {},
   "outputs": [],
   "source": [
    "test_batch_size = 64\n",
    "final_test_loader = prepare_loader(test_data, test_labels, seq_len, input_size, test_batch_size, shuffle=False)\n",
    "\n",
    "(fp_number_list_LSTM_custom, fn_number_list_LSTM_custom, \n",
    " delay_list_LSTM_custom, fp_delay_list_LSTM_custom) = get_pareto_metrics_for_threshold(model_LSTM_custom, final_test_loader, \n",
    "                                                                                       threshold_list, LSTM_flag=True)"
   ]
  },
  {
   "cell_type": "code",
   "execution_count": 53,
   "metadata": {},
   "outputs": [],
   "source": [
    "test_batch_size = 64\n",
    "final_test_loader = prepare_loader(test_data, test_labels, seq_len, input_size, test_batch_size, shuffle=False)\n",
    "\n",
    "(fp_number_list_LSTM_combined, fn_number_list_LSTM_combined, delay_list_LSTM_combined, fp_delay_list_LSTM_combined) = get_pareto_metrics_for_threshold(model_LSTM_combined, final_test_loader, threshold_list, LSTM_flag=True)"
   ]
  },
  {
   "cell_type": "code",
   "execution_count": 54,
   "metadata": {},
   "outputs": [
    {
     "data": {
      "image/png": "[encoded data removed]",
      "text/plain": [
       "<Figure size 864x864 with 1 Axes>"
      ]
     },
     "metadata": {
      "needs_background": "light"
     },
     "output_type": "display_data"
    }
   ],
   "source": [
    "plt.figure(figsize=(12, 12))\n",
    "plt.plot(fp_delay_list_LSTM_custom, delay_list_LSTM_custom, '-o', label='LSTM. CustomLoss model')\n",
    "plt.plot(fp_delay_list_LSTM_bce, delay_list_LSTM_bce, '-d', label='LSTM.BCELoss model')\n",
    "plt.plot(fp_delay_list_LSTM_combined, delay_list_LSTM_combined, '-s', label='LSTM. Combined model')\n",
    "plt.plot(fp_delay_list_FNN_custom, delay_list_FNN_custom, '-o', label='FNN. CustomLoss model')\n",
    "plt.plot(fp_delay_list_FNN_bce, delay_list_FNN_bce, '-d', label='LSTM.BCELoss model')\n",
    "plt.plot(fp_delay_list_FNN_combined, delay_list_FNN_combined, '-s', label='FNN. Combined model')\n",
    "\n",
    "\n",
    "\n",
    "plt.xlabel('Mean FP delay')\n",
    "plt.ylabel('Mean delay')\n",
    "#plt.yscale('log')\n",
    "plt.legend(loc='upper left', fontsize=14);"
   ]
  },
  {
   "cell_type": "code",
   "execution_count": null,
   "metadata": {},
   "outputs": [],
   "source": []
  }
 ],
 "metadata": {
  "kernelspec": {
   "display_name": "Python 3",
   "language": "python",
   "name": "python3"
  },
  "language_info": {
   "codemirror_mode": {
    "name": "ipython",
    "version": 3
   },
   "file_extension": ".py",
   "mimetype": "text/x-python",
   "name": "python",
   "nbconvert_exporter": "python",
   "pygments_lexer": "ipython3",
   "version": "3.7.9"
  }
 },
 "nbformat": 4,
 "nbformat_minor": 2
}
