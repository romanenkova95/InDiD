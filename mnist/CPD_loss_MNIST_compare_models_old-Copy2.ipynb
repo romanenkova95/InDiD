{
 "cells": [
  {
   "cell_type": "code",
   "execution_count": 1,
   "metadata": {},
   "outputs": [],
   "source": [
    "import numpy as np\n",
    "import scipy\n",
    "import matplotlib.pyplot as plt\n",
    "%matplotlib inline\n",
    "\n",
    "from scipy.stats import norm\n",
    "from sklearn.model_selection import train_test_split\n",
    "from tqdm.notebook import tqdm\n",
    "from sklearn.metrics import average_precision_score"
   ]
  },
  {
   "cell_type": "code",
   "execution_count": 2,
   "metadata": {},
   "outputs": [],
   "source": [
    "import torch\n",
    "import torch.nn as nn\n",
    "import torch.nn.functional as F\n",
    "import torch.optim as optim\n",
    "from torch.utils.data import TensorDataset, DataLoader\n",
    "torch.manual_seed(1);"
   ]
  },
  {
   "cell_type": "markdown",
   "metadata": {},
   "source": [
    "## Read data"
   ]
  },
  {
   "cell_type": "code",
   "execution_count": 3,
   "metadata": {},
   "outputs": [],
   "source": [
    "import os\n",
    "SEQ_LEN = 64\n",
    "IM_SIZE = 28"
   ]
  },
  {
   "cell_type": "code",
   "execution_count": 4,
   "metadata": {},
   "outputs": [],
   "source": [
    "def read_img_sequences(path_to_folder, size=500):\n",
    "    curr_size = 0\n",
    "    data = []\n",
    "    labels = []\n",
    "    \n",
    "    for sequence_folder in os.listdir(path_to_folder):\n",
    "        curr_size += 1\n",
    "        full_sequence_folder = os.path.join(path_to_folder, sequence_folder)\n",
    "        sequence_img = [None] * SEQ_LEN\n",
    "        sequence_labels = [None] * SEQ_LEN\n",
    "        \n",
    "        for img_path in os.listdir(full_sequence_folder):\n",
    "            # -3: drop .pt\n",
    "            im_index, label = img_path[:-3].split('_')\n",
    "            im_index = int(im_index)\n",
    "            label = int(label)\n",
    "\n",
    "            full_path_to_img = os.path.join(full_sequence_folder, img_path)\n",
    "            # load image and reshape to vector\n",
    "            img = torch.load(full_path_to_img).view(IM_SIZE * IM_SIZE).detach().cpu().numpy()\n",
    "            sequence_img[im_index] = img\n",
    "            sequence_labels[im_index] = label\n",
    "        data.append(sequence_img)\n",
    "        labels.append(sequence_labels)\n",
    "        if curr_size ==  size:\n",
    "            break\n",
    "    return data, labels"
   ]
  },
  {
   "cell_type": "code",
   "execution_count": 5,
   "metadata": {},
   "outputs": [],
   "source": [
    "anomaly_data, anomaly_labels = read_img_sequences('data_4_in_7/img_ts_anomaly/')\n",
    "normal_data, normal_labels = read_img_sequences('data_4_in_7/img_ts_normal/')"
   ]
  },
  {
   "cell_type": "code",
   "execution_count": 6,
   "metadata": {},
   "outputs": [
    {
     "data": {
      "text/plain": [
       "500"
      ]
     },
     "execution_count": 6,
     "metadata": {},
     "output_type": "execute_result"
    }
   ],
   "source": [
    "len(anomaly_data)"
   ]
  },
  {
   "cell_type": "code",
   "execution_count": 7,
   "metadata": {},
   "outputs": [],
   "source": [
    "all_data = np.vstack((anomaly_data, normal_data))\n",
    "all_labels = np.vstack((anomaly_labels, normal_labels))\n",
    "\n",
    "all_labels = (all_labels == 7).astype(int)"
   ]
  },
  {
   "cell_type": "code",
   "execution_count": 8,
   "metadata": {},
   "outputs": [],
   "source": [
    "train_data, test_data, train_labels, test_labels = train_test_split(all_data, all_labels, \n",
    "                                                                    test_size=0.4, shuffle=True,\n",
    "                                                                    random_state=42)\n",
    "\n",
    "test_data, val_data, test_labels, val_labels = train_test_split(test_data, test_labels, \n",
    "                                                                test_size=0.5, shuffle=True,\n",
    "                                                                random_state=42)"
   ]
  },
  {
   "cell_type": "markdown",
   "metadata": {},
   "source": [
    "## Loss function"
   ]
  },
  {
   "cell_type": "code",
   "execution_count": 9,
   "metadata": {},
   "outputs": [],
   "source": [
    "device = torch.device('cuda')"
   ]
  },
  {
   "cell_type": "code",
   "execution_count": 10,
   "metadata": {},
   "outputs": [],
   "source": [
    "def loss_delay_detection_2(p_slice):\n",
    "    n = p_slice.size(0)\n",
    "    prod = torch.ones(n).to(device)\n",
    "    p_slice = p_slice.to(device)\n",
    "    prod[1:] -= p_slice[:-1]\n",
    "    cumprod = torch.cumprod(prod, dim=0).to(device)\n",
    "    loss = torch.arange(1, n + 1).to(device) * p_slice * cumprod\n",
    "    loss = torch.sum(loss)\n",
    "    return loss\n",
    "\n",
    "\n",
    "def loss_delay_detection(p_slice, w):\n",
    "    n = p_slice.size(0) \n",
    "    prod = torch.ones(n).to(device)\n",
    "    p_slice = p_slice.to(device)\n",
    "    \n",
    "    prod[1:] -= p_slice[:-1].to(device)\n",
    "    cumprod = torch.cumprod(prod, dim=0).to(device)\n",
    "    # TODO drop either n or w\n",
    "    loss = (torch.arange(1, n + 1).to(device) * p_slice * cumprod \n",
    "            + (w + 1) * torch.prod(prod[1:]) * (1 - p_slice[-1]))\n",
    "    loss = torch.sum(loss)\n",
    "    return loss\n",
    "\n",
    "def loss_false_alarms(p_slice):\n",
    "    length = len(p_slice)\n",
    "    loss = 0\n",
    "    \n",
    "    start_ind = 0\n",
    "    end_ind = 0\n",
    "    \n",
    "    while end_ind < length:\n",
    "        start_ind = end_ind - 1\n",
    "        if start_ind < 0:\n",
    "            start_ind = 0\n",
    "        end_ind = np.random.randint(start_ind, length + 2)\n",
    "        if end_ind == start_ind:\n",
    "            end_ind = end_ind + 1\n",
    "        loss += 1 - loss_delay_detection_2(p_slice[start_ind: end_ind + 1])    \n",
    "    #loss += 1 - loss_delay_detection_2(p_slice[start_ind: length])            \n",
    "    loss = torch.sum(loss)\n",
    "    return loss"
   ]
  },
  {
   "cell_type": "code",
   "execution_count": 11,
   "metadata": {},
   "outputs": [
    {
     "data": {
      "text/plain": [
       "tensor(1.7570, device='cuda:0')"
      ]
     },
     "execution_count": 11,
     "metadata": {},
     "output_type": "execute_result"
    }
   ],
   "source": [
    "loss_delay_detection(torch.Tensor([0.9, 0.1, 0.3]), 3)"
   ]
  },
  {
   "cell_type": "code",
   "execution_count": 12,
   "metadata": {},
   "outputs": [],
   "source": [
    "class CustomLoss(nn.Module):\n",
    "    \n",
    "    def __init__(self, alpha=0.5, w=16):\n",
    "        super(CustomLoss, self).__init__()\n",
    "        self.alpha = alpha\n",
    "        self.w = w\n",
    "        \n",
    "    def forward(self, outputs, labels):\n",
    "        loss = torch.zeros(labels.size(0))\n",
    "        for i, label in enumerate(labels):\n",
    "            ind = torch.where(label != label[0])[0]\n",
    "            if ind.size()[0] == 0:\n",
    "                loss[i] = loss_false_alarms(outputs[i, :])\n",
    "            else:\n",
    "                #w = 16\n",
    "                #alpha = 0.5\n",
    "                loss[i] = (self.alpha * loss_delay_detection(outputs[i, ind[0]:(ind[0] + self.w)], self.w) + \n",
    "                           (1 - self.alpha) * loss_false_alarms(outputs[i, :ind[0]]))\n",
    "        loss = torch.mean(loss)\n",
    "        return loss"
   ]
  },
  {
   "cell_type": "code",
   "execution_count": 13,
   "metadata": {},
   "outputs": [],
   "source": [
    "# input data parameters\n",
    "input_size = IM_SIZE * IM_SIZE\n",
    "output_size = SEQ_LEN\n",
    "seq_len = SEQ_LEN\n",
    "\n",
    "# model hyperparameters\n",
    "hidden_dim = 100\n",
    "n_layers = 2\n",
    "num_workers = 1\n",
    "learning_rate = 1e-3\n",
    "\n",
    "batch_size = 64"
   ]
  },
  {
   "cell_type": "code",
   "execution_count": 14,
   "metadata": {},
   "outputs": [],
   "source": [
    "def prepare_loader(data, labels, seq_len, input_size, batch_size, shuffle=True, num_workers=1):\n",
    "    data = torch.FloatTensor(data)\n",
    "    labels = torch.FloatTensor(labels)\n",
    "    data = data.view(-1, seq_len, input_size)\n",
    "    labels = labels.view(-1, seq_len)\n",
    "\n",
    "    all_data = TensorDataset(data, labels) \n",
    "    data_loader = DataLoader(all_data, batch_size=batch_size, shuffle=shuffle, num_workers=num_workers)\n",
    "    \n",
    "    return data_loader"
   ]
  },
  {
   "cell_type": "code",
   "execution_count": 15,
   "metadata": {},
   "outputs": [],
   "source": [
    "device = torch.device(\"cuda:1\")"
   ]
  },
  {
   "cell_type": "code",
   "execution_count": 16,
   "metadata": {},
   "outputs": [],
   "source": [
    "train_loader = prepare_loader(train_data, train_labels, seq_len, input_size, batch_size)\n",
    "val_loader = prepare_loader(val_data, val_labels, seq_len, input_size, batch_size)\n",
    "test_loader = prepare_loader(test_data, test_labels, seq_len, input_size, batch_size)"
   ]
  },
  {
   "cell_type": "code",
   "execution_count": 17,
   "metadata": {},
   "outputs": [],
   "source": [
    "def train_model(model, loss_function, epochs=100, print_every=5, LSTM_flag = True):\n",
    "    optimizer = torch.optim.Adam(model.parameters(), lr=learning_rate)\n",
    "    \n",
    "    \n",
    "    valid_loss_min = np.Inf\n",
    "\n",
    "    loss_list = []\n",
    "    acc_list = []\n",
    "    overall_val_loss_list = []\n",
    "    counter = 0\n",
    "    model.train()\n",
    "\n",
    "    out_list = []\n",
    "    labels_list = []\n",
    "\n",
    "    model.train()\n",
    "    for i in range(epochs):\n",
    "        # for inputs, labels in tqdm(train_loader):\n",
    "        for inputs, labels in train_loader:\n",
    "            if inputs.shape[0] < batch_size:\n",
    "                break\n",
    "\n",
    "            counter += 1\n",
    "            inputs, labels = inputs.to(device), labels.to(device)  \n",
    "\n",
    "            if LSTM_flag:\n",
    "                h = model.init_hidden(batch_size)\n",
    "                h = tuple([e.data for e in h])\n",
    "                output, h = model(inputs, h)\n",
    "            else:\n",
    "                output = model(inputs)\n",
    "\n",
    "            loss = loss_function(output.squeeze(), labels.float())\n",
    "            loss_list += [loss.cpu().clone().detach()]\n",
    "            accuracy = (output > 0.5).long() == labels\n",
    "            acc_list += [accuracy.cpu().detach().float().mean()]\n",
    "            out_list.append(output.cpu().detach().float())\n",
    "            labels_list.append(labels.cpu().detach().float())\n",
    "\n",
    "            loss.backward()\n",
    "            optimizer.step()\n",
    "            optimizer.zero_grad()\n",
    "\n",
    "            if counter%print_every == 0:\n",
    "                val_losses = []\n",
    "                val_outputs = []\n",
    "                model.eval()\n",
    "                for val_inputs, val_labels in val_loader:\n",
    "                    if val_inputs.shape[0] < batch_size:\n",
    "                        break\n",
    "                    val_inputs, val_labels = val_inputs.to(device), val_labels.to(device)\n",
    "\n",
    "                    if LSTM_flag:\n",
    "                        val_h = model.init_hidden(batch_size)\n",
    "                        val_h = tuple([each.data for each in val_h])\n",
    "                        val_out, val_h = model(val_inputs, val_h)\n",
    "                    else:\n",
    "                        val_out = model(val_inputs)\n",
    "                        \n",
    "                    val_loss = loss_function(val_out.squeeze(), val_labels.float())\n",
    "                    val_losses.append(val_loss.item())\n",
    "                    val_outputs += [val_out.cpu().clone().detach()]\n",
    "\n",
    "                val_outputs_one = torch.cat(val_outputs, 0)\n",
    "\n",
    "                overall_val_loss_list.append(np.mean(val_losses))\n",
    "\n",
    "                model.train()\n",
    "                print(\"Epoch: {}/{}...\".format(i+1, epochs),\n",
    "                      \"Step: {}...\".format(counter),\n",
    "                      \"Loss: {:.6f}...\".format(loss.item()),\n",
    "                      \"Val Loss: {:.6f}\".format(np.mean(val_losses)))\n",
    "    return model, (loss_list, acc_list, overall_val_loss_list)"
   ]
  },
  {
   "cell_type": "markdown",
   "metadata": {},
   "source": [
    "## LSTM Model"
   ]
  },
  {
   "cell_type": "code",
   "execution_count": 18,
   "metadata": {},
   "outputs": [],
   "source": [
    "class LSTM(nn.Module):\n",
    "    def __init__(self, input_size, output_size, hidden_dim, n_layers, drop_prob=0.5):\n",
    "        \n",
    "        super(LSTM, self).__init__()\n",
    "        self.input_size = input_size\n",
    "        self.output_size = output_size\n",
    "        self.n_layers = n_layers\n",
    "        self.hidden_dim = hidden_dim        \n",
    "        # if batch_first, than shape of lstm_in: [batch_size, seq_len, input_size]\n",
    "        self.lstm = nn.LSTM(input_size, hidden_dim, n_layers, dropout=drop_prob, batch_first=True)\n",
    "        self.dropout = nn.Dropout(drop_prob)\n",
    "        self.linear_1 = nn.Linear(hidden_dim, hidden_dim//2)\n",
    "        self.linear_2 = nn.Linear(hidden_dim//2, 1)\n",
    "        self.activation = nn.Sigmoid()\n",
    "        self.relu = nn.ReLU()\n",
    "        \n",
    "    def forward(self, input_seq, hidden):\n",
    "        batch_size = input_seq.size(0)\n",
    "        lstm_out, hidden = self.lstm(input_seq, hidden)  \n",
    "        lstm_out = lstm_out.contiguous().view(-1, self.hidden_dim)      \n",
    "        out = self.linear_1(lstm_out)\n",
    "        out = self.dropout(out)\n",
    "        out = self.relu(out)\n",
    "        out = self.linear_2(out)\n",
    "        out = self.activation(out)\n",
    "        out = out.view(batch_size, -1)\n",
    "\n",
    "        return out, hidden\n",
    "\n",
    "    def init_hidden(self, batch_size):\n",
    "        weight = next(self.parameters()).data\n",
    "        \n",
    "        hidden = (weight.new(self.n_layers, batch_size, self.hidden_dim).zero_().to(device),\n",
    "                  weight.new(self.n_layers, batch_size, self.hidden_dim).zero_().to(device))\n",
    "        #hidden = weight.new(self.n_layers, batch_size, self.hidden_dim).zero_().to(device)\n",
    "        \n",
    "        return hidden"
   ]
  },
  {
   "cell_type": "code",
   "execution_count": 19,
   "metadata": {},
   "outputs": [
    {
     "data": {
      "text/plain": [
       "LSTM(\n",
       "  (lstm): LSTM(784, 100, num_layers=2, batch_first=True, dropout=0.5)\n",
       "  (dropout): Dropout(p=0.5, inplace=False)\n",
       "  (linear_1): Linear(in_features=100, out_features=50, bias=True)\n",
       "  (linear_2): Linear(in_features=50, out_features=1, bias=True)\n",
       "  (activation): Sigmoid()\n",
       "  (relu): ReLU()\n",
       ")"
      ]
     },
     "execution_count": 19,
     "metadata": {},
     "output_type": "execute_result"
    }
   ],
   "source": [
    "model_LSTM_custom = LSTM(input_size=input_size, output_size=output_size, hidden_dim=hidden_dim, n_layers=n_layers)\n",
    "loss_function = CustomLoss()\n",
    "model_LSTM_custom.to(device)"
   ]
  },
  {
   "cell_type": "code",
   "execution_count": 20,
   "metadata": {
    "scrolled": true
   },
   "outputs": [
    {
     "name": "stdout",
     "output_type": "stream",
     "text": [
      "Epoch: 1/60... Step: 5... Loss: -1.713132... Val Loss: -1.951803\n",
      "Epoch: 2/60... Step: 10... Loss: -2.350043... Val Loss: -2.331757\n",
      "Epoch: 2/60... Step: 15... Loss: -2.601989... Val Loss: -3.402312\n",
      "Epoch: 3/60... Step: 20... Loss: -3.273342... Val Loss: -4.876379\n",
      "Epoch: 3/60... Step: 25... Loss: -8.988995... Val Loss: -6.246268\n",
      "Epoch: 4/60... Step: 30... Loss: -8.186861... Val Loss: -8.074739\n",
      "Epoch: 4/60... Step: 35... Loss: -9.104961... Val Loss: -8.572307\n",
      "Epoch: 5/60... Step: 40... Loss: -9.794010... Val Loss: -8.920572\n",
      "Epoch: 5/60... Step: 45... Loss: -11.115810... Val Loss: -9.982688\n",
      "Epoch: 6/60... Step: 50... Loss: -10.851713... Val Loss: -10.759299\n",
      "Epoch: 7/60... Step: 55... Loss: -11.019271... Val Loss: -11.235148\n",
      "Epoch: 7/60... Step: 60... Loss: -8.995976... Val Loss: -10.107160\n",
      "Epoch: 8/60... Step: 65... Loss: -13.789701... Val Loss: -10.621668\n",
      "Epoch: 8/60... Step: 70... Loss: -13.444029... Val Loss: -11.533076\n",
      "Epoch: 9/60... Step: 75... Loss: -11.132465... Val Loss: -10.931431\n",
      "Epoch: 9/60... Step: 80... Loss: -9.492241... Val Loss: -11.037986\n",
      "Epoch: 10/60... Step: 85... Loss: -10.368435... Val Loss: -11.589684\n",
      "Epoch: 10/60... Step: 90... Loss: -11.382773... Val Loss: -10.277706\n",
      "Epoch: 11/60... Step: 95... Loss: -14.858104... Val Loss: -10.604306\n",
      "Epoch: 12/60... Step: 100... Loss: -9.617111... Val Loss: -11.949080\n",
      "Epoch: 12/60... Step: 105... Loss: -14.970941... Val Loss: -9.141756\n",
      "Epoch: 13/60... Step: 110... Loss: -8.778367... Val Loss: -10.245603\n",
      "Epoch: 13/60... Step: 115... Loss: -10.260084... Val Loss: -11.034869\n",
      "Epoch: 14/60... Step: 120... Loss: -15.676782... Val Loss: -12.381465\n",
      "Epoch: 14/60... Step: 125... Loss: -12.462366... Val Loss: -11.323157\n",
      "Epoch: 15/60... Step: 130... Loss: -12.220268... Val Loss: -11.019179\n",
      "Epoch: 15/60... Step: 135... Loss: -11.624865... Val Loss: -11.316126\n",
      "Epoch: 16/60... Step: 140... Loss: -13.192404... Val Loss: -12.340604\n",
      "Epoch: 17/60... Step: 145... Loss: -13.242502... Val Loss: -12.419516\n",
      "Epoch: 17/60... Step: 150... Loss: -12.959505... Val Loss: -13.838602\n",
      "Epoch: 18/60... Step: 155... Loss: -13.350761... Val Loss: -12.826396\n",
      "Epoch: 18/60... Step: 160... Loss: -12.696477... Val Loss: -12.612661\n",
      "Epoch: 19/60... Step: 165... Loss: -13.898165... Val Loss: -11.952583\n",
      "Epoch: 19/60... Step: 170... Loss: -11.569260... Val Loss: -11.601577\n",
      "Epoch: 20/60... Step: 175... Loss: -12.620848... Val Loss: -13.542969\n",
      "Epoch: 20/60... Step: 180... Loss: -11.705507... Val Loss: -12.397396\n",
      "Epoch: 21/60... Step: 185... Loss: -12.379102... Val Loss: -12.560285\n",
      "Epoch: 22/60... Step: 190... Loss: -12.701329... Val Loss: -13.229901\n",
      "Epoch: 22/60... Step: 195... Loss: -15.497520... Val Loss: -13.580320\n",
      "Epoch: 23/60... Step: 200... Loss: -13.330003... Val Loss: -12.605422\n",
      "Epoch: 23/60... Step: 205... Loss: -14.755143... Val Loss: -13.255985\n",
      "Epoch: 24/60... Step: 210... Loss: -12.887117... Val Loss: -12.546167\n",
      "Epoch: 24/60... Step: 215... Loss: -12.337811... Val Loss: -12.180418\n",
      "Epoch: 25/60... Step: 220... Loss: -15.156481... Val Loss: -13.286951\n",
      "Epoch: 25/60... Step: 225... Loss: -12.854343... Val Loss: -13.306975\n",
      "Epoch: 26/60... Step: 230... Loss: -12.432160... Val Loss: -13.780341\n",
      "Epoch: 27/60... Step: 235... Loss: -13.455644... Val Loss: -13.377364\n",
      "Epoch: 27/60... Step: 240... Loss: -13.048076... Val Loss: -14.725853\n",
      "Epoch: 28/60... Step: 245... Loss: -12.316638... Val Loss: -13.148231\n",
      "Epoch: 28/60... Step: 250... Loss: -17.423401... Val Loss: -13.271901\n",
      "Epoch: 29/60... Step: 255... Loss: -11.678500... Val Loss: -13.554399\n",
      "Epoch: 29/60... Step: 260... Loss: -15.811831... Val Loss: -12.890945\n",
      "Epoch: 30/60... Step: 265... Loss: -14.360760... Val Loss: -14.413092\n",
      "Epoch: 30/60... Step: 270... Loss: -14.593918... Val Loss: -12.405242\n",
      "Epoch: 31/60... Step: 275... Loss: -16.282370... Val Loss: -12.670630\n",
      "Epoch: 32/60... Step: 280... Loss: -12.242256... Val Loss: -12.341291\n",
      "Epoch: 32/60... Step: 285... Loss: -15.008545... Val Loss: -13.718728\n",
      "Epoch: 33/60... Step: 290... Loss: -15.692040... Val Loss: -12.402142\n",
      "Epoch: 33/60... Step: 295... Loss: -15.554442... Val Loss: -14.061511\n",
      "Epoch: 34/60... Step: 300... Loss: -12.961294... Val Loss: -13.138452\n",
      "Epoch: 34/60... Step: 305... Loss: -12.368986... Val Loss: -14.594268\n",
      "Epoch: 35/60... Step: 310... Loss: -13.906023... Val Loss: -13.011367\n",
      "Epoch: 35/60... Step: 315... Loss: -14.783343... Val Loss: -12.993435\n",
      "Epoch: 36/60... Step: 320... Loss: -14.343179... Val Loss: -13.273797\n",
      "Epoch: 37/60... Step: 325... Loss: -16.210938... Val Loss: -12.944531\n",
      "Epoch: 37/60... Step: 330... Loss: -13.536780... Val Loss: -13.429371\n",
      "Epoch: 38/60... Step: 335... Loss: -15.308040... Val Loss: -12.781242\n",
      "Epoch: 38/60... Step: 340... Loss: -15.801179... Val Loss: -13.216806\n",
      "Epoch: 39/60... Step: 345... Loss: -10.086371... Val Loss: -14.222267\n",
      "Epoch: 39/60... Step: 350... Loss: -16.587009... Val Loss: -13.018981\n",
      "Epoch: 40/60... Step: 355... Loss: -15.069483... Val Loss: -12.969544\n",
      "Epoch: 40/60... Step: 360... Loss: -15.631248... Val Loss: -13.667903\n",
      "Epoch: 41/60... Step: 365... Loss: -14.321709... Val Loss: -13.432321\n",
      "Epoch: 42/60... Step: 370... Loss: -13.536543... Val Loss: -13.626491\n",
      "Epoch: 42/60... Step: 375... Loss: -13.333647... Val Loss: -13.833340\n",
      "Epoch: 43/60... Step: 380... Loss: -14.206653... Val Loss: -13.514937\n",
      "Epoch: 43/60... Step: 385... Loss: -13.297872... Val Loss: -13.734852\n",
      "Epoch: 44/60... Step: 390... Loss: -13.723721... Val Loss: -13.364938\n",
      "Epoch: 44/60... Step: 395... Loss: -12.953174... Val Loss: -13.513386\n",
      "Epoch: 45/60... Step: 400... Loss: -15.738346... Val Loss: -13.463470\n",
      "Epoch: 45/60... Step: 405... Loss: -12.386204... Val Loss: -13.181641\n",
      "Epoch: 46/60... Step: 410... Loss: -16.023973... Val Loss: -13.492542\n",
      "Epoch: 47/60... Step: 415... Loss: -13.845833... Val Loss: -13.850350\n",
      "Epoch: 47/60... Step: 420... Loss: -15.920059... Val Loss: -14.417437\n",
      "Epoch: 48/60... Step: 425... Loss: -13.972070... Val Loss: -13.942901\n",
      "Epoch: 48/60... Step: 430... Loss: -14.484852... Val Loss: -12.953135\n",
      "Epoch: 49/60... Step: 435... Loss: -16.032511... Val Loss: -13.970811\n",
      "Epoch: 49/60... Step: 440... Loss: -11.701541... Val Loss: -12.800692\n",
      "Epoch: 50/60... Step: 445... Loss: -14.550399... Val Loss: -13.358663\n",
      "Epoch: 50/60... Step: 450... Loss: -11.923935... Val Loss: -13.233578\n",
      "Epoch: 51/60... Step: 455... Loss: -15.274268... Val Loss: -13.888533\n",
      "Epoch: 52/60... Step: 460... Loss: -12.034485... Val Loss: -12.701350\n",
      "Epoch: 52/60... Step: 465... Loss: -16.630507... Val Loss: -13.926360\n",
      "Epoch: 53/60... Step: 470... Loss: -13.748008... Val Loss: -13.642944\n",
      "Epoch: 53/60... Step: 475... Loss: -17.384089... Val Loss: -15.717313\n",
      "Epoch: 54/60... Step: 480... Loss: -13.382715... Val Loss: -14.528253\n",
      "Epoch: 54/60... Step: 485... Loss: -13.915888... Val Loss: -13.104892\n",
      "Epoch: 55/60... Step: 490... Loss: -13.261271... Val Loss: -14.693275\n",
      "Epoch: 55/60... Step: 495... Loss: -15.951260... Val Loss: -13.070799\n",
      "Epoch: 56/60... Step: 500... Loss: -11.461151... Val Loss: -14.115813\n",
      "Epoch: 57/60... Step: 505... Loss: -14.709124... Val Loss: -12.441758\n",
      "Epoch: 57/60... Step: 510... Loss: -12.505997... Val Loss: -13.957454\n",
      "Epoch: 58/60... Step: 515... Loss: -12.261859... Val Loss: -13.398082\n",
      "Epoch: 58/60... Step: 520... Loss: -14.927538... Val Loss: -14.032197\n",
      "Epoch: 59/60... Step: 525... Loss: -14.363949... Val Loss: -13.143131\n",
      "Epoch: 59/60... Step: 530... Loss: -15.342513... Val Loss: -12.503320\n",
      "Epoch: 60/60... Step: 535... Loss: -12.775995... Val Loss: -14.333553\n",
      "Epoch: 60/60... Step: 540... Loss: -15.044861... Val Loss: -13.678609\n"
     ]
    }
   ],
   "source": [
    "model_LSTM_custom, (loss_list, acc_list, \n",
    "                    overall_val_loss_list) = train_model(model_LSTM_custom, loss_function, 60, 5, LSTM_flag=True)"
   ]
  },
  {
   "cell_type": "code",
   "execution_count": 21,
   "metadata": {},
   "outputs": [
    {
     "data": {
      "text/plain": [
       "LSTM(\n",
       "  (lstm): LSTM(784, 100, num_layers=2, batch_first=True, dropout=0.5)\n",
       "  (dropout): Dropout(p=0.5, inplace=False)\n",
       "  (linear_1): Linear(in_features=100, out_features=50, bias=True)\n",
       "  (linear_2): Linear(in_features=50, out_features=1, bias=True)\n",
       "  (activation): Sigmoid()\n",
       "  (relu): ReLU()\n",
       ")"
      ]
     },
     "execution_count": 21,
     "metadata": {},
     "output_type": "execute_result"
    }
   ],
   "source": [
    "model_LSTM_bce = LSTM(input_size=input_size, output_size=output_size, hidden_dim=hidden_dim, n_layers=n_layers)\n",
    "bce_loss_function = torch.nn.BCELoss()\n",
    "model_LSTM_bce.to(device)"
   ]
  },
  {
   "cell_type": "code",
   "execution_count": 22,
   "metadata": {},
   "outputs": [
    {
     "name": "stdout",
     "output_type": "stream",
     "text": [
      "Epoch: 1/60... Step: 5... Loss: 0.601782... Val Loss: 0.590719\n",
      "Epoch: 2/60... Step: 10... Loss: 0.445008... Val Loss: 0.404826\n",
      "Epoch: 2/60... Step: 15... Loss: 0.316202... Val Loss: 0.311624\n",
      "Epoch: 3/60... Step: 20... Loss: 0.215332... Val Loss: 0.248975\n",
      "Epoch: 3/60... Step: 25... Loss: 0.190846... Val Loss: 0.179747\n",
      "Epoch: 4/60... Step: 30... Loss: 0.122620... Val Loss: 0.123877\n",
      "Epoch: 4/60... Step: 35... Loss: 0.086201... Val Loss: 0.082894\n",
      "Epoch: 5/60... Step: 40... Loss: 0.049946... Val Loss: 0.062588\n",
      "Epoch: 5/60... Step: 45... Loss: 0.047334... Val Loss: 0.056278\n",
      "Epoch: 6/60... Step: 50... Loss: 0.051752... Val Loss: 0.068186\n",
      "Epoch: 7/60... Step: 55... Loss: 0.034629... Val Loss: 0.058111\n",
      "Epoch: 7/60... Step: 60... Loss: 0.043350... Val Loss: 0.063119\n",
      "Epoch: 8/60... Step: 65... Loss: 0.037182... Val Loss: 0.055171\n",
      "Epoch: 8/60... Step: 70... Loss: 0.042268... Val Loss: 0.050838\n",
      "Epoch: 9/60... Step: 75... Loss: 0.030361... Val Loss: 0.049891\n",
      "Epoch: 9/60... Step: 80... Loss: 0.026534... Val Loss: 0.047790\n",
      "Epoch: 10/60... Step: 85... Loss: 0.022077... Val Loss: 0.051801\n",
      "Epoch: 10/60... Step: 90... Loss: 0.021627... Val Loss: 0.057190\n",
      "Epoch: 11/60... Step: 95... Loss: 0.034398... Val Loss: 0.053178\n",
      "Epoch: 12/60... Step: 100... Loss: 0.018709... Val Loss: 0.042147\n",
      "Epoch: 12/60... Step: 105... Loss: 0.019380... Val Loss: 0.041885\n",
      "Epoch: 13/60... Step: 110... Loss: 0.021965... Val Loss: 0.048124\n",
      "Epoch: 13/60... Step: 115... Loss: 0.018611... Val Loss: 0.042414\n",
      "Epoch: 14/60... Step: 120... Loss: 0.018802... Val Loss: 0.041016\n",
      "Epoch: 14/60... Step: 125... Loss: 0.020804... Val Loss: 0.045119\n",
      "Epoch: 15/60... Step: 130... Loss: 0.022365... Val Loss: 0.049815\n",
      "Epoch: 15/60... Step: 135... Loss: 0.012497... Val Loss: 0.033901\n",
      "Epoch: 16/60... Step: 140... Loss: 0.012738... Val Loss: 0.036936\n",
      "Epoch: 17/60... Step: 145... Loss: 0.015461... Val Loss: 0.045923\n",
      "Epoch: 17/60... Step: 150... Loss: 0.017595... Val Loss: 0.054798\n",
      "Epoch: 18/60... Step: 155... Loss: 0.011840... Val Loss: 0.068673\n",
      "Epoch: 18/60... Step: 160... Loss: 0.012349... Val Loss: 0.065643\n",
      "Epoch: 19/60... Step: 165... Loss: 0.016762... Val Loss: 0.052976\n",
      "Epoch: 19/60... Step: 170... Loss: 0.019071... Val Loss: 0.049862\n",
      "Epoch: 20/60... Step: 175... Loss: 0.017131... Val Loss: 0.046997\n",
      "Epoch: 20/60... Step: 180... Loss: 0.013696... Val Loss: 0.061501\n",
      "Epoch: 21/60... Step: 185... Loss: 0.014383... Val Loss: 0.048009\n",
      "Epoch: 22/60... Step: 190... Loss: 0.009411... Val Loss: 0.052428\n",
      "Epoch: 22/60... Step: 195... Loss: 0.014002... Val Loss: 0.051319\n",
      "Epoch: 23/60... Step: 200... Loss: 0.013715... Val Loss: 0.064557\n",
      "Epoch: 23/60... Step: 205... Loss: 0.018887... Val Loss: 0.056423\n",
      "Epoch: 24/60... Step: 210... Loss: 0.012365... Val Loss: 0.058509\n",
      "Epoch: 24/60... Step: 215... Loss: 0.014028... Val Loss: 0.044578\n",
      "Epoch: 25/60... Step: 220... Loss: 0.010321... Val Loss: 0.047900\n",
      "Epoch: 25/60... Step: 225... Loss: 0.007552... Val Loss: 0.051933\n",
      "Epoch: 26/60... Step: 230... Loss: 0.013031... Val Loss: 0.058273\n",
      "Epoch: 27/60... Step: 235... Loss: 0.007140... Val Loss: 0.062269\n",
      "Epoch: 27/60... Step: 240... Loss: 0.015223... Val Loss: 0.058186\n",
      "Epoch: 28/60... Step: 245... Loss: 0.006057... Val Loss: 0.057160\n",
      "Epoch: 28/60... Step: 250... Loss: 0.009994... Val Loss: 0.068500\n",
      "Epoch: 29/60... Step: 255... Loss: 0.020419... Val Loss: 0.071525\n",
      "Epoch: 29/60... Step: 260... Loss: 0.014681... Val Loss: 0.062322\n",
      "Epoch: 30/60... Step: 265... Loss: 0.012009... Val Loss: 0.068601\n",
      "Epoch: 30/60... Step: 270... Loss: 0.010895... Val Loss: 0.037056\n",
      "Epoch: 31/60... Step: 275... Loss: 0.014417... Val Loss: 0.037303\n",
      "Epoch: 32/60... Step: 280... Loss: 0.019730... Val Loss: 0.056722\n",
      "Epoch: 32/60... Step: 285... Loss: 0.012837... Val Loss: 0.037292\n",
      "Epoch: 33/60... Step: 290... Loss: 0.008869... Val Loss: 0.057060\n",
      "Epoch: 33/60... Step: 295... Loss: 0.009508... Val Loss: 0.056327\n",
      "Epoch: 34/60... Step: 300... Loss: 0.008105... Val Loss: 0.051642\n",
      "Epoch: 34/60... Step: 305... Loss: 0.005939... Val Loss: 0.067796\n",
      "Epoch: 35/60... Step: 310... Loss: 0.006964... Val Loss: 0.063047\n",
      "Epoch: 35/60... Step: 315... Loss: 0.009121... Val Loss: 0.072439\n",
      "Epoch: 36/60... Step: 320... Loss: 0.008071... Val Loss: 0.066519\n",
      "Epoch: 37/60... Step: 325... Loss: 0.004629... Val Loss: 0.055862\n",
      "Epoch: 37/60... Step: 330... Loss: 0.006235... Val Loss: 0.058537\n",
      "Epoch: 38/60... Step: 335... Loss: 0.009881... Val Loss: 0.073626\n",
      "Epoch: 38/60... Step: 340... Loss: 0.004466... Val Loss: 0.057546\n",
      "Epoch: 39/60... Step: 345... Loss: 0.004376... Val Loss: 0.060746\n",
      "Epoch: 39/60... Step: 350... Loss: 0.005596... Val Loss: 0.072932\n",
      "Epoch: 40/60... Step: 355... Loss: 0.006429... Val Loss: 0.081084\n",
      "Epoch: 40/60... Step: 360... Loss: 0.005797... Val Loss: 0.058618\n",
      "Epoch: 41/60... Step: 365... Loss: 0.005824... Val Loss: 0.065331\n",
      "Epoch: 42/60... Step: 370... Loss: 0.006398... Val Loss: 0.059648\n",
      "Epoch: 42/60... Step: 375... Loss: 0.004571... Val Loss: 0.086138\n",
      "Epoch: 43/60... Step: 380... Loss: 0.004697... Val Loss: 0.075066\n",
      "Epoch: 43/60... Step: 385... Loss: 0.005516... Val Loss: 0.066704\n",
      "Epoch: 44/60... Step: 390... Loss: 0.008420... Val Loss: 0.079130\n",
      "Epoch: 44/60... Step: 395... Loss: 0.006332... Val Loss: 0.074605\n",
      "Epoch: 45/60... Step: 400... Loss: 0.010228... Val Loss: 0.061394\n",
      "Epoch: 45/60... Step: 405... Loss: 0.007656... Val Loss: 0.067739\n",
      "Epoch: 46/60... Step: 410... Loss: 0.003783... Val Loss: 0.083626\n",
      "Epoch: 47/60... Step: 415... Loss: 0.005114... Val Loss: 0.073017\n",
      "Epoch: 47/60... Step: 420... Loss: 0.005359... Val Loss: 0.063992\n",
      "Epoch: 48/60... Step: 425... Loss: 0.002101... Val Loss: 0.074122\n",
      "Epoch: 48/60... Step: 430... Loss: 0.004548... Val Loss: 0.078008\n",
      "Epoch: 49/60... Step: 435... Loss: 0.005614... Val Loss: 0.094332\n",
      "Epoch: 49/60... Step: 440... Loss: 0.003131... Val Loss: 0.083967\n",
      "Epoch: 50/60... Step: 445... Loss: 0.005639... Val Loss: 0.093468\n",
      "Epoch: 50/60... Step: 450... Loss: 0.003980... Val Loss: 0.080857\n",
      "Epoch: 51/60... Step: 455... Loss: 0.005069... Val Loss: 0.100169\n",
      "Epoch: 52/60... Step: 460... Loss: 0.006384... Val Loss: 0.098884\n",
      "Epoch: 52/60... Step: 465... Loss: 0.010631... Val Loss: 0.077240\n",
      "Epoch: 53/60... Step: 470... Loss: 0.011964... Val Loss: 0.081414\n",
      "Epoch: 53/60... Step: 475... Loss: 0.004350... Val Loss: 0.083526\n",
      "Epoch: 54/60... Step: 480... Loss: 0.005188... Val Loss: 0.079939\n",
      "Epoch: 54/60... Step: 485... Loss: 0.003820... Val Loss: 0.080596\n",
      "Epoch: 55/60... Step: 490... Loss: 0.004588... Val Loss: 0.080935\n",
      "Epoch: 55/60... Step: 495... Loss: 0.003223... Val Loss: 0.084227\n",
      "Epoch: 56/60... Step: 500... Loss: 0.006368... Val Loss: 0.072225\n",
      "Epoch: 57/60... Step: 505... Loss: 0.005829... Val Loss: 0.087298\n",
      "Epoch: 57/60... Step: 510... Loss: 0.007458... Val Loss: 0.076890\n",
      "Epoch: 58/60... Step: 515... Loss: 0.004410... Val Loss: 0.075205\n",
      "Epoch: 58/60... Step: 520... Loss: 0.003553... Val Loss: 0.072597\n",
      "Epoch: 59/60... Step: 525... Loss: 0.006078... Val Loss: 0.084154\n",
      "Epoch: 59/60... Step: 530... Loss: 0.004030... Val Loss: 0.093191\n",
      "Epoch: 60/60... Step: 535... Loss: 0.004031... Val Loss: 0.080419\n",
      "Epoch: 60/60... Step: 540... Loss: 0.003074... Val Loss: 0.083166\n"
     ]
    }
   ],
   "source": [
    "model_LSTM_bce, (bce_loss_list, bce_acc_list, bce_overall_val_loss_list) = train_model(model_LSTM_bce, bce_loss_function, \n",
    "                                                                                       60, 5, LSTM_flag=True)"
   ]
  },
  {
   "cell_type": "code",
   "execution_count": 23,
   "metadata": {},
   "outputs": [
    {
     "data": {
      "text/plain": [
       "LSTM(\n",
       "  (lstm): LSTM(784, 100, num_layers=2, batch_first=True, dropout=0.5)\n",
       "  (dropout): Dropout(p=0.5, inplace=False)\n",
       "  (linear_1): Linear(in_features=100, out_features=50, bias=True)\n",
       "  (linear_2): Linear(in_features=50, out_features=1, bias=True)\n",
       "  (activation): Sigmoid()\n",
       "  (relu): ReLU()\n",
       ")"
      ]
     },
     "execution_count": 23,
     "metadata": {},
     "output_type": "execute_result"
    }
   ],
   "source": [
    "model_LSTM_combined = LSTM(input_size=input_size, output_size=output_size, hidden_dim=hidden_dim, n_layers=n_layers)\n",
    "first_bce_loss_function = torch.nn.BCELoss()\n",
    "second_custom_loss_function = CustomLoss()\n",
    "model_LSTM_combined.to(device)"
   ]
  },
  {
   "cell_type": "code",
   "execution_count": 24,
   "metadata": {},
   "outputs": [
    {
     "name": "stdout",
     "output_type": "stream",
     "text": [
      "Epoch: 1/30... Step: 5... Loss: -1.593004... Val Loss: -1.936965\n",
      "Epoch: 2/30... Step: 10... Loss: -3.138752... Val Loss: -2.283153\n",
      "Epoch: 2/30... Step: 15... Loss: -3.223178... Val Loss: -2.815731\n",
      "Epoch: 3/30... Step: 20... Loss: -3.733777... Val Loss: -4.120877\n",
      "Epoch: 3/30... Step: 25... Loss: -8.134331... Val Loss: -5.780532\n",
      "Epoch: 4/30... Step: 30... Loss: -6.904673... Val Loss: -7.287721\n",
      "Epoch: 4/30... Step: 35... Loss: -7.089154... Val Loss: -8.528045\n",
      "Epoch: 5/30... Step: 40... Loss: -8.377243... Val Loss: -8.608749\n",
      "Epoch: 5/30... Step: 45... Loss: -9.936619... Val Loss: -10.344161\n",
      "Epoch: 6/30... Step: 50... Loss: -10.301812... Val Loss: -10.885713\n",
      "Epoch: 7/30... Step: 55... Loss: -12.476969... Val Loss: -11.326260\n",
      "Epoch: 7/30... Step: 60... Loss: -11.520851... Val Loss: -10.830168\n",
      "Epoch: 8/30... Step: 65... Loss: -11.343795... Val Loss: -11.439355\n",
      "Epoch: 8/30... Step: 70... Loss: -12.914049... Val Loss: -11.293591\n",
      "Epoch: 9/30... Step: 75... Loss: -14.809316... Val Loss: -11.730699\n",
      "Epoch: 9/30... Step: 80... Loss: -12.235044... Val Loss: -11.058402\n",
      "Epoch: 10/30... Step: 85... Loss: -15.363798... Val Loss: -9.012920\n",
      "Epoch: 10/30... Step: 90... Loss: -11.840926... Val Loss: -11.326561\n",
      "Epoch: 11/30... Step: 95... Loss: -12.383961... Val Loss: -11.092240\n",
      "Epoch: 12/30... Step: 100... Loss: -10.681643... Val Loss: -12.897455\n",
      "Epoch: 12/30... Step: 105... Loss: -12.976928... Val Loss: -12.206839\n",
      "Epoch: 13/30... Step: 110... Loss: -12.321962... Val Loss: -12.012185\n",
      "Epoch: 13/30... Step: 115... Loss: -13.315325... Val Loss: -12.102574\n",
      "Epoch: 14/30... Step: 120... Loss: -13.594699... Val Loss: -13.220024\n",
      "Epoch: 14/30... Step: 125... Loss: -12.439245... Val Loss: -10.711601\n",
      "Epoch: 15/30... Step: 130... Loss: -15.391062... Val Loss: -12.228211\n",
      "Epoch: 15/30... Step: 135... Loss: -11.665590... Val Loss: -12.943256\n",
      "Epoch: 16/30... Step: 140... Loss: -13.300285... Val Loss: -12.390953\n",
      "Epoch: 17/30... Step: 145... Loss: -15.135936... Val Loss: -11.978403\n",
      "Epoch: 17/30... Step: 150... Loss: -13.110205... Val Loss: -13.371277\n",
      "Epoch: 18/30... Step: 155... Loss: -12.193467... Val Loss: -11.713060\n",
      "Epoch: 18/30... Step: 160... Loss: -11.037453... Val Loss: -12.650276\n",
      "Epoch: 19/30... Step: 165... Loss: -12.595097... Val Loss: -12.766981\n",
      "Epoch: 19/30... Step: 170... Loss: -12.285042... Val Loss: -11.837035\n",
      "Epoch: 20/30... Step: 175... Loss: -11.238948... Val Loss: -12.231861\n",
      "Epoch: 20/30... Step: 180... Loss: -13.850910... Val Loss: -12.974622\n",
      "Epoch: 21/30... Step: 185... Loss: -13.539806... Val Loss: -11.583407\n",
      "Epoch: 22/30... Step: 190... Loss: -12.976233... Val Loss: -12.289850\n",
      "Epoch: 22/30... Step: 195... Loss: -13.279478... Val Loss: -13.983362\n",
      "Epoch: 23/30... Step: 200... Loss: -14.700517... Val Loss: -13.495929\n",
      "Epoch: 23/30... Step: 205... Loss: -13.671539... Val Loss: -12.391718\n",
      "Epoch: 24/30... Step: 210... Loss: -15.207487... Val Loss: -12.987842\n",
      "Epoch: 24/30... Step: 215... Loss: -12.538694... Val Loss: -13.027114\n",
      "Epoch: 25/30... Step: 220... Loss: -14.179150... Val Loss: -11.422028\n",
      "Epoch: 25/30... Step: 225... Loss: -15.912386... Val Loss: -13.359622\n",
      "Epoch: 26/30... Step: 230... Loss: -14.900283... Val Loss: -12.464127\n",
      "Epoch: 27/30... Step: 235... Loss: -17.617268... Val Loss: -12.458503\n",
      "Epoch: 27/30... Step: 240... Loss: -12.660512... Val Loss: -12.549756\n",
      "Epoch: 28/30... Step: 245... Loss: -9.986239... Val Loss: -11.075718\n",
      "Epoch: 28/30... Step: 250... Loss: -15.276691... Val Loss: -12.468497\n",
      "Epoch: 29/30... Step: 255... Loss: -15.573464... Val Loss: -12.250748\n",
      "Epoch: 29/30... Step: 260... Loss: -13.022270... Val Loss: -12.392523\n",
      "Epoch: 30/30... Step: 265... Loss: -14.624621... Val Loss: -14.542744\n",
      "Epoch: 30/30... Step: 270... Loss: -16.302025... Val Loss: -13.429986\n"
     ]
    }
   ],
   "source": [
    "model_LSTM_combined, _ = train_model(model_LSTM_combined, second_custom_loss_function, 30, 5, \n",
    "                                    LSTM_flag=True)"
   ]
  },
  {
   "cell_type": "code",
   "execution_count": 25,
   "metadata": {},
   "outputs": [
    {
     "name": "stdout",
     "output_type": "stream",
     "text": [
      "Epoch: 1/30... Step: 5... Loss: 0.089439... Val Loss: 0.077297\n",
      "Epoch: 2/30... Step: 10... Loss: 0.039623... Val Loss: 0.056032\n",
      "Epoch: 2/30... Step: 15... Loss: 0.046298... Val Loss: 0.053958\n",
      "Epoch: 3/30... Step: 20... Loss: 0.053868... Val Loss: 0.039597\n",
      "Epoch: 3/30... Step: 25... Loss: 0.034658... Val Loss: 0.042052\n",
      "Epoch: 4/30... Step: 30... Loss: 0.033162... Val Loss: 0.041043\n",
      "Epoch: 4/30... Step: 35... Loss: 0.033238... Val Loss: 0.037554\n",
      "Epoch: 5/30... Step: 40... Loss: 0.040198... Val Loss: 0.033422\n",
      "Epoch: 5/30... Step: 45... Loss: 0.030056... Val Loss: 0.038062\n",
      "Epoch: 6/30... Step: 50... Loss: 0.023138... Val Loss: 0.033207\n",
      "Epoch: 7/30... Step: 55... Loss: 0.030793... Val Loss: 0.033250\n",
      "Epoch: 7/30... Step: 60... Loss: 0.025157... Val Loss: 0.033776\n",
      "Epoch: 8/30... Step: 65... Loss: 0.029752... Val Loss: 0.034094\n",
      "Epoch: 8/30... Step: 70... Loss: 0.016450... Val Loss: 0.035133\n",
      "Epoch: 9/30... Step: 75... Loss: 0.018893... Val Loss: 0.035483\n",
      "Epoch: 9/30... Step: 80... Loss: 0.018967... Val Loss: 0.036910\n",
      "Epoch: 10/30... Step: 85... Loss: 0.023212... Val Loss: 0.038883\n",
      "Epoch: 10/30... Step: 90... Loss: 0.014031... Val Loss: 0.051232\n",
      "Epoch: 11/30... Step: 95... Loss: 0.020111... Val Loss: 0.041442\n",
      "Epoch: 12/30... Step: 100... Loss: 0.032397... Val Loss: 0.047764\n",
      "Epoch: 12/30... Step: 105... Loss: 0.018314... Val Loss: 0.047870\n",
      "Epoch: 13/30... Step: 110... Loss: 0.018294... Val Loss: 0.044791\n",
      "Epoch: 13/30... Step: 115... Loss: 0.018110... Val Loss: 0.041915\n",
      "Epoch: 14/30... Step: 120... Loss: 0.016955... Val Loss: 0.043865\n",
      "Epoch: 14/30... Step: 125... Loss: 0.015889... Val Loss: 0.043655\n",
      "Epoch: 15/30... Step: 130... Loss: 0.014724... Val Loss: 0.042666\n",
      "Epoch: 15/30... Step: 135... Loss: 0.014175... Val Loss: 0.042548\n",
      "Epoch: 16/30... Step: 140... Loss: 0.013860... Val Loss: 0.043781\n",
      "Epoch: 17/30... Step: 145... Loss: 0.016522... Val Loss: 0.053643\n",
      "Epoch: 17/30... Step: 150... Loss: 0.014326... Val Loss: 0.047911\n",
      "Epoch: 18/30... Step: 155... Loss: 0.018022... Val Loss: 0.049636\n",
      "Epoch: 18/30... Step: 160... Loss: 0.012478... Val Loss: 0.057584\n",
      "Epoch: 19/30... Step: 165... Loss: 0.011063... Val Loss: 0.071211\n",
      "Epoch: 19/30... Step: 170... Loss: 0.012428... Val Loss: 0.053673\n",
      "Epoch: 20/30... Step: 175... Loss: 0.010493... Val Loss: 0.051819\n",
      "Epoch: 20/30... Step: 180... Loss: 0.012950... Val Loss: 0.056082\n",
      "Epoch: 21/30... Step: 185... Loss: 0.009132... Val Loss: 0.057264\n",
      "Epoch: 22/30... Step: 190... Loss: 0.012140... Val Loss: 0.055255\n",
      "Epoch: 22/30... Step: 195... Loss: 0.011560... Val Loss: 0.054382\n",
      "Epoch: 23/30... Step: 200... Loss: 0.010015... Val Loss: 0.057743\n",
      "Epoch: 23/30... Step: 205... Loss: 0.012053... Val Loss: 0.064542\n",
      "Epoch: 24/30... Step: 210... Loss: 0.012897... Val Loss: 0.048669\n",
      "Epoch: 24/30... Step: 215... Loss: 0.011184... Val Loss: 0.064337\n",
      "Epoch: 25/30... Step: 220... Loss: 0.011236... Val Loss: 0.070336\n",
      "Epoch: 25/30... Step: 225... Loss: 0.012263... Val Loss: 0.068801\n",
      "Epoch: 26/30... Step: 230... Loss: 0.009176... Val Loss: 0.062412\n",
      "Epoch: 27/30... Step: 235... Loss: 0.008146... Val Loss: 0.068958\n",
      "Epoch: 27/30... Step: 240... Loss: 0.011276... Val Loss: 0.071386\n",
      "Epoch: 28/30... Step: 245... Loss: 0.009618... Val Loss: 0.075219\n",
      "Epoch: 28/30... Step: 250... Loss: 0.007492... Val Loss: 0.078754\n",
      "Epoch: 29/30... Step: 255... Loss: 0.004006... Val Loss: 0.079659\n",
      "Epoch: 29/30... Step: 260... Loss: 0.009520... Val Loss: 0.085634\n",
      "Epoch: 30/30... Step: 265... Loss: 0.009389... Val Loss: 0.089295\n",
      "Epoch: 30/30... Step: 270... Loss: 0.010622... Val Loss: 0.077455\n"
     ]
    }
   ],
   "source": [
    "model_LSTM_combined, __ = train_model(model_LSTM_combined, first_bce_loss_function, 30, 5, \n",
    "                                      LSTM_flag=True)"
   ]
  },
  {
   "cell_type": "code",
   "execution_count": 26,
   "metadata": {},
   "outputs": [],
   "source": [
    "def evaluate_metrics(y_true, y_pred, threshold=0.5):\n",
    "    \"\"\"\n",
    "    Evaluate metrics for change point detection\n",
    "    We assume, that there is no more than one change index in data (so, either 0 or 1 change)\n",
    "    Inputs\n",
    "    y_true : torch.Tensor\n",
    "      true labels\n",
    "    y_pred : torch.Tensor\n",
    "      change probabiltiy\n",
    "    threshold : float\n",
    "      detection threshold\n",
    "      \n",
    "    Returns\n",
    "    false_positive : int\n",
    "      number of false positives\n",
    "    false_negative : int\n",
    "      number of false negatives\n",
    "    delay : int\n",
    "      detection delay\n",
    "    accuracy : float\n",
    "      y_pred accuracy given y_truei\n",
    "    \"\"\"\n",
    "    delay = 0\n",
    "    false_positive = 0\n",
    "    false_negative = 0\n",
    "    true_negative = 0\n",
    "\n",
    "    index_real = torch.where(y_true != y_true[0])[0] # indexes with real changes\n",
    "    index_detected = torch.where((y_pred > threshold).long() != y_true[0])[0] # indexes with predicted changes\n",
    "\n",
    "    if len(index_real) > 0:\n",
    "        real_change_index = index_real[0]\n",
    "\n",
    "        if len(index_detected) > 0:\n",
    "            index_sub_detected = torch.where(index_detected >= real_change_index)[0]\n",
    "\n",
    "            if len(index_sub_detected) == len(index_detected):\n",
    "                false_positive_delay = real_change_index.item()\n",
    "                detected_change_index = index_detected[0]\n",
    "                delay = (detected_change_index - real_change_index).item()\n",
    "            else:\n",
    "                false_positive_delay = index_detected[0].item()\n",
    "                delay = 0\n",
    "                false_positive += 1\n",
    "                \n",
    "        else:\n",
    "            false_positive_delay = seq_len\n",
    "            delay = (seq_len - real_change_index).item()\n",
    "            false_negative += 1\n",
    "\n",
    "    else:\n",
    "        if len(index_detected) > 0:\n",
    "            false_positive_delay = index_detected[0].item()\n",
    "            false_positive += 1\n",
    "        else:\n",
    "            false_positive_delay = seq_len\n",
    "            true_negative += 1\n",
    "    \n",
    "    accuracy = ((y_pred > threshold).long() == y_true).float().mean().item()\n",
    "    \n",
    "    return false_positive, false_negative, delay, false_positive_delay, accuracy"
   ]
  },
  {
   "cell_type": "code",
   "execution_count": 27,
   "metadata": {},
   "outputs": [],
   "source": [
    "def get_quality_metrics(test_loader, model, threshold=0.5, LSTM_flag=True):\n",
    "    test_loss_list = []\n",
    "    test_acc_list = []\n",
    "\n",
    "    positive_number = 0 \n",
    "    negative_number = 0\n",
    "    fp_list = []\n",
    "    fn_list = []\n",
    "    delay_list = []\n",
    "    fp_delay_list = []\n",
    "    accuracy_list = []\n",
    "\n",
    "    model.eval()\n",
    "    for test_inputs, test_true_labels in test_loader:\n",
    "\n",
    "        if test_inputs.shape[0] < test_batch_size:\n",
    "            break\n",
    "            \n",
    "        test_inputs, test_true_labels = test_inputs.to(device), test_true_labels.to(device)\n",
    "\n",
    "        if LSTM_flag:\n",
    "            test_hidden = model.init_hidden(batch_size)\n",
    "            #test_hidden = tuple([each.data for each in test_hidden])\n",
    "            test_predictions, test_hidden = model(test_inputs, test_hidden)\n",
    "        else:\n",
    "            test_predictions = model(test_inputs)\n",
    "            \n",
    "        test_loss = loss_function(test_predictions.squeeze(), test_true_labels.float())\n",
    "        test_loss_list += [test_loss.cpu().clone().detach()]\n",
    "\n",
    "        for i in range(0, test_batch_size):\n",
    "            curr_labels = test_true_labels[i]\n",
    "            curr_predictions = test_predictions[i]\n",
    "            \n",
    "            # torch.rand_like\n",
    "            curr_fp, curr_fn, curr_delay, curr_fp_delay, curr_accuracy = evaluate_metrics(curr_labels, curr_predictions, \n",
    "                                                                           threshold)\n",
    "\n",
    "            max_difference = np.abs((curr_labels.max() - curr_labels.min()).item())\n",
    "            if max_difference: \n",
    "                delay_list.append(curr_delay)\n",
    "            positive_number += (max_difference > 0)\n",
    "            negative_number += 1 - (max_difference > 0)\n",
    "\n",
    "            fp_list.append(curr_fp)\n",
    "            fn_list.append(curr_fn)\n",
    "            fp_delay_list.append(curr_fp_delay)\n",
    "            accuracy_list.append(curr_accuracy)\n",
    "\n",
    "        test_acc_list.append(np.mean(accuracy_list[-test_batch_size:]))\n",
    "        \n",
    "    return (positive_number, negative_number, np.mean(test_loss_list), np.mean(test_acc_list), np.mean(delay_list),\n",
    "            np.mean(fp_delay_list), np.sum(fp_list), np.sum(fn_list))"
   ]
  },
  {
   "cell_type": "code",
   "execution_count": 28,
   "metadata": {},
   "outputs": [],
   "source": [
    "def get_pareto_metrics_for_threshold(model, test_loader, threshold_list, LSTM_flag=True):\n",
    "    fp_number_list = []\n",
    "    fn_number_list = []\n",
    "    delay_list = []\n",
    "    fp_delay_list = []\n",
    "    for threshold in threshold_list:\n",
    "        # test_loader = prepare_loader(test_data, test_labels, seq_len, input_size, batch_size)\n",
    "\n",
    "        (positive_number, negative_number, test_loss, \n",
    "         test_acc, mean_delay, mean_fp_delay, fp_number, fn_number) = get_quality_metrics(test_loader, model, threshold, LSTM_flag)\n",
    "\n",
    "        fp_number_list.append(fp_number)\n",
    "        fn_number_list.append(fn_number)\n",
    "        delay_list.append(mean_delay)\n",
    "        fp_delay_list.append(mean_fp_delay)\n",
    "        #print(threshold, fp_number, fn_number, mean_delay, mean_fp_delay)\n",
    "    \n",
    "    return fp_number_list, fn_number_list, delay_list, fp_delay_list"
   ]
  },
  {
   "cell_type": "code",
   "execution_count": 29,
   "metadata": {},
   "outputs": [
    {
     "data": {
      "text/plain": [
       "[<matplotlib.lines.Line2D at 0x7fb7526553d0>]"
      ]
     },
     "execution_count": 29,
     "metadata": {},
     "output_type": "execute_result"
    },
    {
     "data": {
      "image/png": "[encoded data removed]",
      "text/plain": [
       "<Figure size 432x288 with 1 Axes>"
      ]
     },
     "metadata": {
      "needs_background": "light"
     },
     "output_type": "display_data"
    }
   ],
   "source": [
    "threshold_number = 200\n",
    "threshold_list = np.linspace(-15, 15, threshold_number)\n",
    "threshold_list = 1 / (1 + np.exp(-threshold_list))\n",
    "threshold_list = [-0.001] + list(threshold_list) + [1.001]\n",
    "plt.plot(np.linspace(0.01, 1, threshold_number + 2), threshold_list)"
   ]
  },
  {
   "cell_type": "code",
   "execution_count": 30,
   "metadata": {},
   "outputs": [],
   "source": [
    "test_batch_size = 64\n",
    "final_test_loader = prepare_loader(test_data, test_labels, seq_len, input_size, test_batch_size, shuffle=False)\n",
    "\n",
    "(fp_number_list_LSTM_bce, fn_number_list_LSTM_bce, \n",
    " delay_list_LSTM_bce, fp_delay_list_LSTM_bce) = get_pareto_metrics_for_threshold(model_LSTM_bce, final_test_loader, \n",
    "                                                                                 threshold_list, LSTM_flag=True)"
   ]
  },
  {
   "cell_type": "code",
   "execution_count": 31,
   "metadata": {},
   "outputs": [],
   "source": [
    "test_batch_size = 64\n",
    "final_test_loader = prepare_loader(test_data, test_labels, seq_len, input_size, test_batch_size, shuffle=False)\n",
    "\n",
    "(fp_number_list_LSTM_custom, fn_number_list_LSTM_custom, \n",
    " delay_list_LSTM_custom, fp_delay_list_LSTM_custom) = get_pareto_metrics_for_threshold(model_LSTM_custom, final_test_loader, \n",
    "                                                                                       threshold_list, LSTM_flag=True)"
   ]
  },
  {
   "cell_type": "code",
   "execution_count": 32,
   "metadata": {},
   "outputs": [],
   "source": [
    "test_batch_size = 64\n",
    "final_test_loader = prepare_loader(test_data, test_labels, seq_len, input_size, test_batch_size, shuffle=False)\n",
    "\n",
    "(fp_number_list_LSTM_combined, fn_number_list_LSTM_combined, delay_list_LSTM_combined, fp_delay_list_LSTM_combined) = get_pareto_metrics_for_threshold(model_LSTM_combined, final_test_loader, threshold_list, LSTM_flag=True)"
   ]
  },
  {
   "cell_type": "code",
   "execution_count": 33,
   "metadata": {},
   "outputs": [
    {
     "data": {
      "image/png": "[encoded data removed]",
      "text/plain": [
       "<Figure size 864x864 with 1 Axes>"
      ]
     },
     "metadata": {
      "needs_background": "light"
     },
     "output_type": "display_data"
    }
   ],
   "source": [
    "plt.figure(figsize=(12, 12))\n",
    "plt.plot(fp_delay_list_LSTM_custom, delay_list_LSTM_custom, '-o', markersize=4, label='Custom (ours)')\n",
    "plt.plot(fp_delay_list_LSTM_bce, delay_list_LSTM_bce, '-d', markersize=4, label='BCE')\n",
    "plt.plot(fp_delay_list_LSTM_combined, delay_list_LSTM_combined, '--s', markersize=4, label='Combined (ours)')\n",
    "\n",
    "plt.xlabel('Mean Time to False Alarm', fontsize=28)\n",
    "plt.ylabel('Mean Detection Delay', fontsize=28)\n",
    "plt.xticks(fontsize=24)\n",
    "plt.yticks(fontsize=24)\n",
    "plt.legend(loc='upper left', fontsize=26);\n",
    "plt.savefig('mnist_4_in_7_curve.pdf', bbox_inches='tight')"
   ]
  },
  {
   "cell_type": "code",
   "execution_count": null,
   "metadata": {},
   "outputs": [],
   "source": [
    "def save_metrics_to_file_new_version(model_name, model, test_loader, batch_size,\n",
    "                                     seq_len, fp_delay, threshold_list, x_coord_arr, path_to_save = \"\"):\n",
    "  columns_list = [\"Model name\", \"Mean FP delay\", \"Mean delay\", \"Threshold\", \"TP\", \"TN\", \"FP\", \"FN\", \"Acc\",\n",
    "                \"Precision\", \"Recall\", \"F1-score\", \"G-mean\"]\n",
    "  data_model_results = metrics_by_fp_delay_x_coord(model_name, model, test_loader, batch_size, seq_len,\n",
    "                                                   fp_delay, threshold_list, x_coord_arr)\n",
    "  df_main = pd.DataFrame(data_model_results, columns = columns_list)\n",
    "  df_main.to_excel(os.path.join(path_to_save, model_name + \".xlsx\" ), index = False)"
   ]
  },
  {
   "cell_type": "code",
   "execution_count": 35,
   "metadata": {},
   "outputs": [],
   "source": [
    "%load_ext autoreload\n",
    "%autoreload 1\n",
    "%aimport metrics\n"
   ]
  },
  {
   "cell_type": "code",
   "execution_count": 52,
   "metadata": {},
   "outputs": [
    {
     "data": {
      "text/plain": [
       "LSTM(\n",
       "  (lstm): LSTM(784, 100, num_layers=2, batch_first=True, dropout=0.5)\n",
       "  (dropout): Dropout(p=0.5, inplace=False)\n",
       "  (linear_1): Linear(in_features=100, out_features=50, bias=True)\n",
       "  (linear_2): Linear(in_features=50, out_features=1, bias=True)\n",
       "  (activation): Sigmoid()\n",
       "  (relu): ReLU()\n",
       ")"
      ]
     },
     "execution_count": 52,
     "metadata": {},
     "output_type": "execute_result"
    }
   ],
   "source": [
    "model_LSTM_custom.to('cuda:0')"
   ]
  },
  {
   "cell_type": "code",
   "execution_count": 54,
   "metadata": {},
   "outputs": [
    {
     "name": "stdout",
     "output_type": "stream",
     "text": [
      "33.984375 0.33662029495232143 35.078125 0.3710679107501842 35\n",
      "TP: 12 TN: 29 FP: 23 FN: 0 DELAY: 0.125 FP_DELAY 43.671875\n",
      "39.5625 0.9564971876670771 43.546875 0.9623558248267451 39.99\n",
      "TP: 14 TN: 38 FP: 6 FN: 6 DELAY: 5.21875 FP_DELAY 50.515625\n",
      "43.546875 0.9623558248267451 48.21875 0.9674523120684658 45\n",
      "TP: 7 TN: 36 FP: 2 FN: 19 DELAY: 10.328125 FP_DELAY 57.28125\n",
      "48.21875 0.9674523120684658 53.96875 0.9718789695244026 50\n",
      "TP: 6 TN: 38 FP: 1 FN: 19 DELAY: 10.0625 FP_DELAY 58.578125\n"
     ]
    }
   ],
   "source": [
    "metrics.save_metrics_to_file_new_version('Custom', model_LSTM_custom, val_loader, batch_size=64,\n",
    "                                         seq_len=64, fp_delay=fp_delay_list_LSTM_custom, \n",
    "                                         threshold_list=threshold_list, \n",
    "                                         x_coord_arr=[35, 39.99, 45, 50], path_to_save = \"\")"
   ]
  },
  {
   "cell_type": "code",
   "execution_count": 45,
   "metadata": {},
   "outputs": [
    {
     "data": {
      "text/plain": [
       "413.57017686631946"
      ]
     },
     "execution_count": 45,
     "metadata": {},
     "output_type": "execute_result"
    }
   ],
   "source": [
    "metrics.area_under_graph(delay_list_LSTM_custom, fp_delay_list_LSTM_custom)"
   ]
  },
  {
   "cell_type": "code",
   "execution_count": 64,
   "metadata": {},
   "outputs": [
    {
     "data": {
      "text/plain": [
       "LSTM(\n",
       "  (lstm): LSTM(784, 100, num_layers=2, batch_first=True, dropout=0.5)\n",
       "  (dropout): Dropout(p=0.5, inplace=False)\n",
       "  (linear_1): Linear(in_features=100, out_features=50, bias=True)\n",
       "  (linear_2): Linear(in_features=50, out_features=1, bias=True)\n",
       "  (activation): Sigmoid()\n",
       "  (relu): ReLU()\n",
       ")"
      ]
     },
     "execution_count": 64,
     "metadata": {},
     "output_type": "execute_result"
    }
   ],
   "source": [
    "model_LSTM_bce.to('cuda:0')"
   ]
  },
  {
   "cell_type": "code",
   "execution_count": 65,
   "metadata": {},
   "outputs": [
    {
     "name": "stdout",
     "output_type": "stream",
     "text": [
      "34.328125 0.02812103047559733 35.375 0.03254768793153412 35\n",
      "TP: 12 TN: 35 FP: 17 FN: 0 DELAY: 0.265625 FP_DELAY 43.5\n",
      "38.421875 0.9999401505276208 57.96875 0.9999485254648226 39.9\n",
      "TP: 27 TN: 35 FP: 1 FN: 1 DELAY: 5.890625 FP_DELAY 47.953125\n",
      "38.421875 0.9999401505276208 57.96875 0.9999485254648226 45\n",
      "TP: 22 TN: 34 FP: 1 FN: 7 DELAY: 9.84375 FP_DELAY 50.796875\n",
      "38.421875 0.9999401505276208 57.96875 0.9999485254648226 50\n",
      "TP: 16 TN: 33 FP: 1 FN: 14 DELAY: 13.75 FP_DELAY 55.203125\n"
     ]
    }
   ],
   "source": [
    "metrics.save_metrics_to_file_new_version('BCE', model_LSTM_bce, val_loader, batch_size=64,\n",
    "                                         seq_len=64, fp_delay=fp_delay_list_LSTM_bce, \n",
    "                                         threshold_list=threshold_list, \n",
    "                                         x_coord_arr=[35, 39.9, 45, 50], path_to_save = \"\")"
   ]
  },
  {
   "cell_type": "code",
   "execution_count": 66,
   "metadata": {},
   "outputs": [
    {
     "data": {
      "text/plain": [
       "788.3809070121953"
      ]
     },
     "execution_count": 66,
     "metadata": {},
     "output_type": "execute_result"
    }
   ],
   "source": [
    "metrics.area_under_graph(delay_list_LSTM_bce, fp_delay_list_LSTM_bce)"
   ]
  },
  {
   "cell_type": "code",
   "execution_count": 68,
   "metadata": {},
   "outputs": [
    {
     "name": "stdout",
     "output_type": "stream",
     "text": [
      "34.984375 0.01807518260025041 35.125 0.020954573680812282 35\n",
      "TP: 8 TN: 35 FP: 21 FN: 0 DELAY: 0.03125 FP_DELAY 46.4375\n",
      "38.71875 0.9998521398034467 58.515625 0.9998728288098837 40\n",
      "TP: 26 TN: 37 FP: 0 FN: 1 DELAY: 6.375 FP_DELAY 47.84375\n",
      "38.71875 0.9998521398034467 58.515625 0.9998728288098837 45\n",
      "TP: 19 TN: 34 FP: 0 FN: 11 DELAY: 11.359375 FP_DELAY 52.953125\n",
      "38.71875 0.9998521398034467 58.515625 0.9998728288098837 50\n",
      "TP: 9 TN: 40 FP: 0 FN: 15 DELAY: 12.015625 FP_DELAY 58.875\n"
     ]
    }
   ],
   "source": [
    "metrics.save_metrics_to_file_new_version('Cobined', model_LSTM_combined, val_loader, batch_size=64,\n",
    "                                         seq_len=64, fp_delay=fp_delay_list_LSTM_combined, \n",
    "                                         threshold_list=threshold_list, \n",
    "                                         x_coord_arr=[35, 40, 45, 50], path_to_save = \"\")"
   ]
  },
  {
   "cell_type": "code",
   "execution_count": 69,
   "metadata": {},
   "outputs": [
    {
     "data": {
      "text/plain": [
       "786.539824695122"
      ]
     },
     "execution_count": 69,
     "metadata": {},
     "output_type": "execute_result"
    }
   ],
   "source": [
    "metrics.area_under_graph(delay_list_LSTM_combined, fp_delay_list_LSTM_combined)"
   ]
  },
  {
   "cell_type": "code",
   "execution_count": null,
   "metadata": {},
   "outputs": [],
   "source": []
  },
  {
   "cell_type": "code",
   "execution_count": null,
   "metadata": {},
   "outputs": [],
   "source": []
  },
  {
   "cell_type": "code",
   "execution_count": 60,
   "metadata": {},
   "outputs": [
    {
     "data": {
      "text/plain": [
       "LSTM(\n",
       "  (lstm): LSTM(784, 100, num_layers=2, batch_first=True, dropout=0.5)\n",
       "  (dropout): Dropout(p=0.5, inplace=False)\n",
       "  (linear_1): Linear(in_features=100, out_features=50, bias=True)\n",
       "  (linear_2): Linear(in_features=50, out_features=1, bias=True)\n",
       "  (activation): Sigmoid()\n",
       "  (relu): ReLU()\n",
       ")"
      ]
     },
     "execution_count": 60,
     "metadata": {},
     "output_type": "execute_result"
    }
   ],
   "source": [
    "model_LSTM_combined.to('cuda:0')"
   ]
  },
  {
   "cell_type": "code",
   "execution_count": 62,
   "metadata": {},
   "outputs": [
    {
     "name": "stdout",
     "output_type": "stream",
     "text": [
      "33.984375 0.33662029495232143 35.078125 0.3710679107501842 35\n",
      "TP: 18 TN: 36 FP: 10 FN: 0 DELAY: 0.4375 FP_DELAY 46.375\n",
      "39.5625 0.9564971876670771 43.546875 0.9623558248267451 39.99\n",
      "TP: 22 TN: 33 FP: 9 FN: 0 DELAY: 0.609375 FP_DELAY 44.703125\n",
      "43.546875 0.9623558248267451 48.21875 0.9674523120684658 45\n",
      "TP: 20 TN: 36 FP: 8 FN: 0 DELAY: 0.59375 FP_DELAY 47.453125\n",
      "48.21875 0.9674523120684658 53.96875 0.9718789695244026 50\n",
      "TP: 17 TN: 39 FP: 8 FN: 0 DELAY: 0.28125 FP_DELAY 48.609375\n"
     ]
    }
   ],
   "source": [
    "metrics.save_metrics_to_file_new_version('Combined', model_LSTM_bce, val_loader, batch_size=64,\n",
    "                                         seq_len=64, fp_delay=fp_delay_list_LSTM_custom, \n",
    "                                         threshold_list=threshold_list, \n",
    "                                         x_coord_arr=[35, 39.99, 45, 50], path_to_save = \"\")"
   ]
  },
  {
   "cell_type": "markdown",
   "metadata": {},
   "source": [
    "# WS"
   ]
  },
  {
   "cell_type": "code",
   "execution_count": null,
   "metadata": {},
   "outputs": [],
   "source": []
  },
  {
   "cell_type": "code",
   "execution_count": 36,
   "metadata": {},
   "outputs": [
    {
     "name": "stderr",
     "output_type": "stream",
     "text": [
      "\r",
      "  0%|          | 0/15 [00:00<?, ?it/s]"
     ]
    },
    {
     "name": "stdout",
     "output_type": "stream",
     "text": [
      "Epoch: 12/60... Step: 100... Loss: -8.948978... Val Loss: -8.601395\n",
      "Epoch: 23/60... Step: 200... Loss: -9.340742... Val Loss: -11.946132\n",
      "Epoch: 34/60... Step: 300... Loss: -10.459198... Val Loss: -12.034127\n",
      "Epoch: 45/60... Step: 400... Loss: -14.426385... Val Loss: -12.225543\n",
      "Epoch: 56/60... Step: 500... Loss: -12.491844... Val Loss: -11.603811\n"
     ]
    },
    {
     "name": "stderr",
     "output_type": "stream",
     "text": [
      "\r",
      "  7%|▋         | 1/15 [03:59<55:51, 239.38s/it]"
     ]
    },
    {
     "name": "stdout",
     "output_type": "stream",
     "text": [
      "Epoch: 12/60... Step: 100... Loss: -9.864717... Val Loss: -9.795673\n",
      "Epoch: 23/60... Step: 200... Loss: -14.566732... Val Loss: -10.613674\n",
      "Epoch: 34/60... Step: 300... Loss: -8.424088... Val Loss: -10.714851\n",
      "Epoch: 45/60... Step: 400... Loss: -11.433832... Val Loss: -10.913294\n",
      "Epoch: 56/60... Step: 500... Loss: -13.631280... Val Loss: -13.638002\n"
     ]
    },
    {
     "name": "stderr",
     "output_type": "stream",
     "text": [
      "\r",
      " 13%|█▎        | 2/15 [08:02<52:05, 240.41s/it]"
     ]
    },
    {
     "name": "stdout",
     "output_type": "stream",
     "text": [
      "Epoch: 12/60... Step: 100... Loss: -11.296511... Val Loss: -12.082672\n",
      "Epoch: 23/60... Step: 200... Loss: -15.592840... Val Loss: -13.010384\n",
      "Epoch: 34/60... Step: 300... Loss: -13.359602... Val Loss: -11.988082\n",
      "Epoch: 45/60... Step: 400... Loss: -13.668680... Val Loss: -9.383632\n",
      "Epoch: 56/60... Step: 500... Loss: -13.717839... Val Loss: -13.227301\n"
     ]
    },
    {
     "name": "stderr",
     "output_type": "stream",
     "text": [
      "\r",
      " 20%|██        | 3/15 [12:08<48:26, 242.21s/it]"
     ]
    },
    {
     "name": "stdout",
     "output_type": "stream",
     "text": [
      "Epoch: 12/60... Step: 100... Loss: -14.665328... Val Loss: -12.371352\n",
      "Epoch: 23/60... Step: 200... Loss: -13.792182... Val Loss: -12.553322\n",
      "Epoch: 34/60... Step: 300... Loss: -12.123559... Val Loss: -13.471211\n",
      "Epoch: 45/60... Step: 400... Loss: -15.718581... Val Loss: -12.810280\n",
      "Epoch: 56/60... Step: 500... Loss: -14.226028... Val Loss: -13.647045\n"
     ]
    },
    {
     "name": "stderr",
     "output_type": "stream",
     "text": [
      "\r",
      " 27%|██▋       | 4/15 [16:12<44:31, 242.84s/it]"
     ]
    },
    {
     "name": "stdout",
     "output_type": "stream",
     "text": [
      "Epoch: 12/60... Step: 100... Loss: -13.384299... Val Loss: -11.959116\n",
      "Epoch: 23/60... Step: 200... Loss: -8.418479... Val Loss: -12.568864\n",
      "Epoch: 34/60... Step: 300... Loss: -12.732450... Val Loss: -14.517457\n",
      "Epoch: 45/60... Step: 400... Loss: -11.700607... Val Loss: -13.210920\n",
      "Epoch: 56/60... Step: 500... Loss: -11.550230... Val Loss: -11.236339\n"
     ]
    },
    {
     "name": "stderr",
     "output_type": "stream",
     "text": [
      "\r",
      " 33%|███▎      | 5/15 [20:17<40:33, 243.39s/it]"
     ]
    },
    {
     "name": "stdout",
     "output_type": "stream",
     "text": [
      "Epoch: 12/60... Step: 100... Loss: -13.614651... Val Loss: -10.382387\n",
      "Epoch: 23/60... Step: 200... Loss: -15.195056... Val Loss: -13.641518\n",
      "Epoch: 34/60... Step: 300... Loss: -12.243919... Val Loss: -13.446699\n",
      "Epoch: 45/60... Step: 400... Loss: -12.288088... Val Loss: -13.886528\n",
      "Epoch: 56/60... Step: 500... Loss: -10.217720... Val Loss: -14.263110\n"
     ]
    },
    {
     "name": "stderr",
     "output_type": "stream",
     "text": [
      "\r",
      " 40%|████      | 6/15 [24:22<36:34, 243.86s/it]"
     ]
    },
    {
     "name": "stdout",
     "output_type": "stream",
     "text": [
      "Epoch: 12/60... Step: 100... Loss: -11.771634... Val Loss: -9.239702\n",
      "Epoch: 23/60... Step: 200... Loss: -14.358560... Val Loss: -11.904220\n",
      "Epoch: 34/60... Step: 300... Loss: -15.476042... Val Loss: -13.165354\n",
      "Epoch: 45/60... Step: 400... Loss: -12.203472... Val Loss: -12.696588\n",
      "Epoch: 56/60... Step: 500... Loss: -14.662278... Val Loss: -12.214562\n"
     ]
    },
    {
     "name": "stderr",
     "output_type": "stream",
     "text": [
      "\r",
      " 47%|████▋     | 7/15 [28:26<32:29, 243.75s/it]"
     ]
    },
    {
     "name": "stdout",
     "output_type": "stream",
     "text": [
      "Epoch: 12/60... Step: 100... Loss: -13.489098... Val Loss: -9.227231\n",
      "Epoch: 23/60... Step: 200... Loss: -15.383813... Val Loss: -12.386928\n",
      "Epoch: 34/60... Step: 300... Loss: -15.305426... Val Loss: -11.960211\n",
      "Epoch: 45/60... Step: 400... Loss: -14.471086... Val Loss: -13.004426\n",
      "Epoch: 56/60... Step: 500... Loss: -14.345957... Val Loss: -12.616074\n"
     ]
    },
    {
     "name": "stderr",
     "output_type": "stream",
     "text": [
      "\r",
      " 53%|█████▎    | 8/15 [32:29<28:25, 243.59s/it]"
     ]
    },
    {
     "name": "stdout",
     "output_type": "stream",
     "text": [
      "Epoch: 12/60... Step: 100... Loss: -10.954101... Val Loss: -9.928782\n",
      "Epoch: 23/60... Step: 200... Loss: -18.147247... Val Loss: -12.557571\n",
      "Epoch: 34/60... Step: 300... Loss: -12.430506... Val Loss: -13.267557\n",
      "Epoch: 45/60... Step: 400... Loss: -12.537983... Val Loss: -13.045535\n",
      "Epoch: 56/60... Step: 500... Loss: -14.376808... Val Loss: -13.171333\n"
     ]
    },
    {
     "name": "stderr",
     "output_type": "stream",
     "text": [
      "\r",
      " 60%|██████    | 9/15 [36:33<24:23, 243.85s/it]"
     ]
    },
    {
     "name": "stdout",
     "output_type": "stream",
     "text": [
      "Epoch: 12/60... Step: 100... Loss: -10.640850... Val Loss: -10.638517\n",
      "Epoch: 23/60... Step: 200... Loss: -12.024364... Val Loss: -12.225169\n",
      "Epoch: 34/60... Step: 300... Loss: -12.239944... Val Loss: -12.569654\n",
      "Epoch: 45/60... Step: 400... Loss: -15.931326... Val Loss: -14.714356\n",
      "Epoch: 56/60... Step: 500... Loss: -14.670912... Val Loss: -13.861183\n"
     ]
    },
    {
     "name": "stderr",
     "output_type": "stream",
     "text": [
      "\r",
      " 67%|██████▋   | 10/15 [40:36<20:18, 243.66s/it]"
     ]
    },
    {
     "name": "stdout",
     "output_type": "stream",
     "text": [
      "Epoch: 12/60... Step: 100... Loss: -13.109787... Val Loss: -12.858098\n",
      "Epoch: 23/60... Step: 200... Loss: -15.597935... Val Loss: -12.335037\n",
      "Epoch: 34/60... Step: 300... Loss: -12.665998... Val Loss: -11.127727\n",
      "Epoch: 45/60... Step: 400... Loss: -13.114093... Val Loss: -13.787942\n",
      "Epoch: 56/60... Step: 500... Loss: -16.954880... Val Loss: -13.512111\n"
     ]
    },
    {
     "name": "stderr",
     "output_type": "stream",
     "text": [
      "\r",
      " 73%|███████▎  | 11/15 [44:41<16:15, 243.81s/it]"
     ]
    },
    {
     "name": "stdout",
     "output_type": "stream",
     "text": [
      "Epoch: 12/60... Step: 100... Loss: -12.445431... Val Loss: -10.887706\n",
      "Epoch: 23/60... Step: 200... Loss: -14.601403... Val Loss: -14.206320\n",
      "Epoch: 34/60... Step: 300... Loss: -15.039373... Val Loss: -13.328572\n",
      "Epoch: 45/60... Step: 400... Loss: -12.471601... Val Loss: -13.090009\n",
      "Epoch: 56/60... Step: 500... Loss: -12.581079... Val Loss: -12.744399\n"
     ]
    },
    {
     "name": "stderr",
     "output_type": "stream",
     "text": [
      "\r",
      " 80%|████████  | 12/15 [48:43<12:10, 243.44s/it]"
     ]
    },
    {
     "name": "stdout",
     "output_type": "stream",
     "text": [
      "Epoch: 12/60... Step: 100... Loss: -11.368265... Val Loss: -11.488917\n",
      "Epoch: 23/60... Step: 200... Loss: -13.362464... Val Loss: -12.557592\n",
      "Epoch: 34/60... Step: 300... Loss: -13.042405... Val Loss: -13.383077\n",
      "Epoch: 45/60... Step: 400... Loss: -17.067913... Val Loss: -13.078645\n",
      "Epoch: 56/60... Step: 500... Loss: -12.563967... Val Loss: -12.487782\n"
     ]
    },
    {
     "name": "stderr",
     "output_type": "stream",
     "text": [
      "\r",
      " 87%|████████▋ | 13/15 [52:48<08:07, 243.84s/it]"
     ]
    },
    {
     "name": "stdout",
     "output_type": "stream",
     "text": [
      "Epoch: 12/60... Step: 100... Loss: -12.897570... Val Loss: -12.052753\n",
      "Epoch: 23/60... Step: 200... Loss: -15.078045... Val Loss: -11.283426\n",
      "Epoch: 34/60... Step: 300... Loss: -15.626652... Val Loss: -14.122050\n",
      "Epoch: 45/60... Step: 400... Loss: -13.301155... Val Loss: -12.543110\n",
      "Epoch: 56/60... Step: 500... Loss: -16.875792... Val Loss: -13.199882\n"
     ]
    },
    {
     "name": "stderr",
     "output_type": "stream",
     "text": [
      "\r",
      " 93%|█████████▎| 14/15 [56:52<04:03, 243.97s/it]"
     ]
    },
    {
     "name": "stdout",
     "output_type": "stream",
     "text": [
      "Epoch: 12/60... Step: 100... Loss: -13.489299... Val Loss: -11.903603\n",
      "Epoch: 23/60... Step: 200... Loss: -14.031211... Val Loss: -13.162143\n",
      "Epoch: 34/60... Step: 300... Loss: -15.830294... Val Loss: -12.603625\n",
      "Epoch: 45/60... Step: 400... Loss: -14.510186... Val Loss: -12.910515\n",
      "Epoch: 56/60... Step: 500... Loss: -15.455423... Val Loss: -11.238977\n"
     ]
    },
    {
     "name": "stderr",
     "output_type": "stream",
     "text": [
      "100%|██████████| 15/15 [1:00:58<00:00, 243.87s/it]\n",
      "  0%|          | 0/15 [00:00<?, ?it/s]"
     ]
    },
    {
     "name": "stdout",
     "output_type": "stream",
     "text": [
      "Epoch: 12/60... Step: 100... Loss: -11.384807... Val Loss: -11.270377\n",
      "Epoch: 23/60... Step: 200... Loss: -12.553626... Val Loss: -11.959834\n",
      "Epoch: 34/60... Step: 300... Loss: -11.937970... Val Loss: -11.377823\n",
      "Epoch: 45/60... Step: 400... Loss: -9.946217... Val Loss: -13.055047\n",
      "Epoch: 56/60... Step: 500... Loss: -10.063967... Val Loss: -12.070435\n"
     ]
    },
    {
     "name": "stderr",
     "output_type": "stream",
     "text": [
      "\r",
      "  7%|▋         | 1/15 [03:59<55:48, 239.15s/it]"
     ]
    },
    {
     "name": "stdout",
     "output_type": "stream",
     "text": [
      "Epoch: 12/60... Step: 100... Loss: -11.645815... Val Loss: -6.881990\n",
      "Epoch: 23/60... Step: 200... Loss: -11.955068... Val Loss: -10.696702\n",
      "Epoch: 34/60... Step: 300... Loss: -12.466463... Val Loss: -10.475664\n",
      "Epoch: 45/60... Step: 400... Loss: -14.542805... Val Loss: -13.228453\n",
      "Epoch: 56/60... Step: 500... Loss: -17.640322... Val Loss: -12.812856\n"
     ]
    },
    {
     "name": "stderr",
     "output_type": "stream",
     "text": [
      "\r",
      " 13%|█▎        | 2/15 [08:02<52:06, 240.53s/it]"
     ]
    },
    {
     "name": "stdout",
     "output_type": "stream",
     "text": [
      "Epoch: 12/60... Step: 100... Loss: -12.020378... Val Loss: -12.071752\n",
      "Epoch: 23/60... Step: 200... Loss: -16.392160... Val Loss: -13.960135\n",
      "Epoch: 34/60... Step: 300... Loss: -15.752021... Val Loss: -10.715867\n",
      "Epoch: 45/60... Step: 400... Loss: -15.615854... Val Loss: -12.016086\n",
      "Epoch: 56/60... Step: 500... Loss: -15.264795... Val Loss: -12.363302\n"
     ]
    },
    {
     "name": "stderr",
     "output_type": "stream",
     "text": [
      "\r",
      " 20%|██        | 3/15 [12:06<48:18, 241.58s/it]"
     ]
    },
    {
     "name": "stdout",
     "output_type": "stream",
     "text": [
      "Epoch: 12/60... Step: 100... Loss: -14.326829... Val Loss: -12.097743\n",
      "Epoch: 23/60... Step: 200... Loss: -13.864783... Val Loss: -10.552566\n",
      "Epoch: 34/60... Step: 300... Loss: -15.561183... Val Loss: -12.980816\n",
      "Epoch: 45/60... Step: 400... Loss: -14.459592... Val Loss: -13.285918\n",
      "Epoch: 56/60... Step: 500... Loss: -14.694421... Val Loss: -14.239839\n"
     ]
    },
    {
     "name": "stderr",
     "output_type": "stream",
     "text": [
      "\r",
      " 27%|██▋       | 4/15 [16:12<44:31, 242.82s/it]"
     ]
    },
    {
     "name": "stdout",
     "output_type": "stream",
     "text": [
      "Epoch: 12/60... Step: 100... Loss: -11.624811... Val Loss: -11.513238\n",
      "Epoch: 23/60... Step: 200... Loss: -12.491478... Val Loss: -13.997151\n",
      "Epoch: 34/60... Step: 300... Loss: -12.968958... Val Loss: -12.562332\n",
      "Epoch: 45/60... Step: 400... Loss: -13.931135... Val Loss: -13.992906\n",
      "Epoch: 56/60... Step: 500... Loss: -13.805833... Val Loss: -12.608912\n"
     ]
    },
    {
     "name": "stderr",
     "output_type": "stream",
     "text": [
      "\r",
      " 33%|███▎      | 5/15 [20:15<40:28, 242.89s/it]"
     ]
    },
    {
     "name": "stdout",
     "output_type": "stream",
     "text": [
      "Epoch: 12/60... Step: 100... Loss: -13.304514... Val Loss: -12.590885\n",
      "Epoch: 23/60... Step: 200... Loss: -13.682175... Val Loss: -13.679969\n",
      "Epoch: 34/60... Step: 300... Loss: -13.425087... Val Loss: -13.157621\n",
      "Epoch: 45/60... Step: 400... Loss: -18.349659... Val Loss: -13.151525\n",
      "Epoch: 56/60... Step: 500... Loss: -15.019869... Val Loss: -13.928588\n"
     ]
    },
    {
     "name": "stderr",
     "output_type": "stream",
     "text": [
      "\r",
      " 40%|████      | 6/15 [24:18<36:26, 242.89s/it]"
     ]
    },
    {
     "name": "stdout",
     "output_type": "stream",
     "text": [
      "Epoch: 12/60... Step: 100... Loss: -13.522261... Val Loss: -11.991139\n",
      "Epoch: 23/60... Step: 200... Loss: -16.631767... Val Loss: -12.554167\n",
      "Epoch: 34/60... Step: 300... Loss: -14.589244... Val Loss: -13.550678\n",
      "Epoch: 45/60... Step: 400... Loss: -13.488253... Val Loss: -13.476419\n",
      "Epoch: 56/60... Step: 500... Loss: -18.173477... Val Loss: -12.877063\n"
     ]
    },
    {
     "name": "stderr",
     "output_type": "stream",
     "text": [
      "\r",
      " 47%|████▋     | 7/15 [28:22<32:25, 243.13s/it]"
     ]
    },
    {
     "name": "stdout",
     "output_type": "stream",
     "text": [
      "Epoch: 12/60... Step: 100... Loss: -12.946121... Val Loss: -11.723581\n",
      "Epoch: 23/60... Step: 200... Loss: -14.316587... Val Loss: -12.861559\n",
      "Epoch: 34/60... Step: 300... Loss: -14.021233... Val Loss: -13.472213\n",
      "Epoch: 45/60... Step: 400... Loss: -18.814041... Val Loss: -12.995087\n",
      "Epoch: 56/60... Step: 500... Loss: -10.696806... Val Loss: -13.248480\n"
     ]
    },
    {
     "name": "stderr",
     "output_type": "stream",
     "text": [
      "\r",
      " 53%|█████▎    | 8/15 [32:26<28:23, 243.33s/it]"
     ]
    },
    {
     "name": "stdout",
     "output_type": "stream",
     "text": [
      "Epoch: 12/60... Step: 100... Loss: -12.261792... Val Loss: -12.410938\n",
      "Epoch: 23/60... Step: 200... Loss: -11.828991... Val Loss: -10.647768\n",
      "Epoch: 34/60... Step: 300... Loss: -13.723070... Val Loss: -13.732536\n",
      "Epoch: 45/60... Step: 400... Loss: -13.202987... Val Loss: -11.959232\n",
      "Epoch: 56/60... Step: 500... Loss: -13.087718... Val Loss: -13.891539\n"
     ]
    },
    {
     "name": "stderr",
     "output_type": "stream",
     "text": [
      "\r",
      " 60%|██████    | 9/15 [36:29<24:20, 243.49s/it]"
     ]
    },
    {
     "name": "stdout",
     "output_type": "stream",
     "text": [
      "Epoch: 12/60... Step: 100... Loss: -11.502112... Val Loss: -11.545801\n",
      "Epoch: 23/60... Step: 200... Loss: -16.696007... Val Loss: -13.559607\n",
      "Epoch: 34/60... Step: 300... Loss: -14.018219... Val Loss: -14.016663\n",
      "Epoch: 45/60... Step: 400... Loss: -13.559046... Val Loss: -13.609685\n",
      "Epoch: 56/60... Step: 500... Loss: -15.048725... Val Loss: -13.351137\n"
     ]
    },
    {
     "name": "stderr",
     "output_type": "stream",
     "text": [
      "\r",
      " 67%|██████▋   | 10/15 [40:35<20:19, 243.99s/it]"
     ]
    },
    {
     "name": "stdout",
     "output_type": "stream",
     "text": [
      "Epoch: 12/60... Step: 100... Loss: -10.699730... Val Loss: -11.286390\n",
      "Epoch: 23/60... Step: 200... Loss: -13.237733... Val Loss: -13.051076\n",
      "Epoch: 34/60... Step: 300... Loss: -16.758741... Val Loss: -11.511866\n",
      "Epoch: 45/60... Step: 400... Loss: -15.778633... Val Loss: -12.498708\n",
      "Epoch: 56/60... Step: 500... Loss: -17.451345... Val Loss: -13.594889\n"
     ]
    },
    {
     "name": "stderr",
     "output_type": "stream",
     "text": [
      "\r",
      " 73%|███████▎  | 11/15 [44:39<16:16, 244.18s/it]"
     ]
    },
    {
     "name": "stdout",
     "output_type": "stream",
     "text": [
      "Epoch: 12/60... Step: 100... Loss: -12.203796... Val Loss: -11.495961\n",
      "Epoch: 23/60... Step: 200... Loss: -14.168449... Val Loss: -13.683049\n",
      "Epoch: 34/60... Step: 300... Loss: -13.931759... Val Loss: -13.581287\n",
      "Epoch: 45/60... Step: 400... Loss: -13.527271... Val Loss: -13.196867\n",
      "Epoch: 56/60... Step: 500... Loss: -14.762053... Val Loss: -12.438164\n"
     ]
    },
    {
     "name": "stderr",
     "output_type": "stream",
     "text": [
      "\r",
      " 80%|████████  | 12/15 [48:43<12:12, 244.15s/it]"
     ]
    },
    {
     "name": "stdout",
     "output_type": "stream",
     "text": [
      "Epoch: 12/60... Step: 100... Loss: -12.721655... Val Loss: -11.324328\n",
      "Epoch: 23/60... Step: 200... Loss: -12.940332... Val Loss: -11.131941\n",
      "Epoch: 34/60... Step: 300... Loss: -15.208337... Val Loss: -13.430802\n",
      "Epoch: 45/60... Step: 400... Loss: -13.506083... Val Loss: -11.568095\n",
      "Epoch: 56/60... Step: 500... Loss: -13.994224... Val Loss: -12.913323\n"
     ]
    },
    {
     "name": "stderr",
     "output_type": "stream",
     "text": [
      "\r",
      " 87%|████████▋ | 13/15 [52:48<08:08, 244.20s/it]"
     ]
    },
    {
     "name": "stdout",
     "output_type": "stream",
     "text": [
      "Epoch: 12/60... Step: 100... Loss: -10.303383... Val Loss: -10.816291\n",
      "Epoch: 23/60... Step: 200... Loss: -15.172958... Val Loss: -11.290993\n",
      "Epoch: 34/60... Step: 300... Loss: -11.358223... Val Loss: -12.187744\n",
      "Epoch: 45/60... Step: 400... Loss: -14.275780... Val Loss: -14.454922\n",
      "Epoch: 56/60... Step: 500... Loss: -12.229491... Val Loss: -13.601590\n"
     ]
    },
    {
     "name": "stderr",
     "output_type": "stream",
     "text": [
      "\r",
      " 93%|█████████▎| 14/15 [56:52<04:04, 244.32s/it]"
     ]
    },
    {
     "name": "stdout",
     "output_type": "stream",
     "text": [
      "Epoch: 12/60... Step: 100... Loss: -9.836115... Val Loss: -8.802463\n",
      "Epoch: 23/60... Step: 200... Loss: -16.977694... Val Loss: -12.469031\n",
      "Epoch: 34/60... Step: 300... Loss: -17.188120... Val Loss: -12.903242\n",
      "Epoch: 45/60... Step: 400... Loss: -13.481636... Val Loss: -14.140267\n",
      "Epoch: 56/60... Step: 500... Loss: -16.132147... Val Loss: -13.653173\n"
     ]
    },
    {
     "name": "stderr",
     "output_type": "stream",
     "text": [
      "100%|██████████| 15/15 [1:00:56<00:00, 243.80s/it]\n",
      "  0%|          | 0/15 [00:00<?, ?it/s]"
     ]
    },
    {
     "name": "stdout",
     "output_type": "stream",
     "text": [
      "Epoch: 12/60... Step: 100... Loss: -9.753017... Val Loss: -10.198625\n",
      "Epoch: 23/60... Step: 200... Loss: -12.855322... Val Loss: -11.486529\n",
      "Epoch: 34/60... Step: 300... Loss: -13.142097... Val Loss: -11.102930\n",
      "Epoch: 45/60... Step: 400... Loss: -12.837410... Val Loss: -11.366426\n",
      "Epoch: 56/60... Step: 500... Loss: -9.868216... Val Loss: -11.841954\n"
     ]
    },
    {
     "name": "stderr",
     "output_type": "stream",
     "text": [
      "\r",
      "  7%|▋         | 1/15 [03:58<55:45, 238.98s/it]"
     ]
    },
    {
     "name": "stdout",
     "output_type": "stream",
     "text": [
      "Epoch: 12/60... Step: 100... Loss: -13.368598... Val Loss: -8.910834\n",
      "Epoch: 23/60... Step: 200... Loss: -10.614693... Val Loss: -10.619092\n",
      "Epoch: 34/60... Step: 300... Loss: -15.262668... Val Loss: -11.013970\n",
      "Epoch: 45/60... Step: 400... Loss: -11.562714... Val Loss: -11.521815\n",
      "Epoch: 56/60... Step: 500... Loss: -15.106762... Val Loss: -13.935693\n"
     ]
    },
    {
     "name": "stderr",
     "output_type": "stream",
     "text": [
      "\r",
      " 13%|█▎        | 2/15 [08:03<52:07, 240.55s/it]"
     ]
    },
    {
     "name": "stdout",
     "output_type": "stream",
     "text": [
      "Epoch: 12/60... Step: 100... Loss: -12.065300... Val Loss: -10.866954\n",
      "Epoch: 23/60... Step: 200... Loss: -14.611392... Val Loss: -14.556189\n",
      "Epoch: 34/60... Step: 300... Loss: -11.814100... Val Loss: -11.029662\n",
      "Epoch: 45/60... Step: 400... Loss: -15.435675... Val Loss: -13.322780\n",
      "Epoch: 56/60... Step: 500... Loss: -11.675213... Val Loss: -13.391334\n"
     ]
    },
    {
     "name": "stderr",
     "output_type": "stream",
     "text": [
      "\r",
      " 20%|██        | 3/15 [12:06<48:17, 241.48s/it]"
     ]
    },
    {
     "name": "stdout",
     "output_type": "stream",
     "text": [
      "Epoch: 12/60... Step: 100... Loss: -10.935408... Val Loss: -10.695062\n",
      "Epoch: 23/60... Step: 200... Loss: -15.700084... Val Loss: -12.629814\n",
      "Epoch: 34/60... Step: 300... Loss: -12.980358... Val Loss: -13.127905\n",
      "Epoch: 45/60... Step: 400... Loss: -13.971296... Val Loss: -14.031154\n",
      "Epoch: 56/60... Step: 500... Loss: -12.293509... Val Loss: -12.993087\n"
     ]
    },
    {
     "name": "stderr",
     "output_type": "stream",
     "text": [
      "\r",
      " 27%|██▋       | 4/15 [16:11<44:27, 242.51s/it]"
     ]
    },
    {
     "name": "stdout",
     "output_type": "stream",
     "text": [
      "Epoch: 12/60... Step: 100... Loss: -11.974909... Val Loss: -13.427069\n",
      "Epoch: 23/60... Step: 200... Loss: -9.839521... Val Loss: -12.544465\n",
      "Epoch: 34/60... Step: 300... Loss: -14.795534... Val Loss: -14.016587\n",
      "Epoch: 45/60... Step: 400... Loss: -16.013031... Val Loss: -12.888749\n",
      "Epoch: 56/60... Step: 500... Loss: -14.126024... Val Loss: -13.292324\n"
     ]
    },
    {
     "name": "stderr",
     "output_type": "stream",
     "text": [
      "\r",
      " 33%|███▎      | 5/15 [20:16<40:31, 243.11s/it]"
     ]
    },
    {
     "name": "stdout",
     "output_type": "stream",
     "text": [
      "Epoch: 12/60... Step: 100... Loss: -12.593742... Val Loss: -12.780683\n",
      "Epoch: 23/60... Step: 200... Loss: -12.571910... Val Loss: -12.357738\n",
      "Epoch: 34/60... Step: 300... Loss: -12.634810... Val Loss: -14.030786\n",
      "Epoch: 45/60... Step: 400... Loss: -16.580952... Val Loss: -11.482735\n",
      "Epoch: 56/60... Step: 500... Loss: -15.019014... Val Loss: -13.529502\n"
     ]
    },
    {
     "name": "stderr",
     "output_type": "stream",
     "text": [
      "\r",
      " 40%|████      | 6/15 [24:22<36:36, 244.03s/it]"
     ]
    },
    {
     "name": "stdout",
     "output_type": "stream",
     "text": [
      "Epoch: 12/60... Step: 100... Loss: -13.956690... Val Loss: -11.953791\n",
      "Epoch: 23/60... Step: 200... Loss: -11.917152... Val Loss: -12.843542\n",
      "Epoch: 34/60... Step: 300... Loss: -12.423900... Val Loss: -13.213718\n",
      "Epoch: 45/60... Step: 400... Loss: -14.422899... Val Loss: -13.376525\n",
      "Epoch: 56/60... Step: 500... Loss: -12.718472... Val Loss: -15.222871\n"
     ]
    },
    {
     "name": "stderr",
     "output_type": "stream",
     "text": [
      "\r",
      " 47%|████▋     | 7/15 [28:27<32:34, 244.33s/it]"
     ]
    },
    {
     "name": "stdout",
     "output_type": "stream",
     "text": [
      "Epoch: 12/60... Step: 100... Loss: -14.980685... Val Loss: -11.661838\n",
      "Epoch: 23/60... Step: 200... Loss: -15.441147... Val Loss: -12.732698\n",
      "Epoch: 34/60... Step: 300... Loss: -13.411583... Val Loss: -14.276759\n",
      "Epoch: 45/60... Step: 400... Loss: -13.368532... Val Loss: -13.677640\n",
      "Epoch: 56/60... Step: 500... Loss: -14.503392... Val Loss: -14.315589\n"
     ]
    },
    {
     "name": "stderr",
     "output_type": "stream",
     "text": [
      "\r",
      " 53%|█████▎    | 8/15 [32:31<28:30, 244.32s/it]"
     ]
    },
    {
     "name": "stdout",
     "output_type": "stream",
     "text": [
      "Epoch: 12/60... Step: 100... Loss: -11.833346... Val Loss: -8.293533\n",
      "Epoch: 23/60... Step: 200... Loss: -14.938332... Val Loss: -12.314206\n",
      "Epoch: 34/60... Step: 300... Loss: -14.379306... Val Loss: -13.726830\n",
      "Epoch: 45/60... Step: 400... Loss: -16.739105... Val Loss: -13.546953\n",
      "Epoch: 56/60... Step: 500... Loss: -14.873820... Val Loss: -13.475166\n"
     ]
    },
    {
     "name": "stderr",
     "output_type": "stream",
     "text": [
      "\r",
      " 60%|██████    | 9/15 [36:36<24:26, 244.44s/it]"
     ]
    },
    {
     "name": "stdout",
     "output_type": "stream",
     "text": [
      "Epoch: 12/60... Step: 100... Loss: -12.541017... Val Loss: -12.695249\n",
      "Epoch: 23/60... Step: 200... Loss: -15.735030... Val Loss: -12.529877\n",
      "Epoch: 34/60... Step: 300... Loss: -15.363775... Val Loss: -13.196627\n",
      "Epoch: 45/60... Step: 400... Loss: -18.166197... Val Loss: -12.090133\n",
      "Epoch: 56/60... Step: 500... Loss: -12.782126... Val Loss: -12.238105\n"
     ]
    },
    {
     "name": "stderr",
     "output_type": "stream",
     "text": [
      "\r",
      " 67%|██████▋   | 10/15 [40:41<20:22, 244.54s/it]"
     ]
    },
    {
     "name": "stdout",
     "output_type": "stream",
     "text": [
      "Epoch: 12/60... Step: 100... Loss: -12.420089... Val Loss: -11.406117\n",
      "Epoch: 23/60... Step: 200... Loss: -13.230915... Val Loss: -12.992170\n",
      "Epoch: 34/60... Step: 300... Loss: -13.957294... Val Loss: -13.566916\n",
      "Epoch: 45/60... Step: 400... Loss: -14.528208... Val Loss: -12.318602\n",
      "Epoch: 56/60... Step: 500... Loss: -16.033281... Val Loss: -13.820770\n"
     ]
    },
    {
     "name": "stderr",
     "output_type": "stream",
     "text": [
      "\r",
      " 73%|███████▎  | 11/15 [44:47<16:19, 244.90s/it]"
     ]
    },
    {
     "name": "stdout",
     "output_type": "stream",
     "text": [
      "Epoch: 12/60... Step: 100... Loss: -10.880275... Val Loss: -11.334665\n",
      "Epoch: 23/60... Step: 200... Loss: -15.508224... Val Loss: -13.684572\n",
      "Epoch: 34/60... Step: 300... Loss: -15.685632... Val Loss: -12.707541\n",
      "Epoch: 45/60... Step: 400... Loss: -13.321795... Val Loss: -13.774553\n",
      "Epoch: 56/60... Step: 500... Loss: -15.447512... Val Loss: -13.259296\n"
     ]
    },
    {
     "name": "stderr",
     "output_type": "stream",
     "text": [
      "\r",
      " 80%|████████  | 12/15 [48:51<12:14, 244.86s/it]"
     ]
    },
    {
     "name": "stdout",
     "output_type": "stream",
     "text": [
      "Epoch: 12/60... Step: 100... Loss: -15.420208... Val Loss: -12.873896\n",
      "Epoch: 23/60... Step: 200... Loss: -16.622463... Val Loss: -13.069550\n",
      "Epoch: 34/60... Step: 300... Loss: -13.862338... Val Loss: -12.453298\n",
      "Epoch: 45/60... Step: 400... Loss: -11.618202... Val Loss: -12.952097\n",
      "Epoch: 56/60... Step: 500... Loss: -13.733736... Val Loss: -13.115707\n"
     ]
    },
    {
     "name": "stderr",
     "output_type": "stream",
     "text": [
      "\r",
      " 87%|████████▋ | 13/15 [52:57<08:10, 245.18s/it]"
     ]
    },
    {
     "name": "stdout",
     "output_type": "stream",
     "text": [
      "Epoch: 12/60... Step: 100... Loss: -11.794987... Val Loss: -12.030814\n",
      "Epoch: 23/60... Step: 200... Loss: -11.285711... Val Loss: -12.185666\n",
      "Epoch: 34/60... Step: 300... Loss: -16.212490... Val Loss: -14.349091\n",
      "Epoch: 45/60... Step: 400... Loss: -13.058458... Val Loss: -12.344858\n",
      "Epoch: 56/60... Step: 500... Loss: -15.498137... Val Loss: -13.366693\n"
     ]
    },
    {
     "name": "stderr",
     "output_type": "stream",
     "text": [
      "\r",
      " 93%|█████████▎| 14/15 [57:02<04:04, 244.98s/it]"
     ]
    },
    {
     "name": "stdout",
     "output_type": "stream",
     "text": [
      "Epoch: 12/60... Step: 100... Loss: -10.744276... Val Loss: -11.930373\n",
      "Epoch: 23/60... Step: 200... Loss: -14.598095... Val Loss: -12.278383\n",
      "Epoch: 34/60... Step: 300... Loss: -13.867049... Val Loss: -12.872068\n",
      "Epoch: 45/60... Step: 400... Loss: -14.526479... Val Loss: -13.196288\n",
      "Epoch: 56/60... Step: 500... Loss: -13.281877... Val Loss: -13.530897\n"
     ]
    },
    {
     "name": "stderr",
     "output_type": "stream",
     "text": [
      "100%|██████████| 15/15 [1:01:07<00:00, 244.48s/it]\n",
      "  0%|          | 0/15 [00:00<?, ?it/s]"
     ]
    },
    {
     "name": "stdout",
     "output_type": "stream",
     "text": [
      "Epoch: 12/60... Step: 100... Loss: -11.371119... Val Loss: -9.673228\n",
      "Epoch: 23/60... Step: 200... Loss: -10.187654... Val Loss: -11.290424\n",
      "Epoch: 34/60... Step: 300... Loss: -15.661637... Val Loss: -11.043447\n",
      "Epoch: 45/60... Step: 400... Loss: -11.244117... Val Loss: -11.171980\n",
      "Epoch: 56/60... Step: 500... Loss: -13.464149... Val Loss: -11.582353\n"
     ]
    },
    {
     "name": "stderr",
     "output_type": "stream",
     "text": [
      "\r",
      "  7%|▋         | 1/15 [03:59<55:53, 239.56s/it]"
     ]
    },
    {
     "name": "stdout",
     "output_type": "stream",
     "text": [
      "Epoch: 12/60... Step: 100... Loss: -10.386869... Val Loss: -10.016012\n",
      "Epoch: 23/60... Step: 200... Loss: -12.147757... Val Loss: -10.788822\n",
      "Epoch: 34/60... Step: 300... Loss: -15.853878... Val Loss: -10.658319\n",
      "Epoch: 45/60... Step: 400... Loss: -16.348652... Val Loss: -11.144798\n",
      "Epoch: 56/60... Step: 500... Loss: -13.011618... Val Loss: -11.934647\n"
     ]
    },
    {
     "name": "stderr",
     "output_type": "stream",
     "text": [
      "\r",
      " 13%|█▎        | 2/15 [08:04<52:14, 241.15s/it]"
     ]
    },
    {
     "name": "stdout",
     "output_type": "stream",
     "text": [
      "Epoch: 12/60... Step: 100... Loss: -13.928693... Val Loss: -9.165833\n",
      "Epoch: 23/60... Step: 200... Loss: -13.099836... Val Loss: -13.586654\n",
      "Epoch: 34/60... Step: 300... Loss: -10.240768... Val Loss: -11.586562\n",
      "Epoch: 45/60... Step: 400... Loss: -13.804337... Val Loss: -12.707394\n",
      "Epoch: 56/60... Step: 500... Loss: -17.017178... Val Loss: -13.425674\n"
     ]
    },
    {
     "name": "stderr",
     "output_type": "stream",
     "text": [
      "\r",
      " 20%|██        | 3/15 [12:09<48:27, 242.32s/it]"
     ]
    },
    {
     "name": "stdout",
     "output_type": "stream",
     "text": [
      "Epoch: 12/60... Step: 100... Loss: -10.079797... Val Loss: -9.933022\n",
      "Epoch: 23/60... Step: 200... Loss: -12.319710... Val Loss: -13.294278\n",
      "Epoch: 34/60... Step: 300... Loss: -14.711704... Val Loss: -13.854577\n",
      "Epoch: 45/60... Step: 400... Loss: -10.737710... Val Loss: -13.430621\n",
      "Epoch: 56/60... Step: 500... Loss: -14.051740... Val Loss: -13.203425\n"
     ]
    },
    {
     "name": "stderr",
     "output_type": "stream",
     "text": [
      "\r",
      " 27%|██▋       | 4/15 [16:13<44:31, 242.87s/it]"
     ]
    },
    {
     "name": "stdout",
     "output_type": "stream",
     "text": [
      "Epoch: 12/60... Step: 100... Loss: -11.604895... Val Loss: -11.603451\n",
      "Epoch: 23/60... Step: 200... Loss: -10.643671... Val Loss: -9.899607\n",
      "Epoch: 34/60... Step: 300... Loss: -16.734831... Val Loss: -11.976484\n",
      "Epoch: 45/60... Step: 400... Loss: -13.823757... Val Loss: -12.966817\n",
      "Epoch: 56/60... Step: 500... Loss: -13.923939... Val Loss: -14.286659\n"
     ]
    },
    {
     "name": "stderr",
     "output_type": "stream",
     "text": [
      "\r",
      " 33%|███▎      | 5/15 [20:18<40:33, 243.34s/it]"
     ]
    },
    {
     "name": "stdout",
     "output_type": "stream",
     "text": [
      "Epoch: 12/60... Step: 100... Loss: -10.824941... Val Loss: -11.504903\n",
      "Epoch: 23/60... Step: 200... Loss: -13.953536... Val Loss: -12.174661\n",
      "Epoch: 34/60... Step: 300... Loss: -13.702551... Val Loss: -12.903128\n",
      "Epoch: 45/60... Step: 400... Loss: -14.219217... Val Loss: -10.559691\n",
      "Epoch: 56/60... Step: 500... Loss: -13.391300... Val Loss: -13.403752\n"
     ]
    },
    {
     "name": "stderr",
     "output_type": "stream",
     "text": [
      "\r",
      " 40%|████      | 6/15 [24:23<36:34, 243.85s/it]"
     ]
    },
    {
     "name": "stdout",
     "output_type": "stream",
     "text": [
      "Epoch: 12/60... Step: 100... Loss: -12.023556... Val Loss: -10.210506\n",
      "Epoch: 23/60... Step: 200... Loss: -12.890360... Val Loss: -12.371965\n",
      "Epoch: 34/60... Step: 300... Loss: -13.787322... Val Loss: -12.061541\n",
      "Epoch: 45/60... Step: 400... Loss: -14.546381... Val Loss: -13.115336\n",
      "Epoch: 56/60... Step: 500... Loss: -11.759630... Val Loss: -13.239574\n"
     ]
    },
    {
     "name": "stderr",
     "output_type": "stream",
     "text": [
      "\r",
      " 47%|████▋     | 7/15 [28:28<32:33, 244.16s/it]"
     ]
    },
    {
     "name": "stdout",
     "output_type": "stream",
     "text": [
      "Epoch: 12/60... Step: 100... Loss: -13.715038... Val Loss: -11.140298\n",
      "Epoch: 23/60... Step: 200... Loss: -20.072823... Val Loss: -11.211203\n",
      "Epoch: 34/60... Step: 300... Loss: -16.848806... Val Loss: -13.400621\n",
      "Epoch: 45/60... Step: 400... Loss: -14.050358... Val Loss: -11.150229\n",
      "Epoch: 56/60... Step: 500... Loss: -16.132439... Val Loss: -13.195050\n"
     ]
    },
    {
     "name": "stderr",
     "output_type": "stream",
     "text": [
      "\r",
      " 53%|█████▎    | 8/15 [32:33<28:31, 244.45s/it]"
     ]
    },
    {
     "name": "stdout",
     "output_type": "stream",
     "text": [
      "Epoch: 12/60... Step: 100... Loss: -12.697411... Val Loss: -12.021838\n",
      "Epoch: 23/60... Step: 200... Loss: -13.739861... Val Loss: -13.334940\n",
      "Epoch: 34/60... Step: 300... Loss: -9.568798... Val Loss: -12.884443\n",
      "Epoch: 45/60... Step: 400... Loss: -14.808763... Val Loss: -12.671749\n",
      "Epoch: 56/60... Step: 500... Loss: -15.251208... Val Loss: -13.828723\n"
     ]
    },
    {
     "name": "stderr",
     "output_type": "stream",
     "text": [
      "\r",
      " 60%|██████    | 9/15 [36:38<24:27, 244.58s/it]"
     ]
    },
    {
     "name": "stdout",
     "output_type": "stream",
     "text": [
      "Epoch: 12/60... Step: 100... Loss: -14.512362... Val Loss: -11.484793\n",
      "Epoch: 23/60... Step: 200... Loss: -14.745355... Val Loss: -12.573323\n",
      "Epoch: 34/60... Step: 300... Loss: -16.655424... Val Loss: -13.388099\n",
      "Epoch: 45/60... Step: 400... Loss: -11.917294... Val Loss: -12.989278\n",
      "Epoch: 56/60... Step: 500... Loss: -17.328842... Val Loss: -12.543360\n"
     ]
    },
    {
     "name": "stderr",
     "output_type": "stream",
     "text": [
      "\r",
      " 67%|██████▋   | 10/15 [40:43<20:23, 244.73s/it]"
     ]
    },
    {
     "name": "stdout",
     "output_type": "stream",
     "text": [
      "Epoch: 12/60... Step: 100... Loss: -15.782255... Val Loss: -11.423889\n",
      "Epoch: 23/60... Step: 200... Loss: -10.039038... Val Loss: -9.703485\n",
      "Epoch: 34/60... Step: 300... Loss: -13.599699... Val Loss: -10.799007\n",
      "Epoch: 45/60... Step: 400... Loss: -9.801447... Val Loss: -12.576616\n",
      "Epoch: 56/60... Step: 500... Loss: -16.005207... Val Loss: -13.856366\n"
     ]
    },
    {
     "name": "stderr",
     "output_type": "stream",
     "text": [
      "\r",
      " 73%|███████▎  | 11/15 [44:47<16:18, 244.63s/it]"
     ]
    },
    {
     "name": "stdout",
     "output_type": "stream",
     "text": [
      "Epoch: 12/60... Step: 100... Loss: -15.894909... Val Loss: -9.785121\n",
      "Epoch: 23/60... Step: 200... Loss: -11.622202... Val Loss: -13.673062\n",
      "Epoch: 34/60... Step: 300... Loss: -13.757444... Val Loss: -14.020407\n",
      "Epoch: 45/60... Step: 400... Loss: -12.488127... Val Loss: -12.404174\n",
      "Epoch: 56/60... Step: 500... Loss: -13.806322... Val Loss: -14.002245\n"
     ]
    },
    {
     "name": "stderr",
     "output_type": "stream",
     "text": [
      "\r",
      " 80%|████████  | 12/15 [48:51<12:13, 244.53s/it]"
     ]
    },
    {
     "name": "stdout",
     "output_type": "stream",
     "text": [
      "Epoch: 12/60... Step: 100... Loss: -14.862149... Val Loss: -11.011126\n",
      "Epoch: 23/60... Step: 200... Loss: -12.176003... Val Loss: -12.275650\n",
      "Epoch: 34/60... Step: 300... Loss: -13.072381... Val Loss: -12.675406\n",
      "Epoch: 45/60... Step: 400... Loss: -18.768902... Val Loss: -12.321998\n",
      "Epoch: 56/60... Step: 500... Loss: -15.286678... Val Loss: -13.528761\n"
     ]
    },
    {
     "name": "stderr",
     "output_type": "stream",
     "text": [
      "\r",
      " 87%|████████▋ | 13/15 [52:56<08:09, 244.67s/it]"
     ]
    },
    {
     "name": "stdout",
     "output_type": "stream",
     "text": [
      "Epoch: 12/60... Step: 100... Loss: -12.773672... Val Loss: -9.922385\n",
      "Epoch: 23/60... Step: 200... Loss: -12.531743... Val Loss: -13.354439\n",
      "Epoch: 34/60... Step: 300... Loss: -11.599247... Val Loss: -12.831244\n",
      "Epoch: 45/60... Step: 400... Loss: -15.657124... Val Loss: -13.823458\n",
      "Epoch: 56/60... Step: 500... Loss: -16.182890... Val Loss: -12.524497\n"
     ]
    },
    {
     "name": "stderr",
     "output_type": "stream",
     "text": [
      "\r",
      " 93%|█████████▎| 14/15 [57:01<04:04, 244.73s/it]"
     ]
    },
    {
     "name": "stdout",
     "output_type": "stream",
     "text": [
      "Epoch: 12/60... Step: 100... Loss: -12.364038... Val Loss: -11.857437\n",
      "Epoch: 23/60... Step: 200... Loss: -10.826200... Val Loss: -12.443918\n",
      "Epoch: 34/60... Step: 300... Loss: -13.656696... Val Loss: -13.480592\n",
      "Epoch: 45/60... Step: 400... Loss: -15.287525... Val Loss: -14.146212\n",
      "Epoch: 56/60... Step: 500... Loss: -9.649242... Val Loss: -12.883578\n"
     ]
    },
    {
     "name": "stderr",
     "output_type": "stream",
     "text": [
      "100%|██████████| 15/15 [1:01:06<00:00, 244.44s/it]\n",
      "  0%|          | 0/15 [00:00<?, ?it/s]"
     ]
    },
    {
     "name": "stdout",
     "output_type": "stream",
     "text": [
      "Epoch: 12/60... Step: 100... Loss: -11.234020... Val Loss: -11.280051\n",
      "Epoch: 23/60... Step: 200... Loss: -12.150951... Val Loss: -11.143988\n",
      "Epoch: 34/60... Step: 300... Loss: -10.926700... Val Loss: -12.322785\n",
      "Epoch: 45/60... Step: 400... Loss: -13.279546... Val Loss: -10.731479\n",
      "Epoch: 56/60... Step: 500... Loss: -11.213009... Val Loss: -11.590790\n"
     ]
    },
    {
     "name": "stderr",
     "output_type": "stream",
     "text": [
      "\r",
      "  7%|▋         | 1/15 [04:00<56:03, 240.22s/it]"
     ]
    },
    {
     "name": "stdout",
     "output_type": "stream",
     "text": [
      "Epoch: 12/60... Step: 100... Loss: -10.226751... Val Loss: -9.821830\n",
      "Epoch: 23/60... Step: 200... Loss: -9.543323... Val Loss: -10.201155\n",
      "Epoch: 34/60... Step: 300... Loss: -12.525839... Val Loss: -10.506246\n",
      "Epoch: 45/60... Step: 400... Loss: -12.847040... Val Loss: -12.150836\n",
      "Epoch: 56/60... Step: 500... Loss: -14.063823... Val Loss: -12.643517\n"
     ]
    },
    {
     "name": "stderr",
     "output_type": "stream",
     "text": [
      "\r",
      " 13%|█▎        | 2/15 [08:04<52:18, 241.38s/it]"
     ]
    },
    {
     "name": "stdout",
     "output_type": "stream",
     "text": [
      "Epoch: 12/60... Step: 100... Loss: -12.935718... Val Loss: -12.153494\n",
      "Epoch: 23/60... Step: 200... Loss: -11.322886... Val Loss: -13.544782\n",
      "Epoch: 34/60... Step: 300... Loss: -15.182173... Val Loss: -11.938118\n",
      "Epoch: 45/60... Step: 400... Loss: -14.250204... Val Loss: -12.020348\n",
      "Epoch: 56/60... Step: 500... Loss: -14.798553... Val Loss: -12.795663\n"
     ]
    },
    {
     "name": "stderr",
     "output_type": "stream",
     "text": [
      "\r",
      " 20%|██        | 3/15 [12:08<48:26, 242.21s/it]"
     ]
    },
    {
     "name": "stdout",
     "output_type": "stream",
     "text": [
      "Epoch: 12/60... Step: 100... Loss: -11.998392... Val Loss: -11.770360\n",
      "Epoch: 23/60... Step: 200... Loss: -12.623794... Val Loss: -13.601687\n",
      "Epoch: 34/60... Step: 300... Loss: -13.708191... Val Loss: -13.141035\n",
      "Epoch: 45/60... Step: 400... Loss: -18.010313... Val Loss: -12.531586\n",
      "Epoch: 56/60... Step: 500... Loss: -11.774379... Val Loss: -13.828542\n"
     ]
    },
    {
     "name": "stderr",
     "output_type": "stream",
     "text": [
      "\r",
      " 27%|██▋       | 4/15 [16:12<44:31, 242.89s/it]"
     ]
    },
    {
     "name": "stdout",
     "output_type": "stream",
     "text": [
      "Epoch: 12/60... Step: 100... Loss: -12.784652... Val Loss: -12.114892\n",
      "Epoch: 23/60... Step: 200... Loss: -11.482247... Val Loss: -12.384706\n",
      "Epoch: 34/60... Step: 300... Loss: -18.707636... Val Loss: -11.872171\n",
      "Epoch: 45/60... Step: 400... Loss: -13.728268... Val Loss: -14.503415\n",
      "Epoch: 56/60... Step: 500... Loss: -11.388304... Val Loss: -13.206718\n"
     ]
    },
    {
     "name": "stderr",
     "output_type": "stream",
     "text": [
      "\r",
      " 33%|███▎      | 5/15 [20:17<40:34, 243.44s/it]"
     ]
    },
    {
     "name": "stdout",
     "output_type": "stream",
     "text": [
      "Epoch: 12/60... Step: 100... Loss: -13.427206... Val Loss: -11.679046\n",
      "Epoch: 23/60... Step: 200... Loss: -15.495640... Val Loss: -11.623590\n",
      "Epoch: 34/60... Step: 300... Loss: -13.664249... Val Loss: -13.021254\n",
      "Epoch: 45/60... Step: 400... Loss: -15.160713... Val Loss: -12.289735\n",
      "Epoch: 56/60... Step: 500... Loss: -16.284927... Val Loss: -12.651524\n"
     ]
    },
    {
     "name": "stderr",
     "output_type": "stream",
     "text": [
      "\r",
      " 40%|████      | 6/15 [24:21<36:32, 243.63s/it]"
     ]
    },
    {
     "name": "stdout",
     "output_type": "stream",
     "text": [
      "Epoch: 12/60... Step: 100... Loss: -13.419436... Val Loss: -10.599256\n",
      "Epoch: 23/60... Step: 200... Loss: -14.910918... Val Loss: -11.336924\n",
      "Epoch: 34/60... Step: 300... Loss: -11.291739... Val Loss: -11.825731\n",
      "Epoch: 45/60... Step: 400... Loss: -16.437475... Val Loss: -13.439499\n",
      "Epoch: 56/60... Step: 500... Loss: -13.576120... Val Loss: -11.490920\n"
     ]
    },
    {
     "name": "stderr",
     "output_type": "stream",
     "text": [
      "\r",
      " 47%|████▋     | 7/15 [28:27<32:33, 244.16s/it]"
     ]
    },
    {
     "name": "stdout",
     "output_type": "stream",
     "text": [
      "Epoch: 12/60... Step: 100... Loss: -11.338740... Val Loss: -10.818127\n",
      "Epoch: 23/60... Step: 200... Loss: -16.052299... Val Loss: -13.513800\n",
      "Epoch: 34/60... Step: 300... Loss: -15.475796... Val Loss: -12.936307\n",
      "Epoch: 45/60... Step: 400... Loss: -15.373200... Val Loss: -12.829281\n",
      "Epoch: 56/60... Step: 500... Loss: -14.993000... Val Loss: -13.400190\n"
     ]
    },
    {
     "name": "stderr",
     "output_type": "stream",
     "text": [
      "\r",
      " 53%|█████▎    | 8/15 [32:31<28:29, 244.21s/it]"
     ]
    },
    {
     "name": "stdout",
     "output_type": "stream",
     "text": [
      "Epoch: 12/60... Step: 100... Loss: -12.097643... Val Loss: -11.496293\n",
      "Epoch: 23/60... Step: 200... Loss: -12.993393... Val Loss: -13.945583\n",
      "Epoch: 34/60... Step: 300... Loss: -13.320525... Val Loss: -14.635654\n",
      "Epoch: 45/60... Step: 400... Loss: -14.393394... Val Loss: -12.140082\n",
      "Epoch: 56/60... Step: 500... Loss: -16.120836... Val Loss: -13.836431\n"
     ]
    },
    {
     "name": "stderr",
     "output_type": "stream",
     "text": [
      "\r",
      " 60%|██████    | 9/15 [36:36<24:26, 244.40s/it]"
     ]
    },
    {
     "name": "stdout",
     "output_type": "stream",
     "text": [
      "Epoch: 12/60... Step: 100... Loss: -11.905276... Val Loss: -7.896813\n",
      "Epoch: 23/60... Step: 200... Loss: -17.079531... Val Loss: -13.181165\n",
      "Epoch: 34/60... Step: 300... Loss: -15.289910... Val Loss: -12.851605\n",
      "Epoch: 45/60... Step: 400... Loss: -13.630968... Val Loss: -13.925869\n",
      "Epoch: 56/60... Step: 500... Loss: -15.633011... Val Loss: -13.742505\n"
     ]
    },
    {
     "name": "stderr",
     "output_type": "stream",
     "text": [
      "\r",
      " 67%|██████▋   | 10/15 [40:41<20:22, 244.49s/it]"
     ]
    },
    {
     "name": "stdout",
     "output_type": "stream",
     "text": [
      "Epoch: 12/60... Step: 100... Loss: -13.063143... Val Loss: -11.313951\n",
      "Epoch: 23/60... Step: 200... Loss: -10.953264... Val Loss: -12.527017\n",
      "Epoch: 34/60... Step: 300... Loss: -13.787035... Val Loss: -11.123768\n",
      "Epoch: 45/60... Step: 400... Loss: -13.104647... Val Loss: -12.728958\n",
      "Epoch: 56/60... Step: 500... Loss: -14.831520... Val Loss: -13.821860\n"
     ]
    },
    {
     "name": "stderr",
     "output_type": "stream",
     "text": [
      "\r",
      " 73%|███████▎  | 11/15 [44:45<16:18, 244.54s/it]"
     ]
    },
    {
     "name": "stdout",
     "output_type": "stream",
     "text": [
      "Epoch: 12/60... Step: 100... Loss: -13.614952... Val Loss: -12.069715\n",
      "Epoch: 23/60... Step: 200... Loss: -12.501477... Val Loss: -13.463598\n",
      "Epoch: 34/60... Step: 300... Loss: -13.359064... Val Loss: -11.822739\n",
      "Epoch: 45/60... Step: 400... Loss: -14.126368... Val Loss: -13.692177\n",
      "Epoch: 56/60... Step: 500... Loss: -13.296318... Val Loss: -12.896238\n"
     ]
    },
    {
     "name": "stderr",
     "output_type": "stream",
     "text": [
      "\r",
      " 80%|████████  | 12/15 [48:50<12:13, 244.52s/it]"
     ]
    },
    {
     "name": "stdout",
     "output_type": "stream",
     "text": [
      "Epoch: 12/60... Step: 100... Loss: -11.228482... Val Loss: -8.189856\n",
      "Epoch: 23/60... Step: 200... Loss: -14.759021... Val Loss: -12.341314\n",
      "Epoch: 34/60... Step: 300... Loss: -14.630261... Val Loss: -13.255010\n",
      "Epoch: 45/60... Step: 400... Loss: -11.192777... Val Loss: -13.138614\n",
      "Epoch: 56/60... Step: 500... Loss: -16.926718... Val Loss: -14.190862\n"
     ]
    },
    {
     "name": "stderr",
     "output_type": "stream",
     "text": [
      "\r",
      " 87%|████████▋ | 13/15 [52:55<08:09, 244.65s/it]"
     ]
    },
    {
     "name": "stdout",
     "output_type": "stream",
     "text": [
      "Epoch: 12/60... Step: 100... Loss: -12.412657... Val Loss: -10.214461\n",
      "Epoch: 23/60... Step: 200... Loss: -12.617139... Val Loss: -13.132296\n",
      "Epoch: 34/60... Step: 300... Loss: -16.045145... Val Loss: -12.318892\n",
      "Epoch: 45/60... Step: 400... Loss: -13.682097... Val Loss: -13.194589\n",
      "Epoch: 56/60... Step: 500... Loss: -16.811104... Val Loss: -14.049614\n"
     ]
    },
    {
     "name": "stderr",
     "output_type": "stream",
     "text": [
      "\r",
      " 93%|█████████▎| 14/15 [56:59<04:04, 244.52s/it]"
     ]
    },
    {
     "name": "stdout",
     "output_type": "stream",
     "text": [
      "Epoch: 12/60... Step: 100... Loss: -8.863678... Val Loss: -9.795939\n",
      "Epoch: 23/60... Step: 200... Loss: -14.607970... Val Loss: -12.773003\n",
      "Epoch: 34/60... Step: 300... Loss: -14.560394... Val Loss: -12.958724\n",
      "Epoch: 45/60... Step: 400... Loss: -9.583860... Val Loss: -12.344438\n",
      "Epoch: 56/60... Step: 500... Loss: -13.852331... Val Loss: -11.761054\n"
     ]
    },
    {
     "name": "stderr",
     "output_type": "stream",
     "text": [
      "100%|██████████| 15/15 [1:01:04<00:00, 244.27s/it]\n",
      "  0%|          | 0/15 [00:00<?, ?it/s]"
     ]
    },
    {
     "name": "stdout",
     "output_type": "stream",
     "text": [
      "Epoch: 12/60... Step: 100... Loss: -10.414612... Val Loss: -10.238632\n",
      "Epoch: 23/60... Step: 200... Loss: -12.045241... Val Loss: -12.447395\n",
      "Epoch: 34/60... Step: 300... Loss: -11.389392... Val Loss: -10.793779\n",
      "Epoch: 45/60... Step: 400... Loss: -11.250490... Val Loss: -11.531801\n",
      "Epoch: 56/60... Step: 500... Loss: -9.993636... Val Loss: -13.310891\n"
     ]
    },
    {
     "name": "stderr",
     "output_type": "stream",
     "text": [
      "\r",
      "  7%|▋         | 1/15 [03:59<55:59, 239.97s/it]"
     ]
    },
    {
     "name": "stdout",
     "output_type": "stream",
     "text": [
      "Epoch: 12/60... Step: 100... Loss: -11.619574... Val Loss: -8.393411\n",
      "Epoch: 23/60... Step: 200... Loss: -14.057288... Val Loss: -10.397778\n",
      "Epoch: 34/60... Step: 300... Loss: -12.504380... Val Loss: -11.162040\n",
      "Epoch: 45/60... Step: 400... Loss: -12.406784... Val Loss: -11.321609\n",
      "Epoch: 56/60... Step: 500... Loss: -14.649380... Val Loss: -12.559262\n"
     ]
    },
    {
     "name": "stderr",
     "output_type": "stream",
     "text": [
      "\r",
      " 13%|█▎        | 2/15 [08:03<52:15, 241.16s/it]"
     ]
    },
    {
     "name": "stdout",
     "output_type": "stream",
     "text": [
      "Epoch: 12/60... Step: 100... Loss: -14.448400... Val Loss: -12.715081\n",
      "Epoch: 23/60... Step: 200... Loss: -12.794320... Val Loss: -13.037152\n",
      "Epoch: 34/60... Step: 300... Loss: -14.695302... Val Loss: -12.190403\n",
      "Epoch: 45/60... Step: 400... Loss: -11.813844... Val Loss: -11.992257\n",
      "Epoch: 56/60... Step: 500... Loss: -11.975205... Val Loss: -14.272741\n"
     ]
    },
    {
     "name": "stderr",
     "output_type": "stream",
     "text": [
      "\r",
      " 20%|██        | 3/15 [12:08<48:24, 242.07s/it]"
     ]
    },
    {
     "name": "stdout",
     "output_type": "stream",
     "text": [
      "Epoch: 12/60... Step: 100... Loss: -9.999697... Val Loss: -11.688300\n",
      "Epoch: 23/60... Step: 200... Loss: -15.108062... Val Loss: -12.494225\n",
      "Epoch: 34/60... Step: 300... Loss: -13.116102... Val Loss: -12.520849\n",
      "Epoch: 45/60... Step: 400... Loss: -16.794794... Val Loss: -12.604296\n",
      "Epoch: 56/60... Step: 500... Loss: -13.227463... Val Loss: -14.689269\n"
     ]
    },
    {
     "name": "stderr",
     "output_type": "stream",
     "text": [
      "\r",
      " 27%|██▋       | 4/15 [16:12<44:30, 242.80s/it]"
     ]
    },
    {
     "name": "stdout",
     "output_type": "stream",
     "text": [
      "Epoch: 12/60... Step: 100... Loss: -12.486792... Val Loss: -11.994007\n",
      "Epoch: 23/60... Step: 200... Loss: -15.630998... Val Loss: -11.983946\n",
      "Epoch: 34/60... Step: 300... Loss: -11.909541... Val Loss: -12.994944\n",
      "Epoch: 45/60... Step: 400... Loss: -16.408278... Val Loss: -13.304537\n",
      "Epoch: 56/60... Step: 500... Loss: -17.995167... Val Loss: -14.076104\n"
     ]
    },
    {
     "name": "stderr",
     "output_type": "stream",
     "text": [
      "\r",
      " 33%|███▎      | 5/15 [20:16<40:32, 243.27s/it]"
     ]
    },
    {
     "name": "stdout",
     "output_type": "stream",
     "text": [
      "Epoch: 12/60... Step: 100... Loss: -13.883462... Val Loss: -12.588487\n",
      "Epoch: 23/60... Step: 200... Loss: -13.180213... Val Loss: -12.290350\n",
      "Epoch: 34/60... Step: 300... Loss: -14.852121... Val Loss: -11.490895\n",
      "Epoch: 45/60... Step: 400... Loss: -14.412688... Val Loss: -13.182453\n",
      "Epoch: 56/60... Step: 500... Loss: -13.491332... Val Loss: -13.838140\n"
     ]
    },
    {
     "name": "stderr",
     "output_type": "stream",
     "text": [
      "\r",
      " 40%|████      | 6/15 [24:20<36:31, 243.48s/it]"
     ]
    },
    {
     "name": "stdout",
     "output_type": "stream",
     "text": [
      "Epoch: 12/60... Step: 100... Loss: -12.950961... Val Loss: -12.759384\n",
      "Epoch: 23/60... Step: 200... Loss: -10.172987... Val Loss: -11.981795\n",
      "Epoch: 34/60... Step: 300... Loss: -10.330084... Val Loss: -13.374104\n",
      "Epoch: 45/60... Step: 400... Loss: -15.492148... Val Loss: -13.989814\n",
      "Epoch: 56/60... Step: 500... Loss: -14.593258... Val Loss: -14.830519\n"
     ]
    },
    {
     "name": "stderr",
     "output_type": "stream",
     "text": [
      "\r",
      " 47%|████▋     | 7/15 [28:25<32:31, 243.92s/it]"
     ]
    },
    {
     "name": "stdout",
     "output_type": "stream",
     "text": [
      "Epoch: 12/60... Step: 100... Loss: -10.903705... Val Loss: -12.107523\n",
      "Epoch: 23/60... Step: 200... Loss: -14.758541... Val Loss: -11.904956\n",
      "Epoch: 34/60... Step: 300... Loss: -14.219832... Val Loss: -12.250830\n",
      "Epoch: 45/60... Step: 400... Loss: -13.547331... Val Loss: -12.165043\n",
      "Epoch: 56/60... Step: 500... Loss: -14.008157... Val Loss: -13.802874\n"
     ]
    },
    {
     "name": "stderr",
     "output_type": "stream",
     "text": [
      "\r",
      " 53%|█████▎    | 8/15 [32:29<28:27, 243.97s/it]"
     ]
    },
    {
     "name": "stdout",
     "output_type": "stream",
     "text": [
      "Epoch: 12/60... Step: 100... Loss: -13.390303... Val Loss: -12.183598\n",
      "Epoch: 23/60... Step: 200... Loss: -15.278312... Val Loss: -13.251510\n",
      "Epoch: 34/60... Step: 300... Loss: -9.367603... Val Loss: -13.597999\n",
      "Epoch: 45/60... Step: 400... Loss: -14.588143... Val Loss: -14.843618\n",
      "Epoch: 56/60... Step: 500... Loss: -16.493830... Val Loss: -14.386284\n"
     ]
    },
    {
     "name": "stderr",
     "output_type": "stream",
     "text": [
      "\r",
      " 60%|██████    | 9/15 [36:34<24:23, 244.00s/it]"
     ]
    },
    {
     "name": "stdout",
     "output_type": "stream",
     "text": [
      "Epoch: 12/60... Step: 100... Loss: -13.844329... Val Loss: -11.030511\n",
      "Epoch: 23/60... Step: 200... Loss: -17.393553... Val Loss: -13.256560\n",
      "Epoch: 34/60... Step: 300... Loss: -11.494493... Val Loss: -12.578341\n",
      "Epoch: 45/60... Step: 400... Loss: -16.488674... Val Loss: -13.080786\n",
      "Epoch: 56/60... Step: 500... Loss: -13.300981... Val Loss: -13.328959\n"
     ]
    },
    {
     "name": "stderr",
     "output_type": "stream",
     "text": [
      "\r",
      " 67%|██████▋   | 10/15 [40:38<20:20, 244.01s/it]"
     ]
    },
    {
     "name": "stdout",
     "output_type": "stream",
     "text": [
      "Epoch: 12/60... Step: 100... Loss: -11.780787... Val Loss: -11.583158\n",
      "Epoch: 23/60... Step: 200... Loss: -13.636564... Val Loss: -12.428564\n",
      "Epoch: 34/60... Step: 300... Loss: -10.809710... Val Loss: -11.940619\n",
      "Epoch: 45/60... Step: 400... Loss: -15.647877... Val Loss: -12.941068\n",
      "Epoch: 56/60... Step: 500... Loss: -14.729624... Val Loss: -14.593510\n"
     ]
    },
    {
     "name": "stderr",
     "output_type": "stream",
     "text": [
      "\r",
      " 73%|███████▎  | 11/15 [44:42<16:16, 244.22s/it]"
     ]
    },
    {
     "name": "stdout",
     "output_type": "stream",
     "text": [
      "Epoch: 12/60... Step: 100... Loss: -10.541382... Val Loss: -12.149903\n",
      "Epoch: 23/60... Step: 200... Loss: -15.202567... Val Loss: -12.765734\n",
      "Epoch: 34/60... Step: 300... Loss: -13.068476... Val Loss: -12.468430\n",
      "Epoch: 45/60... Step: 400... Loss: -13.280214... Val Loss: -12.591170\n",
      "Epoch: 56/60... Step: 500... Loss: -11.739351... Val Loss: -13.823725\n"
     ]
    },
    {
     "name": "stderr",
     "output_type": "stream",
     "text": [
      "\r",
      " 80%|████████  | 12/15 [48:47<12:13, 244.43s/it]"
     ]
    },
    {
     "name": "stdout",
     "output_type": "stream",
     "text": [
      "Epoch: 12/60... Step: 100... Loss: -13.155178... Val Loss: -11.822329\n",
      "Epoch: 23/60... Step: 200... Loss: -11.860685... Val Loss: -12.474150\n",
      "Epoch: 34/60... Step: 300... Loss: -16.253473... Val Loss: -13.674209\n",
      "Epoch: 45/60... Step: 400... Loss: -14.190088... Val Loss: -13.607871\n",
      "Epoch: 56/60... Step: 500... Loss: -14.702530... Val Loss: -14.322552\n"
     ]
    },
    {
     "name": "stderr",
     "output_type": "stream",
     "text": [
      "\r",
      " 87%|████████▋ | 13/15 [52:52<08:09, 244.59s/it]"
     ]
    },
    {
     "name": "stdout",
     "output_type": "stream",
     "text": [
      "Epoch: 12/60... Step: 100... Loss: -8.776838... Val Loss: -11.921859\n",
      "Epoch: 23/60... Step: 200... Loss: -13.597870... Val Loss: -12.366603\n",
      "Epoch: 34/60... Step: 300... Loss: -13.675737... Val Loss: -13.891336\n",
      "Epoch: 45/60... Step: 400... Loss: -13.385605... Val Loss: -13.687511\n",
      "Epoch: 56/60... Step: 500... Loss: -10.252450... Val Loss: -11.272704\n"
     ]
    },
    {
     "name": "stderr",
     "output_type": "stream",
     "text": [
      "\r",
      " 93%|█████████▎| 14/15 [56:56<04:04, 244.47s/it]"
     ]
    },
    {
     "name": "stdout",
     "output_type": "stream",
     "text": [
      "Epoch: 12/60... Step: 100... Loss: -11.302273... Val Loss: -10.959835\n",
      "Epoch: 23/60... Step: 200... Loss: -14.472733... Val Loss: -12.941455\n",
      "Epoch: 34/60... Step: 300... Loss: -12.377313... Val Loss: -14.610389\n",
      "Epoch: 45/60... Step: 400... Loss: -14.893366... Val Loss: -13.400476\n",
      "Epoch: 56/60... Step: 500... Loss: -13.854065... Val Loss: -12.147274\n"
     ]
    },
    {
     "name": "stderr",
     "output_type": "stream",
     "text": [
      "100%|██████████| 15/15 [1:01:01<00:00, 244.08s/it]\n",
      "  0%|          | 0/15 [00:00<?, ?it/s]"
     ]
    },
    {
     "name": "stdout",
     "output_type": "stream",
     "text": [
      "Epoch: 12/60... Step: 100... Loss: -10.170055... Val Loss: -10.111934\n",
      "Epoch: 23/60... Step: 200... Loss: -10.408890... Val Loss: -12.238811\n",
      "Epoch: 34/60... Step: 300... Loss: -12.855500... Val Loss: -11.919691\n",
      "Epoch: 45/60... Step: 400... Loss: -11.617173... Val Loss: -10.300755\n",
      "Epoch: 56/60... Step: 500... Loss: -12.882529... Val Loss: -11.586037\n"
     ]
    },
    {
     "name": "stderr",
     "output_type": "stream",
     "text": [
      "\r",
      "  7%|▋         | 1/15 [03:25<47:52, 205.15s/it]"
     ]
    },
    {
     "name": "stdout",
     "output_type": "stream",
     "text": [
      "Epoch: 12/60... Step: 100... Loss: -10.105385... Val Loss: -9.054639\n",
      "Epoch: 23/60... Step: 200... Loss: -15.002202... Val Loss: -11.957711\n",
      "Epoch: 34/60... Step: 300... Loss: -13.803153... Val Loss: -11.629834\n",
      "Epoch: 45/60... Step: 400... Loss: -11.960733... Val Loss: -11.667758\n",
      "Epoch: 56/60... Step: 500... Loss: -10.816215... Val Loss: -11.913110\n"
     ]
    },
    {
     "name": "stderr",
     "output_type": "stream",
     "text": [
      "\r",
      " 13%|█▎        | 2/15 [06:38<43:41, 201.69s/it]"
     ]
    },
    {
     "name": "stdout",
     "output_type": "stream",
     "text": [
      "Epoch: 12/60... Step: 100... Loss: -11.729824... Val Loss: -10.428481\n",
      "Epoch: 23/60... Step: 200... Loss: -15.387053... Val Loss: -12.338528\n",
      "Epoch: 34/60... Step: 300... Loss: -13.411392... Val Loss: -14.316788\n",
      "Epoch: 45/60... Step: 400... Loss: -17.650105... Val Loss: -12.860665\n",
      "Epoch: 56/60... Step: 500... Loss: -15.545360... Val Loss: -12.872665\n"
     ]
    },
    {
     "name": "stderr",
     "output_type": "stream",
     "text": [
      "\r",
      " 20%|██        | 3/15 [09:53<39:55, 199.62s/it]"
     ]
    },
    {
     "name": "stdout",
     "output_type": "stream",
     "text": [
      "Epoch: 12/60... Step: 100... Loss: -13.667286... Val Loss: -12.296408\n",
      "Epoch: 23/60... Step: 200... Loss: -15.521978... Val Loss: -12.416426\n",
      "Epoch: 34/60... Step: 300... Loss: -17.503443... Val Loss: -13.694980\n",
      "Epoch: 45/60... Step: 400... Loss: -16.666130... Val Loss: -13.373692\n",
      "Epoch: 56/60... Step: 500... Loss: -15.888686... Val Loss: -13.820950\n"
     ]
    },
    {
     "name": "stderr",
     "output_type": "stream",
     "text": [
      "\r",
      " 27%|██▋       | 4/15 [13:09<36:22, 198.43s/it]"
     ]
    },
    {
     "name": "stdout",
     "output_type": "stream",
     "text": [
      "Epoch: 12/60... Step: 100... Loss: -11.913983... Val Loss: -12.925690\n",
      "Epoch: 23/60... Step: 200... Loss: -14.204726... Val Loss: -12.473741\n",
      "Epoch: 34/60... Step: 300... Loss: -17.120516... Val Loss: -12.193790\n",
      "Epoch: 45/60... Step: 400... Loss: -12.737713... Val Loss: -13.891702\n",
      "Epoch: 56/60... Step: 500... Loss: -16.874624... Val Loss: -9.582787\n"
     ]
    },
    {
     "name": "stderr",
     "output_type": "stream",
     "text": [
      "\r",
      " 33%|███▎      | 5/15 [16:22<32:48, 196.87s/it]"
     ]
    },
    {
     "name": "stdout",
     "output_type": "stream",
     "text": [
      "Epoch: 12/60... Step: 100... Loss: -11.935394... Val Loss: -11.667965\n",
      "Epoch: 23/60... Step: 200... Loss: -12.585308... Val Loss: -11.772891\n",
      "Epoch: 34/60... Step: 300... Loss: -14.019794... Val Loss: -12.901697\n",
      "Epoch: 45/60... Step: 400... Loss: -13.866779... Val Loss: -13.472962\n",
      "Epoch: 56/60... Step: 500... Loss: -17.545437... Val Loss: -13.289612\n"
     ]
    },
    {
     "name": "stderr",
     "output_type": "stream",
     "text": [
      "\r",
      " 40%|████      | 6/15 [19:35<29:20, 195.64s/it]"
     ]
    },
    {
     "name": "stdout",
     "output_type": "stream",
     "text": [
      "Epoch: 12/60... Step: 100... Loss: -12.550093... Val Loss: -12.319692\n",
      "Epoch: 23/60... Step: 200... Loss: -15.452485... Val Loss: -12.595159\n",
      "Epoch: 34/60... Step: 300... Loss: -15.174645... Val Loss: -11.783709\n",
      "Epoch: 45/60... Step: 400... Loss: -15.751609... Val Loss: -11.332078\n",
      "Epoch: 56/60... Step: 500... Loss: -15.809275... Val Loss: -13.904047\n"
     ]
    },
    {
     "name": "stderr",
     "output_type": "stream",
     "text": [
      "\r",
      " 47%|████▋     | 7/15 [22:47<25:57, 194.66s/it]"
     ]
    },
    {
     "name": "stdout",
     "output_type": "stream",
     "text": [
      "Epoch: 12/60... Step: 100... Loss: -15.314588... Val Loss: -11.967809\n",
      "Epoch: 23/60... Step: 200... Loss: -14.014741... Val Loss: -13.135179\n",
      "Epoch: 34/60... Step: 300... Loss: -15.143202... Val Loss: -13.237927\n",
      "Epoch: 45/60... Step: 400... Loss: -15.110523... Val Loss: -12.890749\n",
      "Epoch: 56/60... Step: 500... Loss: -12.171989... Val Loss: -13.240685\n"
     ]
    },
    {
     "name": "stderr",
     "output_type": "stream",
     "text": [
      "\r",
      " 53%|█████▎    | 8/15 [25:59<22:36, 193.73s/it]"
     ]
    },
    {
     "name": "stdout",
     "output_type": "stream",
     "text": [
      "Epoch: 12/60... Step: 100... Loss: -14.259216... Val Loss: -12.677631\n",
      "Epoch: 23/60... Step: 200... Loss: -10.987138... Val Loss: -10.824196\n",
      "Epoch: 34/60... Step: 300... Loss: -14.631285... Val Loss: -13.570293\n",
      "Epoch: 45/60... Step: 400... Loss: -16.711517... Val Loss: -13.251956\n",
      "Epoch: 56/60... Step: 500... Loss: -16.387455... Val Loss: -12.812503\n"
     ]
    },
    {
     "name": "stderr",
     "output_type": "stream",
     "text": [
      "\r",
      " 60%|██████    | 9/15 [29:11<19:19, 193.20s/it]"
     ]
    },
    {
     "name": "stdout",
     "output_type": "stream",
     "text": [
      "Epoch: 12/60... Step: 100... Loss: -10.781752... Val Loss: -11.272631\n",
      "Epoch: 23/60... Step: 200... Loss: -14.253583... Val Loss: -12.756977\n",
      "Epoch: 34/60... Step: 300... Loss: -14.504267... Val Loss: -12.744534\n",
      "Epoch: 45/60... Step: 400... Loss: -14.428182... Val Loss: -12.448570\n",
      "Epoch: 56/60... Step: 500... Loss: -14.145737... Val Loss: -14.682227\n"
     ]
    },
    {
     "name": "stderr",
     "output_type": "stream",
     "text": [
      "\r",
      " 67%|██████▋   | 10/15 [32:23<16:05, 193.03s/it]"
     ]
    },
    {
     "name": "stdout",
     "output_type": "stream",
     "text": [
      "Epoch: 12/60... Step: 100... Loss: -11.678242... Val Loss: -12.441209\n",
      "Epoch: 23/60... Step: 200... Loss: -8.668814... Val Loss: -12.957421\n",
      "Epoch: 34/60... Step: 300... Loss: -15.922119... Val Loss: -13.815364\n",
      "Epoch: 45/60... Step: 400... Loss: -19.086874... Val Loss: -13.963711\n",
      "Epoch: 56/60... Step: 500... Loss: -13.110159... Val Loss: -12.921945\n"
     ]
    },
    {
     "name": "stderr",
     "output_type": "stream",
     "text": [
      "\r",
      " 73%|███████▎  | 11/15 [35:35<12:50, 192.60s/it]"
     ]
    },
    {
     "name": "stdout",
     "output_type": "stream",
     "text": [
      "Epoch: 12/60... Step: 100... Loss: -11.395829... Val Loss: -11.516252\n",
      "Epoch: 23/60... Step: 200... Loss: -15.694026... Val Loss: -12.646671\n",
      "Epoch: 34/60... Step: 300... Loss: -15.120998... Val Loss: -12.021123\n",
      "Epoch: 45/60... Step: 400... Loss: -10.690747... Val Loss: -13.926256\n",
      "Epoch: 56/60... Step: 500... Loss: -14.415084... Val Loss: -13.622739\n"
     ]
    },
    {
     "name": "stderr",
     "output_type": "stream",
     "text": [
      "\r",
      " 80%|████████  | 12/15 [38:48<09:38, 192.67s/it]"
     ]
    },
    {
     "name": "stdout",
     "output_type": "stream",
     "text": [
      "Epoch: 12/60... Step: 100... Loss: -11.738648... Val Loss: -12.546987\n",
      "Epoch: 23/60... Step: 200... Loss: -13.618758... Val Loss: -13.641110\n",
      "Epoch: 34/60... Step: 300... Loss: -12.589687... Val Loss: -11.750635\n",
      "Epoch: 45/60... Step: 400... Loss: -14.808773... Val Loss: -13.903540\n",
      "Epoch: 56/60... Step: 500... Loss: -12.100267... Val Loss: -13.591001\n"
     ]
    },
    {
     "name": "stderr",
     "output_type": "stream",
     "text": [
      "\r",
      " 87%|████████▋ | 13/15 [42:00<06:25, 192.66s/it]"
     ]
    },
    {
     "name": "stdout",
     "output_type": "stream",
     "text": [
      "Epoch: 12/60... Step: 100... Loss: -11.775998... Val Loss: -12.074438\n",
      "Epoch: 23/60... Step: 200... Loss: -11.246696... Val Loss: -12.338636\n",
      "Epoch: 34/60... Step: 300... Loss: -17.245665... Val Loss: -12.860537\n",
      "Epoch: 45/60... Step: 400... Loss: -13.194620... Val Loss: -13.424695\n",
      "Epoch: 56/60... Step: 500... Loss: -13.513014... Val Loss: -13.386704\n"
     ]
    },
    {
     "name": "stderr",
     "output_type": "stream",
     "text": [
      "\r",
      " 93%|█████████▎| 14/15 [45:14<03:12, 192.87s/it]"
     ]
    },
    {
     "name": "stdout",
     "output_type": "stream",
     "text": [
      "Epoch: 12/60... Step: 100... Loss: -11.834824... Val Loss: -12.485998\n",
      "Epoch: 23/60... Step: 200... Loss: -13.000902... Val Loss: -12.295265\n",
      "Epoch: 34/60... Step: 300... Loss: -15.176683... Val Loss: -13.924147\n",
      "Epoch: 45/60... Step: 400... Loss: -15.927078... Val Loss: -14.273426\n",
      "Epoch: 56/60... Step: 500... Loss: -15.262585... Val Loss: -13.042825\n"
     ]
    },
    {
     "name": "stderr",
     "output_type": "stream",
     "text": [
      "100%|██████████| 15/15 [48:25<00:00, 193.72s/it]\n",
      "  0%|          | 0/15 [00:00<?, ?it/s]"
     ]
    },
    {
     "name": "stdout",
     "output_type": "stream",
     "text": [
      "Epoch: 12/60... Step: 100... Loss: -11.287729... Val Loss: -10.411242\n",
      "Epoch: 23/60... Step: 200... Loss: -11.002137... Val Loss: -10.321848\n",
      "Epoch: 34/60... Step: 300... Loss: -17.543226... Val Loss: -11.306400\n",
      "Epoch: 45/60... Step: 400... Loss: -12.618061... Val Loss: -11.636654\n",
      "Epoch: 56/60... Step: 500... Loss: -12.933479... Val Loss: -11.106973\n"
     ]
    },
    {
     "name": "stderr",
     "output_type": "stream",
     "text": [
      "\r",
      "  7%|▋         | 1/15 [03:08<43:54, 188.21s/it]"
     ]
    },
    {
     "name": "stdout",
     "output_type": "stream",
     "text": [
      "Epoch: 12/60... Step: 100... Loss: -10.462276... Val Loss: -9.931747\n",
      "Epoch: 23/60... Step: 200... Loss: -13.377131... Val Loss: -12.041094\n",
      "Epoch: 34/60... Step: 300... Loss: -12.472792... Val Loss: -10.896715\n",
      "Epoch: 45/60... Step: 400... Loss: -12.954172... Val Loss: -12.493089\n",
      "Epoch: 56/60... Step: 500... Loss: -13.105157... Val Loss: -12.369365\n"
     ]
    },
    {
     "name": "stderr",
     "output_type": "stream",
     "text": [
      "\r",
      " 13%|█▎        | 2/15 [06:19<40:58, 189.14s/it]"
     ]
    },
    {
     "name": "stdout",
     "output_type": "stream",
     "text": [
      "Epoch: 12/60... Step: 100... Loss: -12.386003... Val Loss: -10.630764\n",
      "Epoch: 23/60... Step: 200... Loss: -12.296039... Val Loss: -13.900709\n",
      "Epoch: 34/60... Step: 300... Loss: -16.480211... Val Loss: -12.889894\n",
      "Epoch: 45/60... Step: 400... Loss: -13.516802... Val Loss: -12.086021\n",
      "Epoch: 56/60... Step: 500... Loss: -12.394791... Val Loss: -13.993031\n"
     ]
    },
    {
     "name": "stderr",
     "output_type": "stream",
     "text": [
      "\r",
      " 20%|██        | 3/15 [09:31<37:58, 189.91s/it]"
     ]
    },
    {
     "name": "stdout",
     "output_type": "stream",
     "text": [
      "Epoch: 12/60... Step: 100... Loss: -10.542287... Val Loss: -10.453862\n",
      "Epoch: 23/60... Step: 200... Loss: -11.154682... Val Loss: -12.721856\n",
      "Epoch: 34/60... Step: 300... Loss: -11.528512... Val Loss: -10.950072\n",
      "Epoch: 45/60... Step: 400... Loss: -12.641588... Val Loss: -14.258650\n",
      "Epoch: 56/60... Step: 500... Loss: -14.562836... Val Loss: -12.539993\n"
     ]
    },
    {
     "name": "stderr",
     "output_type": "stream",
     "text": [
      "\r",
      " 27%|██▋       | 4/15 [12:42<34:54, 190.40s/it]"
     ]
    },
    {
     "name": "stdout",
     "output_type": "stream",
     "text": [
      "Epoch: 12/60... Step: 100... Loss: -14.707652... Val Loss: -12.333693\n",
      "Epoch: 23/60... Step: 200... Loss: -13.004627... Val Loss: -12.757804\n",
      "Epoch: 34/60... Step: 300... Loss: -15.443543... Val Loss: -14.307202\n",
      "Epoch: 45/60... Step: 400... Loss: -14.576843... Val Loss: -13.451124\n",
      "Epoch: 56/60... Step: 500... Loss: -17.573214... Val Loss: -12.471298\n"
     ]
    },
    {
     "name": "stderr",
     "output_type": "stream",
     "text": [
      "\r",
      " 33%|███▎      | 5/15 [15:55<31:51, 191.15s/it]"
     ]
    },
    {
     "name": "stdout",
     "output_type": "stream",
     "text": [
      "Epoch: 12/60... Step: 100... Loss: -13.904091... Val Loss: -11.233051\n",
      "Epoch: 23/60... Step: 200... Loss: -15.241164... Val Loss: -12.804467\n",
      "Epoch: 34/60... Step: 300... Loss: -16.763327... Val Loss: -14.159382\n",
      "Epoch: 45/60... Step: 400... Loss: -12.451889... Val Loss: -12.854192\n",
      "Epoch: 56/60... Step: 500... Loss: -17.198120... Val Loss: -13.595778\n"
     ]
    },
    {
     "name": "stderr",
     "output_type": "stream",
     "text": [
      "\r",
      " 40%|████      | 6/15 [19:10<28:49, 192.18s/it]"
     ]
    },
    {
     "name": "stdout",
     "output_type": "stream",
     "text": [
      "Epoch: 12/60... Step: 100... Loss: -9.237848... Val Loss: -11.450321\n",
      "Epoch: 23/60... Step: 200... Loss: -12.478277... Val Loss: -12.543837\n",
      "Epoch: 34/60... Step: 300... Loss: -15.073865... Val Loss: -13.778105\n",
      "Epoch: 45/60... Step: 400... Loss: -17.044466... Val Loss: -12.889943\n",
      "Epoch: 56/60... Step: 500... Loss: -13.169356... Val Loss: -13.423989\n"
     ]
    },
    {
     "name": "stderr",
     "output_type": "stream",
     "text": [
      "\r",
      " 47%|████▋     | 7/15 [22:24<25:41, 192.66s/it]"
     ]
    },
    {
     "name": "stdout",
     "output_type": "stream",
     "text": [
      "Epoch: 12/60... Step: 100... Loss: -14.583605... Val Loss: -12.236135\n",
      "Epoch: 23/60... Step: 200... Loss: -11.730925... Val Loss: -12.243473\n",
      "Epoch: 34/60... Step: 300... Loss: -12.766129... Val Loss: -13.137992\n",
      "Epoch: 45/60... Step: 400... Loss: -15.201043... Val Loss: -14.315555\n",
      "Epoch: 56/60... Step: 500... Loss: -12.415421... Val Loss: -13.463252\n"
     ]
    },
    {
     "name": "stderr",
     "output_type": "stream",
     "text": [
      "\r",
      " 53%|█████▎    | 8/15 [25:38<22:33, 193.31s/it]"
     ]
    },
    {
     "name": "stdout",
     "output_type": "stream",
     "text": [
      "Epoch: 12/60... Step: 100... Loss: -10.407577... Val Loss: -10.775322\n",
      "Epoch: 23/60... Step: 200... Loss: -11.900039... Val Loss: -12.511070\n",
      "Epoch: 34/60... Step: 300... Loss: -15.910519... Val Loss: -13.437139\n",
      "Epoch: 45/60... Step: 400... Loss: -13.914035... Val Loss: -13.654073\n",
      "Epoch: 56/60... Step: 500... Loss: -13.225389... Val Loss: -12.036396\n"
     ]
    },
    {
     "name": "stderr",
     "output_type": "stream",
     "text": [
      "\r",
      " 60%|██████    | 9/15 [28:52<19:20, 193.47s/it]"
     ]
    },
    {
     "name": "stdout",
     "output_type": "stream",
     "text": [
      "Epoch: 12/60... Step: 100... Loss: -15.192909... Val Loss: -11.814554\n",
      "Epoch: 23/60... Step: 200... Loss: -17.488176... Val Loss: -12.958236\n",
      "Epoch: 34/60... Step: 300... Loss: -15.780514... Val Loss: -12.292451\n",
      "Epoch: 45/60... Step: 400... Loss: -13.864338... Val Loss: -13.650607\n",
      "Epoch: 56/60... Step: 500... Loss: -14.931110... Val Loss: -14.059270\n"
     ]
    },
    {
     "name": "stderr",
     "output_type": "stream",
     "text": [
      "\r",
      " 67%|██████▋   | 10/15 [32:07<16:08, 193.73s/it]"
     ]
    },
    {
     "name": "stdout",
     "output_type": "stream",
     "text": [
      "Epoch: 12/60... Step: 100... Loss: -14.402802... Val Loss: -10.941234\n",
      "Epoch: 23/60... Step: 200... Loss: -13.394148... Val Loss: -13.016081\n",
      "Epoch: 34/60... Step: 300... Loss: -11.305741... Val Loss: -11.782514\n",
      "Epoch: 45/60... Step: 400... Loss: -12.493689... Val Loss: -11.852712\n",
      "Epoch: 56/60... Step: 500... Loss: -15.694061... Val Loss: -12.540996\n"
     ]
    },
    {
     "name": "stderr",
     "output_type": "stream",
     "text": [
      "\r",
      " 73%|███████▎  | 11/15 [35:21<12:55, 193.91s/it]"
     ]
    },
    {
     "name": "stdout",
     "output_type": "stream",
     "text": [
      "Epoch: 12/60... Step: 100... Loss: -10.779039... Val Loss: -11.995288\n",
      "Epoch: 23/60... Step: 200... Loss: -13.189261... Val Loss: -12.668996\n",
      "Epoch: 34/60... Step: 300... Loss: -10.975831... Val Loss: -13.633358\n",
      "Epoch: 45/60... Step: 400... Loss: -14.857799... Val Loss: -11.942452\n",
      "Epoch: 56/60... Step: 500... Loss: -15.590593... Val Loss: -10.169552\n"
     ]
    },
    {
     "name": "stderr",
     "output_type": "stream",
     "text": [
      "\r",
      " 80%|████████  | 12/15 [38:35<09:41, 193.88s/it]"
     ]
    },
    {
     "name": "stdout",
     "output_type": "stream",
     "text": [
      "Epoch: 12/60... Step: 100... Loss: -14.124703... Val Loss: -11.927494\n",
      "Epoch: 23/60... Step: 200... Loss: -11.327846... Val Loss: -13.326401\n",
      "Epoch: 34/60... Step: 300... Loss: -13.038296... Val Loss: -13.680631\n",
      "Epoch: 45/60... Step: 400... Loss: -14.223920... Val Loss: -13.308412\n",
      "Epoch: 56/60... Step: 500... Loss: -12.895805... Val Loss: -12.624036\n"
     ]
    },
    {
     "name": "stderr",
     "output_type": "stream",
     "text": [
      "\r",
      " 87%|████████▋ | 13/15 [41:49<06:27, 193.88s/it]"
     ]
    },
    {
     "name": "stdout",
     "output_type": "stream",
     "text": [
      "Epoch: 12/60... Step: 100... Loss: -11.716861... Val Loss: -13.096408\n",
      "Epoch: 23/60... Step: 200... Loss: -15.945297... Val Loss: -14.104588\n",
      "Epoch: 34/60... Step: 300... Loss: -13.343687... Val Loss: -12.513269\n",
      "Epoch: 45/60... Step: 400... Loss: -13.607170... Val Loss: -14.425147\n",
      "Epoch: 56/60... Step: 500... Loss: -18.599663... Val Loss: -14.345980\n"
     ]
    },
    {
     "name": "stderr",
     "output_type": "stream",
     "text": [
      "\r",
      " 93%|█████████▎| 14/15 [45:02<03:13, 193.76s/it]"
     ]
    },
    {
     "name": "stdout",
     "output_type": "stream",
     "text": [
      "Epoch: 12/60... Step: 100... Loss: -10.165329... Val Loss: -11.713346\n",
      "Epoch: 23/60... Step: 200... Loss: -14.288071... Val Loss: -13.170150\n",
      "Epoch: 34/60... Step: 300... Loss: -15.238588... Val Loss: -12.678126\n",
      "Epoch: 45/60... Step: 400... Loss: -15.823153... Val Loss: -13.934052\n",
      "Epoch: 56/60... Step: 500... Loss: -14.231366... Val Loss: -13.497097\n"
     ]
    },
    {
     "name": "stderr",
     "output_type": "stream",
     "text": [
      "100%|██████████| 15/15 [48:15<00:00, 193.00s/it]\n",
      "  0%|          | 0/15 [00:00<?, ?it/s]"
     ]
    },
    {
     "name": "stdout",
     "output_type": "stream",
     "text": [
      "Epoch: 12/60... Step: 100... Loss: -7.616084... Val Loss: -8.341374\n",
      "Epoch: 23/60... Step: 200... Loss: -11.027034... Val Loss: -12.376677\n",
      "Epoch: 34/60... Step: 300... Loss: -14.002073... Val Loss: -11.175960\n",
      "Epoch: 45/60... Step: 400... Loss: -12.173027... Val Loss: -12.221900\n",
      "Epoch: 56/60... Step: 500... Loss: -9.379190... Val Loss: -10.980982\n"
     ]
    },
    {
     "name": "stderr",
     "output_type": "stream",
     "text": [
      "\r",
      "  7%|▋         | 1/15 [03:09<44:10, 189.30s/it]"
     ]
    },
    {
     "name": "stdout",
     "output_type": "stream",
     "text": [
      "Epoch: 12/60... Step: 100... Loss: -13.792557... Val Loss: -10.239845\n",
      "Epoch: 23/60... Step: 200... Loss: -11.414380... Val Loss: -10.890578\n",
      "Epoch: 34/60... Step: 300... Loss: -12.402657... Val Loss: -10.266778\n",
      "Epoch: 45/60... Step: 400... Loss: -11.620620... Val Loss: -12.507970\n",
      "Epoch: 56/60... Step: 500... Loss: -15.944315... Val Loss: -12.200194\n"
     ]
    },
    {
     "name": "stderr",
     "output_type": "stream",
     "text": [
      "\r",
      " 13%|█▎        | 2/15 [06:22<41:17, 190.54s/it]"
     ]
    },
    {
     "name": "stdout",
     "output_type": "stream",
     "text": [
      "Epoch: 12/60... Step: 100... Loss: -14.311626... Val Loss: -13.034425\n",
      "Epoch: 23/60... Step: 200... Loss: -14.186653... Val Loss: -13.344013\n",
      "Epoch: 34/60... Step: 300... Loss: -17.720345... Val Loss: -12.024444\n",
      "Epoch: 45/60... Step: 400... Loss: -14.603890... Val Loss: -12.935246\n",
      "Epoch: 56/60... Step: 500... Loss: -13.260569... Val Loss: -12.737460\n"
     ]
    },
    {
     "name": "stderr",
     "output_type": "stream",
     "text": [
      "\r",
      " 20%|██        | 3/15 [09:37<38:21, 191.81s/it]"
     ]
    },
    {
     "name": "stdout",
     "output_type": "stream",
     "text": [
      "Epoch: 12/60... Step: 100... Loss: -15.753994... Val Loss: -9.121378\n",
      "Epoch: 23/60... Step: 200... Loss: -12.682385... Val Loss: -12.668819\n",
      "Epoch: 34/60... Step: 300... Loss: -13.993114... Val Loss: -12.975894\n",
      "Epoch: 45/60... Step: 400... Loss: -11.729614... Val Loss: -14.518331\n",
      "Epoch: 56/60... Step: 500... Loss: -13.103716... Val Loss: -13.480104\n"
     ]
    },
    {
     "name": "stderr",
     "output_type": "stream",
     "text": [
      "\r",
      " 27%|██▋       | 4/15 [12:51<35:15, 192.33s/it]"
     ]
    },
    {
     "name": "stdout",
     "output_type": "stream",
     "text": [
      "Epoch: 12/60... Step: 100... Loss: -12.416698... Val Loss: -12.310308\n",
      "Epoch: 23/60... Step: 200... Loss: -13.477882... Val Loss: -13.564134\n",
      "Epoch: 34/60... Step: 300... Loss: -13.187766... Val Loss: -12.415074\n",
      "Epoch: 45/60... Step: 400... Loss: -15.065748... Val Loss: -13.185545\n",
      "Epoch: 56/60... Step: 500... Loss: -17.129608... Val Loss: -10.368445\n"
     ]
    },
    {
     "name": "stderr",
     "output_type": "stream",
     "text": [
      "\r",
      " 33%|███▎      | 5/15 [16:05<32:09, 192.98s/it]"
     ]
    },
    {
     "name": "stdout",
     "output_type": "stream",
     "text": [
      "Epoch: 12/60... Step: 100... Loss: -14.758873... Val Loss: -11.152287\n",
      "Epoch: 23/60... Step: 200... Loss: -15.014816... Val Loss: -13.665817\n",
      "Epoch: 34/60... Step: 300... Loss: -13.439280... Val Loss: -13.491858\n",
      "Epoch: 45/60... Step: 400... Loss: -16.215214... Val Loss: -13.407622\n",
      "Epoch: 56/60... Step: 500... Loss: -16.011896... Val Loss: -13.314774\n"
     ]
    },
    {
     "name": "stderr",
     "output_type": "stream",
     "text": [
      "\r",
      " 40%|████      | 6/15 [19:20<29:02, 193.65s/it]"
     ]
    },
    {
     "name": "stdout",
     "output_type": "stream",
     "text": [
      "Epoch: 12/60... Step: 100... Loss: -12.859781... Val Loss: -11.309157\n",
      "Epoch: 23/60... Step: 200... Loss: -15.300644... Val Loss: -13.551931\n",
      "Epoch: 34/60... Step: 300... Loss: -7.540582... Val Loss: -7.697472\n",
      "Epoch: 45/60... Step: 400... Loss: -11.961106... Val Loss: -13.197172\n",
      "Epoch: 56/60... Step: 500... Loss: -13.699364... Val Loss: -12.757854\n"
     ]
    },
    {
     "name": "stderr",
     "output_type": "stream",
     "text": [
      "\r",
      " 47%|████▋     | 7/15 [22:36<25:53, 194.16s/it]"
     ]
    },
    {
     "name": "stdout",
     "output_type": "stream",
     "text": [
      "Epoch: 12/60... Step: 100... Loss: -10.294786... Val Loss: -13.170965\n",
      "Epoch: 23/60... Step: 200... Loss: -14.735225... Val Loss: -12.572054\n",
      "Epoch: 34/60... Step: 300... Loss: -13.458412... Val Loss: -12.939531\n",
      "Epoch: 45/60... Step: 400... Loss: -13.751168... Val Loss: -14.583138\n",
      "Epoch: 56/60... Step: 500... Loss: -14.423887... Val Loss: -13.000523\n"
     ]
    },
    {
     "name": "stderr",
     "output_type": "stream",
     "text": [
      "\r",
      " 53%|█████▎    | 8/15 [25:50<22:40, 194.33s/it]"
     ]
    },
    {
     "name": "stdout",
     "output_type": "stream",
     "text": [
      "Epoch: 12/60... Step: 100... Loss: -10.155502... Val Loss: -11.624724\n",
      "Epoch: 23/60... Step: 200... Loss: -15.616097... Val Loss: -12.701177\n",
      "Epoch: 34/60... Step: 300... Loss: -18.033360... Val Loss: -12.895967\n",
      "Epoch: 45/60... Step: 400... Loss: -15.769467... Val Loss: -9.379573\n",
      "Epoch: 56/60... Step: 500... Loss: -15.309310... Val Loss: -13.892764\n"
     ]
    },
    {
     "name": "stderr",
     "output_type": "stream",
     "text": [
      "\r",
      " 60%|██████    | 9/15 [29:04<19:24, 194.13s/it]"
     ]
    },
    {
     "name": "stdout",
     "output_type": "stream",
     "text": [
      "Epoch: 12/60... Step: 100... Loss: -15.594537... Val Loss: -11.898396\n",
      "Epoch: 23/60... Step: 200... Loss: -12.647236... Val Loss: -13.343933\n",
      "Epoch: 34/60... Step: 300... Loss: -16.362583... Val Loss: -13.172669\n",
      "Epoch: 45/60... Step: 400... Loss: -11.665011... Val Loss: -12.770900\n",
      "Epoch: 56/60... Step: 500... Loss: -14.858095... Val Loss: -13.190147\n"
     ]
    },
    {
     "name": "stderr",
     "output_type": "stream",
     "text": [
      "\r",
      " 67%|██████▋   | 10/15 [32:17<16:08, 193.72s/it]"
     ]
    },
    {
     "name": "stdout",
     "output_type": "stream",
     "text": [
      "Epoch: 12/60... Step: 100... Loss: -12.238619... Val Loss: -11.954273\n",
      "Epoch: 23/60... Step: 200... Loss: -14.617862... Val Loss: -13.048752\n",
      "Epoch: 34/60... Step: 300... Loss: -14.692254... Val Loss: -13.843802\n",
      "Epoch: 45/60... Step: 400... Loss: -11.842009... Val Loss: -12.948089\n",
      "Epoch: 56/60... Step: 500... Loss: -15.706330... Val Loss: -13.002918\n"
     ]
    },
    {
     "name": "stderr",
     "output_type": "stream",
     "text": [
      "\r",
      " 73%|███████▎  | 11/15 [35:29<12:53, 193.25s/it]"
     ]
    },
    {
     "name": "stdout",
     "output_type": "stream",
     "text": [
      "Epoch: 12/60... Step: 100... Loss: -10.734888... Val Loss: -12.259580\n",
      "Epoch: 23/60... Step: 200... Loss: -14.202201... Val Loss: -12.094166\n",
      "Epoch: 34/60... Step: 300... Loss: -15.895151... Val Loss: -11.970738\n",
      "Epoch: 45/60... Step: 400... Loss: -13.036610... Val Loss: -11.266822\n",
      "Epoch: 56/60... Step: 500... Loss: -17.419958... Val Loss: -13.252465\n"
     ]
    },
    {
     "name": "stderr",
     "output_type": "stream",
     "text": [
      "\r",
      " 80%|████████  | 12/15 [38:42<09:39, 193.21s/it]"
     ]
    },
    {
     "name": "stdout",
     "output_type": "stream",
     "text": [
      "Epoch: 12/60... Step: 100... Loss: -12.504154... Val Loss: -11.715144\n",
      "Epoch: 23/60... Step: 200... Loss: -15.406202... Val Loss: -13.528073\n",
      "Epoch: 34/60... Step: 300... Loss: -12.114019... Val Loss: -13.171299\n",
      "Epoch: 45/60... Step: 400... Loss: -13.631967... Val Loss: -13.387184\n",
      "Epoch: 56/60... Step: 500... Loss: -11.238332... Val Loss: -14.206656\n"
     ]
    },
    {
     "name": "stderr",
     "output_type": "stream",
     "text": [
      "\r",
      " 87%|████████▋ | 13/15 [41:56<06:26, 193.36s/it]"
     ]
    },
    {
     "name": "stdout",
     "output_type": "stream",
     "text": [
      "Epoch: 12/60... Step: 100... Loss: -13.388369... Val Loss: -12.122507\n",
      "Epoch: 23/60... Step: 200... Loss: -11.432512... Val Loss: -12.925037\n",
      "Epoch: 34/60... Step: 300... Loss: -13.083488... Val Loss: -13.923722\n",
      "Epoch: 45/60... Step: 400... Loss: -13.606580... Val Loss: -12.786525\n",
      "Epoch: 56/60... Step: 500... Loss: -17.322046... Val Loss: -12.388608\n"
     ]
    },
    {
     "name": "stderr",
     "output_type": "stream",
     "text": [
      "\r",
      " 93%|█████████▎| 14/15 [45:09<03:13, 193.29s/it]"
     ]
    },
    {
     "name": "stdout",
     "output_type": "stream",
     "text": [
      "Epoch: 12/60... Step: 100... Loss: -9.774260... Val Loss: -11.929474\n",
      "Epoch: 23/60... Step: 200... Loss: -16.743835... Val Loss: -11.618609\n",
      "Epoch: 34/60... Step: 300... Loss: -15.805795... Val Loss: -13.552842\n",
      "Epoch: 45/60... Step: 400... Loss: -14.152217... Val Loss: -12.523181\n",
      "Epoch: 56/60... Step: 500... Loss: -14.964305... Val Loss: -13.898314\n"
     ]
    },
    {
     "name": "stderr",
     "output_type": "stream",
     "text": [
      "100%|██████████| 15/15 [48:21<00:00, 193.46s/it]\n",
      "  0%|          | 0/15 [00:00<?, ?it/s]"
     ]
    },
    {
     "name": "stdout",
     "output_type": "stream",
     "text": [
      "Epoch: 12/60... Step: 100... Loss: -10.648435... Val Loss: -10.941902\n",
      "Epoch: 23/60... Step: 200... Loss: -12.831678... Val Loss: -10.724401\n",
      "Epoch: 34/60... Step: 300... Loss: -13.549917... Val Loss: -12.063157\n",
      "Epoch: 45/60... Step: 400... Loss: -13.109446... Val Loss: -12.148387\n",
      "Epoch: 56/60... Step: 500... Loss: -12.237700... Val Loss: -11.254472\n"
     ]
    },
    {
     "name": "stderr",
     "output_type": "stream",
     "text": [
      "\r",
      "  7%|▋         | 1/15 [03:08<44:02, 188.75s/it]"
     ]
    },
    {
     "name": "stdout",
     "output_type": "stream",
     "text": [
      "Epoch: 12/60... Step: 100... Loss: -10.471813... Val Loss: -9.136939\n",
      "Epoch: 23/60... Step: 200... Loss: -13.063057... Val Loss: -10.345244\n",
      "Epoch: 34/60... Step: 300... Loss: -11.966905... Val Loss: -10.473141\n",
      "Epoch: 45/60... Step: 400... Loss: -15.321548... Val Loss: -12.050283\n",
      "Epoch: 56/60... Step: 500... Loss: -10.557780... Val Loss: -11.644285\n"
     ]
    },
    {
     "name": "stderr",
     "output_type": "stream",
     "text": [
      "\r",
      " 13%|█▎        | 2/15 [06:21<41:08, 189.87s/it]"
     ]
    },
    {
     "name": "stdout",
     "output_type": "stream",
     "text": [
      "Epoch: 12/60... Step: 100... Loss: -10.027795... Val Loss: -12.328194\n",
      "Epoch: 23/60... Step: 200... Loss: -15.184023... Val Loss: -13.235950\n",
      "Epoch: 34/60... Step: 300... Loss: -13.425800... Val Loss: -13.471820\n",
      "Epoch: 45/60... Step: 400... Loss: -15.060133... Val Loss: -12.608397\n",
      "Epoch: 56/60... Step: 500... Loss: -16.582500... Val Loss: -12.890879\n"
     ]
    },
    {
     "name": "stderr",
     "output_type": "stream",
     "text": [
      "\r",
      " 20%|██        | 3/15 [09:34<38:11, 190.92s/it]"
     ]
    },
    {
     "name": "stdout",
     "output_type": "stream",
     "text": [
      "Epoch: 12/60... Step: 100... Loss: -14.301570... Val Loss: -12.211427\n",
      "Epoch: 23/60... Step: 200... Loss: -14.415982... Val Loss: -12.542129\n",
      "Epoch: 34/60... Step: 300... Loss: -15.029446... Val Loss: -14.133757\n",
      "Epoch: 45/60... Step: 400... Loss: -13.566178... Val Loss: -13.398328\n",
      "Epoch: 56/60... Step: 500... Loss: -15.435760... Val Loss: -13.392438\n"
     ]
    },
    {
     "name": "stderr",
     "output_type": "stream",
     "text": [
      "\r",
      " 27%|██▋       | 4/15 [12:46<35:03, 191.20s/it]"
     ]
    },
    {
     "name": "stdout",
     "output_type": "stream",
     "text": [
      "Epoch: 12/60... Step: 100... Loss: -15.285830... Val Loss: -12.223797\n",
      "Epoch: 23/60... Step: 200... Loss: -16.496944... Val Loss: -13.126360\n"
     ]
    },
    {
     "name": "stderr",
     "output_type": "stream",
     "text": [
      "\r",
      " 33%|███▎      | 5/15 [15:59<31:56, 191.64s/it]"
     ]
    },
    {
     "name": "stdout",
     "output_type": "stream",
     "text": [
      "Epoch: 12/60... Step: 100... Loss: -15.531969... Val Loss: -10.564230\n",
      "Epoch: 23/60... Step: 200... Loss: -13.586285... Val Loss: -12.332366\n",
      "Epoch: 34/60... Step: 300... Loss: -12.686016... Val Loss: -14.272463\n",
      "Epoch: 45/60... Step: 400... Loss: -13.021203... Val Loss: -13.029496\n",
      "Epoch: 56/60... Step: 500... Loss: -14.936405... Val Loss: -13.692878\n"
     ]
    },
    {
     "name": "stderr",
     "output_type": "stream",
     "text": [
      "\r",
      " 40%|████      | 6/15 [19:13<28:52, 192.49s/it]"
     ]
    },
    {
     "name": "stdout",
     "output_type": "stream",
     "text": [
      "Epoch: 12/60... Step: 100... Loss: -10.689701... Val Loss: -11.675867\n",
      "Epoch: 23/60... Step: 200... Loss: -17.545509... Val Loss: -13.533486\n",
      "Epoch: 34/60... Step: 300... Loss: -11.206672... Val Loss: -13.005500\n",
      "Epoch: 45/60... Step: 400... Loss: -12.122001... Val Loss: -13.250513\n",
      "Epoch: 56/60... Step: 500... Loss: -13.231661... Val Loss: -13.013427\n"
     ]
    },
    {
     "name": "stderr",
     "output_type": "stream",
     "text": [
      "\r",
      " 47%|████▋     | 7/15 [22:28<25:44, 193.08s/it]"
     ]
    },
    {
     "name": "stdout",
     "output_type": "stream",
     "text": [
      "Epoch: 12/60... Step: 100... Loss: -11.246843... Val Loss: -12.887143\n",
      "Epoch: 23/60... Step: 200... Loss: -14.529646... Val Loss: -12.129987\n",
      "Epoch: 34/60... Step: 300... Loss: -16.050041... Val Loss: -11.716373\n",
      "Epoch: 45/60... Step: 400... Loss: -13.906025... Val Loss: -13.816010\n",
      "Epoch: 56/60... Step: 500... Loss: -16.854006... Val Loss: -12.031860\n"
     ]
    },
    {
     "name": "stderr",
     "output_type": "stream",
     "text": [
      "\r",
      " 53%|█████▎    | 8/15 [25:41<22:33, 193.33s/it]"
     ]
    },
    {
     "name": "stdout",
     "output_type": "stream",
     "text": [
      "Epoch: 12/60... Step: 100... Loss: -11.701989... Val Loss: -13.073736\n",
      "Epoch: 23/60... Step: 200... Loss: -16.201038... Val Loss: -13.079776\n",
      "Epoch: 34/60... Step: 300... Loss: -13.437613... Val Loss: -12.397706\n",
      "Epoch: 45/60... Step: 400... Loss: -13.676787... Val Loss: -9.482735\n",
      "Epoch: 56/60... Step: 500... Loss: -11.805099... Val Loss: -12.758060\n"
     ]
    },
    {
     "name": "stderr",
     "output_type": "stream",
     "text": [
      "\r",
      " 60%|██████    | 9/15 [28:55<19:21, 193.50s/it]"
     ]
    },
    {
     "name": "stdout",
     "output_type": "stream",
     "text": [
      "Epoch: 12/60... Step: 100... Loss: -13.466532... Val Loss: -11.363164\n",
      "Epoch: 23/60... Step: 200... Loss: -11.447117... Val Loss: -10.596937\n",
      "Epoch: 34/60... Step: 300... Loss: -13.770378... Val Loss: -13.355561\n",
      "Epoch: 45/60... Step: 400... Loss: -15.984125... Val Loss: -13.614915\n",
      "Epoch: 56/60... Step: 500... Loss: -11.700877... Val Loss: -12.759949\n"
     ]
    },
    {
     "name": "stderr",
     "output_type": "stream",
     "text": [
      "\r",
      " 67%|██████▋   | 10/15 [32:09<16:07, 193.41s/it]"
     ]
    },
    {
     "name": "stdout",
     "output_type": "stream",
     "text": [
      "Epoch: 12/60... Step: 100... Loss: -13.229148... Val Loss: -10.614355\n",
      "Epoch: 23/60... Step: 200... Loss: -13.392942... Val Loss: -11.939716\n",
      "Epoch: 34/60... Step: 300... Loss: -13.560910... Val Loss: -13.763385\n",
      "Epoch: 45/60... Step: 400... Loss: -13.071096... Val Loss: -13.989400\n",
      "Epoch: 56/60... Step: 500... Loss: -12.490665... Val Loss: -13.801361\n"
     ]
    },
    {
     "name": "stderr",
     "output_type": "stream",
     "text": [
      "\r",
      " 73%|███████▎  | 11/15 [35:24<12:55, 193.95s/it]"
     ]
    },
    {
     "name": "stdout",
     "output_type": "stream",
     "text": [
      "Epoch: 12/60... Step: 100... Loss: -13.011583... Val Loss: -11.120593\n",
      "Epoch: 23/60... Step: 200... Loss: -11.598837... Val Loss: -12.332396\n",
      "Epoch: 34/60... Step: 300... Loss: -13.377518... Val Loss: -12.920950\n",
      "Epoch: 45/60... Step: 400... Loss: -14.222922... Val Loss: -13.791344\n",
      "Epoch: 56/60... Step: 500... Loss: -15.111483... Val Loss: -14.124712\n"
     ]
    },
    {
     "name": "stderr",
     "output_type": "stream",
     "text": [
      "\r",
      " 80%|████████  | 12/15 [38:38<09:42, 194.07s/it]"
     ]
    },
    {
     "name": "stdout",
     "output_type": "stream",
     "text": [
      "Epoch: 12/60... Step: 100... Loss: -16.094137... Val Loss: -11.535147\n",
      "Epoch: 23/60... Step: 200... Loss: -12.514978... Val Loss: -12.881446\n",
      "Epoch: 34/60... Step: 300... Loss: -15.282578... Val Loss: -12.175389\n",
      "Epoch: 45/60... Step: 400... Loss: -12.109629... Val Loss: -13.096707\n",
      "Epoch: 56/60... Step: 500... Loss: -14.849877... Val Loss: -12.130140\n"
     ]
    },
    {
     "name": "stderr",
     "output_type": "stream",
     "text": [
      "\r",
      " 87%|████████▋ | 13/15 [41:54<06:29, 194.57s/it]"
     ]
    },
    {
     "name": "stdout",
     "output_type": "stream",
     "text": [
      "Epoch: 12/60... Step: 100... Loss: -13.320411... Val Loss: -11.881021\n",
      "Epoch: 23/60... Step: 200... Loss: -14.432732... Val Loss: -12.531888\n",
      "Epoch: 34/60... Step: 300... Loss: -13.864177... Val Loss: -12.883464\n",
      "Epoch: 45/60... Step: 400... Loss: -14.868004... Val Loss: -14.389764\n",
      "Epoch: 56/60... Step: 500... Loss: -14.785728... Val Loss: -12.530510\n"
     ]
    },
    {
     "name": "stderr",
     "output_type": "stream",
     "text": [
      "\r",
      " 93%|█████████▎| 14/15 [45:09<03:14, 194.79s/it]"
     ]
    },
    {
     "name": "stdout",
     "output_type": "stream",
     "text": [
      "Epoch: 12/60... Step: 100... Loss: -10.173157... Val Loss: -12.433331\n",
      "Epoch: 23/60... Step: 200... Loss: -11.635512... Val Loss: -12.299506\n",
      "Epoch: 34/60... Step: 300... Loss: -17.382887... Val Loss: -13.687834\n",
      "Epoch: 45/60... Step: 400... Loss: -13.549789... Val Loss: -13.643354\n",
      "Epoch: 56/60... Step: 500... Loss: -15.461416... Val Loss: -12.471255\n"
     ]
    },
    {
     "name": "stderr",
     "output_type": "stream",
     "text": [
      "100%|██████████| 15/15 [48:25<00:00, 193.67s/it]\n"
     ]
    }
   ],
   "source": [
    "from tqdm import tqdm\n",
    "\n",
    "res_metrics = []\n",
    "res_auc = []\n",
    "for i in range(10):\n",
    "\n",
    "    ws = [1, 2, 3, 4, 5, 6, 7, 8, 16, 24, 32, 40, 48, 56, 64]\n",
    "    w_dict_metrics = {}\n",
    "    w_dict_auc = {}\n",
    "\n",
    "\n",
    "    for w in tqdm(ws):\n",
    "\n",
    "        model_LSTM_custom = LSTM(input_size=input_size, output_size=output_size, hidden_dim=hidden_dim, n_layers=n_layers)\n",
    "        loss_function = CustomLoss(w=w)\n",
    "        model_LSTM_custom.to(device)\n",
    "\n",
    "        model_LSTM_custom, (loss_list, acc_list, \n",
    "                            overall_val_loss_list) = train_model(model_LSTM_custom, loss_function, 60, 100, LSTM_flag=True)\n",
    "\n",
    "\n",
    "        test_batch_size = 64\n",
    "        final_test_loader = prepare_loader(test_data, test_labels, seq_len, input_size, test_batch_size, shuffle=False)\n",
    "\n",
    "        (fp_number_list_LSTM_custom, fn_number_list_LSTM_custom, \n",
    "         delay_list_LSTM_custom, fp_delay_list_LSTM_custom) = get_pareto_metrics_for_threshold(model_LSTM_custom, final_test_loader, \n",
    "                                                                                               threshold_list, LSTM_flag=True)\n",
    "\n",
    "        w_dict_metrics[w] = (fp_delay_list_LSTM_custom, delay_list_LSTM_custom)\n",
    "\n",
    "        w_dict_auc[w] = metrics.area_under_graph(delay_list_LSTM_custom, fp_delay_list_LSTM_custom)\n",
    "    res_metrics.append(w_dict_metrics)\n",
    "    res_auc.append(w_dict_auc)"
   ]
  },
  {
   "cell_type": "code",
   "execution_count": 39,
   "metadata": {},
   "outputs": [],
   "source": [
    "final_res_w = {}\n",
    "for w in ws:\n",
    "    curr_w = []\n",
    "    for auc in res_auc:\n",
    "        curr_w.append(auc[w])\n",
    "    final_res_w[w] = curr_w\n",
    "    \n",
    "import pandas as pd\n",
    "final_res_w = pd.DataFrame(final_res_w)"
   ]
  },
  {
   "cell_type": "code",
   "execution_count": 41,
   "metadata": {},
   "outputs": [],
   "source": [
    "final_res_w.to_csv('compare_ws_10_runs.csv', index=False)"
   ]
  },
  {
   "cell_type": "code",
   "execution_count": 45,
   "metadata": {},
   "outputs": [
    {
     "data": {
      "text/html": [
       "<div>\n",
       "<style scoped>\n",
       "    .dataframe tbody tr th:only-of-type {\n",
       "        vertical-align: middle;\n",
       "    }\n",
       "\n",
       "    .dataframe tbody tr th {\n",
       "        vertical-align: top;\n",
       "    }\n",
       "\n",
       "    .dataframe thead th {\n",
       "        text-align: right;\n",
       "    }\n",
       "</style>\n",
       "<table border=\"1\" class=\"dataframe\">\n",
       "  <thead>\n",
       "    <tr style=\"text-align: right;\">\n",
       "      <th></th>\n",
       "      <th>1</th>\n",
       "      <th>2</th>\n",
       "      <th>3</th>\n",
       "      <th>4</th>\n",
       "      <th>5</th>\n",
       "      <th>6</th>\n",
       "      <th>7</th>\n",
       "      <th>8</th>\n",
       "      <th>16</th>\n",
       "      <th>24</th>\n",
       "      <th>32</th>\n",
       "      <th>40</th>\n",
       "      <th>48</th>\n",
       "      <th>56</th>\n",
       "      <th>64</th>\n",
       "    </tr>\n",
       "  </thead>\n",
       "  <tbody>\n",
       "    <tr>\n",
       "      <th>0</th>\n",
       "      <td>883.115099</td>\n",
       "      <td>451.286567</td>\n",
       "      <td>420.578776</td>\n",
       "      <td>418.311768</td>\n",
       "      <td>433.171305</td>\n",
       "      <td>415.573758</td>\n",
       "      <td>424.430718</td>\n",
       "      <td>424.549967</td>\n",
       "      <td>414.285482</td>\n",
       "      <td>420.259820</td>\n",
       "      <td>419.248345</td>\n",
       "      <td>411.937473</td>\n",
       "      <td>412.350667</td>\n",
       "      <td>417.820692</td>\n",
       "      <td>417.378988</td>\n",
       "    </tr>\n",
       "    <tr>\n",
       "      <th>1</th>\n",
       "      <td>732.661784</td>\n",
       "      <td>461.190972</td>\n",
       "      <td>418.877414</td>\n",
       "      <td>429.900933</td>\n",
       "      <td>425.172418</td>\n",
       "      <td>429.130751</td>\n",
       "      <td>410.837457</td>\n",
       "      <td>417.042508</td>\n",
       "      <td>418.402778</td>\n",
       "      <td>425.491211</td>\n",
       "      <td>418.161431</td>\n",
       "      <td>416.524306</td>\n",
       "      <td>414.197374</td>\n",
       "      <td>417.722629</td>\n",
       "      <td>413.912869</td>\n",
       "    </tr>\n",
       "    <tr>\n",
       "      <th>2</th>\n",
       "      <td>712.057536</td>\n",
       "      <td>438.957791</td>\n",
       "      <td>414.317274</td>\n",
       "      <td>422.316406</td>\n",
       "      <td>427.214138</td>\n",
       "      <td>423.852620</td>\n",
       "      <td>416.839898</td>\n",
       "      <td>413.718804</td>\n",
       "      <td>421.199219</td>\n",
       "      <td>417.044868</td>\n",
       "      <td>416.590576</td>\n",
       "      <td>413.376628</td>\n",
       "      <td>420.627740</td>\n",
       "      <td>416.523790</td>\n",
       "      <td>463.176459</td>\n",
       "    </tr>\n",
       "    <tr>\n",
       "      <th>3</th>\n",
       "      <td>674.030599</td>\n",
       "      <td>449.785292</td>\n",
       "      <td>417.408637</td>\n",
       "      <td>426.924235</td>\n",
       "      <td>422.089979</td>\n",
       "      <td>419.158040</td>\n",
       "      <td>417.142063</td>\n",
       "      <td>420.497342</td>\n",
       "      <td>418.121989</td>\n",
       "      <td>414.895671</td>\n",
       "      <td>415.325548</td>\n",
       "      <td>413.324816</td>\n",
       "      <td>420.522895</td>\n",
       "      <td>428.548747</td>\n",
       "      <td>420.158312</td>\n",
       "    </tr>\n",
       "    <tr>\n",
       "      <th>4</th>\n",
       "      <td>779.933974</td>\n",
       "      <td>420.213786</td>\n",
       "      <td>413.796929</td>\n",
       "      <td>413.984728</td>\n",
       "      <td>416.793728</td>\n",
       "      <td>424.962999</td>\n",
       "      <td>430.687554</td>\n",
       "      <td>422.244141</td>\n",
       "      <td>417.204671</td>\n",
       "      <td>412.953613</td>\n",
       "      <td>414.048991</td>\n",
       "      <td>416.395291</td>\n",
       "      <td>421.336317</td>\n",
       "      <td>413.311822</td>\n",
       "      <td>415.961263</td>\n",
       "    </tr>\n",
       "    <tr>\n",
       "      <th>5</th>\n",
       "      <td>701.314806</td>\n",
       "      <td>529.173503</td>\n",
       "      <td>413.597982</td>\n",
       "      <td>418.719699</td>\n",
       "      <td>415.753906</td>\n",
       "      <td>419.619710</td>\n",
       "      <td>415.466580</td>\n",
       "      <td>416.873942</td>\n",
       "      <td>414.361057</td>\n",
       "      <td>419.029541</td>\n",
       "      <td>411.924995</td>\n",
       "      <td>415.073107</td>\n",
       "      <td>414.194933</td>\n",
       "      <td>420.496609</td>\n",
       "      <td>415.231364</td>\n",
       "    </tr>\n",
       "    <tr>\n",
       "      <th>6</th>\n",
       "      <td>791.396430</td>\n",
       "      <td>445.323622</td>\n",
       "      <td>417.218180</td>\n",
       "      <td>450.614882</td>\n",
       "      <td>414.364393</td>\n",
       "      <td>429.937012</td>\n",
       "      <td>427.120768</td>\n",
       "      <td>422.657172</td>\n",
       "      <td>423.244982</td>\n",
       "      <td>416.831896</td>\n",
       "      <td>429.030897</td>\n",
       "      <td>414.265354</td>\n",
       "      <td>417.591743</td>\n",
       "      <td>417.999186</td>\n",
       "      <td>416.479167</td>\n",
       "    </tr>\n",
       "    <tr>\n",
       "      <th>7</th>\n",
       "      <td>722.438965</td>\n",
       "      <td>413.310954</td>\n",
       "      <td>416.156630</td>\n",
       "      <td>426.466797</td>\n",
       "      <td>419.129449</td>\n",
       "      <td>419.605197</td>\n",
       "      <td>412.793132</td>\n",
       "      <td>416.578722</td>\n",
       "      <td>415.133192</td>\n",
       "      <td>415.802300</td>\n",
       "      <td>415.245795</td>\n",
       "      <td>420.320774</td>\n",
       "      <td>414.003581</td>\n",
       "      <td>419.385634</td>\n",
       "      <td>413.672146</td>\n",
       "    </tr>\n",
       "    <tr>\n",
       "      <th>8</th>\n",
       "      <td>754.440945</td>\n",
       "      <td>418.930556</td>\n",
       "      <td>414.904378</td>\n",
       "      <td>427.443414</td>\n",
       "      <td>419.732775</td>\n",
       "      <td>412.172689</td>\n",
       "      <td>414.770047</td>\n",
       "      <td>423.469645</td>\n",
       "      <td>416.838732</td>\n",
       "      <td>416.158312</td>\n",
       "      <td>414.651828</td>\n",
       "      <td>414.072293</td>\n",
       "      <td>417.710259</td>\n",
       "      <td>420.048258</td>\n",
       "      <td>416.909804</td>\n",
       "    </tr>\n",
       "    <tr>\n",
       "      <th>9</th>\n",
       "      <td>587.577610</td>\n",
       "      <td>435.228733</td>\n",
       "      <td>415.933784</td>\n",
       "      <td>419.876356</td>\n",
       "      <td>420.758301</td>\n",
       "      <td>415.271783</td>\n",
       "      <td>424.016195</td>\n",
       "      <td>420.998562</td>\n",
       "      <td>410.792914</td>\n",
       "      <td>410.250407</td>\n",
       "      <td>413.535346</td>\n",
       "      <td>414.129476</td>\n",
       "      <td>423.566732</td>\n",
       "      <td>418.701579</td>\n",
       "      <td>415.359429</td>\n",
       "    </tr>\n",
       "  </tbody>\n",
       "</table>\n",
       "</div>"
      ],
      "text/plain": [
       "           1           2           3           4           5           6   \\\n",
       "0  883.115099  451.286567  420.578776  418.311768  433.171305  415.573758   \n",
       "1  732.661784  461.190972  418.877414  429.900933  425.172418  429.130751   \n",
       "2  712.057536  438.957791  414.317274  422.316406  427.214138  423.852620   \n",
       "3  674.030599  449.785292  417.408637  426.924235  422.089979  419.158040   \n",
       "4  779.933974  420.213786  413.796929  413.984728  416.793728  424.962999   \n",
       "5  701.314806  529.173503  413.597982  418.719699  415.753906  419.619710   \n",
       "6  791.396430  445.323622  417.218180  450.614882  414.364393  429.937012   \n",
       "7  722.438965  413.310954  416.156630  426.466797  419.129449  419.605197   \n",
       "8  754.440945  418.930556  414.904378  427.443414  419.732775  412.172689   \n",
       "9  587.577610  435.228733  415.933784  419.876356  420.758301  415.271783   \n",
       "\n",
       "           7           8           16          24          32          40  \\\n",
       "0  424.430718  424.549967  414.285482  420.259820  419.248345  411.937473   \n",
       "1  410.837457  417.042508  418.402778  425.491211  418.161431  416.524306   \n",
       "2  416.839898  413.718804  421.199219  417.044868  416.590576  413.376628   \n",
       "3  417.142063  420.497342  418.121989  414.895671  415.325548  413.324816   \n",
       "4  430.687554  422.244141  417.204671  412.953613  414.048991  416.395291   \n",
       "5  415.466580  416.873942  414.361057  419.029541  411.924995  415.073107   \n",
       "6  427.120768  422.657172  423.244982  416.831896  429.030897  414.265354   \n",
       "7  412.793132  416.578722  415.133192  415.802300  415.245795  420.320774   \n",
       "8  414.770047  423.469645  416.838732  416.158312  414.651828  414.072293   \n",
       "9  424.016195  420.998562  410.792914  410.250407  413.535346  414.129476   \n",
       "\n",
       "           48          56          64  \n",
       "0  412.350667  417.820692  417.378988  \n",
       "1  414.197374  417.722629  413.912869  \n",
       "2  420.627740  416.523790  463.176459  \n",
       "3  420.522895  428.548747  420.158312  \n",
       "4  421.336317  413.311822  415.961263  \n",
       "5  414.194933  420.496609  415.231364  \n",
       "6  417.591743  417.999186  416.479167  \n",
       "7  414.003581  419.385634  413.672146  \n",
       "8  417.710259  420.048258  416.909804  \n",
       "9  423.566732  418.701579  415.359429  "
      ]
     },
     "execution_count": 45,
     "metadata": {},
     "output_type": "execute_result"
    }
   ],
   "source": [
    "final_res_w"
   ]
  },
  {
   "cell_type": "code",
   "execution_count": 47,
   "metadata": {},
   "outputs": [
    {
     "data": {
      "image/png": "[encoded data removed]",
      "text/plain": [
       "<Figure size 720x432 with 1 Axes>"
      ]
     },
     "metadata": {
      "needs_background": "light"
     },
     "output_type": "display_data"
    }
   ],
   "source": [
    "import seaborn as sns\n",
    "\n",
    "plt.figure(figsize=(10, 6))\n",
    "sns.boxplot(data=final_res_w.iloc[:, 2:])\n",
    "plt.xticks(fontsize=22);\n",
    "plt.yticks(fontsize=22);\n",
    "plt.xlabel('Hyperparameter W', fontsize=26)\n",
    "plt.ylabel('Result AUC', fontsize=26);\n",
    "plt.grid(axis='y')\n",
    "#plt.savefig('compare_ws.pdf', bbox_inches='tight')"
   ]
  },
  {
   "cell_type": "code",
   "execution_count": null,
   "metadata": {},
   "outputs": [],
   "source": []
  }
 ],
 "metadata": {
  "kernelspec": {
   "display_name": "Python 3",
   "language": "python",
   "name": "python3"
  },
  "language_info": {
   "codemirror_mode": {
    "name": "ipython",
    "version": 3
   },
   "file_extension": ".py",
   "mimetype": "text/x-python",
   "name": "python",
   "nbconvert_exporter": "python",
   "pygments_lexer": "ipython3",
   "version": "3.7.9"
  }
 },
 "nbformat": 4,
 "nbformat_minor": 2
}
