{
 "cells": [
  {
   "cell_type": "code",
   "execution_count": 1,
   "metadata": {},
   "outputs": [],
   "source": [
    "import numpy as np\n",
    "import scipy\n",
    "import matplotlib.pyplot as plt\n",
    "%matplotlib inline\n",
    "\n",
    "from scipy.stats import norm\n",
    "from sklearn.model_selection import train_test_split\n",
    "from tqdm.notebook import tqdm\n",
    "from sklearn.metrics import average_precision_score"
   ]
  },
  {
   "cell_type": "code",
   "execution_count": 2,
   "metadata": {},
   "outputs": [],
   "source": [
    "import torch\n",
    "import torch.nn as nn\n",
    "import torch.nn.functional as F\n",
    "import torch.optim as optim\n",
    "from torch.utils.data import TensorDataset, DataLoader\n",
    "torch.manual_seed(1);"
   ]
  },
  {
   "cell_type": "markdown",
   "metadata": {},
   "source": [
    "## Read data"
   ]
  },
  {
   "cell_type": "code",
   "execution_count": 3,
   "metadata": {},
   "outputs": [],
   "source": [
    "import os\n",
    "SEQ_LEN = 64\n",
    "IM_SIZE = 28"
   ]
  },
  {
   "cell_type": "code",
   "execution_count": 72,
   "metadata": {},
   "outputs": [],
   "source": [
    "def read_img_sequences(path_to_folder, size=500):\n",
    "    curr_size = 0\n",
    "    data = []\n",
    "    labels = []\n",
    "    \n",
    "    for sequence_folder in os.listdir(path_to_folder):\n",
    "        curr_size += 1\n",
    "        full_sequence_folder = os.path.join(path_to_folder, sequence_folder)\n",
    "        sequence_img = [None] * SEQ_LEN\n",
    "        sequence_labels = [None] * SEQ_LEN\n",
    "        \n",
    "        for img_path in os.listdir(full_sequence_folder):\n",
    "            # -3: drop .pt\n",
    "            im_index, label = img_path[:-3].split('_')\n",
    "            im_index = int(im_index)\n",
    "            label = int(label)\n",
    "\n",
    "            full_path_to_img = os.path.join(full_sequence_folder, img_path)\n",
    "            # load image and reshape to vector\n",
    "            img = torch.load(full_path_to_img).view(IM_SIZE * IM_SIZE).detach().cpu().numpy()\n",
    "            sequence_img[im_index] = img\n",
    "            sequence_labels[im_index] = label\n",
    "        data.append(sequence_img)\n",
    "        labels.append(sequence_labels)\n",
    "        if curr_size ==  size:\n",
    "            break\n",
    "    return data, labels"
   ]
  },
  {
   "cell_type": "code",
   "execution_count": 73,
   "metadata": {},
   "outputs": [],
   "source": [
    "anomaly_data, anomaly_labels = read_img_sequences('data_4_in_7/img_ts_anomaly/')\n",
    "normal_data, normal_labels = read_img_sequences('data_4_in_7/img_ts_normal/')"
   ]
  },
  {
   "cell_type": "code",
   "execution_count": 74,
   "metadata": {},
   "outputs": [
    {
     "data": {
      "text/plain": [
       "500"
      ]
     },
     "execution_count": 74,
     "metadata": {},
     "output_type": "execute_result"
    }
   ],
   "source": [
    "len(anomaly_data)"
   ]
  },
  {
   "cell_type": "code",
   "execution_count": 6,
   "metadata": {},
   "outputs": [],
   "source": [
    "all_data = np.vstack((anomaly_data, normal_data))\n",
    "all_labels = np.vstack((anomaly_labels, normal_labels))\n",
    "\n",
    "all_labels = (all_labels == 7).astype(int)"
   ]
  },
  {
   "cell_type": "code",
   "execution_count": 7,
   "metadata": {},
   "outputs": [],
   "source": [
    "train_data, test_data, train_labels, test_labels = train_test_split(all_data, all_labels, \n",
    "                                                                    test_size=0.4, shuffle=True,\n",
    "                                                                    random_state=42)\n",
    "\n",
    "test_data, val_data, test_labels, val_labels = train_test_split(test_data, test_labels, \n",
    "                                                                test_size=0.5, shuffle=True,\n",
    "                                                                random_state=42)"
   ]
  },
  {
   "cell_type": "markdown",
   "metadata": {},
   "source": [
    "## Loss function"
   ]
  },
  {
   "cell_type": "code",
   "execution_count": 8,
   "metadata": {},
   "outputs": [],
   "source": [
    "device = torch.device('cuda')"
   ]
  },
  {
   "cell_type": "code",
   "execution_count": 9,
   "metadata": {},
   "outputs": [],
   "source": [
    "def loss_delay_detection_2(p_slice):\n",
    "    n = p_slice.size(0)\n",
    "    prod = torch.ones(n).to(device)\n",
    "    p_slice = p_slice.to(device)\n",
    "    prod[1:] -= p_slice[:-1]\n",
    "    cumprod = torch.cumprod(prod, dim=0).to(device)\n",
    "    loss = torch.arange(1, n + 1).to(device) * p_slice * cumprod\n",
    "    loss = torch.sum(loss)\n",
    "    return loss\n",
    "\n",
    "\n",
    "def loss_delay_detection(p_slice, w):\n",
    "    n = p_slice.size(0) \n",
    "    prod = torch.ones(n).to(device)\n",
    "    p_slice = p_slice.to(device)\n",
    "    \n",
    "    prod[1:] -= p_slice[:-1].to(device)\n",
    "    cumprod = torch.cumprod(prod, dim=0).to(device)\n",
    "    # TODO drop either n or w\n",
    "    loss = (torch.arange(1, n + 1).to(device) * p_slice * cumprod \n",
    "            + (w + 1) * torch.prod(prod[1:]) * (1 - p_slice[-1]))\n",
    "    loss = torch.sum(loss)\n",
    "    return loss\n",
    "\n",
    "def loss_false_alarms(p_slice):\n",
    "    length = len(p_slice)\n",
    "    loss = 0\n",
    "    \n",
    "    start_ind = 0\n",
    "    end_ind = 0\n",
    "    \n",
    "    while end_ind < length:\n",
    "        start_ind = end_ind - 1\n",
    "        if start_ind < 0:\n",
    "            start_ind = 0\n",
    "        end_ind = np.random.randint(start_ind, length + 2)\n",
    "        if end_ind == start_ind:\n",
    "            end_ind = end_ind + 1\n",
    "        loss += 1 - loss_delay_detection_2(p_slice[start_ind: end_ind + 1])    \n",
    "    #loss += 1 - loss_delay_detection_2(p_slice[start_ind: length])            \n",
    "    loss = torch.sum(loss)\n",
    "    return loss"
   ]
  },
  {
   "cell_type": "code",
   "execution_count": 10,
   "metadata": {},
   "outputs": [
    {
     "data": {
      "text/plain": [
       "tensor(1.7570, device='cuda:0')"
      ]
     },
     "execution_count": 10,
     "metadata": {},
     "output_type": "execute_result"
    }
   ],
   "source": [
    "loss_delay_detection(torch.Tensor([0.9, 0.1, 0.3]), 3)"
   ]
  },
  {
   "cell_type": "code",
   "execution_count": 11,
   "metadata": {},
   "outputs": [],
   "source": [
    "class CustomLoss(nn.Module):\n",
    "    \n",
    "    def __init__(self):\n",
    "        super(CustomLoss, self).__init__()\n",
    "        \n",
    "    def forward(self, outputs, labels):\n",
    "        loss = torch.zeros(labels.size(0))\n",
    "        for i, label in enumerate(labels):\n",
    "            ind = torch.where(label != label[0])[0]\n",
    "            if ind.size()[0] == 0:\n",
    "                loss[i] = loss_false_alarms(outputs[i, :])\n",
    "            else:\n",
    "                w = 16\n",
    "                alpha = 0.5\n",
    "                loss[i] = (alpha * loss_delay_detection(outputs[i, ind[0]:(ind[0] + w)], w) + \n",
    "                           (1 - alpha) * loss_false_alarms(outputs[i, :ind[0]]))\n",
    "        loss = torch.mean(loss)\n",
    "        return loss"
   ]
  },
  {
   "cell_type": "code",
   "execution_count": 12,
   "metadata": {},
   "outputs": [],
   "source": [
    "# input data parameters\n",
    "input_size = IM_SIZE * IM_SIZE\n",
    "output_size = SEQ_LEN\n",
    "seq_len = SEQ_LEN\n",
    "\n",
    "# model hyperparameters\n",
    "hidden_dim = 100\n",
    "n_layers = 2\n",
    "num_workers = 1\n",
    "learning_rate = 1e-3\n",
    "\n",
    "batch_size = 64"
   ]
  },
  {
   "cell_type": "code",
   "execution_count": 13,
   "metadata": {},
   "outputs": [],
   "source": [
    "def prepare_loader(data, labels, seq_len, input_size, batch_size, shuffle=True, num_workers=1):\n",
    "    data = torch.FloatTensor(data)\n",
    "    labels = torch.FloatTensor(labels)\n",
    "    data = data.view(-1, seq_len, input_size)\n",
    "    labels = labels.view(-1, seq_len)\n",
    "\n",
    "    all_data = TensorDataset(data, labels) \n",
    "    data_loader = DataLoader(all_data, batch_size=batch_size, shuffle=shuffle, num_workers=num_workers)\n",
    "    \n",
    "    return data_loader"
   ]
  },
  {
   "cell_type": "code",
   "execution_count": 14,
   "metadata": {},
   "outputs": [],
   "source": [
    "device = torch.device(\"cuda:1\")"
   ]
  },
  {
   "cell_type": "code",
   "execution_count": 15,
   "metadata": {},
   "outputs": [],
   "source": [
    "train_loader = prepare_loader(train_data, train_labels, seq_len, input_size, batch_size)\n",
    "val_loader = prepare_loader(val_data, val_labels, seq_len, input_size, batch_size)\n",
    "test_loader = prepare_loader(test_data, test_labels, seq_len, input_size, batch_size)"
   ]
  },
  {
   "cell_type": "code",
   "execution_count": 16,
   "metadata": {},
   "outputs": [],
   "source": [
    "def train_model(model, loss_function, epochs=100, print_every=5, LSTM_flag = True):\n",
    "    optimizer = torch.optim.Adam(model.parameters(), lr=learning_rate)\n",
    "    \n",
    "    \n",
    "    valid_loss_min = np.Inf\n",
    "\n",
    "    loss_list = []\n",
    "    acc_list = []\n",
    "    overall_val_loss_list = []\n",
    "    counter = 0\n",
    "    model.train()\n",
    "\n",
    "    out_list = []\n",
    "    labels_list = []\n",
    "\n",
    "    model.train()\n",
    "    for i in range(epochs):\n",
    "        # for inputs, labels in tqdm(train_loader):\n",
    "        for inputs, labels in train_loader:\n",
    "            if inputs.shape[0] < batch_size:\n",
    "                break\n",
    "\n",
    "            counter += 1\n",
    "            inputs, labels = inputs.to(device), labels.to(device)  \n",
    "\n",
    "            if LSTM_flag:\n",
    "                h = model.init_hidden(batch_size)\n",
    "                h = tuple([e.data for e in h])\n",
    "                output, h = model(inputs, h)\n",
    "            else:\n",
    "                output = model(inputs)\n",
    "\n",
    "            loss = loss_function(output.squeeze(), labels.float())\n",
    "            loss_list += [loss.cpu().clone().detach()]\n",
    "            accuracy = (output > 0.5).long() == labels\n",
    "            acc_list += [accuracy.cpu().detach().float().mean()]\n",
    "            out_list.append(output.cpu().detach().float())\n",
    "            labels_list.append(labels.cpu().detach().float())\n",
    "\n",
    "            loss.backward()\n",
    "            optimizer.step()\n",
    "            optimizer.zero_grad()\n",
    "\n",
    "            if counter%print_every == 0:\n",
    "                val_losses = []\n",
    "                val_outputs = []\n",
    "                model.eval()\n",
    "                for val_inputs, val_labels in val_loader:\n",
    "                    if val_inputs.shape[0] < batch_size:\n",
    "                        break\n",
    "                    val_inputs, val_labels = val_inputs.to(device), val_labels.to(device)\n",
    "\n",
    "                    if LSTM_flag:\n",
    "                        val_h = model.init_hidden(batch_size)\n",
    "                        val_h = tuple([each.data for each in val_h])\n",
    "                        val_out, val_h = model(val_inputs, val_h)\n",
    "                    else:\n",
    "                        val_out = model(val_inputs)\n",
    "                        \n",
    "                    val_loss = loss_function(val_out.squeeze(), val_labels.float())\n",
    "                    val_losses.append(val_loss.item())\n",
    "                    val_outputs += [val_out.cpu().clone().detach()]\n",
    "\n",
    "                val_outputs_one = torch.cat(val_outputs, 0)\n",
    "\n",
    "                overall_val_loss_list.append(np.mean(val_losses))\n",
    "\n",
    "                model.train()\n",
    "                print(\"Epoch: {}/{}...\".format(i+1, epochs),\n",
    "                      \"Step: {}...\".format(counter),\n",
    "                      \"Loss: {:.6f}...\".format(loss.item()),\n",
    "                      \"Val Loss: {:.6f}\".format(np.mean(val_losses)))\n",
    "    return model, (loss_list, acc_list, overall_val_loss_list)"
   ]
  },
  {
   "cell_type": "markdown",
   "metadata": {},
   "source": [
    "## LSTM Model"
   ]
  },
  {
   "cell_type": "code",
   "execution_count": 17,
   "metadata": {},
   "outputs": [],
   "source": [
    "class LSTM(nn.Module):\n",
    "    def __init__(self, input_size, output_size, hidden_dim, n_layers, drop_prob=0.5):\n",
    "        \n",
    "        super(LSTM, self).__init__()\n",
    "        self.input_size = input_size\n",
    "        self.output_size = output_size\n",
    "        self.n_layers = n_layers\n",
    "        self.hidden_dim = hidden_dim        \n",
    "        # if batch_first, than shape of lstm_in: [batch_size, seq_len, input_size]\n",
    "        self.lstm = nn.LSTM(input_size, hidden_dim, n_layers, dropout=drop_prob, batch_first=True)\n",
    "        self.dropout = nn.Dropout(drop_prob)\n",
    "        self.linear_1 = nn.Linear(hidden_dim, hidden_dim//2)\n",
    "        self.linear_2 = nn.Linear(hidden_dim//2, 1)\n",
    "        self.activation = nn.Sigmoid()\n",
    "        self.relu = nn.ReLU()\n",
    "        \n",
    "    def forward(self, input_seq, hidden):\n",
    "        batch_size = input_seq.size(0)\n",
    "        lstm_out, hidden = self.lstm(input_seq, hidden)  \n",
    "        lstm_out = lstm_out.contiguous().view(-1, self.hidden_dim)      \n",
    "        out = self.linear_1(lstm_out)\n",
    "        out = self.dropout(out)\n",
    "        out = self.relu(out)\n",
    "        out = self.linear_2(out)\n",
    "        out = self.activation(out)\n",
    "        out = out.view(batch_size, -1)\n",
    "\n",
    "        return out, hidden\n",
    "\n",
    "    def init_hidden(self, batch_size):\n",
    "        weight = next(self.parameters()).data\n",
    "        \n",
    "        hidden = (weight.new(self.n_layers, batch_size, self.hidden_dim).zero_().to(device),\n",
    "                  weight.new(self.n_layers, batch_size, self.hidden_dim).zero_().to(device))\n",
    "        #hidden = weight.new(self.n_layers, batch_size, self.hidden_dim).zero_().to(device)\n",
    "        \n",
    "        return hidden"
   ]
  },
  {
   "cell_type": "code",
   "execution_count": 18,
   "metadata": {},
   "outputs": [
    {
     "data": {
      "text/plain": [
       "LSTM(\n",
       "  (lstm): LSTM(784, 100, num_layers=2, batch_first=True, dropout=0.5)\n",
       "  (dropout): Dropout(p=0.5, inplace=False)\n",
       "  (linear_1): Linear(in_features=100, out_features=50, bias=True)\n",
       "  (linear_2): Linear(in_features=50, out_features=1, bias=True)\n",
       "  (activation): Sigmoid()\n",
       "  (relu): ReLU()\n",
       ")"
      ]
     },
     "execution_count": 18,
     "metadata": {},
     "output_type": "execute_result"
    }
   ],
   "source": [
    "model_LSTM_custom = LSTM(input_size=input_size, output_size=output_size, hidden_dim=hidden_dim, n_layers=n_layers)\n",
    "loss_function = CustomLoss()\n",
    "model_LSTM_custom.to(device)"
   ]
  },
  {
   "cell_type": "code",
   "execution_count": 19,
   "metadata": {
    "scrolled": true
   },
   "outputs": [
    {
     "name": "stdout",
     "output_type": "stream",
     "text": [
      "Epoch: 2/60... Step: 5... Loss: -2.681755... Val Loss: -2.321216\n",
      "Epoch: 4/60... Step: 10... Loss: -2.651834... Val Loss: -2.573875\n",
      "Epoch: 5/60... Step: 15... Loss: -2.753232... Val Loss: -3.478682\n",
      "Epoch: 7/60... Step: 20... Loss: -5.218072... Val Loss: -4.743764\n",
      "Epoch: 9/60... Step: 25... Loss: -5.620369... Val Loss: -7.879506\n",
      "Epoch: 10/60... Step: 30... Loss: -7.806432... Val Loss: -6.987410\n",
      "Epoch: 12/60... Step: 35... Loss: -8.887592... Val Loss: -9.107732\n",
      "Epoch: 14/60... Step: 40... Loss: -10.282975... Val Loss: -11.211679\n",
      "Epoch: 15/60... Step: 45... Loss: -11.053198... Val Loss: -11.216989\n",
      "Epoch: 17/60... Step: 50... Loss: -9.660485... Val Loss: -11.390139\n",
      "Epoch: 19/60... Step: 55... Loss: -12.885737... Val Loss: -12.442661\n",
      "Epoch: 20/60... Step: 60... Loss: -13.301723... Val Loss: -13.476248\n",
      "Epoch: 22/60... Step: 65... Loss: -13.070298... Val Loss: -14.102626\n",
      "Epoch: 24/60... Step: 70... Loss: -13.484932... Val Loss: -12.865000\n",
      "Epoch: 25/60... Step: 75... Loss: -12.493529... Val Loss: -12.390944\n",
      "Epoch: 27/60... Step: 80... Loss: -8.999695... Val Loss: -12.390430\n",
      "Epoch: 29/60... Step: 85... Loss: -13.727937... Val Loss: -14.704403\n",
      "Epoch: 30/60... Step: 90... Loss: -11.170832... Val Loss: -14.873466\n",
      "Epoch: 32/60... Step: 95... Loss: -10.309402... Val Loss: -13.402939\n",
      "Epoch: 34/60... Step: 100... Loss: -15.504992... Val Loss: -13.979120\n",
      "Epoch: 35/60... Step: 105... Loss: -9.357421... Val Loss: -16.996670\n",
      "Epoch: 37/60... Step: 110... Loss: -13.347919... Val Loss: -15.260982\n",
      "Epoch: 39/60... Step: 115... Loss: -15.277438... Val Loss: -15.725375\n",
      "Epoch: 40/60... Step: 120... Loss: -14.352130... Val Loss: -15.536295\n",
      "Epoch: 42/60... Step: 125... Loss: -14.652032... Val Loss: -12.342381\n",
      "Epoch: 44/60... Step: 130... Loss: -12.684343... Val Loss: -14.373941\n",
      "Epoch: 45/60... Step: 135... Loss: -13.955503... Val Loss: -15.538178\n",
      "Epoch: 47/60... Step: 140... Loss: -12.766680... Val Loss: -13.836565\n",
      "Epoch: 49/60... Step: 145... Loss: -13.308159... Val Loss: -15.953555\n",
      "Epoch: 50/60... Step: 150... Loss: -15.307352... Val Loss: -15.168255\n",
      "Epoch: 52/60... Step: 155... Loss: -14.343158... Val Loss: -13.944057\n",
      "Epoch: 54/60... Step: 160... Loss: -14.791949... Val Loss: -16.237484\n",
      "Epoch: 55/60... Step: 165... Loss: -13.652714... Val Loss: -15.458937\n",
      "Epoch: 57/60... Step: 170... Loss: -12.392982... Val Loss: -12.516169\n",
      "Epoch: 59/60... Step: 175... Loss: -10.470422... Val Loss: -14.250343\n",
      "Epoch: 60/60... Step: 180... Loss: -14.576397... Val Loss: -15.712523\n"
     ]
    }
   ],
   "source": [
    "model_LSTM_custom, (loss_list, acc_list, \n",
    "                    overall_val_loss_list) = train_model(model_LSTM_custom, loss_function, 60, 5, LSTM_flag=True)"
   ]
  },
  {
   "cell_type": "code",
   "execution_count": 20,
   "metadata": {},
   "outputs": [
    {
     "data": {
      "text/plain": [
       "LSTM(\n",
       "  (lstm): LSTM(784, 100, num_layers=2, batch_first=True, dropout=0.5)\n",
       "  (dropout): Dropout(p=0.5, inplace=False)\n",
       "  (linear_1): Linear(in_features=100, out_features=50, bias=True)\n",
       "  (linear_2): Linear(in_features=50, out_features=1, bias=True)\n",
       "  (activation): Sigmoid()\n",
       "  (relu): ReLU()\n",
       ")"
      ]
     },
     "execution_count": 20,
     "metadata": {},
     "output_type": "execute_result"
    }
   ],
   "source": [
    "model_LSTM_bce = LSTM(input_size=input_size, output_size=output_size, hidden_dim=hidden_dim, n_layers=n_layers)\n",
    "bce_loss_function = torch.nn.BCELoss()\n",
    "model_LSTM_bce.to(device)"
   ]
  },
  {
   "cell_type": "code",
   "execution_count": 21,
   "metadata": {},
   "outputs": [
    {
     "name": "stdout",
     "output_type": "stream",
     "text": [
      "Epoch: 2/60... Step: 5... Loss: 0.640624... Val Loss: 0.598252\n",
      "Epoch: 4/60... Step: 10... Loss: 0.473078... Val Loss: 0.426478\n",
      "Epoch: 5/60... Step: 15... Loss: 0.337548... Val Loss: 0.248522\n",
      "Epoch: 7/60... Step: 20... Loss: 0.196643... Val Loss: 0.151499\n",
      "Epoch: 9/60... Step: 25... Loss: 0.150982... Val Loss: 0.091316\n",
      "Epoch: 10/60... Step: 30... Loss: 0.087787... Val Loss: 0.056972\n",
      "Epoch: 12/60... Step: 35... Loss: 0.060370... Val Loss: 0.039107\n",
      "Epoch: 14/60... Step: 40... Loss: 0.038836... Val Loss: 0.033888\n",
      "Epoch: 15/60... Step: 45... Loss: 0.036520... Val Loss: 0.034860\n",
      "Epoch: 17/60... Step: 50... Loss: 0.033002... Val Loss: 0.026953\n",
      "Epoch: 19/60... Step: 55... Loss: 0.027592... Val Loss: 0.031628\n",
      "Epoch: 20/60... Step: 60... Loss: 0.026664... Val Loss: 0.028764\n",
      "Epoch: 22/60... Step: 65... Loss: 0.044958... Val Loss: 0.040105\n",
      "Epoch: 24/60... Step: 70... Loss: 0.026872... Val Loss: 0.038525\n",
      "Epoch: 25/60... Step: 75... Loss: 0.025949... Val Loss: 0.030778\n",
      "Epoch: 27/60... Step: 80... Loss: 0.017798... Val Loss: 0.034371\n",
      "Epoch: 29/60... Step: 85... Loss: 0.020004... Val Loss: 0.038781\n",
      "Epoch: 30/60... Step: 90... Loss: 0.016298... Val Loss: 0.043254\n",
      "Epoch: 32/60... Step: 95... Loss: 0.019434... Val Loss: 0.056543\n",
      "Epoch: 34/60... Step: 100... Loss: 0.016339... Val Loss: 0.047654\n",
      "Epoch: 35/60... Step: 105... Loss: 0.019005... Val Loss: 0.026953\n",
      "Epoch: 37/60... Step: 110... Loss: 0.015507... Val Loss: 0.052410\n",
      "Epoch: 39/60... Step: 115... Loss: 0.018189... Val Loss: 0.047445\n",
      "Epoch: 40/60... Step: 120... Loss: 0.011021... Val Loss: 0.051740\n",
      "Epoch: 42/60... Step: 125... Loss: 0.011222... Val Loss: 0.046073\n",
      "Epoch: 44/60... Step: 130... Loss: 0.010874... Val Loss: 0.041264\n",
      "Epoch: 45/60... Step: 135... Loss: 0.011488... Val Loss: 0.047154\n",
      "Epoch: 47/60... Step: 140... Loss: 0.011219... Val Loss: 0.061496\n",
      "Epoch: 49/60... Step: 145... Loss: 0.013401... Val Loss: 0.048906\n",
      "Epoch: 50/60... Step: 150... Loss: 0.010433... Val Loss: 0.069199\n",
      "Epoch: 52/60... Step: 155... Loss: 0.009116... Val Loss: 0.049646\n",
      "Epoch: 54/60... Step: 160... Loss: 0.007664... Val Loss: 0.064675\n",
      "Epoch: 55/60... Step: 165... Loss: 0.006052... Val Loss: 0.080688\n",
      "Epoch: 57/60... Step: 170... Loss: 0.005729... Val Loss: 0.057934\n",
      "Epoch: 59/60... Step: 175... Loss: 0.006414... Val Loss: 0.094073\n",
      "Epoch: 60/60... Step: 180... Loss: 0.011959... Val Loss: 0.094192\n"
     ]
    }
   ],
   "source": [
    "model_LSTM_bce, (bce_loss_list, bce_acc_list, bce_overall_val_loss_list) = train_model(model_LSTM_bce, bce_loss_function, \n",
    "                                                                                       60, 5, LSTM_flag=True)"
   ]
  },
  {
   "cell_type": "code",
   "execution_count": 22,
   "metadata": {},
   "outputs": [
    {
     "data": {
      "text/plain": [
       "LSTM(\n",
       "  (lstm): LSTM(784, 100, num_layers=2, batch_first=True, dropout=0.5)\n",
       "  (dropout): Dropout(p=0.5, inplace=False)\n",
       "  (linear_1): Linear(in_features=100, out_features=50, bias=True)\n",
       "  (linear_2): Linear(in_features=50, out_features=1, bias=True)\n",
       "  (activation): Sigmoid()\n",
       "  (relu): ReLU()\n",
       ")"
      ]
     },
     "execution_count": 22,
     "metadata": {},
     "output_type": "execute_result"
    }
   ],
   "source": [
    "model_LSTM_combined = LSTM(input_size=input_size, output_size=output_size, hidden_dim=hidden_dim, n_layers=n_layers)\n",
    "first_bce_loss_function = torch.nn.BCELoss()\n",
    "second_custom_loss_function = CustomLoss()\n",
    "model_LSTM_combined.to(device)"
   ]
  },
  {
   "cell_type": "code",
   "execution_count": 23,
   "metadata": {},
   "outputs": [
    {
     "name": "stdout",
     "output_type": "stream",
     "text": [
      "Epoch: 2/30... Step: 5... Loss: -2.232289... Val Loss: -2.338677\n",
      "Epoch: 4/30... Step: 10... Loss: -1.981157... Val Loss: -3.092810\n",
      "Epoch: 5/30... Step: 15... Loss: -3.059372... Val Loss: -3.266315\n",
      "Epoch: 7/30... Step: 20... Loss: -4.095883... Val Loss: -4.764972\n",
      "Epoch: 9/30... Step: 25... Loss: -4.587253... Val Loss: -5.898686\n",
      "Epoch: 10/30... Step: 30... Loss: -8.145972... Val Loss: -7.602304\n",
      "Epoch: 12/30... Step: 35... Loss: -9.029346... Val Loss: -7.900010\n",
      "Epoch: 14/30... Step: 40... Loss: -10.640846... Val Loss: -11.117276\n",
      "Epoch: 15/30... Step: 45... Loss: -9.687943... Val Loss: -10.755190\n",
      "Epoch: 17/30... Step: 50... Loss: -12.954045... Val Loss: -12.689969\n",
      "Epoch: 19/30... Step: 55... Loss: -12.355498... Val Loss: -12.430106\n",
      "Epoch: 20/30... Step: 60... Loss: -11.901297... Val Loss: -13.410977\n",
      "Epoch: 22/30... Step: 65... Loss: -13.504298... Val Loss: -12.515906\n",
      "Epoch: 24/30... Step: 70... Loss: -14.516963... Val Loss: -15.293420\n",
      "Epoch: 25/30... Step: 75... Loss: -11.735942... Val Loss: -14.187511\n",
      "Epoch: 27/30... Step: 80... Loss: -13.640284... Val Loss: -13.460360\n",
      "Epoch: 29/30... Step: 85... Loss: -12.991186... Val Loss: -14.354351\n",
      "Epoch: 30/30... Step: 90... Loss: -15.316219... Val Loss: -15.264086\n"
     ]
    }
   ],
   "source": [
    "model_LSTM_combined, _ = train_model(model_LSTM_combined, second_custom_loss_function, 30, 5, \n",
    "                                    LSTM_flag=True)"
   ]
  },
  {
   "cell_type": "code",
   "execution_count": 24,
   "metadata": {},
   "outputs": [
    {
     "name": "stdout",
     "output_type": "stream",
     "text": [
      "Epoch: 2/30... Step: 5... Loss: 0.101673... Val Loss: 0.060268\n",
      "Epoch: 4/30... Step: 10... Loss: 0.063486... Val Loss: 0.041647\n",
      "Epoch: 5/30... Step: 15... Loss: 0.058853... Val Loss: 0.032037\n",
      "Epoch: 7/30... Step: 20... Loss: 0.039680... Val Loss: 0.026480\n",
      "Epoch: 9/30... Step: 25... Loss: 0.031794... Val Loss: 0.031841\n",
      "Epoch: 10/30... Step: 30... Loss: 0.035171... Val Loss: 0.024613\n",
      "Epoch: 12/30... Step: 35... Loss: 0.025506... Val Loss: 0.029228\n",
      "Epoch: 14/30... Step: 40... Loss: 0.026365... Val Loss: 0.027593\n",
      "Epoch: 15/30... Step: 45... Loss: 0.031297... Val Loss: 0.026880\n",
      "Epoch: 17/30... Step: 50... Loss: 0.022525... Val Loss: 0.022930\n",
      "Epoch: 19/30... Step: 55... Loss: 0.023792... Val Loss: 0.025874\n",
      "Epoch: 20/30... Step: 60... Loss: 0.017815... Val Loss: 0.022223\n",
      "Epoch: 22/30... Step: 65... Loss: 0.018194... Val Loss: 0.022919\n",
      "Epoch: 24/30... Step: 70... Loss: 0.024193... Val Loss: 0.021663\n",
      "Epoch: 25/30... Step: 75... Loss: 0.016279... Val Loss: 0.023061\n",
      "Epoch: 27/30... Step: 80... Loss: 0.020638... Val Loss: 0.028528\n",
      "Epoch: 29/30... Step: 85... Loss: 0.013992... Val Loss: 0.028609\n",
      "Epoch: 30/30... Step: 90... Loss: 0.018245... Val Loss: 0.020968\n"
     ]
    }
   ],
   "source": [
    "model_LSTM_combined, __ = train_model(model_LSTM_combined, first_bce_loss_function, 30, 5, \n",
    "                                      LSTM_flag=True)"
   ]
  },
  {
   "cell_type": "markdown",
   "metadata": {},
   "source": [
    "## FNN Models"
   ]
  },
  {
   "cell_type": "code",
   "execution_count": 25,
   "metadata": {},
   "outputs": [],
   "source": [
    "class FNN(nn.Module):\n",
    "    def __init__(self, input_size, hidden_dim, output_size, drop_prob=0.5):\n",
    "        super(FNN, self).__init__()\n",
    "        # Linear function as in LSTM model\n",
    "\n",
    "        self.linear_1 = nn.Linear(input_size, hidden_dim) \n",
    "        self.linear_2 = nn.Linear(hidden_dim, hidden_dim//2) \n",
    "        self.linear_3 = nn.Linear(hidden_dim//2, 1)  \n",
    "        self.dropout = nn.Dropout(drop_prob)\n",
    "        self.relu = nn.ReLU()\n",
    "        self.activation = nn.Sigmoid()\n",
    "\n",
    "\n",
    "    def forward(self, input_seq):\n",
    "        batch_size = input_seq.size(0)\n",
    "        out = self.linear_1(input_seq)\n",
    "        out = self.dropout(out)\n",
    "        out = self.relu(out)\n",
    "        out = self.linear_2(out)\n",
    "        out = self.dropout(out)\n",
    "        out = self.relu(out)\n",
    "        out = self.linear_3(out)\n",
    "        out = self.activation(out)\n",
    "        out = out.view(batch_size, -1)\n",
    "        return out"
   ]
  },
  {
   "cell_type": "code",
   "execution_count": 26,
   "metadata": {},
   "outputs": [
    {
     "data": {
      "text/plain": [
       "FNN(\n",
       "  (linear_1): Linear(in_features=784, out_features=100, bias=True)\n",
       "  (linear_2): Linear(in_features=100, out_features=50, bias=True)\n",
       "  (linear_3): Linear(in_features=50, out_features=1, bias=True)\n",
       "  (dropout): Dropout(p=0.5, inplace=False)\n",
       "  (relu): ReLU()\n",
       "  (activation): Sigmoid()\n",
       ")"
      ]
     },
     "execution_count": 26,
     "metadata": {},
     "output_type": "execute_result"
    }
   ],
   "source": [
    "model_FNN_custom = FNN(input_size=input_size, hidden_dim=hidden_dim, output_size=output_size)\n",
    "loss_function = CustomLoss()\n",
    "model_FNN_custom.to(device)"
   ]
  },
  {
   "cell_type": "code",
   "execution_count": 27,
   "metadata": {},
   "outputs": [
    {
     "name": "stdout",
     "output_type": "stream",
     "text": [
      "Epoch: 2/20... Step: 5... Loss: -2.184840... Val Loss: -2.720031\n",
      "Epoch: 4/20... Step: 10... Loss: -3.868064... Val Loss: -4.353974\n",
      "Epoch: 5/20... Step: 15... Loss: -4.366529... Val Loss: -5.263832\n",
      "Epoch: 7/20... Step: 20... Loss: -6.058733... Val Loss: -7.322254\n",
      "Epoch: 9/20... Step: 25... Loss: -6.339879... Val Loss: -7.608167\n",
      "Epoch: 10/20... Step: 30... Loss: -6.241182... Val Loss: -7.265013\n",
      "Epoch: 12/20... Step: 35... Loss: -6.581733... Val Loss: -7.644633\n",
      "Epoch: 14/20... Step: 40... Loss: -7.507641... Val Loss: -6.916762\n",
      "Epoch: 15/20... Step: 45... Loss: -7.017776... Val Loss: -6.178002\n",
      "Epoch: 17/20... Step: 50... Loss: -8.198262... Val Loss: -6.559602\n",
      "Epoch: 19/20... Step: 55... Loss: -7.983094... Val Loss: -6.247005\n",
      "Epoch: 20/20... Step: 60... Loss: -8.635077... Val Loss: -7.816842\n"
     ]
    }
   ],
   "source": [
    "model_FNN_custom, (loss_list, acc_list, overall_val_loss_list) = train_model(model_FNN_custom, loss_function, \n",
    "                                                                             20, 5, LSTM_flag=False)"
   ]
  },
  {
   "cell_type": "code",
   "execution_count": 28,
   "metadata": {},
   "outputs": [
    {
     "data": {
      "text/plain": [
       "FNN(\n",
       "  (linear_1): Linear(in_features=784, out_features=100, bias=True)\n",
       "  (linear_2): Linear(in_features=100, out_features=50, bias=True)\n",
       "  (linear_3): Linear(in_features=50, out_features=1, bias=True)\n",
       "  (dropout): Dropout(p=0.5, inplace=False)\n",
       "  (relu): ReLU()\n",
       "  (activation): Sigmoid()\n",
       ")"
      ]
     },
     "execution_count": 28,
     "metadata": {},
     "output_type": "execute_result"
    }
   ],
   "source": [
    "model_FNN_bce = FNN(input_size=input_size, hidden_dim=hidden_dim, output_size=output_size)\n",
    "bce_loss_function = torch.nn.BCELoss()\n",
    "model_FNN_bce.to(device)"
   ]
  },
  {
   "cell_type": "code",
   "execution_count": 29,
   "metadata": {},
   "outputs": [
    {
     "name": "stdout",
     "output_type": "stream",
     "text": [
      "Epoch: 2/20... Step: 5... Loss: 0.614158... Val Loss: 0.571019\n",
      "Epoch: 4/20... Step: 10... Loss: 0.494157... Val Loss: 0.412786\n",
      "Epoch: 5/20... Step: 15... Loss: 0.355303... Val Loss: 0.267481\n",
      "Epoch: 7/20... Step: 20... Loss: 0.210792... Val Loss: 0.167129\n",
      "Epoch: 9/20... Step: 25... Loss: 0.166365... Val Loss: 0.096702\n",
      "Epoch: 10/20... Step: 30... Loss: 0.102386... Val Loss: 0.065115\n",
      "Epoch: 12/20... Step: 35... Loss: 0.066434... Val Loss: 0.044108\n",
      "Epoch: 14/20... Step: 40... Loss: 0.076177... Val Loss: 0.037484\n",
      "Epoch: 15/20... Step: 45... Loss: 0.078193... Val Loss: 0.035654\n",
      "Epoch: 17/20... Step: 50... Loss: 0.066004... Val Loss: 0.030027\n",
      "Epoch: 19/20... Step: 55... Loss: 0.067359... Val Loss: 0.027867\n",
      "Epoch: 20/20... Step: 60... Loss: 0.064049... Val Loss: 0.032535\n"
     ]
    }
   ],
   "source": [
    "model_FNN_bce, (bce_loss_list, bce_acc_list, bce_overall_val_loss_list) = train_model(model_FNN_bce, bce_loss_function, 20, 5, LSTM_flag=False)"
   ]
  },
  {
   "cell_type": "code",
   "execution_count": 30,
   "metadata": {},
   "outputs": [
    {
     "data": {
      "text/plain": [
       "FNN(\n",
       "  (linear_1): Linear(in_features=784, out_features=100, bias=True)\n",
       "  (linear_2): Linear(in_features=100, out_features=50, bias=True)\n",
       "  (linear_3): Linear(in_features=50, out_features=1, bias=True)\n",
       "  (dropout): Dropout(p=0.5, inplace=False)\n",
       "  (relu): ReLU()\n",
       "  (activation): Sigmoid()\n",
       ")"
      ]
     },
     "execution_count": 30,
     "metadata": {},
     "output_type": "execute_result"
    }
   ],
   "source": [
    "model_FNN_combined = FNN(input_size=input_size, hidden_dim=hidden_dim, output_size=output_size)\n",
    "first_bce_loss_function = torch.nn.BCELoss()\n",
    "second_custom_loss_function = CustomLoss()\n",
    "model_FNN_combined.to(device)"
   ]
  },
  {
   "cell_type": "code",
   "execution_count": 31,
   "metadata": {},
   "outputs": [
    {
     "name": "stdout",
     "output_type": "stream",
     "text": [
      "Epoch: 2/5... Step: 5... Loss: 0.587205... Val Loss: 0.549638\n",
      "Epoch: 4/5... Step: 10... Loss: 0.476911... Val Loss: 0.383496\n",
      "Epoch: 5/5... Step: 15... Loss: 0.316435... Val Loss: 0.267991\n"
     ]
    }
   ],
   "source": [
    "model_FNN_combined, _ = train_model(model_FNN_combined, first_bce_loss_function, 5, 5, LSTM_flag=False)"
   ]
  },
  {
   "cell_type": "code",
   "execution_count": 32,
   "metadata": {},
   "outputs": [
    {
     "name": "stdout",
     "output_type": "stream",
     "text": [
      "Epoch: 2/5... Step: 5... Loss: -6.897084... Val Loss: -7.449935\n",
      "Epoch: 4/5... Step: 10... Loss: -7.140560... Val Loss: -7.774478\n",
      "Epoch: 5/5... Step: 15... Loss: -6.876730... Val Loss: -8.049295\n"
     ]
    }
   ],
   "source": [
    "model_FNN_combined, __ = train_model(model_FNN_combined, second_custom_loss_function, 5, 5, LSTM_flag=False)"
   ]
  },
  {
   "cell_type": "markdown",
   "metadata": {},
   "source": [
    "## Calculate metrics for different models"
   ]
  },
  {
   "cell_type": "code",
   "execution_count": 33,
   "metadata": {},
   "outputs": [],
   "source": [
    "def evaluate_metrics(y_true, y_pred, threshold=0.5):\n",
    "    \"\"\"\n",
    "    Evaluate metrics for change point detection\n",
    "    We assume, that there is no more than one change index in data (so, either 0 or 1 change)\n",
    "    Inputs\n",
    "    y_true : torch.Tensor\n",
    "      true labels\n",
    "    y_pred : torch.Tensor\n",
    "      change probabiltiy\n",
    "    threshold : float\n",
    "      detection threshold\n",
    "      \n",
    "    Returns\n",
    "    false_positive : int\n",
    "      number of false positives\n",
    "    false_negative : int\n",
    "      number of false negatives\n",
    "    delay : int\n",
    "      detection delay\n",
    "    accuracy : float\n",
    "      y_pred accuracy given y_truei\n",
    "    \"\"\"\n",
    "    delay = 0\n",
    "    false_positive = 0\n",
    "    false_negative = 0\n",
    "    true_negative = 0\n",
    "\n",
    "    index_real = torch.where(y_true != y_true[0])[0] # indexes with real changes\n",
    "    index_detected = torch.where((y_pred > threshold).long() != y_true[0])[0] # indexes with predicted changes\n",
    "\n",
    "    if len(index_real) > 0:\n",
    "        real_change_index = index_real[0]\n",
    "\n",
    "        if len(index_detected) > 0:\n",
    "            index_sub_detected = torch.where(index_detected >= real_change_index)[0]\n",
    "\n",
    "            if len(index_sub_detected) == len(index_detected):\n",
    "                false_positive_delay = real_change_index.item()\n",
    "                detected_change_index = index_detected[0]\n",
    "                delay = (detected_change_index - real_change_index).item()\n",
    "            else:\n",
    "                false_positive_delay = index_detected[0].item()\n",
    "                delay = 0\n",
    "                false_positive += 1\n",
    "                \n",
    "        else:\n",
    "            false_positive_delay = seq_len\n",
    "            delay = (seq_len - real_change_index).item()\n",
    "            false_negative += 1\n",
    "\n",
    "    else:\n",
    "        if len(index_detected) > 0:\n",
    "            false_positive_delay = index_detected[0].item()\n",
    "            false_positive += 1\n",
    "        else:\n",
    "            false_positive_delay = seq_len\n",
    "            true_negative += 1\n",
    "    \n",
    "    accuracy = ((y_pred > threshold).long() == y_true).float().mean().item()\n",
    "    \n",
    "    return false_positive, false_negative, delay, false_positive_delay, accuracy"
   ]
  },
  {
   "cell_type": "code",
   "execution_count": 34,
   "metadata": {},
   "outputs": [],
   "source": [
    "def get_quality_metrics(test_loader, model, threshold=0.5, LSTM_flag=True):\n",
    "    test_loss_list = []\n",
    "    test_acc_list = []\n",
    "\n",
    "    positive_number = 0 \n",
    "    negative_number = 0\n",
    "    fp_list = []\n",
    "    fn_list = []\n",
    "    delay_list = []\n",
    "    fp_delay_list = []\n",
    "    accuracy_list = []\n",
    "\n",
    "    model.eval()\n",
    "    for test_inputs, test_true_labels in test_loader:\n",
    "\n",
    "        if test_inputs.shape[0] < test_batch_size:\n",
    "            break\n",
    "            \n",
    "        test_inputs, test_true_labels = test_inputs.to(device), test_true_labels.to(device)\n",
    "\n",
    "        if LSTM_flag:\n",
    "            test_hidden = model.init_hidden(batch_size)\n",
    "            #test_hidden = tuple([each.data for each in test_hidden])\n",
    "            test_predictions, test_hidden = model(test_inputs, test_hidden)\n",
    "        else:\n",
    "            test_predictions = model(test_inputs)\n",
    "            \n",
    "        test_loss = loss_function(test_predictions.squeeze(), test_true_labels.float())\n",
    "        test_loss_list += [test_loss.cpu().clone().detach()]\n",
    "\n",
    "        for i in range(0, test_batch_size):\n",
    "            curr_labels = test_true_labels[i]\n",
    "            curr_predictions = test_predictions[i]\n",
    "            \n",
    "            # torch.rand_like\n",
    "            curr_fp, curr_fn, curr_delay, curr_fp_delay, curr_accuracy = evaluate_metrics(curr_labels, curr_predictions, \n",
    "                                                                           threshold)\n",
    "\n",
    "            max_difference = np.abs((curr_labels.max() - curr_labels.min()).item())\n",
    "            if max_difference: \n",
    "                delay_list.append(curr_delay)\n",
    "            positive_number += (max_difference > 0)\n",
    "            negative_number += 1 - (max_difference > 0)\n",
    "\n",
    "            fp_list.append(curr_fp)\n",
    "            fn_list.append(curr_fn)\n",
    "            fp_delay_list.append(curr_fp_delay)\n",
    "            accuracy_list.append(curr_accuracy)\n",
    "\n",
    "        test_acc_list.append(np.mean(accuracy_list[-test_batch_size:]))\n",
    "        \n",
    "    return (positive_number, negative_number, np.mean(test_loss_list), np.mean(test_acc_list), np.mean(delay_list),\n",
    "            np.mean(fp_delay_list), np.sum(fp_list), np.sum(fn_list))"
   ]
  },
  {
   "cell_type": "code",
   "execution_count": 35,
   "metadata": {},
   "outputs": [],
   "source": [
    "def get_pareto_metrics_for_threshold(model, test_loader, threshold_list, LSTM_flag=True):\n",
    "    fp_number_list = []\n",
    "    fn_number_list = []\n",
    "    delay_list = []\n",
    "    fp_delay_list = []\n",
    "    for threshold in threshold_list:\n",
    "        # test_loader = prepare_loader(test_data, test_labels, seq_len, input_size, batch_size)\n",
    "\n",
    "        (positive_number, negative_number, test_loss, \n",
    "         test_acc, mean_delay, mean_fp_delay, fp_number, fn_number) = get_quality_metrics(test_loader, model, threshold, LSTM_flag)\n",
    "\n",
    "        fp_number_list.append(fp_number)\n",
    "        fn_number_list.append(fn_number)\n",
    "        delay_list.append(mean_delay)\n",
    "        fp_delay_list.append(mean_fp_delay)\n",
    "        #print(threshold, fp_number, fn_number, mean_delay, mean_fp_delay)\n",
    "    \n",
    "    return fp_number_list, fn_number_list, delay_list, fp_delay_list"
   ]
  },
  {
   "cell_type": "code",
   "execution_count": 36,
   "metadata": {},
   "outputs": [
    {
     "data": {
      "text/plain": [
       "[<matplotlib.lines.Line2D at 0x7fadbc412c90>]"
      ]
     },
     "execution_count": 36,
     "metadata": {},
     "output_type": "execute_result"
    },
    {
     "data": {
      "image/png": "[encoded data removed]",
      "text/plain": [
       "<Figure size 432x288 with 1 Axes>"
      ]
     },
     "metadata": {
      "needs_background": "light"
     },
     "output_type": "display_data"
    }
   ],
   "source": [
    "threshold_number = 200\n",
    "threshold_list = np.linspace(-15, 15, threshold_number)\n",
    "threshold_list = 1 / (1 + np.exp(-threshold_list))\n",
    "threshold_list = [-0.001] + list(threshold_list) + [1.001]\n",
    "plt.plot(np.linspace(0.01, 1, threshold_number + 2), threshold_list)"
   ]
  },
  {
   "cell_type": "raw",
   "metadata": {},
   "source": [
    "test_batch_size = 64\n",
    "final_test_loader = prepare_loader(test_data, test_labels, seq_len, input_size, test_batch_size, shuffle=False)\n",
    "\n",
    "(fp_number_list_FNN_bce, fn_number_list_FNN_bce, \n",
    " delay_list_FNN_bce, fp_delay_list_FNN_bce) = get_pareto_metrics_for_threshold(model_FNN_bce, final_test_loader, \n",
    "                                                                               threshold_list, LSTM_flag=False)"
   ]
  },
  {
   "cell_type": "raw",
   "metadata": {
    "scrolled": true
   },
   "source": [
    "test_batch_size = 64\n",
    "final_test_loader = prepare_loader(test_data, test_labels, seq_len, input_size, test_batch_size, shuffle=False)\n",
    "\n",
    "(fp_number_list_FNN_custom, fn_number_list_FNN_custom, \n",
    " delay_list_FNN_custom, fp_delay_list_FNN_custom) = get_pareto_metrics_for_threshold(model_FNN_custom, final_test_loader, \n",
    "                                                                                     threshold_list, LSTM_flag=False)"
   ]
  },
  {
   "cell_type": "raw",
   "metadata": {
    "scrolled": true
   },
   "source": [
    "test_batch_size = 64\n",
    "final_test_loader = prepare_loader(test_data, test_labels, seq_len, input_size, test_batch_size, shuffle=False)\n",
    "\n",
    "(fp_number_list_FNN_combined, fn_number_list_FNN_combined, \n",
    " delay_list_FNN_combined, fp_delay_list_FNN_combined) = get_pareto_metrics_for_threshold(model_FNN_combined, final_test_loader, \n",
    "                                                                                         threshold_list, LSTM_flag=False)"
   ]
  },
  {
   "cell_type": "code",
   "execution_count": 37,
   "metadata": {},
   "outputs": [],
   "source": [
    "test_batch_size = 64\n",
    "final_test_loader = prepare_loader(test_data, test_labels, seq_len, input_size, test_batch_size, shuffle=False)\n",
    "\n",
    "(fp_number_list_LSTM_bce, fn_number_list_LSTM_bce, \n",
    " delay_list_LSTM_bce, fp_delay_list_LSTM_bce) = get_pareto_metrics_for_threshold(model_LSTM_bce, final_test_loader, \n",
    "                                                                                 threshold_list, LSTM_flag=True)"
   ]
  },
  {
   "cell_type": "code",
   "execution_count": 38,
   "metadata": {},
   "outputs": [],
   "source": [
    "test_batch_size = 64\n",
    "final_test_loader = prepare_loader(test_data, test_labels, seq_len, input_size, test_batch_size, shuffle=False)\n",
    "\n",
    "(fp_number_list_LSTM_custom, fn_number_list_LSTM_custom, \n",
    " delay_list_LSTM_custom, fp_delay_list_LSTM_custom) = get_pareto_metrics_for_threshold(model_LSTM_custom, final_test_loader, \n",
    "                                                                                       threshold_list, LSTM_flag=True)"
   ]
  },
  {
   "cell_type": "code",
   "execution_count": 39,
   "metadata": {},
   "outputs": [],
   "source": [
    "test_batch_size = 64\n",
    "final_test_loader = prepare_loader(test_data, test_labels, seq_len, input_size, test_batch_size, shuffle=False)\n",
    "\n",
    "(fp_number_list_LSTM_combined, fn_number_list_LSTM_combined, delay_list_LSTM_combined, fp_delay_list_LSTM_combined) = get_pareto_metrics_for_threshold(model_LSTM_combined, final_test_loader, threshold_list, LSTM_flag=True)"
   ]
  },
  {
   "cell_type": "code",
   "execution_count": 42,
   "metadata": {},
   "outputs": [
    {
     "data": {
      "image/png": "[encoded data removed]",
      "text/plain": [
       "<Figure size 864x864 with 1 Axes>"
      ]
     },
     "metadata": {
      "needs_background": "light"
     },
     "output_type": "display_data"
    }
   ],
   "source": [
    "plt.figure(figsize=(12, 12))\n",
    "plt.plot(fp_delay_list_LSTM_custom, delay_list_LSTM_custom, '-o', markersize=4, label='Custom (ours)')\n",
    "plt.plot(fp_delay_list_LSTM_bce, delay_list_LSTM_bce, '-d', markersize=4, label='BCE')\n",
    "plt.plot(fp_delay_list_LSTM_combined, delay_list_LSTM_combined, '--s', markersize=4, label='Combined (ours)')\n",
    "\n",
    "plt.xlabel('Mean Time to False Alarm', fontsize=28)\n",
    "plt.ylabel('Mean Detection Delay', fontsize=28)\n",
    "plt.xticks(fontsize=24)\n",
    "plt.yticks(fontsize=24)\n",
    "plt.legend(loc='upper left', fontsize=26);\n",
    "plt.savefig('mnist_4_in_7_curve.pdf', bbox_inches='tight')\n",
    "\n",
    "\n",
    "#plt.figure(figsize=(12, 12))\n",
    "#plt.plot(fp_delay_list_LSTM_custom, delay_list_LSTM_custom, '-o', label='LSTM. CustomLoss model')\n",
    "#plt.plot(fp_delay_list_LSTM_bce, delay_list_LSTM_bce, '-d', label='LSTM.BCELoss model')\n",
    "#plt.plot(fp_delay_list_LSTM_combined, delay_list_LSTM_combined, '-s', label='LSTM. Combined model')\n",
    "#plt.plot(fp_delay_list_FNN_custom, delay_list_FNN_custom, '-o', label='FNN. CustomLoss model')\n",
    "#plt.plot(fp_delay_list_FNN_bce, delay_list_FNN_bce, '-d', label='LSTM.BCELoss model')\n",
    "#plt.plot(fp_delay_list_FNN_combined, delay_list_FNN_combined, '-s', label='FNN. Combined model')\n",
    "\n",
    "\n",
    "\n",
    "#plt.xlabel('Mean FP delay')\n",
    "#plt.ylabel('Mean delay')\n",
    "#plt.yscale('log')\n",
    "#plt.legend(loc='upper left', fontsize=14);"
   ]
  },
  {
   "cell_type": "code",
   "execution_count": null,
   "metadata": {},
   "outputs": [],
   "source": [
    "def save_metrics_to_file_new_version(model_name, model, test_loader, batch_size,\n",
    "                                     seq_len, fp_delay, threshold_list, x_coord_arr, path_to_save = \"\"):\n",
    "  columns_list = [\"Model name\", \"Mean FP delay\", \"Mean delay\", \"Threshold\", \"TP\", \"TN\", \"FP\", \"FN\", \"Acc\",\n",
    "                \"Precision\", \"Recall\", \"F1-score\", \"G-mean\"]\n",
    "  data_model_results = metrics_by_fp_delay_x_coord(model_name, model, test_loader, batch_size, seq_len,\n",
    "                                                   fp_delay, threshold_list, x_coord_arr)\n",
    "  df_main = pd.DataFrame(data_model_results, columns = columns_list)\n",
    "  df_main.to_excel(os.path.join(path_to_save, model_name + \".xlsx\" ), index = False)"
   ]
  },
  {
   "cell_type": "code",
   "execution_count": 48,
   "metadata": {},
   "outputs": [
    {
     "name": "stdout",
     "output_type": "stream",
     "text": [
      "The autoreload extension is already loaded. To reload it, use:\n",
      "  %reload_ext autoreload\n"
     ]
    }
   ],
   "source": [
    "%load_ext autoreload\n",
    "%autoreload 1\n",
    "%aimport metrics\n"
   ]
  },
  {
   "cell_type": "code",
   "execution_count": 52,
   "metadata": {},
   "outputs": [
    {
     "data": {
      "text/plain": [
       "LSTM(\n",
       "  (lstm): LSTM(784, 100, num_layers=2, batch_first=True, dropout=0.5)\n",
       "  (dropout): Dropout(p=0.5, inplace=False)\n",
       "  (linear_1): Linear(in_features=100, out_features=50, bias=True)\n",
       "  (linear_2): Linear(in_features=50, out_features=1, bias=True)\n",
       "  (activation): Sigmoid()\n",
       "  (relu): ReLU()\n",
       ")"
      ]
     },
     "execution_count": 52,
     "metadata": {},
     "output_type": "execute_result"
    }
   ],
   "source": [
    "model_LSTM_custom.to('cuda:0')"
   ]
  },
  {
   "cell_type": "code",
   "execution_count": 54,
   "metadata": {},
   "outputs": [
    {
     "name": "stdout",
     "output_type": "stream",
     "text": [
      "33.984375 0.33662029495232143 35.078125 0.3710679107501842 35\n",
      "TP: 12 TN: 29 FP: 23 FN: 0 DELAY: 0.125 FP_DELAY 43.671875\n",
      "39.5625 0.9564971876670771 43.546875 0.9623558248267451 39.99\n",
      "TP: 14 TN: 38 FP: 6 FN: 6 DELAY: 5.21875 FP_DELAY 50.515625\n",
      "43.546875 0.9623558248267451 48.21875 0.9674523120684658 45\n",
      "TP: 7 TN: 36 FP: 2 FN: 19 DELAY: 10.328125 FP_DELAY 57.28125\n",
      "48.21875 0.9674523120684658 53.96875 0.9718789695244026 50\n",
      "TP: 6 TN: 38 FP: 1 FN: 19 DELAY: 10.0625 FP_DELAY 58.578125\n"
     ]
    }
   ],
   "source": [
    "metrics.save_metrics_to_file_new_version('Custom', model_LSTM_custom, val_loader, batch_size=64,\n",
    "                                         seq_len=64, fp_delay=fp_delay_list_LSTM_custom, \n",
    "                                         threshold_list=threshold_list, \n",
    "                                         x_coord_arr=[35, 39.99, 45, 50], path_to_save = \"\")"
   ]
  },
  {
   "cell_type": "code",
   "execution_count": 63,
   "metadata": {},
   "outputs": [
    {
     "data": {
      "text/plain": [
       "647.280487804878"
      ]
     },
     "execution_count": 63,
     "metadata": {},
     "output_type": "execute_result"
    }
   ],
   "source": [
    "metrics.area_under_graph(delay_list_LSTM_custom, fp_delay_list_LSTM_custom)"
   ]
  },
  {
   "cell_type": "code",
   "execution_count": 64,
   "metadata": {},
   "outputs": [
    {
     "data": {
      "text/plain": [
       "LSTM(\n",
       "  (lstm): LSTM(784, 100, num_layers=2, batch_first=True, dropout=0.5)\n",
       "  (dropout): Dropout(p=0.5, inplace=False)\n",
       "  (linear_1): Linear(in_features=100, out_features=50, bias=True)\n",
       "  (linear_2): Linear(in_features=50, out_features=1, bias=True)\n",
       "  (activation): Sigmoid()\n",
       "  (relu): ReLU()\n",
       ")"
      ]
     },
     "execution_count": 64,
     "metadata": {},
     "output_type": "execute_result"
    }
   ],
   "source": [
    "model_LSTM_bce.to('cuda:0')"
   ]
  },
  {
   "cell_type": "code",
   "execution_count": 65,
   "metadata": {},
   "outputs": [
    {
     "name": "stdout",
     "output_type": "stream",
     "text": [
      "34.328125 0.02812103047559733 35.375 0.03254768793153412 35\n",
      "TP: 12 TN: 35 FP: 17 FN: 0 DELAY: 0.265625 FP_DELAY 43.5\n",
      "38.421875 0.9999401505276208 57.96875 0.9999485254648226 39.9\n",
      "TP: 27 TN: 35 FP: 1 FN: 1 DELAY: 5.890625 FP_DELAY 47.953125\n",
      "38.421875 0.9999401505276208 57.96875 0.9999485254648226 45\n",
      "TP: 22 TN: 34 FP: 1 FN: 7 DELAY: 9.84375 FP_DELAY 50.796875\n",
      "38.421875 0.9999401505276208 57.96875 0.9999485254648226 50\n",
      "TP: 16 TN: 33 FP: 1 FN: 14 DELAY: 13.75 FP_DELAY 55.203125\n"
     ]
    }
   ],
   "source": [
    "metrics.save_metrics_to_file_new_version('BCE', model_LSTM_bce, val_loader, batch_size=64,\n",
    "                                         seq_len=64, fp_delay=fp_delay_list_LSTM_bce, \n",
    "                                         threshold_list=threshold_list, \n",
    "                                         x_coord_arr=[35, 39.9, 45, 50], path_to_save = \"\")"
   ]
  },
  {
   "cell_type": "code",
   "execution_count": 66,
   "metadata": {},
   "outputs": [
    {
     "data": {
      "text/plain": [
       "788.3809070121953"
      ]
     },
     "execution_count": 66,
     "metadata": {},
     "output_type": "execute_result"
    }
   ],
   "source": [
    "metrics.area_under_graph(delay_list_LSTM_bce, fp_delay_list_LSTM_bce)"
   ]
  },
  {
   "cell_type": "code",
   "execution_count": 68,
   "metadata": {},
   "outputs": [
    {
     "name": "stdout",
     "output_type": "stream",
     "text": [
      "34.984375 0.01807518260025041 35.125 0.020954573680812282 35\n",
      "TP: 8 TN: 35 FP: 21 FN: 0 DELAY: 0.03125 FP_DELAY 46.4375\n",
      "38.71875 0.9998521398034467 58.515625 0.9998728288098837 40\n",
      "TP: 26 TN: 37 FP: 0 FN: 1 DELAY: 6.375 FP_DELAY 47.84375\n",
      "38.71875 0.9998521398034467 58.515625 0.9998728288098837 45\n",
      "TP: 19 TN: 34 FP: 0 FN: 11 DELAY: 11.359375 FP_DELAY 52.953125\n",
      "38.71875 0.9998521398034467 58.515625 0.9998728288098837 50\n",
      "TP: 9 TN: 40 FP: 0 FN: 15 DELAY: 12.015625 FP_DELAY 58.875\n"
     ]
    }
   ],
   "source": [
    "metrics.save_metrics_to_file_new_version('Cobined', model_LSTM_combined, val_loader, batch_size=64,\n",
    "                                         seq_len=64, fp_delay=fp_delay_list_LSTM_combined, \n",
    "                                         threshold_list=threshold_list, \n",
    "                                         x_coord_arr=[35, 40, 45, 50], path_to_save = \"\")"
   ]
  },
  {
   "cell_type": "code",
   "execution_count": 69,
   "metadata": {},
   "outputs": [
    {
     "data": {
      "text/plain": [
       "786.539824695122"
      ]
     },
     "execution_count": 69,
     "metadata": {},
     "output_type": "execute_result"
    }
   ],
   "source": [
    "metrics.area_under_graph(delay_list_LSTM_combined, fp_delay_list_LSTM_combined)"
   ]
  },
  {
   "cell_type": "code",
   "execution_count": null,
   "metadata": {},
   "outputs": [],
   "source": []
  },
  {
   "cell_type": "code",
   "execution_count": null,
   "metadata": {},
   "outputs": [],
   "source": []
  },
  {
   "cell_type": "code",
   "execution_count": 60,
   "metadata": {},
   "outputs": [
    {
     "data": {
      "text/plain": [
       "LSTM(\n",
       "  (lstm): LSTM(784, 100, num_layers=2, batch_first=True, dropout=0.5)\n",
       "  (dropout): Dropout(p=0.5, inplace=False)\n",
       "  (linear_1): Linear(in_features=100, out_features=50, bias=True)\n",
       "  (linear_2): Linear(in_features=50, out_features=1, bias=True)\n",
       "  (activation): Sigmoid()\n",
       "  (relu): ReLU()\n",
       ")"
      ]
     },
     "execution_count": 60,
     "metadata": {},
     "output_type": "execute_result"
    }
   ],
   "source": [
    "model_LSTM_combined.to('cuda:0')"
   ]
  },
  {
   "cell_type": "code",
   "execution_count": 62,
   "metadata": {},
   "outputs": [
    {
     "name": "stdout",
     "output_type": "stream",
     "text": [
      "33.984375 0.33662029495232143 35.078125 0.3710679107501842 35\n",
      "TP: 18 TN: 36 FP: 10 FN: 0 DELAY: 0.4375 FP_DELAY 46.375\n",
      "39.5625 0.9564971876670771 43.546875 0.9623558248267451 39.99\n",
      "TP: 22 TN: 33 FP: 9 FN: 0 DELAY: 0.609375 FP_DELAY 44.703125\n",
      "43.546875 0.9623558248267451 48.21875 0.9674523120684658 45\n",
      "TP: 20 TN: 36 FP: 8 FN: 0 DELAY: 0.59375 FP_DELAY 47.453125\n",
      "48.21875 0.9674523120684658 53.96875 0.9718789695244026 50\n",
      "TP: 17 TN: 39 FP: 8 FN: 0 DELAY: 0.28125 FP_DELAY 48.609375\n"
     ]
    }
   ],
   "source": [
    "metrics.save_metrics_to_file_new_version('Combined', model_LSTM_bce, val_loader, batch_size=64,\n",
    "                                         seq_len=64, fp_delay=fp_delay_list_LSTM_custom, \n",
    "                                         threshold_list=threshold_list, \n",
    "                                         x_coord_arr=[35, 39.99, 45, 50], path_to_save = \"\")"
   ]
  },
  {
   "cell_type": "code",
   "execution_count": null,
   "metadata": {},
   "outputs": [],
   "source": []
  }
 ],
 "metadata": {
  "kernelspec": {
   "display_name": "Python 3",
   "language": "python",
   "name": "python3"
  },
  "language_info": {
   "codemirror_mode": {
    "name": "ipython",
    "version": 3
   },
   "file_extension": ".py",
   "mimetype": "text/x-python",
   "name": "python",
   "nbconvert_exporter": "python",
   "pygments_lexer": "ipython3",
   "version": "3.7.9"
  }
 },
 "nbformat": 4,
 "nbformat_minor": 2
}
