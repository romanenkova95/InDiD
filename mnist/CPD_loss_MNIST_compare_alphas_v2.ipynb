{
 "cells": [
  {
   "cell_type": "code",
   "execution_count": 6,
   "metadata": {},
   "outputs": [],
   "source": [
    "import numpy as np\n",
    "import scipy\n",
    "import matplotlib.pyplot as plt\n",
    "%matplotlib inline\n",
    "\n",
    "from scipy.stats import norm\n",
    "from sklearn.model_selection import train_test_split\n",
    "from tqdm.notebook import tqdm\n",
    "from sklearn.metrics import average_precision_score"
   ]
  },
  {
   "cell_type": "code",
   "execution_count": 7,
   "metadata": {},
   "outputs": [],
   "source": [
    "import torch\n",
    "import torch.nn as nn\n",
    "import torch.nn.functional as F\n",
    "import torch.optim as optim\n",
    "from torch.utils.data import TensorDataset, DataLoader\n",
    "torch.manual_seed(1);"
   ]
  },
  {
   "cell_type": "markdown",
   "metadata": {},
   "source": [
    "## Read data"
   ]
  },
  {
   "cell_type": "code",
   "execution_count": 8,
   "metadata": {},
   "outputs": [],
   "source": [
    "import os\n",
    "SEQ_LEN = 64\n",
    "IM_SIZE = 28"
   ]
  },
  {
   "cell_type": "code",
   "execution_count": 12,
   "metadata": {},
   "outputs": [],
   "source": [
    "def read_img_sequences(path_to_folder, size=500):\n",
    "    curr_size = 0\n",
    "    data = []\n",
    "    labels = []\n",
    "    \n",
    "    for sequence_folder in os.listdir(path_to_folder):\n",
    "        curr_size += 1\n",
    "        full_sequence_folder = os.path.join(path_to_folder, sequence_folder)\n",
    "        sequence_img = [None] * SEQ_LEN\n",
    "        sequence_labels = [None] * SEQ_LEN\n",
    "        \n",
    "        for img_path in os.listdir(full_sequence_folder):\n",
    "            # -3: drop .pt\n",
    "            im_index, label = img_path[:-3].split('_')\n",
    "            im_index = int(im_index)\n",
    "            label = int(label)\n",
    "\n",
    "            full_path_to_img = os.path.join(full_sequence_folder, img_path)\n",
    "            # load image and reshape to vector\n",
    "            img = torch.load(full_path_to_img).view(IM_SIZE * IM_SIZE).detach().cpu().numpy()\n",
    "            sequence_img[im_index] = img\n",
    "            sequence_labels[im_index] = label\n",
    "        data.append(sequence_img)\n",
    "        labels.append(sequence_labels)\n",
    "        if curr_size ==  size:\n",
    "            break\n",
    "    return data, labels"
   ]
  },
  {
   "cell_type": "code",
   "execution_count": 13,
   "metadata": {},
   "outputs": [],
   "source": [
    "anomaly_data, anomaly_labels = read_img_sequences('data_4_in_7/img_ts_anomaly/')\n",
    "normal_data, normal_labels = read_img_sequences('data_4_in_7/img_ts_normal/')"
   ]
  },
  {
   "cell_type": "code",
   "execution_count": 14,
   "metadata": {},
   "outputs": [
    {
     "data": {
      "text/plain": [
       "500"
      ]
     },
     "execution_count": 14,
     "metadata": {},
     "output_type": "execute_result"
    }
   ],
   "source": [
    "len(anomaly_data)"
   ]
  },
  {
   "cell_type": "code",
   "execution_count": 15,
   "metadata": {},
   "outputs": [],
   "source": [
    "all_data = np.vstack((anomaly_data, normal_data))\n",
    "all_labels = np.vstack((anomaly_labels, normal_labels))\n",
    "\n",
    "all_labels = (all_labels == 7).astype(int)"
   ]
  },
  {
   "cell_type": "code",
   "execution_count": 16,
   "metadata": {},
   "outputs": [],
   "source": [
    "train_data, test_data, train_labels, test_labels = train_test_split(all_data, all_labels, \n",
    "                                                                    test_size=0.4, shuffle=True,\n",
    "                                                                    random_state=42)\n",
    "\n",
    "test_data, val_data, test_labels, val_labels = train_test_split(test_data, test_labels, \n",
    "                                                                test_size=0.5, shuffle=True,\n",
    "                                                                random_state=42)"
   ]
  },
  {
   "cell_type": "markdown",
   "metadata": {},
   "source": [
    "## Loss function"
   ]
  },
  {
   "cell_type": "code",
   "execution_count": 17,
   "metadata": {},
   "outputs": [],
   "source": [
    "device = torch.device('cuda')"
   ]
  },
  {
   "cell_type": "code",
   "execution_count": 18,
   "metadata": {},
   "outputs": [],
   "source": [
    "def loss_delay_detection_2(p_slice):\n",
    "    n = p_slice.size(0)\n",
    "    prod = torch.ones(n).to(device)\n",
    "    p_slice = p_slice.to(device)\n",
    "    prod[1:] -= p_slice[:-1]\n",
    "    cumprod = torch.cumprod(prod, dim=0).to(device)\n",
    "    loss = torch.arange(1, n + 1).to(device) * p_slice * cumprod\n",
    "    loss = torch.sum(loss)\n",
    "    return loss\n",
    "\n",
    "\n",
    "def loss_delay_detection(p_slice, w):\n",
    "    n = p_slice.size(0) \n",
    "    prod = torch.ones(n).to(device)\n",
    "    p_slice = p_slice.to(device)\n",
    "    \n",
    "    prod[1:] -= p_slice[:-1].to(device)\n",
    "    cumprod = torch.cumprod(prod, dim=0).to(device)\n",
    "    # TODO drop either n or w\n",
    "    loss = (torch.arange(1, n + 1).to(device) * p_slice * cumprod \n",
    "            + (w + 1) * torch.prod(prod[1:]) * (1 - p_slice[-1]))\n",
    "    loss = torch.sum(loss)\n",
    "    return loss\n",
    "\n",
    "def loss_false_alarms(p_slice):\n",
    "    length = len(p_slice)\n",
    "    loss = 0\n",
    "    \n",
    "    start_ind = 0\n",
    "    end_ind = 0\n",
    "    \n",
    "    while end_ind < length:\n",
    "        start_ind = end_ind - 1\n",
    "        if start_ind < 0:\n",
    "            start_ind = 0\n",
    "        end_ind = np.random.randint(start_ind, length + 2)\n",
    "        if end_ind == start_ind:\n",
    "            end_ind = end_ind + 1\n",
    "        loss += 1 - loss_delay_detection_2(p_slice[start_ind: end_ind + 1])    \n",
    "    #loss += 1 - loss_delay_detection_2(p_slice[start_ind: length])            \n",
    "    loss = torch.sum(loss)\n",
    "    return loss"
   ]
  },
  {
   "cell_type": "code",
   "execution_count": 19,
   "metadata": {},
   "outputs": [
    {
     "data": {
      "text/plain": [
       "tensor(1.7570, device='cuda:0')"
      ]
     },
     "execution_count": 19,
     "metadata": {},
     "output_type": "execute_result"
    }
   ],
   "source": [
    "loss_delay_detection(torch.Tensor([0.9, 0.1, 0.3]), 3)"
   ]
  },
  {
   "cell_type": "code",
   "execution_count": 47,
   "metadata": {},
   "outputs": [],
   "source": [
    "class CustomLoss(nn.Module):\n",
    "    \n",
    "    def __init__(self, alpha=0.5, w=16):\n",
    "        super(CustomLoss, self).__init__()\n",
    "        self.alpha = alpha\n",
    "        self.w = w\n",
    "        \n",
    "    def forward(self, outputs, labels):\n",
    "        loss = torch.zeros(labels.size(0))\n",
    "        for i, label in enumerate(labels):\n",
    "            ind = torch.where(label != label[0])[0]\n",
    "            if ind.size()[0] == 0:\n",
    "                loss[i] = loss_false_alarms(outputs[i, :])\n",
    "            else:\n",
    "                #w = 16\n",
    "                #alpha = 0.5\n",
    "                loss[i] = (self.alpha * loss_delay_detection(outputs[i, ind[0]:(ind[0] + self.w)], self.w) + \n",
    "                           (1 - self.alpha) * loss_false_alarms(outputs[i, :ind[0]]))\n",
    "        loss = torch.mean(loss)\n",
    "        return loss"
   ]
  },
  {
   "cell_type": "code",
   "execution_count": 21,
   "metadata": {},
   "outputs": [],
   "source": [
    "# input data parameters\n",
    "input_size = IM_SIZE * IM_SIZE\n",
    "output_size = SEQ_LEN\n",
    "seq_len = SEQ_LEN\n",
    "\n",
    "# model hyperparameters\n",
    "hidden_dim = 100\n",
    "n_layers = 2\n",
    "num_workers = 1\n",
    "learning_rate = 1e-3\n",
    "\n",
    "batch_size = 64"
   ]
  },
  {
   "cell_type": "code",
   "execution_count": 22,
   "metadata": {},
   "outputs": [],
   "source": [
    "def prepare_loader(data, labels, seq_len, input_size, batch_size, shuffle=True, num_workers=1):\n",
    "    data = torch.FloatTensor(data)\n",
    "    labels = torch.FloatTensor(labels)\n",
    "    data = data.view(-1, seq_len, input_size)\n",
    "    labels = labels.view(-1, seq_len)\n",
    "\n",
    "    all_data = TensorDataset(data, labels) \n",
    "    data_loader = DataLoader(all_data, batch_size=batch_size, shuffle=shuffle, num_workers=num_workers)\n",
    "    \n",
    "    return data_loader"
   ]
  },
  {
   "cell_type": "code",
   "execution_count": 23,
   "metadata": {},
   "outputs": [],
   "source": [
    "device = torch.device(\"cuda:1\")"
   ]
  },
  {
   "cell_type": "code",
   "execution_count": 24,
   "metadata": {},
   "outputs": [],
   "source": [
    "train_loader = prepare_loader(train_data, train_labels, seq_len, input_size, batch_size)\n",
    "val_loader = prepare_loader(val_data, val_labels, seq_len, input_size, batch_size)\n",
    "test_loader = prepare_loader(test_data, test_labels, seq_len, input_size, batch_size)"
   ]
  },
  {
   "cell_type": "code",
   "execution_count": 25,
   "metadata": {},
   "outputs": [],
   "source": [
    "def train_model(model, loss_function, epochs=100, print_every=5, LSTM_flag = True):\n",
    "    optimizer = torch.optim.Adam(model.parameters(), lr=learning_rate)\n",
    "    \n",
    "    \n",
    "    valid_loss_min = np.Inf\n",
    "\n",
    "    loss_list = []\n",
    "    acc_list = []\n",
    "    overall_val_loss_list = []\n",
    "    counter = 0\n",
    "    model.train()\n",
    "\n",
    "    out_list = []\n",
    "    labels_list = []\n",
    "\n",
    "    model.train()\n",
    "    for i in range(epochs):\n",
    "        # for inputs, labels in tqdm(train_loader):\n",
    "        for inputs, labels in train_loader:\n",
    "            if inputs.shape[0] < batch_size:\n",
    "                break\n",
    "\n",
    "            counter += 1\n",
    "            inputs, labels = inputs.to(device), labels.to(device)  \n",
    "\n",
    "            if LSTM_flag:\n",
    "                h = model.init_hidden(batch_size)\n",
    "                h = tuple([e.data for e in h])\n",
    "                output, h = model(inputs, h)\n",
    "            else:\n",
    "                output = model(inputs)\n",
    "\n",
    "            loss = loss_function(output.squeeze(), labels.float())\n",
    "            loss_list += [loss.cpu().clone().detach()]\n",
    "            accuracy = (output > 0.5).long() == labels\n",
    "            acc_list += [accuracy.cpu().detach().float().mean()]\n",
    "            out_list.append(output.cpu().detach().float())\n",
    "            labels_list.append(labels.cpu().detach().float())\n",
    "\n",
    "            loss.backward()\n",
    "            optimizer.step()\n",
    "            optimizer.zero_grad()\n",
    "\n",
    "            if counter%print_every == 0:\n",
    "                val_losses = []\n",
    "                val_outputs = []\n",
    "                model.eval()\n",
    "                for val_inputs, val_labels in val_loader:\n",
    "                    if val_inputs.shape[0] < batch_size:\n",
    "                        break\n",
    "                    val_inputs, val_labels = val_inputs.to(device), val_labels.to(device)\n",
    "\n",
    "                    if LSTM_flag:\n",
    "                        val_h = model.init_hidden(batch_size)\n",
    "                        val_h = tuple([each.data for each in val_h])\n",
    "                        val_out, val_h = model(val_inputs, val_h)\n",
    "                    else:\n",
    "                        val_out = model(val_inputs)\n",
    "                        \n",
    "                    val_loss = loss_function(val_out.squeeze(), val_labels.float())\n",
    "                    val_losses.append(val_loss.item())\n",
    "                    val_outputs += [val_out.cpu().clone().detach()]\n",
    "\n",
    "                val_outputs_one = torch.cat(val_outputs, 0)\n",
    "\n",
    "                overall_val_loss_list.append(np.mean(val_losses))\n",
    "\n",
    "                model.train()\n",
    "                print(\"Epoch: {}/{}...\".format(i+1, epochs),\n",
    "                      \"Step: {}...\".format(counter),\n",
    "                      \"Loss: {:.6f}...\".format(loss.item()),\n",
    "                      \"Val Loss: {:.6f}\".format(np.mean(val_losses)))\n",
    "    return model, (loss_list, acc_list, overall_val_loss_list)"
   ]
  },
  {
   "cell_type": "markdown",
   "metadata": {},
   "source": [
    "## LSTM Model"
   ]
  },
  {
   "cell_type": "code",
   "execution_count": 26,
   "metadata": {},
   "outputs": [],
   "source": [
    "class LSTM(nn.Module):\n",
    "    def __init__(self, input_size, output_size, hidden_dim, n_layers, drop_prob=0.5):\n",
    "        \n",
    "        super(LSTM, self).__init__()\n",
    "        self.input_size = input_size\n",
    "        self.output_size = output_size\n",
    "        self.n_layers = n_layers\n",
    "        self.hidden_dim = hidden_dim        \n",
    "        # if batch_first, than shape of lstm_in: [batch_size, seq_len, input_size]\n",
    "        self.lstm = nn.LSTM(input_size, hidden_dim, n_layers, dropout=drop_prob, batch_first=True)\n",
    "        self.dropout = nn.Dropout(drop_prob)\n",
    "        self.linear_1 = nn.Linear(hidden_dim, hidden_dim//2)\n",
    "        self.linear_2 = nn.Linear(hidden_dim//2, 1)\n",
    "        self.activation = nn.Sigmoid()\n",
    "        self.relu = nn.ReLU()\n",
    "        \n",
    "    def forward(self, input_seq, hidden):\n",
    "        batch_size = input_seq.size(0)\n",
    "        lstm_out, hidden = self.lstm(input_seq, hidden)  \n",
    "        lstm_out = lstm_out.contiguous().view(-1, self.hidden_dim)      \n",
    "        out = self.linear_1(lstm_out)\n",
    "        out = self.dropout(out)\n",
    "        out = self.relu(out)\n",
    "        out = self.linear_2(out)\n",
    "        out = self.activation(out)\n",
    "        out = out.view(batch_size, -1)\n",
    "\n",
    "        return out, hidden\n",
    "\n",
    "    def init_hidden(self, batch_size):\n",
    "        weight = next(self.parameters()).data\n",
    "        \n",
    "        hidden = (weight.new(self.n_layers, batch_size, self.hidden_dim).zero_().to(device),\n",
    "                  weight.new(self.n_layers, batch_size, self.hidden_dim).zero_().to(device))\n",
    "        #hidden = weight.new(self.n_layers, batch_size, self.hidden_dim).zero_().to(device)\n",
    "        \n",
    "        return hidden"
   ]
  },
  {
   "cell_type": "code",
   "execution_count": 27,
   "metadata": {},
   "outputs": [
    {
     "data": {
      "text/plain": [
       "LSTM(\n",
       "  (lstm): LSTM(784, 100, num_layers=2, batch_first=True, dropout=0.5)\n",
       "  (dropout): Dropout(p=0.5, inplace=False)\n",
       "  (linear_1): Linear(in_features=100, out_features=50, bias=True)\n",
       "  (linear_2): Linear(in_features=50, out_features=1, bias=True)\n",
       "  (activation): Sigmoid()\n",
       "  (relu): ReLU()\n",
       ")"
      ]
     },
     "execution_count": 27,
     "metadata": {},
     "output_type": "execute_result"
    }
   ],
   "source": [
    "model_LSTM_custom = LSTM(input_size=input_size, output_size=output_size, hidden_dim=hidden_dim, n_layers=n_layers)\n",
    "loss_function = CustomLoss()\n",
    "model_LSTM_custom.to(device)"
   ]
  },
  {
   "cell_type": "code",
   "execution_count": 28,
   "metadata": {
    "scrolled": true
   },
   "outputs": [
    {
     "name": "stdout",
     "output_type": "stream",
     "text": [
      "Epoch: 1/60... Step: 5... Loss: -2.069258... Val Loss: -1.867634\n",
      "Epoch: 2/60... Step: 10... Loss: -2.323091... Val Loss: -2.273195\n",
      "Epoch: 2/60... Step: 15... Loss: -2.882021... Val Loss: -3.297965\n",
      "Epoch: 3/60... Step: 20... Loss: -3.245341... Val Loss: -4.917231\n",
      "Epoch: 3/60... Step: 25... Loss: -9.507681... Val Loss: -5.895977\n",
      "Epoch: 4/60... Step: 30... Loss: -7.999971... Val Loss: -8.782153\n",
      "Epoch: 4/60... Step: 35... Loss: -9.238044... Val Loss: -9.184352\n",
      "Epoch: 5/60... Step: 40... Loss: -10.772788... Val Loss: -8.122883\n",
      "Epoch: 5/60... Step: 45... Loss: -10.686874... Val Loss: -11.362809\n",
      "Epoch: 6/60... Step: 50... Loss: -9.826374... Val Loss: -10.002202\n",
      "Epoch: 7/60... Step: 55... Loss: -10.634255... Val Loss: -10.354549\n",
      "Epoch: 7/60... Step: 60... Loss: -10.408157... Val Loss: -10.997051\n",
      "Epoch: 8/60... Step: 65... Loss: -13.220749... Val Loss: -10.588758\n",
      "Epoch: 8/60... Step: 70... Loss: -12.929533... Val Loss: -11.007440\n",
      "Epoch: 9/60... Step: 75... Loss: -12.027537... Val Loss: -11.820954\n",
      "Epoch: 9/60... Step: 80... Loss: -12.586731... Val Loss: -11.495563\n",
      "Epoch: 10/60... Step: 85... Loss: -11.144340... Val Loss: -11.912196\n",
      "Epoch: 10/60... Step: 90... Loss: -11.941441... Val Loss: -11.247126\n",
      "Epoch: 11/60... Step: 95... Loss: -12.329249... Val Loss: -11.672548\n",
      "Epoch: 12/60... Step: 100... Loss: -11.066004... Val Loss: -13.051504\n",
      "Epoch: 12/60... Step: 105... Loss: -12.517743... Val Loss: -10.780709\n",
      "Epoch: 13/60... Step: 110... Loss: -8.771394... Val Loss: -10.629331\n",
      "Epoch: 13/60... Step: 115... Loss: -12.248283... Val Loss: -12.252440\n",
      "Epoch: 14/60... Step: 120... Loss: -15.319880... Val Loss: -11.921737\n",
      "Epoch: 14/60... Step: 125... Loss: -14.666600... Val Loss: -10.977063\n",
      "Epoch: 15/60... Step: 130... Loss: -11.350671... Val Loss: -13.304146\n",
      "Epoch: 15/60... Step: 135... Loss: -10.990539... Val Loss: -12.804843\n",
      "Epoch: 16/60... Step: 140... Loss: -13.378240... Val Loss: -11.333625\n",
      "Epoch: 17/60... Step: 145... Loss: -13.652079... Val Loss: -11.370035\n",
      "Epoch: 17/60... Step: 150... Loss: -13.135209... Val Loss: -12.252743\n",
      "Epoch: 18/60... Step: 155... Loss: -13.060957... Val Loss: -14.303371\n",
      "Epoch: 18/60... Step: 160... Loss: -14.942514... Val Loss: -12.698664\n",
      "Epoch: 19/60... Step: 165... Loss: -14.105368... Val Loss: -12.126099\n",
      "Epoch: 19/60... Step: 170... Loss: -13.106472... Val Loss: -13.287154\n",
      "Epoch: 20/60... Step: 175... Loss: -11.993060... Val Loss: -11.346948\n",
      "Epoch: 20/60... Step: 180... Loss: -14.351505... Val Loss: -12.497549\n",
      "Epoch: 21/60... Step: 185... Loss: -13.859596... Val Loss: -12.845700\n",
      "Epoch: 22/60... Step: 190... Loss: -11.628201... Val Loss: -12.334877\n",
      "Epoch: 22/60... Step: 195... Loss: -16.453159... Val Loss: -13.214002\n",
      "Epoch: 23/60... Step: 200... Loss: -9.379455... Val Loss: -12.903061\n",
      "Epoch: 23/60... Step: 205... Loss: -14.738636... Val Loss: -13.831216\n",
      "Epoch: 24/60... Step: 210... Loss: -13.493722... Val Loss: -12.970416\n",
      "Epoch: 24/60... Step: 215... Loss: -16.005114... Val Loss: -14.698276\n",
      "Epoch: 25/60... Step: 220... Loss: -14.851696... Val Loss: -13.011105\n",
      "Epoch: 25/60... Step: 225... Loss: -14.472429... Val Loss: -12.704339\n",
      "Epoch: 26/60... Step: 230... Loss: -10.632362... Val Loss: -12.408471\n",
      "Epoch: 27/60... Step: 235... Loss: -15.374872... Val Loss: -13.708479\n",
      "Epoch: 27/60... Step: 240... Loss: -13.164369... Val Loss: -12.495062\n",
      "Epoch: 28/60... Step: 245... Loss: -11.080039... Val Loss: -12.327148\n",
      "Epoch: 28/60... Step: 250... Loss: -18.759796... Val Loss: -12.163883\n",
      "Epoch: 29/60... Step: 255... Loss: -12.342481... Val Loss: -12.739108\n",
      "Epoch: 29/60... Step: 260... Loss: -16.662220... Val Loss: -13.248203\n",
      "Epoch: 30/60... Step: 265... Loss: -13.234294... Val Loss: -12.532860\n",
      "Epoch: 30/60... Step: 270... Loss: -13.661191... Val Loss: -12.075596\n",
      "Epoch: 31/60... Step: 275... Loss: -14.881250... Val Loss: -12.896152\n",
      "Epoch: 32/60... Step: 280... Loss: -12.255278... Val Loss: -11.288626\n",
      "Epoch: 32/60... Step: 285... Loss: -14.237092... Val Loss: -12.792283\n",
      "Epoch: 33/60... Step: 290... Loss: -15.130514... Val Loss: -12.998049\n",
      "Epoch: 33/60... Step: 295... Loss: -16.094984... Val Loss: -12.607221\n",
      "Epoch: 34/60... Step: 300... Loss: -12.601810... Val Loss: -12.989116\n",
      "Epoch: 34/60... Step: 305... Loss: -12.675621... Val Loss: -13.280663\n",
      "Epoch: 35/60... Step: 310... Loss: -14.739715... Val Loss: -12.077921\n",
      "Epoch: 35/60... Step: 315... Loss: -13.019670... Val Loss: -13.242166\n",
      "Epoch: 36/60... Step: 320... Loss: -14.738100... Val Loss: -12.809649\n",
      "Epoch: 37/60... Step: 325... Loss: -15.749891... Val Loss: -13.588613\n",
      "Epoch: 37/60... Step: 330... Loss: -14.368283... Val Loss: -13.555370\n",
      "Epoch: 38/60... Step: 335... Loss: -14.279951... Val Loss: -14.540683\n",
      "Epoch: 38/60... Step: 340... Loss: -16.403051... Val Loss: -14.645021\n",
      "Epoch: 39/60... Step: 345... Loss: -12.248393... Val Loss: -13.750410\n",
      "Epoch: 39/60... Step: 350... Loss: -13.653550... Val Loss: -12.562491\n",
      "Epoch: 40/60... Step: 355... Loss: -14.232713... Val Loss: -13.368963\n",
      "Epoch: 40/60... Step: 360... Loss: -13.820966... Val Loss: -13.578997\n",
      "Epoch: 41/60... Step: 365... Loss: -14.182157... Val Loss: -12.873189\n",
      "Epoch: 42/60... Step: 370... Loss: -13.737081... Val Loss: -13.247067\n",
      "Epoch: 42/60... Step: 375... Loss: -15.628229... Val Loss: -14.004800\n",
      "Epoch: 43/60... Step: 380... Loss: -14.223682... Val Loss: -12.606984\n",
      "Epoch: 43/60... Step: 385... Loss: -13.156949... Val Loss: -11.897353\n",
      "Epoch: 44/60... Step: 390... Loss: -12.764292... Val Loss: -11.918395\n",
      "Epoch: 44/60... Step: 395... Loss: -12.173717... Val Loss: -13.620674\n",
      "Epoch: 45/60... Step: 400... Loss: -14.676035... Val Loss: -12.842372\n",
      "Epoch: 45/60... Step: 405... Loss: -13.772079... Val Loss: -14.937486\n",
      "Epoch: 46/60... Step: 410... Loss: -13.815294... Val Loss: -13.498969\n",
      "Epoch: 47/60... Step: 415... Loss: -12.280339... Val Loss: -12.794650\n",
      "Epoch: 47/60... Step: 420... Loss: -15.284904... Val Loss: -13.357020\n",
      "Epoch: 48/60... Step: 425... Loss: -15.366219... Val Loss: -12.188232\n",
      "Epoch: 48/60... Step: 430... Loss: -16.872967... Val Loss: -13.287109\n",
      "Epoch: 49/60... Step: 435... Loss: -17.004299... Val Loss: -13.949990\n",
      "Epoch: 49/60... Step: 440... Loss: -12.611506... Val Loss: -12.907064\n",
      "Epoch: 50/60... Step: 445... Loss: -13.520402... Val Loss: -13.853100\n",
      "Epoch: 50/60... Step: 450... Loss: -13.135285... Val Loss: -14.385020\n",
      "Epoch: 51/60... Step: 455... Loss: -16.108763... Val Loss: -12.787788\n",
      "Epoch: 52/60... Step: 460... Loss: -12.670492... Val Loss: -14.147045\n",
      "Epoch: 52/60... Step: 465... Loss: -15.526976... Val Loss: -14.296040\n",
      "Epoch: 53/60... Step: 470... Loss: -17.048828... Val Loss: -13.195830\n",
      "Epoch: 53/60... Step: 475... Loss: -16.304180... Val Loss: -12.892366\n",
      "Epoch: 54/60... Step: 480... Loss: -15.070321... Val Loss: -12.667634\n",
      "Epoch: 54/60... Step: 485... Loss: -12.858901... Val Loss: -13.107381\n",
      "Epoch: 55/60... Step: 490... Loss: -14.947369... Val Loss: -13.885067\n",
      "Epoch: 55/60... Step: 495... Loss: -16.640459... Val Loss: -12.310544\n",
      "Epoch: 56/60... Step: 500... Loss: -10.585368... Val Loss: -14.835869\n",
      "Epoch: 57/60... Step: 505... Loss: -15.151372... Val Loss: -13.072725\n",
      "Epoch: 57/60... Step: 510... Loss: -13.281525... Val Loss: -14.033546\n",
      "Epoch: 58/60... Step: 515... Loss: -11.109885... Val Loss: -13.413325\n",
      "Epoch: 58/60... Step: 520... Loss: -14.664824... Val Loss: -12.939654\n",
      "Epoch: 59/60... Step: 525... Loss: -14.947672... Val Loss: -13.962534\n",
      "Epoch: 59/60... Step: 530... Loss: -11.551547... Val Loss: -12.452232\n",
      "Epoch: 60/60... Step: 535... Loss: -13.082825... Val Loss: -13.325332\n",
      "Epoch: 60/60... Step: 540... Loss: -13.352215... Val Loss: -13.296287\n"
     ]
    }
   ],
   "source": [
    "model_LSTM_custom, (loss_list, acc_list, \n",
    "                    overall_val_loss_list) = train_model(model_LSTM_custom, loss_function, 60, 5, LSTM_flag=True)"
   ]
  },
  {
   "cell_type": "code",
   "execution_count": 29,
   "metadata": {},
   "outputs": [
    {
     "data": {
      "text/plain": [
       "LSTM(\n",
       "  (lstm): LSTM(784, 100, num_layers=2, batch_first=True, dropout=0.5)\n",
       "  (dropout): Dropout(p=0.5, inplace=False)\n",
       "  (linear_1): Linear(in_features=100, out_features=50, bias=True)\n",
       "  (linear_2): Linear(in_features=50, out_features=1, bias=True)\n",
       "  (activation): Sigmoid()\n",
       "  (relu): ReLU()\n",
       ")"
      ]
     },
     "execution_count": 29,
     "metadata": {},
     "output_type": "execute_result"
    }
   ],
   "source": [
    "model_LSTM_bce = LSTM(input_size=input_size, output_size=output_size, hidden_dim=hidden_dim, n_layers=n_layers)\n",
    "bce_loss_function = torch.nn.BCELoss()\n",
    "model_LSTM_bce.to(device)"
   ]
  },
  {
   "cell_type": "code",
   "execution_count": 30,
   "metadata": {},
   "outputs": [
    {
     "name": "stdout",
     "output_type": "stream",
     "text": [
      "Epoch: 1/60... Step: 5... Loss: 0.601782... Val Loss: 0.590719\n",
      "Epoch: 2/60... Step: 10... Loss: 0.445008... Val Loss: 0.404826\n",
      "Epoch: 2/60... Step: 15... Loss: 0.316202... Val Loss: 0.311624\n",
      "Epoch: 3/60... Step: 20... Loss: 0.215332... Val Loss: 0.248975\n",
      "Epoch: 3/60... Step: 25... Loss: 0.190846... Val Loss: 0.179747\n",
      "Epoch: 4/60... Step: 30... Loss: 0.122620... Val Loss: 0.123877\n",
      "Epoch: 4/60... Step: 35... Loss: 0.086201... Val Loss: 0.082894\n",
      "Epoch: 5/60... Step: 40... Loss: 0.049946... Val Loss: 0.062588\n",
      "Epoch: 5/60... Step: 45... Loss: 0.047334... Val Loss: 0.056278\n",
      "Epoch: 6/60... Step: 50... Loss: 0.051752... Val Loss: 0.068186\n",
      "Epoch: 7/60... Step: 55... Loss: 0.034629... Val Loss: 0.058111\n",
      "Epoch: 7/60... Step: 60... Loss: 0.043350... Val Loss: 0.063119\n",
      "Epoch: 8/60... Step: 65... Loss: 0.037182... Val Loss: 0.055171\n",
      "Epoch: 8/60... Step: 70... Loss: 0.042268... Val Loss: 0.050838\n",
      "Epoch: 9/60... Step: 75... Loss: 0.030361... Val Loss: 0.049891\n",
      "Epoch: 9/60... Step: 80... Loss: 0.026534... Val Loss: 0.047790\n",
      "Epoch: 10/60... Step: 85... Loss: 0.022077... Val Loss: 0.051801\n",
      "Epoch: 10/60... Step: 90... Loss: 0.021627... Val Loss: 0.057190\n",
      "Epoch: 11/60... Step: 95... Loss: 0.034398... Val Loss: 0.053178\n",
      "Epoch: 12/60... Step: 100... Loss: 0.018709... Val Loss: 0.042147\n",
      "Epoch: 12/60... Step: 105... Loss: 0.019380... Val Loss: 0.041885\n",
      "Epoch: 13/60... Step: 110... Loss: 0.021965... Val Loss: 0.048124\n",
      "Epoch: 13/60... Step: 115... Loss: 0.018611... Val Loss: 0.042414\n",
      "Epoch: 14/60... Step: 120... Loss: 0.018802... Val Loss: 0.041016\n",
      "Epoch: 14/60... Step: 125... Loss: 0.020804... Val Loss: 0.045119\n",
      "Epoch: 15/60... Step: 130... Loss: 0.022365... Val Loss: 0.049815\n",
      "Epoch: 15/60... Step: 135... Loss: 0.012497... Val Loss: 0.033901\n",
      "Epoch: 16/60... Step: 140... Loss: 0.012738... Val Loss: 0.036936\n",
      "Epoch: 17/60... Step: 145... Loss: 0.015461... Val Loss: 0.045923\n",
      "Epoch: 17/60... Step: 150... Loss: 0.017595... Val Loss: 0.054798\n",
      "Epoch: 18/60... Step: 155... Loss: 0.011840... Val Loss: 0.068673\n",
      "Epoch: 18/60... Step: 160... Loss: 0.012349... Val Loss: 0.065643\n",
      "Epoch: 19/60... Step: 165... Loss: 0.016762... Val Loss: 0.052976\n",
      "Epoch: 19/60... Step: 170... Loss: 0.019071... Val Loss: 0.049862\n",
      "Epoch: 20/60... Step: 175... Loss: 0.017131... Val Loss: 0.046997\n",
      "Epoch: 20/60... Step: 180... Loss: 0.013696... Val Loss: 0.061501\n",
      "Epoch: 21/60... Step: 185... Loss: 0.014383... Val Loss: 0.048009\n",
      "Epoch: 22/60... Step: 190... Loss: 0.009411... Val Loss: 0.052428\n",
      "Epoch: 22/60... Step: 195... Loss: 0.014002... Val Loss: 0.051319\n",
      "Epoch: 23/60... Step: 200... Loss: 0.013715... Val Loss: 0.064557\n",
      "Epoch: 23/60... Step: 205... Loss: 0.018887... Val Loss: 0.056423\n",
      "Epoch: 24/60... Step: 210... Loss: 0.012365... Val Loss: 0.058509\n",
      "Epoch: 24/60... Step: 215... Loss: 0.014028... Val Loss: 0.044578\n",
      "Epoch: 25/60... Step: 220... Loss: 0.010321... Val Loss: 0.047900\n",
      "Epoch: 25/60... Step: 225... Loss: 0.007552... Val Loss: 0.051933\n",
      "Epoch: 26/60... Step: 230... Loss: 0.013031... Val Loss: 0.058273\n",
      "Epoch: 27/60... Step: 235... Loss: 0.007140... Val Loss: 0.062269\n",
      "Epoch: 27/60... Step: 240... Loss: 0.015223... Val Loss: 0.058186\n",
      "Epoch: 28/60... Step: 245... Loss: 0.006057... Val Loss: 0.057160\n",
      "Epoch: 28/60... Step: 250... Loss: 0.009994... Val Loss: 0.068500\n",
      "Epoch: 29/60... Step: 255... Loss: 0.020419... Val Loss: 0.071525\n",
      "Epoch: 29/60... Step: 260... Loss: 0.014681... Val Loss: 0.062322\n",
      "Epoch: 30/60... Step: 265... Loss: 0.012009... Val Loss: 0.068601\n",
      "Epoch: 30/60... Step: 270... Loss: 0.010895... Val Loss: 0.037056\n",
      "Epoch: 31/60... Step: 275... Loss: 0.014417... Val Loss: 0.037303\n",
      "Epoch: 32/60... Step: 280... Loss: 0.019730... Val Loss: 0.056722\n",
      "Epoch: 32/60... Step: 285... Loss: 0.012837... Val Loss: 0.037292\n",
      "Epoch: 33/60... Step: 290... Loss: 0.008869... Val Loss: 0.057060\n",
      "Epoch: 33/60... Step: 295... Loss: 0.009508... Val Loss: 0.056327\n",
      "Epoch: 34/60... Step: 300... Loss: 0.008105... Val Loss: 0.051642\n",
      "Epoch: 34/60... Step: 305... Loss: 0.005939... Val Loss: 0.067796\n",
      "Epoch: 35/60... Step: 310... Loss: 0.006964... Val Loss: 0.063047\n",
      "Epoch: 35/60... Step: 315... Loss: 0.009121... Val Loss: 0.072439\n",
      "Epoch: 36/60... Step: 320... Loss: 0.008071... Val Loss: 0.066519\n",
      "Epoch: 37/60... Step: 325... Loss: 0.004629... Val Loss: 0.055862\n",
      "Epoch: 37/60... Step: 330... Loss: 0.006235... Val Loss: 0.058537\n",
      "Epoch: 38/60... Step: 335... Loss: 0.009881... Val Loss: 0.073626\n",
      "Epoch: 38/60... Step: 340... Loss: 0.004466... Val Loss: 0.057546\n",
      "Epoch: 39/60... Step: 345... Loss: 0.004376... Val Loss: 0.060746\n",
      "Epoch: 39/60... Step: 350... Loss: 0.005596... Val Loss: 0.072932\n",
      "Epoch: 40/60... Step: 355... Loss: 0.006429... Val Loss: 0.081084\n",
      "Epoch: 40/60... Step: 360... Loss: 0.005797... Val Loss: 0.058618\n",
      "Epoch: 41/60... Step: 365... Loss: 0.005824... Val Loss: 0.065331\n",
      "Epoch: 42/60... Step: 370... Loss: 0.006398... Val Loss: 0.059648\n",
      "Epoch: 42/60... Step: 375... Loss: 0.004571... Val Loss: 0.086138\n",
      "Epoch: 43/60... Step: 380... Loss: 0.004697... Val Loss: 0.075066\n",
      "Epoch: 43/60... Step: 385... Loss: 0.005516... Val Loss: 0.066704\n",
      "Epoch: 44/60... Step: 390... Loss: 0.008420... Val Loss: 0.079130\n",
      "Epoch: 44/60... Step: 395... Loss: 0.006332... Val Loss: 0.074605\n",
      "Epoch: 45/60... Step: 400... Loss: 0.010228... Val Loss: 0.061394\n",
      "Epoch: 45/60... Step: 405... Loss: 0.007656... Val Loss: 0.067739\n",
      "Epoch: 46/60... Step: 410... Loss: 0.003783... Val Loss: 0.083626\n",
      "Epoch: 47/60... Step: 415... Loss: 0.005114... Val Loss: 0.073017\n",
      "Epoch: 47/60... Step: 420... Loss: 0.005359... Val Loss: 0.063992\n",
      "Epoch: 48/60... Step: 425... Loss: 0.002101... Val Loss: 0.074122\n",
      "Epoch: 48/60... Step: 430... Loss: 0.004548... Val Loss: 0.078008\n",
      "Epoch: 49/60... Step: 435... Loss: 0.005614... Val Loss: 0.094332\n",
      "Epoch: 49/60... Step: 440... Loss: 0.003131... Val Loss: 0.083967\n",
      "Epoch: 50/60... Step: 445... Loss: 0.005639... Val Loss: 0.093468\n",
      "Epoch: 50/60... Step: 450... Loss: 0.003980... Val Loss: 0.080857\n",
      "Epoch: 51/60... Step: 455... Loss: 0.005069... Val Loss: 0.100169\n",
      "Epoch: 52/60... Step: 460... Loss: 0.006384... Val Loss: 0.098884\n",
      "Epoch: 52/60... Step: 465... Loss: 0.010631... Val Loss: 0.077240\n",
      "Epoch: 53/60... Step: 470... Loss: 0.011964... Val Loss: 0.081414\n",
      "Epoch: 53/60... Step: 475... Loss: 0.004350... Val Loss: 0.083526\n",
      "Epoch: 54/60... Step: 480... Loss: 0.005188... Val Loss: 0.079939\n",
      "Epoch: 54/60... Step: 485... Loss: 0.003820... Val Loss: 0.080596\n",
      "Epoch: 55/60... Step: 490... Loss: 0.004588... Val Loss: 0.080935\n",
      "Epoch: 55/60... Step: 495... Loss: 0.003223... Val Loss: 0.084227\n",
      "Epoch: 56/60... Step: 500... Loss: 0.006368... Val Loss: 0.072225\n",
      "Epoch: 57/60... Step: 505... Loss: 0.005829... Val Loss: 0.087298\n",
      "Epoch: 57/60... Step: 510... Loss: 0.007458... Val Loss: 0.076890\n",
      "Epoch: 58/60... Step: 515... Loss: 0.004410... Val Loss: 0.075205\n",
      "Epoch: 58/60... Step: 520... Loss: 0.003553... Val Loss: 0.072597\n",
      "Epoch: 59/60... Step: 525... Loss: 0.006078... Val Loss: 0.084154\n",
      "Epoch: 59/60... Step: 530... Loss: 0.004030... Val Loss: 0.093191\n",
      "Epoch: 60/60... Step: 535... Loss: 0.004031... Val Loss: 0.080419\n",
      "Epoch: 60/60... Step: 540... Loss: 0.003074... Val Loss: 0.083166\n"
     ]
    }
   ],
   "source": [
    "model_LSTM_bce, (bce_loss_list, bce_acc_list, bce_overall_val_loss_list) = train_model(model_LSTM_bce, bce_loss_function, \n",
    "                                                                                       60, 5, LSTM_flag=True)"
   ]
  },
  {
   "cell_type": "code",
   "execution_count": 31,
   "metadata": {},
   "outputs": [
    {
     "data": {
      "text/plain": [
       "LSTM(\n",
       "  (lstm): LSTM(784, 100, num_layers=2, batch_first=True, dropout=0.5)\n",
       "  (dropout): Dropout(p=0.5, inplace=False)\n",
       "  (linear_1): Linear(in_features=100, out_features=50, bias=True)\n",
       "  (linear_2): Linear(in_features=50, out_features=1, bias=True)\n",
       "  (activation): Sigmoid()\n",
       "  (relu): ReLU()\n",
       ")"
      ]
     },
     "execution_count": 31,
     "metadata": {},
     "output_type": "execute_result"
    }
   ],
   "source": [
    "model_LSTM_combined = LSTM(input_size=input_size, output_size=output_size, hidden_dim=hidden_dim, n_layers=n_layers)\n",
    "first_bce_loss_function = torch.nn.BCELoss()\n",
    "second_custom_loss_function = CustomLoss()\n",
    "model_LSTM_combined.to(device)"
   ]
  },
  {
   "cell_type": "code",
   "execution_count": 32,
   "metadata": {},
   "outputs": [
    {
     "name": "stdout",
     "output_type": "stream",
     "text": [
      "Epoch: 1/30... Step: 5... Loss: -1.284327... Val Loss: -1.809622\n",
      "Epoch: 2/30... Step: 10... Loss: -3.000785... Val Loss: -2.507218\n",
      "Epoch: 2/30... Step: 15... Loss: -3.765089... Val Loss: -3.212840\n",
      "Epoch: 3/30... Step: 20... Loss: -4.213460... Val Loss: -4.073086\n",
      "Epoch: 3/30... Step: 25... Loss: -7.105561... Val Loss: -6.260559\n",
      "Epoch: 4/30... Step: 30... Loss: -6.263509... Val Loss: -7.214925\n",
      "Epoch: 4/30... Step: 35... Loss: -6.752656... Val Loss: -7.191236\n",
      "Epoch: 5/30... Step: 40... Loss: -7.594733... Val Loss: -8.326560\n",
      "Epoch: 5/30... Step: 45... Loss: -10.770649... Val Loss: -9.876364\n",
      "Epoch: 6/30... Step: 50... Loss: -9.489916... Val Loss: -10.086832\n",
      "Epoch: 7/30... Step: 55... Loss: -12.522557... Val Loss: -10.680277\n",
      "Epoch: 7/30... Step: 60... Loss: -9.725799... Val Loss: -11.360797\n",
      "Epoch: 8/30... Step: 65... Loss: -8.592749... Val Loss: -11.659732\n",
      "Epoch: 8/30... Step: 70... Loss: -12.458275... Val Loss: -9.594180\n",
      "Epoch: 9/30... Step: 75... Loss: -11.843534... Val Loss: -11.935314\n",
      "Epoch: 9/30... Step: 80... Loss: -11.458022... Val Loss: -11.097078\n",
      "Epoch: 10/30... Step: 85... Loss: -17.856144... Val Loss: -12.906616\n",
      "Epoch: 10/30... Step: 90... Loss: -13.601697... Val Loss: -12.284956\n",
      "Epoch: 11/30... Step: 95... Loss: -12.607046... Val Loss: -12.247385\n",
      "Epoch: 12/30... Step: 100... Loss: -10.585956... Val Loss: -9.963161\n",
      "Epoch: 12/30... Step: 105... Loss: -12.888717... Val Loss: -10.682600\n",
      "Epoch: 13/30... Step: 110... Loss: -11.142515... Val Loss: -10.443609\n",
      "Epoch: 13/30... Step: 115... Loss: -13.597262... Val Loss: -11.944130\n",
      "Epoch: 14/30... Step: 120... Loss: -13.082601... Val Loss: -10.263448\n",
      "Epoch: 14/30... Step: 125... Loss: -12.559927... Val Loss: -11.839579\n",
      "Epoch: 15/30... Step: 130... Loss: -14.636719... Val Loss: -11.079152\n",
      "Epoch: 15/30... Step: 135... Loss: -11.705490... Val Loss: -12.826161\n",
      "Epoch: 16/30... Step: 140... Loss: -13.884463... Val Loss: -10.754349\n",
      "Epoch: 17/30... Step: 145... Loss: -14.368421... Val Loss: -12.528897\n",
      "Epoch: 17/30... Step: 150... Loss: -14.028396... Val Loss: -12.473996\n",
      "Epoch: 18/30... Step: 155... Loss: -13.952232... Val Loss: -13.304923\n",
      "Epoch: 18/30... Step: 160... Loss: -12.708238... Val Loss: -12.652378\n",
      "Epoch: 19/30... Step: 165... Loss: -12.008834... Val Loss: -12.810965\n",
      "Epoch: 19/30... Step: 170... Loss: -12.718920... Val Loss: -13.197660\n",
      "Epoch: 20/30... Step: 175... Loss: -10.750023... Val Loss: -13.305274\n",
      "Epoch: 20/30... Step: 180... Loss: -13.620921... Val Loss: -12.671197\n",
      "Epoch: 21/30... Step: 185... Loss: -12.403318... Val Loss: -13.267899\n",
      "Epoch: 22/30... Step: 190... Loss: -11.946073... Val Loss: -14.457142\n",
      "Epoch: 22/30... Step: 195... Loss: -12.190574... Val Loss: -13.905654\n",
      "Epoch: 23/30... Step: 200... Loss: -12.205108... Val Loss: -12.353651\n",
      "Epoch: 23/30... Step: 205... Loss: -13.073200... Val Loss: -13.075849\n",
      "Epoch: 24/30... Step: 210... Loss: -15.182620... Val Loss: -13.387133\n",
      "Epoch: 24/30... Step: 215... Loss: -13.481277... Val Loss: -12.721452\n",
      "Epoch: 25/30... Step: 220... Loss: -17.469627... Val Loss: -12.979936\n",
      "Epoch: 25/30... Step: 225... Loss: -15.707689... Val Loss: -13.477513\n",
      "Epoch: 26/30... Step: 230... Loss: -15.185036... Val Loss: -11.938443\n",
      "Epoch: 27/30... Step: 235... Loss: -16.360859... Val Loss: -13.243440\n",
      "Epoch: 27/30... Step: 240... Loss: -11.516115... Val Loss: -12.302352\n",
      "Epoch: 28/30... Step: 245... Loss: -14.809052... Val Loss: -12.919009\n",
      "Epoch: 28/30... Step: 250... Loss: -15.234503... Val Loss: -12.726617\n",
      "Epoch: 29/30... Step: 255... Loss: -15.527054... Val Loss: -12.618227\n",
      "Epoch: 29/30... Step: 260... Loss: -12.262705... Val Loss: -13.411117\n",
      "Epoch: 30/30... Step: 265... Loss: -12.710247... Val Loss: -12.521521\n",
      "Epoch: 30/30... Step: 270... Loss: -16.960941... Val Loss: -13.603466\n"
     ]
    }
   ],
   "source": [
    "model_LSTM_combined, _ = train_model(model_LSTM_combined, second_custom_loss_function, 30, 5, \n",
    "                                    LSTM_flag=True)"
   ]
  },
  {
   "cell_type": "code",
   "execution_count": 33,
   "metadata": {},
   "outputs": [
    {
     "name": "stdout",
     "output_type": "stream",
     "text": [
      "Epoch: 1/30... Step: 5... Loss: 0.085803... Val Loss: 0.084739\n",
      "Epoch: 2/30... Step: 10... Loss: 0.037191... Val Loss: 0.056478\n",
      "Epoch: 2/30... Step: 15... Loss: 0.048014... Val Loss: 0.054692\n",
      "Epoch: 3/30... Step: 20... Loss: 0.052914... Val Loss: 0.039679\n",
      "Epoch: 3/30... Step: 25... Loss: 0.035196... Val Loss: 0.040596\n",
      "Epoch: 4/30... Step: 30... Loss: 0.030560... Val Loss: 0.042491\n",
      "Epoch: 4/30... Step: 35... Loss: 0.036317... Val Loss: 0.039320\n",
      "Epoch: 5/30... Step: 40... Loss: 0.034559... Val Loss: 0.033430\n",
      "Epoch: 5/30... Step: 45... Loss: 0.029170... Val Loss: 0.039419\n",
      "Epoch: 6/30... Step: 50... Loss: 0.023669... Val Loss: 0.035006\n",
      "Epoch: 7/30... Step: 55... Loss: 0.026603... Val Loss: 0.037090\n",
      "Epoch: 7/30... Step: 60... Loss: 0.023008... Val Loss: 0.038837\n",
      "Epoch: 8/30... Step: 65... Loss: 0.030911... Val Loss: 0.044746\n",
      "Epoch: 8/30... Step: 70... Loss: 0.016548... Val Loss: 0.047217\n",
      "Epoch: 9/30... Step: 75... Loss: 0.018037... Val Loss: 0.042116\n",
      "Epoch: 9/30... Step: 80... Loss: 0.016152... Val Loss: 0.039309\n",
      "Epoch: 10/30... Step: 85... Loss: 0.022317... Val Loss: 0.040514\n",
      "Epoch: 10/30... Step: 90... Loss: 0.013296... Val Loss: 0.040564\n",
      "Epoch: 11/30... Step: 95... Loss: 0.017801... Val Loss: 0.041643\n",
      "Epoch: 12/30... Step: 100... Loss: 0.026714... Val Loss: 0.043651\n",
      "Epoch: 12/30... Step: 105... Loss: 0.014695... Val Loss: 0.045082\n",
      "Epoch: 13/30... Step: 110... Loss: 0.016593... Val Loss: 0.042364\n",
      "Epoch: 13/30... Step: 115... Loss: 0.019775... Val Loss: 0.046316\n",
      "Epoch: 14/30... Step: 120... Loss: 0.015290... Val Loss: 0.056137\n",
      "Epoch: 14/30... Step: 125... Loss: 0.015914... Val Loss: 0.055304\n",
      "Epoch: 15/30... Step: 130... Loss: 0.017727... Val Loss: 0.054146\n",
      "Epoch: 15/30... Step: 135... Loss: 0.014067... Val Loss: 0.056149\n",
      "Epoch: 16/30... Step: 140... Loss: 0.012452... Val Loss: 0.058433\n",
      "Epoch: 17/30... Step: 145... Loss: 0.013954... Val Loss: 0.060625\n",
      "Epoch: 17/30... Step: 150... Loss: 0.012901... Val Loss: 0.052566\n",
      "Epoch: 18/30... Step: 155... Loss: 0.013695... Val Loss: 0.059762\n",
      "Epoch: 18/30... Step: 160... Loss: 0.014719... Val Loss: 0.058947\n",
      "Epoch: 19/30... Step: 165... Loss: 0.010791... Val Loss: 0.069259\n",
      "Epoch: 19/30... Step: 170... Loss: 0.013766... Val Loss: 0.073441\n",
      "Epoch: 20/30... Step: 175... Loss: 0.012910... Val Loss: 0.058716\n",
      "Epoch: 20/30... Step: 180... Loss: 0.011046... Val Loss: 0.056214\n",
      "Epoch: 21/30... Step: 185... Loss: 0.012389... Val Loss: 0.057684\n",
      "Epoch: 22/30... Step: 190... Loss: 0.013077... Val Loss: 0.056872\n",
      "Epoch: 22/30... Step: 195... Loss: 0.010590... Val Loss: 0.065582\n",
      "Epoch: 23/30... Step: 200... Loss: 0.013691... Val Loss: 0.074321\n",
      "Epoch: 23/30... Step: 205... Loss: 0.010111... Val Loss: 0.077656\n",
      "Epoch: 24/30... Step: 210... Loss: 0.011055... Val Loss: 0.052882\n",
      "Epoch: 24/30... Step: 215... Loss: 0.011961... Val Loss: 0.064108\n",
      "Epoch: 25/30... Step: 220... Loss: 0.011576... Val Loss: 0.066558\n",
      "Epoch: 25/30... Step: 225... Loss: 0.011196... Val Loss: 0.063167\n",
      "Epoch: 26/30... Step: 230... Loss: 0.008494... Val Loss: 0.067523\n",
      "Epoch: 27/30... Step: 235... Loss: 0.006446... Val Loss: 0.069109\n",
      "Epoch: 27/30... Step: 240... Loss: 0.013985... Val Loss: 0.083946\n",
      "Epoch: 28/30... Step: 245... Loss: 0.008256... Val Loss: 0.081476\n",
      "Epoch: 28/30... Step: 250... Loss: 0.008375... Val Loss: 0.072551\n",
      "Epoch: 29/30... Step: 255... Loss: 0.005043... Val Loss: 0.073274\n",
      "Epoch: 29/30... Step: 260... Loss: 0.010337... Val Loss: 0.075993\n",
      "Epoch: 30/30... Step: 265... Loss: 0.009811... Val Loss: 0.072053\n",
      "Epoch: 30/30... Step: 270... Loss: 0.007769... Val Loss: 0.071745\n"
     ]
    }
   ],
   "source": [
    "model_LSTM_combined, __ = train_model(model_LSTM_combined, first_bce_loss_function, 30, 5, \n",
    "                                      LSTM_flag=True)"
   ]
  },
  {
   "cell_type": "code",
   "execution_count": 34,
   "metadata": {},
   "outputs": [],
   "source": [
    "def evaluate_metrics(y_true, y_pred, threshold=0.5):\n",
    "    \"\"\"\n",
    "    Evaluate metrics for change point detection\n",
    "    We assume, that there is no more than one change index in data (so, either 0 or 1 change)\n",
    "    Inputs\n",
    "    y_true : torch.Tensor\n",
    "      true labels\n",
    "    y_pred : torch.Tensor\n",
    "      change probabiltiy\n",
    "    threshold : float\n",
    "      detection threshold\n",
    "      \n",
    "    Returns\n",
    "    false_positive : int\n",
    "      number of false positives\n",
    "    false_negative : int\n",
    "      number of false negatives\n",
    "    delay : int\n",
    "      detection delay\n",
    "    accuracy : float\n",
    "      y_pred accuracy given y_truei\n",
    "    \"\"\"\n",
    "    delay = 0\n",
    "    false_positive = 0\n",
    "    false_negative = 0\n",
    "    true_negative = 0\n",
    "\n",
    "    index_real = torch.where(y_true != y_true[0])[0] # indexes with real changes\n",
    "    index_detected = torch.where((y_pred > threshold).long() != y_true[0])[0] # indexes with predicted changes\n",
    "\n",
    "    if len(index_real) > 0:\n",
    "        real_change_index = index_real[0]\n",
    "\n",
    "        if len(index_detected) > 0:\n",
    "            index_sub_detected = torch.where(index_detected >= real_change_index)[0]\n",
    "\n",
    "            if len(index_sub_detected) == len(index_detected):\n",
    "                false_positive_delay = real_change_index.item()\n",
    "                detected_change_index = index_detected[0]\n",
    "                delay = (detected_change_index - real_change_index).item()\n",
    "            else:\n",
    "                false_positive_delay = index_detected[0].item()\n",
    "                delay = 0\n",
    "                false_positive += 1\n",
    "                \n",
    "        else:\n",
    "            false_positive_delay = seq_len\n",
    "            delay = (seq_len - real_change_index).item()\n",
    "            false_negative += 1\n",
    "\n",
    "    else:\n",
    "        if len(index_detected) > 0:\n",
    "            false_positive_delay = index_detected[0].item()\n",
    "            false_positive += 1\n",
    "        else:\n",
    "            false_positive_delay = seq_len\n",
    "            true_negative += 1\n",
    "    \n",
    "    accuracy = ((y_pred > threshold).long() == y_true).float().mean().item()\n",
    "    \n",
    "    return false_positive, false_negative, delay, false_positive_delay, accuracy"
   ]
  },
  {
   "cell_type": "code",
   "execution_count": 35,
   "metadata": {},
   "outputs": [],
   "source": [
    "def get_quality_metrics(test_loader, model, threshold=0.5, LSTM_flag=True):\n",
    "    test_loss_list = []\n",
    "    test_acc_list = []\n",
    "\n",
    "    positive_number = 0 \n",
    "    negative_number = 0\n",
    "    fp_list = []\n",
    "    fn_list = []\n",
    "    delay_list = []\n",
    "    fp_delay_list = []\n",
    "    accuracy_list = []\n",
    "\n",
    "    model.eval()\n",
    "    for test_inputs, test_true_labels in test_loader:\n",
    "\n",
    "        if test_inputs.shape[0] < test_batch_size:\n",
    "            break\n",
    "            \n",
    "        test_inputs, test_true_labels = test_inputs.to(device), test_true_labels.to(device)\n",
    "\n",
    "        if LSTM_flag:\n",
    "            test_hidden = model.init_hidden(batch_size)\n",
    "            #test_hidden = tuple([each.data for each in test_hidden])\n",
    "            test_predictions, test_hidden = model(test_inputs, test_hidden)\n",
    "        else:\n",
    "            test_predictions = model(test_inputs)\n",
    "            \n",
    "        test_loss = loss_function(test_predictions.squeeze(), test_true_labels.float())\n",
    "        test_loss_list += [test_loss.cpu().clone().detach()]\n",
    "\n",
    "        for i in range(0, test_batch_size):\n",
    "            curr_labels = test_true_labels[i]\n",
    "            curr_predictions = test_predictions[i]\n",
    "            \n",
    "            # torch.rand_like\n",
    "            curr_fp, curr_fn, curr_delay, curr_fp_delay, curr_accuracy = evaluate_metrics(curr_labels, curr_predictions, \n",
    "                                                                           threshold)\n",
    "\n",
    "            max_difference = np.abs((curr_labels.max() - curr_labels.min()).item())\n",
    "            if max_difference: \n",
    "                delay_list.append(curr_delay)\n",
    "            positive_number += (max_difference > 0)\n",
    "            negative_number += 1 - (max_difference > 0)\n",
    "\n",
    "            fp_list.append(curr_fp)\n",
    "            fn_list.append(curr_fn)\n",
    "            fp_delay_list.append(curr_fp_delay)\n",
    "            accuracy_list.append(curr_accuracy)\n",
    "\n",
    "        test_acc_list.append(np.mean(accuracy_list[-test_batch_size:]))\n",
    "        \n",
    "    return (positive_number, negative_number, np.mean(test_loss_list), np.mean(test_acc_list), np.mean(delay_list),\n",
    "            np.mean(fp_delay_list), np.sum(fp_list), np.sum(fn_list))"
   ]
  },
  {
   "cell_type": "code",
   "execution_count": 36,
   "metadata": {},
   "outputs": [],
   "source": [
    "def get_pareto_metrics_for_threshold(model, test_loader, threshold_list, LSTM_flag=True):\n",
    "    fp_number_list = []\n",
    "    fn_number_list = []\n",
    "    delay_list = []\n",
    "    fp_delay_list = []\n",
    "    for threshold in threshold_list:\n",
    "        # test_loader = prepare_loader(test_data, test_labels, seq_len, input_size, batch_size)\n",
    "\n",
    "        (positive_number, negative_number, test_loss, \n",
    "         test_acc, mean_delay, mean_fp_delay, fp_number, fn_number) = get_quality_metrics(test_loader, model, threshold, LSTM_flag)\n",
    "\n",
    "        fp_number_list.append(fp_number)\n",
    "        fn_number_list.append(fn_number)\n",
    "        delay_list.append(mean_delay)\n",
    "        fp_delay_list.append(mean_fp_delay)\n",
    "        #print(threshold, fp_number, fn_number, mean_delay, mean_fp_delay)\n",
    "    \n",
    "    return fp_number_list, fn_number_list, delay_list, fp_delay_list"
   ]
  },
  {
   "cell_type": "code",
   "execution_count": 37,
   "metadata": {},
   "outputs": [
    {
     "data": {
      "text/plain": [
       "[<matplotlib.lines.Line2D at 0x7fcb7699a2d0>]"
      ]
     },
     "execution_count": 37,
     "metadata": {},
     "output_type": "execute_result"
    },
    {
     "data": {
      "image/png": "[encoded data removed]",
      "text/plain": [
       "<Figure size 432x288 with 1 Axes>"
      ]
     },
     "metadata": {
      "needs_background": "light"
     },
     "output_type": "display_data"
    }
   ],
   "source": [
    "threshold_number = 200\n",
    "threshold_list = np.linspace(-15, 15, threshold_number)\n",
    "threshold_list = 1 / (1 + np.exp(-threshold_list))\n",
    "threshold_list = [-0.001] + list(threshold_list) + [1.001]\n",
    "plt.plot(np.linspace(0.01, 1, threshold_number + 2), threshold_list)"
   ]
  },
  {
   "cell_type": "code",
   "execution_count": 38,
   "metadata": {},
   "outputs": [],
   "source": [
    "test_batch_size = 64\n",
    "final_test_loader = prepare_loader(test_data, test_labels, seq_len, input_size, test_batch_size, shuffle=False)\n",
    "\n",
    "(fp_number_list_LSTM_bce, fn_number_list_LSTM_bce, \n",
    " delay_list_LSTM_bce, fp_delay_list_LSTM_bce) = get_pareto_metrics_for_threshold(model_LSTM_bce, final_test_loader, \n",
    "                                                                                 threshold_list, LSTM_flag=True)"
   ]
  },
  {
   "cell_type": "code",
   "execution_count": 39,
   "metadata": {},
   "outputs": [],
   "source": [
    "test_batch_size = 64\n",
    "final_test_loader = prepare_loader(test_data, test_labels, seq_len, input_size, test_batch_size, shuffle=False)\n",
    "\n",
    "(fp_number_list_LSTM_custom, fn_number_list_LSTM_custom, \n",
    " delay_list_LSTM_custom, fp_delay_list_LSTM_custom) = get_pareto_metrics_for_threshold(model_LSTM_custom, final_test_loader, \n",
    "                                                                                       threshold_list, LSTM_flag=True)"
   ]
  },
  {
   "cell_type": "code",
   "execution_count": 40,
   "metadata": {},
   "outputs": [],
   "source": [
    "test_batch_size = 64\n",
    "final_test_loader = prepare_loader(test_data, test_labels, seq_len, input_size, test_batch_size, shuffle=False)\n",
    "\n",
    "(fp_number_list_LSTM_combined, fn_number_list_LSTM_combined, delay_list_LSTM_combined, fp_delay_list_LSTM_combined) = get_pareto_metrics_for_threshold(model_LSTM_combined, final_test_loader, threshold_list, LSTM_flag=True)"
   ]
  },
  {
   "cell_type": "code",
   "execution_count": 42,
   "metadata": {},
   "outputs": [
    {
     "data": {
      "image/png": "[encoded data removed]",
      "text/plain": [
       "<Figure size 864x864 with 1 Axes>"
      ]
     },
     "metadata": {
      "needs_background": "light"
     },
     "output_type": "display_data"
    }
   ],
   "source": [
    "plt.figure(figsize=(12, 12))\n",
    "plt.plot(fp_delay_list_LSTM_custom, delay_list_LSTM_custom, '-o', markersize=4, label='Custom (ours)')\n",
    "plt.plot(fp_delay_list_LSTM_bce, delay_list_LSTM_bce, '-d', markersize=4, label='BCE')\n",
    "plt.plot(fp_delay_list_LSTM_combined, delay_list_LSTM_combined, '--s', markersize=4, label='Combined (ours)')\n",
    "\n",
    "plt.xlabel('Mean Time to False Alarm', fontsize=28)\n",
    "plt.ylabel('Mean Detection Delay', fontsize=28)\n",
    "plt.xticks(fontsize=24)\n",
    "plt.yticks(fontsize=24)\n",
    "plt.legend(loc='upper left', fontsize=26);\n",
    "plt.savefig('mnist_4_in_7_curve.pdf', bbox_inches='tight')"
   ]
  },
  {
   "cell_type": "code",
   "execution_count": null,
   "metadata": {},
   "outputs": [],
   "source": [
    "def save_metrics_to_file_new_version(model_name, model, test_loader, batch_size,\n",
    "                                     seq_len, fp_delay, threshold_list, x_coord_arr, path_to_save = \"\"):\n",
    "  columns_list = [\"Model name\", \"Mean FP delay\", \"Mean delay\", \"Threshold\", \"TP\", \"TN\", \"FP\", \"FN\", \"Acc\",\n",
    "                \"Precision\", \"Recall\", \"F1-score\", \"G-mean\"]\n",
    "  data_model_results = metrics_by_fp_delay_x_coord(model_name, model, test_loader, batch_size, seq_len,\n",
    "                                                   fp_delay, threshold_list, x_coord_arr)\n",
    "  df_main = pd.DataFrame(data_model_results, columns = columns_list)\n",
    "  df_main.to_excel(os.path.join(path_to_save, model_name + \".xlsx\" ), index = False)"
   ]
  },
  {
   "cell_type": "code",
   "execution_count": 44,
   "metadata": {},
   "outputs": [],
   "source": [
    "%load_ext autoreload\n",
    "%autoreload 1\n",
    "%aimport metrics\n"
   ]
  },
  {
   "cell_type": "code",
   "execution_count": 52,
   "metadata": {},
   "outputs": [
    {
     "data": {
      "text/plain": [
       "LSTM(\n",
       "  (lstm): LSTM(784, 100, num_layers=2, batch_first=True, dropout=0.5)\n",
       "  (dropout): Dropout(p=0.5, inplace=False)\n",
       "  (linear_1): Linear(in_features=100, out_features=50, bias=True)\n",
       "  (linear_2): Linear(in_features=50, out_features=1, bias=True)\n",
       "  (activation): Sigmoid()\n",
       "  (relu): ReLU()\n",
       ")"
      ]
     },
     "execution_count": 52,
     "metadata": {},
     "output_type": "execute_result"
    }
   ],
   "source": [
    "model_LSTM_custom.to('cuda:0')"
   ]
  },
  {
   "cell_type": "code",
   "execution_count": 54,
   "metadata": {},
   "outputs": [
    {
     "name": "stdout",
     "output_type": "stream",
     "text": [
      "33.984375 0.33662029495232143 35.078125 0.3710679107501842 35\n",
      "TP: 12 TN: 29 FP: 23 FN: 0 DELAY: 0.125 FP_DELAY 43.671875\n",
      "39.5625 0.9564971876670771 43.546875 0.9623558248267451 39.99\n",
      "TP: 14 TN: 38 FP: 6 FN: 6 DELAY: 5.21875 FP_DELAY 50.515625\n",
      "43.546875 0.9623558248267451 48.21875 0.9674523120684658 45\n",
      "TP: 7 TN: 36 FP: 2 FN: 19 DELAY: 10.328125 FP_DELAY 57.28125\n",
      "48.21875 0.9674523120684658 53.96875 0.9718789695244026 50\n",
      "TP: 6 TN: 38 FP: 1 FN: 19 DELAY: 10.0625 FP_DELAY 58.578125\n"
     ]
    }
   ],
   "source": [
    "metrics.save_metrics_to_file_new_version('Custom', model_LSTM_custom, val_loader, batch_size=64,\n",
    "                                         seq_len=64, fp_delay=fp_delay_list_LSTM_custom, \n",
    "                                         threshold_list=threshold_list, \n",
    "                                         x_coord_arr=[35, 39.99, 45, 50], path_to_save = \"\")"
   ]
  },
  {
   "cell_type": "code",
   "execution_count": 45,
   "metadata": {},
   "outputs": [
    {
     "data": {
      "text/plain": [
       "413.57017686631946"
      ]
     },
     "execution_count": 45,
     "metadata": {},
     "output_type": "execute_result"
    }
   ],
   "source": [
    "metrics.area_under_graph(delay_list_LSTM_custom, fp_delay_list_LSTM_custom)"
   ]
  },
  {
   "cell_type": "code",
   "execution_count": 64,
   "metadata": {},
   "outputs": [
    {
     "data": {
      "text/plain": [
       "LSTM(\n",
       "  (lstm): LSTM(784, 100, num_layers=2, batch_first=True, dropout=0.5)\n",
       "  (dropout): Dropout(p=0.5, inplace=False)\n",
       "  (linear_1): Linear(in_features=100, out_features=50, bias=True)\n",
       "  (linear_2): Linear(in_features=50, out_features=1, bias=True)\n",
       "  (activation): Sigmoid()\n",
       "  (relu): ReLU()\n",
       ")"
      ]
     },
     "execution_count": 64,
     "metadata": {},
     "output_type": "execute_result"
    }
   ],
   "source": [
    "model_LSTM_bce.to('cuda:0')"
   ]
  },
  {
   "cell_type": "code",
   "execution_count": 65,
   "metadata": {},
   "outputs": [
    {
     "name": "stdout",
     "output_type": "stream",
     "text": [
      "34.328125 0.02812103047559733 35.375 0.03254768793153412 35\n",
      "TP: 12 TN: 35 FP: 17 FN: 0 DELAY: 0.265625 FP_DELAY 43.5\n",
      "38.421875 0.9999401505276208 57.96875 0.9999485254648226 39.9\n",
      "TP: 27 TN: 35 FP: 1 FN: 1 DELAY: 5.890625 FP_DELAY 47.953125\n",
      "38.421875 0.9999401505276208 57.96875 0.9999485254648226 45\n",
      "TP: 22 TN: 34 FP: 1 FN: 7 DELAY: 9.84375 FP_DELAY 50.796875\n",
      "38.421875 0.9999401505276208 57.96875 0.9999485254648226 50\n",
      "TP: 16 TN: 33 FP: 1 FN: 14 DELAY: 13.75 FP_DELAY 55.203125\n"
     ]
    }
   ],
   "source": [
    "metrics.save_metrics_to_file_new_version('BCE', model_LSTM_bce, val_loader, batch_size=64,\n",
    "                                         seq_len=64, fp_delay=fp_delay_list_LSTM_bce, \n",
    "                                         threshold_list=threshold_list, \n",
    "                                         x_coord_arr=[35, 39.9, 45, 50], path_to_save = \"\")"
   ]
  },
  {
   "cell_type": "code",
   "execution_count": 66,
   "metadata": {},
   "outputs": [
    {
     "data": {
      "text/plain": [
       "788.3809070121953"
      ]
     },
     "execution_count": 66,
     "metadata": {},
     "output_type": "execute_result"
    }
   ],
   "source": [
    "metrics.area_under_graph(delay_list_LSTM_bce, fp_delay_list_LSTM_bce)"
   ]
  },
  {
   "cell_type": "code",
   "execution_count": 68,
   "metadata": {},
   "outputs": [
    {
     "name": "stdout",
     "output_type": "stream",
     "text": [
      "34.984375 0.01807518260025041 35.125 0.020954573680812282 35\n",
      "TP: 8 TN: 35 FP: 21 FN: 0 DELAY: 0.03125 FP_DELAY 46.4375\n",
      "38.71875 0.9998521398034467 58.515625 0.9998728288098837 40\n",
      "TP: 26 TN: 37 FP: 0 FN: 1 DELAY: 6.375 FP_DELAY 47.84375\n",
      "38.71875 0.9998521398034467 58.515625 0.9998728288098837 45\n",
      "TP: 19 TN: 34 FP: 0 FN: 11 DELAY: 11.359375 FP_DELAY 52.953125\n",
      "38.71875 0.9998521398034467 58.515625 0.9998728288098837 50\n",
      "TP: 9 TN: 40 FP: 0 FN: 15 DELAY: 12.015625 FP_DELAY 58.875\n"
     ]
    }
   ],
   "source": [
    "metrics.save_metrics_to_file_new_version('Cobined', model_LSTM_combined, val_loader, batch_size=64,\n",
    "                                         seq_len=64, fp_delay=fp_delay_list_LSTM_combined, \n",
    "                                         threshold_list=threshold_list, \n",
    "                                         x_coord_arr=[35, 40, 45, 50], path_to_save = \"\")"
   ]
  },
  {
   "cell_type": "code",
   "execution_count": 69,
   "metadata": {},
   "outputs": [
    {
     "data": {
      "text/plain": [
       "786.539824695122"
      ]
     },
     "execution_count": 69,
     "metadata": {},
     "output_type": "execute_result"
    }
   ],
   "source": [
    "metrics.area_under_graph(delay_list_LSTM_combined, fp_delay_list_LSTM_combined)"
   ]
  },
  {
   "cell_type": "code",
   "execution_count": null,
   "metadata": {},
   "outputs": [],
   "source": []
  },
  {
   "cell_type": "code",
   "execution_count": null,
   "metadata": {},
   "outputs": [],
   "source": []
  },
  {
   "cell_type": "code",
   "execution_count": 60,
   "metadata": {},
   "outputs": [
    {
     "data": {
      "text/plain": [
       "LSTM(\n",
       "  (lstm): LSTM(784, 100, num_layers=2, batch_first=True, dropout=0.5)\n",
       "  (dropout): Dropout(p=0.5, inplace=False)\n",
       "  (linear_1): Linear(in_features=100, out_features=50, bias=True)\n",
       "  (linear_2): Linear(in_features=50, out_features=1, bias=True)\n",
       "  (activation): Sigmoid()\n",
       "  (relu): ReLU()\n",
       ")"
      ]
     },
     "execution_count": 60,
     "metadata": {},
     "output_type": "execute_result"
    }
   ],
   "source": [
    "model_LSTM_combined.to('cuda:0')"
   ]
  },
  {
   "cell_type": "code",
   "execution_count": 62,
   "metadata": {},
   "outputs": [
    {
     "name": "stdout",
     "output_type": "stream",
     "text": [
      "33.984375 0.33662029495232143 35.078125 0.3710679107501842 35\n",
      "TP: 18 TN: 36 FP: 10 FN: 0 DELAY: 0.4375 FP_DELAY 46.375\n",
      "39.5625 0.9564971876670771 43.546875 0.9623558248267451 39.99\n",
      "TP: 22 TN: 33 FP: 9 FN: 0 DELAY: 0.609375 FP_DELAY 44.703125\n",
      "43.546875 0.9623558248267451 48.21875 0.9674523120684658 45\n",
      "TP: 20 TN: 36 FP: 8 FN: 0 DELAY: 0.59375 FP_DELAY 47.453125\n",
      "48.21875 0.9674523120684658 53.96875 0.9718789695244026 50\n",
      "TP: 17 TN: 39 FP: 8 FN: 0 DELAY: 0.28125 FP_DELAY 48.609375\n"
     ]
    }
   ],
   "source": [
    "metrics.save_metrics_to_file_new_version('Combined', model_LSTM_bce, val_loader, batch_size=64,\n",
    "                                         seq_len=64, fp_delay=fp_delay_list_LSTM_custom, \n",
    "                                         threshold_list=threshold_list, \n",
    "                                         x_coord_arr=[35, 39.99, 45, 50], path_to_save = \"\")"
   ]
  },
  {
   "cell_type": "markdown",
   "metadata": {},
   "source": [
    "# ALPHAS"
   ]
  },
  {
   "cell_type": "code",
   "execution_count": 48,
   "metadata": {},
   "outputs": [
    {
     "name": "stderr",
     "output_type": "stream",
     "text": [
      "\r",
      "  0%|          | 0/11 [00:00<?, ?it/s]"
     ]
    },
    {
     "name": "stdout",
     "output_type": "stream",
     "text": [
      "Epoch: 12/60... Step: 100... Loss: -12.515485... Val Loss: -12.997308\n",
      "Epoch: 23/60... Step: 200... Loss: -14.780812... Val Loss: -13.099397\n",
      "Epoch: 34/60... Step: 300... Loss: -14.811588... Val Loss: -12.822752\n",
      "Epoch: 45/60... Step: 400... Loss: -15.075364... Val Loss: -16.179716\n",
      "Epoch: 56/60... Step: 500... Loss: -14.259681... Val Loss: -15.134469\n"
     ]
    },
    {
     "name": "stderr",
     "output_type": "stream",
     "text": [
      "\r",
      "  9%|▉         | 1/11 [03:13<32:10, 193.04s/it]"
     ]
    },
    {
     "name": "stdout",
     "output_type": "stream",
     "text": [
      "Epoch: 12/60... Step: 100... Loss: -12.025648... Val Loss: -12.016809\n",
      "Epoch: 23/60... Step: 200... Loss: -14.971754... Val Loss: -11.873099\n",
      "Epoch: 34/60... Step: 300... Loss: -14.843706... Val Loss: -16.000578\n",
      "Epoch: 45/60... Step: 400... Loss: -14.766596... Val Loss: -14.862437\n",
      "Epoch: 56/60... Step: 500... Loss: -14.867004... Val Loss: -15.842430\n"
     ]
    },
    {
     "name": "stderr",
     "output_type": "stream",
     "text": [
      "\r",
      " 18%|█▊        | 2/11 [06:26<28:58, 193.15s/it]"
     ]
    },
    {
     "name": "stdout",
     "output_type": "stream",
     "text": [
      "Epoch: 12/60... Step: 100... Loss: -13.804756... Val Loss: -13.209765\n",
      "Epoch: 23/60... Step: 200... Loss: -15.674810... Val Loss: -13.887077\n",
      "Epoch: 34/60... Step: 300... Loss: -17.091822... Val Loss: -16.622108\n",
      "Epoch: 45/60... Step: 400... Loss: -16.525263... Val Loss: -13.638174\n",
      "Epoch: 56/60... Step: 500... Loss: -15.570006... Val Loss: -14.377988\n"
     ]
    },
    {
     "name": "stderr",
     "output_type": "stream",
     "text": [
      "\r",
      " 27%|██▋       | 3/11 [09:40<25:48, 193.51s/it]"
     ]
    },
    {
     "name": "stdout",
     "output_type": "stream",
     "text": [
      "Epoch: 12/60... Step: 100... Loss: -11.106417... Val Loss: -12.532331\n",
      "Epoch: 23/60... Step: 200... Loss: -12.343450... Val Loss: -13.510683\n",
      "Epoch: 34/60... Step: 300... Loss: -14.619591... Val Loss: -13.711432\n",
      "Epoch: 45/60... Step: 400... Loss: -15.936661... Val Loss: -14.772069\n",
      "Epoch: 56/60... Step: 500... Loss: -18.471916... Val Loss: -14.234256\n"
     ]
    },
    {
     "name": "stderr",
     "output_type": "stream",
     "text": [
      "\r",
      " 36%|███▋      | 4/11 [12:54<22:34, 193.56s/it]"
     ]
    },
    {
     "name": "stdout",
     "output_type": "stream",
     "text": [
      "Epoch: 12/60... Step: 100... Loss: -16.305197... Val Loss: -13.514222\n",
      "Epoch: 23/60... Step: 200... Loss: -14.200921... Val Loss: -11.667102\n",
      "Epoch: 34/60... Step: 300... Loss: -10.168845... Val Loss: -14.281420\n",
      "Epoch: 45/60... Step: 400... Loss: -15.025995... Val Loss: -14.743072\n",
      "Epoch: 56/60... Step: 500... Loss: -13.544096... Val Loss: -13.969720\n"
     ]
    },
    {
     "name": "stderr",
     "output_type": "stream",
     "text": [
      "\r",
      " 45%|████▌     | 5/11 [16:07<19:19, 193.25s/it]"
     ]
    },
    {
     "name": "stdout",
     "output_type": "stream",
     "text": [
      "Epoch: 12/60... Step: 100... Loss: -10.855137... Val Loss: -11.969090\n",
      "Epoch: 23/60... Step: 200... Loss: -13.308493... Val Loss: -12.751258\n",
      "Epoch: 34/60... Step: 300... Loss: -14.066183... Val Loss: -13.160411\n",
      "Epoch: 45/60... Step: 400... Loss: -13.719516... Val Loss: -13.308034\n",
      "Epoch: 56/60... Step: 500... Loss: -16.082727... Val Loss: -13.106266\n"
     ]
    },
    {
     "name": "stderr",
     "output_type": "stream",
     "text": [
      "\r",
      " 55%|█████▍    | 6/11 [19:18<16:04, 192.83s/it]"
     ]
    },
    {
     "name": "stdout",
     "output_type": "stream",
     "text": [
      "Epoch: 12/60... Step: 100... Loss: -13.004402... Val Loss: -11.741370\n",
      "Epoch: 23/60... Step: 200... Loss: -12.732981... Val Loss: -10.796782\n",
      "Epoch: 34/60... Step: 300... Loss: -13.211102... Val Loss: -12.826456\n",
      "Epoch: 45/60... Step: 400... Loss: -14.126420... Val Loss: -12.058727\n",
      "Epoch: 56/60... Step: 500... Loss: -14.994920... Val Loss: -11.748574\n"
     ]
    },
    {
     "name": "stderr",
     "output_type": "stream",
     "text": [
      "\r",
      " 64%|██████▎   | 7/11 [22:30<12:49, 192.50s/it]"
     ]
    },
    {
     "name": "stdout",
     "output_type": "stream",
     "text": [
      "Epoch: 12/60... Step: 100... Loss: -12.603778... Val Loss: -10.586052\n",
      "Epoch: 23/60... Step: 200... Loss: -12.789440... Val Loss: -12.423771\n",
      "Epoch: 34/60... Step: 300... Loss: -14.044136... Val Loss: -12.440180\n",
      "Epoch: 45/60... Step: 400... Loss: -16.250589... Val Loss: -13.094162\n",
      "Epoch: 56/60... Step: 500... Loss: -13.490755... Val Loss: -12.609126\n"
     ]
    },
    {
     "name": "stderr",
     "output_type": "stream",
     "text": [
      "\r",
      " 73%|███████▎  | 8/11 [25:41<09:36, 192.09s/it]"
     ]
    },
    {
     "name": "stdout",
     "output_type": "stream",
     "text": [
      "Epoch: 12/60... Step: 100... Loss: -10.445654... Val Loss: -7.153103\n",
      "Epoch: 23/60... Step: 200... Loss: -12.219868... Val Loss: -11.057698\n",
      "Epoch: 34/60... Step: 300... Loss: -16.530449... Val Loss: -11.115745\n",
      "Epoch: 45/60... Step: 400... Loss: -11.366751... Val Loss: -11.047874\n",
      "Epoch: 56/60... Step: 500... Loss: -15.774507... Val Loss: -11.511434\n"
     ]
    },
    {
     "name": "stderr",
     "output_type": "stream",
     "text": [
      "\r",
      " 82%|████████▏ | 9/11 [28:54<06:24, 192.18s/it]"
     ]
    },
    {
     "name": "stdout",
     "output_type": "stream",
     "text": [
      "Epoch: 12/60... Step: 100... Loss: -12.889327... Val Loss: -9.115185\n",
      "Epoch: 23/60... Step: 200... Loss: -15.389780... Val Loss: -10.477975\n",
      "Epoch: 34/60... Step: 300... Loss: -11.931273... Val Loss: -9.623828\n",
      "Epoch: 45/60... Step: 400... Loss: -11.616815... Val Loss: -12.561365\n",
      "Epoch: 56/60... Step: 500... Loss: -10.923502... Val Loss: -11.219631\n"
     ]
    },
    {
     "name": "stderr",
     "output_type": "stream",
     "text": [
      "\r",
      " 91%|█████████ | 10/11 [32:07<03:12, 192.51s/it]"
     ]
    },
    {
     "name": "stdout",
     "output_type": "stream",
     "text": [
      "Epoch: 12/60... Step: 100... Loss: -12.459049... Val Loss: -10.166579\n",
      "Epoch: 23/60... Step: 200... Loss: -12.970298... Val Loss: -9.970801\n",
      "Epoch: 34/60... Step: 300... Loss: -11.778871... Val Loss: -10.477231\n",
      "Epoch: 45/60... Step: 400... Loss: -11.253984... Val Loss: -10.726561\n",
      "Epoch: 56/60... Step: 500... Loss: -6.497364... Val Loss: -10.914300\n"
     ]
    },
    {
     "name": "stderr",
     "output_type": "stream",
     "text": [
      "100%|██████████| 11/11 [35:19<00:00, 192.67s/it]\n",
      "  0%|          | 0/11 [00:00<?, ?it/s]"
     ]
    },
    {
     "name": "stdout",
     "output_type": "stream",
     "text": [
      "Epoch: 12/60... Step: 100... Loss: -12.383971... Val Loss: -12.277482\n",
      "Epoch: 23/60... Step: 200... Loss: -13.453294... Val Loss: -13.195935\n",
      "Epoch: 34/60... Step: 300... Loss: -14.170652... Val Loss: -14.321043\n",
      "Epoch: 45/60... Step: 400... Loss: -15.255019... Val Loss: -15.094597\n",
      "Epoch: 56/60... Step: 500... Loss: -14.453508... Val Loss: -14.206662\n"
     ]
    },
    {
     "name": "stderr",
     "output_type": "stream",
     "text": [
      "\r",
      "  9%|▉         | 1/11 [03:11<31:50, 191.10s/it]"
     ]
    },
    {
     "name": "stdout",
     "output_type": "stream",
     "text": [
      "Epoch: 12/60... Step: 100... Loss: -13.433928... Val Loss: -13.558966\n",
      "Epoch: 23/60... Step: 200... Loss: -15.230358... Val Loss: -14.855584\n",
      "Epoch: 34/60... Step: 300... Loss: -14.334776... Val Loss: -15.097487\n",
      "Epoch: 45/60... Step: 400... Loss: -17.111284... Val Loss: -15.997109\n",
      "Epoch: 56/60... Step: 500... Loss: -13.499631... Val Loss: -13.676798\n"
     ]
    },
    {
     "name": "stderr",
     "output_type": "stream",
     "text": [
      "\r",
      " 18%|█▊        | 2/11 [06:23<28:44, 191.59s/it]"
     ]
    },
    {
     "name": "stdout",
     "output_type": "stream",
     "text": [
      "Epoch: 12/60... Step: 100... Loss: -14.239401... Val Loss: -12.625706\n",
      "Epoch: 23/60... Step: 200... Loss: -14.536383... Val Loss: -14.064129\n",
      "Epoch: 34/60... Step: 300... Loss: -14.690253... Val Loss: -14.604707\n",
      "Epoch: 45/60... Step: 400... Loss: -15.829489... Val Loss: -15.642856\n",
      "Epoch: 56/60... Step: 500... Loss: -16.183405... Val Loss: -16.370817\n"
     ]
    },
    {
     "name": "stderr",
     "output_type": "stream",
     "text": [
      "\r",
      " 27%|██▋       | 3/11 [09:36<25:34, 191.79s/it]"
     ]
    },
    {
     "name": "stdout",
     "output_type": "stream",
     "text": [
      "Epoch: 12/60... Step: 100... Loss: -12.340738... Val Loss: -11.891952\n",
      "Epoch: 23/60... Step: 200... Loss: -13.250834... Val Loss: -14.397146\n",
      "Epoch: 34/60... Step: 300... Loss: -15.493008... Val Loss: -13.777374\n",
      "Epoch: 45/60... Step: 400... Loss: -15.543824... Val Loss: -14.542043\n",
      "Epoch: 56/60... Step: 500... Loss: -15.730880... Val Loss: -15.216832\n"
     ]
    },
    {
     "name": "stderr",
     "output_type": "stream",
     "text": [
      "\r",
      " 36%|███▋      | 4/11 [12:48<22:23, 192.00s/it]"
     ]
    },
    {
     "name": "stdout",
     "output_type": "stream",
     "text": [
      "Epoch: 12/60... Step: 100... Loss: -9.217350... Val Loss: -12.604972\n",
      "Epoch: 23/60... Step: 200... Loss: -13.902456... Val Loss: -13.847150\n",
      "Epoch: 34/60... Step: 300... Loss: -17.922354... Val Loss: -13.944092\n",
      "Epoch: 45/60... Step: 400... Loss: -13.441336... Val Loss: -14.614578\n",
      "Epoch: 56/60... Step: 500... Loss: -14.182827... Val Loss: -14.589986\n"
     ]
    },
    {
     "name": "stderr",
     "output_type": "stream",
     "text": [
      "\r",
      " 45%|████▌     | 5/11 [16:01<19:12, 192.13s/it]"
     ]
    },
    {
     "name": "stdout",
     "output_type": "stream",
     "text": [
      "Epoch: 12/60... Step: 100... Loss: -11.842842... Val Loss: -12.528244\n",
      "Epoch: 23/60... Step: 200... Loss: -15.144783... Val Loss: -11.684607\n",
      "Epoch: 34/60... Step: 300... Loss: -11.737965... Val Loss: -13.368567\n",
      "Epoch: 45/60... Step: 400... Loss: -14.563523... Val Loss: -13.335881\n",
      "Epoch: 56/60... Step: 500... Loss: -14.828104... Val Loss: -12.018309\n"
     ]
    },
    {
     "name": "stderr",
     "output_type": "stream",
     "text": [
      "\r",
      " 55%|█████▍    | 6/11 [19:56<17:05, 205.11s/it]"
     ]
    },
    {
     "name": "stdout",
     "output_type": "stream",
     "text": [
      "Epoch: 12/60... Step: 100... Loss: -13.148733... Val Loss: -11.924122\n",
      "Epoch: 23/60... Step: 200... Loss: -15.234392... Val Loss: -11.579815\n",
      "Epoch: 34/60... Step: 300... Loss: -13.235935... Val Loss: -12.680215\n",
      "Epoch: 45/60... Step: 400... Loss: -12.701380... Val Loss: -12.359090\n",
      "Epoch: 56/60... Step: 500... Loss: -13.969691... Val Loss: -11.934264\n"
     ]
    },
    {
     "name": "stderr",
     "output_type": "stream",
     "text": [
      "\r",
      " 64%|██████▎   | 7/11 [24:02<14:29, 217.45s/it]"
     ]
    },
    {
     "name": "stdout",
     "output_type": "stream",
     "text": [
      "Epoch: 12/60... Step: 100... Loss: -11.222840... Val Loss: -9.599305\n",
      "Epoch: 23/60... Step: 200... Loss: -11.751734... Val Loss: -11.774593\n",
      "Epoch: 34/60... Step: 300... Loss: -12.486073... Val Loss: -11.852078\n",
      "Epoch: 45/60... Step: 400... Loss: -11.862374... Val Loss: -12.382849\n",
      "Epoch: 56/60... Step: 500... Loss: -10.347549... Val Loss: -11.629031\n"
     ]
    },
    {
     "name": "stderr",
     "output_type": "stream",
     "text": [
      "\r",
      " 73%|███████▎  | 8/11 [28:03<11:13, 224.55s/it]"
     ]
    },
    {
     "name": "stdout",
     "output_type": "stream",
     "text": [
      "Epoch: 12/60... Step: 100... Loss: -11.688182... Val Loss: -10.365847\n",
      "Epoch: 23/60... Step: 200... Loss: -14.167583... Val Loss: -11.776267\n",
      "Epoch: 34/60... Step: 300... Loss: -10.353252... Val Loss: -11.807784\n",
      "Epoch: 45/60... Step: 400... Loss: -11.883440... Val Loss: -11.922846\n",
      "Epoch: 56/60... Step: 500... Loss: -14.384686... Val Loss: -11.921338\n"
     ]
    },
    {
     "name": "stderr",
     "output_type": "stream",
     "text": [
      "\r",
      " 82%|████████▏ | 9/11 [31:51<07:31, 225.62s/it]"
     ]
    },
    {
     "name": "stdout",
     "output_type": "stream",
     "text": [
      "Epoch: 12/60... Step: 100... Loss: -10.455854... Val Loss: -8.680060\n",
      "Epoch: 23/60... Step: 200... Loss: -11.889393... Val Loss: -10.754648\n",
      "Epoch: 34/60... Step: 300... Loss: -11.886791... Val Loss: -11.617031\n",
      "Epoch: 45/60... Step: 400... Loss: -11.502609... Val Loss: -10.610601\n",
      "Epoch: 56/60... Step: 500... Loss: -10.423967... Val Loss: -11.438252\n"
     ]
    },
    {
     "name": "stderr",
     "output_type": "stream",
     "text": [
      "\r",
      " 91%|█████████ | 10/11 [35:54<03:50, 230.65s/it]"
     ]
    },
    {
     "name": "stdout",
     "output_type": "stream",
     "text": [
      "Epoch: 12/60... Step: 100... Loss: -8.378574... Val Loss: -9.512221\n",
      "Epoch: 23/60... Step: 200... Loss: -11.077587... Val Loss: -9.676030\n",
      "Epoch: 34/60... Step: 300... Loss: -10.752504... Val Loss: -10.348402\n",
      "Epoch: 45/60... Step: 400... Loss: -10.978870... Val Loss: -11.543371\n",
      "Epoch: 56/60... Step: 500... Loss: -11.592431... Val Loss: -11.025677\n"
     ]
    },
    {
     "name": "stderr",
     "output_type": "stream",
     "text": [
      "100%|██████████| 11/11 [39:58<00:00, 218.02s/it]\n",
      "  0%|          | 0/11 [00:00<?, ?it/s]"
     ]
    },
    {
     "name": "stdout",
     "output_type": "stream",
     "text": [
      "Epoch: 12/60... Step: 100... Loss: -15.340557... Val Loss: -12.876657\n",
      "Epoch: 23/60... Step: 200... Loss: -10.858322... Val Loss: -13.523173\n",
      "Epoch: 34/60... Step: 300... Loss: -15.959068... Val Loss: -13.594325\n",
      "Epoch: 45/60... Step: 400... Loss: -13.254314... Val Loss: -15.012388\n",
      "Epoch: 56/60... Step: 500... Loss: -13.620912... Val Loss: -15.320134\n"
     ]
    },
    {
     "name": "stderr",
     "output_type": "stream",
     "text": [
      "\r",
      "  9%|▉         | 1/11 [04:06<41:09, 246.96s/it]"
     ]
    },
    {
     "name": "stdout",
     "output_type": "stream",
     "text": [
      "Epoch: 12/60... Step: 100... Loss: -11.730482... Val Loss: -13.095214\n",
      "Epoch: 23/60... Step: 200... Loss: -13.879748... Val Loss: -13.638788\n",
      "Epoch: 34/60... Step: 300... Loss: -15.424728... Val Loss: -12.761814\n",
      "Epoch: 45/60... Step: 400... Loss: -15.298613... Val Loss: -15.267758\n",
      "Epoch: 56/60... Step: 500... Loss: -17.348475... Val Loss: -15.541613\n"
     ]
    },
    {
     "name": "stderr",
     "output_type": "stream",
     "text": [
      "\r",
      " 18%|█▊        | 2/11 [08:12<36:59, 246.60s/it]"
     ]
    },
    {
     "name": "stdout",
     "output_type": "stream",
     "text": [
      "Epoch: 12/60... Step: 100... Loss: -14.263795... Val Loss: -12.991324\n",
      "Epoch: 23/60... Step: 200... Loss: -14.234291... Val Loss: -14.249996\n",
      "Epoch: 34/60... Step: 300... Loss: -13.202428... Val Loss: -11.458960\n",
      "Epoch: 45/60... Step: 400... Loss: -17.538837... Val Loss: -15.612505\n",
      "Epoch: 56/60... Step: 500... Loss: -17.911461... Val Loss: -15.270479\n"
     ]
    },
    {
     "name": "stderr",
     "output_type": "stream",
     "text": [
      "\r",
      " 27%|██▋       | 3/11 [12:18<32:50, 246.30s/it]"
     ]
    },
    {
     "name": "stdout",
     "output_type": "stream",
     "text": [
      "Epoch: 12/60... Step: 100... Loss: -16.892040... Val Loss: -13.014236\n",
      "Epoch: 23/60... Step: 200... Loss: -19.743151... Val Loss: -14.024607\n",
      "Epoch: 34/60... Step: 300... Loss: -17.484697... Val Loss: -14.389180\n",
      "Epoch: 45/60... Step: 400... Loss: -15.551834... Val Loss: -13.279210\n",
      "Epoch: 56/60... Step: 500... Loss: -16.959826... Val Loss: -15.664346\n"
     ]
    },
    {
     "name": "stderr",
     "output_type": "stream",
     "text": [
      "\r",
      " 36%|███▋      | 4/11 [16:23<28:41, 246.00s/it]"
     ]
    },
    {
     "name": "stdout",
     "output_type": "stream",
     "text": [
      "Epoch: 12/60... Step: 100... Loss: -15.116899... Val Loss: -11.520153\n",
      "Epoch: 23/60... Step: 200... Loss: -15.059492... Val Loss: -12.673689\n",
      "Epoch: 34/60... Step: 300... Loss: -14.317507... Val Loss: -13.969308\n",
      "Epoch: 45/60... Step: 400... Loss: -12.272067... Val Loss: -12.126743\n",
      "Epoch: 56/60... Step: 500... Loss: -13.963328... Val Loss: -13.922343\n"
     ]
    },
    {
     "name": "stderr",
     "output_type": "stream",
     "text": [
      "\r",
      " 45%|████▌     | 5/11 [20:27<24:32, 245.44s/it]"
     ]
    },
    {
     "name": "stdout",
     "output_type": "stream",
     "text": [
      "Epoch: 12/60... Step: 100... Loss: -13.739641... Val Loss: -10.993139\n",
      "Epoch: 23/60... Step: 200... Loss: -11.562807... Val Loss: -12.678473\n",
      "Epoch: 34/60... Step: 300... Loss: -12.450171... Val Loss: -11.846538\n",
      "Epoch: 45/60... Step: 400... Loss: -11.950959... Val Loss: -13.497214\n",
      "Epoch: 56/60... Step: 500... Loss: -15.560636... Val Loss: -13.316615\n"
     ]
    },
    {
     "name": "stderr",
     "output_type": "stream",
     "text": [
      "\r",
      " 55%|█████▍    | 6/11 [24:33<20:27, 245.55s/it]"
     ]
    },
    {
     "name": "stdout",
     "output_type": "stream",
     "text": [
      "Epoch: 12/60... Step: 100... Loss: -11.614801... Val Loss: -9.290350\n",
      "Epoch: 23/60... Step: 200... Loss: -17.577465... Val Loss: -12.842989\n",
      "Epoch: 34/60... Step: 300... Loss: -13.997203... Val Loss: -12.615338\n",
      "Epoch: 45/60... Step: 400... Loss: -14.929721... Val Loss: -13.190938\n",
      "Epoch: 56/60... Step: 500... Loss: -13.361392... Val Loss: -11.774149\n"
     ]
    },
    {
     "name": "stderr",
     "output_type": "stream",
     "text": [
      "\r",
      " 64%|██████▎   | 7/11 [28:39<16:22, 245.55s/it]"
     ]
    },
    {
     "name": "stdout",
     "output_type": "stream",
     "text": [
      "Epoch: 12/60... Step: 100... Loss: -12.014755... Val Loss: -10.592911\n",
      "Epoch: 23/60... Step: 200... Loss: -12.212315... Val Loss: -9.755217\n",
      "Epoch: 34/60... Step: 300... Loss: -14.490190... Val Loss: -12.170621\n",
      "Epoch: 45/60... Step: 400... Loss: -14.901448... Val Loss: -12.394015\n",
      "Epoch: 56/60... Step: 500... Loss: -11.594077... Val Loss: -12.885348\n"
     ]
    },
    {
     "name": "stderr",
     "output_type": "stream",
     "text": [
      "\r",
      " 73%|███████▎  | 8/11 [32:43<12:15, 245.06s/it]"
     ]
    },
    {
     "name": "stdout",
     "output_type": "stream",
     "text": [
      "Epoch: 12/60... Step: 100... Loss: -10.679964... Val Loss: -9.711885\n",
      "Epoch: 23/60... Step: 200... Loss: -10.956961... Val Loss: -10.044792\n",
      "Epoch: 34/60... Step: 300... Loss: -11.050388... Val Loss: -11.411974\n",
      "Epoch: 45/60... Step: 400... Loss: -13.950258... Val Loss: -12.396697\n",
      "Epoch: 56/60... Step: 500... Loss: -12.642188... Val Loss: -11.327278\n"
     ]
    },
    {
     "name": "stderr",
     "output_type": "stream",
     "text": [
      "\r",
      " 82%|████████▏ | 9/11 [36:48<08:10, 245.30s/it]"
     ]
    },
    {
     "name": "stdout",
     "output_type": "stream",
     "text": [
      "Epoch: 12/60... Step: 100... Loss: -11.942635... Val Loss: -10.015637\n",
      "Epoch: 23/60... Step: 200... Loss: -12.961702... Val Loss: -10.851937\n",
      "Epoch: 34/60... Step: 300... Loss: -13.878139... Val Loss: -10.692442\n",
      "Epoch: 45/60... Step: 400... Loss: -13.775581... Val Loss: -11.452690\n",
      "Epoch: 56/60... Step: 500... Loss: -10.579987... Val Loss: -8.001181\n"
     ]
    },
    {
     "name": "stderr",
     "output_type": "stream",
     "text": [
      "\r",
      " 91%|█████████ | 10/11 [40:52<04:04, 244.78s/it]"
     ]
    },
    {
     "name": "stdout",
     "output_type": "stream",
     "text": [
      "Epoch: 12/60... Step: 100... Loss: -13.337905... Val Loss: -9.373702\n",
      "Epoch: 23/60... Step: 200... Loss: -12.635790... Val Loss: -9.416393\n",
      "Epoch: 34/60... Step: 300... Loss: -11.498116... Val Loss: -9.593588\n",
      "Epoch: 45/60... Step: 400... Loss: -13.997731... Val Loss: -11.312980\n",
      "Epoch: 56/60... Step: 500... Loss: -9.705257... Val Loss: -11.343003\n"
     ]
    },
    {
     "name": "stderr",
     "output_type": "stream",
     "text": [
      "100%|██████████| 11/11 [44:58<00:00, 245.30s/it]\n",
      "  0%|          | 0/11 [00:00<?, ?it/s]"
     ]
    },
    {
     "name": "stdout",
     "output_type": "stream",
     "text": [
      "Epoch: 12/60... Step: 100... Loss: -12.696258... Val Loss: -12.377618\n",
      "Epoch: 23/60... Step: 200... Loss: -9.644608... Val Loss: -12.047082\n",
      "Epoch: 34/60... Step: 300... Loss: -13.613885... Val Loss: -12.322832\n",
      "Epoch: 45/60... Step: 400... Loss: -16.555710... Val Loss: -12.477317\n",
      "Epoch: 56/60... Step: 500... Loss: -13.412455... Val Loss: -14.783875\n"
     ]
    },
    {
     "name": "stderr",
     "output_type": "stream",
     "text": [
      "\r",
      "  9%|▉         | 1/11 [04:06<41:03, 246.34s/it]"
     ]
    },
    {
     "name": "stdout",
     "output_type": "stream",
     "text": [
      "Epoch: 12/60... Step: 100... Loss: -12.438747... Val Loss: -14.739540\n",
      "Epoch: 23/60... Step: 200... Loss: -17.568062... Val Loss: -15.611980\n",
      "Epoch: 34/60... Step: 300... Loss: -17.773170... Val Loss: -15.168219\n",
      "Epoch: 45/60... Step: 400... Loss: -18.984600... Val Loss: -12.917738\n",
      "Epoch: 56/60... Step: 500... Loss: -13.908678... Val Loss: -15.519571\n"
     ]
    },
    {
     "name": "stderr",
     "output_type": "stream",
     "text": [
      "\r",
      " 18%|█▊        | 2/11 [08:12<36:55, 246.18s/it]"
     ]
    },
    {
     "name": "stdout",
     "output_type": "stream",
     "text": [
      "Epoch: 12/60... Step: 100... Loss: -15.117927... Val Loss: -12.167707\n",
      "Epoch: 23/60... Step: 200... Loss: -12.539269... Val Loss: -14.181648\n",
      "Epoch: 34/60... Step: 300... Loss: -15.855899... Val Loss: -14.307419\n",
      "Epoch: 45/60... Step: 400... Loss: -14.483842... Val Loss: -13.943461\n",
      "Epoch: 56/60... Step: 500... Loss: -13.853516... Val Loss: -15.257529\n"
     ]
    },
    {
     "name": "stderr",
     "output_type": "stream",
     "text": [
      "\r",
      " 27%|██▋       | 3/11 [12:15<32:43, 245.46s/it]"
     ]
    },
    {
     "name": "stdout",
     "output_type": "stream",
     "text": [
      "Epoch: 12/60... Step: 100... Loss: -13.262418... Val Loss: -12.994252\n",
      "Epoch: 23/60... Step: 200... Loss: -15.215513... Val Loss: -12.665613\n",
      "Epoch: 34/60... Step: 300... Loss: -14.761106... Val Loss: -14.989464\n",
      "Epoch: 45/60... Step: 400... Loss: -20.586557... Val Loss: -12.721519\n",
      "Epoch: 56/60... Step: 500... Loss: -13.752033... Val Loss: -14.366152\n"
     ]
    },
    {
     "name": "stderr",
     "output_type": "stream",
     "text": [
      "\r",
      " 36%|███▋      | 4/11 [16:20<28:36, 245.14s/it]"
     ]
    },
    {
     "name": "stdout",
     "output_type": "stream",
     "text": [
      "Epoch: 12/60... Step: 100... Loss: -13.031065... Val Loss: -12.872567\n",
      "Epoch: 23/60... Step: 200... Loss: -12.078844... Val Loss: -9.077578\n",
      "Epoch: 34/60... Step: 300... Loss: -18.336082... Val Loss: -12.972299\n",
      "Epoch: 45/60... Step: 400... Loss: -15.159851... Val Loss: -12.837104\n",
      "Epoch: 56/60... Step: 500... Loss: -16.053568... Val Loss: -12.789535\n"
     ]
    },
    {
     "name": "stderr",
     "output_type": "stream",
     "text": [
      "\r",
      " 45%|████▌     | 5/11 [20:25<24:30, 245.11s/it]"
     ]
    },
    {
     "name": "stdout",
     "output_type": "stream",
     "text": [
      "Epoch: 12/60... Step: 100... Loss: -12.170009... Val Loss: -10.859687\n",
      "Epoch: 23/60... Step: 200... Loss: -14.284525... Val Loss: -12.599556\n",
      "Epoch: 34/60... Step: 300... Loss: -13.156485... Val Loss: -12.254043\n",
      "Epoch: 45/60... Step: 400... Loss: -15.250193... Val Loss: -11.519070\n",
      "Epoch: 56/60... Step: 500... Loss: -14.689209... Val Loss: -13.516880\n"
     ]
    },
    {
     "name": "stderr",
     "output_type": "stream",
     "text": [
      "\r",
      " 55%|█████▍    | 6/11 [24:32<20:28, 245.72s/it]"
     ]
    },
    {
     "name": "stdout",
     "output_type": "stream",
     "text": [
      "Epoch: 12/60... Step: 100... Loss: -10.436392... Val Loss: -11.135493\n",
      "Epoch: 23/60... Step: 200... Loss: -14.754700... Val Loss: -12.351664\n",
      "Epoch: 34/60... Step: 300... Loss: -12.946502... Val Loss: -13.998493\n",
      "Epoch: 45/60... Step: 400... Loss: -18.232336... Val Loss: -12.472058\n",
      "Epoch: 56/60... Step: 500... Loss: -13.350502... Val Loss: -12.294952\n"
     ]
    },
    {
     "name": "stderr",
     "output_type": "stream",
     "text": [
      "\r",
      " 64%|██████▎   | 7/11 [28:36<16:21, 245.35s/it]"
     ]
    },
    {
     "name": "stdout",
     "output_type": "stream",
     "text": [
      "Epoch: 12/60... Step: 100... Loss: -9.154499... Val Loss: -10.935462\n",
      "Epoch: 23/60... Step: 200... Loss: -15.965389... Val Loss: -11.244262\n",
      "Epoch: 34/60... Step: 300... Loss: -12.872293... Val Loss: -11.780566\n",
      "Epoch: 45/60... Step: 400... Loss: -16.481264... Val Loss: -12.194322\n",
      "Epoch: 56/60... Step: 500... Loss: -15.660135... Val Loss: -12.155485\n"
     ]
    },
    {
     "name": "stderr",
     "output_type": "stream",
     "text": [
      "\r",
      " 73%|███████▎  | 8/11 [32:42<12:16, 245.37s/it]"
     ]
    },
    {
     "name": "stdout",
     "output_type": "stream",
     "text": [
      "Epoch: 12/60... Step: 100... Loss: -9.390823... Val Loss: -10.730763\n",
      "Epoch: 23/60... Step: 200... Loss: -11.475460... Val Loss: -11.463870\n",
      "Epoch: 34/60... Step: 300... Loss: -9.710043... Val Loss: -11.341915\n",
      "Epoch: 45/60... Step: 400... Loss: -16.816364... Val Loss: -11.639812\n",
      "Epoch: 56/60... Step: 500... Loss: -12.345372... Val Loss: -10.982907\n"
     ]
    },
    {
     "name": "stderr",
     "output_type": "stream",
     "text": [
      "\r",
      " 82%|████████▏ | 9/11 [36:47<08:10, 245.17s/it]"
     ]
    },
    {
     "name": "stdout",
     "output_type": "stream",
     "text": [
      "Epoch: 12/60... Step: 100... Loss: -10.768453... Val Loss: -9.752755\n",
      "Epoch: 23/60... Step: 200... Loss: -9.419946... Val Loss: -10.447879\n",
      "Epoch: 34/60... Step: 300... Loss: -11.137098... Val Loss: -10.997244\n",
      "Epoch: 45/60... Step: 400... Loss: -11.950001... Val Loss: -11.363200\n",
      "Epoch: 56/60... Step: 500... Loss: -15.301734... Val Loss: -11.323028\n"
     ]
    },
    {
     "name": "stderr",
     "output_type": "stream",
     "text": [
      "\r",
      " 91%|█████████ | 10/11 [40:51<04:04, 244.99s/it]"
     ]
    },
    {
     "name": "stdout",
     "output_type": "stream",
     "text": [
      "Epoch: 12/60... Step: 100... Loss: -12.475691... Val Loss: -9.303572\n",
      "Epoch: 23/60... Step: 200... Loss: -9.588690... Val Loss: -10.133794\n",
      "Epoch: 34/60... Step: 300... Loss: -10.481520... Val Loss: -11.184622\n",
      "Epoch: 45/60... Step: 400... Loss: -11.096582... Val Loss: -12.021346\n",
      "Epoch: 56/60... Step: 500... Loss: -15.683115... Val Loss: -10.070955\n"
     ]
    },
    {
     "name": "stderr",
     "output_type": "stream",
     "text": [
      "100%|██████████| 11/11 [44:57<00:00, 245.24s/it]\n",
      "  0%|          | 0/11 [00:00<?, ?it/s]"
     ]
    },
    {
     "name": "stdout",
     "output_type": "stream",
     "text": [
      "Epoch: 12/60... Step: 100... Loss: -12.699851... Val Loss: -11.965636\n",
      "Epoch: 23/60... Step: 200... Loss: -12.662811... Val Loss: -12.587741\n",
      "Epoch: 34/60... Step: 300... Loss: -14.457600... Val Loss: -13.437741\n",
      "Epoch: 45/60... Step: 400... Loss: -14.391890... Val Loss: -13.208687\n",
      "Epoch: 56/60... Step: 500... Loss: -16.885429... Val Loss: -15.555903\n"
     ]
    },
    {
     "name": "stderr",
     "output_type": "stream",
     "text": [
      "\r",
      "  9%|▉         | 1/11 [04:05<40:57, 245.71s/it]"
     ]
    },
    {
     "name": "stdout",
     "output_type": "stream",
     "text": [
      "Epoch: 12/60... Step: 100... Loss: -14.411569... Val Loss: -13.617478\n",
      "Epoch: 23/60... Step: 200... Loss: -17.521654... Val Loss: -15.021578\n",
      "Epoch: 34/60... Step: 300... Loss: -13.446287... Val Loss: -15.165068\n",
      "Epoch: 45/60... Step: 400... Loss: -16.398687... Val Loss: -16.981032\n",
      "Epoch: 56/60... Step: 500... Loss: -16.854668... Val Loss: -16.328145\n"
     ]
    },
    {
     "name": "stderr",
     "output_type": "stream",
     "text": [
      "\r",
      " 18%|█▊        | 2/11 [08:11<36:50, 245.62s/it]"
     ]
    },
    {
     "name": "stdout",
     "output_type": "stream",
     "text": [
      "Epoch: 12/60... Step: 100... Loss: -13.053377... Val Loss: -12.862496\n",
      "Epoch: 23/60... Step: 200... Loss: -15.122295... Val Loss: -14.986390\n",
      "Epoch: 34/60... Step: 300... Loss: -16.226860... Val Loss: -13.545479\n",
      "Epoch: 45/60... Step: 400... Loss: -17.269472... Val Loss: -17.056259\n",
      "Epoch: 56/60... Step: 500... Loss: -17.801130... Val Loss: -15.982205\n"
     ]
    },
    {
     "name": "stderr",
     "output_type": "stream",
     "text": [
      "\r",
      " 27%|██▋       | 3/11 [12:16<32:43, 245.42s/it]"
     ]
    },
    {
     "name": "stdout",
     "output_type": "stream",
     "text": [
      "Epoch: 12/60... Step: 100... Loss: -9.812549... Val Loss: -13.660734\n",
      "Epoch: 23/60... Step: 200... Loss: -13.658413... Val Loss: -13.631281\n",
      "Epoch: 34/60... Step: 300... Loss: -14.189175... Val Loss: -14.273428\n",
      "Epoch: 45/60... Step: 400... Loss: -16.419422... Val Loss: -14.463242\n",
      "Epoch: 56/60... Step: 500... Loss: -14.901016... Val Loss: -14.412193\n"
     ]
    },
    {
     "name": "stderr",
     "output_type": "stream",
     "text": [
      "\r",
      " 36%|███▋      | 4/11 [16:21<28:37, 245.43s/it]"
     ]
    },
    {
     "name": "stdout",
     "output_type": "stream",
     "text": [
      "Epoch: 12/60... Step: 100... Loss: -11.828152... Val Loss: -11.808363\n",
      "Epoch: 23/60... Step: 200... Loss: -9.676993... Val Loss: -13.462969\n",
      "Epoch: 34/60... Step: 300... Loss: -12.692633... Val Loss: -13.162773\n",
      "Epoch: 45/60... Step: 400... Loss: -13.025515... Val Loss: -12.586525\n",
      "Epoch: 56/60... Step: 500... Loss: -17.175768... Val Loss: -13.611268\n"
     ]
    },
    {
     "name": "stderr",
     "output_type": "stream",
     "text": [
      "\r",
      " 45%|████▌     | 5/11 [20:26<24:31, 245.30s/it]"
     ]
    },
    {
     "name": "stdout",
     "output_type": "stream",
     "text": [
      "Epoch: 12/60... Step: 100... Loss: -12.171718... Val Loss: -11.495255\n",
      "Epoch: 23/60... Step: 200... Loss: -14.583256... Val Loss: -11.962045\n",
      "Epoch: 34/60... Step: 300... Loss: -12.458653... Val Loss: -12.026303\n",
      "Epoch: 45/60... Step: 400... Loss: -15.450547... Val Loss: -13.981126\n",
      "Epoch: 56/60... Step: 500... Loss: -14.626154... Val Loss: -12.888352\n"
     ]
    },
    {
     "name": "stderr",
     "output_type": "stream",
     "text": [
      "\r",
      " 55%|█████▍    | 6/11 [24:32<20:27, 245.54s/it]"
     ]
    },
    {
     "name": "stdout",
     "output_type": "stream",
     "text": [
      "Epoch: 12/60... Step: 100... Loss: -13.458471... Val Loss: -9.995229\n",
      "Epoch: 23/60... Step: 200... Loss: -13.317225... Val Loss: -11.838712\n",
      "Epoch: 34/60... Step: 300... Loss: -13.728029... Val Loss: -13.327993\n",
      "Epoch: 45/60... Step: 400... Loss: -14.771484... Val Loss: -12.440220\n",
      "Epoch: 56/60... Step: 500... Loss: -11.118465... Val Loss: -12.898758\n"
     ]
    },
    {
     "name": "stderr",
     "output_type": "stream",
     "text": [
      "\r",
      " 64%|██████▎   | 7/11 [28:37<16:21, 245.38s/it]"
     ]
    },
    {
     "name": "stdout",
     "output_type": "stream",
     "text": [
      "Epoch: 12/60... Step: 100... Loss: -12.409261... Val Loss: -10.780192\n",
      "Epoch: 23/60... Step: 200... Loss: -10.676092... Val Loss: -11.010592\n",
      "Epoch: 34/60... Step: 300... Loss: -12.894900... Val Loss: -9.042282\n",
      "Epoch: 45/60... Step: 400... Loss: -10.932949... Val Loss: -10.990507\n",
      "Epoch: 56/60... Step: 500... Loss: -16.771660... Val Loss: -12.556884\n"
     ]
    },
    {
     "name": "stderr",
     "output_type": "stream",
     "text": [
      "\r",
      " 73%|███████▎  | 8/11 [32:42<12:16, 245.37s/it]"
     ]
    },
    {
     "name": "stdout",
     "output_type": "stream",
     "text": [
      "Epoch: 12/60... Step: 100... Loss: -13.622288... Val Loss: -10.557542\n",
      "Epoch: 23/60... Step: 200... Loss: -9.571744... Val Loss: -11.739551\n",
      "Epoch: 34/60... Step: 300... Loss: -11.558452... Val Loss: -11.366321\n",
      "Epoch: 45/60... Step: 400... Loss: -13.138688... Val Loss: -12.262617\n",
      "Epoch: 56/60... Step: 500... Loss: -8.584272... Val Loss: -12.864142\n"
     ]
    },
    {
     "name": "stderr",
     "output_type": "stream",
     "text": [
      "\r",
      " 82%|████████▏ | 9/11 [36:47<08:10, 245.10s/it]"
     ]
    },
    {
     "name": "stdout",
     "output_type": "stream",
     "text": [
      "Epoch: 12/60... Step: 100... Loss: -12.604237... Val Loss: -11.522179\n",
      "Epoch: 23/60... Step: 200... Loss: -13.067694... Val Loss: -10.897081\n",
      "Epoch: 34/60... Step: 300... Loss: -9.949512... Val Loss: -10.939734\n",
      "Epoch: 45/60... Step: 400... Loss: -13.414343... Val Loss: -10.558290\n",
      "Epoch: 56/60... Step: 500... Loss: -12.407429... Val Loss: -12.036677\n"
     ]
    },
    {
     "name": "stderr",
     "output_type": "stream",
     "text": [
      "\r",
      " 91%|█████████ | 10/11 [40:52<04:05, 245.19s/it]"
     ]
    },
    {
     "name": "stdout",
     "output_type": "stream",
     "text": [
      "Epoch: 12/60... Step: 100... Loss: -11.798079... Val Loss: -11.298419\n",
      "Epoch: 23/60... Step: 200... Loss: -11.197145... Val Loss: -11.300801\n",
      "Epoch: 34/60... Step: 300... Loss: -11.727541... Val Loss: -9.847457\n",
      "Epoch: 45/60... Step: 400... Loss: -8.748990... Val Loss: -10.515907\n",
      "Epoch: 56/60... Step: 500... Loss: -13.443616... Val Loss: -10.706978\n"
     ]
    },
    {
     "name": "stderr",
     "output_type": "stream",
     "text": [
      "100%|██████████| 11/11 [44:58<00:00, 245.33s/it]\n",
      "  0%|          | 0/11 [00:00<?, ?it/s]"
     ]
    },
    {
     "name": "stdout",
     "output_type": "stream",
     "text": [
      "Epoch: 12/60... Step: 100... Loss: -13.907751... Val Loss: -12.169632\n",
      "Epoch: 23/60... Step: 200... Loss: -11.232672... Val Loss: -12.604300\n",
      "Epoch: 34/60... Step: 300... Loss: -10.895618... Val Loss: -12.866211\n",
      "Epoch: 45/60... Step: 400... Loss: -15.801416... Val Loss: -14.127450\n",
      "Epoch: 56/60... Step: 500... Loss: -14.980840... Val Loss: -13.804881\n"
     ]
    },
    {
     "name": "stderr",
     "output_type": "stream",
     "text": [
      "\r",
      "  9%|▉         | 1/11 [04:05<40:56, 245.68s/it]"
     ]
    },
    {
     "name": "stdout",
     "output_type": "stream",
     "text": [
      "Epoch: 12/60... Step: 100... Loss: -12.992291... Val Loss: -14.323577\n",
      "Epoch: 23/60... Step: 200... Loss: -16.001537... Val Loss: -14.295532\n",
      "Epoch: 34/60... Step: 300... Loss: -16.400700... Val Loss: -16.194737\n",
      "Epoch: 45/60... Step: 400... Loss: -15.484268... Val Loss: -15.377547\n",
      "Epoch: 56/60... Step: 500... Loss: -14.199769... Val Loss: -15.127779\n"
     ]
    },
    {
     "name": "stderr",
     "output_type": "stream",
     "text": [
      "\r",
      " 18%|█▊        | 2/11 [08:11<36:50, 245.63s/it]"
     ]
    },
    {
     "name": "stdout",
     "output_type": "stream",
     "text": [
      "Epoch: 12/60... Step: 100... Loss: -17.147678... Val Loss: -12.071024\n",
      "Epoch: 23/60... Step: 200... Loss: -15.168473... Val Loss: -12.637011\n",
      "Epoch: 34/60... Step: 300... Loss: -15.442596... Val Loss: -14.618739\n",
      "Epoch: 45/60... Step: 400... Loss: -16.310791... Val Loss: -14.449221\n",
      "Epoch: 56/60... Step: 500... Loss: -17.337198... Val Loss: -15.566521\n"
     ]
    },
    {
     "name": "stderr",
     "output_type": "stream",
     "text": [
      "\r",
      " 27%|██▋       | 3/11 [12:17<32:46, 245.83s/it]"
     ]
    },
    {
     "name": "stdout",
     "output_type": "stream",
     "text": [
      "Epoch: 12/60... Step: 100... Loss: -12.404038... Val Loss: -11.820793\n",
      "Epoch: 23/60... Step: 200... Loss: -16.888947... Val Loss: -13.581050\n",
      "Epoch: 34/60... Step: 300... Loss: -13.857291... Val Loss: -13.807688\n",
      "Epoch: 45/60... Step: 400... Loss: -12.710693... Val Loss: -14.082677\n",
      "Epoch: 56/60... Step: 500... Loss: -15.450559... Val Loss: -15.421130\n"
     ]
    },
    {
     "name": "stderr",
     "output_type": "stream",
     "text": [
      "\r",
      " 36%|███▋      | 4/11 [16:23<28:40, 245.75s/it]"
     ]
    },
    {
     "name": "stdout",
     "output_type": "stream",
     "text": [
      "Epoch: 12/60... Step: 100... Loss: -10.144593... Val Loss: -11.957792\n",
      "Epoch: 23/60... Step: 200... Loss: -15.552849... Val Loss: -13.966246\n",
      "Epoch: 34/60... Step: 300... Loss: -16.324833... Val Loss: -13.908883\n",
      "Epoch: 45/60... Step: 400... Loss: -13.786795... Val Loss: -15.389080\n",
      "Epoch: 56/60... Step: 500... Loss: -15.237384... Val Loss: -14.624507\n"
     ]
    },
    {
     "name": "stderr",
     "output_type": "stream",
     "text": [
      "\r",
      " 45%|████▌     | 5/11 [20:29<24:35, 245.90s/it]"
     ]
    },
    {
     "name": "stdout",
     "output_type": "stream",
     "text": [
      "Epoch: 12/60... Step: 100... Loss: -13.816940... Val Loss: -11.453321\n",
      "Epoch: 23/60... Step: 200... Loss: -10.776039... Val Loss: -10.319598\n",
      "Epoch: 34/60... Step: 300... Loss: -12.481844... Val Loss: -12.421634\n",
      "Epoch: 45/60... Step: 400... Loss: -14.253406... Val Loss: -12.691565\n",
      "Epoch: 56/60... Step: 500... Loss: -9.991949... Val Loss: -11.836926\n"
     ]
    },
    {
     "name": "stderr",
     "output_type": "stream",
     "text": [
      "\r",
      " 55%|█████▍    | 6/11 [24:34<20:29, 245.84s/it]"
     ]
    },
    {
     "name": "stdout",
     "output_type": "stream",
     "text": [
      "Epoch: 12/60... Step: 100... Loss: -10.444209... Val Loss: -9.561437\n",
      "Epoch: 23/60... Step: 200... Loss: -12.645874... Val Loss: -13.585987\n",
      "Epoch: 34/60... Step: 300... Loss: -13.346457... Val Loss: -12.736394\n",
      "Epoch: 45/60... Step: 400... Loss: -14.878891... Val Loss: -12.091546\n",
      "Epoch: 56/60... Step: 500... Loss: -16.232815... Val Loss: -13.643742\n"
     ]
    },
    {
     "name": "stderr",
     "output_type": "stream",
     "text": [
      "\r",
      " 64%|██████▎   | 7/11 [28:41<16:23, 245.94s/it]"
     ]
    },
    {
     "name": "stdout",
     "output_type": "stream",
     "text": [
      "Epoch: 12/60... Step: 100... Loss: -10.240728... Val Loss: -11.268221\n",
      "Epoch: 23/60... Step: 200... Loss: -14.083608... Val Loss: -12.118295\n",
      "Epoch: 34/60... Step: 300... Loss: -12.253565... Val Loss: -11.326469\n",
      "Epoch: 45/60... Step: 400... Loss: -13.355519... Val Loss: -11.835771\n",
      "Epoch: 56/60... Step: 500... Loss: -15.025351... Val Loss: -12.071512\n"
     ]
    },
    {
     "name": "stderr",
     "output_type": "stream",
     "text": [
      "\r",
      " 73%|███████▎  | 8/11 [32:47<12:18, 246.02s/it]"
     ]
    },
    {
     "name": "stdout",
     "output_type": "stream",
     "text": [
      "Epoch: 12/60... Step: 100... Loss: -9.731708... Val Loss: -10.651357\n",
      "Epoch: 23/60... Step: 200... Loss: -11.546741... Val Loss: -11.966377\n",
      "Epoch: 34/60... Step: 300... Loss: -14.124416... Val Loss: -11.319003\n",
      "Epoch: 45/60... Step: 400... Loss: -10.889812... Val Loss: -11.232843\n",
      "Epoch: 56/60... Step: 500... Loss: -10.345063... Val Loss: -12.122149\n"
     ]
    },
    {
     "name": "stderr",
     "output_type": "stream",
     "text": [
      "\r",
      " 82%|████████▏ | 9/11 [36:52<08:11, 245.83s/it]"
     ]
    },
    {
     "name": "stdout",
     "output_type": "stream",
     "text": [
      "Epoch: 12/60... Step: 100... Loss: -10.588880... Val Loss: -8.619310\n",
      "Epoch: 23/60... Step: 200... Loss: -12.655954... Val Loss: -9.579708\n",
      "Epoch: 34/60... Step: 300... Loss: -13.967983... Val Loss: -11.255724\n",
      "Epoch: 45/60... Step: 400... Loss: -9.484974... Val Loss: -10.623534\n",
      "Epoch: 56/60... Step: 500... Loss: -13.929869... Val Loss: -9.342115\n"
     ]
    },
    {
     "name": "stderr",
     "output_type": "stream",
     "text": [
      "\r",
      " 91%|█████████ | 10/11 [40:59<04:05, 245.98s/it]"
     ]
    },
    {
     "name": "stdout",
     "output_type": "stream",
     "text": [
      "Epoch: 12/60... Step: 100... Loss: -7.934664... Val Loss: -9.833891\n",
      "Epoch: 23/60... Step: 200... Loss: -12.155112... Val Loss: -8.596556\n",
      "Epoch: 34/60... Step: 300... Loss: -13.218090... Val Loss: -10.305708\n",
      "Epoch: 45/60... Step: 400... Loss: -15.969552... Val Loss: -9.987990\n",
      "Epoch: 56/60... Step: 500... Loss: -12.710502... Val Loss: -10.157968\n"
     ]
    },
    {
     "name": "stderr",
     "output_type": "stream",
     "text": [
      "100%|██████████| 11/11 [45:04<00:00, 245.90s/it]\n",
      "  0%|          | 0/11 [00:00<?, ?it/s]"
     ]
    },
    {
     "name": "stdout",
     "output_type": "stream",
     "text": [
      "Epoch: 12/60... Step: 100... Loss: -15.078727... Val Loss: -11.774540\n",
      "Epoch: 23/60... Step: 200... Loss: -11.280923... Val Loss: -13.639568\n",
      "Epoch: 34/60... Step: 300... Loss: -15.214303... Val Loss: -13.904474\n",
      "Epoch: 45/60... Step: 400... Loss: -15.409771... Val Loss: -13.985235\n",
      "Epoch: 56/60... Step: 500... Loss: -16.298939... Val Loss: -13.095442\n"
     ]
    },
    {
     "name": "stderr",
     "output_type": "stream",
     "text": [
      "\r",
      "  9%|▉         | 1/11 [04:05<40:58, 245.85s/it]"
     ]
    },
    {
     "name": "stdout",
     "output_type": "stream",
     "text": [
      "Epoch: 12/60... Step: 100... Loss: -12.937462... Val Loss: -14.185850\n",
      "Epoch: 23/60... Step: 200... Loss: -16.093029... Val Loss: -15.258937\n",
      "Epoch: 34/60... Step: 300... Loss: -17.821978... Val Loss: -15.414769\n",
      "Epoch: 45/60... Step: 400... Loss: -14.747026... Val Loss: -17.011051\n",
      "Epoch: 56/60... Step: 500... Loss: -17.933111... Val Loss: -15.987288\n"
     ]
    },
    {
     "name": "stderr",
     "output_type": "stream",
     "text": [
      "\r",
      " 18%|█▊        | 2/11 [08:11<36:51, 245.77s/it]"
     ]
    },
    {
     "name": "stdout",
     "output_type": "stream",
     "text": [
      "Epoch: 12/60... Step: 100... Loss: -13.905282... Val Loss: -13.465377\n",
      "Epoch: 23/60... Step: 200... Loss: -15.275956... Val Loss: -13.699306\n",
      "Epoch: 34/60... Step: 300... Loss: -15.416033... Val Loss: -14.337446\n",
      "Epoch: 45/60... Step: 400... Loss: -14.529358... Val Loss: -14.543492\n",
      "Epoch: 56/60... Step: 500... Loss: -17.683905... Val Loss: -14.224451\n"
     ]
    },
    {
     "name": "stderr",
     "output_type": "stream",
     "text": [
      "\r",
      " 27%|██▋       | 3/11 [12:17<32:46, 245.78s/it]"
     ]
    },
    {
     "name": "stdout",
     "output_type": "stream",
     "text": [
      "Epoch: 12/60... Step: 100... Loss: -11.694916... Val Loss: -12.782331\n",
      "Epoch: 23/60... Step: 200... Loss: -14.420429... Val Loss: -14.222814\n",
      "Epoch: 34/60... Step: 300... Loss: -13.982412... Val Loss: -10.312376\n",
      "Epoch: 45/60... Step: 400... Loss: -16.676554... Val Loss: -15.373145\n",
      "Epoch: 56/60... Step: 500... Loss: -13.109326... Val Loss: -13.708053\n"
     ]
    },
    {
     "name": "stderr",
     "output_type": "stream",
     "text": [
      "\r",
      " 36%|███▋      | 4/11 [16:23<28:40, 245.84s/it]"
     ]
    },
    {
     "name": "stdout",
     "output_type": "stream",
     "text": [
      "Epoch: 12/60... Step: 100... Loss: -11.837849... Val Loss: -13.153799\n",
      "Epoch: 23/60... Step: 200... Loss: -14.327494... Val Loss: -12.835574\n",
      "Epoch: 34/60... Step: 300... Loss: -15.975646... Val Loss: -14.460934\n",
      "Epoch: 45/60... Step: 400... Loss: -14.589073... Val Loss: -14.344289\n",
      "Epoch: 56/60... Step: 500... Loss: -13.738537... Val Loss: -13.467364\n"
     ]
    },
    {
     "name": "stderr",
     "output_type": "stream",
     "text": [
      "\r",
      " 45%|████▌     | 5/11 [20:28<24:34, 245.73s/it]"
     ]
    },
    {
     "name": "stdout",
     "output_type": "stream",
     "text": [
      "Epoch: 12/60... Step: 100... Loss: -11.918323... Val Loss: -11.371428\n",
      "Epoch: 23/60... Step: 200... Loss: -14.552754... Val Loss: -12.419057\n",
      "Epoch: 34/60... Step: 300... Loss: -12.674093... Val Loss: -14.130841\n",
      "Epoch: 45/60... Step: 400... Loss: -15.470561... Val Loss: -13.150600\n",
      "Epoch: 56/60... Step: 500... Loss: -13.296726... Val Loss: -12.007033\n"
     ]
    },
    {
     "name": "stderr",
     "output_type": "stream",
     "text": [
      "\r",
      " 55%|█████▍    | 6/11 [24:34<20:29, 245.88s/it]"
     ]
    },
    {
     "name": "stdout",
     "output_type": "stream",
     "text": [
      "Epoch: 12/60... Step: 100... Loss: -13.007248... Val Loss: -10.930285\n",
      "Epoch: 23/60... Step: 200... Loss: -13.225760... Val Loss: -12.699944\n",
      "Epoch: 34/60... Step: 300... Loss: -14.522334... Val Loss: -12.712008\n",
      "Epoch: 45/60... Step: 400... Loss: -10.537682... Val Loss: -13.405027\n",
      "Epoch: 56/60... Step: 500... Loss: -16.805407... Val Loss: -13.126328\n"
     ]
    },
    {
     "name": "stderr",
     "output_type": "stream",
     "text": [
      "\r",
      " 64%|██████▎   | 7/11 [28:40<16:23, 245.81s/it]"
     ]
    },
    {
     "name": "stdout",
     "output_type": "stream",
     "text": [
      "Epoch: 12/60... Step: 100... Loss: -8.863592... Val Loss: -9.976132\n",
      "Epoch: 23/60... Step: 200... Loss: -13.811687... Val Loss: -11.795702\n",
      "Epoch: 34/60... Step: 300... Loss: -15.507040... Val Loss: -11.623459\n",
      "Epoch: 45/60... Step: 400... Loss: -14.212205... Val Loss: -12.897540\n",
      "Epoch: 56/60... Step: 500... Loss: -13.089945... Val Loss: -12.038532\n"
     ]
    },
    {
     "name": "stderr",
     "output_type": "stream",
     "text": [
      "\r",
      " 73%|███████▎  | 8/11 [32:46<12:17, 245.82s/it]"
     ]
    },
    {
     "name": "stdout",
     "output_type": "stream",
     "text": [
      "Epoch: 12/60... Step: 100... Loss: -7.699049... Val Loss: -10.338869\n",
      "Epoch: 23/60... Step: 200... Loss: -10.850563... Val Loss: -10.638810\n",
      "Epoch: 34/60... Step: 300... Loss: -13.088043... Val Loss: -9.891906\n",
      "Epoch: 45/60... Step: 400... Loss: -14.369113... Val Loss: -11.869593\n",
      "Epoch: 56/60... Step: 500... Loss: -12.777630... Val Loss: -10.522057\n"
     ]
    },
    {
     "name": "stderr",
     "output_type": "stream",
     "text": [
      "\r",
      " 82%|████████▏ | 9/11 [36:51<08:10, 245.50s/it]"
     ]
    },
    {
     "name": "stdout",
     "output_type": "stream",
     "text": [
      "Epoch: 12/60... Step: 100... Loss: -10.792149... Val Loss: -10.516391\n",
      "Epoch: 23/60... Step: 200... Loss: -13.413465... Val Loss: -10.734064\n",
      "Epoch: 34/60... Step: 300... Loss: -10.680059... Val Loss: -11.837598\n",
      "Epoch: 45/60... Step: 400... Loss: -12.374546... Val Loss: -11.350602\n",
      "Epoch: 56/60... Step: 500... Loss: -14.112916... Val Loss: -11.575470\n"
     ]
    },
    {
     "name": "stderr",
     "output_type": "stream",
     "text": [
      "\r",
      " 91%|█████████ | 10/11 [40:55<04:05, 245.29s/it]"
     ]
    },
    {
     "name": "stdout",
     "output_type": "stream",
     "text": [
      "Epoch: 12/60... Step: 100... Loss: -11.537878... Val Loss: -7.266989\n",
      "Epoch: 23/60... Step: 200... Loss: -12.140080... Val Loss: -10.673828\n",
      "Epoch: 34/60... Step: 300... Loss: -13.461488... Val Loss: -9.765493\n",
      "Epoch: 45/60... Step: 400... Loss: -12.807741... Val Loss: -10.982688\n",
      "Epoch: 56/60... Step: 500... Loss: -13.317326... Val Loss: -9.511923\n"
     ]
    },
    {
     "name": "stderr",
     "output_type": "stream",
     "text": [
      "100%|██████████| 11/11 [45:01<00:00, 245.60s/it]\n",
      "  0%|          | 0/11 [00:00<?, ?it/s]"
     ]
    },
    {
     "name": "stdout",
     "output_type": "stream",
     "text": [
      "Epoch: 12/60... Step: 100... Loss: -12.685260... Val Loss: -12.770149\n",
      "Epoch: 23/60... Step: 200... Loss: -11.992379... Val Loss: -14.014229\n",
      "Epoch: 34/60... Step: 300... Loss: -12.227330... Val Loss: -12.931766\n",
      "Epoch: 45/60... Step: 400... Loss: -13.876707... Val Loss: -14.211695\n",
      "Epoch: 56/60... Step: 500... Loss: -15.793319... Val Loss: -15.497523\n"
     ]
    },
    {
     "name": "stderr",
     "output_type": "stream",
     "text": [
      "\r",
      "  9%|▉         | 1/11 [04:05<40:56, 245.69s/it]"
     ]
    },
    {
     "name": "stdout",
     "output_type": "stream",
     "text": [
      "Epoch: 12/60... Step: 100... Loss: -11.783430... Val Loss: -13.722624\n",
      "Epoch: 23/60... Step: 200... Loss: -14.205654... Val Loss: -15.032685\n",
      "Epoch: 34/60... Step: 300... Loss: -14.888278... Val Loss: -15.942489\n",
      "Epoch: 45/60... Step: 400... Loss: -13.902266... Val Loss: -15.437150\n",
      "Epoch: 56/60... Step: 500... Loss: -15.607500... Val Loss: -15.125017\n"
     ]
    },
    {
     "name": "stderr",
     "output_type": "stream",
     "text": [
      "\r",
      " 18%|█▊        | 2/11 [08:13<36:56, 246.26s/it]"
     ]
    },
    {
     "name": "stdout",
     "output_type": "stream",
     "text": [
      "Epoch: 12/60... Step: 100... Loss: -13.903560... Val Loss: -13.698251\n",
      "Epoch: 23/60... Step: 200... Loss: -16.519144... Val Loss: -13.790112\n",
      "Epoch: 34/60... Step: 300... Loss: -15.731565... Val Loss: -15.277110\n",
      "Epoch: 45/60... Step: 400... Loss: -15.851070... Val Loss: -8.743485\n",
      "Epoch: 56/60... Step: 500... Loss: -15.970928... Val Loss: -12.079431\n"
     ]
    },
    {
     "name": "stderr",
     "output_type": "stream",
     "text": [
      "\r",
      " 27%|██▋       | 3/11 [12:18<32:47, 245.89s/it]"
     ]
    },
    {
     "name": "stdout",
     "output_type": "stream",
     "text": [
      "Epoch: 12/60... Step: 100... Loss: -13.807137... Val Loss: -13.339057\n",
      "Epoch: 23/60... Step: 200... Loss: -15.920647... Val Loss: -13.782416\n",
      "Epoch: 34/60... Step: 300... Loss: -16.027540... Val Loss: -14.694070\n",
      "Epoch: 45/60... Step: 400... Loss: -15.231274... Val Loss: -14.764701\n",
      "Epoch: 56/60... Step: 500... Loss: -14.128087... Val Loss: -14.455419\n"
     ]
    },
    {
     "name": "stderr",
     "output_type": "stream",
     "text": [
      "\r",
      " 36%|███▋      | 4/11 [16:24<28:40, 245.85s/it]"
     ]
    },
    {
     "name": "stdout",
     "output_type": "stream",
     "text": [
      "Epoch: 12/60... Step: 100... Loss: -13.047117... Val Loss: -13.016754\n",
      "Epoch: 23/60... Step: 200... Loss: -14.364329... Val Loss: -13.107388\n",
      "Epoch: 34/60... Step: 300... Loss: -15.604683... Val Loss: -13.692045\n",
      "Epoch: 45/60... Step: 400... Loss: -13.062017... Val Loss: -11.690311\n",
      "Epoch: 56/60... Step: 500... Loss: -15.671766... Val Loss: -13.647225\n"
     ]
    },
    {
     "name": "stderr",
     "output_type": "stream",
     "text": [
      "\r",
      " 45%|████▌     | 5/11 [20:29<24:33, 245.64s/it]"
     ]
    },
    {
     "name": "stdout",
     "output_type": "stream",
     "text": [
      "Epoch: 12/60... Step: 100... Loss: -15.432128... Val Loss: -10.156261\n",
      "Epoch: 23/60... Step: 200... Loss: -12.322069... Val Loss: -10.892379\n",
      "Epoch: 34/60... Step: 300... Loss: -13.378388... Val Loss: -12.994824\n",
      "Epoch: 45/60... Step: 400... Loss: -13.487720... Val Loss: -13.208336\n",
      "Epoch: 56/60... Step: 500... Loss: -16.254242... Val Loss: -13.274031\n"
     ]
    },
    {
     "name": "stderr",
     "output_type": "stream",
     "text": [
      "\r",
      " 55%|█████▍    | 6/11 [24:34<20:28, 245.65s/it]"
     ]
    },
    {
     "name": "stdout",
     "output_type": "stream",
     "text": [
      "Epoch: 12/60... Step: 100... Loss: -11.774069... Val Loss: -11.432893\n",
      "Epoch: 23/60... Step: 200... Loss: -13.444376... Val Loss: -13.370206\n",
      "Epoch: 34/60... Step: 300... Loss: -13.449335... Val Loss: -12.600422\n",
      "Epoch: 45/60... Step: 400... Loss: -14.592916... Val Loss: -12.535238\n",
      "Epoch: 56/60... Step: 500... Loss: -14.361769... Val Loss: -13.186755\n"
     ]
    },
    {
     "name": "stderr",
     "output_type": "stream",
     "text": [
      "\r",
      " 64%|██████▎   | 7/11 [28:39<16:21, 245.45s/it]"
     ]
    },
    {
     "name": "stdout",
     "output_type": "stream",
     "text": [
      "Epoch: 12/60... Step: 100... Loss: -11.448616... Val Loss: -11.951316\n",
      "Epoch: 23/60... Step: 200... Loss: -14.603189... Val Loss: -10.911151\n",
      "Epoch: 34/60... Step: 300... Loss: -15.515310... Val Loss: -11.375341\n",
      "Epoch: 45/60... Step: 400... Loss: -12.322867... Val Loss: -12.009242\n",
      "Epoch: 56/60... Step: 500... Loss: -15.272215... Val Loss: -13.074559\n"
     ]
    },
    {
     "name": "stderr",
     "output_type": "stream",
     "text": [
      "\r",
      " 73%|███████▎  | 8/11 [32:45<12:16, 245.57s/it]"
     ]
    },
    {
     "name": "stdout",
     "output_type": "stream",
     "text": [
      "Epoch: 12/60... Step: 100... Loss: -11.362915... Val Loss: -9.730313\n",
      "Epoch: 23/60... Step: 200... Loss: -12.989012... Val Loss: -11.072245\n",
      "Epoch: 34/60... Step: 300... Loss: -15.171409... Val Loss: -10.837346\n",
      "Epoch: 45/60... Step: 400... Loss: -13.173421... Val Loss: -11.517654\n",
      "Epoch: 56/60... Step: 500... Loss: -12.697248... Val Loss: -11.993298\n"
     ]
    },
    {
     "name": "stderr",
     "output_type": "stream",
     "text": [
      "\r",
      " 82%|████████▏ | 9/11 [36:51<08:11, 245.69s/it]"
     ]
    },
    {
     "name": "stdout",
     "output_type": "stream",
     "text": [
      "Epoch: 12/60... Step: 100... Loss: -12.124554... Val Loss: -10.072578\n",
      "Epoch: 23/60... Step: 200... Loss: -11.881443... Val Loss: -10.820074\n",
      "Epoch: 34/60... Step: 300... Loss: -9.919211... Val Loss: -9.816669\n",
      "Epoch: 45/60... Step: 400... Loss: -12.805008... Val Loss: -10.810242\n",
      "Epoch: 56/60... Step: 500... Loss: -15.640953... Val Loss: -11.473367\n"
     ]
    },
    {
     "name": "stderr",
     "output_type": "stream",
     "text": [
      "\r",
      " 91%|█████████ | 10/11 [40:56<04:05, 245.48s/it]"
     ]
    },
    {
     "name": "stdout",
     "output_type": "stream",
     "text": [
      "Epoch: 12/60... Step: 100... Loss: -12.654254... Val Loss: -7.750059\n",
      "Epoch: 23/60... Step: 200... Loss: -11.217701... Val Loss: -9.763412\n",
      "Epoch: 34/60... Step: 300... Loss: -11.347370... Val Loss: -11.805050\n",
      "Epoch: 45/60... Step: 400... Loss: -9.042647... Val Loss: -10.052124\n",
      "Epoch: 56/60... Step: 500... Loss: -13.029001... Val Loss: -10.232492\n"
     ]
    },
    {
     "name": "stderr",
     "output_type": "stream",
     "text": [
      "100%|██████████| 11/11 [45:03<00:00, 245.78s/it]\n",
      "  0%|          | 0/11 [00:00<?, ?it/s]"
     ]
    },
    {
     "name": "stdout",
     "output_type": "stream",
     "text": [
      "Epoch: 12/60... Step: 100... Loss: -9.296438... Val Loss: -13.209023\n",
      "Epoch: 23/60... Step: 200... Loss: -15.360882... Val Loss: -13.312413\n",
      "Epoch: 34/60... Step: 300... Loss: -12.779457... Val Loss: -13.469350\n",
      "Epoch: 45/60... Step: 400... Loss: -13.792085... Val Loss: -14.772371\n",
      "Epoch: 56/60... Step: 500... Loss: -14.869019... Val Loss: -15.582079\n"
     ]
    },
    {
     "name": "stderr",
     "output_type": "stream",
     "text": [
      "\r",
      "  9%|▉         | 1/11 [04:05<40:55, 245.57s/it]"
     ]
    },
    {
     "name": "stdout",
     "output_type": "stream",
     "text": [
      "Epoch: 12/60... Step: 100... Loss: -12.346358... Val Loss: -13.385528\n",
      "Epoch: 23/60... Step: 200... Loss: -16.167707... Val Loss: -15.996040\n",
      "Epoch: 34/60... Step: 300... Loss: -16.685682... Val Loss: -15.935284\n",
      "Epoch: 45/60... Step: 400... Loss: -14.711843... Val Loss: -15.454846\n",
      "Epoch: 56/60... Step: 500... Loss: -14.000196... Val Loss: -14.873588\n"
     ]
    },
    {
     "name": "stderr",
     "output_type": "stream",
     "text": [
      "\r",
      " 18%|█▊        | 2/11 [08:10<36:48, 245.36s/it]"
     ]
    },
    {
     "name": "stdout",
     "output_type": "stream",
     "text": [
      "Epoch: 12/60... Step: 100... Loss: -12.468086... Val Loss: -13.072384\n",
      "Epoch: 23/60... Step: 200... Loss: -16.287712... Val Loss: -13.502295\n",
      "Epoch: 34/60... Step: 300... Loss: -15.472278... Val Loss: -15.584304\n",
      "Epoch: 45/60... Step: 400... Loss: -16.942657... Val Loss: -15.120525\n",
      "Epoch: 56/60... Step: 500... Loss: -15.648560... Val Loss: -15.081530\n"
     ]
    },
    {
     "name": "stderr",
     "output_type": "stream",
     "text": [
      "\r",
      " 27%|██▋       | 3/11 [12:15<32:41, 245.25s/it]"
     ]
    },
    {
     "name": "stdout",
     "output_type": "stream",
     "text": [
      "Epoch: 12/60... Step: 100... Loss: -13.051517... Val Loss: -13.236758\n",
      "Epoch: 23/60... Step: 200... Loss: -13.583219... Val Loss: -13.181995\n",
      "Epoch: 34/60... Step: 300... Loss: -15.337756... Val Loss: -14.274192\n",
      "Epoch: 45/60... Step: 400... Loss: -13.790707... Val Loss: -11.885378\n",
      "Epoch: 56/60... Step: 500... Loss: -15.301470... Val Loss: -14.227518\n"
     ]
    },
    {
     "name": "stderr",
     "output_type": "stream",
     "text": [
      "\r",
      " 36%|███▋      | 4/11 [16:20<28:36, 245.19s/it]"
     ]
    },
    {
     "name": "stdout",
     "output_type": "stream",
     "text": [
      "Epoch: 12/60... Step: 100... Loss: -12.063471... Val Loss: -13.059071\n",
      "Epoch: 23/60... Step: 200... Loss: -14.518657... Val Loss: -12.240805\n",
      "Epoch: 34/60... Step: 300... Loss: -14.013544... Val Loss: -13.107940\n",
      "Epoch: 45/60... Step: 400... Loss: -16.492876... Val Loss: -13.640506\n",
      "Epoch: 56/60... Step: 500... Loss: -13.998438... Val Loss: -14.192666\n"
     ]
    },
    {
     "name": "stderr",
     "output_type": "stream",
     "text": [
      "\r",
      " 45%|████▌     | 5/11 [20:26<24:32, 245.34s/it]"
     ]
    },
    {
     "name": "stdout",
     "output_type": "stream",
     "text": [
      "Epoch: 12/60... Step: 100... Loss: -11.715682... Val Loss: -12.509403\n",
      "Epoch: 23/60... Step: 200... Loss: -12.807243... Val Loss: -12.143875\n",
      "Epoch: 34/60... Step: 300... Loss: -16.629333... Val Loss: -12.130997\n",
      "Epoch: 45/60... Step: 400... Loss: -12.346039... Val Loss: -12.795647\n",
      "Epoch: 56/60... Step: 500... Loss: -13.916979... Val Loss: -14.065068\n"
     ]
    },
    {
     "name": "stderr",
     "output_type": "stream",
     "text": [
      "\r",
      " 55%|█████▍    | 6/11 [24:31<20:26, 245.27s/it]"
     ]
    },
    {
     "name": "stdout",
     "output_type": "stream",
     "text": [
      "Epoch: 12/60... Step: 100... Loss: -12.935835... Val Loss: -10.974157\n",
      "Epoch: 23/60... Step: 200... Loss: -10.944825... Val Loss: -11.755227\n",
      "Epoch: 34/60... Step: 300... Loss: -12.504503... Val Loss: -13.262042\n",
      "Epoch: 45/60... Step: 400... Loss: -15.687584... Val Loss: -11.586333\n",
      "Epoch: 56/60... Step: 500... Loss: -17.446775... Val Loss: -13.328509\n"
     ]
    },
    {
     "name": "stderr",
     "output_type": "stream",
     "text": [
      "\r",
      " 64%|██████▎   | 7/11 [28:36<16:21, 245.28s/it]"
     ]
    },
    {
     "name": "stdout",
     "output_type": "stream",
     "text": [
      "Epoch: 12/60... Step: 100... Loss: -12.053711... Val Loss: -11.424963\n",
      "Epoch: 23/60... Step: 200... Loss: -12.333203... Val Loss: -11.754983\n",
      "Epoch: 34/60... Step: 300... Loss: -12.158770... Val Loss: -13.902646\n",
      "Epoch: 45/60... Step: 400... Loss: -13.716593... Val Loss: -11.688113\n",
      "Epoch: 56/60... Step: 500... Loss: -12.296944... Val Loss: -11.268271\n"
     ]
    },
    {
     "name": "stderr",
     "output_type": "stream",
     "text": [
      "\r",
      " 73%|███████▎  | 8/11 [32:42<12:16, 245.49s/it]"
     ]
    },
    {
     "name": "stdout",
     "output_type": "stream",
     "text": [
      "Epoch: 12/60... Step: 100... Loss: -12.280121... Val Loss: -10.302244\n",
      "Epoch: 23/60... Step: 200... Loss: -12.361970... Val Loss: -9.931777\n",
      "Epoch: 34/60... Step: 300... Loss: -13.141663... Val Loss: -11.551142\n",
      "Epoch: 45/60... Step: 400... Loss: -12.595598... Val Loss: -11.676706\n",
      "Epoch: 56/60... Step: 500... Loss: -13.012864... Val Loss: -11.732446\n"
     ]
    },
    {
     "name": "stderr",
     "output_type": "stream",
     "text": [
      "\r",
      " 82%|████████▏ | 9/11 [36:49<08:11, 245.97s/it]"
     ]
    },
    {
     "name": "stdout",
     "output_type": "stream",
     "text": [
      "Epoch: 12/60... Step: 100... Loss: -10.629631... Val Loss: -10.892790\n",
      "Epoch: 23/60... Step: 200... Loss: -11.608274... Val Loss: -10.159239\n",
      "Epoch: 34/60... Step: 300... Loss: -13.820850... Val Loss: -11.592648\n",
      "Epoch: 45/60... Step: 400... Loss: -11.894579... Val Loss: -11.096817\n",
      "Epoch: 56/60... Step: 500... Loss: -11.732943... Val Loss: -11.806721\n"
     ]
    },
    {
     "name": "stderr",
     "output_type": "stream",
     "text": [
      "\r",
      " 91%|█████████ | 10/11 [40:55<04:05, 245.99s/it]"
     ]
    },
    {
     "name": "stdout",
     "output_type": "stream",
     "text": [
      "Epoch: 12/60... Step: 100... Loss: -10.748988... Val Loss: -9.586636\n",
      "Epoch: 23/60... Step: 200... Loss: -11.642700... Val Loss: -10.122508\n",
      "Epoch: 34/60... Step: 300... Loss: -12.399311... Val Loss: -10.727336\n",
      "Epoch: 45/60... Step: 400... Loss: -11.717486... Val Loss: -10.838680\n",
      "Epoch: 56/60... Step: 500... Loss: -11.875119... Val Loss: -7.390540\n"
     ]
    },
    {
     "name": "stderr",
     "output_type": "stream",
     "text": [
      "100%|██████████| 11/11 [45:00<00:00, 245.53s/it]\n",
      "  0%|          | 0/11 [00:00<?, ?it/s]"
     ]
    },
    {
     "name": "stdout",
     "output_type": "stream",
     "text": [
      "Epoch: 12/60... Step: 100... Loss: -10.831292... Val Loss: -12.170609\n",
      "Epoch: 23/60... Step: 200... Loss: -11.932305... Val Loss: -13.523378\n",
      "Epoch: 34/60... Step: 300... Loss: -14.180609... Val Loss: -13.322659\n",
      "Epoch: 45/60... Step: 400... Loss: -15.188660... Val Loss: -14.578632\n",
      "Epoch: 56/60... Step: 500... Loss: -16.713226... Val Loss: -15.822892\n"
     ]
    },
    {
     "name": "stderr",
     "output_type": "stream",
     "text": [
      "\r",
      "  9%|▉         | 1/11 [04:05<40:57, 245.73s/it]"
     ]
    },
    {
     "name": "stdout",
     "output_type": "stream",
     "text": [
      "Epoch: 12/60... Step: 100... Loss: -14.847558... Val Loss: -11.096364\n",
      "Epoch: 23/60... Step: 200... Loss: -18.038191... Val Loss: -14.930531\n",
      "Epoch: 34/60... Step: 300... Loss: -16.625547... Val Loss: -15.140650\n",
      "Epoch: 45/60... Step: 400... Loss: -18.016678... Val Loss: -15.437053\n",
      "Epoch: 56/60... Step: 500... Loss: -16.735733... Val Loss: -16.360404\n"
     ]
    },
    {
     "name": "stderr",
     "output_type": "stream",
     "text": [
      "\r",
      " 18%|█▊        | 2/11 [08:11<36:51, 245.74s/it]"
     ]
    },
    {
     "name": "stdout",
     "output_type": "stream",
     "text": [
      "Epoch: 12/60... Step: 100... Loss: -13.883541... Val Loss: -13.656832\n",
      "Epoch: 23/60... Step: 200... Loss: -16.329041... Val Loss: -15.415639\n",
      "Epoch: 34/60... Step: 300... Loss: -15.612129... Val Loss: -16.069063\n",
      "Epoch: 45/60... Step: 400... Loss: -17.199261... Val Loss: -15.016293\n",
      "Epoch: 56/60... Step: 500... Loss: -12.726467... Val Loss: -15.895658\n"
     ]
    },
    {
     "name": "stderr",
     "output_type": "stream",
     "text": [
      "\r",
      " 27%|██▋       | 3/11 [12:16<32:44, 245.56s/it]"
     ]
    },
    {
     "name": "stdout",
     "output_type": "stream",
     "text": [
      "Epoch: 12/60... Step: 100... Loss: -13.716689... Val Loss: -13.292411\n",
      "Epoch: 23/60... Step: 200... Loss: -12.420539... Val Loss: -11.903792\n",
      "Epoch: 34/60... Step: 300... Loss: -14.178651... Val Loss: -13.744974\n",
      "Epoch: 45/60... Step: 400... Loss: -15.575380... Val Loss: -14.751428\n",
      "Epoch: 56/60... Step: 500... Loss: -11.695959... Val Loss: -14.886690\n"
     ]
    },
    {
     "name": "stderr",
     "output_type": "stream",
     "text": [
      "\r",
      " 36%|███▋      | 4/11 [16:22<28:40, 245.73s/it]"
     ]
    },
    {
     "name": "stdout",
     "output_type": "stream",
     "text": [
      "Epoch: 12/60... Step: 100... Loss: -11.946218... Val Loss: -12.135298\n",
      "Epoch: 23/60... Step: 200... Loss: -11.084171... Val Loss: -13.114371\n",
      "Epoch: 34/60... Step: 300... Loss: -14.492787... Val Loss: -12.191398\n",
      "Epoch: 45/60... Step: 400... Loss: -15.171211... Val Loss: -14.042847\n",
      "Epoch: 56/60... Step: 500... Loss: -13.473666... Val Loss: -12.815820\n"
     ]
    },
    {
     "name": "stderr",
     "output_type": "stream",
     "text": [
      "\r",
      " 45%|████▌     | 5/11 [20:28<24:34, 245.69s/it]"
     ]
    },
    {
     "name": "stdout",
     "output_type": "stream",
     "text": [
      "Epoch: 12/60... Step: 100... Loss: -16.754499... Val Loss: -11.409543\n",
      "Epoch: 23/60... Step: 200... Loss: -14.221411... Val Loss: -13.318661\n",
      "Epoch: 34/60... Step: 300... Loss: -16.462044... Val Loss: -12.374660\n",
      "Epoch: 45/60... Step: 400... Loss: -15.248111... Val Loss: -13.184851\n",
      "Epoch: 56/60... Step: 500... Loss: -13.828163... Val Loss: -13.499207\n"
     ]
    },
    {
     "name": "stderr",
     "output_type": "stream",
     "text": [
      "\r",
      " 55%|█████▍    | 6/11 [24:33<20:28, 245.60s/it]"
     ]
    },
    {
     "name": "stdout",
     "output_type": "stream",
     "text": [
      "Epoch: 12/60... Step: 100... Loss: -12.438474... Val Loss: -9.885864\n",
      "Epoch: 23/60... Step: 200... Loss: -13.736261... Val Loss: -12.827618\n",
      "Epoch: 34/60... Step: 300... Loss: -13.561960... Val Loss: -13.957554\n",
      "Epoch: 45/60... Step: 400... Loss: -11.755234... Val Loss: -12.397892\n",
      "Epoch: 56/60... Step: 500... Loss: -14.763806... Val Loss: -11.706797\n"
     ]
    },
    {
     "name": "stderr",
     "output_type": "stream",
     "text": [
      "\r",
      " 64%|██████▎   | 7/11 [28:38<16:21, 245.36s/it]"
     ]
    },
    {
     "name": "stdout",
     "output_type": "stream",
     "text": [
      "Epoch: 12/60... Step: 100... Loss: -11.639855... Val Loss: -11.852915\n",
      "Epoch: 23/60... Step: 200... Loss: -13.828670... Val Loss: -10.134165\n",
      "Epoch: 34/60... Step: 300... Loss: -13.723574... Val Loss: -11.535478\n",
      "Epoch: 45/60... Step: 400... Loss: -13.250494... Val Loss: -11.259971\n",
      "Epoch: 56/60... Step: 500... Loss: -12.595981... Val Loss: -11.590089\n"
     ]
    },
    {
     "name": "stderr",
     "output_type": "stream",
     "text": [
      "\r",
      " 73%|███████▎  | 8/11 [32:44<12:17, 245.67s/it]"
     ]
    },
    {
     "name": "stdout",
     "output_type": "stream",
     "text": [
      "Epoch: 12/60... Step: 100... Loss: -11.966043... Val Loss: -11.459356\n",
      "Epoch: 23/60... Step: 200... Loss: -10.879524... Val Loss: -10.743046\n",
      "Epoch: 34/60... Step: 300... Loss: -14.987753... Val Loss: -12.062796\n",
      "Epoch: 45/60... Step: 400... Loss: -13.767416... Val Loss: -10.227064\n",
      "Epoch: 56/60... Step: 500... Loss: -12.873684... Val Loss: -11.465001\n"
     ]
    },
    {
     "name": "stderr",
     "output_type": "stream",
     "text": [
      "\r",
      " 82%|████████▏ | 9/11 [36:50<08:11, 245.60s/it]"
     ]
    },
    {
     "name": "stdout",
     "output_type": "stream",
     "text": [
      "Epoch: 12/60... Step: 100... Loss: -11.422997... Val Loss: -10.398310\n",
      "Epoch: 23/60... Step: 200... Loss: -12.606424... Val Loss: -10.256710\n",
      "Epoch: 34/60... Step: 300... Loss: -12.100215... Val Loss: -11.432485\n",
      "Epoch: 45/60... Step: 400... Loss: -13.243960... Val Loss: -10.830586\n",
      "Epoch: 56/60... Step: 500... Loss: -11.870552... Val Loss: -11.286046\n"
     ]
    },
    {
     "name": "stderr",
     "output_type": "stream",
     "text": [
      "\r",
      " 91%|█████████ | 10/11 [40:55<04:05, 245.50s/it]"
     ]
    },
    {
     "name": "stdout",
     "output_type": "stream",
     "text": [
      "Epoch: 12/60... Step: 100... Loss: -10.525167... Val Loss: -9.759330\n",
      "Epoch: 23/60... Step: 200... Loss: -12.670268... Val Loss: -10.025222\n",
      "Epoch: 34/60... Step: 300... Loss: -10.371557... Val Loss: -9.211891\n",
      "Epoch: 45/60... Step: 400... Loss: -10.778217... Val Loss: -10.683894\n",
      "Epoch: 56/60... Step: 500... Loss: -11.171441... Val Loss: -10.045731\n"
     ]
    },
    {
     "name": "stderr",
     "output_type": "stream",
     "text": [
      "100%|██████████| 11/11 [45:00<00:00, 245.51s/it]\n"
     ]
    }
   ],
   "source": [
    "from tqdm import tqdm\n",
    "\n",
    "res_metrics = []\n",
    "res_auc = []\n",
    "for i in range(10):\n",
    "\n",
    "    alphas = np.linspace(0, 1, 11)\n",
    "    alpha_dict_metrics = {}\n",
    "    alpha_dict_auc = {}\n",
    "\n",
    "\n",
    "    for alpha in tqdm(alphas):\n",
    "\n",
    "        model_LSTM_custom = LSTM(input_size=input_size, output_size=output_size, hidden_dim=hidden_dim, n_layers=n_layers)\n",
    "        loss_function = CustomLoss(alpha=alpha)\n",
    "        model_LSTM_custom.to(device)\n",
    "\n",
    "        model_LSTM_custom, (loss_list, acc_list, \n",
    "                            overall_val_loss_list) = train_model(model_LSTM_custom, loss_function, 60, 100, LSTM_flag=True)\n",
    "\n",
    "\n",
    "        test_batch_size = 64\n",
    "        final_test_loader = prepare_loader(test_data, test_labels, seq_len, input_size, test_batch_size, shuffle=False)\n",
    "\n",
    "        (fp_number_list_LSTM_custom, fn_number_list_LSTM_custom, \n",
    "         delay_list_LSTM_custom, fp_delay_list_LSTM_custom) = get_pareto_metrics_for_threshold(model_LSTM_custom, final_test_loader, \n",
    "                                                                                               threshold_list, LSTM_flag=True)\n",
    "\n",
    "        alpha_dict_metrics[alpha] = (fp_delay_list_LSTM_custom, delay_list_LSTM_custom)\n",
    "\n",
    "        alpha_dict_auc[alpha] = metrics.area_under_graph(delay_list_LSTM_custom, fp_delay_list_LSTM_custom)\n",
    "    res_metrics.append(alpha_dict_metrics)\n",
    "    res_auc.append(alpha_dict_auc)"
   ]
  },
  {
   "cell_type": "code",
   "execution_count": 56,
   "metadata": {},
   "outputs": [],
   "source": [
    "final_res_alpha = {}\n",
    "for alpha in alphas:\n",
    "    curr_alpha = []\n",
    "    for auc in res_auc:\n",
    "        curr_alpha.append(auc[alpha])\n",
    "    final_res_alpha[alpha] = curr_alpha\n",
    "    \n",
    "import pandas as pd\n",
    "final_res_alpha = pd.DataFrame(final_res_alpha)\n",
    "final_res_alpha.columns = np.round(final_res_alpha.columns, 2)    "
   ]
  },
  {
   "cell_type": "code",
   "execution_count": 58,
   "metadata": {},
   "outputs": [],
   "source": [
    "final_res_alpha.to_csv('compare_alphas_10_runs.csv', index=False)"
   ]
  },
  {
   "cell_type": "code",
   "execution_count": 59,
   "metadata": {},
   "outputs": [
    {
     "data": {
      "text/html": [
       "<div>\n",
       "<style scoped>\n",
       "    .dataframe tbody tr th:only-of-type {\n",
       "        vertical-align: middle;\n",
       "    }\n",
       "\n",
       "    .dataframe tbody tr th {\n",
       "        vertical-align: top;\n",
       "    }\n",
       "\n",
       "    .dataframe thead th {\n",
       "        text-align: right;\n",
       "    }\n",
       "</style>\n",
       "<table border=\"1\" class=\"dataframe\">\n",
       "  <thead>\n",
       "    <tr style=\"text-align: right;\">\n",
       "      <th></th>\n",
       "      <th>0.0</th>\n",
       "      <th>0.1</th>\n",
       "      <th>0.2</th>\n",
       "      <th>0.3</th>\n",
       "      <th>0.4</th>\n",
       "      <th>0.5</th>\n",
       "      <th>0.6</th>\n",
       "      <th>0.7</th>\n",
       "      <th>0.8</th>\n",
       "      <th>0.9</th>\n",
       "      <th>1.0</th>\n",
       "    </tr>\n",
       "  </thead>\n",
       "  <tbody>\n",
       "    <tr>\n",
       "      <th>0</th>\n",
       "      <td>446.837185</td>\n",
       "      <td>415.119819</td>\n",
       "      <td>423.720242</td>\n",
       "      <td>416.589437</td>\n",
       "      <td>422.314372</td>\n",
       "      <td>414.231500</td>\n",
       "      <td>417.435737</td>\n",
       "      <td>417.133626</td>\n",
       "      <td>415.988797</td>\n",
       "      <td>416.790771</td>\n",
       "      <td>416.476997</td>\n",
       "    </tr>\n",
       "    <tr>\n",
       "      <th>1</th>\n",
       "      <td>448.905599</td>\n",
       "      <td>422.594645</td>\n",
       "      <td>420.177707</td>\n",
       "      <td>428.112467</td>\n",
       "      <td>413.664497</td>\n",
       "      <td>413.892795</td>\n",
       "      <td>418.920437</td>\n",
       "      <td>417.564697</td>\n",
       "      <td>413.683512</td>\n",
       "      <td>420.787815</td>\n",
       "      <td>419.442844</td>\n",
       "    </tr>\n",
       "    <tr>\n",
       "      <th>2</th>\n",
       "      <td>426.958605</td>\n",
       "      <td>420.257080</td>\n",
       "      <td>438.233968</td>\n",
       "      <td>416.284749</td>\n",
       "      <td>417.228814</td>\n",
       "      <td>420.534559</td>\n",
       "      <td>412.979194</td>\n",
       "      <td>413.131402</td>\n",
       "      <td>414.956109</td>\n",
       "      <td>414.506293</td>\n",
       "      <td>411.804823</td>\n",
       "    </tr>\n",
       "    <tr>\n",
       "      <th>3</th>\n",
       "      <td>475.946940</td>\n",
       "      <td>416.814860</td>\n",
       "      <td>415.389323</td>\n",
       "      <td>429.410645</td>\n",
       "      <td>419.790473</td>\n",
       "      <td>416.250271</td>\n",
       "      <td>417.687093</td>\n",
       "      <td>419.259630</td>\n",
       "      <td>420.821018</td>\n",
       "      <td>414.904541</td>\n",
       "      <td>416.465196</td>\n",
       "    </tr>\n",
       "    <tr>\n",
       "      <th>4</th>\n",
       "      <td>425.631917</td>\n",
       "      <td>425.701362</td>\n",
       "      <td>425.852865</td>\n",
       "      <td>419.825033</td>\n",
       "      <td>413.813829</td>\n",
       "      <td>417.974745</td>\n",
       "      <td>433.943251</td>\n",
       "      <td>419.367974</td>\n",
       "      <td>418.894992</td>\n",
       "      <td>422.197049</td>\n",
       "      <td>421.326443</td>\n",
       "    </tr>\n",
       "    <tr>\n",
       "      <th>5</th>\n",
       "      <td>443.108887</td>\n",
       "      <td>428.900689</td>\n",
       "      <td>424.330973</td>\n",
       "      <td>419.819553</td>\n",
       "      <td>417.742567</td>\n",
       "      <td>419.675456</td>\n",
       "      <td>414.659153</td>\n",
       "      <td>412.056179</td>\n",
       "      <td>414.322537</td>\n",
       "      <td>419.097059</td>\n",
       "      <td>420.914958</td>\n",
       "    </tr>\n",
       "    <tr>\n",
       "      <th>6</th>\n",
       "      <td>434.503309</td>\n",
       "      <td>416.334120</td>\n",
       "      <td>422.178006</td>\n",
       "      <td>422.800591</td>\n",
       "      <td>415.001383</td>\n",
       "      <td>412.537950</td>\n",
       "      <td>423.775228</td>\n",
       "      <td>423.400662</td>\n",
       "      <td>413.977892</td>\n",
       "      <td>414.709364</td>\n",
       "      <td>413.827257</td>\n",
       "    </tr>\n",
       "    <tr>\n",
       "      <th>7</th>\n",
       "      <td>649.308268</td>\n",
       "      <td>415.628635</td>\n",
       "      <td>425.748183</td>\n",
       "      <td>426.778863</td>\n",
       "      <td>417.855577</td>\n",
       "      <td>414.251438</td>\n",
       "      <td>417.900228</td>\n",
       "      <td>420.211480</td>\n",
       "      <td>423.400174</td>\n",
       "      <td>417.416368</td>\n",
       "      <td>419.749647</td>\n",
       "    </tr>\n",
       "    <tr>\n",
       "      <th>8</th>\n",
       "      <td>463.165337</td>\n",
       "      <td>422.396023</td>\n",
       "      <td>417.550890</td>\n",
       "      <td>421.154514</td>\n",
       "      <td>417.621039</td>\n",
       "      <td>417.316135</td>\n",
       "      <td>416.649577</td>\n",
       "      <td>413.504015</td>\n",
       "      <td>420.010118</td>\n",
       "      <td>415.072211</td>\n",
       "      <td>423.148220</td>\n",
       "    </tr>\n",
       "    <tr>\n",
       "      <th>9</th>\n",
       "      <td>463.023275</td>\n",
       "      <td>421.536675</td>\n",
       "      <td>420.996826</td>\n",
       "      <td>417.953234</td>\n",
       "      <td>418.902154</td>\n",
       "      <td>417.139242</td>\n",
       "      <td>417.663249</td>\n",
       "      <td>416.738308</td>\n",
       "      <td>412.785862</td>\n",
       "      <td>412.148872</td>\n",
       "      <td>418.651666</td>\n",
       "    </tr>\n",
       "  </tbody>\n",
       "</table>\n",
       "</div>"
      ],
      "text/plain": [
       "          0.0         0.1         0.2         0.3         0.4         0.5  \\\n",
       "0  446.837185  415.119819  423.720242  416.589437  422.314372  414.231500   \n",
       "1  448.905599  422.594645  420.177707  428.112467  413.664497  413.892795   \n",
       "2  426.958605  420.257080  438.233968  416.284749  417.228814  420.534559   \n",
       "3  475.946940  416.814860  415.389323  429.410645  419.790473  416.250271   \n",
       "4  425.631917  425.701362  425.852865  419.825033  413.813829  417.974745   \n",
       "5  443.108887  428.900689  424.330973  419.819553  417.742567  419.675456   \n",
       "6  434.503309  416.334120  422.178006  422.800591  415.001383  412.537950   \n",
       "7  649.308268  415.628635  425.748183  426.778863  417.855577  414.251438   \n",
       "8  463.165337  422.396023  417.550890  421.154514  417.621039  417.316135   \n",
       "9  463.023275  421.536675  420.996826  417.953234  418.902154  417.139242   \n",
       "\n",
       "          0.6         0.7         0.8         0.9         1.0  \n",
       "0  417.435737  417.133626  415.988797  416.790771  416.476997  \n",
       "1  418.920437  417.564697  413.683512  420.787815  419.442844  \n",
       "2  412.979194  413.131402  414.956109  414.506293  411.804823  \n",
       "3  417.687093  419.259630  420.821018  414.904541  416.465196  \n",
       "4  433.943251  419.367974  418.894992  422.197049  421.326443  \n",
       "5  414.659153  412.056179  414.322537  419.097059  420.914958  \n",
       "6  423.775228  423.400662  413.977892  414.709364  413.827257  \n",
       "7  417.900228  420.211480  423.400174  417.416368  419.749647  \n",
       "8  416.649577  413.504015  420.010118  415.072211  423.148220  \n",
       "9  417.663249  416.738308  412.785862  412.148872  418.651666  "
      ]
     },
     "execution_count": 59,
     "metadata": {},
     "output_type": "execute_result"
    }
   ],
   "source": [
    "final_res_alpha"
   ]
  },
  {
   "cell_type": "code",
   "execution_count": 60,
   "metadata": {},
   "outputs": [
    {
     "data": {
      "image/png": "[encoded data removed]",
      "text/plain": [
       "<Figure size 720x432 with 1 Axes>"
      ]
     },
     "metadata": {
      "needs_background": "light"
     },
     "output_type": "display_data"
    }
   ],
   "source": [
    "import seaborn as sns\n",
    "\n",
    "plt.figure(figsize=(10, 6))\n",
    "sns.boxplot(data=final_res_alpha[final_res_alpha[0.0] < 500])\n",
    "plt.xticks(fontsize=22);\n",
    "plt.yticks(fontsize=22);\n",
    "plt.xlabel('Weight of Delay Loss', fontsize=26)\n",
    "plt.ylabel('Result AUC', fontsize=26);\n",
    "plt.grid(axis='y')\n",
    "plt.savefig('compare_alphas.pdf', bbox_inches='tight')"
   ]
  },
  {
   "cell_type": "code",
   "execution_count": null,
   "metadata": {},
   "outputs": [],
   "source": []
  }
 ],
 "metadata": {
  "kernelspec": {
   "display_name": "Python 3",
   "language": "python",
   "name": "python3"
  },
  "language_info": {
   "codemirror_mode": {
    "name": "ipython",
    "version": 3
   },
   "file_extension": ".py",
   "mimetype": "text/x-python",
   "name": "python",
   "nbconvert_exporter": "python",
   "pygments_lexer": "ipython3",
   "version": "3.7.9"
  }
 },
 "nbformat": 4,
 "nbformat_minor": 2
}
