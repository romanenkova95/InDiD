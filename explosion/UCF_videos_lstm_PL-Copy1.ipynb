{
 "cells": [
  {
   "cell_type": "code",
   "execution_count": 1,
   "metadata": {},
   "outputs": [],
   "source": [
    "import os\n",
    "import numpy as np\n",
    "\n",
    "import random\n",
    "random.seed(123)\n",
    "\n",
    "import matplotlib.pyplot as plt\n",
    "%matplotlib inline\n",
    "\n",
    "from tqdm.notebook import tqdm\n",
    "\n",
    "import torch\n",
    "torch.manual_seed(123);\n",
    "\n",
    "import torch.nn as nn\n",
    "from torch.optim import Adam\n",
    "from torch.utils.data import DataLoader\n",
    "\n",
    "from torchvision import transforms\n",
    "\n",
    "import pytorch_lightning as pl\n",
    "\n",
    "import cv2\n",
    "from PIL import Image\n",
    "\n",
    "%load_ext autoreload\n",
    "%autoreload 1\n",
    "%aimport utils_loss\n",
    "%aimport metrics\n",
    "\n",
    "from utils_loss import CustomLoss\n",
    "\n",
    "from pytorch_lightning.callbacks.early_stopping import EarlyStopping\n"
   ]
  },
  {
   "cell_type": "code",
   "execution_count": 2,
   "metadata": {},
   "outputs": [
    {
     "name": "stdout",
     "output_type": "stream",
     "text": [
      "cuda\n"
     ]
    }
   ],
   "source": [
    "device = torch.device('cuda' if torch.cuda.is_available() else 'cpu')\n",
    "print(device)"
   ]
  },
  {
   "cell_type": "markdown",
   "metadata": {},
   "source": [
    "# Dataloader"
   ]
  },
  {
   "cell_type": "code",
   "execution_count": 3,
   "metadata": {},
   "outputs": [],
   "source": [
    "class UCF_VIDEOS_DATASET(torch.utils.data.Dataset):\n",
    "    \n",
    "    def __init__(self, path_to_annotation, path_to_videos, seq_len):\n",
    "        super(UCF_VIDEOS_DATASET, self).__init__()\n",
    "        self.path_to_annotation = path_to_annotation\n",
    "        self.path_to_videos = path_to_videos\n",
    "        self.annotation_array = [] # [video_path, anomaly_frame] if anomaly_frame == -1 normal_video\n",
    "        with open(path_to_annotation, 'r') as fp:\n",
    "            for line in fp:\n",
    "                splited_line = line.split(\"  \")\n",
    "                if(splited_line[1] == \"Explosion\"):\n",
    "                    self.annotation_array.append([splited_line[0], int(splited_line[2])])\n",
    "                if(splited_line[1] == \"Normal\"):\n",
    "                    self.annotation_array.append([splited_line[0], -1])        \n",
    "        self.seq_len = seq_len\n",
    "        \n",
    "    def __len__(self):\n",
    "        return len(self.annotation_array) - 1\n",
    "        \n",
    "    def __getitem__(self, item_idx):\n",
    "        sequence_imgs = []\n",
    "        sequence_labels = []\n",
    "        step_size = 4\n",
    "        frame_block_iter = 0\n",
    "        frame_block_iter_length = 0\n",
    "        frame_counter = 0\n",
    "        video_name = self.annotation_array[item_idx][0]\n",
    "        video_anomaly_frame = self.annotation_array[item_idx][1]\n",
    "        cap = cv2.VideoCapture(os.path.join(self.path_to_videos, video_name))\n",
    "        total_video_frames = cap.get(cv2.CAP_PROP_FRAME_COUNT)\n",
    "        \n",
    "        preprocess = transforms.Compose([\n",
    "                                 transforms.Resize((224, 224)),\n",
    "                                 #transforms.CenterCrop(224),\n",
    "                                 transforms.ToTensor(),\n",
    "                                 #transforms.Normalize(mean=[0.485, 0.456, 0.406], std=[0.229, 0.224, 0.225]),\n",
    "                                 ])\n",
    "        \n",
    "        if video_anomaly_frame == -1:\n",
    "            video_normal_frame = random.randint(int(total_video_frames / 4) , int(total_video_frames *3/4))\n",
    "#             left_frames_length = video_normal_frame - 0\n",
    "#             right_frames_length = total_video_frames - video_normal_frame\n",
    "            start_frame = video_normal_frame\n",
    "            cap.set(cv2.CAP_PROP_POS_FRAMES, start_frame)\n",
    "            while True:\n",
    "                ret, frame = cap.read()\n",
    "                if(frame_block_iter % step_size == 0):\n",
    "                    frame_rgb = cv2.cvtColor(frame, cv2.COLOR_BGR2RGB)\n",
    "                    frame_pil = Image.fromarray(frame_rgb)\n",
    "                    \n",
    "                    sequence_labels.append(0)\n",
    "        \n",
    "                    sequence_imgs.append(preprocess(frame_pil)) \n",
    "                    \n",
    "                    frame_block_iter = 0\n",
    "                    frame_block_iter_length += 1\n",
    "                frame_block_iter += 1\n",
    "                if(frame_block_iter_length == self.seq_len): break\n",
    "            \n",
    "        if video_anomaly_frame != -1:\n",
    "            left_frames_length = video_anomaly_frame - 0\n",
    "            right_frames_length = total_video_frames - video_anomaly_frame\n",
    "            # Если края меньше 4 секунд(В Explosion минимальная длина 9 секунд).\n",
    "            # Так что максимальная длина 16 seq_len\n",
    "            start_frame_delta = random.randint(0, ((self.seq_len - 1)  * step_size) - 1 ) + 1\n",
    "            start_frame = video_anomaly_frame - start_frame_delta\n",
    "            if left_frames_length < 4 * 30:\n",
    "                start_frame_delta = random.randint(0, 19) + 1\n",
    "                start_frame = video_anomaly_frame - start_frame_delta\n",
    "                cap.set(cv2.CAP_PROP_POS_FRAMES, start_frame)\n",
    "            if left_frames_length < 4 * 30:\n",
    "                start_frame_delta = random.randint((self.seq_len * step_size) - 20, (self.seq_len * step_size))\n",
    "                start_frame = video_anomaly_frame - start_frame_delta\n",
    "                cap.set(cv2.CAP_PROP_POS_FRAMES, start_frame)\n",
    "            cap.set(cv2.CAP_PROP_POS_FRAMES, start_frame)\n",
    "            frame_counter = start_frame\n",
    "            while True:\n",
    "                ret, frame = cap.read()\n",
    "                if(frame_block_iter % step_size == 0):\n",
    "                    frame_rgb = cv2.cvtColor(frame, cv2.COLOR_BGR2RGB)\n",
    "                    frame_pil = Image.fromarray(frame_rgb)\n",
    "                    \n",
    "                    if(frame_counter < video_anomaly_frame):\n",
    "                         sequence_labels.append(0)\n",
    "                    else:\n",
    "                        sequence_labels.append(1)\n",
    "                        \n",
    "                    sequence_imgs.append(preprocess(frame_pil)) \n",
    "                    \n",
    "                    frame_block_iter = 0\n",
    "                    frame_block_iter_length += 1\n",
    "                frame_block_iter += 1\n",
    "                frame_counter += 1\n",
    "                #print(frame_block_iter_length)\n",
    "                if(frame_block_iter_length == self.seq_len): break\n",
    "\n",
    "        sequence_labels = np.asarray(sequence_labels)\n",
    "        sequence_labels = torch.from_numpy(sequence_labels)\n",
    "\n",
    "        sequence_imgs = torch.stack(sequence_imgs)\n",
    "        \n",
    "        return sequence_imgs, sequence_labels"
   ]
  },
  {
   "cell_type": "markdown",
   "metadata": {},
   "source": [
    "# Models"
   ]
  },
  {
   "cell_type": "code",
   "execution_count": 12,
   "metadata": {},
   "outputs": [
    {
     "name": "stderr",
     "output_type": "stream",
     "text": [
      "Using cache found in /home/eromanenkova/.cache/torch/hub/pytorch_vision_v0.6.0\n"
     ]
    }
   ],
   "source": [
    "HIDDEN_CNN = 32\n",
    "HIDDEN_LSTM = HIDDEN_CNN * 2\n",
    "\n",
    "class FullyConnected(torch.nn.Module):\n",
    "    def __init__(self, input_size=1280):\n",
    "        super(FullyConnected, self).__init__()\n",
    "        self.clas_block1 = nn.Sequential(\n",
    "            nn.Dropout2d(0.2),\n",
    "            nn.Linear(input_size, HIDDEN_CNN)\n",
    "        )\n",
    "        \n",
    "    def forward(self, x):\n",
    "        x = self.clas_block1(x)\n",
    "        return x.view(-1, HIDDEN_CNN)\n",
    "\n",
    "\n",
    "class Combine(nn.Module):\n",
    "    def __init__(self):\n",
    "        super(Combine, self).__init__()\n",
    "        \n",
    "        #self.cnn = mobile_net_v2\n",
    "        self.cnn = nn.Sequential(*list(mobile_net_v2.features.children())[:6])\n",
    "        #self.classifier = FullyConnected(input_size=HIDDEN_CNN)\n",
    "        self.rnn = nn.LSTM(\n",
    "            input_size=HIDDEN_CNN,  # 1280 if conv block mobile net used\n",
    "            hidden_size=HIDDEN_LSTM, \n",
    "            num_layers=1,\n",
    "            batch_first=True, \n",
    "            dropout=0.1)\n",
    "        #self.rnn = nn.GRU(\n",
    "        #    input_size=HIDDEN_CNN,  # 1280 if conv block mobile net used\n",
    "        #    hidden_size=HIDDEN_LSTM, \n",
    "        #    num_layers=1,\n",
    "        #    batch_first=True, \n",
    "        #    dropout=0.5)            \n",
    "        \n",
    "        self.linear = nn.Linear(HIDDEN_LSTM, 1)      \n",
    "        self.dropout = nn.Dropout(0.5)\n",
    "        self.relu = nn.ReLU()  \n",
    "        self.activation = nn.Sigmoid()        \n",
    "\n",
    "    def forward(self, x):\n",
    "        batch_size, timesteps, C, H, W = x.size()\n",
    "        c_in = x.view(batch_size * timesteps, C, H, W)\n",
    "        c_out = self.cnn(c_in)\n",
    "        c_out = nn.functional.adaptive_avg_pool2d(c_out, (1, 1))\n",
    "        c_out = torch.flatten(c_out, 1)\n",
    "        #c_out = self.classifier(c_out)\n",
    "        r_in = c_out.view(batch_size, timesteps, -1)\n",
    "        r_out, _ = self.rnn(r_in)\n",
    "        r_out = r_out.reshape(batch_size * timesteps, -1)\n",
    "        r_out = self.linear(r_out).view(batch_size, timesteps, -1)\n",
    "        out = self.activation(r_out)\n",
    "        return out    \n",
    "    \n",
    "mobile_net_v2 = torch.hub.load('pytorch/vision:v0.6.0', 'mobilenet_v2', pretrained=True)    \n",
    "mobile_net_v2.classifier = FullyConnected()"
   ]
  },
  {
   "cell_type": "code",
   "execution_count": 10,
   "metadata": {},
   "outputs": [],
   "source": [
    "# Test dataset\n",
    "path_to_videos = \"Explosion/\"\n",
    "path_annotation_test = \"UCF_test.txt\"   \n",
    "imgs_dataset_test = UCF_VIDEOS_DATASET(path_annotation_test, path_to_videos, seq_len=16)        \n",
    "test_dataloader = DataLoader(imgs_dataset_test, batch_size=16)"
   ]
  },
  {
   "cell_type": "markdown",
   "metadata": {},
   "source": [
    "# Pytorch Lightning"
   ]
  },
  {
   "cell_type": "code",
   "execution_count": 9,
   "metadata": {},
   "outputs": [],
   "source": [
    "class CPD_model(pl.LightningModule):\n",
    "    def __init__(\n",
    "        self,\n",
    "        model, \n",
    "        batch_size: int = 16,\n",
    "        seq_len: int = 16, \n",
    "        loss_type: str = 'bce',\n",
    "        path_to_videos: str = \"Explosion/\",\n",
    "        path_annotation_train: str = \"UCF_train.txt\",\n",
    "        path_annotation_validation: str = \"UCF_validation.txt\",\n",
    "        \n",
    "    ):\n",
    "        super(CPD_model, self).__init__()\n",
    "\n",
    "        self.model = model.to(self.device)\n",
    "        self.batch_size = batch_size\n",
    "        self.seq_len = seq_len\n",
    "        \n",
    "        if loss_type == 'bce':\n",
    "            self.loss = nn.BCELoss()\n",
    "        else:\n",
    "            self.loss = CustomLoss()\n",
    "            \n",
    "        self.imgs_dataset_train = UCF_VIDEOS_DATASET(path_annotation_train, path_to_videos, \n",
    "                                                     seq_len=self.seq_len)\n",
    "        self.imgs_dataset_validation = UCF_VIDEOS_DATASET(path_annotation_validation, \n",
    "                                                          path_to_videos, seq_len=self.seq_len)        \n",
    "        \n",
    "    def forward(self, inputs):\n",
    "        return self.model(inputs)\n",
    "\n",
    "    def training_step(self, batch, batch_idx):\n",
    "        videos, labels = batch\n",
    "        pred = self.forward(videos.float())\n",
    "\n",
    "        train_loss = self.loss(pred.squeeze(), labels.float().squeeze())\n",
    "        train_accuracy = ((pred.squeeze() > 0.5).long() == labels.squeeze()).float().mean()\n",
    "\n",
    "        self.log('train_loss', train_loss, prog_bar=True, on_epoch=True)\n",
    "        self.log('train_acc', train_accuracy, prog_bar=True, on_epoch=True)    \n",
    "        \n",
    "        return train_loss\n",
    "\n",
    "    def validation_step(self, batch, batch_idx):\n",
    "        videos, labels = batch\n",
    "        pred = self.forward(videos.float())\n",
    "        \n",
    "        val_loss = self.loss(pred.squeeze(), labels.float().squeeze())      \n",
    "        val_accuracy = ((pred.squeeze() > 0.5).long() == labels.squeeze()).float().mean()\n",
    "                \n",
    "        self.log('val_loss', val_loss, prog_bar=True)    \n",
    "        self.log('val_acc', val_accuracy, prog_bar=True)    \n",
    "        \n",
    "        return {'val_loss': val_loss, 'val_acc': val_accuracy}\n",
    "    \n",
    "\n",
    "    def configure_optimizers(self):\n",
    "        opt = torch.optim.Adam(self.model.parameters(), lr=0.01) \n",
    "        return [opt]\n",
    "\n",
    "    def train_dataloader(self):\n",
    "        \n",
    "        train_dataloader = DataLoader(self.imgs_dataset_train, batch_size=self.batch_size)\n",
    "        return train_dataloader\n",
    "        \n",
    "    \n",
    "    def val_dataloader(self):\n",
    "        \n",
    "        val_dataloader = DataLoader(self.imgs_dataset_validation, batch_size=self.batch_size)\n",
    "        return val_dataloader"
   ]
  },
  {
   "cell_type": "markdown",
   "metadata": {},
   "source": [
    "## Model BCE loss"
   ]
  },
  {
   "cell_type": "code",
   "execution_count": 12,
   "metadata": {},
   "outputs": [
    {
     "name": "stderr",
     "output_type": "stream",
     "text": [
      "/home/eromanenkova/anaconda3/lib/python3.7/site-packages/torch/nn/modules/rnn.py:63: UserWarning: dropout option adds dropout after all but last recurrent layer, so non-zero dropout expects num_layers greater than 1, but got dropout=0.5 and num_layers=1\n",
      "  \"num_layers={}\".format(dropout, num_layers))\n",
      "GPU available: True, used: True\n",
      "TPU available: False, using: 0 TPU cores\n"
     ]
    }
   ],
   "source": [
    "\n",
    "model_bce = Combine()\n",
    "\n",
    "# CNT = 157 if use all \n",
    "\n",
    "for param in model_bce.cnn.parameters():\n",
    "    param.requires_grad = False\n",
    "\n",
    "#cnt = 0\n",
    "#for param in model_bce.parameters():\n",
    "#    cnt+=1\n",
    "#    if(cnt==157): break   # 18 to freeze all mobile net block\n",
    "#    param.requires_grad = False\n",
    "    \n",
    "    \n",
    "model_bce_pl = CPD_model(model=model_bce, batch_size=16, seq_len=16, loss_type='bce')    \n",
    "\n",
    "experiment_name = 'bce_loss'\n",
    "logger = pl.loggers.TensorBoardLogger(save_dir='logs/', name=experiment_name)\n",
    "\n",
    "checkpoint_callback = pl.callbacks.ModelCheckpoint(\n",
    "    monitor='val_loss',\n",
    "    dirpath=f'logs/{experiment_name}',\n",
    "    filename='{epoch:02d}-{val_loss:.3f}',\n",
    "    mode='min')\n",
    "\n",
    "early_stop_callback = EarlyStopping(\n",
    "   monitor='val_loss',\n",
    "   min_delta=0.00,\n",
    "   patience=5,\n",
    "   verbose=False,\n",
    "   mode='min'\n",
    ")\n",
    "\n",
    "trainer_bce = pl.Trainer(\n",
    "    max_epochs=40, \n",
    "    gpus='0', \n",
    "    benchmark=True, \n",
    "    check_val_every_n_epoch=1, \n",
    "    logger=logger,\n",
    "    callbacks=[checkpoint_callback])    "
   ]
  },
  {
   "cell_type": "code",
   "execution_count": 112,
   "metadata": {},
   "outputs": [
    {
     "data": {
      "text/plain": [
       "Reusing TensorBoard on port 2021 (pid 9966), started 1 day, 14:55:21 ago. (Use '!kill 9966' to kill it.)"
      ]
     },
     "metadata": {},
     "output_type": "display_data"
    },
    {
     "data": {
      "text/html": [
       "\n",
       "      <iframe id=\"tensorboard-frame-bb27e345a2d70102\" width=\"100%\" height=\"800\" frameborder=\"0\">\n",
       "      </iframe>\n",
       "      <script>\n",
       "        (function() {\n",
       "          const frame = document.getElementById(\"tensorboard-frame-bb27e345a2d70102\");\n",
       "          const url = new URL(\"/\", window.location);\n",
       "          const port = 2021;\n",
       "          if (port) {\n",
       "            url.port = port;\n",
       "          }\n",
       "          frame.src = url;\n",
       "        })();\n",
       "      </script>\n",
       "    "
      ],
      "text/plain": [
       "<IPython.core.display.HTML object>"
      ]
     },
     "metadata": {},
     "output_type": "display_data"
    }
   ],
   "source": [
    "%load_ext tensorboard \n",
    "%tensorboard --logdir logs --port 2021"
   ]
  },
  {
   "cell_type": "code",
   "execution_count": 113,
   "metadata": {},
   "outputs": [
    {
     "name": "stderr",
     "output_type": "stream",
     "text": [
      "LOCAL_RANK: 0 - CUDA_VISIBLE_DEVICES: [0,1]\n",
      "\n",
      "  | Name  | Type    | Params\n",
      "----------------------------------\n",
      "0 | model | Combine | 65.8 K\n",
      "1 | loss  | BCELoss | 0     \n",
      "----------------------------------\n",
      "25.2 K    Trainable params\n",
      "40.6 K    Non-trainable params\n",
      "65.8 K    Total params\n",
      "0.263     Total estimated model params size (MB)\n"
     ]
    },
    {
     "data": {
      "application/vnd.jupyter.widget-view+json": {
       "model_id": "",
       "version_major": 2,
       "version_minor": 0
      },
      "text/plain": [
       "HBox(children=(HTML(value='Validation sanity check'), FloatProgress(value=1.0, bar_style='info', layout=Layout…"
      ]
     },
     "metadata": {},
     "output_type": "display_data"
    },
    {
     "data": {
      "application/vnd.jupyter.widget-view+json": {
       "model_id": "f736d30486aa4c1f9b44f12e3bbf2445",
       "version_major": 2,
       "version_minor": 0
      },
      "text/plain": [
       "HBox(children=(HTML(value='Training'), FloatProgress(value=1.0, bar_style='info', layout=Layout(flex='2'), max…"
      ]
     },
     "metadata": {},
     "output_type": "display_data"
    },
    {
     "data": {
      "application/vnd.jupyter.widget-view+json": {
       "model_id": "",
       "version_major": 2,
       "version_minor": 0
      },
      "text/plain": [
       "HBox(children=(HTML(value='Validating'), FloatProgress(value=1.0, bar_style='info', layout=Layout(flex='2'), m…"
      ]
     },
     "metadata": {},
     "output_type": "display_data"
    },
    {
     "data": {
      "application/vnd.jupyter.widget-view+json": {
       "model_id": "",
       "version_major": 2,
       "version_minor": 0
      },
      "text/plain": [
       "HBox(children=(HTML(value='Validating'), FloatProgress(value=1.0, bar_style='info', layout=Layout(flex='2'), m…"
      ]
     },
     "metadata": {},
     "output_type": "display_data"
    },
    {
     "data": {
      "application/vnd.jupyter.widget-view+json": {
       "model_id": "",
       "version_major": 2,
       "version_minor": 0
      },
      "text/plain": [
       "HBox(children=(HTML(value='Validating'), FloatProgress(value=1.0, bar_style='info', layout=Layout(flex='2'), m…"
      ]
     },
     "metadata": {},
     "output_type": "display_data"
    }
   ],
   "source": [
    "trainer_bce.fit(model_bce_pl)"
   ]
  },
  {
   "cell_type": "code",
   "execution_count": 15,
   "metadata": {},
   "outputs": [],
   "source": [
    "# Test dataset\n",
    "path_to_videos = \"Explosion/\"\n",
    "path_annotation_test = \"UCF_test.txt\"   \n",
    "imgs_dataset_test = UCF_VIDEOS_DATASET(path_annotation_test, path_to_videos, seq_len=16)        \n",
    "test_dataloader = DataLoader(imgs_dataset_test, batch_size=16)"
   ]
  },
  {
   "cell_type": "markdown",
   "metadata": {},
   "source": [
    "## Model CUSTOM loss"
   ]
  },
  {
   "cell_type": "code",
   "execution_count": 13,
   "metadata": {},
   "outputs": [
    {
     "name": "stderr",
     "output_type": "stream",
     "text": [
      "/home/eromanenkova/anaconda3/lib/python3.7/site-packages/torch/nn/modules/rnn.py:63: UserWarning: dropout option adds dropout after all but last recurrent layer, so non-zero dropout expects num_layers greater than 1, but got dropout=0.1 and num_layers=1\n",
      "  \"num_layers={}\".format(dropout, num_layers))\n",
      "GPU available: True, used: True\n",
      "TPU available: False, using: 0 TPU cores\n"
     ]
    }
   ],
   "source": [
    "model_custom = Combine()\n",
    "for param in model_custom.cnn.parameters():\n",
    "    param.requires_grad = False\n",
    "    \n",
    "model_custom_pl = CPD_model(model=model_custom, batch_size=32, seq_len=16, loss_type='custom')    \n",
    "\n",
    "experiment_name = 'custom_loss'\n",
    "logger = pl.loggers.TensorBoardLogger(save_dir='logs/', name=experiment_name)\n",
    "\n",
    "checkpoint_callback = pl.callbacks.ModelCheckpoint(\n",
    "    monitor='val_loss',\n",
    "    dirpath=f'logs/{experiment_name}',\n",
    "    filename='{epoch:02d}-{val_loss:.3f}',\n",
    "    mode='min')\n",
    "\n",
    "early_stop_callback = EarlyStopping(\n",
    "   monitor='val_loss',\n",
    "   min_delta=0.00,\n",
    "   patience=10,\n",
    "   verbose=False,\n",
    "   mode='min'\n",
    ")\n",
    "\n",
    "trainer_custom = pl.Trainer(\n",
    "    max_epochs=60, \n",
    "    gpus='0', \n",
    "    benchmark=True, \n",
    "    check_val_every_n_epoch=1, \n",
    "    logger=logger,\n",
    "    callbacks=[checkpoint_callback])    "
   ]
  },
  {
   "cell_type": "code",
   "execution_count": 14,
   "metadata": {},
   "outputs": [
    {
     "name": "stderr",
     "output_type": "stream",
     "text": [
      "LOCAL_RANK: 0 - CUDA_VISIBLE_DEVICES: [0,1]\n",
      "\n",
      "  | Name  | Type       | Params\n",
      "-------------------------------------\n",
      "0 | model | Combine    | 65.8 K\n",
      "1 | loss  | CustomLoss | 0     \n",
      "-------------------------------------\n",
      "25.2 K    Trainable params\n",
      "40.6 K    Non-trainable params\n",
      "65.8 K    Total params\n",
      "0.263     Total estimated model params size (MB)\n"
     ]
    },
    {
     "data": {
      "application/vnd.jupyter.widget-view+json": {
       "model_id": "",
       "version_major": 2,
       "version_minor": 0
      },
      "text/plain": [
       "HBox(children=(HTML(value='Validation sanity check'), FloatProgress(value=1.0, bar_style='info', layout=Layout…"
      ]
     },
     "metadata": {},
     "output_type": "display_data"
    },
    {
     "data": {
      "application/vnd.jupyter.widget-view+json": {
       "model_id": "e5204690d3ad46ef92b36a13c63143c1",
       "version_major": 2,
       "version_minor": 0
      },
      "text/plain": [
       "HBox(children=(HTML(value='Training'), FloatProgress(value=1.0, bar_style='info', layout=Layout(flex='2'), max…"
      ]
     },
     "metadata": {},
     "output_type": "display_data"
    },
    {
     "data": {
      "application/vnd.jupyter.widget-view+json": {
       "model_id": "",
       "version_major": 2,
       "version_minor": 0
      },
      "text/plain": [
       "HBox(children=(HTML(value='Validating'), FloatProgress(value=1.0, bar_style='info', layout=Layout(flex='2'), m…"
      ]
     },
     "metadata": {},
     "output_type": "display_data"
    },
    {
     "data": {
      "application/vnd.jupyter.widget-view+json": {
       "model_id": "",
       "version_major": 2,
       "version_minor": 0
      },
      "text/plain": [
       "HBox(children=(HTML(value='Validating'), FloatProgress(value=1.0, bar_style='info', layout=Layout(flex='2'), m…"
      ]
     },
     "metadata": {},
     "output_type": "display_data"
    },
    {
     "data": {
      "application/vnd.jupyter.widget-view+json": {
       "model_id": "",
       "version_major": 2,
       "version_minor": 0
      },
      "text/plain": [
       "HBox(children=(HTML(value='Validating'), FloatProgress(value=1.0, bar_style='info', layout=Layout(flex='2'), m…"
      ]
     },
     "metadata": {},
     "output_type": "display_data"
    },
    {
     "data": {
      "application/vnd.jupyter.widget-view+json": {
       "model_id": "",
       "version_major": 2,
       "version_minor": 0
      },
      "text/plain": [
       "HBox(children=(HTML(value='Validating'), FloatProgress(value=1.0, bar_style='info', layout=Layout(flex='2'), m…"
      ]
     },
     "metadata": {},
     "output_type": "display_data"
    },
    {
     "data": {
      "application/vnd.jupyter.widget-view+json": {
       "model_id": "",
       "version_major": 2,
       "version_minor": 0
      },
      "text/plain": [
       "HBox(children=(HTML(value='Validating'), FloatProgress(value=1.0, bar_style='info', layout=Layout(flex='2'), m…"
      ]
     },
     "metadata": {},
     "output_type": "display_data"
    },
    {
     "data": {
      "application/vnd.jupyter.widget-view+json": {
       "model_id": "",
       "version_major": 2,
       "version_minor": 0
      },
      "text/plain": [
       "HBox(children=(HTML(value='Validating'), FloatProgress(value=1.0, bar_style='info', layout=Layout(flex='2'), m…"
      ]
     },
     "metadata": {},
     "output_type": "display_data"
    },
    {
     "data": {
      "application/vnd.jupyter.widget-view+json": {
       "model_id": "",
       "version_major": 2,
       "version_minor": 0
      },
      "text/plain": [
       "HBox(children=(HTML(value='Validating'), FloatProgress(value=1.0, bar_style='info', layout=Layout(flex='2'), m…"
      ]
     },
     "metadata": {},
     "output_type": "display_data"
    },
    {
     "data": {
      "application/vnd.jupyter.widget-view+json": {
       "model_id": "",
       "version_major": 2,
       "version_minor": 0
      },
      "text/plain": [
       "HBox(children=(HTML(value='Validating'), FloatProgress(value=1.0, bar_style='info', layout=Layout(flex='2'), m…"
      ]
     },
     "metadata": {},
     "output_type": "display_data"
    },
    {
     "data": {
      "application/vnd.jupyter.widget-view+json": {
       "model_id": "",
       "version_major": 2,
       "version_minor": 0
      },
      "text/plain": [
       "HBox(children=(HTML(value='Validating'), FloatProgress(value=1.0, bar_style='info', layout=Layout(flex='2'), m…"
      ]
     },
     "metadata": {},
     "output_type": "display_data"
    },
    {
     "data": {
      "application/vnd.jupyter.widget-view+json": {
       "model_id": "",
       "version_major": 2,
       "version_minor": 0
      },
      "text/plain": [
       "HBox(children=(HTML(value='Validating'), FloatProgress(value=1.0, bar_style='info', layout=Layout(flex='2'), m…"
      ]
     },
     "metadata": {},
     "output_type": "display_data"
    },
    {
     "data": {
      "application/vnd.jupyter.widget-view+json": {
       "model_id": "",
       "version_major": 2,
       "version_minor": 0
      },
      "text/plain": [
       "HBox(children=(HTML(value='Validating'), FloatProgress(value=1.0, bar_style='info', layout=Layout(flex='2'), m…"
      ]
     },
     "metadata": {},
     "output_type": "display_data"
    },
    {
     "data": {
      "application/vnd.jupyter.widget-view+json": {
       "model_id": "",
       "version_major": 2,
       "version_minor": 0
      },
      "text/plain": [
       "HBox(children=(HTML(value='Validating'), FloatProgress(value=1.0, bar_style='info', layout=Layout(flex='2'), m…"
      ]
     },
     "metadata": {},
     "output_type": "display_data"
    },
    {
     "data": {
      "application/vnd.jupyter.widget-view+json": {
       "model_id": "",
       "version_major": 2,
       "version_minor": 0
      },
      "text/plain": [
       "HBox(children=(HTML(value='Validating'), FloatProgress(value=1.0, bar_style='info', layout=Layout(flex='2'), m…"
      ]
     },
     "metadata": {},
     "output_type": "display_data"
    },
    {
     "data": {
      "application/vnd.jupyter.widget-view+json": {
       "model_id": "",
       "version_major": 2,
       "version_minor": 0
      },
      "text/plain": [
       "HBox(children=(HTML(value='Validating'), FloatProgress(value=1.0, bar_style='info', layout=Layout(flex='2'), m…"
      ]
     },
     "metadata": {},
     "output_type": "display_data"
    },
    {
     "data": {
      "application/vnd.jupyter.widget-view+json": {
       "model_id": "",
       "version_major": 2,
       "version_minor": 0
      },
      "text/plain": [
       "HBox(children=(HTML(value='Validating'), FloatProgress(value=1.0, bar_style='info', layout=Layout(flex='2'), m…"
      ]
     },
     "metadata": {},
     "output_type": "display_data"
    },
    {
     "data": {
      "application/vnd.jupyter.widget-view+json": {
       "model_id": "",
       "version_major": 2,
       "version_minor": 0
      },
      "text/plain": [
       "HBox(children=(HTML(value='Validating'), FloatProgress(value=1.0, bar_style='info', layout=Layout(flex='2'), m…"
      ]
     },
     "metadata": {},
     "output_type": "display_data"
    },
    {
     "data": {
      "application/vnd.jupyter.widget-view+json": {
       "model_id": "",
       "version_major": 2,
       "version_minor": 0
      },
      "text/plain": [
       "HBox(children=(HTML(value='Validating'), FloatProgress(value=1.0, bar_style='info', layout=Layout(flex='2'), m…"
      ]
     },
     "metadata": {},
     "output_type": "display_data"
    },
    {
     "data": {
      "application/vnd.jupyter.widget-view+json": {
       "model_id": "",
       "version_major": 2,
       "version_minor": 0
      },
      "text/plain": [
       "HBox(children=(HTML(value='Validating'), FloatProgress(value=1.0, bar_style='info', layout=Layout(flex='2'), m…"
      ]
     },
     "metadata": {},
     "output_type": "display_data"
    },
    {
     "data": {
      "application/vnd.jupyter.widget-view+json": {
       "model_id": "",
       "version_major": 2,
       "version_minor": 0
      },
      "text/plain": [
       "HBox(children=(HTML(value='Validating'), FloatProgress(value=1.0, bar_style='info', layout=Layout(flex='2'), m…"
      ]
     },
     "metadata": {},
     "output_type": "display_data"
    },
    {
     "data": {
      "application/vnd.jupyter.widget-view+json": {
       "model_id": "",
       "version_major": 2,
       "version_minor": 0
      },
      "text/plain": [
       "HBox(children=(HTML(value='Validating'), FloatProgress(value=1.0, bar_style='info', layout=Layout(flex='2'), m…"
      ]
     },
     "metadata": {},
     "output_type": "display_data"
    },
    {
     "data": {
      "application/vnd.jupyter.widget-view+json": {
       "model_id": "",
       "version_major": 2,
       "version_minor": 0
      },
      "text/plain": [
       "HBox(children=(HTML(value='Validating'), FloatProgress(value=1.0, bar_style='info', layout=Layout(flex='2'), m…"
      ]
     },
     "metadata": {},
     "output_type": "display_data"
    },
    {
     "data": {
      "application/vnd.jupyter.widget-view+json": {
       "model_id": "",
       "version_major": 2,
       "version_minor": 0
      },
      "text/plain": [
       "HBox(children=(HTML(value='Validating'), FloatProgress(value=1.0, bar_style='info', layout=Layout(flex='2'), m…"
      ]
     },
     "metadata": {},
     "output_type": "display_data"
    },
    {
     "data": {
      "application/vnd.jupyter.widget-view+json": {
       "model_id": "",
       "version_major": 2,
       "version_minor": 0
      },
      "text/plain": [
       "HBox(children=(HTML(value='Validating'), FloatProgress(value=1.0, bar_style='info', layout=Layout(flex='2'), m…"
      ]
     },
     "metadata": {},
     "output_type": "display_data"
    },
    {
     "data": {
      "application/vnd.jupyter.widget-view+json": {
       "model_id": "",
       "version_major": 2,
       "version_minor": 0
      },
      "text/plain": [
       "HBox(children=(HTML(value='Validating'), FloatProgress(value=1.0, bar_style='info', layout=Layout(flex='2'), m…"
      ]
     },
     "metadata": {},
     "output_type": "display_data"
    },
    {
     "data": {
      "application/vnd.jupyter.widget-view+json": {
       "model_id": "",
       "version_major": 2,
       "version_minor": 0
      },
      "text/plain": [
       "HBox(children=(HTML(value='Validating'), FloatProgress(value=1.0, bar_style='info', layout=Layout(flex='2'), m…"
      ]
     },
     "metadata": {},
     "output_type": "display_data"
    },
    {
     "data": {
      "application/vnd.jupyter.widget-view+json": {
       "model_id": "",
       "version_major": 2,
       "version_minor": 0
      },
      "text/plain": [
       "HBox(children=(HTML(value='Validating'), FloatProgress(value=1.0, bar_style='info', layout=Layout(flex='2'), m…"
      ]
     },
     "metadata": {},
     "output_type": "display_data"
    },
    {
     "data": {
      "application/vnd.jupyter.widget-view+json": {
       "model_id": "",
       "version_major": 2,
       "version_minor": 0
      },
      "text/plain": [
       "HBox(children=(HTML(value='Validating'), FloatProgress(value=1.0, bar_style='info', layout=Layout(flex='2'), m…"
      ]
     },
     "metadata": {},
     "output_type": "display_data"
    },
    {
     "data": {
      "application/vnd.jupyter.widget-view+json": {
       "model_id": "",
       "version_major": 2,
       "version_minor": 0
      },
      "text/plain": [
       "HBox(children=(HTML(value='Validating'), FloatProgress(value=1.0, bar_style='info', layout=Layout(flex='2'), m…"
      ]
     },
     "metadata": {},
     "output_type": "display_data"
    },
    {
     "data": {
      "application/vnd.jupyter.widget-view+json": {
       "model_id": "",
       "version_major": 2,
       "version_minor": 0
      },
      "text/plain": [
       "HBox(children=(HTML(value='Validating'), FloatProgress(value=1.0, bar_style='info', layout=Layout(flex='2'), m…"
      ]
     },
     "metadata": {},
     "output_type": "display_data"
    },
    {
     "data": {
      "application/vnd.jupyter.widget-view+json": {
       "model_id": "",
       "version_major": 2,
       "version_minor": 0
      },
      "text/plain": [
       "HBox(children=(HTML(value='Validating'), FloatProgress(value=1.0, bar_style='info', layout=Layout(flex='2'), m…"
      ]
     },
     "metadata": {},
     "output_type": "display_data"
    },
    {
     "data": {
      "application/vnd.jupyter.widget-view+json": {
       "model_id": "",
       "version_major": 2,
       "version_minor": 0
      },
      "text/plain": [
       "HBox(children=(HTML(value='Validating'), FloatProgress(value=1.0, bar_style='info', layout=Layout(flex='2'), m…"
      ]
     },
     "metadata": {},
     "output_type": "display_data"
    },
    {
     "data": {
      "application/vnd.jupyter.widget-view+json": {
       "model_id": "",
       "version_major": 2,
       "version_minor": 0
      },
      "text/plain": [
       "HBox(children=(HTML(value='Validating'), FloatProgress(value=1.0, bar_style='info', layout=Layout(flex='2'), m…"
      ]
     },
     "metadata": {},
     "output_type": "display_data"
    },
    {
     "data": {
      "application/vnd.jupyter.widget-view+json": {
       "model_id": "",
       "version_major": 2,
       "version_minor": 0
      },
      "text/plain": [
       "HBox(children=(HTML(value='Validating'), FloatProgress(value=1.0, bar_style='info', layout=Layout(flex='2'), m…"
      ]
     },
     "metadata": {},
     "output_type": "display_data"
    },
    {
     "data": {
      "application/vnd.jupyter.widget-view+json": {
       "model_id": "",
       "version_major": 2,
       "version_minor": 0
      },
      "text/plain": [
       "HBox(children=(HTML(value='Validating'), FloatProgress(value=1.0, bar_style='info', layout=Layout(flex='2'), m…"
      ]
     },
     "metadata": {},
     "output_type": "display_data"
    }
   ],
   "source": [
    "trainer_custom.fit(model_custom_pl)"
   ]
  },
  {
   "cell_type": "markdown",
   "metadata": {},
   "source": [
    "## Model COMBINED loss"
   ]
  },
  {
   "cell_type": "code",
   "execution_count": 25,
   "metadata": {},
   "outputs": [
    {
     "name": "stderr",
     "output_type": "stream",
     "text": [
      "GPU available: True, used: True\n",
      "TPU available: False, using: 0 TPU cores\n"
     ]
    }
   ],
   "source": [
    "model_combined = Combine()\n",
    "for param in model_combined.cnn.parameters():\n",
    "    param.requires_grad = False    \n",
    "\n",
    "experiment_name = 'combined'\n",
    "logger = pl.loggers.TensorBoardLogger(save_dir='logs/', name=experiment_name)\n",
    "\n",
    "checkpoint_callback = pl.callbacks.ModelCheckpoint(\n",
    "    monitor='val_loss',\n",
    "    dirpath=f'logs/{experiment_name}',\n",
    "    filename='{epoch:02d}-{val_loss:.3f}',\n",
    "    mode='min')\n",
    "\n",
    "model_combined_pl_1 = CPD_model(model=model_combined, batch_size=16, seq_len=16, loss_type='bce')    \n",
    "\n",
    "trainer_combined_1 = pl.Trainer(\n",
    "    max_epochs=20, \n",
    "    gpus='0', \n",
    "    benchmark=True, \n",
    "    check_val_every_n_epoch=1, \n",
    "    logger=logger,\n",
    "    callbacks=[checkpoint_callback])    "
   ]
  },
  {
   "cell_type": "code",
   "execution_count": 26,
   "metadata": {},
   "outputs": [
    {
     "name": "stderr",
     "output_type": "stream",
     "text": [
      "LOCAL_RANK: 0 - CUDA_VISIBLE_DEVICES: [0,1]\n",
      "\n",
      "  | Name  | Type    | Params\n",
      "----------------------------------\n",
      "0 | model | Combine | 93.3 K\n",
      "1 | loss  | BCELoss | 0     \n",
      "----------------------------------\n",
      "16.7 K    Trainable params\n",
      "76.5 K    Non-trainable params\n",
      "93.3 K    Total params\n",
      "0.373     Total estimated model params size (MB)\n"
     ]
    },
    {
     "data": {
      "application/vnd.jupyter.widget-view+json": {
       "model_id": "",
       "version_major": 2,
       "version_minor": 0
      },
      "text/plain": [
       "HBox(children=(HTML(value='Validation sanity check'), FloatProgress(value=1.0, bar_style='info', layout=Layout…"
      ]
     },
     "metadata": {},
     "output_type": "display_data"
    },
    {
     "data": {
      "application/vnd.jupyter.widget-view+json": {
       "model_id": "136de093c6894db2946c7e9e0af23ed8",
       "version_major": 2,
       "version_minor": 0
      },
      "text/plain": [
       "HBox(children=(HTML(value='Training'), FloatProgress(value=1.0, bar_style='info', layout=Layout(flex='2'), max…"
      ]
     },
     "metadata": {},
     "output_type": "display_data"
    },
    {
     "data": {
      "application/vnd.jupyter.widget-view+json": {
       "model_id": "",
       "version_major": 2,
       "version_minor": 0
      },
      "text/plain": [
       "HBox(children=(HTML(value='Validating'), FloatProgress(value=1.0, bar_style='info', layout=Layout(flex='2'), m…"
      ]
     },
     "metadata": {},
     "output_type": "display_data"
    },
    {
     "data": {
      "application/vnd.jupyter.widget-view+json": {
       "model_id": "",
       "version_major": 2,
       "version_minor": 0
      },
      "text/plain": [
       "HBox(children=(HTML(value='Validating'), FloatProgress(value=1.0, bar_style='info', layout=Layout(flex='2'), m…"
      ]
     },
     "metadata": {},
     "output_type": "display_data"
    },
    {
     "data": {
      "application/vnd.jupyter.widget-view+json": {
       "model_id": "",
       "version_major": 2,
       "version_minor": 0
      },
      "text/plain": [
       "HBox(children=(HTML(value='Validating'), FloatProgress(value=1.0, bar_style='info', layout=Layout(flex='2'), m…"
      ]
     },
     "metadata": {},
     "output_type": "display_data"
    },
    {
     "data": {
      "application/vnd.jupyter.widget-view+json": {
       "model_id": "",
       "version_major": 2,
       "version_minor": 0
      },
      "text/plain": [
       "HBox(children=(HTML(value='Validating'), FloatProgress(value=1.0, bar_style='info', layout=Layout(flex='2'), m…"
      ]
     },
     "metadata": {},
     "output_type": "display_data"
    },
    {
     "data": {
      "application/vnd.jupyter.widget-view+json": {
       "model_id": "",
       "version_major": 2,
       "version_minor": 0
      },
      "text/plain": [
       "HBox(children=(HTML(value='Validating'), FloatProgress(value=1.0, bar_style='info', layout=Layout(flex='2'), m…"
      ]
     },
     "metadata": {},
     "output_type": "display_data"
    },
    {
     "data": {
      "application/vnd.jupyter.widget-view+json": {
       "model_id": "",
       "version_major": 2,
       "version_minor": 0
      },
      "text/plain": [
       "HBox(children=(HTML(value='Validating'), FloatProgress(value=1.0, bar_style='info', layout=Layout(flex='2'), m…"
      ]
     },
     "metadata": {},
     "output_type": "display_data"
    },
    {
     "data": {
      "application/vnd.jupyter.widget-view+json": {
       "model_id": "",
       "version_major": 2,
       "version_minor": 0
      },
      "text/plain": [
       "HBox(children=(HTML(value='Validating'), FloatProgress(value=1.0, bar_style='info', layout=Layout(flex='2'), m…"
      ]
     },
     "metadata": {},
     "output_type": "display_data"
    },
    {
     "data": {
      "application/vnd.jupyter.widget-view+json": {
       "model_id": "",
       "version_major": 2,
       "version_minor": 0
      },
      "text/plain": [
       "HBox(children=(HTML(value='Validating'), FloatProgress(value=1.0, bar_style='info', layout=Layout(flex='2'), m…"
      ]
     },
     "metadata": {},
     "output_type": "display_data"
    },
    {
     "data": {
      "application/vnd.jupyter.widget-view+json": {
       "model_id": "",
       "version_major": 2,
       "version_minor": 0
      },
      "text/plain": [
       "HBox(children=(HTML(value='Validating'), FloatProgress(value=1.0, bar_style='info', layout=Layout(flex='2'), m…"
      ]
     },
     "metadata": {},
     "output_type": "display_data"
    },
    {
     "data": {
      "application/vnd.jupyter.widget-view+json": {
       "model_id": "",
       "version_major": 2,
       "version_minor": 0
      },
      "text/plain": [
       "HBox(children=(HTML(value='Validating'), FloatProgress(value=1.0, bar_style='info', layout=Layout(flex='2'), m…"
      ]
     },
     "metadata": {},
     "output_type": "display_data"
    },
    {
     "data": {
      "application/vnd.jupyter.widget-view+json": {
       "model_id": "",
       "version_major": 2,
       "version_minor": 0
      },
      "text/plain": [
       "HBox(children=(HTML(value='Validating'), FloatProgress(value=1.0, bar_style='info', layout=Layout(flex='2'), m…"
      ]
     },
     "metadata": {},
     "output_type": "display_data"
    },
    {
     "data": {
      "application/vnd.jupyter.widget-view+json": {
       "model_id": "",
       "version_major": 2,
       "version_minor": 0
      },
      "text/plain": [
       "HBox(children=(HTML(value='Validating'), FloatProgress(value=1.0, bar_style='info', layout=Layout(flex='2'), m…"
      ]
     },
     "metadata": {},
     "output_type": "display_data"
    },
    {
     "data": {
      "application/vnd.jupyter.widget-view+json": {
       "model_id": "",
       "version_major": 2,
       "version_minor": 0
      },
      "text/plain": [
       "HBox(children=(HTML(value='Validating'), FloatProgress(value=1.0, bar_style='info', layout=Layout(flex='2'), m…"
      ]
     },
     "metadata": {},
     "output_type": "display_data"
    },
    {
     "data": {
      "application/vnd.jupyter.widget-view+json": {
       "model_id": "",
       "version_major": 2,
       "version_minor": 0
      },
      "text/plain": [
       "HBox(children=(HTML(value='Validating'), FloatProgress(value=1.0, bar_style='info', layout=Layout(flex='2'), m…"
      ]
     },
     "metadata": {},
     "output_type": "display_data"
    },
    {
     "data": {
      "application/vnd.jupyter.widget-view+json": {
       "model_id": "",
       "version_major": 2,
       "version_minor": 0
      },
      "text/plain": [
       "HBox(children=(HTML(value='Validating'), FloatProgress(value=1.0, bar_style='info', layout=Layout(flex='2'), m…"
      ]
     },
     "metadata": {},
     "output_type": "display_data"
    },
    {
     "data": {
      "application/vnd.jupyter.widget-view+json": {
       "model_id": "",
       "version_major": 2,
       "version_minor": 0
      },
      "text/plain": [
       "HBox(children=(HTML(value='Validating'), FloatProgress(value=1.0, bar_style='info', layout=Layout(flex='2'), m…"
      ]
     },
     "metadata": {},
     "output_type": "display_data"
    },
    {
     "data": {
      "application/vnd.jupyter.widget-view+json": {
       "model_id": "",
       "version_major": 2,
       "version_minor": 0
      },
      "text/plain": [
       "HBox(children=(HTML(value='Validating'), FloatProgress(value=1.0, bar_style='info', layout=Layout(flex='2'), m…"
      ]
     },
     "metadata": {},
     "output_type": "display_data"
    },
    {
     "data": {
      "application/vnd.jupyter.widget-view+json": {
       "model_id": "",
       "version_major": 2,
       "version_minor": 0
      },
      "text/plain": [
       "HBox(children=(HTML(value='Validating'), FloatProgress(value=1.0, bar_style='info', layout=Layout(flex='2'), m…"
      ]
     },
     "metadata": {},
     "output_type": "display_data"
    },
    {
     "data": {
      "application/vnd.jupyter.widget-view+json": {
       "model_id": "",
       "version_major": 2,
       "version_minor": 0
      },
      "text/plain": [
       "HBox(children=(HTML(value='Validating'), FloatProgress(value=1.0, bar_style='info', layout=Layout(flex='2'), m…"
      ]
     },
     "metadata": {},
     "output_type": "display_data"
    },
    {
     "data": {
      "application/vnd.jupyter.widget-view+json": {
       "model_id": "",
       "version_major": 2,
       "version_minor": 0
      },
      "text/plain": [
       "HBox(children=(HTML(value='Validating'), FloatProgress(value=1.0, bar_style='info', layout=Layout(flex='2'), m…"
      ]
     },
     "metadata": {},
     "output_type": "display_data"
    },
    {
     "name": "stdout",
     "output_type": "stream",
     "text": [
      "\n"
     ]
    }
   ],
   "source": [
    "trainer_combined_1.fit(model_combined_pl_1)"
   ]
  },
  {
   "cell_type": "code",
   "execution_count": 27,
   "metadata": {},
   "outputs": [
    {
     "name": "stderr",
     "output_type": "stream",
     "text": [
      "GPU available: True, used: True\n",
      "TPU available: False, using: 0 TPU cores\n"
     ]
    }
   ],
   "source": [
    "model_combined_pl_2 = CPD_model(model=model_combined_pl_1.model.to(device), batch_size=16, seq_len=16, loss_type='custom')    \n",
    "\n",
    "trainer_combined_2 = pl.Trainer(\n",
    "    max_epochs=20, \n",
    "    gpus='0', \n",
    "    benchmark=True, \n",
    "    check_val_every_n_epoch=1, \n",
    "    logger=logger)\n",
    "    #callbacks=[checkpoint_callback])    "
   ]
  },
  {
   "cell_type": "code",
   "execution_count": 28,
   "metadata": {},
   "outputs": [
    {
     "name": "stderr",
     "output_type": "stream",
     "text": [
      "LOCAL_RANK: 0 - CUDA_VISIBLE_DEVICES: [0,1]\n",
      "\n",
      "  | Name  | Type       | Params\n",
      "-------------------------------------\n",
      "0 | model | Combine    | 93.3 K\n",
      "1 | loss  | CustomLoss | 0     \n",
      "-------------------------------------\n",
      "16.7 K    Trainable params\n",
      "76.5 K    Non-trainable params\n",
      "93.3 K    Total params\n",
      "0.373     Total estimated model params size (MB)\n"
     ]
    },
    {
     "data": {
      "application/vnd.jupyter.widget-view+json": {
       "model_id": "",
       "version_major": 2,
       "version_minor": 0
      },
      "text/plain": [
       "HBox(children=(HTML(value='Validation sanity check'), FloatProgress(value=1.0, bar_style='info', layout=Layout…"
      ]
     },
     "metadata": {},
     "output_type": "display_data"
    },
    {
     "data": {
      "application/vnd.jupyter.widget-view+json": {
       "model_id": "be76fdd171f44da1ac59fd64a377276a",
       "version_major": 2,
       "version_minor": 0
      },
      "text/plain": [
       "HBox(children=(HTML(value='Training'), FloatProgress(value=1.0, bar_style='info', layout=Layout(flex='2'), max…"
      ]
     },
     "metadata": {},
     "output_type": "display_data"
    },
    {
     "data": {
      "application/vnd.jupyter.widget-view+json": {
       "model_id": "",
       "version_major": 2,
       "version_minor": 0
      },
      "text/plain": [
       "HBox(children=(HTML(value='Validating'), FloatProgress(value=1.0, bar_style='info', layout=Layout(flex='2'), m…"
      ]
     },
     "metadata": {},
     "output_type": "display_data"
    },
    {
     "data": {
      "application/vnd.jupyter.widget-view+json": {
       "model_id": "",
       "version_major": 2,
       "version_minor": 0
      },
      "text/plain": [
       "HBox(children=(HTML(value='Validating'), FloatProgress(value=1.0, bar_style='info', layout=Layout(flex='2'), m…"
      ]
     },
     "metadata": {},
     "output_type": "display_data"
    },
    {
     "data": {
      "application/vnd.jupyter.widget-view+json": {
       "model_id": "",
       "version_major": 2,
       "version_minor": 0
      },
      "text/plain": [
       "HBox(children=(HTML(value='Validating'), FloatProgress(value=1.0, bar_style='info', layout=Layout(flex='2'), m…"
      ]
     },
     "metadata": {},
     "output_type": "display_data"
    },
    {
     "data": {
      "application/vnd.jupyter.widget-view+json": {
       "model_id": "",
       "version_major": 2,
       "version_minor": 0
      },
      "text/plain": [
       "HBox(children=(HTML(value='Validating'), FloatProgress(value=1.0, bar_style='info', layout=Layout(flex='2'), m…"
      ]
     },
     "metadata": {},
     "output_type": "display_data"
    },
    {
     "data": {
      "application/vnd.jupyter.widget-view+json": {
       "model_id": "",
       "version_major": 2,
       "version_minor": 0
      },
      "text/plain": [
       "HBox(children=(HTML(value='Validating'), FloatProgress(value=1.0, bar_style='info', layout=Layout(flex='2'), m…"
      ]
     },
     "metadata": {},
     "output_type": "display_data"
    },
    {
     "data": {
      "application/vnd.jupyter.widget-view+json": {
       "model_id": "",
       "version_major": 2,
       "version_minor": 0
      },
      "text/plain": [
       "HBox(children=(HTML(value='Validating'), FloatProgress(value=1.0, bar_style='info', layout=Layout(flex='2'), m…"
      ]
     },
     "metadata": {},
     "output_type": "display_data"
    },
    {
     "data": {
      "application/vnd.jupyter.widget-view+json": {
       "model_id": "",
       "version_major": 2,
       "version_minor": 0
      },
      "text/plain": [
       "HBox(children=(HTML(value='Validating'), FloatProgress(value=1.0, bar_style='info', layout=Layout(flex='2'), m…"
      ]
     },
     "metadata": {},
     "output_type": "display_data"
    },
    {
     "data": {
      "application/vnd.jupyter.widget-view+json": {
       "model_id": "",
       "version_major": 2,
       "version_minor": 0
      },
      "text/plain": [
       "HBox(children=(HTML(value='Validating'), FloatProgress(value=1.0, bar_style='info', layout=Layout(flex='2'), m…"
      ]
     },
     "metadata": {},
     "output_type": "display_data"
    },
    {
     "data": {
      "application/vnd.jupyter.widget-view+json": {
       "model_id": "",
       "version_major": 2,
       "version_minor": 0
      },
      "text/plain": [
       "HBox(children=(HTML(value='Validating'), FloatProgress(value=1.0, bar_style='info', layout=Layout(flex='2'), m…"
      ]
     },
     "metadata": {},
     "output_type": "display_data"
    },
    {
     "data": {
      "application/vnd.jupyter.widget-view+json": {
       "model_id": "",
       "version_major": 2,
       "version_minor": 0
      },
      "text/plain": [
       "HBox(children=(HTML(value='Validating'), FloatProgress(value=1.0, bar_style='info', layout=Layout(flex='2'), m…"
      ]
     },
     "metadata": {},
     "output_type": "display_data"
    },
    {
     "data": {
      "application/vnd.jupyter.widget-view+json": {
       "model_id": "",
       "version_major": 2,
       "version_minor": 0
      },
      "text/plain": [
       "HBox(children=(HTML(value='Validating'), FloatProgress(value=1.0, bar_style='info', layout=Layout(flex='2'), m…"
      ]
     },
     "metadata": {},
     "output_type": "display_data"
    },
    {
     "data": {
      "application/vnd.jupyter.widget-view+json": {
       "model_id": "",
       "version_major": 2,
       "version_minor": 0
      },
      "text/plain": [
       "HBox(children=(HTML(value='Validating'), FloatProgress(value=1.0, bar_style='info', layout=Layout(flex='2'), m…"
      ]
     },
     "metadata": {},
     "output_type": "display_data"
    },
    {
     "data": {
      "application/vnd.jupyter.widget-view+json": {
       "model_id": "",
       "version_major": 2,
       "version_minor": 0
      },
      "text/plain": [
       "HBox(children=(HTML(value='Validating'), FloatProgress(value=1.0, bar_style='info', layout=Layout(flex='2'), m…"
      ]
     },
     "metadata": {},
     "output_type": "display_data"
    },
    {
     "data": {
      "application/vnd.jupyter.widget-view+json": {
       "model_id": "",
       "version_major": 2,
       "version_minor": 0
      },
      "text/plain": [
       "HBox(children=(HTML(value='Validating'), FloatProgress(value=1.0, bar_style='info', layout=Layout(flex='2'), m…"
      ]
     },
     "metadata": {},
     "output_type": "display_data"
    },
    {
     "data": {
      "application/vnd.jupyter.widget-view+json": {
       "model_id": "",
       "version_major": 2,
       "version_minor": 0
      },
      "text/plain": [
       "HBox(children=(HTML(value='Validating'), FloatProgress(value=1.0, bar_style='info', layout=Layout(flex='2'), m…"
      ]
     },
     "metadata": {},
     "output_type": "display_data"
    },
    {
     "data": {
      "application/vnd.jupyter.widget-view+json": {
       "model_id": "",
       "version_major": 2,
       "version_minor": 0
      },
      "text/plain": [
       "HBox(children=(HTML(value='Validating'), FloatProgress(value=1.0, bar_style='info', layout=Layout(flex='2'), m…"
      ]
     },
     "metadata": {},
     "output_type": "display_data"
    },
    {
     "data": {
      "application/vnd.jupyter.widget-view+json": {
       "model_id": "",
       "version_major": 2,
       "version_minor": 0
      },
      "text/plain": [
       "HBox(children=(HTML(value='Validating'), FloatProgress(value=1.0, bar_style='info', layout=Layout(flex='2'), m…"
      ]
     },
     "metadata": {},
     "output_type": "display_data"
    },
    {
     "data": {
      "application/vnd.jupyter.widget-view+json": {
       "model_id": "",
       "version_major": 2,
       "version_minor": 0
      },
      "text/plain": [
       "HBox(children=(HTML(value='Validating'), FloatProgress(value=1.0, bar_style='info', layout=Layout(flex='2'), m…"
      ]
     },
     "metadata": {},
     "output_type": "display_data"
    },
    {
     "data": {
      "application/vnd.jupyter.widget-view+json": {
       "model_id": "",
       "version_major": 2,
       "version_minor": 0
      },
      "text/plain": [
       "HBox(children=(HTML(value='Validating'), FloatProgress(value=1.0, bar_style='info', layout=Layout(flex='2'), m…"
      ]
     },
     "metadata": {},
     "output_type": "display_data"
    },
    {
     "data": {
      "application/vnd.jupyter.widget-view+json": {
       "model_id": "",
       "version_major": 2,
       "version_minor": 0
      },
      "text/plain": [
       "HBox(children=(HTML(value='Validating'), FloatProgress(value=1.0, bar_style='info', layout=Layout(flex='2'), m…"
      ]
     },
     "metadata": {},
     "output_type": "display_data"
    },
    {
     "name": "stdout",
     "output_type": "stream",
     "text": [
      "\n"
     ]
    }
   ],
   "source": [
    "trainer_combined_2.fit(model_combined_pl_2)"
   ]
  },
  {
   "cell_type": "markdown",
   "metadata": {},
   "source": [
    "## Get Pareto Metric"
   ]
  },
  {
   "cell_type": "code",
   "execution_count": 29,
   "metadata": {},
   "outputs": [
    {
     "data": {
      "text/plain": [
       "[<matplotlib.lines.Line2D at 0x7f17ac378050>]"
      ]
     },
     "execution_count": 29,
     "metadata": {},
     "output_type": "execute_result"
    },
    {
     "data": {
      "image/png": "[encoded data removed]",
      "text/plain": [
       "<Figure size 432x288 with 1 Axes>"
      ]
     },
     "metadata": {
      "needs_background": "light"
     },
     "output_type": "display_data"
    }
   ],
   "source": [
    "threshold_number = 100\n",
    "threshold_list = np.linspace(-5, 5, threshold_number)\n",
    "threshold_list = 1 / (1 + np.exp(-threshold_list))\n",
    "plt.plot(np.linspace(0.01, 1, threshold_number), threshold_list)"
   ]
  },
  {
   "cell_type": "code",
   "execution_count": 30,
   "metadata": {},
   "outputs": [
    {
     "name": "stderr",
     "output_type": "stream",
     "text": [
      "/home/eromanenkova/anaconda3/lib/python3.7/site-packages/numpy/core/fromnumeric.py:3373: RuntimeWarning: Mean of empty slice.\n",
      "  out=out, **kwargs)\n",
      "/home/eromanenkova/anaconda3/lib/python3.7/site-packages/numpy/core/_methods.py:170: RuntimeWarning: invalid value encountered in double_scalars\n",
      "  ret = ret.dtype.type(ret / rcount)\n"
     ]
    },
    {
     "name": "stdout",
     "output_type": "stream",
     "text": [
      "TP: 0 TN: 0 FP: 80 FN: 0 DELAY: 0.0 FP_DELAY 0.0\n",
      "TP: 0 TN: 0 FP: 80 FN: 0 DELAY: 0.0 FP_DELAY 0.0\n",
      "TP: 0 TN: 0 FP: 80 FN: 0 DELAY: 0.0 FP_DELAY 0.0\n",
      "TP: 0 TN: 0 FP: 80 FN: 0 DELAY: 0.0 FP_DELAY 0.0\n",
      "TP: 0 TN: 0 FP: 80 FN: 0 DELAY: 0.0 FP_DELAY 0.0\n",
      "TP: 0 TN: 0 FP: 80 FN: 0 DELAY: 0.0 FP_DELAY 0.0\n",
      "TP: 0 TN: 0 FP: 80 FN: 0 DELAY: 0.0 FP_DELAY 0.0\n",
      "TP: 0 TN: 0 FP: 80 FN: 0 DELAY: 0.0 FP_DELAY 0.0\n",
      "TP: 0 TN: 0 FP: 80 FN: 0 DELAY: 0.0 FP_DELAY 0.0\n",
      "TP: 0 TN: 0 FP: 80 FN: 0 DELAY: 0.0 FP_DELAY 0.0\n",
      "TP: 0 TN: 0 FP: 80 FN: 0 DELAY: 0.0 FP_DELAY 0.0\n",
      "TP: 0 TN: 0 FP: 80 FN: 0 DELAY: 0.0 FP_DELAY 0.0\n",
      "TP: 0 TN: 0 FP: 80 FN: 0 DELAY: 0.0 FP_DELAY 0.0\n",
      "TP: 0 TN: 0 FP: 80 FN: 0 DELAY: 0.0 FP_DELAY 0.0\n",
      "TP: 0 TN: 0 FP: 80 FN: 0 DELAY: 0.0 FP_DELAY 0.0\n",
      "TP: 0 TN: 0 FP: 80 FN: 0 DELAY: 0.0 FP_DELAY 0.0\n",
      "TP: 0 TN: 0 FP: 80 FN: 0 DELAY: 0.0 FP_DELAY 0.0\n",
      "TP: 0 TN: 0 FP: 80 FN: 0 DELAY: 0.0 FP_DELAY 0.0\n",
      "TP: 0 TN: 0 FP: 80 FN: 0 DELAY: 0.0 FP_DELAY 0.0\n",
      "TP: 0 TN: 0 FP: 80 FN: 0 DELAY: 0.0 FP_DELAY 0.0\n",
      "TP: 0 TN: 0 FP: 80 FN: 0 DELAY: 0.0 FP_DELAY 0.0\n",
      "TP: 0 TN: 0 FP: 80 FN: 0 DELAY: 0.0 FP_DELAY 0.0\n",
      "TP: 0 TN: 0 FP: 80 FN: 0 DELAY: 0.0 FP_DELAY 0.0\n",
      "TP: 0 TN: 0 FP: 80 FN: 0 DELAY: 0.0 FP_DELAY 0.0\n",
      "TP: 0 TN: 0 FP: 80 FN: 0 DELAY: 0.0 FP_DELAY 0.0\n",
      "TP: 0 TN: 0 FP: 80 FN: 0 DELAY: 0.0 FP_DELAY 0.0\n",
      "TP: 0 TN: 0 FP: 80 FN: 0 DELAY: 0.0 FP_DELAY 0.0\n",
      "TP: 0 TN: 0 FP: 80 FN: 0 DELAY: 0.0 FP_DELAY 0.0\n",
      "TP: 0 TN: 0 FP: 80 FN: 0 DELAY: 0.0 FP_DELAY 0.0\n",
      "TP: 0 TN: 2 FP: 78 FN: 0 DELAY: 0.0 FP_DELAY 0.4\n",
      "TP: 0 TN: 5 FP: 75 FN: 0 DELAY: 0.0 FP_DELAY 1.0\n",
      "TP: 0 TN: 7 FP: 73 FN: 0 DELAY: 0.0 FP_DELAY 1.4\n",
      "TP: 0 TN: 17 FP: 63 FN: 0 DELAY: 0.0 FP_DELAY 3.4\n",
      "TP: 0 TN: 21 FP: 58 FN: 1 DELAY: 0.0125 FP_DELAY 4.4\n",
      "TP: 0 TN: 23 FP: 56 FN: 1 DELAY: 0.025 FP_DELAY 4.8\n",
      "TP: 1 TN: 27 FP: 50 FN: 2 DELAY: 0.2625 FP_DELAY 5.8375\n",
      "TP: 1 TN: 34 FP: 41 FN: 4 DELAY: 0.4375 FP_DELAY 7.75\n",
      "TP: 1 TN: 37 FP: 37 FN: 5 DELAY: 0.45 FP_DELAY 8.6875\n",
      "TP: 3 TN: 45 FP: 28 FN: 4 DELAY: 0.575 FP_DELAY 10.35\n",
      "TP: 4 TN: 47 FP: 25 FN: 4 DELAY: 0.2875 FP_DELAY 11.2375\n",
      "TP: 5 TN: 51 FP: 18 FN: 6 DELAY: 0.35 FP_DELAY 12.525\n",
      "TP: 7 TN: 51 FP: 16 FN: 6 DELAY: 0.4625 FP_DELAY 12.9625\n",
      "TP: 8 TN: 52 FP: 14 FN: 6 DELAY: 0.35 FP_DELAY 13.325\n",
      "TP: 8 TN: 52 FP: 14 FN: 6 DELAY: 0.4875 FP_DELAY 13.375\n",
      "TP: 8 TN: 55 FP: 10 FN: 7 DELAY: 0.8125 FP_DELAY 13.975\n",
      "TP: 11 TN: 52 FP: 11 FN: 6 DELAY: 0.5375 FP_DELAY 13.625\n",
      "TP: 10 TN: 54 FP: 9 FN: 7 DELAY: 0.6625 FP_DELAY 13.725\n",
      "TP: 6 TN: 56 FP: 10 FN: 8 DELAY: 0.85 FP_DELAY 14.025\n",
      "TP: 7 TN: 57 FP: 7 FN: 9 DELAY: 0.975 FP_DELAY 14.0375\n",
      "TP: 7 TN: 57 FP: 9 FN: 7 DELAY: 0.825 FP_DELAY 14.0875\n",
      "TP: 6 TN: 55 FP: 9 FN: 10 DELAY: 0.9125 FP_DELAY 14.1125\n",
      "TP: 5 TN: 57 FP: 8 FN: 10 DELAY: 0.7125 FP_DELAY 14.4\n",
      "TP: 7 TN: 59 FP: 6 FN: 8 DELAY: 0.9 FP_DELAY 14.3125\n",
      "TP: 6 TN: 59 FP: 6 FN: 9 DELAY: 0.9625 FP_DELAY 14.3875\n",
      "TP: 6 TN: 59 FP: 5 FN: 10 DELAY: 1.0 FP_DELAY 14.525\n",
      "TP: 5 TN: 57 FP: 4 FN: 14 DELAY: 1.125 FP_DELAY 14.6625\n",
      "TP: 6 TN: 58 FP: 5 FN: 11 DELAY: 1.05 FP_DELAY 14.4625\n",
      "TP: 3 TN: 58 FP: 5 FN: 14 DELAY: 1.225 FP_DELAY 14.9875\n",
      "TP: 5 TN: 57 FP: 4 FN: 14 DELAY: 1.2125 FP_DELAY 14.6625\n",
      "TP: 4 TN: 60 FP: 4 FN: 12 DELAY: 1.2625 FP_DELAY 14.725\n",
      "TP: 3 TN: 61 FP: 3 FN: 13 DELAY: 1.3375 FP_DELAY 15.0375\n",
      "TP: 2 TN: 59 FP: 3 FN: 16 DELAY: 1.375 FP_DELAY 15.2875\n",
      "TP: 1 TN: 59 FP: 3 FN: 17 DELAY: 1.3625 FP_DELAY 15.4875\n",
      "TP: 1 TN: 58 FP: 1 FN: 20 DELAY: 1.325 FP_DELAY 15.6625\n",
      "TP: 1 TN: 59 FP: 0 FN: 20 DELAY: 1.875 FP_DELAY 15.8875\n",
      "TP: 0 TN: 60 FP: 0 FN: 20 DELAY: 1.6625 FP_DELAY 16.0\n",
      "TP: 0 TN: 59 FP: 0 FN: 21 DELAY: 1.6375 FP_DELAY 16.0\n",
      "TP: 0 TN: 59 FP: 0 FN: 21 DELAY: 1.6875 FP_DELAY 16.0\n",
      "TP: 0 TN: 58 FP: 0 FN: 22 DELAY: 1.7375 FP_DELAY 16.0\n",
      "TP: 0 TN: 58 FP: 0 FN: 22 DELAY: 1.6875 FP_DELAY 16.0\n",
      "TP: 0 TN: 60 FP: 0 FN: 20 DELAY: 1.5125 FP_DELAY 16.0\n",
      "TP: 0 TN: 60 FP: 0 FN: 20 DELAY: 1.7625 FP_DELAY 16.0\n",
      "TP: 0 TN: 60 FP: 0 FN: 20 DELAY: 1.9875 FP_DELAY 16.0\n",
      "TP: 0 TN: 60 FP: 0 FN: 20 DELAY: 1.85 FP_DELAY 16.0\n",
      "TP: 0 TN: 59 FP: 0 FN: 21 DELAY: 1.8125 FP_DELAY 16.0\n",
      "TP: 0 TN: 59 FP: 0 FN: 21 DELAY: 1.55 FP_DELAY 16.0\n",
      "TP: 0 TN: 59 FP: 0 FN: 21 DELAY: 1.2375 FP_DELAY 16.0\n",
      "TP: 0 TN: 59 FP: 0 FN: 21 DELAY: 1.975 FP_DELAY 16.0\n",
      "TP: 0 TN: 58 FP: 0 FN: 22 DELAY: 1.7125 FP_DELAY 16.0\n",
      "TP: 0 TN: 58 FP: 0 FN: 22 DELAY: 2.025 FP_DELAY 16.0\n",
      "TP: 0 TN: 58 FP: 0 FN: 22 DELAY: 1.625 FP_DELAY 16.0\n",
      "TP: 0 TN: 59 FP: 0 FN: 21 DELAY: 1.5875 FP_DELAY 16.0\n",
      "TP: 0 TN: 61 FP: 0 FN: 19 DELAY: 1.55 FP_DELAY 16.0\n",
      "TP: 0 TN: 60 FP: 0 FN: 20 DELAY: 1.8625 FP_DELAY 16.0\n",
      "TP: 0 TN: 61 FP: 0 FN: 19 DELAY: 1.3375 FP_DELAY 16.0\n",
      "TP: 0 TN: 58 FP: 0 FN: 22 DELAY: 1.7 FP_DELAY 16.0\n",
      "TP: 0 TN: 59 FP: 0 FN: 21 DELAY: 1.625 FP_DELAY 16.0\n",
      "TP: 0 TN: 58 FP: 0 FN: 22 DELAY: 1.5625 FP_DELAY 16.0\n",
      "TP: 0 TN: 58 FP: 0 FN: 22 DELAY: 2.0125 FP_DELAY 16.0\n",
      "TP: 0 TN: 58 FP: 0 FN: 22 DELAY: 1.6625 FP_DELAY 16.0\n",
      "TP: 0 TN: 58 FP: 0 FN: 22 DELAY: 1.9875 FP_DELAY 16.0\n",
      "TP: 0 TN: 59 FP: 0 FN: 21 DELAY: 1.2125 FP_DELAY 16.0\n",
      "TP: 0 TN: 58 FP: 0 FN: 22 DELAY: 1.85 FP_DELAY 16.0\n",
      "TP: 0 TN: 59 FP: 0 FN: 21 DELAY: 1.8625 FP_DELAY 16.0\n",
      "TP: 0 TN: 59 FP: 0 FN: 21 DELAY: 1.65 FP_DELAY 16.0\n",
      "TP: 0 TN: 60 FP: 0 FN: 20 DELAY: 1.8 FP_DELAY 16.0\n",
      "TP: 0 TN: 59 FP: 0 FN: 21 DELAY: 1.475 FP_DELAY 16.0\n",
      "TP: 0 TN: 58 FP: 0 FN: 22 DELAY: 1.975 FP_DELAY 16.0\n",
      "TP: 0 TN: 59 FP: 0 FN: 21 DELAY: 1.625 FP_DELAY 16.0\n",
      "TP: 0 TN: 61 FP: 0 FN: 19 DELAY: 2.1125 FP_DELAY 16.0\n",
      "BCE\n"
     ]
    }
   ],
   "source": [
    "model_bce_pl.model.to(device)\n",
    "_, _, delay_list_bce, fp_delay_list_bce = metrics.get_pareto_metrics_for_threshold(model_bce_pl.model, model_bce_pl.val_dataloader(), 16, threshold_list, seq_len=16)\n",
    "print(\"BCE\")"
   ]
  },
  {
   "cell_type": "code",
   "execution_count": 31,
   "metadata": {},
   "outputs": [
    {
     "name": "stdout",
     "output_type": "stream",
     "text": [
      "TP: 0 TN: 0 FP: 80 FN: 0 DELAY: 0.0 FP_DELAY 0.0\n",
      "TP: 0 TN: 0 FP: 80 FN: 0 DELAY: 0.0 FP_DELAY 0.0\n",
      "TP: 0 TN: 0 FP: 80 FN: 0 DELAY: 0.0 FP_DELAY 0.0\n",
      "TP: 0 TN: 0 FP: 80 FN: 0 DELAY: 0.0 FP_DELAY 0.0\n",
      "TP: 0 TN: 0 FP: 80 FN: 0 DELAY: 0.0 FP_DELAY 0.0\n",
      "TP: 0 TN: 0 FP: 80 FN: 0 DELAY: 0.0 FP_DELAY 0.0\n",
      "TP: 0 TN: 0 FP: 80 FN: 0 DELAY: 0.0 FP_DELAY 0.0\n",
      "TP: 0 TN: 0 FP: 80 FN: 0 DELAY: 0.0 FP_DELAY 0.0\n",
      "TP: 0 TN: 0 FP: 80 FN: 0 DELAY: 0.0 FP_DELAY 0.0\n",
      "TP: 0 TN: 0 FP: 80 FN: 0 DELAY: 0.0 FP_DELAY 0.0\n",
      "TP: 0 TN: 0 FP: 80 FN: 0 DELAY: 0.0 FP_DELAY 0.0\n",
      "TP: 0 TN: 0 FP: 80 FN: 0 DELAY: 0.0 FP_DELAY 0.0\n",
      "TP: 0 TN: 0 FP: 80 FN: 0 DELAY: 0.0 FP_DELAY 0.0\n",
      "TP: 0 TN: 0 FP: 80 FN: 0 DELAY: 0.0 FP_DELAY 0.0\n",
      "TP: 0 TN: 0 FP: 80 FN: 0 DELAY: 0.0 FP_DELAY 0.0\n",
      "TP: 0 TN: 0 FP: 80 FN: 0 DELAY: 0.0 FP_DELAY 0.0\n",
      "TP: 0 TN: 0 FP: 80 FN: 0 DELAY: 0.0 FP_DELAY 0.0\n",
      "TP: 0 TN: 0 FP: 80 FN: 0 DELAY: 0.0 FP_DELAY 0.0\n",
      "TP: 0 TN: 0 FP: 80 FN: 0 DELAY: 0.0 FP_DELAY 0.0\n",
      "TP: 0 TN: 0 FP: 80 FN: 0 DELAY: 0.0 FP_DELAY 0.0\n",
      "TP: 0 TN: 0 FP: 80 FN: 0 DELAY: 0.0 FP_DELAY 0.0\n",
      "TP: 0 TN: 0 FP: 80 FN: 0 DELAY: 0.0 FP_DELAY 0.0\n",
      "TP: 0 TN: 0 FP: 80 FN: 0 DELAY: 0.0 FP_DELAY 0.0\n",
      "TP: 0 TN: 0 FP: 80 FN: 0 DELAY: 0.0 FP_DELAY 0.1375\n",
      "TP: 0 TN: 0 FP: 80 FN: 0 DELAY: 0.0 FP_DELAY 0.2375\n",
      "TP: 0 TN: 0 FP: 80 FN: 0 DELAY: 0.0 FP_DELAY 1.575\n",
      "TP: 4 TN: 0 FP: 76 FN: 0 DELAY: 0.125 FP_DELAY 4.0125\n",
      "TP: 5 TN: 0 FP: 75 FN: 0 DELAY: 0.125 FP_DELAY 6.85\n",
      "TP: 8 TN: 0 FP: 72 FN: 0 DELAY: 0.375 FP_DELAY 7.75\n",
      "TP: 9 TN: 0 FP: 71 FN: 0 DELAY: 0.3875 FP_DELAY 8.1875\n",
      "TP: 10 TN: 0 FP: 70 FN: 0 DELAY: 0.45 FP_DELAY 8.425\n",
      "TP: 7 TN: 0 FP: 73 FN: 0 DELAY: 0.375 FP_DELAY 8.6875\n",
      "TP: 10 TN: 0 FP: 70 FN: 0 DELAY: 0.7 FP_DELAY 8.475\n",
      "TP: 10 TN: 0 FP: 70 FN: 0 DELAY: 0.35 FP_DELAY 9.0125\n",
      "TP: 12 TN: 0 FP: 68 FN: 0 DELAY: 0.7625 FP_DELAY 8.825\n",
      "TP: 10 TN: 0 FP: 70 FN: 0 DELAY: 0.6375 FP_DELAY 9.0625\n",
      "TP: 10 TN: 0 FP: 70 FN: 0 DELAY: 0.7625 FP_DELAY 9.175\n",
      "TP: 12 TN: 0 FP: 68 FN: 0 DELAY: 0.6375 FP_DELAY 9.3625\n",
      "TP: 10 TN: 0 FP: 70 FN: 0 DELAY: 0.4625 FP_DELAY 9.6\n",
      "TP: 11 TN: 0 FP: 69 FN: 0 DELAY: 0.525 FP_DELAY 9.6375\n",
      "TP: 12 TN: 0 FP: 68 FN: 0 DELAY: 0.55 FP_DELAY 9.775\n",
      "TP: 9 TN: 0 FP: 70 FN: 1 DELAY: 0.5875 FP_DELAY 10.2125\n",
      "TP: 10 TN: 0 FP: 70 FN: 0 DELAY: 0.4625 FP_DELAY 10.1875\n",
      "TP: 14 TN: 0 FP: 66 FN: 0 DELAY: 0.9 FP_DELAY 9.875\n",
      "TP: 11 TN: 0 FP: 69 FN: 0 DELAY: 0.7875 FP_DELAY 10.1\n",
      "TP: 12 TN: 0 FP: 68 FN: 0 DELAY: 0.425 FP_DELAY 10.6\n",
      "TP: 13 TN: 0 FP: 67 FN: 0 DELAY: 0.55 FP_DELAY 10.675\n",
      "TP: 13 TN: 0 FP: 67 FN: 0 DELAY: 0.825 FP_DELAY 10.625\n",
      "TP: 16 TN: 1 FP: 63 FN: 0 DELAY: 0.9875 FP_DELAY 10.6125\n",
      "TP: 13 TN: 1 FP: 65 FN: 1 DELAY: 0.7 FP_DELAY 11.2375\n",
      "TP: 12 TN: 0 FP: 68 FN: 0 DELAY: 0.9625 FP_DELAY 10.9125\n",
      "TP: 15 TN: 0 FP: 65 FN: 0 DELAY: 0.775 FP_DELAY 11.325\n",
      "TP: 13 TN: 1 FP: 65 FN: 1 DELAY: 0.7125 FP_DELAY 11.6875\n",
      "TP: 11 TN: 2 FP: 67 FN: 0 DELAY: 0.7875 FP_DELAY 11.625\n",
      "TP: 15 TN: 2 FP: 62 FN: 1 DELAY: 0.8 FP_DELAY 11.9125\n",
      "TP: 14 TN: 2 FP: 63 FN: 1 DELAY: 0.6875 FP_DELAY 12.1875\n",
      "TP: 15 TN: 6 FP: 59 FN: 0 DELAY: 0.975 FP_DELAY 12.1\n",
      "TP: 14 TN: 2 FP: 63 FN: 1 DELAY: 0.925 FP_DELAY 12.275\n",
      "TP: 17 TN: 2 FP: 60 FN: 1 DELAY: 0.8875 FP_DELAY 12.375\n",
      "TP: 13 TN: 2 FP: 64 FN: 1 DELAY: 1.0125 FP_DELAY 12.475\n",
      "TP: 15 TN: 3 FP: 61 FN: 1 DELAY: 1.05 FP_DELAY 12.55\n",
      "TP: 17 TN: 5 FP: 57 FN: 1 DELAY: 0.975 FP_DELAY 12.825\n",
      "TP: 17 TN: 8 FP: 54 FN: 1 DELAY: 0.9375 FP_DELAY 12.9625\n",
      "TP: 16 TN: 11 FP: 53 FN: 0 DELAY: 0.8625 FP_DELAY 13.1375\n",
      "TP: 18 TN: 12 FP: 49 FN: 1 DELAY: 1.125 FP_DELAY 13.1125\n",
      "TP: 18 TN: 12 FP: 48 FN: 2 DELAY: 1.4625 FP_DELAY 13.1125\n",
      "TP: 17 TN: 14 FP: 48 FN: 1 DELAY: 1.1 FP_DELAY 13.375\n",
      "TP: 17 TN: 19 FP: 41 FN: 3 DELAY: 1.25 FP_DELAY 13.375\n",
      "TP: 19 TN: 26 FP: 34 FN: 1 DELAY: 0.85 FP_DELAY 13.9375\n",
      "TP: 17 TN: 27 FP: 32 FN: 4 DELAY: 1.325 FP_DELAY 13.7375\n",
      "TP: 14 TN: 33 FP: 28 FN: 5 DELAY: 1.0375 FP_DELAY 14.4\n",
      "TP: 15 TN: 36 FP: 25 FN: 4 DELAY: 1.4625 FP_DELAY 13.975\n",
      "TP: 14 TN: 43 FP: 19 FN: 4 DELAY: 1.225 FP_DELAY 14.25\n",
      "TP: 12 TN: 43 FP: 19 FN: 6 DELAY: 1.1125 FP_DELAY 14.5375\n",
      "TP: 12 TN: 47 FP: 15 FN: 6 DELAY: 1.25 FP_DELAY 14.6375\n",
      "TP: 12 TN: 50 FP: 9 FN: 9 DELAY: 1.35 FP_DELAY 14.725\n",
      "TP: 13 TN: 53 FP: 6 FN: 8 DELAY: 1.6 FP_DELAY 14.4\n",
      "TP: 9 TN: 52 FP: 9 FN: 10 DELAY: 1.5625 FP_DELAY 14.85\n",
      "TP: 10 TN: 56 FP: 3 FN: 11 DELAY: 1.4375 FP_DELAY 15.15\n",
      "TP: 5 TN: 57 FP: 1 FN: 17 DELAY: 1.5 FP_DELAY 15.425\n",
      "TP: 4 TN: 58 FP: 0 FN: 18 DELAY: 1.4375 FP_DELAY 15.5625\n",
      "TP: 0 TN: 61 FP: 0 FN: 19 DELAY: 1.8375 FP_DELAY 16.0\n",
      "TP: 0 TN: 60 FP: 0 FN: 20 DELAY: 1.55 FP_DELAY 16.0\n",
      "TP: 0 TN: 60 FP: 0 FN: 20 DELAY: 1.725 FP_DELAY 16.0\n",
      "TP: 0 TN: 60 FP: 0 FN: 20 DELAY: 1.625 FP_DELAY 16.0\n",
      "TP: 0 TN: 60 FP: 0 FN: 20 DELAY: 1.6125 FP_DELAY 16.0\n",
      "TP: 0 TN: 58 FP: 0 FN: 22 DELAY: 1.8125 FP_DELAY 16.0\n",
      "TP: 0 TN: 60 FP: 0 FN: 20 DELAY: 1.8375 FP_DELAY 16.0\n",
      "TP: 0 TN: 60 FP: 0 FN: 20 DELAY: 1.6 FP_DELAY 16.0\n",
      "TP: 0 TN: 58 FP: 0 FN: 22 DELAY: 1.875 FP_DELAY 16.0\n",
      "TP: 0 TN: 59 FP: 0 FN: 21 DELAY: 1.6 FP_DELAY 16.0\n",
      "TP: 0 TN: 59 FP: 0 FN: 21 DELAY: 1.5125 FP_DELAY 16.0\n",
      "TP: 0 TN: 59 FP: 0 FN: 21 DELAY: 1.7875 FP_DELAY 16.0\n",
      "TP: 0 TN: 59 FP: 0 FN: 21 DELAY: 2.0625 FP_DELAY 16.0\n",
      "TP: 0 TN: 59 FP: 0 FN: 21 DELAY: 1.425 FP_DELAY 16.0\n",
      "TP: 0 TN: 58 FP: 0 FN: 22 DELAY: 1.6875 FP_DELAY 16.0\n",
      "TP: 0 TN: 59 FP: 0 FN: 21 DELAY: 1.6875 FP_DELAY 16.0\n",
      "TP: 0 TN: 58 FP: 0 FN: 22 DELAY: 1.8125 FP_DELAY 16.0\n",
      "TP: 0 TN: 60 FP: 0 FN: 20 DELAY: 1.5625 FP_DELAY 16.0\n",
      "TP: 0 TN: 59 FP: 0 FN: 21 DELAY: 1.325 FP_DELAY 16.0\n",
      "CUSTOM\n"
     ]
    }
   ],
   "source": [
    "model_custom_pl.model.to(device)\n",
    "\n",
    "_, _, delay_list_custom, fp_delay_list_custom = metrics.get_pareto_metrics_for_threshold(model_custom_pl.model, model_custom_pl.val_dataloader(), 16, threshold_list, seq_len=16)\n",
    "print(\"CUSTOM\")"
   ]
  },
  {
   "cell_type": "code",
   "execution_count": 32,
   "metadata": {},
   "outputs": [
    {
     "name": "stdout",
     "output_type": "stream",
     "text": [
      "TP: 0 TN: 0 FP: 80 FN: 0 DELAY: 0.0 FP_DELAY 0.0\n",
      "TP: 0 TN: 0 FP: 80 FN: 0 DELAY: 0.0 FP_DELAY 0.0\n",
      "TP: 0 TN: 0 FP: 80 FN: 0 DELAY: 0.0 FP_DELAY 0.0\n",
      "TP: 0 TN: 0 FP: 80 FN: 0 DELAY: 0.0 FP_DELAY 0.0\n",
      "TP: 0 TN: 0 FP: 80 FN: 0 DELAY: 0.0 FP_DELAY 0.0\n",
      "TP: 0 TN: 0 FP: 80 FN: 0 DELAY: 0.0 FP_DELAY 0.0\n",
      "TP: 0 TN: 0 FP: 80 FN: 0 DELAY: 0.0 FP_DELAY 0.0\n",
      "TP: 0 TN: 0 FP: 80 FN: 0 DELAY: 0.0 FP_DELAY 0.0\n",
      "TP: 0 TN: 0 FP: 80 FN: 0 DELAY: 0.0 FP_DELAY 0.0\n",
      "TP: 0 TN: 0 FP: 80 FN: 0 DELAY: 0.0 FP_DELAY 0.0\n",
      "TP: 0 TN: 0 FP: 80 FN: 0 DELAY: 0.0 FP_DELAY 0.0\n",
      "TP: 0 TN: 0 FP: 80 FN: 0 DELAY: 0.0 FP_DELAY 0.0\n",
      "TP: 0 TN: 0 FP: 80 FN: 0 DELAY: 0.0 FP_DELAY 0.0\n",
      "TP: 0 TN: 0 FP: 80 FN: 0 DELAY: 0.0 FP_DELAY 0.0\n",
      "TP: 0 TN: 0 FP: 80 FN: 0 DELAY: 0.0 FP_DELAY 0.0\n",
      "TP: 0 TN: 0 FP: 80 FN: 0 DELAY: 0.0 FP_DELAY 0.0\n",
      "TP: 0 TN: 0 FP: 80 FN: 0 DELAY: 0.0 FP_DELAY 0.0\n",
      "TP: 0 TN: 0 FP: 80 FN: 0 DELAY: 0.0 FP_DELAY 0.0\n",
      "TP: 0 TN: 0 FP: 80 FN: 0 DELAY: 0.0 FP_DELAY 0.0\n",
      "TP: 0 TN: 0 FP: 80 FN: 0 DELAY: 0.0 FP_DELAY 0.0\n",
      "TP: 0 TN: 0 FP: 80 FN: 0 DELAY: 0.0 FP_DELAY 0.0\n",
      "TP: 0 TN: 0 FP: 80 FN: 0 DELAY: 0.0 FP_DELAY 0.0\n",
      "TP: 0 TN: 0 FP: 80 FN: 0 DELAY: 0.0 FP_DELAY 0.0\n",
      "TP: 0 TN: 0 FP: 80 FN: 0 DELAY: 0.0 FP_DELAY 0.0\n",
      "TP: 0 TN: 0 FP: 80 FN: 0 DELAY: 0.0 FP_DELAY 0.0\n",
      "TP: 0 TN: 0 FP: 80 FN: 0 DELAY: 0.0 FP_DELAY 0.0\n",
      "TP: 0 TN: 0 FP: 80 FN: 0 DELAY: 0.0 FP_DELAY 0.0\n",
      "TP: 0 TN: 0 FP: 80 FN: 0 DELAY: 0.0 FP_DELAY 0.0\n",
      "TP: 0 TN: 0 FP: 80 FN: 0 DELAY: 0.0 FP_DELAY 0.0\n",
      "TP: 0 TN: 0 FP: 80 FN: 0 DELAY: 0.0 FP_DELAY 0.0\n",
      "TP: 0 TN: 0 FP: 80 FN: 0 DELAY: 0.0 FP_DELAY 0.0\n",
      "TP: 0 TN: 0 FP: 80 FN: 0 DELAY: 0.0 FP_DELAY 0.0\n",
      "TP: 0 TN: 0 FP: 80 FN: 0 DELAY: 0.0 FP_DELAY 0.0\n",
      "TP: 0 TN: 0 FP: 80 FN: 0 DELAY: 0.0 FP_DELAY 0.0\n",
      "TP: 0 TN: 0 FP: 80 FN: 0 DELAY: 0.0 FP_DELAY 0.0\n",
      "TP: 0 TN: 0 FP: 80 FN: 0 DELAY: 0.0 FP_DELAY 0.0\n",
      "TP: 0 TN: 0 FP: 80 FN: 0 DELAY: 0.0 FP_DELAY 0.0\n",
      "TP: 0 TN: 0 FP: 80 FN: 0 DELAY: 0.0 FP_DELAY 0.0\n",
      "TP: 0 TN: 0 FP: 80 FN: 0 DELAY: 0.0 FP_DELAY 0.0\n",
      "TP: 0 TN: 0 FP: 80 FN: 0 DELAY: 0.0 FP_DELAY 0.0\n",
      "TP: 0 TN: 0 FP: 80 FN: 0 DELAY: 0.0 FP_DELAY 0.0\n",
      "TP: 0 TN: 0 FP: 80 FN: 0 DELAY: 0.0 FP_DELAY 0.0\n",
      "TP: 0 TN: 0 FP: 80 FN: 0 DELAY: 0.0 FP_DELAY 0.025\n",
      "TP: 0 TN: 0 FP: 80 FN: 0 DELAY: 0.0 FP_DELAY 0.3625\n",
      "TP: 0 TN: 0 FP: 80 FN: 0 DELAY: 0.0 FP_DELAY 0.975\n",
      "TP: 0 TN: 0 FP: 80 FN: 0 DELAY: 0.0 FP_DELAY 1.55\n",
      "TP: 1 TN: 0 FP: 79 FN: 0 DELAY: 0.0 FP_DELAY 2.5875\n",
      "TP: 0 TN: 1 FP: 79 FN: 0 DELAY: 0.0 FP_DELAY 4.05\n",
      "TP: 3 TN: 14 FP: 63 FN: 0 DELAY: 0.0125 FP_DELAY 7.0\n",
      "TP: 11 TN: 37 FP: 31 FN: 1 DELAY: 0.125 FP_DELAY 10.7125\n",
      "TP: 9 TN: 52 FP: 14 FN: 5 DELAY: 0.4125 FP_DELAY 13.4625\n",
      "TP: 10 TN: 59 FP: 3 FN: 8 DELAY: 0.7125 FP_DELAY 14.4625\n",
      "TP: 8 TN: 59 FP: 2 FN: 11 DELAY: 0.975 FP_DELAY 15.075\n",
      "TP: 4 TN: 58 FP: 1 FN: 17 DELAY: 1.375 FP_DELAY 15.3\n",
      "TP: 2 TN: 62 FP: 1 FN: 15 DELAY: 1.3625 FP_DELAY 15.625\n",
      "TP: 1 TN: 59 FP: 1 FN: 19 DELAY: 1.15 FP_DELAY 15.825\n",
      "TP: 1 TN: 59 FP: 0 FN: 20 DELAY: 1.8125 FP_DELAY 15.9625\n",
      "TP: 0 TN: 58 FP: 0 FN: 22 DELAY: 1.45 FP_DELAY 16.0\n",
      "TP: 0 TN: 58 FP: 0 FN: 22 DELAY: 1.9875 FP_DELAY 16.0\n",
      "TP: 0 TN: 61 FP: 0 FN: 19 DELAY: 2.025 FP_DELAY 16.0\n",
      "TP: 0 TN: 60 FP: 0 FN: 20 DELAY: 1.1375 FP_DELAY 16.0\n",
      "TP: 0 TN: 59 FP: 0 FN: 21 DELAY: 1.6875 FP_DELAY 16.0\n",
      "TP: 0 TN: 59 FP: 0 FN: 21 DELAY: 1.3375 FP_DELAY 16.0\n",
      "TP: 0 TN: 59 FP: 0 FN: 21 DELAY: 1.5875 FP_DELAY 16.0\n",
      "TP: 0 TN: 59 FP: 0 FN: 21 DELAY: 1.9375 FP_DELAY 16.0\n",
      "TP: 0 TN: 59 FP: 0 FN: 21 DELAY: 1.8 FP_DELAY 16.0\n",
      "TP: 0 TN: 60 FP: 0 FN: 20 DELAY: 1.9125 FP_DELAY 16.0\n",
      "TP: 0 TN: 62 FP: 0 FN: 18 DELAY: 1.7 FP_DELAY 16.0\n",
      "TP: 0 TN: 59 FP: 0 FN: 21 DELAY: 1.6875 FP_DELAY 16.0\n",
      "TP: 0 TN: 58 FP: 0 FN: 22 DELAY: 1.775 FP_DELAY 16.0\n",
      "TP: 0 TN: 58 FP: 0 FN: 22 DELAY: 1.7875 FP_DELAY 16.0\n",
      "TP: 0 TN: 59 FP: 0 FN: 21 DELAY: 1.8875 FP_DELAY 16.0\n",
      "TP: 0 TN: 61 FP: 0 FN: 19 DELAY: 1.5625 FP_DELAY 16.0\n",
      "TP: 0 TN: 59 FP: 0 FN: 21 DELAY: 1.5625 FP_DELAY 16.0\n",
      "TP: 0 TN: 59 FP: 0 FN: 21 DELAY: 1.625 FP_DELAY 16.0\n",
      "TP: 0 TN: 60 FP: 0 FN: 20 DELAY: 1.6875 FP_DELAY 16.0\n",
      "TP: 0 TN: 59 FP: 0 FN: 21 DELAY: 2.0 FP_DELAY 16.0\n",
      "TP: 0 TN: 59 FP: 0 FN: 21 DELAY: 1.75 FP_DELAY 16.0\n",
      "TP: 0 TN: 59 FP: 0 FN: 21 DELAY: 1.8375 FP_DELAY 16.0\n",
      "TP: 0 TN: 59 FP: 0 FN: 21 DELAY: 1.3 FP_DELAY 16.0\n",
      "TP: 0 TN: 59 FP: 0 FN: 21 DELAY: 1.8 FP_DELAY 16.0\n",
      "TP: 0 TN: 58 FP: 0 FN: 22 DELAY: 2.1125 FP_DELAY 16.0\n",
      "TP: 0 TN: 60 FP: 0 FN: 20 DELAY: 1.3 FP_DELAY 16.0\n",
      "TP: 0 TN: 60 FP: 0 FN: 20 DELAY: 1.4375 FP_DELAY 16.0\n",
      "TP: 0 TN: 59 FP: 0 FN: 21 DELAY: 1.7 FP_DELAY 16.0\n",
      "TP: 0 TN: 58 FP: 0 FN: 22 DELAY: 1.675 FP_DELAY 16.0\n",
      "TP: 0 TN: 60 FP: 0 FN: 20 DELAY: 1.3125 FP_DELAY 16.0\n",
      "TP: 0 TN: 58 FP: 0 FN: 22 DELAY: 1.5125 FP_DELAY 16.0\n",
      "TP: 0 TN: 59 FP: 0 FN: 21 DELAY: 1.5 FP_DELAY 16.0\n",
      "TP: 0 TN: 60 FP: 0 FN: 20 DELAY: 1.575 FP_DELAY 16.0\n",
      "TP: 0 TN: 58 FP: 0 FN: 22 DELAY: 1.8625 FP_DELAY 16.0\n",
      "TP: 0 TN: 58 FP: 0 FN: 22 DELAY: 2.0375 FP_DELAY 16.0\n",
      "TP: 0 TN: 58 FP: 0 FN: 22 DELAY: 1.8875 FP_DELAY 16.0\n",
      "TP: 0 TN: 61 FP: 0 FN: 19 DELAY: 1.65 FP_DELAY 16.0\n",
      "TP: 0 TN: 62 FP: 0 FN: 18 DELAY: 1.45 FP_DELAY 16.0\n",
      "TP: 0 TN: 60 FP: 0 FN: 20 DELAY: 1.2875 FP_DELAY 16.0\n",
      "TP: 0 TN: 59 FP: 0 FN: 21 DELAY: 1.5625 FP_DELAY 16.0\n",
      "TP: 0 TN: 58 FP: 0 FN: 22 DELAY: 1.8375 FP_DELAY 16.0\n",
      "TP: 0 TN: 59 FP: 0 FN: 21 DELAY: 1.7125 FP_DELAY 16.0\n",
      "TP: 0 TN: 59 FP: 0 FN: 21 DELAY: 1.85 FP_DELAY 16.0\n",
      "COMBINED\n"
     ]
    }
   ],
   "source": [
    "model_combined_pl_2.model.to(device)\n",
    "_, _, delay_list_combined, fp_delay_list_combined = metrics.get_pareto_metrics_for_threshold(model_combined_pl_2.model, model_combined_pl_2.val_dataloader(), 16, threshold_list, seq_len=16)\n",
    "print(\"COMBINED\")"
   ]
  },
  {
   "cell_type": "code",
   "execution_count": 33,
   "metadata": {},
   "outputs": [
    {
     "data": {
      "image/png": "[encoded data removed]",
      "text/plain": [
       "<Figure size 864x864 with 1 Axes>"
      ]
     },
     "metadata": {
      "needs_background": "light"
     },
     "output_type": "display_data"
    }
   ],
   "source": [
    "# with_lin_space\n",
    "plt.figure(figsize=(12, 12))\n",
    "plt.plot(fp_delay_list_custom, delay_list_custom, '-o', label='LSTM. CustomLoss model')\n",
    "plt.plot(fp_delay_list_bce, delay_list_bce, '-d', label='LSTM. BceLoss model')\n",
    "plt.plot(fp_delay_list_combined, delay_list_combined, '-s', label='LSTM. CombinedLoss model')\n",
    "\n",
    "plt.xlabel('Mean FP delay')\n",
    "plt.ylabel('Mean delay')\n",
    "#plt.yscale('log')\n",
    "plt.legend(loc='upper left', fontsize=14);"
   ]
  },
  {
   "cell_type": "code",
   "execution_count": null,
   "metadata": {},
   "outputs": [],
   "source": []
  },
  {
   "cell_type": "code",
   "execution_count": 34,
   "metadata": {},
   "outputs": [],
   "source": [
    "batch, labels = next(iter(model_bce_pl.train_dataloader()))"
   ]
  },
  {
   "cell_type": "code",
   "execution_count": 35,
   "metadata": {},
   "outputs": [],
   "source": [
    "batch = batch.to(device)"
   ]
  },
  {
   "cell_type": "code",
   "execution_count": 36,
   "metadata": {},
   "outputs": [
    {
     "data": {
      "text/plain": [
       "tensor([[0, 0, 0, 0, 0, 0, 0, 0, 0, 0, 0, 0, 1, 1, 1, 1],\n",
       "        [0, 0, 0, 0, 0, 0, 0, 1, 1, 1, 1, 1, 1, 1, 1, 1],\n",
       "        [0, 0, 0, 0, 0, 0, 0, 1, 1, 1, 1, 1, 1, 1, 1, 1],\n",
       "        [0, 0, 0, 0, 0, 0, 0, 0, 0, 0, 0, 0, 0, 0, 0, 1],\n",
       "        [0, 0, 0, 0, 0, 0, 0, 0, 1, 1, 1, 1, 1, 1, 1, 1],\n",
       "        [0, 0, 0, 0, 0, 0, 1, 1, 1, 1, 1, 1, 1, 1, 1, 1],\n",
       "        [0, 0, 0, 1, 1, 1, 1, 1, 1, 1, 1, 1, 1, 1, 1, 1],\n",
       "        [0, 0, 0, 0, 0, 0, 0, 0, 0, 0, 1, 1, 1, 1, 1, 1],\n",
       "        [0, 0, 0, 0, 0, 1, 1, 1, 1, 1, 1, 1, 1, 1, 1, 1],\n",
       "        [0, 0, 0, 0, 0, 0, 1, 1, 1, 1, 1, 1, 1, 1, 1, 1],\n",
       "        [0, 0, 0, 0, 0, 0, 0, 0, 0, 0, 0, 0, 1, 1, 1, 1],\n",
       "        [0, 0, 0, 0, 0, 0, 0, 0, 0, 0, 0, 0, 0, 0, 0, 0],\n",
       "        [0, 0, 0, 0, 0, 0, 0, 0, 1, 1, 1, 1, 1, 1, 1, 1],\n",
       "        [0, 1, 1, 1, 1, 1, 1, 1, 1, 1, 1, 1, 1, 1, 1, 1],\n",
       "        [0, 0, 0, 0, 0, 0, 0, 0, 0, 0, 0, 0, 1, 1, 1, 1],\n",
       "        [0, 0, 0, 0, 0, 0, 0, 0, 0, 0, 0, 0, 0, 0, 1, 1]])"
      ]
     },
     "execution_count": 36,
     "metadata": {},
     "output_type": "execute_result"
    }
   ],
   "source": [
    "labels"
   ]
  },
  {
   "cell_type": "code",
   "execution_count": 37,
   "metadata": {},
   "outputs": [
    {
     "data": {
      "text/plain": [
       "Combine(\n",
       "  (cnn): Sequential(\n",
       "    (0): ConvBNActivation(\n",
       "      (0): Conv2d(3, 32, kernel_size=(3, 3), stride=(2, 2), padding=(1, 1), bias=False)\n",
       "      (1): BatchNorm2d(32, eps=1e-05, momentum=0.1, affine=True, track_running_stats=True)\n",
       "      (2): ReLU6(inplace=True)\n",
       "    )\n",
       "    (1): InvertedResidual(\n",
       "      (conv): Sequential(\n",
       "        (0): ConvBNActivation(\n",
       "          (0): Conv2d(32, 32, kernel_size=(3, 3), stride=(1, 1), padding=(1, 1), groups=32, bias=False)\n",
       "          (1): BatchNorm2d(32, eps=1e-05, momentum=0.1, affine=True, track_running_stats=True)\n",
       "          (2): ReLU6(inplace=True)\n",
       "        )\n",
       "        (1): Conv2d(32, 16, kernel_size=(1, 1), stride=(1, 1), bias=False)\n",
       "        (2): BatchNorm2d(16, eps=1e-05, momentum=0.1, affine=True, track_running_stats=True)\n",
       "      )\n",
       "    )\n",
       "    (2): InvertedResidual(\n",
       "      (conv): Sequential(\n",
       "        (0): ConvBNActivation(\n",
       "          (0): Conv2d(16, 96, kernel_size=(1, 1), stride=(1, 1), bias=False)\n",
       "          (1): BatchNorm2d(96, eps=1e-05, momentum=0.1, affine=True, track_running_stats=True)\n",
       "          (2): ReLU6(inplace=True)\n",
       "        )\n",
       "        (1): ConvBNActivation(\n",
       "          (0): Conv2d(96, 96, kernel_size=(3, 3), stride=(2, 2), padding=(1, 1), groups=96, bias=False)\n",
       "          (1): BatchNorm2d(96, eps=1e-05, momentum=0.1, affine=True, track_running_stats=True)\n",
       "          (2): ReLU6(inplace=True)\n",
       "        )\n",
       "        (2): Conv2d(96, 24, kernel_size=(1, 1), stride=(1, 1), bias=False)\n",
       "        (3): BatchNorm2d(24, eps=1e-05, momentum=0.1, affine=True, track_running_stats=True)\n",
       "      )\n",
       "    )\n",
       "    (3): InvertedResidual(\n",
       "      (conv): Sequential(\n",
       "        (0): ConvBNActivation(\n",
       "          (0): Conv2d(24, 144, kernel_size=(1, 1), stride=(1, 1), bias=False)\n",
       "          (1): BatchNorm2d(144, eps=1e-05, momentum=0.1, affine=True, track_running_stats=True)\n",
       "          (2): ReLU6(inplace=True)\n",
       "        )\n",
       "        (1): ConvBNActivation(\n",
       "          (0): Conv2d(144, 144, kernel_size=(3, 3), stride=(1, 1), padding=(1, 1), groups=144, bias=False)\n",
       "          (1): BatchNorm2d(144, eps=1e-05, momentum=0.1, affine=True, track_running_stats=True)\n",
       "          (2): ReLU6(inplace=True)\n",
       "        )\n",
       "        (2): Conv2d(144, 24, kernel_size=(1, 1), stride=(1, 1), bias=False)\n",
       "        (3): BatchNorm2d(24, eps=1e-05, momentum=0.1, affine=True, track_running_stats=True)\n",
       "      )\n",
       "    )\n",
       "    (4): InvertedResidual(\n",
       "      (conv): Sequential(\n",
       "        (0): ConvBNActivation(\n",
       "          (0): Conv2d(24, 144, kernel_size=(1, 1), stride=(1, 1), bias=False)\n",
       "          (1): BatchNorm2d(144, eps=1e-05, momentum=0.1, affine=True, track_running_stats=True)\n",
       "          (2): ReLU6(inplace=True)\n",
       "        )\n",
       "        (1): ConvBNActivation(\n",
       "          (0): Conv2d(144, 144, kernel_size=(3, 3), stride=(2, 2), padding=(1, 1), groups=144, bias=False)\n",
       "          (1): BatchNorm2d(144, eps=1e-05, momentum=0.1, affine=True, track_running_stats=True)\n",
       "          (2): ReLU6(inplace=True)\n",
       "        )\n",
       "        (2): Conv2d(144, 32, kernel_size=(1, 1), stride=(1, 1), bias=False)\n",
       "        (3): BatchNorm2d(32, eps=1e-05, momentum=0.1, affine=True, track_running_stats=True)\n",
       "      )\n",
       "    )\n",
       "    (5): InvertedResidual(\n",
       "      (conv): Sequential(\n",
       "        (0): ConvBNActivation(\n",
       "          (0): Conv2d(32, 192, kernel_size=(1, 1), stride=(1, 1), bias=False)\n",
       "          (1): BatchNorm2d(192, eps=1e-05, momentum=0.1, affine=True, track_running_stats=True)\n",
       "          (2): ReLU6(inplace=True)\n",
       "        )\n",
       "        (1): ConvBNActivation(\n",
       "          (0): Conv2d(192, 192, kernel_size=(3, 3), stride=(1, 1), padding=(1, 1), groups=192, bias=False)\n",
       "          (1): BatchNorm2d(192, eps=1e-05, momentum=0.1, affine=True, track_running_stats=True)\n",
       "          (2): ReLU6(inplace=True)\n",
       "        )\n",
       "        (2): Conv2d(192, 32, kernel_size=(1, 1), stride=(1, 1), bias=False)\n",
       "        (3): BatchNorm2d(32, eps=1e-05, momentum=0.1, affine=True, track_running_stats=True)\n",
       "      )\n",
       "    )\n",
       "    (6): InvertedResidual(\n",
       "      (conv): Sequential(\n",
       "        (0): ConvBNActivation(\n",
       "          (0): Conv2d(32, 192, kernel_size=(1, 1), stride=(1, 1), bias=False)\n",
       "          (1): BatchNorm2d(192, eps=1e-05, momentum=0.1, affine=True, track_running_stats=True)\n",
       "          (2): ReLU6(inplace=True)\n",
       "        )\n",
       "        (1): ConvBNActivation(\n",
       "          (0): Conv2d(192, 192, kernel_size=(3, 3), stride=(1, 1), padding=(1, 1), groups=192, bias=False)\n",
       "          (1): BatchNorm2d(192, eps=1e-05, momentum=0.1, affine=True, track_running_stats=True)\n",
       "          (2): ReLU6(inplace=True)\n",
       "        )\n",
       "        (2): Conv2d(192, 32, kernel_size=(1, 1), stride=(1, 1), bias=False)\n",
       "        (3): BatchNorm2d(32, eps=1e-05, momentum=0.1, affine=True, track_running_stats=True)\n",
       "      )\n",
       "    )\n",
       "    (7): InvertedResidual(\n",
       "      (conv): Sequential(\n",
       "        (0): ConvBNActivation(\n",
       "          (0): Conv2d(32, 192, kernel_size=(1, 1), stride=(1, 1), bias=False)\n",
       "          (1): BatchNorm2d(192, eps=1e-05, momentum=0.1, affine=True, track_running_stats=True)\n",
       "          (2): ReLU6(inplace=True)\n",
       "        )\n",
       "        (1): ConvBNActivation(\n",
       "          (0): Conv2d(192, 192, kernel_size=(3, 3), stride=(2, 2), padding=(1, 1), groups=192, bias=False)\n",
       "          (1): BatchNorm2d(192, eps=1e-05, momentum=0.1, affine=True, track_running_stats=True)\n",
       "          (2): ReLU6(inplace=True)\n",
       "        )\n",
       "        (2): Conv2d(192, 64, kernel_size=(1, 1), stride=(1, 1), bias=False)\n",
       "        (3): BatchNorm2d(64, eps=1e-05, momentum=0.1, affine=True, track_running_stats=True)\n",
       "      )\n",
       "    )\n",
       "  )\n",
       "  (classifier): FullyConnected(\n",
       "    (clas_block1): Sequential(\n",
       "      (0): Dropout2d(p=0.2, inplace=False)\n",
       "      (1): Linear(in_features=64, out_features=64, bias=True)\n",
       "    )\n",
       "  )\n",
       "  (rnn): LSTM(64, 32, batch_first=True, dropout=0.5)\n",
       "  (linear): Linear(in_features=32, out_features=1, bias=True)\n",
       "  (dropout): Dropout(p=0.5, inplace=False)\n",
       "  (relu): ReLU()\n",
       "  (activation): Sigmoid()\n",
       ")"
      ]
     },
     "execution_count": 37,
     "metadata": {},
     "output_type": "execute_result"
    }
   ],
   "source": [
    "model_custom_pl.model.to(device)\n",
    "model_bce_pl.model.to(device)\n",
    "model_combined_pl_2.model.to(device)"
   ]
  },
  {
   "cell_type": "code",
   "execution_count": 38,
   "metadata": {},
   "outputs": [],
   "source": [
    "predictions = model_custom_pl.model(batch)\n",
    "predictions_bce = model_bce_pl.model(batch)\n",
    "predictions_comb = model_combined_pl_2.model(batch)"
   ]
  },
  {
   "cell_type": "code",
   "execution_count": 56,
   "metadata": {},
   "outputs": [
    {
     "data": {
      "text/plain": [
       "<matplotlib.legend.Legend at 0x7f178bce6450>"
      ]
     },
     "execution_count": 56,
     "metadata": {},
     "output_type": "execute_result"
    },
    {
     "data": {
      "image/png": "[encoded data removed]",
      "text/plain": [
       "<Figure size 432x288 with 1 Axes>"
      ]
     },
     "metadata": {
      "needs_background": "light"
     },
     "output_type": "display_data"
    }
   ],
   "source": [
    "i = 11\n",
    "plt.plot(predictions[i].detach().cpu(), label='Custom')\n",
    "plt.plot(predictions_bce[i].detach().cpu(), label='BCE')\n",
    "plt.plot(predictions_comb[i].detach().cpu(), label='Comb')\n",
    "plt.plot(labels[i])\n",
    "plt.legend()"
   ]
  },
  {
   "cell_type": "code",
   "execution_count": 62,
   "metadata": {},
   "outputs": [
    {
     "data": {
      "text/plain": [
       "<matplotlib.legend.Legend at 0x7f178b7a5210>"
      ]
     },
     "execution_count": 62,
     "metadata": {},
     "output_type": "execute_result"
    },
    {
     "data": {
      "image/png": "[encoded data removed]",
      "text/plain": [
       "<Figure size 432x288 with 1 Axes>"
      ]
     },
     "metadata": {
      "needs_background": "light"
     },
     "output_type": "display_data"
    }
   ],
   "source": [
    "i = 7\n",
    "plt.plot(predictions[i].detach().cpu(), label='Custom')\n",
    "plt.plot(predictions_bce[i].detach().cpu(), label='BCE')\n",
    "plt.plot(predictions_comb[i].detach().cpu(), label='Comb')\n",
    "plt.plot(labels[i])\n",
    "plt.legend()"
   ]
  },
  {
   "cell_type": "code",
   "execution_count": 55,
   "metadata": {},
   "outputs": [
    {
     "name": "stdout",
     "output_type": "stream",
     "text": [
      "\n"
     ]
    },
    {
     "data": {
      "text/plain": [
       "<matplotlib.legend.Legend at 0x7f17ac198b50>"
      ]
     },
     "execution_count": 55,
     "metadata": {},
     "output_type": "execute_result"
    },
    {
     "data": {
      "image/png": "[encoded data removed]",
      "text/plain": [
       "<Figure size 432x288 with 1 Axes>"
      ]
     },
     "metadata": {
      "needs_background": "light"
     },
     "output_type": "display_data"
    }
   ],
   "source": [
    "i = \n",
    "plt.plot(predictions[i].detach().cpu(), label='Custom')\n",
    "plt.plot(predictions_bce[i].detach().cpu(), label='BCE')\n",
    "plt.plot(predictions_comb[i].detach().cpu(), label='Comb')\n",
    "plt.plot(labels[i])\n",
    "plt.legend()"
   ]
  },
  {
   "cell_type": "code",
   "execution_count": 42,
   "metadata": {},
   "outputs": [
    {
     "data": {
      "text/plain": [
       "<matplotlib.legend.Legend at 0x7f178bfd6690>"
      ]
     },
     "execution_count": 42,
     "metadata": {},
     "output_type": "execute_result"
    },
    {
     "data": {
      "image/png": "[encoded data removed]",
      "text/plain": [
       "<Figure size 432x288 with 1 Axes>"
      ]
     },
     "metadata": {
      "needs_background": "light"
     },
     "output_type": "display_data"
    }
   ],
   "source": [
    "i = 3\n",
    "plt.plot(predictions[i].detach().cpu(), label='Custom')\n",
    "plt.plot(predictions_bce[i].detach().cpu(), label='BCE')\n",
    "plt.plot(predictions_comb[i].detach().cpu(), label='Comb')\n",
    "plt.plot(labels[i])\n",
    "plt.legend()"
   ]
  },
  {
   "cell_type": "code",
   "execution_count": null,
   "metadata": {},
   "outputs": [],
   "source": [
    "i = 14\n",
    "plt.plot(predictions[i].detach().cpu(), label='Custom')\n",
    "plt.plot(predictions_bce[i].detach().cpu(), label='BCE')\n",
    "plt.plot(predictions_comb[i].detach().cpu(), label='Comb')\n",
    "plt.plot(labels[i])\n",
    "plt.legend()"
   ]
  },
  {
   "cell_type": "code",
   "execution_count": null,
   "metadata": {},
   "outputs": [],
   "source": []
  }
 ],
 "metadata": {
  "kernelspec": {
   "display_name": "Python 3",
   "language": "python",
   "name": "python3"
  },
  "language_info": {
   "codemirror_mode": {
    "name": "ipython",
    "version": 3
   },
   "file_extension": ".py",
   "mimetype": "text/x-python",
   "name": "python",
   "nbconvert_exporter": "python",
   "pygments_lexer": "ipython3",
   "version": "3.7.9"
  }
 },
 "nbformat": 4,
 "nbformat_minor": 5
}
