{
 "cells": [
  {
   "cell_type": "code",
   "execution_count": 1,
   "metadata": {},
   "outputs": [],
   "source": [
    "import numpy as np\n",
    "import scipy\n",
    "import matplotlib.pyplot as plt\n",
    "%matplotlib inline\n",
    "\n",
    "from scipy.stats import norm\n",
    "from sklearn.model_selection import train_test_split\n",
    "from tqdm.notebook import tqdm\n",
    "from sklearn.metrics import average_precision_score"
   ]
  },
  {
   "cell_type": "code",
   "execution_count": 2,
   "metadata": {},
   "outputs": [],
   "source": [
    "import torch\n",
    "import torch.nn as nn\n",
    "import torch.nn.functional as F\n",
    "import torch.optim as optim\n",
    "from torch.utils.data import TensorDataset, DataLoader\n",
    "torch.manual_seed(1);\n",
    "from torch.utils import data\n"
   ]
  },
  {
   "cell_type": "markdown",
   "metadata": {},
   "source": [
    "## Read data"
   ]
  },
  {
   "cell_type": "code",
   "execution_count": 3,
   "metadata": {},
   "outputs": [],
   "source": [
    "from PIL import Image\n",
    "from torch.utils import data\n",
    "import os\n",
    "from torch.utils.data import Subset, DataLoader\n",
    "import random\n",
    "random.seed(123)"
   ]
  },
  {
   "cell_type": "code",
   "execution_count": 4,
   "metadata": {},
   "outputs": [],
   "source": [
    "class ExplosionDataset(data.Dataset):\n",
    "    \n",
    "    def __init__(self, path_to_data, seq_len):\n",
    "        super(ExplosionDataset, self).__init__()\n",
    "        self.path_to_data = path_to_data\n",
    "        self.seq_len = seq_len\n",
    "        \n",
    "    def __len__(self):\n",
    "        return len(os.listdir(self.path_to_data)) - 1\n",
    "        \n",
    "    def __getitem__(self, item):\n",
    "        path_to_sequence = os.path.join(self.path_to_data, str(item))\n",
    "        sequence_img = [None] * self.seq_len\n",
    "        sequence_labels = [None] * self.seq_len \n",
    "\n",
    "        for img_path in os.listdir(path_to_sequence):\n",
    "            if img_path == '.ipynb_checkpoints':\n",
    "                continue\n",
    "            im_index, label = img_path[:-4].split('frame')[1].split('_')\n",
    "            im_index = int(im_index)\n",
    "            label = int(label)\n",
    "            full_path_to_img = os.path.join(path_to_sequence + \"/\", img_path)\n",
    "            \n",
    "            # load image and reshape to vector\n",
    "            img = Image.open(full_path_to_img)\n",
    "            img.load()\n",
    "            img = np.asarray(img, dtype=\"float32\") #IM_SIZE_1, IM_SIZE_2, CHANNELS                       \n",
    "            sequence_img[im_index] = img\n",
    "            sequence_labels[im_index] = label\n",
    "            \n",
    "        sequence_labels = np.asarray(sequence_labels)\n",
    "        sequence_labels = torch.from_numpy(sequence_labels)\n",
    "        sequence_img = np.asarray(sequence_img)\n",
    "        sequence_img = torch.from_numpy(sequence_img).transpose(1, 3).transpose(2, 3) # seq_len, channels, im_size_1, im_size_2\n",
    "        return sequence_img, sequence_labels"
   ]
  },
  {
   "cell_type": "code",
   "execution_count": 5,
   "metadata": {},
   "outputs": [],
   "source": [
    "path_to_data = 'explosion_data/'\n",
    "imgs_dataset = ExplosionDataset(path_to_data, seq_len=121)"
   ]
  },
  {
   "cell_type": "code",
   "execution_count": 6,
   "metadata": {},
   "outputs": [],
   "source": [
    "def train_test_split(dataset, test_size=0.25, shuffle=True):\n",
    "    _idx = np.arange(len(dataset))\n",
    "\n",
    "    if shuffle:\n",
    "        _train_idx = random.sample(list(_idx), int((1 - test_size)*len(dataset)))\n",
    "    else:\n",
    "        _train_idx = _idx[:-int(test_size*len(dataset))]    \n",
    "        \n",
    "    _test_idx = np.setdiff1d(_idx, _train_idx)\n",
    "    \n",
    "    train_ds = Subset(dataset, _train_idx)\n",
    "    test_ds = Subset(dataset, _test_idx)\n",
    "\n",
    "    return train_ds, test_ds"
   ]
  },
  {
   "cell_type": "code",
   "execution_count": 7,
   "metadata": {},
   "outputs": [],
   "source": [
    "train_dataset, test_dataset = train_test_split(imgs_dataset)\n",
    "train_dataset, valid_dataset = train_test_split(train_dataset, test_size=0.1)"
   ]
  },
  {
   "cell_type": "code",
   "execution_count": 8,
   "metadata": {},
   "outputs": [],
   "source": [
    "BATCH_SIZE = 4\n",
    "train_dataloader = DataLoader(train_dataset, batch_size=BATCH_SIZE)\n",
    "val_dataloader = DataLoader(valid_dataset, batch_size=BATCH_SIZE)\n",
    "test_dataloader = DataLoader(test_dataset, batch_size=BATCH_SIZE)"
   ]
  },
  {
   "cell_type": "markdown",
   "metadata": {},
   "source": [
    "## Loss function"
   ]
  },
  {
   "cell_type": "code",
   "execution_count": 9,
   "metadata": {},
   "outputs": [],
   "source": [
    "device = torch.device('cuda')"
   ]
  },
  {
   "cell_type": "code",
   "execution_count": 10,
   "metadata": {},
   "outputs": [],
   "source": [
    "def loss_delay_detection_2(p_slice):\n",
    "    n = p_slice.size(0)\n",
    "    prod = torch.ones(n).to(device)\n",
    "    p_slice = p_slice.to(device)\n",
    "    prod[1:] -= p_slice[:-1]\n",
    "    cumprod = torch.cumprod(prod, dim=0).to(device)\n",
    "    loss = torch.arange(1, n + 1).to(device) * p_slice * cumprod\n",
    "    loss = torch.sum(loss)\n",
    "    return loss\n",
    "\n",
    "\n",
    "def loss_delay_detection(p_slice, w):\n",
    "    n = p_slice.size(0) \n",
    "    prod = torch.ones(n).to(device)\n",
    "    p_slice = p_slice.to(device)\n",
    "    \n",
    "    prod[1:] -= p_slice[:-1].to(device)\n",
    "    cumprod = torch.cumprod(prod, dim=0).to(device)\n",
    "    # TODO drop either n or w\n",
    "    loss = (torch.arange(1, n + 1).to(device) * p_slice * cumprod \n",
    "            + (w + 1) * torch.prod(prod[1:]) * (1 - p_slice[-1]))\n",
    "    loss = torch.sum(loss)\n",
    "    return loss\n",
    "\n",
    "def loss_false_alarms(p_slice):\n",
    "    length = len(p_slice)\n",
    "    loss = 0\n",
    "    \n",
    "    start_ind = 0\n",
    "    end_ind = 0\n",
    "    \n",
    "    while end_ind < length:\n",
    "        start_ind = end_ind - 1\n",
    "        if start_ind < 0:\n",
    "            start_ind = 0\n",
    "        end_ind = np.random.randint(start_ind, length + 2)\n",
    "        if end_ind == start_ind:\n",
    "            end_ind = end_ind + 1\n",
    "        loss += 1 - loss_delay_detection_2(p_slice[start_ind: end_ind + 1])    \n",
    "    #loss += 1 - loss_delay_detection_2(p_slice[start_ind: length])            \n",
    "    loss = torch.sum(loss)\n",
    "    return loss"
   ]
  },
  {
   "cell_type": "code",
   "execution_count": 11,
   "metadata": {},
   "outputs": [],
   "source": [
    "class CustomLoss(nn.Module):\n",
    "    \n",
    "    def __init__(self):\n",
    "        super(CustomLoss, self).__init__()\n",
    "        \n",
    "    def forward(self, outputs, labels):\n",
    "        loss = torch.zeros(labels.size(0))\n",
    "        for i, label in enumerate(labels):\n",
    "            ind = torch.where(label != label[0])[0]\n",
    "            if ind.size()[0] == 0:\n",
    "                loss[i] = loss_false_alarms(outputs[i, :])\n",
    "            else:\n",
    "                w = 16\n",
    "                alpha = 0.5\n",
    "                loss[i] = (alpha * loss_delay_detection(outputs[i, ind[0]:(ind[0] + w)], w) + \n",
    "                           (1 - alpha) * loss_false_alarms(outputs[i, :ind[0]]))\n",
    "        loss = torch.mean(loss)\n",
    "        return loss\n"
   ]
  },
  {
   "cell_type": "markdown",
   "metadata": {},
   "source": [
    "## Model"
   ]
  },
  {
   "cell_type": "code",
   "execution_count": 12,
   "metadata": {},
   "outputs": [],
   "source": [
    "class CNN(nn.Module):\n",
    "    def __init__(self):\n",
    "        super(CNN, self).__init__()\n",
    "        self.conv1 = nn.Conv2d(3, 4, kernel_size=3)\n",
    "        self.drop = nn.Dropout2d()\n",
    "        self.conv2 = nn.Conv2d(4, 8, kernel_size=3)        \n",
    "        self.fc1 = nn.Linear(36192, 100)\n",
    "\n",
    "    def forward(self, x):\n",
    "        x = F.relu(F.max_pool2d(self.conv1(x), 2))\n",
    "        x = self.drop(x)\n",
    "        x = F.relu(F.max_pool2d(self.conv2(x), 2))\n",
    "        x = x.view(-1, 36192)\n",
    "        return F.log_softmax(x, dim=1)"
   ]
  },
  {
   "cell_type": "code",
   "execution_count": 13,
   "metadata": {},
   "outputs": [],
   "source": [
    "class Combine(nn.Module):\n",
    "    def __init__(self):\n",
    "        super(Combine, self).__init__()\n",
    "        self.cnn = CNN()\n",
    "        self.rnn = nn.LSTM(\n",
    "            input_size=36192, \n",
    "            hidden_size=100, \n",
    "            num_layers=1,\n",
    "            batch_first=True, \n",
    "            dropout=0.5)\n",
    "        self.linear_1 = nn.Linear(100,50)\n",
    "        self.linear_2 = nn.Linear(50,1)\n",
    "        self.linear = nn.Linear(100,1)        \n",
    "        self.dropout = nn.Dropout(0.5)\n",
    "        self.relu = nn.ReLU()  \n",
    "        self.activation = nn.Sigmoid()        \n",
    "\n",
    "    def forward(self, x):\n",
    "        batch_size, timesteps, C, H, W = x.size()\n",
    "        c_in = x.view(batch_size * timesteps, C, H, W)\n",
    "        c_out = self.cnn(c_in)\n",
    "        r_in = c_out.view(batch_size, timesteps, -1)\n",
    "        r_out, hidden = self.rnn(r_in)\n",
    "        r_out2 = self.linear(r_out.reshape(batch_size * timesteps, -1)).reshape(batch_size, timesteps, -1)\n",
    "        out = self.activation(r_out2)\n",
    "        return out\n",
    "    \n",
    "    def init_hidden(self, batch_size):\n",
    "        weight = next(self.parameters()).data\n",
    "        \n",
    "        hidden = (weight.new(1, batch_size, 100).zero_().to(device),\n",
    "                  weight.new(1, batch_size, 100).zero_().to(device))\n",
    "        return hidden    "
   ]
  },
  {
   "cell_type": "code",
   "execution_count": 14,
   "metadata": {},
   "outputs": [
    {
     "name": "stderr",
     "output_type": "stream",
     "text": [
      "/home/eromanenkova/anaconda3/lib/python3.7/site-packages/torch/nn/modules/rnn.py:61: UserWarning: dropout option adds dropout after all but last recurrent layer, so non-zero dropout expects num_layers greater than 1, but got dropout=0.5 and num_layers=1\n",
      "  \"num_layers={}\".format(dropout, num_layers))\n"
     ]
    },
    {
     "data": {
      "text/plain": [
       "Combine(\n",
       "  (cnn): CNN(\n",
       "    (conv1): Conv2d(3, 4, kernel_size=(3, 3), stride=(1, 1))\n",
       "    (drop): Dropout2d(p=0.5, inplace=False)\n",
       "    (conv2): Conv2d(4, 8, kernel_size=(3, 3), stride=(1, 1))\n",
       "    (fc1): Linear(in_features=36192, out_features=100, bias=True)\n",
       "  )\n",
       "  (rnn): LSTM(36192, 100, batch_first=True, dropout=0.5)\n",
       "  (linear_1): Linear(in_features=100, out_features=50, bias=True)\n",
       "  (linear_2): Linear(in_features=50, out_features=1, bias=True)\n",
       "  (linear): Linear(in_features=100, out_features=1, bias=True)\n",
       "  (dropout): Dropout(p=0.5, inplace=False)\n",
       "  (relu): ReLU()\n",
       "  (activation): Sigmoid()\n",
       ")"
      ]
     },
     "execution_count": 14,
     "metadata": {},
     "output_type": "execute_result"
    }
   ],
   "source": [
    "model = Combine()\n",
    "model.to(device)"
   ]
  },
  {
   "cell_type": "code",
   "execution_count": 15,
   "metadata": {},
   "outputs": [],
   "source": [
    "#loss_function = CustomLoss()\n",
    "loss_function  = torch.nn.BCELoss()\n",
    "optimizer = torch.optim.Adam(model.parameters(), lr=0.001)"
   ]
  },
  {
   "cell_type": "code",
   "execution_count": 16,
   "metadata": {},
   "outputs": [],
   "source": [
    "def train_model(model, loss_function, optimizer, train_loader, val_loader, batch_size, epochs=100, print_every=5):\n",
    "    \n",
    "    valid_loss_min = np.Inf\n",
    "\n",
    "    loss_list = []\n",
    "    acc_list = []\n",
    "    overall_val_loss_list = []\n",
    "    counter = 0\n",
    "    \n",
    "    model.train()\n",
    "\n",
    "    out_list = []\n",
    "    labels_list = []\n",
    "\n",
    "    model.train()\n",
    "    for i in range(epochs):\n",
    "        # for inputs, labels in tqdm(train_loader):\n",
    "        for inputs, labels in train_loader:\n",
    "            if inputs.shape[0] < batch_size:\n",
    "                break\n",
    "\n",
    "            counter += 1\n",
    "\n",
    "            inputs, labels = inputs.to(device), labels.to(device) \n",
    "\n",
    "            output = model(inputs)\n",
    "            loss = loss_function(output.squeeze(), labels.float())\n",
    "            \n",
    "            loss_list += [loss.cpu().clone().detach()]\n",
    "            accuracy = (output.squeeze() > 0.5).long() == labels.squeeze()\n",
    "            acc_list += [accuracy.cpu().detach().float().mean()]\n",
    "            out_list.append(output.cpu().detach().float())\n",
    "            labels_list.append(labels.cpu().detach().float())\n",
    "\n",
    "            loss.backward()\n",
    "            optimizer.step()\n",
    "            optimizer.zero_grad()\n",
    "\n",
    "            if counter%print_every == 0:\n",
    "                val_losses = []\n",
    "                val_outputs = []\n",
    "                model.eval()\n",
    "                for val_inputs, val_labels in val_loader:\n",
    "                    val_inputs, val_labels = val_inputs.to(device), val_labels.to(device) \n",
    "                    \n",
    "                    if val_inputs.shape[0] < batch_size:\n",
    "                        break\n",
    "                            \n",
    "                    val_out = model(val_inputs)\n",
    "                    val_loss = loss_function(val_out.squeeze(), val_labels.float())\n",
    "                    val_losses.append(val_loss.item())\n",
    "                    val_outputs += [val_out.cpu().clone().detach()]\n",
    "\n",
    "                val_outputs_one = torch.cat(val_outputs, 0)\n",
    "\n",
    "                overall_val_loss_list.append(np.mean(val_losses))\n",
    "\n",
    "                model.train()\n",
    "                print(\"Epoch: {}/{}...\".format(i+1, epochs),\n",
    "                      \"Step: {}...\".format(counter),\n",
    "                      \"Loss: {:.6f}...\".format(loss.item()),\n",
    "                      \"Val Loss: {:.6f}\".format(np.mean(val_losses)))\n",
    "    return model, (loss_list, acc_list, overall_val_loss_list)"
   ]
  },
  {
   "cell_type": "code",
   "execution_count": 17,
   "metadata": {
    "scrolled": true
   },
   "outputs": [
    {
     "name": "stdout",
     "output_type": "stream",
     "text": [
      "Epoch: 1/30... Step: 5... Loss: 0.462217... Val Loss: 0.499772\n",
      "Epoch: 1/30... Step: 10... Loss: 0.569302... Val Loss: 0.486759\n",
      "Epoch: 1/30... Step: 15... Loss: 0.408806... Val Loss: 0.461616\n",
      "Epoch: 1/30... Step: 20... Loss: 0.570529... Val Loss: 0.437811\n",
      "Epoch: 1/30... Step: 25... Loss: 0.346594... Val Loss: 0.417264\n",
      "Epoch: 1/30... Step: 30... Loss: 0.476456... Val Loss: 0.397262\n",
      "Epoch: 2/30... Step: 35... Loss: 0.292562... Val Loss: 0.381084\n",
      "Epoch: 2/30... Step: 40... Loss: 0.497777... Val Loss: 0.367025\n",
      "Epoch: 2/30... Step: 45... Loss: 0.538951... Val Loss: 0.355630\n",
      "Epoch: 2/30... Step: 50... Loss: 0.610309... Val Loss: 0.348224\n",
      "Epoch: 2/30... Step: 55... Loss: 0.470278... Val Loss: 0.342113\n",
      "Epoch: 2/30... Step: 60... Loss: 0.271528... Val Loss: 0.337352\n",
      "Epoch: 2/30... Step: 65... Loss: 0.686886... Val Loss: 0.331030\n",
      "Epoch: 3/30... Step: 70... Loss: 0.546329... Val Loss: 0.326789\n",
      "Epoch: 3/30... Step: 75... Loss: 0.191581... Val Loss: 0.322555\n",
      "Epoch: 3/30... Step: 80... Loss: 0.573686... Val Loss: 0.320351\n",
      "Epoch: 3/30... Step: 85... Loss: 0.226058... Val Loss: 0.318768\n",
      "Epoch: 3/30... Step: 90... Loss: 0.401780... Val Loss: 0.318015\n",
      "Epoch: 3/30... Step: 95... Loss: 0.178201... Val Loss: 0.316189\n",
      "Epoch: 4/30... Step: 100... Loss: 0.565982... Val Loss: 0.314326\n",
      "Epoch: 4/30... Step: 105... Loss: 0.560797... Val Loss: 0.312439\n",
      "Epoch: 4/30... Step: 110... Loss: 0.548539... Val Loss: 0.310822\n",
      "Epoch: 4/30... Step: 115... Loss: 0.197415... Val Loss: 0.310774\n",
      "Epoch: 4/30... Step: 120... Loss: 0.293148... Val Loss: 0.310863\n",
      "Epoch: 4/30... Step: 125... Loss: 0.541278... Val Loss: 0.311282\n",
      "Epoch: 4/30... Step: 130... Loss: 0.299440... Val Loss: 0.309752\n",
      "Epoch: 5/30... Step: 135... Loss: 0.162036... Val Loss: 0.309139\n",
      "Epoch: 5/30... Step: 140... Loss: 0.290177... Val Loss: 0.308141\n",
      "Epoch: 5/30... Step: 145... Loss: 0.706413... Val Loss: 0.307635\n",
      "Epoch: 5/30... Step: 150... Loss: 0.588437... Val Loss: 0.308184\n",
      "Epoch: 5/30... Step: 155... Loss: 0.739931... Val Loss: 0.308779\n",
      "Epoch: 5/30... Step: 160... Loss: 0.161444... Val Loss: 0.308983\n",
      "Epoch: 5/30... Step: 165... Loss: 0.537558... Val Loss: 0.307884\n",
      "Epoch: 6/30... Step: 170... Loss: 0.157549... Val Loss: 0.307249\n",
      "Epoch: 6/30... Step: 175... Loss: 0.539088... Val Loss: 0.306394\n",
      "Epoch: 6/30... Step: 180... Loss: 0.155943... Val Loss: 0.306970\n",
      "Epoch: 6/30... Step: 185... Loss: 0.596744... Val Loss: 0.307515\n",
      "Epoch: 6/30... Step: 190... Loss: 0.159376... Val Loss: 0.308367\n",
      "Epoch: 6/30... Step: 195... Loss: 0.442747... Val Loss: 0.307738\n",
      "Epoch: 7/30... Step: 200... Loss: 0.157369... Val Loss: 0.307381\n",
      "Epoch: 7/30... Step: 205... Loss: 0.502127... Val Loss: 0.306576\n",
      "Epoch: 7/30... Step: 210... Loss: 0.565908... Val Loss: 0.305955\n",
      "Epoch: 7/30... Step: 215... Loss: 0.660831... Val Loss: 0.306731\n",
      "Epoch: 7/30... Step: 220... Loss: 0.472236... Val Loss: 0.307450\n",
      "Epoch: 7/30... Step: 225... Loss: 0.224804... Val Loss: 0.308334\n",
      "Epoch: 7/30... Step: 230... Loss: 0.736401... Val Loss: 0.307148\n",
      "Epoch: 8/30... Step: 235... Loss: 0.564328... Val Loss: 0.306885\n",
      "Epoch: 8/30... Step: 240... Loss: 0.154560... Val Loss: 0.306004\n",
      "Epoch: 8/30... Step: 245... Loss: 0.591666... Val Loss: 0.306382\n",
      "Epoch: 8/30... Step: 250... Loss: 0.203827... Val Loss: 0.306957\n",
      "Epoch: 8/30... Step: 255... Loss: 0.399003... Val Loss: 0.308020\n",
      "Epoch: 8/30... Step: 260... Loss: 0.158974... Val Loss: 0.307787\n",
      "Epoch: 9/30... Step: 265... Loss: 0.575170... Val Loss: 0.307238\n",
      "Epoch: 9/30... Step: 270... Loss: 0.568626... Val Loss: 0.306433\n",
      "Epoch: 9/30... Step: 275... Loss: 0.554965... Val Loss: 0.305711\n",
      "Epoch: 9/30... Step: 280... Loss: 0.188260... Val Loss: 0.306448\n",
      "Epoch: 9/30... Step: 285... Loss: 0.288778... Val Loss: 0.307233\n",
      "Epoch: 9/30... Step: 290... Loss: 0.544596... Val Loss: 0.308283\n",
      "Epoch: 9/30... Step: 295... Loss: 0.296521... Val Loss: 0.307159\n",
      "Epoch: 10/30... Step: 300... Loss: 0.156684... Val Loss: 0.306928\n",
      "Epoch: 10/30... Step: 305... Loss: 0.287858... Val Loss: 0.306214\n",
      "Epoch: 10/30... Step: 310... Loss: 0.711298... Val Loss: 0.305975\n",
      "Epoch: 10/30... Step: 315... Loss: 0.590751... Val Loss: 0.306835\n",
      "Epoch: 10/30... Step: 320... Loss: 0.743310... Val Loss: 0.307717\n",
      "Epoch: 10/30... Step: 325... Loss: 0.159426... Val Loss: 0.308138\n",
      "Epoch: 10/30... Step: 330... Loss: 0.538487... Val Loss: 0.307098\n",
      "Epoch: 11/30... Step: 335... Loss: 0.155840... Val Loss: 0.306539\n",
      "Epoch: 11/30... Step: 340... Loss: 0.539921... Val Loss: 0.305724\n",
      "Epoch: 11/30... Step: 345... Loss: 0.154605... Val Loss: 0.306450\n",
      "Epoch: 11/30... Step: 350... Loss: 0.597456... Val Loss: 0.307131\n",
      "Epoch: 11/30... Step: 355... Loss: 0.158779... Val Loss: 0.308134\n",
      "Epoch: 11/30... Step: 360... Loss: 0.442797... Val Loss: 0.307507\n",
      "Epoch: 12/30... Step: 365... Loss: 0.156845... Val Loss: 0.307164\n",
      "Epoch: 12/30... Step: 370... Loss: 0.502338... Val Loss: 0.306331\n",
      "Epoch: 12/30... Step: 375... Loss: 0.566314... Val Loss: 0.305697\n",
      "Epoch: 12/30... Step: 380... Loss: 0.661257... Val Loss: 0.306567\n",
      "Epoch: 12/30... Step: 385... Loss: 0.472285... Val Loss: 0.307370\n",
      "Epoch: 12/30... Step: 390... Loss: 0.224816... Val Loss: 0.308345\n",
      "Epoch: 12/30... Step: 395... Loss: 0.736586... Val Loss: 0.307082\n",
      "Epoch: 13/30... Step: 400... Loss: 0.564423... Val Loss: 0.306810\n",
      "Epoch: 13/30... Step: 405... Loss: 0.154296... Val Loss: 0.305879\n",
      "Epoch: 13/30... Step: 410... Loss: 0.591861... Val Loss: 0.306294\n",
      "Epoch: 13/30... Step: 415... Loss: 0.203738... Val Loss: 0.306919\n",
      "Epoch: 13/30... Step: 420... Loss: 0.399005... Val Loss: 0.308062\n",
      "Epoch: 13/30... Step: 425... Loss: 0.159099... Val Loss: 0.307817\n",
      "Epoch: 14/30... Step: 430... Loss: 0.575185... Val Loss: 0.307235\n",
      "Epoch: 14/30... Step: 435... Loss: 0.568688... Val Loss: 0.306382\n",
      "Epoch: 14/30... Step: 440... Loss: 0.555084... Val Loss: 0.305623\n",
      "Epoch: 14/30... Step: 445... Loss: 0.188173... Val Loss: 0.306407\n",
      "Epoch: 14/30... Step: 450... Loss: 0.288779... Val Loss: 0.307240\n",
      "Epoch: 14/30... Step: 455... Loss: 0.544525... Val Loss: 0.308352\n",
      "Epoch: 14/30... Step: 460... Loss: 0.296549... Val Loss: 0.307165\n",
      "Epoch: 15/30... Step: 465... Loss: 0.156698... Val Loss: 0.306920\n",
      "Epoch: 15/30... Step: 470... Loss: 0.287815... Val Loss: 0.306170\n",
      "Epoch: 15/30... Step: 475... Loss: 0.711487... Val Loss: 0.305921\n",
      "Epoch: 15/30... Step: 480... Loss: 0.590784... Val Loss: 0.306826\n",
      "Epoch: 15/30... Step: 485... Loss: 0.743248... Val Loss: 0.307753\n",
      "Epoch: 15/30... Step: 490... Loss: 0.159580... Val Loss: 0.308194\n",
      "Epoch: 15/30... Step: 495... Loss: 0.538479... Val Loss: 0.307103\n",
      "Epoch: 16/30... Step: 500... Loss: 0.155820... Val Loss: 0.306518\n",
      "Epoch: 16/30... Step: 505... Loss: 0.539980... Val Loss: 0.305669\n",
      "Epoch: 16/30... Step: 510... Loss: 0.154533... Val Loss: 0.306426\n",
      "Epoch: 16/30... Step: 515... Loss: 0.597456... Val Loss: 0.307138\n",
      "Epoch: 16/30... Step: 520... Loss: 0.158889... Val Loss: 0.308184\n",
      "Epoch: 16/30... Step: 525... Loss: 0.442787... Val Loss: 0.307530\n",
      "Epoch: 17/30... Step: 530... Loss: 0.156870... Val Loss: 0.307171\n",
      "Epoch: 17/30... Step: 535... Loss: 0.502357... Val Loss: 0.306305\n",
      "Epoch: 17/30... Step: 540... Loss: 0.566388... Val Loss: 0.305649\n",
      "Epoch: 17/30... Step: 545... Loss: 0.661303... Val Loss: 0.306552\n",
      "Epoch: 17/30... Step: 550... Loss: 0.472277... Val Loss: 0.307386\n",
      "Epoch: 17/30... Step: 555... Loss: 0.224906... Val Loss: 0.308396\n",
      "Epoch: 17/30... Step: 560... Loss: 0.736558... Val Loss: 0.307086\n",
      "Epoch: 18/30... Step: 565... Loss: 0.564424... Val Loss: 0.306803\n",
      "Epoch: 18/30... Step: 570... Loss: 0.154231... Val Loss: 0.305842\n",
      "Epoch: 18/30... Step: 575... Loss: 0.591918... Val Loss: 0.306271\n",
      "Epoch: 18/30... Step: 580... Loss: 0.203730... Val Loss: 0.306918\n",
      "Epoch: 18/30... Step: 585... Loss: 0.399008... Val Loss: 0.308098\n",
      "Epoch: 18/30... Step: 590... Loss: 0.159193... Val Loss: 0.307845\n",
      "Epoch: 19/30... Step: 595... Loss: 0.575175... Val Loss: 0.307242\n",
      "Epoch: 19/30... Step: 600... Loss: 0.568706... Val Loss: 0.306364\n",
      "Epoch: 19/30... Step: 605... Loss: 0.555135... Val Loss: 0.305584\n",
      "Epoch: 19/30... Step: 610... Loss: 0.188140... Val Loss: 0.306390\n",
      "Epoch: 19/30... Step: 615... Loss: 0.288786... Val Loss: 0.307248\n",
      "Epoch: 19/30... Step: 620... Loss: 0.544482... Val Loss: 0.308392\n",
      "Epoch: 19/30... Step: 625... Loss: 0.296566... Val Loss: 0.307171\n",
      "Epoch: 20/30... Step: 630... Loss: 0.156711... Val Loss: 0.306918\n"
     ]
    },
    {
     "name": "stdout",
     "output_type": "stream",
     "text": [
      "Epoch: 20/30... Step: 635... Loss: 0.287793... Val Loss: 0.306148\n",
      "Epoch: 20/30... Step: 640... Loss: 0.711581... Val Loss: 0.305894\n",
      "Epoch: 20/30... Step: 645... Loss: 0.590799... Val Loss: 0.306823\n",
      "Epoch: 20/30... Step: 650... Loss: 0.743208... Val Loss: 0.307773\n",
      "Epoch: 20/30... Step: 655... Loss: 0.159666... Val Loss: 0.308225\n",
      "Epoch: 20/30... Step: 660... Loss: 0.538472... Val Loss: 0.307105\n",
      "Epoch: 21/30... Step: 665... Loss: 0.155809... Val Loss: 0.306506\n",
      "Epoch: 21/30... Step: 670... Loss: 0.540010... Val Loss: 0.305638\n",
      "Epoch: 21/30... Step: 675... Loss: 0.154495... Val Loss: 0.306413\n",
      "Epoch: 21/30... Step: 680... Loss: 0.597455... Val Loss: 0.307142\n",
      "Epoch: 21/30... Step: 685... Loss: 0.158952... Val Loss: 0.308211\n",
      "Epoch: 21/30... Step: 690... Loss: 0.442781... Val Loss: 0.307542\n",
      "Epoch: 22/30... Step: 695... Loss: 0.156884... Val Loss: 0.307175\n",
      "Epoch: 22/30... Step: 700... Loss: 0.502366... Val Loss: 0.309717\n",
      "Epoch: 22/30... Step: 705... Loss: 0.562417... Val Loss: 0.308423\n",
      "Epoch: 22/30... Step: 710... Loss: 0.654685... Val Loss: 0.309511\n",
      "Epoch: 22/30... Step: 715... Loss: 0.470877... Val Loss: 0.310290\n",
      "Epoch: 22/30... Step: 720... Loss: 0.229922... Val Loss: 0.311208\n",
      "Epoch: 22/30... Step: 725... Loss: 0.730510... Val Loss: 0.309060\n",
      "Epoch: 23/30... Step: 730... Loss: 0.562196... Val Loss: 0.308321\n",
      "Epoch: 23/30... Step: 735... Loss: 0.156939... Val Loss: 0.306825\n",
      "Epoch: 23/30... Step: 740... Loss: 0.590522... Val Loss: 0.307092\n",
      "Epoch: 23/30... Step: 745... Loss: 0.205236... Val Loss: 0.307661\n",
      "Epoch: 23/30... Step: 750... Loss: 0.399127... Val Loss: 0.308882\n",
      "Epoch: 23/30... Step: 755... Loss: 0.160805... Val Loss: 0.308436\n",
      "Epoch: 24/30... Step: 760... Loss: 0.574592... Val Loss: 0.307614\n",
      "Epoch: 24/30... Step: 765... Loss: 0.568400... Val Loss: 0.306518\n",
      "Epoch: 24/30... Step: 770... Loss: 0.555103... Val Loss: 0.305573\n",
      "Epoch: 24/30... Step: 775... Loss: 0.188285... Val Loss: 0.306443\n",
      "Epoch: 24/30... Step: 780... Loss: 0.288934... Val Loss: 0.307382\n",
      "Epoch: 24/30... Step: 785... Loss: 0.544192... Val Loss: 0.308643\n",
      "Epoch: 24/30... Step: 790... Loss: 0.296703... Val Loss: 0.307246\n",
      "Epoch: 25/30... Step: 795... Loss: 0.156858... Val Loss: 0.306940\n",
      "Epoch: 25/30... Step: 800... Loss: 0.287727... Val Loss: 0.306072\n",
      "Epoch: 25/30... Step: 805... Loss: 0.711940... Val Loss: 0.305788\n",
      "Epoch: 25/30... Step: 810... Loss: 0.590833... Val Loss: 0.306818\n",
      "Epoch: 25/30... Step: 815... Loss: 0.742994... Val Loss: 0.307872\n",
      "Epoch: 25/30... Step: 820... Loss: 0.160065... Val Loss: 0.308367\n",
      "Epoch: 25/30... Step: 825... Loss: 0.538433... Val Loss: 0.307122\n",
      "Epoch: 26/30... Step: 830... Loss: 0.155776... Val Loss: 0.306457\n",
      "Epoch: 26/30... Step: 835... Loss: 0.540136... Val Loss: 0.305507\n",
      "Epoch: 26/30... Step: 840... Loss: 0.154337... Val Loss: 0.306359\n",
      "Epoch: 26/30... Step: 845... Loss: 0.597433... Val Loss: 0.307164\n",
      "Epoch: 26/30... Step: 850... Loss: 0.159242... Val Loss: 0.308338\n",
      "Epoch: 26/30... Step: 855... Loss: 0.442747... Val Loss: 0.307601\n",
      "Epoch: 27/30... Step: 860... Loss: 0.156957... Val Loss: 0.307192\n",
      "Epoch: 27/30... Step: 865... Loss: 0.502400... Val Loss: 0.306225\n",
      "Epoch: 27/30... Step: 870... Loss: 0.566600... Val Loss: 0.305502\n",
      "Epoch: 27/30... Step: 875... Loss: 0.661415... Val Loss: 0.306509\n",
      "Epoch: 27/30... Step: 880... Loss: 0.472240... Val Loss: 0.307439\n",
      "Epoch: 27/30... Step: 885... Loss: 0.225201... Val Loss: 0.308560\n",
      "Epoch: 27/30... Step: 890... Loss: 0.736439... Val Loss: 0.307101\n",
      "Epoch: 28/30... Step: 895... Loss: 0.564410... Val Loss: 0.306782\n",
      "Epoch: 28/30... Step: 900... Loss: 0.154028... Val Loss: 0.305723\n",
      "Epoch: 28/30... Step: 905... Loss: 0.592084... Val Loss: 0.306199\n",
      "Epoch: 28/30... Step: 910... Loss: 0.203718... Val Loss: 0.306917\n",
      "Epoch: 28/30... Step: 915... Loss: 0.399013... Val Loss: 0.308221\n",
      "Epoch: 28/30... Step: 920... Loss: 0.159520... Val Loss: 0.307938\n",
      "Epoch: 29/30... Step: 925... Loss: 0.575128... Val Loss: 0.307268\n",
      "Epoch: 29/30... Step: 930... Loss: 0.568753... Val Loss: 0.306300\n",
      "Epoch: 29/30... Step: 935... Loss: 0.555294... Val Loss: 0.305450\n",
      "Epoch: 29/30... Step: 940... Loss: 0.188040... Val Loss: 0.306336\n",
      "Epoch: 29/30... Step: 945... Loss: 0.288813... Val Loss: 0.307281\n",
      "Epoch: 29/30... Step: 950... Loss: 0.544314... Val Loss: 0.308534\n",
      "Epoch: 29/30... Step: 955... Loss: 0.296629... Val Loss: 0.307192\n",
      "Epoch: 30/30... Step: 960... Loss: 0.156764... Val Loss: 0.306909\n",
      "Epoch: 30/30... Step: 965... Loss: 0.287717... Val Loss: 0.306069\n",
      "Epoch: 30/30... Step: 970... Loss: 0.711899... Val Loss: 0.305796\n",
      "Epoch: 30/30... Step: 975... Loss: 0.590832... Val Loss: 0.306812\n",
      "Epoch: 30/30... Step: 980... Loss: 0.743030... Val Loss: 0.307852\n",
      "Epoch: 30/30... Step: 985... Loss: 0.160000... Val Loss: 0.308342\n",
      "Epoch: 30/30... Step: 990... Loss: 0.538436... Val Loss: 0.307117\n"
     ]
    }
   ],
   "source": [
    "model, (loss_list, acc_list, overall_val_loss_list) = train_model(model, loss_function, optimizer, \n",
    "                                                                  train_dataloader, val_dataloader, BATCH_SIZE, 30, 5)"
   ]
  },
  {
   "cell_type": "code",
   "execution_count": 18,
   "metadata": {},
   "outputs": [
    {
     "data": {
      "image/png": "[encoded data removed]",
      "text/plain": [
       "<Figure size 432x288 with 1 Axes>"
      ]
     },
     "metadata": {
      "needs_background": "light"
     },
     "output_type": "display_data"
    }
   ],
   "source": [
    "plt.plot(acc_list[::]);"
   ]
  },
  {
   "cell_type": "code",
   "execution_count": 19,
   "metadata": {},
   "outputs": [
    {
     "data": {
      "image/png": "[encoded data removed]",
      "text/plain": [
       "<Figure size 432x288 with 1 Axes>"
      ]
     },
     "metadata": {
      "needs_background": "light"
     },
     "output_type": "display_data"
    }
   ],
   "source": [
    "plt.plot(loss_list[::]);"
   ]
  },
  {
   "cell_type": "code",
   "execution_count": 20,
   "metadata": {},
   "outputs": [
    {
     "data": {
      "image/png": "[encoded data removed]",
      "text/plain": [
       "<Figure size 432x288 with 1 Axes>"
      ]
     },
     "metadata": {
      "needs_background": "light"
     },
     "output_type": "display_data"
    }
   ],
   "source": [
    "plt.plot(overall_val_loss_list);"
   ]
  },
  {
   "cell_type": "code",
   "execution_count": null,
   "metadata": {},
   "outputs": [],
   "source": []
  }
 ],
 "metadata": {
  "kernelspec": {
   "display_name": "Python 3",
   "language": "python",
   "name": "python3"
  },
  "language_info": {
   "codemirror_mode": {
    "name": "ipython",
    "version": 3
   },
   "file_extension": ".py",
   "mimetype": "text/x-python",
   "name": "python",
   "nbconvert_exporter": "python",
   "pygments_lexer": "ipython3",
   "version": "3.7.1"
  },
  "pycharm": {
   "stem_cell": {
    "cell_type": "raw",
    "metadata": {
     "collapsed": false
    },
    "source": []
   }
  }
 },
 "nbformat": 4,
 "nbformat_minor": 2
}
